{
  "nbformat": 4,
  "nbformat_minor": 0,
  "metadata": {
    "colab": {
      "name": "P21_MultiCast_v4.2",
      "provenance": [],
      "toc_visible": true,
      "include_colab_link": true
    },
    "kernelspec": {
      "name": "python3",
      "display_name": "Python 3"
    }
  },
  "cells": [
    {
      "cell_type": "markdown",
      "metadata": {
        "id": "view-in-github",
        "colab_type": "text"
      },
      "source": [
        "<a href=\"https://colab.research.google.com/github/prithwis/parashar21/blob/main/P21_MultiCast_v4_2.ipynb\" target=\"_parent\"><img src=\"https://colab.research.google.com/assets/colab-badge.svg\" alt=\"Open In Colab\"/></a>"
      ]
    },
    {
      "cell_type": "markdown",
      "metadata": {
        "id": "m3d-QHg6rqr-"
      },
      "source": [
        "![alt text](http://1.bp.blogspot.com/_5QlanosqxiQ/SXLOLTu7S7I/AAAAAAAAAm8/0r6C7lCxsic/S1600-R/p21-header-003.png) <br>\n",
        "\n",
        "\n",
        "---\n",
        "\n",
        "\n",
        "![CC-BY-SA](https://licensebuttons.net/l/by-sa/3.0/88x31.png) ||\n",
        "[Prithwis Mukerjee](http://www.yantrajaal.com) ||\n",
        "Website - [Parashar21](https://parashar21.blogspot.com)<br>"
      ]
    },
    {
      "cell_type": "markdown",
      "source": [
        "#Create Charts and store in MongoDB"
      ],
      "metadata": {
        "id": "Q5dCCZlf8nLK"
      }
    },
    {
      "cell_type": "markdown",
      "source": [
        "#Setup"
      ],
      "metadata": {
        "id": "BgG7KnOslRT-"
      }
    },
    {
      "cell_type": "markdown",
      "metadata": {
        "id": "6az36FX6Rpit"
      },
      "source": [
        "##Install Swiss Ephemeris <br>\n",
        "\n",
        "https://pypi.org/project/pyswisseph/  - Python Package Documentation <br>\n",
        "https://www.astro.com/swisseph/swephinfo_e.htm <br>\n",
        "https://www.astro.com/swisseph/swephprg.htm - Programmer Documentation <br>\n",
        "https://pythonhosted.org/pyswisseph/swisseph-module.html"
      ]
    },
    {
      "cell_type": "code",
      "metadata": {
        "id": "THZf8D8fQsXm",
        "colab": {
          "base_uri": "https://localhost:8080/"
        },
        "outputId": "02bf7589-60fa-46ab-f026-b53bfd95914b"
      },
      "source": [
        "!pip -qq install pyswisseph                                 # https://stackoverflow.com/questions/64277506/pip-install-options-unclear\n",
        "!pip -qq install python_string_utils\n",
        "!pip -qq install python-docx                                #https://python-docx.readthedocs.io/en/latest/\n",
        "#!pip install pyswisseph==2.10.2.0.dev1\n",
        "!apt install mongodb > /dev/null"
      ],
      "execution_count": 1,
      "outputs": [
        {
          "output_type": "stream",
          "name": "stdout",
          "text": [
            "\u001b[?25l\r\u001b[K     |▋                               | 10 kB 21.1 MB/s eta 0:00:01\r\u001b[K     |█▎                              | 20 kB 27.1 MB/s eta 0:00:01\r\u001b[K     |█▉                              | 30 kB 15.5 MB/s eta 0:00:01\r\u001b[K     |██▌                             | 40 kB 11.4 MB/s eta 0:00:01\r\u001b[K     |███▏                            | 51 kB 8.0 MB/s eta 0:00:01\r\u001b[K     |███▊                            | 61 kB 8.5 MB/s eta 0:00:01\r\u001b[K     |████▍                           | 71 kB 7.1 MB/s eta 0:00:01\r\u001b[K     |█████                           | 81 kB 7.9 MB/s eta 0:00:01\r\u001b[K     |█████▋                          | 92 kB 6.9 MB/s eta 0:00:01\r\u001b[K     |██████▎                         | 102 kB 6.8 MB/s eta 0:00:01\r\u001b[K     |███████                         | 112 kB 6.8 MB/s eta 0:00:01\r\u001b[K     |███████▌                        | 122 kB 6.8 MB/s eta 0:00:01\r\u001b[K     |████████▏                       | 133 kB 6.8 MB/s eta 0:00:01\r\u001b[K     |████████▉                       | 143 kB 6.8 MB/s eta 0:00:01\r\u001b[K     |█████████▍                      | 153 kB 6.8 MB/s eta 0:00:01\r\u001b[K     |██████████                      | 163 kB 6.8 MB/s eta 0:00:01\r\u001b[K     |██████████▊                     | 174 kB 6.8 MB/s eta 0:00:01\r\u001b[K     |███████████▎                    | 184 kB 6.8 MB/s eta 0:00:01\r\u001b[K     |████████████                    | 194 kB 6.8 MB/s eta 0:00:01\r\u001b[K     |████████████▋                   | 204 kB 6.8 MB/s eta 0:00:01\r\u001b[K     |█████████████▏                  | 215 kB 6.8 MB/s eta 0:00:01\r\u001b[K     |█████████████▉                  | 225 kB 6.8 MB/s eta 0:00:01\r\u001b[K     |██████████████▌                 | 235 kB 6.8 MB/s eta 0:00:01\r\u001b[K     |███████████████                 | 245 kB 6.8 MB/s eta 0:00:01\r\u001b[K     |███████████████▊                | 256 kB 6.8 MB/s eta 0:00:01\r\u001b[K     |████████████████▍               | 266 kB 6.8 MB/s eta 0:00:01\r\u001b[K     |█████████████████               | 276 kB 6.8 MB/s eta 0:00:01\r\u001b[K     |█████████████████▋              | 286 kB 6.8 MB/s eta 0:00:01\r\u001b[K     |██████████████████▏             | 296 kB 6.8 MB/s eta 0:00:01\r\u001b[K     |██████████████████▉             | 307 kB 6.8 MB/s eta 0:00:01\r\u001b[K     |███████████████████▌            | 317 kB 6.8 MB/s eta 0:00:01\r\u001b[K     |████████████████████            | 327 kB 6.8 MB/s eta 0:00:01\r\u001b[K     |████████████████████▊           | 337 kB 6.8 MB/s eta 0:00:01\r\u001b[K     |█████████████████████▍          | 348 kB 6.8 MB/s eta 0:00:01\r\u001b[K     |██████████████████████          | 358 kB 6.8 MB/s eta 0:00:01\r\u001b[K     |██████████████████████▋         | 368 kB 6.8 MB/s eta 0:00:01\r\u001b[K     |███████████████████████▎        | 378 kB 6.8 MB/s eta 0:00:01\r\u001b[K     |███████████████████████▉        | 389 kB 6.8 MB/s eta 0:00:01\r\u001b[K     |████████████████████████▌       | 399 kB 6.8 MB/s eta 0:00:01\r\u001b[K     |█████████████████████████▏      | 409 kB 6.8 MB/s eta 0:00:01\r\u001b[K     |█████████████████████████▊      | 419 kB 6.8 MB/s eta 0:00:01\r\u001b[K     |██████████████████████████▍     | 430 kB 6.8 MB/s eta 0:00:01\r\u001b[K     |███████████████████████████     | 440 kB 6.8 MB/s eta 0:00:01\r\u001b[K     |███████████████████████████▋    | 450 kB 6.8 MB/s eta 0:00:01\r\u001b[K     |████████████████████████████▎   | 460 kB 6.8 MB/s eta 0:00:01\r\u001b[K     |█████████████████████████████   | 471 kB 6.8 MB/s eta 0:00:01\r\u001b[K     |█████████████████████████████▌  | 481 kB 6.8 MB/s eta 0:00:01\r\u001b[K     |██████████████████████████████▏ | 491 kB 6.8 MB/s eta 0:00:01\r\u001b[K     |██████████████████████████████▉ | 501 kB 6.8 MB/s eta 0:00:01\r\u001b[K     |███████████████████████████████▍| 512 kB 6.8 MB/s eta 0:00:01\r\u001b[K     |████████████████████████████████| 521 kB 6.8 MB/s \n",
            "\u001b[?25h  Building wheel for pyswisseph (setup.py) ... \u001b[?25l\u001b[?25hdone\n",
            "\u001b[K     |████████████████████████████████| 5.6 MB 8.9 MB/s \n",
            "\u001b[?25h  Building wheel for python-docx (setup.py) ... \u001b[?25l\u001b[?25hdone\n",
            "\n",
            "WARNING: apt does not have a stable CLI interface. Use with caution in scripts.\n",
            "\n"
          ]
        }
      ]
    },
    {
      "cell_type": "code",
      "source": [
        "#Load p21 modules from github\n",
        "!wget -O p21.py -q https://raw.githubusercontent.com/prithwis/parashar21/main/utils/p21.py                  # all global variables\n",
        "!wget -O p21utils.py -q https://raw.githubusercontent.com/prithwis/parashar21/main/utils/p21utils.py        # large number of utility functions\n",
        "\n",
        "# ---------------------------\n",
        "import p21\n",
        "import p21utils\n",
        "# ------------------------------------------------\n",
        "# required for multiple imports of the same module\n",
        "# ------------------------------------------------\n",
        "import importlib\n",
        "importlib.reload(p21)\n",
        "importlib.reload(p21utils)"
      ],
      "metadata": {
        "colab": {
          "base_uri": "https://localhost:8080/"
        },
        "id": "QHzOd2Nll-Wd",
        "outputId": "13f73d7a-eb86-4e7e-c991-c25bc5b885c1"
      },
      "execution_count": 2,
      "outputs": [
        {
          "output_type": "stream",
          "name": "stdout",
          "text": [
            "p21utils imported\n",
            "p21utils imported\n"
          ]
        },
        {
          "output_type": "execute_result",
          "data": {
            "text/plain": [
              "<module 'p21utils' from '/content/p21utils.py'>"
            ]
          },
          "metadata": {},
          "execution_count": 2
        }
      ]
    },
    {
      "cell_type": "code",
      "metadata": {
        "id": "INsjq9opScbt"
      },
      "source": [
        "#Download Swiss Ephemeris Files \n",
        "!wget -q http://www.astro.com/ftp/swisseph/ephe/seas_18.se1\n",
        "!wget -q http://www.astro.com/ftp/swisseph/ephe/semo_18.se1\n",
        "!wget -q http://www.astro.com/ftp/swisseph/ephe/sepl_18.se1\n",
        "!mkdir ephe\n",
        "!mv *.se1 ephe\n",
        "#------------------------------\n",
        "# Configure SWE\n",
        "p21utils.configSWE()"
      ],
      "execution_count": 3,
      "outputs": []
    },
    {
      "cell_type": "code",
      "source": [
        "#!cat p21utils.py"
      ],
      "metadata": {
        "id": "6jn0Q0t8nt5G"
      },
      "execution_count": 27,
      "outputs": []
    },
    {
      "cell_type": "markdown",
      "source": [
        "#Connect to MongoDB"
      ],
      "metadata": {
        "id": "ZsYS94O-DRAl"
      }
    },
    {
      "cell_type": "code",
      "source": [
        "from pymongo import MongoClient\n",
        "import pandas as pd\n",
        "import dateutil\n",
        "import string_utils"
      ],
      "metadata": {
        "id": "j0m70OCqDZZ_"
      },
      "execution_count": 4,
      "outputs": []
    },
    {
      "cell_type": "code",
      "source": [
        "from google.colab import drive\n",
        "drive.mount('/content/drive')\n",
        "# --------------------------------------------\n",
        "# copy credentials file\n",
        "!cp /content/drive/'My Drive'/Praxis/WebCredentials/clevercloudMongoDB.py credentials.py\n",
        "# -----------------------------------------------\n",
        "# credential file for Prithwis Mukerjee\n",
        "# this file needs to be uploaded into the VM\n",
        "\n",
        "from credentials import rhostName,ruserName,rpassWord,rdbName,rMongoURI\n",
        "\n",
        "#print(rhostName,ruserName,rdbName)\n",
        "print(rdbName)\n",
        "#print(rMongoURI)\n",
        "# -----------------------------------------------\n",
        "mongoURI = rMongoURI                                   # for remote server\n",
        "#mongoURI = \"mongodb://localhost:27017/\"\n",
        "client = MongoClient(mongoURI)\n",
        "client.list_database_names() # ['admin', 'local']"
      ],
      "metadata": {
        "colab": {
          "base_uri": "https://localhost:8080/"
        },
        "id": "Ydu8Gh-mDiYn",
        "outputId": "0b42a35f-4bd5-441e-d060-bbeb661375e3"
      },
      "execution_count": 5,
      "outputs": [
        {
          "output_type": "stream",
          "name": "stdout",
          "text": [
            "Mounted at /content/drive\n",
            "btncgfi3a5bxyea\n"
          ]
        },
        {
          "output_type": "execute_result",
          "data": {
            "text/plain": [
              "['btncgfi3a5bxyea']"
            ]
          },
          "metadata": {},
          "execution_count": 5
        }
      ]
    },
    {
      "cell_type": "code",
      "source": [
        "db = client.btncgfi3a5bxyea\n",
        "# Show Collections. Query returns a Cursor [ ] ,  list it to see the content\n",
        "list (db.list_collections())\n",
        "# empty list '[]' means that there are not collections in database"
      ],
      "metadata": {
        "colab": {
          "base_uri": "https://localhost:8080/"
        },
        "id": "imaqh29vhnYn",
        "outputId": "a17473e3-ab9a-40a0-b24d-f0df4a1dcf29"
      },
      "execution_count": 6,
      "outputs": [
        {
          "output_type": "execute_result",
          "data": {
            "text/plain": [
              "[{'idIndex': {'key': {'_id': 1},\n",
              "   'name': '_id_',\n",
              "   'ns': 'btncgfi3a5bxyea.p21Charts',\n",
              "   'v': 2},\n",
              "  'info': {'readOnly': False,\n",
              "   'uuid': UUID('af531836-28c4-4676-a261-5023436ae25d')},\n",
              "  'name': 'p21Charts',\n",
              "  'options': {},\n",
              "  'type': 'collection'},\n",
              " {'idIndex': {'key': {'_id': 1},\n",
              "   'name': '_id_',\n",
              "   'ns': 'btncgfi3a5bxyea.restaurants',\n",
              "   'v': 2},\n",
              "  'info': {'readOnly': False,\n",
              "   'uuid': UUID('44fb1466-2fc0-4786-8c94-e14a669c7160')},\n",
              "  'name': 'restaurants',\n",
              "  'options': {},\n",
              "  'type': 'collection'}]"
            ]
          },
          "metadata": {},
          "execution_count": 6
        }
      ]
    },
    {
      "cell_type": "code",
      "source": [
        "db = client.btncgfi3a5bxyea\n",
        "db.p21Charts.drop()\n",
        "db.p21Charts2.drop()\n",
        "db.create_collection('khawnaa42')       # https://feminisminindia.com/2019/06/07/khawna-khana-poet-rural-bengal/\n",
        "                                        # https://en.wikipedia.org/wiki/Khana_(poet)\n",
        "kollection = db.khawnaa42                   # Set the collection to work with"
      ],
      "metadata": {
        "id": "DLigUEp2h3My"
      },
      "execution_count": 7,
      "outputs": []
    },
    {
      "cell_type": "markdown",
      "metadata": {
        "id": "uSuVPj3kXcwC"
      },
      "source": [
        "#Load Data\n"
      ]
    },
    {
      "cell_type": "code",
      "source": [
        "import pandas as pd\n",
        "!gdown -O peopleData.csv https://drive.google.com/uc?id=1CVo1gnMZyCD0EZvAoF_wRdTwL7yqIT6L # 5 Person Test Data\n",
        "#!sed -i '1d' peopleData.csv \n",
        "#!cat peopleData.csv\n",
        "df = pd.read_csv('peopleData.csv')\n",
        "df.head()"
      ],
      "metadata": {
        "colab": {
          "base_uri": "https://localhost:8080/",
          "height": 339
        },
        "id": "iXeCDQStAEd_",
        "outputId": "e1707c4b-ced5-458d-8346-ebedf9094d0a"
      },
      "execution_count": 8,
      "outputs": [
        {
          "output_type": "stream",
          "name": "stdout",
          "text": [
            "Downloading...\n",
            "From: https://drive.google.com/uc?id=1CVo1gnMZyCD0EZvAoF_wRdTwL7yqIT6L\n",
            "To: /content/peopleData.csv\n",
            "\r  0% 0.00/665 [00:00<?, ?B/s]\r100% 665/665 [00:00<00:00, 511kB/s]\n"
          ]
        },
        {
          "output_type": "execute_result",
          "data": {
            "text/html": [
              "\n",
              "  <div id=\"df-bdae6b10-f39b-40f2-8d39-99611416427f\">\n",
              "    <div class=\"colab-df-container\">\n",
              "      <div>\n",
              "<style scoped>\n",
              "    .dataframe tbody tr th:only-of-type {\n",
              "        vertical-align: middle;\n",
              "    }\n",
              "\n",
              "    .dataframe tbody tr th {\n",
              "        vertical-align: top;\n",
              "    }\n",
              "\n",
              "    .dataframe thead th {\n",
              "        text-align: right;\n",
              "    }\n",
              "</style>\n",
              "<table border=\"1\" class=\"dataframe\">\n",
              "  <thead>\n",
              "    <tr style=\"text-align: right;\">\n",
              "      <th></th>\n",
              "      <th>Gender</th>\n",
              "      <th>Voc1_Cat</th>\n",
              "      <th>Voc1_Det</th>\n",
              "      <th>Voc2_Cat</th>\n",
              "      <th>Voc2_Det</th>\n",
              "      <th>Voc3_Cat</th>\n",
              "      <th>Voc3_Det</th>\n",
              "      <th>DoB_Day</th>\n",
              "      <th>DoB_Mon</th>\n",
              "      <th>DoB_Year</th>\n",
              "      <th>DoB_Time</th>\n",
              "      <th>TZ_Off</th>\n",
              "      <th>TZ_OffHours</th>\n",
              "      <th>PoB_Lat</th>\n",
              "      <th>PoB_Lon</th>\n",
              "      <th>TZ_Name</th>\n",
              "      <th>TZ_Type</th>\n",
              "      <th>Name</th>\n",
              "    </tr>\n",
              "  </thead>\n",
              "  <tbody>\n",
              "    <tr>\n",
              "      <th>0</th>\n",
              "      <td>M</td>\n",
              "      <td>Engineer</td>\n",
              "      <td>nil</td>\n",
              "      <td>Teacher</td>\n",
              "      <td>nil</td>\n",
              "      <td>PostGraduate</td>\n",
              "      <td>nil</td>\n",
              "      <td>15</td>\n",
              "      <td>10</td>\n",
              "      <td>1961</td>\n",
              "      <td>23:42</td>\n",
              "      <td>h5e30</td>\n",
              "      <td>5.5</td>\n",
              "      <td>22.57</td>\n",
              "      <td>88.37</td>\n",
              "      <td>IST</td>\n",
              "      <td>standard</td>\n",
              "      <td>somu</td>\n",
              "    </tr>\n",
              "    <tr>\n",
              "      <th>1</th>\n",
              "      <td>F</td>\n",
              "      <td>Author</td>\n",
              "      <td>nil</td>\n",
              "      <td>Homemaker</td>\n",
              "      <td>nil</td>\n",
              "      <td>PostGraduate</td>\n",
              "      <td>nil</td>\n",
              "      <td>19</td>\n",
              "      <td>12</td>\n",
              "      <td>1965</td>\n",
              "      <td>10:26</td>\n",
              "      <td>h5e30</td>\n",
              "      <td>5.5</td>\n",
              "      <td>22.57</td>\n",
              "      <td>88.37</td>\n",
              "      <td>IST</td>\n",
              "      <td>standard</td>\n",
              "      <td>gopa</td>\n",
              "    </tr>\n",
              "    <tr>\n",
              "      <th>2</th>\n",
              "      <td>M</td>\n",
              "      <td>Engineer</td>\n",
              "      <td>nil</td>\n",
              "      <td>Teacher</td>\n",
              "      <td>nil</td>\n",
              "      <td>PostGraduate</td>\n",
              "      <td>nil</td>\n",
              "      <td>9</td>\n",
              "      <td>10</td>\n",
              "      <td>1990</td>\n",
              "      <td>23:09</td>\n",
              "      <td>h5e30</td>\n",
              "      <td>5.5</td>\n",
              "      <td>22.57</td>\n",
              "      <td>88.37</td>\n",
              "      <td>IST</td>\n",
              "      <td>standard</td>\n",
              "      <td>rahool</td>\n",
              "    </tr>\n",
              "    <tr>\n",
              "      <th>3</th>\n",
              "      <td>F</td>\n",
              "      <td>Biologist</td>\n",
              "      <td>nil</td>\n",
              "      <td>Scientist</td>\n",
              "      <td>nil</td>\n",
              "      <td>PostGraduate</td>\n",
              "      <td>nil</td>\n",
              "      <td>12</td>\n",
              "      <td>9</td>\n",
              "      <td>1990</td>\n",
              "      <td>0:52</td>\n",
              "      <td>h5e30</td>\n",
              "      <td>5.5</td>\n",
              "      <td>22.87</td>\n",
              "      <td>88.37</td>\n",
              "      <td>IST</td>\n",
              "      <td>standard</td>\n",
              "      <td>nilanjan</td>\n",
              "    </tr>\n",
              "    <tr>\n",
              "      <th>4</th>\n",
              "      <td>M</td>\n",
              "      <td>Politician</td>\n",
              "      <td>nil</td>\n",
              "      <td>Administrator</td>\n",
              "      <td>nil</td>\n",
              "      <td>nil</td>\n",
              "      <td>nil</td>\n",
              "      <td>17</td>\n",
              "      <td>9</td>\n",
              "      <td>1950</td>\n",
              "      <td>9:34</td>\n",
              "      <td>h5e30</td>\n",
              "      <td>5.5</td>\n",
              "      <td>23.48</td>\n",
              "      <td>72.36</td>\n",
              "      <td>IST</td>\n",
              "      <td>standard</td>\n",
              "      <td>NDModi</td>\n",
              "    </tr>\n",
              "  </tbody>\n",
              "</table>\n",
              "</div>\n",
              "      <button class=\"colab-df-convert\" onclick=\"convertToInteractive('df-bdae6b10-f39b-40f2-8d39-99611416427f')\"\n",
              "              title=\"Convert this dataframe to an interactive table.\"\n",
              "              style=\"display:none;\">\n",
              "        \n",
              "  <svg xmlns=\"http://www.w3.org/2000/svg\" height=\"24px\"viewBox=\"0 0 24 24\"\n",
              "       width=\"24px\">\n",
              "    <path d=\"M0 0h24v24H0V0z\" fill=\"none\"/>\n",
              "    <path d=\"M18.56 5.44l.94 2.06.94-2.06 2.06-.94-2.06-.94-.94-2.06-.94 2.06-2.06.94zm-11 1L8.5 8.5l.94-2.06 2.06-.94-2.06-.94L8.5 2.5l-.94 2.06-2.06.94zm10 10l.94 2.06.94-2.06 2.06-.94-2.06-.94-.94-2.06-.94 2.06-2.06.94z\"/><path d=\"M17.41 7.96l-1.37-1.37c-.4-.4-.92-.59-1.43-.59-.52 0-1.04.2-1.43.59L10.3 9.45l-7.72 7.72c-.78.78-.78 2.05 0 2.83L4 21.41c.39.39.9.59 1.41.59.51 0 1.02-.2 1.41-.59l7.78-7.78 2.81-2.81c.8-.78.8-2.07 0-2.86zM5.41 20L4 18.59l7.72-7.72 1.47 1.35L5.41 20z\"/>\n",
              "  </svg>\n",
              "      </button>\n",
              "      \n",
              "  <style>\n",
              "    .colab-df-container {\n",
              "      display:flex;\n",
              "      flex-wrap:wrap;\n",
              "      gap: 12px;\n",
              "    }\n",
              "\n",
              "    .colab-df-convert {\n",
              "      background-color: #E8F0FE;\n",
              "      border: none;\n",
              "      border-radius: 50%;\n",
              "      cursor: pointer;\n",
              "      display: none;\n",
              "      fill: #1967D2;\n",
              "      height: 32px;\n",
              "      padding: 0 0 0 0;\n",
              "      width: 32px;\n",
              "    }\n",
              "\n",
              "    .colab-df-convert:hover {\n",
              "      background-color: #E2EBFA;\n",
              "      box-shadow: 0px 1px 2px rgba(60, 64, 67, 0.3), 0px 1px 3px 1px rgba(60, 64, 67, 0.15);\n",
              "      fill: #174EA6;\n",
              "    }\n",
              "\n",
              "    [theme=dark] .colab-df-convert {\n",
              "      background-color: #3B4455;\n",
              "      fill: #D2E3FC;\n",
              "    }\n",
              "\n",
              "    [theme=dark] .colab-df-convert:hover {\n",
              "      background-color: #434B5C;\n",
              "      box-shadow: 0px 1px 3px 1px rgba(0, 0, 0, 0.15);\n",
              "      filter: drop-shadow(0px 1px 2px rgba(0, 0, 0, 0.3));\n",
              "      fill: #FFFFFF;\n",
              "    }\n",
              "  </style>\n",
              "\n",
              "      <script>\n",
              "        const buttonEl =\n",
              "          document.querySelector('#df-bdae6b10-f39b-40f2-8d39-99611416427f button.colab-df-convert');\n",
              "        buttonEl.style.display =\n",
              "          google.colab.kernel.accessAllowed ? 'block' : 'none';\n",
              "\n",
              "        async function convertToInteractive(key) {\n",
              "          const element = document.querySelector('#df-bdae6b10-f39b-40f2-8d39-99611416427f');\n",
              "          const dataTable =\n",
              "            await google.colab.kernel.invokeFunction('convertToInteractive',\n",
              "                                                     [key], {});\n",
              "          if (!dataTable) return;\n",
              "\n",
              "          const docLinkHtml = 'Like what you see? Visit the ' +\n",
              "            '<a target=\"_blank\" href=https://colab.research.google.com/notebooks/data_table.ipynb>data table notebook</a>'\n",
              "            + ' to learn more about interactive tables.';\n",
              "          element.innerHTML = '';\n",
              "          dataTable['output_type'] = 'display_data';\n",
              "          await google.colab.output.renderOutput(dataTable, element);\n",
              "          const docLink = document.createElement('div');\n",
              "          docLink.innerHTML = docLinkHtml;\n",
              "          element.appendChild(docLink);\n",
              "        }\n",
              "      </script>\n",
              "    </div>\n",
              "  </div>\n",
              "  "
            ],
            "text/plain": [
              "  Gender    Voc1_Cat Voc1_Det  ... TZ_Name   TZ_Type      Name\n",
              "0      M    Engineer      nil  ...     IST  standard      somu\n",
              "1      F      Author      nil  ...     IST  standard      gopa\n",
              "2      M    Engineer      nil  ...     IST  standard    rahool\n",
              "3      F   Biologist      nil  ...     IST  standard  nilanjan\n",
              "4      M  Politician      nil  ...     IST  standard    NDModi\n",
              "\n",
              "[5 rows x 18 columns]"
            ]
          },
          "metadata": {},
          "execution_count": 8
        }
      ]
    },
    {
      "cell_type": "markdown",
      "source": [
        "#Driver Code"
      ],
      "metadata": {
        "id": "gyobEJ3EKU8n"
      }
    },
    {
      "cell_type": "code",
      "source": [
        "for person in range(len(df)):\n",
        "    personData =df.iloc[person]\n",
        "    p21utils.parsePersonData(personData)\n",
        "    p21utils.convertDates()\n",
        "    p21utils.calculateGrahaPositions()\n",
        "    p21utils.buildGLonGRet()\n",
        "    #print(chart)\n",
        "    #print(Glon)\n",
        "    p21utils.appendDict(p21.chart,p21.GLon)\n",
        "    #print(chart)\n",
        "    p21utils.appendDict(p21.chart,p21.GRet)\n",
        "    insert_result = kollection.insert_one(p21.chart)\n",
        "    insert_result.acknowledged    # Confirms that insert is successful\n",
        "    print(p21.chart)"
      ],
      "metadata": {
        "id": "gKH8oTMAKZMI",
        "colab": {
          "base_uri": "https://localhost:8080/"
        },
        "outputId": "09acda50-01c3-4edd-9cc6-c6b6886012a6"
      },
      "execution_count": 13,
      "outputs": [
        {
          "output_type": "stream",
          "name": "stdout",
          "text": [
            "2437588.257638889 Julian Date of DTofB in Universal Time\n",
            "Lahiri Ayanamsha : 23.32332723905847\n",
            "{'pid': {'tags': ['Engineer', 'Teacher', 'PostGraduate'], 'ck': 'M1961101523:425.522.5788.37', 'name': 'usom'}, 'GLon': {'La': 98.204, 'Su': 178.826, 'Mo': 250.52, 'Ma': 196.183, 'Me': 193.17, 'Ju': 274.781, 'Ve': 153.753, 'Sa': 270.179, 'Ra': 122.089, 'Ke': 302.089}, 'GRet': {'La': False, 'Su': False, 'Mo': False, 'Ma': False, 'Me': True, 'Ju': False, 'Ve': False, 'Sa': False, 'Ra': False, 'Ke': False}, '_id': ObjectId('61dcfb45229a1c151e5a25df')}\n",
            "2439113.7055555554 Julian Date of DTofB in Universal Time\n",
            "Lahiri Ayanamsha : 23.381658282103217\n",
            "{'pid': {'tags': ['Author', 'Homemaker', 'PostGraduate'], 'ck': 'F1965121910:265.522.5788.37', 'name': 'apgo'}, 'GLon': {'La': 310.415, 'Su': 243.701, 'Mo': 201.001, 'Ma': 273.467, 'Me': 222.269, 'Ju': 62.748, 'Ve': 284.966, 'Sa': 318.17, 'Ra': 41.248, 'Ke': 221.248}, 'GRet': {'La': False, 'Su': False, 'Mo': False, 'Ma': False, 'Me': False, 'Ju': True, 'Ve': False, 'Sa': False, 'Ra': False, 'Ke': False}, '_id': ObjectId('61dcfb45229a1c151e5a25e0')}\n",
            "2448174.2347197654 Julian Date of DTofB in Universal Time\n",
            "Lahiri Ayanamsha : 23.728142610514624\n",
            "{'pid': {'tags': ['Engineer', 'Teacher', 'PostGraduate'], 'ck': 'M199010923:095.522.5788.37', 'name': 'oarolh'}, 'GLon': {'La': 85.351, 'Su': 172.44, 'Mo': 63.984, 'Ma': 49.966, 'Me': 163.275, 'Ju': 105.898, 'Ve': 166.538, 'Sa': 265.202, 'Ra': 280.65, 'Ke': 100.65}, 'GRet': {'La': False, 'Su': False, 'Mo': False, 'Ma': False, 'Me': False, 'Ju': False, 'Ve': False, 'Sa': False, 'Ra': False, 'Ke': False}, '_id': ObjectId('61dcfb45229a1c151e5a25e1')}\n",
            "2448146.306942638 Julian Date of DTofB in Universal Time\n",
            "Lahiri Ayanamsha : 23.72707456437024\n",
            "{'pid': {'tags': ['Biologist', 'Scientist', 'PostGraduate'], 'ck': 'F19909120:525.522.8788.37', 'name': 'njailnna'}, 'GLon': {'La': 84.138, 'Su': 145.068, 'Mo': 54.233, 'Ma': 41.525, 'Me': 138.242, 'Ju': 101.216, 'Ve': 131.788, 'Sa': 265.084, 'Ra': 282.763, 'Ke': 102.763}, 'GRet': {'La': False, 'Su': False, 'Mo': False, 'Ma': False, 'Me': True, 'Ju': False, 'Ve': False, 'Sa': True, 'Ra': False, 'Ke': False}, '_id': ObjectId('61dcfb45229a1c151e5a25e2')}\n",
            "2433541.66875 Julian Date of DTofB in Universal Time\n",
            "Lahiri Ayanamsha : 23.168596401905525\n",
            "{'pid': {'tags': ['Politician', 'Administrator', 'nil'], 'ck': 'M19509179:345.523.4872.36', 'name': 'iDNMdo'}, 'GLon': {'La': 191.897, 'Su': 150.533, 'Mo': 217.939, 'Ma': 210.889, 'Me': 150.848, 'Ju': 306.602, 'Ve': 135.613, 'Sa': 149.644, 'Ra': 335.211, 'Ke': 155.211}, 'GRet': {'La': False, 'Su': False, 'Mo': False, 'Ma': False, 'Me': True, 'Ju': True, 'Ve': False, 'Sa': False, 'Ra': False, 'Ke': False}, '_id': ObjectId('61dcfb45229a1c151e5a25e3')}\n"
          ]
        }
      ]
    },
    {
      "cell_type": "code",
      "source": [
        "# Check data loaded into MongoDb\n",
        "#c = kollection.find()\n",
        "#for crnt in c:\n",
        "#    print(crnt)\n",
        "pd.DataFrame(list(kollection.find()))"
      ],
      "metadata": {
        "colab": {
          "base_uri": "https://localhost:8080/",
          "height": 250
        },
        "id": "GQiQRXw7NjEp",
        "outputId": "c73d7e96-377f-481d-ee28-346d280c53b0"
      },
      "execution_count": 17,
      "outputs": [
        {
          "output_type": "execute_result",
          "data": {
            "text/html": [
              "\n",
              "  <div id=\"df-3e8797cf-353a-4627-813d-2466ebd5ceac\">\n",
              "    <div class=\"colab-df-container\">\n",
              "      <div>\n",
              "<style scoped>\n",
              "    .dataframe tbody tr th:only-of-type {\n",
              "        vertical-align: middle;\n",
              "    }\n",
              "\n",
              "    .dataframe tbody tr th {\n",
              "        vertical-align: top;\n",
              "    }\n",
              "\n",
              "    .dataframe thead th {\n",
              "        text-align: right;\n",
              "    }\n",
              "</style>\n",
              "<table border=\"1\" class=\"dataframe\">\n",
              "  <thead>\n",
              "    <tr style=\"text-align: right;\">\n",
              "      <th></th>\n",
              "      <th>_id</th>\n",
              "      <th>pid</th>\n",
              "      <th>GLon</th>\n",
              "      <th>GRet</th>\n",
              "    </tr>\n",
              "  </thead>\n",
              "  <tbody>\n",
              "    <tr>\n",
              "      <th>0</th>\n",
              "      <td>61dcfb45229a1c151e5a25df</td>\n",
              "      <td>{'tags': ['Engineer', 'Teacher', 'PostGraduate...</td>\n",
              "      <td>{'La': 98.204, 'Su': 178.826, 'Mo': 250.52, 'M...</td>\n",
              "      <td>{'La': False, 'Su': False, 'Mo': False, 'Ma': ...</td>\n",
              "    </tr>\n",
              "    <tr>\n",
              "      <th>1</th>\n",
              "      <td>61dcfb45229a1c151e5a25e0</td>\n",
              "      <td>{'tags': ['Author', 'Homemaker', 'PostGraduate...</td>\n",
              "      <td>{'La': 310.415, 'Su': 243.701, 'Mo': 201.001, ...</td>\n",
              "      <td>{'La': False, 'Su': False, 'Mo': False, 'Ma': ...</td>\n",
              "    </tr>\n",
              "    <tr>\n",
              "      <th>2</th>\n",
              "      <td>61dcfb45229a1c151e5a25e1</td>\n",
              "      <td>{'tags': ['Engineer', 'Teacher', 'PostGraduate...</td>\n",
              "      <td>{'La': 85.351, 'Su': 172.44, 'Mo': 63.984, 'Ma...</td>\n",
              "      <td>{'La': False, 'Su': False, 'Mo': False, 'Ma': ...</td>\n",
              "    </tr>\n",
              "    <tr>\n",
              "      <th>3</th>\n",
              "      <td>61dcfb45229a1c151e5a25e2</td>\n",
              "      <td>{'tags': ['Biologist', 'Scientist', 'PostGradu...</td>\n",
              "      <td>{'La': 84.138, 'Su': 145.068, 'Mo': 54.233, 'M...</td>\n",
              "      <td>{'La': False, 'Su': False, 'Mo': False, 'Ma': ...</td>\n",
              "    </tr>\n",
              "    <tr>\n",
              "      <th>4</th>\n",
              "      <td>61dcfb45229a1c151e5a25e3</td>\n",
              "      <td>{'tags': ['Politician', 'Administrator', 'nil'...</td>\n",
              "      <td>{'La': 191.897, 'Su': 150.533, 'Mo': 217.939, ...</td>\n",
              "      <td>{'La': False, 'Su': False, 'Mo': False, 'Ma': ...</td>\n",
              "    </tr>\n",
              "  </tbody>\n",
              "</table>\n",
              "</div>\n",
              "      <button class=\"colab-df-convert\" onclick=\"convertToInteractive('df-3e8797cf-353a-4627-813d-2466ebd5ceac')\"\n",
              "              title=\"Convert this dataframe to an interactive table.\"\n",
              "              style=\"display:none;\">\n",
              "        \n",
              "  <svg xmlns=\"http://www.w3.org/2000/svg\" height=\"24px\"viewBox=\"0 0 24 24\"\n",
              "       width=\"24px\">\n",
              "    <path d=\"M0 0h24v24H0V0z\" fill=\"none\"/>\n",
              "    <path d=\"M18.56 5.44l.94 2.06.94-2.06 2.06-.94-2.06-.94-.94-2.06-.94 2.06-2.06.94zm-11 1L8.5 8.5l.94-2.06 2.06-.94-2.06-.94L8.5 2.5l-.94 2.06-2.06.94zm10 10l.94 2.06.94-2.06 2.06-.94-2.06-.94-.94-2.06-.94 2.06-2.06.94z\"/><path d=\"M17.41 7.96l-1.37-1.37c-.4-.4-.92-.59-1.43-.59-.52 0-1.04.2-1.43.59L10.3 9.45l-7.72 7.72c-.78.78-.78 2.05 0 2.83L4 21.41c.39.39.9.59 1.41.59.51 0 1.02-.2 1.41-.59l7.78-7.78 2.81-2.81c.8-.78.8-2.07 0-2.86zM5.41 20L4 18.59l7.72-7.72 1.47 1.35L5.41 20z\"/>\n",
              "  </svg>\n",
              "      </button>\n",
              "      \n",
              "  <style>\n",
              "    .colab-df-container {\n",
              "      display:flex;\n",
              "      flex-wrap:wrap;\n",
              "      gap: 12px;\n",
              "    }\n",
              "\n",
              "    .colab-df-convert {\n",
              "      background-color: #E8F0FE;\n",
              "      border: none;\n",
              "      border-radius: 50%;\n",
              "      cursor: pointer;\n",
              "      display: none;\n",
              "      fill: #1967D2;\n",
              "      height: 32px;\n",
              "      padding: 0 0 0 0;\n",
              "      width: 32px;\n",
              "    }\n",
              "\n",
              "    .colab-df-convert:hover {\n",
              "      background-color: #E2EBFA;\n",
              "      box-shadow: 0px 1px 2px rgba(60, 64, 67, 0.3), 0px 1px 3px 1px rgba(60, 64, 67, 0.15);\n",
              "      fill: #174EA6;\n",
              "    }\n",
              "\n",
              "    [theme=dark] .colab-df-convert {\n",
              "      background-color: #3B4455;\n",
              "      fill: #D2E3FC;\n",
              "    }\n",
              "\n",
              "    [theme=dark] .colab-df-convert:hover {\n",
              "      background-color: #434B5C;\n",
              "      box-shadow: 0px 1px 3px 1px rgba(0, 0, 0, 0.15);\n",
              "      filter: drop-shadow(0px 1px 2px rgba(0, 0, 0, 0.3));\n",
              "      fill: #FFFFFF;\n",
              "    }\n",
              "  </style>\n",
              "\n",
              "      <script>\n",
              "        const buttonEl =\n",
              "          document.querySelector('#df-3e8797cf-353a-4627-813d-2466ebd5ceac button.colab-df-convert');\n",
              "        buttonEl.style.display =\n",
              "          google.colab.kernel.accessAllowed ? 'block' : 'none';\n",
              "\n",
              "        async function convertToInteractive(key) {\n",
              "          const element = document.querySelector('#df-3e8797cf-353a-4627-813d-2466ebd5ceac');\n",
              "          const dataTable =\n",
              "            await google.colab.kernel.invokeFunction('convertToInteractive',\n",
              "                                                     [key], {});\n",
              "          if (!dataTable) return;\n",
              "\n",
              "          const docLinkHtml = 'Like what you see? Visit the ' +\n",
              "            '<a target=\"_blank\" href=https://colab.research.google.com/notebooks/data_table.ipynb>data table notebook</a>'\n",
              "            + ' to learn more about interactive tables.';\n",
              "          element.innerHTML = '';\n",
              "          dataTable['output_type'] = 'display_data';\n",
              "          await google.colab.output.renderOutput(dataTable, element);\n",
              "          const docLink = document.createElement('div');\n",
              "          docLink.innerHTML = docLinkHtml;\n",
              "          element.appendChild(docLink);\n",
              "        }\n",
              "      </script>\n",
              "    </div>\n",
              "  </div>\n",
              "  "
            ],
            "text/plain": [
              "                        _id  ...                                               GRet\n",
              "0  61dcfb45229a1c151e5a25df  ...  {'La': False, 'Su': False, 'Mo': False, 'Ma': ...\n",
              "1  61dcfb45229a1c151e5a25e0  ...  {'La': False, 'Su': False, 'Mo': False, 'Ma': ...\n",
              "2  61dcfb45229a1c151e5a25e1  ...  {'La': False, 'Su': False, 'Mo': False, 'Ma': ...\n",
              "3  61dcfb45229a1c151e5a25e2  ...  {'La': False, 'Su': False, 'Mo': False, 'Ma': ...\n",
              "4  61dcfb45229a1c151e5a25e3  ...  {'La': False, 'Su': False, 'Mo': False, 'Ma': ...\n",
              "\n",
              "[5 rows x 4 columns]"
            ]
          },
          "metadata": {},
          "execution_count": 17
        }
      ]
    },
    {
      "cell_type": "code",
      "source": [
        "#Retrieves Charts based on tags\n",
        "pd.DataFrame(list(kollection.find({'pid.tags': {\"$in\": ['Scientist','Author']}},{'pid.tags':1,'GLon':1,'GRet':1,'_id':0})))\n",
        "#c = kollection.find({'pid.tags': {\"$in\": ['Scientist','Author']}},{'pid.tags':1,'GLon':1,'GRet':1,'_id':0})\n",
        "#for crnt in c:\n",
        "#    print(crnt)"
      ],
      "metadata": {
        "id": "ExBPG3O9HazN",
        "outputId": "9952e32f-babd-4724-c6ed-90fd1235b92d",
        "colab": {
          "base_uri": "https://localhost:8080/",
          "height": 112
        }
      },
      "execution_count": 20,
      "outputs": [
        {
          "output_type": "execute_result",
          "data": {
            "text/html": [
              "\n",
              "  <div id=\"df-9836f47e-3691-48f2-9e38-c56771ce80f2\">\n",
              "    <div class=\"colab-df-container\">\n",
              "      <div>\n",
              "<style scoped>\n",
              "    .dataframe tbody tr th:only-of-type {\n",
              "        vertical-align: middle;\n",
              "    }\n",
              "\n",
              "    .dataframe tbody tr th {\n",
              "        vertical-align: top;\n",
              "    }\n",
              "\n",
              "    .dataframe thead th {\n",
              "        text-align: right;\n",
              "    }\n",
              "</style>\n",
              "<table border=\"1\" class=\"dataframe\">\n",
              "  <thead>\n",
              "    <tr style=\"text-align: right;\">\n",
              "      <th></th>\n",
              "      <th>pid</th>\n",
              "      <th>GLon</th>\n",
              "      <th>GRet</th>\n",
              "    </tr>\n",
              "  </thead>\n",
              "  <tbody>\n",
              "    <tr>\n",
              "      <th>0</th>\n",
              "      <td>{'tags': ['Author', 'Homemaker', 'PostGraduate']}</td>\n",
              "      <td>{'La': 310.415, 'Su': 243.701, 'Mo': 201.001, ...</td>\n",
              "      <td>{'La': False, 'Su': False, 'Mo': False, 'Ma': ...</td>\n",
              "    </tr>\n",
              "    <tr>\n",
              "      <th>1</th>\n",
              "      <td>{'tags': ['Biologist', 'Scientist', 'PostGradu...</td>\n",
              "      <td>{'La': 84.138, 'Su': 145.068, 'Mo': 54.233, 'M...</td>\n",
              "      <td>{'La': False, 'Su': False, 'Mo': False, 'Ma': ...</td>\n",
              "    </tr>\n",
              "  </tbody>\n",
              "</table>\n",
              "</div>\n",
              "      <button class=\"colab-df-convert\" onclick=\"convertToInteractive('df-9836f47e-3691-48f2-9e38-c56771ce80f2')\"\n",
              "              title=\"Convert this dataframe to an interactive table.\"\n",
              "              style=\"display:none;\">\n",
              "        \n",
              "  <svg xmlns=\"http://www.w3.org/2000/svg\" height=\"24px\"viewBox=\"0 0 24 24\"\n",
              "       width=\"24px\">\n",
              "    <path d=\"M0 0h24v24H0V0z\" fill=\"none\"/>\n",
              "    <path d=\"M18.56 5.44l.94 2.06.94-2.06 2.06-.94-2.06-.94-.94-2.06-.94 2.06-2.06.94zm-11 1L8.5 8.5l.94-2.06 2.06-.94-2.06-.94L8.5 2.5l-.94 2.06-2.06.94zm10 10l.94 2.06.94-2.06 2.06-.94-2.06-.94-.94-2.06-.94 2.06-2.06.94z\"/><path d=\"M17.41 7.96l-1.37-1.37c-.4-.4-.92-.59-1.43-.59-.52 0-1.04.2-1.43.59L10.3 9.45l-7.72 7.72c-.78.78-.78 2.05 0 2.83L4 21.41c.39.39.9.59 1.41.59.51 0 1.02-.2 1.41-.59l7.78-7.78 2.81-2.81c.8-.78.8-2.07 0-2.86zM5.41 20L4 18.59l7.72-7.72 1.47 1.35L5.41 20z\"/>\n",
              "  </svg>\n",
              "      </button>\n",
              "      \n",
              "  <style>\n",
              "    .colab-df-container {\n",
              "      display:flex;\n",
              "      flex-wrap:wrap;\n",
              "      gap: 12px;\n",
              "    }\n",
              "\n",
              "    .colab-df-convert {\n",
              "      background-color: #E8F0FE;\n",
              "      border: none;\n",
              "      border-radius: 50%;\n",
              "      cursor: pointer;\n",
              "      display: none;\n",
              "      fill: #1967D2;\n",
              "      height: 32px;\n",
              "      padding: 0 0 0 0;\n",
              "      width: 32px;\n",
              "    }\n",
              "\n",
              "    .colab-df-convert:hover {\n",
              "      background-color: #E2EBFA;\n",
              "      box-shadow: 0px 1px 2px rgba(60, 64, 67, 0.3), 0px 1px 3px 1px rgba(60, 64, 67, 0.15);\n",
              "      fill: #174EA6;\n",
              "    }\n",
              "\n",
              "    [theme=dark] .colab-df-convert {\n",
              "      background-color: #3B4455;\n",
              "      fill: #D2E3FC;\n",
              "    }\n",
              "\n",
              "    [theme=dark] .colab-df-convert:hover {\n",
              "      background-color: #434B5C;\n",
              "      box-shadow: 0px 1px 3px 1px rgba(0, 0, 0, 0.15);\n",
              "      filter: drop-shadow(0px 1px 2px rgba(0, 0, 0, 0.3));\n",
              "      fill: #FFFFFF;\n",
              "    }\n",
              "  </style>\n",
              "\n",
              "      <script>\n",
              "        const buttonEl =\n",
              "          document.querySelector('#df-9836f47e-3691-48f2-9e38-c56771ce80f2 button.colab-df-convert');\n",
              "        buttonEl.style.display =\n",
              "          google.colab.kernel.accessAllowed ? 'block' : 'none';\n",
              "\n",
              "        async function convertToInteractive(key) {\n",
              "          const element = document.querySelector('#df-9836f47e-3691-48f2-9e38-c56771ce80f2');\n",
              "          const dataTable =\n",
              "            await google.colab.kernel.invokeFunction('convertToInteractive',\n",
              "                                                     [key], {});\n",
              "          if (!dataTable) return;\n",
              "\n",
              "          const docLinkHtml = 'Like what you see? Visit the ' +\n",
              "            '<a target=\"_blank\" href=https://colab.research.google.com/notebooks/data_table.ipynb>data table notebook</a>'\n",
              "            + ' to learn more about interactive tables.';\n",
              "          element.innerHTML = '';\n",
              "          dataTable['output_type'] = 'display_data';\n",
              "          await google.colab.output.renderOutput(dataTable, element);\n",
              "          const docLink = document.createElement('div');\n",
              "          docLink.innerHTML = docLinkHtml;\n",
              "          element.appendChild(docLink);\n",
              "        }\n",
              "      </script>\n",
              "    </div>\n",
              "  </div>\n",
              "  "
            ],
            "text/plain": [
              "                                                 pid  ...                                               GRet\n",
              "0  {'tags': ['Author', 'Homemaker', 'PostGraduate']}  ...  {'La': False, 'Su': False, 'Mo': False, 'Ma': ...\n",
              "1  {'tags': ['Biologist', 'Scientist', 'PostGradu...  ...  {'La': False, 'Su': False, 'Mo': False, 'Ma': ...\n",
              "\n",
              "[2 rows x 3 columns]"
            ]
          },
          "metadata": {},
          "execution_count": 20
        }
      ]
    },
    {
      "cell_type": "markdown",
      "metadata": {
        "id": "QGxOl9rdrvEg"
      },
      "source": [
        "#Chronobooks <br>\n",
        "![alt text](https://1.bp.blogspot.com/-lTiYBkU2qbU/X1er__fvnkI/AAAAAAAAjtE/GhDR3OEGJr4NG43fZPodrQD5kbxtnKebgCLcBGAsYHQ/s600/Footer2020-600x200.png)<hr>\n",
        "Chronotantra and Chronoyantra are two science fiction novels that explore the collapse of human civilisation on Earth and then its rebirth and reincarnation both on Earth as well as on the distant worlds of Mars, Titan and Enceladus. But is it the human civilisation that is being reborn? Or is it some other sentience that is revealing itself. \n",
        "If you have an interest in AI and found this material useful, you may consider buying these novels, in paperback or kindle, from [http://bit.ly/chronobooks](http://bit.ly/chronobooks)"
      ]
    }
  ]
}