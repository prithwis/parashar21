{
  "nbformat": 4,
  "nbformat_minor": 0,
  "metadata": {
    "colab": {
      "provenance": [],
      "include_colab_link": true
    },
    "kernelspec": {
      "name": "python3",
      "display_name": "Python 3"
    },
    "language_info": {
      "name": "python"
    }
  },
  "cells": [
    {
      "cell_type": "markdown",
      "metadata": {
        "id": "view-in-github",
        "colab_type": "text"
      },
      "source": [
        "<a href=\"https://colab.research.google.com/github/prithwis/parashar21/blob/main/P21_45_06_V2_SingleChart.ipynb\" target=\"_parent\"><img src=\"https://colab.research.google.com/assets/colab-badge.svg\" alt=\"Open In Colab\"/></a>"
      ]
    },
    {
      "cell_type": "markdown",
      "source": [
        "ॐ श्री गणेशाय नमः"
      ],
      "metadata": {
        "id": "g9K48vn81AI_"
      }
    },
    {
      "cell_type": "markdown",
      "source": [
        "![alt text](http://1.bp.blogspot.com/_5QlanosqxiQ/SXLOLTu7S7I/AAAAAAAAAm8/0r6C7lCxsic/S1600-R/p21-header-003.png) <br>\n",
        "\n",
        "\n",
        "---\n",
        "\n",
        "\n",
        "\n",
        "[Prithwis Mukerjee](http://www.yantrajaal.com) ||\n",
        "Website - [Parashar21](https://parashar21.blogspot.com)<br>"
      ],
      "metadata": {
        "id": "rj4jjIHTvPV8"
      }
    },
    {
      "cell_type": "markdown",
      "source": [
        "Copyright (c) 2022, Prithwis Mukerjee All rights reserved.\n",
        "\n",
        "This source code is licensed under the GNU GPL v3.0 -style license found in the LICENSE file in the root directory of this source tree."
      ],
      "metadata": {
        "id": "9OzVEmHm1IaF"
      }
    },
    {
      "cell_type": "markdown",
      "source": [
        "#Single Chart Analysis along with Gochar"
      ],
      "metadata": {
        "id": "Denaio5qTev0"
      }
    },
    {
      "cell_type": "markdown",
      "source": [
        "##Rationale\n",
        "\n",
        "The core 'engine' of Parashar21 is designed to cast horoscopes using the [Python](https://pypi.org/project/pyswisseph/) version of the [Swiss Ephemeris](https://www.astro.com/swisseph/) software, convert the data to JSON format and then store the same in a MongoDB database.<br><br> While processing a single chart does not really need database engine we found it economical to skip another ground up development and retain the same code base. Moreover, the Mongo query language has been used to filter out horoscopes that meet certain criteria and then create human readable MS-Word documents for each selected horoscope. This search and filter operation would have been difficult without the MongoDB engine. <br> <br>\n",
        "For full information about this project, please see the [Parashar21](https://prithwis.github.io/parashar21/) github page.\n"
      ],
      "metadata": {
        "id": "MKVBLfNMnXYE"
      }
    },
    {
      "cell_type": "markdown",
      "source": [
        "#SetUp Environment"
      ],
      "metadata": {
        "id": "l2v2nhRKvwJS"
      }
    },
    {
      "cell_type": "markdown",
      "source": [
        "##Install Software"
      ],
      "metadata": {
        "id": "djqyotVjO5TI"
      }
    },
    {
      "cell_type": "code",
      "source": [
        "#!python --version\n",
        "#!lsb_release -a\n",
        "\n",
        "#check which version of MongoDB  is available\n",
        "#!apt-cache policy mongodb\n",
        "\n",
        "#check which versions of software are available\n",
        "#!pip3 index versions pymongo\n",
        "#!pip3 index versions pyswisseph\n",
        "#!pip3 index versions python-docx\n"
      ],
      "metadata": {
        "id": "WzEwjn3AAtM0"
      },
      "execution_count": null,
      "outputs": []
    },
    {
      "cell_type": "code",
      "source": [
        "!pip -qq install pyswisseph                                 # https://stackoverflow.com/questions/64277506/pip-install-options-unclear\n",
        "!pip -qq install python-docx                                # https://python-docx.readthedocs.io/en/latest/\n",
        "#!/usr/bin/python3 -m pip install \"pymongo[srv]\"            # Required only if used with Atlas remote servers\n",
        "!pip -qq install pymongo                                    # Required for Mongo client\n",
        "!apt install mongodb > /dev/null                            # install local MongoDB server           "
      ],
      "metadata": {
        "colab": {
          "base_uri": "https://localhost:8080/"
        },
        "id": "AWKFabc0v3FI",
        "outputId": "4533da51-984b-427f-ac68-a2a567d4575b"
      },
      "execution_count": 2,
      "outputs": [
        {
          "output_type": "stream",
          "name": "stdout",
          "text": [
            "\n",
            "WARNING: apt does not have a stable CLI interface. Use with caution in scripts.\n",
            "\n"
          ]
        }
      ]
    },
    {
      "cell_type": "markdown",
      "source": [
        "##Install, import prerequisites"
      ],
      "metadata": {
        "id": "Vml3UdnbOAlO"
      }
    },
    {
      "cell_type": "code",
      "source": [
        "from datetime import datetime\n",
        "import pytz\n",
        "print('Tested on ',datetime.now(pytz.timezone('Asia/Calcutta')))\n",
        "\n",
        "\n",
        "#Utility functions \n",
        "from pymongo import MongoClient\n",
        "import pandas as pd\n",
        "import dateutil\n",
        "import json\n",
        "from docx import Document\n",
        "from docx.shared import Inches\n",
        "from docx.enum.text import WD_ALIGN_PARAGRAPH\n",
        "from datetime import datetime\n",
        "from datetime import timedelta\n",
        "import pytz\n",
        "from google.colab import files\n",
        "\n",
        "#import matplotlib.pyplot as plt\n",
        "#import math\n"
      ],
      "metadata": {
        "id": "tsCga6c8pLvM",
        "outputId": "80443c5c-bbca-4d7f-a4ff-941df4d4def1",
        "colab": {
          "base_uri": "https://localhost:8080/"
        }
      },
      "execution_count": 3,
      "outputs": [
        {
          "output_type": "stream",
          "name": "stdout",
          "text": [
            "Tested on  2023-05-15 10:10:18.904461+05:30\n"
          ]
        }
      ]
    },
    {
      "cell_type": "code",
      "source": [
        "#Load p21 modules from github\n",
        "!wget -O p21.py -q https://raw.githubusercontent.com/prithwis/parashar21/main/utils/p21.py                  # all global variables\n",
        "!wget -O p21utils.py -q https://raw.githubusercontent.com/prithwis/parashar21/main/utils/p21utils.py        # large number of utility functions\n",
        "!wget -O p21utilsR.py -q https://raw.githubusercontent.com/prithwis/parashar21/main/utils/p21utilsR.py      # report writing utility functions\n",
        "!wget -O p21swe.py -q https://raw.githubusercontent.com/prithwis/parashar21/main/utils/p21swe.py            # Swiss Ephemeris functions\n",
        "!wget -O p21YogInfo.py -q https://raw.githubusercontent.com/prithwis/parashar21/main/utils/p21YogInfo.py    # yog data - description and conditions \n",
        "# ---------------------------\n",
        "\n",
        "#!wget -O Saraswati.png -q https://github.com/prithwis/parashar21/raw/main/images/Saraswati02.png                 \n",
        "#!wget -O p21logo.png -q https://github.com/prithwis/parashar21/raw/main/images/p21logo-002-1.png   \n",
        "\n"
      ],
      "metadata": {
        "id": "uwAT_IbvB0A-"
      },
      "execution_count": 4,
      "outputs": []
    },
    {
      "cell_type": "code",
      "source": [
        "import p21\n",
        "import p21utils\n",
        "import p21utilsR\n",
        "import p21swe\n",
        "import p21YogInfo\n",
        "# ------------------------------------------------\n",
        "# required for multiple imports of the same module\n",
        "# ------------------------------------------------\n",
        "import importlib\n",
        "importlib.reload(p21)\n",
        "importlib.reload(p21utils)\n",
        "importlib.reload(p21utilsR)\n",
        "importlib.reload(p21swe)\n",
        "importlib.reload(p21YogInfo)"
      ],
      "metadata": {
        "id": "7Np3o1Nn0zrX",
        "outputId": "39648b1c-ff07-41e1-adb7-c0e5f02a8e2f",
        "colab": {
          "base_uri": "https://localhost:8080/"
        }
      },
      "execution_count": 5,
      "outputs": [
        {
          "output_type": "stream",
          "name": "stdout",
          "text": [
            "10 Yogs on record\n",
            "0 : Amala Yog | 10th from Moon OR Lagna should have a benefic\n",
            "1 : RajLakshana Yog | Jupiter, Venus, Mercury, Moon should be in Lagna or they should be in a Kendra\n",
            "2 : Chatussagara Yog | All the Kendras 1/4/7/10 are occupied by planets, Ra, Ke not counted here\n",
            "3 : Adhi678 Yog | Benefics located in 6/7/8th  from Moon\n",
            "4 : Chandra Mangal Yog | Mars Conjoins Moon or  Mars and Moon in Mutual Aspect\n",
            "5 : Kemadruma Yog : No planets on either sides of the Moon\n",
            "6 : Anapha Yog |Planets other than Sun in 12th Place from Moon\n",
            "7 : Sunapha Yog |Planets other than Sun in 2nd Place from Moon\n",
            "8 : Dhurdhura Yog | Planets on both sides of the Moon\n",
            "9 : Gajakesari Yog | Jupiter is in Kendra or 1,4,7,10th from Moon\n",
            "10 Yogs on record\n",
            "0 : Amala Yog | 10th from Moon OR Lagna should have a benefic\n",
            "1 : RajLakshana Yog | Jupiter, Venus, Mercury, Moon should be in Lagna or they should be in a Kendra\n",
            "2 : Chatussagara Yog | All the Kendras 1/4/7/10 are occupied by planets, Ra, Ke not counted here\n",
            "3 : Adhi678 Yog | Benefics located in 6/7/8th  from Moon\n",
            "4 : Chandra Mangal Yog | Mars Conjoins Moon or  Mars and Moon in Mutual Aspect\n",
            "5 : Kemadruma Yog : No planets on either sides of the Moon\n",
            "6 : Anapha Yog |Planets other than Sun in 12th Place from Moon\n",
            "7 : Sunapha Yog |Planets other than Sun in 2nd Place from Moon\n",
            "8 : Dhurdhura Yog | Planets on both sides of the Moon\n",
            "9 : Gajakesari Yog | Jupiter is in Kendra or 1,4,7,10th from Moon\n"
          ]
        },
        {
          "output_type": "execute_result",
          "data": {
            "text/plain": [
              "<module 'p21YogInfo' from '/content/p21YogInfo.py'>"
            ]
          },
          "metadata": {},
          "execution_count": 5
        }
      ]
    },
    {
      "cell_type": "code",
      "source": [
        "# Guess what is happening here :-)\n",
        "#\n",
        "!wc *.py | grep total |awk '{print $1 \" lines\";}'\n",
        "!sed '/^#/d' *.py | wc |awk '{print $1 \" non-comment lines\";}'"
      ],
      "metadata": {
        "id": "9VHL5rlXx9xy",
        "outputId": "6cee1da9-9e80-4a2d-dbd0-29152083a216",
        "colab": {
          "base_uri": "https://localhost:8080/"
        }
      },
      "execution_count": 6,
      "outputs": [
        {
          "output_type": "stream",
          "name": "stdout",
          "text": [
            "2107 lines\n",
            "1889 non-comment lines\n"
          ]
        }
      ]
    },
    {
      "cell_type": "code",
      "source": [
        "#Download Swiss Ephemeris Files \n",
        "!wget -q http://www.astro.com/ftp/swisseph/ephe/seas_18.se1\n",
        "!wget -q http://www.astro.com/ftp/swisseph/ephe/semo_18.se1\n",
        "!wget -q http://www.astro.com/ftp/swisseph/ephe/sepl_18.se1\n",
        "!mkdir ephe\n",
        "!mv *.se1 ephe\n",
        "#------------------------------\n",
        "# Configure SWE with appropriate parameters\n",
        "#\n",
        "p21swe.C01_configSWE()"
      ],
      "metadata": {
        "id": "kMKlXoDGH8XP"
      },
      "execution_count": 7,
      "outputs": []
    },
    {
      "cell_type": "markdown",
      "source": [
        "##Local Mongo\n",
        "\n",
        "We use a locally installed, temporary MongoDB to store and process the data\n"
      ],
      "metadata": {
        "id": "937sm5u0g4r_"
      }
    },
    {
      "cell_type": "code",
      "source": [
        "!service mongodb start                                      # start Local MongoDB server instance\n",
        "#!mongod --version\n",
        "\n",
        "# Connect to local MongoDB\n",
        "\n",
        "mongoURI = \"mongodb://localhost:27017/\"                               # for local server\n",
        "client = MongoClient(mongoURI)\n",
        "db = client.parashar21"
      ],
      "metadata": {
        "id": "r97Sb2uL1b7l",
        "outputId": "d100480c-f2ca-4322-bc98-ef2bfa660a75",
        "colab": {
          "base_uri": "https://localhost:8080/"
        }
      },
      "execution_count": 8,
      "outputs": [
        {
          "output_type": "stream",
          "name": "stdout",
          "text": [
            " * Starting database mongodb\n",
            "   ...done.\n"
          ]
        }
      ]
    },
    {
      "cell_type": "markdown",
      "source": [
        "#Report Generation Function"
      ],
      "metadata": {
        "id": "AW0V9j1W1ufz"
      }
    },
    {
      "cell_type": "code",
      "source": [
        "def genChart(ChartStyle):\n",
        "      \n",
        "    chartData = chart.iloc[0]\n",
        "    RepID = chart.iloc[0]['pid']['name']+'_'+p21.AnalysisType[0:3]+'_'+ChartStyle[0:1]\n",
        "    now = datetime.now(pytz.timezone('Asia/Kolkata'))\n",
        "    fileName = 'p21_'+RepID+'_'+now.strftime(\"%H%M%S\")+'.doc'\n",
        "\n",
        "    #print(chartData)\n",
        "    # ---------------------------------------------------------\n",
        "    p21utilsR.R01_CreateReportDoc(None,None,'SingleChart')        # Creates MS Word Doc called p21.document for Single or MULTIPLE charts\n",
        "    #p21utilsR.R01A_CreateReportDoc(RepID)                           # Creates MS Word Doc called p21.document for SINGLE chart\n",
        "    # ----------------------------------------------------------\n",
        "    \n",
        "    p21utilsR.R511_parseChartData(chartData)                # Break up database data into useful pieces\n",
        "                                                            # Creates two primary dicts, GLon, GRet\n",
        "    p21utilsR.R30_LocateYogs()\n",
        "    \n",
        "    #print(p21.beneficG)\n",
        "    for ctype in ['Rashi','Navamsa']:\n",
        "        p21.ChartType = ctype\n",
        "        p21utils.R11_LocateGrahaInRashi()   # Converts Graha Long to Rashi positions\n",
        "                                            # Rashi Num as well as Rashi name\n",
        "        if ChartStyle == 'Bengal':\n",
        "            p21utilsR.R12B_drawChart_Bengal()    # Draw Chart in Bengal style\n",
        "        if ChartStyle == 'South':\n",
        "            p21utilsR.R12B_drawChart_South()    # Draw Chart in South style\n",
        "        if ChartStyle == 'North':\n",
        "            p21utilsR.R12B_drawChart_North()    # Draw Chart in North style\n",
        "        \n",
        "    \n",
        "    p21utilsR.R512_FormatPage('SingleChart')                  # this is where the details of the chart are printed out\n",
        "    \n",
        "    # ------------------------------------\n",
        "    p21.document.save(fileName)\n",
        "    return fileName\n",
        "    \n",
        "print(\"Executed at \", datetime.now(pytz.timezone('Asia/Kolkata')))"
      ],
      "metadata": {
        "id": "nd3Zijjz1sfG",
        "outputId": "b1c9e312-1562-45bb-b198-baf851041436",
        "colab": {
          "base_uri": "https://localhost:8080/"
        }
      },
      "execution_count": 9,
      "outputs": [
        {
          "output_type": "stream",
          "name": "stdout",
          "text": [
            "Executed at  2023-05-15 10:10:55.335774+05:30\n"
          ]
        }
      ]
    },
    {
      "cell_type": "markdown",
      "source": [
        "# Store and Retrieve Function"
      ],
      "metadata": {
        "id": "YN827fluMSvH"
      }
    },
    {
      "cell_type": "code",
      "source": [
        "def StoreRetrieveChart():\n",
        "    with open('peopleData.json') as json_file:\n",
        "        oneChart = json.load(json_file)\n",
        "\n",
        "    db.drop_collection('khona21')\n",
        "    db.create_collection('khona21')               # Optional collection creation \n",
        "    p21.kollection = db.khona21                   # Set the collection to work with\n",
        "\n",
        "    # Insert the single chart\n",
        "\n",
        "    insert_result = p21.kollection.insert_one(oneChart)\n",
        "    #insert_result.acknowledged  \n",
        "    #chart = pd.DataFrame(list(p21.kollection.find({},p21.selCols)))\n",
        "    return(pd.DataFrame(list(p21.kollection.find({},p21.selCols))))\n",
        "\n",
        "print(\"Executed at \", datetime.now(pytz.timezone('Asia/Kolkata')))"
      ],
      "metadata": {
        "id": "LM3zvIJMMVPt",
        "outputId": "fd97c34e-d0ee-44b6-ff48-f24fba37c003",
        "colab": {
          "base_uri": "https://localhost:8080/"
        }
      },
      "execution_count": 10,
      "outputs": [
        {
          "output_type": "stream",
          "name": "stdout",
          "text": [
            "Executed at  2023-05-15 10:11:05.960330+05:30\n"
          ]
        }
      ]
    },
    {
      "cell_type": "markdown",
      "source": [
        "# Natal Chart\n",
        "Data for others can be added by adding an extra line in the cell below. Please follow the same pattern as in the other lines\n"
      ],
      "metadata": {
        "id": "ttRyzy7b9D3t"
      }
    },
    {
      "cell_type": "markdown",
      "source": [
        "## Representative Natal Chart Data"
      ],
      "metadata": {
        "id": "iC5HiRS8HwvN"
      }
    },
    {
      "cell_type": "code",
      "source": [
        "# Sample Data for some people\n",
        "#\n",
        "#%%writefile peopleData.csv\n",
        "#Gender,DoB_Day,DoB_Mon,DoB_Year,DoB_Time,TZ_OffHours,PoB_Lat,PoB_Lon,TZ_Name,TZ_Type,Name,tag1,tag2,tag3,tag4,tag5,tag6\n",
        "#M,17,9,1950,23:11,5.5,23.72,63.36,IST,standard,NDModi,Politician,nil,Administrator,nil,nil,nil\n",
        "#F,10,10,1954,11:00,5.5,13.08,80.27,IST,standard,Rekha,Actor,nil,Dancer,nil,nil,nil\n",
        "#M,15,10,1931,1:15,5.5,9.29,79.31,IST,standard,APJAbdulKalam,Engineer,nil,PublicFigure,nil,nil,nil\n",
        "#F,19,11,1917,23:11,5.5,25.43,81.85,IST,standard,IndiraG,Politician,nil,PublicFigure,nil,nil,nil\n",
        "#M,15,10,1961,23:42,5.5,22.57,88.37,IST,standard,Person1,Engineer,nil,Teacher,nil,PostGraduate,nil\n",
        "#F,19,12,1965,10:26,5.5,22.57,88.37,IST,standard,Person1,Author,nil,Homemaker,nil,PostGraduate,nil\n",
        "#M,9,10,1990,23:09,5.5,22.57,88.37,IST,standard,Person1,Engineer,nil,Teacher,nil,PostGraduate,nil\n",
        "#F,12,9,1990,0:52,5.5,22.87,88.37,IST,standard,Person1,Biologist,nil,Scientist,nil,PostGraduate,nil\n",
        "\n",
        "#Read Birth Data from a file\n",
        "#!wget -O peopleData.csv -q https://raw.githubusercontent.com/prithwis/parashar21/main/data/Test5Data.txt # 5 Person Test Data\n",
        "#!cat peopleData.csv"
      ],
      "metadata": {
        "id": "awh7a1KSTZci"
      },
      "execution_count": null,
      "outputs": []
    },
    {
      "cell_type": "code",
      "source": [
        "# Get Lat Long for Place of Birth, in case that is not known\n",
        "import requests\n",
        "import urllib.parse\n",
        "\n",
        "address = 'Vadnagar, Gujarat, India'\n",
        "url = 'https://nominatim.openstreetmap.org/search/' + urllib.parse.quote(address) +'?format=json'\n",
        "\n",
        "response = requests.get(url).json()\n",
        "print(response[0][\"lat\"])\n",
        "print(response[0][\"lon\"])\n",
        "#print(response)"
      ],
      "metadata": {
        "colab": {
          "base_uri": "https://localhost:8080/"
        },
        "id": "_VgsUceyEEsk",
        "outputId": "6942a2af-f94b-4ed3-a588-e0d8a34d0aeb"
      },
      "execution_count": null,
      "outputs": [
        {
          "output_type": "stream",
          "name": "stdout",
          "text": [
            "23.7853622\n",
            "72.6332132\n"
          ]
        }
      ]
    },
    {
      "cell_type": "markdown",
      "source": [
        "## Natal Data Preparation"
      ],
      "metadata": {
        "id": "yOw4fYHv2VSn"
      }
    },
    {
      "cell_type": "code",
      "source": [
        "%%writefile peopleData.csv\n",
        "Gender,DoB_Day,DoB_Mon,DoB_Year,DoB_Time,TZ_OffHours,PoB_Lat,PoB_Lon,TZ_Name,TZ_Type,Name,tag1,tag2,tag3,tag4,tag5,tag6\n",
        "F,19,12,1965,10:26,5.5,22.57,88.37,IST,standard,Person1,Author,nil,Homemaker,nil,PostGraduate,nil"
      ],
      "metadata": {
        "colab": {
          "base_uri": "https://localhost:8080/"
        },
        "id": "x7sg8sa11Zpm",
        "outputId": "b8cc9d31-ec4e-4fff-8528-a6a3246d9c15"
      },
      "execution_count": 11,
      "outputs": [
        {
          "output_type": "stream",
          "name": "stdout",
          "text": [
            "Writing peopleData.csv\n"
          ]
        }
      ]
    },
    {
      "cell_type": "code",
      "source": [
        "#%%time\n",
        "\n",
        "df = pd.read_csv('peopleData.csv')\n",
        "#df.head()\n",
        "\n",
        "p21.AnalysisType = 'Rashi'                                     # one of ['Rashi','Navamsa']\n",
        "#p21.AnalysisType = 'Navamsa'                                    # one of ['Rashi','Navamsa']\n",
        "p21.ChartType = p21.AnalysisType\n",
        "\n",
        "#p21.Gochar = False                                              # This should be set to False, in all cases\n",
        "\n",
        "# ------------------------------------------------------------\n",
        "# Converts date/time info into a detailed horoscope chart \n",
        "# Stores the same in a JSON file, to be inserted into a local MongoDB database\n",
        "# \n",
        "p21swe.C61_Cast2JSON(df)\n",
        "p21.SubMoonLong = p21.GLon['Mo']                       # Preserving Moon Longitude for Gochar\n",
        "print(p21.GLon['La'],p21.GLon['Mo'])\n"
      ],
      "metadata": {
        "id": "Zrrs_eHOOYpl",
        "outputId": "017cb6f9-b5a1-4159-9a42-e8abe21e0bf1",
        "colab": {
          "base_uri": "https://localhost:8080/"
        }
      },
      "execution_count": 12,
      "outputs": [
        {
          "output_type": "stream",
          "name": "stdout",
          "text": [
            "1 records processed, so far\n",
            "1  records generated and stored in file peopleData.json\n",
            "310.415 201.001\n"
          ]
        }
      ]
    },
    {
      "cell_type": "markdown",
      "source": [
        "##Process Natal Chart"
      ],
      "metadata": {
        "id": "YeybZgev19Cw"
      }
    },
    {
      "cell_type": "code",
      "source": [
        "%%capture\n",
        "\n",
        "chart = StoreRetrieveChart()\n",
        "ReportFile = genChart('Bengal')\n",
        "#ReportFile = genChart('South')"
      ],
      "metadata": {
        "id": "TjPcGN3XM9Qq"
      },
      "execution_count": 13,
      "outputs": []
    },
    {
      "cell_type": "markdown",
      "source": [
        "## Dasha Coding"
      ],
      "metadata": {
        "id": "GOQ4fV6-F2qS"
      }
    },
    {
      "cell_type": "code",
      "source": [
        "#print(p21.DashaDuraFract)\n",
        "#print(p21.DashaDurationD)\n",
        "#[2557,7305,2192,3653,2557,6575,5844,6940,6209]"
      ],
      "metadata": {
        "id": "bTCzPEwFzBmX",
        "outputId": "2fb68a20-0f74-4ffd-8b4c-ad2b572613eb",
        "colab": {
          "base_uri": "https://localhost:8080/"
        }
      },
      "execution_count": 14,
      "outputs": [
        {
          "output_type": "stream",
          "name": "stdout",
          "text": [
            "[0.058333333333333334, 0.16666666666666666, 0.05, 0.08333333333333333, 0.058333333333333334, 0.15, 0.13333333333333333, 0.15833333333333333, 0.14166666666666666]\n",
            "[2556.75, 7305.0, 2191.5, 3652.5, 2556.75, 6574.5, 5844.0, 6939.75, 6209.25]\n"
          ]
        }
      ]
    },
    {
      "cell_type": "code",
      "source": [
        "def NextDasha(cd):\n",
        "  cdIndex = p21.DashaSeq.index(cd)\n",
        "  ndIndex = cdIndex+1\n",
        "  if ndIndex > 8:\n",
        "    ndIndex = 0\n",
        "  return(p21.DashaSeq[ndIndex])"
      ],
      "metadata": {
        "id": "659EM0VSXl2e"
      },
      "execution_count": 15,
      "outputs": []
    },
    {
      "cell_type": "code",
      "source": [
        "def GetDasha():\n",
        "  #print(p21.DoB)\n",
        "  #print(p21.NksGap)\n",
        "  #print(p21.SubMoonLong)\n",
        "\n",
        "  BirthNks = int(p21.SubMoonLong/p21.NksGap)                    # Number of Birth Nakshatra\n",
        "  print('Birth Nakshatra ',BirthNks,p21.Nks[BirthNks])\n",
        "  BirthDasha = p21.DashaStart[BirthNks]                         # BirthDasha\n",
        "  print('BirthDasha ',BirthDasha)\n",
        "  BirthDashaIndex = p21.DashaSeq.index(BirthDasha)\n",
        "  print('Birth Dasha Index', BirthDashaIndex, )\n",
        "\n",
        "  DashaConsumedDeg = p21.SubMoonLong - BirthNks*p21.NksGap\n",
        "  #print(DashaConsumedDeg)\n",
        "  #DashaConsumedDuration = round((DashaConsumedDeg/p21.NksGap) * p21.DashaDurationD[BirthDashaIndex])\n",
        "  DashaConsumedDuration = (DashaConsumedDeg/p21.NksGap) * p21.DashaDurationD[BirthDashaIndex]          # Rounding Causes cumulative errors\n",
        "\n",
        "  print('Birth Dasha Duration',p21.DashaDurationD[BirthDashaIndex], 'Birth Dasha Consumed Duration', DashaConsumedDuration )\n",
        "  #DaysToStartOfBirthDasha = int(DashaConsumedDuration * 365)\n",
        "  \n",
        "  StartOfBirthDasha = p21.DoB - timedelta(days=DashaConsumedDuration)\n",
        "  print('Start of Birth Dasha',StartOfBirthDasha)\n",
        "  print('Date of Birth',p21.DoB)\n",
        "  L1Dasha = BirthDasha\n",
        "  StartOfL1Dasha = StartOfBirthDasha\n",
        "  p21.VimDasha = {}\n",
        "  for i in range(9):\n",
        "    L1DashaDuration = p21.DashaDurationD[p21.DashaSeq.index(L1Dasha)]\n",
        "    EndOfL1Dasha = StartOfL1Dasha + timedelta(days=L1DashaDuration)\n",
        "    DashaDict = {}\n",
        "    #datetime.strptime(time_data, format_data)\n",
        "    #now.strftime(\"%m/%d/%Y, %H:%M:%S\")\n",
        "    DashaDict['Start'] = StartOfL1Dasha.strftime(\"%d %b %Y\")\n",
        "    DashaDict['End'] = EndOfL1Dasha.strftime(\"%d %b %Y\")\n",
        "    DashaDict['Duration'] = L1DashaDuration\n",
        "    L2Dasha = L1Dasha\n",
        "    StartOfL2Dasha = StartOfL1Dasha\n",
        "    for j in range(9):\n",
        "      AntarDashaDict = {}\n",
        "      #L2DashaDuration = round(L1DashaDuration * p21.DashaDuraFract[p21.DashaSeq.index(L2Dasha)])\n",
        "      L2DashaDuration = L1DashaDuration * p21.DashaDuraFract[p21.DashaSeq.index(L2Dasha)]\n",
        "\n",
        "      #L2DashaDuration = L1DashaDuration * p21.DashaDuraFract[p21.DashaSeq.index(L2Dasha)]\n",
        "      EndOfL2Dasha = StartOfL2Dasha + timedelta(days=L2DashaDuration)\n",
        "      AntarDashaDict['Start'] = StartOfL2Dasha.strftime(\"%d %b %Y\")\n",
        "      AntarDashaDict['End'] = EndOfL2Dasha.strftime(\"%d %b %Y\")\n",
        "      AntarDashaDict['Duration'] = L2DashaDuration\n",
        "      #AntarDashaDict['Antardasha'] = L2Dasha\n",
        "      #AntarDashaDict[L2Dasha] = AntarDashaDictX\n",
        "      DashaDict[L2Dasha] = AntarDashaDict\n",
        "      L2Dasha = NextDasha(L2Dasha)\n",
        "      StartOfL2Dasha = EndOfL2Dasha\n",
        "    p21.VimDasha[L1Dasha] = DashaDict\n",
        "    #print(i+1,'Dasha',Dasha,'Starts',StartOfDasha,'Ends',EndOfDasha,'Followed by',NextDasha(Dasha))\n",
        "    L1Dasha = NextDasha(L1Dasha)\n",
        "    StartOfL1Dasha = EndOfL1Dasha\n",
        "  #print(VimDasha)\n",
        "  #print(json.dumps(p21.VimDasha, indent = 4))\n",
        "  #printVim()"
      ],
      "metadata": {
        "id": "U01uygJHF8YY"
      },
      "execution_count": 16,
      "outputs": []
    },
    {
      "cell_type": "code",
      "source": [
        "GetDasha()"
      ],
      "metadata": {
        "colab": {
          "base_uri": "https://localhost:8080/"
        },
        "id": "JX0Xsfy1GFI3",
        "outputId": "d30f99cb-fe91-494d-f9ec-87c665ed3fd9"
      },
      "execution_count": 17,
      "outputs": [
        {
          "output_type": "stream",
          "name": "stdout",
          "text": [
            "Birth Nakshatra  15 Vishakha\n",
            "BirthDasha  Ju\n",
            "Birth Dasha Index 6\n",
            "Birth Dasha Duration 5844.0 Birth Dasha Consumed Duration 438.738300000002\n",
            "Start of Birth Dasha 1964-10-06 16:42:50.880000\n",
            "Date of Birth 1965-12-19 10:26:00\n"
          ]
        }
      ]
    },
    {
      "cell_type": "code",
      "source": [
        "def printVim():\n",
        "  for k1, v1 in p21.VimDasha.items():\n",
        "    #print('outer')\n",
        "    for k2, v2 in v1.items():\n",
        "      if (type(v2) is dict):\n",
        "        print(k1,' Dasha ends on ',v1['End'],' | ',k2,' Antardasha ends on ',v2['End'])\n",
        "    Error = datetime.strptime(v1['End'],\"%d %b %Y\") - datetime.strptime(v2['End'],\"%d %b %Y\")\n",
        "    print('----------- Error of ', Error.days,' days in ',v1['Duration'],' day Dasha')\n",
        "   \n",
        " def printMahaDasha():\n",
        "  for k1, v1 in p21.VimDasha.items():\n",
        "    print(k1,' Dasha ends on ',v1['End'])\n",
        "\n",
        "def printAntarDasha():\n",
        "    #today = datetime.now(pytz.timezone('Asia/Calcutta'))\n",
        "    today = datetime.now()\n",
        "    print(today)\n",
        "    count = 0\n",
        "    for k1, v1 in p21.VimDasha.items():\n",
        "        if (today < datetime.strptime(v1['End'],\"%d %b %Y\")) and (count < 2):\n",
        "            if (count == 0):\n",
        "                print('Current Dasha', count, k1)\n",
        "            else:\n",
        "                print('Next Dasha',count)\n",
        "            #print('count', count)\n",
        "            for k2, v2 in v1.items():\n",
        "                if (type(v2) is dict):\n",
        "                    print(k1,' Dasha ends ',v1['End'],' | ',k2,' Antardasha ends ',v2['End'])\n",
        "                #Error = datetime.strptime(v1['End'],\"%d %b %Y\") - datetime.strptime(v2['End'],\"%d %b %Y\")\n",
        "                #print('----------- Error of ', Error.days,' days in ',v1['Duration'],' day Dasha')\n",
        "            count = count+1"
      ],
      "metadata": {
        "id": "YyMOdn2tNbp3"
      },
      "execution_count": 18,
      "outputs": []
    },
    {
      "cell_type": "code",
      "source": [
        "printMahaDasha()"
      ],
      "metadata": {
        "id": "-CflN0R7Sr_3",
        "outputId": "3e5069e9-c0d4-4a1b-8399-92405d7c53bf",
        "colab": {
          "base_uri": "https://localhost:8080/"
        }
      },
      "execution_count": 20,
      "outputs": [
        {
          "output_type": "stream",
          "name": "stdout",
          "text": [
            "Ju  Dasha ends on  06 Oct 1980\n",
            "Sa  Dasha ends on  07 Oct 1999\n",
            "Me  Dasha ends on  06 Oct 2016\n",
            "Ke  Dasha ends on  07 Oct 2023\n",
            "Ve  Dasha ends on  07 Oct 2043\n",
            "Su  Dasha ends on  06 Oct 2049\n",
            "Mo  Dasha ends on  07 Oct 2059\n",
            "Ma  Dasha ends on  07 Oct 2066\n",
            "Ra  Dasha ends on  06 Oct 2084\n"
          ]
        }
      ]
    },
    {
      "cell_type": "code",
      "source": [],
      "metadata": {
        "id": "790Mw2T0Tv4a"
      },
      "execution_count": 46,
      "outputs": []
    },
    {
      "cell_type": "code",
      "source": [
        "printAntarDasha()"
      ],
      "metadata": {
        "id": "PaO7t_VxUe8W",
        "outputId": "5736fcb8-4572-40b5-d151-4c3b21a1c23d",
        "colab": {
          "base_uri": "https://localhost:8080/"
        }
      },
      "execution_count": 47,
      "outputs": [
        {
          "output_type": "stream",
          "name": "stdout",
          "text": [
            "2023-05-15 04:56:34.829442\n",
            "Current Dasha 0 Ke\n",
            "Ke  Dasha ends  07 Oct 2023  |  Ke  Antardasha ends  04 Mar 2017\n",
            "Ke  Dasha ends  07 Oct 2023  |  Ve  Antardasha ends  04 May 2018\n",
            "Ke  Dasha ends  07 Oct 2023  |  Su  Antardasha ends  09 Sep 2018\n",
            "Ke  Dasha ends  07 Oct 2023  |  Mo  Antardasha ends  10 Apr 2019\n",
            "Ke  Dasha ends  07 Oct 2023  |  Ma  Antardasha ends  07 Sep 2019\n",
            "Ke  Dasha ends  07 Oct 2023  |  Ra  Antardasha ends  24 Sep 2020\n",
            "Ke  Dasha ends  07 Oct 2023  |  Ju  Antardasha ends  31 Aug 2021\n",
            "Ke  Dasha ends  07 Oct 2023  |  Sa  Antardasha ends  10 Oct 2022\n",
            "Ke  Dasha ends  07 Oct 2023  |  Me  Antardasha ends  07 Oct 2023\n",
            "Next Dasha 1\n",
            "Ve  Dasha ends  07 Oct 2043  |  Ve  Antardasha ends  05 Feb 2027\n",
            "Ve  Dasha ends  07 Oct 2043  |  Su  Antardasha ends  06 Feb 2028\n",
            "Ve  Dasha ends  07 Oct 2043  |  Mo  Antardasha ends  06 Oct 2029\n",
            "Ve  Dasha ends  07 Oct 2043  |  Ma  Antardasha ends  07 Dec 2030\n",
            "Ve  Dasha ends  07 Oct 2043  |  Ra  Antardasha ends  06 Dec 2033\n",
            "Ve  Dasha ends  07 Oct 2043  |  Ju  Antardasha ends  06 Aug 2036\n",
            "Ve  Dasha ends  07 Oct 2043  |  Sa  Antardasha ends  07 Oct 2039\n",
            "Ve  Dasha ends  07 Oct 2043  |  Me  Antardasha ends  07 Aug 2042\n",
            "Ve  Dasha ends  07 Oct 2043  |  Ke  Antardasha ends  07 Oct 2043\n"
          ]
        }
      ]
    },
    {
      "cell_type": "code",
      "source": [
        "printVim()"
      ],
      "metadata": {
        "id": "IovK3V80SKWz",
        "outputId": "b8f5f30f-ae8d-4768-c39a-d8b946bfcaa2",
        "colab": {
          "base_uri": "https://localhost:8080/"
        }
      },
      "execution_count": null,
      "outputs": [
        {
          "output_type": "stream",
          "name": "stdout",
          "text": [
            "Ju  Dasha ends on  06 Oct 1980  |  Ju  Antardasha ends on  24 Nov 1966\n",
            "Ju  Dasha ends on  06 Oct 1980  |  Sa  Antardasha ends on  07 Jun 1969\n",
            "Ju  Dasha ends on  06 Oct 1980  |  Me  Antardasha ends on  13 Sep 1971\n",
            "Ju  Dasha ends on  06 Oct 1980  |  Ke  Antardasha ends on  18 Aug 1972\n",
            "Ju  Dasha ends on  06 Oct 1980  |  Ve  Antardasha ends on  19 Apr 1975\n",
            "Ju  Dasha ends on  06 Oct 1980  |  Su  Antardasha ends on  06 Feb 1976\n",
            "Ju  Dasha ends on  06 Oct 1980  |  Mo  Antardasha ends on  07 Jun 1977\n",
            "Ju  Dasha ends on  06 Oct 1980  |  Ma  Antardasha ends on  14 May 1978\n",
            "Ju  Dasha ends on  06 Oct 1980  |  Ra  Antardasha ends on  06 Oct 1980\n",
            "----------- Error of  0  days in  5844.0  day Dasha\n",
            "Sa  Dasha ends on  07 Oct 1999  |  Sa  Antardasha ends on  10 Oct 1983\n",
            "Sa  Dasha ends on  07 Oct 1999  |  Me  Antardasha ends on  19 Jun 1986\n",
            "Sa  Dasha ends on  07 Oct 1999  |  Ke  Antardasha ends on  29 Jul 1987\n",
            "Sa  Dasha ends on  07 Oct 1999  |  Ve  Antardasha ends on  28 Sep 1990\n",
            "Sa  Dasha ends on  07 Oct 1999  |  Su  Antardasha ends on  10 Sep 1991\n",
            "Sa  Dasha ends on  07 Oct 1999  |  Mo  Antardasha ends on  10 Apr 1993\n",
            "Sa  Dasha ends on  07 Oct 1999  |  Ma  Antardasha ends on  20 May 1994\n",
            "Sa  Dasha ends on  07 Oct 1999  |  Ra  Antardasha ends on  26 Mar 1997\n",
            "Sa  Dasha ends on  07 Oct 1999  |  Ju  Antardasha ends on  07 Oct 1999\n",
            "----------- Error of  0  days in  6939.75  day Dasha\n",
            "Me  Dasha ends on  06 Oct 2016  |  Me  Antardasha ends on  05 Mar 2002\n",
            "Me  Dasha ends on  06 Oct 2016  |  Ke  Antardasha ends on  02 Mar 2003\n",
            "Me  Dasha ends on  06 Oct 2016  |  Ve  Antardasha ends on  31 Dec 2005\n",
            "Me  Dasha ends on  06 Oct 2016  |  Su  Antardasha ends on  06 Nov 2006\n",
            "Me  Dasha ends on  06 Oct 2016  |  Mo  Antardasha ends on  07 Apr 2008\n",
            "Me  Dasha ends on  06 Oct 2016  |  Ma  Antardasha ends on  04 Apr 2009\n",
            "Me  Dasha ends on  06 Oct 2016  |  Ra  Antardasha ends on  22 Oct 2011\n",
            "Me  Dasha ends on  06 Oct 2016  |  Ju  Antardasha ends on  27 Jan 2014\n",
            "Me  Dasha ends on  06 Oct 2016  |  Sa  Antardasha ends on  06 Oct 2016\n",
            "----------- Error of  0  days in  6209.25  day Dasha\n",
            "Ke  Dasha ends on  07 Oct 2023  |  Ke  Antardasha ends on  04 Mar 2017\n",
            "Ke  Dasha ends on  07 Oct 2023  |  Ve  Antardasha ends on  04 May 2018\n",
            "Ke  Dasha ends on  07 Oct 2023  |  Su  Antardasha ends on  09 Sep 2018\n",
            "Ke  Dasha ends on  07 Oct 2023  |  Mo  Antardasha ends on  10 Apr 2019\n",
            "Ke  Dasha ends on  07 Oct 2023  |  Ma  Antardasha ends on  07 Sep 2019\n",
            "Ke  Dasha ends on  07 Oct 2023  |  Ra  Antardasha ends on  24 Sep 2020\n",
            "Ke  Dasha ends on  07 Oct 2023  |  Ju  Antardasha ends on  31 Aug 2021\n",
            "Ke  Dasha ends on  07 Oct 2023  |  Sa  Antardasha ends on  10 Oct 2022\n",
            "Ke  Dasha ends on  07 Oct 2023  |  Me  Antardasha ends on  07 Oct 2023\n",
            "----------- Error of  0  days in  2556.75  day Dasha\n",
            "Ve  Dasha ends on  07 Oct 2043  |  Ve  Antardasha ends on  05 Feb 2027\n",
            "Ve  Dasha ends on  07 Oct 2043  |  Su  Antardasha ends on  06 Feb 2028\n",
            "Ve  Dasha ends on  07 Oct 2043  |  Mo  Antardasha ends on  06 Oct 2029\n",
            "Ve  Dasha ends on  07 Oct 2043  |  Ma  Antardasha ends on  07 Dec 2030\n",
            "Ve  Dasha ends on  07 Oct 2043  |  Ra  Antardasha ends on  06 Dec 2033\n",
            "Ve  Dasha ends on  07 Oct 2043  |  Ju  Antardasha ends on  06 Aug 2036\n",
            "Ve  Dasha ends on  07 Oct 2043  |  Sa  Antardasha ends on  07 Oct 2039\n",
            "Ve  Dasha ends on  07 Oct 2043  |  Me  Antardasha ends on  07 Aug 2042\n",
            "Ve  Dasha ends on  07 Oct 2043  |  Ke  Antardasha ends on  07 Oct 2043\n",
            "----------- Error of  0  days in  7305.0  day Dasha\n",
            "Su  Dasha ends on  06 Oct 2049  |  Su  Antardasha ends on  25 Jan 2044\n",
            "Su  Dasha ends on  06 Oct 2049  |  Mo  Antardasha ends on  25 Jul 2044\n",
            "Su  Dasha ends on  06 Oct 2049  |  Ma  Antardasha ends on  30 Nov 2044\n",
            "Su  Dasha ends on  06 Oct 2049  |  Ra  Antardasha ends on  25 Oct 2045\n",
            "Su  Dasha ends on  06 Oct 2049  |  Ju  Antardasha ends on  13 Aug 2046\n",
            "Su  Dasha ends on  06 Oct 2049  |  Sa  Antardasha ends on  26 Jul 2047\n",
            "Su  Dasha ends on  06 Oct 2049  |  Me  Antardasha ends on  31 May 2048\n",
            "Su  Dasha ends on  06 Oct 2049  |  Ke  Antardasha ends on  06 Oct 2048\n",
            "Su  Dasha ends on  06 Oct 2049  |  Ve  Antardasha ends on  06 Oct 2049\n",
            "----------- Error of  0  days in  2191.5  day Dasha\n",
            "Mo  Dasha ends on  07 Oct 2059  |  Mo  Antardasha ends on  07 Aug 2050\n",
            "Mo  Dasha ends on  07 Oct 2059  |  Ma  Antardasha ends on  08 Mar 2051\n",
            "Mo  Dasha ends on  07 Oct 2059  |  Ra  Antardasha ends on  06 Sep 2052\n",
            "Mo  Dasha ends on  07 Oct 2059  |  Ju  Antardasha ends on  06 Jan 2054\n",
            "Mo  Dasha ends on  07 Oct 2059  |  Sa  Antardasha ends on  07 Aug 2055\n",
            "Mo  Dasha ends on  07 Oct 2059  |  Me  Antardasha ends on  06 Jan 2057\n",
            "Mo  Dasha ends on  07 Oct 2059  |  Ke  Antardasha ends on  07 Aug 2057\n",
            "Mo  Dasha ends on  07 Oct 2059  |  Ve  Antardasha ends on  07 Apr 2059\n",
            "Mo  Dasha ends on  07 Oct 2059  |  Su  Antardasha ends on  07 Oct 2059\n",
            "----------- Error of  0  days in  3652.5  day Dasha\n",
            "Ma  Dasha ends on  07 Oct 2066  |  Ma  Antardasha ends on  04 Mar 2060\n",
            "Ma  Dasha ends on  07 Oct 2066  |  Ra  Antardasha ends on  23 Mar 2061\n",
            "Ma  Dasha ends on  07 Oct 2066  |  Ju  Antardasha ends on  27 Feb 2062\n",
            "Ma  Dasha ends on  07 Oct 2066  |  Sa  Antardasha ends on  07 Apr 2063\n",
            "Ma  Dasha ends on  07 Oct 2066  |  Me  Antardasha ends on  04 Apr 2064\n",
            "Ma  Dasha ends on  07 Oct 2066  |  Ke  Antardasha ends on  31 Aug 2064\n",
            "Ma  Dasha ends on  07 Oct 2066  |  Ve  Antardasha ends on  31 Oct 2065\n",
            "Ma  Dasha ends on  07 Oct 2066  |  Su  Antardasha ends on  08 Mar 2066\n",
            "Ma  Dasha ends on  07 Oct 2066  |  Mo  Antardasha ends on  07 Oct 2066\n",
            "----------- Error of  0  days in  2556.75  day Dasha\n",
            "Ra  Dasha ends on  06 Oct 2084  |  Ra  Antardasha ends on  19 Jun 2069\n",
            "Ra  Dasha ends on  06 Oct 2084  |  Ju  Antardasha ends on  12 Nov 2071\n",
            "Ra  Dasha ends on  06 Oct 2084  |  Sa  Antardasha ends on  18 Sep 2074\n",
            "Ra  Dasha ends on  06 Oct 2084  |  Me  Antardasha ends on  07 Apr 2077\n",
            "Ra  Dasha ends on  06 Oct 2084  |  Ke  Antardasha ends on  25 Apr 2078\n",
            "Ra  Dasha ends on  06 Oct 2084  |  Ve  Antardasha ends on  25 Apr 2081\n",
            "Ra  Dasha ends on  06 Oct 2084  |  Su  Antardasha ends on  20 Mar 2082\n",
            "Ra  Dasha ends on  06 Oct 2084  |  Mo  Antardasha ends on  19 Sep 2083\n",
            "Ra  Dasha ends on  06 Oct 2084  |  Ma  Antardasha ends on  06 Oct 2084\n",
            "----------- Error of  0  days in  6574.5  day Dasha\n"
          ]
        }
      ]
    },
    {
      "cell_type": "markdown",
      "source": [
        "#Gochar Chart"
      ],
      "metadata": {
        "id": "y6rgDCdL2eiB"
      }
    },
    {
      "cell_type": "markdown",
      "source": [
        "## Gochar Data Preparation"
      ],
      "metadata": {
        "id": "dkbvsoDnQW74"
      }
    },
    {
      "cell_type": "code",
      "source": [
        "# This cell to be executed ONLY after natal chart has been created, otherwise errors\n",
        "# \n",
        "!sed -n 1p peopleData.csv > peopleData2.csv                                  # Copy the Header data\n",
        "print(p21.gName, p21.SubMoonLong)\n",
        "\n",
        "#p21.Gochar = True \n",
        "#if p21.Gochar :\n",
        "\n",
        "now = datetime.now(pytz.timezone('Asia/Kolkata'))\n",
        "timeTxt = now.strftime(\"%-d,%-m,%Y,%-H:%-M\")\n",
        "GocharTxt = 'x,'+timeTxt+',5.5,25.43,81.85,IST,standard,'+p21.gName+',nil,nil,nil,nil,nil,nil'                  # Using Lat, Long of Calcutta for Gochar\n",
        "print(GocharTxt)\n",
        "with open(\"peopleData2.csv\", 'a') as file1:\n",
        "    file1.write(GocharTxt)\n",
        "    "
      ],
      "metadata": {
        "id": "C5m-T-guzPNt",
        "outputId": "1c557fcd-b34c-4ce6-9d84-364c15b86716",
        "colab": {
          "base_uri": "https://localhost:8080/"
        }
      },
      "execution_count": null,
      "outputs": [
        {
          "output_type": "stream",
          "name": "stdout",
          "text": [
            "_Gochar 325.406\n",
            "x,9,5,2023,14:49,5.5,25.43,81.85,IST,standard,_Gochar,nil,nil,nil,nil,nil,nil\n"
          ]
        }
      ]
    },
    {
      "cell_type": "code",
      "source": [
        "# Load CSV data into Pandas dataframe\n",
        "#\n",
        "df = pd.read_csv('peopleData2.csv')\n",
        "#df.head()\n",
        "\n",
        "p21.AnalysisType = 'Rashi'                                     # one of ['Rashi','Navamsa']\n",
        "#p21.AnalysisType = 'Navamsa'                                    # one of ['Rashi','Navamsa']\n",
        "p21.ChartType = p21.AnalysisType\n",
        "\n",
        "p21swe.C61_Cast2JSON(df)\n",
        "print(p21.GLon['La'],p21.GLon['Mo'])"
      ],
      "metadata": {
        "id": "dq9Y69ge8k0F",
        "outputId": "281c906c-15c2-4c6d-9cac-3ff1cc128fc6",
        "colab": {
          "base_uri": "https://localhost:8080/"
        }
      },
      "execution_count": null,
      "outputs": [
        {
          "output_type": "stream",
          "name": "stdout",
          "text": [
            "1 records processed, so far\n",
            "1  records generated and stored in file peopleData.json\n",
            "325.406 251.581\n"
          ]
        }
      ]
    },
    {
      "cell_type": "markdown",
      "source": [
        "## Process Gochar Chart"
      ],
      "metadata": {
        "id": "UfrvUFYmNGzX"
      }
    },
    {
      "cell_type": "code",
      "source": [
        "%%capture\n",
        "\n",
        "chart = StoreRetrieveChart()\n",
        "ReportFile = genChart('Bengal')"
      ],
      "metadata": {
        "id": "DNQxCgmKNZKT"
      },
      "execution_count": null,
      "outputs": []
    },
    {
      "cell_type": "markdown",
      "source": [
        "#Chronobooks <br>\n",
        "![alt text](https://1.bp.blogspot.com/-lTiYBkU2qbU/X1er__fvnkI/AAAAAAAAjtE/GhDR3OEGJr4NG43fZPodrQD5kbxtnKebgCLcBGAsYHQ/s600/Footer2020-600x200.png)<hr>\n",
        "Chronotantra and Chronoyantra are two science fiction novels that explore the collapse of human civilisation on Earth and then its rebirth and reincarnation both on Earth as well as on the distant worlds of Mars, Titan and Enceladus. But is it the human civilisation that is being reborn? Or is it some other sentience that is revealing itself. \n",
        "If you have an interest in AI and found this material useful, you may consider buying these novels, in paperback or kindle, from [http://bit.ly/chronobooks](http://bit.ly/chronobooks)"
      ],
      "metadata": {
        "id": "DFx4XUVBB0vg"
      }
    },
    {
      "cell_type": "code",
      "source": [
        "#!cat peopleData.json"
      ],
      "metadata": {
        "id": "GvWpZtrR9x2t"
      },
      "execution_count": null,
      "outputs": []
    },
    {
      "cell_type": "markdown",
      "source": [
        "# Leftovers"
      ],
      "metadata": {
        "id": "jKGdhKgjNnri"
      }
    },
    {
      "cell_type": "code",
      "source": [
        "#\n",
        "#Get List of Persons whose charts are found in the database\n",
        "#\n",
        "selCond = {}                                              # All Charts\n",
        "#pd.DataFrame(list(p21.kollection.find(selCond,p21.selCols)))\n",
        "#pd.DataFrame(list(p21.kollection.find(selCond,{'pid.name':1,'_id':0})))\n",
        "pd.DataFrame(list(p21.kollection.find(selCond,{'pid.name':1})))\n",
        "#pd.DataFrame(list(p21.kollection.find(selCond,p21.selCols)))\n"
      ],
      "metadata": {
        "id": "RevVlQkqjTua",
        "outputId": "262ce09a-0c83-47f7-a012-a1afb73c795a",
        "colab": {
          "base_uri": "https://localhost:8080/",
          "height": 81
        }
      },
      "execution_count": null,
      "outputs": [
        {
          "output_type": "execute_result",
          "data": {
            "text/plain": [
              "                        _id                  pid\n",
              "0  645797a4004d072716dd4d8c  {'name': '_Gochar'}"
            ],
            "text/html": [
              "\n",
              "  <div id=\"df-47e93652-221e-4f60-9a8e-10b26f38ae18\">\n",
              "    <div class=\"colab-df-container\">\n",
              "      <div>\n",
              "<style scoped>\n",
              "    .dataframe tbody tr th:only-of-type {\n",
              "        vertical-align: middle;\n",
              "    }\n",
              "\n",
              "    .dataframe tbody tr th {\n",
              "        vertical-align: top;\n",
              "    }\n",
              "\n",
              "    .dataframe thead th {\n",
              "        text-align: right;\n",
              "    }\n",
              "</style>\n",
              "<table border=\"1\" class=\"dataframe\">\n",
              "  <thead>\n",
              "    <tr style=\"text-align: right;\">\n",
              "      <th></th>\n",
              "      <th>_id</th>\n",
              "      <th>pid</th>\n",
              "    </tr>\n",
              "  </thead>\n",
              "  <tbody>\n",
              "    <tr>\n",
              "      <th>0</th>\n",
              "      <td>645797a4004d072716dd4d8c</td>\n",
              "      <td>{'name': '_Gochar'}</td>\n",
              "    </tr>\n",
              "  </tbody>\n",
              "</table>\n",
              "</div>\n",
              "      <button class=\"colab-df-convert\" onclick=\"convertToInteractive('df-47e93652-221e-4f60-9a8e-10b26f38ae18')\"\n",
              "              title=\"Convert this dataframe to an interactive table.\"\n",
              "              style=\"display:none;\">\n",
              "        \n",
              "  <svg xmlns=\"http://www.w3.org/2000/svg\" height=\"24px\"viewBox=\"0 0 24 24\"\n",
              "       width=\"24px\">\n",
              "    <path d=\"M0 0h24v24H0V0z\" fill=\"none\"/>\n",
              "    <path d=\"M18.56 5.44l.94 2.06.94-2.06 2.06-.94-2.06-.94-.94-2.06-.94 2.06-2.06.94zm-11 1L8.5 8.5l.94-2.06 2.06-.94-2.06-.94L8.5 2.5l-.94 2.06-2.06.94zm10 10l.94 2.06.94-2.06 2.06-.94-2.06-.94-.94-2.06-.94 2.06-2.06.94z\"/><path d=\"M17.41 7.96l-1.37-1.37c-.4-.4-.92-.59-1.43-.59-.52 0-1.04.2-1.43.59L10.3 9.45l-7.72 7.72c-.78.78-.78 2.05 0 2.83L4 21.41c.39.39.9.59 1.41.59.51 0 1.02-.2 1.41-.59l7.78-7.78 2.81-2.81c.8-.78.8-2.07 0-2.86zM5.41 20L4 18.59l7.72-7.72 1.47 1.35L5.41 20z\"/>\n",
              "  </svg>\n",
              "      </button>\n",
              "      \n",
              "  <style>\n",
              "    .colab-df-container {\n",
              "      display:flex;\n",
              "      flex-wrap:wrap;\n",
              "      gap: 12px;\n",
              "    }\n",
              "\n",
              "    .colab-df-convert {\n",
              "      background-color: #E8F0FE;\n",
              "      border: none;\n",
              "      border-radius: 50%;\n",
              "      cursor: pointer;\n",
              "      display: none;\n",
              "      fill: #1967D2;\n",
              "      height: 32px;\n",
              "      padding: 0 0 0 0;\n",
              "      width: 32px;\n",
              "    }\n",
              "\n",
              "    .colab-df-convert:hover {\n",
              "      background-color: #E2EBFA;\n",
              "      box-shadow: 0px 1px 2px rgba(60, 64, 67, 0.3), 0px 1px 3px 1px rgba(60, 64, 67, 0.15);\n",
              "      fill: #174EA6;\n",
              "    }\n",
              "\n",
              "    [theme=dark] .colab-df-convert {\n",
              "      background-color: #3B4455;\n",
              "      fill: #D2E3FC;\n",
              "    }\n",
              "\n",
              "    [theme=dark] .colab-df-convert:hover {\n",
              "      background-color: #434B5C;\n",
              "      box-shadow: 0px 1px 3px 1px rgba(0, 0, 0, 0.15);\n",
              "      filter: drop-shadow(0px 1px 2px rgba(0, 0, 0, 0.3));\n",
              "      fill: #FFFFFF;\n",
              "    }\n",
              "  </style>\n",
              "\n",
              "      <script>\n",
              "        const buttonEl =\n",
              "          document.querySelector('#df-47e93652-221e-4f60-9a8e-10b26f38ae18 button.colab-df-convert');\n",
              "        buttonEl.style.display =\n",
              "          google.colab.kernel.accessAllowed ? 'block' : 'none';\n",
              "\n",
              "        async function convertToInteractive(key) {\n",
              "          const element = document.querySelector('#df-47e93652-221e-4f60-9a8e-10b26f38ae18');\n",
              "          const dataTable =\n",
              "            await google.colab.kernel.invokeFunction('convertToInteractive',\n",
              "                                                     [key], {});\n",
              "          if (!dataTable) return;\n",
              "\n",
              "          const docLinkHtml = 'Like what you see? Visit the ' +\n",
              "            '<a target=\"_blank\" href=https://colab.research.google.com/notebooks/data_table.ipynb>data table notebook</a>'\n",
              "            + ' to learn more about interactive tables.';\n",
              "          element.innerHTML = '';\n",
              "          dataTable['output_type'] = 'display_data';\n",
              "          await google.colab.output.renderOutput(dataTable, element);\n",
              "          const docLink = document.createElement('div');\n",
              "          docLink.innerHTML = docLinkHtml;\n",
              "          element.appendChild(docLink);\n",
              "        }\n",
              "      </script>\n",
              "    </div>\n",
              "  </div>\n",
              "  "
            ]
          },
          "metadata": {},
          "execution_count": 20
        }
      ]
    },
    {
      "cell_type": "code",
      "source": [
        "#\n",
        "# Download last Report File\n",
        "#\n",
        "files.download(ReportFile)"
      ],
      "metadata": {
        "id": "Rm8OtbSliPbO",
        "outputId": "a09bab1f-3d1c-434e-ec7b-b90d65630dce",
        "colab": {
          "base_uri": "https://localhost:8080/",
          "height": 17
        }
      },
      "execution_count": null,
      "outputs": [
        {
          "output_type": "display_data",
          "data": {
            "text/plain": [
              "<IPython.core.display.Javascript object>"
            ],
            "application/javascript": [
              "\n",
              "    async function download(id, filename, size) {\n",
              "      if (!google.colab.kernel.accessAllowed) {\n",
              "        return;\n",
              "      }\n",
              "      const div = document.createElement('div');\n",
              "      const label = document.createElement('label');\n",
              "      label.textContent = `Downloading \"${filename}\": `;\n",
              "      div.appendChild(label);\n",
              "      const progress = document.createElement('progress');\n",
              "      progress.max = size;\n",
              "      div.appendChild(progress);\n",
              "      document.body.appendChild(div);\n",
              "\n",
              "      const buffers = [];\n",
              "      let downloaded = 0;\n",
              "\n",
              "      const channel = await google.colab.kernel.comms.open(id);\n",
              "      // Send a message to notify the kernel that we're ready.\n",
              "      channel.send({})\n",
              "\n",
              "      for await (const message of channel.messages) {\n",
              "        // Send a message to notify the kernel that we're ready.\n",
              "        channel.send({})\n",
              "        if (message.buffers) {\n",
              "          for (const buffer of message.buffers) {\n",
              "            buffers.push(buffer);\n",
              "            downloaded += buffer.byteLength;\n",
              "            progress.value = downloaded;\n",
              "          }\n",
              "        }\n",
              "      }\n",
              "      const blob = new Blob(buffers, {type: 'application/binary'});\n",
              "      const a = document.createElement('a');\n",
              "      a.href = window.URL.createObjectURL(blob);\n",
              "      a.download = filename;\n",
              "      div.appendChild(a);\n",
              "      a.click();\n",
              "      div.remove();\n",
              "    }\n",
              "  "
            ]
          },
          "metadata": {}
        },
        {
          "output_type": "display_data",
          "data": {
            "text/plain": [
              "<IPython.core.display.Javascript object>"
            ],
            "application/javascript": [
              "download(\"download_374e5650-968b-4df8-9283-67187ed6bb85\", \"p21_Rekha_Ras_B_113129.doc\", 73997)"
            ]
          },
          "metadata": {}
        }
      ]
    },
    {
      "cell_type": "code",
      "source": [
        "!rm *.doc"
      ],
      "metadata": {
        "id": "IUBMuUzb-M2F"
      },
      "execution_count": null,
      "outputs": []
    }
  ]
}