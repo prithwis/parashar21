{
  "nbformat": 4,
  "nbformat_minor": 0,
  "metadata": {
    "colab": {
      "name": "P21_SinglePAC_V4",
      "private_outputs": true,
      "provenance": [],
      "toc_visible": true,
      "authorship_tag": "ABX9TyPMCSg8ZuFjxgErNumveMGA",
      "include_colab_link": true
    },
    "kernelspec": {
      "name": "python3",
      "display_name": "Python 3"
    },
    "language_info": {
      "name": "python"
    }
  },
  "cells": [
    {
      "cell_type": "markdown",
      "metadata": {
        "id": "view-in-github",
        "colab_type": "text"
      },
      "source": [
        "<a href=\"https://colab.research.google.com/github/prithwis/parashar21/blob/main/P21_SinglePAC_V4.ipynb\" target=\"_parent\"><img src=\"https://colab.research.google.com/assets/colab-badge.svg\" alt=\"Open In Colab\"/></a>"
      ]
    },
    {
      "cell_type": "markdown",
      "source": [
        "![alt text](http://1.bp.blogspot.com/_5QlanosqxiQ/SXLOLTu7S7I/AAAAAAAAAm8/0r6C7lCxsic/S1600-R/p21-header-003.png) <br>\n",
        "\n",
        "\n",
        "---\n",
        "\n",
        "\n",
        "![CC-BY-SA](https://licensebuttons.net/l/by-sa/3.0/88x31.png) ||\n",
        "[Prithwis Mukerjee](http://www.yantrajaal.com) ||\n",
        "Website - [Parashar21](https://parashar21.blogspot.com)<br>"
      ],
      "metadata": {
        "id": "T23sFFWCs4mk"
      }
    },
    {
      "cell_type": "markdown",
      "source": [
        "#Creating PAC document "
      ],
      "metadata": {
        "id": "suH-bzuxs_Ev"
      }
    },
    {
      "cell_type": "markdown",
      "source": [
        "##Retrieving Data from hosted MongoDB server"
      ],
      "metadata": {
        "id": "f6AkdHBXtEmj"
      }
    },
    {
      "cell_type": "code",
      "execution_count": null,
      "metadata": {
        "id": "T6tts1nBsuzX"
      },
      "outputs": [],
      "source": [
        "!apt install mongodb > /dev/null"
      ]
    },
    {
      "cell_type": "code",
      "source": [
        "from pymongo import MongoClient\n",
        "import pandas as pd\n",
        "import dateutil\n",
        "#import string_utils"
      ],
      "metadata": {
        "id": "EpJwlQYTtrgC"
      },
      "execution_count": null,
      "outputs": []
    },
    {
      "cell_type": "code",
      "source": [
        "from google.colab import drive\n",
        "drive.mount('/content/drive')"
      ],
      "metadata": {
        "id": "2Bs9SfgLtz06"
      },
      "execution_count": null,
      "outputs": []
    },
    {
      "cell_type": "code",
      "source": [
        "# copy credentials file\n",
        "#!ls /content/drive/'My Drive'/Praxis/WebCredentials\n",
        "!cp /content/drive/'My Drive'/Praxis/WebCredentials/clevercloudMongoDB.py credentials.py"
      ],
      "metadata": {
        "id": "HA6GIX_Jt9ce"
      },
      "execution_count": null,
      "outputs": []
    },
    {
      "cell_type": "code",
      "source": [
        "# credential file for Prithwis Mukerjee\n",
        "# this file needs to be uploaded into the VM\n",
        "\n",
        "from credentials import rhostName,ruserName,rpassWord,rdbName,rMongoURI\n",
        "\n",
        "#print(rhostName,ruserName,rdbName)\n",
        "print(rdbName)\n",
        "#print(rMongoURI)"
      ],
      "metadata": {
        "id": "Pf8zffsPuEMW"
      },
      "execution_count": null,
      "outputs": []
    },
    {
      "cell_type": "code",
      "source": [
        "mongoURI = rMongoURI                                   # for remote server\n",
        "#mongoURI = \"mongodb://localhost:27017/\"\n",
        "client = MongoClient(mongoURI)\n",
        "client.list_database_names() # ['admin', 'local']"
      ],
      "metadata": {
        "id": "wpjsqeMzuNyU"
      },
      "execution_count": null,
      "outputs": []
    },
    {
      "cell_type": "code",
      "source": [
        "# Show existing Collections\n",
        "db = client.btncgfi3a5bxyea\n",
        "#db.create_collection('p21Charts')       # Optional collection creation\n",
        "# Show Collections. Query returns a Cursor [ ] ,  list it to see the content\n",
        "list (db.list_collections())\n",
        "# empty list '[]' means that there are not collections in database"
      ],
      "metadata": {
        "id": "40jXtGb3uauv"
      },
      "execution_count": null,
      "outputs": []
    },
    {
      "cell_type": "code",
      "source": [
        "kollection = db.p21Charts                   # Set the collection to work with\n",
        "c = kollection.find()\n",
        "for crnt in c:\n",
        "    print(crnt)"
      ],
      "metadata": {
        "id": "EqDU79KeusA2"
      },
      "execution_count": null,
      "outputs": []
    },
    {
      "cell_type": "code",
      "source": [
        "kollection = db.p21Charts                   # Set the collection to work with\n",
        "c = kollection.find({},{\"name\" : 1,\"tags\":1,\"_id\":0})\n",
        "for crnt in c:\n",
        "    print(crnt)"
      ],
      "metadata": {
        "id": "oYWNe-lQveiZ"
      },
      "execution_count": null,
      "outputs": []
    },
    {
      "cell_type": "code",
      "source": [
        "pd.DataFrame(list(kollection.find({},{\"name\" : 1,\"tags\":1,\"_id\":0}).limit(10)))"
      ],
      "metadata": {
        "id": "hJDByrnRwW8i"
      },
      "execution_count": null,
      "outputs": []
    },
    {
      "cell_type": "code",
      "source": [
        "# select one chart for PAC analysis\n",
        "chart = pd.DataFrame(list(kollection.find({\"name\" : \"DdioMN\"})))\n",
        "chart"
      ],
      "metadata": {
        "id": "FfWsKTaxwsY7"
      },
      "execution_count": null,
      "outputs": []
    },
    {
      "cell_type": "code",
      "source": [
        "chart.at[0,'La']['lon'], chart.at[0,'La']['ret']"
      ],
      "metadata": {
        "id": "93ju1bOyx4oh"
      },
      "execution_count": null,
      "outputs": []
    }
  ]
}