{
  "nbformat": 4,
  "nbformat_minor": 0,
  "metadata": {
    "colab": {
      "provenance": [],
      "include_colab_link": true
    },
    "kernelspec": {
      "name": "python3",
      "display_name": "Python 3"
    },
    "language_info": {
      "name": "python"
    }
  },
  "cells": [
    {
      "cell_type": "markdown",
      "metadata": {
        "id": "view-in-github",
        "colab_type": "text"
      },
      "source": [
        "<a href=\"https://colab.research.google.com/github/prithwis/parashar21/blob/main/P21_45_06_SingleChart_Details.ipynb\" target=\"_parent\"><img src=\"https://colab.research.google.com/assets/colab-badge.svg\" alt=\"Open In Colab\"/></a>"
      ]
    },
    {
      "cell_type": "markdown",
      "source": [
        "![alt text](http://1.bp.blogspot.com/_5QlanosqxiQ/SXLOLTu7S7I/AAAAAAAAAm8/0r6C7lCxsic/S1600-R/p21-header-003.png) <br>\n",
        "\n",
        "\n",
        "---\n",
        "\n",
        "\n",
        "\n",
        "[Prithwis Mukerjee](http://www.yantrajaal.com) ||\n",
        "Website - [Parashar21](https://parashar21.blogspot.com)<br>"
      ],
      "metadata": {
        "id": "rj4jjIHTvPV8"
      }
    },
    {
      "cell_type": "markdown",
      "source": [
        "#Deprecated \n",
        "Please see later verion of this [Notebook](https://github.com/prithwis/parashar21/blob/main/P21_45_06_V2_SingleChart.ipynb)"
      ],
      "metadata": {
        "id": "FH-0RJYEIkwU"
      }
    },
    {
      "cell_type": "markdown",
      "source": [
        "Copyright (c) 2022, Prithwis Mukerjee All rights reserved.\n",
        "\n",
        "This source code is licensed under the GNU GPL v3.0 -style license found in the LICENSE file in the root directory of this source tree."
      ],
      "metadata": {
        "id": "9OzVEmHm1IaF"
      }
    },
    {
      "cell_type": "markdown",
      "source": [
        "#Rationale\n",
        "\n",
        "Why MongoDB here? <br> <br>\n",
        "\n",
        "The core 'engine' of Parashar21 is designed to cast horoscopes using the [Python](https://pypi.org/project/pyswisseph/) version of the [Swiss Ephemeris](https://www.astro.com/swisseph/) software, convert the data to JSON format and then store the same in a MongoDB database.<br> The Mongo query language was next used to filter out horoscopes that met certain criteria and then create human readable MS-Word documents for each selected horoscope. <br> <br>\n",
        "For full information about this project, please see the [Parashar21](https://prithwis.github.io/parashar21/) github page.\n"
      ],
      "metadata": {
        "id": "MKVBLfNMnXYE"
      }
    },
    {
      "cell_type": "markdown",
      "source": [
        "#SetUp Environment"
      ],
      "metadata": {
        "id": "l2v2nhRKvwJS"
      }
    },
    {
      "cell_type": "markdown",
      "source": [
        "##Install Software"
      ],
      "metadata": {
        "id": "djqyotVjO5TI"
      }
    },
    {
      "cell_type": "code",
      "source": [
        "!pip -qq install pyswisseph                                 # https://stackoverflow.com/questions/64277506/pip-install-options-unclear\n",
        "!pip -qq install python-docx                                #https://python-docx.readthedocs.io/en/latest/\n",
        "#!/usr/bin/python3 -m pip install \"pymongo[srv]\"            # Required only if used with Atlas remote servers\n",
        "!pip -qq install pymongo                                    # Required for Mongo client\n",
        "!apt install mongodb > /dev/null                            # install local MongoDB server           \n",
        "!service mongodb start                                      # start Local MongoDB server instance"
      ],
      "metadata": {
        "colab": {
          "base_uri": "https://localhost:8080/"
        },
        "id": "AWKFabc0v3FI",
        "outputId": "1b6f1d0e-e368-435c-89d4-8caca07f2149"
      },
      "execution_count": null,
      "outputs": [
        {
          "output_type": "stream",
          "name": "stdout",
          "text": [
            "\u001b[?25l     \u001b[90m━━━━━━━━━━━━━━━━━━━━━━━━━━━━━━━━━━━━━━━━\u001b[0m \u001b[32m0.0/3.0 MB\u001b[0m \u001b[31m?\u001b[0m eta \u001b[36m-:--:--\u001b[0m\r\u001b[2K     \u001b[91m━━━━━━━━━━━━━━━━━━━━━━━━━━━━━━━━━\u001b[0m\u001b[91m╸\u001b[0m\u001b[90m━━━━━━\u001b[0m \u001b[32m2.5/3.0 MB\u001b[0m \u001b[31m74.8 MB/s\u001b[0m eta \u001b[36m0:00:01\u001b[0m\r\u001b[2K     \u001b[91m━━━━━━━━━━━━━━━━━━━━━━━━━━━━━━━━━━━━━━━\u001b[0m\u001b[91m╸\u001b[0m \u001b[32m3.0/3.0 MB\u001b[0m \u001b[31m73.4 MB/s\u001b[0m eta \u001b[36m0:00:01\u001b[0m\r\u001b[2K     \u001b[90m━━━━━━━━━━━━━━━━━━━━━━━━━━━━━━━━━━━━━━━━\u001b[0m \u001b[32m3.0/3.0 MB\u001b[0m \u001b[31m30.9 MB/s\u001b[0m eta \u001b[36m0:00:00\u001b[0m\n",
            "\u001b[?25h  Preparing metadata (setup.py) ... \u001b[?25l\u001b[?25hdone\n",
            "  Building wheel for pyswisseph (setup.py) ... \u001b[?25l\u001b[?25hdone\n",
            "\u001b[2K     \u001b[90m━━━━━━━━━━━━━━━━━━━━━━━━━━━━━━━━━━━━━━━━\u001b[0m \u001b[32m5.6/5.6 MB\u001b[0m \u001b[31m70.9 MB/s\u001b[0m eta \u001b[36m0:00:00\u001b[0m\n",
            "\u001b[?25h  Preparing metadata (setup.py) ... \u001b[?25l\u001b[?25hdone\n",
            "  Building wheel for python-docx (setup.py) ... \u001b[?25l\u001b[?25hdone\n",
            "\u001b[2K     \u001b[90m━━━━━━━━━━━━━━━━━━━━━━━━━━━━━━━━━━━━━━\u001b[0m \u001b[32m492.9/492.9 kB\u001b[0m \u001b[31m19.4 MB/s\u001b[0m eta \u001b[36m0:00:00\u001b[0m\n",
            "\u001b[2K     \u001b[90m━━━━━━━━━━━━━━━━━━━━━━━━━━━━━━━━━━━━━━\u001b[0m \u001b[32m283.7/283.7 kB\u001b[0m \u001b[31m29.0 MB/s\u001b[0m eta \u001b[36m0:00:00\u001b[0m\n",
            "\u001b[?25h\n",
            "WARNING: apt does not have a stable CLI interface. Use with caution in scripts.\n",
            "\n",
            " * Starting database mongodb\n",
            "   ...done.\n"
          ]
        }
      ]
    },
    {
      "cell_type": "markdown",
      "source": [
        "##Install, import prerequisites"
      ],
      "metadata": {
        "id": "Vml3UdnbOAlO"
      }
    },
    {
      "cell_type": "code",
      "source": [
        "#Utility functions \n",
        "from pymongo import MongoClient\n",
        "import pandas as pd\n",
        "import dateutil\n",
        "import json\n",
        "from docx import Document\n",
        "from docx.shared import Inches\n",
        "from docx.enum.text import WD_ALIGN_PARAGRAPH\n",
        "from datetime import datetime\n",
        "from datetime import timedelta\n",
        "import pytz\n",
        "from google.colab import files\n",
        "\n",
        "#import matplotlib.pyplot as plt\n",
        "#import math\n"
      ],
      "metadata": {
        "id": "tsCga6c8pLvM"
      },
      "execution_count": null,
      "outputs": []
    },
    {
      "cell_type": "code",
      "source": [
        "#Load p21 modules from github\n",
        "!wget -O p21.py -q https://raw.githubusercontent.com/prithwis/parashar21/main/utils/p21.py                  # all global variables\n",
        "!wget -O p21utils.py -q https://raw.githubusercontent.com/prithwis/parashar21/main/utils/p21utils.py        # large number of utility functions\n",
        "!wget -O p21utilsR.py -q https://raw.githubusercontent.com/prithwis/parashar21/main/utils/p21utilsR.py      # report writing utility functions\n",
        "!wget -O p21swe.py -q https://raw.githubusercontent.com/prithwis/parashar21/main/utils/p21swe.py            # Swiss Ephemeris functions\n",
        "!wget -O p21YogInfo.py -q https://raw.githubusercontent.com/prithwis/parashar21/main/utils/p21YogInfo.py    # yog data - description and conditions \n",
        "# ---------------------------\n",
        "\n",
        "#!wget -O Saraswati.png -q https://github.com/prithwis/parashar21/raw/main/images/Saraswati02.png                 \n",
        "#!wget -O p21logo.png -q https://github.com/prithwis/parashar21/raw/main/images/p21logo-002-1.png   \n",
        "\n"
      ],
      "metadata": {
        "id": "uwAT_IbvB0A-"
      },
      "execution_count": null,
      "outputs": []
    },
    {
      "cell_type": "code",
      "source": [
        "import p21\n",
        "import p21utils\n",
        "import p21utilsR\n",
        "import p21swe\n",
        "import p21YogInfo\n",
        "# ------------------------------------------------\n",
        "# required for multiple imports of the same module\n",
        "# ------------------------------------------------\n",
        "import importlib\n",
        "importlib.reload(p21)\n",
        "importlib.reload(p21utils)\n",
        "importlib.reload(p21utilsR)\n",
        "importlib.reload(p21swe)\n",
        "importlib.reload(p21YogInfo)"
      ],
      "metadata": {
        "id": "7Np3o1Nn0zrX",
        "outputId": "cf39c6d6-b7cd-48dd-df22-d6b3d910c794",
        "colab": {
          "base_uri": "https://localhost:8080/"
        }
      },
      "execution_count": null,
      "outputs": [
        {
          "output_type": "stream",
          "name": "stdout",
          "text": [
            "10 Yogs on record\n",
            "0 : Amala Yog | 10th from Moon OR Lagna should have a benefic\n",
            "1 : RajLakshana Yog | Jupiter, Venus, Mercury, Moon should be in Lagna or they should be in a Kendra\n",
            "2 : Chatussagara Yog | All the Kendras 1/4/7/10 are occupied by planets, Ra, Ke not counted here\n",
            "3 : Adhi678 Yog | Benefics located in 6/7/8th  from Moon\n",
            "4 : Chandra Mangal Yog | Mars Conjoins Moon or  Mars and Moon in Mutual Aspect\n",
            "5 : Kemadruma Yog : No planets on either sides of the Moon\n",
            "6 : Anapha Yog |Planets other than Sun in 12th Place from Moon\n",
            "7 : Sunapha Yog |Planets other than Sun in 2nd Place from Moon\n",
            "8 : Dhurdhura Yog | Planets on both sides of the Moon\n",
            "9 : Gajakesari Yog | Jupiter is in Kendra or 1,4,7,10th from Moon\n",
            "10 Yogs on record\n",
            "0 : Amala Yog | 10th from Moon OR Lagna should have a benefic\n",
            "1 : RajLakshana Yog | Jupiter, Venus, Mercury, Moon should be in Lagna or they should be in a Kendra\n",
            "2 : Chatussagara Yog | All the Kendras 1/4/7/10 are occupied by planets, Ra, Ke not counted here\n",
            "3 : Adhi678 Yog | Benefics located in 6/7/8th  from Moon\n",
            "4 : Chandra Mangal Yog | Mars Conjoins Moon or  Mars and Moon in Mutual Aspect\n",
            "5 : Kemadruma Yog : No planets on either sides of the Moon\n",
            "6 : Anapha Yog |Planets other than Sun in 12th Place from Moon\n",
            "7 : Sunapha Yog |Planets other than Sun in 2nd Place from Moon\n",
            "8 : Dhurdhura Yog | Planets on both sides of the Moon\n",
            "9 : Gajakesari Yog | Jupiter is in Kendra or 1,4,7,10th from Moon\n"
          ]
        },
        {
          "output_type": "execute_result",
          "data": {
            "text/plain": [
              "<module 'p21YogInfo' from '/content/p21YogInfo.py'>"
            ]
          },
          "metadata": {},
          "execution_count": 4
        }
      ]
    },
    {
      "cell_type": "code",
      "source": [
        "#Download Swiss Ephemeris Files \n",
        "!wget -q http://www.astro.com/ftp/swisseph/ephe/seas_18.se1\n",
        "!wget -q http://www.astro.com/ftp/swisseph/ephe/semo_18.se1\n",
        "!wget -q http://www.astro.com/ftp/swisseph/ephe/sepl_18.se1\n",
        "!mkdir ephe\n",
        "!mv *.se1 ephe\n",
        "#------------------------------\n",
        "# Configure SWE with appropriate parameters\n",
        "#\n",
        "p21swe.C01_configSWE()"
      ],
      "metadata": {
        "id": "kMKlXoDGH8XP"
      },
      "execution_count": null,
      "outputs": []
    },
    {
      "cell_type": "markdown",
      "source": [
        "#Local Mongo\n",
        "\n",
        "We use a locally installed, temporary MongoDB to store and process the data\n"
      ],
      "metadata": {
        "id": "937sm5u0g4r_"
      }
    },
    {
      "cell_type": "markdown",
      "source": [
        "## Natal Data used to cast horscopes\n",
        "Data for others can be added by adding an extra line in the cell below. Please follow the same pattern as in the other lines\n"
      ],
      "metadata": {
        "id": "ttRyzy7b9D3t"
      }
    },
    {
      "cell_type": "code",
      "source": [
        "%%writefile peopleData.csv\n",
        "Gender,DoB_Day,DoB_Mon,DoB_Year,DoB_Time,TZ_OffHours,PoB_Lat,PoB_Lon,TZ_Name,TZ_Type,Name,tag1,tag2,tag3,tag4,tag5,tag6\n",
        "M,17,9,1950,23:11,5.5,23.48,72.36,IST,standard,NDModi,Politician,nil,Administrator,nil,nil,nil\n",
        "F,10,10,1954,11:00,5.5,13.08,80.27,IST,standard,Rekha,Actor,nil,Dancer,nil,nil,nil\n",
        "M,15,10,1931,1:15,5.5,9.29,79.31,IST,standard,APJAbdulKalam,Engineer,nil,PublicFigure,nil,nil,nil\n",
        "F,19,11,1917,23:11,5.5,25.43,81.85,IST,standard,IndiraG,Politician,nil,PublicFigure,nil,nil,nil"
      ],
      "metadata": {
        "id": "awh7a1KSTZci",
        "outputId": "adec92ea-f2ec-4554-8a19-02af6b880c2c",
        "colab": {
          "base_uri": "https://localhost:8080/"
        }
      },
      "execution_count": null,
      "outputs": [
        {
          "output_type": "stream",
          "name": "stdout",
          "text": [
            "Overwriting peopleData.csv\n"
          ]
        }
      ]
    },
    {
      "cell_type": "code",
      "source": [
        "#Read Birth Data from a file\n",
        "#!wget -O peopleData.csv -q https://raw.githubusercontent.com/prithwis/parashar21/main/data/Test5Data.txt # 5 Person Test Data\n"
      ],
      "metadata": {
        "id": "bwyM7vzn9eEr"
      },
      "execution_count": null,
      "outputs": []
    },
    {
      "cell_type": "code",
      "source": [
        "# \n",
        "# Load CSV data into Pandas dataframe\n",
        "#\n",
        "df = pd.read_csv('peopleData.csv')\n",
        "df.head()"
      ],
      "metadata": {
        "id": "J_sc1xZ9zei9",
        "colab": {
          "base_uri": "https://localhost:8080/",
          "height": 239
        },
        "outputId": "0fd746a5-6c20-4859-cbe4-99e59e342a4a"
      },
      "execution_count": null,
      "outputs": [
        {
          "output_type": "execute_result",
          "data": {
            "text/plain": [
              "  Gender  DoB_Day  DoB_Mon  DoB_Year DoB_Time  TZ_OffHours  PoB_Lat  PoB_Lon  \\\n",
              "0      M       17        9      1950    23:11          5.5    23.48    72.36   \n",
              "1      F       10       10      1954    11:00          5.5    13.08    80.27   \n",
              "2      M       15       10      1931     1:15          5.5     9.29    79.31   \n",
              "3      F       19       11      1917    23:11          5.5    25.43    81.85   \n",
              "\n",
              "  TZ_Name   TZ_Type           Name        tag1 tag2           tag3 tag4 tag5  \\\n",
              "0     IST  standard         NDModi  Politician  nil  Administrator  nil  nil   \n",
              "1     IST  standard          Rekha       Actor  nil         Dancer  nil  nil   \n",
              "2     IST  standard  APJAbdulKalam    Engineer  nil   PublicFigure  nil  nil   \n",
              "3     IST  standard        IndiraG  Politician  nil   PublicFigure  nil  nil   \n",
              "\n",
              "  tag6  \n",
              "0  nil  \n",
              "1  nil  \n",
              "2  nil  \n",
              "3  nil  "
            ],
            "text/html": [
              "\n",
              "  <div id=\"df-5d71f636-5916-4b73-a71e-2dc9721c40e6\">\n",
              "    <div class=\"colab-df-container\">\n",
              "      <div>\n",
              "<style scoped>\n",
              "    .dataframe tbody tr th:only-of-type {\n",
              "        vertical-align: middle;\n",
              "    }\n",
              "\n",
              "    .dataframe tbody tr th {\n",
              "        vertical-align: top;\n",
              "    }\n",
              "\n",
              "    .dataframe thead th {\n",
              "        text-align: right;\n",
              "    }\n",
              "</style>\n",
              "<table border=\"1\" class=\"dataframe\">\n",
              "  <thead>\n",
              "    <tr style=\"text-align: right;\">\n",
              "      <th></th>\n",
              "      <th>Gender</th>\n",
              "      <th>DoB_Day</th>\n",
              "      <th>DoB_Mon</th>\n",
              "      <th>DoB_Year</th>\n",
              "      <th>DoB_Time</th>\n",
              "      <th>TZ_OffHours</th>\n",
              "      <th>PoB_Lat</th>\n",
              "      <th>PoB_Lon</th>\n",
              "      <th>TZ_Name</th>\n",
              "      <th>TZ_Type</th>\n",
              "      <th>Name</th>\n",
              "      <th>tag1</th>\n",
              "      <th>tag2</th>\n",
              "      <th>tag3</th>\n",
              "      <th>tag4</th>\n",
              "      <th>tag5</th>\n",
              "      <th>tag6</th>\n",
              "    </tr>\n",
              "  </thead>\n",
              "  <tbody>\n",
              "    <tr>\n",
              "      <th>0</th>\n",
              "      <td>M</td>\n",
              "      <td>17</td>\n",
              "      <td>9</td>\n",
              "      <td>1950</td>\n",
              "      <td>23:11</td>\n",
              "      <td>5.5</td>\n",
              "      <td>23.48</td>\n",
              "      <td>72.36</td>\n",
              "      <td>IST</td>\n",
              "      <td>standard</td>\n",
              "      <td>NDModi</td>\n",
              "      <td>Politician</td>\n",
              "      <td>nil</td>\n",
              "      <td>Administrator</td>\n",
              "      <td>nil</td>\n",
              "      <td>nil</td>\n",
              "      <td>nil</td>\n",
              "    </tr>\n",
              "    <tr>\n",
              "      <th>1</th>\n",
              "      <td>F</td>\n",
              "      <td>10</td>\n",
              "      <td>10</td>\n",
              "      <td>1954</td>\n",
              "      <td>11:00</td>\n",
              "      <td>5.5</td>\n",
              "      <td>13.08</td>\n",
              "      <td>80.27</td>\n",
              "      <td>IST</td>\n",
              "      <td>standard</td>\n",
              "      <td>Rekha</td>\n",
              "      <td>Actor</td>\n",
              "      <td>nil</td>\n",
              "      <td>Dancer</td>\n",
              "      <td>nil</td>\n",
              "      <td>nil</td>\n",
              "      <td>nil</td>\n",
              "    </tr>\n",
              "    <tr>\n",
              "      <th>2</th>\n",
              "      <td>M</td>\n",
              "      <td>15</td>\n",
              "      <td>10</td>\n",
              "      <td>1931</td>\n",
              "      <td>1:15</td>\n",
              "      <td>5.5</td>\n",
              "      <td>9.29</td>\n",
              "      <td>79.31</td>\n",
              "      <td>IST</td>\n",
              "      <td>standard</td>\n",
              "      <td>APJAbdulKalam</td>\n",
              "      <td>Engineer</td>\n",
              "      <td>nil</td>\n",
              "      <td>PublicFigure</td>\n",
              "      <td>nil</td>\n",
              "      <td>nil</td>\n",
              "      <td>nil</td>\n",
              "    </tr>\n",
              "    <tr>\n",
              "      <th>3</th>\n",
              "      <td>F</td>\n",
              "      <td>19</td>\n",
              "      <td>11</td>\n",
              "      <td>1917</td>\n",
              "      <td>23:11</td>\n",
              "      <td>5.5</td>\n",
              "      <td>25.43</td>\n",
              "      <td>81.85</td>\n",
              "      <td>IST</td>\n",
              "      <td>standard</td>\n",
              "      <td>IndiraG</td>\n",
              "      <td>Politician</td>\n",
              "      <td>nil</td>\n",
              "      <td>PublicFigure</td>\n",
              "      <td>nil</td>\n",
              "      <td>nil</td>\n",
              "      <td>nil</td>\n",
              "    </tr>\n",
              "  </tbody>\n",
              "</table>\n",
              "</div>\n",
              "      <button class=\"colab-df-convert\" onclick=\"convertToInteractive('df-5d71f636-5916-4b73-a71e-2dc9721c40e6')\"\n",
              "              title=\"Convert this dataframe to an interactive table.\"\n",
              "              style=\"display:none;\">\n",
              "        \n",
              "  <svg xmlns=\"http://www.w3.org/2000/svg\" height=\"24px\"viewBox=\"0 0 24 24\"\n",
              "       width=\"24px\">\n",
              "    <path d=\"M0 0h24v24H0V0z\" fill=\"none\"/>\n",
              "    <path d=\"M18.56 5.44l.94 2.06.94-2.06 2.06-.94-2.06-.94-.94-2.06-.94 2.06-2.06.94zm-11 1L8.5 8.5l.94-2.06 2.06-.94-2.06-.94L8.5 2.5l-.94 2.06-2.06.94zm10 10l.94 2.06.94-2.06 2.06-.94-2.06-.94-.94-2.06-.94 2.06-2.06.94z\"/><path d=\"M17.41 7.96l-1.37-1.37c-.4-.4-.92-.59-1.43-.59-.52 0-1.04.2-1.43.59L10.3 9.45l-7.72 7.72c-.78.78-.78 2.05 0 2.83L4 21.41c.39.39.9.59 1.41.59.51 0 1.02-.2 1.41-.59l7.78-7.78 2.81-2.81c.8-.78.8-2.07 0-2.86zM5.41 20L4 18.59l7.72-7.72 1.47 1.35L5.41 20z\"/>\n",
              "  </svg>\n",
              "      </button>\n",
              "      \n",
              "  <style>\n",
              "    .colab-df-container {\n",
              "      display:flex;\n",
              "      flex-wrap:wrap;\n",
              "      gap: 12px;\n",
              "    }\n",
              "\n",
              "    .colab-df-convert {\n",
              "      background-color: #E8F0FE;\n",
              "      border: none;\n",
              "      border-radius: 50%;\n",
              "      cursor: pointer;\n",
              "      display: none;\n",
              "      fill: #1967D2;\n",
              "      height: 32px;\n",
              "      padding: 0 0 0 0;\n",
              "      width: 32px;\n",
              "    }\n",
              "\n",
              "    .colab-df-convert:hover {\n",
              "      background-color: #E2EBFA;\n",
              "      box-shadow: 0px 1px 2px rgba(60, 64, 67, 0.3), 0px 1px 3px 1px rgba(60, 64, 67, 0.15);\n",
              "      fill: #174EA6;\n",
              "    }\n",
              "\n",
              "    [theme=dark] .colab-df-convert {\n",
              "      background-color: #3B4455;\n",
              "      fill: #D2E3FC;\n",
              "    }\n",
              "\n",
              "    [theme=dark] .colab-df-convert:hover {\n",
              "      background-color: #434B5C;\n",
              "      box-shadow: 0px 1px 3px 1px rgba(0, 0, 0, 0.15);\n",
              "      filter: drop-shadow(0px 1px 2px rgba(0, 0, 0, 0.3));\n",
              "      fill: #FFFFFF;\n",
              "    }\n",
              "  </style>\n",
              "\n",
              "      <script>\n",
              "        const buttonEl =\n",
              "          document.querySelector('#df-5d71f636-5916-4b73-a71e-2dc9721c40e6 button.colab-df-convert');\n",
              "        buttonEl.style.display =\n",
              "          google.colab.kernel.accessAllowed ? 'block' : 'none';\n",
              "\n",
              "        async function convertToInteractive(key) {\n",
              "          const element = document.querySelector('#df-5d71f636-5916-4b73-a71e-2dc9721c40e6');\n",
              "          const dataTable =\n",
              "            await google.colab.kernel.invokeFunction('convertToInteractive',\n",
              "                                                     [key], {});\n",
              "          if (!dataTable) return;\n",
              "\n",
              "          const docLinkHtml = 'Like what you see? Visit the ' +\n",
              "            '<a target=\"_blank\" href=https://colab.research.google.com/notebooks/data_table.ipynb>data table notebook</a>'\n",
              "            + ' to learn more about interactive tables.';\n",
              "          element.innerHTML = '';\n",
              "          dataTable['output_type'] = 'display_data';\n",
              "          await google.colab.output.renderOutput(dataTable, element);\n",
              "          const docLink = document.createElement('div');\n",
              "          docLink.innerHTML = docLinkHtml;\n",
              "          element.appendChild(docLink);\n",
              "        }\n",
              "      </script>\n",
              "    </div>\n",
              "  </div>\n",
              "  "
            ]
          },
          "metadata": {},
          "execution_count": 20
        }
      ]
    },
    {
      "cell_type": "code",
      "source": [
        "#%%time\n",
        "\n",
        "p21.AnalysisType = 'Rashi'                                     # one of ['Rashi','Navamsa']\n",
        "#p21.AnalysisType = 'Navamsa'                                    # one of ['Rashi','Navamsa']\n",
        "p21.ChartType = p21.AnalysisType\n",
        "# \n",
        "# ------------------------------------------------------------\n",
        "# Converts date/time info into a detailed horoscope chart \n",
        "# Stores the same in a JSON file, to be inserted into a local MongoDB database\n",
        "# \n",
        "p21swe.C61_Cast2JSON(df)"
      ],
      "metadata": {
        "id": "Zrrs_eHOOYpl",
        "outputId": "535786f8-7753-4322-8a11-fbd183c972a8",
        "colab": {
          "base_uri": "https://localhost:8080/"
        }
      },
      "execution_count": null,
      "outputs": [
        {
          "output_type": "stream",
          "name": "stdout",
          "text": [
            "1 records processed, so far\n",
            "5  records generated and stored in file peopleData.json\n"
          ]
        }
      ]
    },
    {
      "cell_type": "markdown",
      "source": [
        "##Load the SINGLE chart into the local MongoDB"
      ],
      "metadata": {
        "id": "UfrvUFYmNGzX"
      }
    },
    {
      "cell_type": "code",
      "source": [
        "mongoURI = \"mongodb://localhost:27017/\"                               # for local server\n",
        "client = MongoClient(mongoURI)\n",
        "db = client.parashar21\n",
        "#pd.DataFrame(list(db.list_collections()))\n",
        "\n",
        "!mongoimport --db parashar21 --collection khona21 --drop --file peopleData.json\n",
        "\n",
        "p21.kollection = db.khona21                   # Set the collection to work with\n",
        "#kollection = db.khona21                   # Set the collection to work with\n",
        "totalCharts = p21.kollection.count_documents({})\n",
        "dbSize = db.command( {\"dbStats\": 1, \"scale\": 1024 } )['dataSize']\n",
        "print(totalCharts, ' documents,',round(dbSize,2), \" KB data\")"
      ],
      "metadata": {
        "id": "MWa5_VrULC5s",
        "outputId": "add7bf14-2339-4e78-af67-6e67f9d86638",
        "colab": {
          "base_uri": "https://localhost:8080/"
        }
      },
      "execution_count": null,
      "outputs": [
        {
          "output_type": "stream",
          "name": "stdout",
          "text": [
            "2023-04-30T11:06:54.547+0000\tconnected to: localhost\n",
            "2023-04-30T11:06:54.547+0000\tdropping: parashar21.khona21\n",
            "2023-04-30T11:06:54.578+0000\timported 5 documents\n",
            "5  documents, 18.78  KB data\n"
          ]
        }
      ]
    },
    {
      "cell_type": "markdown",
      "source": [
        "#Report Generation Function\n",
        "Please note that the generated report MS Office doc format **will be stored in the Colab VM drive** and needs to be downloaded to local machine for viewing"
      ],
      "metadata": {
        "id": "LMA40MOq1jse"
      }
    },
    {
      "cell_type": "code",
      "source": [
        "def genChart(ChartStyle):\n",
        "      \n",
        "    chartData = chart.iloc[0]\n",
        "    RepID = chart.iloc[0]['pid']['name']+'_'+p21.AnalysisType[0:3]+'_'+ChartStyle[0:1]\n",
        "    now = datetime.now(pytz.timezone('Asia/Kolkata'))\n",
        "    fileName = 'p21_'+RepID+'_'+now.strftime(\"%H%M%S\")+'.doc'\n",
        "\n",
        "    #print(chartData)\n",
        "    # ---------------------------------------------------------\n",
        "    p21utilsR.R01_CreateReportDoc(None,None,'SingleChart')        # Creates MS Word Doc called p21.document for Single or MULTIPLE charts\n",
        "    #p21utilsR.R01A_CreateReportDoc(RepID)                           # Creates MS Word Doc called p21.document for SINGLE chart\n",
        "    # ----------------------------------------------------------\n",
        "    \n",
        "    p21utilsR.R511_parseChartData(chartData)                # Break up database data into useful pieces\n",
        "                                                            # Creates two primary dicts, GLon, GRet\n",
        "    p21utilsR.R30_LocateYogs()\n",
        "    \n",
        "    #print(p21.beneficG)\n",
        "    for ctype in ['Rashi','Navamsa']:\n",
        "        p21.ChartType = ctype\n",
        "        p21utils.R11_LocateGrahaInRashi()   # Converts Graha Long to Rashi positions\n",
        "                                            # Rashi Num as well as Rashi name\n",
        "        if ChartStyle == 'Bengal':\n",
        "            p21utilsR.R12B_drawChart_Bengal()    # Draw Chart in Bengal style\n",
        "        if ChartStyle == 'South':\n",
        "            p21utilsR.R12B_drawChart_South()    # Draw Chart in South style\n",
        "        if ChartStyle == 'North':\n",
        "            p21utilsR.R12B_drawChart_North()    # Draw Chart in North style\n",
        "        \n",
        "    \n",
        "    p21utilsR.R512_FormatPage('SingleChart')                  # this is where the details of the chart are printed out\n",
        "    \n",
        "    # ------------------------------------\n",
        "    p21.document.save(fileName)\n",
        "    return fileName\n",
        "    \n",
        "print(\"Executed at \", datetime.now(pytz.timezone('Asia/Kolkata')))"
      ],
      "metadata": {
        "id": "nf7XU_5nZ1rq",
        "outputId": "d9268e71-2f68-4a9e-85ac-ad7c02d04bd0",
        "colab": {
          "base_uri": "https://localhost:8080/"
        }
      },
      "execution_count": null,
      "outputs": [
        {
          "output_type": "stream",
          "name": "stdout",
          "text": [
            "Executed at  2023-04-30 16:37:02.488830+05:30\n"
          ]
        }
      ]
    },
    {
      "cell_type": "markdown",
      "source": [
        "#Retrieve Charts \n",
        "Reports will be available as DOC files in the VM drive <br>\n",
        "Please specify style of report, 'Bengal', 'North' or 'South' while calling the report generation routine <br>\n"
      ],
      "metadata": {
        "id": "nej02gxiwUcV"
      }
    },
    {
      "cell_type": "markdown",
      "source": [
        "## Retrieve, Display and Analyse the SingleChart chart"
      ],
      "metadata": {
        "id": "jKGdhKgjNnri"
      }
    },
    {
      "cell_type": "code",
      "source": [
        "#\n",
        "#Get List of Persons whose charts are found in the database\n",
        "#\n",
        "selCond = {}                                              # All Charts\n",
        "#pd.DataFrame(list(p21.kollection.find(selCond,p21.selCols)))\n",
        "pd.DataFrame(list(p21.kollection.find(selCond,{'pid.name':1,'_id':0})))\n",
        "#pd.DataFrame(list(p21.kollection.find(selCond,p21.selCols)))\n"
      ],
      "metadata": {
        "id": "RevVlQkqjTua",
        "outputId": "4f041851-62cb-4dce-900b-d36b4a9fbfc1",
        "colab": {
          "base_uri": "https://localhost:8080/",
          "height": 206
        }
      },
      "execution_count": null,
      "outputs": [
        {
          "output_type": "execute_result",
          "data": {
            "text/plain": [
              "                  pid\n",
              "0     {'name': 'Ram'}\n",
              "1   {'name': 'Shyam'}\n",
              "2    {'name': 'Jadu'}\n",
              "3   {'name': 'Madhu'}\n",
              "4  {'name': 'NDModi'}"
            ],
            "text/html": [
              "\n",
              "  <div id=\"df-dcdb59f9-2197-411e-bd47-d239730f43c0\">\n",
              "    <div class=\"colab-df-container\">\n",
              "      <div>\n",
              "<style scoped>\n",
              "    .dataframe tbody tr th:only-of-type {\n",
              "        vertical-align: middle;\n",
              "    }\n",
              "\n",
              "    .dataframe tbody tr th {\n",
              "        vertical-align: top;\n",
              "    }\n",
              "\n",
              "    .dataframe thead th {\n",
              "        text-align: right;\n",
              "    }\n",
              "</style>\n",
              "<table border=\"1\" class=\"dataframe\">\n",
              "  <thead>\n",
              "    <tr style=\"text-align: right;\">\n",
              "      <th></th>\n",
              "      <th>pid</th>\n",
              "    </tr>\n",
              "  </thead>\n",
              "  <tbody>\n",
              "    <tr>\n",
              "      <th>0</th>\n",
              "      <td>{'name': 'Ram'}</td>\n",
              "    </tr>\n",
              "    <tr>\n",
              "      <th>1</th>\n",
              "      <td>{'name': 'Shyam'}</td>\n",
              "    </tr>\n",
              "    <tr>\n",
              "      <th>2</th>\n",
              "      <td>{'name': 'Jadu'}</td>\n",
              "    </tr>\n",
              "    <tr>\n",
              "      <th>3</th>\n",
              "      <td>{'name': 'Madhu'}</td>\n",
              "    </tr>\n",
              "    <tr>\n",
              "      <th>4</th>\n",
              "      <td>{'name': 'NDModi'}</td>\n",
              "    </tr>\n",
              "  </tbody>\n",
              "</table>\n",
              "</div>\n",
              "      <button class=\"colab-df-convert\" onclick=\"convertToInteractive('df-dcdb59f9-2197-411e-bd47-d239730f43c0')\"\n",
              "              title=\"Convert this dataframe to an interactive table.\"\n",
              "              style=\"display:none;\">\n",
              "        \n",
              "  <svg xmlns=\"http://www.w3.org/2000/svg\" height=\"24px\"viewBox=\"0 0 24 24\"\n",
              "       width=\"24px\">\n",
              "    <path d=\"M0 0h24v24H0V0z\" fill=\"none\"/>\n",
              "    <path d=\"M18.56 5.44l.94 2.06.94-2.06 2.06-.94-2.06-.94-.94-2.06-.94 2.06-2.06.94zm-11 1L8.5 8.5l.94-2.06 2.06-.94-2.06-.94L8.5 2.5l-.94 2.06-2.06.94zm10 10l.94 2.06.94-2.06 2.06-.94-2.06-.94-.94-2.06-.94 2.06-2.06.94z\"/><path d=\"M17.41 7.96l-1.37-1.37c-.4-.4-.92-.59-1.43-.59-.52 0-1.04.2-1.43.59L10.3 9.45l-7.72 7.72c-.78.78-.78 2.05 0 2.83L4 21.41c.39.39.9.59 1.41.59.51 0 1.02-.2 1.41-.59l7.78-7.78 2.81-2.81c.8-.78.8-2.07 0-2.86zM5.41 20L4 18.59l7.72-7.72 1.47 1.35L5.41 20z\"/>\n",
              "  </svg>\n",
              "      </button>\n",
              "      \n",
              "  <style>\n",
              "    .colab-df-container {\n",
              "      display:flex;\n",
              "      flex-wrap:wrap;\n",
              "      gap: 12px;\n",
              "    }\n",
              "\n",
              "    .colab-df-convert {\n",
              "      background-color: #E8F0FE;\n",
              "      border: none;\n",
              "      border-radius: 50%;\n",
              "      cursor: pointer;\n",
              "      display: none;\n",
              "      fill: #1967D2;\n",
              "      height: 32px;\n",
              "      padding: 0 0 0 0;\n",
              "      width: 32px;\n",
              "    }\n",
              "\n",
              "    .colab-df-convert:hover {\n",
              "      background-color: #E2EBFA;\n",
              "      box-shadow: 0px 1px 2px rgba(60, 64, 67, 0.3), 0px 1px 3px 1px rgba(60, 64, 67, 0.15);\n",
              "      fill: #174EA6;\n",
              "    }\n",
              "\n",
              "    [theme=dark] .colab-df-convert {\n",
              "      background-color: #3B4455;\n",
              "      fill: #D2E3FC;\n",
              "    }\n",
              "\n",
              "    [theme=dark] .colab-df-convert:hover {\n",
              "      background-color: #434B5C;\n",
              "      box-shadow: 0px 1px 3px 1px rgba(0, 0, 0, 0.15);\n",
              "      filter: drop-shadow(0px 1px 2px rgba(0, 0, 0, 0.3));\n",
              "      fill: #FFFFFF;\n",
              "    }\n",
              "  </style>\n",
              "\n",
              "      <script>\n",
              "        const buttonEl =\n",
              "          document.querySelector('#df-dcdb59f9-2197-411e-bd47-d239730f43c0 button.colab-df-convert');\n",
              "        buttonEl.style.display =\n",
              "          google.colab.kernel.accessAllowed ? 'block' : 'none';\n",
              "\n",
              "        async function convertToInteractive(key) {\n",
              "          const element = document.querySelector('#df-dcdb59f9-2197-411e-bd47-d239730f43c0');\n",
              "          const dataTable =\n",
              "            await google.colab.kernel.invokeFunction('convertToInteractive',\n",
              "                                                     [key], {});\n",
              "          if (!dataTable) return;\n",
              "\n",
              "          const docLinkHtml = 'Like what you see? Visit the ' +\n",
              "            '<a target=\"_blank\" href=https://colab.research.google.com/notebooks/data_table.ipynb>data table notebook</a>'\n",
              "            + ' to learn more about interactive tables.';\n",
              "          element.innerHTML = '';\n",
              "          dataTable['output_type'] = 'display_data';\n",
              "          await google.colab.output.renderOutput(dataTable, element);\n",
              "          const docLink = document.createElement('div');\n",
              "          docLink.innerHTML = docLinkHtml;\n",
              "          element.appendChild(docLink);\n",
              "        }\n",
              "      </script>\n",
              "    </div>\n",
              "  </div>\n",
              "  "
            ]
          },
          "metadata": {},
          "execution_count": 17
        }
      ]
    },
    {
      "cell_type": "code",
      "source": [
        "%%capture\n",
        "#\n",
        "# Generate Report File for one person\n",
        "#\n",
        "#selCond = {'pid.name': {'$eq': 'APJAbdulKa'}}                  # Single Person\n",
        "#selCond = {'pid.name': {'$eq': 'IndiraG'}}                     # Single Person\n",
        "#selCond = {'pid.name': {'$eq': 'NDModi'}}                      # Single Person\n",
        "selCond = {'pid.name': {'$eq': 'Rekha'}}                        # Single Person\n",
        "#selCond = {'pid.name': {'$eq': 'Ram'}}                        # Single Person\n",
        "#selCond = {\"pid.name\": {\"$regex\":\"^per\"}}                      # Name starting with per\n",
        "\n",
        "chart = pd.DataFrame(list(p21.kollection.find(selCond,p21.selCols)))\n",
        "#chart.iloc[0]['pid']['name']\n",
        "ReportFile = genChart('Bengal')\n"
      ],
      "metadata": {
        "id": "WM9dKhfS118T"
      },
      "execution_count": null,
      "outputs": []
    },
    {
      "cell_type": "code",
      "source": [
        "#\n",
        "# Download last Report File\n",
        "#\n",
        "files.download(ReportFile)"
      ],
      "metadata": {
        "id": "Rm8OtbSliPbO",
        "outputId": "a09bab1f-3d1c-434e-ec7b-b90d65630dce",
        "colab": {
          "base_uri": "https://localhost:8080/",
          "height": 17
        }
      },
      "execution_count": null,
      "outputs": [
        {
          "output_type": "display_data",
          "data": {
            "text/plain": [
              "<IPython.core.display.Javascript object>"
            ],
            "application/javascript": [
              "\n",
              "    async function download(id, filename, size) {\n",
              "      if (!google.colab.kernel.accessAllowed) {\n",
              "        return;\n",
              "      }\n",
              "      const div = document.createElement('div');\n",
              "      const label = document.createElement('label');\n",
              "      label.textContent = `Downloading \"${filename}\": `;\n",
              "      div.appendChild(label);\n",
              "      const progress = document.createElement('progress');\n",
              "      progress.max = size;\n",
              "      div.appendChild(progress);\n",
              "      document.body.appendChild(div);\n",
              "\n",
              "      const buffers = [];\n",
              "      let downloaded = 0;\n",
              "\n",
              "      const channel = await google.colab.kernel.comms.open(id);\n",
              "      // Send a message to notify the kernel that we're ready.\n",
              "      channel.send({})\n",
              "\n",
              "      for await (const message of channel.messages) {\n",
              "        // Send a message to notify the kernel that we're ready.\n",
              "        channel.send({})\n",
              "        if (message.buffers) {\n",
              "          for (const buffer of message.buffers) {\n",
              "            buffers.push(buffer);\n",
              "            downloaded += buffer.byteLength;\n",
              "            progress.value = downloaded;\n",
              "          }\n",
              "        }\n",
              "      }\n",
              "      const blob = new Blob(buffers, {type: 'application/binary'});\n",
              "      const a = document.createElement('a');\n",
              "      a.href = window.URL.createObjectURL(blob);\n",
              "      a.download = filename;\n",
              "      div.appendChild(a);\n",
              "      a.click();\n",
              "      div.remove();\n",
              "    }\n",
              "  "
            ]
          },
          "metadata": {}
        },
        {
          "output_type": "display_data",
          "data": {
            "text/plain": [
              "<IPython.core.display.Javascript object>"
            ],
            "application/javascript": [
              "download(\"download_374e5650-968b-4df8-9283-67187ed6bb85\", \"p21_Rekha_Ras_B_113129.doc\", 73997)"
            ]
          },
          "metadata": {}
        }
      ]
    },
    {
      "cell_type": "code",
      "source": [
        "!rm *.doc"
      ],
      "metadata": {
        "id": "IUBMuUzb-M2F"
      },
      "execution_count": null,
      "outputs": []
    },
    {
      "cell_type": "markdown",
      "source": [
        "#Chronobooks <br>\n",
        "![alt text](https://1.bp.blogspot.com/-lTiYBkU2qbU/X1er__fvnkI/AAAAAAAAjtE/GhDR3OEGJr4NG43fZPodrQD5kbxtnKebgCLcBGAsYHQ/s600/Footer2020-600x200.png)<hr>\n",
        "Chronotantra and Chronoyantra are two science fiction novels that explore the collapse of human civilisation on Earth and then its rebirth and reincarnation both on Earth as well as on the distant worlds of Mars, Titan and Enceladus. But is it the human civilisation that is being reborn? Or is it some other sentience that is revealing itself. \n",
        "If you have an interest in AI and found this material useful, you may consider buying these novels, in paperback or kindle, from [http://bit.ly/chronobooks](http://bit.ly/chronobooks)"
      ],
      "metadata": {
        "id": "DFx4XUVBB0vg"
      }
    }
  ]
}