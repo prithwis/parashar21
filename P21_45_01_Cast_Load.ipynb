{
  "nbformat": 4,
  "nbformat_minor": 0,
  "metadata": {
    "colab": {
      "name": "P21_45_Cast_Load.ipynb",
      "provenance": [],
      "include_colab_link": true
    },
    "kernelspec": {
      "name": "python3",
      "display_name": "Python 3"
    }
  },
  "cells": [
    {
      "cell_type": "markdown",
      "metadata": {
        "id": "view-in-github",
        "colab_type": "text"
      },
      "source": [
        "<a href=\"https://colab.research.google.com/github/prithwis/parashar21/blob/main/P21_45_01_Cast_Load.ipynb\" target=\"_parent\"><img src=\"https://colab.research.google.com/assets/colab-badge.svg\" alt=\"Open In Colab\"/></a>"
      ]
    },
    {
      "cell_type": "markdown",
      "metadata": {
        "id": "m3d-QHg6rqr-"
      },
      "source": [
        "![alt text](http://1.bp.blogspot.com/_5QlanosqxiQ/SXLOLTu7S7I/AAAAAAAAAm8/0r6C7lCxsic/S1600-R/p21-header-003.png) <br>\n",
        "\n",
        "\n",
        "---\n",
        "\n",
        "\n",
        "\n",
        "[Prithwis Mukerjee](http://www.yantrajaal.com) ||\n",
        "Website - [Parashar21](https://parashar21.blogspot.com)<br>"
      ]
    },
    {
      "cell_type": "markdown",
      "source": [
        "Copyright (c) 2022, Prithwis Mukerjee\n",
        "All rights reserved.\n",
        "\n",
        "This source code is licensed under the GNU GPL v3.0 -style license found in the\n",
        "LICENSE file in the root directory of this source tree. "
      ],
      "metadata": {
        "id": "FzmJB_cR0xzp"
      }
    },
    {
      "cell_type": "markdown",
      "source": [
        "#Create Charts and store in MongoDB"
      ],
      "metadata": {
        "id": "Q5dCCZlf8nLK"
      }
    },
    {
      "cell_type": "markdown",
      "source": [
        "#Setup"
      ],
      "metadata": {
        "id": "BgG7KnOslRT-"
      }
    },
    {
      "cell_type": "markdown",
      "metadata": {
        "id": "6az36FX6Rpit"
      },
      "source": [
        "##Install Swiss Ephemeris <br>\n",
        "\n",
        "https://pypi.org/project/pyswisseph/  - Python Package Documentation <br>\n",
        "https://www.astro.com/swisseph/swephinfo_e.htm <br>\n",
        "https://www.astro.com/swisseph/swephprg.htm - Programmer Documentation <br>\n",
        "https://pythonhosted.org/pyswisseph/swisseph-module.html"
      ]
    },
    {
      "cell_type": "code",
      "metadata": {
        "id": "THZf8D8fQsXm",
        "colab": {
          "base_uri": "https://localhost:8080/"
        },
        "outputId": "c5dc0317-4d29-4773-9c0e-9a55189dac54"
      },
      "source": [
        "!pip -qq install pyswisseph                                 # https://stackoverflow.com/questions/64277506/pip-install-options-unclear\n",
        "#!pip -qq install python_string_utils\n",
        "#!pip -qq install python-docx                                #https://python-docx.readthedocs.io/en/latest/\n",
        "#!pip install pyswisseph==2.10.2.0.dev1\n",
        "\n",
        "# required for accessing Atlas servers \n",
        "!/usr/bin/python3 -m pip install \"pymongo[srv]\"\n",
        "!apt install mongodb > /dev/null"
      ],
      "execution_count": 1,
      "outputs": [
        {
          "output_type": "stream",
          "name": "stdout",
          "text": [
            "\u001b[?25l\r\u001b[K     |▏                               | 10 kB 17.4 MB/s eta 0:00:01\r\u001b[K     |▍                               | 20 kB 4.5 MB/s eta 0:00:01\r\u001b[K     |▌                               | 30 kB 6.3 MB/s eta 0:00:01\r\u001b[K     |▊                               | 40 kB 3.4 MB/s eta 0:00:01\r\u001b[K     |█                               | 51 kB 3.6 MB/s eta 0:00:01\r\u001b[K     |█                               | 61 kB 4.2 MB/s eta 0:00:01\r\u001b[K     |█▎                              | 71 kB 4.1 MB/s eta 0:00:01\r\u001b[K     |█▌                              | 81 kB 4.3 MB/s eta 0:00:01\r\u001b[K     |█▋                              | 92 kB 4.8 MB/s eta 0:00:01\r\u001b[K     |█▉                              | 102 kB 3.6 MB/s eta 0:00:01\r\u001b[K     |██                              | 112 kB 3.6 MB/s eta 0:00:01\r\u001b[K     |██▏                             | 122 kB 3.6 MB/s eta 0:00:01\r\u001b[K     |██▍                             | 133 kB 3.6 MB/s eta 0:00:01\r\u001b[K     |██▌                             | 143 kB 3.6 MB/s eta 0:00:01\r\u001b[K     |██▊                             | 153 kB 3.6 MB/s eta 0:00:01\r\u001b[K     |███                             | 163 kB 3.6 MB/s eta 0:00:01\r\u001b[K     |███                             | 174 kB 3.6 MB/s eta 0:00:01\r\u001b[K     |███▎                            | 184 kB 3.6 MB/s eta 0:00:01\r\u001b[K     |███▌                            | 194 kB 3.6 MB/s eta 0:00:01\r\u001b[K     |███▋                            | 204 kB 3.6 MB/s eta 0:00:01\r\u001b[K     |███▉                            | 215 kB 3.6 MB/s eta 0:00:01\r\u001b[K     |████                            | 225 kB 3.6 MB/s eta 0:00:01\r\u001b[K     |████▏                           | 235 kB 3.6 MB/s eta 0:00:01\r\u001b[K     |████▍                           | 245 kB 3.6 MB/s eta 0:00:01\r\u001b[K     |████▌                           | 256 kB 3.6 MB/s eta 0:00:01\r\u001b[K     |████▊                           | 266 kB 3.6 MB/s eta 0:00:01\r\u001b[K     |█████                           | 276 kB 3.6 MB/s eta 0:00:01\r\u001b[K     |█████                           | 286 kB 3.6 MB/s eta 0:00:01\r\u001b[K     |█████▎                          | 296 kB 3.6 MB/s eta 0:00:01\r\u001b[K     |█████▌                          | 307 kB 3.6 MB/s eta 0:00:01\r\u001b[K     |█████▋                          | 317 kB 3.6 MB/s eta 0:00:01\r\u001b[K     |█████▉                          | 327 kB 3.6 MB/s eta 0:00:01\r\u001b[K     |██████                          | 337 kB 3.6 MB/s eta 0:00:01\r\u001b[K     |██████▏                         | 348 kB 3.6 MB/s eta 0:00:01\r\u001b[K     |██████▍                         | 358 kB 3.6 MB/s eta 0:00:01\r\u001b[K     |██████▌                         | 368 kB 3.6 MB/s eta 0:00:01\r\u001b[K     |██████▊                         | 378 kB 3.6 MB/s eta 0:00:01\r\u001b[K     |███████                         | 389 kB 3.6 MB/s eta 0:00:01\r\u001b[K     |███████                         | 399 kB 3.6 MB/s eta 0:00:01\r\u001b[K     |███████▎                        | 409 kB 3.6 MB/s eta 0:00:01\r\u001b[K     |███████▌                        | 419 kB 3.6 MB/s eta 0:00:01\r\u001b[K     |███████▋                        | 430 kB 3.6 MB/s eta 0:00:01\r\u001b[K     |███████▉                        | 440 kB 3.6 MB/s eta 0:00:01\r\u001b[K     |████████                        | 450 kB 3.6 MB/s eta 0:00:01\r\u001b[K     |████████▏                       | 460 kB 3.6 MB/s eta 0:00:01\r\u001b[K     |████████▍                       | 471 kB 3.6 MB/s eta 0:00:01\r\u001b[K     |████████▌                       | 481 kB 3.6 MB/s eta 0:00:01\r\u001b[K     |████████▊                       | 491 kB 3.6 MB/s eta 0:00:01\r\u001b[K     |█████████                       | 501 kB 3.6 MB/s eta 0:00:01\r\u001b[K     |█████████                       | 512 kB 3.6 MB/s eta 0:00:01\r\u001b[K     |█████████▎                      | 522 kB 3.6 MB/s eta 0:00:01\r\u001b[K     |█████████▌                      | 532 kB 3.6 MB/s eta 0:00:01\r\u001b[K     |█████████▋                      | 542 kB 3.6 MB/s eta 0:00:01\r\u001b[K     |█████████▉                      | 552 kB 3.6 MB/s eta 0:00:01\r\u001b[K     |██████████                      | 563 kB 3.6 MB/s eta 0:00:01\r\u001b[K     |██████████▏                     | 573 kB 3.6 MB/s eta 0:00:01\r\u001b[K     |██████████▍                     | 583 kB 3.6 MB/s eta 0:00:01\r\u001b[K     |██████████▌                     | 593 kB 3.6 MB/s eta 0:00:01\r\u001b[K     |██████████▊                     | 604 kB 3.6 MB/s eta 0:00:01\r\u001b[K     |███████████                     | 614 kB 3.6 MB/s eta 0:00:01\r\u001b[K     |███████████                     | 624 kB 3.6 MB/s eta 0:00:01\r\u001b[K     |███████████▎                    | 634 kB 3.6 MB/s eta 0:00:01\r\u001b[K     |███████████▌                    | 645 kB 3.6 MB/s eta 0:00:01\r\u001b[K     |███████████▋                    | 655 kB 3.6 MB/s eta 0:00:01\r\u001b[K     |███████████▉                    | 665 kB 3.6 MB/s eta 0:00:01\r\u001b[K     |████████████                    | 675 kB 3.6 MB/s eta 0:00:01\r\u001b[K     |████████████▏                   | 686 kB 3.6 MB/s eta 0:00:01\r\u001b[K     |████████████▍                   | 696 kB 3.6 MB/s eta 0:00:01\r\u001b[K     |████████████▋                   | 706 kB 3.6 MB/s eta 0:00:01\r\u001b[K     |████████████▊                   | 716 kB 3.6 MB/s eta 0:00:01\r\u001b[K     |█████████████                   | 727 kB 3.6 MB/s eta 0:00:01\r\u001b[K     |█████████████                   | 737 kB 3.6 MB/s eta 0:00:01\r\u001b[K     |█████████████▎                  | 747 kB 3.6 MB/s eta 0:00:01\r\u001b[K     |█████████████▌                  | 757 kB 3.6 MB/s eta 0:00:01\r\u001b[K     |█████████████▋                  | 768 kB 3.6 MB/s eta 0:00:01\r\u001b[K     |█████████████▉                  | 778 kB 3.6 MB/s eta 0:00:01\r\u001b[K     |██████████████                  | 788 kB 3.6 MB/s eta 0:00:01\r\u001b[K     |██████████████▏                 | 798 kB 3.6 MB/s eta 0:00:01\r\u001b[K     |██████████████▍                 | 808 kB 3.6 MB/s eta 0:00:01\r\u001b[K     |██████████████▋                 | 819 kB 3.6 MB/s eta 0:00:01\r\u001b[K     |██████████████▊                 | 829 kB 3.6 MB/s eta 0:00:01\r\u001b[K     |███████████████                 | 839 kB 3.6 MB/s eta 0:00:01\r\u001b[K     |███████████████                 | 849 kB 3.6 MB/s eta 0:00:01\r\u001b[K     |███████████████▎                | 860 kB 3.6 MB/s eta 0:00:01\r\u001b[K     |███████████████▌                | 870 kB 3.6 MB/s eta 0:00:01\r\u001b[K     |███████████████▋                | 880 kB 3.6 MB/s eta 0:00:01\r\u001b[K     |███████████████▉                | 890 kB 3.6 MB/s eta 0:00:01\r\u001b[K     |████████████████                | 901 kB 3.6 MB/s eta 0:00:01\r\u001b[K     |████████████████▏               | 911 kB 3.6 MB/s eta 0:00:01\r\u001b[K     |████████████████▍               | 921 kB 3.6 MB/s eta 0:00:01\r\u001b[K     |████████████████▋               | 931 kB 3.6 MB/s eta 0:00:01\r\u001b[K     |████████████████▊               | 942 kB 3.6 MB/s eta 0:00:01\r\u001b[K     |█████████████████               | 952 kB 3.6 MB/s eta 0:00:01\r\u001b[K     |█████████████████               | 962 kB 3.6 MB/s eta 0:00:01\r\u001b[K     |█████████████████▎              | 972 kB 3.6 MB/s eta 0:00:01\r\u001b[K     |█████████████████▌              | 983 kB 3.6 MB/s eta 0:00:01\r\u001b[K     |█████████████████▋              | 993 kB 3.6 MB/s eta 0:00:01\r\u001b[K     |█████████████████▉              | 1.0 MB 3.6 MB/s eta 0:00:01\r\u001b[K     |██████████████████              | 1.0 MB 3.6 MB/s eta 0:00:01\r\u001b[K     |██████████████████▏             | 1.0 MB 3.6 MB/s eta 0:00:01\r\u001b[K     |██████████████████▍             | 1.0 MB 3.6 MB/s eta 0:00:01\r\u001b[K     |██████████████████▋             | 1.0 MB 3.6 MB/s eta 0:00:01\r\u001b[K     |██████████████████▊             | 1.1 MB 3.6 MB/s eta 0:00:01\r\u001b[K     |███████████████████             | 1.1 MB 3.6 MB/s eta 0:00:01\r\u001b[K     |███████████████████             | 1.1 MB 3.6 MB/s eta 0:00:01\r\u001b[K     |███████████████████▎            | 1.1 MB 3.6 MB/s eta 0:00:01\r\u001b[K     |███████████████████▌            | 1.1 MB 3.6 MB/s eta 0:00:01\r\u001b[K     |███████████████████▋            | 1.1 MB 3.6 MB/s eta 0:00:01\r\u001b[K     |███████████████████▉            | 1.1 MB 3.6 MB/s eta 0:00:01\r\u001b[K     |████████████████████            | 1.1 MB 3.6 MB/s eta 0:00:01\r\u001b[K     |████████████████████▏           | 1.1 MB 3.6 MB/s eta 0:00:01\r\u001b[K     |████████████████████▍           | 1.1 MB 3.6 MB/s eta 0:00:01\r\u001b[K     |████████████████████▋           | 1.2 MB 3.6 MB/s eta 0:00:01\r\u001b[K     |████████████████████▊           | 1.2 MB 3.6 MB/s eta 0:00:01\r\u001b[K     |█████████████████████           | 1.2 MB 3.6 MB/s eta 0:00:01\r\u001b[K     |█████████████████████           | 1.2 MB 3.6 MB/s eta 0:00:01\r\u001b[K     |█████████████████████▎          | 1.2 MB 3.6 MB/s eta 0:00:01\r\u001b[K     |█████████████████████▌          | 1.2 MB 3.6 MB/s eta 0:00:01\r\u001b[K     |█████████████████████▋          | 1.2 MB 3.6 MB/s eta 0:00:01\r\u001b[K     |█████████████████████▉          | 1.2 MB 3.6 MB/s eta 0:00:01\r\u001b[K     |██████████████████████          | 1.2 MB 3.6 MB/s eta 0:00:01\r\u001b[K     |██████████████████████▏         | 1.2 MB 3.6 MB/s eta 0:00:01\r\u001b[K     |██████████████████████▍         | 1.3 MB 3.6 MB/s eta 0:00:01\r\u001b[K     |██████████████████████▋         | 1.3 MB 3.6 MB/s eta 0:00:01\r\u001b[K     |██████████████████████▊         | 1.3 MB 3.6 MB/s eta 0:00:01\r\u001b[K     |███████████████████████         | 1.3 MB 3.6 MB/s eta 0:00:01\r\u001b[K     |███████████████████████▏        | 1.3 MB 3.6 MB/s eta 0:00:01\r\u001b[K     |███████████████████████▎        | 1.3 MB 3.6 MB/s eta 0:00:01\r\u001b[K     |███████████████████████▌        | 1.3 MB 3.6 MB/s eta 0:00:01\r\u001b[K     |███████████████████████▋        | 1.3 MB 3.6 MB/s eta 0:00:01\r\u001b[K     |███████████████████████▉        | 1.3 MB 3.6 MB/s eta 0:00:01\r\u001b[K     |████████████████████████        | 1.4 MB 3.6 MB/s eta 0:00:01\r\u001b[K     |████████████████████████▏       | 1.4 MB 3.6 MB/s eta 0:00:01\r\u001b[K     |████████████████████████▍       | 1.4 MB 3.6 MB/s eta 0:00:01\r\u001b[K     |████████████████████████▋       | 1.4 MB 3.6 MB/s eta 0:00:01\r\u001b[K     |████████████████████████▊       | 1.4 MB 3.6 MB/s eta 0:00:01\r\u001b[K     |█████████████████████████       | 1.4 MB 3.6 MB/s eta 0:00:01\r\u001b[K     |█████████████████████████▏      | 1.4 MB 3.6 MB/s eta 0:00:01\r\u001b[K     |█████████████████████████▎      | 1.4 MB 3.6 MB/s eta 0:00:01\r\u001b[K     |█████████████████████████▌      | 1.4 MB 3.6 MB/s eta 0:00:01\r\u001b[K     |█████████████████████████▋      | 1.4 MB 3.6 MB/s eta 0:00:01\r\u001b[K     |█████████████████████████▉      | 1.5 MB 3.6 MB/s eta 0:00:01\r\u001b[K     |██████████████████████████      | 1.5 MB 3.6 MB/s eta 0:00:01\r\u001b[K     |██████████████████████████▏     | 1.5 MB 3.6 MB/s eta 0:00:01\r\u001b[K     |██████████████████████████▍     | 1.5 MB 3.6 MB/s eta 0:00:01\r\u001b[K     |██████████████████████████▋     | 1.5 MB 3.6 MB/s eta 0:00:01\r\u001b[K     |██████████████████████████▊     | 1.5 MB 3.6 MB/s eta 0:00:01\r\u001b[K     |███████████████████████████     | 1.5 MB 3.6 MB/s eta 0:00:01\r\u001b[K     |███████████████████████████▏    | 1.5 MB 3.6 MB/s eta 0:00:01\r\u001b[K     |███████████████████████████▎    | 1.5 MB 3.6 MB/s eta 0:00:01\r\u001b[K     |███████████████████████████▌    | 1.5 MB 3.6 MB/s eta 0:00:01\r\u001b[K     |███████████████████████████▋    | 1.6 MB 3.6 MB/s eta 0:00:01\r\u001b[K     |███████████████████████████▉    | 1.6 MB 3.6 MB/s eta 0:00:01\r\u001b[K     |████████████████████████████    | 1.6 MB 3.6 MB/s eta 0:00:01\r\u001b[K     |████████████████████████████▏   | 1.6 MB 3.6 MB/s eta 0:00:01\r\u001b[K     |████████████████████████████▍   | 1.6 MB 3.6 MB/s eta 0:00:01\r\u001b[K     |████████████████████████████▋   | 1.6 MB 3.6 MB/s eta 0:00:01\r\u001b[K     |████████████████████████████▊   | 1.6 MB 3.6 MB/s eta 0:00:01\r\u001b[K     |█████████████████████████████   | 1.6 MB 3.6 MB/s eta 0:00:01\r\u001b[K     |█████████████████████████████▏  | 1.6 MB 3.6 MB/s eta 0:00:01\r\u001b[K     |█████████████████████████████▎  | 1.6 MB 3.6 MB/s eta 0:00:01\r\u001b[K     |█████████████████████████████▌  | 1.7 MB 3.6 MB/s eta 0:00:01\r\u001b[K     |█████████████████████████████▋  | 1.7 MB 3.6 MB/s eta 0:00:01\r\u001b[K     |█████████████████████████████▉  | 1.7 MB 3.6 MB/s eta 0:00:01\r\u001b[K     |██████████████████████████████  | 1.7 MB 3.6 MB/s eta 0:00:01\r\u001b[K     |██████████████████████████████▏ | 1.7 MB 3.6 MB/s eta 0:00:01\r\u001b[K     |██████████████████████████████▍ | 1.7 MB 3.6 MB/s eta 0:00:01\r\u001b[K     |██████████████████████████████▋ | 1.7 MB 3.6 MB/s eta 0:00:01\r\u001b[K     |██████████████████████████████▊ | 1.7 MB 3.6 MB/s eta 0:00:01\r\u001b[K     |███████████████████████████████ | 1.7 MB 3.6 MB/s eta 0:00:01\r\u001b[K     |███████████████████████████████▏| 1.8 MB 3.6 MB/s eta 0:00:01\r\u001b[K     |███████████████████████████████▎| 1.8 MB 3.6 MB/s eta 0:00:01\r\u001b[K     |███████████████████████████████▌| 1.8 MB 3.6 MB/s eta 0:00:01\r\u001b[K     |███████████████████████████████▋| 1.8 MB 3.6 MB/s eta 0:00:01\r\u001b[K     |███████████████████████████████▉| 1.8 MB 3.6 MB/s eta 0:00:01\r\u001b[K     |████████████████████████████████| 1.8 MB 3.6 MB/s \n",
            "\u001b[?25hLooking in indexes: https://pypi.org/simple, https://us-python.pkg.dev/colab-wheels/public/simple/\n",
            "Requirement already satisfied: pymongo[srv] in /usr/local/lib/python3.7/dist-packages (4.2.0)\n",
            "Collecting dnspython<3.0.0,>=1.16.0\n",
            "  Downloading dnspython-2.2.1-py3-none-any.whl (269 kB)\n",
            "\u001b[K     |████████████████████████████████| 269 kB 4.1 MB/s \n",
            "\u001b[?25hInstalling collected packages: dnspython\n",
            "Successfully installed dnspython-2.2.1\n",
            "\n",
            "WARNING: apt does not have a stable CLI interface. Use with caution in scripts.\n",
            "\n"
          ]
        }
      ]
    },
    {
      "cell_type": "code",
      "source": [
        "from pymongo import MongoClient\n",
        "import pandas as pd\n",
        "import dateutil\n",
        "#import string_utils\n",
        "import json\n",
        "#from docx import Document\n",
        "#from docx.shared import Inches\n",
        "#from docx.enum.text import WD_ALIGN_PARAGRAPH"
      ],
      "metadata": {
        "id": "U9x7jNZKPRU0"
      },
      "execution_count": 2,
      "outputs": []
    },
    {
      "cell_type": "code",
      "source": [
        "#Load p21 modules from github\n",
        "!wget -O p21.py -q https://raw.githubusercontent.com/prithwis/parashar21/main/utils/p21.py                  # all global variables\n",
        "!wget -O p21swe.py -q https://raw.githubusercontent.com/prithwis/parashar21/main/utils/p21swe.py            # Swiss Ephemeris functions\n",
        "!wget -O p21utils.py -q https://raw.githubusercontent.com/prithwis/parashar21/main/utils/p21utils.py        # large number of utility functions\n",
        "#!wget -O p21utilsR.py -q https://raw.githubusercontent.com/prithwis/parashar21/main/utils/p21utilsR.py        # large number of utility functions\n",
        "#!wget -O p21YogInfo.py -q https://raw.githubusercontent.com/prithwis/parashar21/main/utils/p21YogInfo.py    # yog data - description and conditions \n",
        "\n"
      ],
      "metadata": {
        "id": "QHzOd2Nll-Wd"
      },
      "execution_count": 3,
      "outputs": []
    },
    {
      "cell_type": "code",
      "source": [
        "# ---------------------------\n",
        "import p21\n",
        "import p21swe\n",
        "import p21utils\n",
        "#import p21utilsR\n",
        "#import p21YogInfo\n",
        "# ------------------------------------------------\n",
        "# required for multiple imports of the same module\n",
        "# ------------------------------------------------\n",
        "import importlib\n",
        "importlib.reload(p21)\n",
        "importlib.reload(p21swe)\n",
        "importlib.reload(p21utils)\n",
        "#importlib.reload(p21utilsR)\n",
        "#importlib.reload(p21YogInfo)"
      ],
      "metadata": {
        "colab": {
          "base_uri": "https://localhost:8080/"
        },
        "id": "PbjLh4XlALOO",
        "outputId": "e7a44f98-0fa3-471f-c869-f387dd0367ab"
      },
      "execution_count": 14,
      "outputs": [
        {
          "output_type": "stream",
          "name": "stdout",
          "text": [
            "p21swe imported\n",
            "p21utils imported\n"
          ]
        },
        {
          "output_type": "execute_result",
          "data": {
            "text/plain": [
              "<module 'p21utils' from '/content/p21utils.py'>"
            ]
          },
          "metadata": {},
          "execution_count": 14
        }
      ]
    },
    {
      "cell_type": "code",
      "metadata": {
        "id": "INsjq9opScbt"
      },
      "source": [
        "#Download Swiss Ephemeris Files \n",
        "!wget -q http://www.astro.com/ftp/swisseph/ephe/seas_18.se1\n",
        "!wget -q http://www.astro.com/ftp/swisseph/ephe/semo_18.se1\n",
        "!wget -q http://www.astro.com/ftp/swisseph/ephe/sepl_18.se1\n",
        "!mkdir ephe\n",
        "!mv *.se1 ephe\n",
        "#------------------------------\n",
        "# Configure SWE with appropriate parameters\n",
        "#\n",
        "p21swe.C01_configSWE()"
      ],
      "execution_count": 5,
      "outputs": []
    },
    {
      "cell_type": "markdown",
      "metadata": {
        "id": "uSuVPj3kXcwC"
      },
      "source": [
        "##Read External Data\n",
        "from CSV files\n"
      ]
    },
    {
      "cell_type": "code",
      "source": [
        "import pandas as pd\n",
        "\n",
        "#!wget -O peopleData.csv -q https://raw.githubusercontent.com/prithwis/parashar21/main/data/Test5Data.txt # 5 Person Test Data\n",
        "!wget -O peopleData.csv -q https://github.com/prithwis/parashar21/raw/main/data/Rodden39663.csv\n",
        "\n",
        "#!gdown -O peopleData.csv https://drive.google.com/uc?id=1CVo1gnMZyCD0EZvAoF_wRdTwL7yqIT6L # 5 Person Test Data\n",
        "#!gdown -O peopleData.csv https://drive.google.com/uc?id=1dlvqcygJJh0CfyY_X2MLrWm-W9U0z_6l # 39663 Rodden Data\n",
        "\n",
        "df = pd.read_csv('peopleData.csv')\n",
        "df.head()"
      ],
      "metadata": {
        "colab": {
          "base_uri": "https://localhost:8080/",
          "height": 374
        },
        "id": "iXeCDQStAEd_",
        "outputId": "87c8885b-5dc1-4ca6-ad49-974fe16450b9"
      },
      "execution_count": 6,
      "outputs": [
        {
          "output_type": "execute_result",
          "data": {
            "text/plain": [
              "  Gender         Voc1_Cat                     Voc1_Det         Voc2_Cat  \\\n",
              "0      M  Entertain/Music  Instrumentalist (Guitarist)  Entertain/Music   \n",
              "1      M          Writers        Columnist/ journalist          Writers   \n",
              "2      M    Entertainment               Actor/ Actress              nil   \n",
              "3      M    Entertainment               Actor/ Actress    Entertainment   \n",
              "4      M    Entertainment         TV host/ Personality         Politics   \n",
              "\n",
              "                         Voc2_Det         Voc3_Cat                   Voc3_Det  \\\n",
              "0                     Song writer  Entertain/Music  Vocalist/ Pop, Rock, etc.   \n",
              "1              Detective/ Mystery          Writers         Fiction (Novelist)   \n",
              "2                             nil              nil                        nil   \n",
              "3                      Voice-Over              nil                        nil   \n",
              "4  Government employee (Minister)              nil                        nil   \n",
              "\n",
              "   DoB_Day  DoB_Mon  DoB_Year DoB_Time TZ_Off  TZ_OffHours    PoB_Lat  \\\n",
              "0        6       10      1968    17:35    h1e          1.0  48.550000   \n",
              "1       19       12      1947    20:00    h1e          1.0  47.383333   \n",
              "2       21        2      1911    03:00    h1e          1.0  59.916667   \n",
              "3       25        4      1902    07:15    h1e          1.0  59.916667   \n",
              "4        4        1      1933    12:30    h0w         -0.0  38.350000   \n",
              "\n",
              "     PoB_Lon TZ_Name   TZ_Type                        Name  \n",
              "0   3.300000     MET  standard                 A_Dominique  \n",
              "1   0.683333     MET  standard                      A_D_G_  \n",
              "2  10.750000     MET  standard               Aabel_Andreas  \n",
              "3  10.750000     MET  standard                   Aabel_Per  \n",
              "4  -0.483333     GMT  standard  Aal_Pomares_Henri_Francois  "
            ],
            "text/html": [
              "\n",
              "  <div id=\"df-ae532af4-2556-451d-97ac-de4a326ff8b4\">\n",
              "    <div class=\"colab-df-container\">\n",
              "      <div>\n",
              "<style scoped>\n",
              "    .dataframe tbody tr th:only-of-type {\n",
              "        vertical-align: middle;\n",
              "    }\n",
              "\n",
              "    .dataframe tbody tr th {\n",
              "        vertical-align: top;\n",
              "    }\n",
              "\n",
              "    .dataframe thead th {\n",
              "        text-align: right;\n",
              "    }\n",
              "</style>\n",
              "<table border=\"1\" class=\"dataframe\">\n",
              "  <thead>\n",
              "    <tr style=\"text-align: right;\">\n",
              "      <th></th>\n",
              "      <th>Gender</th>\n",
              "      <th>Voc1_Cat</th>\n",
              "      <th>Voc1_Det</th>\n",
              "      <th>Voc2_Cat</th>\n",
              "      <th>Voc2_Det</th>\n",
              "      <th>Voc3_Cat</th>\n",
              "      <th>Voc3_Det</th>\n",
              "      <th>DoB_Day</th>\n",
              "      <th>DoB_Mon</th>\n",
              "      <th>DoB_Year</th>\n",
              "      <th>DoB_Time</th>\n",
              "      <th>TZ_Off</th>\n",
              "      <th>TZ_OffHours</th>\n",
              "      <th>PoB_Lat</th>\n",
              "      <th>PoB_Lon</th>\n",
              "      <th>TZ_Name</th>\n",
              "      <th>TZ_Type</th>\n",
              "      <th>Name</th>\n",
              "    </tr>\n",
              "  </thead>\n",
              "  <tbody>\n",
              "    <tr>\n",
              "      <th>0</th>\n",
              "      <td>M</td>\n",
              "      <td>Entertain/Music</td>\n",
              "      <td>Instrumentalist (Guitarist)</td>\n",
              "      <td>Entertain/Music</td>\n",
              "      <td>Song writer</td>\n",
              "      <td>Entertain/Music</td>\n",
              "      <td>Vocalist/ Pop, Rock, etc.</td>\n",
              "      <td>6</td>\n",
              "      <td>10</td>\n",
              "      <td>1968</td>\n",
              "      <td>17:35</td>\n",
              "      <td>h1e</td>\n",
              "      <td>1.0</td>\n",
              "      <td>48.550000</td>\n",
              "      <td>3.300000</td>\n",
              "      <td>MET</td>\n",
              "      <td>standard</td>\n",
              "      <td>A_Dominique</td>\n",
              "    </tr>\n",
              "    <tr>\n",
              "      <th>1</th>\n",
              "      <td>M</td>\n",
              "      <td>Writers</td>\n",
              "      <td>Columnist/ journalist</td>\n",
              "      <td>Writers</td>\n",
              "      <td>Detective/ Mystery</td>\n",
              "      <td>Writers</td>\n",
              "      <td>Fiction (Novelist)</td>\n",
              "      <td>19</td>\n",
              "      <td>12</td>\n",
              "      <td>1947</td>\n",
              "      <td>20:00</td>\n",
              "      <td>h1e</td>\n",
              "      <td>1.0</td>\n",
              "      <td>47.383333</td>\n",
              "      <td>0.683333</td>\n",
              "      <td>MET</td>\n",
              "      <td>standard</td>\n",
              "      <td>A_D_G_</td>\n",
              "    </tr>\n",
              "    <tr>\n",
              "      <th>2</th>\n",
              "      <td>M</td>\n",
              "      <td>Entertainment</td>\n",
              "      <td>Actor/ Actress</td>\n",
              "      <td>nil</td>\n",
              "      <td>nil</td>\n",
              "      <td>nil</td>\n",
              "      <td>nil</td>\n",
              "      <td>21</td>\n",
              "      <td>2</td>\n",
              "      <td>1911</td>\n",
              "      <td>03:00</td>\n",
              "      <td>h1e</td>\n",
              "      <td>1.0</td>\n",
              "      <td>59.916667</td>\n",
              "      <td>10.750000</td>\n",
              "      <td>MET</td>\n",
              "      <td>standard</td>\n",
              "      <td>Aabel_Andreas</td>\n",
              "    </tr>\n",
              "    <tr>\n",
              "      <th>3</th>\n",
              "      <td>M</td>\n",
              "      <td>Entertainment</td>\n",
              "      <td>Actor/ Actress</td>\n",
              "      <td>Entertainment</td>\n",
              "      <td>Voice-Over</td>\n",
              "      <td>nil</td>\n",
              "      <td>nil</td>\n",
              "      <td>25</td>\n",
              "      <td>4</td>\n",
              "      <td>1902</td>\n",
              "      <td>07:15</td>\n",
              "      <td>h1e</td>\n",
              "      <td>1.0</td>\n",
              "      <td>59.916667</td>\n",
              "      <td>10.750000</td>\n",
              "      <td>MET</td>\n",
              "      <td>standard</td>\n",
              "      <td>Aabel_Per</td>\n",
              "    </tr>\n",
              "    <tr>\n",
              "      <th>4</th>\n",
              "      <td>M</td>\n",
              "      <td>Entertainment</td>\n",
              "      <td>TV host/ Personality</td>\n",
              "      <td>Politics</td>\n",
              "      <td>Government employee (Minister)</td>\n",
              "      <td>nil</td>\n",
              "      <td>nil</td>\n",
              "      <td>4</td>\n",
              "      <td>1</td>\n",
              "      <td>1933</td>\n",
              "      <td>12:30</td>\n",
              "      <td>h0w</td>\n",
              "      <td>-0.0</td>\n",
              "      <td>38.350000</td>\n",
              "      <td>-0.483333</td>\n",
              "      <td>GMT</td>\n",
              "      <td>standard</td>\n",
              "      <td>Aal_Pomares_Henri_Francois</td>\n",
              "    </tr>\n",
              "  </tbody>\n",
              "</table>\n",
              "</div>\n",
              "      <button class=\"colab-df-convert\" onclick=\"convertToInteractive('df-ae532af4-2556-451d-97ac-de4a326ff8b4')\"\n",
              "              title=\"Convert this dataframe to an interactive table.\"\n",
              "              style=\"display:none;\">\n",
              "        \n",
              "  <svg xmlns=\"http://www.w3.org/2000/svg\" height=\"24px\"viewBox=\"0 0 24 24\"\n",
              "       width=\"24px\">\n",
              "    <path d=\"M0 0h24v24H0V0z\" fill=\"none\"/>\n",
              "    <path d=\"M18.56 5.44l.94 2.06.94-2.06 2.06-.94-2.06-.94-.94-2.06-.94 2.06-2.06.94zm-11 1L8.5 8.5l.94-2.06 2.06-.94-2.06-.94L8.5 2.5l-.94 2.06-2.06.94zm10 10l.94 2.06.94-2.06 2.06-.94-2.06-.94-.94-2.06-.94 2.06-2.06.94z\"/><path d=\"M17.41 7.96l-1.37-1.37c-.4-.4-.92-.59-1.43-.59-.52 0-1.04.2-1.43.59L10.3 9.45l-7.72 7.72c-.78.78-.78 2.05 0 2.83L4 21.41c.39.39.9.59 1.41.59.51 0 1.02-.2 1.41-.59l7.78-7.78 2.81-2.81c.8-.78.8-2.07 0-2.86zM5.41 20L4 18.59l7.72-7.72 1.47 1.35L5.41 20z\"/>\n",
              "  </svg>\n",
              "      </button>\n",
              "      \n",
              "  <style>\n",
              "    .colab-df-container {\n",
              "      display:flex;\n",
              "      flex-wrap:wrap;\n",
              "      gap: 12px;\n",
              "    }\n",
              "\n",
              "    .colab-df-convert {\n",
              "      background-color: #E8F0FE;\n",
              "      border: none;\n",
              "      border-radius: 50%;\n",
              "      cursor: pointer;\n",
              "      display: none;\n",
              "      fill: #1967D2;\n",
              "      height: 32px;\n",
              "      padding: 0 0 0 0;\n",
              "      width: 32px;\n",
              "    }\n",
              "\n",
              "    .colab-df-convert:hover {\n",
              "      background-color: #E2EBFA;\n",
              "      box-shadow: 0px 1px 2px rgba(60, 64, 67, 0.3), 0px 1px 3px 1px rgba(60, 64, 67, 0.15);\n",
              "      fill: #174EA6;\n",
              "    }\n",
              "\n",
              "    [theme=dark] .colab-df-convert {\n",
              "      background-color: #3B4455;\n",
              "      fill: #D2E3FC;\n",
              "    }\n",
              "\n",
              "    [theme=dark] .colab-df-convert:hover {\n",
              "      background-color: #434B5C;\n",
              "      box-shadow: 0px 1px 3px 1px rgba(0, 0, 0, 0.15);\n",
              "      filter: drop-shadow(0px 1px 2px rgba(0, 0, 0, 0.3));\n",
              "      fill: #FFFFFF;\n",
              "    }\n",
              "  </style>\n",
              "\n",
              "      <script>\n",
              "        const buttonEl =\n",
              "          document.querySelector('#df-ae532af4-2556-451d-97ac-de4a326ff8b4 button.colab-df-convert');\n",
              "        buttonEl.style.display =\n",
              "          google.colab.kernel.accessAllowed ? 'block' : 'none';\n",
              "\n",
              "        async function convertToInteractive(key) {\n",
              "          const element = document.querySelector('#df-ae532af4-2556-451d-97ac-de4a326ff8b4');\n",
              "          const dataTable =\n",
              "            await google.colab.kernel.invokeFunction('convertToInteractive',\n",
              "                                                     [key], {});\n",
              "          if (!dataTable) return;\n",
              "\n",
              "          const docLinkHtml = 'Like what you see? Visit the ' +\n",
              "            '<a target=\"_blank\" href=https://colab.research.google.com/notebooks/data_table.ipynb>data table notebook</a>'\n",
              "            + ' to learn more about interactive tables.';\n",
              "          element.innerHTML = '';\n",
              "          dataTable['output_type'] = 'display_data';\n",
              "          await google.colab.output.renderOutput(dataTable, element);\n",
              "          const docLink = document.createElement('div');\n",
              "          docLink.innerHTML = docLinkHtml;\n",
              "          element.appendChild(docLink);\n",
              "        }\n",
              "      </script>\n",
              "    </div>\n",
              "  </div>\n",
              "  "
            ]
          },
          "metadata": {},
          "execution_count": 6
        }
      ]
    },
    {
      "cell_type": "markdown",
      "source": [
        "#Cast & Store charts in JSON file\n",
        "Driver Code"
      ],
      "metadata": {
        "id": "gyobEJ3EKU8n"
      }
    },
    {
      "cell_type": "code",
      "source": [
        "%%time\n",
        "# Basic Horoscope Information is converted into JSON format for storage on Mongo\n",
        "p21.ChartType = 'Rashi'                                 # one of ['Rashi','Navamsa']\n",
        "#p21utilsR.C61_Cast2JSON(df)\n",
        "p21swe.C61_Cast2JSON(df)"
      ],
      "metadata": {
        "id": "Ju4pMqiKcMbo",
        "outputId": "dd92637e-20ed-4a6d-feda-58a272a3b4fb",
        "colab": {
          "base_uri": "https://localhost:8080/"
        }
      },
      "execution_count": 15,
      "outputs": [
        {
          "output_type": "stream",
          "name": "stdout",
          "text": [
            "0 records processed\n",
            "1000 records processed\n",
            "2000 records processed\n",
            "3000 records processed\n",
            "4000 records processed\n",
            "5000 records processed\n",
            "6000 records processed\n",
            "7000 records processed\n",
            "8000 records processed\n",
            "9000 records processed\n",
            "10000 records processed\n",
            "11000 records processed\n",
            "12000 records processed\n",
            "13000 records processed\n",
            "14000 records processed\n",
            "15000 records processed\n",
            "16000 records processed\n",
            "17000 records processed\n",
            "18000 records processed\n",
            "19000 records processed\n",
            "20000 records processed\n",
            "21000 records processed\n",
            "22000 records processed\n",
            "23000 records processed\n",
            "24000 records processed\n",
            "25000 records processed\n",
            "26000 records processed\n",
            "27000 records processed\n",
            "28000 records processed\n",
            "error on record  28803\n",
            "29000 records processed\n",
            "30000 records processed\n",
            "31000 records processed\n",
            "32000 records processed\n",
            "33000 records processed\n",
            "34000 records processed\n",
            "35000 records processed\n",
            "36000 records processed\n",
            "37000 records processed\n",
            "38000 records processed\n",
            "39000 records processed\n",
            "CPU times: user 1min 10s, sys: 1.95 s, total: 1min 12s\n",
            "Wall time: 1min 12s\n"
          ]
        }
      ]
    },
    {
      "cell_type": "markdown",
      "source": [
        "#Connect to MongoDB"
      ],
      "metadata": {
        "id": "ZsYS94O-DRAl"
      }
    },
    {
      "cell_type": "code",
      "source": [
        "from google.colab import drive\n",
        "drive.mount('/content/drive')\n",
        "# --------------------------------------------\n",
        "# copy credentials file\n",
        "#!cp /content/drive/'My Drive'/Praxis/WebCredentials/clevercloudMongoDB.py credentials.py\n",
        "#!cp /content/drive/'My Drive'/Praxis/WebCredentials/parashar21URI.py credentials.py\n",
        "!cp /content/drive/'My Drive'/Praxis/WebCredentials/Parashar21_Atlas_18Sep22.py credentials.py\n",
        "# -----------------------------------------------\n",
        "\n",
        "#from credentials import rhostName,ruserName,rpassWord,rdbName,rMongoURI\n",
        "from credentials import parashar21URI\n",
        "\n",
        "# -----------------------------------------------\n",
        "mongoURI = parashar21URI                                   # for remote server\n"
      ],
      "metadata": {
        "colab": {
          "base_uri": "https://localhost:8080/",
          "height": 380
        },
        "id": "Ydu8Gh-mDiYn",
        "outputId": "9ccf2e9d-ddc6-4d11-82c6-4e9a056fd0d5"
      },
      "execution_count": 16,
      "outputs": [
        {
          "output_type": "error",
          "ename": "MessageError",
          "evalue": "ignored",
          "traceback": [
            "\u001b[0;31m---------------------------------------------------------------------------\u001b[0m",
            "\u001b[0;31mMessageError\u001b[0m                              Traceback (most recent call last)",
            "\u001b[0;32m<ipython-input-16-024e09806823>\u001b[0m in \u001b[0;36m<module>\u001b[0;34m\u001b[0m\n\u001b[1;32m      1\u001b[0m \u001b[0;32mfrom\u001b[0m \u001b[0mgoogle\u001b[0m\u001b[0;34m.\u001b[0m\u001b[0mcolab\u001b[0m \u001b[0;32mimport\u001b[0m \u001b[0mdrive\u001b[0m\u001b[0;34m\u001b[0m\u001b[0;34m\u001b[0m\u001b[0m\n\u001b[0;32m----> 2\u001b[0;31m \u001b[0mdrive\u001b[0m\u001b[0;34m.\u001b[0m\u001b[0mmount\u001b[0m\u001b[0;34m(\u001b[0m\u001b[0;34m'/content/drive'\u001b[0m\u001b[0;34m)\u001b[0m\u001b[0;34m\u001b[0m\u001b[0;34m\u001b[0m\u001b[0m\n\u001b[0m\u001b[1;32m      3\u001b[0m \u001b[0;31m# --------------------------------------------\u001b[0m\u001b[0;34m\u001b[0m\u001b[0;34m\u001b[0m\u001b[0;34m\u001b[0m\u001b[0m\n\u001b[1;32m      4\u001b[0m \u001b[0;31m# copy credentials file\u001b[0m\u001b[0;34m\u001b[0m\u001b[0;34m\u001b[0m\u001b[0;34m\u001b[0m\u001b[0m\n\u001b[1;32m      5\u001b[0m \u001b[0;31m#!cp /content/drive/'My Drive'/Praxis/WebCredentials/clevercloudMongoDB.py credentials.py\u001b[0m\u001b[0;34m\u001b[0m\u001b[0;34m\u001b[0m\u001b[0;34m\u001b[0m\u001b[0m\n",
            "\u001b[0;32m/usr/local/lib/python3.7/dist-packages/google/colab/drive.py\u001b[0m in \u001b[0;36mmount\u001b[0;34m(mountpoint, force_remount, timeout_ms)\u001b[0m\n\u001b[1;32m    103\u001b[0m       \u001b[0mforce_remount\u001b[0m\u001b[0;34m=\u001b[0m\u001b[0mforce_remount\u001b[0m\u001b[0;34m,\u001b[0m\u001b[0;34m\u001b[0m\u001b[0;34m\u001b[0m\u001b[0m\n\u001b[1;32m    104\u001b[0m       \u001b[0mtimeout_ms\u001b[0m\u001b[0;34m=\u001b[0m\u001b[0mtimeout_ms\u001b[0m\u001b[0;34m,\u001b[0m\u001b[0;34m\u001b[0m\u001b[0;34m\u001b[0m\u001b[0m\n\u001b[0;32m--> 105\u001b[0;31m       ephemeral=True)\n\u001b[0m\u001b[1;32m    106\u001b[0m \u001b[0;34m\u001b[0m\u001b[0m\n\u001b[1;32m    107\u001b[0m \u001b[0;34m\u001b[0m\u001b[0m\n",
            "\u001b[0;32m/usr/local/lib/python3.7/dist-packages/google/colab/drive.py\u001b[0m in \u001b[0;36m_mount\u001b[0;34m(mountpoint, force_remount, timeout_ms, ephemeral)\u001b[0m\n\u001b[1;32m    118\u001b[0m   \u001b[0;32mif\u001b[0m \u001b[0mephemeral\u001b[0m\u001b[0;34m:\u001b[0m\u001b[0;34m\u001b[0m\u001b[0;34m\u001b[0m\u001b[0m\n\u001b[1;32m    119\u001b[0m     _message.blocking_request(\n\u001b[0;32m--> 120\u001b[0;31m         'request_auth', request={'authType': 'dfs_ephemeral'}, timeout_sec=None)\n\u001b[0m\u001b[1;32m    121\u001b[0m \u001b[0;34m\u001b[0m\u001b[0m\n\u001b[1;32m    122\u001b[0m   \u001b[0mmountpoint\u001b[0m \u001b[0;34m=\u001b[0m \u001b[0m_os\u001b[0m\u001b[0;34m.\u001b[0m\u001b[0mpath\u001b[0m\u001b[0;34m.\u001b[0m\u001b[0mexpanduser\u001b[0m\u001b[0;34m(\u001b[0m\u001b[0mmountpoint\u001b[0m\u001b[0;34m)\u001b[0m\u001b[0;34m\u001b[0m\u001b[0;34m\u001b[0m\u001b[0m\n",
            "\u001b[0;32m/usr/local/lib/python3.7/dist-packages/google/colab/_message.py\u001b[0m in \u001b[0;36mblocking_request\u001b[0;34m(request_type, request, timeout_sec, parent)\u001b[0m\n\u001b[1;32m    169\u001b[0m   request_id = send_request(\n\u001b[1;32m    170\u001b[0m       request_type, request, parent=parent, expect_reply=True)\n\u001b[0;32m--> 171\u001b[0;31m   \u001b[0;32mreturn\u001b[0m \u001b[0mread_reply_from_input\u001b[0m\u001b[0;34m(\u001b[0m\u001b[0mrequest_id\u001b[0m\u001b[0;34m,\u001b[0m \u001b[0mtimeout_sec\u001b[0m\u001b[0;34m)\u001b[0m\u001b[0;34m\u001b[0m\u001b[0;34m\u001b[0m\u001b[0m\n\u001b[0m",
            "\u001b[0;32m/usr/local/lib/python3.7/dist-packages/google/colab/_message.py\u001b[0m in \u001b[0;36mread_reply_from_input\u001b[0;34m(message_id, timeout_sec)\u001b[0m\n\u001b[1;32m    100\u001b[0m         reply.get('colab_msg_id') == message_id):\n\u001b[1;32m    101\u001b[0m       \u001b[0;32mif\u001b[0m \u001b[0;34m'error'\u001b[0m \u001b[0;32min\u001b[0m \u001b[0mreply\u001b[0m\u001b[0;34m:\u001b[0m\u001b[0;34m\u001b[0m\u001b[0;34m\u001b[0m\u001b[0m\n\u001b[0;32m--> 102\u001b[0;31m         \u001b[0;32mraise\u001b[0m \u001b[0mMessageError\u001b[0m\u001b[0;34m(\u001b[0m\u001b[0mreply\u001b[0m\u001b[0;34m[\u001b[0m\u001b[0;34m'error'\u001b[0m\u001b[0;34m]\u001b[0m\u001b[0;34m)\u001b[0m\u001b[0;34m\u001b[0m\u001b[0;34m\u001b[0m\u001b[0m\n\u001b[0m\u001b[1;32m    103\u001b[0m       \u001b[0;32mreturn\u001b[0m \u001b[0mreply\u001b[0m\u001b[0;34m.\u001b[0m\u001b[0mget\u001b[0m\u001b[0;34m(\u001b[0m\u001b[0;34m'data'\u001b[0m\u001b[0;34m,\u001b[0m \u001b[0;32mNone\u001b[0m\u001b[0;34m)\u001b[0m\u001b[0;34m\u001b[0m\u001b[0;34m\u001b[0m\u001b[0m\n\u001b[1;32m    104\u001b[0m \u001b[0;34m\u001b[0m\u001b[0m\n",
            "\u001b[0;31mMessageError\u001b[0m: Error: credential propagation was unsuccessful"
          ]
        }
      ]
    },
    {
      "cell_type": "code",
      "source": [
        "#mongoURI = \"mongodb://localhost:27017/\"\n",
        "client = MongoClient(mongoURI)\n",
        "client.list_database_names() \n",
        "#db = client.btncgfi3a5bxyea\n"
      ],
      "metadata": {
        "id": "UK4r7sjDXtAW",
        "outputId": "2ccd4d74-1bb6-40be-e83d-5d56591f40db",
        "colab": {
          "base_uri": "https://localhost:8080/"
        }
      },
      "execution_count": null,
      "outputs": [
        {
          "output_type": "execute_result",
          "data": {
            "text/plain": [
              "['Parashar21', 'admin', 'local']"
            ]
          },
          "metadata": {},
          "execution_count": 18
        }
      ]
    },
    {
      "cell_type": "code",
      "source": [
        "db = client.Parashar21\n",
        "# Show Collections. Query returns a Cursor [ ] ,  list it to see the content\n",
        "pd.DataFrame(list(db.list_collections()))\n",
        "# empty list '[]' means that there are not collections in database"
      ],
      "metadata": {
        "colab": {
          "base_uri": "https://localhost:8080/",
          "height": 81
        },
        "id": "imaqh29vhnYn",
        "outputId": "efa308fd-9eb0-4ef0-b109-aad04fd492e5"
      },
      "execution_count": null,
      "outputs": [
        {
          "output_type": "execute_result",
          "data": {
            "text/plain": [
              "      name        type options  \\\n",
              "0  khona21  collection      {}   \n",
              "\n",
              "                                                info  \\\n",
              "0  {'readOnly': False, 'uuid': b'^\\xd7w\\x8c\\xfc\\x...   \n",
              "\n",
              "                                       idIndex  \n",
              "0  {'v': 2, 'key': {'_id': 1}, 'name': '_id_'}  "
            ],
            "text/html": [
              "\n",
              "  <div id=\"df-618fe84f-a6d6-4740-ab90-b740fa6bad0c\">\n",
              "    <div class=\"colab-df-container\">\n",
              "      <div>\n",
              "<style scoped>\n",
              "    .dataframe tbody tr th:only-of-type {\n",
              "        vertical-align: middle;\n",
              "    }\n",
              "\n",
              "    .dataframe tbody tr th {\n",
              "        vertical-align: top;\n",
              "    }\n",
              "\n",
              "    .dataframe thead th {\n",
              "        text-align: right;\n",
              "    }\n",
              "</style>\n",
              "<table border=\"1\" class=\"dataframe\">\n",
              "  <thead>\n",
              "    <tr style=\"text-align: right;\">\n",
              "      <th></th>\n",
              "      <th>name</th>\n",
              "      <th>type</th>\n",
              "      <th>options</th>\n",
              "      <th>info</th>\n",
              "      <th>idIndex</th>\n",
              "    </tr>\n",
              "  </thead>\n",
              "  <tbody>\n",
              "    <tr>\n",
              "      <th>0</th>\n",
              "      <td>khona21</td>\n",
              "      <td>collection</td>\n",
              "      <td>{}</td>\n",
              "      <td>{'readOnly': False, 'uuid': b'^\\xd7w\\x8c\\xfc\\x...</td>\n",
              "      <td>{'v': 2, 'key': {'_id': 1}, 'name': '_id_'}</td>\n",
              "    </tr>\n",
              "  </tbody>\n",
              "</table>\n",
              "</div>\n",
              "      <button class=\"colab-df-convert\" onclick=\"convertToInteractive('df-618fe84f-a6d6-4740-ab90-b740fa6bad0c')\"\n",
              "              title=\"Convert this dataframe to an interactive table.\"\n",
              "              style=\"display:none;\">\n",
              "        \n",
              "  <svg xmlns=\"http://www.w3.org/2000/svg\" height=\"24px\"viewBox=\"0 0 24 24\"\n",
              "       width=\"24px\">\n",
              "    <path d=\"M0 0h24v24H0V0z\" fill=\"none\"/>\n",
              "    <path d=\"M18.56 5.44l.94 2.06.94-2.06 2.06-.94-2.06-.94-.94-2.06-.94 2.06-2.06.94zm-11 1L8.5 8.5l.94-2.06 2.06-.94-2.06-.94L8.5 2.5l-.94 2.06-2.06.94zm10 10l.94 2.06.94-2.06 2.06-.94-2.06-.94-.94-2.06-.94 2.06-2.06.94z\"/><path d=\"M17.41 7.96l-1.37-1.37c-.4-.4-.92-.59-1.43-.59-.52 0-1.04.2-1.43.59L10.3 9.45l-7.72 7.72c-.78.78-.78 2.05 0 2.83L4 21.41c.39.39.9.59 1.41.59.51 0 1.02-.2 1.41-.59l7.78-7.78 2.81-2.81c.8-.78.8-2.07 0-2.86zM5.41 20L4 18.59l7.72-7.72 1.47 1.35L5.41 20z\"/>\n",
              "  </svg>\n",
              "      </button>\n",
              "      \n",
              "  <style>\n",
              "    .colab-df-container {\n",
              "      display:flex;\n",
              "      flex-wrap:wrap;\n",
              "      gap: 12px;\n",
              "    }\n",
              "\n",
              "    .colab-df-convert {\n",
              "      background-color: #E8F0FE;\n",
              "      border: none;\n",
              "      border-radius: 50%;\n",
              "      cursor: pointer;\n",
              "      display: none;\n",
              "      fill: #1967D2;\n",
              "      height: 32px;\n",
              "      padding: 0 0 0 0;\n",
              "      width: 32px;\n",
              "    }\n",
              "\n",
              "    .colab-df-convert:hover {\n",
              "      background-color: #E2EBFA;\n",
              "      box-shadow: 0px 1px 2px rgba(60, 64, 67, 0.3), 0px 1px 3px 1px rgba(60, 64, 67, 0.15);\n",
              "      fill: #174EA6;\n",
              "    }\n",
              "\n",
              "    [theme=dark] .colab-df-convert {\n",
              "      background-color: #3B4455;\n",
              "      fill: #D2E3FC;\n",
              "    }\n",
              "\n",
              "    [theme=dark] .colab-df-convert:hover {\n",
              "      background-color: #434B5C;\n",
              "      box-shadow: 0px 1px 3px 1px rgba(0, 0, 0, 0.15);\n",
              "      filter: drop-shadow(0px 1px 2px rgba(0, 0, 0, 0.3));\n",
              "      fill: #FFFFFF;\n",
              "    }\n",
              "  </style>\n",
              "\n",
              "      <script>\n",
              "        const buttonEl =\n",
              "          document.querySelector('#df-618fe84f-a6d6-4740-ab90-b740fa6bad0c button.colab-df-convert');\n",
              "        buttonEl.style.display =\n",
              "          google.colab.kernel.accessAllowed ? 'block' : 'none';\n",
              "\n",
              "        async function convertToInteractive(key) {\n",
              "          const element = document.querySelector('#df-618fe84f-a6d6-4740-ab90-b740fa6bad0c');\n",
              "          const dataTable =\n",
              "            await google.colab.kernel.invokeFunction('convertToInteractive',\n",
              "                                                     [key], {});\n",
              "          if (!dataTable) return;\n",
              "\n",
              "          const docLinkHtml = 'Like what you see? Visit the ' +\n",
              "            '<a target=\"_blank\" href=https://colab.research.google.com/notebooks/data_table.ipynb>data table notebook</a>'\n",
              "            + ' to learn more about interactive tables.';\n",
              "          element.innerHTML = '';\n",
              "          dataTable['output_type'] = 'display_data';\n",
              "          await google.colab.output.renderOutput(dataTable, element);\n",
              "          const docLink = document.createElement('div');\n",
              "          docLink.innerHTML = docLinkHtml;\n",
              "          element.appendChild(docLink);\n",
              "        }\n",
              "      </script>\n",
              "    </div>\n",
              "  </div>\n",
              "  "
            ]
          },
          "metadata": {},
          "execution_count": 19
        }
      ]
    },
    {
      "cell_type": "code",
      "source": [
        "#db = client.btncgfi3a5bxyea\n",
        "\n",
        "#db.khona21Test.drop()                   # Test DB\n",
        "#db.khona21.drop()                      # Main DB do not drop, accidentally\n",
        "\n",
        "#db.create_collection('khona21Test')      # https://feminisminindia.com/2019/06/07/khawna-khana-poet-rural-bengal/\n",
        "                                        # https://en.wikipedia.org/wiki/Khana_(poet)\n",
        "#kollection = db.khona21Test                # Set the collection to work with\n",
        "\n",
        "#Check and record Initial DB status\n",
        "#countInitial = kollection.count_documents({})\n",
        "#dbSizeInitial = db.command( {\"dbStats\": 1, \"scale\": 1024 } )['dataSize']\n",
        "#print(round(dbSizeInitial),'KB database with ', countInitial, ' docs in current collection' )"
      ],
      "metadata": {
        "id": "DLigUEp2h3My"
      },
      "execution_count": null,
      "outputs": []
    },
    {
      "cell_type": "markdown",
      "source": [
        "#Load into Mongo"
      ],
      "metadata": {
        "id": "QaPvwMLoaMa3"
      }
    },
    {
      "cell_type": "code",
      "source": [
        "%%time\n",
        "\n",
        "mongoURIload = mongoURI.replace('?retryWrites=true&w=majority','Parashar21?')\n",
        "##!mongoimport --uri \"{rMongoURI}\"  --collection \"khona21Test\"  --drop --file \"peopleData.json\" \n",
        "!mongoimport --uri \"{mongoURIload}\"  --collection \"khona21\"  --drop --file \"peopleData.json\" "
      ],
      "metadata": {
        "colab": {
          "base_uri": "https://localhost:8080/"
        },
        "id": "RZBpOfBTaSkr",
        "outputId": "9a48016a-71f6-4080-e9da-9a2a6ece6f51"
      },
      "execution_count": null,
      "outputs": [
        {
          "output_type": "stream",
          "name": "stdout",
          "text": [
            "2022-09-22T04:20:06.124+0000\tconnected to: localhost\n",
            "2022-09-22T04:20:06.375+0000\tdropping: Parashar21.khona21\n",
            "2022-09-22T04:20:07.371+0000\t[........................] Parashar21.khona21\t3.53MB/137MB (2.6%)\n",
            "2022-09-22T04:20:10.371+0000\t[........................] Parashar21.khona21\t3.53MB/137MB (2.6%)\n",
            "2022-09-22T04:20:13.371+0000\t[#.......................] Parashar21.khona21\t10.5MB/137MB (7.7%)\n",
            "2022-09-22T04:20:16.371+0000\t[###.....................] Parashar21.khona21\t17.3MB/137MB (12.7%)\n",
            "2022-09-22T04:20:19.371+0000\t[####....................] Parashar21.khona21\t27.3MB/137MB (19.9%)\n",
            "2022-09-22T04:20:22.371+0000\t[######..................] Parashar21.khona21\t34.6MB/137MB (25.3%)\n",
            "2022-09-22T04:20:25.371+0000\t[#######.................] Parashar21.khona21\t41.5MB/137MB (30.3%)\n",
            "2022-09-22T04:20:28.371+0000\t[########................] Parashar21.khona21\t48.3MB/137MB (35.4%)\n",
            "2022-09-22T04:20:31.371+0000\t[#########...............] Parashar21.khona21\t55.2MB/137MB (40.4%)\n",
            "2022-09-22T04:20:34.371+0000\t[###########.............] Parashar21.khona21\t65.2MB/137MB (47.7%)\n",
            "2022-09-22T04:20:37.371+0000\t[############............] Parashar21.khona21\t72.5MB/137MB (53.0%)\n",
            "2022-09-22T04:20:40.371+0000\t[#############...........] Parashar21.khona21\t79.3MB/137MB (58.1%)\n",
            "2022-09-22T04:20:43.371+0000\t[###############.........] Parashar21.khona21\t87.1MB/137MB (63.8%)\n",
            "2022-09-22T04:20:46.371+0000\t[################........] Parashar21.khona21\t96.5MB/137MB (70.7%)\n",
            "2022-09-22T04:20:49.371+0000\t[##################......] Parashar21.khona21\t103MB/137MB (75.7%)\n",
            "2022-09-22T04:20:52.371+0000\t[###################.....] Parashar21.khona21\t110MB/137MB (80.7%)\n",
            "2022-09-22T04:20:55.371+0000\t[####################....] Parashar21.khona21\t118MB/137MB (86.2%)\n",
            "2022-09-22T04:20:58.375+0000\t[######################..] Parashar21.khona21\t128MB/137MB (93.3%)\n",
            "2022-09-22T04:21:01.371+0000\t[#######################.] Parashar21.khona21\t134MB/137MB (98.4%)\n",
            "2022-09-22T04:21:02.764+0000\t[########################] Parashar21.khona21\t137MB/137MB (100.0%)\n",
            "2022-09-22T04:21:02.764+0000\timported 39662 documents\n",
            "CPU times: user 606 ms, sys: 110 ms, total: 716 ms\n",
            "Wall time: 58.5 s\n"
          ]
        }
      ]
    },
    {
      "cell_type": "markdown",
      "source": [
        "#Check Database Status"
      ],
      "metadata": {
        "id": "6gqKwTFHEgAu"
      }
    },
    {
      "cell_type": "code",
      "source": [
        "p21.kollection = db.khona21\n",
        "#kollection = db.khona21Test\n",
        "countFinal = p21.kollection.count_documents({})\n",
        "dbSizeFinal = db.command( {\"dbStats\": 1, \"scale\": 1024 } )['dataSize']\n",
        "\n",
        "#DocsInserted = countFinal - countInitial\n",
        "#AddSpaceUsed = round(dbSizeFinal - dbSizeInitial)\n",
        "#if DocsInserted > 0:\n",
        "#    AvgDocSize = round(AddSpaceUsed/DocsInserted)\n",
        "#else:\n",
        "#    AvgDocSize = 'na'\n",
        "#print(DocsInserted,' docs inserted, ',AddSpaceUsed,' KB added , with avg doc size = ', AvgDocSize)\n",
        "\n",
        "\n",
        "print(round(dbSizeFinal),'KB database with ', countFinal, ' docs in current collection' )"
      ],
      "metadata": {
        "id": "G1NrPFflBGsy",
        "outputId": "306eb3d8-1d59-4d81-eb73-abaa207ddc3e",
        "colab": {
          "base_uri": "https://localhost:8080/"
        }
      },
      "execution_count": null,
      "outputs": [
        {
          "output_type": "stream",
          "name": "stdout",
          "text": [
            "146582 KB database with  39662  docs in current collection\n"
          ]
        }
      ]
    },
    {
      "cell_type": "code",
      "source": [
        "# Check data loaded into MongoDb\n",
        "#c = kollection.find()\n",
        "#for crnt in c:\n",
        "#    print(crnt)\n",
        "pd.DataFrame(list(p21.kollection.find({},{'_id':0}).limit(1)))"
      ],
      "metadata": {
        "id": "GQiQRXw7NjEp",
        "outputId": "b27eaeb0-b06b-4330-ed07-1ccdb3f5bf7e",
        "colab": {
          "base_uri": "https://localhost:8080/",
          "height": 365
        }
      },
      "execution_count": null,
      "outputs": [
        {
          "output_type": "execute_result",
          "data": {
            "text/plain": [
              "                                                 pid  \\\n",
              "0  {'tags': ['Writers', 'Writers', 'Writers'], 'c...   \n",
              "\n",
              "                                                GLon  \\\n",
              "0  {'La': 100.281, 'Su': 243.912, 'Mo': 323.344, ...   \n",
              "\n",
              "                                                GRet  \\\n",
              "0  {'La': False, 'Su': False, 'Mo': False, 'Ma': ...   \n",
              "\n",
              "                                        BhavN  \\\n",
              "0  [ , 4, 5, 6, 7, 8, 9, 10, 11, 12, 1, 2, 3]   \n",
              "\n",
              "                                               BhavA  \\\n",
              "0  [ , Karkat, Simha, Kanya, Tula, Vrishchik, Dha...   \n",
              "\n",
              "                                                Lord  \\\n",
              "0  [ , Mo, Su, Me, Ve, Ma, Ju, Sa, Sa, Ju, Ma, Ve...   \n",
              "\n",
              "                                   LordRashiN  \\\n",
              "0  [ , 11, 9, 8, 10, 5, 8, 4, 4, 8, 5, 10, 8]   \n",
              "\n",
              "                                          LordRashiA  \\\n",
              "0  [ , Kumbh, Dhanu, Vrishchik, Makar, Simha, Vri...   \n",
              "\n",
              "                                       GrahaLordBhav  \\\n",
              "0  {'Su': [2], 'Mo': [1], 'Ma': [5, 10], 'Me': [3...   \n",
              "\n",
              "                                             GRashiN  ...  \\\n",
              "0  {'La': 4, 'Su': 9, 'Mo': 11, 'Ma': 5, 'Me': 8,...  ...   \n",
              "\n",
              "                                            inEnemyL  \\\n",
              "0  [False, False, False, False, False, False, Fal...   \n",
              "\n",
              "                                           GAspects2  \\\n",
              "0  {'La': ['Ve'], 'Mo': ['Ma'], 'Ma': ['Me', 'Ju'...   \n",
              "\n",
              "                                        GAspectedBy2  \\\n",
              "0  {'Ve': ['La', 'Sa'], 'Ma': ['Mo'], 'Mo': ['Ma'...   \n",
              "\n",
              "                                        BAspectedBy2  \\\n",
              "0  {'7': ['La', 'Sa'], '12': ['Su'], '2': ['Mo'],...   \n",
              "\n",
              "                                      BAspectedByBL2  \\\n",
              "0  {'1': ['4', '9', '11', '6'], '2': ['1'], '3': ...   \n",
              "\n",
              "                   GConjunctsG2  \\\n",
              "0  {'Me': ['Ju'], 'Ju': ['Me']}   \n",
              "\n",
              "                                       BLConjunctsG2  \\\n",
              "0  {'3': ['Ju'], '6': ['Me'], '9': ['Me'], '12': ...   \n",
              "\n",
              "                                      BLConjunctsBL2  \\\n",
              "0  {'3': ['6', '9'], '6': ['3', '12'], '9': ['3',...   \n",
              "\n",
              "                                            beneficG  \\\n",
              "0  {'Su': False, 'Mo': True, 'Ma': True, 'Me': Fa...   \n",
              "\n",
              "                                            maleficG  \n",
              "0  {'Su': False, 'Mo': False, 'Ma': False, 'Me': ...  \n",
              "\n",
              "[1 rows x 31 columns]"
            ],
            "text/html": [
              "\n",
              "  <div id=\"df-c879106b-e960-45b4-811c-1913be350e77\">\n",
              "    <div class=\"colab-df-container\">\n",
              "      <div>\n",
              "<style scoped>\n",
              "    .dataframe tbody tr th:only-of-type {\n",
              "        vertical-align: middle;\n",
              "    }\n",
              "\n",
              "    .dataframe tbody tr th {\n",
              "        vertical-align: top;\n",
              "    }\n",
              "\n",
              "    .dataframe thead th {\n",
              "        text-align: right;\n",
              "    }\n",
              "</style>\n",
              "<table border=\"1\" class=\"dataframe\">\n",
              "  <thead>\n",
              "    <tr style=\"text-align: right;\">\n",
              "      <th></th>\n",
              "      <th>pid</th>\n",
              "      <th>GLon</th>\n",
              "      <th>GRet</th>\n",
              "      <th>BhavN</th>\n",
              "      <th>BhavA</th>\n",
              "      <th>Lord</th>\n",
              "      <th>LordRashiN</th>\n",
              "      <th>LordRashiA</th>\n",
              "      <th>GrahaLordBhav</th>\n",
              "      <th>GRashiN</th>\n",
              "      <th>...</th>\n",
              "      <th>inEnemyL</th>\n",
              "      <th>GAspects2</th>\n",
              "      <th>GAspectedBy2</th>\n",
              "      <th>BAspectedBy2</th>\n",
              "      <th>BAspectedByBL2</th>\n",
              "      <th>GConjunctsG2</th>\n",
              "      <th>BLConjunctsG2</th>\n",
              "      <th>BLConjunctsBL2</th>\n",
              "      <th>beneficG</th>\n",
              "      <th>maleficG</th>\n",
              "    </tr>\n",
              "  </thead>\n",
              "  <tbody>\n",
              "    <tr>\n",
              "      <th>0</th>\n",
              "      <td>{'tags': ['Writers', 'Writers', 'Writers'], 'c...</td>\n",
              "      <td>{'La': 100.281, 'Su': 243.912, 'Mo': 323.344, ...</td>\n",
              "      <td>{'La': False, 'Su': False, 'Mo': False, 'Ma': ...</td>\n",
              "      <td>[ , 4, 5, 6, 7, 8, 9, 10, 11, 12, 1, 2, 3]</td>\n",
              "      <td>[ , Karkat, Simha, Kanya, Tula, Vrishchik, Dha...</td>\n",
              "      <td>[ , Mo, Su, Me, Ve, Ma, Ju, Sa, Sa, Ju, Ma, Ve...</td>\n",
              "      <td>[ , 11, 9, 8, 10, 5, 8, 4, 4, 8, 5, 10, 8]</td>\n",
              "      <td>[ , Kumbh, Dhanu, Vrishchik, Makar, Simha, Vri...</td>\n",
              "      <td>{'Su': [2], 'Mo': [1], 'Ma': [5, 10], 'Me': [3...</td>\n",
              "      <td>{'La': 4, 'Su': 9, 'Mo': 11, 'Ma': 5, 'Me': 8,...</td>\n",
              "      <td>...</td>\n",
              "      <td>[False, False, False, False, False, False, Fal...</td>\n",
              "      <td>{'La': ['Ve'], 'Mo': ['Ma'], 'Ma': ['Me', 'Ju'...</td>\n",
              "      <td>{'Ve': ['La', 'Sa'], 'Ma': ['Mo'], 'Mo': ['Ma'...</td>\n",
              "      <td>{'7': ['La', 'Sa'], '12': ['Su'], '2': ['Mo'],...</td>\n",
              "      <td>{'1': ['4', '9', '11', '6'], '2': ['1'], '3': ...</td>\n",
              "      <td>{'Me': ['Ju'], 'Ju': ['Me']}</td>\n",
              "      <td>{'3': ['Ju'], '6': ['Me'], '9': ['Me'], '12': ...</td>\n",
              "      <td>{'3': ['6', '9'], '6': ['3', '12'], '9': ['3',...</td>\n",
              "      <td>{'Su': False, 'Mo': True, 'Ma': True, 'Me': Fa...</td>\n",
              "      <td>{'Su': False, 'Mo': False, 'Ma': False, 'Me': ...</td>\n",
              "    </tr>\n",
              "  </tbody>\n",
              "</table>\n",
              "<p>1 rows × 31 columns</p>\n",
              "</div>\n",
              "      <button class=\"colab-df-convert\" onclick=\"convertToInteractive('df-c879106b-e960-45b4-811c-1913be350e77')\"\n",
              "              title=\"Convert this dataframe to an interactive table.\"\n",
              "              style=\"display:none;\">\n",
              "        \n",
              "  <svg xmlns=\"http://www.w3.org/2000/svg\" height=\"24px\"viewBox=\"0 0 24 24\"\n",
              "       width=\"24px\">\n",
              "    <path d=\"M0 0h24v24H0V0z\" fill=\"none\"/>\n",
              "    <path d=\"M18.56 5.44l.94 2.06.94-2.06 2.06-.94-2.06-.94-.94-2.06-.94 2.06-2.06.94zm-11 1L8.5 8.5l.94-2.06 2.06-.94-2.06-.94L8.5 2.5l-.94 2.06-2.06.94zm10 10l.94 2.06.94-2.06 2.06-.94-2.06-.94-.94-2.06-.94 2.06-2.06.94z\"/><path d=\"M17.41 7.96l-1.37-1.37c-.4-.4-.92-.59-1.43-.59-.52 0-1.04.2-1.43.59L10.3 9.45l-7.72 7.72c-.78.78-.78 2.05 0 2.83L4 21.41c.39.39.9.59 1.41.59.51 0 1.02-.2 1.41-.59l7.78-7.78 2.81-2.81c.8-.78.8-2.07 0-2.86zM5.41 20L4 18.59l7.72-7.72 1.47 1.35L5.41 20z\"/>\n",
              "  </svg>\n",
              "      </button>\n",
              "      \n",
              "  <style>\n",
              "    .colab-df-container {\n",
              "      display:flex;\n",
              "      flex-wrap:wrap;\n",
              "      gap: 12px;\n",
              "    }\n",
              "\n",
              "    .colab-df-convert {\n",
              "      background-color: #E8F0FE;\n",
              "      border: none;\n",
              "      border-radius: 50%;\n",
              "      cursor: pointer;\n",
              "      display: none;\n",
              "      fill: #1967D2;\n",
              "      height: 32px;\n",
              "      padding: 0 0 0 0;\n",
              "      width: 32px;\n",
              "    }\n",
              "\n",
              "    .colab-df-convert:hover {\n",
              "      background-color: #E2EBFA;\n",
              "      box-shadow: 0px 1px 2px rgba(60, 64, 67, 0.3), 0px 1px 3px 1px rgba(60, 64, 67, 0.15);\n",
              "      fill: #174EA6;\n",
              "    }\n",
              "\n",
              "    [theme=dark] .colab-df-convert {\n",
              "      background-color: #3B4455;\n",
              "      fill: #D2E3FC;\n",
              "    }\n",
              "\n",
              "    [theme=dark] .colab-df-convert:hover {\n",
              "      background-color: #434B5C;\n",
              "      box-shadow: 0px 1px 3px 1px rgba(0, 0, 0, 0.15);\n",
              "      filter: drop-shadow(0px 1px 2px rgba(0, 0, 0, 0.3));\n",
              "      fill: #FFFFFF;\n",
              "    }\n",
              "  </style>\n",
              "\n",
              "      <script>\n",
              "        const buttonEl =\n",
              "          document.querySelector('#df-c879106b-e960-45b4-811c-1913be350e77 button.colab-df-convert');\n",
              "        buttonEl.style.display =\n",
              "          google.colab.kernel.accessAllowed ? 'block' : 'none';\n",
              "\n",
              "        async function convertToInteractive(key) {\n",
              "          const element = document.querySelector('#df-c879106b-e960-45b4-811c-1913be350e77');\n",
              "          const dataTable =\n",
              "            await google.colab.kernel.invokeFunction('convertToInteractive',\n",
              "                                                     [key], {});\n",
              "          if (!dataTable) return;\n",
              "\n",
              "          const docLinkHtml = 'Like what you see? Visit the ' +\n",
              "            '<a target=\"_blank\" href=https://colab.research.google.com/notebooks/data_table.ipynb>data table notebook</a>'\n",
              "            + ' to learn more about interactive tables.';\n",
              "          element.innerHTML = '';\n",
              "          dataTable['output_type'] = 'display_data';\n",
              "          await google.colab.output.renderOutput(dataTable, element);\n",
              "          const docLink = document.createElement('div');\n",
              "          docLink.innerHTML = docLinkHtml;\n",
              "          element.appendChild(docLink);\n",
              "        }\n",
              "      </script>\n",
              "    </div>\n",
              "  </div>\n",
              "  "
            ]
          },
          "metadata": {},
          "execution_count": 23
        }
      ]
    },
    {
      "cell_type": "code",
      "source": [
        "#!cp peopleData.json /content/drive/'My Drive'/Prithwis/Parashar21/ChartCast/ChartData2/peopleData_39662_21Sep22"
      ],
      "metadata": {
        "id": "t6GypjpHIC01"
      },
      "execution_count": null,
      "outputs": []
    },
    {
      "cell_type": "markdown",
      "source": [
        "#Redundant Stuff \n",
        "too scared to throw it away!"
      ],
      "metadata": {
        "id": "9r0Vb3R-Gr_u"
      }
    },
    {
      "cell_type": "code",
      "source": [
        "%%time\n",
        "p21.ChartType = 'Rashi'                                 # one of ['Rashi','Navamsa']\n",
        "\n",
        "writeFile =  open(\"peopleData.json\", \"w\")  \n",
        "for person in range(len(df)):\n",
        "    try :\n",
        "        personData =df.iloc[person]\n",
        "        p21swe.C02_parsePersonData(personData)                  # split the data, extract required data into fields\n",
        "                                                                # create skeleton chart json doc as p21.chart\n",
        "        p21swe.C03_convertDates()                               # convert date, time of birth into universal time, calculate Ayanamsha\n",
        "        p21swe.C04_calculateGrahaPositions()                    # calculate the Lon of each Graha along with Retrograde staus\n",
        "\n",
        "                    #Horoscope is defined in terms of Natal Longitudes and Retrogrades\n",
        "                    # for example\n",
        "                    #GLon = {\"La\":98.5,\"Su\":178.9,\"Mo\":250.6,\"Ma\":196.2,\"Me\":193.2,\"Ju\":274.8,\"Ve\":153.8,\"Sa\":270.2,\"Ra\":122.1,\"Ke\":302.1}\n",
        "                    #GRet = {\"La\":False,\"Su\":False,\"Mo\":False,\"Ma\":False,\"Me\":True,\"Ju\":False,\"Ve\":False,\"Sa\":False,\"Ra\":True,\"Ke\":True}\n",
        "\n",
        "        p21swe.C05_buildGLonGRet()                              # create two json docs ( python dicts) to store Graha Lon and Ret status\n",
        "                                                                # these are stored as global variables p21.GLon, p21.GRet\n",
        "        p21utils.appendDict(p21.chart,p21.GLonRet)              # add Lon, Ret information to chart\n",
        "        \n",
        "        # ----------------------------------------\n",
        "        p21utils.R11_LocateGrahaInRashi()\n",
        "        \n",
        "        p21utils.C10_DetermineBhavs()                           # determine Houses for person\n",
        "        p21utils.appendDict(p21.chart,p21.BhavNBhavA)           # add BhavN, BhavA information to chart   \n",
        "         \n",
        "        # ----------------------------------------    \n",
        "        p21utils.C11_DetermineLord()                            # determine Lords of Bhavs\n",
        "        p21utils.appendDict(p21.chart,p21.LordInfo)             #  add information on Lords   \n",
        "\n",
        "        p21utils.C12_BhavOfGraha_Lord()\n",
        "        p21utils.appendDict(p21.chart,p21.BhavOfGraha_LordInfo) #  add information on Bhav Residency of Graha and Lords  \n",
        "        \n",
        "        \n",
        "        p21utils.C21_DeterminePositions()\n",
        "        p21utils.appendDict(p21.chart,p21.Positions)            #  add information on Graha / Lord POSITIONS  \n",
        "\n",
        "        p21utils.C31_DetermineAspects()\n",
        "        p21utils.appendDict(p21.chart,p21.Aspects)              #  add information on Graha / Lord ASPECTS  \n",
        "\n",
        "        p21utils.C41_DetermineConjuncts()           \n",
        "        p21utils.appendDict(p21.chart,p21.Conjuncts)            #  add information on Graha / Lord Conjuncts\n",
        "    except :\n",
        "        print('error on record ', person)\n",
        "    else :\n",
        "        #insert_result = kollection.insert_one(p21.chart)        # insert one json doc, chart to database\n",
        "        #insert_result.acknowledged                              # Confirms that insert is successful\n",
        "                                                                 # Bypassing insertion into MongoDB will make processing much faster\n",
        "        json.dump(p21.chart, writeFile)                          # Storing chart data as JSON file\n",
        "    finally:\n",
        "        if ( person % 1000 ) == 0:\n",
        "            print(person, \"records processed\")\n",
        "    \n",
        "writeFile.close()\n",
        "#!cp peopleData.json /content/drive/'My Drive'/Prithwis/Parashar21/ChartCast/ChartData2/"
      ],
      "metadata": {
        "id": "gKH8oTMAKZMI",
        "colab": {
          "base_uri": "https://localhost:8080/"
        },
        "outputId": "cfa81d22-9269-4d77-a312-2a48f841ce28"
      },
      "execution_count": null,
      "outputs": [
        {
          "output_type": "stream",
          "name": "stdout",
          "text": [
            "0 records processed\n",
            "CPU times: user 11.6 ms, sys: 0 ns, total: 11.6 ms\n",
            "Wall time: 11.6 ms\n"
          ]
        }
      ]
    },
    {
      "cell_type": "code",
      "source": [
        "#Retrieves Charts based on tags\n",
        "pd.DataFrame(list(kollection.find({'pid.tags': {\"$in\": ['Scientist','Author']}},{'pid.tags':1,'GLon':1,'GRet':1,'_id':0})))\n",
        "c = kollection.find({'pid.tags': {\"$in\": ['Scientist','Author']}},{'pid.tags':1,'GLon':1,'GRet':1,'_id':0})\n",
        "for crnt in c:\n",
        "    print(crnt)"
      ],
      "metadata": {
        "id": "ExBPG3O9HazN",
        "outputId": "d167a824-1ba8-461c-ad2a-7a75a7c89593",
        "colab": {
          "base_uri": "https://localhost:8080/"
        }
      },
      "execution_count": null,
      "outputs": [
        {
          "output_type": "stream",
          "name": "stdout",
          "text": [
            "{'pid': {'tags': ['Author', 'Homemaker', 'PostGraduate']}, 'GLon': {'La': 310.415, 'Su': 243.701, 'Mo': 201.001, 'Ma': 273.467, 'Me': 222.269, 'Ju': 62.748, 'Ve': 284.966, 'Sa': 318.17, 'Ra': 41.248, 'Ke': 221.248}, 'GRet': {'La': False, 'Su': False, 'Mo': False, 'Ma': False, 'Me': False, 'Ju': True, 'Ve': False, 'Sa': False, 'Ra': False, 'Ke': False}}\n",
            "{'pid': {'tags': ['Biologist', 'Scientist', 'PostGraduate']}, 'GLon': {'La': 84.138, 'Su': 145.068, 'Mo': 54.233, 'Ma': 41.525, 'Me': 138.242, 'Ju': 101.216, 'Ve': 131.788, 'Sa': 265.084, 'Ra': 282.763, 'Ke': 102.763}, 'GRet': {'La': False, 'Su': False, 'Mo': False, 'Ma': False, 'Me': True, 'Ju': False, 'Ve': False, 'Sa': True, 'Ra': False, 'Ke': False}}\n"
          ]
        }
      ]
    },
    {
      "cell_type": "markdown",
      "metadata": {
        "id": "QGxOl9rdrvEg"
      },
      "source": [
        "#Chronobooks <br>\n",
        "![alt text](https://1.bp.blogspot.com/-lTiYBkU2qbU/X1er__fvnkI/AAAAAAAAjtE/GhDR3OEGJr4NG43fZPodrQD5kbxtnKebgCLcBGAsYHQ/s600/Footer2020-600x200.png)<hr>\n",
        "Chronotantra and Chronoyantra are two science fiction novels that explore the collapse of human civilisation on Earth and then its rebirth and reincarnation both on Earth as well as on the distant worlds of Mars, Titan and Enceladus. But is it the human civilisation that is being reborn? Or is it some other sentience that is revealing itself. \n",
        "If you have an interest in AI and found this material useful, you may consider buying these novels, in paperback or kindle, from [http://bit.ly/chronobooks](http://bit.ly/chronobooks)"
      ]
    }
  ]
}