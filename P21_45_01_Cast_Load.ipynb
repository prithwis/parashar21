{
  "nbformat": 4,
  "nbformat_minor": 0,
  "metadata": {
    "colab": {
      "name": "P21_45_Cast_Load.ipynb",
      "provenance": [],
      "toc_visible": true,
      "include_colab_link": true
    },
    "kernelspec": {
      "name": "python3",
      "display_name": "Python 3"
    }
  },
  "cells": [
    {
      "cell_type": "markdown",
      "metadata": {
        "id": "view-in-github",
        "colab_type": "text"
      },
      "source": [
        "<a href=\"https://colab.research.google.com/github/prithwis/parashar21/blob/main/P21_45_01_Cast_Load.ipynb\" target=\"_parent\"><img src=\"https://colab.research.google.com/assets/colab-badge.svg\" alt=\"Open In Colab\"/></a>"
      ]
    },
    {
      "cell_type": "markdown",
      "metadata": {
        "id": "m3d-QHg6rqr-"
      },
      "source": [
        "![alt text](http://1.bp.blogspot.com/_5QlanosqxiQ/SXLOLTu7S7I/AAAAAAAAAm8/0r6C7lCxsic/S1600-R/p21-header-003.png) <br>\n",
        "\n",
        "\n",
        "---\n",
        "\n",
        "\n",
        "\n",
        "[Prithwis Mukerjee](http://www.yantrajaal.com) ||\n",
        "Website - [Parashar21](https://parashar21.blogspot.com)<br>"
      ]
    },
    {
      "cell_type": "markdown",
      "source": [
        "Copyright (c) 2022, Prithwis Mukerjee\n",
        "All rights reserved.\n",
        "\n",
        "This source code is licensed under the GNU GPL v3.0 -style license found in the\n",
        "LICENSE file in the root directory of this source tree. "
      ],
      "metadata": {
        "id": "FzmJB_cR0xzp"
      }
    },
    {
      "cell_type": "markdown",
      "source": [
        "#Create Charts, Store in MongoDB\n",
        "This application needs access to a hosted, persistent MongoDB database along with credentials to access the same. If the absence of such facilities, users may use the  [P21_45_06_SingleChart_Details](https://github.com/prithwis/parashar21/blob/main/P21_45_06_SingleChart_Details.ipynb) application or the [P21_45_04_YogFilter](https://github.com/prithwis/parashar21/blob/main/P21_45_04_YogFilter.ipynb) application to test out the concepts. <br>\n",
        "These applications install a local copy of MongoDB for which no access credentials are required."
      ],
      "metadata": {
        "id": "Q5dCCZlf8nLK"
      }
    },
    {
      "cell_type": "markdown",
      "source": [
        "#Setup"
      ],
      "metadata": {
        "id": "BgG7KnOslRT-"
      }
    },
    {
      "cell_type": "markdown",
      "metadata": {
        "id": "6az36FX6Rpit"
      },
      "source": [
        "##Install Swiss Ephemeris <br>\n",
        "\n",
        "https://pypi.org/project/pyswisseph/  - Python Package Documentation <br>\n",
        "https://www.astro.com/swisseph/swephinfo_e.htm <br>\n",
        "https://www.astro.com/swisseph/swephprg.htm - Programmer Documentation <br>\n",
        "https://pythonhosted.org/pyswisseph/swisseph-module.html"
      ]
    },
    {
      "cell_type": "code",
      "metadata": {
        "id": "THZf8D8fQsXm",
        "colab": {
          "base_uri": "https://localhost:8080/"
        },
        "outputId": "12bf8b18-2db6-402d-907e-73f41588d376"
      },
      "source": [
        "!pip -qq install pyswisseph                                 # https://stackoverflow.com/questions/64277506/pip-install-options-unclear\n",
        "#!pip -qq install python_string_utils\n",
        "#!pip -qq install python-docx                                #https://python-docx.readthedocs.io/en/latest/\n",
        "#!pip install pyswisseph==2.10.2.0.dev1\n",
        "\n",
        "# required for accessing Atlas servers \n",
        "!/usr/bin/python3 -m pip install \"pymongo[srv]\"\n",
        "!apt install mongodb > /dev/null"
      ],
      "execution_count": null,
      "outputs": [
        {
          "output_type": "stream",
          "name": "stdout",
          "text": [
            "\u001b[?25l\r\u001b[K     |▏                               | 10 kB 17.7 MB/s eta 0:00:01\r\u001b[K     |▍                               | 20 kB 19.2 MB/s eta 0:00:01\r\u001b[K     |▌                               | 30 kB 23.5 MB/s eta 0:00:01\r\u001b[K     |▊                               | 40 kB 22.2 MB/s eta 0:00:01\r\u001b[K     |█                               | 51 kB 19.0 MB/s eta 0:00:01\r\u001b[K     |█                               | 61 kB 21.1 MB/s eta 0:00:01\r\u001b[K     |█▎                              | 71 kB 17.1 MB/s eta 0:00:01\r\u001b[K     |█▌                              | 81 kB 18.2 MB/s eta 0:00:01\r\u001b[K     |█▋                              | 92 kB 19.6 MB/s eta 0:00:01\r\u001b[K     |█▉                              | 102 kB 20.4 MB/s eta 0:00:01\r\u001b[K     |██                              | 112 kB 20.4 MB/s eta 0:00:01\r\u001b[K     |██▏                             | 122 kB 20.4 MB/s eta 0:00:01\r\u001b[K     |██▍                             | 133 kB 20.4 MB/s eta 0:00:01\r\u001b[K     |██▌                             | 143 kB 20.4 MB/s eta 0:00:01\r\u001b[K     |██▊                             | 153 kB 20.4 MB/s eta 0:00:01\r\u001b[K     |███                             | 163 kB 20.4 MB/s eta 0:00:01\r\u001b[K     |███                             | 174 kB 20.4 MB/s eta 0:00:01\r\u001b[K     |███▎                            | 184 kB 20.4 MB/s eta 0:00:01\r\u001b[K     |███▌                            | 194 kB 20.4 MB/s eta 0:00:01\r\u001b[K     |███▋                            | 204 kB 20.4 MB/s eta 0:00:01\r\u001b[K     |███▉                            | 215 kB 20.4 MB/s eta 0:00:01\r\u001b[K     |████                            | 225 kB 20.4 MB/s eta 0:00:01\r\u001b[K     |████▏                           | 235 kB 20.4 MB/s eta 0:00:01\r\u001b[K     |████▍                           | 245 kB 20.4 MB/s eta 0:00:01\r\u001b[K     |████▌                           | 256 kB 20.4 MB/s eta 0:00:01\r\u001b[K     |████▊                           | 266 kB 20.4 MB/s eta 0:00:01\r\u001b[K     |█████                           | 276 kB 20.4 MB/s eta 0:00:01\r\u001b[K     |█████                           | 286 kB 20.4 MB/s eta 0:00:01\r\u001b[K     |█████▎                          | 296 kB 20.4 MB/s eta 0:00:01\r\u001b[K     |█████▌                          | 307 kB 20.4 MB/s eta 0:00:01\r\u001b[K     |█████▋                          | 317 kB 20.4 MB/s eta 0:00:01\r\u001b[K     |█████▉                          | 327 kB 20.4 MB/s eta 0:00:01\r\u001b[K     |██████                          | 337 kB 20.4 MB/s eta 0:00:01\r\u001b[K     |██████▏                         | 348 kB 20.4 MB/s eta 0:00:01\r\u001b[K     |██████▍                         | 358 kB 20.4 MB/s eta 0:00:01\r\u001b[K     |██████▌                         | 368 kB 20.4 MB/s eta 0:00:01\r\u001b[K     |██████▊                         | 378 kB 20.4 MB/s eta 0:00:01\r\u001b[K     |███████                         | 389 kB 20.4 MB/s eta 0:00:01\r\u001b[K     |███████                         | 399 kB 20.4 MB/s eta 0:00:01\r\u001b[K     |███████▎                        | 409 kB 20.4 MB/s eta 0:00:01\r\u001b[K     |███████▌                        | 419 kB 20.4 MB/s eta 0:00:01\r\u001b[K     |███████▋                        | 430 kB 20.4 MB/s eta 0:00:01\r\u001b[K     |███████▉                        | 440 kB 20.4 MB/s eta 0:00:01\r\u001b[K     |████████                        | 450 kB 20.4 MB/s eta 0:00:01\r\u001b[K     |████████▏                       | 460 kB 20.4 MB/s eta 0:00:01\r\u001b[K     |████████▍                       | 471 kB 20.4 MB/s eta 0:00:01\r\u001b[K     |████████▌                       | 481 kB 20.4 MB/s eta 0:00:01\r\u001b[K     |████████▊                       | 491 kB 20.4 MB/s eta 0:00:01\r\u001b[K     |█████████                       | 501 kB 20.4 MB/s eta 0:00:01\r\u001b[K     |█████████                       | 512 kB 20.4 MB/s eta 0:00:01\r\u001b[K     |█████████▎                      | 522 kB 20.4 MB/s eta 0:00:01\r\u001b[K     |█████████▌                      | 532 kB 20.4 MB/s eta 0:00:01\r\u001b[K     |█████████▋                      | 542 kB 20.4 MB/s eta 0:00:01\r\u001b[K     |█████████▉                      | 552 kB 20.4 MB/s eta 0:00:01\r\u001b[K     |██████████                      | 563 kB 20.4 MB/s eta 0:00:01\r\u001b[K     |██████████▏                     | 573 kB 20.4 MB/s eta 0:00:01\r\u001b[K     |██████████▍                     | 583 kB 20.4 MB/s eta 0:00:01\r\u001b[K     |██████████▌                     | 593 kB 20.4 MB/s eta 0:00:01\r\u001b[K     |██████████▊                     | 604 kB 20.4 MB/s eta 0:00:01\r\u001b[K     |███████████                     | 614 kB 20.4 MB/s eta 0:00:01\r\u001b[K     |███████████                     | 624 kB 20.4 MB/s eta 0:00:01\r\u001b[K     |███████████▎                    | 634 kB 20.4 MB/s eta 0:00:01\r\u001b[K     |███████████▌                    | 645 kB 20.4 MB/s eta 0:00:01\r\u001b[K     |███████████▋                    | 655 kB 20.4 MB/s eta 0:00:01\r\u001b[K     |███████████▉                    | 665 kB 20.4 MB/s eta 0:00:01\r\u001b[K     |████████████                    | 675 kB 20.4 MB/s eta 0:00:01\r\u001b[K     |████████████▏                   | 686 kB 20.4 MB/s eta 0:00:01\r\u001b[K     |████████████▍                   | 696 kB 20.4 MB/s eta 0:00:01\r\u001b[K     |████████████▋                   | 706 kB 20.4 MB/s eta 0:00:01\r\u001b[K     |████████████▊                   | 716 kB 20.4 MB/s eta 0:00:01\r\u001b[K     |█████████████                   | 727 kB 20.4 MB/s eta 0:00:01\r\u001b[K     |█████████████                   | 737 kB 20.4 MB/s eta 0:00:01\r\u001b[K     |█████████████▎                  | 747 kB 20.4 MB/s eta 0:00:01\r\u001b[K     |█████████████▌                  | 757 kB 20.4 MB/s eta 0:00:01\r\u001b[K     |█████████████▋                  | 768 kB 20.4 MB/s eta 0:00:01\r\u001b[K     |█████████████▉                  | 778 kB 20.4 MB/s eta 0:00:01\r\u001b[K     |██████████████                  | 788 kB 20.4 MB/s eta 0:00:01\r\u001b[K     |██████████████▏                 | 798 kB 20.4 MB/s eta 0:00:01\r\u001b[K     |██████████████▍                 | 808 kB 20.4 MB/s eta 0:00:01\r\u001b[K     |██████████████▋                 | 819 kB 20.4 MB/s eta 0:00:01\r\u001b[K     |██████████████▊                 | 829 kB 20.4 MB/s eta 0:00:01\r\u001b[K     |███████████████                 | 839 kB 20.4 MB/s eta 0:00:01\r\u001b[K     |███████████████                 | 849 kB 20.4 MB/s eta 0:00:01\r\u001b[K     |███████████████▎                | 860 kB 20.4 MB/s eta 0:00:01\r\u001b[K     |███████████████▌                | 870 kB 20.4 MB/s eta 0:00:01\r\u001b[K     |███████████████▋                | 880 kB 20.4 MB/s eta 0:00:01\r\u001b[K     |███████████████▉                | 890 kB 20.4 MB/s eta 0:00:01\r\u001b[K     |████████████████                | 901 kB 20.4 MB/s eta 0:00:01\r\u001b[K     |████████████████▏               | 911 kB 20.4 MB/s eta 0:00:01\r\u001b[K     |████████████████▍               | 921 kB 20.4 MB/s eta 0:00:01\r\u001b[K     |████████████████▋               | 931 kB 20.4 MB/s eta 0:00:01\r\u001b[K     |████████████████▊               | 942 kB 20.4 MB/s eta 0:00:01\r\u001b[K     |█████████████████               | 952 kB 20.4 MB/s eta 0:00:01\r\u001b[K     |█████████████████               | 962 kB 20.4 MB/s eta 0:00:01\r\u001b[K     |█████████████████▎              | 972 kB 20.4 MB/s eta 0:00:01\r\u001b[K     |█████████████████▌              | 983 kB 20.4 MB/s eta 0:00:01\r\u001b[K     |█████████████████▋              | 993 kB 20.4 MB/s eta 0:00:01\r\u001b[K     |█████████████████▉              | 1.0 MB 20.4 MB/s eta 0:00:01\r\u001b[K     |██████████████████              | 1.0 MB 20.4 MB/s eta 0:00:01\r\u001b[K     |██████████████████▏             | 1.0 MB 20.4 MB/s eta 0:00:01\r\u001b[K     |██████████████████▍             | 1.0 MB 20.4 MB/s eta 0:00:01\r\u001b[K     |██████████████████▋             | 1.0 MB 20.4 MB/s eta 0:00:01\r\u001b[K     |██████████████████▊             | 1.1 MB 20.4 MB/s eta 0:00:01\r\u001b[K     |███████████████████             | 1.1 MB 20.4 MB/s eta 0:00:01\r\u001b[K     |███████████████████             | 1.1 MB 20.4 MB/s eta 0:00:01\r\u001b[K     |███████████████████▎            | 1.1 MB 20.4 MB/s eta 0:00:01\r\u001b[K     |███████████████████▌            | 1.1 MB 20.4 MB/s eta 0:00:01\r\u001b[K     |███████████████████▋            | 1.1 MB 20.4 MB/s eta 0:00:01\r\u001b[K     |███████████████████▉            | 1.1 MB 20.4 MB/s eta 0:00:01\r\u001b[K     |████████████████████            | 1.1 MB 20.4 MB/s eta 0:00:01\r\u001b[K     |████████████████████▏           | 1.1 MB 20.4 MB/s eta 0:00:01\r\u001b[K     |████████████████████▍           | 1.1 MB 20.4 MB/s eta 0:00:01\r\u001b[K     |████████████████████▋           | 1.2 MB 20.4 MB/s eta 0:00:01\r\u001b[K     |████████████████████▊           | 1.2 MB 20.4 MB/s eta 0:00:01\r\u001b[K     |█████████████████████           | 1.2 MB 20.4 MB/s eta 0:00:01\r\u001b[K     |█████████████████████           | 1.2 MB 20.4 MB/s eta 0:00:01\r\u001b[K     |█████████████████████▎          | 1.2 MB 20.4 MB/s eta 0:00:01\r\u001b[K     |█████████████████████▌          | 1.2 MB 20.4 MB/s eta 0:00:01\r\u001b[K     |█████████████████████▋          | 1.2 MB 20.4 MB/s eta 0:00:01\r\u001b[K     |█████████████████████▉          | 1.2 MB 20.4 MB/s eta 0:00:01\r\u001b[K     |██████████████████████          | 1.2 MB 20.4 MB/s eta 0:00:01\r\u001b[K     |██████████████████████▏         | 1.2 MB 20.4 MB/s eta 0:00:01\r\u001b[K     |██████████████████████▍         | 1.3 MB 20.4 MB/s eta 0:00:01\r\u001b[K     |██████████████████████▋         | 1.3 MB 20.4 MB/s eta 0:00:01\r\u001b[K     |██████████████████████▊         | 1.3 MB 20.4 MB/s eta 0:00:01\r\u001b[K     |███████████████████████         | 1.3 MB 20.4 MB/s eta 0:00:01\r\u001b[K     |███████████████████████▏        | 1.3 MB 20.4 MB/s eta 0:00:01\r\u001b[K     |███████████████████████▎        | 1.3 MB 20.4 MB/s eta 0:00:01\r\u001b[K     |███████████████████████▌        | 1.3 MB 20.4 MB/s eta 0:00:01\r\u001b[K     |███████████████████████▋        | 1.3 MB 20.4 MB/s eta 0:00:01\r\u001b[K     |███████████████████████▉        | 1.3 MB 20.4 MB/s eta 0:00:01\r\u001b[K     |████████████████████████        | 1.4 MB 20.4 MB/s eta 0:00:01\r\u001b[K     |████████████████████████▏       | 1.4 MB 20.4 MB/s eta 0:00:01\r\u001b[K     |████████████████████████▍       | 1.4 MB 20.4 MB/s eta 0:00:01\r\u001b[K     |████████████████████████▋       | 1.4 MB 20.4 MB/s eta 0:00:01\r\u001b[K     |████████████████████████▊       | 1.4 MB 20.4 MB/s eta 0:00:01\r\u001b[K     |█████████████████████████       | 1.4 MB 20.4 MB/s eta 0:00:01\r\u001b[K     |█████████████████████████▏      | 1.4 MB 20.4 MB/s eta 0:00:01\r\u001b[K     |█████████████████████████▎      | 1.4 MB 20.4 MB/s eta 0:00:01\r\u001b[K     |█████████████████████████▌      | 1.4 MB 20.4 MB/s eta 0:00:01\r\u001b[K     |█████████████████████████▋      | 1.4 MB 20.4 MB/s eta 0:00:01\r\u001b[K     |█████████████████████████▉      | 1.5 MB 20.4 MB/s eta 0:00:01\r\u001b[K     |██████████████████████████      | 1.5 MB 20.4 MB/s eta 0:00:01\r\u001b[K     |██████████████████████████▏     | 1.5 MB 20.4 MB/s eta 0:00:01\r\u001b[K     |██████████████████████████▍     | 1.5 MB 20.4 MB/s eta 0:00:01\r\u001b[K     |██████████████████████████▋     | 1.5 MB 20.4 MB/s eta 0:00:01\r\u001b[K     |██████████████████████████▊     | 1.5 MB 20.4 MB/s eta 0:00:01\r\u001b[K     |███████████████████████████     | 1.5 MB 20.4 MB/s eta 0:00:01\r\u001b[K     |███████████████████████████▏    | 1.5 MB 20.4 MB/s eta 0:00:01\r\u001b[K     |███████████████████████████▎    | 1.5 MB 20.4 MB/s eta 0:00:01\r\u001b[K     |███████████████████████████▌    | 1.5 MB 20.4 MB/s eta 0:00:01\r\u001b[K     |███████████████████████████▋    | 1.6 MB 20.4 MB/s eta 0:00:01\r\u001b[K     |███████████████████████████▉    | 1.6 MB 20.4 MB/s eta 0:00:01\r\u001b[K     |████████████████████████████    | 1.6 MB 20.4 MB/s eta 0:00:01\r\u001b[K     |████████████████████████████▏   | 1.6 MB 20.4 MB/s eta 0:00:01\r\u001b[K     |████████████████████████████▍   | 1.6 MB 20.4 MB/s eta 0:00:01\r\u001b[K     |████████████████████████████▋   | 1.6 MB 20.4 MB/s eta 0:00:01\r\u001b[K     |████████████████████████████▊   | 1.6 MB 20.4 MB/s eta 0:00:01\r\u001b[K     |█████████████████████████████   | 1.6 MB 20.4 MB/s eta 0:00:01\r\u001b[K     |█████████████████████████████▏  | 1.6 MB 20.4 MB/s eta 0:00:01\r\u001b[K     |█████████████████████████████▎  | 1.6 MB 20.4 MB/s eta 0:00:01\r\u001b[K     |█████████████████████████████▌  | 1.7 MB 20.4 MB/s eta 0:00:01\r\u001b[K     |█████████████████████████████▋  | 1.7 MB 20.4 MB/s eta 0:00:01\r\u001b[K     |█████████████████████████████▉  | 1.7 MB 20.4 MB/s eta 0:00:01\r\u001b[K     |██████████████████████████████  | 1.7 MB 20.4 MB/s eta 0:00:01\r\u001b[K     |██████████████████████████████▏ | 1.7 MB 20.4 MB/s eta 0:00:01\r\u001b[K     |██████████████████████████████▍ | 1.7 MB 20.4 MB/s eta 0:00:01\r\u001b[K     |██████████████████████████████▋ | 1.7 MB 20.4 MB/s eta 0:00:01\r\u001b[K     |██████████████████████████████▊ | 1.7 MB 20.4 MB/s eta 0:00:01\r\u001b[K     |███████████████████████████████ | 1.7 MB 20.4 MB/s eta 0:00:01\r\u001b[K     |███████████████████████████████▏| 1.8 MB 20.4 MB/s eta 0:00:01\r\u001b[K     |███████████████████████████████▎| 1.8 MB 20.4 MB/s eta 0:00:01\r\u001b[K     |███████████████████████████████▌| 1.8 MB 20.4 MB/s eta 0:00:01\r\u001b[K     |███████████████████████████████▋| 1.8 MB 20.4 MB/s eta 0:00:01\r\u001b[K     |███████████████████████████████▉| 1.8 MB 20.4 MB/s eta 0:00:01\r\u001b[K     |████████████████████████████████| 1.8 MB 20.4 MB/s \n",
            "\u001b[?25hLooking in indexes: https://pypi.org/simple, https://us-python.pkg.dev/colab-wheels/public/simple/\n",
            "Requirement already satisfied: pymongo[srv] in /usr/local/lib/python3.7/dist-packages (4.2.0)\n",
            "Collecting dnspython<3.0.0,>=1.16.0\n",
            "  Downloading dnspython-2.2.1-py3-none-any.whl (269 kB)\n",
            "\u001b[K     |████████████████████████████████| 269 kB 19.0 MB/s \n",
            "\u001b[?25hInstalling collected packages: dnspython\n",
            "Successfully installed dnspython-2.2.1\n",
            "\n",
            "WARNING: apt does not have a stable CLI interface. Use with caution in scripts.\n",
            "\n"
          ]
        }
      ]
    },
    {
      "cell_type": "code",
      "source": [
        "from pymongo import MongoClient\n",
        "import pandas as pd\n",
        "import dateutil\n",
        "#import string_utils\n",
        "import json\n",
        "#from docx import Document\n",
        "#from docx.shared import Inches\n",
        "#from docx.enum.text import WD_ALIGN_PARAGRAPH"
      ],
      "metadata": {
        "id": "U9x7jNZKPRU0"
      },
      "execution_count": null,
      "outputs": []
    },
    {
      "cell_type": "code",
      "source": [
        "#Load p21 modules from github\n",
        "!wget -O p21.py -q https://raw.githubusercontent.com/prithwis/parashar21/main/utils/p21.py                  # all global variables\n",
        "!wget -O p21swe.py -q https://raw.githubusercontent.com/prithwis/parashar21/main/utils/p21swe.py            # Swiss Ephemeris functions\n",
        "!wget -O p21utils.py -q https://raw.githubusercontent.com/prithwis/parashar21/main/utils/p21utils.py        # large number of utility functions\n",
        "#!wget -O p21utilsR.py -q https://raw.githubusercontent.com/prithwis/parashar21/main/utils/p21utilsR.py        # large number of utility functions\n",
        "#!wget -O p21YogInfo.py -q https://raw.githubusercontent.com/prithwis/parashar21/main/utils/p21YogInfo.py    # yog data - description and conditions \n",
        "\n"
      ],
      "metadata": {
        "id": "QHzOd2Nll-Wd"
      },
      "execution_count": null,
      "outputs": []
    },
    {
      "cell_type": "code",
      "source": [
        "# ---------------------------\n",
        "import p21\n",
        "import p21swe\n",
        "import p21utils\n",
        "#import p21utilsR\n",
        "#import p21YogInfo\n",
        "# ------------------------------------------------\n",
        "# required for multiple imports of the same module\n",
        "# ------------------------------------------------\n",
        "import importlib\n",
        "importlib.reload(p21)\n",
        "importlib.reload(p21swe)\n",
        "importlib.reload(p21utils)\n",
        "#importlib.reload(p21utilsR)\n",
        "#importlib.reload(p21YogInfo)"
      ],
      "metadata": {
        "colab": {
          "base_uri": "https://localhost:8080/"
        },
        "id": "PbjLh4XlALOO",
        "outputId": "0481c6a7-1ff2-4c4c-f5c9-571b1da5ba0e"
      },
      "execution_count": null,
      "outputs": [
        {
          "output_type": "stream",
          "name": "stdout",
          "text": [
            "p21utils imported\n",
            "p21swe imported\n",
            "p21swe imported\n",
            "p21utils imported\n"
          ]
        },
        {
          "output_type": "execute_result",
          "data": {
            "text/plain": [
              "<module 'p21utils' from '/content/p21utils.py'>"
            ]
          },
          "metadata": {},
          "execution_count": 4
        }
      ]
    },
    {
      "cell_type": "code",
      "metadata": {
        "id": "INsjq9opScbt"
      },
      "source": [
        "#Download Swiss Ephemeris Files \n",
        "!wget -q http://www.astro.com/ftp/swisseph/ephe/seas_18.se1\n",
        "!wget -q http://www.astro.com/ftp/swisseph/ephe/semo_18.se1\n",
        "!wget -q http://www.astro.com/ftp/swisseph/ephe/sepl_18.se1\n",
        "!mkdir ephe\n",
        "!mv *.se1 ephe\n",
        "#------------------------------\n",
        "# Configure SWE with appropriate parameters\n",
        "#\n",
        "p21swe.C01_configSWE()"
      ],
      "execution_count": null,
      "outputs": []
    },
    {
      "cell_type": "markdown",
      "metadata": {
        "id": "uSuVPj3kXcwC"
      },
      "source": [
        "##Read External Data\n",
        "from CSV files\n"
      ]
    },
    {
      "cell_type": "code",
      "source": [
        "import pandas as pd\n",
        "\n",
        "#!wget -O peopleData.csv -q https://raw.githubusercontent.com/prithwis/parashar21/main/data/Test5Data.txt # 5 Person Test Data\n",
        "!wget -O peopleData.csv -q https://github.com/prithwis/parashar21/raw/main/data/Rodden39663.csv\n",
        "\n",
        "#!gdown -O peopleData.csv https://drive.google.com/uc?id=1CVo1gnMZyCD0EZvAoF_wRdTwL7yqIT6L # 5 Person Test Data\n",
        "#!gdown -O peopleData.csv https://drive.google.com/uc?id=1dlvqcygJJh0CfyY_X2MLrWm-W9U0z_6l # 39663 Rodden Data\n",
        "\n",
        "df = pd.read_csv('peopleData.csv')\n",
        "df.head()"
      ],
      "metadata": {
        "colab": {
          "base_uri": "https://localhost:8080/",
          "height": 374
        },
        "id": "iXeCDQStAEd_",
        "outputId": "1017531e-9657-4451-da08-ed6a1f23f91d"
      },
      "execution_count": null,
      "outputs": [
        {
          "output_type": "execute_result",
          "data": {
            "text/plain": [
              "  Gender         Voc1_Cat                     Voc1_Det         Voc2_Cat  \\\n",
              "0      M  Entertain/Music  Instrumentalist (Guitarist)  Entertain/Music   \n",
              "1      M          Writers        Columnist/ journalist          Writers   \n",
              "2      M    Entertainment               Actor/ Actress              nil   \n",
              "3      M    Entertainment               Actor/ Actress    Entertainment   \n",
              "4      M    Entertainment         TV host/ Personality         Politics   \n",
              "\n",
              "                         Voc2_Det         Voc3_Cat                   Voc3_Det  \\\n",
              "0                     Song writer  Entertain/Music  Vocalist/ Pop, Rock, etc.   \n",
              "1              Detective/ Mystery          Writers         Fiction (Novelist)   \n",
              "2                             nil              nil                        nil   \n",
              "3                      Voice-Over              nil                        nil   \n",
              "4  Government employee (Minister)              nil                        nil   \n",
              "\n",
              "   DoB_Day  DoB_Mon  DoB_Year DoB_Time TZ_Off  TZ_OffHours    PoB_Lat  \\\n",
              "0        6       10      1968    17:35    h1e          1.0  48.550000   \n",
              "1       19       12      1947    20:00    h1e          1.0  47.383333   \n",
              "2       21        2      1911    03:00    h1e          1.0  59.916667   \n",
              "3       25        4      1902    07:15    h1e          1.0  59.916667   \n",
              "4        4        1      1933    12:30    h0w         -0.0  38.350000   \n",
              "\n",
              "     PoB_Lon TZ_Name   TZ_Type                        Name  \n",
              "0   3.300000     MET  standard                 A_Dominique  \n",
              "1   0.683333     MET  standard                      A_D_G_  \n",
              "2  10.750000     MET  standard               Aabel_Andreas  \n",
              "3  10.750000     MET  standard                   Aabel_Per  \n",
              "4  -0.483333     GMT  standard  Aal_Pomares_Henri_Francois  "
            ],
            "text/html": [
              "\n",
              "  <div id=\"df-a7042555-3870-45f5-ac7d-f447971c7dfc\">\n",
              "    <div class=\"colab-df-container\">\n",
              "      <div>\n",
              "<style scoped>\n",
              "    .dataframe tbody tr th:only-of-type {\n",
              "        vertical-align: middle;\n",
              "    }\n",
              "\n",
              "    .dataframe tbody tr th {\n",
              "        vertical-align: top;\n",
              "    }\n",
              "\n",
              "    .dataframe thead th {\n",
              "        text-align: right;\n",
              "    }\n",
              "</style>\n",
              "<table border=\"1\" class=\"dataframe\">\n",
              "  <thead>\n",
              "    <tr style=\"text-align: right;\">\n",
              "      <th></th>\n",
              "      <th>Gender</th>\n",
              "      <th>Voc1_Cat</th>\n",
              "      <th>Voc1_Det</th>\n",
              "      <th>Voc2_Cat</th>\n",
              "      <th>Voc2_Det</th>\n",
              "      <th>Voc3_Cat</th>\n",
              "      <th>Voc3_Det</th>\n",
              "      <th>DoB_Day</th>\n",
              "      <th>DoB_Mon</th>\n",
              "      <th>DoB_Year</th>\n",
              "      <th>DoB_Time</th>\n",
              "      <th>TZ_Off</th>\n",
              "      <th>TZ_OffHours</th>\n",
              "      <th>PoB_Lat</th>\n",
              "      <th>PoB_Lon</th>\n",
              "      <th>TZ_Name</th>\n",
              "      <th>TZ_Type</th>\n",
              "      <th>Name</th>\n",
              "    </tr>\n",
              "  </thead>\n",
              "  <tbody>\n",
              "    <tr>\n",
              "      <th>0</th>\n",
              "      <td>M</td>\n",
              "      <td>Entertain/Music</td>\n",
              "      <td>Instrumentalist (Guitarist)</td>\n",
              "      <td>Entertain/Music</td>\n",
              "      <td>Song writer</td>\n",
              "      <td>Entertain/Music</td>\n",
              "      <td>Vocalist/ Pop, Rock, etc.</td>\n",
              "      <td>6</td>\n",
              "      <td>10</td>\n",
              "      <td>1968</td>\n",
              "      <td>17:35</td>\n",
              "      <td>h1e</td>\n",
              "      <td>1.0</td>\n",
              "      <td>48.550000</td>\n",
              "      <td>3.300000</td>\n",
              "      <td>MET</td>\n",
              "      <td>standard</td>\n",
              "      <td>A_Dominique</td>\n",
              "    </tr>\n",
              "    <tr>\n",
              "      <th>1</th>\n",
              "      <td>M</td>\n",
              "      <td>Writers</td>\n",
              "      <td>Columnist/ journalist</td>\n",
              "      <td>Writers</td>\n",
              "      <td>Detective/ Mystery</td>\n",
              "      <td>Writers</td>\n",
              "      <td>Fiction (Novelist)</td>\n",
              "      <td>19</td>\n",
              "      <td>12</td>\n",
              "      <td>1947</td>\n",
              "      <td>20:00</td>\n",
              "      <td>h1e</td>\n",
              "      <td>1.0</td>\n",
              "      <td>47.383333</td>\n",
              "      <td>0.683333</td>\n",
              "      <td>MET</td>\n",
              "      <td>standard</td>\n",
              "      <td>A_D_G_</td>\n",
              "    </tr>\n",
              "    <tr>\n",
              "      <th>2</th>\n",
              "      <td>M</td>\n",
              "      <td>Entertainment</td>\n",
              "      <td>Actor/ Actress</td>\n",
              "      <td>nil</td>\n",
              "      <td>nil</td>\n",
              "      <td>nil</td>\n",
              "      <td>nil</td>\n",
              "      <td>21</td>\n",
              "      <td>2</td>\n",
              "      <td>1911</td>\n",
              "      <td>03:00</td>\n",
              "      <td>h1e</td>\n",
              "      <td>1.0</td>\n",
              "      <td>59.916667</td>\n",
              "      <td>10.750000</td>\n",
              "      <td>MET</td>\n",
              "      <td>standard</td>\n",
              "      <td>Aabel_Andreas</td>\n",
              "    </tr>\n",
              "    <tr>\n",
              "      <th>3</th>\n",
              "      <td>M</td>\n",
              "      <td>Entertainment</td>\n",
              "      <td>Actor/ Actress</td>\n",
              "      <td>Entertainment</td>\n",
              "      <td>Voice-Over</td>\n",
              "      <td>nil</td>\n",
              "      <td>nil</td>\n",
              "      <td>25</td>\n",
              "      <td>4</td>\n",
              "      <td>1902</td>\n",
              "      <td>07:15</td>\n",
              "      <td>h1e</td>\n",
              "      <td>1.0</td>\n",
              "      <td>59.916667</td>\n",
              "      <td>10.750000</td>\n",
              "      <td>MET</td>\n",
              "      <td>standard</td>\n",
              "      <td>Aabel_Per</td>\n",
              "    </tr>\n",
              "    <tr>\n",
              "      <th>4</th>\n",
              "      <td>M</td>\n",
              "      <td>Entertainment</td>\n",
              "      <td>TV host/ Personality</td>\n",
              "      <td>Politics</td>\n",
              "      <td>Government employee (Minister)</td>\n",
              "      <td>nil</td>\n",
              "      <td>nil</td>\n",
              "      <td>4</td>\n",
              "      <td>1</td>\n",
              "      <td>1933</td>\n",
              "      <td>12:30</td>\n",
              "      <td>h0w</td>\n",
              "      <td>-0.0</td>\n",
              "      <td>38.350000</td>\n",
              "      <td>-0.483333</td>\n",
              "      <td>GMT</td>\n",
              "      <td>standard</td>\n",
              "      <td>Aal_Pomares_Henri_Francois</td>\n",
              "    </tr>\n",
              "  </tbody>\n",
              "</table>\n",
              "</div>\n",
              "      <button class=\"colab-df-convert\" onclick=\"convertToInteractive('df-a7042555-3870-45f5-ac7d-f447971c7dfc')\"\n",
              "              title=\"Convert this dataframe to an interactive table.\"\n",
              "              style=\"display:none;\">\n",
              "        \n",
              "  <svg xmlns=\"http://www.w3.org/2000/svg\" height=\"24px\"viewBox=\"0 0 24 24\"\n",
              "       width=\"24px\">\n",
              "    <path d=\"M0 0h24v24H0V0z\" fill=\"none\"/>\n",
              "    <path d=\"M18.56 5.44l.94 2.06.94-2.06 2.06-.94-2.06-.94-.94-2.06-.94 2.06-2.06.94zm-11 1L8.5 8.5l.94-2.06 2.06-.94-2.06-.94L8.5 2.5l-.94 2.06-2.06.94zm10 10l.94 2.06.94-2.06 2.06-.94-2.06-.94-.94-2.06-.94 2.06-2.06.94z\"/><path d=\"M17.41 7.96l-1.37-1.37c-.4-.4-.92-.59-1.43-.59-.52 0-1.04.2-1.43.59L10.3 9.45l-7.72 7.72c-.78.78-.78 2.05 0 2.83L4 21.41c.39.39.9.59 1.41.59.51 0 1.02-.2 1.41-.59l7.78-7.78 2.81-2.81c.8-.78.8-2.07 0-2.86zM5.41 20L4 18.59l7.72-7.72 1.47 1.35L5.41 20z\"/>\n",
              "  </svg>\n",
              "      </button>\n",
              "      \n",
              "  <style>\n",
              "    .colab-df-container {\n",
              "      display:flex;\n",
              "      flex-wrap:wrap;\n",
              "      gap: 12px;\n",
              "    }\n",
              "\n",
              "    .colab-df-convert {\n",
              "      background-color: #E8F0FE;\n",
              "      border: none;\n",
              "      border-radius: 50%;\n",
              "      cursor: pointer;\n",
              "      display: none;\n",
              "      fill: #1967D2;\n",
              "      height: 32px;\n",
              "      padding: 0 0 0 0;\n",
              "      width: 32px;\n",
              "    }\n",
              "\n",
              "    .colab-df-convert:hover {\n",
              "      background-color: #E2EBFA;\n",
              "      box-shadow: 0px 1px 2px rgba(60, 64, 67, 0.3), 0px 1px 3px 1px rgba(60, 64, 67, 0.15);\n",
              "      fill: #174EA6;\n",
              "    }\n",
              "\n",
              "    [theme=dark] .colab-df-convert {\n",
              "      background-color: #3B4455;\n",
              "      fill: #D2E3FC;\n",
              "    }\n",
              "\n",
              "    [theme=dark] .colab-df-convert:hover {\n",
              "      background-color: #434B5C;\n",
              "      box-shadow: 0px 1px 3px 1px rgba(0, 0, 0, 0.15);\n",
              "      filter: drop-shadow(0px 1px 2px rgba(0, 0, 0, 0.3));\n",
              "      fill: #FFFFFF;\n",
              "    }\n",
              "  </style>\n",
              "\n",
              "      <script>\n",
              "        const buttonEl =\n",
              "          document.querySelector('#df-a7042555-3870-45f5-ac7d-f447971c7dfc button.colab-df-convert');\n",
              "        buttonEl.style.display =\n",
              "          google.colab.kernel.accessAllowed ? 'block' : 'none';\n",
              "\n",
              "        async function convertToInteractive(key) {\n",
              "          const element = document.querySelector('#df-a7042555-3870-45f5-ac7d-f447971c7dfc');\n",
              "          const dataTable =\n",
              "            await google.colab.kernel.invokeFunction('convertToInteractive',\n",
              "                                                     [key], {});\n",
              "          if (!dataTable) return;\n",
              "\n",
              "          const docLinkHtml = 'Like what you see? Visit the ' +\n",
              "            '<a target=\"_blank\" href=https://colab.research.google.com/notebooks/data_table.ipynb>data table notebook</a>'\n",
              "            + ' to learn more about interactive tables.';\n",
              "          element.innerHTML = '';\n",
              "          dataTable['output_type'] = 'display_data';\n",
              "          await google.colab.output.renderOutput(dataTable, element);\n",
              "          const docLink = document.createElement('div');\n",
              "          docLink.innerHTML = docLinkHtml;\n",
              "          element.appendChild(docLink);\n",
              "        }\n",
              "      </script>\n",
              "    </div>\n",
              "  </div>\n",
              "  "
            ]
          },
          "metadata": {},
          "execution_count": 6
        }
      ]
    },
    {
      "cell_type": "markdown",
      "source": [
        "#Cast & Store charts in JSON file\n",
        "Driver Code"
      ],
      "metadata": {
        "id": "gyobEJ3EKU8n"
      }
    },
    {
      "cell_type": "code",
      "source": [
        "%%time\n",
        "# Basic Horoscope Information is converted into JSON format for storage on Mongo\n",
        "p21.ChartType = 'Rashi'                                 # one of ['Rashi','Navamsa']\n",
        "#p21utilsR.C61_Cast2JSON(df)\n",
        "p21swe.C61_Cast2JSON(df)"
      ],
      "metadata": {
        "id": "Ju4pMqiKcMbo",
        "outputId": "7a268446-b576-4ea0-8f3f-8b8320bef299",
        "colab": {
          "base_uri": "https://localhost:8080/"
        }
      },
      "execution_count": null,
      "outputs": [
        {
          "output_type": "stream",
          "name": "stdout",
          "text": [
            "0 records processed\n",
            "1000 records processed\n",
            "2000 records processed\n",
            "3000 records processed\n",
            "4000 records processed\n",
            "5000 records processed\n",
            "6000 records processed\n",
            "7000 records processed\n",
            "8000 records processed\n",
            "9000 records processed\n",
            "10000 records processed\n",
            "11000 records processed\n",
            "12000 records processed\n",
            "13000 records processed\n",
            "14000 records processed\n",
            "15000 records processed\n",
            "16000 records processed\n",
            "17000 records processed\n",
            "18000 records processed\n",
            "19000 records processed\n",
            "20000 records processed\n",
            "21000 records processed\n",
            "22000 records processed\n",
            "23000 records processed\n",
            "24000 records processed\n",
            "25000 records processed\n",
            "26000 records processed\n",
            "27000 records processed\n",
            "28000 records processed\n",
            "error on record  28803\n",
            "29000 records processed\n",
            "30000 records processed\n",
            "31000 records processed\n",
            "32000 records processed\n",
            "33000 records processed\n",
            "34000 records processed\n",
            "35000 records processed\n",
            "36000 records processed\n",
            "37000 records processed\n",
            "38000 records processed\n",
            "39000 records processed\n",
            "CPU times: user 1min 11s, sys: 2 s, total: 1min 13s\n",
            "Wall time: 1min 13s\n"
          ]
        }
      ]
    },
    {
      "cell_type": "markdown",
      "source": [
        "#Connect to MongoDB"
      ],
      "metadata": {
        "id": "ZsYS94O-DRAl"
      }
    },
    {
      "cell_type": "code",
      "source": [
        "from google.colab import drive\n",
        "drive.mount('/content/drive')\n",
        "# --------------------------------------------\n",
        "# copy credentials file\n",
        "#!cp /content/drive/'My Drive'/Praxis/WebCredentials/clevercloudMongoDB.py credentials.py\n",
        "#!cp /content/drive/'My Drive'/Praxis/WebCredentials/parashar21URI.py credentials.py\n",
        "!cp /content/drive/'My Drive'/Praxis/WebCredentials/Parashar21_Atlas_18Sep22.py credentials.py\n",
        "# -----------------------------------------------\n",
        "\n",
        "#from credentials import rhostName,ruserName,rpassWord,rdbName,rMongoURI\n",
        "from credentials import parashar21URI\n",
        "\n",
        "# -----------------------------------------------\n",
        "mongoURI = parashar21URI                                   # for remote server\n"
      ],
      "metadata": {
        "colab": {
          "base_uri": "https://localhost:8080/"
        },
        "id": "Ydu8Gh-mDiYn",
        "outputId": "bd1b7c6a-8173-47aa-a751-ff10517bd1db"
      },
      "execution_count": null,
      "outputs": [
        {
          "output_type": "stream",
          "name": "stdout",
          "text": [
            "Mounted at /content/drive\n"
          ]
        }
      ]
    },
    {
      "cell_type": "code",
      "source": [
        "#mongoURI = \"mongodb://localhost:27017/\"\n",
        "client = MongoClient(mongoURI)\n",
        "client.list_database_names() \n",
        "#db = client.btncgfi3a5bxyea\n"
      ],
      "metadata": {
        "id": "UK4r7sjDXtAW",
        "outputId": "bf2e412e-0f24-481b-c3ae-32c404dd9210",
        "colab": {
          "base_uri": "https://localhost:8080/"
        }
      },
      "execution_count": null,
      "outputs": [
        {
          "output_type": "execute_result",
          "data": {
            "text/plain": [
              "['Parashar21', 'admin', 'local']"
            ]
          },
          "metadata": {},
          "execution_count": 9
        }
      ]
    },
    {
      "cell_type": "code",
      "source": [
        "db = client.Parashar21\n",
        "# Show Collections. Query returns a Cursor [ ] ,  list it to see the content\n",
        "pd.DataFrame(list(db.list_collections()))\n",
        "# empty list '[]' means that there are not collections in database"
      ],
      "metadata": {
        "colab": {
          "base_uri": "https://localhost:8080/",
          "height": 81
        },
        "id": "imaqh29vhnYn",
        "outputId": "4ad4e4e2-3c1c-4807-f22c-5bd5e63badd1"
      },
      "execution_count": null,
      "outputs": [
        {
          "output_type": "execute_result",
          "data": {
            "text/plain": [
              "      name        type options  \\\n",
              "0  khona21  collection      {}   \n",
              "\n",
              "                                                info  \\\n",
              "0  {'readOnly': False, 'uuid': b'\\x00\\xa6BK\\xe1\\x...   \n",
              "\n",
              "                                       idIndex  \n",
              "0  {'v': 2, 'key': {'_id': 1}, 'name': '_id_'}  "
            ],
            "text/html": [
              "\n",
              "  <div id=\"df-64401c78-8d85-4670-afc0-ce068333c91f\">\n",
              "    <div class=\"colab-df-container\">\n",
              "      <div>\n",
              "<style scoped>\n",
              "    .dataframe tbody tr th:only-of-type {\n",
              "        vertical-align: middle;\n",
              "    }\n",
              "\n",
              "    .dataframe tbody tr th {\n",
              "        vertical-align: top;\n",
              "    }\n",
              "\n",
              "    .dataframe thead th {\n",
              "        text-align: right;\n",
              "    }\n",
              "</style>\n",
              "<table border=\"1\" class=\"dataframe\">\n",
              "  <thead>\n",
              "    <tr style=\"text-align: right;\">\n",
              "      <th></th>\n",
              "      <th>name</th>\n",
              "      <th>type</th>\n",
              "      <th>options</th>\n",
              "      <th>info</th>\n",
              "      <th>idIndex</th>\n",
              "    </tr>\n",
              "  </thead>\n",
              "  <tbody>\n",
              "    <tr>\n",
              "      <th>0</th>\n",
              "      <td>khona21</td>\n",
              "      <td>collection</td>\n",
              "      <td>{}</td>\n",
              "      <td>{'readOnly': False, 'uuid': b'\\x00\\xa6BK\\xe1\\x...</td>\n",
              "      <td>{'v': 2, 'key': {'_id': 1}, 'name': '_id_'}</td>\n",
              "    </tr>\n",
              "  </tbody>\n",
              "</table>\n",
              "</div>\n",
              "      <button class=\"colab-df-convert\" onclick=\"convertToInteractive('df-64401c78-8d85-4670-afc0-ce068333c91f')\"\n",
              "              title=\"Convert this dataframe to an interactive table.\"\n",
              "              style=\"display:none;\">\n",
              "        \n",
              "  <svg xmlns=\"http://www.w3.org/2000/svg\" height=\"24px\"viewBox=\"0 0 24 24\"\n",
              "       width=\"24px\">\n",
              "    <path d=\"M0 0h24v24H0V0z\" fill=\"none\"/>\n",
              "    <path d=\"M18.56 5.44l.94 2.06.94-2.06 2.06-.94-2.06-.94-.94-2.06-.94 2.06-2.06.94zm-11 1L8.5 8.5l.94-2.06 2.06-.94-2.06-.94L8.5 2.5l-.94 2.06-2.06.94zm10 10l.94 2.06.94-2.06 2.06-.94-2.06-.94-.94-2.06-.94 2.06-2.06.94z\"/><path d=\"M17.41 7.96l-1.37-1.37c-.4-.4-.92-.59-1.43-.59-.52 0-1.04.2-1.43.59L10.3 9.45l-7.72 7.72c-.78.78-.78 2.05 0 2.83L4 21.41c.39.39.9.59 1.41.59.51 0 1.02-.2 1.41-.59l7.78-7.78 2.81-2.81c.8-.78.8-2.07 0-2.86zM5.41 20L4 18.59l7.72-7.72 1.47 1.35L5.41 20z\"/>\n",
              "  </svg>\n",
              "      </button>\n",
              "      \n",
              "  <style>\n",
              "    .colab-df-container {\n",
              "      display:flex;\n",
              "      flex-wrap:wrap;\n",
              "      gap: 12px;\n",
              "    }\n",
              "\n",
              "    .colab-df-convert {\n",
              "      background-color: #E8F0FE;\n",
              "      border: none;\n",
              "      border-radius: 50%;\n",
              "      cursor: pointer;\n",
              "      display: none;\n",
              "      fill: #1967D2;\n",
              "      height: 32px;\n",
              "      padding: 0 0 0 0;\n",
              "      width: 32px;\n",
              "    }\n",
              "\n",
              "    .colab-df-convert:hover {\n",
              "      background-color: #E2EBFA;\n",
              "      box-shadow: 0px 1px 2px rgba(60, 64, 67, 0.3), 0px 1px 3px 1px rgba(60, 64, 67, 0.15);\n",
              "      fill: #174EA6;\n",
              "    }\n",
              "\n",
              "    [theme=dark] .colab-df-convert {\n",
              "      background-color: #3B4455;\n",
              "      fill: #D2E3FC;\n",
              "    }\n",
              "\n",
              "    [theme=dark] .colab-df-convert:hover {\n",
              "      background-color: #434B5C;\n",
              "      box-shadow: 0px 1px 3px 1px rgba(0, 0, 0, 0.15);\n",
              "      filter: drop-shadow(0px 1px 2px rgba(0, 0, 0, 0.3));\n",
              "      fill: #FFFFFF;\n",
              "    }\n",
              "  </style>\n",
              "\n",
              "      <script>\n",
              "        const buttonEl =\n",
              "          document.querySelector('#df-64401c78-8d85-4670-afc0-ce068333c91f button.colab-df-convert');\n",
              "        buttonEl.style.display =\n",
              "          google.colab.kernel.accessAllowed ? 'block' : 'none';\n",
              "\n",
              "        async function convertToInteractive(key) {\n",
              "          const element = document.querySelector('#df-64401c78-8d85-4670-afc0-ce068333c91f');\n",
              "          const dataTable =\n",
              "            await google.colab.kernel.invokeFunction('convertToInteractive',\n",
              "                                                     [key], {});\n",
              "          if (!dataTable) return;\n",
              "\n",
              "          const docLinkHtml = 'Like what you see? Visit the ' +\n",
              "            '<a target=\"_blank\" href=https://colab.research.google.com/notebooks/data_table.ipynb>data table notebook</a>'\n",
              "            + ' to learn more about interactive tables.';\n",
              "          element.innerHTML = '';\n",
              "          dataTable['output_type'] = 'display_data';\n",
              "          await google.colab.output.renderOutput(dataTable, element);\n",
              "          const docLink = document.createElement('div');\n",
              "          docLink.innerHTML = docLinkHtml;\n",
              "          element.appendChild(docLink);\n",
              "        }\n",
              "      </script>\n",
              "    </div>\n",
              "  </div>\n",
              "  "
            ]
          },
          "metadata": {},
          "execution_count": 10
        }
      ]
    },
    {
      "cell_type": "code",
      "source": [
        "#db = client.btncgfi3a5bxyea\n",
        "\n",
        "#db.khona21Test.drop()                   # Test DB\n",
        "#db.khona21.drop()                      # Main DB do not drop, accidentally\n",
        "\n",
        "#db.create_collection('khona21Test')      # https://feminisminindia.com/2019/06/07/khawna-khana-poet-rural-bengal/\n",
        "                                        # https://en.wikipedia.org/wiki/Khana_(poet)\n",
        "#kollection = db.khona21Test                # Set the collection to work with\n",
        "\n",
        "#Check and record Initial DB status\n",
        "#countInitial = kollection.count_documents({})\n",
        "#dbSizeInitial = db.command( {\"dbStats\": 1, \"scale\": 1024 } )['dataSize']\n",
        "#print(round(dbSizeInitial),'KB database with ', countInitial, ' docs in current collection' )"
      ],
      "metadata": {
        "id": "DLigUEp2h3My"
      },
      "execution_count": null,
      "outputs": []
    },
    {
      "cell_type": "markdown",
      "source": [
        "#Load into Mongo"
      ],
      "metadata": {
        "id": "QaPvwMLoaMa3"
      }
    },
    {
      "cell_type": "code",
      "source": [
        "%%time\n",
        "\n",
        "mongoURIload = mongoURI.replace('?retryWrites=true&w=majority','Parashar21?')\n",
        "##!mongoimport --uri \"{rMongoURI}\"  --collection \"khona21Test\"  --drop --file \"peopleData.json\" \n",
        "!mongoimport --uri \"{mongoURIload}\"  --collection \"khona21\"  --drop --file \"peopleData.json\" "
      ],
      "metadata": {
        "colab": {
          "base_uri": "https://localhost:8080/"
        },
        "id": "RZBpOfBTaSkr",
        "outputId": "bc2fe84f-4812-4ea3-f1b0-45dd92f9652c"
      },
      "execution_count": null,
      "outputs": [
        {
          "output_type": "stream",
          "name": "stdout",
          "text": [
            "2022-09-22T05:19:05.582+0000\tconnected to: localhost\n",
            "2022-09-22T05:19:05.799+0000\tdropping: Parashar21.khona21\n",
            "2022-09-22T05:19:07.029+0000\t[........................] Parashar21.khona21\t3.53MB/137MB (2.6%)\n",
            "2022-09-22T05:19:10.029+0000\t[#.......................] Parashar21.khona21\t6.97MB/137MB (5.1%)\n",
            "2022-09-22T05:19:13.029+0000\t[##......................] Parashar21.khona21\t13.9MB/137MB (10.2%)\n",
            "2022-09-22T05:19:16.029+0000\t[####....................] Parashar21.khona21\t23.8MB/137MB (17.4%)\n",
            "2022-09-22T05:19:19.036+0000\t[#####...................] Parashar21.khona21\t31.1MB/137MB (22.8%)\n",
            "2022-09-22T05:19:22.029+0000\t[######..................] Parashar21.khona21\t38.0MB/137MB (27.8%)\n",
            "2022-09-22T05:19:25.029+0000\t[########................] Parashar21.khona21\t48.3MB/137MB (35.4%)\n",
            "2022-09-22T05:19:28.029+0000\t[#########...............] Parashar21.khona21\t55.2MB/137MB (40.4%)\n",
            "2022-09-22T05:19:31.030+0000\t[###########.............] Parashar21.khona21\t64.6MB/137MB (47.2%)\n",
            "2022-09-22T05:19:34.029+0000\t[############............] Parashar21.khona21\t72.5MB/137MB (53.0%)\n",
            "2022-09-22T05:19:37.029+0000\t[##############..........] Parashar21.khona21\t81.4MB/137MB (59.6%)\n",
            "2022-09-22T05:19:40.036+0000\t[###############.........] Parashar21.khona21\t89.7MB/137MB (65.6%)\n",
            "2022-09-22T05:19:43.029+0000\t[################........] Parashar21.khona21\t96.5MB/137MB (70.7%)\n",
            "2022-09-22T05:19:46.030+0000\t[##################......] Parashar21.khona21\t106MB/137MB (77.5%)\n",
            "2022-09-22T05:19:49.029+0000\t[###################.....] Parashar21.khona21\t114MB/137MB (83.3%)\n",
            "2022-09-22T05:19:52.030+0000\t[#####################...] Parashar21.khona21\t122MB/137MB (89.0%)\n",
            "2022-09-22T05:19:55.031+0000\t[######################..] Parashar21.khona21\t128MB/137MB (93.8%)\n",
            "2022-09-22T05:19:58.036+0000\t[########################] Parashar21.khona21\t137MB/137MB (100.0%)\n",
            "2022-09-22T05:19:58.754+0000\t[########################] Parashar21.khona21\t137MB/137MB (100.0%)\n",
            "2022-09-22T05:19:58.754+0000\timported 39662 documents\n",
            "CPU times: user 535 ms, sys: 84.4 ms, total: 620 ms\n",
            "Wall time: 54.8 s\n"
          ]
        }
      ]
    },
    {
      "cell_type": "markdown",
      "source": [
        "#Check Database Status"
      ],
      "metadata": {
        "id": "6gqKwTFHEgAu"
      }
    },
    {
      "cell_type": "code",
      "source": [
        "p21.kollection = db.khona21\n",
        "#kollection = db.khona21Test\n",
        "countFinal = p21.kollection.count_documents({})\n",
        "dbSizeFinal = db.command( {\"dbStats\": 1, \"scale\": 1024 } )['dataSize']\n",
        "\n",
        "#DocsInserted = countFinal - countInitial\n",
        "#AddSpaceUsed = round(dbSizeFinal - dbSizeInitial)\n",
        "#if DocsInserted > 0:\n",
        "#    AvgDocSize = round(AddSpaceUsed/DocsInserted)\n",
        "#else:\n",
        "#    AvgDocSize = 'na'\n",
        "#print(DocsInserted,' docs inserted, ',AddSpaceUsed,' KB added , with avg doc size = ', AvgDocSize)\n",
        "\n",
        "\n",
        "print(round(dbSizeFinal),'KB database with ', countFinal, ' docs in current collection' )"
      ],
      "metadata": {
        "id": "G1NrPFflBGsy",
        "outputId": "b4f0f131-4782-4141-8bc9-6e0a32391503",
        "colab": {
          "base_uri": "https://localhost:8080/"
        }
      },
      "execution_count": null,
      "outputs": [
        {
          "output_type": "stream",
          "name": "stdout",
          "text": [
            "146582 KB database with  39662  docs in current collection\n"
          ]
        }
      ]
    },
    {
      "cell_type": "code",
      "source": [
        "# Check data loaded into MongoDb\n",
        "#c = kollection.find()\n",
        "#for crnt in c:\n",
        "#    print(crnt)\n",
        "pd.DataFrame(list(p21.kollection.find({},{'_id':0}).limit(2)))"
      ],
      "metadata": {
        "id": "GQiQRXw7NjEp",
        "outputId": "3e7320c6-0015-4d50-eb01-1dd960b42ed0",
        "colab": {
          "base_uri": "https://localhost:8080/",
          "height": 587
        }
      },
      "execution_count": null,
      "outputs": [
        {
          "output_type": "execute_result",
          "data": {
            "text/plain": [
              "                                                 pid  \\\n",
              "0  {'tags': ['Entertain/Music', 'Entertain/Music'...   \n",
              "1  {'tags': ['Writers', 'Writers', 'Writers'], 'c...   \n",
              "\n",
              "                                                GLon  \\\n",
              "0  {'La': 330.585, 'Su': 170.058, 'Mo': 352.364, ...   \n",
              "1  {'La': 100.281, 'Su': 243.912, 'Mo': 323.344, ...   \n",
              "\n",
              "                                                GRet  \\\n",
              "0  {'La': False, 'Su': False, 'Mo': False, 'Ma': ...   \n",
              "1  {'La': False, 'Su': False, 'Mo': False, 'Ma': ...   \n",
              "\n",
              "                                        BhavN  \\\n",
              "0  [ , 12, 1, 2, 3, 4, 5, 6, 7, 8, 9, 10, 11]   \n",
              "1  [ , 4, 5, 6, 7, 8, 9, 10, 11, 12, 1, 2, 3]   \n",
              "\n",
              "                                               BhavA  \\\n",
              "0  [ , Meen, Mesh, Vrish, Mithun, Karkat, Simha, ...   \n",
              "1  [ , Karkat, Simha, Kanya, Tula, Vrishchik, Dha...   \n",
              "\n",
              "                                                Lord  \\\n",
              "0  [ , Ju, Ma, Ve, Me, Mo, Su, Me, Ve, Ma, Ju, Sa...   \n",
              "1  [ , Mo, Su, Me, Ve, Ma, Ju, Sa, Sa, Ju, Ma, Ve...   \n",
              "\n",
              "                                   LordRashiN  \\\n",
              "0  [ , 5, 5, 7, 7, 12, 6, 7, 7, 5, 5, 12, 12]   \n",
              "1  [ , 11, 9, 8, 10, 5, 8, 4, 4, 8, 5, 10, 8]   \n",
              "\n",
              "                                          LordRashiA  \\\n",
              "0  [ , Simha, Simha, Tula, Tula, Meen, Kanya, Tul...   \n",
              "1  [ , Kumbh, Dhanu, Vrishchik, Makar, Simha, Vri...   \n",
              "\n",
              "                                       GrahaLordBhav  \\\n",
              "0  {'Su': [6], 'Mo': [5], 'Ma': [2, 9], 'Me': [4,...   \n",
              "1  {'Su': [2], 'Mo': [1], 'Ma': [5, 10], 'Me': [3...   \n",
              "\n",
              "                                             GRashiN  ...  \\\n",
              "0  {'La': 12, 'Su': 6, 'Mo': 12, 'Ma': 5, 'Me': 7...  ...   \n",
              "1  {'La': 4, 'Su': 9, 'Mo': 11, 'Ma': 5, 'Me': 8,...  ...   \n",
              "\n",
              "                                            inEnemyL  \\\n",
              "0  [False, False, False, False, False, False, Fal...   \n",
              "1  [False, False, False, False, False, False, Fal...   \n",
              "\n",
              "                                           GAspects2  \\\n",
              "0  {'La': ['Su', 'Ke'], 'Su': ['Ra', 'Sa', 'Mo', ...   \n",
              "1  {'La': ['Ve'], 'Mo': ['Ma'], 'Ma': ['Me', 'Mo'...   \n",
              "\n",
              "                                        GAspectedBy2  \\\n",
              "0  {'Su': ['Ra', 'Sa', 'Mo', 'La'], 'Ke': ['Sa', ...   \n",
              "1  {'Ve': ['Sa', 'La'], 'Ma': ['Mo'], 'Mo': ['Ma'...   \n",
              "\n",
              "                                        BAspectedBy2  \\\n",
              "0  {'7': ['Ra', 'Sa', 'Mo', 'La'], '1': ['Su', 'M...   \n",
              "1  {'7': ['Sa', 'La'], '12': ['Su'], '2': ['Mo'],...   \n",
              "\n",
              "                                      BAspectedByBL2  \\\n",
              "0  {'1': ['2', '9', '6'], '2': ['3', '4', '7', '8...   \n",
              "1  {'1': ['4', '11', '9', '6'], '2': ['1'], '3': ...   \n",
              "\n",
              "                                        GConjunctsG2  \\\n",
              "0  {'Su': ['Ke'], 'Ke': ['Su'], 'Mo': ['Ra', 'Sa'...   \n",
              "1                       {'Me': ['Ju'], 'Ju': ['Me']}   \n",
              "\n",
              "                                       BLConjunctsG2  \\\n",
              "0  {'1': ['Ma'], '2': ['Ju'], '3': ['Me'], '4': [...   \n",
              "1  {'3': ['Ju'], '6': ['Me'], '9': ['Me'], '12': ...   \n",
              "\n",
              "                                      BLConjunctsBL2  \\\n",
              "0  {'1': ['2', '9'], '2': ['1', '10'], '3': ['4',...   \n",
              "1  {'3': ['9', '6'], '6': ['3', '12'], '9': ['3',...   \n",
              "\n",
              "                                            beneficG  \\\n",
              "0  {'Su': False, 'Mo': True, 'Ma': True, 'Me': Fa...   \n",
              "1  {'Su': False, 'Mo': True, 'Ma': True, 'Me': Fa...   \n",
              "\n",
              "                                            maleficG  \n",
              "0  {'Su': True, 'Mo': False, 'Ma': False, 'Me': F...  \n",
              "1  {'Su': False, 'Mo': False, 'Ma': False, 'Me': ...  \n",
              "\n",
              "[2 rows x 31 columns]"
            ],
            "text/html": [
              "\n",
              "  <div id=\"df-aada3e48-06a5-45f7-babd-9a2306f49269\">\n",
              "    <div class=\"colab-df-container\">\n",
              "      <div>\n",
              "<style scoped>\n",
              "    .dataframe tbody tr th:only-of-type {\n",
              "        vertical-align: middle;\n",
              "    }\n",
              "\n",
              "    .dataframe tbody tr th {\n",
              "        vertical-align: top;\n",
              "    }\n",
              "\n",
              "    .dataframe thead th {\n",
              "        text-align: right;\n",
              "    }\n",
              "</style>\n",
              "<table border=\"1\" class=\"dataframe\">\n",
              "  <thead>\n",
              "    <tr style=\"text-align: right;\">\n",
              "      <th></th>\n",
              "      <th>pid</th>\n",
              "      <th>GLon</th>\n",
              "      <th>GRet</th>\n",
              "      <th>BhavN</th>\n",
              "      <th>BhavA</th>\n",
              "      <th>Lord</th>\n",
              "      <th>LordRashiN</th>\n",
              "      <th>LordRashiA</th>\n",
              "      <th>GrahaLordBhav</th>\n",
              "      <th>GRashiN</th>\n",
              "      <th>...</th>\n",
              "      <th>inEnemyL</th>\n",
              "      <th>GAspects2</th>\n",
              "      <th>GAspectedBy2</th>\n",
              "      <th>BAspectedBy2</th>\n",
              "      <th>BAspectedByBL2</th>\n",
              "      <th>GConjunctsG2</th>\n",
              "      <th>BLConjunctsG2</th>\n",
              "      <th>BLConjunctsBL2</th>\n",
              "      <th>beneficG</th>\n",
              "      <th>maleficG</th>\n",
              "    </tr>\n",
              "  </thead>\n",
              "  <tbody>\n",
              "    <tr>\n",
              "      <th>0</th>\n",
              "      <td>{'tags': ['Entertain/Music', 'Entertain/Music'...</td>\n",
              "      <td>{'La': 330.585, 'Su': 170.058, 'Mo': 352.364, ...</td>\n",
              "      <td>{'La': False, 'Su': False, 'Mo': False, 'Ma': ...</td>\n",
              "      <td>[ , 12, 1, 2, 3, 4, 5, 6, 7, 8, 9, 10, 11]</td>\n",
              "      <td>[ , Meen, Mesh, Vrish, Mithun, Karkat, Simha, ...</td>\n",
              "      <td>[ , Ju, Ma, Ve, Me, Mo, Su, Me, Ve, Ma, Ju, Sa...</td>\n",
              "      <td>[ , 5, 5, 7, 7, 12, 6, 7, 7, 5, 5, 12, 12]</td>\n",
              "      <td>[ , Simha, Simha, Tula, Tula, Meen, Kanya, Tul...</td>\n",
              "      <td>{'Su': [6], 'Mo': [5], 'Ma': [2, 9], 'Me': [4,...</td>\n",
              "      <td>{'La': 12, 'Su': 6, 'Mo': 12, 'Ma': 5, 'Me': 7...</td>\n",
              "      <td>...</td>\n",
              "      <td>[False, False, False, False, False, False, Fal...</td>\n",
              "      <td>{'La': ['Su', 'Ke'], 'Su': ['Ra', 'Sa', 'Mo', ...</td>\n",
              "      <td>{'Su': ['Ra', 'Sa', 'Mo', 'La'], 'Ke': ['Sa', ...</td>\n",
              "      <td>{'7': ['Ra', 'Sa', 'Mo', 'La'], '1': ['Su', 'M...</td>\n",
              "      <td>{'1': ['2', '9', '6'], '2': ['3', '4', '7', '8...</td>\n",
              "      <td>{'Su': ['Ke'], 'Ke': ['Su'], 'Mo': ['Ra', 'Sa'...</td>\n",
              "      <td>{'1': ['Ma'], '2': ['Ju'], '3': ['Me'], '4': [...</td>\n",
              "      <td>{'1': ['2', '9'], '2': ['1', '10'], '3': ['4',...</td>\n",
              "      <td>{'Su': False, 'Mo': True, 'Ma': True, 'Me': Fa...</td>\n",
              "      <td>{'Su': True, 'Mo': False, 'Ma': False, 'Me': F...</td>\n",
              "    </tr>\n",
              "    <tr>\n",
              "      <th>1</th>\n",
              "      <td>{'tags': ['Writers', 'Writers', 'Writers'], 'c...</td>\n",
              "      <td>{'La': 100.281, 'Su': 243.912, 'Mo': 323.344, ...</td>\n",
              "      <td>{'La': False, 'Su': False, 'Mo': False, 'Ma': ...</td>\n",
              "      <td>[ , 4, 5, 6, 7, 8, 9, 10, 11, 12, 1, 2, 3]</td>\n",
              "      <td>[ , Karkat, Simha, Kanya, Tula, Vrishchik, Dha...</td>\n",
              "      <td>[ , Mo, Su, Me, Ve, Ma, Ju, Sa, Sa, Ju, Ma, Ve...</td>\n",
              "      <td>[ , 11, 9, 8, 10, 5, 8, 4, 4, 8, 5, 10, 8]</td>\n",
              "      <td>[ , Kumbh, Dhanu, Vrishchik, Makar, Simha, Vri...</td>\n",
              "      <td>{'Su': [2], 'Mo': [1], 'Ma': [5, 10], 'Me': [3...</td>\n",
              "      <td>{'La': 4, 'Su': 9, 'Mo': 11, 'Ma': 5, 'Me': 8,...</td>\n",
              "      <td>...</td>\n",
              "      <td>[False, False, False, False, False, False, Fal...</td>\n",
              "      <td>{'La': ['Ve'], 'Mo': ['Ma'], 'Ma': ['Me', 'Mo'...</td>\n",
              "      <td>{'Ve': ['Sa', 'La'], 'Ma': ['Mo'], 'Mo': ['Ma'...</td>\n",
              "      <td>{'7': ['Sa', 'La'], '12': ['Su'], '2': ['Mo'],...</td>\n",
              "      <td>{'1': ['4', '11', '9', '6'], '2': ['1'], '3': ...</td>\n",
              "      <td>{'Me': ['Ju'], 'Ju': ['Me']}</td>\n",
              "      <td>{'3': ['Ju'], '6': ['Me'], '9': ['Me'], '12': ...</td>\n",
              "      <td>{'3': ['9', '6'], '6': ['3', '12'], '9': ['3',...</td>\n",
              "      <td>{'Su': False, 'Mo': True, 'Ma': True, 'Me': Fa...</td>\n",
              "      <td>{'Su': False, 'Mo': False, 'Ma': False, 'Me': ...</td>\n",
              "    </tr>\n",
              "  </tbody>\n",
              "</table>\n",
              "<p>2 rows × 31 columns</p>\n",
              "</div>\n",
              "      <button class=\"colab-df-convert\" onclick=\"convertToInteractive('df-aada3e48-06a5-45f7-babd-9a2306f49269')\"\n",
              "              title=\"Convert this dataframe to an interactive table.\"\n",
              "              style=\"display:none;\">\n",
              "        \n",
              "  <svg xmlns=\"http://www.w3.org/2000/svg\" height=\"24px\"viewBox=\"0 0 24 24\"\n",
              "       width=\"24px\">\n",
              "    <path d=\"M0 0h24v24H0V0z\" fill=\"none\"/>\n",
              "    <path d=\"M18.56 5.44l.94 2.06.94-2.06 2.06-.94-2.06-.94-.94-2.06-.94 2.06-2.06.94zm-11 1L8.5 8.5l.94-2.06 2.06-.94-2.06-.94L8.5 2.5l-.94 2.06-2.06.94zm10 10l.94 2.06.94-2.06 2.06-.94-2.06-.94-.94-2.06-.94 2.06-2.06.94z\"/><path d=\"M17.41 7.96l-1.37-1.37c-.4-.4-.92-.59-1.43-.59-.52 0-1.04.2-1.43.59L10.3 9.45l-7.72 7.72c-.78.78-.78 2.05 0 2.83L4 21.41c.39.39.9.59 1.41.59.51 0 1.02-.2 1.41-.59l7.78-7.78 2.81-2.81c.8-.78.8-2.07 0-2.86zM5.41 20L4 18.59l7.72-7.72 1.47 1.35L5.41 20z\"/>\n",
              "  </svg>\n",
              "      </button>\n",
              "      \n",
              "  <style>\n",
              "    .colab-df-container {\n",
              "      display:flex;\n",
              "      flex-wrap:wrap;\n",
              "      gap: 12px;\n",
              "    }\n",
              "\n",
              "    .colab-df-convert {\n",
              "      background-color: #E8F0FE;\n",
              "      border: none;\n",
              "      border-radius: 50%;\n",
              "      cursor: pointer;\n",
              "      display: none;\n",
              "      fill: #1967D2;\n",
              "      height: 32px;\n",
              "      padding: 0 0 0 0;\n",
              "      width: 32px;\n",
              "    }\n",
              "\n",
              "    .colab-df-convert:hover {\n",
              "      background-color: #E2EBFA;\n",
              "      box-shadow: 0px 1px 2px rgba(60, 64, 67, 0.3), 0px 1px 3px 1px rgba(60, 64, 67, 0.15);\n",
              "      fill: #174EA6;\n",
              "    }\n",
              "\n",
              "    [theme=dark] .colab-df-convert {\n",
              "      background-color: #3B4455;\n",
              "      fill: #D2E3FC;\n",
              "    }\n",
              "\n",
              "    [theme=dark] .colab-df-convert:hover {\n",
              "      background-color: #434B5C;\n",
              "      box-shadow: 0px 1px 3px 1px rgba(0, 0, 0, 0.15);\n",
              "      filter: drop-shadow(0px 1px 2px rgba(0, 0, 0, 0.3));\n",
              "      fill: #FFFFFF;\n",
              "    }\n",
              "  </style>\n",
              "\n",
              "      <script>\n",
              "        const buttonEl =\n",
              "          document.querySelector('#df-aada3e48-06a5-45f7-babd-9a2306f49269 button.colab-df-convert');\n",
              "        buttonEl.style.display =\n",
              "          google.colab.kernel.accessAllowed ? 'block' : 'none';\n",
              "\n",
              "        async function convertToInteractive(key) {\n",
              "          const element = document.querySelector('#df-aada3e48-06a5-45f7-babd-9a2306f49269');\n",
              "          const dataTable =\n",
              "            await google.colab.kernel.invokeFunction('convertToInteractive',\n",
              "                                                     [key], {});\n",
              "          if (!dataTable) return;\n",
              "\n",
              "          const docLinkHtml = 'Like what you see? Visit the ' +\n",
              "            '<a target=\"_blank\" href=https://colab.research.google.com/notebooks/data_table.ipynb>data table notebook</a>'\n",
              "            + ' to learn more about interactive tables.';\n",
              "          element.innerHTML = '';\n",
              "          dataTable['output_type'] = 'display_data';\n",
              "          await google.colab.output.renderOutput(dataTable, element);\n",
              "          const docLink = document.createElement('div');\n",
              "          docLink.innerHTML = docLinkHtml;\n",
              "          element.appendChild(docLink);\n",
              "        }\n",
              "      </script>\n",
              "    </div>\n",
              "  </div>\n",
              "  "
            ]
          },
          "metadata": {},
          "execution_count": 13
        }
      ]
    },
    {
      "cell_type": "code",
      "source": [
        "#!cp peopleData.json /content/drive/'My Drive'/Prithwis/Parashar21/ChartCast/ChartData2/peopleData_39662_21Sep22"
      ],
      "metadata": {
        "id": "t6GypjpHIC01"
      },
      "execution_count": null,
      "outputs": []
    },
    {
      "cell_type": "markdown",
      "metadata": {
        "id": "QGxOl9rdrvEg"
      },
      "source": [
        "#Chronobooks <br>\n",
        "![alt text](https://1.bp.blogspot.com/-lTiYBkU2qbU/X1er__fvnkI/AAAAAAAAjtE/GhDR3OEGJr4NG43fZPodrQD5kbxtnKebgCLcBGAsYHQ/s600/Footer2020-600x200.png)<hr>\n",
        "Chronotantra and Chronoyantra are two science fiction novels that explore the collapse of human civilisation on Earth and then its rebirth and reincarnation both on Earth as well as on the distant worlds of Mars, Titan and Enceladus. But is it the human civilisation that is being reborn? Or is it some other sentience that is revealing itself. \n",
        "If you have an interest in AI and found this material useful, you may consider buying these novels, in paperback or kindle, from [http://bit.ly/chronobooks](http://bit.ly/chronobooks)"
      ]
    },
    {
      "cell_type": "markdown",
      "source": [
        "#Redundant Stuff \n",
        "too scared to throw it away!"
      ],
      "metadata": {
        "id": "9r0Vb3R-Gr_u"
      }
    },
    {
      "cell_type": "code",
      "source": [
        "#Retrieves Charts based on tags\n",
        "pd.DataFrame(list(kollection.find({'pid.tags': {\"$in\": ['Scientist','Author']}},{'pid.tags':1,'GLon':1,'GRet':1,'_id':0})))\n",
        "c = kollection.find({'pid.tags': {\"$in\": ['Scientist','Author']}},{'pid.tags':1,'GLon':1,'GRet':1,'_id':0})\n",
        "for crnt in c:\n",
        "    print(crnt)"
      ],
      "metadata": {
        "id": "ExBPG3O9HazN",
        "outputId": "d167a824-1ba8-461c-ad2a-7a75a7c89593",
        "colab": {
          "base_uri": "https://localhost:8080/"
        }
      },
      "execution_count": null,
      "outputs": [
        {
          "output_type": "stream",
          "name": "stdout",
          "text": [
            "{'pid': {'tags': ['Author', 'Homemaker', 'PostGraduate']}, 'GLon': {'La': 310.415, 'Su': 243.701, 'Mo': 201.001, 'Ma': 273.467, 'Me': 222.269, 'Ju': 62.748, 'Ve': 284.966, 'Sa': 318.17, 'Ra': 41.248, 'Ke': 221.248}, 'GRet': {'La': False, 'Su': False, 'Mo': False, 'Ma': False, 'Me': False, 'Ju': True, 'Ve': False, 'Sa': False, 'Ra': False, 'Ke': False}}\n",
            "{'pid': {'tags': ['Biologist', 'Scientist', 'PostGraduate']}, 'GLon': {'La': 84.138, 'Su': 145.068, 'Mo': 54.233, 'Ma': 41.525, 'Me': 138.242, 'Ju': 101.216, 'Ve': 131.788, 'Sa': 265.084, 'Ra': 282.763, 'Ke': 102.763}, 'GRet': {'La': False, 'Su': False, 'Mo': False, 'Ma': False, 'Me': True, 'Ju': False, 'Ve': False, 'Sa': True, 'Ra': False, 'Ke': False}}\n"
          ]
        }
      ]
    }
  ]
}