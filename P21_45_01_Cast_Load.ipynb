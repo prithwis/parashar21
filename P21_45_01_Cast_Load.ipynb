{
  "nbformat": 4,
  "nbformat_minor": 0,
  "metadata": {
    "colab": {
      "name": "P21_45_Cast_Load.ipynb",
      "provenance": [],
      "include_colab_link": true
    },
    "kernelspec": {
      "name": "python3",
      "display_name": "Python 3"
    }
  },
  "cells": [
    {
      "cell_type": "markdown",
      "metadata": {
        "id": "view-in-github",
        "colab_type": "text"
      },
      "source": [
        "<a href=\"https://colab.research.google.com/github/prithwis/parashar21/blob/main/P21_45_01_Cast_Load.ipynb\" target=\"_parent\"><img src=\"https://colab.research.google.com/assets/colab-badge.svg\" alt=\"Open In Colab\"/></a>"
      ]
    },
    {
      "cell_type": "markdown",
      "metadata": {
        "id": "m3d-QHg6rqr-"
      },
      "source": [
        "![alt text](http://1.bp.blogspot.com/_5QlanosqxiQ/SXLOLTu7S7I/AAAAAAAAAm8/0r6C7lCxsic/S1600-R/p21-header-003.png) <br>\n",
        "\n",
        "\n",
        "---\n",
        "\n",
        "\n",
        "\n",
        "[Prithwis Mukerjee](http://www.yantrajaal.com) ||\n",
        "Website - [Parashar21](https://parashar21.blogspot.com)<br>"
      ]
    },
    {
      "cell_type": "markdown",
      "source": [
        "Copyright (c) 2022, Prithwis Mukerjee\n",
        "All rights reserved.\n",
        "\n",
        "This source code is licensed under the GNU GPL v3.0 -style license found in the\n",
        "LICENSE file in the root directory of this source tree. "
      ],
      "metadata": {
        "id": "FzmJB_cR0xzp"
      }
    },
    {
      "cell_type": "markdown",
      "source": [
        "#Create Charts, Store in MongoDB\n",
        "This application needs a hosted, persistent MongoDB database along with credentials to access the same. In the absence of such facilities, users may use the  [P21_45_06_SingleChart_Details](https://github.com/prithwis/parashar21/blob/main/P21_45_06_SingleChart_Details.ipynb) application or the [P21_45_04_YogFilter](https://github.com/prithwis/parashar21/blob/main/P21_45_04_YogFilter.ipynb) application to test out the concepts. <br>\n",
        "These applications install a local copy of MongoDB for which no access credentials are required.<br> <br>\n",
        "For complete information about this project see the [Parashar21](https://prithwis.github.io/parashar21/) github page."
      ],
      "metadata": {
        "id": "Q5dCCZlf8nLK"
      }
    },
    {
      "cell_type": "code",
      "source": [
        "from datetime import datetime\n",
        "import pytz\n",
        "print('ॐ श्री गणेशाय नमः',datetime.now(pytz.timezone('Asia/Calcutta')))\n",
        "!python --version\n",
        "!lsb_release -a"
      ],
      "metadata": {
        "id": "hx54jQbJt79u",
        "outputId": "5f95d102-d157-4ca1-a996-191ceba39353",
        "colab": {
          "base_uri": "https://localhost:8080/"
        }
      },
      "execution_count": 1,
      "outputs": [
        {
          "output_type": "stream",
          "name": "stdout",
          "text": [
            "ॐ श्री गणेशाय नमः 2023-05-05 07:54:07.947995+05:30\n",
            "Python 3.10.11\n",
            "No LSB modules are available.\n",
            "Distributor ID:\tUbuntu\n",
            "Description:\tUbuntu 20.04.5 LTS\n",
            "Release:\t20.04\n",
            "Codename:\tfocal\n"
          ]
        }
      ]
    },
    {
      "cell_type": "markdown",
      "source": [
        "#Setup"
      ],
      "metadata": {
        "id": "BgG7KnOslRT-"
      }
    },
    {
      "cell_type": "markdown",
      "metadata": {
        "id": "6az36FX6Rpit"
      },
      "source": [
        "##Install Swiss Ephemeris <br>\n",
        "\n",
        "https://pypi.org/project/pyswisseph/  - Python Package Documentation <br>\n",
        "https://www.astro.com/swisseph/swephinfo_e.htm <br>\n",
        "https://www.astro.com/swisseph/swephprg.htm - Programmer Documentation "
      ]
    },
    {
      "cell_type": "code",
      "metadata": {
        "id": "THZf8D8fQsXm",
        "colab": {
          "base_uri": "https://localhost:8080/"
        },
        "outputId": "25ae6d4e-ec7c-4f84-86ca-dfb3c2bbfb6f"
      },
      "source": [
        "!pip -qq install pyswisseph                                 # https://stackoverflow.com/questions/64277506/pip-install-options-unclear\n",
        "\n",
        "#!pip -qq install python_string_utils\n",
        "#!pip -qq install python-docx                                #https://python-docx.readthedocs.io/en/latest/\n",
        "#!pip install pyswisseph==2.10.2.0.dev1\n",
        "\n",
        "# required for accessing Atlas servers \n",
        "#!/usr/bin/python3 -m pip install \"pymongo[srv]\"\n",
        "!python -q -m pip install pymongo"
      ],
      "execution_count": 2,
      "outputs": [
        {
          "output_type": "stream",
          "name": "stdout",
          "text": [
            "\u001b[?25l     \u001b[90m━━━━━━━━━━━━━━━━━━━━━━━━━━━━━━━━━━━━━━━━\u001b[0m \u001b[32m0.0/3.0 MB\u001b[0m \u001b[31m?\u001b[0m eta \u001b[36m-:--:--\u001b[0m\r\u001b[2K     \u001b[91m━━━━━━━━━━━━━━━━━━━━━━━━━━━\u001b[0m\u001b[91m╸\u001b[0m\u001b[90m━━━━━━━━━━━━\u001b[0m \u001b[32m2.1/3.0 MB\u001b[0m \u001b[31m116.0 MB/s\u001b[0m eta \u001b[36m0:00:01\u001b[0m\r\u001b[2K     \u001b[90m━━━━━━━━━━━━━━━━━━━━━━━━━━━━━━━━━━━━━━━━\u001b[0m \u001b[32m3.0/3.0 MB\u001b[0m \u001b[31m52.3 MB/s\u001b[0m eta \u001b[36m0:00:00\u001b[0m\n",
            "\u001b[?25h  Preparing metadata (setup.py) ... \u001b[?25l\u001b[?25hdone\n",
            "  Building wheel for pyswisseph (setup.py) ... \u001b[?25l\u001b[?25hdone\n",
            "Looking in indexes: https://pypi.org/simple, https://us-python.pkg.dev/colab-wheels/public/simple/\n",
            "Collecting pymongo\n",
            "  Downloading pymongo-4.3.3-cp310-cp310-manylinux_2_17_x86_64.manylinux2014_x86_64.whl (492 kB)\n",
            "\u001b[2K     \u001b[90m━━━━━━━━━━━━━━━━━━━━━━━━━━━━━━━━━━━━━━\u001b[0m \u001b[32m492.9/492.9 kB\u001b[0m \u001b[31m35.6 MB/s\u001b[0m eta \u001b[36m0:00:00\u001b[0m\n",
            "\u001b[?25hCollecting dnspython<3.0.0,>=1.16.0\n",
            "  Downloading dnspython-2.3.0-py3-none-any.whl (283 kB)\n",
            "\u001b[2K     \u001b[90m━━━━━━━━━━━━━━━━━━━━━━━━━━━━━━━━━━━━━━\u001b[0m \u001b[32m283.7/283.7 kB\u001b[0m \u001b[31m37.0 MB/s\u001b[0m eta \u001b[36m0:00:00\u001b[0m\n",
            "\u001b[?25hInstalling collected packages: dnspython, pymongo\n",
            "Successfully installed dnspython-2.3.0 pymongo-4.3.3\n"
          ]
        }
      ]
    },
    {
      "cell_type": "code",
      "source": [
        "#!apt install mongodb > /dev/null                           # not required for Remote Atlas servers\n",
        "\n",
        "# MongoImport Module   - earlier part of MongoDB not part of database tools\n",
        "\n",
        "# https://www.mongodb.com/try/download/database-tools\n",
        "# https://www.mongodb.com/docs/database-tools/installation/installation-linux/\n",
        "\n",
        "#!wget https://fastdl.mongodb.org/tools/db/mongodb-database-tools-ubuntu2004-x86_64-100.7.0.tgz\n",
        "!wget -O mongodb-database-tools.deb https://fastdl.mongodb.org/tools/db/mongodb-database-tools-ubuntu2004-x86_64-100.7.0.deb"
      ],
      "metadata": {
        "id": "GW7RfoIavPhb",
        "outputId": "835a7b60-26f3-4dac-fb34-23b7916f781d",
        "colab": {
          "base_uri": "https://localhost:8080/"
        }
      },
      "execution_count": 3,
      "outputs": [
        {
          "output_type": "stream",
          "name": "stdout",
          "text": [
            "--2023-05-05 02:30:31--  https://fastdl.mongodb.org/tools/db/mongodb-database-tools-ubuntu2004-x86_64-100.7.0.deb\n",
            "Resolving fastdl.mongodb.org (fastdl.mongodb.org)... 18.67.65.94, 18.67.65.31, 18.67.65.93, ...\n",
            "Connecting to fastdl.mongodb.org (fastdl.mongodb.org)|18.67.65.94|:443... connected.\n",
            "HTTP request sent, awaiting response... 200 OK\n",
            "Length: 50646784 (48M) [binary/octet-stream]\n",
            "Saving to: ‘mongodb-database-tools.deb’\n",
            "\n",
            "\r          mongodb-d   0%[                    ]       0  --.-KB/s               \rmongodb-database-to 100%[===================>]  48.30M   284MB/s    in 0.2s    \n",
            "\n",
            "2023-05-05 02:30:31 (284 MB/s) - ‘mongodb-database-tools.deb’ saved [50646784/50646784]\n",
            "\n"
          ]
        }
      ]
    },
    {
      "cell_type": "code",
      "source": [
        "#!tar -xvf /content/mongodb-database-tools-ubuntu2004-x86_64-100.7.0.tgz\n",
        "!sudo apt install ./mongodb-database-tools.deb"
      ],
      "metadata": {
        "id": "KJ0K-AlPv48H",
        "outputId": "3b3a64d3-488c-4441-e1e3-b66f86d30db3",
        "colab": {
          "base_uri": "https://localhost:8080/"
        }
      },
      "execution_count": 4,
      "outputs": [
        {
          "output_type": "stream",
          "name": "stdout",
          "text": [
            "Reading package lists... Done\n",
            "Building dependency tree       \n",
            "Reading state information... Done\n",
            "Note, selecting 'mongodb-database-tools' instead of './mongodb-database-tools.deb'\n",
            "The following NEW packages will be installed:\n",
            "  mongodb-database-tools\n",
            "0 upgraded, 1 newly installed, 0 to remove and 24 not upgraded.\n",
            "Need to get 0 B/50.6 MB of archives.\n",
            "After this operation, 0 B of additional disk space will be used.\n",
            "Get:1 /content/mongodb-database-tools.deb mongodb-database-tools amd64 100.7.0 [50.6 MB]\n",
            "debconf: unable to initialize frontend: Dialog\n",
            "debconf: (No usable dialog-like program is installed, so the dialog based frontend cannot be used. at /usr/share/perl5/Debconf/FrontEnd/Dialog.pm line 76, <> line 1.)\n",
            "debconf: falling back to frontend: Readline\n",
            "debconf: unable to initialize frontend: Readline\n",
            "debconf: (This frontend requires a controlling tty.)\n",
            "debconf: falling back to frontend: Teletype\n",
            "dpkg-preconfigure: unable to re-open stdin: \n",
            "Selecting previously unselected package mongodb-database-tools.\n",
            "(Reading database ... 122518 files and directories currently installed.)\n",
            "Preparing to unpack .../mongodb-database-tools.deb ...\n",
            "Unpacking mongodb-database-tools (100.7.0) ...\n",
            "Setting up mongodb-database-tools (100.7.0) ...\n"
          ]
        }
      ]
    },
    {
      "cell_type": "code",
      "source": [
        "#from pymongo import MongoClient\n",
        "from pymongo.mongo_client import MongoClient\n",
        "\n",
        "import pandas as pd\n",
        "import dateutil\n",
        "#import string_utils\n",
        "\n",
        "import json\n",
        "\n",
        "#from docx import Document\n",
        "#from docx.shared import Inches\n",
        "#from docx.enum.text import WD_ALIGN_PARAGRAPH"
      ],
      "metadata": {
        "id": "U9x7jNZKPRU0"
      },
      "execution_count": 5,
      "outputs": []
    },
    {
      "cell_type": "code",
      "source": [
        "#Load p21 modules from github\n",
        "!wget -O p21.py -q https://raw.githubusercontent.com/prithwis/parashar21/main/utils/p21.py                  # all global variables\n",
        "!wget -O p21swe.py -q https://raw.githubusercontent.com/prithwis/parashar21/main/utils/p21swe.py            # Swiss Ephemeris functions\n",
        "!wget -O p21utils.py -q https://raw.githubusercontent.com/prithwis/parashar21/main/utils/p21utils.py        # large number of utility functions\n",
        "#!wget -O p21utilsR.py -q https://raw.githubusercontent.com/prithwis/parashar21/main/utils/p21utilsR.py        # large number of utility functions\n",
        "#!wget -O p21YogInfo.py -q https://raw.githubusercontent.com/prithwis/parashar21/main/utils/p21YogInfo.py    # yog data - description and conditions \n",
        "\n"
      ],
      "metadata": {
        "id": "QHzOd2Nll-Wd"
      },
      "execution_count": 6,
      "outputs": []
    },
    {
      "cell_type": "code",
      "source": [
        "# ---------------------------\n",
        "import p21\n",
        "import p21swe\n",
        "import p21utils\n",
        "#import p21utilsR\n",
        "#import p21YogInfo\n",
        "# ------------------------------------------------\n",
        "# required for multiple imports of the same module\n",
        "# ------------------------------------------------\n",
        "import importlib\n",
        "importlib.reload(p21)\n",
        "importlib.reload(p21swe)\n",
        "importlib.reload(p21utils)\n",
        "#importlib.reload(p21utilsR)\n",
        "#importlib.reload(p21YogInfo)"
      ],
      "metadata": {
        "colab": {
          "base_uri": "https://localhost:8080/"
        },
        "id": "PbjLh4XlALOO",
        "outputId": "ac20b2f5-c154-489e-e9b4-c39be0dd7b34"
      },
      "execution_count": 7,
      "outputs": [
        {
          "output_type": "execute_result",
          "data": {
            "text/plain": [
              "<module 'p21utils' from '/content/p21utils.py'>"
            ]
          },
          "metadata": {},
          "execution_count": 7
        }
      ]
    },
    {
      "cell_type": "code",
      "metadata": {
        "id": "INsjq9opScbt"
      },
      "source": [
        "#Download Swiss Ephemeris Files \n",
        "!wget -q http://www.astro.com/ftp/swisseph/ephe/seas_18.se1\n",
        "!wget -q http://www.astro.com/ftp/swisseph/ephe/semo_18.se1\n",
        "!wget -q http://www.astro.com/ftp/swisseph/ephe/sepl_18.se1\n",
        "!mkdir ephe\n",
        "!mv *.se1 ephe\n",
        "#------------------------------\n",
        "# Configure SWE with appropriate parameters\n",
        "#\n",
        "p21swe.C01_configSWE()"
      ],
      "execution_count": 8,
      "outputs": []
    },
    {
      "cell_type": "markdown",
      "metadata": {
        "id": "uSuVPj3kXcwC"
      },
      "source": [
        "##Read External Data\n",
        "test data from CSV files\n"
      ]
    },
    {
      "cell_type": "code",
      "source": [
        "import pandas as pd\n",
        "\n",
        "#!wget -O peopleData.csv -q https://raw.githubusercontent.com/prithwis/parashar21/main/data/Test5Data.txt # 5 Person Test Data\n",
        "!wget -O peopleData.csv -q https://github.com/prithwis/parashar21/raw/main/data/Rodden39663.csv\n",
        "\n",
        "#!gdown -O peopleData.csv https://drive.google.com/uc?id=1CVo1gnMZyCD0EZvAoF_wRdTwL7yqIT6L # 5 Person Test Data\n",
        "#!gdown -O peopleData.csv https://drive.google.com/uc?id=1dlvqcygJJh0CfyY_X2MLrWm-W9U0z_6l # 39663 Rodden Data\n",
        "\n",
        "df = pd.read_csv('peopleData.csv')\n",
        "df.head()"
      ],
      "metadata": {
        "colab": {
          "base_uri": "https://localhost:8080/",
          "height": 374
        },
        "id": "iXeCDQStAEd_",
        "outputId": "f163ae7e-bba5-42fe-f7dc-b4f1c7f107b7"
      },
      "execution_count": 9,
      "outputs": [
        {
          "output_type": "execute_result",
          "data": {
            "text/plain": [
              "  Gender             tag1                         tag2             tag3  \\\n",
              "0      M  Entertain/Music  Instrumentalist (Guitarist)  Entertain/Music   \n",
              "1      M          Writers        Columnist/ journalist          Writers   \n",
              "2      M    Entertainment               Actor/ Actress              nil   \n",
              "3      M    Entertainment               Actor/ Actress    Entertainment   \n",
              "4      M    Entertainment         TV host/ Personality         Politics   \n",
              "\n",
              "                             tag4             tag5                       tag6  \\\n",
              "0                     Song writer  Entertain/Music  Vocalist/ Pop, Rock, etc.   \n",
              "1              Detective/ Mystery          Writers         Fiction (Novelist)   \n",
              "2                             nil              nil                        nil   \n",
              "3                      Voice-Over              nil                        nil   \n",
              "4  Government employee (Minister)              nil                        nil   \n",
              "\n",
              "   DoB_Day  DoB_Mon  DoB_Year DoB_Time TZ_Off  TZ_OffHours    PoB_Lat  \\\n",
              "0        6       10      1968    17:35    h1e          1.0  48.550000   \n",
              "1       19       12      1947    20:00    h1e          1.0  47.383333   \n",
              "2       21        2      1911    03:00    h1e          1.0  59.916667   \n",
              "3       25        4      1902    07:15    h1e          1.0  59.916667   \n",
              "4        4        1      1933    12:30    h0w         -0.0  38.350000   \n",
              "\n",
              "     PoB_Lon TZ_Name   TZ_Type                        Name  \n",
              "0   3.300000     MET  standard                 A_Dominique  \n",
              "1   0.683333     MET  standard                      A_D_G_  \n",
              "2  10.750000     MET  standard               Aabel_Andreas  \n",
              "3  10.750000     MET  standard                   Aabel_Per  \n",
              "4  -0.483333     GMT  standard  Aal_Pomares_Henri_Francois  "
            ],
            "text/html": [
              "\n",
              "  <div id=\"df-85c45efa-d7c2-4cb3-87ee-c3f133e9ec9d\">\n",
              "    <div class=\"colab-df-container\">\n",
              "      <div>\n",
              "<style scoped>\n",
              "    .dataframe tbody tr th:only-of-type {\n",
              "        vertical-align: middle;\n",
              "    }\n",
              "\n",
              "    .dataframe tbody tr th {\n",
              "        vertical-align: top;\n",
              "    }\n",
              "\n",
              "    .dataframe thead th {\n",
              "        text-align: right;\n",
              "    }\n",
              "</style>\n",
              "<table border=\"1\" class=\"dataframe\">\n",
              "  <thead>\n",
              "    <tr style=\"text-align: right;\">\n",
              "      <th></th>\n",
              "      <th>Gender</th>\n",
              "      <th>tag1</th>\n",
              "      <th>tag2</th>\n",
              "      <th>tag3</th>\n",
              "      <th>tag4</th>\n",
              "      <th>tag5</th>\n",
              "      <th>tag6</th>\n",
              "      <th>DoB_Day</th>\n",
              "      <th>DoB_Mon</th>\n",
              "      <th>DoB_Year</th>\n",
              "      <th>DoB_Time</th>\n",
              "      <th>TZ_Off</th>\n",
              "      <th>TZ_OffHours</th>\n",
              "      <th>PoB_Lat</th>\n",
              "      <th>PoB_Lon</th>\n",
              "      <th>TZ_Name</th>\n",
              "      <th>TZ_Type</th>\n",
              "      <th>Name</th>\n",
              "    </tr>\n",
              "  </thead>\n",
              "  <tbody>\n",
              "    <tr>\n",
              "      <th>0</th>\n",
              "      <td>M</td>\n",
              "      <td>Entertain/Music</td>\n",
              "      <td>Instrumentalist (Guitarist)</td>\n",
              "      <td>Entertain/Music</td>\n",
              "      <td>Song writer</td>\n",
              "      <td>Entertain/Music</td>\n",
              "      <td>Vocalist/ Pop, Rock, etc.</td>\n",
              "      <td>6</td>\n",
              "      <td>10</td>\n",
              "      <td>1968</td>\n",
              "      <td>17:35</td>\n",
              "      <td>h1e</td>\n",
              "      <td>1.0</td>\n",
              "      <td>48.550000</td>\n",
              "      <td>3.300000</td>\n",
              "      <td>MET</td>\n",
              "      <td>standard</td>\n",
              "      <td>A_Dominique</td>\n",
              "    </tr>\n",
              "    <tr>\n",
              "      <th>1</th>\n",
              "      <td>M</td>\n",
              "      <td>Writers</td>\n",
              "      <td>Columnist/ journalist</td>\n",
              "      <td>Writers</td>\n",
              "      <td>Detective/ Mystery</td>\n",
              "      <td>Writers</td>\n",
              "      <td>Fiction (Novelist)</td>\n",
              "      <td>19</td>\n",
              "      <td>12</td>\n",
              "      <td>1947</td>\n",
              "      <td>20:00</td>\n",
              "      <td>h1e</td>\n",
              "      <td>1.0</td>\n",
              "      <td>47.383333</td>\n",
              "      <td>0.683333</td>\n",
              "      <td>MET</td>\n",
              "      <td>standard</td>\n",
              "      <td>A_D_G_</td>\n",
              "    </tr>\n",
              "    <tr>\n",
              "      <th>2</th>\n",
              "      <td>M</td>\n",
              "      <td>Entertainment</td>\n",
              "      <td>Actor/ Actress</td>\n",
              "      <td>nil</td>\n",
              "      <td>nil</td>\n",
              "      <td>nil</td>\n",
              "      <td>nil</td>\n",
              "      <td>21</td>\n",
              "      <td>2</td>\n",
              "      <td>1911</td>\n",
              "      <td>03:00</td>\n",
              "      <td>h1e</td>\n",
              "      <td>1.0</td>\n",
              "      <td>59.916667</td>\n",
              "      <td>10.750000</td>\n",
              "      <td>MET</td>\n",
              "      <td>standard</td>\n",
              "      <td>Aabel_Andreas</td>\n",
              "    </tr>\n",
              "    <tr>\n",
              "      <th>3</th>\n",
              "      <td>M</td>\n",
              "      <td>Entertainment</td>\n",
              "      <td>Actor/ Actress</td>\n",
              "      <td>Entertainment</td>\n",
              "      <td>Voice-Over</td>\n",
              "      <td>nil</td>\n",
              "      <td>nil</td>\n",
              "      <td>25</td>\n",
              "      <td>4</td>\n",
              "      <td>1902</td>\n",
              "      <td>07:15</td>\n",
              "      <td>h1e</td>\n",
              "      <td>1.0</td>\n",
              "      <td>59.916667</td>\n",
              "      <td>10.750000</td>\n",
              "      <td>MET</td>\n",
              "      <td>standard</td>\n",
              "      <td>Aabel_Per</td>\n",
              "    </tr>\n",
              "    <tr>\n",
              "      <th>4</th>\n",
              "      <td>M</td>\n",
              "      <td>Entertainment</td>\n",
              "      <td>TV host/ Personality</td>\n",
              "      <td>Politics</td>\n",
              "      <td>Government employee (Minister)</td>\n",
              "      <td>nil</td>\n",
              "      <td>nil</td>\n",
              "      <td>4</td>\n",
              "      <td>1</td>\n",
              "      <td>1933</td>\n",
              "      <td>12:30</td>\n",
              "      <td>h0w</td>\n",
              "      <td>-0.0</td>\n",
              "      <td>38.350000</td>\n",
              "      <td>-0.483333</td>\n",
              "      <td>GMT</td>\n",
              "      <td>standard</td>\n",
              "      <td>Aal_Pomares_Henri_Francois</td>\n",
              "    </tr>\n",
              "  </tbody>\n",
              "</table>\n",
              "</div>\n",
              "      <button class=\"colab-df-convert\" onclick=\"convertToInteractive('df-85c45efa-d7c2-4cb3-87ee-c3f133e9ec9d')\"\n",
              "              title=\"Convert this dataframe to an interactive table.\"\n",
              "              style=\"display:none;\">\n",
              "        \n",
              "  <svg xmlns=\"http://www.w3.org/2000/svg\" height=\"24px\"viewBox=\"0 0 24 24\"\n",
              "       width=\"24px\">\n",
              "    <path d=\"M0 0h24v24H0V0z\" fill=\"none\"/>\n",
              "    <path d=\"M18.56 5.44l.94 2.06.94-2.06 2.06-.94-2.06-.94-.94-2.06-.94 2.06-2.06.94zm-11 1L8.5 8.5l.94-2.06 2.06-.94-2.06-.94L8.5 2.5l-.94 2.06-2.06.94zm10 10l.94 2.06.94-2.06 2.06-.94-2.06-.94-.94-2.06-.94 2.06-2.06.94z\"/><path d=\"M17.41 7.96l-1.37-1.37c-.4-.4-.92-.59-1.43-.59-.52 0-1.04.2-1.43.59L10.3 9.45l-7.72 7.72c-.78.78-.78 2.05 0 2.83L4 21.41c.39.39.9.59 1.41.59.51 0 1.02-.2 1.41-.59l7.78-7.78 2.81-2.81c.8-.78.8-2.07 0-2.86zM5.41 20L4 18.59l7.72-7.72 1.47 1.35L5.41 20z\"/>\n",
              "  </svg>\n",
              "      </button>\n",
              "      \n",
              "  <style>\n",
              "    .colab-df-container {\n",
              "      display:flex;\n",
              "      flex-wrap:wrap;\n",
              "      gap: 12px;\n",
              "    }\n",
              "\n",
              "    .colab-df-convert {\n",
              "      background-color: #E8F0FE;\n",
              "      border: none;\n",
              "      border-radius: 50%;\n",
              "      cursor: pointer;\n",
              "      display: none;\n",
              "      fill: #1967D2;\n",
              "      height: 32px;\n",
              "      padding: 0 0 0 0;\n",
              "      width: 32px;\n",
              "    }\n",
              "\n",
              "    .colab-df-convert:hover {\n",
              "      background-color: #E2EBFA;\n",
              "      box-shadow: 0px 1px 2px rgba(60, 64, 67, 0.3), 0px 1px 3px 1px rgba(60, 64, 67, 0.15);\n",
              "      fill: #174EA6;\n",
              "    }\n",
              "\n",
              "    [theme=dark] .colab-df-convert {\n",
              "      background-color: #3B4455;\n",
              "      fill: #D2E3FC;\n",
              "    }\n",
              "\n",
              "    [theme=dark] .colab-df-convert:hover {\n",
              "      background-color: #434B5C;\n",
              "      box-shadow: 0px 1px 3px 1px rgba(0, 0, 0, 0.15);\n",
              "      filter: drop-shadow(0px 1px 2px rgba(0, 0, 0, 0.3));\n",
              "      fill: #FFFFFF;\n",
              "    }\n",
              "  </style>\n",
              "\n",
              "      <script>\n",
              "        const buttonEl =\n",
              "          document.querySelector('#df-85c45efa-d7c2-4cb3-87ee-c3f133e9ec9d button.colab-df-convert');\n",
              "        buttonEl.style.display =\n",
              "          google.colab.kernel.accessAllowed ? 'block' : 'none';\n",
              "\n",
              "        async function convertToInteractive(key) {\n",
              "          const element = document.querySelector('#df-85c45efa-d7c2-4cb3-87ee-c3f133e9ec9d');\n",
              "          const dataTable =\n",
              "            await google.colab.kernel.invokeFunction('convertToInteractive',\n",
              "                                                     [key], {});\n",
              "          if (!dataTable) return;\n",
              "\n",
              "          const docLinkHtml = 'Like what you see? Visit the ' +\n",
              "            '<a target=\"_blank\" href=https://colab.research.google.com/notebooks/data_table.ipynb>data table notebook</a>'\n",
              "            + ' to learn more about interactive tables.';\n",
              "          element.innerHTML = '';\n",
              "          dataTable['output_type'] = 'display_data';\n",
              "          await google.colab.output.renderOutput(dataTable, element);\n",
              "          const docLink = document.createElement('div');\n",
              "          docLink.innerHTML = docLinkHtml;\n",
              "          element.appendChild(docLink);\n",
              "        }\n",
              "      </script>\n",
              "    </div>\n",
              "  </div>\n",
              "  "
            ]
          },
          "metadata": {},
          "execution_count": 9
        }
      ]
    },
    {
      "cell_type": "markdown",
      "source": [
        "#Cast & Store charts in JSON file\n",
        "Driver Code"
      ],
      "metadata": {
        "id": "gyobEJ3EKU8n"
      }
    },
    {
      "cell_type": "code",
      "source": [
        "%%time\n",
        "# Basic Horoscope Information is converted into JSON format for storage on Mongo\n",
        "p21.ChartType = 'Rashi'                                 # one of ['Rashi','Navamsa']\n",
        "#\n",
        "# Create and store the horoscope in JSON format\n",
        "#\n",
        "p21swe.C61_Cast2JSON(df)"
      ],
      "metadata": {
        "id": "Ju4pMqiKcMbo",
        "outputId": "a1cdfa81-2f0d-470a-f94c-aa1eb046068f",
        "colab": {
          "base_uri": "https://localhost:8080/"
        }
      },
      "execution_count": 10,
      "outputs": [
        {
          "output_type": "stream",
          "name": "stdout",
          "text": [
            "1 records processed, so far\n",
            "1001 records processed, so far\n",
            "2001 records processed, so far\n",
            "3001 records processed, so far\n",
            "4001 records processed, so far\n",
            "5001 records processed, so far\n",
            "6001 records processed, so far\n",
            "7001 records processed, so far\n",
            "8001 records processed, so far\n",
            "9001 records processed, so far\n",
            "10001 records processed, so far\n",
            "11001 records processed, so far\n",
            "12001 records processed, so far\n",
            "13001 records processed, so far\n",
            "14001 records processed, so far\n",
            "15001 records processed, so far\n",
            "16001 records processed, so far\n",
            "17001 records processed, so far\n",
            "18001 records processed, so far\n",
            "19001 records processed, so far\n",
            "20001 records processed, so far\n",
            "21001 records processed, so far\n",
            "22001 records processed, so far\n",
            "23001 records processed, so far\n",
            "24001 records processed, so far\n",
            "25001 records processed, so far\n",
            "26001 records processed, so far\n",
            "27001 records processed, so far\n",
            "28001 records processed, so far\n",
            "error on record  28803\n",
            "29001 records processed, so far\n",
            "30001 records processed, so far\n",
            "31001 records processed, so far\n",
            "32001 records processed, so far\n",
            "33001 records processed, so far\n",
            "34001 records processed, so far\n",
            "35001 records processed, so far\n",
            "36001 records processed, so far\n",
            "37001 records processed, so far\n",
            "38001 records processed, so far\n",
            "39001 records processed, so far\n",
            "39663  records generated and stored in file peopleData.json\n",
            "CPU times: user 57.7 s, sys: 1.46 s, total: 59.1 s\n",
            "Wall time: 59.5 s\n"
          ]
        }
      ]
    },
    {
      "cell_type": "markdown",
      "source": [
        "#Connect to MongoDB"
      ],
      "metadata": {
        "id": "ZsYS94O-DRAl"
      }
    },
    {
      "cell_type": "code",
      "source": [
        "#\n",
        "# Retrieve 'secret' MongoDB credentials from G-drive\n",
        "#\n",
        "from google.colab import drive\n",
        "drive.mount('/content/drive')\n",
        "# --------------------------------------------\n",
        "# copy credentials file\n",
        "#!cp /content/drive/'My Drive'/Praxis/WebCredentials/clevercloudMongoDB.py credentials.py\n",
        "#!cp /content/drive/'My Drive'/Praxis/WebCredentials/parashar21URI.py credentials.py\n",
        "\n",
        "!cp /content/drive/'My Drive'/Praxis/WebCredentials/Parashar21_Atlas_18Sep22.py credentials.py\n",
        "# -----------------------------------------------\n",
        "\n",
        "#from credentials import rhostName,ruserName,rpassWord,rdbName,rMongoURI\n",
        "from credentials import parashar21URI\n",
        "\n",
        "# -----------------------------------------------\n",
        "mongoURI = parashar21URI                                   # for remote server\n"
      ],
      "metadata": {
        "colab": {
          "base_uri": "https://localhost:8080/"
        },
        "id": "Ydu8Gh-mDiYn",
        "outputId": "0ea6f1cd-f240-47cd-e103-cd232e7f2b43"
      },
      "execution_count": 11,
      "outputs": [
        {
          "output_type": "stream",
          "name": "stdout",
          "text": [
            "Mounted at /content/drive\n"
          ]
        }
      ]
    },
    {
      "cell_type": "code",
      "source": [
        "#mongoURI = \"mongodb://localhost:27017/\"\n",
        "client = MongoClient(mongoURI)\n",
        "client.list_database_names() \n",
        "#db = client.btncgfi3a5bxyea\n"
      ],
      "metadata": {
        "id": "UK4r7sjDXtAW",
        "outputId": "3c46639f-b8e5-467b-c713-0a6ea68a6bbe",
        "colab": {
          "base_uri": "https://localhost:8080/"
        }
      },
      "execution_count": 12,
      "outputs": [
        {
          "output_type": "execute_result",
          "data": {
            "text/plain": [
              "['Parashar21', 'PraxisDB', 'admin', 'local']"
            ]
          },
          "metadata": {},
          "execution_count": 12
        }
      ]
    },
    {
      "cell_type": "code",
      "source": [
        "db = client.Parashar21\n",
        "# Show Collections. Query returns a Cursor [ ] ,  list it to see the content\n",
        "pd.DataFrame(list(db.list_collections()))\n",
        "# empty list '[]' means that there are not collections in database"
      ],
      "metadata": {
        "colab": {
          "base_uri": "https://localhost:8080/",
          "height": 81
        },
        "id": "imaqh29vhnYn",
        "outputId": "cc134e5a-3a3e-4b86-b0d6-fd3174e4bb60"
      },
      "execution_count": 13,
      "outputs": [
        {
          "output_type": "execute_result",
          "data": {
            "text/plain": [
              "      name        type options  \\\n",
              "0  khona21  collection      {}   \n",
              "\n",
              "                                                info  \\\n",
              "0  {'readOnly': False, 'uuid': b'\\xc0\\xe1\\xe7D\\x1...   \n",
              "\n",
              "                                       idIndex  \n",
              "0  {'v': 2, 'key': {'_id': 1}, 'name': '_id_'}  "
            ],
            "text/html": [
              "\n",
              "  <div id=\"df-c6a92b73-b1a0-43e6-a5fa-a8e43249c9c2\">\n",
              "    <div class=\"colab-df-container\">\n",
              "      <div>\n",
              "<style scoped>\n",
              "    .dataframe tbody tr th:only-of-type {\n",
              "        vertical-align: middle;\n",
              "    }\n",
              "\n",
              "    .dataframe tbody tr th {\n",
              "        vertical-align: top;\n",
              "    }\n",
              "\n",
              "    .dataframe thead th {\n",
              "        text-align: right;\n",
              "    }\n",
              "</style>\n",
              "<table border=\"1\" class=\"dataframe\">\n",
              "  <thead>\n",
              "    <tr style=\"text-align: right;\">\n",
              "      <th></th>\n",
              "      <th>name</th>\n",
              "      <th>type</th>\n",
              "      <th>options</th>\n",
              "      <th>info</th>\n",
              "      <th>idIndex</th>\n",
              "    </tr>\n",
              "  </thead>\n",
              "  <tbody>\n",
              "    <tr>\n",
              "      <th>0</th>\n",
              "      <td>khona21</td>\n",
              "      <td>collection</td>\n",
              "      <td>{}</td>\n",
              "      <td>{'readOnly': False, 'uuid': b'\\xc0\\xe1\\xe7D\\x1...</td>\n",
              "      <td>{'v': 2, 'key': {'_id': 1}, 'name': '_id_'}</td>\n",
              "    </tr>\n",
              "  </tbody>\n",
              "</table>\n",
              "</div>\n",
              "      <button class=\"colab-df-convert\" onclick=\"convertToInteractive('df-c6a92b73-b1a0-43e6-a5fa-a8e43249c9c2')\"\n",
              "              title=\"Convert this dataframe to an interactive table.\"\n",
              "              style=\"display:none;\">\n",
              "        \n",
              "  <svg xmlns=\"http://www.w3.org/2000/svg\" height=\"24px\"viewBox=\"0 0 24 24\"\n",
              "       width=\"24px\">\n",
              "    <path d=\"M0 0h24v24H0V0z\" fill=\"none\"/>\n",
              "    <path d=\"M18.56 5.44l.94 2.06.94-2.06 2.06-.94-2.06-.94-.94-2.06-.94 2.06-2.06.94zm-11 1L8.5 8.5l.94-2.06 2.06-.94-2.06-.94L8.5 2.5l-.94 2.06-2.06.94zm10 10l.94 2.06.94-2.06 2.06-.94-2.06-.94-.94-2.06-.94 2.06-2.06.94z\"/><path d=\"M17.41 7.96l-1.37-1.37c-.4-.4-.92-.59-1.43-.59-.52 0-1.04.2-1.43.59L10.3 9.45l-7.72 7.72c-.78.78-.78 2.05 0 2.83L4 21.41c.39.39.9.59 1.41.59.51 0 1.02-.2 1.41-.59l7.78-7.78 2.81-2.81c.8-.78.8-2.07 0-2.86zM5.41 20L4 18.59l7.72-7.72 1.47 1.35L5.41 20z\"/>\n",
              "  </svg>\n",
              "      </button>\n",
              "      \n",
              "  <style>\n",
              "    .colab-df-container {\n",
              "      display:flex;\n",
              "      flex-wrap:wrap;\n",
              "      gap: 12px;\n",
              "    }\n",
              "\n",
              "    .colab-df-convert {\n",
              "      background-color: #E8F0FE;\n",
              "      border: none;\n",
              "      border-radius: 50%;\n",
              "      cursor: pointer;\n",
              "      display: none;\n",
              "      fill: #1967D2;\n",
              "      height: 32px;\n",
              "      padding: 0 0 0 0;\n",
              "      width: 32px;\n",
              "    }\n",
              "\n",
              "    .colab-df-convert:hover {\n",
              "      background-color: #E2EBFA;\n",
              "      box-shadow: 0px 1px 2px rgba(60, 64, 67, 0.3), 0px 1px 3px 1px rgba(60, 64, 67, 0.15);\n",
              "      fill: #174EA6;\n",
              "    }\n",
              "\n",
              "    [theme=dark] .colab-df-convert {\n",
              "      background-color: #3B4455;\n",
              "      fill: #D2E3FC;\n",
              "    }\n",
              "\n",
              "    [theme=dark] .colab-df-convert:hover {\n",
              "      background-color: #434B5C;\n",
              "      box-shadow: 0px 1px 3px 1px rgba(0, 0, 0, 0.15);\n",
              "      filter: drop-shadow(0px 1px 2px rgba(0, 0, 0, 0.3));\n",
              "      fill: #FFFFFF;\n",
              "    }\n",
              "  </style>\n",
              "\n",
              "      <script>\n",
              "        const buttonEl =\n",
              "          document.querySelector('#df-c6a92b73-b1a0-43e6-a5fa-a8e43249c9c2 button.colab-df-convert');\n",
              "        buttonEl.style.display =\n",
              "          google.colab.kernel.accessAllowed ? 'block' : 'none';\n",
              "\n",
              "        async function convertToInteractive(key) {\n",
              "          const element = document.querySelector('#df-c6a92b73-b1a0-43e6-a5fa-a8e43249c9c2');\n",
              "          const dataTable =\n",
              "            await google.colab.kernel.invokeFunction('convertToInteractive',\n",
              "                                                     [key], {});\n",
              "          if (!dataTable) return;\n",
              "\n",
              "          const docLinkHtml = 'Like what you see? Visit the ' +\n",
              "            '<a target=\"_blank\" href=https://colab.research.google.com/notebooks/data_table.ipynb>data table notebook</a>'\n",
              "            + ' to learn more about interactive tables.';\n",
              "          element.innerHTML = '';\n",
              "          dataTable['output_type'] = 'display_data';\n",
              "          await google.colab.output.renderOutput(dataTable, element);\n",
              "          const docLink = document.createElement('div');\n",
              "          docLink.innerHTML = docLinkHtml;\n",
              "          element.appendChild(docLink);\n",
              "        }\n",
              "      </script>\n",
              "    </div>\n",
              "  </div>\n",
              "  "
            ]
          },
          "metadata": {},
          "execution_count": 13
        }
      ]
    },
    {
      "cell_type": "code",
      "source": [
        "#db = client.btncgfi3a5bxyea\n",
        "\n",
        "#db.khona21Test.drop()                   # Test DB\n",
        "#db.khona21.drop()                      # Main DB do not drop, accidentally\n",
        "\n",
        "#db.create_collection('khona21Test')      # https://feminisminindia.com/2019/06/07/khawna-khana-poet-rural-bengal/\n",
        "                                        # https://en.wikipedia.org/wiki/Khana_(poet)\n",
        "#kollection = db.khona21Test                # Set the collection to work with\n",
        "\n",
        "#Check and record Initial DB status\n",
        "#countInitial = kollection.count_documents({})\n",
        "#dbSizeInitial = db.command( {\"dbStats\": 1, \"scale\": 1024 } )['dataSize']\n",
        "#print(round(dbSizeInitial),'KB database with ', countInitial, ' docs in current collection' )"
      ],
      "metadata": {
        "id": "DLigUEp2h3My"
      },
      "execution_count": null,
      "outputs": []
    },
    {
      "cell_type": "markdown",
      "source": [
        "#Load into Mongo"
      ],
      "metadata": {
        "id": "QaPvwMLoaMa3"
      }
    },
    {
      "cell_type": "code",
      "source": [
        "%%time\n",
        "\n",
        "mongoURIload = mongoURI.replace('?retryWrites=true&w=majority','Parashar21?')\n",
        "##!mongoimport --uri \"{rMongoURI}\"  --collection \"khona21Test\"  --drop --file \"peopleData.json\" \n",
        "!mongoimport --uri \"{mongoURIload}\"  --collection \"khona21\"  --drop --file \"peopleData.json\" "
      ],
      "metadata": {
        "colab": {
          "base_uri": "https://localhost:8080/"
        },
        "id": "RZBpOfBTaSkr",
        "outputId": "de766458-10b8-4edf-8282-1d0a2351f298"
      },
      "execution_count": 14,
      "outputs": [
        {
          "output_type": "stream",
          "name": "stdout",
          "text": [
            "2023-05-05T02:34:59.892+0000\tconnected to: mongodb+srv://[**REDACTED**]@cluster0.yarln.mongodb.net/Parashar21?\n",
            "2023-05-05T02:35:00.104+0000\tdropping: Parashar21.khona21\n",
            "2023-05-05T02:35:02.893+0000\t[........................] Parashar21.khona21\t3.52MB/137MB (2.6%)\n",
            "2023-05-05T02:35:05.892+0000\t[........................] Parashar21.khona21\t3.52MB/137MB (2.6%)\n",
            "2023-05-05T02:35:08.892+0000\t[#.......................] Parashar21.khona21\t6.97MB/137MB (5.1%)\n",
            "2023-05-05T02:35:11.893+0000\t[#.......................] Parashar21.khona21\t10.4MB/137MB (7.6%)\n",
            "2023-05-05T02:35:14.893+0000\t[##......................] Parashar21.khona21\t13.9MB/137MB (10.2%)\n",
            "2023-05-05T02:35:17.893+0000\t[##......................] Parashar21.khona21\t13.9MB/137MB (10.2%)\n",
            "2023-05-05T02:35:20.893+0000\t[###.....................] Parashar21.khona21\t17.3MB/137MB (12.7%)\n",
            "2023-05-05T02:35:23.893+0000\t[###.....................] Parashar21.khona21\t17.3MB/137MB (12.7%)\n",
            "2023-05-05T02:35:26.892+0000\t[###.....................] Parashar21.khona21\t20.8MB/137MB (15.2%)\n",
            "2023-05-05T02:35:29.893+0000\t[####....................] Parashar21.khona21\t24.2MB/137MB (17.7%)\n",
            "2023-05-05T02:35:32.892+0000\t[####....................] Parashar21.khona21\t24.2MB/137MB (17.7%)\n",
            "2023-05-05T02:35:35.892+0000\t[####....................] Parashar21.khona21\t27.7MB/137MB (20.2%)\n",
            "2023-05-05T02:35:38.893+0000\t[#####...................] Parashar21.khona21\t31.1MB/137MB (22.8%)\n",
            "2023-05-05T02:35:41.892+0000\t[#####...................] Parashar21.khona21\t31.1MB/137MB (22.8%)\n",
            "2023-05-05T02:35:44.893+0000\t[######..................] Parashar21.khona21\t34.5MB/137MB (25.3%)\n",
            "2023-05-05T02:35:47.892+0000\t[######..................] Parashar21.khona21\t34.5MB/137MB (25.3%)\n",
            "2023-05-05T02:35:50.892+0000\t[######..................] Parashar21.khona21\t38.0MB/137MB (27.8%)\n",
            "2023-05-05T02:35:53.893+0000\t[######..................] Parashar21.khona21\t38.0MB/137MB (27.8%)\n",
            "2023-05-05T02:35:56.893+0000\t[#######.................] Parashar21.khona21\t41.3MB/137MB (30.2%)\n",
            "2023-05-05T02:35:59.892+0000\t[#######.................] Parashar21.khona21\t41.5MB/137MB (30.3%)\n",
            "2023-05-05T02:36:02.893+0000\t[#######.................] Parashar21.khona21\t44.9MB/137MB (32.9%)\n",
            "2023-05-05T02:36:05.893+0000\t[#######.................] Parashar21.khona21\t44.9MB/137MB (32.9%)\n",
            "2023-05-05T02:36:08.893+0000\t[########................] Parashar21.khona21\t48.3MB/137MB (35.4%)\n",
            "2023-05-05T02:36:11.893+0000\t[########................] Parashar21.khona21\t48.3MB/137MB (35.4%)\n",
            "2023-05-05T02:36:14.893+0000\t[#########...............] Parashar21.khona21\t51.8MB/137MB (37.9%)\n",
            "2023-05-05T02:36:17.893+0000\t[#########...............] Parashar21.khona21\t51.8MB/137MB (37.9%)\n",
            "2023-05-05T02:36:20.893+0000\t[#########...............] Parashar21.khona21\t55.2MB/137MB (40.4%)\n",
            "2023-05-05T02:36:23.895+0000\t[##########..............] Parashar21.khona21\t58.2MB/137MB (42.6%)\n",
            "2023-05-05T02:36:26.893+0000\t[##########..............] Parashar21.khona21\t58.7MB/137MB (42.9%)\n",
            "2023-05-05T02:36:29.893+0000\t[##########..............] Parashar21.khona21\t62.1MB/137MB (45.5%)\n",
            "2023-05-05T02:36:32.893+0000\t[##########..............] Parashar21.khona21\t62.1MB/137MB (45.5%)\n",
            "2023-05-05T02:36:35.895+0000\t[###########.............] Parashar21.khona21\t65.2MB/137MB (47.7%)\n",
            "2023-05-05T02:36:38.892+0000\t[###########.............] Parashar21.khona21\t65.6MB/137MB (48.0%)\n",
            "2023-05-05T02:36:41.893+0000\t[############............] Parashar21.khona21\t69.0MB/137MB (50.5%)\n",
            "2023-05-05T02:36:44.893+0000\t[############............] Parashar21.khona21\t69.0MB/137MB (50.5%)\n",
            "2023-05-05T02:36:47.893+0000\t[############............] Parashar21.khona21\t72.4MB/137MB (53.0%)\n",
            "2023-05-05T02:36:50.893+0000\t[############............] Parashar21.khona21\t72.4MB/137MB (53.0%)\n",
            "2023-05-05T02:36:53.892+0000\t[#############...........] Parashar21.khona21\t75.9MB/137MB (55.5%)\n",
            "2023-05-05T02:36:56.893+0000\t[#############...........] Parashar21.khona21\t75.9MB/137MB (55.5%)\n",
            "2023-05-05T02:36:59.893+0000\t[#############...........] Parashar21.khona21\t79.3MB/137MB (58.1%)\n",
            "2023-05-05T02:37:02.892+0000\t[#############...........] Parashar21.khona21\t79.3MB/137MB (58.1%)\n",
            "2023-05-05T02:37:05.893+0000\t[##############..........] Parashar21.khona21\t82.8MB/137MB (60.6%)\n",
            "2023-05-05T02:37:08.893+0000\t[###############.........] Parashar21.khona21\t85.5MB/137MB (62.6%)\n",
            "2023-05-05T02:37:11.893+0000\t[###############.........] Parashar21.khona21\t86.2MB/137MB (63.1%)\n",
            "2023-05-05T02:37:14.892+0000\t[###############.........] Parashar21.khona21\t89.7MB/137MB (65.6%)\n",
            "2023-05-05T02:37:17.893+0000\t[###############.........] Parashar21.khona21\t89.7MB/137MB (65.6%)\n",
            "2023-05-05T02:37:20.893+0000\t[################........] Parashar21.khona21\t93.1MB/137MB (68.1%)\n",
            "2023-05-05T02:37:23.893+0000\t[################........] Parashar21.khona21\t93.1MB/137MB (68.1%)\n",
            "2023-05-05T02:37:26.893+0000\t[################........] Parashar21.khona21\t96.5MB/137MB (70.7%)\n",
            "2023-05-05T02:37:29.893+0000\t[################........] Parashar21.khona21\t96.5MB/137MB (70.7%)\n",
            "2023-05-05T02:37:32.893+0000\t[#################.......] Parashar21.khona21\t100.0MB/137MB (73.2%)\n",
            "2023-05-05T02:37:35.892+0000\t[#################.......] Parashar21.khona21\t100MB/137MB (73.4%)\n",
            "2023-05-05T02:37:38.893+0000\t[##################......] Parashar21.khona21\t103MB/137MB (75.7%)\n",
            "2023-05-05T02:37:41.893+0000\t[##################......] Parashar21.khona21\t104MB/137MB (76.3%)\n",
            "2023-05-05T02:37:44.893+0000\t[##################......] Parashar21.khona21\t107MB/137MB (78.2%)\n",
            "2023-05-05T02:37:47.892+0000\t[##################......] Parashar21.khona21\t107MB/137MB (78.2%)\n",
            "2023-05-05T02:37:50.893+0000\t[###################.....] Parashar21.khona21\t110MB/137MB (80.7%)\n",
            "2023-05-05T02:37:53.892+0000\t[###################.....] Parashar21.khona21\t114MB/137MB (83.3%)\n",
            "2023-05-05T02:37:56.892+0000\t[###################.....] Parashar21.khona21\t114MB/137MB (83.3%)\n",
            "2023-05-05T02:37:59.893+0000\t[####################....] Parashar21.khona21\t117MB/137MB (85.8%)\n",
            "2023-05-05T02:38:02.893+0000\t[####################....] Parashar21.khona21\t117MB/137MB (85.8%)\n",
            "2023-05-05T02:38:05.892+0000\t[#####################...] Parashar21.khona21\t121MB/137MB (88.3%)\n",
            "2023-05-05T02:38:08.893+0000\t[#####################...] Parashar21.khona21\t121MB/137MB (88.3%)\n",
            "2023-05-05T02:38:11.893+0000\t[#####################...] Parashar21.khona21\t124MB/137MB (90.8%)\n",
            "2023-05-05T02:38:14.893+0000\t[#####################...] Parashar21.khona21\t124MB/137MB (90.8%)\n",
            "2023-05-05T02:38:17.892+0000\t[######################..] Parashar21.khona21\t128MB/137MB (93.3%)\n",
            "2023-05-05T02:38:20.892+0000\t[######################..] Parashar21.khona21\t128MB/137MB (93.3%)\n",
            "2023-05-05T02:38:23.893+0000\t[#######################.] Parashar21.khona21\t131MB/137MB (95.9%)\n",
            "2023-05-05T02:38:26.893+0000\t[#######################.] Parashar21.khona21\t134MB/137MB (98.4%)\n",
            "2023-05-05T02:38:29.526+0000\t[########################] Parashar21.khona21\t137MB/137MB (100.0%)\n",
            "2023-05-05T02:38:29.526+0000\t39662 document(s) imported successfully. 0 document(s) failed to import.\n",
            "CPU times: user 1.44 s, sys: 207 ms, total: 1.64 s\n",
            "Wall time: 3min 32s\n"
          ]
        }
      ]
    },
    {
      "cell_type": "markdown",
      "source": [
        "#Check Database Status"
      ],
      "metadata": {
        "id": "6gqKwTFHEgAu"
      }
    },
    {
      "cell_type": "code",
      "source": [
        "p21.kollection = db.khona21\n",
        "#kollection = db.khona21Test\n",
        "countFinal = p21.kollection.count_documents({})\n",
        "dbSizeFinal = db.command( {\"dbStats\": 1, \"scale\": 1024 } )['dataSize']\n",
        "\n",
        "#DocsInserted = countFinal - countInitial\n",
        "#AddSpaceUsed = round(dbSizeFinal - dbSizeInitial)\n",
        "#if DocsInserted > 0:\n",
        "#    AvgDocSize = round(AddSpaceUsed/DocsInserted)\n",
        "#else:\n",
        "#    AvgDocSize = 'na'\n",
        "#print(DocsInserted,' docs inserted, ',AddSpaceUsed,' KB added , with avg doc size = ', AvgDocSize)\n",
        "\n",
        "\n",
        "print(round(dbSizeFinal),'KB database with ', countFinal, ' docs in current collection' )"
      ],
      "metadata": {
        "id": "G1NrPFflBGsy",
        "outputId": "b2f85ec1-15ab-45ab-cdd2-b41bdf4e7c1d",
        "colab": {
          "base_uri": "https://localhost:8080/"
        }
      },
      "execution_count": 15,
      "outputs": [
        {
          "output_type": "stream",
          "name": "stdout",
          "text": [
            "146582 KB database with  39662  docs in current collection\n"
          ]
        }
      ]
    },
    {
      "cell_type": "code",
      "source": [
        "# Check data loaded into MongoDb\n",
        "#c = kollection.find()\n",
        "#for crnt in c:\n",
        "#    print(crnt)\n",
        "pd.DataFrame(list(p21.kollection.find({},{'_id':0}).limit(2)))"
      ],
      "metadata": {
        "id": "GQiQRXw7NjEp",
        "outputId": "9122fae0-f3d7-45f4-b2e4-a2401bee8aa3",
        "colab": {
          "base_uri": "https://localhost:8080/",
          "height": 587
        }
      },
      "execution_count": 16,
      "outputs": [
        {
          "output_type": "execute_result",
          "data": {
            "text/plain": [
              "                                                 pid  \\\n",
              "0  {'tags': ['Writers', 'Writers', 'Writers'], 'c...   \n",
              "1  {'tags': ['Entertain/Music', 'Entertain/Music'...   \n",
              "\n",
              "                                                GLon  \\\n",
              "0  {'La': 100.281, 'Su': 243.912, 'Mo': 323.344, ...   \n",
              "1  {'La': 330.585, 'Su': 170.058, 'Mo': 352.364, ...   \n",
              "\n",
              "                                                GRet  \\\n",
              "0  {'La': False, 'Su': False, 'Mo': False, 'Ma': ...   \n",
              "1  {'La': False, 'Su': False, 'Mo': False, 'Ma': ...   \n",
              "\n",
              "                                        BhavN  \\\n",
              "0  [ , 4, 5, 6, 7, 8, 9, 10, 11, 12, 1, 2, 3]   \n",
              "1  [ , 12, 1, 2, 3, 4, 5, 6, 7, 8, 9, 10, 11]   \n",
              "\n",
              "                                               BhavA  \\\n",
              "0  [ , Karkat, Simha, Kanya, Tula, Vrishchik, Dha...   \n",
              "1  [ , Meen, Mesh, Vrish, Mithun, Karkat, Simha, ...   \n",
              "\n",
              "                                                Lord  \\\n",
              "0  [ , Mo, Su, Me, Ve, Ma, Ju, Sa, Sa, Ju, Ma, Ve...   \n",
              "1  [ , Ju, Ma, Ve, Me, Mo, Su, Me, Ve, Ma, Ju, Sa...   \n",
              "\n",
              "                                   LordRashiN  \\\n",
              "0  [ , 11, 9, 8, 10, 5, 8, 4, 4, 8, 5, 10, 8]   \n",
              "1  [ , 5, 5, 7, 7, 12, 6, 7, 7, 5, 5, 12, 12]   \n",
              "\n",
              "                                          LordRashiA  \\\n",
              "0  [ , Kumbh, Dhanu, Vrishchik, Makar, Simha, Vri...   \n",
              "1  [ , Simha, Simha, Tula, Tula, Meen, Kanya, Tul...   \n",
              "\n",
              "                                       GrahaLordBhav  \\\n",
              "0  {'Su': [2], 'Mo': [1], 'Ma': [5, 10], 'Me': [3...   \n",
              "1  {'Su': [6], 'Mo': [5], 'Ma': [2, 9], 'Me': [4,...   \n",
              "\n",
              "                                             GRashiN  ...  \\\n",
              "0  {'La': 4, 'Su': 9, 'Mo': 11, 'Ma': 5, 'Me': 8,...  ...   \n",
              "1  {'La': 12, 'Su': 6, 'Mo': 12, 'Ma': 5, 'Me': 7...  ...   \n",
              "\n",
              "                                            inEnemyL  \\\n",
              "0  [False, False, False, False, False, False, Fal...   \n",
              "1  [False, False, False, False, False, False, Fal...   \n",
              "\n",
              "                                           GAspects2  \\\n",
              "0  {'La': ['Ve'], 'Mo': ['Ma'], 'Ma': ['Mo', 'Me'...   \n",
              "1  {'La': ['Ke', 'Su'], 'Su': ['Mo', 'Ra', 'Sa', ...   \n",
              "\n",
              "                                        GAspectedBy2  \\\n",
              "0  {'Ve': ['Sa', 'La'], 'Ma': ['Mo'], 'Mo': ['Ma'...   \n",
              "1  {'Su': ['Mo', 'Ra', 'Sa', 'La'], 'Ke': ['Mo', ...   \n",
              "\n",
              "                                        BAspectedBy2  \\\n",
              "0  {'7': ['Sa', 'La'], '12': ['Su'], '2': ['Mo'],...   \n",
              "1  {'7': ['Mo', 'Ra', 'Sa', 'La'], '1': ['Ke', 'M...   \n",
              "\n",
              "                                      BAspectedByBL2  \\\n",
              "0  {'1': ['4', '6', '9', '11'], '2': ['1'], '3': ...   \n",
              "1  {'1': ['2', '6', '9'], '2': ['3', '1', '10', '...   \n",
              "\n",
              "                                        GConjunctsG2  \\\n",
              "0                       {'Me': ['Ju'], 'Ju': ['Me']}   \n",
              "1  {'Su': ['Ke'], 'Ke': ['Su'], 'Mo': ['Ra', 'Sa'...   \n",
              "\n",
              "                                       BLConjunctsG2  \\\n",
              "0  {'3': ['Ju'], '6': ['Me'], '9': ['Me'], '12': ...   \n",
              "1  {'1': ['Ma'], '2': ['Ju'], '3': ['Me'], '4': [...   \n",
              "\n",
              "                                      BLConjunctsBL2  \\\n",
              "0  {'3': ['9', '6'], '6': ['12', '3'], '9': ['12'...   \n",
              "1  {'1': ['2', '9'], '2': ['10', '1'], '3': ['4',...   \n",
              "\n",
              "                                            beneficG  \\\n",
              "0  {'Su': False, 'Mo': True, 'Ma': True, 'Me': Fa...   \n",
              "1  {'Su': False, 'Mo': True, 'Ma': True, 'Me': Fa...   \n",
              "\n",
              "                                            maleficG  \n",
              "0  {'Su': False, 'Mo': False, 'Ma': False, 'Me': ...  \n",
              "1  {'Su': True, 'Mo': False, 'Ma': False, 'Me': F...  \n",
              "\n",
              "[2 rows x 31 columns]"
            ],
            "text/html": [
              "\n",
              "  <div id=\"df-d376576c-12fc-4a15-878d-d008c90f0178\">\n",
              "    <div class=\"colab-df-container\">\n",
              "      <div>\n",
              "<style scoped>\n",
              "    .dataframe tbody tr th:only-of-type {\n",
              "        vertical-align: middle;\n",
              "    }\n",
              "\n",
              "    .dataframe tbody tr th {\n",
              "        vertical-align: top;\n",
              "    }\n",
              "\n",
              "    .dataframe thead th {\n",
              "        text-align: right;\n",
              "    }\n",
              "</style>\n",
              "<table border=\"1\" class=\"dataframe\">\n",
              "  <thead>\n",
              "    <tr style=\"text-align: right;\">\n",
              "      <th></th>\n",
              "      <th>pid</th>\n",
              "      <th>GLon</th>\n",
              "      <th>GRet</th>\n",
              "      <th>BhavN</th>\n",
              "      <th>BhavA</th>\n",
              "      <th>Lord</th>\n",
              "      <th>LordRashiN</th>\n",
              "      <th>LordRashiA</th>\n",
              "      <th>GrahaLordBhav</th>\n",
              "      <th>GRashiN</th>\n",
              "      <th>...</th>\n",
              "      <th>inEnemyL</th>\n",
              "      <th>GAspects2</th>\n",
              "      <th>GAspectedBy2</th>\n",
              "      <th>BAspectedBy2</th>\n",
              "      <th>BAspectedByBL2</th>\n",
              "      <th>GConjunctsG2</th>\n",
              "      <th>BLConjunctsG2</th>\n",
              "      <th>BLConjunctsBL2</th>\n",
              "      <th>beneficG</th>\n",
              "      <th>maleficG</th>\n",
              "    </tr>\n",
              "  </thead>\n",
              "  <tbody>\n",
              "    <tr>\n",
              "      <th>0</th>\n",
              "      <td>{'tags': ['Writers', 'Writers', 'Writers'], 'c...</td>\n",
              "      <td>{'La': 100.281, 'Su': 243.912, 'Mo': 323.344, ...</td>\n",
              "      <td>{'La': False, 'Su': False, 'Mo': False, 'Ma': ...</td>\n",
              "      <td>[ , 4, 5, 6, 7, 8, 9, 10, 11, 12, 1, 2, 3]</td>\n",
              "      <td>[ , Karkat, Simha, Kanya, Tula, Vrishchik, Dha...</td>\n",
              "      <td>[ , Mo, Su, Me, Ve, Ma, Ju, Sa, Sa, Ju, Ma, Ve...</td>\n",
              "      <td>[ , 11, 9, 8, 10, 5, 8, 4, 4, 8, 5, 10, 8]</td>\n",
              "      <td>[ , Kumbh, Dhanu, Vrishchik, Makar, Simha, Vri...</td>\n",
              "      <td>{'Su': [2], 'Mo': [1], 'Ma': [5, 10], 'Me': [3...</td>\n",
              "      <td>{'La': 4, 'Su': 9, 'Mo': 11, 'Ma': 5, 'Me': 8,...</td>\n",
              "      <td>...</td>\n",
              "      <td>[False, False, False, False, False, False, Fal...</td>\n",
              "      <td>{'La': ['Ve'], 'Mo': ['Ma'], 'Ma': ['Mo', 'Me'...</td>\n",
              "      <td>{'Ve': ['Sa', 'La'], 'Ma': ['Mo'], 'Mo': ['Ma'...</td>\n",
              "      <td>{'7': ['Sa', 'La'], '12': ['Su'], '2': ['Mo'],...</td>\n",
              "      <td>{'1': ['4', '6', '9', '11'], '2': ['1'], '3': ...</td>\n",
              "      <td>{'Me': ['Ju'], 'Ju': ['Me']}</td>\n",
              "      <td>{'3': ['Ju'], '6': ['Me'], '9': ['Me'], '12': ...</td>\n",
              "      <td>{'3': ['9', '6'], '6': ['12', '3'], '9': ['12'...</td>\n",
              "      <td>{'Su': False, 'Mo': True, 'Ma': True, 'Me': Fa...</td>\n",
              "      <td>{'Su': False, 'Mo': False, 'Ma': False, 'Me': ...</td>\n",
              "    </tr>\n",
              "    <tr>\n",
              "      <th>1</th>\n",
              "      <td>{'tags': ['Entertain/Music', 'Entertain/Music'...</td>\n",
              "      <td>{'La': 330.585, 'Su': 170.058, 'Mo': 352.364, ...</td>\n",
              "      <td>{'La': False, 'Su': False, 'Mo': False, 'Ma': ...</td>\n",
              "      <td>[ , 12, 1, 2, 3, 4, 5, 6, 7, 8, 9, 10, 11]</td>\n",
              "      <td>[ , Meen, Mesh, Vrish, Mithun, Karkat, Simha, ...</td>\n",
              "      <td>[ , Ju, Ma, Ve, Me, Mo, Su, Me, Ve, Ma, Ju, Sa...</td>\n",
              "      <td>[ , 5, 5, 7, 7, 12, 6, 7, 7, 5, 5, 12, 12]</td>\n",
              "      <td>[ , Simha, Simha, Tula, Tula, Meen, Kanya, Tul...</td>\n",
              "      <td>{'Su': [6], 'Mo': [5], 'Ma': [2, 9], 'Me': [4,...</td>\n",
              "      <td>{'La': 12, 'Su': 6, 'Mo': 12, 'Ma': 5, 'Me': 7...</td>\n",
              "      <td>...</td>\n",
              "      <td>[False, False, False, False, False, False, Fal...</td>\n",
              "      <td>{'La': ['Ke', 'Su'], 'Su': ['Mo', 'Ra', 'Sa', ...</td>\n",
              "      <td>{'Su': ['Mo', 'Ra', 'Sa', 'La'], 'Ke': ['Mo', ...</td>\n",
              "      <td>{'7': ['Mo', 'Ra', 'Sa', 'La'], '1': ['Ke', 'M...</td>\n",
              "      <td>{'1': ['2', '6', '9'], '2': ['3', '1', '10', '...</td>\n",
              "      <td>{'Su': ['Ke'], 'Ke': ['Su'], 'Mo': ['Ra', 'Sa'...</td>\n",
              "      <td>{'1': ['Ma'], '2': ['Ju'], '3': ['Me'], '4': [...</td>\n",
              "      <td>{'1': ['2', '9'], '2': ['10', '1'], '3': ['4',...</td>\n",
              "      <td>{'Su': False, 'Mo': True, 'Ma': True, 'Me': Fa...</td>\n",
              "      <td>{'Su': True, 'Mo': False, 'Ma': False, 'Me': F...</td>\n",
              "    </tr>\n",
              "  </tbody>\n",
              "</table>\n",
              "<p>2 rows × 31 columns</p>\n",
              "</div>\n",
              "      <button class=\"colab-df-convert\" onclick=\"convertToInteractive('df-d376576c-12fc-4a15-878d-d008c90f0178')\"\n",
              "              title=\"Convert this dataframe to an interactive table.\"\n",
              "              style=\"display:none;\">\n",
              "        \n",
              "  <svg xmlns=\"http://www.w3.org/2000/svg\" height=\"24px\"viewBox=\"0 0 24 24\"\n",
              "       width=\"24px\">\n",
              "    <path d=\"M0 0h24v24H0V0z\" fill=\"none\"/>\n",
              "    <path d=\"M18.56 5.44l.94 2.06.94-2.06 2.06-.94-2.06-.94-.94-2.06-.94 2.06-2.06.94zm-11 1L8.5 8.5l.94-2.06 2.06-.94-2.06-.94L8.5 2.5l-.94 2.06-2.06.94zm10 10l.94 2.06.94-2.06 2.06-.94-2.06-.94-.94-2.06-.94 2.06-2.06.94z\"/><path d=\"M17.41 7.96l-1.37-1.37c-.4-.4-.92-.59-1.43-.59-.52 0-1.04.2-1.43.59L10.3 9.45l-7.72 7.72c-.78.78-.78 2.05 0 2.83L4 21.41c.39.39.9.59 1.41.59.51 0 1.02-.2 1.41-.59l7.78-7.78 2.81-2.81c.8-.78.8-2.07 0-2.86zM5.41 20L4 18.59l7.72-7.72 1.47 1.35L5.41 20z\"/>\n",
              "  </svg>\n",
              "      </button>\n",
              "      \n",
              "  <style>\n",
              "    .colab-df-container {\n",
              "      display:flex;\n",
              "      flex-wrap:wrap;\n",
              "      gap: 12px;\n",
              "    }\n",
              "\n",
              "    .colab-df-convert {\n",
              "      background-color: #E8F0FE;\n",
              "      border: none;\n",
              "      border-radius: 50%;\n",
              "      cursor: pointer;\n",
              "      display: none;\n",
              "      fill: #1967D2;\n",
              "      height: 32px;\n",
              "      padding: 0 0 0 0;\n",
              "      width: 32px;\n",
              "    }\n",
              "\n",
              "    .colab-df-convert:hover {\n",
              "      background-color: #E2EBFA;\n",
              "      box-shadow: 0px 1px 2px rgba(60, 64, 67, 0.3), 0px 1px 3px 1px rgba(60, 64, 67, 0.15);\n",
              "      fill: #174EA6;\n",
              "    }\n",
              "\n",
              "    [theme=dark] .colab-df-convert {\n",
              "      background-color: #3B4455;\n",
              "      fill: #D2E3FC;\n",
              "    }\n",
              "\n",
              "    [theme=dark] .colab-df-convert:hover {\n",
              "      background-color: #434B5C;\n",
              "      box-shadow: 0px 1px 3px 1px rgba(0, 0, 0, 0.15);\n",
              "      filter: drop-shadow(0px 1px 2px rgba(0, 0, 0, 0.3));\n",
              "      fill: #FFFFFF;\n",
              "    }\n",
              "  </style>\n",
              "\n",
              "      <script>\n",
              "        const buttonEl =\n",
              "          document.querySelector('#df-d376576c-12fc-4a15-878d-d008c90f0178 button.colab-df-convert');\n",
              "        buttonEl.style.display =\n",
              "          google.colab.kernel.accessAllowed ? 'block' : 'none';\n",
              "\n",
              "        async function convertToInteractive(key) {\n",
              "          const element = document.querySelector('#df-d376576c-12fc-4a15-878d-d008c90f0178');\n",
              "          const dataTable =\n",
              "            await google.colab.kernel.invokeFunction('convertToInteractive',\n",
              "                                                     [key], {});\n",
              "          if (!dataTable) return;\n",
              "\n",
              "          const docLinkHtml = 'Like what you see? Visit the ' +\n",
              "            '<a target=\"_blank\" href=https://colab.research.google.com/notebooks/data_table.ipynb>data table notebook</a>'\n",
              "            + ' to learn more about interactive tables.';\n",
              "          element.innerHTML = '';\n",
              "          dataTable['output_type'] = 'display_data';\n",
              "          await google.colab.output.renderOutput(dataTable, element);\n",
              "          const docLink = document.createElement('div');\n",
              "          docLink.innerHTML = docLinkHtml;\n",
              "          element.appendChild(docLink);\n",
              "        }\n",
              "      </script>\n",
              "    </div>\n",
              "  </div>\n",
              "  "
            ]
          },
          "metadata": {},
          "execution_count": 16
        }
      ]
    },
    {
      "cell_type": "code",
      "source": [
        "#!cp peopleData.json /content/drive/'My Drive'/Prithwis/Parashar21/ChartCast/ChartData2/peopleData_39662_21Sep22"
      ],
      "metadata": {
        "id": "t6GypjpHIC01"
      },
      "execution_count": null,
      "outputs": []
    },
    {
      "cell_type": "markdown",
      "metadata": {
        "id": "QGxOl9rdrvEg"
      },
      "source": [
        "#Chronobooks <br>\n",
        "![alt text](https://1.bp.blogspot.com/-lTiYBkU2qbU/X1er__fvnkI/AAAAAAAAjtE/GhDR3OEGJr4NG43fZPodrQD5kbxtnKebgCLcBGAsYHQ/s600/Footer2020-600x200.png)<hr>\n",
        "Chronotantra and Chronoyantra are two science fiction novels that explore the collapse of human civilisation on Earth and then its rebirth and reincarnation both on Earth as well as on the distant worlds of Mars, Titan and Enceladus. But is it the human civilisation that is being reborn? Or is it some other sentience that is revealing itself. \n",
        "If you have an interest in AI and found this material useful, you may consider buying these novels, in paperback or kindle, from [http://bit.ly/chronobooks](http://bit.ly/chronobooks)"
      ]
    },
    {
      "cell_type": "markdown",
      "source": [
        "#Redundant Stuff \n",
        "too scared to throw it away!"
      ],
      "metadata": {
        "id": "9r0Vb3R-Gr_u"
      }
    },
    {
      "cell_type": "code",
      "source": [
        "#Retrieves Charts based on tags\n",
        "pd.DataFrame(list(kollection.find({'pid.tags': {\"$in\": ['Scientist','Author']}},{'pid.tags':1,'GLon':1,'GRet':1,'_id':0})))\n",
        "c = kollection.find({'pid.tags': {\"$in\": ['Scientist','Author']}},{'pid.tags':1,'GLon':1,'GRet':1,'_id':0})\n",
        "for crnt in c:\n",
        "    print(crnt)"
      ],
      "metadata": {
        "id": "ExBPG3O9HazN",
        "outputId": "d167a824-1ba8-461c-ad2a-7a75a7c89593",
        "colab": {
          "base_uri": "https://localhost:8080/"
        }
      },
      "execution_count": null,
      "outputs": [
        {
          "output_type": "stream",
          "name": "stdout",
          "text": [
            "{'pid': {'tags': ['Author', 'Homemaker', 'PostGraduate']}, 'GLon': {'La': 310.415, 'Su': 243.701, 'Mo': 201.001, 'Ma': 273.467, 'Me': 222.269, 'Ju': 62.748, 'Ve': 284.966, 'Sa': 318.17, 'Ra': 41.248, 'Ke': 221.248}, 'GRet': {'La': False, 'Su': False, 'Mo': False, 'Ma': False, 'Me': False, 'Ju': True, 'Ve': False, 'Sa': False, 'Ra': False, 'Ke': False}}\n",
            "{'pid': {'tags': ['Biologist', 'Scientist', 'PostGraduate']}, 'GLon': {'La': 84.138, 'Su': 145.068, 'Mo': 54.233, 'Ma': 41.525, 'Me': 138.242, 'Ju': 101.216, 'Ve': 131.788, 'Sa': 265.084, 'Ra': 282.763, 'Ke': 102.763}, 'GRet': {'La': False, 'Su': False, 'Mo': False, 'Ma': False, 'Me': True, 'Ju': False, 'Ve': False, 'Sa': True, 'Ra': False, 'Ke': False}}\n"
          ]
        }
      ]
    }
  ]
}