{
  "nbformat": 4,
  "nbformat_minor": 0,
  "metadata": {
    "colab": {
      "name": "Demo_pyswisseph - v 2.08",
      "provenance": [],
      "collapsed_sections": [],
      "include_colab_link": true
    },
    "kernelspec": {
      "name": "python3",
      "display_name": "Python 3"
    }
  },
  "cells": [
    {
      "cell_type": "markdown",
      "metadata": {
        "id": "view-in-github",
        "colab_type": "text"
      },
      "source": [
        "<a href=\"https://colab.research.google.com/github/prithwis/parashar21/blob/main/Demo_pyswisseph_v_2_08.ipynb\" target=\"_parent\"><img src=\"https://colab.research.google.com/assets/colab-badge.svg\" alt=\"Open In Colab\"/></a>"
      ]
    },
    {
      "cell_type": "markdown",
      "metadata": {
        "id": "m3d-QHg6rqr-"
      },
      "source": [
        "![alt text](http://1.bp.blogspot.com/_5QlanosqxiQ/SXLOLTu7S7I/AAAAAAAAAm8/0r6C7lCxsic/S1600-R/p21-header-003.png) <br>\n",
        "\n",
        "\n",
        "---\n",
        "\n",
        "Website - [Parashar21](https://parashar21.blogspot.com)"
      ]
    },
    {
      "cell_type": "markdown",
      "metadata": {
        "id": "6az36FX6Rpit"
      },
      "source": [
        "#Install Swiss Ephemeris <br>\n",
        "## This is a demonstration of the usage of the Swiss Ephemeris Software in python on the Google Colab Platform\n",
        "https://pypi.org/project/pyswisseph/  - Python Package Documentation <br>\n",
        "https://www.astro.com/swisseph/swephinfo_e.htm <br>\n",
        "https://www.astro.com/swisseph/swephprg.htm - Programmer Documentation <br>\n",
        "https://pythonhosted.org/pyswisseph/swisseph-module.html"
      ]
    },
    {
      "cell_type": "code",
      "metadata": {
        "id": "THZf8D8fQsXm"
      },
      "source": [
        "!pip install pyswisseph > /dev/null"
      ],
      "execution_count": 1,
      "outputs": []
    },
    {
      "cell_type": "code",
      "metadata": {
        "id": "INsjq9opScbt"
      },
      "source": [
        "!wget -q http://www.astro.com/ftp/swisseph/ephe/seas_18.se1\n",
        "!wget -q http://www.astro.com/ftp/swisseph/ephe/semo_18.se1\n",
        "!wget -q http://www.astro.com/ftp/swisseph/ephe/sepl_18.se1\n",
        "\n",
        "!mkdir ephe\n",
        "!mv *.se1 ephe"
      ],
      "execution_count": 2,
      "outputs": []
    },
    {
      "cell_type": "code",
      "metadata": {
        "id": "AOPxw5_sTEYF",
        "colab": {
          "base_uri": "https://localhost:8080/",
          "height": 35
        },
        "outputId": "c5658384-710d-4702-f137-086da70ccbe9"
      },
      "source": [
        "import swisseph as swe\n",
        "swe.version"
      ],
      "execution_count": 2,
      "outputs": [
        {
          "output_type": "execute_result",
          "data": {
            "text/plain": [
              "'2.10.03'"
            ],
            "application/vnd.google.colaboratory.intrinsic+json": {
              "type": "string"
            }
          },
          "metadata": {},
          "execution_count": 2
        }
      ]
    },
    {
      "cell_type": "code",
      "metadata": {
        "id": "U29C4FOKY23v"
      },
      "source": [
        "#Constants and Flags necessary for this application are set here\n",
        "#\n",
        "swe.set_ephe_path('/content/ephe') # set path to ephemeris files\n",
        "# Calendar : Julian or Gregorian\n",
        "SE_GREG_CAL = 1\n",
        "gregflag = SE_GREG_CAL\n",
        "#\n",
        "# Ayanamsha type : Lahiri = 1\n",
        "swe.set_sid_mode(1)  # Lahiri Aynamsha\n",
        "#\n",
        "# whether speed will be calculated along with position of planet\n",
        "SEFLG_SPEED = int(256)\n",
        "iflag = SEFLG_SPEED\n",
        "#hsys = P, Placidus\n",
        "#ascii P = 080\n",
        "hsysP =  bytes('P', 'utf-8')"
      ],
      "execution_count": 3,
      "outputs": []
    },
    {
      "cell_type": "markdown",
      "metadata": {
        "id": "uSuVPj3kXcwC"
      },
      "source": [
        "#Personal Data\n",
        "## Data Input"
      ]
    },
    {
      "cell_type": "code",
      "metadata": {
        "id": "REht8_5TXuP1",
        "colab": {
          "base_uri": "https://localhost:8080/"
        },
        "outputId": "f71113cd-1c91-4304-c8c5-69dc8f9e1ff0"
      },
      "source": [
        "# Date & Time of Birth\n",
        "# Convert UTC date to Julian Date\n",
        "JD = swe.utc_to_jd(1950,9,17,11,0,0,gregflag)\n",
        "print (JD[0], JD[1])\n",
        "# JD[0] is Ephemeris Time\n",
        "# JD[1] is Universal Time \n",
        "natalUT = JD[1]\n",
        "print(natalUT, 'Julian Date in Universal Time')\n",
        "natalLON = 72.36\n",
        "natalLAT = 23.48"
      ],
      "execution_count": 4,
      "outputs": [
        {
          "output_type": "stream",
          "name": "stdout",
          "text": [
            "2433541.9586713817 2433541.9583333335\n",
            "2433541.9583333335 Julian Date in Universal Time\n"
          ]
        }
      ]
    },
    {
      "cell_type": "markdown",
      "metadata": {
        "id": "eToh8aDmbPE7"
      },
      "source": [
        "#Calculations"
      ]
    },
    {
      "cell_type": "code",
      "metadata": {
        "id": "xLXI6tIAbT17",
        "colab": {
          "base_uri": "https://localhost:8080/"
        },
        "outputId": "abac2364-beef-4a28-cdfe-f104b89ff141"
      },
      "source": [
        "#Ayanamsha\n",
        "ayanamsha = swe.get_ayanamsa(natalUT)\n",
        "print('Lahiri Ayanamsha :', ayanamsha)"
      ],
      "execution_count": 5,
      "outputs": [
        {
          "output_type": "stream",
          "name": "stdout",
          "text": [
            "Lahiri Ayanamsha : 23.168645873129833\n"
          ]
        }
      ]
    },
    {
      "cell_type": "code",
      "metadata": {
        "id": "-IyxzVG8d9_w",
        "colab": {
          "base_uri": "https://localhost:8080/"
        },
        "outputId": "e551df19-09c5-4602-8690-d39ff0ab5a49"
      },
      "source": [
        "#Position of Planets without SETTING SEFLG_SIDEREAL\n",
        "#\n",
        "# body 0 = Sun, 1 = Moon, ... 11 = True Node (Rahu)\n",
        "bLon = []\n",
        "bRet = []\n",
        "for body in [0,1,2,3,4,5,6,11]:\n",
        "    pData = swe.calc_ut(natalUT,body,iflag)\n",
        "    #print(pData[0])                    --- this is a major change\n",
        "    #print(pData[1])                    --- this is a major change\n",
        "    bLon.append(pData[0][0])            # note this correction\n",
        "    if pData[0][3] >= 0:                # note this correction\n",
        "        bRet.append('False')\n",
        "    else :\n",
        "        bRet.append('True')\n",
        "for ix in range(len(bLon)) : print(bLon[ix], bRet[ix])"
      ],
      "execution_count": 6,
      "outputs": [
        {
          "output_type": "stream",
          "name": "stdout",
          "text": [
            "173.98413896945715 False\n",
            "245.2670509720432 False\n",
            "173.7141051466669 True\n",
            "159.139868694586 False\n",
            "234.25420923183867 False\n",
            "329.7386375337111 True\n",
            "172.84877628380983 False\n",
            "358.3806098705857 False\n"
          ]
        }
      ]
    },
    {
      "cell_type": "code",
      "metadata": {
        "id": "FAYRZbK1pJ0k",
        "colab": {
          "base_uri": "https://localhost:8080/"
        },
        "outputId": "6e007b4c-476d-4257-efc4-4e16fa5f609a"
      },
      "source": [
        "#House Position and Ascendants without setting SEFLG_SIDEREAL\n",
        "# the 13th value is the longitude of Ascendant\n",
        "#\n",
        "P = swe.houses(natalUT,natalLAT,natalLON,hsysP)\n",
        "for ix in range(len(P[0])) : print(P[0][ix])\n",
        "for ix in range(len(P[1])) : print(P[1][ix])"
      ],
      "execution_count": 7,
      "outputs": [
        {
          "output_type": "stream",
          "name": "stdout",
          "text": [
            "313.1264431359498\n",
            "351.49953207220244\n",
            "26.599492654822736\n",
            "55.50858475863316\n",
            "80.45170776055932\n",
            "104.94438693593315\n",
            "133.12644313594978\n",
            "171.49953207220244\n",
            "206.59949265482274\n",
            "235.50858475863316\n",
            "260.4517077605593\n",
            "284.94438693593315\n",
            "313.1264431359498\n",
            "235.50858475863316\n",
            "233.17025246160762\n",
            "160.03803418828804\n",
            "320.77462309696983\n",
            "326.54430394303506\n",
            "253.1360224252382\n",
            "146.5443039430351\n"
          ]
        }
      ]
    },
    {
      "cell_type": "code",
      "source": [
        "#Position of Planetsd using SEFLG_SIDEREAL flag\n",
        "#\n",
        "# body 0 = Sun, 1 = Moon, ... 11 = True Node (Rahu)\n",
        "bLonS = []\n",
        "bRetS = []\n",
        "print(iflag)\n",
        "SEFLG_SIDEREAL = int(64*1024)      #// sidereal positions\n",
        "iflag |= SEFLG_SIDEREAL\n",
        "print(iflag)\n",
        "for body in [0,1,2,3,4,5,6,11]:\n",
        "    pData = swe.calc_ut(natalUT,body,iflag)\n",
        "    #print(pData[0])                    --- this is a major change\n",
        "    #print(pData[1])                    --- this is a major change\n",
        "    bLonS.append(pData[0][0])            # note this correction\n",
        "    if pData[0][3] >= 0:                # note this correction\n",
        "        bRetS.append('False')\n",
        "    else :\n",
        "        bRetS.append('True')\n",
        "print(\"Change in Longitude for each planet\")\n",
        "for ix in range(len(bLonS)) : print(bLonS[ix]-bLon[ix], bRetS[ix])"
      ],
      "metadata": {
        "id": "DhFdY7vVDnGB",
        "outputId": "052e1cf3-2f55-48b0-e605-54687a6b71de",
        "colab": {
          "base_uri": "https://localhost:8080/"
        }
      },
      "execution_count": 8,
      "outputs": [
        {
          "output_type": "stream",
          "name": "stdout",
          "text": [
            "256\n",
            "65792\n",
            "Change in Longitude for each planet\n",
            "-23.168757318504134 False\n",
            "-23.168757318504163 False\n",
            "-23.168757318504134 True\n",
            "-23.168757318504134 False\n",
            "-23.16875731850422 False\n",
            "-23.168757318504106 True\n",
            "-23.168757318504134 False\n",
            "-23.168757318504163 False\n"
          ]
        }
      ]
    },
    {
      "cell_type": "code",
      "source": [
        "print(natalUT,iflag,natalLAT, natalLON,hsysP)"
      ],
      "metadata": {
        "id": "3NTaNnFHU76l",
        "outputId": "84e0c84d-1071-437b-d967-48648f7344a8",
        "colab": {
          "base_uri": "https://localhost:8080/"
        }
      },
      "execution_count": 16,
      "outputs": [
        {
          "output_type": "stream",
          "name": "stdout",
          "text": [
            "2433541.9583333335 65792 23.48 72.36 b'P'\n"
          ]
        }
      ]
    },
    {
      "cell_type": "code",
      "source": [
        "#House Position and Ascendants without setting SEFLG_SIDEREAL\n",
        "# the 13th value is the longitude of Ascendant\n",
        "#\n",
        "hsysPb = hsysP.decode(\"utf-8\")\n",
        "print(hsysPb)\n",
        "PS = swe.houses_ex(natalUT,natalLAT,natalLON,hsysP,iflag)   # the documentation is WRONG, iflag must be the last parameter, not the second\n",
        "for ix in range(len(PS[0])) : print(PS[0][ix])\n",
        "for ix in range(len(PS[1])) : print(PS[1][ix])\n",
        "for ix in range(len(PS[1])) : print(PS[1][0]-P[1][0])"
      ],
      "metadata": {
        "id": "QWCToKwzUQTb",
        "outputId": "d7738af5-b5fa-41c6-b5ac-a16217d093b6",
        "colab": {
          "base_uri": "https://localhost:8080/"
        }
      },
      "execution_count": 38,
      "outputs": [
        {
          "output_type": "stream",
          "name": "stdout",
          "text": [
            "P\n",
            "289.9576858174456\n",
            "328.3307747536983\n",
            "3.4307353363185946\n",
            "32.33982744012902\n",
            "57.282950442055174\n",
            "81.77562961742902\n",
            "109.95768581744565\n",
            "148.3307747536983\n",
            "183.4307353363186\n",
            "212.33982744012903\n",
            "237.28295044205518\n",
            "261.775629617429\n",
            "289.9576858174456\n",
            "212.33982744012903\n",
            "233.17025246160762\n",
            "136.8692768697839\n",
            "297.60586577846567\n",
            "303.3755466245309\n",
            "229.96726510673406\n",
            "123.37554662453095\n",
            "-23.168757318504163\n",
            "-23.168757318504163\n",
            "-23.168757318504163\n",
            "-23.168757318504163\n",
            "-23.168757318504163\n",
            "-23.168757318504163\n",
            "-23.168757318504163\n",
            "-23.168757318504163\n"
          ]
        }
      ]
    },
    {
      "cell_type": "code",
      "source": [
        "!date"
      ],
      "metadata": {
        "id": "obLllT4Ghu-J",
        "outputId": "081840fd-db2b-48df-a85a-be311364a7ad",
        "colab": {
          "base_uri": "https://localhost:8080/"
        }
      },
      "execution_count": 39,
      "outputs": [
        {
          "output_type": "stream",
          "name": "stdout",
          "text": [
            "Fri Oct  7 03:13:20 UTC 2022\n"
          ]
        }
      ]
    },
    {
      "cell_type": "markdown",
      "metadata": {
        "id": "vpxcfn3vtUUW"
      },
      "source": [
        "The output generated here matches with the output generated by the Windows program swetest"
      ]
    },
    {
      "cell_type": "markdown",
      "metadata": {
        "id": "QGxOl9rdrvEg"
      },
      "source": [
        "#Chronobooks <br>\n",
        "![alt text](https://1.bp.blogspot.com/-lTiYBkU2qbU/X1er__fvnkI/AAAAAAAAjtE/GhDR3OEGJr4NG43fZPodrQD5kbxtnKebgCLcBGAsYHQ/s600/Footer2020-600x200.png)<hr>\n",
        "Chronotantra and Chronoyantra are two science fiction novels that explore the collapse of human civilisation on Earth and then its rebirth and reincarnation both on Earth as well as on the distant worlds of Mars, Titan and Enceladus. But is it the human civilisation that is being reborn? Or is it some other sentience that is revealing itself. \n",
        "If you have an interest in AI and found this material useful, you may consider buying these novels, in paperback or kindle, from [http://bit.ly/chronobooks](http://bit.ly/chronobooks)"
      ]
    }
  ]
}