{
  "nbformat": 4,
  "nbformat_minor": 0,
  "metadata": {
    "colab": {
      "name": "Demo_pyswisseph - v 2.08",
      "provenance": [],
      "collapsed_sections": [],
      "toc_visible": true,
      "include_colab_link": true
    },
    "kernelspec": {
      "name": "python3",
      "display_name": "Python 3"
    }
  },
  "cells": [
    {
      "cell_type": "markdown",
      "metadata": {
        "id": "view-in-github",
        "colab_type": "text"
      },
      "source": [
        "<a href=\"https://colab.research.google.com/github/prithwis/parashar21/blob/main/Demo_pyswisseph_v_2_08.ipynb\" target=\"_parent\"><img src=\"https://colab.research.google.com/assets/colab-badge.svg\" alt=\"Open In Colab\"/></a>"
      ]
    },
    {
      "cell_type": "markdown",
      "metadata": {
        "id": "m3d-QHg6rqr-"
      },
      "source": [
        "![alt text](http://1.bp.blogspot.com/_5QlanosqxiQ/SXLOLTu7S7I/AAAAAAAAAm8/0r6C7lCxsic/S1600-R/p21-header-003.png) <br>\n",
        "\n",
        "\n",
        "---\n",
        "\n",
        "Website - [Parashar21](https://parashar21.blogspot.com)"
      ]
    },
    {
      "cell_type": "markdown",
      "metadata": {
        "id": "6az36FX6Rpit"
      },
      "source": [
        "#Install Swiss Ephemeris <br>\n",
        "## This is a demonstration of the usage of the Swiss Ephemeris Software in python on the Google Colab Platform\n",
        "https://pypi.org/project/pyswisseph/  - Python Package Documentation <br>\n",
        "https://www.astro.com/swisseph/swephinfo_e.htm <br>\n",
        "https://www.astro.com/swisseph/swephprg.htm - Programmer Documentation <br>\n",
        "https://pythonhosted.org/pyswisseph/swisseph-module.html"
      ]
    },
    {
      "cell_type": "code",
      "metadata": {
        "id": "THZf8D8fQsXm"
      },
      "source": [
        "!pip install pyswisseph > /dev/null"
      ],
      "execution_count": 1,
      "outputs": []
    },
    {
      "cell_type": "code",
      "metadata": {
        "id": "INsjq9opScbt"
      },
      "source": [
        "!wget -q http://www.astro.com/ftp/swisseph/ephe/seas_18.se1\n",
        "!wget -q http://www.astro.com/ftp/swisseph/ephe/semo_18.se1\n",
        "!wget -q http://www.astro.com/ftp/swisseph/ephe/sepl_18.se1"
      ],
      "execution_count": 2,
      "outputs": []
    },
    {
      "cell_type": "code",
      "metadata": {
        "id": "AOPxw5_sTEYF",
        "colab": {
          "base_uri": "https://localhost:8080/",
          "height": 35
        },
        "outputId": "c09008de-d16d-47ee-9ef4-732f39eab59b"
      },
      "source": [
        "!mkdir ephe\n",
        "!mv *.se1 ephe\n",
        "import swisseph as swe\n",
        "swe.version"
      ],
      "execution_count": 3,
      "outputs": [
        {
          "output_type": "execute_result",
          "data": {
            "text/plain": [
              "'2.10.03'"
            ],
            "application/vnd.google.colaboratory.intrinsic+json": {
              "type": "string"
            }
          },
          "metadata": {},
          "execution_count": 3
        }
      ]
    },
    {
      "cell_type": "code",
      "metadata": {
        "id": "U29C4FOKY23v"
      },
      "source": [
        "#Constants and Flags necessary for this application are set here\n",
        "#\n",
        "swe.set_ephe_path('/content/ephe') # set path to ephemeris files\n",
        "# Calendar : Julian or Gregorian\n",
        "SE_GREG_CAL = 1\n",
        "gregflag = SE_GREG_CAL\n",
        "#\n",
        "# Ayanamsha type : Lahiri = 1\n",
        "swe.set_sid_mode(1)  # Lahiri Aynamsha\n",
        "#\n",
        "# whether speed will be calculated along with position of planet\n",
        "SEFLG_SPEED = int(256)\n",
        "iflag = SEFLG_SPEED\n",
        "#hsys = P, Placidus\n",
        "#ascii P = 080\n",
        "hsysP =  bytes('P', 'utf-8')"
      ],
      "execution_count": 4,
      "outputs": []
    },
    {
      "cell_type": "markdown",
      "metadata": {
        "id": "uSuVPj3kXcwC"
      },
      "source": [
        "#Personal Data\n",
        "## Data Input"
      ]
    },
    {
      "cell_type": "code",
      "metadata": {
        "id": "REht8_5TXuP1",
        "colab": {
          "base_uri": "https://localhost:8080/"
        },
        "outputId": "dd381ade-848b-4916-ea94-96e8e4c5da6d"
      },
      "source": [
        "# Date & Time of Birth\n",
        "# Convert UTC date to Julian Date\n",
        "JD = swe.utc_to_jd(1950,9,17,11,0,0,gregflag)\n",
        "print (JD[0], JD[1])\n",
        "# JD[0] is Ephemeris Time\n",
        "# JD[1] is Universal Time \n",
        "natalUT = JD[1]\n",
        "print(natalUT, 'Julian Date in Universal Time')\n",
        "natalLON = 72.36\n",
        "natalLAT = 23.48"
      ],
      "execution_count": 6,
      "outputs": [
        {
          "output_type": "stream",
          "name": "stdout",
          "text": [
            "2433541.9586713817 2433541.9583333335\n",
            "2433541.9583333335 Julian Date in Universal Time\n"
          ]
        }
      ]
    },
    {
      "cell_type": "markdown",
      "metadata": {
        "id": "eToh8aDmbPE7"
      },
      "source": [
        "#Calculations"
      ]
    },
    {
      "cell_type": "code",
      "metadata": {
        "id": "xLXI6tIAbT17",
        "colab": {
          "base_uri": "https://localhost:8080/"
        },
        "outputId": "725d727f-3398-44ec-989c-2f56e5b825fe"
      },
      "source": [
        "#Ayanamsha\n",
        "ayanamsha = swe.get_ayanamsa(natalUT)\n",
        "print('Lahiri Ayanamsha :', ayanamsha)"
      ],
      "execution_count": 7,
      "outputs": [
        {
          "output_type": "stream",
          "name": "stdout",
          "text": [
            "Lahiri Ayanamsha : 23.168645873129833\n"
          ]
        }
      ]
    },
    {
      "cell_type": "code",
      "metadata": {
        "id": "-IyxzVG8d9_w",
        "colab": {
          "base_uri": "https://localhost:8080/"
        },
        "outputId": "b77f3564-464f-4b25-b59d-a5ca7fd439c5"
      },
      "source": [
        "#Position of Planets\n",
        "#\n",
        "# body 0 = Sun, 1 = Moon, ... 11 = True Node (Rahu)\n",
        "bLon = []\n",
        "bRet = []\n",
        "for body in [0,1,2,3,4,5,6,11]:\n",
        "    pData = swe.calc_ut(natalUT,body,iflag)\n",
        "    #print(pData[0])                    --- this is a major change\n",
        "    #print(pData[1])                    --- this is a major change\n",
        "    bLon.append(pData[0][0])            # note this correction\n",
        "    if pData[0][3] >= 0:                # note this correction\n",
        "        bRet.append('False')\n",
        "    else :\n",
        "        bRet.append('True')\n",
        "for ix in range(len(bLon)) : print(bLon[ix], bRet[ix])"
      ],
      "execution_count": 8,
      "outputs": [
        {
          "output_type": "stream",
          "name": "stdout",
          "text": [
            "173.98413896945715 False\n",
            "245.2670509720432 False\n",
            "173.7141051466669 True\n",
            "159.139868694586 False\n",
            "234.25420923183867 False\n",
            "329.7386375337111 True\n",
            "172.84877628380983 False\n",
            "358.3806098705857 False\n"
          ]
        }
      ]
    },
    {
      "cell_type": "code",
      "metadata": {
        "id": "FAYRZbK1pJ0k",
        "colab": {
          "base_uri": "https://localhost:8080/"
        },
        "outputId": "622190c0-ddfd-49ef-9f35-01a980a0cb7e"
      },
      "source": [
        "#House Position and Ascendants\n",
        "# the 13th value is the longitude of Ascendant\n",
        "#\n",
        "P = swe.houses(natalUT,natalLAT,natalLON,hsysP)\n",
        "for ix in range(len(P[0])) : print(P[0][ix])\n",
        "for ix in range(len(P[1])) : print(P[1][ix])"
      ],
      "execution_count": 9,
      "outputs": [
        {
          "output_type": "stream",
          "name": "stdout",
          "text": [
            "313.1264431359498\n",
            "351.49953207220244\n",
            "26.599492654822736\n",
            "55.50858475863316\n",
            "80.45170776055932\n",
            "104.94438693593315\n",
            "133.12644313594978\n",
            "171.49953207220244\n",
            "206.59949265482274\n",
            "235.50858475863316\n",
            "260.4517077605593\n",
            "284.94438693593315\n",
            "313.1264431359498\n",
            "235.50858475863316\n",
            "233.17025246160762\n",
            "160.03803418828804\n",
            "320.77462309696983\n",
            "326.54430394303506\n",
            "253.1360224252382\n",
            "146.5443039430351\n"
          ]
        }
      ]
    },
    {
      "cell_type": "code",
      "source": [
        "!date"
      ],
      "metadata": {
        "id": "obLllT4Ghu-J",
        "outputId": "4d89ca44-4c8e-4bbe-b6f3-66e8df658e42",
        "colab": {
          "base_uri": "https://localhost:8080/"
        }
      },
      "execution_count": 10,
      "outputs": [
        {
          "output_type": "stream",
          "name": "stdout",
          "text": [
            "Thu Sep 22 00:09:22 UTC 2022\n"
          ]
        }
      ]
    },
    {
      "cell_type": "markdown",
      "metadata": {
        "id": "vpxcfn3vtUUW"
      },
      "source": [
        "The output generated here matches with the output generated by the Windows program swetest"
      ]
    },
    {
      "cell_type": "markdown",
      "metadata": {
        "id": "QGxOl9rdrvEg"
      },
      "source": [
        "#Chronobooks <br>\n",
        "![alt text](https://1.bp.blogspot.com/-lTiYBkU2qbU/X1er__fvnkI/AAAAAAAAjtE/GhDR3OEGJr4NG43fZPodrQD5kbxtnKebgCLcBGAsYHQ/s600/Footer2020-600x200.png)<hr>\n",
        "Chronotantra and Chronoyantra are two science fiction novels that explore the collapse of human civilisation on Earth and then its rebirth and reincarnation both on Earth as well as on the distant worlds of Mars, Titan and Enceladus. But is it the human civilisation that is being reborn? Or is it some other sentience that is revealing itself. \n",
        "If you have an interest in AI and found this material useful, you may consider buying these novels, in paperback or kindle, from [http://bit.ly/chronobooks](http://bit.ly/chronobooks)"
      ]
    }
  ]
}