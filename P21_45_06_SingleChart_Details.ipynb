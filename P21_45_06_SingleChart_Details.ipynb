{
  "nbformat": 4,
  "nbformat_minor": 0,
  "metadata": {
    "colab": {
      "provenance": [],
      "collapsed_sections": [],
      "include_colab_link": true
    },
    "kernelspec": {
      "name": "python3",
      "display_name": "Python 3"
    },
    "language_info": {
      "name": "python"
    }
  },
  "cells": [
    {
      "cell_type": "markdown",
      "metadata": {
        "id": "view-in-github",
        "colab_type": "text"
      },
      "source": [
        "<a href=\"https://colab.research.google.com/github/prithwis/parashar21/blob/main/P21_45_06_SingleChart_Details.ipynb\" target=\"_parent\"><img src=\"https://colab.research.google.com/assets/colab-badge.svg\" alt=\"Open In Colab\"/></a>"
      ]
    },
    {
      "cell_type": "markdown",
      "source": [
        "![alt text](http://1.bp.blogspot.com/_5QlanosqxiQ/SXLOLTu7S7I/AAAAAAAAAm8/0r6C7lCxsic/S1600-R/p21-header-003.png) <br>\n",
        "\n",
        "\n",
        "---\n",
        "\n",
        "\n",
        "\n",
        "[Prithwis Mukerjee](http://www.yantrajaal.com) ||\n",
        "Website - [Parashar21](https://parashar21.blogspot.com)<br>"
      ],
      "metadata": {
        "id": "rj4jjIHTvPV8"
      }
    },
    {
      "cell_type": "markdown",
      "source": [
        "Copyright (c) 2022, Prithwis Mukerjee All rights reserved.\n",
        "\n",
        "This source code is licensed under the GNU GPL v3.0 -style license found in the LICENSE file in the root directory of this source tree."
      ],
      "metadata": {
        "id": "9OzVEmHm1IaF"
      }
    },
    {
      "cell_type": "markdown",
      "source": [
        "#Rationale\n",
        "\n",
        "Why MongoDB here? <br> <br>\n",
        "\n",
        "The core 'engine' of Parashar21 is designed to cast horoscopes using the [Python](https://pypi.org/project/pyswisseph/) version of the [Swiss Ephemeris](https://www.astro.com/swisseph/) software, convert the data to JSON format and then store the same in a MongoDB database.<br> The Mongo query language was next used to filter out horoscopes that met certain criteria and then create human readable MS-Word documents for each selected horoscope. <br> <br>\n",
        "In this notebook, our focus is a single horoscope chart but to reuse code that has gone into the earlier effort, we are still storing the single chart in a MongdDB and then retrieving it for subsequent processing. <br> There are two reasons for this. First, the MS-Word reports need to have the data formatted as retrieved from Mongo and second, trapping astrological yogs require the use of the Mongo Query language. This is because checking to see if a chart meets certain criteria is no different from extracting the same from a database when it meets the same criteria. <br> <br>\n"
      ],
      "metadata": {
        "id": "MKVBLfNMnXYE"
      }
    },
    {
      "cell_type": "markdown",
      "source": [
        "#SetUp Environment"
      ],
      "metadata": {
        "id": "l2v2nhRKvwJS"
      }
    },
    {
      "cell_type": "markdown",
      "source": [
        "##Install Software"
      ],
      "metadata": {
        "id": "djqyotVjO5TI"
      }
    },
    {
      "cell_type": "code",
      "source": [
        "!pip -qq install pyswisseph                                 # https://stackoverflow.com/questions/64277506/pip-install-options-unclear\n",
        "!pip -qq install python-docx                                #https://python-docx.readthedocs.io/en/latest/\n",
        "#!/usr/bin/python3 -m pip install \"pymongo[srv]\"            # Required if used with Atlas remote servers\n",
        "!apt install mongodb > /dev/null                            # install local MongoDB server           \n",
        "!service mongodb start                                      # start Local MongoDB server instance"
      ],
      "metadata": {
        "colab": {
          "base_uri": "https://localhost:8080/"
        },
        "id": "AWKFabc0v3FI",
        "outputId": "b62e9005-eed1-40c2-ca33-ef706f4b90d6"
      },
      "execution_count": 1,
      "outputs": [
        {
          "output_type": "stream",
          "name": "stdout",
          "text": [
            "\u001b[K     |████████████████████████████████| 1.8 MB 4.0 MB/s \n",
            "\u001b[K     |████████████████████████████████| 5.6 MB 4.0 MB/s \n",
            "\u001b[?25h  Building wheel for python-docx (setup.py) ... \u001b[?25l\u001b[?25hdone\n",
            "\n",
            "WARNING: apt does not have a stable CLI interface. Use with caution in scripts.\n",
            "\n",
            " * Starting database mongodb\n",
            "   ...done.\n"
          ]
        }
      ]
    },
    {
      "cell_type": "markdown",
      "source": [
        "##Install, import prerequisites"
      ],
      "metadata": {
        "id": "Vml3UdnbOAlO"
      }
    },
    {
      "cell_type": "code",
      "source": [
        "#Utility functions \n",
        "from pymongo import MongoClient\n",
        "import pandas as pd\n",
        "import dateutil\n",
        "import json\n",
        "from docx import Document\n",
        "from docx.shared import Inches\n",
        "from docx.enum.text import WD_ALIGN_PARAGRAPH\n",
        "from datetime import datetime\n",
        "from datetime import timedelta\n",
        "import pytz\n",
        "\n",
        "#import matplotlib.pyplot as plt\n",
        "#import math\n"
      ],
      "metadata": {
        "id": "tsCga6c8pLvM"
      },
      "execution_count": 2,
      "outputs": []
    },
    {
      "cell_type": "code",
      "source": [
        "#Load p21 modules from github\n",
        "!wget -O p21.py -q https://raw.githubusercontent.com/prithwis/parashar21/main/utils/p21.py                  # all global variables\n",
        "!wget -O p21utils.py -q https://raw.githubusercontent.com/prithwis/parashar21/main/utils/p21utils.py        # large number of utility functions\n",
        "!wget -O p21utilsR.py -q https://raw.githubusercontent.com/prithwis/parashar21/main/utils/p21utilsR.py      # report writing utility functions\n",
        "!wget -O p21swe.py -q https://raw.githubusercontent.com/prithwis/parashar21/main/utils/p21swe.py            # Swiss Ephemeris functions\n",
        "!wget -O p21YogInfo.py -q https://raw.githubusercontent.com/prithwis/parashar21/main/utils/p21YogInfo.py    # yog data - description and conditions \n",
        "# ---------------------------\n",
        "\n",
        "#!wget -O Saraswati.png -q https://github.com/prithwis/parashar21/raw/main/images/Saraswati02.png                 \n",
        "#!wget -O p21logo.png -q https://github.com/prithwis/parashar21/raw/main/images/p21logo-002-1.png   \n",
        "\n",
        "import p21\n",
        "import p21utils\n",
        "import p21utilsR\n",
        "import p21swe\n",
        "import p21YogInfo\n",
        "# ------------------------------------------------\n",
        "# required for multiple imports of the same module\n",
        "# ------------------------------------------------\n",
        "import importlib\n",
        "importlib.reload(p21)\n",
        "importlib.reload(p21utils)\n",
        "importlib.reload(p21utilsR)\n",
        "importlib.reload(p21swe)\n",
        "importlib.reload(p21YogInfo)"
      ],
      "metadata": {
        "id": "uwAT_IbvB0A-",
        "outputId": "cb69e7b2-fc75-473f-915b-634101cd2a0a",
        "colab": {
          "base_uri": "https://localhost:8080/"
        }
      },
      "execution_count": 3,
      "outputs": [
        {
          "output_type": "stream",
          "name": "stdout",
          "text": [
            "p21utils imported\n",
            "8 Yogs on record\n",
            "p21utilsR imported\n",
            "p21swe imported\n",
            "p21utils imported\n",
            "p21utilsR imported\n",
            "p21swe imported\n",
            "8 Yogs on record\n"
          ]
        },
        {
          "output_type": "execute_result",
          "data": {
            "text/plain": [
              "<module 'p21YogInfo' from '/content/p21YogInfo.py'>"
            ]
          },
          "metadata": {},
          "execution_count": 3
        }
      ]
    },
    {
      "cell_type": "code",
      "source": [
        "#Download Swiss Ephemeris Files \n",
        "!wget -q http://www.astro.com/ftp/swisseph/ephe/seas_18.se1\n",
        "!wget -q http://www.astro.com/ftp/swisseph/ephe/semo_18.se1\n",
        "!wget -q http://www.astro.com/ftp/swisseph/ephe/sepl_18.se1\n",
        "!mkdir ephe\n",
        "!mv *.se1 ephe\n",
        "#------------------------------\n",
        "# Configure SWE with appropriate parameters\n",
        "#\n",
        "p21swe.C01_configSWE()"
      ],
      "metadata": {
        "id": "kMKlXoDGH8XP"
      },
      "execution_count": 4,
      "outputs": []
    },
    {
      "cell_type": "markdown",
      "source": [
        "#Local Mongo\n",
        "\n",
        "We use a locally installed, temporary MongoDB to store and process the data\n"
      ],
      "metadata": {
        "id": "937sm5u0g4r_"
      }
    },
    {
      "cell_type": "markdown",
      "source": [
        "## Natal Data used to cast horscopes\n"
      ],
      "metadata": {
        "id": "ttRyzy7b9D3t"
      }
    },
    {
      "cell_type": "code",
      "source": [
        "%%writefile peopleData.csv\n",
        "Gender,Voc1_Cat,Voc1_Det,Voc2_Cat,Voc2_Det,Voc3_Cat,Voc3_Det,DoB_Day,DoB_Mon,DoB_Year,DoB_Time,TZ_OffHours,PoB_Lat,PoB_Lon,TZ_Name,TZ_Type,Name\n",
        "M,Politician,nil,Administrator,nil,nil,nil,17,9,1950,9:34,5.5,23.48,72.36,IST,standard,NDModi\n",
        "F,Actor,nil,Dancer,nil,nil,nil,10,10,1954,11:00,5.5,13.08,80.27,IST,standard,Rekha\n",
        "M,Engineer,nil,PublicFigure,nil,nil,nil,15,10,1931,1:15,5.5,9.29,79.31,IST,standard,APJAbdulKalam\n",
        "F,Politician,nil,PublicFigure,nil,nil,nil,19,11,1917,23:11,5.5,25.43,81.85,IST,standard,IndiraG"
      ],
      "metadata": {
        "id": "awh7a1KSTZci",
        "outputId": "12e6a73c-6e4a-48c8-c5e9-77f43620d689",
        "colab": {
          "base_uri": "https://localhost:8080/"
        }
      },
      "execution_count": 5,
      "outputs": [
        {
          "output_type": "stream",
          "name": "stdout",
          "text": [
            "Writing peopleData.csv\n"
          ]
        }
      ]
    },
    {
      "cell_type": "code",
      "source": [
        "#Read Birth Data from a file\n",
        "#!wget -O peopleData.csv -q https://raw.githubusercontent.com/prithwis/parashar21/main/data/Test5Data.txt # 5 Person Test Data\n"
      ],
      "metadata": {
        "id": "bwyM7vzn9eEr"
      },
      "execution_count": 7,
      "outputs": []
    },
    {
      "cell_type": "code",
      "source": [
        "#df0 = pd.read_csv('peopleData.csv')\n",
        "df = pd.read_csv('peopleData.csv')\n",
        "df.head(10)"
      ],
      "metadata": {
        "id": "J_sc1xZ9zei9",
        "outputId": "bf077143-3e6a-4f5c-dcc0-608df93b0e17",
        "colab": {
          "base_uri": "https://localhost:8080/",
          "height": 239
        }
      },
      "execution_count": 6,
      "outputs": [
        {
          "output_type": "execute_result",
          "data": {
            "text/plain": [
              "  Gender    Voc1_Cat Voc1_Det       Voc2_Cat Voc2_Det Voc3_Cat Voc3_Det  \\\n",
              "0      M  Politician      nil  Administrator      nil      nil      nil   \n",
              "1      F       Actor      nil         Dancer      nil      nil      nil   \n",
              "2      M    Engineer      nil   PublicFigure      nil      nil      nil   \n",
              "3      F  Politician      nil   PublicFigure      nil      nil      nil   \n",
              "\n",
              "   DoB_Day  DoB_Mon  DoB_Year DoB_Time  TZ_OffHours  PoB_Lat  PoB_Lon TZ_Name  \\\n",
              "0       17        9      1950     9:34          5.5    23.48    72.36     IST   \n",
              "1       10       10      1954    11:00          5.5    13.08    80.27     IST   \n",
              "2       15       10      1931     1:15          5.5     9.29    79.31     IST   \n",
              "3       19       11      1917    23:11          5.5    25.43    81.85     IST   \n",
              "\n",
              "    TZ_Type           Name  \n",
              "0  standard         NDModi  \n",
              "1  standard          Rekha  \n",
              "2  standard  APJAbdulKalam  \n",
              "3  standard        IndiraG  "
            ],
            "text/html": [
              "\n",
              "  <div id=\"df-96daf32f-c714-4d7f-965a-a64a8f5e7e0e\">\n",
              "    <div class=\"colab-df-container\">\n",
              "      <div>\n",
              "<style scoped>\n",
              "    .dataframe tbody tr th:only-of-type {\n",
              "        vertical-align: middle;\n",
              "    }\n",
              "\n",
              "    .dataframe tbody tr th {\n",
              "        vertical-align: top;\n",
              "    }\n",
              "\n",
              "    .dataframe thead th {\n",
              "        text-align: right;\n",
              "    }\n",
              "</style>\n",
              "<table border=\"1\" class=\"dataframe\">\n",
              "  <thead>\n",
              "    <tr style=\"text-align: right;\">\n",
              "      <th></th>\n",
              "      <th>Gender</th>\n",
              "      <th>Voc1_Cat</th>\n",
              "      <th>Voc1_Det</th>\n",
              "      <th>Voc2_Cat</th>\n",
              "      <th>Voc2_Det</th>\n",
              "      <th>Voc3_Cat</th>\n",
              "      <th>Voc3_Det</th>\n",
              "      <th>DoB_Day</th>\n",
              "      <th>DoB_Mon</th>\n",
              "      <th>DoB_Year</th>\n",
              "      <th>DoB_Time</th>\n",
              "      <th>TZ_OffHours</th>\n",
              "      <th>PoB_Lat</th>\n",
              "      <th>PoB_Lon</th>\n",
              "      <th>TZ_Name</th>\n",
              "      <th>TZ_Type</th>\n",
              "      <th>Name</th>\n",
              "    </tr>\n",
              "  </thead>\n",
              "  <tbody>\n",
              "    <tr>\n",
              "      <th>0</th>\n",
              "      <td>M</td>\n",
              "      <td>Politician</td>\n",
              "      <td>nil</td>\n",
              "      <td>Administrator</td>\n",
              "      <td>nil</td>\n",
              "      <td>nil</td>\n",
              "      <td>nil</td>\n",
              "      <td>17</td>\n",
              "      <td>9</td>\n",
              "      <td>1950</td>\n",
              "      <td>9:34</td>\n",
              "      <td>5.5</td>\n",
              "      <td>23.48</td>\n",
              "      <td>72.36</td>\n",
              "      <td>IST</td>\n",
              "      <td>standard</td>\n",
              "      <td>NDModi</td>\n",
              "    </tr>\n",
              "    <tr>\n",
              "      <th>1</th>\n",
              "      <td>F</td>\n",
              "      <td>Actor</td>\n",
              "      <td>nil</td>\n",
              "      <td>Dancer</td>\n",
              "      <td>nil</td>\n",
              "      <td>nil</td>\n",
              "      <td>nil</td>\n",
              "      <td>10</td>\n",
              "      <td>10</td>\n",
              "      <td>1954</td>\n",
              "      <td>11:00</td>\n",
              "      <td>5.5</td>\n",
              "      <td>13.08</td>\n",
              "      <td>80.27</td>\n",
              "      <td>IST</td>\n",
              "      <td>standard</td>\n",
              "      <td>Rekha</td>\n",
              "    </tr>\n",
              "    <tr>\n",
              "      <th>2</th>\n",
              "      <td>M</td>\n",
              "      <td>Engineer</td>\n",
              "      <td>nil</td>\n",
              "      <td>PublicFigure</td>\n",
              "      <td>nil</td>\n",
              "      <td>nil</td>\n",
              "      <td>nil</td>\n",
              "      <td>15</td>\n",
              "      <td>10</td>\n",
              "      <td>1931</td>\n",
              "      <td>1:15</td>\n",
              "      <td>5.5</td>\n",
              "      <td>9.29</td>\n",
              "      <td>79.31</td>\n",
              "      <td>IST</td>\n",
              "      <td>standard</td>\n",
              "      <td>APJAbdulKalam</td>\n",
              "    </tr>\n",
              "    <tr>\n",
              "      <th>3</th>\n",
              "      <td>F</td>\n",
              "      <td>Politician</td>\n",
              "      <td>nil</td>\n",
              "      <td>PublicFigure</td>\n",
              "      <td>nil</td>\n",
              "      <td>nil</td>\n",
              "      <td>nil</td>\n",
              "      <td>19</td>\n",
              "      <td>11</td>\n",
              "      <td>1917</td>\n",
              "      <td>23:11</td>\n",
              "      <td>5.5</td>\n",
              "      <td>25.43</td>\n",
              "      <td>81.85</td>\n",
              "      <td>IST</td>\n",
              "      <td>standard</td>\n",
              "      <td>IndiraG</td>\n",
              "    </tr>\n",
              "  </tbody>\n",
              "</table>\n",
              "</div>\n",
              "      <button class=\"colab-df-convert\" onclick=\"convertToInteractive('df-96daf32f-c714-4d7f-965a-a64a8f5e7e0e')\"\n",
              "              title=\"Convert this dataframe to an interactive table.\"\n",
              "              style=\"display:none;\">\n",
              "        \n",
              "  <svg xmlns=\"http://www.w3.org/2000/svg\" height=\"24px\"viewBox=\"0 0 24 24\"\n",
              "       width=\"24px\">\n",
              "    <path d=\"M0 0h24v24H0V0z\" fill=\"none\"/>\n",
              "    <path d=\"M18.56 5.44l.94 2.06.94-2.06 2.06-.94-2.06-.94-.94-2.06-.94 2.06-2.06.94zm-11 1L8.5 8.5l.94-2.06 2.06-.94-2.06-.94L8.5 2.5l-.94 2.06-2.06.94zm10 10l.94 2.06.94-2.06 2.06-.94-2.06-.94-.94-2.06-.94 2.06-2.06.94z\"/><path d=\"M17.41 7.96l-1.37-1.37c-.4-.4-.92-.59-1.43-.59-.52 0-1.04.2-1.43.59L10.3 9.45l-7.72 7.72c-.78.78-.78 2.05 0 2.83L4 21.41c.39.39.9.59 1.41.59.51 0 1.02-.2 1.41-.59l7.78-7.78 2.81-2.81c.8-.78.8-2.07 0-2.86zM5.41 20L4 18.59l7.72-7.72 1.47 1.35L5.41 20z\"/>\n",
              "  </svg>\n",
              "      </button>\n",
              "      \n",
              "  <style>\n",
              "    .colab-df-container {\n",
              "      display:flex;\n",
              "      flex-wrap:wrap;\n",
              "      gap: 12px;\n",
              "    }\n",
              "\n",
              "    .colab-df-convert {\n",
              "      background-color: #E8F0FE;\n",
              "      border: none;\n",
              "      border-radius: 50%;\n",
              "      cursor: pointer;\n",
              "      display: none;\n",
              "      fill: #1967D2;\n",
              "      height: 32px;\n",
              "      padding: 0 0 0 0;\n",
              "      width: 32px;\n",
              "    }\n",
              "\n",
              "    .colab-df-convert:hover {\n",
              "      background-color: #E2EBFA;\n",
              "      box-shadow: 0px 1px 2px rgba(60, 64, 67, 0.3), 0px 1px 3px 1px rgba(60, 64, 67, 0.15);\n",
              "      fill: #174EA6;\n",
              "    }\n",
              "\n",
              "    [theme=dark] .colab-df-convert {\n",
              "      background-color: #3B4455;\n",
              "      fill: #D2E3FC;\n",
              "    }\n",
              "\n",
              "    [theme=dark] .colab-df-convert:hover {\n",
              "      background-color: #434B5C;\n",
              "      box-shadow: 0px 1px 3px 1px rgba(0, 0, 0, 0.15);\n",
              "      filter: drop-shadow(0px 1px 2px rgba(0, 0, 0, 0.3));\n",
              "      fill: #FFFFFF;\n",
              "    }\n",
              "  </style>\n",
              "\n",
              "      <script>\n",
              "        const buttonEl =\n",
              "          document.querySelector('#df-96daf32f-c714-4d7f-965a-a64a8f5e7e0e button.colab-df-convert');\n",
              "        buttonEl.style.display =\n",
              "          google.colab.kernel.accessAllowed ? 'block' : 'none';\n",
              "\n",
              "        async function convertToInteractive(key) {\n",
              "          const element = document.querySelector('#df-96daf32f-c714-4d7f-965a-a64a8f5e7e0e');\n",
              "          const dataTable =\n",
              "            await google.colab.kernel.invokeFunction('convertToInteractive',\n",
              "                                                     [key], {});\n",
              "          if (!dataTable) return;\n",
              "\n",
              "          const docLinkHtml = 'Like what you see? Visit the ' +\n",
              "            '<a target=\"_blank\" href=https://colab.research.google.com/notebooks/data_table.ipynb>data table notebook</a>'\n",
              "            + ' to learn more about interactive tables.';\n",
              "          element.innerHTML = '';\n",
              "          dataTable['output_type'] = 'display_data';\n",
              "          await google.colab.output.renderOutput(dataTable, element);\n",
              "          const docLink = document.createElement('div');\n",
              "          docLink.innerHTML = docLinkHtml;\n",
              "          element.appendChild(docLink);\n",
              "        }\n",
              "      </script>\n",
              "    </div>\n",
              "  </div>\n",
              "  "
            ]
          },
          "metadata": {},
          "execution_count": 6
        }
      ]
    },
    {
      "cell_type": "code",
      "source": [
        "#%%time\n",
        "# Converts date/time info into a detailed horoscope chart \n",
        "# Stores the same in a JSON file, to be inserted into a local MongoDB database\n",
        "\n",
        "p21.AnalysisType = 'Rashi'                                     # one of ['Rashi','Navamsa']\n",
        "#p21.AnalysisType = 'Navamsa'                                    # one of ['Rashi','Navamsa']\n",
        "\n",
        "p21.ChartType = p21.AnalysisType\n",
        "\n",
        "writeFile =  open(\"peopleData.json\", \"w\")  \n",
        "for person in range(len(df)):\n",
        "    try :\n",
        "        personData =df.iloc[person]\n",
        "        p21swe.C02_parsePersonData(personData)                  # split the data, extract required data into fields\n",
        "                                                                # create skeleton chart json doc as p21.chart\n",
        "        p21swe.C03_convertDates()                               # convert date, time of birth into universal time, calculate Ayanamsha\n",
        "        p21swe.C04_calculateGrahaPositions()                    # calculate the Lon of each Graha along with Retrograde staus\n",
        "\n",
        "                    #Horoscope is defined in terms of Natal Longitudes and Retrogrades\n",
        "                    # for example\n",
        "                    #GLon = {\"La\":98.5,\"Su\":178.9,\"Mo\":250.6,\"Ma\":196.2,\"Me\":193.2,\"Ju\":274.8,\"Ve\":153.8,\"Sa\":270.2,\"Ra\":122.1,\"Ke\":302.1}\n",
        "                    #GRet = {\"La\":False,\"Su\":False,\"Mo\":False,\"Ma\":False,\"Me\":True,\"Ju\":False,\"Ve\":False,\"Sa\":False,\"Ra\":True,\"Ke\":True}\n",
        "\n",
        "        p21swe.C05_buildGLonGRet()                              # create two json docs ( python dicts) to store Graha Lon and Ret status\n",
        "                                                                # these are stored as global variables p21.GLon, p21.GRet\n",
        "        p21utils.appendDict(p21.chart,p21.GLonRet)              # add Lon, Ret information to chart\n",
        "        \n",
        "        # ----------------------------------------\n",
        "        p21utils.R11_LocateGrahaInRashi()\n",
        "        \n",
        "        p21utils.C10_DetermineBhavs()                           # determine Houses for person\n",
        "        p21utils.appendDict(p21.chart,p21.BhavNBhavA)           # add BhavN, BhavA information to chart   \n",
        "         \n",
        "        # ----------------------------------------    \n",
        "        p21utils.C11_DetermineLord()                            # determine Lords of Bhavs\n",
        "        p21utils.appendDict(p21.chart,p21.LordInfo)             #  add information on Lords   \n",
        "\n",
        "        p21utils.C12_BhavOfGraha_Lord()\n",
        "        p21utils.appendDict(p21.chart,p21.BhavOfGraha_LordInfo) #  add information on Bhav Residency of Graha and Lords  \n",
        "        \n",
        "        \n",
        "        p21utils.C21_DeterminePositions()\n",
        "        p21utils.appendDict(p21.chart,p21.Positions)            #  add information on Graha / Lord POSITIONS  \n",
        "\n",
        "        p21utils.C31_DetermineAspects()\n",
        "        p21utils.appendDict(p21.chart,p21.Aspects)              #  add information on Graha / Lord ASPECTS  \n",
        "\n",
        "        p21utils.C41_DetermineConjuncts()           \n",
        "        p21utils.appendDict(p21.chart,p21.Conjuncts)            #  add information on Graha / Lord Conjuncts\n",
        "    except :\n",
        "        print('error on record ', person)\n",
        "    else :\n",
        "        #insert_result = kollection.insert_one(p21.chart)        # insert one json doc, chart to database\n",
        "        #insert_result.acknowledged                              # Confirms that insert is successful\n",
        "                                                                 # Bypassing insertion into MongoDB will make processing much faster\n",
        "        json.dump(p21.chart, writeFile)                          # Storing chart data as JSON file\n",
        "    finally:\n",
        "        #if ( person % 1000 ) == 0:\n",
        "        print(person+1, \"records processed\")\n",
        "    \n",
        "writeFile.close()\n"
      ],
      "metadata": {
        "id": "uh6PTeRd_3dO",
        "outputId": "2180a13a-3fc0-4df9-83dd-80b69acc4311",
        "colab": {
          "base_uri": "https://localhost:8080/"
        }
      },
      "execution_count": 7,
      "outputs": [
        {
          "output_type": "stream",
          "name": "stdout",
          "text": [
            "1 records processed\n",
            "2 records processed\n",
            "3 records processed\n",
            "4 records processed\n"
          ]
        }
      ]
    },
    {
      "cell_type": "markdown",
      "source": [
        "##Load the SINGLE chart into the local MongoDB"
      ],
      "metadata": {
        "id": "UfrvUFYmNGzX"
      }
    },
    {
      "cell_type": "code",
      "source": [
        "mongoURI = \"mongodb://localhost:27017/\"                               # for local server\n",
        "client = MongoClient(mongoURI)\n",
        "db = client.parashar21Local\n",
        "#pd.DataFrame(list(db.list_collections()))\n",
        "\n",
        "!mongoimport --db parashar21Local --collection khona21Test --drop --file peopleData.json\n",
        "\n",
        "p21.kollection = db.khona21Test                   # Set the collection to work with\n",
        "#kollection = db.khona21                   # Set the collection to work with\n",
        "#totalCharts = kollection.count_documents({})\n",
        "#dbSize = db.command( {\"dbStats\": 1, \"scale\": 1024 } )['dataSize']\n",
        "#print(totalCharts, ' documents,',round(dbSize,2), \" KB data\")"
      ],
      "metadata": {
        "id": "MWa5_VrULC5s",
        "outputId": "48d64522-9b3b-4b78-b7b2-bf45faa2ff21",
        "colab": {
          "base_uri": "https://localhost:8080/"
        }
      },
      "execution_count": 8,
      "outputs": [
        {
          "output_type": "stream",
          "name": "stdout",
          "text": [
            "2022-09-20T06:19:32.459+0000\tconnected to: localhost\n",
            "2022-09-20T06:19:32.459+0000\tdropping: parashar21Local.khona21Test\n",
            "2022-09-20T06:19:32.488+0000\timported 4 documents\n"
          ]
        }
      ]
    },
    {
      "cell_type": "markdown",
      "source": [
        "#Report Generation Function\n",
        "Please note that the generated report MS Office doc format **will be stored in the Colab VM drive** and needs to be downloaded to local machine for viewing"
      ],
      "metadata": {
        "id": "LMA40MOq1jse"
      }
    },
    {
      "cell_type": "code",
      "source": [
        "def genSingleChartReport(ChartStyle):\n",
        "      \n",
        "    chartData = chart.iloc[0]\n",
        "    RepID = chart.iloc[0]['pid']['name']+'_'+p21.AnalysisType[0:3]+'_'+ChartStyle[0:1]\n",
        "    now = datetime.now(pytz.timezone('Asia/Kolkata'))\n",
        "    fileName = 'p21_'+RepID+'_'+now.strftime(\"%H%M%S\")+'.doc'\n",
        "\n",
        "    #print(chartData)\n",
        "    # ---------------------------------------------------------\n",
        "    #p21utilsR.R01_CreateReportDoc(curQueryStr, printStatus)        # Creates MS Word Doc called p21.document for MULTIPLE charts\n",
        "    p21utilsR.R01A_CreateReportDoc(RepID)                           # Creates MS Word Doc called p21.document for SINGLE chart\n",
        "    # ----------------------------------------------------------\n",
        "    \n",
        "    p21utilsR.R511_parseChartData(chartData)                # Break up database data into useful pieces\n",
        "                                                            # Creates two primary dicts, GLon, GRet\n",
        "    for ctype in ['Rashi','Navamsa']:\n",
        "        p21.ChartType = ctype\n",
        "        p21utils.R11_LocateGrahaInRashi()   # Converts Graha Long to Rashi positions\n",
        "                                            # Rashi Num as well as Rashi name\n",
        "        if ChartStyle == 'Bengal':\n",
        "            p21utilsR.R12B_drawChart_Bengal()    # Draw Chart in Bengal style\n",
        "        if ChartStyle == 'South':\n",
        "            p21utilsR.R12B_drawChart_South()    # Draw Chart in South style\n",
        "        if ChartStyle == 'North':\n",
        "            p21utilsR.R12B_drawChart_North()    # Draw Chart in North style\n",
        "        \n",
        "    p21utilsR.R30_LocateYogs()\n",
        "    p21utilsR.R512_FormatPage('SingleChart')                  # this is where the details of the chart are printed out\n",
        "    \n",
        "    # ------------------------------------\n",
        "    p21.document.save(fileName)\n",
        "    \n"
      ],
      "metadata": {
        "id": "nf7XU_5nZ1rq"
      },
      "execution_count": 9,
      "outputs": []
    },
    {
      "cell_type": "markdown",
      "source": [
        "#Retrieve Charts \n",
        "\n",
        "Reports will be available as DOC files in the VM drive <br>\n",
        "Please specify style of report, 'Bengal', 'North' or 'South' while calling the report generation routine <br>\n",
        "genSingleChartReport('South')\n"
      ],
      "metadata": {
        "id": "nej02gxiwUcV"
      }
    },
    {
      "cell_type": "markdown",
      "source": [
        "## Retrieve, Display and Analyse the SingleChart chart"
      ],
      "metadata": {
        "id": "jKGdhKgjNnri"
      }
    },
    {
      "cell_type": "code",
      "source": [
        "selCond = {}                                              # All Charts\n",
        "#chart = pd.DataFrame(list(p21.kollection.find(selCond,p21.selCols)))\n",
        "names = pd.DataFrame(list(p21.kollection.find(selCond,{'pid.name':1,'_id':0})))\n",
        "names"
      ],
      "metadata": {
        "id": "RevVlQkqjTua",
        "outputId": "644c8471-7920-4feb-e12c-6db0bc82b21a",
        "colab": {
          "base_uri": "https://localhost:8080/",
          "height": 175
        }
      },
      "execution_count": 10,
      "outputs": [
        {
          "output_type": "execute_result",
          "data": {
            "text/plain": [
              "                      pid\n",
              "0      {'name': 'NDModi'}\n",
              "1       {'name': 'Rekha'}\n",
              "2  {'name': 'APJAbdulKa'}\n",
              "3     {'name': 'IndiraG'}"
            ],
            "text/html": [
              "\n",
              "  <div id=\"df-2c259230-94ea-41b8-80a5-c91585f19ad3\">\n",
              "    <div class=\"colab-df-container\">\n",
              "      <div>\n",
              "<style scoped>\n",
              "    .dataframe tbody tr th:only-of-type {\n",
              "        vertical-align: middle;\n",
              "    }\n",
              "\n",
              "    .dataframe tbody tr th {\n",
              "        vertical-align: top;\n",
              "    }\n",
              "\n",
              "    .dataframe thead th {\n",
              "        text-align: right;\n",
              "    }\n",
              "</style>\n",
              "<table border=\"1\" class=\"dataframe\">\n",
              "  <thead>\n",
              "    <tr style=\"text-align: right;\">\n",
              "      <th></th>\n",
              "      <th>pid</th>\n",
              "    </tr>\n",
              "  </thead>\n",
              "  <tbody>\n",
              "    <tr>\n",
              "      <th>0</th>\n",
              "      <td>{'name': 'NDModi'}</td>\n",
              "    </tr>\n",
              "    <tr>\n",
              "      <th>1</th>\n",
              "      <td>{'name': 'Rekha'}</td>\n",
              "    </tr>\n",
              "    <tr>\n",
              "      <th>2</th>\n",
              "      <td>{'name': 'APJAbdulKa'}</td>\n",
              "    </tr>\n",
              "    <tr>\n",
              "      <th>3</th>\n",
              "      <td>{'name': 'IndiraG'}</td>\n",
              "    </tr>\n",
              "  </tbody>\n",
              "</table>\n",
              "</div>\n",
              "      <button class=\"colab-df-convert\" onclick=\"convertToInteractive('df-2c259230-94ea-41b8-80a5-c91585f19ad3')\"\n",
              "              title=\"Convert this dataframe to an interactive table.\"\n",
              "              style=\"display:none;\">\n",
              "        \n",
              "  <svg xmlns=\"http://www.w3.org/2000/svg\" height=\"24px\"viewBox=\"0 0 24 24\"\n",
              "       width=\"24px\">\n",
              "    <path d=\"M0 0h24v24H0V0z\" fill=\"none\"/>\n",
              "    <path d=\"M18.56 5.44l.94 2.06.94-2.06 2.06-.94-2.06-.94-.94-2.06-.94 2.06-2.06.94zm-11 1L8.5 8.5l.94-2.06 2.06-.94-2.06-.94L8.5 2.5l-.94 2.06-2.06.94zm10 10l.94 2.06.94-2.06 2.06-.94-2.06-.94-.94-2.06-.94 2.06-2.06.94z\"/><path d=\"M17.41 7.96l-1.37-1.37c-.4-.4-.92-.59-1.43-.59-.52 0-1.04.2-1.43.59L10.3 9.45l-7.72 7.72c-.78.78-.78 2.05 0 2.83L4 21.41c.39.39.9.59 1.41.59.51 0 1.02-.2 1.41-.59l7.78-7.78 2.81-2.81c.8-.78.8-2.07 0-2.86zM5.41 20L4 18.59l7.72-7.72 1.47 1.35L5.41 20z\"/>\n",
              "  </svg>\n",
              "      </button>\n",
              "      \n",
              "  <style>\n",
              "    .colab-df-container {\n",
              "      display:flex;\n",
              "      flex-wrap:wrap;\n",
              "      gap: 12px;\n",
              "    }\n",
              "\n",
              "    .colab-df-convert {\n",
              "      background-color: #E8F0FE;\n",
              "      border: none;\n",
              "      border-radius: 50%;\n",
              "      cursor: pointer;\n",
              "      display: none;\n",
              "      fill: #1967D2;\n",
              "      height: 32px;\n",
              "      padding: 0 0 0 0;\n",
              "      width: 32px;\n",
              "    }\n",
              "\n",
              "    .colab-df-convert:hover {\n",
              "      background-color: #E2EBFA;\n",
              "      box-shadow: 0px 1px 2px rgba(60, 64, 67, 0.3), 0px 1px 3px 1px rgba(60, 64, 67, 0.15);\n",
              "      fill: #174EA6;\n",
              "    }\n",
              "\n",
              "    [theme=dark] .colab-df-convert {\n",
              "      background-color: #3B4455;\n",
              "      fill: #D2E3FC;\n",
              "    }\n",
              "\n",
              "    [theme=dark] .colab-df-convert:hover {\n",
              "      background-color: #434B5C;\n",
              "      box-shadow: 0px 1px 3px 1px rgba(0, 0, 0, 0.15);\n",
              "      filter: drop-shadow(0px 1px 2px rgba(0, 0, 0, 0.3));\n",
              "      fill: #FFFFFF;\n",
              "    }\n",
              "  </style>\n",
              "\n",
              "      <script>\n",
              "        const buttonEl =\n",
              "          document.querySelector('#df-2c259230-94ea-41b8-80a5-c91585f19ad3 button.colab-df-convert');\n",
              "        buttonEl.style.display =\n",
              "          google.colab.kernel.accessAllowed ? 'block' : 'none';\n",
              "\n",
              "        async function convertToInteractive(key) {\n",
              "          const element = document.querySelector('#df-2c259230-94ea-41b8-80a5-c91585f19ad3');\n",
              "          const dataTable =\n",
              "            await google.colab.kernel.invokeFunction('convertToInteractive',\n",
              "                                                     [key], {});\n",
              "          if (!dataTable) return;\n",
              "\n",
              "          const docLinkHtml = 'Like what you see? Visit the ' +\n",
              "            '<a target=\"_blank\" href=https://colab.research.google.com/notebooks/data_table.ipynb>data table notebook</a>'\n",
              "            + ' to learn more about interactive tables.';\n",
              "          element.innerHTML = '';\n",
              "          dataTable['output_type'] = 'display_data';\n",
              "          await google.colab.output.renderOutput(dataTable, element);\n",
              "          const docLink = document.createElement('div');\n",
              "          docLink.innerHTML = docLinkHtml;\n",
              "          element.appendChild(docLink);\n",
              "        }\n",
              "      </script>\n",
              "    </div>\n",
              "  </div>\n",
              "  "
            ]
          },
          "metadata": {},
          "execution_count": 10
        }
      ]
    },
    {
      "cell_type": "code",
      "source": [
        "%%capture\n",
        "#selCond = {'pid.name': {'$eq': 'APJAbdulKa'}}               # Single Person\n",
        "#selCond = {'pid.name': {'$eq': 'IndiraG'}}               # Single Person\n",
        "#selCond = {'pid.name': {'$eq': 'NDModi'}}               # Single Person\n",
        "selCond = {'pid.name': {'$eq': 'Rekha'}}               # Single Person\n",
        "#selCond = {\"pid.name\": {\"$regex\":\"^per\"}}                # Name starting with per\n",
        "\n",
        "chart = pd.DataFrame(list(p21.kollection.find(selCond,p21.selCols)))\n",
        "#chart.iloc[0]['pid']['name']\n",
        "genSingleChartReport('Bengal')"
      ],
      "metadata": {
        "id": "WM9dKhfS118T"
      },
      "execution_count": 11,
      "outputs": []
    },
    {
      "cell_type": "code",
      "source": [
        "print(\"Last Executed \",datetime.now(pytz.timezone('Asia/Kolkata')))"
      ],
      "metadata": {
        "id": "1vsv0r4iS_Rt",
        "outputId": "c34c9c47-4a0f-482d-8cb5-e32c8de097d1",
        "colab": {
          "base_uri": "https://localhost:8080/"
        }
      },
      "execution_count": 12,
      "outputs": [
        {
          "output_type": "stream",
          "name": "stdout",
          "text": [
            "Last Executed  2022-09-20 11:52:21.457578+05:30\n"
          ]
        }
      ]
    },
    {
      "cell_type": "markdown",
      "source": [
        "#Testing Stuff"
      ],
      "metadata": {
        "id": "Zpu8ovELgGAJ"
      }
    },
    {
      "cell_type": "code",
      "source": [
        "print(p21.GAspects2)"
      ],
      "metadata": {
        "id": "i_wNGEJgQQSC",
        "outputId": "cb15c680-5ecc-46c2-dec1-66b0e69343a7",
        "colab": {
          "base_uri": "https://localhost:8080/"
        }
      },
      "execution_count": 16,
      "outputs": [
        {
          "output_type": "stream",
          "name": "stdout",
          "text": [
            "{'Su': ['Ra'], 'Ma': ['Ju'], 'Me': ['Ra'], 'Ju': ['Ve', 'Sa', 'La'], 'Ve': ['Ju'], 'Sa': ['La', 'Ju'], 'Ra': ['Su', 'Me']}\n"
          ]
        }
      ]
    },
    {
      "cell_type": "code",
      "source": [
        "print(p21.GConjunctsG2)"
      ],
      "metadata": {
        "id": "S7QF_L-nQbYp",
        "outputId": "f784df9e-cef1-4137-965e-806d22e4181e",
        "colab": {
          "base_uri": "https://localhost:8080/"
        }
      },
      "execution_count": 17,
      "outputs": [
        {
          "output_type": "stream",
          "name": "stdout",
          "text": [
            "{'Su': ['Ke', 'Me'], 'Me': ['Ke', 'Su'], 'Ke': ['Su', 'Me'], 'Mo': ['Ma'], 'Ma': ['Mo'], 'Ve': ['Sa'], 'Sa': ['Ve']}\n"
          ]
        }
      ]
    },
    {
      "cell_type": "code",
      "source": [
        "print(p21.exaltG)"
      ],
      "metadata": {
        "id": "oYgOzc2hQwzs",
        "outputId": "1d79157d-e2e3-4b54-8f50-742d6930f640",
        "colab": {
          "base_uri": "https://localhost:8080/"
        }
      },
      "execution_count": 18,
      "outputs": [
        {
          "output_type": "stream",
          "name": "stdout",
          "text": [
            "{'Su': False, 'Mo': False, 'Ma': False, 'Me': True, 'Ju': False, 'Ve': False, 'Sa': False}\n"
          ]
        }
      ]
    },
    {
      "cell_type": "code",
      "source": [
        "print(p21.exaltL)"
      ],
      "metadata": {
        "id": "k6eE6QyJXE61",
        "outputId": "431e9016-a132-410b-9f92-4fb53c885571",
        "colab": {
          "base_uri": "https://localhost:8080/"
        }
      },
      "execution_count": 33,
      "outputs": [
        {
          "output_type": "stream",
          "name": "stdout",
          "text": [
            "[False, False, False, False, False, False, False, False, False, True, False, False, True]\n"
          ]
        }
      ]
    },
    {
      "cell_type": "code",
      "source": [
        "print(p21.GRashiN)"
      ],
      "metadata": {
        "id": "oDiSDWvDX3ho",
        "outputId": "73588e3a-c582-4fce-c138-6b8312fb2790",
        "colab": {
          "base_uri": "https://localhost:8080/"
        }
      },
      "execution_count": 34,
      "outputs": [
        {
          "output_type": "stream",
          "name": "stdout",
          "text": [
            "{'La': 10, 'Su': 10, 'Mo': 6, 'Ma': 4, 'Me': 10, 'Ju': 8, 'Ve': 5, 'Sa': 9, 'Ra': 5, 'Ke': 11}\n"
          ]
        }
      ]
    }
  ]
}