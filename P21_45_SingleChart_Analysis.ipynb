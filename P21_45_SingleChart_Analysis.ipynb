{
  "nbformat": 4,
  "nbformat_minor": 0,
  "metadata": {
    "colab": {
      "name": "P21_45_SingleChart_Analysis.ipynb",
      "provenance": [],
      "collapsed_sections": [],
      "include_colab_link": true
    },
    "kernelspec": {
      "name": "python3",
      "display_name": "Python 3"
    },
    "language_info": {
      "name": "python"
    }
  },
  "cells": [
    {
      "cell_type": "markdown",
      "metadata": {
        "id": "view-in-github",
        "colab_type": "text"
      },
      "source": [
        "<a href=\"https://colab.research.google.com/github/prithwis/parashar21/blob/main/P21_45_SingleChart_Analysis.ipynb\" target=\"_parent\"><img src=\"https://colab.research.google.com/assets/colab-badge.svg\" alt=\"Open In Colab\"/></a>"
      ]
    },
    {
      "cell_type": "markdown",
      "source": [
        "![alt text](http://1.bp.blogspot.com/_5QlanosqxiQ/SXLOLTu7S7I/AAAAAAAAAm8/0r6C7lCxsic/S1600-R/p21-header-003.png) <br>\n",
        "\n",
        "\n",
        "---\n",
        "\n",
        "\n",
        "\n",
        "[Prithwis Mukerjee](http://www.yantrajaal.com) ||\n",
        "Website - [Parashar21](https://parashar21.blogspot.com)<br>"
      ],
      "metadata": {
        "id": "rj4jjIHTvPV8"
      }
    },
    {
      "cell_type": "markdown",
      "source": [
        "Copyright (c) 2022, Prithwis Mukerjee All rights reserved.\n",
        "\n",
        "This source code is licensed under the GNU GPL v3.0 -style license found in the LICENSE file in the root directory of this source tree."
      ],
      "metadata": {
        "id": "9OzVEmHm1IaF"
      }
    },
    {
      "cell_type": "markdown",
      "source": [
        "For those who may not have access to a live MongoDB instance, we have set up a mechanism where the JSON file that would have been loaded into a hosted MongoDB instance, will be loaded into a locally (that is in the VM) installed MongoDB instance and the queries can be run in a manner that is identical to a live, hosted MongoDB instance"
      ],
      "metadata": {
        "id": "yW31spY9ThkV"
      }
    },
    {
      "cell_type": "markdown",
      "source": [
        "#SetUp Environment"
      ],
      "metadata": {
        "id": "l2v2nhRKvwJS"
      }
    },
    {
      "cell_type": "markdown",
      "source": [
        "##Install Software"
      ],
      "metadata": {
        "id": "djqyotVjO5TI"
      }
    },
    {
      "cell_type": "code",
      "source": [
        "!pip -qq install python-docx                #https://python-docx.readthedocs.io/en/latest/\n",
        "!/usr/bin/python3 -m pip install \"pymongo[srv]\"\n",
        "!apt install mongodb > /dev/null            # install local MongoDB server           \n",
        "#!service mongodb start                      # start Local MongoDB server instance\n"
      ],
      "metadata": {
        "colab": {
          "base_uri": "https://localhost:8080/"
        },
        "id": "AWKFabc0v3FI",
        "outputId": "6936c2c8-da0b-4707-cca4-79aa87e468e0"
      },
      "execution_count": 1,
      "outputs": [
        {
          "output_type": "stream",
          "name": "stdout",
          "text": [
            "\u001b[K     |████████████████████████████████| 5.6 MB 25.4 MB/s \n",
            "\u001b[?25h  Building wheel for python-docx (setup.py) ... \u001b[?25l\u001b[?25hdone\n",
            "Looking in indexes: https://pypi.org/simple, https://us-python.pkg.dev/colab-wheels/public/simple/\n",
            "Requirement already satisfied: pymongo[srv] in /usr/local/lib/python3.7/dist-packages (4.1.1)\n",
            "Collecting dnspython<3.0.0,>=1.16.0\n",
            "  Downloading dnspython-2.2.1-py3-none-any.whl (269 kB)\n",
            "\u001b[K     |████████████████████████████████| 269 kB 27.3 MB/s \n",
            "\u001b[?25hInstalling collected packages: dnspython\n",
            "Successfully installed dnspython-2.2.1\n",
            "\n",
            "WARNING: apt does not have a stable CLI interface. Use with caution in scripts.\n",
            "\n"
          ]
        }
      ]
    },
    {
      "cell_type": "markdown",
      "source": [
        "##Install, import prerequisites"
      ],
      "metadata": {
        "id": "Vml3UdnbOAlO"
      }
    },
    {
      "cell_type": "code",
      "source": [
        "#Utility functions \n",
        "from pymongo import MongoClient\n",
        "import pandas as pd\n",
        "import dateutil\n",
        "import json\n",
        "from docx import Document\n",
        "from docx.shared import Inches\n",
        "from docx.enum.text import WD_ALIGN_PARAGRAPH\n",
        "from datetime import datetime\n",
        "from datetime import timedelta\n",
        "import pytz\n",
        "\n",
        "#import matplotlib.pyplot as plt\n",
        "#import math\n"
      ],
      "metadata": {
        "id": "tsCga6c8pLvM"
      },
      "execution_count": 2,
      "outputs": []
    },
    {
      "cell_type": "code",
      "source": [
        "#Load p21 modules from github\n",
        "!wget -O p21.py -q https://raw.githubusercontent.com/prithwis/parashar21/main/utils/p21.py                  # all global variables\n",
        "!wget -O p21utils.py -q https://raw.githubusercontent.com/prithwis/parashar21/main/utils/p21utils.py        # large number of utility functions\n",
        "!wget -O p21utilsR.py -q https://raw.githubusercontent.com/prithwis/parashar21/main/utils/p21utilsR.py \n",
        "# ---------------------------\n",
        "\n",
        "#!wget -O Saraswati.png -q https://github.com/prithwis/parashar21/raw/main/images/Saraswati02.png                 \n",
        "#!wget -O p21logo.png -q https://github.com/prithwis/parashar21/raw/main/images/p21logo-002-1.png                  "
      ],
      "metadata": {
        "id": "uwAT_IbvB0A-"
      },
      "execution_count": 3,
      "outputs": []
    },
    {
      "cell_type": "code",
      "source": [
        "!cat p21utilsR.py"
      ],
      "metadata": {
        "colab": {
          "base_uri": "https://localhost:8080/"
        },
        "id": "9AuxlAIn58am",
        "outputId": "46b2ac70-6722-4b90-880e-9852747fd511"
      },
      "execution_count": 4,
      "outputs": [
        {
          "output_type": "stream",
          "name": "stdout",
          "text": [
            "#Copyright (c) 2022, Prithwis Mukerjee\n",
            "#All rights reserved.\n",
            "#\n",
            "#This source code is licensed under the GNU GPL v3.0 -style license found in the\n",
            "#LICENSE file in the root directory of this source tree. \n",
            "# --------------------------------------------------\n",
            "# Global Variables\n",
            "import p21\n",
            "# --------------------------------------------------\n",
            "#Utility functions \n",
            "\n",
            "import pandas as pd\n",
            "import dateutil\n",
            "import matplotlib.pyplot as plt\n",
            "import math\n",
            "import math\n",
            "import numbers\n",
            "#import collections\n",
            "#import string_utils\n",
            "\n",
            "import json\n",
            "\n",
            "from docx import Document\n",
            "from docx.shared import Inches\n",
            "from docx.enum.text import WD_ALIGN_PARAGRAPH\n",
            "from docx.shared import Pt\n",
            "from datetime import datetime\n",
            "from datetime import timedelta\n",
            "\n",
            "#import swisseph as swe\n",
            "import pytz\n",
            "\n",
            "\n",
            "#\n",
            "# --------------------------------------------------\n",
            "#\n",
            "# Generates the text that appears in a chart image\n",
            "#\n",
            "def generateChartTxt():\n",
            "    global txt\n",
            "    txt = ['']*13\n",
            "    for g,r in p21.GRashiN.items():\n",
            "        if r == 1:\n",
            "            txt[1]= txt[1]+' '+g+('/R' if p21.GRet[g] else '')\n",
            "        if r == 2:\n",
            "            txt[2]= txt[2]+' '+g+('/R' if p21.GRet[g] else '')\n",
            "        if r == 3:\n",
            "            txt[3]= txt[3]+' '+g+('/R' if p21.GRet[g] else '')\n",
            "        if r == 4:\n",
            "            txt[4]= txt[4]+' '+g+('/R' if p21.GRet[g] else '')\n",
            "        if r == 5:\n",
            "            txt[5]= txt[5]+' '+g+('/R' if p21.GRet[g] else '')\n",
            "        if r == 6:\n",
            "            txt[6]= txt[6]+' '+g+('/R' if p21.GRet[g] else '')\n",
            "        if r == 7:\n",
            "            txt[7]= txt[7]+' '+g+('/R' if p21.GRet[g] else '')\n",
            "        if r == 8:\n",
            "            txt[8]= txt[8]+' '+g+('/R' if p21.GRet[g] else '')\n",
            "        if r == 9:\n",
            "            txt[9]= txt[9]+' '+g+('/R' if p21.GRet[g] else '')\n",
            "        if r == 10:\n",
            "            txt[10]= txt[10]+' '+g+('/R' if p21.GRet[g] else '')\n",
            "        if r == 11:\n",
            "            txt[11]= txt[11]+' '+g+('/R' if p21.GRet[g] else '')\n",
            "        if r == 12:\n",
            "            txt[12]= txt[12]+' '+g+('/R' if p21.GRet[g] else '')\n",
            "            \n",
            "    for i in range(1,13):\n",
            "        if len(txt[i]) == 0:\n",
            "            txt[i] = '*'\n",
            "#print(txt[1],txt[2],txt[3],txt[4],txt[5],txt[6],txt[7],txt[8],txt[9],txt[10],txt[11],txt[12],)\n",
            "\n",
            "# --------------------------------------------------\n",
            "# Plots the chart in the Bengal Format\n",
            "#\n",
            "def R12B_drawChart_Bengal():\n",
            "\n",
            "    #ChartFile = p21.pName+p21.ChartType+'.png'\n",
            "    #ChartFile = 'CurrentChart.png'\n",
            "    generateChartTxt()\n",
            "\n",
            "    #id = ChartType+'\\n'+pName+'\\n'+pDate+'\\n'+pTime+'\\n'+pPlace\n",
            "    id = p21.ChartType+'\\n'+p21.pName\n",
            "    if p21.ChartType == 'Rashi':\n",
            "        ChartColour = 'orange'\n",
            "        ChartFile = 'RashiChart.png'\n",
            "    else:\n",
            "        ChartColour = 'olive'\n",
            "        ChartFile = 'NavamsaChart.png'\n",
            "    \n",
            "        \n",
            "    #plt.figure(figsize=(7,7))\n",
            "    plt.figure(figsize=(7,7),facecolor=ChartColour)\n",
            "    \n",
            "    plt.axis('off')\n",
            "\n",
            "    # draw vertical line \n",
            "    plt.plot([30, 30], [0, 90], 'k-', lw=2)\n",
            "    plt.plot([60, 60], [0, 90], 'k-', lw=2)\n",
            "\n",
            "    # draw horizontal line \n",
            "    plt.plot([0, 90], [30, 30], 'k-', lw=2)\n",
            "    plt.plot([0, 90], [60, 60], 'k-', lw=2)\n",
            "\n",
            "    #draw diagonal lines\n",
            "    plt.plot([60,90],[60,90], 'k-', lw=2)\n",
            "    plt.plot([0,30],[90,60], 'k-', lw=2)\n",
            "    plt.plot([0,30],[90,60], 'k-', lw=2)\n",
            "    plt.plot([0,30],[0,30], 'k-', lw=2)\n",
            "    plt.plot([60,90],[30,0], 'k-', lw=2)\n",
            "\n",
            "    plt.text(32, 38, id, fontsize=12)\n",
            "    plt.text(0, 95, p21.cID, fontsize=12)       # unique chartID\n",
            "\n",
            "    plt.text(32, 82, txt[1], fontsize=12)\n",
            "    plt.text(8, 82, txt[2], fontsize=12)\n",
            "    plt.text(2, 62, txt[3], fontsize=12)\n",
            "    plt.text(2, 45, txt[4], fontsize=12)\n",
            "    plt.text(2, 25, txt[5], fontsize=12)\n",
            "    plt.text(8, 5, txt[6], fontsize=12)\n",
            "    plt.text(32, 5, txt[7], fontsize=12)\n",
            "    plt.text(62, 5, txt[8], fontsize=12)\n",
            "    plt.text(68, 25, txt[9], fontsize=12)\n",
            "    plt.text(68, 45, txt[10], fontsize=12)\n",
            "    plt.text(68, 62, txt[11], fontsize=12)\n",
            "    plt.text(62, 82, txt[12], fontsize=12)\n",
            "\n",
            "    \n",
            "    #plt.savefig(\"CurrentChart.png\", bbox_inches='tight')\n",
            "    plt.savefig(ChartFile, bbox_inches='tight')\n",
            "    #plt.show()\n",
            "\n",
            "#Draw Chart as Per South India Style\n",
            "def R12B_drawChart_South():\n",
            "\n",
            "    #ChartFile = p21.pName+p21.ChartType+'.png'\n",
            "    #ChartFile = 'CurrentChart.png'\n",
            "    generateChartTxt()\n",
            "\n",
            "    #id = ChartType+'\\n'+pName+'\\n'+pDate+'\\n'+pTime+'\\n'+pPlace\n",
            "    id = p21.ChartType+'\\n'+p21.pName\n",
            "    if p21.ChartType == 'Rashi':\n",
            "        ChartColour = 'orange'\n",
            "        ChartFile = 'RashiChart.png'\n",
            "    else:\n",
            "        ChartColour = 'olive'\n",
            "        ChartFile = 'NavamsaChart.png'\n",
            "    \n",
            "        \n",
            "    #plt.figure(figsize=(7,7))\n",
            "    plt.figure(figsize=(7,7),facecolor=ChartColour)\n",
            "    \n",
            "    plt.axis('off')\n",
            "\n",
            "    plt.text(25, 35, id, fontsize=12)\n",
            "    plt.text(0, 95, p21.cID, fontsize=12)       # unique chartID\n",
            "\n",
            "    # draw vertical line \n",
            "    plt.plot([0, 0], [0, 90], 'k-', lw=2)\n",
            "    plt.plot([22.5, 22.5], [0, 90], 'k-', lw=2)\n",
            "\n",
            "    plt.plot([45, 45], [0, 22.5], 'k-', lw=2)\n",
            "    plt.plot([45, 45], [67.5, 90], 'k-', lw=2)\n",
            "\n",
            "\n",
            "    plt.plot([67.5, 67.5], [0, 90], 'k-', lw=2)\n",
            "    plt.plot([90, 90], [0, 90], 'k-', lw=2)\n",
            "\n",
            "    # draw horizontal line\n",
            "\n",
            "    plt.plot([0, 90], [0, 0], 'k-', lw=2)\n",
            "    plt.plot([0, 90], [22.5, 22.5], 'k-', lw=2)\n",
            "\n",
            "    plt.plot([0, 22.5], [45, 45], 'k-', lw=2)\n",
            "    plt.plot([67.5, 90], [45, 45], 'k-', lw=2)\n",
            "    \n",
            "    plt.plot([0, 90], [67.5, 67.5], 'k-', lw=2)\n",
            "    plt.plot([0, 90], [90, 90], 'k-', lw=2)\n",
            "    \n",
            "    #draw diagonal lines\n",
            "    plt.plot([22.5, 27.5], [85, 90], 'k-', lw=2)\n",
            "\n",
            "    # graha names\n",
            "\n",
            "    plt.text(0.5, 80, txt[12], fontsize=15)\n",
            "    plt.text(23, 73, txt[1], fontsize=15)\n",
            "    plt.text(45.5, 80, txt[2], fontsize=15)\n",
            "    plt.text(68, 73, txt[3], fontsize=15)\n",
            "\n",
            "    plt.text(68, 55, txt[4], fontsize=15)\n",
            "    plt.text(68, 35, txt[5], fontsize=15)\n",
            "\n",
            "    plt.text(68, 13, txt[6], fontsize=15)\n",
            "    plt.text(45.5, 6, txt[7], fontsize=15)\n",
            "    plt.text(23, 13, txt[8], fontsize=15)\n",
            "    plt.text(0.5, 6, txt[9], fontsize=15)\n",
            "   \n",
            "    plt.text(0.5, 55, txt[11], fontsize=15)\n",
            "    plt.text(0.5, 35, txt[10], fontsize=15)\n",
            "\n",
            "    \n",
            "    #plt.savefig(\"CurrentChart.png\", bbox_inches='tight')\n",
            "    plt.savefig(ChartFile, bbox_inches='tight')\n",
            "    #plt.show()\n",
            "\n",
            "\n",
            "#Draw Chart as Per North India Style\n",
            "def R12B_drawChart_North():\n",
            "\n",
            "    #ChartFile = p21.pName+p21.ChartType+'.png'\n",
            "    #ChartFile = 'CurrentChart.png'\n",
            "    generateChartTxt()\n",
            "    \n",
            "    # for North India, we need to rotate the texts\n",
            "    LagnaRashiNumber = p21.GRashiN['La']\n",
            "    ntxt = ['']*13\n",
            "    j = LagnaRashiNumber\n",
            "    for i in range(1,13):\n",
            "        ntxt[i] = str(j)+\"|\"+txt[j]\n",
            "        j = j+1\n",
            "        if j > 12:\n",
            "            j = 1\n",
            "    \n",
            "    #text has to be made vertical for these bhavs!     \n",
            "    for i in [3,5,9,11]:\n",
            "        ntxt[i] = ntxt[i].replace(' ','\\n')\n",
            "\n",
            "    #id = ChartType+'\\n'+pName+'\\n'+pDate+'\\n'+pTime+'\\n'+pPlace\n",
            "    id = p21.ChartType+' | '+p21.pName\n",
            "    #id = '25-35'\n",
            "    if p21.ChartType == 'Rashi':\n",
            "        ChartColour = 'orange'\n",
            "        ChartFile = 'RashiChart.png'\n",
            "    else:\n",
            "        ChartColour = 'olive'\n",
            "        ChartFile = 'NavamsaChart.png'\n",
            "    \n",
            "    #print(p21.GRashiN)    \n",
            "    #plt.figure(figsize=(7,7))\n",
            "    plt.figure(figsize=(7,7),facecolor=ChartColour)\n",
            "    \n",
            "    plt.axis('off')\n",
            "\n",
            "    plt.text(0, -5, id, fontsize=12)\n",
            "    plt.text(0, 95, p21.cID, fontsize=12)       # unique chartID\n",
            "    \n",
            "    \n",
            "    \n",
            "    # draw vertical line \n",
            "    plt.plot([0, 0], [0, 90], 'k-', lw=2)  # Left Vertical   [x1,x2], [y1,y2]\n",
            "    plt.plot([90, 90], [0, 90], 'k-', lw=2) # Right Vertical\n",
            "    \n",
            "    # draw horizontal lines\n",
            "    plt.plot([0, 90], [90, 90], 'k-', lw=2)  # Top Horizontal   [x1,x2], [y1,y2]\n",
            "    plt.plot([0, 90], [0, 0], 'k-', lw=2)  # Bottom Horizontal   [x1,x2], [y1,y2]\n",
            "    plt.plot([42, 48], [86, 86], 'k-', lw=2)  # Lagna Horizontal   [x1,x2], [y1,y2]\n",
            "    \n",
            "    \n",
            "    # Diagonal\n",
            "    plt.plot([0, 90], [0, 90], 'k-', lw=2)  # Bottom Left Top Right   [x1,x2], [y1,y2]\n",
            "    plt.plot([0, 90], [90, 0], 'k-', lw=2)  # Top Left Bottom Right   [x1,x2], [y1,y2]\n",
            "    plt.plot([0, 45], [45, 90], 'k-', lw=2) # upward\n",
            "    plt.plot([45, 90], [0, 45], 'k-', lw=2)  # upward\n",
            "    plt.plot([0, 45], [45, 0], 'k-', lw=2)\n",
            "    plt.plot([45, 90], [90, 45], 'k-', lw=2)\n",
            "    \n",
            "    \n",
            "    plt.text(40, 55, p21.RashiN2A(LagnaRashiNumber), fontsize=14)\n",
            "    \n",
            "    plt.text(27.5, 67.5, ntxt[1], fontsize=12) # 1\n",
            "    plt.text(27.5, 22.5, ntxt[7], fontsize=12)  # 7\n",
            "    \n",
            "    plt.text(5, 45, ntxt[4], fontsize=12) # 4\n",
            "    plt.text(50, 45, ntxt[10], fontsize=12)  # 10\n",
            "    \n",
            "    plt.text(7, 85, ntxt[2], fontsize=12) # 2\n",
            "    plt.text(53, 85, ntxt[12], fontsize=12)  # 12\n",
            "    \n",
            "    plt.text(7, 3, ntxt[6], fontsize=12) # 6\n",
            "    plt.text(53, 3, ntxt[8], fontsize=12)  # 8\n",
            "    \n",
            "    plt.text(1, 55, ntxt[3], fontsize=12) # 3\n",
            "    plt.text(1, 10, ntxt[5], fontsize=12)  # 5\n",
            "    \n",
            "    plt.text(82, 10, ntxt[9], fontsize=12) # 9\n",
            "    plt.text(82, 55, ntxt[11], fontsize=12)  # 11\n",
            "    \n",
            "    \n",
            "    plt.savefig(ChartFile, bbox_inches='tight')\n",
            "    #plt.show()\n",
            "    #print('north')\n",
            "\n",
            "\n",
            "\n",
            "def R13C_ListPositions(text,L):\n",
            "    # \n",
            "    L1 = L[1:]\n",
            "    D = ''\n",
            "    for c,e in enumerate(L1,1):\n",
            "        if e :\n",
            "            D = D+' '+str(c)+' ' \n",
            "    if len(D)>0:\n",
            "        return(text+D)\n",
            "    else:\n",
            "        return(text+'<none>')    \n",
            "    #return(D)\n",
            "\n",
            "def R13B_ListPositions(text,L):\n",
            "    # \n",
            "    L1 = L[1:]\n",
            "    D = text+' : '\n",
            "    for c,e in enumerate(L1,1):\n",
            "        D = D+' '+str(c)+':'+str(e)+' '\n",
            "    return(D)\n",
            "        \n",
            "\n",
            "def R13A_ShowTrueDict(desc,tDict):\n",
            "    # creates a string with Keys that have Value True\n",
            "    \n",
            "    D = ''\n",
            "    for (k,v) in tDict.items():\n",
            "        if v :\n",
            "            D = D+' '+k\n",
            "    if len(D)>0:\n",
            "        return(desc+D)\n",
            "    else:\n",
            "        return(desc+'<none>')\n",
            "    #return(D)\n",
            "\n",
            "\n",
            "def R511_parseChartData(c):\n",
            "\n",
            "    p21.GLon = c['GLon']\n",
            "    p21.GRet = c['GRet']\n",
            "    pid = c['pid']\n",
            "    p21.pName = pid['name']\n",
            "    p21.cID = pid['cID']\n",
            "    p21.pTags = pid['tags']\n",
            "    p21.GrahaLordBhav = c['GrahaLordBhav']\n",
            "    p21.Lord = c['Lord']\n",
            "    p21.GrahaBhava = c['GrahaBhava']\n",
            "    p21.LordBhav = c['LordBhav']\n",
            "    p21.exaltG = c['exaltG']\n",
            "    p21.exaltL = c['exaltL']\n",
            "    p21.debilG = c['debilG']\n",
            "    p21.debilL = c['debilL']\n",
            "    p21.inFriendG = c['inFriendG']\n",
            "    p21.inFriendL = c['inFriendL']\n",
            "    p21.inEnemyG = c['inEnemyG']\n",
            "    p21.inEnemyL = c['inEnemyL']\n",
            "    \n",
            "    p21.GAspects2 = c['GAspects2']\n",
            "    p21.GAspectedBy2 = c['GAspectedBy2']\n",
            "    p21.BAspectedBy2 = c['BAspectedBy2']\n",
            "    p21.BAspectedByBL2 = c['BAspectedByBL2']\n",
            "    \n",
            "    p21.GConjunctsG2 = c['GConjunctsG2']\n",
            "    p21.BLConjunctsG2 = c['BLConjunctsG2']\n",
            "    p21.BLConjunctsBL2 = c['BLConjunctsBL2']\n",
            "    \n",
            "\n",
            "def R01_CreateReportDoc(cqs,pS):\n",
            "      \n",
            "    now = datetime.now(pytz.timezone('Asia/Kolkata'))\n",
            "    p21.document = Document()\n",
            "    \n",
            "    style = p21.document.styles['Normal']           # Changes the Normal style throuhout the document\n",
            "    font = style.font\n",
            "    font.name = 'Times New Roman'\n",
            "    font.size = Pt(10)                              # Increasing the font size will cause reports to overflow to next page\n",
            "    \n",
            "    \n",
            "    section = p21.document.sections[0]\n",
            "    header = section.header\n",
            "    footer = section.footer\n",
            "    \n",
            "    header01 = header.paragraphs[0]\n",
            "    header01.text = \"Parashar21 | \"+now.strftime(\"%d %b %Y\")\n",
            "\n",
            "    \n",
            "    footer01 = footer.paragraphs[0]\n",
            "    #footer01.text = \"Printed on : \"\n",
            "    footer01.text = \"http://parashar21.blogspot.com | https://github.com/prithwis/parashar21\"\n",
            "\n",
            "    #heading_1 = p21.pName +\" >>> \"+p21.ChartType\n",
            "    #heading_1 = ChartType+\" Chart of \"+pName\n",
            "    \n",
            "    heading_1 = \"Selected Charts\"  #p21.ReportFile\n",
            "    p21.document.add_heading(heading_1, 0)\n",
            "    heading_2 = cqs                         # current query string\n",
            "    p21.document.add_heading(heading_2, level=3)\n",
            "    p21.document.add_paragraph(pS)          # print count status\n",
            "    \n",
            "    p21.document.add_picture('./Saraswati.png', width=Inches(4.25))\n",
            "    last_paragraph = p21.document.paragraphs[-1] \n",
            "    last_paragraph.alignment = WD_ALIGN_PARAGRAPH.CENTER\n",
            "    \n",
            "    threeLineGap = '\\n\\n\\n'\n",
            "    #KNRText = 'based on the book\\nLearn Hindu Astrology Easily\\nK N Rao & K Ashu Rao\\nThird Edition\\nVani Publications\\nDelhi'\n",
            "    #para = p21.document.add_paragraph(KNRText)\n",
            "    #para.alignment = WD_ALIGN_PARAGRAPH.CENTER\n",
            "    \n",
            "    p21.document.add_paragraph(threeLineGap)\n",
            "    #p21.document.add_paragraph(threeLineGap)\n",
            "    \n",
            "    gyan = \"Astrology is the science of CORRELATIONS\\nAstrology - An Application of Data Science \\nhttps://bit.ly/pmastro\"\n",
            "    para = p21.document.add_paragraph(gyan)\n",
            "    para.alignment = WD_ALIGN_PARAGRAPH.CENTER\n",
            "    \n",
            "    p21.document.add_paragraph('______________________________________________________________________________')\n",
            "    \n",
            "    p21.document.add_picture('./p21logo.png', width=Inches(1.0))\n",
            "    last_paragraph = p21.document.paragraphs[-1] \n",
            "    last_paragraph.alignment = WD_ALIGN_PARAGRAPH.CENTER\n",
            "    \n",
            "    \n",
            "    \n",
            "    \n",
            "    \n",
            "    p21.document.add_page_break()\n",
            "    #return document\n",
            "    \n",
            "# --------------------------------------------------\n",
            "def R01A_CreateReportDoc(id = 'dummy'):\n",
            "      \n",
            "    now = datetime.now(pytz.timezone('Asia/Kolkata'))\n",
            "    p21.document = Document()\n",
            "    \n",
            "    style = p21.document.styles['Normal']           # Changes the Normal style throuhout the document\n",
            "    font = style.font\n",
            "    font.name = 'Times New Roman'\n",
            "    font.size = Pt(10)                              # Increasing the font size will cause reports to overflow to next page\n",
            "    \n",
            "    \n",
            "    section = p21.document.sections[0]\n",
            "    header = section.header\n",
            "    footer = section.footer\n",
            "    \n",
            "    header01 = header.paragraphs[0]\n",
            "    header01.text = \"Parashar21 | \"+ id + \" | \"+ now.strftime(\"%d %b %Y\")\n",
            "\n",
            "    \n",
            "    footer01 = footer.paragraphs[0]\n",
            "    #footer01.text = \"Printed on : \"\n",
            "    footer01.text = \"http://parashar21.blogspot.com | https://github.com/prithwis/parashar21\"\n",
            "\n",
            "    \n",
            "    #return document\n",
            "    \n",
            "# --------------------------------------------------\n",
            "\n",
            "def R512_FormatPage():\n",
            "\n",
            "    \n",
            "       \n",
            "    #p21.document.add_page_break()\n",
            "    \n",
            "    p2 = p21.document.add_paragraph()\n",
            "    run_1 = p2.add_run()\n",
            "    run_1.add_picture('./RashiChart.png', width=Inches(3.0))\n",
            "    run_2 = p2.add_run()\n",
            "    run_2.add_picture('./NavamsaChart.png', width=Inches(3.0))\n",
            "    #p1 = p21.document.add_paragraph(p21.pName)                                             # skip printing name\n",
            "    \n",
            "    \n",
            "    #cPara = R13A_ShowTrueDict('Retrograde Graha',p21.GRet)+'\\n'                          # Show Grahas that are retrograde\n",
            "    #cPara = ' '.join(p21.pTags)+'\\n'\n",
            "    cPara = ''\n",
            "    cPara = cPara+R13B_ListPositions('Lord of ',p21.Lord)                                # Show Lords\n",
            "    cPara = cPara+\"\\n\"\n",
            "    cPara = cPara+'Graha Lord of \\n'+json.dumps(p21.GrahaLordBhav).replace('\"','')                         # Show the Bhavs of whicha Graha is Lord\n",
            "    \n",
            "    cPara = cPara+R13B_ListPositions('\\nLord in Bhava',p21.LordBhav)\n",
            "    para001 = p21.document.add_paragraph(cPara)\n",
            "    #para001.style = p21.document.styles['Normal']\n",
            "            \n",
            "    table = p21.document.add_table(rows=1, cols=2)\n",
            "    cell1 = table.cell(0, 0)\n",
            "    cell2 = table.cell(0, 1)\n",
            "    \n",
            "    cPara1 = 'Graha Status\\n'\n",
            "    cPara1 = cPara1+R13A_ShowTrueDict('Exalted     : ',p21.exaltG)+'\\n'\n",
            "    cPara1 = cPara1+R13A_ShowTrueDict('Debilitated : ',p21.debilG)+'\\n'\n",
            "    cPara1 = cPara1+R13A_ShowTrueDict('in Friend   : ',p21.inFriendG)+'\\n'\n",
            "    cPara1 = cPara1+R13A_ShowTrueDict('in Enemy    : ',p21.inEnemyG)\n",
            "    cell1.add_paragraph(cPara1)\n",
            "    \n",
            "    \n",
            "    cPara2 = 'Lord Status\\n'\n",
            "    cPara2 = cPara2+R13C_ListPositions('Exalted     : ',p21.exaltL)+'\\n'\n",
            "    cPara2 = cPara2+R13C_ListPositions('Debilitated : ',p21.debilL)+'\\n'\n",
            "    cPara2 = cPara2+R13C_ListPositions('In Friend   : ',p21.inFriendL)+'\\n'\n",
            "    cPara2 = cPara2+R13C_ListPositions('In Enemy    : ',p21.inEnemyL)\n",
            "    cell2.add_paragraph(cPara2)\n",
            "    \n",
            "    \n",
            "    cPara = 'Graha Aspects ........................................................'\n",
            "    cPara = cPara+'\\nAspects🤓 '+json.dumps(p21.GAspects2).replace('\"','')  \n",
            "    cPara = cPara+'\\nAspected BY 👀'+json.dumps(p21.GAspectedBy2).replace('\"','')  \n",
            "    #p21.document.add_paragraph(cPara)\n",
            "    \n",
            "    #print(p21.GAspects2)\n",
            "    #print(p21.GAspectedBy2)\n",
            "    cPara = cPara+'\\nBhav Aspect ..................................................'\n",
            "    #sorted_BAspectedBy2={}\n",
            "    #print(p21.BAspectedBy2)\n",
            "    T1 = {}\n",
            "    for k,v in p21.BAspectedBy2.items():\n",
            "        T1[int(k)] =v\n",
            "    T2 = dict(sorted(T1.items()))\n",
            "    #print(T2)\n",
            "    \n",
            "    \n",
            "    cPara = cPara+'\\nAspected BY Graha 👀'+json.dumps(T2).replace('\"','')  \n",
            "    \n",
            "    T1 = {}\n",
            "    for k,v in p21.BAspectedByBL2.items():\n",
            "        T1[int(k)] =v\n",
            "    T2 = dict(sorted(T1.items()))\n",
            "    #print(T2)\n",
            "    \n",
            "    \n",
            "    cPara = cPara+'\\nAspected BY Lords 👀'+json.dumps(T2).replace('\"','')  \n",
            "    #p21.document.add_paragraph(cPara)\n",
            "\n",
            "    cPara = cPara+'\\nConjuncts  ...................................................'\n",
            "    cPara = cPara+'\\nGraha Graha '+json.dumps(p21.GConjunctsG2).replace('\"','')  \n",
            "    cPara = cPara+'\\nLord Graha '+json.dumps(p21.BLConjunctsG2).replace('\"','')  \n",
            "    cPara = cPara+'\\nLord Lord '+json.dumps(p21.BLConjunctsBL2).replace('\"','')\n",
            "    #p21.document.add_paragraph(cPara)\n",
            "    \n",
            "    cPara = cPara+'\\nTags ....................................................... \\n'\n",
            "    cPara = cPara+json.dumps(p21.pTags)\n",
            "    p21.document.add_paragraph(cPara)\n",
            "    \n",
            "    p21.document.add_page_break()\n",
            "\n",
            "def tracer():\n",
            "    print('tracer')\n",
            "    print(p21.ChartType)\n",
            "    \n",
            "print('p21utilsR imported')\n"
          ]
        }
      ]
    },
    {
      "cell_type": "code",
      "source": [
        "#!cat p21utils.py\n",
        "import p21\n",
        "import p21utils\n",
        "import p21utilsR\n",
        "# ------------------------------------------------\n",
        "# required for multiple imports of the same module\n",
        "# ------------------------------------------------\n",
        "import importlib\n",
        "importlib.reload(p21)\n",
        "importlib.reload(p21utils)\n",
        "importlib.reload(p21utilsR)"
      ],
      "metadata": {
        "id": "xOlbcnu33PmG",
        "outputId": "a5df2ca1-905d-47be-bad3-3d18d04f7ea0",
        "colab": {
          "base_uri": "https://localhost:8080/"
        }
      },
      "execution_count": 5,
      "outputs": [
        {
          "output_type": "stream",
          "name": "stdout",
          "text": [
            "imported p21\n",
            "p21utils imported\n",
            "p21utilsR imported\n",
            "imported p21\n",
            "p21utils imported\n",
            "p21utilsR imported\n"
          ]
        },
        {
          "output_type": "execute_result",
          "data": {
            "text/plain": [
              "<module 'p21utilsR' from '/content/p21utilsR.py'>"
            ]
          },
          "metadata": {},
          "execution_count": 5
        }
      ]
    },
    {
      "cell_type": "markdown",
      "source": [
        "##Get Remote MongoDB credentials"
      ],
      "metadata": {
        "id": "BIt0gQRDOOuF"
      }
    },
    {
      "cell_type": "code",
      "source": [
        "from google.colab import drive\n",
        "drive.mount('/content/drive')\n",
        "# -------------------------------------------\n",
        "# copy credentials file\n",
        "#!cp /content/drive/'My Drive'/Praxis/WebCredentials/clevercloudMongoDB.py credentials.py\n",
        "!cp /content/drive/'My Drive'/Praxis/WebCredentials/parashar21URI.py credentials.py\n",
        "# -------------------------------------------\n",
        "# MongoDB credentials are stored here\n",
        "#\n",
        "#from credentials import rhostName,ruserName,rpassWord,rdbName,rMongoURI\n",
        "#print(rdbName)\n",
        "from credentials import parashar21URI\n",
        "\n",
        "# -------------------------------------------\n",
        "#mongoURI = rMongoURI                                   # for remote Clever Cloud server\n",
        "mongoURI = parashar21URI                                   # for remote ATlas server\n",
        "\n",
        "client = MongoClient(mongoURI)\n",
        "client.list_database_names() # ['admin', 'local']\n",
        "# ----------------------------------------------\n",
        "# Show existing Collections"
      ],
      "metadata": {
        "colab": {
          "base_uri": "https://localhost:8080/"
        },
        "id": "OxYFIFEPfnFb",
        "outputId": "3d924f66-38de-4491-c217-30c0e4bb7b29"
      },
      "execution_count": 6,
      "outputs": [
        {
          "output_type": "stream",
          "name": "stdout",
          "text": [
            "Mounted at /content/drive\n"
          ]
        },
        {
          "output_type": "execute_result",
          "data": {
            "text/plain": [
              "['Parashar21', 'admin', 'local']"
            ]
          },
          "metadata": {},
          "execution_count": 6
        }
      ]
    },
    {
      "cell_type": "code",
      "source": [
        "#mongoURI = \"mongodb://localhost:27017/\"                               # for remote server\n",
        "#client = MongoClient(mongoURI)\n",
        "\n",
        "db = client.Parashar21\n",
        "pd.DataFrame(list(db.list_collections()))\n"
      ],
      "metadata": {
        "id": "vaC9hKYeATn6",
        "colab": {
          "base_uri": "https://localhost:8080/",
          "height": 112
        },
        "outputId": "2c45e8fa-8df4-4666-aa6b-2e07e2febbd1"
      },
      "execution_count": 7,
      "outputs": [
        {
          "output_type": "execute_result",
          "data": {
            "text/plain": [
              "          name        type options  \\\n",
              "0  khona21Test  collection      {}   \n",
              "1      khona21  collection      {}   \n",
              "\n",
              "                                                info  \\\n",
              "0  {'readOnly': False, 'uuid': b'&t\\xaa\\x86\\x17=B...   \n",
              "1  {'readOnly': False, 'uuid': b\"'\\x9e\\x81\\x8b\\xf...   \n",
              "\n",
              "                                       idIndex  \n",
              "0  {'v': 2, 'key': {'_id': 1}, 'name': '_id_'}  \n",
              "1  {'v': 2, 'key': {'_id': 1}, 'name': '_id_'}  "
            ],
            "text/html": [
              "\n",
              "  <div id=\"df-6caeef35-2365-4d9b-9d49-c133db689a0b\">\n",
              "    <div class=\"colab-df-container\">\n",
              "      <div>\n",
              "<style scoped>\n",
              "    .dataframe tbody tr th:only-of-type {\n",
              "        vertical-align: middle;\n",
              "    }\n",
              "\n",
              "    .dataframe tbody tr th {\n",
              "        vertical-align: top;\n",
              "    }\n",
              "\n",
              "    .dataframe thead th {\n",
              "        text-align: right;\n",
              "    }\n",
              "</style>\n",
              "<table border=\"1\" class=\"dataframe\">\n",
              "  <thead>\n",
              "    <tr style=\"text-align: right;\">\n",
              "      <th></th>\n",
              "      <th>name</th>\n",
              "      <th>type</th>\n",
              "      <th>options</th>\n",
              "      <th>info</th>\n",
              "      <th>idIndex</th>\n",
              "    </tr>\n",
              "  </thead>\n",
              "  <tbody>\n",
              "    <tr>\n",
              "      <th>0</th>\n",
              "      <td>khona21Test</td>\n",
              "      <td>collection</td>\n",
              "      <td>{}</td>\n",
              "      <td>{'readOnly': False, 'uuid': b'&amp;t\\xaa\\x86\\x17=B...</td>\n",
              "      <td>{'v': 2, 'key': {'_id': 1}, 'name': '_id_'}</td>\n",
              "    </tr>\n",
              "    <tr>\n",
              "      <th>1</th>\n",
              "      <td>khona21</td>\n",
              "      <td>collection</td>\n",
              "      <td>{}</td>\n",
              "      <td>{'readOnly': False, 'uuid': b\"'\\x9e\\x81\\x8b\\xf...</td>\n",
              "      <td>{'v': 2, 'key': {'_id': 1}, 'name': '_id_'}</td>\n",
              "    </tr>\n",
              "  </tbody>\n",
              "</table>\n",
              "</div>\n",
              "      <button class=\"colab-df-convert\" onclick=\"convertToInteractive('df-6caeef35-2365-4d9b-9d49-c133db689a0b')\"\n",
              "              title=\"Convert this dataframe to an interactive table.\"\n",
              "              style=\"display:none;\">\n",
              "        \n",
              "  <svg xmlns=\"http://www.w3.org/2000/svg\" height=\"24px\"viewBox=\"0 0 24 24\"\n",
              "       width=\"24px\">\n",
              "    <path d=\"M0 0h24v24H0V0z\" fill=\"none\"/>\n",
              "    <path d=\"M18.56 5.44l.94 2.06.94-2.06 2.06-.94-2.06-.94-.94-2.06-.94 2.06-2.06.94zm-11 1L8.5 8.5l.94-2.06 2.06-.94-2.06-.94L8.5 2.5l-.94 2.06-2.06.94zm10 10l.94 2.06.94-2.06 2.06-.94-2.06-.94-.94-2.06-.94 2.06-2.06.94z\"/><path d=\"M17.41 7.96l-1.37-1.37c-.4-.4-.92-.59-1.43-.59-.52 0-1.04.2-1.43.59L10.3 9.45l-7.72 7.72c-.78.78-.78 2.05 0 2.83L4 21.41c.39.39.9.59 1.41.59.51 0 1.02-.2 1.41-.59l7.78-7.78 2.81-2.81c.8-.78.8-2.07 0-2.86zM5.41 20L4 18.59l7.72-7.72 1.47 1.35L5.41 20z\"/>\n",
              "  </svg>\n",
              "      </button>\n",
              "      \n",
              "  <style>\n",
              "    .colab-df-container {\n",
              "      display:flex;\n",
              "      flex-wrap:wrap;\n",
              "      gap: 12px;\n",
              "    }\n",
              "\n",
              "    .colab-df-convert {\n",
              "      background-color: #E8F0FE;\n",
              "      border: none;\n",
              "      border-radius: 50%;\n",
              "      cursor: pointer;\n",
              "      display: none;\n",
              "      fill: #1967D2;\n",
              "      height: 32px;\n",
              "      padding: 0 0 0 0;\n",
              "      width: 32px;\n",
              "    }\n",
              "\n",
              "    .colab-df-convert:hover {\n",
              "      background-color: #E2EBFA;\n",
              "      box-shadow: 0px 1px 2px rgba(60, 64, 67, 0.3), 0px 1px 3px 1px rgba(60, 64, 67, 0.15);\n",
              "      fill: #174EA6;\n",
              "    }\n",
              "\n",
              "    [theme=dark] .colab-df-convert {\n",
              "      background-color: #3B4455;\n",
              "      fill: #D2E3FC;\n",
              "    }\n",
              "\n",
              "    [theme=dark] .colab-df-convert:hover {\n",
              "      background-color: #434B5C;\n",
              "      box-shadow: 0px 1px 3px 1px rgba(0, 0, 0, 0.15);\n",
              "      filter: drop-shadow(0px 1px 2px rgba(0, 0, 0, 0.3));\n",
              "      fill: #FFFFFF;\n",
              "    }\n",
              "  </style>\n",
              "\n",
              "      <script>\n",
              "        const buttonEl =\n",
              "          document.querySelector('#df-6caeef35-2365-4d9b-9d49-c133db689a0b button.colab-df-convert');\n",
              "        buttonEl.style.display =\n",
              "          google.colab.kernel.accessAllowed ? 'block' : 'none';\n",
              "\n",
              "        async function convertToInteractive(key) {\n",
              "          const element = document.querySelector('#df-6caeef35-2365-4d9b-9d49-c133db689a0b');\n",
              "          const dataTable =\n",
              "            await google.colab.kernel.invokeFunction('convertToInteractive',\n",
              "                                                     [key], {});\n",
              "          if (!dataTable) return;\n",
              "\n",
              "          const docLinkHtml = 'Like what you see? Visit the ' +\n",
              "            '<a target=\"_blank\" href=https://colab.research.google.com/notebooks/data_table.ipynb>data table notebook</a>'\n",
              "            + ' to learn more about interactive tables.';\n",
              "          element.innerHTML = '';\n",
              "          dataTable['output_type'] = 'display_data';\n",
              "          await google.colab.output.renderOutput(dataTable, element);\n",
              "          const docLink = document.createElement('div');\n",
              "          docLink.innerHTML = docLinkHtml;\n",
              "          element.appendChild(docLink);\n",
              "        }\n",
              "      </script>\n",
              "    </div>\n",
              "  </div>\n",
              "  "
            ]
          },
          "metadata": {},
          "execution_count": 7
        }
      ]
    },
    {
      "cell_type": "code",
      "source": [
        "kollection = db.khona21Test                   # Set the collection to work with\n",
        "#kollection = db.khona21                   # Set the collection to work with\n",
        "totalCharts = kollection.count_documents({})\n",
        "print(totalCharts)"
      ],
      "metadata": {
        "colab": {
          "base_uri": "https://localhost:8080/"
        },
        "id": "dftS2xzOgpU1",
        "outputId": "d7f03f59-635e-4d14-c9ef-73a6db232995"
      },
      "execution_count": 8,
      "outputs": [
        {
          "output_type": "stream",
          "name": "stdout",
          "text": [
            "5\n"
          ]
        }
      ]
    },
    {
      "cell_type": "markdown",
      "source": [
        "## Required ONLY for standalone database"
      ],
      "metadata": {
        "id": "937sm5u0g4r_"
      }
    },
    {
      "cell_type": "markdown",
      "source": [
        "###Download Horoscope data in JSON and load into MongoDB"
      ],
      "metadata": {
        "id": "3lpsiTbVOW8I"
      }
    },
    {
      "cell_type": "code",
      "source": [
        "# Retrieve JSON file from Github and load in local Mongo\n",
        "!wget -O peopleData.json -q https://github.com/prithwis/parashar21/raw/main/data/peopleDataTest5.json\n",
        "\n",
        "#!gdown -O peopleData.json https://drive.google.com/uc?id=1_VBHE7Hyue8t3hdBdLU6lgpnaWhhRVd4  # 39662 documents OLD file, NOT TO BE USED\n",
        "#!gdown  -O peopleData.json https://drive.google.com/uc?id=1z4JFd-zCaS71dICKIYx46kQGbXPAHq5C  # 39662 documents\n",
        "!mongoimport --db parashar21Local --collection khona21Test --drop --file peopleData.json"
      ],
      "metadata": {
        "colab": {
          "base_uri": "https://localhost:8080/"
        },
        "id": "upkZsp63BMyU",
        "outputId": "b05c4c2c-be6f-45b6-af93-ca62c6956a0e"
      },
      "execution_count": null,
      "outputs": [
        {
          "output_type": "stream",
          "name": "stdout",
          "text": [
            "2022-06-19T00:43:05.185+0000\tconnected to: localhost\n",
            "2022-06-19T00:43:05.185+0000\tdropping: parashar21Local.khona21Test\n",
            "2022-06-19T00:43:05.222+0000\timported 5 documents\n"
          ]
        }
      ]
    },
    {
      "cell_type": "code",
      "source": [
        "kollection = db.khona21Test                   # Set the collection to work with\n",
        "#kollection = db.khona21                   # Set the collection to work with\n",
        "totalCharts = kollection.count_documents({})\n",
        "dbSize = db.command( {\"dbStats\": 1, \"scale\": 1024 } )['dataSize']\n",
        "print(totalCharts, ' documents,',round(dbSize,2), \" KB data\")"
      ],
      "metadata": {
        "id": "nEB8OKSS0VKX",
        "outputId": "91b398a9-f619-4bc8-e696-ae2f15b7393b",
        "colab": {
          "base_uri": "https://localhost:8080/"
        }
      },
      "execution_count": null,
      "outputs": [
        {
          "output_type": "stream",
          "name": "stdout",
          "text": [
            "5  documents, 17.93  KB data\n"
          ]
        }
      ]
    },
    {
      "cell_type": "markdown",
      "source": [
        "#Report Generation Function\n",
        "Please note that the generated report MS Office doc format **will be stored in the Colab VM drive** and needs to be downloaded to local machine for viewing"
      ],
      "metadata": {
        "id": "LMA40MOq1jse"
      }
    },
    {
      "cell_type": "code",
      "source": [
        "def genSingleChartReport(ChartStyle):\n",
        "      \n",
        "    chartData = chart.iloc[0]\n",
        "    RepID = chart.iloc[0]['pid']['name']\n",
        "    now = datetime.now(pytz.timezone('Asia/Kolkata'))\n",
        "    fileName = 'p21_'+RepID+'_'+ChartStyle+'_'+now.strftime(\"%H%M%S\")+'.doc'\n",
        "\n",
        "    #print(chartData)\n",
        "    # ---------------------------------------------------------\n",
        "    #p21utilsR.R01_CreateReportDoc(curQueryStr, printStatus)   # Creates MS Word Doc called p21.document\n",
        "    p21utilsR.R01A_CreateReportDoc(RepID)                           # Creates MS Word Doc called p21.document\n",
        "    # ----------------------------------------------------------\n",
        "    \n",
        "    p21utilsR.R511_parseChartData(chartData)              # Break up database data into useful pieces\n",
        "                                            # Creates two primary dicts, GLon, GRet\n",
        "    for ctype in ['Rashi','Navamsa']:\n",
        "        p21.ChartType = ctype\n",
        "        p21utils.R11_LocateGrahaInRashi()   # Converts Graha Long to Rashi positions\n",
        "                                            # Rashi Num as well as Rashi name\n",
        "        if ChartStyle == 'Bengal':\n",
        "            p21utilsR.R12B_drawChart_Bengal()    # Draw Chart in Bengal style\n",
        "        if ChartStyle == 'South':\n",
        "            p21utilsR.R12B_drawChart_South()    # Draw Chart in South style\n",
        "        if ChartStyle == 'North':\n",
        "            p21utilsR.R12B_drawChart_North()    # Draw Chart in North style\n",
        "        \n",
        "    p21utilsR.R512_FormatPage()\n",
        "    \n",
        "    # ------------------------------------\n",
        "    p21.document.save(fileName)\n",
        "    \n"
      ],
      "metadata": {
        "id": "nf7XU_5nZ1rq"
      },
      "execution_count": 27,
      "outputs": []
    },
    {
      "cell_type": "markdown",
      "source": [
        "#Retrieve Charts \n",
        "Based on selective queries <br>\n",
        "All output messages suppressed <br>\n",
        "Reports will be available as DOC files in the VM drive <br>\n",
        "Please specify style of report, 'Bengal', 'North' or 'South' while calling the report generation routine <br>\n",
        "genSampleReport('Bengal',Sample = False), specifying Sample='False' will stop sampling and print reports for all charts retrieved. Otherwise, by default, only 5 charts, chosen at random will be printed in the DOC file\n"
      ],
      "metadata": {
        "id": "nej02gxiwUcV"
      }
    },
    {
      "cell_type": "code",
      "source": [
        "c = kollection.find().limit(5)\n",
        "for crnt in c:\n",
        "    print(crnt)"
      ],
      "metadata": {
        "id": "lKa0k4g29ijH",
        "outputId": "1a6fa48c-7d39-405e-a99e-ae8ff183155c",
        "colab": {
          "base_uri": "https://localhost:8080/"
        }
      },
      "execution_count": 10,
      "outputs": [
        {
          "output_type": "stream",
          "name": "stdout",
          "text": [
            "{'_id': ObjectId('62ae6e9eec17f90290ebe31a'), 'pid': {'tags': ['Author', 'Homemaker', 'PostGraduate'], 'ck': 'F1965121910:265.522.5788.37', 'chartType': 'Rashi', 'name': 'person2', 'cID': '6VIXS23XHOOM'}, 'GLon': {'La': 310.415, 'Su': 243.701, 'Mo': 201.001, 'Ma': 273.467, 'Me': 222.269, 'Ju': 62.748, 'Ve': 284.966, 'Sa': 318.17, 'Ra': 41.248, 'Ke': 221.248}, 'GRet': {'La': False, 'Su': False, 'Mo': False, 'Ma': False, 'Me': False, 'Ju': True, 'Ve': False, 'Sa': False, 'Ra': False, 'Ke': False}, 'BhavN': [' ', 11, 12, 1, 2, 3, 4, 5, 6, 7, 8, 9, 10], 'BhavA': [' ', 'Kumbh', 'Meen', 'Mesh', 'Vrish', 'Mithun', 'Karkat', 'Simha', 'Kanya', 'Tula', 'Vrishchik', 'Dhanu', 'Makar'], 'Lord': [' ', 'Sa', 'Ju', 'Ma', 'Ve', 'Me', 'Mo', 'Su', 'Me', 'Ve', 'Ma', 'Ju', 'Sa'], 'LordRashiN': [' ', 11, 3, 10, 10, 8, 7, 9, 8, 10, 10, 3, 11], 'LordRashiA': [' ', 'Kumbh', 'Mithun', 'Makar', 'Makar', 'Vrishchik', 'Tula', 'Dhanu', 'Vrishchik', 'Makar', 'Makar', 'Mithun', 'Kumbh'], 'GrahaLordBhav': {'Su': [7], 'Mo': [6], 'Ma': [3, 10], 'Me': [5, 8], 'Ju': [2, 11], 'Ve': [4, 9], 'Sa': [1, 12]}, 'GRashiN': {'La': 11, 'Su': 9, 'Mo': 7, 'Ma': 10, 'Me': 8, 'Ju': 3, 'Ve': 10, 'Sa': 11, 'Ra': 2, 'Ke': 8}, 'GrahaBhava': {'La': 1, 'Su': 11, 'Mo': 9, 'Ma': 12, 'Me': 10, 'Ju': 5, 'Ve': 12, 'Sa': 1, 'Ra': 4, 'Ke': 10}, 'LordBhav': [' ', 1, 5, 12, 12, 10, 9, 11, 10, 12, 12, 5, 1], 'exaltG': {'Su': False, 'Mo': False, 'Ma': True, 'Me': False, 'Ju': False, 'Ve': False, 'Sa': False}, 'debilG': {'Su': False, 'Mo': False, 'Ma': False, 'Me': False, 'Ju': False, 'Ve': False, 'Sa': False}, 'ownHouseG': {'Su': False, 'Mo': False, 'Ma': False, 'Me': False, 'Ju': False, 'Ve': False, 'Sa': True}, 'inFriendG': {'Su': True, 'Mo': False, 'Ma': False, 'Me': False, 'Ju': False, 'Ve': False, 'Sa': True}, 'inEnemyG': {'Su': False, 'Mo': False, 'Ma': False, 'Me': False, 'Ju': True, 'Ve': False, 'Sa': False}, 'exaltL': [False, False, False, True, False, False, False, False, False, False, True, False, False], 'debilL': [False, False, False, False, False, False, False, False, False, False, False, False, False], 'ownHouseL': [False, True, False, False, False, False, False, False, False, False, False, False, True], 'inFriendL': [False, True, False, False, False, False, False, True, False, False, False, False, True], 'inEnemyL': [False, False, True, False, False, False, False, False, False, False, False, True, False], 'GAspects2': {'Su': ['Ju'], 'Me': ['Ra'], 'Ju': ['Sa', 'Su', 'Mo', 'La'], 'Sa': ['Me', 'Ke'], 'Ra': ['Me']}, 'GAspectedBy2': {'Ju': ['Su'], 'Ra': ['Me'], 'La': ['Ju'], 'Su': ['Ju'], 'Mo': ['Ju'], 'Sa': ['Ju'], 'Me': ['Sa', 'Ra'], 'Ke': ['Sa']}, 'BAspectedBy2': {'7': ['Sa', 'Ma', 'La'], '5': ['Su'], '3': ['Sa', 'Ma', 'Mo'], '6': ['Ve', 'Ma'], '4': ['Me', 'Ke'], '1': ['Ju'], '9': ['Ju'], '11': ['Ju'], '10': ['Sa', 'Ra']}, 'BAspectedByBL2': {'1': ['11', '2'], '3': ['1', '12', '3', '10', '6'], '4': ['8', '5'], '5': ['7'], '6': ['9', '4', '3', '10'], '7': ['3', '1', '10', '12'], '9': ['11', '2'], '10': ['1', '12'], '11': ['11', '2']}, 'GConjunctsG2': {'Ma': ['Ve'], 'Ve': ['Ma'], 'Me': ['Ke'], 'Ke': ['Me']}, 'BLConjunctsG2': {'3': ['Ve'], '4': ['Ma'], '5': ['Ke'], '8': ['Ke'], '9': ['Ma'], '10': ['Ve']}, 'BLConjunctsBL2': {'3': ['9', '4'], '4': ['3', '10'], '9': ['3', '10'], '10': ['9', '4']}}\n",
            "{'_id': ObjectId('62ae6e9eec17f90290ebe31b'), 'pid': {'tags': ['Engineer', 'Teacher', 'PostGraduate'], 'ck': 'M1961101523:425.522.5788.37', 'chartType': 'Rashi', 'name': 'person1', 'cID': 'T4C6AUTTG58O'}, 'GLon': {'La': 98.204, 'Su': 178.826, 'Mo': 250.52, 'Ma': 196.183, 'Me': 193.17, 'Ju': 274.781, 'Ve': 153.753, 'Sa': 270.179, 'Ra': 122.089, 'Ke': 302.089}, 'GRet': {'La': False, 'Su': False, 'Mo': False, 'Ma': False, 'Me': True, 'Ju': False, 'Ve': False, 'Sa': False, 'Ra': False, 'Ke': False}, 'BhavN': [' ', 4, 5, 6, 7, 8, 9, 10, 11, 12, 1, 2, 3], 'BhavA': [' ', 'Karkat', 'Simha', 'Kanya', 'Tula', 'Vrishchik', 'Dhanu', 'Makar', 'Kumbh', 'Meen', 'Mesh', 'Vrish', 'Mithun'], 'Lord': [' ', 'Mo', 'Su', 'Me', 'Ve', 'Ma', 'Ju', 'Sa', 'Sa', 'Ju', 'Ma', 'Ve', 'Me'], 'LordRashiN': [' ', 9, 6, 7, 6, 7, 10, 10, 10, 10, 7, 6, 7], 'LordRashiA': [' ', 'Dhanu', 'Kanya', 'Tula', 'Kanya', 'Tula', 'Makar', 'Makar', 'Makar', 'Makar', 'Tula', 'Kanya', 'Tula'], 'GrahaLordBhav': {'Su': [2], 'Mo': [1], 'Ma': [5, 10], 'Me': [3, 12], 'Ju': [6, 9], 'Ve': [4, 11], 'Sa': [7, 8]}, 'GRashiN': {'La': 4, 'Su': 6, 'Mo': 9, 'Ma': 7, 'Me': 7, 'Ju': 10, 'Ve': 6, 'Sa': 10, 'Ra': 5, 'Ke': 11}, 'GrahaBhava': {'La': 1, 'Su': 3, 'Mo': 6, 'Ma': 4, 'Me': 4, 'Ju': 7, 'Ve': 3, 'Sa': 7, 'Ra': 2, 'Ke': 8}, 'LordBhav': [' ', 6, 3, 4, 3, 4, 7, 7, 7, 7, 4, 3, 4], 'exaltG': {'Su': False, 'Mo': False, 'Ma': False, 'Me': False, 'Ju': False, 'Ve': False, 'Sa': False}, 'debilG': {'Su': False, 'Mo': False, 'Ma': False, 'Me': False, 'Ju': True, 'Ve': True, 'Sa': False}, 'ownHouseG': {'Su': False, 'Mo': False, 'Ma': False, 'Me': False, 'Ju': False, 'Ve': False, 'Sa': True}, 'inFriendG': {'Su': False, 'Mo': False, 'Ma': False, 'Me': True, 'Ju': False, 'Ve': True, 'Sa': True}, 'inEnemyG': {'Su': False, 'Mo': False, 'Ma': False, 'Me': False, 'Ju': False, 'Ve': False, 'Sa': False}, 'exaltL': [False, False, False, False, False, False, False, False, False, False, False, False, False], 'debilL': [False, False, False, False, True, False, True, False, False, True, False, True, False], 'ownHouseL': [False, False, False, False, False, False, False, True, True, False, False, False, False], 'inFriendL': [False, False, False, True, True, False, False, True, True, False, False, True, True], 'inEnemyL': [False, False, False, False, False, False, False, False, False, False, False, False, False], 'GAspects2': {'La': ['Sa', 'Ju'], 'Ma': ['Sa', 'Ju'], 'Ju': ['Su', 'Ve', 'La'], 'Sa': ['Me', 'Ma', 'La']}, 'GAspectedBy2': {'Ju': ['Ma', 'La'], 'Sa': ['Ma', 'La'], 'La': ['Sa', 'Ju'], 'Su': ['Ju'], 'Ve': ['Ju'], 'Ma': ['Sa'], 'Me': ['Sa']}, 'BAspectedBy2': {'7': ['Ma', 'La'], '9': ['Sa', 'Su', 'Ve'], '12': ['Mo'], '10': ['Me', 'Ma'], '11': ['Ma', 'Ju'], '1': ['Sa', 'Ju'], '3': ['Ju'], '4': ['Sa'], '8': ['Ra'], '2': ['Ke']}, 'BAspectedByBL2': {'1': ['7', '9', '8', '6'], '3': ['9', '6'], '4': ['7', '8'], '7': ['5', '10'], '9': ['7', '4', '8', '11', '2'], '10': ['3', '5', '10', '12'], '11': ['10', '9', '5', '6'], '12': ['1']}, 'GConjunctsG2': {'Su': ['Ve'], 'Ve': ['Su'], 'Ma': ['Me'], 'Me': ['Ma'], 'Ju': ['Sa'], 'Sa': ['Ju']}, 'BLConjunctsG2': {'2': ['Ve'], '3': ['Ma'], '4': ['Su'], '5': ['Me'], '6': ['Sa'], '7': ['Ju'], '8': ['Ju'], '9': ['Sa'], '10': ['Me'], '11': ['Su'], '12': ['Ma']}, 'BLConjunctsBL2': {'2': ['4', '11'], '3': ['5', '10'], '4': ['2'], '5': ['3', '12'], '6': ['7', '8'], '7': ['9', '6'], '8': ['9', '6'], '9': ['7', '8'], '10': ['3', '12'], '11': ['2'], '12': ['5', '10']}}\n",
            "{'_id': ObjectId('62ae6e9eec17f90290ebe31c'), 'pid': {'tags': ['Engineer', 'Teacher', 'PostGraduate'], 'ck': 'M199010923:095.522.5788.37', 'chartType': 'Rashi', 'name': 'person3', 'cID': '21RXO5VDC7VQ'}, 'GLon': {'La': 85.351, 'Su': 172.44, 'Mo': 63.984, 'Ma': 49.966, 'Me': 163.275, 'Ju': 105.898, 'Ve': 166.538, 'Sa': 265.202, 'Ra': 280.65, 'Ke': 100.65}, 'GRet': {'La': False, 'Su': False, 'Mo': False, 'Ma': False, 'Me': False, 'Ju': False, 'Ve': False, 'Sa': False, 'Ra': False, 'Ke': False}, 'BhavN': [' ', 3, 4, 5, 6, 7, 8, 9, 10, 11, 12, 1, 2], 'BhavA': [' ', 'Mithun', 'Karkat', 'Simha', 'Kanya', 'Tula', 'Vrishchik', 'Dhanu', 'Makar', 'Kumbh', 'Meen', 'Mesh', 'Vrish'], 'Lord': [' ', 'Me', 'Mo', 'Su', 'Me', 'Ve', 'Ma', 'Ju', 'Sa', 'Sa', 'Ju', 'Ma', 'Ve'], 'LordRashiN': [' ', 6, 3, 6, 6, 6, 2, 4, 9, 9, 4, 2, 6], 'LordRashiA': [' ', 'Kanya', 'Mithun', 'Kanya', 'Kanya', 'Kanya', 'Vrish', 'Karkat', 'Dhanu', 'Dhanu', 'Karkat', 'Vrish', 'Kanya'], 'GrahaLordBhav': {'Su': [3], 'Mo': [2], 'Ma': [6, 11], 'Me': [1, 4], 'Ju': [7, 10], 'Ve': [5, 12], 'Sa': [8, 9]}, 'GRashiN': {'La': 3, 'Su': 6, 'Mo': 3, 'Ma': 2, 'Me': 6, 'Ju': 4, 'Ve': 6, 'Sa': 9, 'Ra': 10, 'Ke': 4}, 'GrahaBhava': {'La': 1, 'Su': 4, 'Mo': 1, 'Ma': 12, 'Me': 4, 'Ju': 2, 'Ve': 4, 'Sa': 7, 'Ra': 8, 'Ke': 2}, 'LordBhav': [' ', 4, 1, 4, 4, 4, 12, 2, 7, 7, 2, 12, 4], 'exaltG': {'Su': False, 'Mo': False, 'Ma': False, 'Me': True, 'Ju': True, 'Ve': False, 'Sa': False}, 'debilG': {'Su': False, 'Mo': False, 'Ma': False, 'Me': False, 'Ju': False, 'Ve': True, 'Sa': False}, 'ownHouseG': {'Su': False, 'Mo': False, 'Ma': False, 'Me': True, 'Ju': False, 'Ve': False, 'Sa': False}, 'inFriendG': {'Su': False, 'Mo': True, 'Ma': False, 'Me': False, 'Ju': True, 'Ve': True, 'Sa': False}, 'inEnemyG': {'Su': False, 'Mo': False, 'Ma': False, 'Me': False, 'Ju': False, 'Ve': False, 'Sa': False}, 'exaltL': [False, True, False, False, True, False, False, True, False, False, True, False, False], 'debilL': [False, False, False, False, False, True, False, False, False, False, False, False, True], 'ownHouseL': [False, True, False, False, True, False, False, False, False, False, False, False, False], 'inFriendL': [False, False, True, False, False, True, False, True, False, False, True, False, True], 'inEnemyL': [False, False, False, False, False, False, False, False, False, False, False, False, False], 'GAspects2': {'La': ['Sa'], 'Mo': ['Sa'], 'Ma': ['Sa'], 'Ju': ['Ra'], 'Sa': ['Ve', 'Me', 'La', 'Su', 'Mo'], 'Ra': ['Ju']}, 'GAspectedBy2': {'Sa': ['Ma', 'Mo', 'La'], 'Ra': ['Ju'], 'La': ['Sa'], 'Su': ['Sa'], 'Mo': ['Sa'], 'Me': ['Sa'], 'Ve': ['Sa'], 'Ju': ['Ra']}, 'BAspectedBy2': {'7': ['Ma', 'Mo', 'La'], '10': ['Me', 'Su', 'Ve', 'Ju'], '3': ['Ma'], '6': ['Ma', 'Ju'], '8': ['Ke', 'Ju'], '1': ['Sa'], '4': ['Sa'], '9': ['Sa'], '2': ['Ra']}, 'BAspectedByBL2': {'1': ['9', '8'], '3': ['11', '6'], '4': ['9', '8'], '6': ['7', '11', '10', '6'], '7': ['11', '6', '2'], '8': ['7', '10'], '9': ['9', '8'], '10': ['7', '4', '5', '1', '12', '3', '10']}, 'GConjunctsG2': {'Su': ['Me', 'Ve'], 'Me': ['Su', 'Ve'], 'Ve': ['Me', 'Su'], 'Ju': ['Ke'], 'Ke': ['Ju']}, 'BLConjunctsG2': {'1': ['Su', 'Ve'], '3': ['Me', 'Ve'], '4': ['Su', 'Ve'], '5': ['Me', 'Su'], '7': ['Ke'], '10': ['Ke'], '12': ['Me', 'Su']}, 'BLConjunctsBL2': {'1': ['3', '5', '12'], '3': ['5', '4', '1', '12'], '4': ['3', '5', '12'], '5': ['4', '3', '1'], '12': ['4', '3', '1']}}\n",
            "{'_id': ObjectId('62ae6e9eec17f90290ebe31d'), 'pid': {'tags': ['Biologist', 'Scientist', 'PostGraduate'], 'ck': 'F19909120:525.522.8788.37', 'chartType': 'Rashi', 'name': 'person4', 'cID': 'WMRUM7H923IZ'}, 'GLon': {'La': 84.138, 'Su': 145.068, 'Mo': 54.233, 'Ma': 41.525, 'Me': 138.242, 'Ju': 101.216, 'Ve': 131.788, 'Sa': 265.084, 'Ra': 282.763, 'Ke': 102.763}, 'GRet': {'La': False, 'Su': False, 'Mo': False, 'Ma': False, 'Me': True, 'Ju': False, 'Ve': False, 'Sa': True, 'Ra': False, 'Ke': False}, 'BhavN': [' ', 3, 4, 5, 6, 7, 8, 9, 10, 11, 12, 1, 2], 'BhavA': [' ', 'Mithun', 'Karkat', 'Simha', 'Kanya', 'Tula', 'Vrishchik', 'Dhanu', 'Makar', 'Kumbh', 'Meen', 'Mesh', 'Vrish'], 'Lord': [' ', 'Me', 'Mo', 'Su', 'Me', 'Ve', 'Ma', 'Ju', 'Sa', 'Sa', 'Ju', 'Ma', 'Ve'], 'LordRashiN': [' ', 5, 2, 5, 5, 5, 2, 4, 9, 9, 4, 2, 5], 'LordRashiA': [' ', 'Simha', 'Vrish', 'Simha', 'Simha', 'Simha', 'Vrish', 'Karkat', 'Dhanu', 'Dhanu', 'Karkat', 'Vrish', 'Simha'], 'GrahaLordBhav': {'Su': [3], 'Mo': [2], 'Ma': [6, 11], 'Me': [1, 4], 'Ju': [7, 10], 'Ve': [5, 12], 'Sa': [8, 9]}, 'GRashiN': {'La': 3, 'Su': 5, 'Mo': 2, 'Ma': 2, 'Me': 5, 'Ju': 4, 'Ve': 5, 'Sa': 9, 'Ra': 10, 'Ke': 4}, 'GrahaBhava': {'La': 1, 'Su': 3, 'Mo': 12, 'Ma': 12, 'Me': 3, 'Ju': 2, 'Ve': 3, 'Sa': 7, 'Ra': 8, 'Ke': 2}, 'LordBhav': [' ', 3, 12, 3, 3, 3, 12, 2, 7, 7, 2, 12, 3], 'exaltG': {'Su': False, 'Mo': True, 'Ma': False, 'Me': False, 'Ju': True, 'Ve': False, 'Sa': False}, 'debilG': {'Su': False, 'Mo': False, 'Ma': False, 'Me': False, 'Ju': False, 'Ve': False, 'Sa': False}, 'ownHouseG': {'Su': True, 'Mo': False, 'Ma': False, 'Me': False, 'Ju': False, 'Ve': False, 'Sa': False}, 'inFriendG': {'Su': False, 'Mo': False, 'Ma': False, 'Me': True, 'Ju': True, 'Ve': False, 'Sa': False}, 'inEnemyG': {'Su': False, 'Mo': False, 'Ma': False, 'Me': False, 'Ju': False, 'Ve': True, 'Sa': False}, 'exaltL': [False, False, True, False, False, False, False, True, False, False, True, False, False], 'debilL': [False, False, False, False, False, False, False, False, False, False, False, False, False], 'ownHouseL': [False, False, False, True, False, False, False, False, False, False, False, False, False], 'inFriendL': [False, True, False, False, True, False, False, True, False, False, True, False, False], 'inEnemyL': [False, False, False, False, False, True, False, False, False, False, False, False, True], 'GAspects2': {'La': ['Sa'], 'Ma': ['Sa', 'Me', 'Su', 'Ve'], 'Ju': ['Ra'], 'Sa': ['La'], 'Ra': ['Ju']}, 'GAspectedBy2': {'Sa': ['Ma', 'La'], 'Su': ['Ma'], 'Me': ['Ma'], 'Ve': ['Ma'], 'Ra': ['Ju'], 'La': ['Sa'], 'Ju': ['Ra']}, 'BAspectedBy2': {'7': ['Ma', 'La'], '9': ['Sa', 'Me', 'Su', 'Ve'], '6': ['Ma', 'Mo', 'Ju'], '3': ['Ma'], '8': ['Ke', 'Ju'], '10': ['Ju'], '1': ['Sa'], '4': ['Sa'], '2': ['Ra']}, 'BAspectedByBL2': {'1': ['9', '8'], '3': ['11', '6'], '4': ['9', '8'], '6': ['7', '11', '2', '10', '6'], '7': ['11', '6'], '8': ['7', '10'], '9': ['4', '5', '1', '8', '12', '9', '3'], '10': ['7', '10']}, 'GConjunctsG2': {'Su': ['Me', 'Ve'], 'Me': ['Su', 'Ve'], 'Ve': ['Me', 'Su'], 'Mo': ['Ma'], 'Ma': ['Mo'], 'Ju': ['Ke'], 'Ke': ['Ju']}, 'BLConjunctsG2': {'1': ['Su', 'Ve'], '2': ['Ma'], '3': ['Me', 'Ve'], '4': ['Su', 'Ve'], '5': ['Me', 'Su'], '6': ['Mo'], '7': ['Ke'], '10': ['Ke'], '11': ['Mo'], '12': ['Me', 'Su']}, 'BLConjunctsBL2': {'1': ['3', '5', '12'], '2': ['11', '6'], '3': ['5', '4', '1', '12'], '4': ['3', '5', '12'], '5': ['4', '3', '1'], '6': ['2'], '11': ['2'], '12': ['4', '3', '1']}}\n",
            "{'_id': ObjectId('62ae6e9eec17f90290ebe31e'), 'pid': {'tags': ['Politician', 'Administrator', 'nil'], 'ck': 'M19509179:345.523.4872.36', 'chartType': 'Rashi', 'name': 'NDModi', 'cID': 'MM3NRVKU17P3'}, 'GLon': {'La': 191.897, 'Su': 150.533, 'Mo': 217.939, 'Ma': 210.889, 'Me': 150.848, 'Ju': 306.602, 'Ve': 135.613, 'Sa': 149.644, 'Ra': 335.211, 'Ke': 155.211}, 'GRet': {'La': False, 'Su': False, 'Mo': False, 'Ma': False, 'Me': True, 'Ju': True, 'Ve': False, 'Sa': False, 'Ra': False, 'Ke': False}, 'BhavN': [' ', 7, 8, 9, 10, 11, 12, 1, 2, 3, 4, 5, 6], 'BhavA': [' ', 'Tula', 'Vrishchik', 'Dhanu', 'Makar', 'Kumbh', 'Meen', 'Mesh', 'Vrish', 'Mithun', 'Karkat', 'Simha', 'Kanya'], 'Lord': [' ', 'Ve', 'Ma', 'Ju', 'Sa', 'Sa', 'Ju', 'Ma', 'Ve', 'Me', 'Mo', 'Su', 'Me'], 'LordRashiN': [' ', 5, 8, 11, 5, 5, 11, 8, 5, 6, 8, 6, 6], 'LordRashiA': [' ', 'Simha', 'Vrishchik', 'Kumbh', 'Simha', 'Simha', 'Kumbh', 'Vrishchik', 'Simha', 'Kanya', 'Vrishchik', 'Kanya', 'Kanya'], 'GrahaLordBhav': {'Su': [11], 'Mo': [10], 'Ma': [2, 7], 'Me': [9, 12], 'Ju': [3, 6], 'Ve': [1, 8], 'Sa': [4, 5]}, 'GRashiN': {'La': 7, 'Su': 6, 'Mo': 8, 'Ma': 8, 'Me': 6, 'Ju': 11, 'Ve': 5, 'Sa': 5, 'Ra': 12, 'Ke': 6}, 'GrahaBhava': {'La': 1, 'Su': 12, 'Mo': 2, 'Ma': 2, 'Me': 12, 'Ju': 5, 'Ve': 11, 'Sa': 11, 'Ra': 6, 'Ke': 12}, 'LordBhav': [' ', 11, 2, 5, 11, 11, 5, 2, 11, 12, 2, 12, 12], 'exaltG': {'Su': False, 'Mo': False, 'Ma': False, 'Me': True, 'Ju': False, 'Ve': False, 'Sa': False}, 'debilG': {'Su': False, 'Mo': True, 'Ma': False, 'Me': False, 'Ju': False, 'Ve': False, 'Sa': False}, 'ownHouseG': {'Su': False, 'Mo': False, 'Ma': True, 'Me': True, 'Ju': False, 'Ve': False, 'Sa': False}, 'inFriendG': {'Su': False, 'Mo': False, 'Ma': False, 'Me': False, 'Ju': False, 'Ve': False, 'Sa': False}, 'inEnemyG': {'Su': False, 'Mo': False, 'Ma': False, 'Me': False, 'Ju': False, 'Ve': True, 'Sa': True}, 'exaltL': [False, False, False, False, False, False, False, False, False, True, False, False, True], 'debilL': [False, False, False, False, False, False, False, False, False, False, True, False, False], 'ownHouseL': [False, False, True, False, False, False, False, True, False, True, False, False, True], 'inFriendL': [False, False, False, False, False, False, False, False, False, False, False, False, False], 'inEnemyL': [False, True, False, False, True, True, False, False, True, False, False, False, False], 'GAspects2': {'Su': ['Ra'], 'Ma': ['Ju'], 'Me': ['Ra'], 'Ju': ['Sa', 'Ve', 'La'], 'Ve': ['Ju'], 'Sa': ['La', 'Ju'], 'Ra': ['Me', 'Su']}, 'GAspectedBy2': {'Ra': ['Me', 'Su'], 'Ju': ['Sa', 'Ve', 'Ma'], 'La': ['Sa', 'Ju'], 'Ve': ['Ju'], 'Sa': ['Ju'], 'Su': ['Ra'], 'Me': ['Ra']}, 'BAspectedBy2': {'7': ['La'], '6': ['Me', 'Su', 'Ke'], '8': ['Sa', 'Ma', 'Mo'], '5': ['Sa', 'Ve', 'Ma'], '9': ['Ma', 'Ju'], '1': ['Sa', 'Ju'], '11': ['Ju'], '12': ['Ra']}, 'BAspectedByBL2': {'1': ['4', '3', '5', '6'], '5': ['7', '4', '5', '1', '8', '2'], '6': ['9', '11', '12'], '8': ['7', '4', '5', '2', '10'], '9': ['7', '3', '6', '2'], '11': ['3', '6']}, 'GConjunctsG2': {'Su': ['Me', 'Ke'], 'Me': ['Su', 'Ke'], 'Ke': ['Me', 'Su'], 'Mo': ['Ma'], 'Ma': ['Mo'], 'Ve': ['Sa'], 'Sa': ['Ve']}, 'BLConjunctsG2': {'1': ['Sa'], '2': ['Mo'], '4': ['Ve'], '5': ['Ve'], '7': ['Mo'], '8': ['Sa'], '9': ['Su', 'Ke'], '10': ['Ma'], '11': ['Me', 'Ke'], '12': ['Su', 'Ke']}, 'BLConjunctsBL2': {'1': ['4', '5'], '2': ['10'], '4': ['8', '1'], '5': ['8', '1'], '7': ['10'], '8': ['4', '5'], '9': ['11'], '10': ['7', '2'], '11': ['9', '12'], '12': ['11']}}\n"
          ]
        }
      ]
    },
    {
      "cell_type": "code",
      "source": [
        "#selCond = {'pid.name': {'$eq': 'person1'}}               # Single Person\n",
        "selCond = {}                                              # All Charts\n",
        "selCols = {'_id':0,'pid.name':1, 'pid.cID':1}\n",
        "#c = kollection.find(selCond,p21.selCols).limit(5)\n",
        "c = kollection.find(selCond,selCols).limit(5)\n",
        "for crnt in c:\n",
        "    print(crnt)"
      ],
      "metadata": {
        "colab": {
          "base_uri": "https://localhost:8080/"
        },
        "id": "TOPzCBrmiT-m",
        "outputId": "c5ec5d57-060c-4149-b017-00bf4fe4e92d"
      },
      "execution_count": 11,
      "outputs": [
        {
          "output_type": "stream",
          "name": "stdout",
          "text": [
            "{'pid': {'name': 'person2', 'cID': '6VIXS23XHOOM'}}\n",
            "{'pid': {'name': 'person1', 'cID': 'T4C6AUTTG58O'}}\n",
            "{'pid': {'name': 'person3', 'cID': '21RXO5VDC7VQ'}}\n",
            "{'pid': {'name': 'person4', 'cID': 'WMRUM7H923IZ'}}\n",
            "{'pid': {'name': 'NDModi', 'cID': 'MM3NRVKU17P3'}}\n"
          ]
        }
      ]
    },
    {
      "cell_type": "code",
      "source": [
        "#selCond = {'pid.name': {'$eq': 'person1'}}               # Single Person\n",
        "selCond = {}                                              # All Charts\n",
        "selCols = {'_id':0,'pid.name':1, 'pid.cID':1}\n",
        "#c = kollection.find(selCond,p21.selCols).limit(5)\n",
        "chartSet = pd.DataFrame(list(kollection.find(selCond,selCols)))\n",
        "chartSet"
      ],
      "metadata": {
        "colab": {
          "base_uri": "https://localhost:8080/",
          "height": 206
        },
        "id": "tnLYZQqBkj4t",
        "outputId": "5b8c1682-920f-4ecd-bb5b-6c7d4cee56b1"
      },
      "execution_count": 12,
      "outputs": [
        {
          "output_type": "execute_result",
          "data": {
            "text/plain": [
              "                                          pid\n",
              "0  {'name': 'person2', 'cID': '6VIXS23XHOOM'}\n",
              "1  {'name': 'person1', 'cID': 'T4C6AUTTG58O'}\n",
              "2  {'name': 'person3', 'cID': '21RXO5VDC7VQ'}\n",
              "3  {'name': 'person4', 'cID': 'WMRUM7H923IZ'}\n",
              "4   {'name': 'NDModi', 'cID': 'MM3NRVKU17P3'}"
            ],
            "text/html": [
              "\n",
              "  <div id=\"df-acade6ab-d01b-46ff-a173-1fe80008c5c1\">\n",
              "    <div class=\"colab-df-container\">\n",
              "      <div>\n",
              "<style scoped>\n",
              "    .dataframe tbody tr th:only-of-type {\n",
              "        vertical-align: middle;\n",
              "    }\n",
              "\n",
              "    .dataframe tbody tr th {\n",
              "        vertical-align: top;\n",
              "    }\n",
              "\n",
              "    .dataframe thead th {\n",
              "        text-align: right;\n",
              "    }\n",
              "</style>\n",
              "<table border=\"1\" class=\"dataframe\">\n",
              "  <thead>\n",
              "    <tr style=\"text-align: right;\">\n",
              "      <th></th>\n",
              "      <th>pid</th>\n",
              "    </tr>\n",
              "  </thead>\n",
              "  <tbody>\n",
              "    <tr>\n",
              "      <th>0</th>\n",
              "      <td>{'name': 'person2', 'cID': '6VIXS23XHOOM'}</td>\n",
              "    </tr>\n",
              "    <tr>\n",
              "      <th>1</th>\n",
              "      <td>{'name': 'person1', 'cID': 'T4C6AUTTG58O'}</td>\n",
              "    </tr>\n",
              "    <tr>\n",
              "      <th>2</th>\n",
              "      <td>{'name': 'person3', 'cID': '21RXO5VDC7VQ'}</td>\n",
              "    </tr>\n",
              "    <tr>\n",
              "      <th>3</th>\n",
              "      <td>{'name': 'person4', 'cID': 'WMRUM7H923IZ'}</td>\n",
              "    </tr>\n",
              "    <tr>\n",
              "      <th>4</th>\n",
              "      <td>{'name': 'NDModi', 'cID': 'MM3NRVKU17P3'}</td>\n",
              "    </tr>\n",
              "  </tbody>\n",
              "</table>\n",
              "</div>\n",
              "      <button class=\"colab-df-convert\" onclick=\"convertToInteractive('df-acade6ab-d01b-46ff-a173-1fe80008c5c1')\"\n",
              "              title=\"Convert this dataframe to an interactive table.\"\n",
              "              style=\"display:none;\">\n",
              "        \n",
              "  <svg xmlns=\"http://www.w3.org/2000/svg\" height=\"24px\"viewBox=\"0 0 24 24\"\n",
              "       width=\"24px\">\n",
              "    <path d=\"M0 0h24v24H0V0z\" fill=\"none\"/>\n",
              "    <path d=\"M18.56 5.44l.94 2.06.94-2.06 2.06-.94-2.06-.94-.94-2.06-.94 2.06-2.06.94zm-11 1L8.5 8.5l.94-2.06 2.06-.94-2.06-.94L8.5 2.5l-.94 2.06-2.06.94zm10 10l.94 2.06.94-2.06 2.06-.94-2.06-.94-.94-2.06-.94 2.06-2.06.94z\"/><path d=\"M17.41 7.96l-1.37-1.37c-.4-.4-.92-.59-1.43-.59-.52 0-1.04.2-1.43.59L10.3 9.45l-7.72 7.72c-.78.78-.78 2.05 0 2.83L4 21.41c.39.39.9.59 1.41.59.51 0 1.02-.2 1.41-.59l7.78-7.78 2.81-2.81c.8-.78.8-2.07 0-2.86zM5.41 20L4 18.59l7.72-7.72 1.47 1.35L5.41 20z\"/>\n",
              "  </svg>\n",
              "      </button>\n",
              "      \n",
              "  <style>\n",
              "    .colab-df-container {\n",
              "      display:flex;\n",
              "      flex-wrap:wrap;\n",
              "      gap: 12px;\n",
              "    }\n",
              "\n",
              "    .colab-df-convert {\n",
              "      background-color: #E8F0FE;\n",
              "      border: none;\n",
              "      border-radius: 50%;\n",
              "      cursor: pointer;\n",
              "      display: none;\n",
              "      fill: #1967D2;\n",
              "      height: 32px;\n",
              "      padding: 0 0 0 0;\n",
              "      width: 32px;\n",
              "    }\n",
              "\n",
              "    .colab-df-convert:hover {\n",
              "      background-color: #E2EBFA;\n",
              "      box-shadow: 0px 1px 2px rgba(60, 64, 67, 0.3), 0px 1px 3px 1px rgba(60, 64, 67, 0.15);\n",
              "      fill: #174EA6;\n",
              "    }\n",
              "\n",
              "    [theme=dark] .colab-df-convert {\n",
              "      background-color: #3B4455;\n",
              "      fill: #D2E3FC;\n",
              "    }\n",
              "\n",
              "    [theme=dark] .colab-df-convert:hover {\n",
              "      background-color: #434B5C;\n",
              "      box-shadow: 0px 1px 3px 1px rgba(0, 0, 0, 0.15);\n",
              "      filter: drop-shadow(0px 1px 2px rgba(0, 0, 0, 0.3));\n",
              "      fill: #FFFFFF;\n",
              "    }\n",
              "  </style>\n",
              "\n",
              "      <script>\n",
              "        const buttonEl =\n",
              "          document.querySelector('#df-acade6ab-d01b-46ff-a173-1fe80008c5c1 button.colab-df-convert');\n",
              "        buttonEl.style.display =\n",
              "          google.colab.kernel.accessAllowed ? 'block' : 'none';\n",
              "\n",
              "        async function convertToInteractive(key) {\n",
              "          const element = document.querySelector('#df-acade6ab-d01b-46ff-a173-1fe80008c5c1');\n",
              "          const dataTable =\n",
              "            await google.colab.kernel.invokeFunction('convertToInteractive',\n",
              "                                                     [key], {});\n",
              "          if (!dataTable) return;\n",
              "\n",
              "          const docLinkHtml = 'Like what you see? Visit the ' +\n",
              "            '<a target=\"_blank\" href=https://colab.research.google.com/notebooks/data_table.ipynb>data table notebook</a>'\n",
              "            + ' to learn more about interactive tables.';\n",
              "          element.innerHTML = '';\n",
              "          dataTable['output_type'] = 'display_data';\n",
              "          await google.colab.output.renderOutput(dataTable, element);\n",
              "          const docLink = document.createElement('div');\n",
              "          docLink.innerHTML = docLinkHtml;\n",
              "          element.appendChild(docLink);\n",
              "        }\n",
              "      </script>\n",
              "    </div>\n",
              "  </div>\n",
              "  "
            ]
          },
          "metadata": {},
          "execution_count": 12
        }
      ]
    },
    {
      "cell_type": "code",
      "source": [
        "selCond = {'pid.name': {'$eq': 'person2'}}               # Single Person\n",
        "chart = pd.DataFrame(list(kollection.find(selCond,p21.selCols)))\n",
        "chart.iloc[0]['pid']['name']\n",
        "#for key,value in chart.iloc[0]['pid'].items():\n",
        "#\tprint(key, ':', value)\n",
        "#genSampleReport('Bengal',Sample = False)"
      ],
      "metadata": {
        "id": "WM9dKhfS118T",
        "colab": {
          "base_uri": "https://localhost:8080/",
          "height": 35
        },
        "outputId": "e96a0165-2289-40ab-b993-42e16d1da58f"
      },
      "execution_count": 22,
      "outputs": [
        {
          "output_type": "execute_result",
          "data": {
            "text/plain": [
              "'person2'"
            ],
            "application/vnd.google.colaboratory.intrinsic+json": {
              "type": "string"
            }
          },
          "metadata": {},
          "execution_count": 22
        }
      ]
    },
    {
      "cell_type": "code",
      "source": [
        "%%capture\n",
        "genSingleChartReport('Bengal')"
      ],
      "metadata": {
        "id": "bgBtpFYPxaiF"
      },
      "execution_count": 29,
      "outputs": []
    },
    {
      "cell_type": "markdown",
      "source": [
        "#Old Stuff Ignore"
      ],
      "metadata": {
        "id": "5I0ANefehbAU"
      }
    },
    {
      "cell_type": "code",
      "source": [
        "%%capture\n",
        "selCond = {\"$and\":\n",
        "                    [\n",
        "                        {'exaltG.Ju': {'$eq': True}},               # Exalted Jupiter\n",
        "                        {'GAspectedBy2.La' : {'$in': ['Sa']}}       # La aspected by Sa          \n",
        "\n",
        "                    ]\n",
        "}\n",
        "\n",
        "df = pd.DataFrame(list(kollection.find(selCond,p21.selCols)))\n",
        "genSampleReport('North')"
      ],
      "metadata": {
        "id": "SeVhgOjaVihE"
      },
      "execution_count": null,
      "outputs": []
    },
    {
      "cell_type": "code",
      "source": [
        "%%capture\n",
        "selCond = {\"$and\":\n",
        "                    [\n",
        "                        {'exaltG.Ju': {'$eq': True}},               # Exalted Jupiter\n",
        "                        {'GAspectedBy2.La' : {'$in': ['Sa']}} ,     # La aspected by Sa       \n",
        "                        {'GConjunctsG2.Su' : {'$in': ['Me']}}       # Su conjunct Me \n",
        "\n",
        "                    ]\n",
        "}\n",
        "\n",
        "df = pd.DataFrame(list(kollection.find(selCond,p21.selCols)))\n",
        "genSampleReport('Bengal')"
      ],
      "metadata": {
        "id": "wtfKhm58zFCq"
      },
      "execution_count": null,
      "outputs": []
    },
    {
      "cell_type": "code",
      "source": [
        "%%capture\n",
        "selCond = {\"$and\":\n",
        "                    [\n",
        "                        {'exaltG.Ju': {'$eq': True}},               # Exalted Jupiter\n",
        "                        {'GAspectedBy2.La' : {'$in': ['Sa']}} ,     # La aspected by Sa       \n",
        "                        {'GConjunctsG2.Su' : {'$in': ['Me']}},      # Su conjunct Me \n",
        "                        {'GrahaBhava.Mo' : {'$eq': 1}}              # Mo in First House\n",
        "\n",
        "                    ]\n",
        "}\n",
        "\n",
        "df = pd.DataFrame(list(kollection.find(selCond,p21.selCols)))\n",
        "genSampleReport('Bengal')"
      ],
      "metadata": {
        "id": "1shPkTXONo9I"
      },
      "execution_count": null,
      "outputs": []
    },
    {
      "cell_type": "code",
      "source": [
        "%%capture\n",
        "selCond = {\"$and\":\n",
        "                    [\n",
        "                        {'exaltG.Ju': {'$eq': True}},               # Exalted Jupiter\n",
        "                        {'GAspectedBy2.La' : {'$in': ['Sa']}} ,     # La aspected by Sa       \n",
        "                        {'GConjunctsG2.Su' : {'$in': ['Me']}},      # Su conjunct Me \n",
        "                        {'GrahaBhava.Mo' : {'$eq': 1}} ,            # Mo in First House\n",
        "                        {'LordBhav.4' : {'$eq': 5}}                 # 4th Lord in 5th House\n",
        "\n",
        "                    ]\n",
        "}\n",
        "\n",
        "df = pd.DataFrame(list(kollection.find(selCond,p21.selCols)))\n",
        "genSampleReport('Bengal',Sample = False)"
      ],
      "metadata": {
        "id": "lcRK2tdKSWaO"
      },
      "execution_count": null,
      "outputs": []
    },
    {
      "cell_type": "code",
      "source": [
        "!rm *.doc"
      ],
      "metadata": {
        "id": "2fDl6jtskRSZ"
      },
      "execution_count": null,
      "outputs": []
    },
    {
      "cell_type": "code",
      "source": [
        "#df = pd.DataFrame(list(kollection.find({'pid.tags': {\"$in\": ['PostGraduate']}},{'pid.name':1,\"_id\":0,'GLon':1,'GRet':1})))\n",
        "#df"
      ],
      "metadata": {
        "id": "gGtojxPZxmku"
      },
      "execution_count": null,
      "outputs": []
    }
  ]
}