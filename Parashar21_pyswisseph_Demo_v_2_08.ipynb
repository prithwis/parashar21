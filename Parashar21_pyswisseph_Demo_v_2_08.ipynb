{
  "nbformat": 4,
  "nbformat_minor": 0,
  "metadata": {
    "colab": {
      "name": "Parashar21 - pyswisseph Demo - v 2.08",
      "provenance": [],
      "collapsed_sections": [],
      "toc_visible": true,
      "include_colab_link": true
    },
    "kernelspec": {
      "name": "python3",
      "display_name": "Python 3"
    }
  },
  "cells": [
    {
      "cell_type": "markdown",
      "metadata": {
        "id": "view-in-github",
        "colab_type": "text"
      },
      "source": [
        "<a href=\"https://colab.research.google.com/github/prithwis/parashar21/blob/main/Parashar21_pyswisseph_Demo_v_2_08.ipynb\" target=\"_parent\"><img src=\"https://colab.research.google.com/assets/colab-badge.svg\" alt=\"Open In Colab\"/></a>"
      ]
    },
    {
      "cell_type": "markdown",
      "metadata": {
        "id": "m3d-QHg6rqr-"
      },
      "source": [
        "![alt text](http://1.bp.blogspot.com/_5QlanosqxiQ/SXLOLTu7S7I/AAAAAAAAAm8/0r6C7lCxsic/S1600-R/p21-header-003.png) <br>\n",
        "\n",
        "\n",
        "---\n",
        "\n",
        "Website - [Parashar21](https://parashar21.blogspot.com)"
      ]
    },
    {
      "cell_type": "markdown",
      "metadata": {
        "id": "6az36FX6Rpit"
      },
      "source": [
        "#Install Swiss Ephemeris <br>\n",
        "## This is a demonstration of the usage of the Swiss Ephemeris Software in python on the Google Colab Platform\n",
        "https://pypi.org/project/pyswisseph/  - Python Package Documentation <br>\n",
        "https://www.astro.com/swisseph/swephinfo_e.htm <br>\n",
        "https://www.astro.com/swisseph/swephprg.htm - Programmer Documentation <br>\n",
        "https://pythonhosted.org/pyswisseph/swisseph-module.html"
      ]
    },
    {
      "cell_type": "code",
      "metadata": {
        "id": "THZf8D8fQsXm",
        "colab": {
          "base_uri": "https://localhost:8080/"
        },
        "outputId": "def4c5f6-bf09-4993-b913-21aa07c83843"
      },
      "source": [
        "!pip install pyswisseph"
      ],
      "execution_count": 1,
      "outputs": [
        {
          "output_type": "stream",
          "name": "stdout",
          "text": [
            "Collecting pyswisseph\n",
            "  Downloading pyswisseph-2.08.00-1.tar.gz (521 kB)\n",
            "\u001b[K     |████████████████████████████████| 521 kB 5.1 MB/s \n",
            "\u001b[?25hBuilding wheels for collected packages: pyswisseph\n",
            "  Building wheel for pyswisseph (setup.py) ... \u001b[?25l\u001b[?25hdone\n",
            "  Created wheel for pyswisseph: filename=pyswisseph-2.8.0.post1-cp37-cp37m-linux_x86_64.whl size=724386 sha256=b2b2762d437d6f5c4937940e36ee71c2efb4c622d0aa8f73a3908f713ab43f2a\n",
            "  Stored in directory: /root/.cache/pip/wheels/32/81/77/a3f7c72bd124fbdfec5f468ce0669ac09ea98a9af2b99edd61\n",
            "Successfully built pyswisseph\n",
            "Installing collected packages: pyswisseph\n",
            "Successfully installed pyswisseph-2.8.0.post1\n"
          ]
        }
      ]
    },
    {
      "cell_type": "code",
      "metadata": {
        "id": "INsjq9opScbt",
        "colab": {
          "base_uri": "https://localhost:8080/"
        },
        "outputId": "2f7dfeb0-e275-4b20-f624-e2631a4f5d96"
      },
      "source": [
        "!wget http://www.astro.com/ftp/swisseph/ephe/seas_18.se1\n",
        "!wget http://www.astro.com/ftp/swisseph/ephe/semo_18.se1\n",
        "!wget http://www.astro.com/ftp/swisseph/ephe/sepl_18.se1"
      ],
      "execution_count": 2,
      "outputs": [
        {
          "output_type": "stream",
          "name": "stdout",
          "text": [
            "--2022-01-08 03:02:42--  http://www.astro.com/ftp/swisseph/ephe/seas_18.se1\n",
            "Resolving www.astro.com (www.astro.com)... 192.53.104.242\n",
            "Connecting to www.astro.com (www.astro.com)|192.53.104.242|:80... connected.\n",
            "HTTP request sent, awaiting response... 200 OK\n",
            "Length: 223002 (218K)\n",
            "Saving to: ‘seas_18.se1’\n",
            "\n",
            "seas_18.se1         100%[===================>] 217.78K   534KB/s    in 0.4s    \n",
            "\n",
            "2022-01-08 03:02:43 (534 KB/s) - ‘seas_18.se1’ saved [223002/223002]\n",
            "\n",
            "--2022-01-08 03:02:43--  http://www.astro.com/ftp/swisseph/ephe/semo_18.se1\n",
            "Resolving www.astro.com (www.astro.com)... 192.53.104.242\n",
            "Connecting to www.astro.com (www.astro.com)|192.53.104.242|:80... connected.\n",
            "HTTP request sent, awaiting response... 200 OK\n",
            "Length: 1304771 (1.2M)\n",
            "Saving to: ‘semo_18.se1’\n",
            "\n",
            "semo_18.se1         100%[===================>]   1.24M  1.90MB/s    in 0.7s    \n",
            "\n",
            "2022-01-08 03:02:44 (1.90 MB/s) - ‘semo_18.se1’ saved [1304771/1304771]\n",
            "\n",
            "--2022-01-08 03:02:44--  http://www.astro.com/ftp/swisseph/ephe/sepl_18.se1\n",
            "Resolving www.astro.com (www.astro.com)... 192.53.104.242\n",
            "Connecting to www.astro.com (www.astro.com)|192.53.104.242|:80... connected.\n",
            "HTTP request sent, awaiting response... 200 OK\n",
            "Length: 484055 (473K)\n",
            "Saving to: ‘sepl_18.se1’\n",
            "\n",
            "sepl_18.se1         100%[===================>] 472.71K   881KB/s    in 0.5s    \n",
            "\n",
            "2022-01-08 03:02:45 (881 KB/s) - ‘sepl_18.se1’ saved [484055/484055]\n",
            "\n"
          ]
        }
      ]
    },
    {
      "cell_type": "code",
      "metadata": {
        "id": "AOPxw5_sTEYF"
      },
      "source": [
        "!mkdir ephe\n",
        "!mv *.se1 ephe"
      ],
      "execution_count": 3,
      "outputs": []
    },
    {
      "cell_type": "code",
      "metadata": {
        "id": "xBxYFlY_vzqZ",
        "colab": {
          "base_uri": "https://localhost:8080/",
          "height": 35
        },
        "outputId": "398939b7-5e75-4bad-d472-e5d10c9a1220"
      },
      "source": [
        "import swisseph as swe\n",
        "swe.version"
      ],
      "execution_count": 4,
      "outputs": [
        {
          "output_type": "execute_result",
          "data": {
            "application/vnd.google.colaboratory.intrinsic+json": {
              "type": "string"
            },
            "text/plain": [
              "'2.08'"
            ]
          },
          "metadata": {},
          "execution_count": 4
        }
      ]
    },
    {
      "cell_type": "code",
      "metadata": {
        "id": "U29C4FOKY23v"
      },
      "source": [
        "#Constants and Flags necessary for this application are set here\n",
        "#\n",
        "swe.set_ephe_path('/content/ephe') # set path to ephemeris files\n",
        "# Calendar : Julian or Gregorian\n",
        "SE_GREG_CAL = 1\n",
        "gregflag = SE_GREG_CAL\n",
        "#\n",
        "# Ayanamsha type : Lahiri = 1\n",
        "swe.set_sid_mode(1)  # Lahiri Aynamsha\n",
        "#\n",
        "# whether speed will be calculated along with position of planet\n",
        "SEFLG_SPEED = int(256)\n",
        "iflag = SEFLG_SPEED\n",
        "#hsys = P, Placidus\n",
        "#ascii P = 080\n",
        "hsysP =  bytes('P', 'utf-8')"
      ],
      "execution_count": 5,
      "outputs": []
    },
    {
      "cell_type": "markdown",
      "metadata": {
        "id": "uSuVPj3kXcwC"
      },
      "source": [
        "#Personal Data\n",
        "## Data Input"
      ]
    },
    {
      "cell_type": "code",
      "metadata": {
        "id": "REht8_5TXuP1",
        "colab": {
          "base_uri": "https://localhost:8080/"
        },
        "outputId": "175ac3a7-ad20-421b-8d7c-4b61b6ddd888"
      },
      "source": [
        "# Date & Time of Birth\n",
        "# Convert UTC date to Julian Date\n",
        "JD = swe.utc_to_jd(1965,12,19,4,56,0,gregflag)\n",
        "print (JD[0], JD[1])\n",
        "# JD[0] is Ephemeris Time\n",
        "# JD[1] is Universal Time \n",
        "natalUT = JD[1]\n",
        "print(natalUT, 'Julian Date in Universal Time')"
      ],
      "execution_count": 6,
      "outputs": [
        {
          "output_type": "stream",
          "name": "stdout",
          "text": [
            "2439113.7059781384 2439113.7055555554\n",
            "2439113.7055555554 Julian Date in Universal Time\n"
          ]
        }
      ]
    },
    {
      "cell_type": "code",
      "metadata": {
        "id": "ewNQYI3PaTVo"
      },
      "source": [
        "natalLON = 88.35\n",
        "natalLAT = 22.55"
      ],
      "execution_count": 7,
      "outputs": []
    },
    {
      "cell_type": "markdown",
      "metadata": {
        "id": "eToh8aDmbPE7"
      },
      "source": [
        "#Calculations"
      ]
    },
    {
      "cell_type": "code",
      "metadata": {
        "id": "xLXI6tIAbT17",
        "colab": {
          "base_uri": "https://localhost:8080/"
        },
        "outputId": "ad0ff2d6-4ac3-4679-9485-0b9c50268933"
      },
      "source": [
        "#Ayanamsha\n",
        "ayanamsha = swe.get_ayanamsa(natalUT)\n",
        "print('Lahiri Ayanamsha :', ayanamsha)"
      ],
      "execution_count": 8,
      "outputs": [
        {
          "output_type": "stream",
          "name": "stdout",
          "text": [
            "Lahiri Ayanamsha : 23.381658282103217\n"
          ]
        }
      ]
    },
    {
      "cell_type": "code",
      "metadata": {
        "id": "-IyxzVG8d9_w",
        "colab": {
          "base_uri": "https://localhost:8080/"
        },
        "outputId": "48c78593-6e55-476d-e6d1-0782b190cc21"
      },
      "source": [
        "#Position of Planets\n",
        "#\n",
        "# body 0 = Sun, 1 = Moon, ... 11 = True Node (Rahu)\n",
        "bLon = []\n",
        "bRet = []\n",
        "for body in [0,1,2,3,4,5,6,11]:\n",
        "    pData = swe.calc_ut(natalUT,body,iflag)\n",
        "    #print(pData[0])                    --- this is a major change\n",
        "    #print(pData[1])                    --- this is a major change\n",
        "    bLon.append(pData[0][0])            # note this correction\n",
        "    if pData[0][3] >= 0:                # note this correction\n",
        "        bRet.append('False')\n",
        "    else :\n",
        "        bRet.append('True')\n",
        "for ix in range(len(bLon)) : print(bLon[ix], bRet[ix])"
      ],
      "execution_count": 9,
      "outputs": [
        {
          "output_type": "stream",
          "name": "stdout",
          "text": [
            "267.0822930016132 False\n",
            "224.3827740603826 False\n",
            "245.65073789856987 False\n",
            "308.347984469388 False\n",
            "296.8489454006367 False\n",
            "86.12963909397818 True\n",
            "341.55174639556907 False\n",
            "64.62935720751194 False\n"
          ]
        }
      ]
    },
    {
      "cell_type": "code",
      "metadata": {
        "id": "FAYRZbK1pJ0k",
        "colab": {
          "base_uri": "https://localhost:8080/"
        },
        "outputId": "9108c961-2d2a-43eb-b52c-a8101c0a1023"
      },
      "source": [
        "#House Position and Ascendants\n",
        "# the 13th value is the longitude of Ascendant\n",
        "#\n",
        "P = swe.houses(natalUT,natalLAT,natalLON,hsysP)\n",
        "for ix in range(len(P[0])) : print(P[0][ix])\n",
        "for ix in range(len(P[1])) : print(P[1][ix])"
      ],
      "execution_count": 10,
      "outputs": [
        {
          "output_type": "stream",
          "name": "stdout",
          "text": [
            "333.77634675190603\n",
            "12.265268687694933\n",
            "44.716444722574\n",
            "71.47307729337626\n",
            "95.9660970862409\n",
            "121.96813131902104\n",
            "153.77634675190598\n",
            "192.26526868769494\n",
            "224.716444722574\n",
            "251.47307729337626\n",
            "275.9660970862409\n",
            "301.96813131902104\n",
            "333.77634675190603\n",
            "251.47307729337626\n",
            "249.9341029031631\n",
            "169.32359806839142\n",
            "338.2904143998115\n",
            "341.5258916108029\n",
            "254.30502542590258\n",
            "161.5258916108029\n"
          ]
        }
      ]
    },
    {
      "cell_type": "markdown",
      "metadata": {
        "id": "vpxcfn3vtUUW"
      },
      "source": [
        "The output generated here matches with the output generated by the Windows program swetest"
      ]
    },
    {
      "cell_type": "markdown",
      "metadata": {
        "id": "QGxOl9rdrvEg"
      },
      "source": [
        "#Chronobooks <br>\n",
        "![alt text](https://1.bp.blogspot.com/-lTiYBkU2qbU/X1er__fvnkI/AAAAAAAAjtE/GhDR3OEGJr4NG43fZPodrQD5kbxtnKebgCLcBGAsYHQ/s600/Footer2020-600x200.png)<hr>\n",
        "Chronotantra and Chronoyantra are two science fiction novels that explore the collapse of human civilisation on Earth and then its rebirth and reincarnation both on Earth as well as on the distant worlds of Mars, Titan and Enceladus. But is it the human civilisation that is being reborn? Or is it some other sentience that is revealing itself. \n",
        "If you have an interest in AI and found this material useful, you may consider buying these novels, in paperback or kindle, from [http://bit.ly/chronobooks](http://bit.ly/chronobooks)"
      ]
    }
  ]
}