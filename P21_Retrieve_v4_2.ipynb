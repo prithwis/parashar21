{
  "nbformat": 4,
  "nbformat_minor": 0,
  "metadata": {
    "colab": {
      "name": "P21_Retrieve_v4.2",
      "provenance": [],
      "authorship_tag": "ABX9TyPMayiw8/h0md6eGVpoTcJc",
      "include_colab_link": true
    },
    "kernelspec": {
      "name": "python3",
      "display_name": "Python 3"
    },
    "language_info": {
      "name": "python"
    }
  },
  "cells": [
    {
      "cell_type": "markdown",
      "metadata": {
        "id": "view-in-github",
        "colab_type": "text"
      },
      "source": [
        "<a href=\"https://colab.research.google.com/github/prithwis/parashar21/blob/main/P21_Retrieve_v4_2.ipynb\" target=\"_parent\"><img src=\"https://colab.research.google.com/assets/colab-badge.svg\" alt=\"Open In Colab\"/></a>"
      ]
    },
    {
      "cell_type": "markdown",
      "source": [
        "![alt text](http://1.bp.blogspot.com/_5QlanosqxiQ/SXLOLTu7S7I/AAAAAAAAAm8/0r6C7lCxsic/S1600-R/p21-header-003.png) <br>\n",
        "\n",
        "\n",
        "---\n",
        "\n",
        "\n",
        "![CC-BY-SA](https://licensebuttons.net/l/by-sa/3.0/88x31.png) ||\n",
        "[Prithwis Mukerjee](http://www.yantrajaal.com) ||\n",
        "Website - [Parashar21](https://parashar21.blogspot.com)<br>"
      ],
      "metadata": {
        "id": "rj4jjIHTvPV8"
      }
    },
    {
      "cell_type": "markdown",
      "source": [
        "#SetUp"
      ],
      "metadata": {
        "id": "l2v2nhRKvwJS"
      }
    },
    {
      "cell_type": "markdown",
      "source": [
        "##Installs"
      ],
      "metadata": {
        "id": "djqyotVjO5TI"
      }
    },
    {
      "cell_type": "code",
      "source": [
        "!pip -qq install pyswisseph                 # https://stackoverflow.com/questions/64277506/pip-install-options-unclear\n",
        "!pip -qq install python-docx                #https://python-docx.readthedocs.io/en/latest/\n",
        "!pip -qq install python_string_utils\n",
        "!apt install mongodb > /dev/null"
      ],
      "metadata": {
        "colab": {
          "base_uri": "https://localhost:8080/"
        },
        "id": "AWKFabc0v3FI",
        "outputId": "3779c558-01fc-471d-ed1b-11dbe1747f4d"
      },
      "execution_count": 1,
      "outputs": [
        {
          "output_type": "stream",
          "name": "stdout",
          "text": [
            "\u001b[?25l\r\u001b[K     |▋                               | 10 kB 31.4 MB/s eta 0:00:01\r\u001b[K     |█▎                              | 20 kB 39.9 MB/s eta 0:00:01\r\u001b[K     |█▉                              | 30 kB 30.2 MB/s eta 0:00:01\r\u001b[K     |██▌                             | 40 kB 23.6 MB/s eta 0:00:01\r\u001b[K     |███▏                            | 51 kB 14.8 MB/s eta 0:00:01\r\u001b[K     |███▊                            | 61 kB 15.6 MB/s eta 0:00:01\r\u001b[K     |████▍                           | 71 kB 14.6 MB/s eta 0:00:01\r\u001b[K     |█████                           | 81 kB 16.1 MB/s eta 0:00:01\r\u001b[K     |█████▋                          | 92 kB 16.9 MB/s eta 0:00:01\r\u001b[K     |██████▎                         | 102 kB 13.9 MB/s eta 0:00:01\r\u001b[K     |███████                         | 112 kB 13.9 MB/s eta 0:00:01\r\u001b[K     |███████▌                        | 122 kB 13.9 MB/s eta 0:00:01\r\u001b[K     |████████▏                       | 133 kB 13.9 MB/s eta 0:00:01\r\u001b[K     |████████▉                       | 143 kB 13.9 MB/s eta 0:00:01\r\u001b[K     |█████████▍                      | 153 kB 13.9 MB/s eta 0:00:01\r\u001b[K     |██████████                      | 163 kB 13.9 MB/s eta 0:00:01\r\u001b[K     |██████████▊                     | 174 kB 13.9 MB/s eta 0:00:01\r\u001b[K     |███████████▎                    | 184 kB 13.9 MB/s eta 0:00:01\r\u001b[K     |████████████                    | 194 kB 13.9 MB/s eta 0:00:01\r\u001b[K     |████████████▋                   | 204 kB 13.9 MB/s eta 0:00:01\r\u001b[K     |█████████████▏                  | 215 kB 13.9 MB/s eta 0:00:01\r\u001b[K     |█████████████▉                  | 225 kB 13.9 MB/s eta 0:00:01\r\u001b[K     |██████████████▌                 | 235 kB 13.9 MB/s eta 0:00:01\r\u001b[K     |███████████████                 | 245 kB 13.9 MB/s eta 0:00:01\r\u001b[K     |███████████████▊                | 256 kB 13.9 MB/s eta 0:00:01\r\u001b[K     |████████████████▍               | 266 kB 13.9 MB/s eta 0:00:01\r\u001b[K     |█████████████████               | 276 kB 13.9 MB/s eta 0:00:01\r\u001b[K     |█████████████████▋              | 286 kB 13.9 MB/s eta 0:00:01\r\u001b[K     |██████████████████▏             | 296 kB 13.9 MB/s eta 0:00:01\r\u001b[K     |██████████████████▉             | 307 kB 13.9 MB/s eta 0:00:01\r\u001b[K     |███████████████████▌            | 317 kB 13.9 MB/s eta 0:00:01\r\u001b[K     |████████████████████            | 327 kB 13.9 MB/s eta 0:00:01\r\u001b[K     |████████████████████▊           | 337 kB 13.9 MB/s eta 0:00:01\r\u001b[K     |█████████████████████▍          | 348 kB 13.9 MB/s eta 0:00:01\r\u001b[K     |██████████████████████          | 358 kB 13.9 MB/s eta 0:00:01\r\u001b[K     |██████████████████████▋         | 368 kB 13.9 MB/s eta 0:00:01\r\u001b[K     |███████████████████████▎        | 378 kB 13.9 MB/s eta 0:00:01\r\u001b[K     |███████████████████████▉        | 389 kB 13.9 MB/s eta 0:00:01\r\u001b[K     |████████████████████████▌       | 399 kB 13.9 MB/s eta 0:00:01\r\u001b[K     |█████████████████████████▏      | 409 kB 13.9 MB/s eta 0:00:01\r\u001b[K     |█████████████████████████▊      | 419 kB 13.9 MB/s eta 0:00:01\r\u001b[K     |██████████████████████████▍     | 430 kB 13.9 MB/s eta 0:00:01\r\u001b[K     |███████████████████████████     | 440 kB 13.9 MB/s eta 0:00:01\r\u001b[K     |███████████████████████████▋    | 450 kB 13.9 MB/s eta 0:00:01\r\u001b[K     |████████████████████████████▎   | 460 kB 13.9 MB/s eta 0:00:01\r\u001b[K     |█████████████████████████████   | 471 kB 13.9 MB/s eta 0:00:01\r\u001b[K     |█████████████████████████████▌  | 481 kB 13.9 MB/s eta 0:00:01\r\u001b[K     |██████████████████████████████▏ | 491 kB 13.9 MB/s eta 0:00:01\r\u001b[K     |██████████████████████████████▉ | 501 kB 13.9 MB/s eta 0:00:01\r\u001b[K     |███████████████████████████████▍| 512 kB 13.9 MB/s eta 0:00:01\r\u001b[K     |████████████████████████████████| 521 kB 13.9 MB/s \n",
            "\u001b[?25h  Building wheel for pyswisseph (setup.py) ... \u001b[?25l\u001b[?25hdone\n",
            "\u001b[K     |████████████████████████████████| 5.6 MB 13.2 MB/s \n",
            "\u001b[?25h  Building wheel for python-docx (setup.py) ... \u001b[?25l\u001b[?25hdone\n",
            "\n",
            "WARNING: apt does not have a stable CLI interface. Use with caution in scripts.\n",
            "\n"
          ]
        }
      ]
    },
    {
      "cell_type": "code",
      "source": [
        "#Utility functions \n",
        "from pymongo import MongoClient\n",
        "import pandas as pd\n",
        "import dateutil\n",
        "#import matplotlib.pyplot as plt\n",
        "import math\n",
        "import json\n",
        "from docx import Document\n",
        "from docx.shared import Inches\n",
        "from docx.enum.text import WD_ALIGN_PARAGRAPH\n",
        "from datetime import datetime\n",
        "from datetime import timedelta\n",
        "import pytz\n"
      ],
      "metadata": {
        "id": "tsCga6c8pLvM"
      },
      "execution_count": 2,
      "outputs": []
    },
    {
      "cell_type": "code",
      "source": [
        "#Load p21 modules from github\n",
        "!wget -O p21.py -q https://raw.githubusercontent.com/prithwis/parashar21/main/utils/p21.py                  # all global variables\n",
        "!wget -O p21utils.py -q https://raw.githubusercontent.com/prithwis/parashar21/main/utils/p21utils.py        # large number of utility functions\n",
        "# ---------------------------\n",
        "import p21\n",
        "import p21utils\n",
        "\n",
        "!wget -O Saraswati.png -q https://github.com/prithwis/parashar21/raw/main/images/Saraswati02.png                  # all global variables"
      ],
      "metadata": {
        "id": "uwAT_IbvB0A-",
        "outputId": "1ea897f0-a38c-442c-a060-31268fe1e055",
        "colab": {
          "base_uri": "https://localhost:8080/"
        }
      },
      "execution_count": 3,
      "outputs": [
        {
          "output_type": "stream",
          "name": "stdout",
          "text": [
            "p21utils imported\n"
          ]
        }
      ]
    },
    {
      "cell_type": "code",
      "source": [
        "#!cat p21utils.py\n",
        "# ------------------------------------------------\n",
        "# required for multiple imports of the same module\n",
        "# ------------------------------------------------\n",
        "import importlib\n",
        "importlib.reload(p21)\n",
        "importlib.reload(p21utils)"
      ],
      "metadata": {
        "id": "xOlbcnu33PmG",
        "outputId": "9cef3f87-27c8-4d08-ec2b-fbae21487698",
        "colab": {
          "base_uri": "https://localhost:8080/"
        }
      },
      "execution_count": 33,
      "outputs": [
        {
          "output_type": "stream",
          "name": "stdout",
          "text": [
            "p21utils imported\n"
          ]
        },
        {
          "output_type": "execute_result",
          "data": {
            "text/plain": [
              "<module 'p21utils' from '/content/p21utils.py'>"
            ]
          },
          "metadata": {},
          "execution_count": 33
        }
      ]
    },
    {
      "cell_type": "code",
      "source": [
        "from google.colab import drive\n",
        "drive.mount('/content/drive')\n",
        "# -------------------------------------------\n",
        "# copy credentials file\n",
        "!cp /content/drive/'My Drive'/Praxis/WebCredentials/clevercloudMongoDB.py credentials.py\n",
        "# -------------------------------------------\n",
        "# MongoDB credentials are stored here\n",
        "#\n",
        "from credentials import rhostName,ruserName,rpassWord,rdbName,rMongoURI\n",
        "print(rdbName)\n",
        "# -------------------------------------------\n",
        "mongoURI = rMongoURI                                   # for remote server\n",
        "client = MongoClient(mongoURI)\n",
        "client.list_database_names() # ['admin', 'local']\n",
        "# ----------------------------------------------\n",
        "# Show existing Collections\n",
        "db = client.btncgfi3a5bxyea\n",
        "pd.DataFrame(list(db.list_collections()))\n",
        "kollection = db.khona21_43                   # Set the collection to work with"
      ],
      "metadata": {
        "colab": {
          "base_uri": "https://localhost:8080/"
        },
        "id": "I3Z74iSKv7FK",
        "outputId": "1e8db633-f845-45d8-d4fb-168157badf80"
      },
      "execution_count": 5,
      "outputs": [
        {
          "output_type": "stream",
          "name": "stdout",
          "text": [
            "Mounted at /content/drive\n",
            "btncgfi3a5bxyea\n"
          ]
        }
      ]
    },
    {
      "cell_type": "markdown",
      "source": [
        "#Analysis Procedures"
      ],
      "metadata": {
        "id": "6ZEpXLL12Pgk"
      }
    },
    {
      "cell_type": "code",
      "source": [
        "def R511_parseChartData(c):\n",
        "\n",
        "    p21.GLon = c['GLon']\n",
        "    p21.GRet = c['GRet']\n",
        "    pid = c['pid']\n",
        "    p21.pName = pid['name']\n",
        "    p21.GrahaLordBhav = c['GrahaLordBhav']\n",
        "    p21.Lord = c['Lord']\n",
        "    p21.GrahaBhava = c['GrahaBhava']\n",
        "    p21.LordBhav = c['LordBhav']\n",
        "    p21.exaltG = c['exaltG']\n",
        "    p21.exaltL = c['exaltL']\n",
        "    p21.debilG = c['debilG']\n",
        "    p21.debilL = c['debilL']\n",
        "    "
      ],
      "metadata": {
        "id": "5jaokY2B3dcB"
      },
      "execution_count": 20,
      "outputs": []
    },
    {
      "cell_type": "code",
      "source": [
        "def R512_FormatPage():\n",
        "       \n",
        "    p21.document.add_page_break()\n",
        "    \n",
        "    p2 = p21.document.add_paragraph()\n",
        "    run_1 = p2.add_run()\n",
        "    run_1.add_picture('./RashiChart.png', width=Inches(3.0))\n",
        "    run_2 = p2.add_run()\n",
        "    run_2.add_picture('./NavamsaChart.png', width=Inches(3.0))\n",
        "    p1 = p21.document.add_paragraph(p21.pName)\n",
        "    \n",
        "    p21.document.add_paragraph(p21utils.R13A_ShowTrueDict('Retrograde Graha',p21.GRet))     # Show Grahas that are retrograde\n",
        "\n",
        "    cPara = p21utils.R13B_ListPositions('Lord of ',p21.Lord)                                # Show Lords\n",
        "    cPara = cPara+\"\\n\"\n",
        "    cPara = cPara+'Graha Lord of \\n'+json.dumps(p21.GrahaLordBhav)                          # Show the Bhavs of whicha Graha is Lord\n",
        "    p21.document.add_paragraph(cPara)\n",
        "\n",
        "    p21.document.add_paragraph(p21utils.R13B_ListPositions('Lord in Bhava',p21.LordBhav))   # Which Lord in which Bhav\n",
        "\n",
        "    cPara = 'Graha Status\\n'\n",
        "    cPara = cPara+p21utils.R13A_ShowTrueDict('Exalted ',p21.exaltG)+'\\n'\n",
        "    cPara = cPara+p21utils.R13A_ShowTrueDict('Debilit ',p21.debilG)+'\\n'\n",
        "    p21.document.add_paragraph(cPara)\n",
        "\n",
        "    cPara = 'Lord Status\\n'\n",
        "    cPara = cPara+p21utils.R13C_ListPositions('Exalted ',p21.exaltL)+'\\n'\n",
        "    cPara = cPara+p21utils.R13C_ListPositions('Debilit ',p21.debilL)+'\\n'\n",
        "    p21.document.add_paragraph(cPara)\n",
        "\n",
        "                                          \n",
        "    \n",
        "    \n",
        "\n",
        "    print('exalted Graha',p21.exaltG)\n",
        "    print('exalted Lord',p21.exaltL)\n",
        "    print('debil Graha',p21.debilG)\n",
        "    print('debil Lord',p21.debilL)\n",
        "    \n",
        "    #p21.document.add_page_break()"
      ],
      "metadata": {
        "id": "97YziAau5FHy"
      },
      "execution_count": 34,
      "outputs": []
    },
    {
      "cell_type": "code",
      "source": [
        "def R51_processChart(c):\n",
        "    R511_parseChartData(c)              # Break up database data into useful pieces\n",
        "                                        # Creates two primary dicts, GLon, GRet\n",
        "    for ctype in ['Rashi','Navamsa']:\n",
        "        p21.ChartType = ctype\n",
        "        p21utils.R11_LocateGrahaInRashi()   # Converts Graha Long to Rashi positions\n",
        "                                            # Rashi Num as well as Rashi name\n",
        "        p21utils.R12B_drawChart_Bengal()    # Draw Chart in Bengal style\n",
        "                                            # Needs to know type, Natal or Navamsha\n",
        "    R512_FormatPage()\n",
        "    #print(c)"
      ],
      "metadata": {
        "id": "F-upyZOi2O5n"
      },
      "execution_count": 26,
      "outputs": []
    },
    {
      "cell_type": "markdown",
      "source": [
        "#Retrieve Charts "
      ],
      "metadata": {
        "id": "nej02gxiwUcV"
      }
    },
    {
      "cell_type": "code",
      "source": [
        "'''\n",
        "c = kollection.find({},{'pid.tags':1,'pid.ck':1,'_id':0})\n",
        "for crnt in c:\n",
        "    print(crnt)\n",
        "'''"
      ],
      "metadata": {
        "colab": {
          "base_uri": "https://localhost:8080/",
          "height": 35
        },
        "id": "K07dveNkwspG",
        "outputId": "2b0f4919-9d9d-4417-f03b-a411916acd14"
      },
      "execution_count": 15,
      "outputs": [
        {
          "output_type": "execute_result",
          "data": {
            "application/vnd.google.colaboratory.intrinsic+json": {
              "type": "string"
            },
            "text/plain": [
              "\"\\nc = kollection.find({},{'pid.tags':1,'pid.ck':1,'_id':0})\\nfor crnt in c:\\n    print(crnt)\\n\""
            ]
          },
          "metadata": {},
          "execution_count": 15
        }
      ]
    },
    {
      "cell_type": "code",
      "source": [
        "c = kollection.find({'pid.tags': {\"$in\": ['PostGraduate']}},{'_id':0})\n",
        "for crnt in c:\n",
        "    print(crnt)"
      ],
      "metadata": {
        "colab": {
          "base_uri": "https://localhost:8080/"
        },
        "id": "pTjryQV2090u",
        "outputId": "81c6711c-ac2d-4ffe-a011-12715c9911b9"
      },
      "execution_count": 16,
      "outputs": [
        {
          "output_type": "stream",
          "name": "stdout",
          "text": [
            "{'pid': {'tags': ['Engineer', 'Teacher', 'PostGraduate'], 'ck': 'M1961101523:425.522.5788.37', 'name': 'mosu'}, 'GLon': {'La': 98.204, 'Su': 178.826, 'Mo': 250.52, 'Ma': 196.183, 'Me': 193.17, 'Ju': 274.781, 'Ve': 153.753, 'Sa': 270.179, 'Ra': 122.089, 'Ke': 302.089}, 'GRet': {'La': False, 'Su': False, 'Mo': False, 'Ma': False, 'Me': True, 'Ju': False, 'Ve': False, 'Sa': False, 'Ra': False, 'Ke': False}, 'BhavN': [' ', 4, 5, 6, 7, 8, 9, 10, 11, 12, 1, 2, 3], 'BhavA': [' ', 'Can', 'Leo', 'Vir', 'Lib', 'Sco', 'Sag', 'Cap', 'Acq', 'Pis', 'Ari', 'Tau', 'Gem'], 'Lord': [' ', 'Mo', 'Su', 'Me', 'Ve', 'Ma', 'Ju', 'Sa', 'Sa', 'Ju', 'Ma', 'Ve', 'Me'], 'LordRashiN': [' ', 9, 6, 7, 6, 7, 10, 10, 10, 10, 7, 6, 7], 'LordRashiA': [' ', 'Sag', 'Vir', 'Lib', 'Vir', 'Lib', 'Cap', 'Cap', 'Cap', 'Cap', 'Lib', 'Vir', 'Lib'], 'GrahaLordBhav': {'Su': [2], 'Mo': [1], 'Ma': [5, 10], 'Me': [3, 12], 'Ju': [6, 9], 'Ve': [4, 11], 'Sa': [7, 8]}, 'GrahaBhava': {'La': 1, 'Su': 3, 'Mo': 6, 'Ma': 4, 'Me': 4, 'Ju': 7, 'Ve': 3, 'Sa': 7, 'Ra': 2, 'Ke': 8}, 'LordBhav': [' ', 6, 3, 4, 3, 4, 7, 7, 7, 7, 4, 3, 4], 'exaltG': {'Su': False, 'Mo': False, 'Ma': False, 'Me': False, 'Ju': False, 'Ve': False, 'Sa': False}, 'debilG': {'Su': False, 'Mo': False, 'Ma': False, 'Me': False, 'Ju': True, 'Ve': True, 'Sa': False}, 'ownHouseG': {'Su': False, 'Mo': False, 'Ma': False, 'Me': False, 'Ju': False, 'Ve': False, 'Sa': True}, 'inFriendG': {'Su': False, 'Mo': False, 'Ma': False, 'Me': True, 'Ju': False, 'Ve': True, 'Sa': True}, 'inEnemyG': {'Su': False, 'Mo': False, 'Ma': False, 'Me': False, 'Ju': False, 'Ve': False, 'Sa': False}, 'exaltL': [False, False, False, False, False, False, False, False, False, False, False, False, False], 'debilL': [False, False, False, False, True, False, True, False, False, True, False, True, False], 'ownHouseL': [False, False, False, False, False, False, False, True, True, False, False, False, False], 'inFriendL': [False, False, False, True, True, False, False, True, True, False, False, True, True], 'inEnemyL': [False, False, False, False, False, False, False, False, False, False, False, False, False]}\n",
            "{'pid': {'tags': ['Author', 'Homemaker', 'PostGraduate'], 'ck': 'F1965121910:265.522.5788.37', 'name': 'oapg'}, 'GLon': {'La': 310.415, 'Su': 243.701, 'Mo': 201.001, 'Ma': 273.467, 'Me': 222.269, 'Ju': 62.748, 'Ve': 284.966, 'Sa': 318.17, 'Ra': 41.248, 'Ke': 221.248}, 'GRet': {'La': False, 'Su': False, 'Mo': False, 'Ma': False, 'Me': False, 'Ju': True, 'Ve': False, 'Sa': False, 'Ra': False, 'Ke': False}, 'BhavN': [' ', 11, 12, 1, 2, 3, 4, 5, 6, 7, 8, 9, 10], 'BhavA': [' ', 'Acq', 'Pis', 'Ari', 'Tau', 'Gem', 'Can', 'Leo', 'Vir', 'Lib', 'Sco', 'Sag', 'Cap'], 'Lord': [' ', 'Sa', 'Ju', 'Ma', 'Ve', 'Me', 'Mo', 'Su', 'Me', 'Ve', 'Ma', 'Ju', 'Sa'], 'LordRashiN': [' ', 11, 3, 10, 10, 8, 7, 9, 8, 10, 10, 3, 11], 'LordRashiA': [' ', 'Acq', 'Gem', 'Cap', 'Cap', 'Sco', 'Lib', 'Sag', 'Sco', 'Cap', 'Cap', 'Gem', 'Acq'], 'GrahaLordBhav': {'Su': [7], 'Mo': [6], 'Ma': [3, 10], 'Me': [5, 8], 'Ju': [2, 11], 'Ve': [4, 9], 'Sa': [1, 12]}, 'GrahaBhava': {'La': 1, 'Su': 11, 'Mo': 9, 'Ma': 12, 'Me': 10, 'Ju': 5, 'Ve': 12, 'Sa': 1, 'Ra': 4, 'Ke': 10}, 'LordBhav': [' ', 1, 5, 12, 12, 10, 9, 11, 10, 12, 12, 5, 1], 'exaltG': {'Su': False, 'Mo': False, 'Ma': True, 'Me': False, 'Ju': False, 'Ve': False, 'Sa': False}, 'debilG': {'Su': False, 'Mo': False, 'Ma': False, 'Me': False, 'Ju': False, 'Ve': False, 'Sa': False}, 'ownHouseG': {'Su': False, 'Mo': False, 'Ma': False, 'Me': False, 'Ju': False, 'Ve': False, 'Sa': True}, 'inFriendG': {'Su': True, 'Mo': False, 'Ma': False, 'Me': False, 'Ju': False, 'Ve': False, 'Sa': True}, 'inEnemyG': {'Su': False, 'Mo': False, 'Ma': False, 'Me': False, 'Ju': True, 'Ve': False, 'Sa': False}, 'exaltL': [False, False, False, True, False, False, False, False, False, False, True, False, False], 'debilL': [False, False, False, False, False, False, False, False, False, False, False, False, False], 'ownHouseL': [False, True, False, False, False, False, False, False, False, False, False, False, True], 'inFriendL': [False, True, False, False, False, False, False, True, False, False, False, False, True], 'inEnemyL': [False, False, True, False, False, False, False, False, False, False, False, True, False]}\n",
            "{'pid': {'tags': ['Engineer', 'Teacher', 'PostGraduate'], 'ck': 'M199010923:095.522.5788.37', 'name': 'laroho'}, 'GLon': {'La': 85.351, 'Su': 172.44, 'Mo': 63.984, 'Ma': 49.966, 'Me': 163.275, 'Ju': 105.898, 'Ve': 166.538, 'Sa': 265.202, 'Ra': 280.65, 'Ke': 100.65}, 'GRet': {'La': False, 'Su': False, 'Mo': False, 'Ma': False, 'Me': False, 'Ju': False, 'Ve': False, 'Sa': False, 'Ra': False, 'Ke': False}, 'BhavN': [' ', 3, 4, 5, 6, 7, 8, 9, 10, 11, 12, 1, 2], 'BhavA': [' ', 'Gem', 'Can', 'Leo', 'Vir', 'Lib', 'Sco', 'Sag', 'Cap', 'Acq', 'Pis', 'Ari', 'Tau'], 'Lord': [' ', 'Me', 'Mo', 'Su', 'Me', 'Ve', 'Ma', 'Ju', 'Sa', 'Sa', 'Ju', 'Ma', 'Ve'], 'LordRashiN': [' ', 6, 3, 6, 6, 6, 2, 4, 9, 9, 4, 2, 6], 'LordRashiA': [' ', 'Vir', 'Gem', 'Vir', 'Vir', 'Vir', 'Tau', 'Can', 'Sag', 'Sag', 'Can', 'Tau', 'Vir'], 'GrahaLordBhav': {'Su': [3], 'Mo': [2], 'Ma': [6, 11], 'Me': [1, 4], 'Ju': [7, 10], 'Ve': [5, 12], 'Sa': [8, 9]}, 'GrahaBhava': {'La': 1, 'Su': 4, 'Mo': 1, 'Ma': 12, 'Me': 4, 'Ju': 2, 'Ve': 4, 'Sa': 7, 'Ra': 8, 'Ke': 2}, 'LordBhav': [' ', 4, 1, 4, 4, 4, 12, 2, 7, 7, 2, 12, 4], 'exaltG': {'Su': False, 'Mo': False, 'Ma': False, 'Me': True, 'Ju': True, 'Ve': False, 'Sa': False}, 'debilG': {'Su': False, 'Mo': False, 'Ma': False, 'Me': False, 'Ju': False, 'Ve': True, 'Sa': False}, 'ownHouseG': {'Su': False, 'Mo': False, 'Ma': False, 'Me': True, 'Ju': False, 'Ve': False, 'Sa': False}, 'inFriendG': {'Su': False, 'Mo': True, 'Ma': False, 'Me': False, 'Ju': True, 'Ve': True, 'Sa': False}, 'inEnemyG': {'Su': False, 'Mo': False, 'Ma': False, 'Me': False, 'Ju': False, 'Ve': False, 'Sa': False}, 'exaltL': [False, True, False, False, True, False, False, True, False, False, True, False, False], 'debilL': [False, False, False, False, False, True, False, False, False, False, False, False, True], 'ownHouseL': [False, True, False, False, True, False, False, False, False, False, False, False, False], 'inFriendL': [False, False, True, False, False, True, False, True, False, False, True, False, True], 'inEnemyL': [False, False, False, False, False, False, False, False, False, False, False, False, False]}\n",
            "{'pid': {'tags': ['Biologist', 'Scientist', 'PostGraduate'], 'ck': 'F19909120:525.522.8788.37', 'name': 'aajlinnn'}, 'GLon': {'La': 84.138, 'Su': 145.068, 'Mo': 54.233, 'Ma': 41.525, 'Me': 138.242, 'Ju': 101.216, 'Ve': 131.788, 'Sa': 265.084, 'Ra': 282.763, 'Ke': 102.763}, 'GRet': {'La': False, 'Su': False, 'Mo': False, 'Ma': False, 'Me': True, 'Ju': False, 'Ve': False, 'Sa': True, 'Ra': False, 'Ke': False}, 'BhavN': [' ', 3, 4, 5, 6, 7, 8, 9, 10, 11, 12, 1, 2], 'BhavA': [' ', 'Gem', 'Can', 'Leo', 'Vir', 'Lib', 'Sco', 'Sag', 'Cap', 'Acq', 'Pis', 'Ari', 'Tau'], 'Lord': [' ', 'Me', 'Mo', 'Su', 'Me', 'Ve', 'Ma', 'Ju', 'Sa', 'Sa', 'Ju', 'Ma', 'Ve'], 'LordRashiN': [' ', 5, 2, 5, 5, 5, 2, 4, 9, 9, 4, 2, 5], 'LordRashiA': [' ', 'Leo', 'Tau', 'Leo', 'Leo', 'Leo', 'Tau', 'Can', 'Sag', 'Sag', 'Can', 'Tau', 'Leo'], 'GrahaLordBhav': {'Su': [3], 'Mo': [2], 'Ma': [6, 11], 'Me': [1, 4], 'Ju': [7, 10], 'Ve': [5, 12], 'Sa': [8, 9]}, 'GrahaBhava': {'La': 1, 'Su': 3, 'Mo': 12, 'Ma': 12, 'Me': 3, 'Ju': 2, 'Ve': 3, 'Sa': 7, 'Ra': 8, 'Ke': 2}, 'LordBhav': [' ', 3, 12, 3, 3, 3, 12, 2, 7, 7, 2, 12, 3], 'exaltG': {'Su': False, 'Mo': True, 'Ma': False, 'Me': False, 'Ju': True, 'Ve': False, 'Sa': False}, 'debilG': {'Su': False, 'Mo': False, 'Ma': False, 'Me': False, 'Ju': False, 'Ve': False, 'Sa': False}, 'ownHouseG': {'Su': True, 'Mo': False, 'Ma': False, 'Me': False, 'Ju': False, 'Ve': False, 'Sa': False}, 'inFriendG': {'Su': False, 'Mo': False, 'Ma': False, 'Me': True, 'Ju': True, 'Ve': False, 'Sa': False}, 'inEnemyG': {'Su': False, 'Mo': False, 'Ma': False, 'Me': False, 'Ju': False, 'Ve': True, 'Sa': False}, 'exaltL': [False, False, True, False, False, False, False, True, False, False, True, False, False], 'debilL': [False, False, False, False, False, False, False, False, False, False, False, False, False], 'ownHouseL': [False, False, False, True, False, False, False, False, False, False, False, False, False], 'inFriendL': [False, True, False, False, True, False, False, True, False, False, True, False, False], 'inEnemyL': [False, False, False, False, False, True, False, False, False, False, False, False, True]}\n"
          ]
        }
      ]
    },
    {
      "cell_type": "code",
      "source": [
        "#selCond = {'pid.tags': {'$in': ['PostGraduate']}}\n",
        "\n",
        "selCond = {\"$and\":\n",
        "                    [\n",
        "                       {'pid.tags': {'$in': ['PostGraduate']}},\n",
        "                       {\"GRet.Me\" : {\"$eq\" : True}}\n",
        "                       \n",
        "                    ]\n",
        "}\n",
        "\n",
        "selCols = {'_id':0,'pid.name':1,'GRet':2, 'GLon':3,'Lord':4,'GrahaLordBhav':5,'GrahaBhava':6,'LordBhav':7,'exaltG':8,'exaltL':9,'debilG':10,'debilL':11}\n",
        "#selCols = {}\n",
        "\n",
        "df = pd.DataFrame(list(kollection.find(selCond,selCols)))\n",
        "df"
      ],
      "metadata": {
        "id": "KWim3oNAGd7R",
        "outputId": "7dc6e791-ef00-4bdd-b059-82b272f90f04",
        "colab": {
          "base_uri": "https://localhost:8080/",
          "height": 295
        }
      },
      "execution_count": 31,
      "outputs": [
        {
          "output_type": "execute_result",
          "data": {
            "text/html": [
              "\n",
              "  <div id=\"df-e9190c10-6632-48ce-98dd-8f35e7af6763\">\n",
              "    <div class=\"colab-df-container\">\n",
              "      <div>\n",
              "<style scoped>\n",
              "    .dataframe tbody tr th:only-of-type {\n",
              "        vertical-align: middle;\n",
              "    }\n",
              "\n",
              "    .dataframe tbody tr th {\n",
              "        vertical-align: top;\n",
              "    }\n",
              "\n",
              "    .dataframe thead th {\n",
              "        text-align: right;\n",
              "    }\n",
              "</style>\n",
              "<table border=\"1\" class=\"dataframe\">\n",
              "  <thead>\n",
              "    <tr style=\"text-align: right;\">\n",
              "      <th></th>\n",
              "      <th>pid</th>\n",
              "      <th>GLon</th>\n",
              "      <th>GRet</th>\n",
              "      <th>Lord</th>\n",
              "      <th>GrahaLordBhav</th>\n",
              "      <th>GrahaBhava</th>\n",
              "      <th>LordBhav</th>\n",
              "      <th>exaltG</th>\n",
              "      <th>debilG</th>\n",
              "      <th>exaltL</th>\n",
              "      <th>debilL</th>\n",
              "    </tr>\n",
              "  </thead>\n",
              "  <tbody>\n",
              "    <tr>\n",
              "      <th>0</th>\n",
              "      <td>{'name': 'mosu'}</td>\n",
              "      <td>{'La': 98.204, 'Su': 178.826, 'Mo': 250.52, 'M...</td>\n",
              "      <td>{'La': False, 'Su': False, 'Mo': False, 'Ma': ...</td>\n",
              "      <td>[ , Mo, Su, Me, Ve, Ma, Ju, Sa, Sa, Ju, Ma, Ve...</td>\n",
              "      <td>{'Su': [2], 'Mo': [1], 'Ma': [5, 10], 'Me': [3...</td>\n",
              "      <td>{'La': 1, 'Su': 3, 'Mo': 6, 'Ma': 4, 'Me': 4, ...</td>\n",
              "      <td>[ , 6, 3, 4, 3, 4, 7, 7, 7, 7, 4, 3, 4]</td>\n",
              "      <td>{'Su': False, 'Mo': False, 'Ma': False, 'Me': ...</td>\n",
              "      <td>{'Su': False, 'Mo': False, 'Ma': False, 'Me': ...</td>\n",
              "      <td>[False, False, False, False, False, False, Fal...</td>\n",
              "      <td>[False, False, False, False, True, False, True...</td>\n",
              "    </tr>\n",
              "    <tr>\n",
              "      <th>1</th>\n",
              "      <td>{'name': 'aajlinnn'}</td>\n",
              "      <td>{'La': 84.138, 'Su': 145.068, 'Mo': 54.233, 'M...</td>\n",
              "      <td>{'La': False, 'Su': False, 'Mo': False, 'Ma': ...</td>\n",
              "      <td>[ , Me, Mo, Su, Me, Ve, Ma, Ju, Sa, Sa, Ju, Ma...</td>\n",
              "      <td>{'Su': [3], 'Mo': [2], 'Ma': [6, 11], 'Me': [1...</td>\n",
              "      <td>{'La': 1, 'Su': 3, 'Mo': 12, 'Ma': 12, 'Me': 3...</td>\n",
              "      <td>[ , 3, 12, 3, 3, 3, 12, 2, 7, 7, 2, 12, 3]</td>\n",
              "      <td>{'Su': False, 'Mo': True, 'Ma': False, 'Me': F...</td>\n",
              "      <td>{'Su': False, 'Mo': False, 'Ma': False, 'Me': ...</td>\n",
              "      <td>[False, False, True, False, False, False, Fals...</td>\n",
              "      <td>[False, False, False, False, False, False, Fal...</td>\n",
              "    </tr>\n",
              "  </tbody>\n",
              "</table>\n",
              "</div>\n",
              "      <button class=\"colab-df-convert\" onclick=\"convertToInteractive('df-e9190c10-6632-48ce-98dd-8f35e7af6763')\"\n",
              "              title=\"Convert this dataframe to an interactive table.\"\n",
              "              style=\"display:none;\">\n",
              "        \n",
              "  <svg xmlns=\"http://www.w3.org/2000/svg\" height=\"24px\"viewBox=\"0 0 24 24\"\n",
              "       width=\"24px\">\n",
              "    <path d=\"M0 0h24v24H0V0z\" fill=\"none\"/>\n",
              "    <path d=\"M18.56 5.44l.94 2.06.94-2.06 2.06-.94-2.06-.94-.94-2.06-.94 2.06-2.06.94zm-11 1L8.5 8.5l.94-2.06 2.06-.94-2.06-.94L8.5 2.5l-.94 2.06-2.06.94zm10 10l.94 2.06.94-2.06 2.06-.94-2.06-.94-.94-2.06-.94 2.06-2.06.94z\"/><path d=\"M17.41 7.96l-1.37-1.37c-.4-.4-.92-.59-1.43-.59-.52 0-1.04.2-1.43.59L10.3 9.45l-7.72 7.72c-.78.78-.78 2.05 0 2.83L4 21.41c.39.39.9.59 1.41.59.51 0 1.02-.2 1.41-.59l7.78-7.78 2.81-2.81c.8-.78.8-2.07 0-2.86zM5.41 20L4 18.59l7.72-7.72 1.47 1.35L5.41 20z\"/>\n",
              "  </svg>\n",
              "      </button>\n",
              "      \n",
              "  <style>\n",
              "    .colab-df-container {\n",
              "      display:flex;\n",
              "      flex-wrap:wrap;\n",
              "      gap: 12px;\n",
              "    }\n",
              "\n",
              "    .colab-df-convert {\n",
              "      background-color: #E8F0FE;\n",
              "      border: none;\n",
              "      border-radius: 50%;\n",
              "      cursor: pointer;\n",
              "      display: none;\n",
              "      fill: #1967D2;\n",
              "      height: 32px;\n",
              "      padding: 0 0 0 0;\n",
              "      width: 32px;\n",
              "    }\n",
              "\n",
              "    .colab-df-convert:hover {\n",
              "      background-color: #E2EBFA;\n",
              "      box-shadow: 0px 1px 2px rgba(60, 64, 67, 0.3), 0px 1px 3px 1px rgba(60, 64, 67, 0.15);\n",
              "      fill: #174EA6;\n",
              "    }\n",
              "\n",
              "    [theme=dark] .colab-df-convert {\n",
              "      background-color: #3B4455;\n",
              "      fill: #D2E3FC;\n",
              "    }\n",
              "\n",
              "    [theme=dark] .colab-df-convert:hover {\n",
              "      background-color: #434B5C;\n",
              "      box-shadow: 0px 1px 3px 1px rgba(0, 0, 0, 0.15);\n",
              "      filter: drop-shadow(0px 1px 2px rgba(0, 0, 0, 0.3));\n",
              "      fill: #FFFFFF;\n",
              "    }\n",
              "  </style>\n",
              "\n",
              "      <script>\n",
              "        const buttonEl =\n",
              "          document.querySelector('#df-e9190c10-6632-48ce-98dd-8f35e7af6763 button.colab-df-convert');\n",
              "        buttonEl.style.display =\n",
              "          google.colab.kernel.accessAllowed ? 'block' : 'none';\n",
              "\n",
              "        async function convertToInteractive(key) {\n",
              "          const element = document.querySelector('#df-e9190c10-6632-48ce-98dd-8f35e7af6763');\n",
              "          const dataTable =\n",
              "            await google.colab.kernel.invokeFunction('convertToInteractive',\n",
              "                                                     [key], {});\n",
              "          if (!dataTable) return;\n",
              "\n",
              "          const docLinkHtml = 'Like what you see? Visit the ' +\n",
              "            '<a target=\"_blank\" href=https://colab.research.google.com/notebooks/data_table.ipynb>data table notebook</a>'\n",
              "            + ' to learn more about interactive tables.';\n",
              "          element.innerHTML = '';\n",
              "          dataTable['output_type'] = 'display_data';\n",
              "          await google.colab.output.renderOutput(dataTable, element);\n",
              "          const docLink = document.createElement('div');\n",
              "          docLink.innerHTML = docLinkHtml;\n",
              "          element.appendChild(docLink);\n",
              "        }\n",
              "      </script>\n",
              "    </div>\n",
              "  </div>\n",
              "  "
            ],
            "text/plain": [
              "                    pid  ...                                             debilL\n",
              "0      {'name': 'mosu'}  ...  [False, False, False, False, True, False, True...\n",
              "1  {'name': 'aajlinnn'}  ...  [False, False, False, False, False, False, Fal...\n",
              "\n",
              "[2 rows x 11 columns]"
            ]
          },
          "metadata": {},
          "execution_count": 31
        }
      ]
    },
    {
      "cell_type": "code",
      "source": [
        "#df = pd.DataFrame(list(kollection.find({'pid.tags': {\"$in\": ['PostGraduate']}},{'pid.name':1,\"_id\":0,'GLon':1,'GRet':1})))\n",
        "#df"
      ],
      "metadata": {
        "id": "gGtojxPZxmku"
      },
      "execution_count": null,
      "outputs": []
    },
    {
      "cell_type": "markdown",
      "source": [
        "#Generate Report\n",
        "for all retrieved charts"
      ],
      "metadata": {
        "id": "LMA40MOq1jse"
      }
    },
    {
      "cell_type": "code",
      "source": [
        "now = datetime.now(pytz.timezone('Asia/Kolkata'))\n",
        "fileName = 'Khona21_'+now.strftime(\"%H%M\")+'.doc'\n",
        "curQueryStr = json.dumps(selCond)\n",
        "# ---------------------------------------------------------\n",
        "p21utils.R01_CreateReportDoc(curQueryStr)                      # Creates MS Word Doc called p21.document\n",
        "# ----------------------------------------------------------\n",
        "for chart in range(len(df)):\n",
        "    chartData =df.iloc[chart]\n",
        "    R51_processChart(chartData)\n",
        "    print('----')\n",
        "# ------------------------------------\n",
        "p21.document.save(fileName)"
      ],
      "metadata": {
        "colab": {
          "base_uri": "https://localhost:8080/",
          "height": 1000
        },
        "id": "GsBz42g61mpE",
        "outputId": "1a47fa41-f1d0-4184-e664-abe632bf4074"
      },
      "execution_count": 35,
      "outputs": [
        {
          "output_type": "stream",
          "name": "stdout",
          "text": [
            "exalted Graha {'Su': False, 'Mo': False, 'Ma': False, 'Me': False, 'Ju': False, 'Ve': False, 'Sa': False}\n",
            "exalted Lord [False, False, False, False, False, False, False, False, False, False, False, False, False]\n",
            "debil Graha {'Su': False, 'Mo': False, 'Ma': False, 'Me': False, 'Ju': True, 'Ve': True, 'Sa': False}\n",
            "debil Lord [False, False, False, False, True, False, True, False, False, True, False, True, False]\n",
            "----\n",
            "exalted Graha {'Su': False, 'Mo': True, 'Ma': False, 'Me': False, 'Ju': True, 'Ve': False, 'Sa': False}\n",
            "exalted Lord [False, False, True, False, False, False, False, True, False, False, True, False, False]\n",
            "debil Graha {'Su': False, 'Mo': False, 'Ma': False, 'Me': False, 'Ju': False, 'Ve': False, 'Sa': False}\n",
            "debil Lord [False, False, False, False, False, False, False, False, False, False, False, False, False]\n",
            "----\n"
          ]
        },
        {
          "output_type": "display_data",
          "data": {
            "image/png": "[encoded data removed]",
            "text/plain": [
              "<Figure size 504x504 with 1 Axes>"
            ]
          },
          "metadata": {}
        },
        {
          "output_type": "display_data",
          "data": {
            "image/png": "[encoded data removed]",
            "text/plain": [
              "<Figure size 504x504 with 1 Axes>"
            ]
          },
          "metadata": {}
        },
        {
          "output_type": "display_data",
          "data": {
            "image/png": "[encoded data removed]",
            "text/plain": [
              "<Figure size 504x504 with 1 Axes>"
            ]
          },
          "metadata": {}
        },
        {
          "output_type": "display_data",
          "data": {
            "image/png": "[encoded data removed]",
            "text/plain": [
              "<Figure size 504x504 with 1 Axes>"
            ]
          },
          "metadata": {}
        }
      ]
    }
  ]
}