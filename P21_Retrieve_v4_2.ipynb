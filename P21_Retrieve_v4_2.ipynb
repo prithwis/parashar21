{
  "nbformat": 4,
  "nbformat_minor": 0,
  "metadata": {
    "colab": {
      "name": "P21_Retrieve_v4.2",
      "provenance": [],
      "authorship_tag": "ABX9TyPiRW/QXJB+X3Sdbh1aoEGr",
      "include_colab_link": true
    },
    "kernelspec": {
      "name": "python3",
      "display_name": "Python 3"
    },
    "language_info": {
      "name": "python"
    }
  },
  "cells": [
    {
      "cell_type": "markdown",
      "metadata": {
        "id": "view-in-github",
        "colab_type": "text"
      },
      "source": [
        "<a href=\"https://colab.research.google.com/github/prithwis/parashar21/blob/main/P21_Retrieve_v4_2.ipynb\" target=\"_parent\"><img src=\"https://colab.research.google.com/assets/colab-badge.svg\" alt=\"Open In Colab\"/></a>"
      ]
    },
    {
      "cell_type": "markdown",
      "source": [
        "![alt text](http://1.bp.blogspot.com/_5QlanosqxiQ/SXLOLTu7S7I/AAAAAAAAAm8/0r6C7lCxsic/S1600-R/p21-header-003.png) <br>\n",
        "\n",
        "\n",
        "---\n",
        "\n",
        "\n",
        "![CC-BY-SA](https://licensebuttons.net/l/by-sa/3.0/88x31.png) ||\n",
        "[Prithwis Mukerjee](http://www.yantrajaal.com) ||\n",
        "Website - [Parashar21](https://parashar21.blogspot.com)<br>"
      ],
      "metadata": {
        "id": "rj4jjIHTvPV8"
      }
    },
    {
      "cell_type": "markdown",
      "source": [
        "#SetUp"
      ],
      "metadata": {
        "id": "l2v2nhRKvwJS"
      }
    },
    {
      "cell_type": "markdown",
      "source": [
        "##Installs"
      ],
      "metadata": {
        "id": "djqyotVjO5TI"
      }
    },
    {
      "cell_type": "code",
      "source": [
        "!pip -qq install pyswisseph                 # https://stackoverflow.com/questions/64277506/pip-install-options-unclear\n",
        "!pip -qq install python-docx                #https://python-docx.readthedocs.io/en/latest/\n",
        "!pip -qq install python_string_utils\n",
        "!apt install mongodb > /dev/null"
      ],
      "metadata": {
        "colab": {
          "base_uri": "https://localhost:8080/"
        },
        "id": "AWKFabc0v3FI",
        "outputId": "36f6f568-4a46-40be-f2ea-cefd9c8a9762"
      },
      "execution_count": 1,
      "outputs": [
        {
          "output_type": "stream",
          "name": "stdout",
          "text": [
            "\u001b[?25l\r\u001b[K     |▋                               | 10 kB 27.1 MB/s eta 0:00:01\r\u001b[K     |█▎                              | 20 kB 28.8 MB/s eta 0:00:01\r\u001b[K     |█▉                              | 30 kB 11.8 MB/s eta 0:00:01\r\u001b[K     |██▌                             | 40 kB 9.6 MB/s eta 0:00:01\r\u001b[K     |███▏                            | 51 kB 4.3 MB/s eta 0:00:01\r\u001b[K     |███▊                            | 61 kB 4.7 MB/s eta 0:00:01\r\u001b[K     |████▍                           | 71 kB 4.4 MB/s eta 0:00:01\r\u001b[K     |█████                           | 81 kB 4.9 MB/s eta 0:00:01\r\u001b[K     |█████▋                          | 92 kB 4.9 MB/s eta 0:00:01\r\u001b[K     |██████▎                         | 102 kB 4.1 MB/s eta 0:00:01\r\u001b[K     |███████                         | 112 kB 4.1 MB/s eta 0:00:01\r\u001b[K     |███████▌                        | 122 kB 4.1 MB/s eta 0:00:01\r\u001b[K     |████████▏                       | 133 kB 4.1 MB/s eta 0:00:01\r\u001b[K     |████████▉                       | 143 kB 4.1 MB/s eta 0:00:01\r\u001b[K     |█████████▍                      | 153 kB 4.1 MB/s eta 0:00:01\r\u001b[K     |██████████                      | 163 kB 4.1 MB/s eta 0:00:01\r\u001b[K     |██████████▊                     | 174 kB 4.1 MB/s eta 0:00:01\r\u001b[K     |███████████▎                    | 184 kB 4.1 MB/s eta 0:00:01\r\u001b[K     |████████████                    | 194 kB 4.1 MB/s eta 0:00:01\r\u001b[K     |████████████▋                   | 204 kB 4.1 MB/s eta 0:00:01\r\u001b[K     |█████████████▏                  | 215 kB 4.1 MB/s eta 0:00:01\r\u001b[K     |█████████████▉                  | 225 kB 4.1 MB/s eta 0:00:01\r\u001b[K     |██████████████▌                 | 235 kB 4.1 MB/s eta 0:00:01\r\u001b[K     |███████████████                 | 245 kB 4.1 MB/s eta 0:00:01\r\u001b[K     |███████████████▊                | 256 kB 4.1 MB/s eta 0:00:01\r\u001b[K     |████████████████▍               | 266 kB 4.1 MB/s eta 0:00:01\r\u001b[K     |█████████████████               | 276 kB 4.1 MB/s eta 0:00:01\r\u001b[K     |█████████████████▋              | 286 kB 4.1 MB/s eta 0:00:01\r\u001b[K     |██████████████████▏             | 296 kB 4.1 MB/s eta 0:00:01\r\u001b[K     |██████████████████▉             | 307 kB 4.1 MB/s eta 0:00:01\r\u001b[K     |███████████████████▌            | 317 kB 4.1 MB/s eta 0:00:01\r\u001b[K     |████████████████████            | 327 kB 4.1 MB/s eta 0:00:01\r\u001b[K     |████████████████████▊           | 337 kB 4.1 MB/s eta 0:00:01\r\u001b[K     |█████████████████████▍          | 348 kB 4.1 MB/s eta 0:00:01\r\u001b[K     |██████████████████████          | 358 kB 4.1 MB/s eta 0:00:01\r\u001b[K     |██████████████████████▋         | 368 kB 4.1 MB/s eta 0:00:01\r\u001b[K     |███████████████████████▎        | 378 kB 4.1 MB/s eta 0:00:01\r\u001b[K     |███████████████████████▉        | 389 kB 4.1 MB/s eta 0:00:01\r\u001b[K     |████████████████████████▌       | 399 kB 4.1 MB/s eta 0:00:01\r\u001b[K     |█████████████████████████▏      | 409 kB 4.1 MB/s eta 0:00:01\r\u001b[K     |█████████████████████████▊      | 419 kB 4.1 MB/s eta 0:00:01\r\u001b[K     |██████████████████████████▍     | 430 kB 4.1 MB/s eta 0:00:01\r\u001b[K     |███████████████████████████     | 440 kB 4.1 MB/s eta 0:00:01\r\u001b[K     |███████████████████████████▋    | 450 kB 4.1 MB/s eta 0:00:01\r\u001b[K     |████████████████████████████▎   | 460 kB 4.1 MB/s eta 0:00:01\r\u001b[K     |█████████████████████████████   | 471 kB 4.1 MB/s eta 0:00:01\r\u001b[K     |█████████████████████████████▌  | 481 kB 4.1 MB/s eta 0:00:01\r\u001b[K     |██████████████████████████████▏ | 491 kB 4.1 MB/s eta 0:00:01\r\u001b[K     |██████████████████████████████▉ | 501 kB 4.1 MB/s eta 0:00:01\r\u001b[K     |███████████████████████████████▍| 512 kB 4.1 MB/s eta 0:00:01\r\u001b[K     |████████████████████████████████| 521 kB 4.1 MB/s \n",
            "\u001b[?25h  Building wheel for pyswisseph (setup.py) ... \u001b[?25l\u001b[?25hdone\n",
            "\u001b[K     |████████████████████████████████| 5.6 MB 4.1 MB/s \n",
            "\u001b[?25h  Building wheel for python-docx (setup.py) ... \u001b[?25l\u001b[?25hdone\n",
            "\n",
            "WARNING: apt does not have a stable CLI interface. Use with caution in scripts.\n",
            "\n"
          ]
        }
      ]
    },
    {
      "cell_type": "code",
      "source": [
        "#Utility functions \n",
        "from pymongo import MongoClient\n",
        "import pandas as pd\n",
        "import dateutil\n",
        "#import matplotlib.pyplot as plt\n",
        "import math\n",
        "import json\n",
        "from docx import Document\n",
        "from docx.shared import Inches\n",
        "from datetime import datetime\n",
        "from datetime import timedelta\n",
        "import pytz\n"
      ],
      "metadata": {
        "id": "tsCga6c8pLvM"
      },
      "execution_count": 32,
      "outputs": []
    },
    {
      "cell_type": "code",
      "source": [
        "#Load p21 modules from github\n",
        "!wget -O p21.py -q https://raw.githubusercontent.com/prithwis/parashar21/main/utils/p21.py                  # all global variables\n",
        "!wget -O p21utils.py -q https://raw.githubusercontent.com/prithwis/parashar21/main/utils/p21utils.py        # large number of utility functions\n",
        "# ---------------------------\n",
        "import p21\n",
        "import p21utils\n"
      ],
      "metadata": {
        "id": "uwAT_IbvB0A-",
        "outputId": "d0b732bb-93c3-4b71-d62a-4e9c5b98bb68",
        "colab": {
          "base_uri": "https://localhost:8080/"
        }
      },
      "execution_count": 3,
      "outputs": [
        {
          "output_type": "stream",
          "name": "stdout",
          "text": [
            "p21utils imported\n"
          ]
        }
      ]
    },
    {
      "cell_type": "code",
      "source": [
        "#!cat p21utils.py\n",
        "# ------------------------------------------------\n",
        "# required for multiple imports of the same module\n",
        "# ------------------------------------------------\n",
        "import importlib\n",
        "importlib.reload(p21)\n",
        "importlib.reload(p21utils)"
      ],
      "metadata": {
        "id": "xOlbcnu33PmG",
        "outputId": "eb96597f-6904-41e0-ea94-2370774803fa",
        "colab": {
          "base_uri": "https://localhost:8080/"
        }
      },
      "execution_count": 4,
      "outputs": [
        {
          "output_type": "stream",
          "name": "stdout",
          "text": [
            "p21utils imported\n"
          ]
        },
        {
          "output_type": "execute_result",
          "data": {
            "text/plain": [
              "<module 'p21utils' from '/content/p21utils.py'>"
            ]
          },
          "metadata": {},
          "execution_count": 4
        }
      ]
    },
    {
      "cell_type": "code",
      "source": [
        "from google.colab import drive\n",
        "drive.mount('/content/drive')\n",
        "# -------------------------------------------\n",
        "# copy credentials file\n",
        "!cp /content/drive/'My Drive'/Praxis/WebCredentials/clevercloudMongoDB.py credentials.py\n",
        "# -------------------------------------------\n",
        "# MongoDB credentials are stored here\n",
        "#\n",
        "from credentials import rhostName,ruserName,rpassWord,rdbName,rMongoURI\n",
        "print(rdbName)\n",
        "# -------------------------------------------\n",
        "mongoURI = rMongoURI                                   # for remote server\n",
        "client = MongoClient(mongoURI)\n",
        "client.list_database_names() # ['admin', 'local']\n",
        "# ----------------------------------------------\n",
        "# Show existing Collections\n",
        "db = client.btncgfi3a5bxyea\n",
        "pd.DataFrame(list(db.list_collections()))"
      ],
      "metadata": {
        "colab": {
          "base_uri": "https://localhost:8080/",
          "height": 178
        },
        "id": "I3Z74iSKv7FK",
        "outputId": "bcec715c-bb4f-4366-ef4f-bc0a5c8ff544"
      },
      "execution_count": 5,
      "outputs": [
        {
          "output_type": "stream",
          "name": "stdout",
          "text": [
            "Mounted at /content/drive\n",
            "btncgfi3a5bxyea\n"
          ]
        },
        {
          "output_type": "execute_result",
          "data": {
            "text/html": [
              "\n",
              "  <div id=\"df-0e0165c7-d05b-45f1-99a6-c9ff34615ef6\">\n",
              "    <div class=\"colab-df-container\">\n",
              "      <div>\n",
              "<style scoped>\n",
              "    .dataframe tbody tr th:only-of-type {\n",
              "        vertical-align: middle;\n",
              "    }\n",
              "\n",
              "    .dataframe tbody tr th {\n",
              "        vertical-align: top;\n",
              "    }\n",
              "\n",
              "    .dataframe thead th {\n",
              "        text-align: right;\n",
              "    }\n",
              "</style>\n",
              "<table border=\"1\" class=\"dataframe\">\n",
              "  <thead>\n",
              "    <tr style=\"text-align: right;\">\n",
              "      <th></th>\n",
              "      <th>name</th>\n",
              "      <th>type</th>\n",
              "      <th>options</th>\n",
              "      <th>info</th>\n",
              "      <th>idIndex</th>\n",
              "    </tr>\n",
              "  </thead>\n",
              "  <tbody>\n",
              "    <tr>\n",
              "      <th>0</th>\n",
              "      <td>khawnaa42</td>\n",
              "      <td>collection</td>\n",
              "      <td>{}</td>\n",
              "      <td>{'readOnly': False, 'uuid': b'\\xc5b\\xc6\\x89\\xf...</td>\n",
              "      <td>{'v': 2, 'key': {'_id': 1}, 'name': '_id_', 'n...</td>\n",
              "    </tr>\n",
              "    <tr>\n",
              "      <th>1</th>\n",
              "      <td>restaurants</td>\n",
              "      <td>collection</td>\n",
              "      <td>{}</td>\n",
              "      <td>{'readOnly': False, 'uuid': b\"\\x8b\\x1fUf\\x80\\x...</td>\n",
              "      <td>{'v': 2, 'key': {'_id': 1}, 'name': '_id_', 'n...</td>\n",
              "    </tr>\n",
              "    <tr>\n",
              "      <th>2</th>\n",
              "      <td>khona21_43</td>\n",
              "      <td>collection</td>\n",
              "      <td>{}</td>\n",
              "      <td>{'readOnly': False, 'uuid': b'\\xf9oC\\xb7l\\xb1I...</td>\n",
              "      <td>{'v': 2, 'key': {'_id': 1}, 'name': '_id_', 'n...</td>\n",
              "    </tr>\n",
              "  </tbody>\n",
              "</table>\n",
              "</div>\n",
              "      <button class=\"colab-df-convert\" onclick=\"convertToInteractive('df-0e0165c7-d05b-45f1-99a6-c9ff34615ef6')\"\n",
              "              title=\"Convert this dataframe to an interactive table.\"\n",
              "              style=\"display:none;\">\n",
              "        \n",
              "  <svg xmlns=\"http://www.w3.org/2000/svg\" height=\"24px\"viewBox=\"0 0 24 24\"\n",
              "       width=\"24px\">\n",
              "    <path d=\"M0 0h24v24H0V0z\" fill=\"none\"/>\n",
              "    <path d=\"M18.56 5.44l.94 2.06.94-2.06 2.06-.94-2.06-.94-.94-2.06-.94 2.06-2.06.94zm-11 1L8.5 8.5l.94-2.06 2.06-.94-2.06-.94L8.5 2.5l-.94 2.06-2.06.94zm10 10l.94 2.06.94-2.06 2.06-.94-2.06-.94-.94-2.06-.94 2.06-2.06.94z\"/><path d=\"M17.41 7.96l-1.37-1.37c-.4-.4-.92-.59-1.43-.59-.52 0-1.04.2-1.43.59L10.3 9.45l-7.72 7.72c-.78.78-.78 2.05 0 2.83L4 21.41c.39.39.9.59 1.41.59.51 0 1.02-.2 1.41-.59l7.78-7.78 2.81-2.81c.8-.78.8-2.07 0-2.86zM5.41 20L4 18.59l7.72-7.72 1.47 1.35L5.41 20z\"/>\n",
              "  </svg>\n",
              "      </button>\n",
              "      \n",
              "  <style>\n",
              "    .colab-df-container {\n",
              "      display:flex;\n",
              "      flex-wrap:wrap;\n",
              "      gap: 12px;\n",
              "    }\n",
              "\n",
              "    .colab-df-convert {\n",
              "      background-color: #E8F0FE;\n",
              "      border: none;\n",
              "      border-radius: 50%;\n",
              "      cursor: pointer;\n",
              "      display: none;\n",
              "      fill: #1967D2;\n",
              "      height: 32px;\n",
              "      padding: 0 0 0 0;\n",
              "      width: 32px;\n",
              "    }\n",
              "\n",
              "    .colab-df-convert:hover {\n",
              "      background-color: #E2EBFA;\n",
              "      box-shadow: 0px 1px 2px rgba(60, 64, 67, 0.3), 0px 1px 3px 1px rgba(60, 64, 67, 0.15);\n",
              "      fill: #174EA6;\n",
              "    }\n",
              "\n",
              "    [theme=dark] .colab-df-convert {\n",
              "      background-color: #3B4455;\n",
              "      fill: #D2E3FC;\n",
              "    }\n",
              "\n",
              "    [theme=dark] .colab-df-convert:hover {\n",
              "      background-color: #434B5C;\n",
              "      box-shadow: 0px 1px 3px 1px rgba(0, 0, 0, 0.15);\n",
              "      filter: drop-shadow(0px 1px 2px rgba(0, 0, 0, 0.3));\n",
              "      fill: #FFFFFF;\n",
              "    }\n",
              "  </style>\n",
              "\n",
              "      <script>\n",
              "        const buttonEl =\n",
              "          document.querySelector('#df-0e0165c7-d05b-45f1-99a6-c9ff34615ef6 button.colab-df-convert');\n",
              "        buttonEl.style.display =\n",
              "          google.colab.kernel.accessAllowed ? 'block' : 'none';\n",
              "\n",
              "        async function convertToInteractive(key) {\n",
              "          const element = document.querySelector('#df-0e0165c7-d05b-45f1-99a6-c9ff34615ef6');\n",
              "          const dataTable =\n",
              "            await google.colab.kernel.invokeFunction('convertToInteractive',\n",
              "                                                     [key], {});\n",
              "          if (!dataTable) return;\n",
              "\n",
              "          const docLinkHtml = 'Like what you see? Visit the ' +\n",
              "            '<a target=\"_blank\" href=https://colab.research.google.com/notebooks/data_table.ipynb>data table notebook</a>'\n",
              "            + ' to learn more about interactive tables.';\n",
              "          element.innerHTML = '';\n",
              "          dataTable['output_type'] = 'display_data';\n",
              "          await google.colab.output.renderOutput(dataTable, element);\n",
              "          const docLink = document.createElement('div');\n",
              "          docLink.innerHTML = docLinkHtml;\n",
              "          element.appendChild(docLink);\n",
              "        }\n",
              "      </script>\n",
              "    </div>\n",
              "  </div>\n",
              "  "
            ],
            "text/plain": [
              "          name  ...                                            idIndex\n",
              "0    khawnaa42  ...  {'v': 2, 'key': {'_id': 1}, 'name': '_id_', 'n...\n",
              "1  restaurants  ...  {'v': 2, 'key': {'_id': 1}, 'name': '_id_', 'n...\n",
              "2   khona21_43  ...  {'v': 2, 'key': {'_id': 1}, 'name': '_id_', 'n...\n",
              "\n",
              "[3 rows x 5 columns]"
            ]
          },
          "metadata": {},
          "execution_count": 5
        }
      ]
    },
    {
      "cell_type": "markdown",
      "source": [
        "#Analysis Procedures"
      ],
      "metadata": {
        "id": "6ZEpXLL12Pgk"
      }
    },
    {
      "cell_type": "code",
      "source": [
        "def R511_parseChartData(c):\n",
        "\n",
        "    p21.GLon = c['GLon']\n",
        "    p21.GRet = c['GRet']\n",
        "    pid = c['pid']\n",
        "    p21.pName = pid['name']\n",
        "    "
      ],
      "metadata": {
        "id": "5jaokY2B3dcB"
      },
      "execution_count": 6,
      "outputs": []
    },
    {
      "cell_type": "code",
      "source": [
        "def R02_AddPage():\n",
        "    #p21.document.add_picture('./RashiChart.png', width=Inches(4.25))\n",
        "    #p21.document.add_picture('./NavamshaChart.png', width=Inches(4.25))\n",
        "    \n",
        "    \n",
        "    p1 = p21.document.add_paragraph(p21.pName)\n",
        "    p2 = p21.document.add_paragraph()\n",
        "    run_1 = p2.add_run()\n",
        "    run_1.add_picture('./RashiChart.png', width=Inches(3.0))\n",
        "    run_2 = p2.add_run()\n",
        "    run_2.add_picture('./NavamsaChart.png', width=Inches(3.0))\n",
        "    #p21.document.add_page_break()"
      ],
      "metadata": {
        "id": "97YziAau5FHy"
      },
      "execution_count": 7,
      "outputs": []
    },
    {
      "cell_type": "code",
      "source": [
        "def R51_processChart(c):\n",
        "    R511_parseChartData(c)              # Break up database data into useful pieces\n",
        "                                        # Creates two primary dicts, GLon, GRet\n",
        "    for ctype in ['Rashi','Navamsa']:\n",
        "        p21.ChartType = ctype\n",
        "        p21utils.R11_LocateGrahaInRashi()   # Converts Graha Long to Rashi positions\n",
        "                                            # Rashi name as well as Rashi name\n",
        "        p21utils.R12B_drawChart_Bengal()    # Draw Chart in Bengal style\n",
        "                                            # Needs to know type, Natal or Navamsha\n",
        "    R02_AddPage()\n",
        "    #print(c)"
      ],
      "metadata": {
        "id": "F-upyZOi2O5n"
      },
      "execution_count": 8,
      "outputs": []
    },
    {
      "cell_type": "markdown",
      "source": [
        "#Retrieve Charts "
      ],
      "metadata": {
        "id": "nej02gxiwUcV"
      }
    },
    {
      "cell_type": "code",
      "source": [
        "#kollection = db.khawnaa42                   # Set the collection to work with\n",
        "kollection = db.khona21_43                   # Set the collection to work with\n",
        "c = kollection.find({},{'pid.tags':1,'pid.ck':1,'_id':0})\n",
        "for crnt in c:\n",
        "    print(crnt)\n"
      ],
      "metadata": {
        "colab": {
          "base_uri": "https://localhost:8080/"
        },
        "id": "K07dveNkwspG",
        "outputId": "845e9581-7263-4972-b744-844f9dc0e87f"
      },
      "execution_count": 10,
      "outputs": [
        {
          "output_type": "stream",
          "name": "stdout",
          "text": [
            "{'pid': {'tags': ['Engineer', 'Teacher', 'PostGraduate'], 'ck': 'M1961101523:425.522.5788.37'}}\n",
            "{'pid': {'tags': ['Author', 'Homemaker', 'PostGraduate'], 'ck': 'F1965121910:265.522.5788.37'}}\n",
            "{'pid': {'tags': ['Engineer', 'Teacher', 'PostGraduate'], 'ck': 'M199010923:095.522.5788.37'}}\n",
            "{'pid': {'tags': ['Biologist', 'Scientist', 'PostGraduate'], 'ck': 'F19909120:525.522.8788.37'}}\n",
            "{'pid': {'tags': ['Politician', 'Administrator', 'nil'], 'ck': 'M19509179:345.523.4872.36'}}\n"
          ]
        }
      ]
    },
    {
      "cell_type": "code",
      "source": [
        "c = kollection.find({'pid.tags': {\"$in\": ['PostGraduate']}},{'GLon':1,'GRet':1,'_id':0})\n",
        "for crnt in c:\n",
        "    print(crnt)"
      ],
      "metadata": {
        "colab": {
          "base_uri": "https://localhost:8080/"
        },
        "id": "pTjryQV2090u",
        "outputId": "615544ef-7fa6-489b-cdfb-2c668a7de412"
      },
      "execution_count": null,
      "outputs": [
        {
          "output_type": "stream",
          "name": "stdout",
          "text": [
            "{'GLon': {'La': 98.204, 'Su': 178.826, 'Mo': 250.52, 'Ma': 196.183, 'Me': 193.17, 'Ju': 274.781, 'Ve': 153.753, 'Sa': 270.179, 'Ra': 122.089, 'Ke': 302.089}, 'GRet': {'La': False, 'Su': False, 'Mo': False, 'Ma': False, 'Me': True, 'Ju': False, 'Ve': False, 'Sa': False, 'Ra': False, 'Ke': False}}\n",
            "{'GLon': {'La': 310.415, 'Su': 243.701, 'Mo': 201.001, 'Ma': 273.467, 'Me': 222.269, 'Ju': 62.748, 'Ve': 284.966, 'Sa': 318.17, 'Ra': 41.248, 'Ke': 221.248}, 'GRet': {'La': False, 'Su': False, 'Mo': False, 'Ma': False, 'Me': False, 'Ju': True, 'Ve': False, 'Sa': False, 'Ra': False, 'Ke': False}}\n",
            "{'GLon': {'La': 85.351, 'Su': 172.44, 'Mo': 63.984, 'Ma': 49.966, 'Me': 163.275, 'Ju': 105.898, 'Ve': 166.538, 'Sa': 265.202, 'Ra': 280.65, 'Ke': 100.65}, 'GRet': {'La': False, 'Su': False, 'Mo': False, 'Ma': False, 'Me': False, 'Ju': False, 'Ve': False, 'Sa': False, 'Ra': False, 'Ke': False}}\n",
            "{'GLon': {'La': 84.138, 'Su': 145.068, 'Mo': 54.233, 'Ma': 41.525, 'Me': 138.242, 'Ju': 101.216, 'Ve': 131.788, 'Sa': 265.084, 'Ra': 282.763, 'Ke': 102.763}, 'GRet': {'La': False, 'Su': False, 'Mo': False, 'Ma': False, 'Me': True, 'Ju': False, 'Ve': False, 'Sa': True, 'Ra': False, 'Ke': False}}\n"
          ]
        }
      ]
    },
    {
      "cell_type": "code",
      "source": [
        "#selCond = {'pid.tags': {'$in': ['PostGraduate']}}\n",
        "selCond = {\"$and\":\n",
        "                    [\n",
        "                       {'pid.tags': {'$in': ['PostGraduate']}},\n",
        "                       {\"GRet.Me\" : {\"$eq\" : True}}\n",
        "                       \n",
        "                    ]\n",
        "}\n",
        "\n",
        "selCols = {'_id':0,'pid.name':1,'GRet':2, 'GLon':3}\n",
        "\n",
        "df = pd.DataFrame(list(kollection.find(selCond,selCols)))\n",
        "df"
      ],
      "metadata": {
        "id": "KWim3oNAGd7R",
        "outputId": "c69e1ed6-43b7-4567-e310-99814477d26b",
        "colab": {
          "base_uri": "https://localhost:8080/",
          "height": 112
        }
      },
      "execution_count": 30,
      "outputs": [
        {
          "output_type": "execute_result",
          "data": {
            "text/html": [
              "\n",
              "  <div id=\"df-97f1e224-e069-4434-a15e-2ecf665d4513\">\n",
              "    <div class=\"colab-df-container\">\n",
              "      <div>\n",
              "<style scoped>\n",
              "    .dataframe tbody tr th:only-of-type {\n",
              "        vertical-align: middle;\n",
              "    }\n",
              "\n",
              "    .dataframe tbody tr th {\n",
              "        vertical-align: top;\n",
              "    }\n",
              "\n",
              "    .dataframe thead th {\n",
              "        text-align: right;\n",
              "    }\n",
              "</style>\n",
              "<table border=\"1\" class=\"dataframe\">\n",
              "  <thead>\n",
              "    <tr style=\"text-align: right;\">\n",
              "      <th></th>\n",
              "      <th>pid</th>\n",
              "      <th>GLon</th>\n",
              "      <th>GRet</th>\n",
              "    </tr>\n",
              "  </thead>\n",
              "  <tbody>\n",
              "    <tr>\n",
              "      <th>0</th>\n",
              "      <td>{'name': 'umso'}</td>\n",
              "      <td>{'La': 98.204, 'Su': 178.826, 'Mo': 250.52, 'M...</td>\n",
              "      <td>{'La': False, 'Su': False, 'Mo': False, 'Ma': ...</td>\n",
              "    </tr>\n",
              "    <tr>\n",
              "      <th>1</th>\n",
              "      <td>{'name': 'lanijnan'}</td>\n",
              "      <td>{'La': 84.138, 'Su': 145.068, 'Mo': 54.233, 'M...</td>\n",
              "      <td>{'La': False, 'Su': False, 'Mo': False, 'Ma': ...</td>\n",
              "    </tr>\n",
              "  </tbody>\n",
              "</table>\n",
              "</div>\n",
              "      <button class=\"colab-df-convert\" onclick=\"convertToInteractive('df-97f1e224-e069-4434-a15e-2ecf665d4513')\"\n",
              "              title=\"Convert this dataframe to an interactive table.\"\n",
              "              style=\"display:none;\">\n",
              "        \n",
              "  <svg xmlns=\"http://www.w3.org/2000/svg\" height=\"24px\"viewBox=\"0 0 24 24\"\n",
              "       width=\"24px\">\n",
              "    <path d=\"M0 0h24v24H0V0z\" fill=\"none\"/>\n",
              "    <path d=\"M18.56 5.44l.94 2.06.94-2.06 2.06-.94-2.06-.94-.94-2.06-.94 2.06-2.06.94zm-11 1L8.5 8.5l.94-2.06 2.06-.94-2.06-.94L8.5 2.5l-.94 2.06-2.06.94zm10 10l.94 2.06.94-2.06 2.06-.94-2.06-.94-.94-2.06-.94 2.06-2.06.94z\"/><path d=\"M17.41 7.96l-1.37-1.37c-.4-.4-.92-.59-1.43-.59-.52 0-1.04.2-1.43.59L10.3 9.45l-7.72 7.72c-.78.78-.78 2.05 0 2.83L4 21.41c.39.39.9.59 1.41.59.51 0 1.02-.2 1.41-.59l7.78-7.78 2.81-2.81c.8-.78.8-2.07 0-2.86zM5.41 20L4 18.59l7.72-7.72 1.47 1.35L5.41 20z\"/>\n",
              "  </svg>\n",
              "      </button>\n",
              "      \n",
              "  <style>\n",
              "    .colab-df-container {\n",
              "      display:flex;\n",
              "      flex-wrap:wrap;\n",
              "      gap: 12px;\n",
              "    }\n",
              "\n",
              "    .colab-df-convert {\n",
              "      background-color: #E8F0FE;\n",
              "      border: none;\n",
              "      border-radius: 50%;\n",
              "      cursor: pointer;\n",
              "      display: none;\n",
              "      fill: #1967D2;\n",
              "      height: 32px;\n",
              "      padding: 0 0 0 0;\n",
              "      width: 32px;\n",
              "    }\n",
              "\n",
              "    .colab-df-convert:hover {\n",
              "      background-color: #E2EBFA;\n",
              "      box-shadow: 0px 1px 2px rgba(60, 64, 67, 0.3), 0px 1px 3px 1px rgba(60, 64, 67, 0.15);\n",
              "      fill: #174EA6;\n",
              "    }\n",
              "\n",
              "    [theme=dark] .colab-df-convert {\n",
              "      background-color: #3B4455;\n",
              "      fill: #D2E3FC;\n",
              "    }\n",
              "\n",
              "    [theme=dark] .colab-df-convert:hover {\n",
              "      background-color: #434B5C;\n",
              "      box-shadow: 0px 1px 3px 1px rgba(0, 0, 0, 0.15);\n",
              "      filter: drop-shadow(0px 1px 2px rgba(0, 0, 0, 0.3));\n",
              "      fill: #FFFFFF;\n",
              "    }\n",
              "  </style>\n",
              "\n",
              "      <script>\n",
              "        const buttonEl =\n",
              "          document.querySelector('#df-97f1e224-e069-4434-a15e-2ecf665d4513 button.colab-df-convert');\n",
              "        buttonEl.style.display =\n",
              "          google.colab.kernel.accessAllowed ? 'block' : 'none';\n",
              "\n",
              "        async function convertToInteractive(key) {\n",
              "          const element = document.querySelector('#df-97f1e224-e069-4434-a15e-2ecf665d4513');\n",
              "          const dataTable =\n",
              "            await google.colab.kernel.invokeFunction('convertToInteractive',\n",
              "                                                     [key], {});\n",
              "          if (!dataTable) return;\n",
              "\n",
              "          const docLinkHtml = 'Like what you see? Visit the ' +\n",
              "            '<a target=\"_blank\" href=https://colab.research.google.com/notebooks/data_table.ipynb>data table notebook</a>'\n",
              "            + ' to learn more about interactive tables.';\n",
              "          element.innerHTML = '';\n",
              "          dataTable['output_type'] = 'display_data';\n",
              "          await google.colab.output.renderOutput(dataTable, element);\n",
              "          const docLink = document.createElement('div');\n",
              "          docLink.innerHTML = docLinkHtml;\n",
              "          element.appendChild(docLink);\n",
              "        }\n",
              "      </script>\n",
              "    </div>\n",
              "  </div>\n",
              "  "
            ],
            "text/plain": [
              "                    pid  ...                                               GRet\n",
              "0      {'name': 'umso'}  ...  {'La': False, 'Su': False, 'Mo': False, 'Ma': ...\n",
              "1  {'name': 'lanijnan'}  ...  {'La': False, 'Su': False, 'Mo': False, 'Ma': ...\n",
              "\n",
              "[2 rows x 3 columns]"
            ]
          },
          "metadata": {},
          "execution_count": 30
        }
      ]
    },
    {
      "cell_type": "code",
      "source": [
        "#df = pd.DataFrame(list(kollection.find({'pid.tags': {\"$in\": ['PostGraduate']}},{'pid.name':1,\"_id\":0,'GLon':1,'GRet':1})))\n",
        "#df"
      ],
      "metadata": {
        "id": "gGtojxPZxmku"
      },
      "execution_count": null,
      "outputs": []
    },
    {
      "cell_type": "markdown",
      "source": [
        "#Generate Report\n",
        "for all retrieved charts"
      ],
      "metadata": {
        "id": "LMA40MOq1jse"
      }
    },
    {
      "cell_type": "code",
      "source": [
        "now = datetime.now(pytz.timezone('Asia/Kolkata'))\n",
        "fileName = 'Khona21_'+now.strftime(\"%H%M\")+'.doc'\n",
        "curQueryStr = json.dumps(selCond)\n",
        "# ---------------------------------------------------------\n",
        "p21utils.R01_CreateReportDoc(curQueryStr)                      # Creates MS Word Doc called p21.document\n",
        "# ----------------------------------------------------------\n",
        "for chart in range(len(df)):\n",
        "    chartData =df.iloc[chart]\n",
        "    R51_processChart(chartData)\n",
        "    print('----')\n",
        "# ------------------------------------\n",
        "p21.document.save(fileName)"
      ],
      "metadata": {
        "colab": {
          "base_uri": "https://localhost:8080/",
          "height": 1000
        },
        "id": "GsBz42g61mpE",
        "outputId": "93f8914e-0aea-4a88-c060-95727f04f5b0"
      },
      "execution_count": 33,
      "outputs": [
        {
          "output_type": "stream",
          "name": "stdout",
          "text": [
            "13 Jan 2022\n",
            "----\n",
            "----\n"
          ]
        },
        {
          "output_type": "display_data",
          "data": {
            "image/png": "[encoded data removed]",
            "text/plain": [
              "<Figure size 504x504 with 1 Axes>"
            ]
          },
          "metadata": {}
        },
        {
          "output_type": "display_data",
          "data": {
            "image/png": "[encoded data removed]",
            "text/plain": [
              "<Figure size 504x504 with 1 Axes>"
            ]
          },
          "metadata": {}
        },
        {
          "output_type": "display_data",
          "data": {
            "image/png": "[encoded data removed]",
            "text/plain": [
              "<Figure size 504x504 with 1 Axes>"
            ]
          },
          "metadata": {}
        },
        {
          "output_type": "display_data",
          "data": {
            "image/png": "[encoded data removed]",
            "text/plain": [
              "<Figure size 504x504 with 1 Axes>"
            ]
          },
          "metadata": {}
        }
      ]
    }
  ]
}