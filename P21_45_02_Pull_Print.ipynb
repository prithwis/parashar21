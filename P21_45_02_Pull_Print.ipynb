{
  "nbformat": 4,
  "nbformat_minor": 0,
  "metadata": {
    "colab": {
      "name": "P21_45_Pull_Print.ipynb",
      "provenance": [],
      "include_colab_link": true
    },
    "kernelspec": {
      "name": "python3",
      "display_name": "Python 3"
    },
    "language_info": {
      "name": "python"
    }
  },
  "cells": [
    {
      "cell_type": "markdown",
      "metadata": {
        "id": "view-in-github",
        "colab_type": "text"
      },
      "source": [
        "<a href=\"https://colab.research.google.com/github/prithwis/parashar21/blob/main/P21_45_02_Pull_Print.ipynb\" target=\"_parent\"><img src=\"https://colab.research.google.com/assets/colab-badge.svg\" alt=\"Open In Colab\"/></a>"
      ]
    },
    {
      "cell_type": "markdown",
      "source": [
        "![alt text](http://1.bp.blogspot.com/_5QlanosqxiQ/SXLOLTu7S7I/AAAAAAAAAm8/0r6C7lCxsic/S1600-R/p21-header-003.png) <br>\n",
        "\n",
        "\n",
        "---\n",
        "\n",
        "\n",
        "\n",
        "[Prithwis Mukerjee](http://www.yantrajaal.com) ||\n",
        "Website - [Parashar21](https://parashar21.blogspot.com)<br>"
      ],
      "metadata": {
        "id": "rj4jjIHTvPV8"
      }
    },
    {
      "cell_type": "markdown",
      "source": [
        "Copyright (c) 2022, Prithwis Mukerjee All rights reserved.\n",
        "\n",
        "This source code is licensed under the GNU GPL v3.0 -style license found in the LICENSE file in the root directory of this source tree."
      ],
      "metadata": {
        "id": "9OzVEmHm1IaF"
      }
    },
    {
      "cell_type": "markdown",
      "source": [
        "#SetUp"
      ],
      "metadata": {
        "id": "l2v2nhRKvwJS"
      }
    },
    {
      "cell_type": "markdown",
      "source": [
        "##Installs"
      ],
      "metadata": {
        "id": "djqyotVjO5TI"
      }
    },
    {
      "cell_type": "code",
      "source": [
        "#!pip -qq install pyswisseph                                 # https://stackoverflow.com/questions/64277506/pip-install-options-unclear\n",
        "!pip -qq install python-docx                #https://python-docx.readthedocs.io/en/latest/\n",
        "!/usr/bin/python3 -m pip install \"pymongo[srv]\"\n",
        "!apt install mongodb > /dev/null"
      ],
      "metadata": {
        "colab": {
          "base_uri": "https://localhost:8080/"
        },
        "id": "AWKFabc0v3FI",
        "outputId": "a0b48bcd-f527-4818-a187-026bfe606af8"
      },
      "execution_count": 1,
      "outputs": [
        {
          "output_type": "stream",
          "name": "stdout",
          "text": [
            "\u001b[K     |████████████████████████████████| 5.6 MB 8.7 MB/s \n",
            "\u001b[?25h  Building wheel for python-docx (setup.py) ... \u001b[?25l\u001b[?25hdone\n",
            "Looking in indexes: https://pypi.org/simple, https://us-python.pkg.dev/colab-wheels/public/simple/\n",
            "Requirement already satisfied: pymongo[srv] in /usr/local/lib/python3.7/dist-packages (4.2.0)\n",
            "Collecting dnspython<3.0.0,>=1.16.0\n",
            "  Downloading dnspython-2.2.1-py3-none-any.whl (269 kB)\n",
            "\u001b[K     |████████████████████████████████| 269 kB 7.4 MB/s \n",
            "\u001b[?25hInstalling collected packages: dnspython\n",
            "Successfully installed dnspython-2.2.1\n",
            "\n",
            "WARNING: apt does not have a stable CLI interface. Use with caution in scripts.\n",
            "\n"
          ]
        }
      ]
    },
    {
      "cell_type": "code",
      "source": [
        "#Utility functions \n",
        "from pymongo import MongoClient\n",
        "import pandas as pd\n",
        "import dateutil\n",
        "import json\n",
        "from docx import Document\n",
        "from docx.shared import Inches\n",
        "from docx.enum.text import WD_ALIGN_PARAGRAPH\n",
        "from datetime import datetime\n",
        "from datetime import timedelta\n",
        "import pytz\n",
        "\n",
        "#import matplotlib.pyplot as plt\n",
        "#import math\n"
      ],
      "metadata": {
        "id": "tsCga6c8pLvM"
      },
      "execution_count": 2,
      "outputs": []
    },
    {
      "cell_type": "code",
      "source": [
        "#Load p21 modules from github\n",
        "!wget -O p21.py -q https://raw.githubusercontent.com/prithwis/parashar21/main/utils/p21.py                  # all global variables\n",
        "#!wget -O p21swe.py -q https://raw.githubusercontent.com/prithwis/parashar21/main/utils/p21swe.py            # Swiss Ephemeris functions\n",
        "!wget -O p21utils.py -q https://raw.githubusercontent.com/prithwis/parashar21/main/utils/p21utils.py        # large number of utility functions\n",
        "!wget -O p21utilsR.py -q https://raw.githubusercontent.com/prithwis/parashar21/main/utils/p21utilsR.py \n",
        "!wget -O p21YogInfo.py -q https://raw.githubusercontent.com/prithwis/parashar21/main/utils/p21YogInfo.py\n",
        "# ---------------------------\n",
        "\n",
        "!wget -O Saraswati.png -q https://github.com/prithwis/parashar21/raw/main/images/Saraswati02.png             \n",
        "!wget -O p21logo.png -q https://github.com/prithwis/parashar21/raw/main/images/p21logo-002-1.png                "
      ],
      "metadata": {
        "id": "uwAT_IbvB0A-"
      },
      "execution_count": 3,
      "outputs": []
    },
    {
      "cell_type": "code",
      "source": [
        "import p21\n",
        "#import p21swe\n",
        "import p21utils\n",
        "import p21utilsR\n",
        "#import p21YogInfo\n",
        "# ------------------------------------------------\n",
        "# required for multiple imports of the same module\n",
        "# ------------------------------------------------\n",
        "import importlib\n",
        "importlib.reload(p21)\n",
        "#importlib.reload(p21swe)\n",
        "importlib.reload(p21utils)\n",
        "importlib.reload(p21utilsR)\n",
        "#importlib.reload(p21YogInfo)"
      ],
      "metadata": {
        "id": "xOlbcnu33PmG",
        "outputId": "4b57c52b-94d5-4390-a924-f0a228f0b663",
        "colab": {
          "base_uri": "https://localhost:8080/"
        }
      },
      "execution_count": 13,
      "outputs": [
        {
          "output_type": "stream",
          "name": "stdout",
          "text": [
            "p21utils imported\n",
            "p21utilsR imported\n"
          ]
        },
        {
          "output_type": "execute_result",
          "data": {
            "text/plain": [
              "<module 'p21utilsR' from '/content/p21utilsR.py'>"
            ]
          },
          "metadata": {},
          "execution_count": 13
        }
      ]
    },
    {
      "cell_type": "code",
      "source": [
        "from google.colab import drive\n",
        "drive.mount('/content/drive')\n",
        "# -------------------------------------------\n",
        "# copy credentials file\n",
        "!cp /content/drive/'My Drive'/Praxis/WebCredentials/Parashar21_Atlas_18Sep22.py credentials.py\n",
        "# -------------------------------------------\n",
        "# MongoDB credentials are stored here\n",
        "#\n",
        "from credentials import parashar21URI\n",
        "# -------------------------------------------\n",
        "mongoURI = parashar21URI                                   # for remote ATlas server\n",
        "client = MongoClient(mongoURI)\n",
        "client.list_database_names() # ['admin', 'local']\n"
      ],
      "metadata": {
        "colab": {
          "base_uri": "https://localhost:8080/"
        },
        "id": "I3Z74iSKv7FK",
        "outputId": "0f0aeb7d-3b87-4926-fcc0-2f5ec94bf18f"
      },
      "execution_count": 5,
      "outputs": [
        {
          "output_type": "stream",
          "name": "stdout",
          "text": [
            "Mounted at /content/drive\n"
          ]
        },
        {
          "output_type": "execute_result",
          "data": {
            "text/plain": [
              "['Parashar21', 'admin', 'local']"
            ]
          },
          "metadata": {},
          "execution_count": 5
        }
      ]
    },
    {
      "cell_type": "code",
      "source": [
        "# Show existing Collections\n",
        "db = client.Parashar21\n",
        "pd.DataFrame(list(db.list_collections()))"
      ],
      "metadata": {
        "id": "LhC56DzwhNNq",
        "outputId": "203dc7eb-63e5-448c-f0ac-8c2e4bd86008",
        "colab": {
          "base_uri": "https://localhost:8080/",
          "height": 81
        }
      },
      "execution_count": 6,
      "outputs": [
        {
          "output_type": "execute_result",
          "data": {
            "text/plain": [
              "      name        type options  \\\n",
              "0  khona21  collection      {}   \n",
              "\n",
              "                                                info  \\\n",
              "0  {'readOnly': False, 'uuid': b'\\xc8\\x07\\xffb)YI...   \n",
              "\n",
              "                                       idIndex  \n",
              "0  {'v': 2, 'key': {'_id': 1}, 'name': '_id_'}  "
            ],
            "text/html": [
              "\n",
              "  <div id=\"df-b124f686-2e13-44d2-9ea1-ba04b8af789c\">\n",
              "    <div class=\"colab-df-container\">\n",
              "      <div>\n",
              "<style scoped>\n",
              "    .dataframe tbody tr th:only-of-type {\n",
              "        vertical-align: middle;\n",
              "    }\n",
              "\n",
              "    .dataframe tbody tr th {\n",
              "        vertical-align: top;\n",
              "    }\n",
              "\n",
              "    .dataframe thead th {\n",
              "        text-align: right;\n",
              "    }\n",
              "</style>\n",
              "<table border=\"1\" class=\"dataframe\">\n",
              "  <thead>\n",
              "    <tr style=\"text-align: right;\">\n",
              "      <th></th>\n",
              "      <th>name</th>\n",
              "      <th>type</th>\n",
              "      <th>options</th>\n",
              "      <th>info</th>\n",
              "      <th>idIndex</th>\n",
              "    </tr>\n",
              "  </thead>\n",
              "  <tbody>\n",
              "    <tr>\n",
              "      <th>0</th>\n",
              "      <td>khona21</td>\n",
              "      <td>collection</td>\n",
              "      <td>{}</td>\n",
              "      <td>{'readOnly': False, 'uuid': b'\\xc8\\x07\\xffb)YI...</td>\n",
              "      <td>{'v': 2, 'key': {'_id': 1}, 'name': '_id_'}</td>\n",
              "    </tr>\n",
              "  </tbody>\n",
              "</table>\n",
              "</div>\n",
              "      <button class=\"colab-df-convert\" onclick=\"convertToInteractive('df-b124f686-2e13-44d2-9ea1-ba04b8af789c')\"\n",
              "              title=\"Convert this dataframe to an interactive table.\"\n",
              "              style=\"display:none;\">\n",
              "        \n",
              "  <svg xmlns=\"http://www.w3.org/2000/svg\" height=\"24px\"viewBox=\"0 0 24 24\"\n",
              "       width=\"24px\">\n",
              "    <path d=\"M0 0h24v24H0V0z\" fill=\"none\"/>\n",
              "    <path d=\"M18.56 5.44l.94 2.06.94-2.06 2.06-.94-2.06-.94-.94-2.06-.94 2.06-2.06.94zm-11 1L8.5 8.5l.94-2.06 2.06-.94-2.06-.94L8.5 2.5l-.94 2.06-2.06.94zm10 10l.94 2.06.94-2.06 2.06-.94-2.06-.94-.94-2.06-.94 2.06-2.06.94z\"/><path d=\"M17.41 7.96l-1.37-1.37c-.4-.4-.92-.59-1.43-.59-.52 0-1.04.2-1.43.59L10.3 9.45l-7.72 7.72c-.78.78-.78 2.05 0 2.83L4 21.41c.39.39.9.59 1.41.59.51 0 1.02-.2 1.41-.59l7.78-7.78 2.81-2.81c.8-.78.8-2.07 0-2.86zM5.41 20L4 18.59l7.72-7.72 1.47 1.35L5.41 20z\"/>\n",
              "  </svg>\n",
              "      </button>\n",
              "      \n",
              "  <style>\n",
              "    .colab-df-container {\n",
              "      display:flex;\n",
              "      flex-wrap:wrap;\n",
              "      gap: 12px;\n",
              "    }\n",
              "\n",
              "    .colab-df-convert {\n",
              "      background-color: #E8F0FE;\n",
              "      border: none;\n",
              "      border-radius: 50%;\n",
              "      cursor: pointer;\n",
              "      display: none;\n",
              "      fill: #1967D2;\n",
              "      height: 32px;\n",
              "      padding: 0 0 0 0;\n",
              "      width: 32px;\n",
              "    }\n",
              "\n",
              "    .colab-df-convert:hover {\n",
              "      background-color: #E2EBFA;\n",
              "      box-shadow: 0px 1px 2px rgba(60, 64, 67, 0.3), 0px 1px 3px 1px rgba(60, 64, 67, 0.15);\n",
              "      fill: #174EA6;\n",
              "    }\n",
              "\n",
              "    [theme=dark] .colab-df-convert {\n",
              "      background-color: #3B4455;\n",
              "      fill: #D2E3FC;\n",
              "    }\n",
              "\n",
              "    [theme=dark] .colab-df-convert:hover {\n",
              "      background-color: #434B5C;\n",
              "      box-shadow: 0px 1px 3px 1px rgba(0, 0, 0, 0.15);\n",
              "      filter: drop-shadow(0px 1px 2px rgba(0, 0, 0, 0.3));\n",
              "      fill: #FFFFFF;\n",
              "    }\n",
              "  </style>\n",
              "\n",
              "      <script>\n",
              "        const buttonEl =\n",
              "          document.querySelector('#df-b124f686-2e13-44d2-9ea1-ba04b8af789c button.colab-df-convert');\n",
              "        buttonEl.style.display =\n",
              "          google.colab.kernel.accessAllowed ? 'block' : 'none';\n",
              "\n",
              "        async function convertToInteractive(key) {\n",
              "          const element = document.querySelector('#df-b124f686-2e13-44d2-9ea1-ba04b8af789c');\n",
              "          const dataTable =\n",
              "            await google.colab.kernel.invokeFunction('convertToInteractive',\n",
              "                                                     [key], {});\n",
              "          if (!dataTable) return;\n",
              "\n",
              "          const docLinkHtml = 'Like what you see? Visit the ' +\n",
              "            '<a target=\"_blank\" href=https://colab.research.google.com/notebooks/data_table.ipynb>data table notebook</a>'\n",
              "            + ' to learn more about interactive tables.';\n",
              "          element.innerHTML = '';\n",
              "          dataTable['output_type'] = 'display_data';\n",
              "          await google.colab.output.renderOutput(dataTable, element);\n",
              "          const docLink = document.createElement('div');\n",
              "          docLink.innerHTML = docLinkHtml;\n",
              "          element.appendChild(docLink);\n",
              "        }\n",
              "      </script>\n",
              "    </div>\n",
              "  </div>\n",
              "  "
            ]
          },
          "metadata": {},
          "execution_count": 6
        }
      ]
    },
    {
      "cell_type": "code",
      "source": [
        "#kollection = db.khona21Test                   # Set the collection to work with\n",
        "p21.kollection = db.khona21                   # Set the collection to work with\n",
        "totalCharts = p21.kollection.count_documents({})\n",
        "print(totalCharts)"
      ],
      "metadata": {
        "id": "nEB8OKSS0VKX",
        "outputId": "1ca5a9a9-d6d0-4190-dbf3-a943cbfe7f7c",
        "colab": {
          "base_uri": "https://localhost:8080/"
        }
      },
      "execution_count": 7,
      "outputs": [
        {
          "output_type": "stream",
          "name": "stdout",
          "text": [
            "39662\n"
          ]
        }
      ]
    },
    {
      "cell_type": "markdown",
      "source": [
        "#Generate Report\n",
        "for all retrieved charts"
      ],
      "metadata": {
        "id": "LMA40MOq1jse"
      }
    },
    {
      "cell_type": "code",
      "source": [
        "def genSampleReport(ChartStyle,Sample = True):\n",
        "    \n",
        "    if Sample:\n",
        "        df4Report = df.sample(5)\n",
        "    else:\n",
        "        df4Report = df\n",
        "    \n",
        "    selectedCharts = len(df)\n",
        "    printCharts = len(df4Report)\n",
        "    #printStatus = str(printCharts)+' charts of total '+str(totalCharts)+' printed.'\n",
        "    printStatus = str(selectedCharts)+' Charts selected from '+str(totalCharts)+' in database; '+str(printCharts)+' charts printed.'\n",
        "\n",
        "    now = datetime.now(pytz.timezone('Asia/Kolkata'))\n",
        "    fileName = 'p21Report_'+ChartStyle+now.strftime(\"%H%M%S\")+'.doc'\n",
        "    curQueryStr = json.dumps(selCond)\n",
        "    # ---------------------------------------------------------\n",
        "    p21utilsR.R01_CreateReportDoc(curQueryStr, printStatus)                      # Creates MS Word Doc called p21.document\n",
        "    # ----------------------------------------------------------\n",
        "    for chart in range(len(df4Report)):\n",
        "        chartData =df4Report.iloc[chart]\n",
        "        #R51_processChart(chartData)\n",
        "        p21utilsR.R511_parseChartData(chartData)              # Break up database data into useful pieces\n",
        "                                            # Creates two primary dicts, GLon, GRet\n",
        "        for ctype in ['Rashi','Navamsa']:\n",
        "        #for ctype in ['Rashi']:\n",
        "            p21.ChartType = ctype\n",
        "            p21utils.R11_LocateGrahaInRashi()   # Converts Graha Long to Rashi positions\n",
        "                                                # Rashi Num as well as Rashi name\n",
        "            if ChartStyle == 'Bengal':\n",
        "                p21utilsR.R12B_drawChart_Bengal()    # Draw Chart in Bengal style\n",
        "            if ChartStyle == 'South':\n",
        "                p21utilsR.R12B_drawChart_South()    # Draw Chart in South style\n",
        "            if ChartStyle == 'North':\n",
        "                p21utilsR.R12B_drawChart_North()    # Draw Chart in North style\n",
        "            #\n",
        "            \n",
        "                                                \n",
        "        #print(p21.GrahaBhava)\n",
        "        #print(p21.LordBhav)\n",
        "        #print(p21.pTags)\n",
        "        #print(p21.pName)\n",
        "        \n",
        "        p21utilsR.R30_LocateYogs()\n",
        "        p21utilsR.R512_FormatPage()\n",
        "        #print('----')\n",
        "    # ------------------------------------\n",
        "    p21.document.save(fileName)\n",
        "    \n"
      ],
      "metadata": {
        "id": "nf7XU_5nZ1rq"
      },
      "execution_count": 8,
      "outputs": []
    },
    {
      "cell_type": "markdown",
      "source": [
        "#Retrieve Charts "
      ],
      "metadata": {
        "id": "nej02gxiwUcV"
      }
    },
    {
      "cell_type": "code",
      "source": [
        "'''\n",
        "c = kollection.find().limit(5)\n",
        "for crnt in c:\n",
        "    print(crnt)\n",
        "'''"
      ],
      "metadata": {
        "id": "lKa0k4g29ijH",
        "outputId": "7f7d1123-1525-498f-c946-493a608e79f4",
        "colab": {
          "base_uri": "https://localhost:8080/",
          "height": 35
        }
      },
      "execution_count": null,
      "outputs": [
        {
          "output_type": "execute_result",
          "data": {
            "text/plain": [
              "'\\nc = kollection.find().limit(5)\\nfor crnt in c:\\n    print(crnt)\\n'"
            ],
            "application/vnd.google.colaboratory.intrinsic+json": {
              "type": "string"
            }
          },
          "metadata": {},
          "execution_count": 10
        }
      ]
    },
    {
      "cell_type": "code",
      "source": [
        "#%%capture\n",
        "#selCond = {}                      # All Charts \n",
        "#df = pd.DataFrame(list(kollection.find(selCond,p21.selCols)))\n",
        "#genSampleReport('Bengal',Sample = False)"
      ],
      "metadata": {
        "id": "WM9dKhfS118T"
      },
      "execution_count": null,
      "outputs": []
    },
    {
      "cell_type": "code",
      "source": [
        "%%capture\n",
        "\n",
        "selCond = {'GAspectedBy2.La': {'$in': ['Sa']}}                      # La aspected by Sa\n",
        "df = pd.DataFrame(list(p21.kollection.find(selCond,p21.selCols)))\n",
        "genSampleReport('Bengal')"
      ],
      "metadata": {
        "id": "kZoDkrRXZujH"
      },
      "execution_count": 9,
      "outputs": []
    },
    {
      "cell_type": "code",
      "source": [
        "%%capture\n",
        "selCond = {\"$and\":\n",
        "                    [\n",
        "                        {'exaltG.Ju': {'$eq': True}},               # Exalted Jupiter\n",
        "                        {'GAspectedBy2.La' : {'$in': ['Sa']}}       # La aspected by Sa          \n",
        "\n",
        "                    ]\n",
        "}\n",
        "\n",
        "df = pd.DataFrame(list(p21.kollection.find(selCond,p21.selCols)))\n",
        "genSampleReport('Bengal')"
      ],
      "metadata": {
        "id": "SeVhgOjaVihE"
      },
      "execution_count": null,
      "outputs": []
    },
    {
      "cell_type": "code",
      "source": [
        "%%capture\n",
        "selCond = {\"$and\":\n",
        "                    [\n",
        "                        {'exaltG.Ju': {'$eq': True}},               # Exalted Jupiter\n",
        "                        {'GAspectedBy2.La' : {'$in': ['Sa']}} ,     # La aspected by Sa       \n",
        "                        {'GConjunctsG2.Su' : {'$in': ['Me']}}       # Su conjunct Me \n",
        "\n",
        "                    ]\n",
        "}\n",
        "\n",
        "df = pd.DataFrame(list(p21.kollection.find(selCond,p21.selCols)))\n",
        "genSampleReport('North')"
      ],
      "metadata": {
        "id": "wtfKhm58zFCq"
      },
      "execution_count": null,
      "outputs": []
    },
    {
      "cell_type": "code",
      "source": [
        "%%capture\n",
        "selCond = {\"$and\":\n",
        "                    [\n",
        "                        {'exaltG.Ju': {'$eq': True}},               # Exalted Jupiter\n",
        "                        {'GAspectedBy2.La' : {'$in': ['Sa']}} ,     # La aspected by Sa       \n",
        "                        {'GConjunctsG2.Su' : {'$in': ['Me']}},      # Su conjunct Me \n",
        "                        {'GrahaBhava.Mo' : {'$eq': 1}}              # Mo in First House\n",
        "\n",
        "                    ]\n",
        "}\n",
        "\n",
        "df = pd.DataFrame(list(p21.kollection.find(selCond,p21.selCols)))\n",
        "genSampleReport('Bengal')"
      ],
      "metadata": {
        "id": "1shPkTXONo9I"
      },
      "execution_count": null,
      "outputs": []
    },
    {
      "cell_type": "code",
      "source": [
        "%%capture\n",
        "selCond = {\"$and\":\n",
        "                    [\n",
        "                        {'exaltG.Ju': {'$eq': True}},               # Exalted Jupiter\n",
        "                        {'GAspectedBy2.La' : {'$in': ['Sa']}} ,     # La aspected by Sa       \n",
        "                        {'GConjunctsG2.Su' : {'$in': ['Me']}},      # Su conjunct Me \n",
        "                        {'GrahaBhava.Mo' : {'$eq': 1}} ,            # Mo in First House\n",
        "                        {'LordBhav.4' : {'$eq': 5}}                 # 4th Lord in 5th House\n",
        "\n",
        "                    ]\n",
        "}\n",
        "\n",
        "df = pd.DataFrame(list(p21.kollection.find(selCond,p21.selCols)))\n",
        "genSampleReport('Bengal',Sample = False)"
      ],
      "metadata": {
        "id": "lcRK2tdKSWaO"
      },
      "execution_count": 14,
      "outputs": []
    },
    {
      "cell_type": "code",
      "source": [
        "!rm *.doc"
      ],
      "metadata": {
        "id": "2fDl6jtskRSZ"
      },
      "execution_count": 15,
      "outputs": []
    },
    {
      "cell_type": "code",
      "source": [
        "!date"
      ],
      "metadata": {
        "id": "HtPIrCOmtltV",
        "outputId": "e7b8795b-3268-4dfe-cdbe-6adfc1eb3264",
        "colab": {
          "base_uri": "https://localhost:8080/"
        }
      },
      "execution_count": 16,
      "outputs": [
        {
          "output_type": "stream",
          "name": "stdout",
          "text": [
            "Thu Sep 22 05:40:47 UTC 2022\n"
          ]
        }
      ]
    },
    {
      "cell_type": "code",
      "source": [
        "#df = pd.DataFrame(list(kollection.find({'pid.tags': {\"$in\": ['PostGraduate']}},{'pid.name':1,\"_id\":0,'GLon':1,'GRet':1})))\n",
        "#df"
      ],
      "metadata": {
        "id": "gGtojxPZxmku"
      },
      "execution_count": null,
      "outputs": []
    }
  ]
}