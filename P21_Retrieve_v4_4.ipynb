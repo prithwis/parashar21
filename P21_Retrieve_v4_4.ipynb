{
  "nbformat": 4,
  "nbformat_minor": 0,
  "metadata": {
    "colab": {
      "name": "P21_Retrieve_v4.4",
      "provenance": [],
      "authorship_tag": "ABX9TyN9dRt/ISAu4qIaluQoFODx",
      "include_colab_link": true
    },
    "kernelspec": {
      "name": "python3",
      "display_name": "Python 3"
    },
    "language_info": {
      "name": "python"
    }
  },
  "cells": [
    {
      "cell_type": "markdown",
      "metadata": {
        "id": "view-in-github",
        "colab_type": "text"
      },
      "source": [
        "<a href=\"https://colab.research.google.com/github/prithwis/parashar21/blob/main/P21_Retrieve_v4_4.ipynb\" target=\"_parent\"><img src=\"https://colab.research.google.com/assets/colab-badge.svg\" alt=\"Open In Colab\"/></a>"
      ]
    },
    {
      "cell_type": "markdown",
      "source": [
        "![alt text](http://1.bp.blogspot.com/_5QlanosqxiQ/SXLOLTu7S7I/AAAAAAAAAm8/0r6C7lCxsic/S1600-R/p21-header-003.png) <br>\n",
        "\n",
        "\n",
        "---\n",
        "\n",
        "\n",
        "![CC-BY-SA](https://licensebuttons.net/l/by-sa/3.0/88x31.png) ||\n",
        "[Prithwis Mukerjee](http://www.yantrajaal.com) ||\n",
        "Website - [Parashar21](https://parashar21.blogspot.com)<br>"
      ],
      "metadata": {
        "id": "rj4jjIHTvPV8"
      }
    },
    {
      "cell_type": "markdown",
      "source": [
        "#SetUp"
      ],
      "metadata": {
        "id": "l2v2nhRKvwJS"
      }
    },
    {
      "cell_type": "markdown",
      "source": [
        "##Installs"
      ],
      "metadata": {
        "id": "djqyotVjO5TI"
      }
    },
    {
      "cell_type": "code",
      "source": [
        "!pip -qq install python-docx                #https://python-docx.readthedocs.io/en/latest/\n",
        "!apt install mongodb > /dev/null\n",
        "\n",
        "#!pip -qq install pyswisseph                 # https://stackoverflow.com/questions/64277506/pip-install-options-unclear\n",
        "#!pip -qq install python_string_utils\n"
      ],
      "metadata": {
        "colab": {
          "base_uri": "https://localhost:8080/"
        },
        "id": "AWKFabc0v3FI",
        "outputId": "69138c83-3530-43ef-fe67-4b4e559d76f0"
      },
      "execution_count": null,
      "outputs": [
        {
          "output_type": "stream",
          "name": "stdout",
          "text": [
            "\u001b[K     |████████████████████████████████| 5.6 MB 5.0 MB/s \n",
            "\u001b[?25h  Building wheel for python-docx (setup.py) ... \u001b[?25l\u001b[?25hdone\n",
            "\n",
            "WARNING: apt does not have a stable CLI interface. Use with caution in scripts.\n",
            "\n"
          ]
        }
      ]
    },
    {
      "cell_type": "code",
      "source": [
        "#Utility functions \n",
        "from pymongo import MongoClient\n",
        "import pandas as pd\n",
        "import dateutil\n",
        "import json\n",
        "from docx import Document\n",
        "from docx.shared import Inches\n",
        "from docx.enum.text import WD_ALIGN_PARAGRAPH\n",
        "from datetime import datetime\n",
        "from datetime import timedelta\n",
        "import pytz\n",
        "\n",
        "#import matplotlib.pyplot as plt\n",
        "#import math\n"
      ],
      "metadata": {
        "id": "tsCga6c8pLvM"
      },
      "execution_count": null,
      "outputs": []
    },
    {
      "cell_type": "code",
      "source": [
        "#Load p21 modules from github\n",
        "!wget -O p21.py -q https://raw.githubusercontent.com/prithwis/parashar21/main/utils/p21.py                  # all global variables\n",
        "!wget -O p21utils.py -q https://raw.githubusercontent.com/prithwis/parashar21/main/utils/p21utils.py        # large number of utility functions\n",
        "!wget -O p21utilsR.py -q https://raw.githubusercontent.com/prithwis/parashar21/main/utils/p21utilsR.py \n",
        "# ---------------------------\n",
        "\n",
        "!wget -O Saraswati.png -q https://github.com/prithwis/parashar21/raw/main/images/Saraswati02.png                  # all global variables"
      ],
      "metadata": {
        "id": "uwAT_IbvB0A-"
      },
      "execution_count": null,
      "outputs": []
    },
    {
      "cell_type": "code",
      "source": [
        "#!cat p21utils.py\n",
        "import p21\n",
        "import p21utils\n",
        "import p21utilsR\n",
        "# ------------------------------------------------\n",
        "# required for multiple imports of the same module\n",
        "# ------------------------------------------------\n",
        "import importlib\n",
        "importlib.reload(p21)\n",
        "importlib.reload(p21utils)\n",
        "importlib.reload(p21utilsR)"
      ],
      "metadata": {
        "id": "xOlbcnu33PmG",
        "outputId": "e8ea9c5e-aac0-4570-f448-e5b40e07905b",
        "colab": {
          "base_uri": "https://localhost:8080/"
        }
      },
      "execution_count": null,
      "outputs": [
        {
          "output_type": "stream",
          "name": "stdout",
          "text": [
            "imported p21\n",
            "p21utils imported\n",
            "p21utilsR imported\n",
            "imported p21\n",
            "p21utils imported\n",
            "p21utilsR imported\n"
          ]
        },
        {
          "output_type": "execute_result",
          "data": {
            "text/plain": [
              "<module 'p21utilsR' from '/content/p21utilsR.py'>"
            ]
          },
          "metadata": {},
          "execution_count": 4
        }
      ]
    },
    {
      "cell_type": "code",
      "source": [
        "from google.colab import drive\n",
        "drive.mount('/content/drive')\n",
        "# -------------------------------------------\n",
        "# copy credentials file\n",
        "!cp /content/drive/'My Drive'/Praxis/WebCredentials/clevercloudMongoDB.py credentials.py\n",
        "# -------------------------------------------\n",
        "# MongoDB credentials are stored here\n",
        "#\n",
        "from credentials import rhostName,ruserName,rpassWord,rdbName,rMongoURI\n",
        "print(rdbName)\n",
        "# -------------------------------------------\n",
        "mongoURI = rMongoURI                                   # for remote server\n",
        "client = MongoClient(mongoURI)\n",
        "client.list_database_names() # ['admin', 'local']\n",
        "# ----------------------------------------------\n",
        "# Show existing Collections\n",
        "db = client.btncgfi3a5bxyea\n",
        "pd.DataFrame(list(db.list_collections()))\n",
        "kollection = db.khona21                   # Set the collection to work with\n",
        "totalCharts = kollection.count_documents({})\n",
        "print(totalCharts)"
      ],
      "metadata": {
        "colab": {
          "base_uri": "https://localhost:8080/"
        },
        "id": "I3Z74iSKv7FK",
        "outputId": "10d457a0-433c-499d-ce74-4cf77a3ff335"
      },
      "execution_count": null,
      "outputs": [
        {
          "output_type": "stream",
          "name": "stdout",
          "text": [
            "Mounted at /content/drive\n",
            "btncgfi3a5bxyea\n",
            "39667\n"
          ]
        }
      ]
    },
    {
      "cell_type": "markdown",
      "source": [
        "#Generate Report\n",
        "for all retrieved charts"
      ],
      "metadata": {
        "id": "LMA40MOq1jse"
      }
    },
    {
      "cell_type": "code",
      "source": [
        "def genSampleReport(Sample = True):\n",
        "    if Sample:\n",
        "        df4Report = df.sample(5)\n",
        "    else:\n",
        "        df4Report = df\n",
        "    \n",
        "    selectedCharts = len(df)\n",
        "    printCharts = len(df4Report)\n",
        "    #printStatus = str(printCharts)+' charts of total '+str(totalCharts)+' printed.'\n",
        "    printStatus = str(selectedCharts)+' Charts selected from '+str(totalCharts)+'. Random '+str(printCharts)+' charts printed.'\n",
        "\n",
        "    now = datetime.now(pytz.timezone('Asia/Kolkata'))\n",
        "    fileName = 'Khona21_'+now.strftime(\"%H%M\")+'.doc'\n",
        "    curQueryStr = json.dumps(selCond)\n",
        "    # ---------------------------------------------------------\n",
        "    p21utilsR.R01_CreateReportDoc(curQueryStr, printStatus)                      # Creates MS Word Doc called p21.document\n",
        "    # ----------------------------------------------------------\n",
        "    for chart in range(len(df4Report)):\n",
        "        chartData =df4Report.iloc[chart]\n",
        "        #R51_processChart(chartData)\n",
        "        p21utilsR.R511_parseChartData(chartData)              # Break up database data into useful pieces\n",
        "                                            # Creates two primary dicts, GLon, GRet\n",
        "        for ctype in ['Rashi','Navamsa']:\n",
        "            p21.ChartType = ctype\n",
        "            p21utils.R11_LocateGrahaInRashi()   # Converts Graha Long to Rashi positions\n",
        "                                                # Rashi Num as well as Rashi name\n",
        "            p21utilsR.R12B_drawChart_Bengal()    # Draw Chart in Bengal style\n",
        "                                                # Needs to know type, Natal or Navamsha\n",
        "        #print(p21.GrahaBhava)\n",
        "        print(p21.LordBhav)\n",
        "        p21utilsR.R512_FormatPage()\n",
        "        print('----')\n",
        "    # ------------------------------------\n",
        "    p21.document.save(fileName)\n",
        "    \n"
      ],
      "metadata": {
        "id": "nf7XU_5nZ1rq"
      },
      "execution_count": null,
      "outputs": []
    },
    {
      "cell_type": "markdown",
      "source": [
        "#Retrieve Charts "
      ],
      "metadata": {
        "id": "nej02gxiwUcV"
      }
    },
    {
      "cell_type": "code",
      "source": [
        "c = kollection.find().limit(5)\n",
        "for crnt in c:\n",
        "    print(crnt)"
      ],
      "metadata": {
        "id": "lKa0k4g29ijH",
        "outputId": "57432620-ba58-40da-b59e-7635f81cc56c",
        "colab": {
          "base_uri": "https://localhost:8080/"
        }
      },
      "execution_count": null,
      "outputs": [
        {
          "output_type": "stream",
          "name": "stdout",
          "text": [
            "{'_id': ObjectId('61e4e3df045ccda524a0ec2a'), 'pid': {'tags': ['Engineer', 'Teacher', 'PostGraduate'], 'ck': 'M1961101523:425.522.5788.37', 'name': 'umos'}, 'GLon': {'La': 98.204, 'Su': 178.826, 'Mo': 250.52, 'Ma': 196.183, 'Me': 193.17, 'Ju': 274.781, 'Ve': 153.753, 'Sa': 270.179, 'Ra': 122.089, 'Ke': 302.089}, 'GRet': {'La': False, 'Su': False, 'Mo': False, 'Ma': False, 'Me': True, 'Ju': False, 'Ve': False, 'Sa': False, 'Ra': False, 'Ke': False}, 'BhavN': [' ', 4, 5, 6, 7, 8, 9, 10, 11, 12, 1, 2, 3], 'BhavA': [' ', 'Can', 'Leo', 'Vir', 'Lib', 'Sco', 'Sag', 'Cap', 'Acq', 'Pis', 'Ari', 'Tau', 'Gem'], 'Lord': [' ', 'Mo', 'Su', 'Me', 'Ve', 'Ma', 'Ju', 'Sa', 'Sa', 'Ju', 'Ma', 'Ve', 'Me'], 'LordRashiN': [' ', 9, 6, 7, 6, 7, 10, 10, 10, 10, 7, 6, 7], 'LordRashiA': [' ', 'Sag', 'Vir', 'Lib', 'Vir', 'Lib', 'Cap', 'Cap', 'Cap', 'Cap', 'Lib', 'Vir', 'Lib'], 'GrahaLordBhav': {'Su': [2], 'Mo': [1], 'Ma': [5, 10], 'Me': [3, 12], 'Ju': [6, 9], 'Ve': [4, 11], 'Sa': [7, 8]}, 'GRashiN': {'La': 4, 'Su': 6, 'Mo': 9, 'Ma': 7, 'Me': 7, 'Ju': 10, 'Ve': 6, 'Sa': 10, 'Ra': 5, 'Ke': 11}, 'GrahaBhava': {'La': 1, 'Su': 3, 'Mo': 6, 'Ma': 4, 'Me': 4, 'Ju': 7, 'Ve': 3, 'Sa': 7, 'Ra': 2, 'Ke': 8}, 'LordBhav': [' ', 6, 3, 4, 3, 4, 7, 7, 7, 7, 4, 3, 4], 'exaltG': {'Su': False, 'Mo': False, 'Ma': False, 'Me': False, 'Ju': False, 'Ve': False, 'Sa': False}, 'debilG': {'Su': False, 'Mo': False, 'Ma': False, 'Me': False, 'Ju': True, 'Ve': True, 'Sa': False}, 'ownHouseG': {'Su': False, 'Mo': False, 'Ma': False, 'Me': False, 'Ju': False, 'Ve': False, 'Sa': True}, 'inFriendG': {'Su': False, 'Mo': False, 'Ma': False, 'Me': True, 'Ju': False, 'Ve': True, 'Sa': True}, 'inEnemyG': {'Su': False, 'Mo': False, 'Ma': False, 'Me': False, 'Ju': False, 'Ve': False, 'Sa': False}, 'exaltL': [False, False, False, False, False, False, False, False, False, False, False, False, False], 'debilL': [False, False, False, False, True, False, True, False, False, True, False, True, False], 'ownHouseL': [False, False, False, False, False, False, False, True, True, False, False, False, False], 'inFriendL': [False, False, False, True, True, False, False, True, True, False, False, True, True], 'inEnemyL': [False, False, False, False, False, False, False, False, False, False, False, False, False], 'GAspects2': {'La': ['Sa', 'Ju'], 'Ma': ['Sa', 'Ju'], 'Ju': ['Su', 'Ve', 'La'], 'Sa': ['Me', 'Ma', 'La']}, 'GAspectedBy2': {'Ju': ['Ma', 'La'], 'Sa': ['Ma', 'La'], 'La': ['Sa', 'Ju'], 'Su': ['Ju'], 'Ve': ['Ju'], 'Ma': ['Sa'], 'Me': ['Sa']}, 'BAspectedBy2': {'7': ['Ma', 'La'], '9': ['Su', 'Sa', 'Ve'], '12': ['Mo'], '10': ['Me', 'Ma'], '11': ['Ju', 'Ma'], '1': ['Sa', 'Ju'], '3': ['Ju'], '4': ['Sa'], '8': ['Ra'], '2': ['Ke']}, 'GConjunctsG2': {'Su': ['Ve'], 'Ve': ['Su'], 'Ma': ['Me'], 'Me': ['Ma'], 'Ju': ['Sa'], 'Sa': ['Ju']}, 'BLConjunctsG2': {'2': ['Ve'], '3': ['Ma'], '4': ['Su'], '5': ['Me'], '6': ['Sa'], '7': ['Ju'], '8': ['Ju'], '9': ['Sa'], '10': ['Me'], '11': ['Su'], '12': ['Ma']}, 'BLConjunctsBL2': {'2': ['4', '11'], '3': ['5', '10'], '4': ['2'], '5': ['12', '3'], '6': ['7', '8'], '7': ['9', '6'], '8': ['9', '6'], '9': ['7', '8'], '10': ['12', '3'], '11': ['2'], '12': ['5', '10']}}\n",
            "{'_id': ObjectId('61e4e3df045ccda524a0ec2b'), 'pid': {'tags': ['Author', 'Homemaker', 'PostGraduate'], 'ck': 'F1965121910:265.522.5788.37', 'name': 'poag'}, 'GLon': {'La': 310.415, 'Su': 243.701, 'Mo': 201.001, 'Ma': 273.467, 'Me': 222.269, 'Ju': 62.748, 'Ve': 284.966, 'Sa': 318.17, 'Ra': 41.248, 'Ke': 221.248}, 'GRet': {'La': False, 'Su': False, 'Mo': False, 'Ma': False, 'Me': False, 'Ju': True, 'Ve': False, 'Sa': False, 'Ra': False, 'Ke': False}, 'BhavN': [' ', 11, 12, 1, 2, 3, 4, 5, 6, 7, 8, 9, 10], 'BhavA': [' ', 'Acq', 'Pis', 'Ari', 'Tau', 'Gem', 'Can', 'Leo', 'Vir', 'Lib', 'Sco', 'Sag', 'Cap'], 'Lord': [' ', 'Sa', 'Ju', 'Ma', 'Ve', 'Me', 'Mo', 'Su', 'Me', 'Ve', 'Ma', 'Ju', 'Sa'], 'LordRashiN': [' ', 11, 3, 10, 10, 8, 7, 9, 8, 10, 10, 3, 11], 'LordRashiA': [' ', 'Acq', 'Gem', 'Cap', 'Cap', 'Sco', 'Lib', 'Sag', 'Sco', 'Cap', 'Cap', 'Gem', 'Acq'], 'GrahaLordBhav': {'Su': [7], 'Mo': [6], 'Ma': [3, 10], 'Me': [5, 8], 'Ju': [2, 11], 'Ve': [4, 9], 'Sa': [1, 12]}, 'GRashiN': {'La': 11, 'Su': 9, 'Mo': 7, 'Ma': 10, 'Me': 8, 'Ju': 3, 'Ve': 10, 'Sa': 11, 'Ra': 2, 'Ke': 8}, 'GrahaBhava': {'La': 1, 'Su': 11, 'Mo': 9, 'Ma': 12, 'Me': 10, 'Ju': 5, 'Ve': 12, 'Sa': 1, 'Ra': 4, 'Ke': 10}, 'LordBhav': [' ', 1, 5, 12, 12, 10, 9, 11, 10, 12, 12, 5, 1], 'exaltG': {'Su': False, 'Mo': False, 'Ma': True, 'Me': False, 'Ju': False, 'Ve': False, 'Sa': False}, 'debilG': {'Su': False, 'Mo': False, 'Ma': False, 'Me': False, 'Ju': False, 'Ve': False, 'Sa': False}, 'ownHouseG': {'Su': False, 'Mo': False, 'Ma': False, 'Me': False, 'Ju': False, 'Ve': False, 'Sa': True}, 'inFriendG': {'Su': True, 'Mo': False, 'Ma': False, 'Me': False, 'Ju': False, 'Ve': False, 'Sa': True}, 'inEnemyG': {'Su': False, 'Mo': False, 'Ma': False, 'Me': False, 'Ju': True, 'Ve': False, 'Sa': False}, 'exaltL': [False, False, False, True, False, False, False, False, False, False, True, False, False], 'debilL': [False, False, False, False, False, False, False, False, False, False, False, False, False], 'ownHouseL': [False, True, False, False, False, False, False, False, False, False, False, False, True], 'inFriendL': [False, True, False, False, False, False, False, True, False, False, False, False, True], 'inEnemyL': [False, False, True, False, False, False, False, False, False, False, False, True, False], 'GAspects2': {'Su': ['Ju'], 'Me': ['Ra'], 'Ju': ['Su', 'Sa', 'Mo', 'La'], 'Sa': ['Ke', 'Me'], 'Ra': ['Me']}, 'GAspectedBy2': {'Ju': ['Su'], 'Ra': ['Me'], 'La': ['Ju'], 'Su': ['Ju'], 'Mo': ['Ju'], 'Sa': ['Ju'], 'Me': ['Ra', 'Sa'], 'Ke': ['Sa']}, 'BAspectedBy2': {'7': ['Sa', 'Ma', 'La'], '5': ['Su'], '3': ['Sa', 'Mo', 'Ma'], '6': ['Ve', 'Ma'], '4': ['Ke', 'Me'], '1': ['Ju'], '9': ['Ju'], '11': ['Ju'], '10': ['Ra', 'Sa']}, 'GConjunctsG2': {'Ma': ['Ve'], 'Ve': ['Ma'], 'Me': ['Ke'], 'Ke': ['Me']}, 'BLConjunctsG2': {'3': ['Ve'], '4': ['Ma'], '5': ['Ke'], '8': ['Ke'], '9': ['Ma'], '10': ['Ve']}, 'BLConjunctsBL2': {'3': ['9', '4'], '4': ['10', '3'], '9': ['10', '3'], '10': ['9', '4']}}\n",
            "{'_id': ObjectId('61e4e3e0045ccda524a0ec2c'), 'pid': {'tags': ['Engineer', 'Teacher', 'PostGraduate'], 'ck': 'M199010923:095.522.5788.37', 'name': 'ohloa'}, 'GLon': {'La': 85.351, 'Su': 172.44, 'Mo': 63.984, 'Ma': 49.966, 'Me': 163.275, 'Ju': 105.898, 'Ve': 166.538, 'Sa': 265.202, 'Ra': 280.65, 'Ke': 100.65}, 'GRet': {'La': False, 'Su': False, 'Mo': False, 'Ma': False, 'Me': False, 'Ju': False, 'Ve': False, 'Sa': False, 'Ra': False, 'Ke': False}, 'BhavN': [' ', 3, 4, 5, 6, 7, 8, 9, 10, 11, 12, 1, 2], 'BhavA': [' ', 'Gem', 'Can', 'Leo', 'Vir', 'Lib', 'Sco', 'Sag', 'Cap', 'Acq', 'Pis', 'Ari', 'Tau'], 'Lord': [' ', 'Me', 'Mo', 'Su', 'Me', 'Ve', 'Ma', 'Ju', 'Sa', 'Sa', 'Ju', 'Ma', 'Ve'], 'LordRashiN': [' ', 6, 3, 6, 6, 6, 2, 4, 9, 9, 4, 2, 6], 'LordRashiA': [' ', 'Vir', 'Gem', 'Vir', 'Vir', 'Vir', 'Tau', 'Can', 'Sag', 'Sag', 'Can', 'Tau', 'Vir'], 'GrahaLordBhav': {'Su': [3], 'Mo': [2], 'Ma': [6, 11], 'Me': [1, 4], 'Ju': [7, 10], 'Ve': [5, 12], 'Sa': [8, 9]}, 'GRashiN': {'La': 3, 'Su': 6, 'Mo': 3, 'Ma': 2, 'Me': 6, 'Ju': 4, 'Ve': 6, 'Sa': 9, 'Ra': 10, 'Ke': 4}, 'GrahaBhava': {'La': 1, 'Su': 4, 'Mo': 1, 'Ma': 12, 'Me': 4, 'Ju': 2, 'Ve': 4, 'Sa': 7, 'Ra': 8, 'Ke': 2}, 'LordBhav': [' ', 4, 1, 4, 4, 4, 12, 2, 7, 7, 2, 12, 4], 'exaltG': {'Su': False, 'Mo': False, 'Ma': False, 'Me': True, 'Ju': True, 'Ve': False, 'Sa': False}, 'debilG': {'Su': False, 'Mo': False, 'Ma': False, 'Me': False, 'Ju': False, 'Ve': True, 'Sa': False}, 'ownHouseG': {'Su': False, 'Mo': False, 'Ma': False, 'Me': True, 'Ju': False, 'Ve': False, 'Sa': False}, 'inFriendG': {'Su': False, 'Mo': True, 'Ma': False, 'Me': False, 'Ju': True, 'Ve': True, 'Sa': False}, 'inEnemyG': {'Su': False, 'Mo': False, 'Ma': False, 'Me': False, 'Ju': False, 'Ve': False, 'Sa': False}, 'exaltL': [False, True, False, False, True, False, False, True, False, False, True, False, False], 'debilL': [False, False, False, False, False, True, False, False, False, False, False, False, True], 'ownHouseL': [False, True, False, False, True, False, False, False, False, False, False, False, False], 'inFriendL': [False, False, True, False, False, True, False, True, False, False, True, False, True], 'inEnemyL': [False, False, False, False, False, False, False, False, False, False, False, False, False], 'GAspects2': {'La': ['Sa'], 'Mo': ['Sa'], 'Ma': ['Sa'], 'Ju': ['Ra'], 'Sa': ['Su', 'Mo', 'Ve', 'La', 'Me'], 'Ra': ['Ju']}, 'GAspectedBy2': {'Sa': ['Mo', 'Ma', 'La'], 'Ra': ['Ju'], 'La': ['Sa'], 'Su': ['Sa'], 'Mo': ['Sa'], 'Me': ['Sa'], 'Ve': ['Sa'], 'Ju': ['Ra']}, 'BAspectedBy2': {'7': ['Mo', 'Ma', 'La'], '10': ['Su', 'Ju', 'Ve', 'Me'], '3': ['Ma'], '6': ['Ju', 'Ma'], '8': ['Ke', 'Ju'], '1': ['Sa'], '4': ['Sa'], '9': ['Sa'], '2': ['Ra']}, 'GConjunctsG2': {'Su': ['Ve', 'Me'], 'Me': ['Su', 'Ve'], 'Ve': ['Su', 'Me'], 'Ju': ['Ke'], 'Ke': ['Ju']}, 'BLConjunctsG2': {'1': ['Su', 'Ve'], '3': ['Ve', 'Me'], '4': ['Su', 'Ve'], '5': ['Su', 'Me'], '7': ['Ke'], '10': ['Ke'], '12': ['Su', 'Me']}, 'BLConjunctsBL2': {'1': ['5', '12', '3'], '3': ['1', '5', '4', '12'], '4': ['5', '12', '3'], '5': ['1', '4', '3'], '12': ['1', '4', '3']}}\n",
            "{'_id': ObjectId('61e4e3e0045ccda524a0ec2d'), 'pid': {'tags': ['Biologist', 'Scientist', 'PostGraduate'], 'ck': 'F19909120:525.522.8788.37', 'name': 'nalni'}, 'GLon': {'La': 84.138, 'Su': 145.068, 'Mo': 54.233, 'Ma': 41.525, 'Me': 138.242, 'Ju': 101.216, 'Ve': 131.788, 'Sa': 265.084, 'Ra': 282.763, 'Ke': 102.763}, 'GRet': {'La': False, 'Su': False, 'Mo': False, 'Ma': False, 'Me': True, 'Ju': False, 'Ve': False, 'Sa': True, 'Ra': False, 'Ke': False}, 'BhavN': [' ', 3, 4, 5, 6, 7, 8, 9, 10, 11, 12, 1, 2], 'BhavA': [' ', 'Gem', 'Can', 'Leo', 'Vir', 'Lib', 'Sco', 'Sag', 'Cap', 'Acq', 'Pis', 'Ari', 'Tau'], 'Lord': [' ', 'Me', 'Mo', 'Su', 'Me', 'Ve', 'Ma', 'Ju', 'Sa', 'Sa', 'Ju', 'Ma', 'Ve'], 'LordRashiN': [' ', 5, 2, 5, 5, 5, 2, 4, 9, 9, 4, 2, 5], 'LordRashiA': [' ', 'Leo', 'Tau', 'Leo', 'Leo', 'Leo', 'Tau', 'Can', 'Sag', 'Sag', 'Can', 'Tau', 'Leo'], 'GrahaLordBhav': {'Su': [3], 'Mo': [2], 'Ma': [6, 11], 'Me': [1, 4], 'Ju': [7, 10], 'Ve': [5, 12], 'Sa': [8, 9]}, 'GRashiN': {'La': 3, 'Su': 5, 'Mo': 2, 'Ma': 2, 'Me': 5, 'Ju': 4, 'Ve': 5, 'Sa': 9, 'Ra': 10, 'Ke': 4}, 'GrahaBhava': {'La': 1, 'Su': 3, 'Mo': 12, 'Ma': 12, 'Me': 3, 'Ju': 2, 'Ve': 3, 'Sa': 7, 'Ra': 8, 'Ke': 2}, 'LordBhav': [' ', 3, 12, 3, 3, 3, 12, 2, 7, 7, 2, 12, 3], 'exaltG': {'Su': False, 'Mo': True, 'Ma': False, 'Me': False, 'Ju': True, 'Ve': False, 'Sa': False}, 'debilG': {'Su': False, 'Mo': False, 'Ma': False, 'Me': False, 'Ju': False, 'Ve': False, 'Sa': False}, 'ownHouseG': {'Su': True, 'Mo': False, 'Ma': False, 'Me': False, 'Ju': False, 'Ve': False, 'Sa': False}, 'inFriendG': {'Su': False, 'Mo': False, 'Ma': False, 'Me': True, 'Ju': True, 'Ve': False, 'Sa': False}, 'inEnemyG': {'Su': False, 'Mo': False, 'Ma': False, 'Me': False, 'Ju': False, 'Ve': True, 'Sa': False}, 'exaltL': [False, False, True, False, False, False, False, True, False, False, True, False, False], 'debilL': [False, False, False, False, False, False, False, False, False, False, False, False, False], 'ownHouseL': [False, False, False, True, False, False, False, False, False, False, False, False, False], 'inFriendL': [False, True, False, False, True, False, False, True, False, False, True, False, False], 'inEnemyL': [False, False, False, False, False, True, False, False, False, False, False, False, True], 'GAspects2': {'La': ['Sa'], 'Ma': ['Su', 'Sa', 'Ve', 'Me'], 'Ju': ['Ra'], 'Sa': ['La'], 'Ra': ['Ju']}, 'GAspectedBy2': {'Sa': ['Ma', 'La'], 'Su': ['Ma'], 'Me': ['Ma'], 'Ve': ['Ma'], 'Ra': ['Ju'], 'La': ['Sa'], 'Ju': ['Ra']}, 'BAspectedBy2': {'7': ['Ma', 'La'], '9': ['Su', 'Sa', 'Ve', 'Me'], '6': ['Mo', 'Ju', 'Ma'], '3': ['Ma'], '8': ['Ke', 'Ju'], '10': ['Ju'], '1': ['Sa'], '4': ['Sa'], '2': ['Ra']}, 'GConjunctsG2': {'Su': ['Ve', 'Me'], 'Me': ['Su', 'Ve'], 'Ve': ['Su', 'Me'], 'Mo': ['Ma'], 'Ma': ['Mo'], 'Ju': ['Ke'], 'Ke': ['Ju']}, 'BLConjunctsG2': {'1': ['Su', 'Ve'], '2': ['Ma'], '3': ['Ve', 'Me'], '4': ['Su', 'Ve'], '5': ['Su', 'Me'], '6': ['Mo'], '7': ['Ke'], '10': ['Ke'], '11': ['Mo'], '12': ['Su', 'Me']}, 'BLConjunctsBL2': {'1': ['5', '12', '3'], '2': ['6', '11'], '3': ['1', '5', '4', '12'], '4': ['5', '12', '3'], '5': ['1', '4', '3'], '6': ['2'], '11': ['2'], '12': ['1', '4', '3']}}\n",
            "{'_id': ObjectId('61e4e3e0045ccda524a0ec2e'), 'pid': {'tags': ['Politician', 'Administrator', 'nil'], 'ck': 'M19509179:345.523.4872.36', 'name': 'iNDdMo'}, 'GLon': {'La': 191.897, 'Su': 150.533, 'Mo': 217.939, 'Ma': 210.889, 'Me': 150.848, 'Ju': 306.602, 'Ve': 135.613, 'Sa': 149.644, 'Ra': 335.211, 'Ke': 155.211}, 'GRet': {'La': False, 'Su': False, 'Mo': False, 'Ma': False, 'Me': True, 'Ju': True, 'Ve': False, 'Sa': False, 'Ra': False, 'Ke': False}, 'BhavN': [' ', 7, 8, 9, 10, 11, 12, 1, 2, 3, 4, 5, 6], 'BhavA': [' ', 'Lib', 'Sco', 'Sag', 'Cap', 'Acq', 'Pis', 'Ari', 'Tau', 'Gem', 'Can', 'Leo', 'Vir'], 'Lord': [' ', 'Ve', 'Ma', 'Ju', 'Sa', 'Sa', 'Ju', 'Ma', 'Ve', 'Me', 'Mo', 'Su', 'Me'], 'LordRashiN': [' ', 5, 8, 11, 5, 5, 11, 8, 5, 6, 8, 6, 6], 'LordRashiA': [' ', 'Leo', 'Sco', 'Acq', 'Leo', 'Leo', 'Acq', 'Sco', 'Leo', 'Vir', 'Sco', 'Vir', 'Vir'], 'GrahaLordBhav': {'Su': [11], 'Mo': [10], 'Ma': [2, 7], 'Me': [9, 12], 'Ju': [3, 6], 'Ve': [1, 8], 'Sa': [4, 5]}, 'GRashiN': {'La': 7, 'Su': 6, 'Mo': 8, 'Ma': 8, 'Me': 6, 'Ju': 11, 'Ve': 5, 'Sa': 5, 'Ra': 12, 'Ke': 6}, 'GrahaBhava': {'La': 1, 'Su': 12, 'Mo': 2, 'Ma': 2, 'Me': 12, 'Ju': 5, 'Ve': 11, 'Sa': 11, 'Ra': 6, 'Ke': 12}, 'LordBhav': [' ', 11, 2, 5, 11, 11, 5, 2, 11, 12, 2, 12, 12], 'exaltG': {'Su': False, 'Mo': False, 'Ma': False, 'Me': True, 'Ju': False, 'Ve': False, 'Sa': False}, 'debilG': {'Su': False, 'Mo': True, 'Ma': False, 'Me': False, 'Ju': False, 'Ve': False, 'Sa': False}, 'ownHouseG': {'Su': False, 'Mo': False, 'Ma': True, 'Me': True, 'Ju': False, 'Ve': False, 'Sa': False}, 'inFriendG': {'Su': False, 'Mo': False, 'Ma': False, 'Me': False, 'Ju': False, 'Ve': False, 'Sa': False}, 'inEnemyG': {'Su': False, 'Mo': False, 'Ma': False, 'Me': False, 'Ju': False, 'Ve': True, 'Sa': True}, 'exaltL': [False, False, False, False, False, False, False, False, False, True, False, False, True], 'debilL': [False, False, False, False, False, False, False, False, False, False, True, False, False], 'ownHouseL': [False, False, True, False, False, False, False, True, False, True, False, False, True], 'inFriendL': [False, False, False, False, False, False, False, False, False, False, False, False, False], 'inEnemyL': [False, True, False, False, True, True, False, False, True, False, False, False, False], 'GAspects2': {'Su': ['Ra'], 'Ma': ['Ju'], 'Me': ['Ra'], 'Ju': ['Sa', 'Ve', 'La'], 'Ve': ['Ju'], 'Sa': ['Ju', 'La'], 'Ra': ['Su', 'Me']}, 'GAspectedBy2': {'Ra': ['Su', 'Me'], 'Ju': ['Ve', 'Sa', 'Ma'], 'La': ['Sa', 'Ju'], 'Ve': ['Ju'], 'Sa': ['Ju'], 'Su': ['Ra'], 'Me': ['Ra']}, 'BAspectedBy2': {'7': ['La'], '6': ['Su', 'Ke', 'Me'], '8': ['Sa', 'Mo', 'Ma'], '5': ['Ve', 'Sa', 'Ma'], '9': ['Ju', 'Ma'], '1': ['Sa', 'Ju'], '11': ['Ju'], '12': ['Ra']}, 'GConjunctsG2': {'Su': ['Ke', 'Me'], 'Me': ['Su', 'Ke'], 'Ke': ['Su', 'Me'], 'Mo': ['Ma'], 'Ma': ['Mo'], 'Ve': ['Sa'], 'Sa': ['Ve']}, 'BLConjunctsG2': {'1': ['Sa'], '2': ['Mo'], '4': ['Ve'], '5': ['Ve'], '7': ['Mo'], '8': ['Sa'], '9': ['Su', 'Ke'], '10': ['Ma'], '11': ['Ke', 'Me'], '12': ['Su', 'Ke']}, 'BLConjunctsBL2': {'1': ['5', '4'], '2': ['10'], '4': ['1', '8'], '5': ['1', '8'], '7': ['10'], '8': ['5', '4'], '9': ['11'], '10': ['2', '7'], '11': ['9', '12'], '12': ['11']}}\n"
          ]
        }
      ]
    },
    {
      "cell_type": "code",
      "source": [
        "%%capture\n",
        "\n",
        "selCond = {'GAspectedBy2.La': {'$in': ['Sa']}}                      # La aspected by Sa\n",
        "df = pd.DataFrame(list(kollection.find(selCond,p21.selCols)))\n",
        "genSampleReport()"
      ],
      "metadata": {
        "id": "kZoDkrRXZujH"
      },
      "execution_count": null,
      "outputs": []
    },
    {
      "cell_type": "code",
      "source": [
        "%%capture\n",
        "selCond = {\"$and\":\n",
        "                    [\n",
        "                       {'exaltG.Ju': {'$eq': True}},                # Exalted Jupiter\n",
        "                        {'GAspectedBy2.La' : {'$in': ['Sa']}}       # La aspected by Sa          \n",
        "\n",
        "                    ]\n",
        "}\n",
        "\n",
        "df = pd.DataFrame(list(kollection.find(selCond,p21.selCols)))\n",
        "genSampleReport()"
      ],
      "metadata": {
        "id": "SeVhgOjaVihE"
      },
      "execution_count": null,
      "outputs": []
    },
    {
      "cell_type": "code",
      "source": [
        "%%capture\n",
        "selCond = {\"$and\":\n",
        "                    [\n",
        "                       {'exaltG.Ju': {'$eq': True}},                # Exalted Jupiter\n",
        "                        {'GAspectedBy2.La' : {'$in': ['Sa']}} ,     # La aspected by Sa       \n",
        "                        {'GConjunctsG2.Su' : {'$in': ['Me']}}       # Su conjunct Me \n",
        "\n",
        "                    ]\n",
        "}\n",
        "\n",
        "df = pd.DataFrame(list(kollection.find(selCond,p21.selCols)))\n",
        "genSampleReport()"
      ],
      "metadata": {
        "id": "wtfKhm58zFCq"
      },
      "execution_count": null,
      "outputs": []
    },
    {
      "cell_type": "code",
      "source": [
        "%%capture\n",
        "selCond = {\"$and\":\n",
        "                    [\n",
        "                       {'exaltG.Ju': {'$eq': True}},                # Exalted Jupiter\n",
        "                        {'GAspectedBy2.La' : {'$in': ['Sa']}} ,     # La aspected by Sa       \n",
        "                        {'GConjunctsG2.Su' : {'$in': ['Me']}},      # Su conjunct Me \n",
        "                        {'GrahaBhava.Mo' : {'$eq': 1}}              # Mo in First House\n",
        "\n",
        "                    ]\n",
        "}\n",
        "\n",
        "df = pd.DataFrame(list(kollection.find(selCond,p21.selCols)))\n",
        "genSampleReport()"
      ],
      "metadata": {
        "id": "1shPkTXONo9I"
      },
      "execution_count": null,
      "outputs": []
    },
    {
      "cell_type": "code",
      "source": [
        "%%capture\n",
        "selCond = {\"$and\":\n",
        "                    [\n",
        "                       {'exaltG.Ju': {'$eq': True}},                # Exalted Jupiter\n",
        "                        {'GAspectedBy2.La' : {'$in': ['Sa']}} ,     # La aspected by Sa       \n",
        "                        {'GConjunctsG2.Su' : {'$in': ['Me']}},      # Su conjunct Me \n",
        "                        {'GrahaBhava.Mo' : {'$eq': 1}} ,            # Mo in First House\n",
        "                        {'LordBhav.4' : {'$eq': 5}}                 # 4th Lord in 5th House\n",
        "\n",
        "                    ]\n",
        "}\n",
        "\n",
        "df = pd.DataFrame(list(kollection.find(selCond,p21.selCols)))\n",
        "genSampleReport(Sample = False)"
      ],
      "metadata": {
        "id": "lcRK2tdKSWaO"
      },
      "execution_count": null,
      "outputs": []
    },
    {
      "cell_type": "code",
      "source": [
        "#df = pd.DataFrame(list(kollection.find({'pid.tags': {\"$in\": ['PostGraduate']}},{'pid.name':1,\"_id\":0,'GLon':1,'GRet':1})))\n",
        "#df"
      ],
      "metadata": {
        "id": "gGtojxPZxmku"
      },
      "execution_count": null,
      "outputs": []
    }
  ]
}