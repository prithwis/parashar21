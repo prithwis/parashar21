{
  "nbformat": 4,
  "nbformat_minor": 0,
  "metadata": {
    "colab": {
      "name": "P21_Retrieve_v4.3",
      "provenance": [],
      "authorship_tag": "ABX9TyPDKCkP7HmcJ0qWJRUcztYW",
      "include_colab_link": true
    },
    "kernelspec": {
      "name": "python3",
      "display_name": "Python 3"
    },
    "language_info": {
      "name": "python"
    }
  },
  "cells": [
    {
      "cell_type": "markdown",
      "metadata": {
        "id": "view-in-github",
        "colab_type": "text"
      },
      "source": [
        "<a href=\"https://colab.research.google.com/github/prithwis/parashar21/blob/main/P21_Retrieve_v4_3.ipynb\" target=\"_parent\"><img src=\"https://colab.research.google.com/assets/colab-badge.svg\" alt=\"Open In Colab\"/></a>"
      ]
    },
    {
      "cell_type": "markdown",
      "source": [
        "![alt text](http://1.bp.blogspot.com/_5QlanosqxiQ/SXLOLTu7S7I/AAAAAAAAAm8/0r6C7lCxsic/S1600-R/p21-header-003.png) <br>\n",
        "\n",
        "\n",
        "---\n",
        "\n",
        "\n",
        "![CC-BY-SA](https://licensebuttons.net/l/by-sa/3.0/88x31.png) ||\n",
        "[Prithwis Mukerjee](http://www.yantrajaal.com) ||\n",
        "Website - [Parashar21](https://parashar21.blogspot.com)<br>"
      ],
      "metadata": {
        "id": "rj4jjIHTvPV8"
      }
    },
    {
      "cell_type": "markdown",
      "source": [
        "#SetUp"
      ],
      "metadata": {
        "id": "l2v2nhRKvwJS"
      }
    },
    {
      "cell_type": "markdown",
      "source": [
        "##Installs"
      ],
      "metadata": {
        "id": "djqyotVjO5TI"
      }
    },
    {
      "cell_type": "code",
      "source": [
        "!pip -qq install python-docx                #https://python-docx.readthedocs.io/en/latest/\n",
        "!apt install mongodb > /dev/null\n",
        "\n",
        "#!pip -qq install pyswisseph                 # https://stackoverflow.com/questions/64277506/pip-install-options-unclear\n",
        "#!pip -qq install python_string_utils\n"
      ],
      "metadata": {
        "colab": {
          "base_uri": "https://localhost:8080/"
        },
        "id": "AWKFabc0v3FI",
        "outputId": "d17a17a6-2124-42d4-8e35-81c97e63a2fb"
      },
      "execution_count": 1,
      "outputs": [
        {
          "output_type": "stream",
          "name": "stdout",
          "text": [
            "\u001b[K     |████████████████████████████████| 5.6 MB 7.2 MB/s \n",
            "\u001b[?25h  Building wheel for python-docx (setup.py) ... \u001b[?25l\u001b[?25hdone\n",
            "\n",
            "WARNING: apt does not have a stable CLI interface. Use with caution in scripts.\n",
            "\n"
          ]
        }
      ]
    },
    {
      "cell_type": "code",
      "source": [
        "#Utility functions \n",
        "from pymongo import MongoClient\n",
        "import pandas as pd\n",
        "import dateutil\n",
        "import json\n",
        "from docx import Document\n",
        "from docx.shared import Inches\n",
        "from docx.enum.text import WD_ALIGN_PARAGRAPH\n",
        "from datetime import datetime\n",
        "from datetime import timedelta\n",
        "import pytz\n",
        "\n",
        "#import matplotlib.pyplot as plt\n",
        "#import math\n"
      ],
      "metadata": {
        "id": "tsCga6c8pLvM"
      },
      "execution_count": 2,
      "outputs": []
    },
    {
      "cell_type": "code",
      "source": [
        "#Load p21 modules from github\n",
        "!wget -O p21.py -q https://raw.githubusercontent.com/prithwis/parashar21/main/utils/p21.py                  # all global variables\n",
        "!wget -O p21utils.py -q https://raw.githubusercontent.com/prithwis/parashar21/main/utils/p21utils.py        # large number of utility functions\n",
        "!wget -O p21utilsR.py -q https://raw.githubusercontent.com/prithwis/parashar21/main/utils/p21utilsR.py \n",
        "# ---------------------------\n",
        "\n",
        "!wget -O Saraswati.png -q https://github.com/prithwis/parashar21/raw/main/images/Saraswati02.png                  # all global variables"
      ],
      "metadata": {
        "id": "uwAT_IbvB0A-"
      },
      "execution_count": 3,
      "outputs": []
    },
    {
      "cell_type": "code",
      "source": [
        "#!cat p21utils.py\n",
        "import p21\n",
        "import p21utils\n",
        "import p21utilsR\n",
        "# ------------------------------------------------\n",
        "# required for multiple imports of the same module\n",
        "# ------------------------------------------------\n",
        "import importlib\n",
        "importlib.reload(p21)\n",
        "importlib.reload(p21utils)\n",
        "importlib.reload(p21utilsR)"
      ],
      "metadata": {
        "id": "xOlbcnu33PmG",
        "outputId": "e5fa55a3-90a4-4e77-87d4-b299fd70987e",
        "colab": {
          "base_uri": "https://localhost:8080/"
        }
      },
      "execution_count": 54,
      "outputs": [
        {
          "output_type": "stream",
          "name": "stdout",
          "text": [
            "imported p21\n",
            "p21utils imported\n",
            "p21utilsR imported\n"
          ]
        },
        {
          "output_type": "execute_result",
          "data": {
            "text/plain": [
              "<module 'p21utilsR' from '/content/p21utilsR.py'>"
            ]
          },
          "metadata": {},
          "execution_count": 54
        }
      ]
    },
    {
      "cell_type": "code",
      "source": [
        "from google.colab import drive\n",
        "drive.mount('/content/drive')\n",
        "# -------------------------------------------\n",
        "# copy credentials file\n",
        "!cp /content/drive/'My Drive'/Praxis/WebCredentials/clevercloudMongoDB.py credentials.py\n",
        "# -------------------------------------------\n",
        "# MongoDB credentials are stored here\n",
        "#\n",
        "from credentials import rhostName,ruserName,rpassWord,rdbName,rMongoURI\n",
        "print(rdbName)\n",
        "# -------------------------------------------\n",
        "mongoURI = rMongoURI                                   # for remote server\n",
        "client = MongoClient(mongoURI)\n",
        "client.list_database_names() # ['admin', 'local']\n",
        "# ----------------------------------------------\n",
        "# Show existing Collections\n",
        "db = client.btncgfi3a5bxyea\n",
        "pd.DataFrame(list(db.list_collections()))\n",
        "kollection = db.khona21                   # Set the collection to work with"
      ],
      "metadata": {
        "colab": {
          "base_uri": "https://localhost:8080/"
        },
        "id": "I3Z74iSKv7FK",
        "outputId": "6d231204-ada6-4c06-e469-4bd68f73d97a"
      },
      "execution_count": 5,
      "outputs": [
        {
          "output_type": "stream",
          "name": "stdout",
          "text": [
            "Mounted at /content/drive\n",
            "btncgfi3a5bxyea\n"
          ]
        }
      ]
    },
    {
      "cell_type": "code",
      "source": [
        "#kollection = db.khona21 "
      ],
      "metadata": {
        "id": "zZkypxjeZ1VI"
      },
      "execution_count": null,
      "outputs": []
    },
    {
      "cell_type": "markdown",
      "source": [
        "#Generate Report\n",
        "for all retrieved charts"
      ],
      "metadata": {
        "id": "LMA40MOq1jse"
      }
    },
    {
      "cell_type": "code",
      "source": [
        "def genSampleReport(Sample = True):\n",
        "    if Sample:\n",
        "        df4Report = df.sample(5)\n",
        "    else:\n",
        "        df4Report = df\n",
        "    \n",
        "    totalCharts = len(df)\n",
        "    printCharts = len(df4Report)\n",
        "    #printStatus = str(printCharts)+' charts of total '+str(totalCharts)+' printed.'\n",
        "    printStatus = str(totalCharts)+' charts located, random '+str(printCharts)+' charts printed'\n",
        "\n",
        "    now = datetime.now(pytz.timezone('Asia/Kolkata'))\n",
        "    fileName = 'Khona21_'+now.strftime(\"%H%M\")+'.doc'\n",
        "    curQueryStr = json.dumps(selCond)\n",
        "    # ---------------------------------------------------------\n",
        "    p21utilsR.R01_CreateReportDoc(curQueryStr, printStatus)                      # Creates MS Word Doc called p21.document\n",
        "    # ----------------------------------------------------------\n",
        "    for chart in range(len(df4Report)):\n",
        "        chartData =df4Report.iloc[chart]\n",
        "        #R51_processChart(chartData)\n",
        "        p21utilsR.R511_parseChartData(chartData)              # Break up database data into useful pieces\n",
        "                                            # Creates two primary dicts, GLon, GRet\n",
        "        for ctype in ['Rashi','Navamsa']:\n",
        "            p21.ChartType = ctype\n",
        "            p21utils.R11_LocateGrahaInRashi()   # Converts Graha Long to Rashi positions\n",
        "                                                # Rashi Num as well as Rashi name\n",
        "            p21utilsR.R12B_drawChart_Bengal()    # Draw Chart in Bengal style\n",
        "                                                # Needs to know type, Natal or Navamsha\n",
        "        p21utilsR.R512_FormatPage()\n",
        "        print('----')\n",
        "    # ------------------------------------\n",
        "    p21.document.save(fileName)\n",
        "    \n"
      ],
      "metadata": {
        "id": "nf7XU_5nZ1rq"
      },
      "execution_count": 52,
      "outputs": []
    },
    {
      "cell_type": "markdown",
      "source": [
        "#Retrieve Charts "
      ],
      "metadata": {
        "id": "nej02gxiwUcV"
      }
    },
    {
      "cell_type": "code",
      "source": [
        "#c = kollection.find({'pid.tags': {\"$in\": ['PostGraduate']}})\n",
        "#for crnt in c:\n",
        "#    print(crnt)"
      ],
      "metadata": {
        "id": "lKa0k4g29ijH",
        "outputId": "66478667-c4f1-4a66-ae6a-62fb9ae19ae4",
        "colab": {
          "base_uri": "https://localhost:8080/"
        }
      },
      "execution_count": 6,
      "outputs": [
        {
          "output_type": "stream",
          "name": "stdout",
          "text": [
            "{'_id': ObjectId('61e4e3df045ccda524a0ec2a'), 'pid': {'tags': ['Engineer', 'Teacher', 'PostGraduate'], 'ck': 'M1961101523:425.522.5788.37', 'name': 'umos'}, 'GLon': {'La': 98.204, 'Su': 178.826, 'Mo': 250.52, 'Ma': 196.183, 'Me': 193.17, 'Ju': 274.781, 'Ve': 153.753, 'Sa': 270.179, 'Ra': 122.089, 'Ke': 302.089}, 'GRet': {'La': False, 'Su': False, 'Mo': False, 'Ma': False, 'Me': True, 'Ju': False, 'Ve': False, 'Sa': False, 'Ra': False, 'Ke': False}, 'BhavN': [' ', 4, 5, 6, 7, 8, 9, 10, 11, 12, 1, 2, 3], 'BhavA': [' ', 'Can', 'Leo', 'Vir', 'Lib', 'Sco', 'Sag', 'Cap', 'Acq', 'Pis', 'Ari', 'Tau', 'Gem'], 'Lord': [' ', 'Mo', 'Su', 'Me', 'Ve', 'Ma', 'Ju', 'Sa', 'Sa', 'Ju', 'Ma', 'Ve', 'Me'], 'LordRashiN': [' ', 9, 6, 7, 6, 7, 10, 10, 10, 10, 7, 6, 7], 'LordRashiA': [' ', 'Sag', 'Vir', 'Lib', 'Vir', 'Lib', 'Cap', 'Cap', 'Cap', 'Cap', 'Lib', 'Vir', 'Lib'], 'GrahaLordBhav': {'Su': [2], 'Mo': [1], 'Ma': [5, 10], 'Me': [3, 12], 'Ju': [6, 9], 'Ve': [4, 11], 'Sa': [7, 8]}, 'GRashiN': {'La': 4, 'Su': 6, 'Mo': 9, 'Ma': 7, 'Me': 7, 'Ju': 10, 'Ve': 6, 'Sa': 10, 'Ra': 5, 'Ke': 11}, 'GrahaBhava': {'La': 1, 'Su': 3, 'Mo': 6, 'Ma': 4, 'Me': 4, 'Ju': 7, 'Ve': 3, 'Sa': 7, 'Ra': 2, 'Ke': 8}, 'LordBhav': [' ', 6, 3, 4, 3, 4, 7, 7, 7, 7, 4, 3, 4], 'exaltG': {'Su': False, 'Mo': False, 'Ma': False, 'Me': False, 'Ju': False, 'Ve': False, 'Sa': False}, 'debilG': {'Su': False, 'Mo': False, 'Ma': False, 'Me': False, 'Ju': True, 'Ve': True, 'Sa': False}, 'ownHouseG': {'Su': False, 'Mo': False, 'Ma': False, 'Me': False, 'Ju': False, 'Ve': False, 'Sa': True}, 'inFriendG': {'Su': False, 'Mo': False, 'Ma': False, 'Me': True, 'Ju': False, 'Ve': True, 'Sa': True}, 'inEnemyG': {'Su': False, 'Mo': False, 'Ma': False, 'Me': False, 'Ju': False, 'Ve': False, 'Sa': False}, 'exaltL': [False, False, False, False, False, False, False, False, False, False, False, False, False], 'debilL': [False, False, False, False, True, False, True, False, False, True, False, True, False], 'ownHouseL': [False, False, False, False, False, False, False, True, True, False, False, False, False], 'inFriendL': [False, False, False, True, True, False, False, True, True, False, False, True, True], 'inEnemyL': [False, False, False, False, False, False, False, False, False, False, False, False, False], 'GAspects2': {'La': ['Sa', 'Ju'], 'Ma': ['Sa', 'Ju'], 'Ju': ['Su', 'Ve', 'La'], 'Sa': ['Me', 'Ma', 'La']}, 'GAspectedBy2': {'Ju': ['Ma', 'La'], 'Sa': ['Ma', 'La'], 'La': ['Sa', 'Ju'], 'Su': ['Ju'], 'Ve': ['Ju'], 'Ma': ['Sa'], 'Me': ['Sa']}, 'BAspectedBy2': {'7': ['Ma', 'La'], '9': ['Su', 'Sa', 'Ve'], '12': ['Mo'], '10': ['Me', 'Ma'], '11': ['Ju', 'Ma'], '1': ['Sa', 'Ju'], '3': ['Ju'], '4': ['Sa'], '8': ['Ra'], '2': ['Ke']}, 'GConjunctsG2': {'Su': ['Ve'], 'Ve': ['Su'], 'Ma': ['Me'], 'Me': ['Ma'], 'Ju': ['Sa'], 'Sa': ['Ju']}, 'BLConjunctsG2': {'2': ['Ve'], '3': ['Ma'], '4': ['Su'], '5': ['Me'], '6': ['Sa'], '7': ['Ju'], '8': ['Ju'], '9': ['Sa'], '10': ['Me'], '11': ['Su'], '12': ['Ma']}, 'BLConjunctsBL2': {'2': ['4', '11'], '3': ['5', '10'], '4': ['2'], '5': ['12', '3'], '6': ['7', '8'], '7': ['9', '6'], '8': ['9', '6'], '9': ['7', '8'], '10': ['12', '3'], '11': ['2'], '12': ['5', '10']}}\n",
            "{'_id': ObjectId('61e4e3df045ccda524a0ec2b'), 'pid': {'tags': ['Author', 'Homemaker', 'PostGraduate'], 'ck': 'F1965121910:265.522.5788.37', 'name': 'poag'}, 'GLon': {'La': 310.415, 'Su': 243.701, 'Mo': 201.001, 'Ma': 273.467, 'Me': 222.269, 'Ju': 62.748, 'Ve': 284.966, 'Sa': 318.17, 'Ra': 41.248, 'Ke': 221.248}, 'GRet': {'La': False, 'Su': False, 'Mo': False, 'Ma': False, 'Me': False, 'Ju': True, 'Ve': False, 'Sa': False, 'Ra': False, 'Ke': False}, 'BhavN': [' ', 11, 12, 1, 2, 3, 4, 5, 6, 7, 8, 9, 10], 'BhavA': [' ', 'Acq', 'Pis', 'Ari', 'Tau', 'Gem', 'Can', 'Leo', 'Vir', 'Lib', 'Sco', 'Sag', 'Cap'], 'Lord': [' ', 'Sa', 'Ju', 'Ma', 'Ve', 'Me', 'Mo', 'Su', 'Me', 'Ve', 'Ma', 'Ju', 'Sa'], 'LordRashiN': [' ', 11, 3, 10, 10, 8, 7, 9, 8, 10, 10, 3, 11], 'LordRashiA': [' ', 'Acq', 'Gem', 'Cap', 'Cap', 'Sco', 'Lib', 'Sag', 'Sco', 'Cap', 'Cap', 'Gem', 'Acq'], 'GrahaLordBhav': {'Su': [7], 'Mo': [6], 'Ma': [3, 10], 'Me': [5, 8], 'Ju': [2, 11], 'Ve': [4, 9], 'Sa': [1, 12]}, 'GRashiN': {'La': 11, 'Su': 9, 'Mo': 7, 'Ma': 10, 'Me': 8, 'Ju': 3, 'Ve': 10, 'Sa': 11, 'Ra': 2, 'Ke': 8}, 'GrahaBhava': {'La': 1, 'Su': 11, 'Mo': 9, 'Ma': 12, 'Me': 10, 'Ju': 5, 'Ve': 12, 'Sa': 1, 'Ra': 4, 'Ke': 10}, 'LordBhav': [' ', 1, 5, 12, 12, 10, 9, 11, 10, 12, 12, 5, 1], 'exaltG': {'Su': False, 'Mo': False, 'Ma': True, 'Me': False, 'Ju': False, 'Ve': False, 'Sa': False}, 'debilG': {'Su': False, 'Mo': False, 'Ma': False, 'Me': False, 'Ju': False, 'Ve': False, 'Sa': False}, 'ownHouseG': {'Su': False, 'Mo': False, 'Ma': False, 'Me': False, 'Ju': False, 'Ve': False, 'Sa': True}, 'inFriendG': {'Su': True, 'Mo': False, 'Ma': False, 'Me': False, 'Ju': False, 'Ve': False, 'Sa': True}, 'inEnemyG': {'Su': False, 'Mo': False, 'Ma': False, 'Me': False, 'Ju': True, 'Ve': False, 'Sa': False}, 'exaltL': [False, False, False, True, False, False, False, False, False, False, True, False, False], 'debilL': [False, False, False, False, False, False, False, False, False, False, False, False, False], 'ownHouseL': [False, True, False, False, False, False, False, False, False, False, False, False, True], 'inFriendL': [False, True, False, False, False, False, False, True, False, False, False, False, True], 'inEnemyL': [False, False, True, False, False, False, False, False, False, False, False, True, False], 'GAspects2': {'Su': ['Ju'], 'Me': ['Ra'], 'Ju': ['Su', 'Sa', 'Mo', 'La'], 'Sa': ['Ke', 'Me'], 'Ra': ['Me']}, 'GAspectedBy2': {'Ju': ['Su'], 'Ra': ['Me'], 'La': ['Ju'], 'Su': ['Ju'], 'Mo': ['Ju'], 'Sa': ['Ju'], 'Me': ['Ra', 'Sa'], 'Ke': ['Sa']}, 'BAspectedBy2': {'7': ['Sa', 'Ma', 'La'], '5': ['Su'], '3': ['Sa', 'Mo', 'Ma'], '6': ['Ve', 'Ma'], '4': ['Ke', 'Me'], '1': ['Ju'], '9': ['Ju'], '11': ['Ju'], '10': ['Ra', 'Sa']}, 'GConjunctsG2': {'Ma': ['Ve'], 'Ve': ['Ma'], 'Me': ['Ke'], 'Ke': ['Me']}, 'BLConjunctsG2': {'3': ['Ve'], '4': ['Ma'], '5': ['Ke'], '8': ['Ke'], '9': ['Ma'], '10': ['Ve']}, 'BLConjunctsBL2': {'3': ['9', '4'], '4': ['10', '3'], '9': ['10', '3'], '10': ['9', '4']}}\n",
            "{'_id': ObjectId('61e4e3e0045ccda524a0ec2c'), 'pid': {'tags': ['Engineer', 'Teacher', 'PostGraduate'], 'ck': 'M199010923:095.522.5788.37', 'name': 'ohloa'}, 'GLon': {'La': 85.351, 'Su': 172.44, 'Mo': 63.984, 'Ma': 49.966, 'Me': 163.275, 'Ju': 105.898, 'Ve': 166.538, 'Sa': 265.202, 'Ra': 280.65, 'Ke': 100.65}, 'GRet': {'La': False, 'Su': False, 'Mo': False, 'Ma': False, 'Me': False, 'Ju': False, 'Ve': False, 'Sa': False, 'Ra': False, 'Ke': False}, 'BhavN': [' ', 3, 4, 5, 6, 7, 8, 9, 10, 11, 12, 1, 2], 'BhavA': [' ', 'Gem', 'Can', 'Leo', 'Vir', 'Lib', 'Sco', 'Sag', 'Cap', 'Acq', 'Pis', 'Ari', 'Tau'], 'Lord': [' ', 'Me', 'Mo', 'Su', 'Me', 'Ve', 'Ma', 'Ju', 'Sa', 'Sa', 'Ju', 'Ma', 'Ve'], 'LordRashiN': [' ', 6, 3, 6, 6, 6, 2, 4, 9, 9, 4, 2, 6], 'LordRashiA': [' ', 'Vir', 'Gem', 'Vir', 'Vir', 'Vir', 'Tau', 'Can', 'Sag', 'Sag', 'Can', 'Tau', 'Vir'], 'GrahaLordBhav': {'Su': [3], 'Mo': [2], 'Ma': [6, 11], 'Me': [1, 4], 'Ju': [7, 10], 'Ve': [5, 12], 'Sa': [8, 9]}, 'GRashiN': {'La': 3, 'Su': 6, 'Mo': 3, 'Ma': 2, 'Me': 6, 'Ju': 4, 'Ve': 6, 'Sa': 9, 'Ra': 10, 'Ke': 4}, 'GrahaBhava': {'La': 1, 'Su': 4, 'Mo': 1, 'Ma': 12, 'Me': 4, 'Ju': 2, 'Ve': 4, 'Sa': 7, 'Ra': 8, 'Ke': 2}, 'LordBhav': [' ', 4, 1, 4, 4, 4, 12, 2, 7, 7, 2, 12, 4], 'exaltG': {'Su': False, 'Mo': False, 'Ma': False, 'Me': True, 'Ju': True, 'Ve': False, 'Sa': False}, 'debilG': {'Su': False, 'Mo': False, 'Ma': False, 'Me': False, 'Ju': False, 'Ve': True, 'Sa': False}, 'ownHouseG': {'Su': False, 'Mo': False, 'Ma': False, 'Me': True, 'Ju': False, 'Ve': False, 'Sa': False}, 'inFriendG': {'Su': False, 'Mo': True, 'Ma': False, 'Me': False, 'Ju': True, 'Ve': True, 'Sa': False}, 'inEnemyG': {'Su': False, 'Mo': False, 'Ma': False, 'Me': False, 'Ju': False, 'Ve': False, 'Sa': False}, 'exaltL': [False, True, False, False, True, False, False, True, False, False, True, False, False], 'debilL': [False, False, False, False, False, True, False, False, False, False, False, False, True], 'ownHouseL': [False, True, False, False, True, False, False, False, False, False, False, False, False], 'inFriendL': [False, False, True, False, False, True, False, True, False, False, True, False, True], 'inEnemyL': [False, False, False, False, False, False, False, False, False, False, False, False, False], 'GAspects2': {'La': ['Sa'], 'Mo': ['Sa'], 'Ma': ['Sa'], 'Ju': ['Ra'], 'Sa': ['Su', 'Mo', 'Ve', 'La', 'Me'], 'Ra': ['Ju']}, 'GAspectedBy2': {'Sa': ['Mo', 'Ma', 'La'], 'Ra': ['Ju'], 'La': ['Sa'], 'Su': ['Sa'], 'Mo': ['Sa'], 'Me': ['Sa'], 'Ve': ['Sa'], 'Ju': ['Ra']}, 'BAspectedBy2': {'7': ['Mo', 'Ma', 'La'], '10': ['Su', 'Ju', 'Ve', 'Me'], '3': ['Ma'], '6': ['Ju', 'Ma'], '8': ['Ke', 'Ju'], '1': ['Sa'], '4': ['Sa'], '9': ['Sa'], '2': ['Ra']}, 'GConjunctsG2': {'Su': ['Ve', 'Me'], 'Me': ['Su', 'Ve'], 'Ve': ['Su', 'Me'], 'Ju': ['Ke'], 'Ke': ['Ju']}, 'BLConjunctsG2': {'1': ['Su', 'Ve'], '3': ['Ve', 'Me'], '4': ['Su', 'Ve'], '5': ['Su', 'Me'], '7': ['Ke'], '10': ['Ke'], '12': ['Su', 'Me']}, 'BLConjunctsBL2': {'1': ['5', '12', '3'], '3': ['1', '5', '4', '12'], '4': ['5', '12', '3'], '5': ['1', '4', '3'], '12': ['1', '4', '3']}}\n",
            "{'_id': ObjectId('61e4e3e0045ccda524a0ec2d'), 'pid': {'tags': ['Biologist', 'Scientist', 'PostGraduate'], 'ck': 'F19909120:525.522.8788.37', 'name': 'nalni'}, 'GLon': {'La': 84.138, 'Su': 145.068, 'Mo': 54.233, 'Ma': 41.525, 'Me': 138.242, 'Ju': 101.216, 'Ve': 131.788, 'Sa': 265.084, 'Ra': 282.763, 'Ke': 102.763}, 'GRet': {'La': False, 'Su': False, 'Mo': False, 'Ma': False, 'Me': True, 'Ju': False, 'Ve': False, 'Sa': True, 'Ra': False, 'Ke': False}, 'BhavN': [' ', 3, 4, 5, 6, 7, 8, 9, 10, 11, 12, 1, 2], 'BhavA': [' ', 'Gem', 'Can', 'Leo', 'Vir', 'Lib', 'Sco', 'Sag', 'Cap', 'Acq', 'Pis', 'Ari', 'Tau'], 'Lord': [' ', 'Me', 'Mo', 'Su', 'Me', 'Ve', 'Ma', 'Ju', 'Sa', 'Sa', 'Ju', 'Ma', 'Ve'], 'LordRashiN': [' ', 5, 2, 5, 5, 5, 2, 4, 9, 9, 4, 2, 5], 'LordRashiA': [' ', 'Leo', 'Tau', 'Leo', 'Leo', 'Leo', 'Tau', 'Can', 'Sag', 'Sag', 'Can', 'Tau', 'Leo'], 'GrahaLordBhav': {'Su': [3], 'Mo': [2], 'Ma': [6, 11], 'Me': [1, 4], 'Ju': [7, 10], 'Ve': [5, 12], 'Sa': [8, 9]}, 'GRashiN': {'La': 3, 'Su': 5, 'Mo': 2, 'Ma': 2, 'Me': 5, 'Ju': 4, 'Ve': 5, 'Sa': 9, 'Ra': 10, 'Ke': 4}, 'GrahaBhava': {'La': 1, 'Su': 3, 'Mo': 12, 'Ma': 12, 'Me': 3, 'Ju': 2, 'Ve': 3, 'Sa': 7, 'Ra': 8, 'Ke': 2}, 'LordBhav': [' ', 3, 12, 3, 3, 3, 12, 2, 7, 7, 2, 12, 3], 'exaltG': {'Su': False, 'Mo': True, 'Ma': False, 'Me': False, 'Ju': True, 'Ve': False, 'Sa': False}, 'debilG': {'Su': False, 'Mo': False, 'Ma': False, 'Me': False, 'Ju': False, 'Ve': False, 'Sa': False}, 'ownHouseG': {'Su': True, 'Mo': False, 'Ma': False, 'Me': False, 'Ju': False, 'Ve': False, 'Sa': False}, 'inFriendG': {'Su': False, 'Mo': False, 'Ma': False, 'Me': True, 'Ju': True, 'Ve': False, 'Sa': False}, 'inEnemyG': {'Su': False, 'Mo': False, 'Ma': False, 'Me': False, 'Ju': False, 'Ve': True, 'Sa': False}, 'exaltL': [False, False, True, False, False, False, False, True, False, False, True, False, False], 'debilL': [False, False, False, False, False, False, False, False, False, False, False, False, False], 'ownHouseL': [False, False, False, True, False, False, False, False, False, False, False, False, False], 'inFriendL': [False, True, False, False, True, False, False, True, False, False, True, False, False], 'inEnemyL': [False, False, False, False, False, True, False, False, False, False, False, False, True], 'GAspects2': {'La': ['Sa'], 'Ma': ['Su', 'Sa', 'Ve', 'Me'], 'Ju': ['Ra'], 'Sa': ['La'], 'Ra': ['Ju']}, 'GAspectedBy2': {'Sa': ['Ma', 'La'], 'Su': ['Ma'], 'Me': ['Ma'], 'Ve': ['Ma'], 'Ra': ['Ju'], 'La': ['Sa'], 'Ju': ['Ra']}, 'BAspectedBy2': {'7': ['Ma', 'La'], '9': ['Su', 'Sa', 'Ve', 'Me'], '6': ['Mo', 'Ju', 'Ma'], '3': ['Ma'], '8': ['Ke', 'Ju'], '10': ['Ju'], '1': ['Sa'], '4': ['Sa'], '2': ['Ra']}, 'GConjunctsG2': {'Su': ['Ve', 'Me'], 'Me': ['Su', 'Ve'], 'Ve': ['Su', 'Me'], 'Mo': ['Ma'], 'Ma': ['Mo'], 'Ju': ['Ke'], 'Ke': ['Ju']}, 'BLConjunctsG2': {'1': ['Su', 'Ve'], '2': ['Ma'], '3': ['Ve', 'Me'], '4': ['Su', 'Ve'], '5': ['Su', 'Me'], '6': ['Mo'], '7': ['Ke'], '10': ['Ke'], '11': ['Mo'], '12': ['Su', 'Me']}, 'BLConjunctsBL2': {'1': ['5', '12', '3'], '2': ['6', '11'], '3': ['1', '5', '4', '12'], '4': ['5', '12', '3'], '5': ['1', '4', '3'], '6': ['2'], '11': ['2'], '12': ['1', '4', '3']}}\n"
          ]
        }
      ]
    },
    {
      "cell_type": "code",
      "source": [
        "#selCond = {'pid.tags': {'$in': ['PostGraduate']}}"
      ],
      "metadata": {
        "id": "KWim3oNAGd7R"
      },
      "execution_count": null,
      "outputs": []
    },
    {
      "cell_type": "code",
      "source": [
        "%%capture\n",
        "selCond = {'GAspectedBy2.La': {'$in': ['Sa']}}\n",
        "df = pd.DataFrame(list(kollection.find(selCond,p21.selCols)))\n",
        "genSampleReport()"
      ],
      "metadata": {
        "id": "kZoDkrRXZujH"
      },
      "execution_count": 55,
      "outputs": []
    },
    {
      "cell_type": "code",
      "source": [
        "%%capture\n",
        "selCond = {\"$and\":\n",
        "                    [\n",
        "                       {'exaltG.Ju': {'$eq': True}},                # Exalted Jupiter\n",
        "                        {'GAspectedBy2.La' : {'$in': ['Sa']}}        # La aspected by Sa          \n",
        "\n",
        "                    ]\n",
        "}\n",
        "\n",
        "df = pd.DataFrame(list(kollection.find(selCond,p21.selCols)))\n",
        "genSampleReport()"
      ],
      "metadata": {
        "id": "SeVhgOjaVihE"
      },
      "execution_count": 48,
      "outputs": []
    },
    {
      "cell_type": "code",
      "source": [
        "%%capture\n",
        "selCond = {\"$and\":\n",
        "                    [\n",
        "                       {'exaltG.Ju': {'$eq': True}},                # Exalted Jupiter\n",
        "                        {'GAspectedBy2.La' : {'$in': ['Sa']}} ,       # La aspected by Sa       \n",
        "                        {'GConjunctsG2.Su' : {'$in': ['Me']}}   \n",
        "\n",
        "                    ]\n",
        "}\n",
        "\n",
        "df = pd.DataFrame(list(kollection.find(selCond,p21.selCols)))\n",
        "genSampleReport()"
      ],
      "metadata": {
        "id": "wtfKhm58zFCq"
      },
      "execution_count": 49,
      "outputs": []
    },
    {
      "cell_type": "code",
      "source": [
        "selCond = {\"$and\":\n",
        "                    [\n",
        "                       {'pid.tags': {'$in': ['PostGraduate']}},\n",
        "                       {\"GRet.Me\" : {\"$eq\" : True}}\n",
        "                       \n",
        "                    ]\n",
        "}\n"
      ],
      "metadata": {
        "id": "dzR101YBVJ3a"
      },
      "execution_count": null,
      "outputs": []
    },
    {
      "cell_type": "code",
      "source": [
        "df = pd.DataFrame(list(kollection.find(selCond,p21.selCols)))\n",
        "df"
      ],
      "metadata": {
        "id": "bf2GZTJMVDGJ",
        "outputId": "06d8a84c-6db8-46de-92b6-d1985ad020d7",
        "colab": {
          "base_uri": "https://localhost:8080/",
          "height": 1000
        }
      },
      "execution_count": 8,
      "outputs": [
        {
          "output_type": "execute_result",
          "data": {
            "text/html": [
              "\n",
              "  <div id=\"df-ecd6a02c-877e-43b2-8eea-1508dfcd3e51\">\n",
              "    <div class=\"colab-df-container\">\n",
              "      <div>\n",
              "<style scoped>\n",
              "    .dataframe tbody tr th:only-of-type {\n",
              "        vertical-align: middle;\n",
              "    }\n",
              "\n",
              "    .dataframe tbody tr th {\n",
              "        vertical-align: top;\n",
              "    }\n",
              "\n",
              "    .dataframe thead th {\n",
              "        text-align: right;\n",
              "    }\n",
              "</style>\n",
              "<table border=\"1\" class=\"dataframe\">\n",
              "  <thead>\n",
              "    <tr style=\"text-align: right;\">\n",
              "      <th></th>\n",
              "      <th>pid</th>\n",
              "      <th>GLon</th>\n",
              "      <th>GRet</th>\n",
              "      <th>Lord</th>\n",
              "      <th>GrahaLordBhav</th>\n",
              "      <th>GRashiN</th>\n",
              "      <th>GrahaBhava</th>\n",
              "      <th>LordBhav</th>\n",
              "      <th>exaltG</th>\n",
              "      <th>debilG</th>\n",
              "      <th>inFriendG</th>\n",
              "      <th>inEnemyG</th>\n",
              "      <th>exaltL</th>\n",
              "      <th>debilL</th>\n",
              "      <th>inFriendL</th>\n",
              "      <th>inEnemyL</th>\n",
              "      <th>GAspects2</th>\n",
              "      <th>GAspectedBy2</th>\n",
              "      <th>BAspectedBy2</th>\n",
              "      <th>GConjunctsG2</th>\n",
              "      <th>BLConjunctsG2</th>\n",
              "      <th>BLConjunctsBL2</th>\n",
              "    </tr>\n",
              "  </thead>\n",
              "  <tbody>\n",
              "    <tr>\n",
              "      <th>0</th>\n",
              "      <td>{'name': 'umos'}</td>\n",
              "      <td>{'La': 98.204, 'Su': 178.826, 'Mo': 250.52, 'M...</td>\n",
              "      <td>{'La': False, 'Su': False, 'Mo': False, 'Ma': ...</td>\n",
              "      <td>[ , Mo, Su, Me, Ve, Ma, Ju, Sa, Sa, Ju, Ma, Ve...</td>\n",
              "      <td>{'Su': [2], 'Mo': [1], 'Ma': [5, 10], 'Me': [3...</td>\n",
              "      <td>{'La': 4, 'Su': 6, 'Mo': 9, 'Ma': 7, 'Me': 7, ...</td>\n",
              "      <td>{'La': 1, 'Su': 3, 'Mo': 6, 'Ma': 4, 'Me': 4, ...</td>\n",
              "      <td>[ , 6, 3, 4, 3, 4, 7, 7, 7, 7, 4, 3, 4]</td>\n",
              "      <td>{'Su': False, 'Mo': False, 'Ma': False, 'Me': ...</td>\n",
              "      <td>{'Su': False, 'Mo': False, 'Ma': False, 'Me': ...</td>\n",
              "      <td>{'Su': False, 'Mo': False, 'Ma': False, 'Me': ...</td>\n",
              "      <td>{'Su': False, 'Mo': False, 'Ma': False, 'Me': ...</td>\n",
              "      <td>[False, False, False, False, False, False, Fal...</td>\n",
              "      <td>[False, False, False, False, True, False, True...</td>\n",
              "      <td>[False, False, False, True, True, False, False...</td>\n",
              "      <td>[False, False, False, False, False, False, Fal...</td>\n",
              "      <td>{'La': ['Sa', 'Ju'], 'Ma': ['Sa', 'Ju'], 'Ju':...</td>\n",
              "      <td>{'Ju': ['Ma', 'La'], 'Sa': ['Ma', 'La'], 'La':...</td>\n",
              "      <td>{'7': ['Ma', 'La'], '9': ['Su', 'Sa', 'Ve'], '...</td>\n",
              "      <td>{'Su': ['Ve'], 'Ve': ['Su'], 'Ma': ['Me'], 'Me...</td>\n",
              "      <td>{'2': ['Ve'], '3': ['Ma'], '4': ['Su'], '5': [...</td>\n",
              "      <td>{'2': ['4', '11'], '3': ['5', '10'], '4': ['2'...</td>\n",
              "    </tr>\n",
              "    <tr>\n",
              "      <th>1</th>\n",
              "      <td>{'name': 'ohloa'}</td>\n",
              "      <td>{'La': 85.351, 'Su': 172.44, 'Mo': 63.984, 'Ma...</td>\n",
              "      <td>{'La': False, 'Su': False, 'Mo': False, 'Ma': ...</td>\n",
              "      <td>[ , Me, Mo, Su, Me, Ve, Ma, Ju, Sa, Sa, Ju, Ma...</td>\n",
              "      <td>{'Su': [3], 'Mo': [2], 'Ma': [6, 11], 'Me': [1...</td>\n",
              "      <td>{'La': 3, 'Su': 6, 'Mo': 3, 'Ma': 2, 'Me': 6, ...</td>\n",
              "      <td>{'La': 1, 'Su': 4, 'Mo': 1, 'Ma': 12, 'Me': 4,...</td>\n",
              "      <td>[ , 4, 1, 4, 4, 4, 12, 2, 7, 7, 2, 12, 4]</td>\n",
              "      <td>{'Su': False, 'Mo': False, 'Ma': False, 'Me': ...</td>\n",
              "      <td>{'Su': False, 'Mo': False, 'Ma': False, 'Me': ...</td>\n",
              "      <td>{'Su': False, 'Mo': True, 'Ma': False, 'Me': F...</td>\n",
              "      <td>{'Su': False, 'Mo': False, 'Ma': False, 'Me': ...</td>\n",
              "      <td>[False, True, False, False, True, False, False...</td>\n",
              "      <td>[False, False, False, False, False, True, Fals...</td>\n",
              "      <td>[False, False, True, False, False, True, False...</td>\n",
              "      <td>[False, False, False, False, False, False, Fal...</td>\n",
              "      <td>{'La': ['Sa'], 'Mo': ['Sa'], 'Ma': ['Sa'], 'Ju...</td>\n",
              "      <td>{'Sa': ['Mo', 'Ma', 'La'], 'Ra': ['Ju'], 'La':...</td>\n",
              "      <td>{'7': ['Mo', 'Ma', 'La'], '10': ['Su', 'Ju', '...</td>\n",
              "      <td>{'Su': ['Ve', 'Me'], 'Me': ['Su', 'Ve'], 'Ve':...</td>\n",
              "      <td>{'1': ['Su', 'Ve'], '3': ['Ve', 'Me'], '4': ['...</td>\n",
              "      <td>{'1': ['5', '12', '3'], '3': ['1', '5', '4', '...</td>\n",
              "    </tr>\n",
              "    <tr>\n",
              "      <th>2</th>\n",
              "      <td>{'name': 'nalni'}</td>\n",
              "      <td>{'La': 84.138, 'Su': 145.068, 'Mo': 54.233, 'M...</td>\n",
              "      <td>{'La': False, 'Su': False, 'Mo': False, 'Ma': ...</td>\n",
              "      <td>[ , Me, Mo, Su, Me, Ve, Ma, Ju, Sa, Sa, Ju, Ma...</td>\n",
              "      <td>{'Su': [3], 'Mo': [2], 'Ma': [6, 11], 'Me': [1...</td>\n",
              "      <td>{'La': 3, 'Su': 5, 'Mo': 2, 'Ma': 2, 'Me': 5, ...</td>\n",
              "      <td>{'La': 1, 'Su': 3, 'Mo': 12, 'Ma': 12, 'Me': 3...</td>\n",
              "      <td>[ , 3, 12, 3, 3, 3, 12, 2, 7, 7, 2, 12, 3]</td>\n",
              "      <td>{'Su': False, 'Mo': True, 'Ma': False, 'Me': F...</td>\n",
              "      <td>{'Su': False, 'Mo': False, 'Ma': False, 'Me': ...</td>\n",
              "      <td>{'Su': False, 'Mo': False, 'Ma': False, 'Me': ...</td>\n",
              "      <td>{'Su': False, 'Mo': False, 'Ma': False, 'Me': ...</td>\n",
              "      <td>[False, False, True, False, False, False, Fals...</td>\n",
              "      <td>[False, False, False, False, False, False, Fal...</td>\n",
              "      <td>[False, True, False, False, True, False, False...</td>\n",
              "      <td>[False, False, False, False, False, True, Fals...</td>\n",
              "      <td>{'La': ['Sa'], 'Ma': ['Su', 'Sa', 'Ve', 'Me'],...</td>\n",
              "      <td>{'Sa': ['Ma', 'La'], 'Su': ['Ma'], 'Me': ['Ma'...</td>\n",
              "      <td>{'7': ['Ma', 'La'], '9': ['Su', 'Sa', 'Ve', 'M...</td>\n",
              "      <td>{'Su': ['Ve', 'Me'], 'Me': ['Su', 'Ve'], 'Ve':...</td>\n",
              "      <td>{'1': ['Su', 'Ve'], '2': ['Ma'], '3': ['Ve', '...</td>\n",
              "      <td>{'1': ['5', '12', '3'], '2': ['6', '11'], '3':...</td>\n",
              "    </tr>\n",
              "    <tr>\n",
              "      <th>3</th>\n",
              "      <td>{'name': 'iNDdMo'}</td>\n",
              "      <td>{'La': 191.897, 'Su': 150.533, 'Mo': 217.939, ...</td>\n",
              "      <td>{'La': False, 'Su': False, 'Mo': False, 'Ma': ...</td>\n",
              "      <td>[ , Ve, Ma, Ju, Sa, Sa, Ju, Ma, Ve, Me, Mo, Su...</td>\n",
              "      <td>{'Su': [11], 'Mo': [10], 'Ma': [2, 7], 'Me': [...</td>\n",
              "      <td>{'La': 7, 'Su': 6, 'Mo': 8, 'Ma': 8, 'Me': 6, ...</td>\n",
              "      <td>{'La': 1, 'Su': 12, 'Mo': 2, 'Ma': 2, 'Me': 12...</td>\n",
              "      <td>[ , 11, 2, 5, 11, 11, 5, 2, 11, 12, 2, 12, 12]</td>\n",
              "      <td>{'Su': False, 'Mo': False, 'Ma': False, 'Me': ...</td>\n",
              "      <td>{'Su': False, 'Mo': True, 'Ma': False, 'Me': F...</td>\n",
              "      <td>{'Su': False, 'Mo': False, 'Ma': False, 'Me': ...</td>\n",
              "      <td>{'Su': False, 'Mo': False, 'Ma': False, 'Me': ...</td>\n",
              "      <td>[False, False, False, False, False, False, Fal...</td>\n",
              "      <td>[False, False, False, False, False, False, Fal...</td>\n",
              "      <td>[False, False, False, False, False, False, Fal...</td>\n",
              "      <td>[False, True, False, False, True, True, False,...</td>\n",
              "      <td>{'Su': ['Ra'], 'Ma': ['Ju'], 'Me': ['Ra'], 'Ju...</td>\n",
              "      <td>{'Ra': ['Su', 'Me'], 'Ju': ['Ve', 'Sa', 'Ma'],...</td>\n",
              "      <td>{'7': ['La'], '6': ['Su', 'Ke', 'Me'], '8': ['...</td>\n",
              "      <td>{'Su': ['Ke', 'Me'], 'Me': ['Su', 'Ke'], 'Ke':...</td>\n",
              "      <td>{'1': ['Sa'], '2': ['Mo'], '4': ['Ve'], '5': [...</td>\n",
              "      <td>{'1': ['5', '4'], '2': ['10'], '4': ['1', '8']...</td>\n",
              "    </tr>\n",
              "    <tr>\n",
              "      <th>4</th>\n",
              "      <td>{'name': 'bAgardn_eArlé'}</td>\n",
              "      <td>{'La': 101.007, 'Su': 51.366, 'Mo': 57.476, 'M...</td>\n",
              "      <td>{'La': False, 'Su': False, 'Mo': False, 'Ma': ...</td>\n",
              "      <td>[ , Mo, Su, Me, Ve, Ma, Ju, Sa, Sa, Ju, Ma, Ve...</td>\n",
              "      <td>{'Su': [2], 'Mo': [1], 'Ma': [5, 10], 'Me': [3...</td>\n",
              "      <td>{'La': 4, 'Su': 2, 'Mo': 2, 'Ma': 12, 'Me': 2,...</td>\n",
              "      <td>{'La': 1, 'Su': 11, 'Mo': 11, 'Ma': 9, 'Me': 1...</td>\n",
              "      <td>[ , 11, 11, 11, 10, 9, 6, 11, 11, 6, 9, 10, 11]</td>\n",
              "      <td>{'Su': False, 'Mo': True, 'Ma': False, 'Me': F...</td>\n",
              "      <td>{'Su': False, 'Mo': False, 'Ma': False, 'Me': ...</td>\n",
              "      <td>{'Su': False, 'Mo': False, 'Ma': True, 'Me': T...</td>\n",
              "      <td>{'Su': True, 'Mo': False, 'Ma': False, 'Me': F...</td>\n",
              "      <td>[False, True, False, False, False, False, Fals...</td>\n",
              "      <td>[False, False, False, False, False, False, Fal...</td>\n",
              "      <td>[False, False, False, True, False, True, False...</td>\n",
              "      <td>[False, False, True, False, True, False, False...</td>\n",
              "      <td>{'Ma': ['Ke'], 'Ju': ['Ve'], 'Sa': ['La'], 'Ke...</td>\n",
              "      <td>{'Ke': ['Ma'], 'Ve': ['Ju'], 'La': ['Sa'], 'Ma...</td>\n",
              "      <td>{'7': ['La'], '5': ['Su', 'Sa', 'Mo', 'Me'], '...</td>\n",
              "      <td>{'Su': ['Sa', 'Mo', 'Me'], 'Mo': ['Su', 'Sa', ...</td>\n",
              "      <td>{'1': ['Su', 'Sa', 'Me'], '2': ['Sa', 'Mo', 'M...</td>\n",
              "      <td>{'1': ['2', '12', '7', '8', '3'], '2': ['12', ...</td>\n",
              "    </tr>\n",
              "    <tr>\n",
              "      <th>...</th>\n",
              "      <td>...</td>\n",
              "      <td>...</td>\n",
              "      <td>...</td>\n",
              "      <td>...</td>\n",
              "      <td>...</td>\n",
              "      <td>...</td>\n",
              "      <td>...</td>\n",
              "      <td>...</td>\n",
              "      <td>...</td>\n",
              "      <td>...</td>\n",
              "      <td>...</td>\n",
              "      <td>...</td>\n",
              "      <td>...</td>\n",
              "      <td>...</td>\n",
              "      <td>...</td>\n",
              "      <td>...</td>\n",
              "      <td>...</td>\n",
              "      <td>...</td>\n",
              "      <td>...</td>\n",
              "      <td>...</td>\n",
              "      <td>...</td>\n",
              "      <td>...</td>\n",
              "    </tr>\n",
              "    <tr>\n",
              "      <th>9986</th>\n",
              "      <td>{'name': 'eioeÉnteuiLs_n'}</td>\n",
              "      <td>{'La': 114.665, 'Su': 137.516, 'Mo': 184.925, ...</td>\n",
              "      <td>{'La': False, 'Su': False, 'Mo': False, 'Ma': ...</td>\n",
              "      <td>[ , Mo, Su, Me, Ve, Ma, Ju, Sa, Sa, Ju, Ma, Ve...</td>\n",
              "      <td>{'Su': [2], 'Mo': [1], 'Ma': [5, 10], 'Me': [3...</td>\n",
              "      <td>{'La': 4, 'Su': 5, 'Mo': 7, 'Ma': 11, 'Me': 6,...</td>\n",
              "      <td>{'La': 1, 'Su': 2, 'Mo': 4, 'Ma': 8, 'Me': 3, ...</td>\n",
              "      <td>[ , 4, 2, 3, 1, 8, 5, 4, 4, 5, 8, 1, 3]</td>\n",
              "      <td>{'Su': False, 'Mo': False, 'Ma': False, 'Me': ...</td>\n",
              "      <td>{'Su': False, 'Mo': False, 'Ma': False, 'Me': ...</td>\n",
              "      <td>{'Su': False, 'Mo': False, 'Ma': False, 'Me': ...</td>\n",
              "      <td>{'Su': False, 'Mo': False, 'Ma': False, 'Me': ...</td>\n",
              "      <td>[False, False, False, True, False, False, Fals...</td>\n",
              "      <td>[False, False, False, False, False, False, Fal...</td>\n",
              "      <td>[False, False, False, False, False, False, Tru...</td>\n",
              "      <td>[False, False, False, False, True, False, Fals...</td>\n",
              "      <td>{'Su': ['Ke', 'Ma'], 'Ma': ['Ra', 'Su', 'Me'],...</td>\n",
              "      <td>{'Ma': ['Ra', 'Su'], 'Ke': ['Su'], 'Su': ['Ke'...</td>\n",
              "      <td>{'7': ['Ve', 'La'], '8': ['Ra', 'Su'], '10': [...</td>\n",
              "      <td>{'Su': ['Ra'], 'Ra': ['Su'], 'Mo': ['Sa'], 'Sa...</td>\n",
              "      <td>{'1': ['Sa'], '2': ['Ra'], '5': ['Ke'], '7': [...</td>\n",
              "      <td>{'1': ['7', '8'], '7': ['1'], '8': ['1']}</td>\n",
              "    </tr>\n",
              "    <tr>\n",
              "      <th>9987</th>\n",
              "      <td>{'name': 't_etiOneteÉnde'}</td>\n",
              "      <td>{'La': 55.228, 'Su': 337.653, 'Mo': 331.047, '...</td>\n",
              "      <td>{'La': False, 'Su': False, 'Mo': False, 'Ma': ...</td>\n",
              "      <td>[ , Ve, Me, Mo, Su, Me, Ve, Ma, Ju, Sa, Sa, Ju...</td>\n",
              "      <td>{'Su': [4], 'Mo': [3], 'Ma': [7, 12], 'Me': [2...</td>\n",
              "      <td>{'La': 2, 'Su': 12, 'Mo': 12, 'Ma': 10, 'Me': ...</td>\n",
              "      <td>{'La': 1, 'Su': 11, 'Mo': 11, 'Ma': 9, 'Me': 1...</td>\n",
              "      <td>[ , 10, 10, 11, 11, 10, 10, 9, 11, 7, 7, 11, 9]</td>\n",
              "      <td>{'Su': False, 'Mo': False, 'Ma': True, 'Me': F...</td>\n",
              "      <td>{'Su': False, 'Mo': False, 'Ma': False, 'Me': ...</td>\n",
              "      <td>{'Su': True, 'Mo': False, 'Ma': False, 'Me': F...</td>\n",
              "      <td>{'Su': False, 'Mo': False, 'Ma': False, 'Me': ...</td>\n",
              "      <td>[False, False, False, False, False, False, Fal...</td>\n",
              "      <td>[False, False, False, False, False, False, Fal...</td>\n",
              "      <td>[False, False, False, False, True, False, Fals...</td>\n",
              "      <td>[False, False, False, False, False, False, Fal...</td>\n",
              "      <td>{'La': ['Sa', 'Ke'], 'Ju': ['Sa', 'Ke'], 'Sa':...</td>\n",
              "      <td>{'Sa': ['Ra', 'Ju', 'La'], 'Ke': ['Ju', 'La'],...</td>\n",
              "      <td>{'7': ['Ra', 'Ju', 'La'], '5': ['Su', 'Mo', 'J...</td>\n",
              "      <td>{'Su': ['Mo', 'Ju'], 'Mo': ['Su', 'Ju'], 'Ju':...</td>\n",
              "      <td>{'1': ['Me'], '2': ['Ve'], '3': ['Su', 'Ju'], ...</td>\n",
              "      <td>{'1': ['2', '5'], '2': ['1', '6'], '3': ['8', ...</td>\n",
              "    </tr>\n",
              "    <tr>\n",
              "      <th>9988</th>\n",
              "      <td>{'name': '_ltPeuÉneianine'}</td>\n",
              "      <td>{'La': 61.564, 'Su': 70.783, 'Mo': 337.379, 'M...</td>\n",
              "      <td>{'La': False, 'Su': False, 'Mo': False, 'Ma': ...</td>\n",
              "      <td>[ , Me, Mo, Su, Me, Ve, Ma, Ju, Sa, Sa, Ju, Ma...</td>\n",
              "      <td>{'Su': [3], 'Mo': [2], 'Ma': [6, 11], 'Me': [1...</td>\n",
              "      <td>{'La': 3, 'Su': 3, 'Mo': 12, 'Ma': 4, 'Me': 2,...</td>\n",
              "      <td>{'La': 1, 'Su': 1, 'Mo': 10, 'Ma': 2, 'Me': 12...</td>\n",
              "      <td>[ , 12, 10, 1, 12, 2, 2, 12, 7, 7, 12, 2, 2]</td>\n",
              "      <td>{'Su': False, 'Mo': False, 'Ma': False, 'Me': ...</td>\n",
              "      <td>{'Su': False, 'Mo': False, 'Ma': True, 'Me': F...</td>\n",
              "      <td>{'Su': False, 'Mo': False, 'Ma': True, 'Me': T...</td>\n",
              "      <td>{'Su': False, 'Mo': False, 'Ma': False, 'Me': ...</td>\n",
              "      <td>[False, False, False, False, False, False, Fal...</td>\n",
              "      <td>[False, False, False, False, False, False, Tru...</td>\n",
              "      <td>[False, True, False, False, True, False, True,...</td>\n",
              "      <td>[False, False, False, False, False, True, Fals...</td>\n",
              "      <td>{'La': ['Sa'], 'Su': ['Sa'], 'Ma': ['Ra'], 'Sa...</td>\n",
              "      <td>{'Sa': ['Su', 'La'], 'Ra': ['Sa', 'Ma'], 'La':...</td>\n",
              "      <td>{'7': ['Su', 'La'], '4': ['Sa', 'Mo', 'Ju'], '...</td>\n",
              "      <td>{'Ma': ['Ve'], 'Ve': ['Ma'], 'Me': ['Ju'], 'Ju...</td>\n",
              "      <td>{'1': ['Ju'], '4': ['Ju'], '5': ['Ma'], '6': [...</td>\n",
              "      <td>{'1': ['7', '10'], '4': ['7', '10'], '5': ['6'...</td>\n",
              "    </tr>\n",
              "    <tr>\n",
              "      <th>9989</th>\n",
              "      <td>{'name': 'aenieAbcenMØrr_k_'}</td>\n",
              "      <td>{'La': 65.3, 'Su': 347.835, 'Mo': 11.671, 'Ma'...</td>\n",
              "      <td>{'La': False, 'Su': False, 'Mo': False, 'Ma': ...</td>\n",
              "      <td>[ , Me, Mo, Su, Me, Ve, Ma, Ju, Sa, Sa, Ju, Ma...</td>\n",
              "      <td>{'Su': [3], 'Mo': [2], 'Ma': [6, 11], 'Me': [1...</td>\n",
              "      <td>{'La': 3, 'Su': 12, 'Mo': 1, 'Ma': 10, 'Me': 1...</td>\n",
              "      <td>{'La': 1, 'Su': 10, 'Mo': 11, 'Ma': 8, 'Me': 1...</td>\n",
              "      <td>[ , 10, 11, 10, 10, 11, 8, 5, 11, 11, 5, 8, 11]</td>\n",
              "      <td>{'Su': False, 'Mo': False, 'Ma': True, 'Me': F...</td>\n",
              "      <td>{'Su': False, 'Mo': False, 'Ma': False, 'Me': ...</td>\n",
              "      <td>{'Su': True, 'Mo': False, 'Ma': False, 'Me': F...</td>\n",
              "      <td>{'Su': False, 'Mo': False, 'Ma': False, 'Me': ...</td>\n",
              "      <td>[False, False, False, False, False, False, Tru...</td>\n",
              "      <td>[False, True, False, False, True, False, False...</td>\n",
              "      <td>[False, False, False, True, False, False, Fals...</td>\n",
              "      <td>[False, False, False, False, False, True, Fals...</td>\n",
              "      <td>{'Mo': ['Ke', 'Ju'], 'Ma': ['Ra', 'Sa', 'Mo', ...</td>\n",
              "      <td>{'Ju': ['Ra', 'Sa', 'Mo', 'Ve'], 'Ke': ['Sa', ...</td>\n",
              "      <td>{'7': ['La'], '4': ['Su', 'Me'], '5': ['Ra', '...</td>\n",
              "      <td>{'Su': ['Me'], 'Me': ['Su'], 'Mo': ['Ra', 'Sa'...</td>\n",
              "      <td>{'1': ['Su'], '2': ['Ra', 'Sa', 'Ve'], '3': ['...</td>\n",
              "      <td>{'1': ['3'], '2': ['5', '9', '8', '12'], '3': ...</td>\n",
              "    </tr>\n",
              "    <tr>\n",
              "      <th>9990</th>\n",
              "      <td>{'name': 'bdesdyOt_Ø'}</td>\n",
              "      <td>{'La': 253.572, 'Su': 0.778, 'Mo': 245.385, 'M...</td>\n",
              "      <td>{'La': False, 'Su': False, 'Mo': False, 'Ma': ...</td>\n",
              "      <td>[ , Ju, Sa, Sa, Ju, Ma, Ve, Me, Mo, Su, Me, Ve...</td>\n",
              "      <td>{'Su': [9], 'Mo': [8], 'Ma': [5, 12], 'Me': [7...</td>\n",
              "      <td>{'La': 9, 'Su': 1, 'Mo': 9, 'Ma': 2, 'Me': 1, ...</td>\n",
              "      <td>{'La': 1, 'Su': 5, 'Mo': 1, 'Ma': 6, 'Me': 5, ...</td>\n",
              "      <td>[ , 1, 11, 11, 1, 6, 4, 5, 1, 5, 5, 4, 6]</td>\n",
              "      <td>{'Su': True, 'Mo': False, 'Ma': False, 'Me': F...</td>\n",
              "      <td>{'Su': False, 'Mo': False, 'Ma': False, 'Me': ...</td>\n",
              "      <td>{'Su': True, 'Mo': False, 'Ma': False, 'Me': F...</td>\n",
              "      <td>{'Su': False, 'Mo': False, 'Ma': False, 'Me': ...</td>\n",
              "      <td>[False, False, True, True, False, False, True,...</td>\n",
              "      <td>[False, False, False, False, False, False, Fal...</td>\n",
              "      <td>[False, False, False, False, False, False, Fal...</td>\n",
              "      <td>[False, False, False, False, False, False, Fal...</td>\n",
              "      <td>{'Su': ['Sa'], 'Ma': ['Mo', 'Ju', 'La'], 'Me':...</td>\n",
              "      <td>{'Sa': ['Su', 'Me'], 'La': ['Sa', 'Ma'], 'Mo':...</td>\n",
              "      <td>{'7': ['Mo', 'Ju', 'La'], '11': ['Su', 'Me'], ...</td>\n",
              "      <td>{'Su': ['Me'], 'Me': ['Su'], 'Mo': ['Ju'], 'Ju...</td>\n",
              "      <td>{'1': ['Mo'], '4': ['Mo'], '7': ['Su'], '8': [...</td>\n",
              "      <td>{'1': ['8'], '4': ['8'], '7': ['9'], '8': ['1'...</td>\n",
              "    </tr>\n",
              "  </tbody>\n",
              "</table>\n",
              "<p>9991 rows × 22 columns</p>\n",
              "</div>\n",
              "      <button class=\"colab-df-convert\" onclick=\"convertToInteractive('df-ecd6a02c-877e-43b2-8eea-1508dfcd3e51')\"\n",
              "              title=\"Convert this dataframe to an interactive table.\"\n",
              "              style=\"display:none;\">\n",
              "        \n",
              "  <svg xmlns=\"http://www.w3.org/2000/svg\" height=\"24px\"viewBox=\"0 0 24 24\"\n",
              "       width=\"24px\">\n",
              "    <path d=\"M0 0h24v24H0V0z\" fill=\"none\"/>\n",
              "    <path d=\"M18.56 5.44l.94 2.06.94-2.06 2.06-.94-2.06-.94-.94-2.06-.94 2.06-2.06.94zm-11 1L8.5 8.5l.94-2.06 2.06-.94-2.06-.94L8.5 2.5l-.94 2.06-2.06.94zm10 10l.94 2.06.94-2.06 2.06-.94-2.06-.94-.94-2.06-.94 2.06-2.06.94z\"/><path d=\"M17.41 7.96l-1.37-1.37c-.4-.4-.92-.59-1.43-.59-.52 0-1.04.2-1.43.59L10.3 9.45l-7.72 7.72c-.78.78-.78 2.05 0 2.83L4 21.41c.39.39.9.59 1.41.59.51 0 1.02-.2 1.41-.59l7.78-7.78 2.81-2.81c.8-.78.8-2.07 0-2.86zM5.41 20L4 18.59l7.72-7.72 1.47 1.35L5.41 20z\"/>\n",
              "  </svg>\n",
              "      </button>\n",
              "      \n",
              "  <style>\n",
              "    .colab-df-container {\n",
              "      display:flex;\n",
              "      flex-wrap:wrap;\n",
              "      gap: 12px;\n",
              "    }\n",
              "\n",
              "    .colab-df-convert {\n",
              "      background-color: #E8F0FE;\n",
              "      border: none;\n",
              "      border-radius: 50%;\n",
              "      cursor: pointer;\n",
              "      display: none;\n",
              "      fill: #1967D2;\n",
              "      height: 32px;\n",
              "      padding: 0 0 0 0;\n",
              "      width: 32px;\n",
              "    }\n",
              "\n",
              "    .colab-df-convert:hover {\n",
              "      background-color: #E2EBFA;\n",
              "      box-shadow: 0px 1px 2px rgba(60, 64, 67, 0.3), 0px 1px 3px 1px rgba(60, 64, 67, 0.15);\n",
              "      fill: #174EA6;\n",
              "    }\n",
              "\n",
              "    [theme=dark] .colab-df-convert {\n",
              "      background-color: #3B4455;\n",
              "      fill: #D2E3FC;\n",
              "    }\n",
              "\n",
              "    [theme=dark] .colab-df-convert:hover {\n",
              "      background-color: #434B5C;\n",
              "      box-shadow: 0px 1px 3px 1px rgba(0, 0, 0, 0.15);\n",
              "      filter: drop-shadow(0px 1px 2px rgba(0, 0, 0, 0.3));\n",
              "      fill: #FFFFFF;\n",
              "    }\n",
              "  </style>\n",
              "\n",
              "      <script>\n",
              "        const buttonEl =\n",
              "          document.querySelector('#df-ecd6a02c-877e-43b2-8eea-1508dfcd3e51 button.colab-df-convert');\n",
              "        buttonEl.style.display =\n",
              "          google.colab.kernel.accessAllowed ? 'block' : 'none';\n",
              "\n",
              "        async function convertToInteractive(key) {\n",
              "          const element = document.querySelector('#df-ecd6a02c-877e-43b2-8eea-1508dfcd3e51');\n",
              "          const dataTable =\n",
              "            await google.colab.kernel.invokeFunction('convertToInteractive',\n",
              "                                                     [key], {});\n",
              "          if (!dataTable) return;\n",
              "\n",
              "          const docLinkHtml = 'Like what you see? Visit the ' +\n",
              "            '<a target=\"_blank\" href=https://colab.research.google.com/notebooks/data_table.ipynb>data table notebook</a>'\n",
              "            + ' to learn more about interactive tables.';\n",
              "          element.innerHTML = '';\n",
              "          dataTable['output_type'] = 'display_data';\n",
              "          await google.colab.output.renderOutput(dataTable, element);\n",
              "          const docLink = document.createElement('div');\n",
              "          docLink.innerHTML = docLinkHtml;\n",
              "          element.appendChild(docLink);\n",
              "        }\n",
              "      </script>\n",
              "    </div>\n",
              "  </div>\n",
              "  "
            ],
            "text/plain": [
              "                                pid  ...                                     BLConjunctsBL2\n",
              "0                  {'name': 'umos'}  ...  {'2': ['4', '11'], '3': ['5', '10'], '4': ['2'...\n",
              "1                 {'name': 'ohloa'}  ...  {'1': ['5', '12', '3'], '3': ['1', '5', '4', '...\n",
              "2                 {'name': 'nalni'}  ...  {'1': ['5', '12', '3'], '2': ['6', '11'], '3':...\n",
              "3                {'name': 'iNDdMo'}  ...  {'1': ['5', '4'], '2': ['10'], '4': ['1', '8']...\n",
              "4         {'name': 'bAgardn_eArlé'}  ...  {'1': ['2', '12', '7', '8', '3'], '2': ['12', ...\n",
              "...                             ...  ...                                                ...\n",
              "9986     {'name': 'eioeÉnteuiLs_n'}  ...          {'1': ['7', '8'], '7': ['1'], '8': ['1']}\n",
              "9987     {'name': 't_etiOneteÉnde'}  ...  {'1': ['2', '5'], '2': ['1', '6'], '3': ['8', ...\n",
              "9988    {'name': '_ltPeuÉneianine'}  ...  {'1': ['7', '10'], '4': ['7', '10'], '5': ['6'...\n",
              "9989  {'name': 'aenieAbcenMØrr_k_'}  ...  {'1': ['3'], '2': ['5', '9', '8', '12'], '3': ...\n",
              "9990         {'name': 'bdesdyOt_Ø'}  ...  {'1': ['8'], '4': ['8'], '7': ['9'], '8': ['1'...\n",
              "\n",
              "[9991 rows x 22 columns]"
            ]
          },
          "metadata": {},
          "execution_count": 8
        }
      ]
    },
    {
      "cell_type": "code",
      "source": [
        "#df = pd.DataFrame(list(kollection.find({'pid.tags': {\"$in\": ['PostGraduate']}},{'pid.name':1,\"_id\":0,'GLon':1,'GRet':1})))\n",
        "#df"
      ],
      "metadata": {
        "id": "gGtojxPZxmku"
      },
      "execution_count": null,
      "outputs": []
    }
  ]
}