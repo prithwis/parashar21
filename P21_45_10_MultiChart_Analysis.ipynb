{
  "nbformat": 4,
  "nbformat_minor": 0,
  "metadata": {
    "colab": {
      "provenance": [],
      "include_colab_link": true
    },
    "kernelspec": {
      "name": "python3",
      "display_name": "Python 3"
    }
  },
  "cells": [
    {
      "cell_type": "markdown",
      "metadata": {
        "id": "view-in-github",
        "colab_type": "text"
      },
      "source": [
        "<a href=\"https://colab.research.google.com/github/prithwis/parashar21/blob/main/P21_45_10_MultiChart_Analysis.ipynb\" target=\"_parent\"><img src=\"https://colab.research.google.com/assets/colab-badge.svg\" alt=\"Open In Colab\"/></a>"
      ]
    },
    {
      "cell_type": "markdown",
      "metadata": {
        "id": "m3d-QHg6rqr-"
      },
      "source": [
        "![alt text](http://1.bp.blogspot.com/_5QlanosqxiQ/SXLOLTu7S7I/AAAAAAAAAm8/0r6C7lCxsic/S1600-R/p21-header-003.png) <br>\n",
        "\n",
        "\n",
        "---\n",
        "\n",
        "\n",
        "\n",
        "[Prithwis Mukerjee](http://www.yantrajaal.com) ||\n",
        "Website - [Parashar21](https://parashar21.blogspot.com)<br>"
      ]
    },
    {
      "cell_type": "markdown",
      "source": [
        "Copyright (c) 2022, Prithwis Mukerjee\n",
        "All rights reserved.\n",
        "\n",
        "This source code is licensed under the GNU GPL v3.0 -style license found in the\n",
        "LICENSE file in the root directory of this source tree."
      ],
      "metadata": {
        "id": "FzmJB_cR0xzp"
      }
    },
    {
      "cell_type": "markdown",
      "source": [
        "#Parashar21\n",
        "This contains the code that demonstrates the core functionality envisaged in the Parashar21 exercise and articulated in [this article](https://www.researchgate.net/publication/358191949_Efficient_storage_and_retrieval_of_horoscope_data_on_a_computer_system_A_case_study_using_Python_and_MongoDB) at ResearchGate. <br>\n",
        "For the purpose of demonstration and for ease of use a MongoDB database is installed locally in the Colab VM. <br>\n",
        "In a production scenario, this MongoDB database could be on an independent hosting platform that would have to be accessed with appropriate credentials. <br>\n",
        "\n",
        "1.   [P21_45_01_Cast_Load](https://github.com/prithwis/parashar21/blob/main/P21_45_01_Cast_Load.ipynb) demonstrates how to store the chart data on a remotely hosted MongoDB databae\n",
        "2.   [P21_45_Pull_Print](https://github.com/prithwis/parashar21/blob/main/P21_45_02_Pull_Print.ipynb) and [P21_45_04_YogFilter](https://github.com/prithwis/parashar21/blob/main/P21_45_04_YogFilter.ipynb)  show how to retrieve data from a remotely hosted MongoDB database\n",
        "\n",
        "For complete information about this project see the [Parashar21](https://prithwis.github.io/parashar21/) github page."
      ],
      "metadata": {
        "id": "Q5dCCZlf8nLK"
      }
    },
    {
      "cell_type": "code",
      "source": [
        "from datetime import datetime\n",
        "import pytz\n",
        "print(\"\\033[1m\"+'ॐ श्री गणेशाय नमः'+\"\\033[0m\")\n",
        "print(datetime.now(pytz.timezone('Asia/Calcutta')))"
      ],
      "metadata": {
        "id": "hx54jQbJt79u",
        "outputId": "1bce8089-efc2-417f-c190-9f0a5f487f66",
        "colab": {
          "base_uri": "https://localhost:8080/"
        }
      },
      "execution_count": 1,
      "outputs": [
        {
          "output_type": "stream",
          "name": "stdout",
          "text": [
            "\u001b[1mॐ श्री गणेशाय नमः\u001b[0m\n",
            "2023-08-10 06:56:57.741695+05:30\n"
          ]
        }
      ]
    },
    {
      "cell_type": "markdown",
      "source": [
        "#Environment Setup"
      ],
      "metadata": {
        "id": "BgG7KnOslRT-"
      }
    },
    {
      "cell_type": "code",
      "source": [
        "!python --version\n",
        "!lsb_release -a\n",
        "\n",
        "!pip -qq install pyswisseph                                 # https://stackoverflow.com/questions/64277506/pip-install-options-unclear\n",
        "!pip -qq install python-docx                                # https://python-docx.readthedocs.io/en/latest/\n",
        "!pip -qq install pymongo                                    # Required for Mongo client"
      ],
      "metadata": {
        "colab": {
          "base_uri": "https://localhost:8080/"
        },
        "id": "FCickJzFQbj4",
        "outputId": "a8e0f0c5-6219-46db-dc3c-e8dbf03abea4"
      },
      "execution_count": 2,
      "outputs": [
        {
          "output_type": "stream",
          "name": "stdout",
          "text": [
            "Python 3.10.12\n",
            "No LSB modules are available.\n",
            "Distributor ID:\tUbuntu\n",
            "Description:\tUbuntu 22.04.2 LTS\n",
            "Release:\t22.04\n",
            "Codename:\tjammy\n",
            "\u001b[2K     \u001b[90m━━━━━━━━━━━━━━━━━━━━━━━━━━━━━━━━━━━━━━━━\u001b[0m \u001b[32m1.8/1.8 MB\u001b[0m \u001b[31m11.1 MB/s\u001b[0m eta \u001b[36m0:00:00\u001b[0m\n",
            "\u001b[2K     \u001b[90m━━━━━━━━━━━━━━━━━━━━━━━━━━━━━━━━━━━━━━━━\u001b[0m \u001b[32m5.6/5.6 MB\u001b[0m \u001b[31m19.3 MB/s\u001b[0m eta \u001b[36m0:00:00\u001b[0m\n",
            "\u001b[?25h  Preparing metadata (setup.py) ... \u001b[?25l\u001b[?25hdone\n",
            "  Building wheel for python-docx (setup.py) ... \u001b[?25l\u001b[?25hdone\n",
            "\u001b[2K     \u001b[90m━━━━━━━━━━━━━━━━━━━━━━━━━━━━━━━━━━━━━━━\u001b[0m \u001b[32m603.6/603.6 kB\u001b[0m \u001b[31m3.4 MB/s\u001b[0m eta \u001b[36m0:00:00\u001b[0m\n",
            "\u001b[2K     \u001b[90m━━━━━━━━━━━━━━━━━━━━━━━━━━━━━━━━━━━━━━━\u001b[0m \u001b[32m300.4/300.4 kB\u001b[0m \u001b[31m7.5 MB/s\u001b[0m eta \u001b[36m0:00:00\u001b[0m\n",
            "\u001b[?25h"
          ]
        }
      ]
    },
    {
      "cell_type": "code",
      "source": [
        "#Utility functions\n",
        "from pymongo import MongoClient\n",
        "import pandas as pd\n",
        "import dateutil\n",
        "import json\n",
        "from docx import Document\n",
        "from docx.shared import Inches\n",
        "from docx.enum.text import WD_ALIGN_PARAGRAPH\n",
        "from datetime import datetime\n",
        "from datetime import timedelta\n",
        "import pytz\n",
        "from google.colab import files\n"
      ],
      "metadata": {
        "id": "AY7a5E6ORjdg"
      },
      "execution_count": 3,
      "outputs": []
    },
    {
      "cell_type": "markdown",
      "source": [
        "## Local MongoDB"
      ],
      "metadata": {
        "id": "FJYVW9SAP2gl"
      }
    },
    {
      "cell_type": "code",
      "source": [
        "# Installation of local MongoDB\n",
        "# --------------------\n",
        "!curl -fsSL https://pgp.mongodb.com/server-6.0.asc | \\\n",
        "   sudo gpg -o /usr/share/keyrings/mongodb-server-6.0.gpg \\\n",
        "   --dearmor\n",
        "# --------------------\n",
        "!echo \"deb [ arch=amd64,arm64 signed-by=/usr/share/keyrings/mongodb-server-6.0.gpg ] https://repo.mongodb.org/apt/ubuntu jammy/mongodb-org/6.0 multiverse\" | sudo tee /etc/apt/sources.list.d/mongodb-org-6.0.list\n",
        "# --------------------\n",
        "!sudo apt-get update > /dev/null\n",
        "# --------------------\n",
        "!sudo apt-get install -y mongodb-org > /dev/null          # error, warning messages may be ignored\n",
        "# --------------------\n",
        "!sudo mkdir -p /var/log/mongodb /var/lib/mongodb\n",
        "# --------------------\n",
        "!sudo chown `whoami` /var/lib/mongodb /var/log/mongodb/\n",
        "#\n",
        "#!service mongodb start                                      # start Local MongoDB server instance --- does not work anymore\n",
        "!nohup mongod --config /etc/mongod.conf &                    # patch for manual start\n",
        "#!mongod --version\n",
        "# Connect to local MongoDB\n",
        "mongoURI = \"mongodb://localhost:27017/\"                               # for local server\n",
        "client = MongoClient(mongoURI)\n",
        "#db = client.parashar21\n",
        "client.list_database_names() # ['admin', 'config', 'local']"
      ],
      "metadata": {
        "colab": {
          "base_uri": "https://localhost:8080/"
        },
        "id": "Aiy4y1KwP60H",
        "outputId": "5d95df17-eeb0-49ab-9524-c609b0afce4c"
      },
      "execution_count": 4,
      "outputs": [
        {
          "output_type": "stream",
          "name": "stdout",
          "text": [
            "deb [ arch=amd64,arm64 signed-by=/usr/share/keyrings/mongodb-server-6.0.gpg ] https://repo.mongodb.org/apt/ubuntu jammy/mongodb-org/6.0 multiverse\n",
            "debconf: unable to initialize frontend: Dialog\n",
            "debconf: (No usable dialog-like program is installed, so the dialog based frontend cannot be used. at /usr/share/perl5/Debconf/FrontEnd/Dialog.pm line 78, <> line 9.)\n",
            "debconf: falling back to frontend: Readline\n",
            "debconf: unable to initialize frontend: Readline\n",
            "debconf: (This frontend requires a controlling tty.)\n",
            "debconf: falling back to frontend: Teletype\n",
            "dpkg-preconfigure: unable to re-open stdin: \n",
            "nohup: appending output to 'nohup.out'\n"
          ]
        },
        {
          "output_type": "execute_result",
          "data": {
            "text/plain": [
              "['admin', 'config', 'local']"
            ]
          },
          "metadata": {},
          "execution_count": 4
        }
      ]
    },
    {
      "cell_type": "code",
      "source": [
        "# MongoImport Module   - earlier part of MongoDB not part of database tools\n",
        "\n",
        "# https://www.mongodb.com/try/download/database-tools\n",
        "# https://www.mongodb.com/docs/database-tools/installation/installation-linux/\n",
        "\n",
        "#!wget https://fastdl.mongodb.org/tools/db/mongodb-database-tools-ubuntu2004-x86_64-100.7.0.tgz\n",
        "!wget -q -O mongodb-database-tools.deb https://fastdl.mongodb.org/tools/db/mongodb-database-tools-ubuntu2004-x86_64-100.7.0.deb\n",
        "#!tar -xvf /content/mongodb-database-tools-ubuntu2004-x86_64-100.7.0.tgz\n",
        "!sudo apt install ./mongodb-database-tools.deb > /dev/null"
      ],
      "metadata": {
        "colab": {
          "base_uri": "https://localhost:8080/"
        },
        "id": "n7RTxr_PUzwI",
        "outputId": "0cecb140-11dd-4c8c-e704-0c04c7fbd020"
      },
      "execution_count": 5,
      "outputs": [
        {
          "output_type": "stream",
          "name": "stdout",
          "text": [
            "\n",
            "WARNING: apt does not have a stable CLI interface. Use with caution in scripts.\n",
            "\n",
            "debconf: unable to initialize frontend: Dialog\n",
            "debconf: (No usable dialog-like program is installed, so the dialog based frontend cannot be used. at /usr/share/perl5/Debconf/FrontEnd/Dialog.pm line 78, <> line 1.)\n",
            "debconf: falling back to frontend: Readline\n",
            "debconf: unable to initialize frontend: Readline\n",
            "debconf: (This frontend requires a controlling tty.)\n",
            "debconf: falling back to frontend: Teletype\n",
            "dpkg-preconfigure: unable to re-open stdin: \n"
          ]
        }
      ]
    },
    {
      "cell_type": "markdown",
      "metadata": {
        "id": "6az36FX6Rpit"
      },
      "source": [
        "##Install Swiss Ephemeris <br>\n",
        "\n",
        "https://pypi.org/project/pyswisseph/  - Python Package Documentation <br>\n",
        "https://www.astro.com/swisseph/swephinfo_e.htm <br>\n",
        "https://www.astro.com/swisseph/swephprg.htm - Programmer Documentation"
      ]
    },
    {
      "cell_type": "code",
      "source": [
        "#Download Swiss Ephemeris Files\n",
        "!wget -q http://www.astro.com/ftp/swisseph/ephe/seas_18.se1\n",
        "!wget -q http://www.astro.com/ftp/swisseph/ephe/semo_18.se1\n",
        "!wget -q http://www.astro.com/ftp/swisseph/ephe/sepl_18.se1\n",
        "!mkdir ephe\n",
        "!mv *.se1 ephe"
      ],
      "metadata": {
        "id": "ec62AAxiTE2a"
      },
      "execution_count": 6,
      "outputs": []
    },
    {
      "cell_type": "markdown",
      "source": [
        "## Install Parashar21 Utilities"
      ],
      "metadata": {
        "id": "ni1JHO-XTMIv"
      }
    },
    {
      "cell_type": "code",
      "source": [
        "#Load p21 modules from github\n",
        "\n",
        "!wget -O p21.py -q https://raw.githubusercontent.com/prithwis/parashar21/main/utils/p21.py                  # all global variables\n",
        "!wget -O p21utils.py -q https://raw.githubusercontent.com/prithwis/parashar21/main/utils/p21utils.py        # large number of utility functions\n",
        "!wget -O p21utilsR.py -q https://raw.githubusercontent.com/prithwis/parashar21/main/utils/p21utilsR.py      # report writing utility functions\n",
        "!wget -O p21swe.py -q https://raw.githubusercontent.com/prithwis/parashar21/main/utils/p21swe.py            # Swiss Ephemeris functions\n",
        "!wget -O p21YogInfo.py -q https://raw.githubusercontent.com/prithwis/parashar21/main/utils/p21YogInfo.py    # yog data - description and conditions\n",
        "# ---------------------------\n",
        "\n",
        "!wget -O Saraswati.png -q https://github.com/prithwis/parashar21/raw/main/images/Saraswati02.png\n",
        "!wget -O p21logo.png -q https://github.com/prithwis/parashar21/raw/main/images/p21logo-002-1.png\n"
      ],
      "metadata": {
        "id": "QHzOd2Nll-Wd"
      },
      "execution_count": 7,
      "outputs": []
    },
    {
      "cell_type": "code",
      "source": [
        "# ---------------------------\n",
        "import p21\n",
        "import p21swe\n",
        "import p21utils\n",
        "import p21utilsR\n",
        "import p21YogInfo\n",
        "# ------------------------------------------------\n",
        "# required for multiple imports of the same module\n",
        "# ------------------------------------------------\n",
        "import importlib\n",
        "importlib.reload(p21)\n",
        "importlib.reload(p21swe)\n",
        "importlib.reload(p21utils)\n",
        "importlib.reload(p21utilsR)\n",
        "importlib.reload(p21YogInfo)"
      ],
      "metadata": {
        "colab": {
          "base_uri": "https://localhost:8080/"
        },
        "id": "PbjLh4XlALOO",
        "outputId": "ef6eba74-9af0-4792-ce20-1fc42bd48342"
      },
      "execution_count": 8,
      "outputs": [
        {
          "output_type": "stream",
          "name": "stdout",
          "text": [
            "10 Yogs on record\n",
            "0 : Amala Yog | 10th from Moon OR Lagna should have a benefic\n",
            "1 : RajLakshana Yog | Jupiter, Venus, Mercury, Moon should be in Lagna or they should be in a Kendra\n",
            "2 : Chatussagara Yog | All the Kendras 1/4/7/10 are occupied by planets, Ra, Ke not counted here\n",
            "3 : Adhi678 Yog | Benefics located in 6/7/8th  from Moon\n",
            "4 : Chandra Mangal Yog | Mars Conjoins Moon or  Mars and Moon in Mutual Aspect\n",
            "5 : Kemadruma Yog : No planets on either sides of the Moon\n",
            "6 : Anapha Yog |Planets other than Sun in 12th Place from Moon\n",
            "7 : Sunapha Yog |Planets other than Sun in 2nd Place from Moon\n",
            "8 : Dhurdhura Yog | Planets on both sides of the Moon\n",
            "9 : Gajakesari Yog | Jupiter is in Kendra or 1,4,7,10th from Moon\n",
            "10 Yogs on record\n",
            "0 : Amala Yog | 10th from Moon OR Lagna should have a benefic\n",
            "1 : RajLakshana Yog | Jupiter, Venus, Mercury, Moon should be in Lagna or they should be in a Kendra\n",
            "2 : Chatussagara Yog | All the Kendras 1/4/7/10 are occupied by planets, Ra, Ke not counted here\n",
            "3 : Adhi678 Yog | Benefics located in 6/7/8th  from Moon\n",
            "4 : Chandra Mangal Yog | Mars Conjoins Moon or  Mars and Moon in Mutual Aspect\n",
            "5 : Kemadruma Yog : No planets on either sides of the Moon\n",
            "6 : Anapha Yog |Planets other than Sun in 12th Place from Moon\n",
            "7 : Sunapha Yog |Planets other than Sun in 2nd Place from Moon\n",
            "8 : Dhurdhura Yog | Planets on both sides of the Moon\n",
            "9 : Gajakesari Yog | Jupiter is in Kendra or 1,4,7,10th from Moon\n"
          ]
        },
        {
          "output_type": "execute_result",
          "data": {
            "text/plain": [
              "<module 'p21YogInfo' from '/content/p21YogInfo.py'>"
            ]
          },
          "metadata": {},
          "execution_count": 8
        }
      ]
    },
    {
      "cell_type": "code",
      "metadata": {
        "id": "INsjq9opScbt"
      },
      "source": [
        "# Define MongoDB database\n",
        "db = client.parashar21\n",
        "# Configure SWE with appropriate parameters\n",
        "#\n",
        "p21swe.C01_configSWE()"
      ],
      "execution_count": 9,
      "outputs": []
    },
    {
      "cell_type": "markdown",
      "metadata": {
        "id": "uSuVPj3kXcwC"
      },
      "source": [
        "##Read External Data\n",
        "test data from CSV files\n"
      ]
    },
    {
      "cell_type": "code",
      "source": [
        "import pandas as pd\n",
        "\n",
        "#!wget -O peopleData.csv -q https://raw.githubusercontent.com/prithwis/parashar21/main/data/Test5Data.txt # 5 Person Test Data\n",
        "!wget -O peopleData.csv -q https://github.com/prithwis/parashar21/raw/main/data/Rodden39663.csv\n",
        "\n",
        "#!gdown -O peopleData.csv https://drive.google.com/uc?id=1CVo1gnMZyCD0EZvAoF_wRdTwL7yqIT6L # 5 Person Test Data\n",
        "#!gdown -O peopleData.csv https://drive.google.com/uc?id=1dlvqcygJJh0CfyY_X2MLrWm-W9U0z_6l # 39663 Rodden Data\n",
        "\n",
        "df = pd.read_csv('peopleData.csv')\n",
        "df.head()"
      ],
      "metadata": {
        "colab": {
          "base_uri": "https://localhost:8080/",
          "height": 374
        },
        "id": "iXeCDQStAEd_",
        "outputId": "b047c7cf-27f0-402e-d2a2-3c1c080b5382"
      },
      "execution_count": 10,
      "outputs": [
        {
          "output_type": "execute_result",
          "data": {
            "text/plain": [
              "  Gender             tag1                         tag2             tag3  \\\n",
              "0      M  Entertain/Music  Instrumentalist (Guitarist)  Entertain/Music   \n",
              "1      M          Writers        Columnist/ journalist          Writers   \n",
              "2      M    Entertainment               Actor/ Actress              nil   \n",
              "3      M    Entertainment               Actor/ Actress    Entertainment   \n",
              "4      M    Entertainment         TV host/ Personality         Politics   \n",
              "\n",
              "                             tag4             tag5                       tag6  \\\n",
              "0                     Song writer  Entertain/Music  Vocalist/ Pop, Rock, etc.   \n",
              "1              Detective/ Mystery          Writers         Fiction (Novelist)   \n",
              "2                             nil              nil                        nil   \n",
              "3                      Voice-Over              nil                        nil   \n",
              "4  Government employee (Minister)              nil                        nil   \n",
              "\n",
              "   DoB_Day  DoB_Mon  DoB_Year DoB_Time TZ_Off  TZ_OffHours    PoB_Lat  \\\n",
              "0        6       10      1968    17:35    h1e          1.0  48.550000   \n",
              "1       19       12      1947    20:00    h1e          1.0  47.383333   \n",
              "2       21        2      1911    03:00    h1e          1.0  59.916667   \n",
              "3       25        4      1902    07:15    h1e          1.0  59.916667   \n",
              "4        4        1      1933    12:30    h0w         -0.0  38.350000   \n",
              "\n",
              "     PoB_Lon TZ_Name   TZ_Type                        Name  \n",
              "0   3.300000     MET  standard                 A_Dominique  \n",
              "1   0.683333     MET  standard                      A_D_G_  \n",
              "2  10.750000     MET  standard               Aabel_Andreas  \n",
              "3  10.750000     MET  standard                   Aabel_Per  \n",
              "4  -0.483333     GMT  standard  Aal_Pomares_Henri_Francois  "
            ],
            "text/html": [
              "\n",
              "\n",
              "  <div id=\"df-11d1e015-282c-4f1a-92f9-b89cf394934f\">\n",
              "    <div class=\"colab-df-container\">\n",
              "      <div>\n",
              "<style scoped>\n",
              "    .dataframe tbody tr th:only-of-type {\n",
              "        vertical-align: middle;\n",
              "    }\n",
              "\n",
              "    .dataframe tbody tr th {\n",
              "        vertical-align: top;\n",
              "    }\n",
              "\n",
              "    .dataframe thead th {\n",
              "        text-align: right;\n",
              "    }\n",
              "</style>\n",
              "<table border=\"1\" class=\"dataframe\">\n",
              "  <thead>\n",
              "    <tr style=\"text-align: right;\">\n",
              "      <th></th>\n",
              "      <th>Gender</th>\n",
              "      <th>tag1</th>\n",
              "      <th>tag2</th>\n",
              "      <th>tag3</th>\n",
              "      <th>tag4</th>\n",
              "      <th>tag5</th>\n",
              "      <th>tag6</th>\n",
              "      <th>DoB_Day</th>\n",
              "      <th>DoB_Mon</th>\n",
              "      <th>DoB_Year</th>\n",
              "      <th>DoB_Time</th>\n",
              "      <th>TZ_Off</th>\n",
              "      <th>TZ_OffHours</th>\n",
              "      <th>PoB_Lat</th>\n",
              "      <th>PoB_Lon</th>\n",
              "      <th>TZ_Name</th>\n",
              "      <th>TZ_Type</th>\n",
              "      <th>Name</th>\n",
              "    </tr>\n",
              "  </thead>\n",
              "  <tbody>\n",
              "    <tr>\n",
              "      <th>0</th>\n",
              "      <td>M</td>\n",
              "      <td>Entertain/Music</td>\n",
              "      <td>Instrumentalist (Guitarist)</td>\n",
              "      <td>Entertain/Music</td>\n",
              "      <td>Song writer</td>\n",
              "      <td>Entertain/Music</td>\n",
              "      <td>Vocalist/ Pop, Rock, etc.</td>\n",
              "      <td>6</td>\n",
              "      <td>10</td>\n",
              "      <td>1968</td>\n",
              "      <td>17:35</td>\n",
              "      <td>h1e</td>\n",
              "      <td>1.0</td>\n",
              "      <td>48.550000</td>\n",
              "      <td>3.300000</td>\n",
              "      <td>MET</td>\n",
              "      <td>standard</td>\n",
              "      <td>A_Dominique</td>\n",
              "    </tr>\n",
              "    <tr>\n",
              "      <th>1</th>\n",
              "      <td>M</td>\n",
              "      <td>Writers</td>\n",
              "      <td>Columnist/ journalist</td>\n",
              "      <td>Writers</td>\n",
              "      <td>Detective/ Mystery</td>\n",
              "      <td>Writers</td>\n",
              "      <td>Fiction (Novelist)</td>\n",
              "      <td>19</td>\n",
              "      <td>12</td>\n",
              "      <td>1947</td>\n",
              "      <td>20:00</td>\n",
              "      <td>h1e</td>\n",
              "      <td>1.0</td>\n",
              "      <td>47.383333</td>\n",
              "      <td>0.683333</td>\n",
              "      <td>MET</td>\n",
              "      <td>standard</td>\n",
              "      <td>A_D_G_</td>\n",
              "    </tr>\n",
              "    <tr>\n",
              "      <th>2</th>\n",
              "      <td>M</td>\n",
              "      <td>Entertainment</td>\n",
              "      <td>Actor/ Actress</td>\n",
              "      <td>nil</td>\n",
              "      <td>nil</td>\n",
              "      <td>nil</td>\n",
              "      <td>nil</td>\n",
              "      <td>21</td>\n",
              "      <td>2</td>\n",
              "      <td>1911</td>\n",
              "      <td>03:00</td>\n",
              "      <td>h1e</td>\n",
              "      <td>1.0</td>\n",
              "      <td>59.916667</td>\n",
              "      <td>10.750000</td>\n",
              "      <td>MET</td>\n",
              "      <td>standard</td>\n",
              "      <td>Aabel_Andreas</td>\n",
              "    </tr>\n",
              "    <tr>\n",
              "      <th>3</th>\n",
              "      <td>M</td>\n",
              "      <td>Entertainment</td>\n",
              "      <td>Actor/ Actress</td>\n",
              "      <td>Entertainment</td>\n",
              "      <td>Voice-Over</td>\n",
              "      <td>nil</td>\n",
              "      <td>nil</td>\n",
              "      <td>25</td>\n",
              "      <td>4</td>\n",
              "      <td>1902</td>\n",
              "      <td>07:15</td>\n",
              "      <td>h1e</td>\n",
              "      <td>1.0</td>\n",
              "      <td>59.916667</td>\n",
              "      <td>10.750000</td>\n",
              "      <td>MET</td>\n",
              "      <td>standard</td>\n",
              "      <td>Aabel_Per</td>\n",
              "    </tr>\n",
              "    <tr>\n",
              "      <th>4</th>\n",
              "      <td>M</td>\n",
              "      <td>Entertainment</td>\n",
              "      <td>TV host/ Personality</td>\n",
              "      <td>Politics</td>\n",
              "      <td>Government employee (Minister)</td>\n",
              "      <td>nil</td>\n",
              "      <td>nil</td>\n",
              "      <td>4</td>\n",
              "      <td>1</td>\n",
              "      <td>1933</td>\n",
              "      <td>12:30</td>\n",
              "      <td>h0w</td>\n",
              "      <td>-0.0</td>\n",
              "      <td>38.350000</td>\n",
              "      <td>-0.483333</td>\n",
              "      <td>GMT</td>\n",
              "      <td>standard</td>\n",
              "      <td>Aal_Pomares_Henri_Francois</td>\n",
              "    </tr>\n",
              "  </tbody>\n",
              "</table>\n",
              "</div>\n",
              "      <button class=\"colab-df-convert\" onclick=\"convertToInteractive('df-11d1e015-282c-4f1a-92f9-b89cf394934f')\"\n",
              "              title=\"Convert this dataframe to an interactive table.\"\n",
              "              style=\"display:none;\">\n",
              "\n",
              "  <svg xmlns=\"http://www.w3.org/2000/svg\" height=\"24px\"viewBox=\"0 0 24 24\"\n",
              "       width=\"24px\">\n",
              "    <path d=\"M0 0h24v24H0V0z\" fill=\"none\"/>\n",
              "    <path d=\"M18.56 5.44l.94 2.06.94-2.06 2.06-.94-2.06-.94-.94-2.06-.94 2.06-2.06.94zm-11 1L8.5 8.5l.94-2.06 2.06-.94-2.06-.94L8.5 2.5l-.94 2.06-2.06.94zm10 10l.94 2.06.94-2.06 2.06-.94-2.06-.94-.94-2.06-.94 2.06-2.06.94z\"/><path d=\"M17.41 7.96l-1.37-1.37c-.4-.4-.92-.59-1.43-.59-.52 0-1.04.2-1.43.59L10.3 9.45l-7.72 7.72c-.78.78-.78 2.05 0 2.83L4 21.41c.39.39.9.59 1.41.59.51 0 1.02-.2 1.41-.59l7.78-7.78 2.81-2.81c.8-.78.8-2.07 0-2.86zM5.41 20L4 18.59l7.72-7.72 1.47 1.35L5.41 20z\"/>\n",
              "  </svg>\n",
              "      </button>\n",
              "\n",
              "\n",
              "\n",
              "    <div id=\"df-41a84361-0cef-41da-94b3-c4d5caba9e76\">\n",
              "      <button class=\"colab-df-quickchart\" onclick=\"quickchart('df-41a84361-0cef-41da-94b3-c4d5caba9e76')\"\n",
              "              title=\"Suggest charts.\"\n",
              "              style=\"display:none;\">\n",
              "\n",
              "<svg xmlns=\"http://www.w3.org/2000/svg\" height=\"24px\"viewBox=\"0 0 24 24\"\n",
              "     width=\"24px\">\n",
              "    <g>\n",
              "        <path d=\"M19 3H5c-1.1 0-2 .9-2 2v14c0 1.1.9 2 2 2h14c1.1 0 2-.9 2-2V5c0-1.1-.9-2-2-2zM9 17H7v-7h2v7zm4 0h-2V7h2v10zm4 0h-2v-4h2v4z\"/>\n",
              "    </g>\n",
              "</svg>\n",
              "      </button>\n",
              "    </div>\n",
              "\n",
              "<style>\n",
              "  .colab-df-quickchart {\n",
              "    background-color: #E8F0FE;\n",
              "    border: none;\n",
              "    border-radius: 50%;\n",
              "    cursor: pointer;\n",
              "    display: none;\n",
              "    fill: #1967D2;\n",
              "    height: 32px;\n",
              "    padding: 0 0 0 0;\n",
              "    width: 32px;\n",
              "  }\n",
              "\n",
              "  .colab-df-quickchart:hover {\n",
              "    background-color: #E2EBFA;\n",
              "    box-shadow: 0px 1px 2px rgba(60, 64, 67, 0.3), 0px 1px 3px 1px rgba(60, 64, 67, 0.15);\n",
              "    fill: #174EA6;\n",
              "  }\n",
              "\n",
              "  [theme=dark] .colab-df-quickchart {\n",
              "    background-color: #3B4455;\n",
              "    fill: #D2E3FC;\n",
              "  }\n",
              "\n",
              "  [theme=dark] .colab-df-quickchart:hover {\n",
              "    background-color: #434B5C;\n",
              "    box-shadow: 0px 1px 3px 1px rgba(0, 0, 0, 0.15);\n",
              "    filter: drop-shadow(0px 1px 2px rgba(0, 0, 0, 0.3));\n",
              "    fill: #FFFFFF;\n",
              "  }\n",
              "</style>\n",
              "\n",
              "    <script>\n",
              "      async function quickchart(key) {\n",
              "        const containerElement = document.querySelector('#' + key);\n",
              "        const charts = await google.colab.kernel.invokeFunction(\n",
              "            'suggestCharts', [key], {});\n",
              "      }\n",
              "    </script>\n",
              "\n",
              "      <script>\n",
              "\n",
              "function displayQuickchartButton(domScope) {\n",
              "  let quickchartButtonEl =\n",
              "    domScope.querySelector('#df-41a84361-0cef-41da-94b3-c4d5caba9e76 button.colab-df-quickchart');\n",
              "  quickchartButtonEl.style.display =\n",
              "    google.colab.kernel.accessAllowed ? 'block' : 'none';\n",
              "}\n",
              "\n",
              "        displayQuickchartButton(document);\n",
              "      </script>\n",
              "      <style>\n",
              "    .colab-df-container {\n",
              "      display:flex;\n",
              "      flex-wrap:wrap;\n",
              "      gap: 12px;\n",
              "    }\n",
              "\n",
              "    .colab-df-convert {\n",
              "      background-color: #E8F0FE;\n",
              "      border: none;\n",
              "      border-radius: 50%;\n",
              "      cursor: pointer;\n",
              "      display: none;\n",
              "      fill: #1967D2;\n",
              "      height: 32px;\n",
              "      padding: 0 0 0 0;\n",
              "      width: 32px;\n",
              "    }\n",
              "\n",
              "    .colab-df-convert:hover {\n",
              "      background-color: #E2EBFA;\n",
              "      box-shadow: 0px 1px 2px rgba(60, 64, 67, 0.3), 0px 1px 3px 1px rgba(60, 64, 67, 0.15);\n",
              "      fill: #174EA6;\n",
              "    }\n",
              "\n",
              "    [theme=dark] .colab-df-convert {\n",
              "      background-color: #3B4455;\n",
              "      fill: #D2E3FC;\n",
              "    }\n",
              "\n",
              "    [theme=dark] .colab-df-convert:hover {\n",
              "      background-color: #434B5C;\n",
              "      box-shadow: 0px 1px 3px 1px rgba(0, 0, 0, 0.15);\n",
              "      filter: drop-shadow(0px 1px 2px rgba(0, 0, 0, 0.3));\n",
              "      fill: #FFFFFF;\n",
              "    }\n",
              "  </style>\n",
              "\n",
              "      <script>\n",
              "        const buttonEl =\n",
              "          document.querySelector('#df-11d1e015-282c-4f1a-92f9-b89cf394934f button.colab-df-convert');\n",
              "        buttonEl.style.display =\n",
              "          google.colab.kernel.accessAllowed ? 'block' : 'none';\n",
              "\n",
              "        async function convertToInteractive(key) {\n",
              "          const element = document.querySelector('#df-11d1e015-282c-4f1a-92f9-b89cf394934f');\n",
              "          const dataTable =\n",
              "            await google.colab.kernel.invokeFunction('convertToInteractive',\n",
              "                                                     [key], {});\n",
              "          if (!dataTable) return;\n",
              "\n",
              "          const docLinkHtml = 'Like what you see? Visit the ' +\n",
              "            '<a target=\"_blank\" href=https://colab.research.google.com/notebooks/data_table.ipynb>data table notebook</a>'\n",
              "            + ' to learn more about interactive tables.';\n",
              "          element.innerHTML = '';\n",
              "          dataTable['output_type'] = 'display_data';\n",
              "          await google.colab.output.renderOutput(dataTable, element);\n",
              "          const docLink = document.createElement('div');\n",
              "          docLink.innerHTML = docLinkHtml;\n",
              "          element.appendChild(docLink);\n",
              "        }\n",
              "      </script>\n",
              "    </div>\n",
              "  </div>\n"
            ]
          },
          "metadata": {},
          "execution_count": 10
        }
      ]
    },
    {
      "cell_type": "markdown",
      "source": [
        "#Cast Horoscope Charts in JSON format\n",
        "Driver Code"
      ],
      "metadata": {
        "id": "gyobEJ3EKU8n"
      }
    },
    {
      "cell_type": "code",
      "source": [
        "%%time\n",
        "# Basic Horoscope Information is converted into JSON format for storage on Mongo\n",
        "p21.ChartType = 'Rashi'                                 # one of ['Rashi','Navamsa']\n",
        "#\n",
        "# Create and store the horoscope in JSON format\n",
        "#\n",
        "p21swe.C61_Cast2JSON(df)"
      ],
      "metadata": {
        "id": "Ju4pMqiKcMbo",
        "outputId": "ae319c1f-8404-49a2-ce48-d31450eb5f98",
        "colab": {
          "base_uri": "https://localhost:8080/"
        }
      },
      "execution_count": 11,
      "outputs": [
        {
          "output_type": "stream",
          "name": "stdout",
          "text": [
            "1 records processed, so far\n",
            "1001 records processed, so far\n",
            "error on record  1715\n",
            "2001 records processed, so far\n",
            "3001 records processed, so far\n",
            "4001 records processed, so far\n",
            "5001 records processed, so far\n",
            "6001 records processed, so far\n",
            "7001 records processed, so far\n",
            "8001 records processed, so far\n",
            "9001 records processed, so far\n",
            "10001 records processed, so far\n",
            "11001 records processed, so far\n",
            "12001 records processed, so far\n",
            "13001 records processed, so far\n",
            "14001 records processed, so far\n",
            "15001 records processed, so far\n",
            "16001 records processed, so far\n",
            "17001 records processed, so far\n",
            "18001 records processed, so far\n",
            "19001 records processed, so far\n",
            "20001 records processed, so far\n",
            "21001 records processed, so far\n",
            "22001 records processed, so far\n",
            "23001 records processed, so far\n",
            "24001 records processed, so far\n",
            "25001 records processed, so far\n",
            "26001 records processed, so far\n",
            "27001 records processed, so far\n",
            "28001 records processed, so far\n",
            "error on record  28803\n",
            "29001 records processed, so far\n",
            "30001 records processed, so far\n",
            "31001 records processed, so far\n",
            "32001 records processed, so far\n",
            "33001 records processed, so far\n",
            "34001 records processed, so far\n",
            "35001 records processed, so far\n",
            "36001 records processed, so far\n",
            "37001 records processed, so far\n",
            "38001 records processed, so far\n",
            "39001 records processed, so far\n",
            "39663  records generated and stored in file peopleData.json\n",
            "CPU times: user 1min 11s, sys: 1.93 s, total: 1min 13s\n",
            "Wall time: 1min 14s\n"
          ]
        }
      ]
    },
    {
      "cell_type": "markdown",
      "source": [
        "#Load Charts into MongoDB database"
      ],
      "metadata": {
        "id": "ZsYS94O-DRAl"
      }
    },
    {
      "cell_type": "code",
      "source": [
        "#mongoURI = \"mongodb://localhost:27017/\"\n",
        "client = MongoClient(mongoURI)\n",
        "client.list_database_names()\n",
        "#db = client.btncgfi3a5bxyea\n"
      ],
      "metadata": {
        "id": "UK4r7sjDXtAW",
        "outputId": "bca173e7-344a-4054-cec3-86a48d7f7d03",
        "colab": {
          "base_uri": "https://localhost:8080/"
        }
      },
      "execution_count": 12,
      "outputs": [
        {
          "output_type": "execute_result",
          "data": {
            "text/plain": [
              "['admin', 'config', 'local']"
            ]
          },
          "metadata": {},
          "execution_count": 12
        }
      ]
    },
    {
      "cell_type": "code",
      "source": [
        "mongoURIload = mongoURI+'Parashar21'\n",
        "!mongoimport --uri \"{mongoURIload}\"  --collection \"khona21\"  --drop --file \"peopleData.json\"\n",
        "\n",
        "# Who was khona ?\n",
        "# https://feminisminindia.com/2019/06/07/khawna-khana-poet-rural-bengal/\n",
        "# https://en.wikipedia.org/wiki/Khana_(poet)"
      ],
      "metadata": {
        "colab": {
          "base_uri": "https://localhost:8080/"
        },
        "id": "4hEFB_D2Y6ek",
        "outputId": "27e4779d-20ca-4d83-df6f-7d9f2d00394e"
      },
      "execution_count": 13,
      "outputs": [
        {
          "output_type": "stream",
          "name": "stdout",
          "text": [
            "2023-08-10T01:29:33.877+0000\tconnected to: mongodb://localhost:27017/Parashar21\n",
            "2023-08-10T01:29:33.877+0000\tdropping: Parashar21.khona21\n",
            "2023-08-10T01:29:36.878+0000\t[##......................] Parashar21.khona21\t13.9MB/137MB (10.2%)\n",
            "2023-08-10T01:29:39.881+0000\t[###.....................] Parashar21.khona21\t20.8MB/137MB (15.2%)\n",
            "2023-08-10T01:29:42.887+0000\t[####....................] Parashar21.khona21\t27.7MB/137MB (20.2%)\n",
            "2023-08-10T01:29:45.878+0000\t[######..................] Parashar21.khona21\t34.4MB/137MB (25.2%)\n",
            "2023-08-10T01:29:48.882+0000\t[########................] Parashar21.khona21\t47.6MB/137MB (34.9%)\n",
            "2023-08-10T01:29:51.887+0000\t[##########..............] Parashar21.khona21\t62.1MB/137MB (45.5%)\n",
            "2023-08-10T01:29:54.878+0000\t[#############...........] Parashar21.khona21\t76.7MB/137MB (56.1%)\n",
            "2023-08-10T01:29:57.877+0000\t[###############.........] Parashar21.khona21\t87.5MB/137MB (64.0%)\n",
            "2023-08-10T01:30:00.878+0000\t[################........] Parashar21.khona21\t93.5MB/137MB (68.4%)\n",
            "2023-08-10T01:30:03.877+0000\t[##################......] Parashar21.khona21\t107MB/137MB (78.5%)\n",
            "2023-08-10T01:30:06.878+0000\t[#####################...] Parashar21.khona21\t122MB/137MB (89.4%)\n",
            "2023-08-10T01:30:09.848+0000\t[########################] Parashar21.khona21\t137MB/137MB (100.0%)\n",
            "2023-08-10T01:30:09.848+0000\t39661 document(s) imported successfully. 0 document(s) failed to import.\n"
          ]
        }
      ]
    },
    {
      "cell_type": "markdown",
      "source": [
        "##Check Database Status"
      ],
      "metadata": {
        "id": "6gqKwTFHEgAu"
      }
    },
    {
      "cell_type": "code",
      "source": [
        "db = client.Parashar21\n",
        "p21.kollection = db.khona21\n",
        "#kollection = db.khona21Test\n",
        "countFinal = p21.kollection.count_documents({})\n",
        "dbSizeFinal = db.command( {\"dbStats\": 1, \"scale\": 1024 } )['dataSize']\n",
        "print(round(dbSizeFinal),'KB database with ', countFinal, ' docs in current collection' )\n",
        "\n",
        "p21.kollection = db.khona21                   # Set the collection to work with\n",
        "totalCharts = p21.kollection.count_documents({})\n",
        "print(totalCharts)"
      ],
      "metadata": {
        "id": "G1NrPFflBGsy",
        "outputId": "731eb5fb-6b56-431b-88d1-e9104485b86f",
        "colab": {
          "base_uri": "https://localhost:8080/"
        }
      },
      "execution_count": 14,
      "outputs": [
        {
          "output_type": "stream",
          "name": "stdout",
          "text": [
            "146579 KB database with  39661  docs in current collection\n",
            "39661\n"
          ]
        }
      ]
    },
    {
      "cell_type": "code",
      "source": [
        "# Check data loaded into MongoDb\n",
        "#c = kollection.find()\n",
        "#for crnt in c:\n",
        "#    print(crnt)\n",
        "pd.DataFrame(list(p21.kollection.find({},{'_id':0}).limit(2)))"
      ],
      "metadata": {
        "id": "GQiQRXw7NjEp",
        "outputId": "508233f3-8cb2-49a7-c258-de47be2acd9b",
        "colab": {
          "base_uri": "https://localhost:8080/",
          "height": 587
        }
      },
      "execution_count": 15,
      "outputs": [
        {
          "output_type": "execute_result",
          "data": {
            "text/plain": [
              "                                                 pid  \\\n",
              "0  {'tags': ['Writers', 'Writers', 'Writers'], 'c...   \n",
              "1  {'tags': ['Entertainment', 'nil', 'nil'], 'ck'...   \n",
              "\n",
              "                                                GLon  \\\n",
              "0  {'La': 100.281, 'Su': 243.912, 'Mo': 323.344, ...   \n",
              "1  {'La': 219.599, 'Su': 308.713, 'Mo': 217.934, ...   \n",
              "\n",
              "                                                GRet  \\\n",
              "0  {'La': False, 'Su': False, 'Mo': False, 'Ma': ...   \n",
              "1  {'La': False, 'Su': False, 'Mo': False, 'Ma': ...   \n",
              "\n",
              "                                        BhavN  \\\n",
              "0  [ , 4, 5, 6, 7, 8, 9, 10, 11, 12, 1, 2, 3]   \n",
              "1  [ , 8, 9, 10, 11, 12, 1, 2, 3, 4, 5, 6, 7]   \n",
              "\n",
              "                                               BhavA  \\\n",
              "0  [ , Karkat, Simha, Kanya, Tula, Vrishchik, Dha...   \n",
              "1  [ , Vrishchik, Dhanu, Makar, Kumbh, Meen, Mesh...   \n",
              "\n",
              "                                                Lord  \\\n",
              "0  [ , Mo, Su, Me, Ve, Ma, Ju, Sa, Sa, Ju, Ma, Ve...   \n",
              "1  [ , Ma, Ju, Sa, Sa, Ju, Ma, Ve, Me, Mo, Su, Me...   \n",
              "\n",
              "                                     LordRashiN  \\\n",
              "0    [ , 11, 9, 8, 10, 5, 8, 4, 4, 8, 5, 10, 8]   \n",
              "1  [ , 9, 7, 1, 1, 7, 9, 11, 10, 8, 11, 10, 11]   \n",
              "\n",
              "                                          LordRashiA  \\\n",
              "0  [ , Kumbh, Dhanu, Vrishchik, Makar, Simha, Vri...   \n",
              "1  [ , Dhanu, Tula, Mesh, Mesh, Tula, Dhanu, Kumb...   \n",
              "\n",
              "                                       GrahaLordBhav  \\\n",
              "0  {'Su': [2], 'Mo': [1], 'Ma': [5, 10], 'Me': [3...   \n",
              "1  {'Su': [10], 'Mo': [9], 'Ma': [1, 6], 'Me': [8...   \n",
              "\n",
              "                                             GRashiN  ...  \\\n",
              "0  {'La': 4, 'Su': 9, 'Mo': 11, 'Ma': 5, 'Me': 8,...  ...   \n",
              "1  {'La': 8, 'Su': 11, 'Mo': 8, 'Ma': 9, 'Me': 10...  ...   \n",
              "\n",
              "                                            inEnemyL  \\\n",
              "0  [False, False, False, False, False, False, Fal...   \n",
              "1  [False, False, True, False, False, True, False...   \n",
              "\n",
              "                                           GAspects2  \\\n",
              "0  {'La': ['Ve'], 'Mo': ['Ma'], 'Ma': ['Me', 'Ju'...   \n",
              "1  {'Ju': ['Sa', 'Su', 'Ve', 'Ra'], 'Sa': ['Me', ...   \n",
              "\n",
              "                                        GAspectedBy2  \\\n",
              "0  {'Ve': ['La', 'Sa'], 'Ma': ['Mo'], 'Mo': ['Ma'...   \n",
              "1  {'Su': ['Ju'], 'Ve': ['Ju'], 'Sa': ['Ke', 'Ju'...   \n",
              "\n",
              "                                        BAspectedBy2  \\\n",
              "0  {'7': ['La', 'Sa'], '12': ['Su'], '2': ['Mo'],...   \n",
              "1  {'7': ['La', 'Mo'], '10': ['Su', 'Ve'], '5': [...   \n",
              "\n",
              "                                      BAspectedByBL2  \\\n",
              "0  {'1': ['4', '9', '6', '11'], '2': ['1'], '3': ...   \n",
              "1  {'3': ['3', '4'], '4': ['5', '2'], '5': ['6', ...   \n",
              "\n",
              "                                        GConjunctsG2  \\\n",
              "0                       {'Me': ['Ju'], 'Ju': ['Me']}   \n",
              "1  {'Su': ['Ve'], 'Ve': ['Su'], 'Ju': ['Ke'], 'Ke...   \n",
              "\n",
              "                                       BLConjunctsG2  \\\n",
              "0  {'3': ['Ju'], '6': ['Me'], '9': ['Me'], '12': ...   \n",
              "1  {'2': ['Ke'], '3': ['Ra'], '4': ['Ra'], '5': [...   \n",
              "\n",
              "                                      BLConjunctsBL2  \\\n",
              "0  {'3': ['9', '6'], '6': ['3', '12'], '9': ['3',...   \n",
              "1     {'7': ['10'], '10': ['12', '7'], '12': ['10']}   \n",
              "\n",
              "                                            beneficG  \\\n",
              "0  {'Su': False, 'Mo': True, 'Ma': True, 'Me': Fa...   \n",
              "1  {'Su': True, 'Mo': True, 'Ma': True, 'Me': Fal...   \n",
              "\n",
              "                                            maleficG  \n",
              "0  {'Su': False, 'Mo': False, 'Ma': False, 'Me': ...  \n",
              "1  {'Su': False, 'Mo': False, 'Ma': False, 'Me': ...  \n",
              "\n",
              "[2 rows x 31 columns]"
            ],
            "text/html": [
              "\n",
              "\n",
              "  <div id=\"df-ab14905c-0c0a-4c90-968b-12e87cb79f1d\">\n",
              "    <div class=\"colab-df-container\">\n",
              "      <div>\n",
              "<style scoped>\n",
              "    .dataframe tbody tr th:only-of-type {\n",
              "        vertical-align: middle;\n",
              "    }\n",
              "\n",
              "    .dataframe tbody tr th {\n",
              "        vertical-align: top;\n",
              "    }\n",
              "\n",
              "    .dataframe thead th {\n",
              "        text-align: right;\n",
              "    }\n",
              "</style>\n",
              "<table border=\"1\" class=\"dataframe\">\n",
              "  <thead>\n",
              "    <tr style=\"text-align: right;\">\n",
              "      <th></th>\n",
              "      <th>pid</th>\n",
              "      <th>GLon</th>\n",
              "      <th>GRet</th>\n",
              "      <th>BhavN</th>\n",
              "      <th>BhavA</th>\n",
              "      <th>Lord</th>\n",
              "      <th>LordRashiN</th>\n",
              "      <th>LordRashiA</th>\n",
              "      <th>GrahaLordBhav</th>\n",
              "      <th>GRashiN</th>\n",
              "      <th>...</th>\n",
              "      <th>inEnemyL</th>\n",
              "      <th>GAspects2</th>\n",
              "      <th>GAspectedBy2</th>\n",
              "      <th>BAspectedBy2</th>\n",
              "      <th>BAspectedByBL2</th>\n",
              "      <th>GConjunctsG2</th>\n",
              "      <th>BLConjunctsG2</th>\n",
              "      <th>BLConjunctsBL2</th>\n",
              "      <th>beneficG</th>\n",
              "      <th>maleficG</th>\n",
              "    </tr>\n",
              "  </thead>\n",
              "  <tbody>\n",
              "    <tr>\n",
              "      <th>0</th>\n",
              "      <td>{'tags': ['Writers', 'Writers', 'Writers'], 'c...</td>\n",
              "      <td>{'La': 100.281, 'Su': 243.912, 'Mo': 323.344, ...</td>\n",
              "      <td>{'La': False, 'Su': False, 'Mo': False, 'Ma': ...</td>\n",
              "      <td>[ , 4, 5, 6, 7, 8, 9, 10, 11, 12, 1, 2, 3]</td>\n",
              "      <td>[ , Karkat, Simha, Kanya, Tula, Vrishchik, Dha...</td>\n",
              "      <td>[ , Mo, Su, Me, Ve, Ma, Ju, Sa, Sa, Ju, Ma, Ve...</td>\n",
              "      <td>[ , 11, 9, 8, 10, 5, 8, 4, 4, 8, 5, 10, 8]</td>\n",
              "      <td>[ , Kumbh, Dhanu, Vrishchik, Makar, Simha, Vri...</td>\n",
              "      <td>{'Su': [2], 'Mo': [1], 'Ma': [5, 10], 'Me': [3...</td>\n",
              "      <td>{'La': 4, 'Su': 9, 'Mo': 11, 'Ma': 5, 'Me': 8,...</td>\n",
              "      <td>...</td>\n",
              "      <td>[False, False, False, False, False, False, Fal...</td>\n",
              "      <td>{'La': ['Ve'], 'Mo': ['Ma'], 'Ma': ['Me', 'Ju'...</td>\n",
              "      <td>{'Ve': ['La', 'Sa'], 'Ma': ['Mo'], 'Mo': ['Ma'...</td>\n",
              "      <td>{'7': ['La', 'Sa'], '12': ['Su'], '2': ['Mo'],...</td>\n",
              "      <td>{'1': ['4', '9', '6', '11'], '2': ['1'], '3': ...</td>\n",
              "      <td>{'Me': ['Ju'], 'Ju': ['Me']}</td>\n",
              "      <td>{'3': ['Ju'], '6': ['Me'], '9': ['Me'], '12': ...</td>\n",
              "      <td>{'3': ['9', '6'], '6': ['3', '12'], '9': ['3',...</td>\n",
              "      <td>{'Su': False, 'Mo': True, 'Ma': True, 'Me': Fa...</td>\n",
              "      <td>{'Su': False, 'Mo': False, 'Ma': False, 'Me': ...</td>\n",
              "    </tr>\n",
              "    <tr>\n",
              "      <th>1</th>\n",
              "      <td>{'tags': ['Entertainment', 'nil', 'nil'], 'ck'...</td>\n",
              "      <td>{'La': 219.599, 'Su': 308.713, 'Mo': 217.934, ...</td>\n",
              "      <td>{'La': False, 'Su': False, 'Mo': False, 'Ma': ...</td>\n",
              "      <td>[ , 8, 9, 10, 11, 12, 1, 2, 3, 4, 5, 6, 7]</td>\n",
              "      <td>[ , Vrishchik, Dhanu, Makar, Kumbh, Meen, Mesh...</td>\n",
              "      <td>[ , Ma, Ju, Sa, Sa, Ju, Ma, Ve, Me, Mo, Su, Me...</td>\n",
              "      <td>[ , 9, 7, 1, 1, 7, 9, 11, 10, 8, 11, 10, 11]</td>\n",
              "      <td>[ , Dhanu, Tula, Mesh, Mesh, Tula, Dhanu, Kumb...</td>\n",
              "      <td>{'Su': [10], 'Mo': [9], 'Ma': [1, 6], 'Me': [8...</td>\n",
              "      <td>{'La': 8, 'Su': 11, 'Mo': 8, 'Ma': 9, 'Me': 10...</td>\n",
              "      <td>...</td>\n",
              "      <td>[False, False, True, False, False, True, False...</td>\n",
              "      <td>{'Ju': ['Sa', 'Su', 'Ve', 'Ra'], 'Sa': ['Me', ...</td>\n",
              "      <td>{'Su': ['Ju'], 'Ve': ['Ju'], 'Sa': ['Ke', 'Ju'...</td>\n",
              "      <td>{'7': ['La', 'Mo'], '10': ['Su', 'Ve'], '5': [...</td>\n",
              "      <td>{'3': ['3', '4'], '4': ['5', '2'], '5': ['6', ...</td>\n",
              "      <td>{'Su': ['Ve'], 'Ve': ['Su'], 'Ju': ['Ke'], 'Ke...</td>\n",
              "      <td>{'2': ['Ke'], '3': ['Ra'], '4': ['Ra'], '5': [...</td>\n",
              "      <td>{'7': ['10'], '10': ['12', '7'], '12': ['10']}</td>\n",
              "      <td>{'Su': True, 'Mo': True, 'Ma': True, 'Me': Fal...</td>\n",
              "      <td>{'Su': False, 'Mo': False, 'Ma': False, 'Me': ...</td>\n",
              "    </tr>\n",
              "  </tbody>\n",
              "</table>\n",
              "<p>2 rows × 31 columns</p>\n",
              "</div>\n",
              "      <button class=\"colab-df-convert\" onclick=\"convertToInteractive('df-ab14905c-0c0a-4c90-968b-12e87cb79f1d')\"\n",
              "              title=\"Convert this dataframe to an interactive table.\"\n",
              "              style=\"display:none;\">\n",
              "\n",
              "  <svg xmlns=\"http://www.w3.org/2000/svg\" height=\"24px\"viewBox=\"0 0 24 24\"\n",
              "       width=\"24px\">\n",
              "    <path d=\"M0 0h24v24H0V0z\" fill=\"none\"/>\n",
              "    <path d=\"M18.56 5.44l.94 2.06.94-2.06 2.06-.94-2.06-.94-.94-2.06-.94 2.06-2.06.94zm-11 1L8.5 8.5l.94-2.06 2.06-.94-2.06-.94L8.5 2.5l-.94 2.06-2.06.94zm10 10l.94 2.06.94-2.06 2.06-.94-2.06-.94-.94-2.06-.94 2.06-2.06.94z\"/><path d=\"M17.41 7.96l-1.37-1.37c-.4-.4-.92-.59-1.43-.59-.52 0-1.04.2-1.43.59L10.3 9.45l-7.72 7.72c-.78.78-.78 2.05 0 2.83L4 21.41c.39.39.9.59 1.41.59.51 0 1.02-.2 1.41-.59l7.78-7.78 2.81-2.81c.8-.78.8-2.07 0-2.86zM5.41 20L4 18.59l7.72-7.72 1.47 1.35L5.41 20z\"/>\n",
              "  </svg>\n",
              "      </button>\n",
              "\n",
              "\n",
              "\n",
              "    <div id=\"df-f09d1a04-0925-4de7-8675-eac2be8b2d77\">\n",
              "      <button class=\"colab-df-quickchart\" onclick=\"quickchart('df-f09d1a04-0925-4de7-8675-eac2be8b2d77')\"\n",
              "              title=\"Suggest charts.\"\n",
              "              style=\"display:none;\">\n",
              "\n",
              "<svg xmlns=\"http://www.w3.org/2000/svg\" height=\"24px\"viewBox=\"0 0 24 24\"\n",
              "     width=\"24px\">\n",
              "    <g>\n",
              "        <path d=\"M19 3H5c-1.1 0-2 .9-2 2v14c0 1.1.9 2 2 2h14c1.1 0 2-.9 2-2V5c0-1.1-.9-2-2-2zM9 17H7v-7h2v7zm4 0h-2V7h2v10zm4 0h-2v-4h2v4z\"/>\n",
              "    </g>\n",
              "</svg>\n",
              "      </button>\n",
              "    </div>\n",
              "\n",
              "<style>\n",
              "  .colab-df-quickchart {\n",
              "    background-color: #E8F0FE;\n",
              "    border: none;\n",
              "    border-radius: 50%;\n",
              "    cursor: pointer;\n",
              "    display: none;\n",
              "    fill: #1967D2;\n",
              "    height: 32px;\n",
              "    padding: 0 0 0 0;\n",
              "    width: 32px;\n",
              "  }\n",
              "\n",
              "  .colab-df-quickchart:hover {\n",
              "    background-color: #E2EBFA;\n",
              "    box-shadow: 0px 1px 2px rgba(60, 64, 67, 0.3), 0px 1px 3px 1px rgba(60, 64, 67, 0.15);\n",
              "    fill: #174EA6;\n",
              "  }\n",
              "\n",
              "  [theme=dark] .colab-df-quickchart {\n",
              "    background-color: #3B4455;\n",
              "    fill: #D2E3FC;\n",
              "  }\n",
              "\n",
              "  [theme=dark] .colab-df-quickchart:hover {\n",
              "    background-color: #434B5C;\n",
              "    box-shadow: 0px 1px 3px 1px rgba(0, 0, 0, 0.15);\n",
              "    filter: drop-shadow(0px 1px 2px rgba(0, 0, 0, 0.3));\n",
              "    fill: #FFFFFF;\n",
              "  }\n",
              "</style>\n",
              "\n",
              "    <script>\n",
              "      async function quickchart(key) {\n",
              "        const containerElement = document.querySelector('#' + key);\n",
              "        const charts = await google.colab.kernel.invokeFunction(\n",
              "            'suggestCharts', [key], {});\n",
              "      }\n",
              "    </script>\n",
              "\n",
              "      <script>\n",
              "\n",
              "function displayQuickchartButton(domScope) {\n",
              "  let quickchartButtonEl =\n",
              "    domScope.querySelector('#df-f09d1a04-0925-4de7-8675-eac2be8b2d77 button.colab-df-quickchart');\n",
              "  quickchartButtonEl.style.display =\n",
              "    google.colab.kernel.accessAllowed ? 'block' : 'none';\n",
              "}\n",
              "\n",
              "        displayQuickchartButton(document);\n",
              "      </script>\n",
              "      <style>\n",
              "    .colab-df-container {\n",
              "      display:flex;\n",
              "      flex-wrap:wrap;\n",
              "      gap: 12px;\n",
              "    }\n",
              "\n",
              "    .colab-df-convert {\n",
              "      background-color: #E8F0FE;\n",
              "      border: none;\n",
              "      border-radius: 50%;\n",
              "      cursor: pointer;\n",
              "      display: none;\n",
              "      fill: #1967D2;\n",
              "      height: 32px;\n",
              "      padding: 0 0 0 0;\n",
              "      width: 32px;\n",
              "    }\n",
              "\n",
              "    .colab-df-convert:hover {\n",
              "      background-color: #E2EBFA;\n",
              "      box-shadow: 0px 1px 2px rgba(60, 64, 67, 0.3), 0px 1px 3px 1px rgba(60, 64, 67, 0.15);\n",
              "      fill: #174EA6;\n",
              "    }\n",
              "\n",
              "    [theme=dark] .colab-df-convert {\n",
              "      background-color: #3B4455;\n",
              "      fill: #D2E3FC;\n",
              "    }\n",
              "\n",
              "    [theme=dark] .colab-df-convert:hover {\n",
              "      background-color: #434B5C;\n",
              "      box-shadow: 0px 1px 3px 1px rgba(0, 0, 0, 0.15);\n",
              "      filter: drop-shadow(0px 1px 2px rgba(0, 0, 0, 0.3));\n",
              "      fill: #FFFFFF;\n",
              "    }\n",
              "  </style>\n",
              "\n",
              "      <script>\n",
              "        const buttonEl =\n",
              "          document.querySelector('#df-ab14905c-0c0a-4c90-968b-12e87cb79f1d button.colab-df-convert');\n",
              "        buttonEl.style.display =\n",
              "          google.colab.kernel.accessAllowed ? 'block' : 'none';\n",
              "\n",
              "        async function convertToInteractive(key) {\n",
              "          const element = document.querySelector('#df-ab14905c-0c0a-4c90-968b-12e87cb79f1d');\n",
              "          const dataTable =\n",
              "            await google.colab.kernel.invokeFunction('convertToInteractive',\n",
              "                                                     [key], {});\n",
              "          if (!dataTable) return;\n",
              "\n",
              "          const docLinkHtml = 'Like what you see? Visit the ' +\n",
              "            '<a target=\"_blank\" href=https://colab.research.google.com/notebooks/data_table.ipynb>data table notebook</a>'\n",
              "            + ' to learn more about interactive tables.';\n",
              "          element.innerHTML = '';\n",
              "          dataTable['output_type'] = 'display_data';\n",
              "          await google.colab.output.renderOutput(dataTable, element);\n",
              "          const docLink = document.createElement('div');\n",
              "          docLink.innerHTML = docLinkHtml;\n",
              "          element.appendChild(docLink);\n",
              "        }\n",
              "      </script>\n",
              "    </div>\n",
              "  </div>\n"
            ]
          },
          "metadata": {},
          "execution_count": 15
        }
      ]
    },
    {
      "cell_type": "markdown",
      "source": [
        "#Retrieval of Data\n",
        "based on specific patterns present in the horoscope charts"
      ],
      "metadata": {
        "id": "K8qrYhZsaj-1"
      }
    },
    {
      "cell_type": "markdown",
      "source": [
        "## Report Generation"
      ],
      "metadata": {
        "id": "iabFdFbRaw8j"
      }
    },
    {
      "cell_type": "code",
      "source": [
        "def genReport(yText, ChartStyle,Sample = True):\n",
        "\n",
        "    if Sample:\n",
        "        df4Report = df.sample(5)\n",
        "    else:\n",
        "        df4Report = df\n",
        "\n",
        "    selectedCharts = len(df)\n",
        "    printCharts = len(df4Report)\n",
        "    #printStatus = str(printCharts)+' charts of total '+str(totalCharts)+' printed.'\n",
        "    printStatus = str(len(df))+' charts of total '+str(totalCharts)+' selected and '+str(printCharts)+' printed'\n",
        "\n",
        "\n",
        "\n",
        "    now = datetime.now(pytz.timezone('Asia/Kolkata'))\n",
        "    fileName = 'p21Yog_'+yText[0:4]+'_'+ChartStyle[0:1]+'_'+now.strftime(\"%H%M%S\")+'.doc'\n",
        "    curQueryStr = json.dumps(selCond)[0:100]\n",
        "    # ---------------------------------------------------------\n",
        "    p21utilsR.R01_CreateReportDoc(yText,printStatus)                      # Creates MS Word Doc called p21.document\n",
        "    # ----------------------------------------------------------\n",
        "    for chart in range(len(df4Report)):\n",
        "        chartData =df4Report.iloc[chart]\n",
        "        #R51_processChart(chartData)\n",
        "        p21utilsR.R511_parseChartData(chartData)              # Break up database data into useful pieces\n",
        "                                                              # Creates two primary dicts, GLon, GRet\n",
        "        p21utilsR.R30_LocateYogs()\n",
        "\n",
        "        for ctype in ['Rashi','Navamsa']:\n",
        "        #for ctype in ['Rashi']:\n",
        "            p21.ChartType = ctype\n",
        "            p21utils.R11_LocateGrahaInRashi()   # Converts Graha Long to Rashi positions\n",
        "                                                # Rashi Num as well as Rashi name\n",
        "            if ChartStyle == 'Bengal':\n",
        "                p21utilsR.R12B_drawChart_Bengal()    # Draw Chart in Bengal style\n",
        "            if ChartStyle == 'South':\n",
        "                p21utilsR.R12B_drawChart_South()    # Draw Chart in South style\n",
        "            if ChartStyle == 'North':\n",
        "                p21utilsR.R12B_drawChart_North()    # Draw Chart in North style\n",
        "            #\n",
        "\n",
        "\n",
        "        p21utilsR.R512_FormatPage()\n",
        "        #print('----')\n",
        "    # ------------------------------------\n",
        "    p21.document.save(fileName)\n",
        "    return fileName\n",
        "\n",
        "print('Tested on ',datetime.now(pytz.timezone('Asia/Kolkata')))"
      ],
      "metadata": {
        "colab": {
          "base_uri": "https://localhost:8080/"
        },
        "id": "DcIZvyf1azTI",
        "outputId": "40cfb512-bc2d-48a0-f7f8-71f73cb3e9eb"
      },
      "execution_count": 16,
      "outputs": [
        {
          "output_type": "stream",
          "name": "stdout",
          "text": [
            "Tested on  2023-08-10 07:00:10.118545+05:30\n"
          ]
        }
      ]
    },
    {
      "cell_type": "markdown",
      "source": [
        "## Yogs Identified by BV Raman\n",
        "the reports are generated as MS-WORD docs and stored in the Colab VM directory. They may be seen in the files tab of the left pane of the Colab notebook and downloaded into a desktop or laptop machine and read."
      ],
      "metadata": {
        "id": "LNec7CcRbQv0"
      }
    },
    {
      "cell_type": "code",
      "source": [
        "%%capture\n",
        "yogName = 'Amala'\n",
        "selCond = p21YogInfo.yogCond[yogName]\n",
        "df = pd.DataFrame(list(p21.kollection.find(p21YogInfo.yogCond[yogName],p21.selCols)))\n",
        "if (len(df) > 0):\n",
        "    ReportFile = genReport(p21YogInfo.yogText[yogName],'Bengal')\n",
        "else:\n",
        "    print('no charts found')"
      ],
      "metadata": {
        "id": "N4zj9f1pbUUL"
      },
      "execution_count": 17,
      "outputs": []
    },
    {
      "cell_type": "code",
      "source": [
        "%%capture\n",
        "yogName = 'RajLakshana'\n",
        "selCond = p21YogInfo.yogCond[yogName]\n",
        "df = pd.DataFrame(list(p21.kollection.find(p21YogInfo.yogCond[yogName],p21.selCols)))\n",
        "if (len(df) > 0):\n",
        "    ReportFile = genReport(p21YogInfo.yogText[yogName],'Bengal')\n",
        "else:\n",
        "    print('no charts found')"
      ],
      "metadata": {
        "id": "4IbN6npMePLt"
      },
      "execution_count": 18,
      "outputs": []
    },
    {
      "cell_type": "code",
      "source": [
        "%%capture\n",
        "yogName = 'Chatussagara'\n",
        "selCond = p21YogInfo.yogCond[yogName]\n",
        "df = pd.DataFrame(list(p21.kollection.find(p21YogInfo.yogCond[yogName],p21.selCols)))\n",
        "if (len(df) > 0):\n",
        "    ReportFile = genReport(p21YogInfo.yogText[yogName],'Bengal')\n",
        "else:\n",
        "    print('no charts found')"
      ],
      "metadata": {
        "id": "Scs1mkfQeeC6"
      },
      "execution_count": 19,
      "outputs": []
    },
    {
      "cell_type": "code",
      "source": [
        "%%capture\n",
        "yogName = 'Adhi678'\n",
        "selCond = p21YogInfo.yogCond[yogName]\n",
        "df = pd.DataFrame(list(p21.kollection.find(p21YogInfo.yogCond[yogName],p21.selCols)))\n",
        "if (len(df) > 0):\n",
        "    ReportFile = genReport(p21YogInfo.yogText[yogName],'Bengal')\n",
        "else:\n",
        "    print('no charts found')"
      ],
      "metadata": {
        "id": "c2hASjSVehVD"
      },
      "execution_count": 20,
      "outputs": []
    },
    {
      "cell_type": "code",
      "source": [
        "%%capture\n",
        "yogName = 'ChandraMangal'\n",
        "selCond = p21YogInfo.yogCond[yogName]\n",
        "df = pd.DataFrame(list(p21.kollection.find(p21YogInfo.yogCond[yogName],p21.selCols)))\n",
        "ReportFile = genReport(p21YogInfo.yogText[yogName],'Bengal')"
      ],
      "metadata": {
        "id": "Ec9HXVweelAx"
      },
      "execution_count": 21,
      "outputs": []
    },
    {
      "cell_type": "code",
      "source": [
        "%%capture\n",
        "yogName = 'ChandraMangal2'\n",
        "selCond = p21YogInfo.yogCond[yogName]\n",
        "df = pd.DataFrame(list(p21.kollection.find(p21YogInfo.yogCond[yogName],p21.selCols)))\n",
        "ReportFile = genReport(p21YogInfo.yogText[yogName],'Bengal')"
      ],
      "metadata": {
        "id": "CycXfM11eohS",
        "outputId": "c5d32d67-7db3-40d8-8be2-3fd1a27fab25",
        "colab": {
          "base_uri": "https://localhost:8080/",
          "height": 210
        }
      },
      "execution_count": 22,
      "outputs": [
        {
          "output_type": "error",
          "ename": "KeyError",
          "evalue": "ignored",
          "traceback": [
            "\u001b[0;31m---------------------------------------------------------------------------\u001b[0m",
            "\u001b[0;31mKeyError\u001b[0m                                  Traceback (most recent call last)",
            "\u001b[0;32m<ipython-input-22-f304e6eed0ec>\u001b[0m in \u001b[0;36m<cell line: 4>\u001b[0;34m()\u001b[0m\n\u001b[1;32m      2\u001b[0m \u001b[0mselCond\u001b[0m \u001b[0;34m=\u001b[0m \u001b[0mp21YogInfo\u001b[0m\u001b[0;34m.\u001b[0m\u001b[0myogCond\u001b[0m\u001b[0;34m[\u001b[0m\u001b[0myogName\u001b[0m\u001b[0;34m]\u001b[0m\u001b[0;34m\u001b[0m\u001b[0;34m\u001b[0m\u001b[0m\n\u001b[1;32m      3\u001b[0m \u001b[0mdf\u001b[0m \u001b[0;34m=\u001b[0m \u001b[0mpd\u001b[0m\u001b[0;34m.\u001b[0m\u001b[0mDataFrame\u001b[0m\u001b[0;34m(\u001b[0m\u001b[0mlist\u001b[0m\u001b[0;34m(\u001b[0m\u001b[0mp21\u001b[0m\u001b[0;34m.\u001b[0m\u001b[0mkollection\u001b[0m\u001b[0;34m.\u001b[0m\u001b[0mfind\u001b[0m\u001b[0;34m(\u001b[0m\u001b[0mp21YogInfo\u001b[0m\u001b[0;34m.\u001b[0m\u001b[0myogCond\u001b[0m\u001b[0;34m[\u001b[0m\u001b[0myogName\u001b[0m\u001b[0;34m]\u001b[0m\u001b[0;34m,\u001b[0m\u001b[0mp21\u001b[0m\u001b[0;34m.\u001b[0m\u001b[0mselCols\u001b[0m\u001b[0;34m)\u001b[0m\u001b[0;34m)\u001b[0m\u001b[0;34m)\u001b[0m\u001b[0;34m\u001b[0m\u001b[0;34m\u001b[0m\u001b[0m\n\u001b[0;32m----> 4\u001b[0;31m \u001b[0mReportFile\u001b[0m \u001b[0;34m=\u001b[0m \u001b[0mgenReport\u001b[0m\u001b[0;34m(\u001b[0m\u001b[0mp21YogInfo\u001b[0m\u001b[0;34m.\u001b[0m\u001b[0myogText\u001b[0m\u001b[0;34m[\u001b[0m\u001b[0myogName\u001b[0m\u001b[0;34m]\u001b[0m\u001b[0;34m,\u001b[0m\u001b[0;34m'Bengal'\u001b[0m\u001b[0;34m)\u001b[0m\u001b[0;34m\u001b[0m\u001b[0;34m\u001b[0m\u001b[0m\n\u001b[0m",
            "\u001b[0;31mKeyError\u001b[0m: 'ChandraMangal2'"
          ]
        }
      ]
    },
    {
      "cell_type": "code",
      "source": [
        "%%capture\n",
        "yogName = 'ChandraMangal1'\n",
        "selCond = p21YogInfo.yogCond[yogName]\n",
        "df = pd.DataFrame(list(p21.kollection.find(p21YogInfo.yogCond[yogName],p21.selCols)))\n",
        "ReportFile = genReport(p21YogInfo.yogText[yogName],'Bengal')"
      ],
      "metadata": {
        "id": "YUYQhRRcerl8",
        "outputId": "06187ab7-fb32-4ecd-ba9b-48fe2d120227",
        "colab": {
          "base_uri": "https://localhost:8080/",
          "height": 210
        }
      },
      "execution_count": 23,
      "outputs": [
        {
          "output_type": "error",
          "ename": "KeyError",
          "evalue": "ignored",
          "traceback": [
            "\u001b[0;31m---------------------------------------------------------------------------\u001b[0m",
            "\u001b[0;31mKeyError\u001b[0m                                  Traceback (most recent call last)",
            "\u001b[0;32m<ipython-input-23-bf7ee66cefb7>\u001b[0m in \u001b[0;36m<cell line: 4>\u001b[0;34m()\u001b[0m\n\u001b[1;32m      2\u001b[0m \u001b[0mselCond\u001b[0m \u001b[0;34m=\u001b[0m \u001b[0mp21YogInfo\u001b[0m\u001b[0;34m.\u001b[0m\u001b[0myogCond\u001b[0m\u001b[0;34m[\u001b[0m\u001b[0myogName\u001b[0m\u001b[0;34m]\u001b[0m\u001b[0;34m\u001b[0m\u001b[0;34m\u001b[0m\u001b[0m\n\u001b[1;32m      3\u001b[0m \u001b[0mdf\u001b[0m \u001b[0;34m=\u001b[0m \u001b[0mpd\u001b[0m\u001b[0;34m.\u001b[0m\u001b[0mDataFrame\u001b[0m\u001b[0;34m(\u001b[0m\u001b[0mlist\u001b[0m\u001b[0;34m(\u001b[0m\u001b[0mp21\u001b[0m\u001b[0;34m.\u001b[0m\u001b[0mkollection\u001b[0m\u001b[0;34m.\u001b[0m\u001b[0mfind\u001b[0m\u001b[0;34m(\u001b[0m\u001b[0mp21YogInfo\u001b[0m\u001b[0;34m.\u001b[0m\u001b[0myogCond\u001b[0m\u001b[0;34m[\u001b[0m\u001b[0myogName\u001b[0m\u001b[0;34m]\u001b[0m\u001b[0;34m,\u001b[0m\u001b[0mp21\u001b[0m\u001b[0;34m.\u001b[0m\u001b[0mselCols\u001b[0m\u001b[0;34m)\u001b[0m\u001b[0;34m)\u001b[0m\u001b[0;34m)\u001b[0m\u001b[0;34m\u001b[0m\u001b[0;34m\u001b[0m\u001b[0m\n\u001b[0;32m----> 4\u001b[0;31m \u001b[0mReportFile\u001b[0m \u001b[0;34m=\u001b[0m \u001b[0mgenReport\u001b[0m\u001b[0;34m(\u001b[0m\u001b[0mp21YogInfo\u001b[0m\u001b[0;34m.\u001b[0m\u001b[0myogText\u001b[0m\u001b[0;34m[\u001b[0m\u001b[0myogName\u001b[0m\u001b[0;34m]\u001b[0m\u001b[0;34m,\u001b[0m\u001b[0;34m'Bengal'\u001b[0m\u001b[0;34m)\u001b[0m\u001b[0;34m\u001b[0m\u001b[0;34m\u001b[0m\u001b[0m\n\u001b[0m",
            "\u001b[0;31mKeyError\u001b[0m: 'ChandraMangal1'"
          ]
        }
      ]
    },
    {
      "cell_type": "code",
      "source": [
        "%%capture\n",
        "yogName = 'Kemadruma'\n",
        "selCond = p21YogInfo.yogCond[yogName]\n",
        "df = pd.DataFrame(list(p21.kollection.find(p21YogInfo.yogCond[yogName],p21.selCols)))\n",
        "ReportFile = genReport(p21YogInfo.yogText[yogName],'Bengal')"
      ],
      "metadata": {
        "id": "IbQtyeMfeue-"
      },
      "execution_count": 24,
      "outputs": []
    },
    {
      "cell_type": "code",
      "source": [
        "%%capture\n",
        "yogName = 'Dhurdhura'\n",
        "selCond = p21YogInfo.yogCond[yogName]\n",
        "df = pd.DataFrame(list(p21.kollection.find(p21YogInfo.yogCond[yogName],p21.selCols)))\n",
        "ReportFile = genReport(p21YogInfo.yogText[yogName],'Bengal')"
      ],
      "metadata": {
        "id": "dKLgA74Jexg2"
      },
      "execution_count": 25,
      "outputs": []
    },
    {
      "cell_type": "code",
      "source": [
        "%%capture\n",
        "yogName = 'Anapha'\n",
        "selCond = p21YogInfo.yogCond[yogName]\n",
        "df = pd.DataFrame(list(p21.kollection.find(p21YogInfo.yogCond[yogName],p21.selCols)))\n",
        "ReportFile = genReport(p21YogInfo.yogText[yogName],'Bengal')"
      ],
      "metadata": {
        "id": "CqpVK1Spe0aH"
      },
      "execution_count": 26,
      "outputs": []
    },
    {
      "cell_type": "code",
      "source": [
        "%%capture\n",
        "yogName = 'Sunapha'\n",
        "selCond = p21YogInfo.yogCond[yogName]\n",
        "df = pd.DataFrame(list(p21.kollection.find(p21YogInfo.yogCond[yogName],p21.selCols)))\n",
        "ReportFile = genReport(p21YogInfo.yogText[yogName],'Bengal')"
      ],
      "metadata": {
        "id": "VUTGr07Oe3xA"
      },
      "execution_count": 27,
      "outputs": []
    },
    {
      "cell_type": "markdown",
      "source": [
        "## Random Search Patterns\n",
        "These patterns are referred to in the original Researchgate paper"
      ],
      "metadata": {
        "id": "WRG0CczWe70x"
      }
    },
    {
      "cell_type": "code",
      "source": [
        "%%capture\n",
        "selCond = {'GAspectedBy2.La': {'$in': ['Sa']}}                      # La aspected by Sa\n",
        "df = pd.DataFrame(list(p21.kollection.find(selCond,p21.selCols)))\n",
        "tag = 'Testing : '+json.dumps(selCond)\n",
        "ReportFile = genReport(tag,'Bengal')"
      ],
      "metadata": {
        "id": "E02E-bhwe_tQ"
      },
      "execution_count": 28,
      "outputs": []
    },
    {
      "cell_type": "code",
      "source": [
        "%%capture\n",
        "selCond = {\"$and\":\n",
        "                    [\n",
        "                        {'exaltG.Ju': {'$eq': True}},               # Exalted Jupiter\n",
        "                        {'GAspectedBy2.La' : {'$in': ['Sa']}}       # La aspected by Sa\n",
        "\n",
        "                    ]\n",
        "}\n",
        "\n",
        "df = pd.DataFrame(list(p21.kollection.find(selCond,p21.selCols)))\n",
        "tag = 'Testing : '+json.dumps(selCond)\n",
        "ReportFile = genReport(tag,'Bengal')"
      ],
      "metadata": {
        "id": "AP46T8QLfZvk"
      },
      "execution_count": 29,
      "outputs": []
    },
    {
      "cell_type": "code",
      "source": [
        "%%capture\n",
        "selCond = {\"$and\":\n",
        "                    [\n",
        "                        {'exaltG.Ju': {'$eq': True}},               # Exalted Jupiter\n",
        "                        {'GAspectedBy2.La' : {'$in': ['Sa']}} ,     # La aspected by Sa\n",
        "                        {'GConjunctsG2.Su' : {'$in': ['Me']}}       # Su conjunct Me\n",
        "\n",
        "                    ]\n",
        "}\n",
        "\n",
        "df = pd.DataFrame(list(p21.kollection.find(selCond,p21.selCols)))\n",
        "tag = 'Testing : '+json.dumps(selCond)\n",
        "ReportFile = genReport(tag,'North')"
      ],
      "metadata": {
        "id": "1iViCIaEfdHP"
      },
      "execution_count": 30,
      "outputs": []
    },
    {
      "cell_type": "code",
      "source": [
        "%%capture\n",
        "selCond = {\"$and\":\n",
        "                    [\n",
        "                        {'exaltG.Ju': {'$eq': True}},               # Exalted Jupiter\n",
        "                        {'GAspectedBy2.La' : {'$in': ['Sa']}} ,     # La aspected by Sa\n",
        "                        {'GConjunctsG2.Su' : {'$in': ['Me']}},      # Su conjunct Me\n",
        "                        {'GrahaBhava.Mo' : {'$eq': 1}}              # Mo in First House\n",
        "                    ]\n",
        "}\n",
        "\n",
        "df = pd.DataFrame(list(p21.kollection.find(selCond,p21.selCols)))\n",
        "tag = 'Testing : '+json.dumps(selCond)\n",
        "ReportFile = genReport(tag,'North')"
      ],
      "metadata": {
        "id": "h0ghHDZkfg3N"
      },
      "execution_count": 31,
      "outputs": []
    },
    {
      "cell_type": "code",
      "source": [
        "%%capture\n",
        "selCond = {\"$and\":\n",
        "                    [\n",
        "                        {'exaltG.Ju': {'$eq': True}},               # Exalted Jupiter\n",
        "                        {'GAspectedBy2.La' : {'$in': ['Sa']}} ,     # La aspected by Sa\n",
        "                        {'GConjunctsG2.Su' : {'$in': ['Me']}},      # Su conjunct Me\n",
        "                        {'GrahaBhava.Mo' : {'$eq': 1}} ,            # Mo in First House\n",
        "                        {'LordBhav.4' : {'$eq': 5}}                 # 4th Lord in 5th House\n",
        "                    ]\n",
        "}\n",
        "df = pd.DataFrame(list(p21.kollection.find(selCond,p21.selCols)))\n",
        "tag = 'Testing : '+json.dumps(selCond)\n",
        "ReportFile = genReport(tag,'South',False)"
      ],
      "metadata": {
        "id": "YbQuiceDfkiI"
      },
      "execution_count": 32,
      "outputs": []
    },
    {
      "cell_type": "markdown",
      "source": [
        "#End"
      ],
      "metadata": {
        "id": "_kaO_N00gLG-"
      }
    },
    {
      "cell_type": "code",
      "source": [
        "print(\"\\033[1m\"+'जय पराशर'+\"\\033[0m\")\n",
        "print(datetime.now(pytz.timezone('Asia/Calcutta')))"
      ],
      "metadata": {
        "colab": {
          "base_uri": "https://localhost:8080/"
        },
        "id": "9EktR_pvgNnb",
        "outputId": "b89fb247-dd8b-4129-e242-02c9615c9ecb"
      },
      "execution_count": 33,
      "outputs": [
        {
          "output_type": "stream",
          "name": "stdout",
          "text": [
            "\u001b[1mजय पराशर\u001b[0m\n",
            "2023-08-10 07:09:06.431827+05:30\n"
          ]
        }
      ]
    },
    {
      "cell_type": "markdown",
      "metadata": {
        "id": "QGxOl9rdrvEg"
      },
      "source": [
        "#Chronobooks <br>\n",
        "![alt text](https://1.bp.blogspot.com/-lTiYBkU2qbU/X1er__fvnkI/AAAAAAAAjtE/GhDR3OEGJr4NG43fZPodrQD5kbxtnKebgCLcBGAsYHQ/s600/Footer2020-600x200.png)<hr>\n",
        "Chronotantra and Chronoyantra are two science fiction novels that explore the collapse of human civilisation on Earth and then its rebirth and reincarnation both on Earth as well as on the distant worlds of Mars, Titan and Enceladus. But is it the human civilisation that is being reborn? Or is it some other sentience that is revealing itself.\n",
        "If you have an interest in AI and found this material useful, you may consider buying these novels, in paperback or kindle, from [http://bit.ly/chronobooks](http://bit.ly/chronobooks)"
      ]
    },
    {
      "cell_type": "markdown",
      "source": [
        "#Redundant Stuff\n",
        "too scared to throw it away!"
      ],
      "metadata": {
        "id": "9r0Vb3R-Gr_u"
      }
    },
    {
      "cell_type": "code",
      "source": [
        "#Retrieves Charts based on tags\n",
        "pd.DataFrame(list(p21.kollection.find({'pid.tags': {\"$in\": ['Scientist','Author']}},{'pid.tags':1,'GLon':1,'GRet':1,'_id':0})))\n",
        "c = p21.kollection.find({'pid.tags': {\"$in\": ['Scientist','Author']}},{'pid.tags':1,'GLon':1,'GRet':1,'_id':0})\n",
        "for crnt in c:\n",
        "    print(crnt)"
      ],
      "metadata": {
        "id": "ExBPG3O9HazN"
      },
      "execution_count": 34,
      "outputs": []
    }
  ]
}