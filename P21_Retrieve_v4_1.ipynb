{
  "nbformat": 4,
  "nbformat_minor": 0,
  "metadata": {
    "colab": {
      "name": "P21_Retrieve_v4.1",
      "provenance": [],
      "authorship_tag": "ABX9TyOauMLGOgCakFWr1PCErXVN",
      "include_colab_link": true
    },
    "kernelspec": {
      "name": "python3",
      "display_name": "Python 3"
    },
    "language_info": {
      "name": "python"
    }
  },
  "cells": [
    {
      "cell_type": "markdown",
      "metadata": {
        "id": "view-in-github",
        "colab_type": "text"
      },
      "source": [
        "<a href=\"https://colab.research.google.com/github/prithwis/parashar21/blob/main/P21_Retrieve_v4_1.ipynb\" target=\"_parent\"><img src=\"https://colab.research.google.com/assets/colab-badge.svg\" alt=\"Open In Colab\"/></a>"
      ]
    },
    {
      "cell_type": "markdown",
      "source": [
        "![alt text](http://1.bp.blogspot.com/_5QlanosqxiQ/SXLOLTu7S7I/AAAAAAAAAm8/0r6C7lCxsic/S1600-R/p21-header-003.png) <br>\n",
        "\n",
        "\n",
        "---\n",
        "\n",
        "\n",
        "![CC-BY-SA](https://licensebuttons.net/l/by-sa/3.0/88x31.png) ||\n",
        "[Prithwis Mukerjee](http://www.yantrajaal.com) ||\n",
        "Website - [Parashar21](https://parashar21.blogspot.com)<br>"
      ],
      "metadata": {
        "id": "rj4jjIHTvPV8"
      }
    },
    {
      "cell_type": "markdown",
      "source": [
        "#Connect, Retrieve"
      ],
      "metadata": {
        "id": "l2v2nhRKvwJS"
      }
    },
    {
      "cell_type": "code",
      "source": [
        "!apt install mongodb > /dev/null\n",
        "from pymongo import MongoClient\n",
        "import pandas as pd\n",
        "import dateutil\n",
        "import matplotlib.pyplot as plt\n",
        "import math\n",
        "#import string_utils"
      ],
      "metadata": {
        "colab": {
          "base_uri": "https://localhost:8080/"
        },
        "id": "AWKFabc0v3FI",
        "outputId": "7cb42285-952f-4e7d-fefc-538668f67f1f"
      },
      "execution_count": 1,
      "outputs": [
        {
          "output_type": "stream",
          "name": "stdout",
          "text": [
            "\n",
            "WARNING: apt does not have a stable CLI interface. Use with caution in scripts.\n",
            "\n"
          ]
        }
      ]
    },
    {
      "cell_type": "code",
      "source": [
        "from google.colab import drive\n",
        "drive.mount('/content/drive')\n",
        "# -------------------------------------------\n",
        "# copy credentials file\n",
        "#!ls /content/drive/'My Drive'/Praxis/WebCredentials\n",
        "!cp /content/drive/'My Drive'/Praxis/WebCredentials/clevercloudMongoDB.py credentials.py\n",
        "# -------------------------------------------\n",
        "# credential file for Prithwis Mukerjee\n",
        "# this file needs to be in the VM\n",
        "\n",
        "from credentials import rhostName,ruserName,rpassWord,rdbName,rMongoURI\n",
        "\n",
        "#print(rhostName,ruserName,rdbName)\n",
        "print(rdbName)\n",
        "#print(rMongoURI)\n",
        "# -------------------------------------------\n",
        "mongoURI = rMongoURI                                   # for remote server\n",
        "#mongoURI = \"mongodb://localhost:27017/\"\n",
        "client = MongoClient(mongoURI)\n",
        "client.list_database_names() # ['admin', 'local']\n",
        "# ----------------------------------------------\n",
        "# Show existing Collections\n",
        "db = client.btncgfi3a5bxyea\n",
        "#db.create_collection('p21Charts')       # Optional collection creation\n",
        "# Show Collections. Query returns a Cursor [ ] ,  list it to see the content\n",
        "list (db.list_collections())"
      ],
      "metadata": {
        "colab": {
          "base_uri": "https://localhost:8080/"
        },
        "id": "I3Z74iSKv7FK",
        "outputId": "bbf4ec02-098b-4fa6-8804-b0fdade0e3b5"
      },
      "execution_count": 2,
      "outputs": [
        {
          "output_type": "stream",
          "name": "stdout",
          "text": [
            "Mounted at /content/drive\n",
            "btncgfi3a5bxyea\n"
          ]
        },
        {
          "output_type": "execute_result",
          "data": {
            "text/plain": [
              "[{'idIndex': {'key': {'_id': 1},\n",
              "   'name': '_id_',\n",
              "   'ns': 'btncgfi3a5bxyea.p21Charts',\n",
              "   'v': 2},\n",
              "  'info': {'readOnly': False,\n",
              "   'uuid': UUID('af531836-28c4-4676-a261-5023436ae25d')},\n",
              "  'name': 'p21Charts',\n",
              "  'options': {},\n",
              "  'type': 'collection'},\n",
              " {'idIndex': {'key': {'_id': 1},\n",
              "   'name': '_id_',\n",
              "   'ns': 'btncgfi3a5bxyea.restaurants',\n",
              "   'v': 2},\n",
              "  'info': {'readOnly': False,\n",
              "   'uuid': UUID('7554cbbb-c8f2-47a2-8429-426588529a48')},\n",
              "  'name': 'restaurants',\n",
              "  'options': {},\n",
              "  'type': 'collection'}]"
            ]
          },
          "metadata": {},
          "execution_count": 2
        }
      ]
    },
    {
      "cell_type": "code",
      "source": [
        "kollection = db.p21Charts                   # Set the collection to work with\n",
        "c = kollection.find()\n",
        "for crnt in c:\n",
        "    print(crnt)"
      ],
      "metadata": {
        "colab": {
          "base_uri": "https://localhost:8080/"
        },
        "id": "K07dveNkwspG",
        "outputId": "51251932-7a92-4914-ae53-16f8d4631f5f"
      },
      "execution_count": 3,
      "outputs": [
        {
          "output_type": "stream",
          "name": "stdout",
          "text": [
            "{'_id': ObjectId('61dadf0a122357c5ce07bf23'), 'pid': {'tags': ['Engineer', 'Teacher', 'PostGraduate'], 'ck': 'M1961101523:425.522.5788.37', 'name': 'uoms'}, 'GLon': {'La': 98.204, 'Su': 178.826, 'Mo': 250.52, 'Ma': 196.183, 'Me': 193.17, 'Ju': 274.781, 'Ve': 153.753, 'Sa': 270.179, 'Ra': 122.089, 'Ke': 302.089}, 'GRet': {'La': False, 'Su': False, 'Mo': False, 'Ma': False, 'Me': True, 'Ju': False, 'Ve': False, 'Sa': False, 'Ra': False, 'Ke': False}}\n",
            "{'_id': ObjectId('61dadf0a122357c5ce07bf24'), 'pid': {'tags': ['Author', 'Homemaker', 'PostGraduate'], 'ck': 'F1965121910:265.522.5788.37', 'name': 'opag'}, 'GLon': {'La': 310.415, 'Su': 243.701, 'Mo': 201.001, 'Ma': 273.467, 'Me': 222.269, 'Ju': 62.748, 'Ve': 284.966, 'Sa': 318.17, 'Ra': 41.248, 'Ke': 221.248}, 'GRet': {'La': False, 'Su': False, 'Mo': False, 'Ma': False, 'Me': False, 'Ju': True, 'Ve': False, 'Sa': False, 'Ra': False, 'Ke': False}}\n",
            "{'_id': ObjectId('61dadf0a122357c5ce07bf25'), 'pid': {'tags': ['Engineer', 'Teacher', 'PostGraduate'], 'ck': 'M199010923:095.522.5788.37', 'name': 'raohlo'}, 'GLon': {'La': 85.351, 'Su': 172.44, 'Mo': 63.984, 'Ma': 49.966, 'Me': 163.275, 'Ju': 105.898, 'Ve': 166.538, 'Sa': 265.202, 'Ra': 280.65, 'Ke': 100.65}, 'GRet': {'La': False, 'Su': False, 'Mo': False, 'Ma': False, 'Me': False, 'Ju': False, 'Ve': False, 'Sa': False, 'Ra': False, 'Ke': False}}\n",
            "{'_id': ObjectId('61dadf0a122357c5ce07bf26'), 'pid': {'tags': ['Biologist', 'Scientist', 'PostGraduate'], 'ck': 'F19909120:525.522.8788.37', 'name': 'nlananji'}, 'GLon': {'La': 84.138, 'Su': 145.068, 'Mo': 54.233, 'Ma': 41.525, 'Me': 138.242, 'Ju': 101.216, 'Ve': 131.788, 'Sa': 265.084, 'Ra': 282.763, 'Ke': 102.763}, 'GRet': {'La': False, 'Su': False, 'Mo': False, 'Ma': False, 'Me': True, 'Ju': False, 'Ve': False, 'Sa': True, 'Ra': False, 'Ke': False}}\n",
            "{'_id': ObjectId('61dadf0a122357c5ce07bf27'), 'pid': {'tags': ['Politician', 'Administrator', 'nil'], 'ck': 'M19509179:345.523.4872.36', 'name': 'ModDiN'}, 'GLon': {'La': 191.897, 'Su': 150.533, 'Mo': 217.939, 'Ma': 210.889, 'Me': 150.848, 'Ju': 306.602, 'Ve': 135.613, 'Sa': 149.644, 'Ra': 335.211, 'Ke': 155.211}, 'GRet': {'La': False, 'Su': False, 'Mo': False, 'Ma': False, 'Me': True, 'Ju': True, 'Ve': False, 'Sa': False, 'Ra': False, 'Ke': False}}\n"
          ]
        }
      ]
    },
    {
      "cell_type": "code",
      "source": [
        "c = kollection.find({'pid.name': {\"$eq\": 'mous'}})\n",
        "for crnt in c:\n",
        "    print(crnt)"
      ],
      "metadata": {
        "id": "5el8qDwjxAMy"
      },
      "execution_count": 4,
      "outputs": []
    },
    {
      "cell_type": "code",
      "source": [
        "c = kollection.find({'pid.tags': {\"$in\": ['Engineer','Teacher']}})\n",
        "for crnt in c:\n",
        "    print(crnt)"
      ],
      "metadata": {
        "colab": {
          "base_uri": "https://localhost:8080/"
        },
        "id": "pTjryQV2090u",
        "outputId": "5b782beb-5241-4003-cbe9-c4258af859f7"
      },
      "execution_count": 5,
      "outputs": [
        {
          "output_type": "stream",
          "name": "stdout",
          "text": [
            "{'_id': ObjectId('61dadf0a122357c5ce07bf23'), 'pid': {'tags': ['Engineer', 'Teacher', 'PostGraduate'], 'ck': 'M1961101523:425.522.5788.37', 'name': 'uoms'}, 'GLon': {'La': 98.204, 'Su': 178.826, 'Mo': 250.52, 'Ma': 196.183, 'Me': 193.17, 'Ju': 274.781, 'Ve': 153.753, 'Sa': 270.179, 'Ra': 122.089, 'Ke': 302.089}, 'GRet': {'La': False, 'Su': False, 'Mo': False, 'Ma': False, 'Me': True, 'Ju': False, 'Ve': False, 'Sa': False, 'Ra': False, 'Ke': False}}\n",
            "{'_id': ObjectId('61dadf0a122357c5ce07bf25'), 'pid': {'tags': ['Engineer', 'Teacher', 'PostGraduate'], 'ck': 'M199010923:095.522.5788.37', 'name': 'raohlo'}, 'GLon': {'La': 85.351, 'Su': 172.44, 'Mo': 63.984, 'Ma': 49.966, 'Me': 163.275, 'Ju': 105.898, 'Ve': 166.538, 'Sa': 265.202, 'Ra': 280.65, 'Ke': 100.65}, 'GRet': {'La': False, 'Su': False, 'Mo': False, 'Ma': False, 'Me': False, 'Ju': False, 'Ve': False, 'Sa': False, 'Ra': False, 'Ke': False}}\n"
          ]
        }
      ]
    },
    {
      "cell_type": "code",
      "source": [
        "df = pd.DataFrame(list(kollection.find({'pid.tags': {\"$in\": ['Engineer','Teacher']}},{'pid.name':1,\"_id\":0,'GLon':1,'GRet':1})))\n",
        "df"
      ],
      "metadata": {
        "colab": {
          "base_uri": "https://localhost:8080/",
          "height": 112
        },
        "id": "gGtojxPZxmku",
        "outputId": "113dc14f-60c9-413e-cb48-ad8175cbdc19"
      },
      "execution_count": 6,
      "outputs": [
        {
          "output_type": "execute_result",
          "data": {
            "text/html": [
              "\n",
              "  <div id=\"df-d09c5574-7a2d-4592-81a5-826fa2dbf64f\">\n",
              "    <div class=\"colab-df-container\">\n",
              "      <div>\n",
              "<style scoped>\n",
              "    .dataframe tbody tr th:only-of-type {\n",
              "        vertical-align: middle;\n",
              "    }\n",
              "\n",
              "    .dataframe tbody tr th {\n",
              "        vertical-align: top;\n",
              "    }\n",
              "\n",
              "    .dataframe thead th {\n",
              "        text-align: right;\n",
              "    }\n",
              "</style>\n",
              "<table border=\"1\" class=\"dataframe\">\n",
              "  <thead>\n",
              "    <tr style=\"text-align: right;\">\n",
              "      <th></th>\n",
              "      <th>pid</th>\n",
              "      <th>GLon</th>\n",
              "      <th>GRet</th>\n",
              "    </tr>\n",
              "  </thead>\n",
              "  <tbody>\n",
              "    <tr>\n",
              "      <th>0</th>\n",
              "      <td>{'name': 'uoms'}</td>\n",
              "      <td>{'La': 98.204, 'Su': 178.826, 'Mo': 250.52, 'M...</td>\n",
              "      <td>{'La': False, 'Su': False, 'Mo': False, 'Ma': ...</td>\n",
              "    </tr>\n",
              "    <tr>\n",
              "      <th>1</th>\n",
              "      <td>{'name': 'raohlo'}</td>\n",
              "      <td>{'La': 85.351, 'Su': 172.44, 'Mo': 63.984, 'Ma...</td>\n",
              "      <td>{'La': False, 'Su': False, 'Mo': False, 'Ma': ...</td>\n",
              "    </tr>\n",
              "  </tbody>\n",
              "</table>\n",
              "</div>\n",
              "      <button class=\"colab-df-convert\" onclick=\"convertToInteractive('df-d09c5574-7a2d-4592-81a5-826fa2dbf64f')\"\n",
              "              title=\"Convert this dataframe to an interactive table.\"\n",
              "              style=\"display:none;\">\n",
              "        \n",
              "  <svg xmlns=\"http://www.w3.org/2000/svg\" height=\"24px\"viewBox=\"0 0 24 24\"\n",
              "       width=\"24px\">\n",
              "    <path d=\"M0 0h24v24H0V0z\" fill=\"none\"/>\n",
              "    <path d=\"M18.56 5.44l.94 2.06.94-2.06 2.06-.94-2.06-.94-.94-2.06-.94 2.06-2.06.94zm-11 1L8.5 8.5l.94-2.06 2.06-.94-2.06-.94L8.5 2.5l-.94 2.06-2.06.94zm10 10l.94 2.06.94-2.06 2.06-.94-2.06-.94-.94-2.06-.94 2.06-2.06.94z\"/><path d=\"M17.41 7.96l-1.37-1.37c-.4-.4-.92-.59-1.43-.59-.52 0-1.04.2-1.43.59L10.3 9.45l-7.72 7.72c-.78.78-.78 2.05 0 2.83L4 21.41c.39.39.9.59 1.41.59.51 0 1.02-.2 1.41-.59l7.78-7.78 2.81-2.81c.8-.78.8-2.07 0-2.86zM5.41 20L4 18.59l7.72-7.72 1.47 1.35L5.41 20z\"/>\n",
              "  </svg>\n",
              "      </button>\n",
              "      \n",
              "  <style>\n",
              "    .colab-df-container {\n",
              "      display:flex;\n",
              "      flex-wrap:wrap;\n",
              "      gap: 12px;\n",
              "    }\n",
              "\n",
              "    .colab-df-convert {\n",
              "      background-color: #E8F0FE;\n",
              "      border: none;\n",
              "      border-radius: 50%;\n",
              "      cursor: pointer;\n",
              "      display: none;\n",
              "      fill: #1967D2;\n",
              "      height: 32px;\n",
              "      padding: 0 0 0 0;\n",
              "      width: 32px;\n",
              "    }\n",
              "\n",
              "    .colab-df-convert:hover {\n",
              "      background-color: #E2EBFA;\n",
              "      box-shadow: 0px 1px 2px rgba(60, 64, 67, 0.3), 0px 1px 3px 1px rgba(60, 64, 67, 0.15);\n",
              "      fill: #174EA6;\n",
              "    }\n",
              "\n",
              "    [theme=dark] .colab-df-convert {\n",
              "      background-color: #3B4455;\n",
              "      fill: #D2E3FC;\n",
              "    }\n",
              "\n",
              "    [theme=dark] .colab-df-convert:hover {\n",
              "      background-color: #434B5C;\n",
              "      box-shadow: 0px 1px 3px 1px rgba(0, 0, 0, 0.15);\n",
              "      filter: drop-shadow(0px 1px 2px rgba(0, 0, 0, 0.3));\n",
              "      fill: #FFFFFF;\n",
              "    }\n",
              "  </style>\n",
              "\n",
              "      <script>\n",
              "        const buttonEl =\n",
              "          document.querySelector('#df-d09c5574-7a2d-4592-81a5-826fa2dbf64f button.colab-df-convert');\n",
              "        buttonEl.style.display =\n",
              "          google.colab.kernel.accessAllowed ? 'block' : 'none';\n",
              "\n",
              "        async function convertToInteractive(key) {\n",
              "          const element = document.querySelector('#df-d09c5574-7a2d-4592-81a5-826fa2dbf64f');\n",
              "          const dataTable =\n",
              "            await google.colab.kernel.invokeFunction('convertToInteractive',\n",
              "                                                     [key], {});\n",
              "          if (!dataTable) return;\n",
              "\n",
              "          const docLinkHtml = 'Like what you see? Visit the ' +\n",
              "            '<a target=\"_blank\" href=https://colab.research.google.com/notebooks/data_table.ipynb>data table notebook</a>'\n",
              "            + ' to learn more about interactive tables.';\n",
              "          element.innerHTML = '';\n",
              "          dataTable['output_type'] = 'display_data';\n",
              "          await google.colab.output.renderOutput(dataTable, element);\n",
              "          const docLink = document.createElement('div');\n",
              "          docLink.innerHTML = docLinkHtml;\n",
              "          element.appendChild(docLink);\n",
              "        }\n",
              "      </script>\n",
              "    </div>\n",
              "  </div>\n",
              "  "
            ],
            "text/plain": [
              "                  pid  ...                                               GRet\n",
              "0    {'name': 'uoms'}  ...  {'La': False, 'Su': False, 'Mo': False, 'Ma': ...\n",
              "1  {'name': 'raohlo'}  ...  {'La': False, 'Su': False, 'Mo': False, 'Ma': ...\n",
              "\n",
              "[2 rows x 3 columns]"
            ]
          },
          "metadata": {},
          "execution_count": 6
        }
      ]
    },
    {
      "cell_type": "markdown",
      "source": [
        "#Utility Functions"
      ],
      "metadata": {
        "id": "wjz6GD2NBimy"
      }
    },
    {
      "cell_type": "code",
      "source": [
        "#converting dict{ionary} to list and back\n",
        "\n",
        "d2l = lambda dic: [(k, v) for (k, v) in dic.items()]\n",
        "l2d = lambda lis: dict(lis)\n",
        "\n",
        "#converts a Rashi number to the Rashi name\n",
        "#\n",
        "RashiName = [\"RashiName\",\"Ari\",\"Tau\",\"Gem\",\"Can\",\"Leo\",\"Vir\",\"Lib\",\"Sco\",\"Sag\",\"Cap\",\"Acq\",\"Pis\"]\n",
        "def RashiN2A(n):\n",
        "    return RashiName[n]"
      ],
      "metadata": {
        "id": "HFkTgTi6D0B2"
      },
      "execution_count": 7,
      "outputs": []
    },
    {
      "cell_type": "markdown",
      "source": [
        "##Chart Drawing"
      ],
      "metadata": {
        "id": "OWca69rGRy4v"
      }
    },
    {
      "cell_type": "code",
      "source": [
        "def generateChartTxt():\n",
        "    global txt\n",
        "    txt = ['']*13\n",
        "    for g,r in GRashiN.items():\n",
        "        if r == 1:\n",
        "            txt[1]= txt[1]+' '+g+('/R' if GRet[g] else '')\n",
        "        if r == 2:\n",
        "            txt[2]= txt[2]+' '+g+('/R' if GRet[g] else '')\n",
        "        if r == 3:\n",
        "            txt[3]= txt[3]+' '+g+('/R' if GRet[g] else '')\n",
        "        if r == 4:\n",
        "            txt[4]= txt[4]+' '+g+('/R' if GRet[g] else '')\n",
        "        if r == 5:\n",
        "            txt[5]= txt[5]+' '+g+('/R' if GRet[g] else '')\n",
        "        if r == 6:\n",
        "            txt[6]= txt[6]+' '+g+('/R' if GRet[g] else '')\n",
        "        if r == 7:\n",
        "            txt[7]= txt[7]+' '+g+('/R' if GRet[g] else '')\n",
        "        if r == 8:\n",
        "            txt[8]= txt[8]+' '+g+('/R' if GRet[g] else '')\n",
        "        if r == 9:\n",
        "            txt[9]= txt[9]+' '+g+('/R' if GRet[g] else '')\n",
        "        if r == 10:\n",
        "            txt[10]= txt[10]+' '+g+('/R' if GRet[g] else '')\n",
        "        if r == 11:\n",
        "            txt[11]= txt[11]+' '+g+('/R' if GRet[g] else '')\n",
        "        if r == 12:\n",
        "            txt[12]= txt[12]+' '+g+('/R' if GRet[g] else '')\n",
        "            \n",
        "    for i in range(1,13):\n",
        "        if len(txt[i]) == 0:\n",
        "            txt[i] = '*'\n",
        "#print(txt[1],txt[2],txt[3],txt[4],txt[5],txt[6],txt[7],txt[8],txt[9],txt[10],txt[11],txt[12],)\n",
        "\n",
        "# Plots the chart in the Bengal Format\n",
        "\n",
        "\n",
        "def drawChart_Bengal():\n",
        "\n",
        "    ChartFile = pName+ChartType+'.png'\n",
        "    generateChartTxt()\n",
        "\n",
        "    #id = ChartType+'\\n'+pName+'\\n'+pDate+'\\n'+pTime+'\\n'+pPlace\n",
        "    id = ChartType+'\\n'+pName\n",
        "    if ChartType == 'Rashi':\n",
        "        ChartColour = 'orange'\n",
        "    else:\n",
        "        ChartColour = 'olive'\n",
        "    \n",
        "        \n",
        "    #plt.figure(figsize=(7,7))\n",
        "    plt.figure(figsize=(7,7),facecolor=ChartColour)\n",
        "    \n",
        "    plt.axis('off')\n",
        "\n",
        "    # draw vertical line \n",
        "    plt.plot([30, 30], [0, 90], 'k-', lw=2)\n",
        "    plt.plot([60, 60], [0, 90], 'k-', lw=2)\n",
        "\n",
        "    # draw horizontal line \n",
        "    plt.plot([0, 90], [30, 30], 'k-', lw=2)\n",
        "    plt.plot([0, 90], [60, 60], 'k-', lw=2)\n",
        "\n",
        "    #draw diagonal lines\n",
        "    plt.plot([60,90],[60,90], 'k-', lw=2)\n",
        "    plt.plot([0,30],[90,60], 'k-', lw=2)\n",
        "    plt.plot([0,30],[90,60], 'k-', lw=2)\n",
        "    plt.plot([0,30],[0,30], 'k-', lw=2)\n",
        "    plt.plot([60,90],[30,0], 'k-', lw=2)\n",
        "\n",
        "    plt.text(32, 38, id, fontsize=12)\n",
        "\n",
        "    plt.text(32, 82, txt[1], fontsize=12)\n",
        "    plt.text(8, 82, txt[2], fontsize=12)\n",
        "    plt.text(2, 62, txt[3], fontsize=12)\n",
        "    plt.text(2, 45, txt[4], fontsize=12)\n",
        "    plt.text(2, 25, txt[5], fontsize=12)\n",
        "    plt.text(8, 5, txt[6], fontsize=12)\n",
        "    plt.text(32, 5, txt[7], fontsize=12)\n",
        "    plt.text(62, 5, txt[8], fontsize=12)\n",
        "    plt.text(68, 25, txt[9], fontsize=12)\n",
        "    plt.text(68, 45, txt[10], fontsize=12)\n",
        "    plt.text(68, 62, txt[11], fontsize=12)\n",
        "    plt.text(62, 82, txt[12], fontsize=12)\n",
        "\n",
        "    \n",
        "    #plt.savefig(\"CurrentChart.png\", bbox_inches='tight')\n",
        "    plt.savefig(ChartFile, bbox_inches='tight')\n",
        "    plt.show()\n",
        "\n",
        "    \n",
        "print (\"drawChart_Bengal defined\")\n"
      ],
      "metadata": {
        "colab": {
          "base_uri": "https://localhost:8080/"
        },
        "id": "tH9J0lwJD5HX",
        "outputId": "a2ef5fd8-7ce2-4904-9f42-889dc6360f01"
      },
      "execution_count": 8,
      "outputs": [
        {
          "output_type": "stream",
          "name": "stdout",
          "text": [
            "drawChart_Bengal defined\n"
          ]
        }
      ]
    },
    {
      "cell_type": "markdown",
      "source": [
        "##Location of Graha in Rashi"
      ],
      "metadata": {
        "id": "sAb30Lz5EFFJ"
      }
    },
    {
      "cell_type": "code",
      "source": [
        "# Convert the longitude of a Graha into its Rashi of residence\n",
        "#\n",
        "# Navamsa is different\n",
        "# http://www.oocities.org/talk2astrologer/LearnAstrology/Details/Navamsa.html\n",
        "#\n",
        "# the logic for placing a Graha in a 'Navamsa' Rashi is as follows\n",
        "# starting from Longitude 0 [ 'Normal' Aries / Mesha start point]\n",
        "# upto Longitude 360, we divide the longitudes in 108 partitions with each \n",
        "# partition being 3.33333 degrees. These 108 partitions are now numbered \n",
        "# sequentially, except that once we reach 12, the next partition is 1, not\n",
        "# 13. So we have 9 sequences running from 1 - 12 each. The number corresponding\n",
        "# to the partition where the Graha falls is the Navamsa Rashi of the Graha\n",
        "\n",
        "\n",
        "def Long2Rashi(x):\n",
        "    if ChartType == 'Rashi':\n",
        "        RashiNumber = math.floor(x[1]/30)+1\n",
        "        return x[0],RashiNumber\n",
        "    if ChartType == 'Navamsa':\n",
        "        N1 = math.floor(x[1]/3.333333)+1\n",
        "        N2 = N1%12\n",
        "        if N2 == 0:\n",
        "            RashiNumber = 12\n",
        "        else:\n",
        "            RashiNumber = N2\n",
        "        return x[0],RashiNumber\n",
        "\n",
        "def LocateGrahaInRashi():\n",
        "    global GRashiN, GRashiA\n",
        "    #Defines the Horoscope in terms of locating planets in their Rashis\n",
        "    #\n",
        "    GRashiN = l2d(list(map(lambda x : Long2Rashi(x), d2l(GLon))))\n",
        "    print(GRashiN)\n",
        "\n",
        "    GRashiA = {}\n",
        "    for k,v in GRashiN.items():\n",
        "        GRashiA[k] = RashiN2A(v)\n",
        "        \n",
        "    print(GRashiA)"
      ],
      "metadata": {
        "id": "w5-pSOHiEM2A"
      },
      "execution_count": 10,
      "outputs": []
    },
    {
      "cell_type": "markdown",
      "source": [
        "#Analysis Procedures"
      ],
      "metadata": {
        "id": "6ZEpXLL12Pgk"
      }
    },
    {
      "cell_type": "code",
      "source": [
        "def parseChartData(c):\n",
        "    global GLon, GRet, pName\n",
        "    GLon = c['GLon']\n",
        "    GRet = c['GRet']\n",
        "    pid = c['pid']\n",
        "    pName = pid['name']\n",
        "    "
      ],
      "metadata": {
        "id": "5jaokY2B3dcB"
      },
      "execution_count": 11,
      "outputs": []
    },
    {
      "cell_type": "code",
      "source": [
        "def processChart(c):\n",
        "    parseChartData(c)\n",
        "    LocateGrahaInRashi()\n",
        "    drawChart_Bengal()\n",
        "    #print(c)"
      ],
      "metadata": {
        "id": "F-upyZOi2O5n"
      },
      "execution_count": 12,
      "outputs": []
    },
    {
      "cell_type": "markdown",
      "source": [
        "#Driver Code"
      ],
      "metadata": {
        "id": "LMA40MOq1jse"
      }
    },
    {
      "cell_type": "code",
      "source": [
        "ChartType = 'Rashi'"
      ],
      "metadata": {
        "id": "y0Lfk5hzSKn9"
      },
      "execution_count": 13,
      "outputs": []
    },
    {
      "cell_type": "code",
      "source": [
        "for chart in range(len(df)):\n",
        "    chartData =df.iloc[chart]\n",
        "    processChart(chartData)\n",
        "    print('----')\n",
        "    "
      ],
      "metadata": {
        "colab": {
          "base_uri": "https://localhost:8080/",
          "height": 909
        },
        "id": "GsBz42g61mpE",
        "outputId": "59f71b85-d36e-4056-cf5f-d1ee911e4cd4"
      },
      "execution_count": 14,
      "outputs": [
        {
          "output_type": "stream",
          "name": "stdout",
          "text": [
            "{'La': 4, 'Su': 6, 'Mo': 9, 'Ma': 7, 'Me': 7, 'Ju': 10, 'Ve': 6, 'Sa': 10, 'Ra': 5, 'Ke': 11}\n",
            "{'La': 'Can', 'Su': 'Vir', 'Mo': 'Sag', 'Ma': 'Lib', 'Me': 'Lib', 'Ju': 'Cap', 'Ve': 'Vir', 'Sa': 'Cap', 'Ra': 'Leo', 'Ke': 'Acq'}\n"
          ]
        },
        {
          "output_type": "display_data",
          "data": {
            "image/png": "[encoded data removed]",
            "text/plain": [
              "<Figure size 504x504 with 1 Axes>"
            ]
          },
          "metadata": {}
        },
        {
          "output_type": "stream",
          "name": "stdout",
          "text": [
            "----\n",
            "{'La': 3, 'Su': 6, 'Mo': 3, 'Ma': 2, 'Me': 6, 'Ju': 4, 'Ve': 6, 'Sa': 9, 'Ra': 10, 'Ke': 4}\n",
            "{'La': 'Gem', 'Su': 'Vir', 'Mo': 'Gem', 'Ma': 'Tau', 'Me': 'Vir', 'Ju': 'Can', 'Ve': 'Vir', 'Sa': 'Sag', 'Ra': 'Cap', 'Ke': 'Can'}\n"
          ]
        },
        {
          "output_type": "display_data",
          "data": {
            "image/png": "[encoded data removed]",
            "text/plain": [
              "<Figure size 504x504 with 1 Axes>"
            ]
          },
          "metadata": {}
        },
        {
          "output_type": "stream",
          "name": "stdout",
          "text": [
            "----\n"
          ]
        }
      ]
    }
  ]
}