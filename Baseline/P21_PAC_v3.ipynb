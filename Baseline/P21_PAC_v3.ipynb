{
  "nbformat": 4,
  "nbformat_minor": 0,
  "metadata": {
    "colab": {
      "name": "P21_PAC_v3",
      "provenance": [],
      "collapsed_sections": [],
      "include_colab_link": true
    },
    "kernelspec": {
      "name": "python3",
      "display_name": "Python 3"
    }
  },
  "cells": [
    {
      "cell_type": "markdown",
      "metadata": {
        "id": "view-in-github",
        "colab_type": "text"
      },
      "source": [
        "<a href=\"https://colab.research.google.com/github/prithwis/parashar21/blob/main/P21_PAC_v3.ipynb\" target=\"_parent\"><img src=\"https://colab.research.google.com/assets/colab-badge.svg\" alt=\"Open In Colab\"/></a>"
      ]
    },
    {
      "cell_type": "markdown",
      "metadata": {
        "id": "gqIORdPPF0HE"
      },
      "source": [
        "![alt text](http://1.bp.blogspot.com/_5QlanosqxiQ/SXLOLTu7S7I/AAAAAAAAAm8/0r6C7lCxsic/S1600-R/p21-header-003.png) <br>\n",
        "\n",
        "\n",
        "---\n",
        "\n",
        "\n",
        "![CC-BY-SA](https://licensebuttons.net/l/by-sa/3.0/88x31.png) ||\n",
        "[Prithwis Mukerjee](http://www.yantrajaal.com) ||\n",
        "Website - [Parashar21](https://parashar21.blogspot.com)<br>"
      ]
    },
    {
      "cell_type": "markdown",
      "metadata": {
        "id": "MyVyVnmO-KXE"
      },
      "source": [
        "#Install, Import"
      ]
    },
    {
      "cell_type": "code",
      "metadata": {
        "id": "Qjv9nzNc-NVp",
        "colab": {
          "base_uri": "https://localhost:8080/"
        },
        "outputId": "605f9b2b-f998-4ab8-ca9b-da1ab8d633f6"
      },
      "source": [
        "#https://python-docx.readthedocs.io/en/latest/\n",
        "!pip install python-docx \n",
        "\n"
      ],
      "execution_count": 1,
      "outputs": [
        {
          "output_type": "stream",
          "name": "stdout",
          "text": [
            "Collecting python-docx\n",
            "  Downloading python-docx-0.8.11.tar.gz (5.6 MB)\n",
            "\u001b[K     |████████████████████████████████| 5.6 MB 4.6 MB/s \n",
            "\u001b[?25hRequirement already satisfied: lxml>=2.3.2 in /usr/local/lib/python3.7/dist-packages (from python-docx) (4.2.6)\n",
            "Building wheels for collected packages: python-docx\n",
            "  Building wheel for python-docx (setup.py) ... \u001b[?25l\u001b[?25hdone\n",
            "  Created wheel for python-docx: filename=python_docx-0.8.11-py3-none-any.whl size=184508 sha256=c854d939c1031c10ccfdd056fe0b87b4696840b5ab678f090749612dea9e719c\n",
            "  Stored in directory: /root/.cache/pip/wheels/f6/6f/b9/d798122a8b55b74ad30b5f52b01482169b445fbb84a11797a6\n",
            "Successfully built python-docx\n",
            "Installing collected packages: python-docx\n",
            "Successfully installed python-docx-0.8.11\n"
          ]
        }
      ]
    },
    {
      "cell_type": "code",
      "metadata": {
        "id": "sO1qg90zAzOy"
      },
      "source": [
        "#import functools\n",
        "import math\n",
        "import numbers\n",
        "import json\n",
        "import matplotlib.pyplot as plt\n",
        "from docx import Document\n",
        "from docx.shared import Inches\n",
        "from datetime import datetime\n",
        "from datetime import timedelta"
      ],
      "execution_count": 2,
      "outputs": []
    },
    {
      "cell_type": "code",
      "metadata": {
        "id": "nddST3RpDRsR"
      },
      "source": [
        "#Beginning of List\n",
        "BoL = ' '"
      ],
      "execution_count": 15,
      "outputs": []
    },
    {
      "cell_type": "markdown",
      "metadata": {
        "id": "kcck8PnhF_aa"
      },
      "source": [
        "References <br>\n",
        "1. KNRao & KARao - Learning Hindu Astrology Easily LHAE"
      ]
    },
    {
      "cell_type": "code",
      "metadata": {
        "id": "L_0wzwZ7WTL7"
      },
      "source": [
        "#Horoscope is defined in terms of Natal Longitudes and Retrogrades\n",
        "#This data will either be entered manually from any other source or read from a .py21 file built by the Parashar21 program\n",
        "#\n",
        "# person #1\n",
        "#GLon = {\"La\":98.5,\"Su\":178.9,\"Mo\":250.6,\"Ma\":196.2,\"Me\":193.2,\"Ju\":274.8,\"Ve\":153.8,\"Sa\":270.2,\"Ra\":122.1,\"Ke\":302.1}\n",
        "#GRet = {\"La\":False,\"Su\":False,\"Mo\":False,\"Ma\":False,\"Me\":True,\"Ju\":False,\"Ve\":False,\"Sa\":False,\"Ra\":True,\"Ke\":True}\n",
        "# person #2\n",
        "#GLon = {\"La\":310.4,\"Su\":243.7,\"Mo\":201.0,\"Ma\":273.5,\"Me\":222.3,\"Ju\":62.8,\"Ve\":285.0,\"Sa\":318.2,\"Ra\":41.3,\"Ke\":221.3}\n",
        "#GRet = {\"La\":False,\"Su\":False,\"Mo\":False,\"Ma\":False,\"Me\":False,\"Ju\":True,\"Ve\":False,\"Sa\":False,\"Ra\":True,\"Ke\":True}"
      ],
      "execution_count": 3,
      "outputs": []
    },
    {
      "cell_type": "markdown",
      "metadata": {
        "id": "idhVNQrLqPy6"
      },
      "source": [
        "p21 files containg Horoscope data can be built using [Parashar21- Cast](https://colab.research.google.com/drive/1SkUWu_AED385c3a-D-4OFMICwEA3dhid) notebook"
      ]
    },
    {
      "cell_type": "code",
      "metadata": {
        "id": "5pTGVsUtaeGu",
        "colab": {
          "base_uri": "https://localhost:8080/"
        },
        "outputId": "84610cb6-a75b-47e9-ce98-3c49fe8e7c7e"
      },
      "source": [
        "# Mount G-drive and load py21 files \n",
        "from google.colab import drive\n",
        "drive.mount('/content/drive')"
      ],
      "execution_count": 4,
      "outputs": [
        {
          "output_type": "stream",
          "name": "stdout",
          "text": [
            "Mounted at /content/drive\n"
          ]
        }
      ]
    },
    {
      "cell_type": "code",
      "metadata": {
        "id": "7Obmaf9Gv9-j",
        "colab": {
          "base_uri": "https://localhost:8080/"
        },
        "outputId": "c98a08e3-53ce-423f-df9d-8ce3c1b250c6"
      },
      "source": [
        "#!cp /content/drive/\"My Drive\"/Personal/Parashar21/py21-files/*.py21 .\n",
        "!cp /content/drive/\"My Drive\"/Prithwis/Parashar21/py21-files/*.py21 .\n",
        "!ls *.py21"
      ],
      "execution_count": 5,
      "outputs": [
        {
          "output_type": "stream",
          "name": "stdout",
          "text": [
            "DaVinci.py21  itAnch.py21  niCha01.py21  wrCal02.py21\n",
            "imCal02.py21  NDModi.py21  pmCal02.py21\n"
          ]
        }
      ]
    },
    {
      "cell_type": "markdown",
      "metadata": {
        "id": "gBIW18wlq3_F"
      },
      "source": [
        "#Utility Functions"
      ]
    },
    {
      "cell_type": "code",
      "metadata": {
        "id": "TwXzA0rIXZEL",
        "colab": {
          "base_uri": "https://localhost:8080/"
        },
        "outputId": "05222694-81cc-4441-bd0a-e5e844b706fd"
      },
      "source": [
        "#converting dict{ionary} to list and back\n",
        "\n",
        "d2l = lambda dic: [(k, v) for (k, v) in dic.items()]\n",
        "l2d = lambda lis: dict(lis)\n",
        "\n",
        "# Plots the chart in the Bengal Format\n",
        "\n",
        "#ChartFile = pName+ChartType+'.png'\n",
        "\n",
        "def drawChart_Bengal():\n",
        "\n",
        "    id = ChartType+'\\n'+pName+'\\n'+pDate+'\\n'+pTime+'\\n'+pPlace\n",
        "    if ChartType == 'Rashi':\n",
        "        ChartColour = 'orange'\n",
        "    else:\n",
        "        ChartColour = 'olive'\n",
        "    \n",
        "        \n",
        "    #plt.figure(figsize=(7,7))\n",
        "    plt.figure(figsize=(7,7),facecolor=ChartColour)\n",
        "    \n",
        "    plt.axis('off')\n",
        "\n",
        "    # draw vertical line \n",
        "    plt.plot([30, 30], [0, 90], 'k-', lw=2)\n",
        "    plt.plot([60, 60], [0, 90], 'k-', lw=2)\n",
        "\n",
        "    # draw horizontal line \n",
        "    plt.plot([0, 90], [30, 30], 'k-', lw=2)\n",
        "    plt.plot([0, 90], [60, 60], 'k-', lw=2)\n",
        "\n",
        "    #draw diagonal lines\n",
        "    plt.plot([60,90],[60,90], 'k-', lw=2)\n",
        "    plt.plot([0,30],[90,60], 'k-', lw=2)\n",
        "    plt.plot([0,30],[90,60], 'k-', lw=2)\n",
        "    plt.plot([0,30],[0,30], 'k-', lw=2)\n",
        "    plt.plot([60,90],[30,0], 'k-', lw=2)\n",
        "\n",
        "    plt.text(32, 38, id, fontsize=12)\n",
        "\n",
        "    plt.text(32, 82, txt[1], fontsize=12)\n",
        "    plt.text(8, 82, txt[2], fontsize=12)\n",
        "    plt.text(2, 62, txt[3], fontsize=12)\n",
        "    plt.text(2, 45, txt[4], fontsize=12)\n",
        "    plt.text(2, 25, txt[5], fontsize=12)\n",
        "    plt.text(8, 5, txt[6], fontsize=12)\n",
        "    plt.text(32, 5, txt[7], fontsize=12)\n",
        "    plt.text(62, 5, txt[8], fontsize=12)\n",
        "    plt.text(68, 25, txt[9], fontsize=12)\n",
        "    plt.text(68, 45, txt[10], fontsize=12)\n",
        "    plt.text(68, 62, txt[11], fontsize=12)\n",
        "    plt.text(62, 82, txt[12], fontsize=12)\n",
        "\n",
        "    \n",
        "    plt.savefig(\"CurrentChart.png\", bbox_inches='tight')\n",
        "    plt.show()\n",
        "\n",
        "    \n",
        "print (\"drawChart_Bengal defined\")\n",
        "\n"
      ],
      "execution_count": 6,
      "outputs": [
        {
          "output_type": "stream",
          "name": "stdout",
          "text": [
            "drawChart_Bengal defined\n"
          ]
        }
      ]
    },
    {
      "cell_type": "markdown",
      "metadata": {
        "id": "XlxbnMvdgceK"
      },
      "source": [
        "#Read Data File <br>\n",
        "after setting the input file name in the next cell, all cells after this current cell can be run in one shot, if so desired"
      ]
    },
    {
      "cell_type": "code",
      "metadata": {
        "id": "Wdx_IOMDgjnx"
      },
      "source": [
        "#Define Input File \n",
        "\n",
        "#f2 = open(\"wrCal02.py21\",\"r\")\n",
        "#f2 = open(\"niCha01.py21\",\"r\")\n",
        "#f2 = open(\"pmCal02.py21\",\"r\")\n",
        "#f2 = open(\"imCal02.py21\",\"r\")\n",
        "f2 = open(\"NDModi.py21\",\"r\")\n",
        "#f2 = open(\"itAnch.py21\",\"r\")"
      ],
      "execution_count": 7,
      "outputs": []
    },
    {
      "cell_type": "code",
      "metadata": {
        "id": "B97npDmoJIo7",
        "colab": {
          "base_uri": "https://localhost:8080/"
        },
        "outputId": "85ad9061-bf6a-4b2a-ab0f-7c6ebccdaaaa"
      },
      "source": [
        "#Horoscope is defined in terms of Natal Longitudes and Retrogrades\n",
        "#This data will either be entered manually or read from a file created by Ephemeris program\n",
        "#\n",
        "\n",
        "GLon = {}\n",
        "GRet = {}\n",
        "\n",
        "l = 1\n",
        "for line in f2:\n",
        "  if l == 1:\n",
        "    fields = line.split(',')\n",
        "    for O in range(10):\n",
        "        k = fields[O][:2]\n",
        "        v = fields[O][3:]\n",
        "        #print(k,v)\n",
        "        GLon[k] = float(v)\n",
        "    l=l+1\n",
        "  elif l == 2:\n",
        "    fields = line.split(',')\n",
        "    for O in range(10):\n",
        "        k = fields[O][:2]\n",
        "        v = fields[O][3:]\n",
        "        #print(k,v)\n",
        "        GRet[k] = bool(v == 'True')\n",
        "    l=l+1\n",
        "  else:\n",
        "    fields = line.split(';')\n",
        "    for O in range(3):\n",
        "        pName = fields[0]\n",
        "        pDate = fields[1]\n",
        "        pTime = fields[2]\n",
        "        pPlace = fields[3]\n",
        "        #print(k,v)\n",
        "        \n",
        "  \n",
        "print(GLon)\n",
        "print(GRet)\n",
        "print(pName,pDate,pTime,pPlace)"
      ],
      "execution_count": 8,
      "outputs": [
        {
          "output_type": "stream",
          "name": "stdout",
          "text": [
            "{'La': 191.213, 'Su': 150.533, 'Mo': 217.939, 'Ma': 210.889, 'Me': 150.848, 'Ju': 306.602, 'Ve': 135.613, 'Sa': 149.644, 'Ra': 335.211, 'Ke': 155.211}\n",
            "{'La': False, 'Su': False, 'Mo': False, 'Ma': False, 'Me': True, 'Ju': True, 'Ve': False, 'Sa': False, 'Ra': False, 'Ke': False}\n",
            "NDModi 1950-9-17 9:34 Vadnagar, India\n"
          ]
        }
      ]
    },
    {
      "cell_type": "markdown",
      "metadata": {
        "id": "8VlEXzpVWM8v"
      },
      "source": [
        "# Primary Calculations"
      ]
    },
    {
      "cell_type": "markdown",
      "metadata": {
        "id": "7f6u6u-5YTfr"
      },
      "source": [
        "##Navamsa or Rashichakra ?"
      ]
    },
    {
      "cell_type": "code",
      "metadata": {
        "id": "FRgaUgIEpYoS"
      },
      "source": [
        "#Specify the kind of chart to be created, analysed\n",
        "\n",
        "#ChartType = 'Navamsa'\n",
        "ChartType = 'Rashi'\n",
        "\n",
        "\n",
        "#converts a Rashi number to the Rashi name\n",
        "#\n",
        "RashiName = [\"RashiName\",\"Ari\",\"Tau\",\"Gem\",\"Can\",\"Leo\",\"Vir\",\"Lib\",\"Sco\",\"Sag\",\"Cap\",\"Acq\",\"Pis\"]\n",
        "def RashiN2A(n):\n",
        "    return RashiName[n]"
      ],
      "execution_count": 9,
      "outputs": []
    },
    {
      "cell_type": "markdown",
      "metadata": {
        "id": "w7HUGFPTUQCs"
      },
      "source": [
        "##Location of Graha in Rashi"
      ]
    },
    {
      "cell_type": "code",
      "metadata": {
        "id": "ih-dL_IEpPgp"
      },
      "source": [
        "# Convert the longitude of a Graha into its Rashi of residence\n",
        "#\n",
        "# Navamsa is different\n",
        "# http://www.oocities.org/talk2astrologer/LearnAstrology/Details/Navamsa.html\n",
        "#\n",
        "# the logic for placing a Graha in a 'Navamsa' Rashi is as follows\n",
        "# starting from Longitude 0 [ 'Normal' Aries / Mesha start point]\n",
        "# upto Longitude 360, we divide the longitudes in 108 partitions with each \n",
        "# partition being 3.33333 degrees. These 108 partitions are now numbered \n",
        "# sequentially, except that once we reach 12, the next partition is 1, not\n",
        "# 13. So we have 9 sequences running from 1 - 12 each. The number corresponding\n",
        "# to the partition where the Graha falls is the Navamsa Rashi of the Graha\n",
        "\n",
        "\n",
        "def Long2Rashi(x):\n",
        "    if ChartType == 'Rashi':\n",
        "        RashiNumber = math.floor(x[1]/30)+1\n",
        "        return x[0],RashiNumber\n",
        "    if ChartType == 'Navamsa':\n",
        "        N1 = math.floor(x[1]/3.333333)+1\n",
        "        N2 = N1%12\n",
        "        if N2 == 0:\n",
        "            RashiNumber = 12\n",
        "        else:\n",
        "            RashiNumber = N2\n",
        "        return x[0],RashiNumber\n",
        "   \n",
        "    "
      ],
      "execution_count": 10,
      "outputs": []
    },
    {
      "cell_type": "code",
      "metadata": {
        "id": "Tz5-LgPmz0dT",
        "colab": {
          "base_uri": "https://localhost:8080/"
        },
        "outputId": "ad7f582d-ec18-45ff-c7e3-400eb633bd17"
      },
      "source": [
        "#Defines the Horoscope in terms of locating planets in their Rashis\n",
        "#\n",
        "GRashiN = l2d(list(map(lambda x : Long2Rashi(x), d2l(GLon))))\n",
        "print(GRashiN)\n",
        "\n",
        "GRashiA = {}\n",
        "for k,v in GRashiN.items():\n",
        "    GRashiA[k] = RashiN2A(v)\n",
        "    \n",
        "print(GRashiA)\n"
      ],
      "execution_count": 11,
      "outputs": [
        {
          "output_type": "stream",
          "name": "stdout",
          "text": [
            "{'La': 7, 'Su': 6, 'Mo': 8, 'Ma': 8, 'Me': 6, 'Ju': 11, 'Ve': 5, 'Sa': 5, 'Ra': 12, 'Ke': 6}\n",
            "{'La': 'Lib', 'Su': 'Vir', 'Mo': 'Sco', 'Ma': 'Sco', 'Me': 'Vir', 'Ju': 'Acq', 'Ve': 'Leo', 'Sa': 'Leo', 'Ra': 'Pis', 'Ke': 'Vir'}\n"
          ]
        }
      ]
    },
    {
      "cell_type": "markdown",
      "metadata": {
        "id": "z2rbQACXZ9iJ"
      },
      "source": [
        "## Draw Chart"
      ]
    },
    {
      "cell_type": "code",
      "metadata": {
        "id": "8QfGCqlqZtWL"
      },
      "source": [
        "txt = ['']*13\n",
        "for g,r in GRashiN.items():\n",
        "    if r == 1:\n",
        "        txt[1]= txt[1]+' '+g+('/R' if GRet[g] else '')\n",
        "    if r == 2:\n",
        "        txt[2]= txt[2]+' '+g+('/R' if GRet[g] else '')\n",
        "    if r == 3:\n",
        "        txt[3]= txt[3]+' '+g+('/R' if GRet[g] else '')\n",
        "    if r == 4:\n",
        "        txt[4]= txt[4]+' '+g+('/R' if GRet[g] else '')\n",
        "    if r == 5:\n",
        "        txt[5]= txt[5]+' '+g+('/R' if GRet[g] else '')\n",
        "    if r == 6:\n",
        "        txt[6]= txt[6]+' '+g+('/R' if GRet[g] else '')\n",
        "    if r == 7:\n",
        "        txt[7]= txt[7]+' '+g+('/R' if GRet[g] else '')\n",
        "    if r == 8:\n",
        "        txt[8]= txt[8]+' '+g+('/R' if GRet[g] else '')\n",
        "    if r == 9:\n",
        "        txt[9]= txt[9]+' '+g+('/R' if GRet[g] else '')\n",
        "    if r == 10:\n",
        "        txt[10]= txt[10]+' '+g+('/R' if GRet[g] else '')\n",
        "    if r == 11:\n",
        "        txt[11]= txt[11]+' '+g+('/R' if GRet[g] else '')\n",
        "    if r == 12:\n",
        "        txt[12]= txt[12]+' '+g+('/R' if GRet[g] else '')\n",
        "        \n",
        "for i in range(1,13):\n",
        "    if len(txt[i]) == 0:\n",
        "        txt[i] = '*'\n",
        "#print(txt[1],txt[2],txt[3],txt[4],txt[5],txt[6],txt[7],txt[8],txt[9],txt[10],txt[11],txt[12],)"
      ],
      "execution_count": 12,
      "outputs": []
    },
    {
      "cell_type": "code",
      "metadata": {
        "id": "19B_LPEM-ahj",
        "colab": {
          "base_uri": "https://localhost:8080/",
          "height": 411
        },
        "outputId": "dc74d04f-ef7a-43df-cbe4-5b3c50ca39c9"
      },
      "source": [
        "drawChart_Bengal()\n"
      ],
      "execution_count": 13,
      "outputs": [
        {
          "output_type": "display_data",
          "data": {
            "image/png": "[encoded data removed]",
            "text/plain": [
              "<Figure size 504x504 with 1 Axes>"
            ]
          },
          "metadata": {}
        }
      ]
    },
    {
      "cell_type": "markdown",
      "metadata": {
        "id": "VaZ-IdJXUXxt"
      },
      "source": [
        "##Identifying Bhavs or Houses"
      ]
    },
    {
      "cell_type": "code",
      "metadata": {
        "id": "aS0Ye8jOmRJ8",
        "colab": {
          "base_uri": "https://localhost:8080/"
        },
        "outputId": "4d774bf5-ac11-4730-87aa-5cd29ced6e09"
      },
      "source": [
        "#Determines and stores the Bhava in list BhavN\n",
        "#BhavN[1] has Rashi Number corresponding to First Bhav\n",
        "#BhavA[2] has the Rashi name corresponding to Second Bhava\n",
        "#\n",
        "BhavN = [BoL]\n",
        "for ix in range(1,13):\n",
        "    if ix == 1:\n",
        "        BhavN.append(GRashiN['La'])\n",
        "    else:\n",
        "        N = BhavN[ix-1]+1\n",
        "        if N > 12:\n",
        "            N = N - 12\n",
        "        BhavN.append(N)\n",
        "    \n",
        "print(BhavN)\n",
        "BhavA = list(map(lambda x : RashiN2A(x) if isinstance(x, numbers.Integral) else BoL, BhavN))\n",
        "#print(list(map(lambda x : x, BhavN)))\n",
        "print(BhavA)"
      ],
      "execution_count": 16,
      "outputs": [
        {
          "output_type": "stream",
          "name": "stdout",
          "text": [
            "[' ', 7, 8, 9, 10, 11, 12, 1, 2, 3, 4, 5, 6]\n",
            "[' ', 'Lib', 'Sco', 'Sag', 'Cap', 'Acq', 'Pis', 'Ari', 'Tau', 'Gem', 'Can', 'Leo', 'Vir']\n"
          ]
        }
      ]
    },
    {
      "cell_type": "code",
      "metadata": {
        "id": "W4GhbW1uAAPQ",
        "colab": {
          "base_uri": "https://localhost:8080/"
        },
        "outputId": "09fe0171-c82b-440e-9cd2-5e9beaf82c78"
      },
      "source": [
        "#Determines the Lord of each Bhava\n",
        "#Determines the Rashi number where each Lord resides\n",
        "#Determines the Rashi name where each Lord resides\n",
        "#\n",
        "LordOf = {\"Ari\":\"Ma\",\"Tau\":\"Ve\",\"Gem\":\"Me\",\"Can\":\"Mo\",\"Leo\":\"Su\",\"Vir\":\"Me\",\"Lib\":\"Ve\",\"Sco\":\"Ma\",\"Sag\":\"Ju\",\"Cap\":\"Sa\",\"Acq\":\"Sa\",\"Pis\":\"Ju\"}\n",
        "#print(LordOf)\n",
        "Lord = list(map(lambda x : LordOf[RashiN2A(x)] if isinstance(x, numbers.Integral) else BoL, BhavN))\n",
        "print(\"Lord\\n\", Lord)\n",
        "LordRashiN = list(map(lambda x : GRashiN[x] if x != BoL else BoL, Lord))\n",
        "print(\"Rashi # of Lord\\n\",LordRashiN)\n",
        "LordRashiA = list(map(lambda x : GRashiA[x] if x != BoL else BoL, Lord))\n",
        "print(\"Rashi Name of Lord\\n\",LordRashiA)"
      ],
      "execution_count": 17,
      "outputs": [
        {
          "output_type": "stream",
          "name": "stdout",
          "text": [
            "Lord\n",
            " [' ', 'Ve', 'Ma', 'Ju', 'Sa', 'Sa', 'Ju', 'Ma', 'Ve', 'Me', 'Mo', 'Su', 'Me']\n",
            "Rashi # of Lord\n",
            " [' ', 5, 8, 11, 5, 5, 11, 8, 5, 6, 8, 6, 6]\n",
            "Rashi Name of Lord\n",
            " [' ', 'Leo', 'Sco', 'Acq', 'Leo', 'Leo', 'Acq', 'Sco', 'Leo', 'Vir', 'Sco', 'Vir', 'Vir']\n"
          ]
        }
      ]
    },
    {
      "cell_type": "markdown",
      "metadata": {
        "id": "RIlt1u1lUqCa"
      },
      "source": [
        "##Bhava where each Graha resides"
      ]
    },
    {
      "cell_type": "code",
      "metadata": {
        "id": "mfMnORVhI7c4",
        "colab": {
          "base_uri": "https://localhost:8080/"
        },
        "outputId": "d9b62840-42b7-4d9d-fdf8-7d262e0b4536"
      },
      "source": [
        "#Determines the Bhava where Each planet resides\n",
        "#Lagna always resides in First Bhava\n",
        "#\n",
        "GrahaBhava ={\"La\":1}\n",
        "for G in ('Su','Mo','Ma','Me','Ju','Ve','Sa','Ra','Ke'):\n",
        "    GrahaBhava[G] = BhavN.index(GRashiN[G])\n",
        "print (GrahaBhava)"
      ],
      "execution_count": 18,
      "outputs": [
        {
          "output_type": "stream",
          "name": "stdout",
          "text": [
            "{'La': 1, 'Su': 12, 'Mo': 2, 'Ma': 2, 'Me': 12, 'Ju': 5, 'Ve': 11, 'Sa': 11, 'Ra': 6, 'Ke': 12}\n"
          ]
        }
      ]
    },
    {
      "cell_type": "code",
      "metadata": {
        "id": "W3wwEiZCRBSG",
        "colab": {
          "base_uri": "https://localhost:8080/"
        },
        "outputId": "b9bfabf6-08c2-463d-c654-10c503da6b24"
      },
      "source": [
        "#Determines the Bhav where each Lord resides\n",
        "#\n",
        "\n",
        "LordBhav =[BoL]\n",
        "for L in range (1,13):\n",
        "    LordBhav.append(BhavN.index(GRashiN[Lord[L]]))\n",
        "print(LordBhav)"
      ],
      "execution_count": 19,
      "outputs": [
        {
          "output_type": "stream",
          "name": "stdout",
          "text": [
            "[' ', 11, 2, 5, 11, 11, 5, 2, 11, 12, 2, 12, 12]\n"
          ]
        }
      ]
    },
    {
      "cell_type": "markdown",
      "metadata": {
        "id": "2PjAixeMU3kt"
      },
      "source": [
        "##Bhav where each Graha is Lord"
      ]
    },
    {
      "cell_type": "code",
      "metadata": {
        "id": "ZvGTWaqOZBGW",
        "colab": {
          "base_uri": "https://localhost:8080/"
        },
        "outputId": "d83003df-bbf9-47b6-d9ea-c1a36e0cc2df"
      },
      "source": [
        "#Determines the Bhava where each Graha is Lord\n",
        "#Grahas other than Sun and Moon are Lords of Two Bhava\n",
        "#Since index returns only the first position where an instance is found\n",
        "#A simple index() does not return the second position\n",
        "# https://stackoverflow.com/questions/22267241/how-to-find-the-index-of-the-nth-time-an-item-appears-in-a-list\n",
        "\n",
        "GrahaLordBhav = {}\n",
        "for G in ('Su','Mo','Ma','Me','Ju','Ve','Sa'):\n",
        "        L = [i for i, n in enumerate(Lord) if n == G]\n",
        "        GrahaLordBhav[G] = L\n",
        "print(GrahaLordBhav)"
      ],
      "execution_count": 20,
      "outputs": [
        {
          "output_type": "stream",
          "name": "stdout",
          "text": [
            "{'Su': [11], 'Mo': [10], 'Ma': [2, 7], 'Me': [9, 12], 'Ju': [3, 6], 'Ve': [1, 8], 'Sa': [4, 5]}\n"
          ]
        }
      ]
    },
    {
      "cell_type": "code",
      "metadata": {
        "id": "iRJxFJFVK_9l",
        "colab": {
          "base_uri": "https://localhost:8080/"
        },
        "outputId": "38744b26-21c6-4920-a3e6-7f6b01d31026"
      },
      "source": [
        "#\n",
        "#summary of all data calculated so far\n",
        "#\n",
        "#\n",
        "\n",
        "\n",
        "print(\"Lords\",\"\\n\",Lord)\n",
        "print(\"Rashi Name of Lord\",\"\\n\",LordRashiA)\n",
        "print(\"Bhava of Graha\",\"\\n\",GrahaBhava)\n",
        "print(\"Bhava of Lord\",\"\\n\",LordBhav)\n",
        "print(\"Bhavas where Graha is Lord\",\"\\n\",GrahaLordBhav)\n",
        "\n",
        "#Generating Report\n",
        "# This cell opens a file for writing.\n",
        "# This cell cannot be run again until the cell calling the close file is run\n",
        "#\n",
        "\n",
        "\n",
        "f1 = open(\"CurrentReport.txt\", 'w')\n",
        "\n",
        "def NL():\n",
        "   f1.write(\"\\n\")\n",
        "\n",
        "f1.write(\"Lords of Bhav \\n\")\n",
        "json.dump(Lord, f1)\n",
        "NL()\n",
        "f1.write(\"Rashi Name where Lord Resides \\n\")\n",
        "json.dump(LordRashiA, f1)\n",
        "NL()\n",
        "f1.write(\"Bhav where Graha Resides \\n\")\n",
        "json.dump(GrahaBhava, f1)\n",
        "NL()\n",
        "f1.write(\"Bhav where Lord Resides \\n\")\n",
        "json.dump(LordBhav, f1)\n",
        "NL()\n",
        "#f1.write(json.dumps(GrahaLordBhav))\n",
        "f1.write(\"Bhav where Graha is Lord \\n\")\n",
        "json.dump(GrahaLordBhav, f1)\n",
        "NL()\n",
        "f1.write(\"------------------------------------ \\n\")\n",
        "NL()"
      ],
      "execution_count": 21,
      "outputs": [
        {
          "output_type": "stream",
          "name": "stdout",
          "text": [
            "Lords \n",
            " [' ', 'Ve', 'Ma', 'Ju', 'Sa', 'Sa', 'Ju', 'Ma', 'Ve', 'Me', 'Mo', 'Su', 'Me']\n",
            "Rashi Name of Lord \n",
            " [' ', 'Leo', 'Sco', 'Acq', 'Leo', 'Leo', 'Acq', 'Sco', 'Leo', 'Vir', 'Sco', 'Vir', 'Vir']\n",
            "Bhava of Graha \n",
            " {'La': 1, 'Su': 12, 'Mo': 2, 'Ma': 2, 'Me': 12, 'Ju': 5, 'Ve': 11, 'Sa': 11, 'Ra': 6, 'Ke': 12}\n",
            "Bhava of Lord \n",
            " [' ', 11, 2, 5, 11, 11, 5, 2, 11, 12, 2, 12, 12]\n",
            "Bhavas where Graha is Lord \n",
            " {'Su': [11], 'Mo': [10], 'Ma': [2, 7], 'Me': [9, 12], 'Ju': [3, 6], 'Ve': [1, 8], 'Sa': [4, 5]}\n"
          ]
        }
      ]
    },
    {
      "cell_type": "markdown",
      "metadata": {
        "id": "FnoBtD-RtplD"
      },
      "source": [
        "#Position"
      ]
    },
    {
      "cell_type": "code",
      "metadata": {
        "id": "R_TPKf0IksnK"
      },
      "source": [
        "Graha = ['Su','Mo','Ma','Me','Ju','Ve','Sa']\n",
        "\n",
        "GMalefic = {\"Su\":False,\"Mo\":False,\"Ma\":False,\"Me\":False,\"Ju\":True,\"Ve\":False,\"Sa\":False,\"Ra\":True,\"Ke\":True}"
      ],
      "execution_count": 22,
      "outputs": []
    },
    {
      "cell_type": "code",
      "metadata": {
        "id": "BAn2vvH9GBsW"
      },
      "source": [
        "#rather than print out a whole string of False with One or two trues, this prints only the true values\n",
        "\n",
        "def showTrueDict(text,tDict):\n",
        "    print(text)                 # writes on terminal\n",
        "    f1.write(text+\"\\n\")         # writes in text file\n",
        "    empty = True\n",
        "    for k,v in tDict.items():\n",
        "        if v:\n",
        "            print('-- ',k, text)\n",
        "            filetxt = '-- '+k+' '+text+'\\n'\n",
        "            f1.write(filetxt)\n",
        "            empty = False\n",
        "    if empty:\n",
        "        print('None')\n",
        "        f1.write('None'+'\\n')\n",
        "            \n",
        "def showTrueList(text,tList):\n",
        "    print(text)\n",
        "    f1.write(text+\"\\n\")         # writes in text file\n",
        "    empty = True\n",
        "    for ix,v in enumerate(tList):\n",
        "        if v:\n",
        "            print('-- ',ix, text)\n",
        "            filetxt = '-- '+str(ix)+' '+text+'\\n'\n",
        "            f1.write(filetxt)\n",
        "            empty = False\n",
        "    if empty:\n",
        "        print('None')\n",
        "        f1.write('None'+'\\n')"
      ],
      "execution_count": 23,
      "outputs": []
    },
    {
      "cell_type": "markdown",
      "metadata": {
        "id": "YXK2tFJTT-GX"
      },
      "source": [
        "##isExalted"
      ]
    },
    {
      "cell_type": "code",
      "metadata": {
        "id": "ABCRy7SUDk20"
      },
      "source": [
        "#Range of Exaltation\n",
        "#Ref LHAE - page 30 specifies only certain parts of a Rashi are exalted\n",
        "exaL = {\"La\":999,\"Su\":0,\"Mo\":30,\"Ma\":270,\"Me\":150,\"Ju\":90,\"Ve\":330,\"Sa\":180,\"Ra\":999,\"Ke\":999}  # Lower Bound\n",
        "exaU = {\"La\":999,\"Su\":10,\"Mo\":33,\"Ma\":298,\"Me\":165,\"Ju\":95,\"Ve\":357,\"Sa\":200,\"Ra\":999,\"Ke\":999}  # Upper Bound\n",
        "\n",
        "# Alternatively the entire Rashi can be made exalted \n",
        "\n",
        "exaR = {'La':99,'Su':1, 'Mo':2, 'Ma':10, 'Me':6,'Ju':4,'Ve':12,'Sa':7,'Ra':99,'Ke':99}\n",
        "\n",
        "\n",
        "# the low parameter is used to indicate that the entire Rashi is used for exaltation\n",
        "# the high parameter is used to indicate that only the specific part of the Rashi is used\n",
        "\n",
        "def checkGexa(x,level = 'low'):\n",
        "    if level == 'low':\n",
        "        if GRashiN[x] == exaR[x]:\n",
        "            return x,True\n",
        "        else:\n",
        "            return x,False\n",
        "        \n",
        "    if level == 'high':\n",
        "        lon = GLon[x]\n",
        "        if lon > exaL[x] and lon <= exaU[x]:\n",
        "            return x,True\n",
        "        else:\n",
        "            return x,False\n",
        "    \n",
        "def checkLexa(x):\n",
        "    if x == BoL:\n",
        "        return False\n",
        "    else:\n",
        "        return exaltG[x]"
      ],
      "execution_count": 24,
      "outputs": []
    },
    {
      "cell_type": "code",
      "metadata": {
        "id": "28Hu6q4hEmNm",
        "colab": {
          "base_uri": "https://localhost:8080/"
        },
        "outputId": "a0afe9bb-e0ab-4d4a-d0fa-1b30d92d1bfc"
      },
      "source": [
        "\n",
        "\n",
        "exaltG = l2d(list(map(lambda x: checkGexa(x), Graha)))               # determines if Graha is Exalted\n",
        "\n",
        "exaltL = list(map(lambda x: checkLexa(x),Lord))\n",
        "#print(exaltL)\n",
        "\n",
        "showTrueDict(\"Graha Exalted\", exaltG)\n",
        "showTrueList(\"Lord Exalted\", exaltL)\n",
        "NL()\n",
        "f1.write(\"------------------------------------ \\n\")\n",
        "NL()"
      ],
      "execution_count": 25,
      "outputs": [
        {
          "output_type": "stream",
          "name": "stdout",
          "text": [
            "Graha Exalted\n",
            "--  Me Graha Exalted\n",
            "Lord Exalted\n",
            "--  9 Lord Exalted\n",
            "--  12 Lord Exalted\n"
          ]
        }
      ]
    },
    {
      "cell_type": "markdown",
      "metadata": {
        "id": "m5xQTezNUDH2"
      },
      "source": [
        "##isDebilitated"
      ]
    },
    {
      "cell_type": "code",
      "metadata": {
        "id": "zwZBd91QtsuP"
      },
      "source": [
        "#Range of Debilitation\n",
        "#Ref LHAE - page 30\n",
        "debL = {\"La\":999,\"Su\":180,\"Mo\":210,\"Ma\":90,\"Me\":330,\"Ju\":270,\"Ve\":150,\"Sa\":0,\"Ra\":999,\"Ke\":999}  # Lower Bound\n",
        "debU = {\"La\":999,\"Su\":190,\"Mo\":213,\"Ma\":118,\"Me\":345,\"Ju\":275,\"Ve\":177,\"Sa\":20,\"Ra\":999,\"Ke\":999}  # Upper Bound\n",
        "\n",
        "#Alternatively the entire Rashi can be debilitated\n",
        "\n",
        "debR = {'La':99,'Su':7, 'Mo':8, 'Ma':4, 'Me':12,'Ju':10,'Ve':6,'Sa':1,'Ra':99,'Ke':99}\n",
        "\n",
        "\n",
        "def checkGdeb(x, level = 'low'):\n",
        "    \n",
        "    if level == 'low':\n",
        "        if GRashiN[x] == debR[x]:\n",
        "            return x,True\n",
        "        else:\n",
        "            return x,False\n",
        "    \n",
        "    if level == 'high':\n",
        "        lon = GLon[x]\n",
        "        if lon > debL[x] and lon <= debU[x]:\n",
        "            return x,True\n",
        "        else:\n",
        "            return x,False\n",
        "    \n",
        "    \n",
        "    \n",
        "def checkLdeb(x):\n",
        "    if x == BoL:\n",
        "        return False\n",
        "    else:\n",
        "        return debilG[x]"
      ],
      "execution_count": 26,
      "outputs": []
    },
    {
      "cell_type": "code",
      "metadata": {
        "id": "ZMKuVjU4t6MT",
        "colab": {
          "base_uri": "https://localhost:8080/"
        },
        "outputId": "bbe42e22-36e0-4a82-b826-146229eaaf41"
      },
      "source": [
        "debilG = l2d(list(map(lambda x: checkGdeb(x),Graha)))               # determines if Graha is debilitated\n",
        "\n",
        "debilL = list(map(lambda x: checkLdeb(x),Lord))\n",
        "#print(debilL)\n",
        "\n",
        "showTrueDict(\"Graha Debilitated\", debilG)\n",
        "showTrueList(\"Lord Debilitated\", debilL)\n",
        "NL()\n",
        "f1.write(\"------------------------------------ \\n\")\n",
        "NL()"
      ],
      "execution_count": 27,
      "outputs": [
        {
          "output_type": "stream",
          "name": "stdout",
          "text": [
            "Graha Debilitated\n",
            "--  Mo Graha Debilitated\n",
            "Lord Debilitated\n",
            "--  10 Lord Debilitated\n"
          ]
        }
      ]
    },
    {
      "cell_type": "markdown",
      "metadata": {
        "id": "GkHSlS8RZNU1"
      },
      "source": [
        "##atMooltrikana"
      ]
    },
    {
      "cell_type": "code",
      "metadata": {
        "id": "3GssbX4eZTcN"
      },
      "source": [
        "mool3R = {'La':99,'Su':5, 'Mo':2, 'Ma':1, 'Me':6,'Ju':9,'Ve':7,'Sa':11,'Ra':99,'Ke':99}\n",
        "\n",
        "def checkm3G(x):\n",
        "    \n",
        "    if GRashiN[x] == mool3R[x]:\n",
        "        return x,True\n",
        "    else:\n",
        "        return x,False\n",
        "    \n",
        " "
      ],
      "execution_count": 28,
      "outputs": []
    },
    {
      "cell_type": "code",
      "metadata": {
        "id": "NYJ-b4pQlDrq",
        "colab": {
          "base_uri": "https://localhost:8080/"
        },
        "outputId": "63615a7a-6e01-45e1-8bcf-7b8c5480ad6b"
      },
      "source": [
        "mool3G = l2d(list(map(lambda x: checkm3G(x),Graha))) \n",
        "mool3L = [False]*13\n",
        "\n",
        "for ix in range(1,13):\n",
        "    #print(ix)\n",
        "    mool3L[ix] = mool3G[Lord[ix]]\n",
        "          \n",
        "\n",
        "showTrueDict(\"Graha Mooltrikon\", mool3G)\n",
        "showTrueList(\"Lord Mooltrikon\", mool3L)\n",
        "NL()\n",
        "f1.write(\"------------------------------------ \\n\")\n",
        "NL()"
      ],
      "execution_count": 29,
      "outputs": [
        {
          "output_type": "stream",
          "name": "stdout",
          "text": [
            "Graha Mooltrikon\n",
            "--  Me Graha Mooltrikon\n",
            "Lord Mooltrikon\n",
            "--  9 Lord Mooltrikon\n",
            "--  12 Lord Mooltrikon\n"
          ]
        }
      ]
    },
    {
      "cell_type": "markdown",
      "metadata": {
        "id": "jVfBHfNi7KYQ"
      },
      "source": [
        "##inOwn House"
      ]
    },
    {
      "cell_type": "code",
      "metadata": {
        "id": "hBaM5-LJ7Mz4",
        "colab": {
          "base_uri": "https://localhost:8080/"
        },
        "outputId": "d97669bd-2ebd-44ef-aedb-a3722bff8d76"
      },
      "source": [
        "# this has been defined earlier \n",
        "#LordOf = {\"Ari\":\"Ma\",\"Tau\":\"Ve\",\"Gem\":\"Me\",\"Can\":\"Mo\",\"Leo\":\"Su\",\"Vir\":\"Me\",\"Lib\":\"Ve\",\"Sco\":\"Ma\",\"Sag\":\"Ju\",\"Cap\":\"Sa\",\"Acq\":\"Sa\",\"Pis\":\"Ju\"}\n",
        "# kept here for reference only\n",
        "\n",
        "\n",
        "def checkOwnHG(x):\n",
        "    if x == LordOf[GRashiA[x]]:\n",
        "        return x, True\n",
        "    else:\n",
        "        return x, False\n",
        "\n",
        "ownHouseG = l2d(list(map(lambda x: checkOwnHG(x),Graha)))\n",
        "\n",
        "ownHouseL = [False]*13\n",
        "\n",
        "for ix in range(1,13):\n",
        "    #print(ix)\n",
        "    ownHouseL[ix] = ownHouseG[Lord[ix]]\n",
        "    \n",
        "\n",
        "showTrueDict(\"Graha Own House\", ownHouseG)\n",
        "showTrueList(\"Lord Own House\", ownHouseL)\n",
        "NL()\n",
        "f1.write(\"------------------------------------ \\n\")\n",
        "NL()"
      ],
      "execution_count": 30,
      "outputs": [
        {
          "output_type": "stream",
          "name": "stdout",
          "text": [
            "Graha Own House\n",
            "--  Ma Graha Own House\n",
            "--  Me Graha Own House\n",
            "Lord Own House\n",
            "--  2 Lord Own House\n",
            "--  7 Lord Own House\n",
            "--  9 Lord Own House\n",
            "--  12 Lord Own House\n"
          ]
        }
      ]
    },
    {
      "cell_type": "markdown",
      "metadata": {
        "id": "GyjHUimZnO4L"
      },
      "source": [
        "##Friendships etc"
      ]
    },
    {
      "cell_type": "code",
      "metadata": {
        "id": "BRpPq0fgnNZd"
      },
      "source": [
        "# page 34\n",
        "\n",
        "friends = {'Su':['Mo','Ma','Ju'], 'Mo':['Su','Me'],'Ma':['Su','Mo','Ju'],'Me':['Su','Ve'],'Ju':['Su','Mo','Ma'], 'Ve':['Me','Ve'],'Sa':['Me','Sa']}\n",
        "#print(friends)\n",
        "enemies ={'Su':['Ve','Sa'],'Mo':[],'Ma':['Me'],'Me':['Mo'],'Ju':['Me','Ve'],'Ve':['Su','Mo','Ma'],'Sa':['Su','Mo']}\n",
        "#print(enemies)\n",
        "neutrals = {'Su':['Me'],'Mo':['Ma','Ju','Ve','Sa'],'Ma':['Sa','Ve'],'Me':['Sa','Ma','Ju'],'Ju':['Sa'],'Ve':['Ju'],'Sa':['Ma','Ju']}\n",
        "#print(neutrals)\n",
        "\n",
        "#check f(riends)e(nemy)n(eutral)\n",
        "#\n",
        "def checkfen(x,Z):\n",
        "    if LordOf[GRashiA[x]] in Z[x]:\n",
        "        return x,True\n",
        "    else:\n",
        "        return x,False"
      ],
      "execution_count": 31,
      "outputs": []
    },
    {
      "cell_type": "code",
      "metadata": {
        "id": "PBdeX9qft-Ee",
        "colab": {
          "base_uri": "https://localhost:8080/"
        },
        "outputId": "f53fa66b-b2c4-4bf5-b8ea-6c50178ab9d8"
      },
      "source": [
        " \n",
        "    \n",
        "inFriendG =  l2d(list(map(lambda x: checkfen(x,friends),Graha)))\n",
        "\n",
        "inEnemyG =  l2d(list(map(lambda x: checkfen(x,enemies),Graha)))\n",
        "\n",
        "inNeutralG =  l2d(list(map(lambda x: checkfen(x,neutrals),Graha)))\n",
        "\n",
        "\n",
        "\n",
        "inFriendL = [False]*13\n",
        "inEnemyL = [False]*13\n",
        "inNeutralL = [False]*13\n",
        "\n",
        "for ix in range(1,13):\n",
        "    inFriendL[ix] = inFriendG[Lord[ix]]\n",
        "    inEnemyL[ix] = inEnemyG[Lord[ix]]\n",
        "    inNeutralL[ix] = inNeutralG[Lord[ix]]\n",
        "    \n",
        "\n",
        "\n",
        "\n",
        "showTrueDict(\"Graha in friend\", inFriendG)\n",
        "showTrueList(\"Lord in friend\", inFriendL)\n",
        "\n",
        "showTrueDict(\"Graha in enemy\", inEnemyG)\n",
        "showTrueList(\"Lord in enemy\", inEnemyL)\n",
        "\n",
        "showTrueDict(\"Graha in neutral\", inNeutralG)\n",
        "showTrueList(\"Lord in neutral\", inNeutralL)\n",
        "\n",
        "NL()\n",
        "f1.write(\"------------------------------------ \\n\")\n",
        "NL()"
      ],
      "execution_count": 32,
      "outputs": [
        {
          "output_type": "stream",
          "name": "stdout",
          "text": [
            "Graha in friend\n",
            "None\n",
            "Lord in friend\n",
            "None\n",
            "Graha in enemy\n",
            "--  Ve Graha in enemy\n",
            "--  Sa Graha in enemy\n",
            "Lord in enemy\n",
            "--  1 Lord in enemy\n",
            "--  4 Lord in enemy\n",
            "--  5 Lord in enemy\n",
            "--  8 Lord in enemy\n",
            "Graha in neutral\n",
            "--  Su Graha in neutral\n",
            "--  Mo Graha in neutral\n",
            "--  Ju Graha in neutral\n",
            "Lord in neutral\n",
            "--  3 Lord in neutral\n",
            "--  6 Lord in neutral\n",
            "--  10 Lord in neutral\n",
            "--  11 Lord in neutral\n"
          ]
        }
      ]
    },
    {
      "cell_type": "markdown",
      "metadata": {
        "id": "QVMrmbZz4rV0"
      },
      "source": [
        "#Aspects"
      ]
    },
    {
      "cell_type": "code",
      "metadata": {
        "id": "WZ-312seF8sy"
      },
      "source": [
        "Gx = ['La','Su', 'Mo', 'Ma', 'Me', 'Ju', 'Ve', 'Sa','Ra','Ke']\n",
        "\n",
        "def RashiGapA(R2,R1):\n",
        "    if (R2>R1):\n",
        "        return R2-R1\n",
        "    else:\n",
        "        return R2-R1+12\n",
        "    \n",
        "def addToD(x,D,y):\n",
        "    if x in D:\n",
        "        D[x].add(y)\n",
        "    else:\n",
        "        D[x] = set()\n",
        "        D[x].add(y)\n",
        "\n",
        "# convert set in dictionary value to list\n",
        "# this is required for JSON formatting \n",
        "\n",
        "def csidtil(D):\n",
        "    nD = dict()\n",
        "    for k in D:\n",
        "        nD[k] = list(D[k])\n",
        "        \n",
        "    #print(nD)\n",
        "    return(nD)\n",
        "        "
      ],
      "execution_count": 33,
      "outputs": []
    },
    {
      "cell_type": "code",
      "metadata": {
        "id": "giCSlfz_EYyK",
        "colab": {
          "base_uri": "https://localhost:8080/",
          "height": 160
        },
        "outputId": "27153457-7901-4674-bd5b-47c6c9f2f7c3"
      },
      "source": [
        "GAspects = dict()         # Which Graha aspects which other Graha\n",
        "GAspectedBy = dict()      # Which Graha is aspected by which other Graha\n",
        "BAspectedBy = dict()      # Which Bhav is aspected by which other Graha\n",
        "\n",
        "\n",
        "\n",
        "for O1 in Gx:\n",
        "    for O2 in Gx:\n",
        "        #Normal 7th Aspect\n",
        "        if (RashiGapA(GRashiN[O2],GRashiN[O1]) == 6):\n",
        "            #print(O1,GRashiN[O1],O2,GRashiN[O2],RashiGapA(GRashiN[O2],GRashiN[O1]))\n",
        "            if not (O1 in ['Ra','Ke'] and O2 in ['Ra','Ke']):\n",
        "                addToD(O1,GAspects,O2)\n",
        "                addToD(O2,GAspectedBy,O1)\n",
        "        #Mars 4,8th Aspect\n",
        "        if (O1 == 'Ma') and (\n",
        "            (RashiGapA(GRashiN[O2],GRashiN[O1]) == 3) or\n",
        "            (RashiGapA(GRashiN[O2],GRashiN[O1]) == 7)):\n",
        "            addToD(O1,GAspects,O2)\n",
        "            addToD(O2,GAspectedBy,O1)\n",
        "        #Jupiter 5,9th Aspect\n",
        "        if (O1 == 'Ju') and (\n",
        "            (RashiGapA(GRashiN[O2],GRashiN[O1]) == 4) or\n",
        "            (RashiGapA(GRashiN[O2],GRashiN[O1]) == 8)):\n",
        "            addToD(O1,GAspects,O2)\n",
        "            addToD(O2,GAspectedBy,O1)\n",
        "        #Saturn 5,9th Aspect\n",
        "        if (O1 == 'Sa') and (\n",
        "            (RashiGapA(GRashiN[O2],GRashiN[O1]) == 2) or\n",
        "            (RashiGapA(GRashiN[O2],GRashiN[O1]) == 9)):\n",
        "            addToD(O1,GAspects,O2)\n",
        "            addToD(O2,GAspectedBy,O1)\n",
        "\n",
        "for O1 in Gx:\n",
        "    for BN in range(1,13):\n",
        "        #Normal 7th Aspect\n",
        "        if (RashiGapA(BhavN[BN],GRashiN[O1]) == 6):\n",
        "            #print(O1,GRashiN[O1],O2,GRashiN[O2],RashiGapA(GRashiN[O2],GRashiN[O1]))\n",
        "            addToD(BN,BAspectedBy,O1)\n",
        "           \n",
        "        #Mars 4,8th Aspect\n",
        "        if (O1 == 'Ma') and (\n",
        "            (RashiGapA(BhavN[BN],GRashiN[O1]) == 3) or\n",
        "            (RashiGapA(BhavN[BN],GRashiN[O1]) == 7)):\n",
        "            addToD(BN,BAspectedBy,O1)\n",
        "         \n",
        "        #Jupiter 5,9th Aspect\n",
        "        if (O1 == 'Ju') and (\n",
        "            (RashiGapA(BhavN[BN],GRashiN[O1]) == 4) or\n",
        "            (RashiGapA(BhavN[BN],GRashiN[O1]) == 8)):\n",
        "            addToD(BN,BAspectedBy,O1)\n",
        "            \n",
        "        #Saturn 5,9th Aspect\n",
        "        if (O1 == 'Sa') and (\n",
        "            (RashiGapA(BhavN[BN],GRashiN[O1]) == 2) or\n",
        "            (RashiGapA(BhavN[BN],GRashiN[O1]) == 9)):\n",
        "            addToD(BN,BAspectedBy,O1)\n",
        "            \n",
        "                \n",
        "\n",
        "\"\"\"             \n",
        "print(\"GAspects\",GAspects)\n",
        "print(\"GAspectedBy\",GAspectedBy)\n",
        "print(\"BAspectedBy\",BAspectedBy)\n",
        "\"\"\"  \n",
        "\n",
        "print('--------------------------- \\n')\n",
        "GAspects2 = csidtil(GAspects)\n",
        "GAspectedBy2 = csidtil(GAspectedBy)\n",
        "BAspectedBy2 = csidtil(BAspectedBy)\n",
        "\n",
        "print(\"GAspects2\",GAspects)\n",
        "print(\"GAspectedBy2\",GAspectedBy)\n",
        "print(\"BAspectedBy2\",BAspectedBy)\n",
        "\n",
        "\n",
        "\n",
        "\n",
        "f1.write(\"Graha Aspects \\n\")\n",
        "json.dump(GAspects2, f1)\n",
        "NL()\n",
        "f1.write(\"Graha Aspected By \\n\")\n",
        "json.dump(GAspectedBy2, f1)\n",
        "NL()\n",
        "f1.write(\"Bhav Aspected By \\n\")\n",
        "json.dump(BAspectedBy2, f1)\n",
        "NL()\n",
        "\n",
        "\"\"\"\n",
        "f1.write(\"Graha Aspects \\n\")\n",
        "json.dump(GAspects, f1)\n",
        "NL()\n",
        "f1.write(\"Graha Aspected By \\n\")\n",
        "json.dump(GAspectedBy, f1)\n",
        "NL()\n",
        "f1.write(\"Bhav Aspected By \\n\")\n",
        "json.dump(BAspectedBy, f1)\n",
        "NL()\n",
        "\"\"\"\n",
        "\n",
        "        "
      ],
      "execution_count": 34,
      "outputs": [
        {
          "output_type": "stream",
          "name": "stdout",
          "text": [
            "--------------------------- \n",
            "\n",
            "GAspects2 {'Su': {'Ra'}, 'Ma': {'Ju'}, 'Me': {'Ra'}, 'Ju': {'Ve', 'Sa', 'La'}, 'Ve': {'Ju'}, 'Sa': {'Ju', 'La'}, 'Ra': {'Su', 'Me'}}\n",
            "GAspectedBy2 {'Ra': {'Su', 'Me'}, 'Ju': {'Ma', 'Ve', 'Sa'}, 'La': {'Ju', 'Sa'}, 'Ve': {'Ju'}, 'Sa': {'Ju'}, 'Su': {'Ra'}, 'Me': {'Ra'}}\n",
            "BAspectedBy2 {7: {'La'}, 6: {'Su', 'Ke', 'Me'}, 8: {'Ma', 'Mo', 'Sa'}, 5: {'Ma', 'Ve', 'Sa'}, 9: {'Ma', 'Ju'}, 1: {'Ju', 'Sa'}, 11: {'Ju'}, 12: {'Ra'}}\n"
          ]
        },
        {
          "output_type": "execute_result",
          "data": {
            "application/vnd.google.colaboratory.intrinsic+json": {
              "type": "string"
            },
            "text/plain": [
              "'\\nf1.write(\"Graha Aspects \\n\")\\njson.dump(GAspects, f1)\\nNL()\\nf1.write(\"Graha Aspected By \\n\")\\njson.dump(GAspectedBy, f1)\\nNL()\\nf1.write(\"Bhav Aspected By \\n\")\\njson.dump(BAspectedBy, f1)\\nNL()\\n'"
            ]
          },
          "metadata": {},
          "execution_count": 34
        }
      ]
    },
    {
      "cell_type": "code",
      "metadata": {
        "id": "vSjeDWCH-lYS",
        "colab": {
          "base_uri": "https://localhost:8080/",
          "height": 411
        },
        "outputId": "a9793e0c-6651-4500-cf3e-704c58352db7"
      },
      "source": [
        "drawChart_Bengal()\n"
      ],
      "execution_count": 35,
      "outputs": [
        {
          "output_type": "display_data",
          "data": {
            "image/png": "[encoded data removed]",
            "text/plain": [
              "<Figure size 504x504 with 1 Axes>"
            ]
          },
          "metadata": {}
        }
      ]
    },
    {
      "cell_type": "markdown",
      "metadata": {
        "id": "IIHgIc5ebLa2"
      },
      "source": [
        "#Vimsottari Dasha Calculation<br>\n",
        "based on [farfaraway.com](https://www.farfaraway.co/blog/vimshottari-dasha-based-astrology-predictions)    \n"
      ]
    },
    {
      "cell_type": "code",
      "metadata": {
        "id": "dHS3qVE1bmXA",
        "colab": {
          "base_uri": "https://localhost:8080/"
        },
        "outputId": "e3575043-1fc0-4ab0-b113-fa4f935a8ff5"
      },
      "source": [
        "\n",
        "\n",
        "MoonLon = GLon[\"Mo\"]\n",
        "DashaSeq = ['Ke','Ve','Su','Mo','Ma','Ra','Ju','Sa','Me']     # Sequence of Dashas\n",
        "DashaDurY = [7,20,6,10,7,18,16,19,17]                         # Duration of Dasha in years\n",
        "DashaDurD = list(map(lambda x : round(x*365.25), DashaDurY))            # Duration of Dasha in days\n",
        "\n",
        "def nextDasha(c):\n",
        "    n = c+1\n",
        "    if (n>8):\n",
        "        n = 0\n",
        "    return(n)\n",
        "\n",
        "\n",
        "\n",
        "\n",
        "#MoonLon = 359.999\n",
        "#MoonLon = 0\n",
        "\n",
        "\n",
        "Naks = 1 + int(MoonLon//13.333333) \n",
        "pArc = MoonLon % 13.333333                                    # Arc traversed into Nakshatra\n",
        "rArc = 13.333 - MoonLon % 13.333333                           # Arc remaining of Nakshatra\n",
        "BirthDasha = (Naks % 9) - 1                                   # Dasha at Birth\n",
        "print(Naks, rArc, BirthDasha,DashaSeq[BirthDasha])\n",
        "#print(pDate,pTime)\n",
        "\n",
        "now = datetime.now()\n",
        "print(now.strftime(\"%d %b %Y\"))\n",
        "\n",
        "bDate = datetime.strptime(pDate +' '+pTime,'%Y-%m-%d %H:%M')       # Date-Time of Birth\n",
        "print(\"Birth Date\",bDate.strftime(\"%d %b %Y\"))\n",
        "BirthDashaDuration = DashaDurD[BirthDasha]\n",
        "BirthDashaDaysPast = int ((pArc/13.3333)*BirthDashaDuration)\n",
        "BirthDashaDaysLeft = int ((rArc/13.3333)*BirthDashaDuration)\n",
        "\n",
        "BirthDashaStart = bDate - timedelta(days=BirthDashaDaysPast)\n",
        "BirthDashaEnd = bDate + timedelta(days=BirthDashaDaysLeft)\n",
        "#print(BirthDashaStart.strftime(\"%d %b %Y\"))\n",
        "#print(BirthDashaEnd.strftime(\"%d %b %Y\"))\n",
        "printLine = '\\n ---------- \\n Vimsottari Dasha \\n ------------ \\n'\n",
        "f1.write(printLine)\n",
        "\n"
      ],
      "execution_count": 36,
      "outputs": [
        {
          "output_type": "stream",
          "name": "stdout",
          "text": [
            "17 8.727328000000002 7 Sa\n",
            "08 Jan 2022\n",
            "Birth Date 17 Sep 1950\n"
          ]
        },
        {
          "output_type": "execute_result",
          "data": {
            "text/plain": [
              "48"
            ]
          },
          "metadata": {},
          "execution_count": 36
        }
      ]
    },
    {
      "cell_type": "code",
      "metadata": {
        "id": "FJfqAIMOgtMH",
        "colab": {
          "base_uri": "https://localhost:8080/"
        },
        "outputId": "face2575-37b5-434c-baaa-92b3825435a3"
      },
      "source": [
        "DashaRecord = []                                     # Sequence and Start of all Dasha\n",
        "EndOfDasha = BirthDashaEnd\n",
        "Dasha = BirthDasha\n",
        "CurrentDashaFound = False\n",
        "for i in range(0,9):\n",
        "    #print(DashaNumber)\n",
        "    Rec = [Dasha,EndOfDasha]\n",
        "    #print(Rec)\n",
        "    DashaRecord.append(Rec)\n",
        "    if (EndOfDasha > now) and not CurrentDashaFound:\n",
        "        CurrentDashaCount = i                                   # Sequence of Current Dasha from BirthDasha = 0\n",
        "        CurrentDasha = Dasha                                    # Sequence of Current Dasha from Ke-dasha = 0  \n",
        "        EndOfCurrentDasha = EndOfDasha\n",
        "        StartOfCurrentDasha = EndOfCurrentDasha - timedelta(days=DashaDurD[Dasha])\n",
        "        CurrentDashaFound = True\n",
        "        \n",
        "    printLine = DashaSeq[Dasha] + \" Dasha Ends \" + EndOfDasha.strftime(\"%d %b %Y\")\n",
        "    print(printLine)\n",
        "    f1.write(printLine+'\\n')\n",
        "    Dasha = nextDasha(Dasha)\n",
        "    EndOfDasha = EndOfDasha + timedelta(days=DashaDurD[Dasha])\n",
        "    \n",
        "\n",
        "#print(DashaRecord)  \n",
        "#print(CurrentDasha)\n",
        "printLine = '\\n ---------- \\n Current ' + DashaSeq[CurrentDasha] + \" Starts \" + StartOfCurrentDasha.strftime(\"%d %b %Y\") +\" Ends \" + EndOfCurrentDasha.strftime(\"%d %b %Y\")\n",
        "print(printLine)\n",
        "f1.write(printLine+'\\n')"
      ],
      "execution_count": 37,
      "outputs": [
        {
          "output_type": "stream",
          "name": "stdout",
          "text": [
            "Sa Dasha Ends 23 Feb 1963\n",
            "Me Dasha Ends 23 Feb 1980\n",
            "Ke Dasha Ends 23 Feb 1987\n",
            "Ve Dasha Ends 23 Feb 2007\n",
            "Su Dasha Ends 23 Feb 2013\n",
            "Mo Dasha Ends 23 Feb 2023\n",
            "Ma Dasha Ends 23 Feb 2030\n",
            "Ra Dasha Ends 23 Feb 2048\n",
            "Ju Dasha Ends 23 Feb 2064\n",
            "\n",
            " ---------- \n",
            " Current Mo Starts 23 Feb 2013 Ends 23 Feb 2023\n"
          ]
        },
        {
          "output_type": "execute_result",
          "data": {
            "text/plain": [
              "62"
            ]
          },
          "metadata": {},
          "execution_count": 37
        }
      ]
    },
    {
      "cell_type": "code",
      "metadata": {
        "id": "zUXRRe2_iuha",
        "colab": {
          "base_uri": "https://localhost:8080/"
        },
        "outputId": "bcc83df8-3565-4be3-889a-b849f96f2746"
      },
      "source": [
        "def SubDasha(d,eod):                                    # which kind of Dasha, Ke = 0, and EndOfDasha\n",
        "    sod = eod - timedelta(days=DashaDurD[d])            # StartOfDasha, calculated backward from EndOfDasha   \n",
        "    \n",
        "    printLine = DashaSeq[d] +' Dasha ' + sod.strftime(\"%d %b %Y\") + ' to ' + eod.strftime(\"%d %b %Y\") +'\\n'\n",
        "    print(printLine)\n",
        "    f1.write(printLine+'\\n')\n",
        "    scale = DashaDurY[d]/120                            # subDasha are scaled proportionatly\n",
        "    \n",
        "    sd = d\n",
        "    sdDur = timedelta(days=round(scale*DashaDurD[sd]))\n",
        "    eosd = sod + sdDur                                  # end of first subDasha calculated by scaling\n",
        "    \n",
        "    for j in range(0,9):\n",
        "        \n",
        "        printLine = DashaSeq[d]+' '+DashaSeq[sd] + \" Ends \" + eosd.strftime(\"%d %b %Y\")\n",
        "        print(printLine)\n",
        "        f1.write(printLine+'\\n')\n",
        "        sd = nextDasha(sd)\n",
        "        sdDur = timedelta(days=round(scale*DashaDurD[sd]))\n",
        "        if (j < 8):\n",
        "            eosd = eosd + sdDur\n",
        "    error = (eosd - eod).days\n",
        "    printLine = \"Cumulative error \" +str(error) + \" days \\n\" + \"-\"*10\n",
        "    print(printLine)\n",
        "    f1.write(printLine+'\\n')\n",
        "        \n",
        "    \n",
        "\n",
        "    \n",
        "#SubDasha(CurrentDasha, EndOfCurrentDasha)\n",
        "#print(DashaRecord)\n",
        "#print(CurrentDashaCount)\n",
        "#print(DashaRecord[CurrentDashaCount])\n",
        "SubDasha(DashaRecord[CurrentDashaCount][0], DashaRecord[CurrentDashaCount][1])\n",
        "SubDasha(DashaRecord[nextDasha(CurrentDashaCount)][0], DashaRecord[nextDasha(CurrentDashaCount)][1])"
      ],
      "execution_count": 38,
      "outputs": [
        {
          "output_type": "stream",
          "name": "stdout",
          "text": [
            "Mo Dasha 23 Feb 2013 to 23 Feb 2023\n",
            "\n",
            "Mo Mo Ends 24 Dec 2013\n",
            "Mo Ma Ends 25 Jul 2014\n",
            "Mo Ra Ends 24 Jan 2016\n",
            "Mo Ju Ends 25 May 2017\n",
            "Mo Sa Ends 24 Dec 2018\n",
            "Mo Me Ends 24 May 2020\n",
            "Mo Ke Ends 23 Dec 2020\n",
            "Mo Ve Ends 24 Aug 2022\n",
            "Mo Su Ends 23 Feb 2023\n",
            "Cumulative error 0 days \n",
            "----------\n",
            "Ma Dasha 23 Feb 2023 to 23 Feb 2030\n",
            "\n",
            "Ma Ma Ends 22 Jul 2023\n",
            "Ma Ra Ends 08 Aug 2024\n",
            "Ma Ju Ends 15 Jul 2025\n",
            "Ma Sa Ends 24 Aug 2026\n",
            "Ma Me Ends 21 Aug 2027\n",
            "Ma Ke Ends 17 Jan 2028\n",
            "Ma Ve Ends 18 Mar 2029\n",
            "Ma Su Ends 24 Jul 2029\n",
            "Ma Mo Ends 22 Feb 2030\n",
            "Cumulative error -1 days \n",
            "----------\n"
          ]
        }
      ]
    },
    {
      "cell_type": "markdown",
      "metadata": {
        "id": "WWY10tLVtlVc"
      },
      "source": [
        "#Generate Reports"
      ]
    },
    {
      "cell_type": "code",
      "metadata": {
        "id": "QYB-JJZJscLt"
      },
      "source": [
        "f1.write('\\n**************************************************** Jai Parashar')\n",
        "f1.close()\n"
      ],
      "execution_count": 39,
      "outputs": []
    },
    {
      "cell_type": "code",
      "metadata": {
        "id": "l9_GvHrbkmo3"
      },
      "source": [
        "# this is required to remove a whole lot of ugly double quotes from the file\n",
        "!sed 's/\"//g' CurrentReport.txt > CurrentReport2.txt\n",
        "#!cat CurrentReport2.txt"
      ],
      "execution_count": 40,
      "outputs": []
    },
    {
      "cell_type": "markdown",
      "metadata": {
        "id": "q10UKpzi3a8Q"
      },
      "source": [
        "## Generate DOCX file"
      ]
    },
    {
      "cell_type": "code",
      "metadata": {
        "id": "JDiHDc2A78dU"
      },
      "source": [
        "f3 = open(\"CurrentReport2.txt\",\"r\")\n",
        "reportContents =f3.read()\n",
        "f3.close()"
      ],
      "execution_count": 41,
      "outputs": []
    },
    {
      "cell_type": "code",
      "metadata": {
        "id": "hYt9fwS33ddP",
        "colab": {
          "base_uri": "https://localhost:8080/"
        },
        "outputId": "01de45c5-0871-44f1-921f-51be8d3272a3"
      },
      "source": [
        "\n",
        "\n",
        "ReportFile = pName+ChartType+'.docx'\n",
        "\n",
        "\n",
        "document = Document()\n",
        "section = document.sections[0]\n",
        "header = section.header\n",
        "footer = section.footer\n",
        "\n",
        "\n",
        "heading_1 = pName +\" >>> \"+ChartType\n",
        "document.add_heading(heading_1, 0)\n",
        "\n",
        "\n",
        "#heading_1 = ChartType+\" Chart of \"+pName\n",
        "heading_2 = pDate+\" \"+pTime+\" \"+pPlace\n",
        "\n",
        "#document.add_heading(heading_1, level=2)\n",
        "document.add_heading(heading_2, level=3)\n",
        "\n",
        "document.add_picture('./CurrentChart.png', width=Inches(4.25))\n",
        "\n",
        "p = document.add_paragraph(reportContents)\n",
        "\n",
        "header01 = header.paragraphs[0]\n",
        "header01.text = \"Parashar21 >> http://parashar21.blogspot.com\"\n",
        "\n",
        "now = datetime.now()\n",
        "print(now.strftime(\"%d %b %Y\"))\n",
        "\n",
        "footer01 = footer.paragraphs[0]\n",
        "footer01.text = \"Printed on : \"+now.strftime(\"%d %b %Y\")\n",
        "\n",
        "\n",
        "#document.add_page_break()\n",
        "\n",
        "document.save(ReportFile)"
      ],
      "execution_count": 42,
      "outputs": [
        {
          "output_type": "stream",
          "name": "stdout",
          "text": [
            "08 Jan 2022\n"
          ]
        }
      ]
    },
    {
      "cell_type": "markdown",
      "metadata": {
        "id": "ZYbUL_ZEq7A5"
      },
      "source": [
        "#Chronobooks <br>\n",
        "![alt text](https://1.bp.blogspot.com/-lTiYBkU2qbU/X1er__fvnkI/AAAAAAAAjtE/GhDR3OEGJr4NG43fZPodrQD5kbxtnKebgCLcBGAsYHQ/s600/Footer2020-600x200.png)<hr>\n",
        "Chronotantra and Chronoyantra are two science fiction novels that explore the collapse of human civilisation on Earth and then its rebirth and reincarnation both on Earth as well as on the distant worlds of Mars, Titan and Enceladus. But is it the human civilisation that is being reborn? Or is it some other sentience that is revealing itself. \n",
        "If you have an interest in AI and found this material useful, you may consider buying these novels, in paperback or kindle, from [http://bit.ly/chronobooks](http://bit.ly/chronobooks)"
      ]
    }
  ]
}