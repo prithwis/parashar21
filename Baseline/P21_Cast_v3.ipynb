{
  "nbformat": 4,
  "nbformat_minor": 0,
  "metadata": {
    "colab": {
      "name": "P21_Cast_v3",
      "provenance": [],
      "include_colab_link": true
    },
    "kernelspec": {
      "name": "python3",
      "display_name": "Python 3"
    }
  },
  "cells": [
    {
      "cell_type": "markdown",
      "metadata": {
        "id": "view-in-github",
        "colab_type": "text"
      },
      "source": [
        "<a href=\"https://colab.research.google.com/github/prithwis/parashar21/blob/main/P21_Cast_v3.ipynb\" target=\"_parent\"><img src=\"https://colab.research.google.com/assets/colab-badge.svg\" alt=\"Open In Colab\"/></a>"
      ]
    },
    {
      "cell_type": "markdown",
      "metadata": {
        "id": "m3d-QHg6rqr-"
      },
      "source": [
        "![alt text](http://1.bp.blogspot.com/_5QlanosqxiQ/SXLOLTu7S7I/AAAAAAAAAm8/0r6C7lCxsic/S1600-R/p21-header-003.png) <br>\n",
        "\n",
        "\n",
        "---\n",
        "\n",
        "\n",
        "![CC-BY-SA](https://licensebuttons.net/l/by-sa/3.0/88x31.png) ||\n",
        "[Prithwis Mukerjee](http://www.yantrajaal.com) ||\n",
        "Website - [Parashar21](https://parashar21.blogspot.com)<br>"
      ]
    },
    {
      "cell_type": "markdown",
      "metadata": {
        "id": "6az36FX6Rpit"
      },
      "source": [
        "#Install Swiss Ephemeris <br>\n",
        "\n",
        "https://pypi.org/project/pyswisseph/  - Python Package Documentation <br>\n",
        "https://www.astro.com/swisseph/swephinfo_e.htm <br>\n",
        "https://www.astro.com/swisseph/swephprg.htm - Programmer Documentation <br>\n",
        "https://pythonhosted.org/pyswisseph/swisseph-module.html"
      ]
    },
    {
      "cell_type": "code",
      "metadata": {
        "id": "THZf8D8fQsXm",
        "colab": {
          "base_uri": "https://localhost:8080/"
        },
        "outputId": "7f7003e1-5299-4689-e229-b4a71c48ca81"
      },
      "source": [
        "!pip install pyswisseph"
      ],
      "execution_count": 1,
      "outputs": [
        {
          "output_type": "stream",
          "name": "stdout",
          "text": [
            "Collecting pyswisseph\n",
            "  Downloading pyswisseph-2.08.00-1.tar.gz (521 kB)\n",
            "\u001b[?25l\r\u001b[K     |▋                               | 10 kB 23.6 MB/s eta 0:00:01\r\u001b[K     |█▎                              | 20 kB 29.6 MB/s eta 0:00:01\r\u001b[K     |█▉                              | 30 kB 33.6 MB/s eta 0:00:01\r\u001b[K     |██▌                             | 40 kB 35.7 MB/s eta 0:00:01\r\u001b[K     |███▏                            | 51 kB 26.2 MB/s eta 0:00:01\r\u001b[K     |███▊                            | 61 kB 27.8 MB/s eta 0:00:01\r\u001b[K     |████▍                           | 71 kB 28.7 MB/s eta 0:00:01\r\u001b[K     |█████                           | 81 kB 29.3 MB/s eta 0:00:01\r\u001b[K     |█████▋                          | 92 kB 28.5 MB/s eta 0:00:01\r\u001b[K     |██████▎                         | 102 kB 29.9 MB/s eta 0:00:01\r\u001b[K     |███████                         | 112 kB 29.9 MB/s eta 0:00:01\r\u001b[K     |███████▌                        | 122 kB 29.9 MB/s eta 0:00:01\r\u001b[K     |████████▏                       | 133 kB 29.9 MB/s eta 0:00:01\r\u001b[K     |████████▉                       | 143 kB 29.9 MB/s eta 0:00:01\r\u001b[K     |█████████▍                      | 153 kB 29.9 MB/s eta 0:00:01\r\u001b[K     |██████████                      | 163 kB 29.9 MB/s eta 0:00:01\r\u001b[K     |██████████▊                     | 174 kB 29.9 MB/s eta 0:00:01\r\u001b[K     |███████████▎                    | 184 kB 29.9 MB/s eta 0:00:01\r\u001b[K     |████████████                    | 194 kB 29.9 MB/s eta 0:00:01\r\u001b[K     |████████████▋                   | 204 kB 29.9 MB/s eta 0:00:01\r\u001b[K     |█████████████▏                  | 215 kB 29.9 MB/s eta 0:00:01\r\u001b[K     |█████████████▉                  | 225 kB 29.9 MB/s eta 0:00:01\r\u001b[K     |██████████████▌                 | 235 kB 29.9 MB/s eta 0:00:01\r\u001b[K     |███████████████                 | 245 kB 29.9 MB/s eta 0:00:01\r\u001b[K     |███████████████▊                | 256 kB 29.9 MB/s eta 0:00:01\r\u001b[K     |████████████████▍               | 266 kB 29.9 MB/s eta 0:00:01\r\u001b[K     |█████████████████               | 276 kB 29.9 MB/s eta 0:00:01\r\u001b[K     |█████████████████▋              | 286 kB 29.9 MB/s eta 0:00:01\r\u001b[K     |██████████████████▏             | 296 kB 29.9 MB/s eta 0:00:01\r\u001b[K     |██████████████████▉             | 307 kB 29.9 MB/s eta 0:00:01\r\u001b[K     |███████████████████▌            | 317 kB 29.9 MB/s eta 0:00:01\r\u001b[K     |████████████████████            | 327 kB 29.9 MB/s eta 0:00:01\r\u001b[K     |████████████████████▊           | 337 kB 29.9 MB/s eta 0:00:01\r\u001b[K     |█████████████████████▍          | 348 kB 29.9 MB/s eta 0:00:01\r\u001b[K     |██████████████████████          | 358 kB 29.9 MB/s eta 0:00:01\r\u001b[K     |██████████████████████▋         | 368 kB 29.9 MB/s eta 0:00:01\r\u001b[K     |███████████████████████▎        | 378 kB 29.9 MB/s eta 0:00:01\r\u001b[K     |███████████████████████▉        | 389 kB 29.9 MB/s eta 0:00:01\r\u001b[K     |████████████████████████▌       | 399 kB 29.9 MB/s eta 0:00:01\r\u001b[K     |█████████████████████████▏      | 409 kB 29.9 MB/s eta 0:00:01\r\u001b[K     |█████████████████████████▊      | 419 kB 29.9 MB/s eta 0:00:01\r\u001b[K     |██████████████████████████▍     | 430 kB 29.9 MB/s eta 0:00:01\r\u001b[K     |███████████████████████████     | 440 kB 29.9 MB/s eta 0:00:01\r\u001b[K     |███████████████████████████▋    | 450 kB 29.9 MB/s eta 0:00:01\r\u001b[K     |████████████████████████████▎   | 460 kB 29.9 MB/s eta 0:00:01\r\u001b[K     |█████████████████████████████   | 471 kB 29.9 MB/s eta 0:00:01\r\u001b[K     |█████████████████████████████▌  | 481 kB 29.9 MB/s eta 0:00:01\r\u001b[K     |██████████████████████████████▏ | 491 kB 29.9 MB/s eta 0:00:01\r\u001b[K     |██████████████████████████████▉ | 501 kB 29.9 MB/s eta 0:00:01\r\u001b[K     |███████████████████████████████▍| 512 kB 29.9 MB/s eta 0:00:01\r\u001b[K     |████████████████████████████████| 521 kB 29.9 MB/s \n",
            "\u001b[?25hBuilding wheels for collected packages: pyswisseph\n",
            "  Building wheel for pyswisseph (setup.py) ... \u001b[?25l\u001b[?25hdone\n",
            "  Created wheel for pyswisseph: filename=pyswisseph-2.8.0.post1-cp37-cp37m-linux_x86_64.whl size=724385 sha256=ccb1009cb2cb777c41af262d092a4b52e7f41f4656faa7492c2266c5bba42f53\n",
            "  Stored in directory: /root/.cache/pip/wheels/32/81/77/a3f7c72bd124fbdfec5f468ce0669ac09ea98a9af2b99edd61\n",
            "Successfully built pyswisseph\n",
            "Installing collected packages: pyswisseph\n",
            "Successfully installed pyswisseph-2.8.0.post1\n"
          ]
        }
      ]
    },
    {
      "cell_type": "code",
      "metadata": {
        "id": "INsjq9opScbt",
        "colab": {
          "base_uri": "https://localhost:8080/"
        },
        "outputId": "689f2f33-0607-4037-ba73-fd3d53fec5ff"
      },
      "source": [
        "!wget http://www.astro.com/ftp/swisseph/ephe/seas_18.se1\n",
        "!wget http://www.astro.com/ftp/swisseph/ephe/semo_18.se1\n",
        "!wget http://www.astro.com/ftp/swisseph/ephe/sepl_18.se1"
      ],
      "execution_count": 2,
      "outputs": [
        {
          "output_type": "stream",
          "name": "stdout",
          "text": [
            "--2022-01-08 03:53:22--  http://www.astro.com/ftp/swisseph/ephe/seas_18.se1\n",
            "Resolving www.astro.com (www.astro.com)... 192.53.104.242\n",
            "Connecting to www.astro.com (www.astro.com)|192.53.104.242|:80... connected.\n",
            "HTTP request sent, awaiting response... 200 OK\n",
            "Length: 223002 (218K)\n",
            "Saving to: ‘seas_18.se1’\n",
            "\n",
            "seas_18.se1         100%[===================>] 217.78K   593KB/s    in 0.4s    \n",
            "\n",
            "2022-01-08 03:53:22 (593 KB/s) - ‘seas_18.se1’ saved [223002/223002]\n",
            "\n",
            "--2022-01-08 03:53:22--  http://www.astro.com/ftp/swisseph/ephe/semo_18.se1\n",
            "Resolving www.astro.com (www.astro.com)... 192.53.104.242\n",
            "Connecting to www.astro.com (www.astro.com)|192.53.104.242|:80... connected.\n",
            "HTTP request sent, awaiting response... 200 OK\n",
            "Length: 1304771 (1.2M)\n",
            "Saving to: ‘semo_18.se1’\n",
            "\n",
            "semo_18.se1         100%[===================>]   1.24M  2.07MB/s    in 0.6s    \n",
            "\n",
            "2022-01-08 03:53:23 (2.07 MB/s) - ‘semo_18.se1’ saved [1304771/1304771]\n",
            "\n",
            "--2022-01-08 03:53:23--  http://www.astro.com/ftp/swisseph/ephe/sepl_18.se1\n",
            "Resolving www.astro.com (www.astro.com)... 192.53.104.242\n",
            "Connecting to www.astro.com (www.astro.com)|192.53.104.242|:80... connected.\n",
            "HTTP request sent, awaiting response... 200 OK\n",
            "Length: 484055 (473K)\n",
            "Saving to: ‘sepl_18.se1’\n",
            "\n",
            "sepl_18.se1         100%[===================>] 472.71K   995KB/s    in 0.5s    \n",
            "\n",
            "2022-01-08 03:53:24 (995 KB/s) - ‘sepl_18.se1’ saved [484055/484055]\n",
            "\n"
          ]
        }
      ]
    },
    {
      "cell_type": "code",
      "metadata": {
        "id": "AOPxw5_sTEYF"
      },
      "source": [
        "!mkdir ephe\n",
        "!mv *.se1 ephe"
      ],
      "execution_count": 3,
      "outputs": []
    },
    {
      "cell_type": "code",
      "metadata": {
        "id": "xBxYFlY_vzqZ",
        "colab": {
          "base_uri": "https://localhost:8080/",
          "height": 35
        },
        "outputId": "11004974-b36d-4367-eb38-690ca6efadf9"
      },
      "source": [
        "import swisseph as swe\n",
        "swe.version"
      ],
      "execution_count": 4,
      "outputs": [
        {
          "output_type": "execute_result",
          "data": {
            "application/vnd.google.colaboratory.intrinsic+json": {
              "type": "string"
            },
            "text/plain": [
              "'2.08'"
            ]
          },
          "metadata": {},
          "execution_count": 4
        }
      ]
    },
    {
      "cell_type": "code",
      "metadata": {
        "id": "U29C4FOKY23v"
      },
      "source": [
        "#Constants and Flags necessary for this application are set here\n",
        "#\n",
        "swe.set_ephe_path('/content/ephe') # set path to ephemeris files\n",
        "# Calendar : Julian or Gregorian\n",
        "SE_GREG_CAL = 1\n",
        "gregflag = SE_GREG_CAL\n",
        "#\n",
        "# Ayanamsha type : Lahiri = 1\n",
        "swe.set_sid_mode(1)  # Lahiri Aynamsha\n",
        "#\n",
        "# whether speed will be calculated along with position of planet\n",
        "SEFLG_SPEED = int(256)\n",
        "iflag = SEFLG_SPEED\n",
        "#hsys = P, Placidus\n",
        "#ascii P = 080\n",
        "hsysP =  bytes('P', 'utf-8')"
      ],
      "execution_count": 5,
      "outputs": []
    },
    {
      "cell_type": "code",
      "metadata": {
        "id": "sMDwxsFR_KHb"
      },
      "source": [
        "# Subtracts angles (eg Ayanamsha) from Longitudes \n",
        "# Required for conversion from Tropical (Western) to Sidereal (Indian) zodiac\n",
        "def p21Sub (x,y):\n",
        "    retVal = round(x - y,3)\n",
        "    if retVal < 0:\n",
        "        return retVal + 360\n",
        "    else:\n",
        "        return retVal"
      ],
      "execution_count": 7,
      "outputs": []
    },
    {
      "cell_type": "markdown",
      "metadata": {
        "id": "uSuVPj3kXcwC"
      },
      "source": [
        "#Personal Data\n"
      ]
    },
    {
      "cell_type": "markdown",
      "metadata": {
        "id": "vV2qkCU9itJ0"
      },
      "source": [
        "## Primary Data Input"
      ]
    },
    {
      "cell_type": "code",
      "metadata": {
        "id": "Oc79wt06HF9Q",
        "colab": {
          "base_uri": "https://localhost:8080/"
        },
        "outputId": "f265392d-e863-4bac-8403-ca168a2b1f66"
      },
      "source": [
        "pName = 'itAnch'                   # person identifier\n",
        "pBirthLocation = 'Anchiano, Tuscany, Italy'   # Place of Birth\n",
        "LBDY = 1452                         # Year of Birth, Local Time\n",
        "LBDM = 4                           # Month of Birth, Local Time\n",
        "LBDD = 15                           # Day of Birth, Local Time\n",
        "\n",
        "LBTh = 3                           # Hour of Birth, Local Time, 24 Hour Clock\n",
        "LBTm = 0                           # Minute of Birth, Local Time\n",
        "LBTs = 0                            # Second of Birth, Local Time\n",
        "\n",
        "tZone = 2                         # Time Zone Offset. East of Greenwich is +ve\n",
        "\n",
        "pBirthDate = str(LBDY)+'-'+str(LBDM)+'-'+str(LBDD)\n",
        "pBirthTime = str(LBTh)+':'+str(LBTm)\n",
        "\n",
        "print(pName,pBirthDate,pBirthTime, pBirthLocation,tZone)"
      ],
      "execution_count": 8,
      "outputs": [
        {
          "output_type": "stream",
          "name": "stdout",
          "text": [
            "itAnch 1452-4-15 3:0 Anchiano, Tuscany, Italy 2\n"
          ]
        }
      ]
    },
    {
      "cell_type": "markdown",
      "metadata": {
        "id": "12DlyRK8i8ML"
      },
      "source": [
        "## Data Conversions"
      ]
    },
    {
      "cell_type": "code",
      "metadata": {
        "id": "9LIjpr-uVDQk",
        "colab": {
          "base_uri": "https://localhost:8080/"
        },
        "outputId": "1a56d044-b1c4-4c2a-8aad-c5c43c4457a5"
      },
      "source": [
        "# Date & Time of Birth\n",
        "#Time Zone Conversion\n",
        "UTCdt = swe.utc_time_zone(LBDY,LBDM,LBDD,LBTh,LBTm,LBTs,tZone)\n",
        "print(UTCdt)"
      ],
      "execution_count": 9,
      "outputs": [
        {
          "output_type": "stream",
          "name": "stdout",
          "text": [
            "(1452, 4, 15, 1, 0, 0.0)\n"
          ]
        }
      ]
    },
    {
      "cell_type": "code",
      "metadata": {
        "id": "REht8_5TXuP1",
        "colab": {
          "base_uri": "https://localhost:8080/"
        },
        "outputId": "c6941d55-5046-41ce-a55f-1c5e0f6cb436"
      },
      "source": [
        "# Date & Time of Birth\n",
        "# Convert UTC date to Julian Date\n",
        "JD = swe.utc_to_jd(UTCdt[0],UTCdt[1],UTCdt[2],UTCdt[3],UTCdt[4],0,gregflag) # Second Value = 0\n",
        "print (JD[0], JD[1])\n",
        "# JD[0] is Ephemeris Time\n",
        "# JD[1] is Universal Time \n",
        "natalUT = JD[1]\n",
        "print(natalUT, 'Julian Date of DTofB in Universal Time')"
      ],
      "execution_count": 10,
      "outputs": [
        {
          "output_type": "stream",
          "name": "stdout",
          "text": [
            "2251496.5461319378 2251496.5416666665\n",
            "2251496.5416666665 Julian Date of DTofB in Universal Time\n"
          ]
        }
      ]
    },
    {
      "cell_type": "code",
      "metadata": {
        "id": "GTanYzSOgOU5",
        "colab": {
          "base_uri": "https://localhost:8080/"
        },
        "outputId": "edfcb908-5485-45ca-e883-1af2cb777bb8"
      },
      "source": [
        "#\n",
        "# Get Lat and Long of Place of Birth\n",
        "# https://pypi.org/project/geopy/\n",
        "#\n",
        "\n",
        "from geopy.geocoders import Nominatim\n",
        "geolocator = Nominatim(user_agent=\"Parashar21\")\n",
        "#location = geolocator.geocode(\"175 5th Avenue NYC\")\n",
        "#location = geolocator.geocode(\"36B Panditiya Road, Kolkata 700029, India\")\n",
        "location = geolocator.geocode(pBirthLocation)\n",
        "print(location.address)\n",
        "\n",
        "print(location.latitude, location.longitude)\n",
        "\n",
        "#print(location.raw)\n",
        "natalLAT = round(location.latitude,2)\n",
        "natalLON = round(location.longitude,2)\n",
        "\n",
        "print (natalLAT, natalLON)\n"
      ],
      "execution_count": 11,
      "outputs": [
        {
          "output_type": "stream",
          "name": "stdout",
          "text": [
            "Anchiano, Sant'Amato, Vinci, Firenze, Toscana, 51035, Italia\n",
            "43.7997979 10.9386473\n",
            "43.8 10.94\n"
          ]
        }
      ]
    },
    {
      "cell_type": "markdown",
      "metadata": {
        "id": "eToh8aDmbPE7"
      },
      "source": [
        "#Calculations"
      ]
    },
    {
      "cell_type": "markdown",
      "metadata": {
        "id": "micbRuchjL9S"
      },
      "source": [
        "##Ayanamsha"
      ]
    },
    {
      "cell_type": "code",
      "metadata": {
        "id": "xLXI6tIAbT17",
        "colab": {
          "base_uri": "https://localhost:8080/"
        },
        "outputId": "b06339cd-043a-4e26-8389-752a0cd08192"
      },
      "source": [
        "#Ayanamsha\n",
        "ayanamsha = swe.get_ayanamsa(natalUT)\n",
        "print('Lahiri Ayanamsha :', ayanamsha)"
      ],
      "execution_count": 12,
      "outputs": [
        {
          "output_type": "stream",
          "name": "stdout",
          "text": [
            "Lahiri Ayanamsha : 16.215465281723574\n"
          ]
        }
      ]
    },
    {
      "cell_type": "markdown",
      "metadata": {
        "id": "HRA2g0W_jTEL"
      },
      "source": [
        "##Position of Planets"
      ]
    },
    {
      "cell_type": "code",
      "metadata": {
        "id": "-IyxzVG8d9_w",
        "colab": {
          "base_uri": "https://localhost:8080/"
        },
        "outputId": "992b2040-a398-4515-dd7f-16515c8617a9"
      },
      "source": [
        "#Position of Planets\n",
        "#\n",
        "# body 0 = Sun, 1 = Moon, ... 11 = True Node (Rahu)\n",
        "bLon = []\n",
        "bRet = []\n",
        "for body in [0,1,2,3,4,5,6,11]:\n",
        "    pData = swe.calc_ut(natalUT,body,iflag)\n",
        "    bLon.append(pData[0][0])\n",
        "    if pData[0][3] >= 0:\n",
        "        bRet.append('False')\n",
        "    else :\n",
        "        bRet.append('True')\n",
        "for ix in range(len(bLon)) : print(bLon[ix], bRet[ix])"
      ],
      "execution_count": 13,
      "outputs": [
        {
          "output_type": "stream",
          "name": "stdout",
          "text": [
            "25.060024639386214 False\n",
            "225.64726348104176 False\n",
            "7.9003638047835985 True\n",
            "43.5926222952037 False\n",
            "309.5210356367755 False\n",
            "329.86236169953014 False\n",
            "194.79588902632 True\n",
            "277.2885670966194 True\n"
          ]
        }
      ]
    },
    {
      "cell_type": "markdown",
      "metadata": {
        "id": "YWYMQImZjYHD"
      },
      "source": [
        "##House Position and Ascendants"
      ]
    },
    {
      "cell_type": "code",
      "metadata": {
        "id": "FAYRZbK1pJ0k",
        "colab": {
          "base_uri": "https://localhost:8080/"
        },
        "outputId": "c2b63bc2-607f-42ce-904d-68beef0164e0"
      },
      "source": [
        "#House Position and Ascendants\n",
        "P = swe.houses(natalUT,natalLAT,natalLON,hsysP)\n",
        "for ix in range(len(P[0])) : print(P[0][ix])\n",
        "for ix in range(len(P[1])) : print(P[1][ix])"
      ],
      "execution_count": 14,
      "outputs": [
        {
          "output_type": "stream",
          "name": "stdout",
          "text": [
            "295.47532621478933\n",
            "343.78652259034817\n",
            "23.998887802118055\n",
            "51.62141013754302\n",
            "72.86746585235147\n",
            "92.53645868547517\n",
            "115.47532621478933\n",
            "163.7865225903481\n",
            "203.99888780211805\n",
            "231.62141013754302\n",
            "252.86746585235147\n",
            "272.53645868547517\n",
            "295.47532621478933\n",
            "231.62141013754302\n",
            "229.18343705523412\n",
            "149.50708418599856\n",
            "316.7145816764518\n",
            "328.73511175974954\n",
            "293.0394528287018\n",
            "148.73511175974954\n"
          ]
        }
      ]
    },
    {
      "cell_type": "markdown",
      "metadata": {
        "id": "vpxcfn3vtUUW"
      },
      "source": [
        "The output generated here matches with the output generated by the Windows program swetest"
      ]
    },
    {
      "cell_type": "markdown",
      "metadata": {
        "id": "VfhBi9SW8bBg"
      },
      "source": [
        "#Creating py21 file"
      ]
    },
    {
      "cell_type": "code",
      "metadata": {
        "id": "DN3Bm5qp8fUv",
        "colab": {
          "base_uri": "https://localhost:8080/"
        },
        "outputId": "7004993e-7b06-431e-f998-8e7083c60e81"
      },
      "source": [
        "L1 = ''\n",
        "L1 = L1 + 'La:'+str(p21Sub(P[1][0],ayanamsha))+','\n",
        "L1 = L1 + 'Su:'+str(p21Sub(bLon[0],ayanamsha))+','\n",
        "L1 = L1 + 'Mo:'+str(p21Sub(bLon[1],ayanamsha))+','\n",
        "L1 = L1 + 'Ma:'+str(p21Sub(bLon[4],ayanamsha))+','\n",
        "L1 = L1 + 'Me:'+str(p21Sub(bLon[2],ayanamsha))+','\n",
        "L1 = L1 + 'Ju:'+str(p21Sub(bLon[5],ayanamsha))+','\n",
        "L1 = L1 + 'Ve:'+str(p21Sub(bLon[3],ayanamsha))+','\n",
        "L1 = L1 + 'Sa:'+str(p21Sub(bLon[6],ayanamsha))+','\n",
        "L1 = L1 + 'Ra:'+str(p21Sub(bLon[7],ayanamsha))+','\n",
        "L1 = L1 + 'Ke:'+str(p21Sub(p21Sub(bLon[7],ayanamsha),180))\n",
        "L1 = L1 + '\\n'\n",
        "print(L1)"
      ],
      "execution_count": 15,
      "outputs": [
        {
          "output_type": "stream",
          "name": "stdout",
          "text": [
            "La:279.26,Su:8.845,Mo:209.432,Ma:293.306,Me:351.685,Ju:313.647,Ve:27.377,Sa:178.58,Ra:261.073,Ke:81.073\n",
            "\n"
          ]
        }
      ]
    },
    {
      "cell_type": "code",
      "metadata": {
        "id": "BoaNT2LDFBuR",
        "colab": {
          "base_uri": "https://localhost:8080/"
        },
        "outputId": "1ee87f21-c34c-40fb-f17f-705edd30fe88"
      },
      "source": [
        "L2 = ''\n",
        "L2 = L2 + 'La:'+'False'+','\n",
        "L2 = L2 + 'Su:'+bRet[0]+','\n",
        "L2 = L2 + 'Mo:'+bRet[1]+','\n",
        "L2 = L2 + 'Ma:'+bRet[4]+','\n",
        "L2 = L2 + 'Me:'+bRet[2]+','\n",
        "L2 = L2 + 'Ju:'+bRet[5]+','\n",
        "L2 = L2 + 'Ve:'+bRet[3]+','\n",
        "L2 = L2 + 'Sa:'+bRet[6]+','\n",
        "L2 = L2 + 'Ra:'+'False'+','\n",
        "L2 = L2 + 'Ke:'+'False'\n",
        "L2 = L2 + '\\n'\n",
        "print(L2)"
      ],
      "execution_count": 16,
      "outputs": [
        {
          "output_type": "stream",
          "name": "stdout",
          "text": [
            "La:False,Su:False,Mo:False,Ma:False,Me:True,Ju:False,Ve:False,Sa:True,Ra:False,Ke:False\n",
            "\n"
          ]
        }
      ]
    },
    {
      "cell_type": "code",
      "metadata": {
        "id": "HBTuc4csGOQk",
        "colab": {
          "base_uri": "https://localhost:8080/"
        },
        "outputId": "7249881b-1c3b-41aa-9579-9dc2aa945395"
      },
      "source": [
        "L3 = pName+';'+pBirthDate+';'+pBirthTime+';'+pBirthLocation\n",
        "print(L3)"
      ],
      "execution_count": 17,
      "outputs": [
        {
          "output_type": "stream",
          "name": "stdout",
          "text": [
            "itAnch;1452-4-15;3:0;Anchiano, Tuscany, Italy\n"
          ]
        }
      ]
    },
    {
      "cell_type": "code",
      "metadata": {
        "id": "LDTacApvH7Mf"
      },
      "source": [
        "writefile = pName+'.py21'\n",
        "f1 = open(writefile, 'w')\n",
        "f1.write(L1)  # python will convert \\n to os.linesep\n",
        "f1.write(L2)\n",
        "f1.write(L3)\n",
        "f1.close()"
      ],
      "execution_count": 18,
      "outputs": []
    },
    {
      "cell_type": "code",
      "metadata": {
        "id": "0L_8vKX9IZHy",
        "colab": {
          "base_uri": "https://localhost:8080/"
        },
        "outputId": "7a056c5f-d19c-4aeb-e7e7-e06194b7c60f"
      },
      "source": [
        "!cat itAnch.py21"
      ],
      "execution_count": 19,
      "outputs": [
        {
          "output_type": "stream",
          "name": "stdout",
          "text": [
            "La:279.26,Su:8.845,Mo:209.432,Ma:293.306,Me:351.685,Ju:313.647,Ve:27.377,Sa:178.58,Ra:261.073,Ke:81.073\n",
            "La:False,Su:False,Mo:False,Ma:False,Me:True,Ju:False,Ve:False,Sa:True,Ra:False,Ke:False\n",
            "itAnch;1452-4-15;3:0;Anchiano, Tuscany, Italy"
          ]
        }
      ]
    },
    {
      "cell_type": "code",
      "metadata": {
        "id": "JMb02YZjTwSn",
        "colab": {
          "base_uri": "https://localhost:8080/"
        },
        "outputId": "9256c7f5-02ed-4abd-de3e-fdc9c76538d6"
      },
      "source": [
        "from google.colab import drive\n",
        "drive.mount('/content/drive')"
      ],
      "execution_count": 20,
      "outputs": [
        {
          "output_type": "stream",
          "name": "stdout",
          "text": [
            "Mounted at /content/drive\n"
          ]
        }
      ]
    },
    {
      "cell_type": "code",
      "metadata": {
        "id": "LC90E-vET8ke",
        "colab": {
          "base_uri": "https://localhost:8080/"
        },
        "outputId": "09b2e092-bb4d-4cca-9a9c-6de51a732d15"
      },
      "source": [
        "!ls /content/drive/\"My Drive\"/Prithwis/Parashar21/py21-files"
      ],
      "execution_count": 24,
      "outputs": [
        {
          "output_type": "stream",
          "name": "stdout",
          "text": [
            "DaVinci.py21  itAnch.py21  niCha01.py21  wrCal02.py21\n",
            "imCal02.py21  NDModi.py21  pmCal02.py21\n"
          ]
        }
      ]
    },
    {
      "cell_type": "code",
      "metadata": {
        "id": "WahY_TgnUHa4"
      },
      "source": [
        "#!cp *.py21 /content/drive/\"My Drive\"/Personal/Parashar21/datafiles\n",
        "!cp itAnch.py21 /content/drive/\"My Drive\"/Prithwis/Parashar21/py21-files"
      ],
      "execution_count": 23,
      "outputs": []
    },
    {
      "cell_type": "markdown",
      "metadata": {
        "id": "QGxOl9rdrvEg"
      },
      "source": [
        "#Chronobooks <br>\n",
        "![alt text](https://1.bp.blogspot.com/-lTiYBkU2qbU/X1er__fvnkI/AAAAAAAAjtE/GhDR3OEGJr4NG43fZPodrQD5kbxtnKebgCLcBGAsYHQ/s600/Footer2020-600x200.png)<hr>\n",
        "Chronotantra and Chronoyantra are two science fiction novels that explore the collapse of human civilisation on Earth and then its rebirth and reincarnation both on Earth as well as on the distant worlds of Mars, Titan and Enceladus. But is it the human civilisation that is being reborn? Or is it some other sentience that is revealing itself. \n",
        "If you have an interest in AI and found this material useful, you may consider buying these novels, in paperback or kindle, from [http://bit.ly/chronobooks](http://bit.ly/chronobooks)"
      ]
    }
  ]
}