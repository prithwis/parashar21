{
  "nbformat": 4,
  "nbformat_minor": 0,
  "metadata": {
    "colab": {
      "provenance": [],
      "collapsed_sections": [],
      "include_colab_link": true
    },
    "kernelspec": {
      "name": "python3",
      "display_name": "Python 3"
    },
    "language_info": {
      "name": "python"
    }
  },
  "cells": [
    {
      "cell_type": "markdown",
      "metadata": {
        "id": "view-in-github",
        "colab_type": "text"
      },
      "source": [
        "<a href=\"https://colab.research.google.com/github/prithwis/parashar21/blob/main/P21_45_06_SingleChart_Yogs.ipynb\" target=\"_parent\"><img src=\"https://colab.research.google.com/assets/colab-badge.svg\" alt=\"Open In Colab\"/></a>"
      ]
    },
    {
      "cell_type": "markdown",
      "source": [
        "![alt text](http://1.bp.blogspot.com/_5QlanosqxiQ/SXLOLTu7S7I/AAAAAAAAAm8/0r6C7lCxsic/S1600-R/p21-header-003.png) <br>\n",
        "\n",
        "\n",
        "---\n",
        "\n",
        "\n",
        "\n",
        "[Prithwis Mukerjee](http://www.yantrajaal.com) ||\n",
        "Website - [Parashar21](https://parashar21.blogspot.com)<br>"
      ],
      "metadata": {
        "id": "rj4jjIHTvPV8"
      }
    },
    {
      "cell_type": "markdown",
      "source": [
        "Copyright (c) 2022, Prithwis Mukerjee All rights reserved.\n",
        "\n",
        "This source code is licensed under the GNU GPL v3.0 -style license found in the LICENSE file in the root directory of this source tree."
      ],
      "metadata": {
        "id": "9OzVEmHm1IaF"
      }
    },
    {
      "cell_type": "markdown",
      "source": [
        "#Rationale\n",
        "\n",
        "Why MongoDB here? <br> <br>\n",
        "\n",
        "Parashar21 was designed to cast horoscopes, convert the data in JSON format and then store the same in a MongoDB database. The Mongo query language was next used to filter out horoscopes that met certain criteria and then create human readable MS-Word documents for each selected horoscope. <br> <br>\n",
        "In this notebook, our focus is a single horoscope chart but to reuse the considerable effort that has gone into the earlier effort, we are still storing the single chart in a MongdDB and then retrieving it for subsequent processing. This MongoDB may seem to be an additional overhead but actually it is not. Because checking to see if a chart meets certain criteria is no different from extracting the same from a database when it meets the same criteria. <br> <br>\n",
        "This is particularly true when we have to search for different Yogs ( or complex conjuctions) <br> <br>\n",
        "Also the report writing modules are based on the fact that the chart has been extracted from a MongoDB database and we are reusing the same modules."
      ],
      "metadata": {
        "id": "MKVBLfNMnXYE"
      }
    },
    {
      "cell_type": "markdown",
      "source": [
        "#SetUp Environment"
      ],
      "metadata": {
        "id": "l2v2nhRKvwJS"
      }
    },
    {
      "cell_type": "markdown",
      "source": [
        "##Install Software"
      ],
      "metadata": {
        "id": "djqyotVjO5TI"
      }
    },
    {
      "cell_type": "code",
      "source": [
        "!pip -qq install pyswisseph                                 # https://stackoverflow.com/questions/64277506/pip-install-options-unclear\n",
        "\n",
        "#!/usr/bin/python3 -m pip install \"pymongo[srv]\"\n",
        "!apt install mongodb > /dev/null            # install local MongoDB server           \n",
        "!service mongodb start                      # start Local MongoDB server instance\n",
        "\n",
        "!pip -qq install python-docx                #https://python-docx.readthedocs.io/en/latest/\n",
        "\n"
      ],
      "metadata": {
        "colab": {
          "base_uri": "https://localhost:8080/"
        },
        "id": "AWKFabc0v3FI",
        "outputId": "3b7074e0-49d8-4221-98f4-4b1ac12f9607"
      },
      "execution_count": 1,
      "outputs": [
        {
          "output_type": "stream",
          "name": "stdout",
          "text": [
            "\u001b[?25l\r\u001b[K     |▏                               | 10 kB 21.3 MB/s eta 0:00:01\r\u001b[K     |▍                               | 20 kB 28.8 MB/s eta 0:00:01\r\u001b[K     |▌                               | 30 kB 38.1 MB/s eta 0:00:01\r\u001b[K     |▊                               | 40 kB 28.1 MB/s eta 0:00:01\r\u001b[K     |█                               | 51 kB 24.2 MB/s eta 0:00:01\r\u001b[K     |█                               | 61 kB 24.7 MB/s eta 0:00:01\r\u001b[K     |█▎                              | 71 kB 26.6 MB/s eta 0:00:01\r\u001b[K     |█▌                              | 81 kB 23.4 MB/s eta 0:00:01\r\u001b[K     |█▋                              | 92 kB 25.2 MB/s eta 0:00:01\r\u001b[K     |█▉                              | 102 kB 27.2 MB/s eta 0:00:01\r\u001b[K     |██                              | 112 kB 27.2 MB/s eta 0:00:01\r\u001b[K     |██▏                             | 122 kB 27.2 MB/s eta 0:00:01\r\u001b[K     |██▍                             | 133 kB 27.2 MB/s eta 0:00:01\r\u001b[K     |██▌                             | 143 kB 27.2 MB/s eta 0:00:01\r\u001b[K     |██▊                             | 153 kB 27.2 MB/s eta 0:00:01\r\u001b[K     |███                             | 163 kB 27.2 MB/s eta 0:00:01\r\u001b[K     |███                             | 174 kB 27.2 MB/s eta 0:00:01\r\u001b[K     |███▎                            | 184 kB 27.2 MB/s eta 0:00:01\r\u001b[K     |███▌                            | 194 kB 27.2 MB/s eta 0:00:01\r\u001b[K     |███▋                            | 204 kB 27.2 MB/s eta 0:00:01\r\u001b[K     |███▉                            | 215 kB 27.2 MB/s eta 0:00:01\r\u001b[K     |████                            | 225 kB 27.2 MB/s eta 0:00:01\r\u001b[K     |████▏                           | 235 kB 27.2 MB/s eta 0:00:01\r\u001b[K     |████▍                           | 245 kB 27.2 MB/s eta 0:00:01\r\u001b[K     |████▌                           | 256 kB 27.2 MB/s eta 0:00:01\r\u001b[K     |████▊                           | 266 kB 27.2 MB/s eta 0:00:01\r\u001b[K     |█████                           | 276 kB 27.2 MB/s eta 0:00:01\r\u001b[K     |█████                           | 286 kB 27.2 MB/s eta 0:00:01\r\u001b[K     |█████▎                          | 296 kB 27.2 MB/s eta 0:00:01\r\u001b[K     |█████▌                          | 307 kB 27.2 MB/s eta 0:00:01\r\u001b[K     |█████▋                          | 317 kB 27.2 MB/s eta 0:00:01\r\u001b[K     |█████▉                          | 327 kB 27.2 MB/s eta 0:00:01\r\u001b[K     |██████                          | 337 kB 27.2 MB/s eta 0:00:01\r\u001b[K     |██████▏                         | 348 kB 27.2 MB/s eta 0:00:01\r\u001b[K     |██████▍                         | 358 kB 27.2 MB/s eta 0:00:01\r\u001b[K     |██████▌                         | 368 kB 27.2 MB/s eta 0:00:01\r\u001b[K     |██████▊                         | 378 kB 27.2 MB/s eta 0:00:01\r\u001b[K     |███████                         | 389 kB 27.2 MB/s eta 0:00:01\r\u001b[K     |███████                         | 399 kB 27.2 MB/s eta 0:00:01\r\u001b[K     |███████▎                        | 409 kB 27.2 MB/s eta 0:00:01\r\u001b[K     |███████▌                        | 419 kB 27.2 MB/s eta 0:00:01\r\u001b[K     |███████▋                        | 430 kB 27.2 MB/s eta 0:00:01\r\u001b[K     |███████▉                        | 440 kB 27.2 MB/s eta 0:00:01\r\u001b[K     |████████                        | 450 kB 27.2 MB/s eta 0:00:01\r\u001b[K     |████████▏                       | 460 kB 27.2 MB/s eta 0:00:01\r\u001b[K     |████████▍                       | 471 kB 27.2 MB/s eta 0:00:01\r\u001b[K     |████████▌                       | 481 kB 27.2 MB/s eta 0:00:01\r\u001b[K     |████████▊                       | 491 kB 27.2 MB/s eta 0:00:01\r\u001b[K     |█████████                       | 501 kB 27.2 MB/s eta 0:00:01\r\u001b[K     |█████████                       | 512 kB 27.2 MB/s eta 0:00:01\r\u001b[K     |█████████▎                      | 522 kB 27.2 MB/s eta 0:00:01\r\u001b[K     |█████████▌                      | 532 kB 27.2 MB/s eta 0:00:01\r\u001b[K     |█████████▋                      | 542 kB 27.2 MB/s eta 0:00:01\r\u001b[K     |█████████▉                      | 552 kB 27.2 MB/s eta 0:00:01\r\u001b[K     |██████████                      | 563 kB 27.2 MB/s eta 0:00:01\r\u001b[K     |██████████▏                     | 573 kB 27.2 MB/s eta 0:00:01\r\u001b[K     |██████████▍                     | 583 kB 27.2 MB/s eta 0:00:01\r\u001b[K     |██████████▌                     | 593 kB 27.2 MB/s eta 0:00:01\r\u001b[K     |██████████▊                     | 604 kB 27.2 MB/s eta 0:00:01\r\u001b[K     |███████████                     | 614 kB 27.2 MB/s eta 0:00:01\r\u001b[K     |███████████                     | 624 kB 27.2 MB/s eta 0:00:01\r\u001b[K     |███████████▎                    | 634 kB 27.2 MB/s eta 0:00:01\r\u001b[K     |███████████▌                    | 645 kB 27.2 MB/s eta 0:00:01\r\u001b[K     |███████████▋                    | 655 kB 27.2 MB/s eta 0:00:01\r\u001b[K     |███████████▉                    | 665 kB 27.2 MB/s eta 0:00:01\r\u001b[K     |████████████                    | 675 kB 27.2 MB/s eta 0:00:01\r\u001b[K     |████████████▏                   | 686 kB 27.2 MB/s eta 0:00:01\r\u001b[K     |████████████▍                   | 696 kB 27.2 MB/s eta 0:00:01\r\u001b[K     |████████████▋                   | 706 kB 27.2 MB/s eta 0:00:01\r\u001b[K     |████████████▊                   | 716 kB 27.2 MB/s eta 0:00:01\r\u001b[K     |█████████████                   | 727 kB 27.2 MB/s eta 0:00:01\r\u001b[K     |█████████████                   | 737 kB 27.2 MB/s eta 0:00:01\r\u001b[K     |█████████████▎                  | 747 kB 27.2 MB/s eta 0:00:01\r\u001b[K     |█████████████▌                  | 757 kB 27.2 MB/s eta 0:00:01\r\u001b[K     |█████████████▋                  | 768 kB 27.2 MB/s eta 0:00:01\r\u001b[K     |█████████████▉                  | 778 kB 27.2 MB/s eta 0:00:01\r\u001b[K     |██████████████                  | 788 kB 27.2 MB/s eta 0:00:01\r\u001b[K     |██████████████▏                 | 798 kB 27.2 MB/s eta 0:00:01\r\u001b[K     |██████████████▍                 | 808 kB 27.2 MB/s eta 0:00:01\r\u001b[K     |██████████████▋                 | 819 kB 27.2 MB/s eta 0:00:01\r\u001b[K     |██████████████▊                 | 829 kB 27.2 MB/s eta 0:00:01\r\u001b[K     |███████████████                 | 839 kB 27.2 MB/s eta 0:00:01\r\u001b[K     |███████████████                 | 849 kB 27.2 MB/s eta 0:00:01\r\u001b[K     |███████████████▎                | 860 kB 27.2 MB/s eta 0:00:01\r\u001b[K     |███████████████▌                | 870 kB 27.2 MB/s eta 0:00:01\r\u001b[K     |███████████████▋                | 880 kB 27.2 MB/s eta 0:00:01\r\u001b[K     |███████████████▉                | 890 kB 27.2 MB/s eta 0:00:01\r\u001b[K     |████████████████                | 901 kB 27.2 MB/s eta 0:00:01\r\u001b[K     |████████████████▏               | 911 kB 27.2 MB/s eta 0:00:01\r\u001b[K     |████████████████▍               | 921 kB 27.2 MB/s eta 0:00:01\r\u001b[K     |████████████████▋               | 931 kB 27.2 MB/s eta 0:00:01\r\u001b[K     |████████████████▊               | 942 kB 27.2 MB/s eta 0:00:01\r\u001b[K     |█████████████████               | 952 kB 27.2 MB/s eta 0:00:01\r\u001b[K     |█████████████████               | 962 kB 27.2 MB/s eta 0:00:01\r\u001b[K     |█████████████████▎              | 972 kB 27.2 MB/s eta 0:00:01\r\u001b[K     |█████████████████▌              | 983 kB 27.2 MB/s eta 0:00:01\r\u001b[K     |█████████████████▋              | 993 kB 27.2 MB/s eta 0:00:01\r\u001b[K     |█████████████████▉              | 1.0 MB 27.2 MB/s eta 0:00:01\r\u001b[K     |██████████████████              | 1.0 MB 27.2 MB/s eta 0:00:01\r\u001b[K     |██████████████████▏             | 1.0 MB 27.2 MB/s eta 0:00:01\r\u001b[K     |██████████████████▍             | 1.0 MB 27.2 MB/s eta 0:00:01\r\u001b[K     |██████████████████▋             | 1.0 MB 27.2 MB/s eta 0:00:01\r\u001b[K     |██████████████████▊             | 1.1 MB 27.2 MB/s eta 0:00:01\r\u001b[K     |███████████████████             | 1.1 MB 27.2 MB/s eta 0:00:01\r\u001b[K     |███████████████████             | 1.1 MB 27.2 MB/s eta 0:00:01\r\u001b[K     |███████████████████▎            | 1.1 MB 27.2 MB/s eta 0:00:01\r\u001b[K     |███████████████████▌            | 1.1 MB 27.2 MB/s eta 0:00:01\r\u001b[K     |███████████████████▋            | 1.1 MB 27.2 MB/s eta 0:00:01\r\u001b[K     |███████████████████▉            | 1.1 MB 27.2 MB/s eta 0:00:01\r\u001b[K     |████████████████████            | 1.1 MB 27.2 MB/s eta 0:00:01\r\u001b[K     |████████████████████▏           | 1.1 MB 27.2 MB/s eta 0:00:01\r\u001b[K     |████████████████████▍           | 1.1 MB 27.2 MB/s eta 0:00:01\r\u001b[K     |████████████████████▋           | 1.2 MB 27.2 MB/s eta 0:00:01\r\u001b[K     |████████████████████▊           | 1.2 MB 27.2 MB/s eta 0:00:01\r\u001b[K     |█████████████████████           | 1.2 MB 27.2 MB/s eta 0:00:01\r\u001b[K     |█████████████████████           | 1.2 MB 27.2 MB/s eta 0:00:01\r\u001b[K     |█████████████████████▎          | 1.2 MB 27.2 MB/s eta 0:00:01\r\u001b[K     |█████████████████████▌          | 1.2 MB 27.2 MB/s eta 0:00:01\r\u001b[K     |█████████████████████▋          | 1.2 MB 27.2 MB/s eta 0:00:01\r\u001b[K     |█████████████████████▉          | 1.2 MB 27.2 MB/s eta 0:00:01\r\u001b[K     |██████████████████████          | 1.2 MB 27.2 MB/s eta 0:00:01\r\u001b[K     |██████████████████████▏         | 1.2 MB 27.2 MB/s eta 0:00:01\r\u001b[K     |██████████████████████▍         | 1.3 MB 27.2 MB/s eta 0:00:01\r\u001b[K     |██████████████████████▋         | 1.3 MB 27.2 MB/s eta 0:00:01\r\u001b[K     |██████████████████████▊         | 1.3 MB 27.2 MB/s eta 0:00:01\r\u001b[K     |███████████████████████         | 1.3 MB 27.2 MB/s eta 0:00:01\r\u001b[K     |███████████████████████▏        | 1.3 MB 27.2 MB/s eta 0:00:01\r\u001b[K     |███████████████████████▎        | 1.3 MB 27.2 MB/s eta 0:00:01\r\u001b[K     |███████████████████████▌        | 1.3 MB 27.2 MB/s eta 0:00:01\r\u001b[K     |███████████████████████▋        | 1.3 MB 27.2 MB/s eta 0:00:01\r\u001b[K     |███████████████████████▉        | 1.3 MB 27.2 MB/s eta 0:00:01\r\u001b[K     |████████████████████████        | 1.4 MB 27.2 MB/s eta 0:00:01\r\u001b[K     |████████████████████████▏       | 1.4 MB 27.2 MB/s eta 0:00:01\r\u001b[K     |████████████████████████▍       | 1.4 MB 27.2 MB/s eta 0:00:01\r\u001b[K     |████████████████████████▋       | 1.4 MB 27.2 MB/s eta 0:00:01\r\u001b[K     |████████████████████████▊       | 1.4 MB 27.2 MB/s eta 0:00:01\r\u001b[K     |█████████████████████████       | 1.4 MB 27.2 MB/s eta 0:00:01\r\u001b[K     |█████████████████████████▏      | 1.4 MB 27.2 MB/s eta 0:00:01\r\u001b[K     |█████████████████████████▎      | 1.4 MB 27.2 MB/s eta 0:00:01\r\u001b[K     |█████████████████████████▌      | 1.4 MB 27.2 MB/s eta 0:00:01\r\u001b[K     |█████████████████████████▋      | 1.4 MB 27.2 MB/s eta 0:00:01\r\u001b[K     |█████████████████████████▉      | 1.5 MB 27.2 MB/s eta 0:00:01\r\u001b[K     |██████████████████████████      | 1.5 MB 27.2 MB/s eta 0:00:01\r\u001b[K     |██████████████████████████▏     | 1.5 MB 27.2 MB/s eta 0:00:01\r\u001b[K     |██████████████████████████▍     | 1.5 MB 27.2 MB/s eta 0:00:01\r\u001b[K     |██████████████████████████▋     | 1.5 MB 27.2 MB/s eta 0:00:01\r\u001b[K     |██████████████████████████▊     | 1.5 MB 27.2 MB/s eta 0:00:01\r\u001b[K     |███████████████████████████     | 1.5 MB 27.2 MB/s eta 0:00:01\r\u001b[K     |███████████████████████████▏    | 1.5 MB 27.2 MB/s eta 0:00:01\r\u001b[K     |███████████████████████████▎    | 1.5 MB 27.2 MB/s eta 0:00:01\r\u001b[K     |███████████████████████████▌    | 1.5 MB 27.2 MB/s eta 0:00:01\r\u001b[K     |███████████████████████████▋    | 1.6 MB 27.2 MB/s eta 0:00:01\r\u001b[K     |███████████████████████████▉    | 1.6 MB 27.2 MB/s eta 0:00:01\r\u001b[K     |████████████████████████████    | 1.6 MB 27.2 MB/s eta 0:00:01\r\u001b[K     |████████████████████████████▏   | 1.6 MB 27.2 MB/s eta 0:00:01\r\u001b[K     |████████████████████████████▍   | 1.6 MB 27.2 MB/s eta 0:00:01\r\u001b[K     |████████████████████████████▋   | 1.6 MB 27.2 MB/s eta 0:00:01\r\u001b[K     |████████████████████████████▊   | 1.6 MB 27.2 MB/s eta 0:00:01\r\u001b[K     |█████████████████████████████   | 1.6 MB 27.2 MB/s eta 0:00:01\r\u001b[K     |█████████████████████████████▏  | 1.6 MB 27.2 MB/s eta 0:00:01\r\u001b[K     |█████████████████████████████▎  | 1.6 MB 27.2 MB/s eta 0:00:01\r\u001b[K     |█████████████████████████████▌  | 1.7 MB 27.2 MB/s eta 0:00:01\r\u001b[K     |█████████████████████████████▋  | 1.7 MB 27.2 MB/s eta 0:00:01\r\u001b[K     |█████████████████████████████▉  | 1.7 MB 27.2 MB/s eta 0:00:01\r\u001b[K     |██████████████████████████████  | 1.7 MB 27.2 MB/s eta 0:00:01\r\u001b[K     |██████████████████████████████▏ | 1.7 MB 27.2 MB/s eta 0:00:01\r\u001b[K     |██████████████████████████████▍ | 1.7 MB 27.2 MB/s eta 0:00:01\r\u001b[K     |██████████████████████████████▋ | 1.7 MB 27.2 MB/s eta 0:00:01\r\u001b[K     |██████████████████████████████▊ | 1.7 MB 27.2 MB/s eta 0:00:01\r\u001b[K     |███████████████████████████████ | 1.7 MB 27.2 MB/s eta 0:00:01\r\u001b[K     |███████████████████████████████▏| 1.8 MB 27.2 MB/s eta 0:00:01\r\u001b[K     |███████████████████████████████▎| 1.8 MB 27.2 MB/s eta 0:00:01\r\u001b[K     |███████████████████████████████▌| 1.8 MB 27.2 MB/s eta 0:00:01\r\u001b[K     |███████████████████████████████▋| 1.8 MB 27.2 MB/s eta 0:00:01\r\u001b[K     |███████████████████████████████▉| 1.8 MB 27.2 MB/s eta 0:00:01\r\u001b[K     |████████████████████████████████| 1.8 MB 27.2 MB/s \n",
            "\u001b[?25h\n",
            "WARNING: apt does not have a stable CLI interface. Use with caution in scripts.\n",
            "\n",
            " * Starting database mongodb\n",
            "   ...done.\n",
            "\u001b[K     |████████████████████████████████| 5.6 MB 26.9 MB/s \n",
            "\u001b[?25h  Building wheel for python-docx (setup.py) ... \u001b[?25l\u001b[?25hdone\n"
          ]
        }
      ]
    },
    {
      "cell_type": "markdown",
      "source": [
        "##Install, import prerequisites"
      ],
      "metadata": {
        "id": "Vml3UdnbOAlO"
      }
    },
    {
      "cell_type": "code",
      "source": [
        "#Utility functions \n",
        "from pymongo import MongoClient\n",
        "import pandas as pd\n",
        "import dateutil\n",
        "import json\n",
        "from docx import Document\n",
        "from docx.shared import Inches\n",
        "from docx.enum.text import WD_ALIGN_PARAGRAPH\n",
        "from datetime import datetime\n",
        "from datetime import timedelta\n",
        "import pytz\n",
        "\n",
        "#import matplotlib.pyplot as plt\n",
        "#import math\n"
      ],
      "metadata": {
        "id": "tsCga6c8pLvM"
      },
      "execution_count": 2,
      "outputs": []
    },
    {
      "cell_type": "code",
      "source": [
        "#Load p21 modules from github\n",
        "!wget -O p21.py -q https://raw.githubusercontent.com/prithwis/parashar21/main/utils/p21.py                  # all global variables\n",
        "!wget -O p21utils.py -q https://raw.githubusercontent.com/prithwis/parashar21/main/utils/p21utils.py        # large number of utility functions\n",
        "!wget -O p21utilsR.py -q https://raw.githubusercontent.com/prithwis/parashar21/main/utils/p21utilsR.py \n",
        "!wget -O p21swe.py -q https://raw.githubusercontent.com/prithwis/parashar21/main/utils/p21swe.py            # Swiss Ephemeris functions\n",
        "!wget -O p21YogInfo.py -q https://raw.githubusercontent.com/prithwis/parashar21/main/utils/p21YogInfo.py    # yog data \n",
        "# ---------------------------\n",
        "\n",
        "!wget -O Saraswati.png -q https://github.com/prithwis/parashar21/raw/main/images/Saraswati02.png                 \n",
        "!wget -O p21logo.png -q https://github.com/prithwis/parashar21/raw/main/images/p21logo-002-1.png                  "
      ],
      "metadata": {
        "id": "uwAT_IbvB0A-"
      },
      "execution_count": 3,
      "outputs": []
    },
    {
      "cell_type": "code",
      "source": [
        "#!cat p21utils.py\n",
        "import p21\n",
        "import p21utils\n",
        "import p21utilsR\n",
        "import p21swe\n",
        "import p21YogInfo\n",
        "# ------------------------------------------------\n",
        "# required for multiple imports of the same module\n",
        "# ------------------------------------------------\n",
        "import importlib\n",
        "importlib.reload(p21)\n",
        "importlib.reload(p21utils)\n",
        "importlib.reload(p21utilsR)\n",
        "importlib.reload(p21swe)\n",
        "importlib.reload(p21YogInfo)\n",
        "\n",
        "from p21YogInfo import  yogCond, yogText"
      ],
      "metadata": {
        "id": "xOlbcnu33PmG",
        "outputId": "15879eac-a7eb-4765-a191-72580e44404a",
        "colab": {
          "base_uri": "https://localhost:8080/"
        }
      },
      "execution_count": 16,
      "outputs": [
        {
          "output_type": "stream",
          "name": "stdout",
          "text": [
            "imported p21\n",
            "p21utils imported\n",
            "p21utilsR imported\n",
            "p21swe imported\n"
          ]
        }
      ]
    },
    {
      "cell_type": "code",
      "source": [
        "#Download Swiss Ephemeris Files \n",
        "!wget -q http://www.astro.com/ftp/swisseph/ephe/seas_18.se1\n",
        "!wget -q http://www.astro.com/ftp/swisseph/ephe/semo_18.se1\n",
        "!wget -q http://www.astro.com/ftp/swisseph/ephe/sepl_18.se1\n",
        "!mkdir ephe\n",
        "!mv *.se1 ephe\n",
        "#------------------------------\n",
        "# Configure SWE with appropriate parameters\n",
        "#\n",
        "p21swe.C01_configSWE()"
      ],
      "metadata": {
        "id": "kMKlXoDGH8XP"
      },
      "execution_count": 5,
      "outputs": []
    },
    {
      "cell_type": "markdown",
      "source": [
        "# Standalone database\n",
        "\n",
        "We use a locally installed, temporary MongoDB to store and process the data\n"
      ],
      "metadata": {
        "id": "937sm5u0g4r_"
      }
    },
    {
      "cell_type": "markdown",
      "source": [
        "## Generate Data"
      ],
      "metadata": {
        "id": "ttRyzy7b9D3t"
      }
    },
    {
      "cell_type": "code",
      "source": [
        "#Read Birth Data from a file\n",
        "import pandas as pd\n",
        "\n",
        "!wget -O peopleData.csv -q https://raw.githubusercontent.com/prithwis/parashar21/main/data/Test5Data.txt # 5 Person Test Data\n",
        "\n",
        "\n",
        "df0 = pd.read_csv('peopleData.csv')\n",
        "df0.head()"
      ],
      "metadata": {
        "id": "bwyM7vzn9eEr",
        "outputId": "f349fa4e-491a-48f9-97ea-451ac2ea93fc",
        "colab": {
          "base_uri": "https://localhost:8080/",
          "height": 270
        }
      },
      "execution_count": 6,
      "outputs": [
        {
          "output_type": "execute_result",
          "data": {
            "text/plain": [
              "  Gender    Voc1_Cat Voc1_Det       Voc2_Cat Voc2_Det      Voc3_Cat Voc3_Det  \\\n",
              "0      M    Engineer      nil        Teacher      nil  PostGraduate      nil   \n",
              "1      F      Author      nil      Homemaker      nil  PostGraduate      nil   \n",
              "2      M    Engineer      nil        Teacher      nil  PostGraduate      nil   \n",
              "3      F   Biologist      nil      Scientist      nil  PostGraduate      nil   \n",
              "4      M  Politician      nil  Administrator      nil           nil      nil   \n",
              "\n",
              "   DoB_Day  DoB_Mon  DoB_Year DoB_Time TZ_Off  TZ_OffHours  PoB_Lat  PoB_Lon  \\\n",
              "0       15       10      1961    23:42  h5e30          5.5    22.57    88.37   \n",
              "1       19       12      1965    10:26  h5e30          5.5    22.57    88.37   \n",
              "2        9       10      1990    23:09  h5e30          5.5    22.57    88.37   \n",
              "3       12        9      1990     0:52  h5e30          5.5    22.87    88.37   \n",
              "4       17        9      1950     9:34  h5e30          5.5    23.48    72.36   \n",
              "\n",
              "  TZ_Name   TZ_Type     Name  \n",
              "0     IST  standard  person1  \n",
              "1     IST  standard  person2  \n",
              "2     IST  standard  person3  \n",
              "3     IST  standard  person4  \n",
              "4     IST  standard   NDModi  "
            ],
            "text/html": [
              "\n",
              "  <div id=\"df-a8bdf88d-9bff-40db-a25a-de919b822fe2\">\n",
              "    <div class=\"colab-df-container\">\n",
              "      <div>\n",
              "<style scoped>\n",
              "    .dataframe tbody tr th:only-of-type {\n",
              "        vertical-align: middle;\n",
              "    }\n",
              "\n",
              "    .dataframe tbody tr th {\n",
              "        vertical-align: top;\n",
              "    }\n",
              "\n",
              "    .dataframe thead th {\n",
              "        text-align: right;\n",
              "    }\n",
              "</style>\n",
              "<table border=\"1\" class=\"dataframe\">\n",
              "  <thead>\n",
              "    <tr style=\"text-align: right;\">\n",
              "      <th></th>\n",
              "      <th>Gender</th>\n",
              "      <th>Voc1_Cat</th>\n",
              "      <th>Voc1_Det</th>\n",
              "      <th>Voc2_Cat</th>\n",
              "      <th>Voc2_Det</th>\n",
              "      <th>Voc3_Cat</th>\n",
              "      <th>Voc3_Det</th>\n",
              "      <th>DoB_Day</th>\n",
              "      <th>DoB_Mon</th>\n",
              "      <th>DoB_Year</th>\n",
              "      <th>DoB_Time</th>\n",
              "      <th>TZ_Off</th>\n",
              "      <th>TZ_OffHours</th>\n",
              "      <th>PoB_Lat</th>\n",
              "      <th>PoB_Lon</th>\n",
              "      <th>TZ_Name</th>\n",
              "      <th>TZ_Type</th>\n",
              "      <th>Name</th>\n",
              "    </tr>\n",
              "  </thead>\n",
              "  <tbody>\n",
              "    <tr>\n",
              "      <th>0</th>\n",
              "      <td>M</td>\n",
              "      <td>Engineer</td>\n",
              "      <td>nil</td>\n",
              "      <td>Teacher</td>\n",
              "      <td>nil</td>\n",
              "      <td>PostGraduate</td>\n",
              "      <td>nil</td>\n",
              "      <td>15</td>\n",
              "      <td>10</td>\n",
              "      <td>1961</td>\n",
              "      <td>23:42</td>\n",
              "      <td>h5e30</td>\n",
              "      <td>5.5</td>\n",
              "      <td>22.57</td>\n",
              "      <td>88.37</td>\n",
              "      <td>IST</td>\n",
              "      <td>standard</td>\n",
              "      <td>person1</td>\n",
              "    </tr>\n",
              "    <tr>\n",
              "      <th>1</th>\n",
              "      <td>F</td>\n",
              "      <td>Author</td>\n",
              "      <td>nil</td>\n",
              "      <td>Homemaker</td>\n",
              "      <td>nil</td>\n",
              "      <td>PostGraduate</td>\n",
              "      <td>nil</td>\n",
              "      <td>19</td>\n",
              "      <td>12</td>\n",
              "      <td>1965</td>\n",
              "      <td>10:26</td>\n",
              "      <td>h5e30</td>\n",
              "      <td>5.5</td>\n",
              "      <td>22.57</td>\n",
              "      <td>88.37</td>\n",
              "      <td>IST</td>\n",
              "      <td>standard</td>\n",
              "      <td>person2</td>\n",
              "    </tr>\n",
              "    <tr>\n",
              "      <th>2</th>\n",
              "      <td>M</td>\n",
              "      <td>Engineer</td>\n",
              "      <td>nil</td>\n",
              "      <td>Teacher</td>\n",
              "      <td>nil</td>\n",
              "      <td>PostGraduate</td>\n",
              "      <td>nil</td>\n",
              "      <td>9</td>\n",
              "      <td>10</td>\n",
              "      <td>1990</td>\n",
              "      <td>23:09</td>\n",
              "      <td>h5e30</td>\n",
              "      <td>5.5</td>\n",
              "      <td>22.57</td>\n",
              "      <td>88.37</td>\n",
              "      <td>IST</td>\n",
              "      <td>standard</td>\n",
              "      <td>person3</td>\n",
              "    </tr>\n",
              "    <tr>\n",
              "      <th>3</th>\n",
              "      <td>F</td>\n",
              "      <td>Biologist</td>\n",
              "      <td>nil</td>\n",
              "      <td>Scientist</td>\n",
              "      <td>nil</td>\n",
              "      <td>PostGraduate</td>\n",
              "      <td>nil</td>\n",
              "      <td>12</td>\n",
              "      <td>9</td>\n",
              "      <td>1990</td>\n",
              "      <td>0:52</td>\n",
              "      <td>h5e30</td>\n",
              "      <td>5.5</td>\n",
              "      <td>22.87</td>\n",
              "      <td>88.37</td>\n",
              "      <td>IST</td>\n",
              "      <td>standard</td>\n",
              "      <td>person4</td>\n",
              "    </tr>\n",
              "    <tr>\n",
              "      <th>4</th>\n",
              "      <td>M</td>\n",
              "      <td>Politician</td>\n",
              "      <td>nil</td>\n",
              "      <td>Administrator</td>\n",
              "      <td>nil</td>\n",
              "      <td>nil</td>\n",
              "      <td>nil</td>\n",
              "      <td>17</td>\n",
              "      <td>9</td>\n",
              "      <td>1950</td>\n",
              "      <td>9:34</td>\n",
              "      <td>h5e30</td>\n",
              "      <td>5.5</td>\n",
              "      <td>23.48</td>\n",
              "      <td>72.36</td>\n",
              "      <td>IST</td>\n",
              "      <td>standard</td>\n",
              "      <td>NDModi</td>\n",
              "    </tr>\n",
              "  </tbody>\n",
              "</table>\n",
              "</div>\n",
              "      <button class=\"colab-df-convert\" onclick=\"convertToInteractive('df-a8bdf88d-9bff-40db-a25a-de919b822fe2')\"\n",
              "              title=\"Convert this dataframe to an interactive table.\"\n",
              "              style=\"display:none;\">\n",
              "        \n",
              "  <svg xmlns=\"http://www.w3.org/2000/svg\" height=\"24px\"viewBox=\"0 0 24 24\"\n",
              "       width=\"24px\">\n",
              "    <path d=\"M0 0h24v24H0V0z\" fill=\"none\"/>\n",
              "    <path d=\"M18.56 5.44l.94 2.06.94-2.06 2.06-.94-2.06-.94-.94-2.06-.94 2.06-2.06.94zm-11 1L8.5 8.5l.94-2.06 2.06-.94-2.06-.94L8.5 2.5l-.94 2.06-2.06.94zm10 10l.94 2.06.94-2.06 2.06-.94-2.06-.94-.94-2.06-.94 2.06-2.06.94z\"/><path d=\"M17.41 7.96l-1.37-1.37c-.4-.4-.92-.59-1.43-.59-.52 0-1.04.2-1.43.59L10.3 9.45l-7.72 7.72c-.78.78-.78 2.05 0 2.83L4 21.41c.39.39.9.59 1.41.59.51 0 1.02-.2 1.41-.59l7.78-7.78 2.81-2.81c.8-.78.8-2.07 0-2.86zM5.41 20L4 18.59l7.72-7.72 1.47 1.35L5.41 20z\"/>\n",
              "  </svg>\n",
              "      </button>\n",
              "      \n",
              "  <style>\n",
              "    .colab-df-container {\n",
              "      display:flex;\n",
              "      flex-wrap:wrap;\n",
              "      gap: 12px;\n",
              "    }\n",
              "\n",
              "    .colab-df-convert {\n",
              "      background-color: #E8F0FE;\n",
              "      border: none;\n",
              "      border-radius: 50%;\n",
              "      cursor: pointer;\n",
              "      display: none;\n",
              "      fill: #1967D2;\n",
              "      height: 32px;\n",
              "      padding: 0 0 0 0;\n",
              "      width: 32px;\n",
              "    }\n",
              "\n",
              "    .colab-df-convert:hover {\n",
              "      background-color: #E2EBFA;\n",
              "      box-shadow: 0px 1px 2px rgba(60, 64, 67, 0.3), 0px 1px 3px 1px rgba(60, 64, 67, 0.15);\n",
              "      fill: #174EA6;\n",
              "    }\n",
              "\n",
              "    [theme=dark] .colab-df-convert {\n",
              "      background-color: #3B4455;\n",
              "      fill: #D2E3FC;\n",
              "    }\n",
              "\n",
              "    [theme=dark] .colab-df-convert:hover {\n",
              "      background-color: #434B5C;\n",
              "      box-shadow: 0px 1px 3px 1px rgba(0, 0, 0, 0.15);\n",
              "      filter: drop-shadow(0px 1px 2px rgba(0, 0, 0, 0.3));\n",
              "      fill: #FFFFFF;\n",
              "    }\n",
              "  </style>\n",
              "\n",
              "      <script>\n",
              "        const buttonEl =\n",
              "          document.querySelector('#df-a8bdf88d-9bff-40db-a25a-de919b822fe2 button.colab-df-convert');\n",
              "        buttonEl.style.display =\n",
              "          google.colab.kernel.accessAllowed ? 'block' : 'none';\n",
              "\n",
              "        async function convertToInteractive(key) {\n",
              "          const element = document.querySelector('#df-a8bdf88d-9bff-40db-a25a-de919b822fe2');\n",
              "          const dataTable =\n",
              "            await google.colab.kernel.invokeFunction('convertToInteractive',\n",
              "                                                     [key], {});\n",
              "          if (!dataTable) return;\n",
              "\n",
              "          const docLinkHtml = 'Like what you see? Visit the ' +\n",
              "            '<a target=\"_blank\" href=https://colab.research.google.com/notebooks/data_table.ipynb>data table notebook</a>'\n",
              "            + ' to learn more about interactive tables.';\n",
              "          element.innerHTML = '';\n",
              "          dataTable['output_type'] = 'display_data';\n",
              "          await google.colab.output.renderOutput(dataTable, element);\n",
              "          const docLink = document.createElement('div');\n",
              "          docLink.innerHTML = docLinkHtml;\n",
              "          element.appendChild(docLink);\n",
              "        }\n",
              "      </script>\n",
              "    </div>\n",
              "  </div>\n",
              "  "
            ]
          },
          "metadata": {},
          "execution_count": 6
        }
      ]
    },
    {
      "cell_type": "code",
      "source": [
        "#Choose any one of the 5 persons \n",
        "#df.append(df0.iloc[1])\n",
        "#df = df0.iloc[1].to_frame().T\n",
        "df = pd.DataFrame(df0.iloc[2]).transpose()\n",
        "df"
      ],
      "metadata": {
        "id": "O4_nk-bC-Jey",
        "outputId": "cdc47f03-ffd2-4809-d456-01e337924dee",
        "colab": {
          "base_uri": "https://localhost:8080/",
          "height": 145
        }
      },
      "execution_count": 18,
      "outputs": [
        {
          "output_type": "execute_result",
          "data": {
            "text/plain": [
              "  Gender  Voc1_Cat Voc1_Det Voc2_Cat Voc2_Det      Voc3_Cat Voc3_Det DoB_Day  \\\n",
              "2      M  Engineer      nil  Teacher      nil  PostGraduate      nil       9   \n",
              "\n",
              "  DoB_Mon DoB_Year DoB_Time TZ_Off TZ_OffHours PoB_Lat PoB_Lon TZ_Name  \\\n",
              "2      10     1990    23:09  h5e30         5.5   22.57   88.37     IST   \n",
              "\n",
              "    TZ_Type     Name  \n",
              "2  standard  person3  "
            ],
            "text/html": [
              "\n",
              "  <div id=\"df-5bcef69d-d675-469e-a67c-82ef3adc9003\">\n",
              "    <div class=\"colab-df-container\">\n",
              "      <div>\n",
              "<style scoped>\n",
              "    .dataframe tbody tr th:only-of-type {\n",
              "        vertical-align: middle;\n",
              "    }\n",
              "\n",
              "    .dataframe tbody tr th {\n",
              "        vertical-align: top;\n",
              "    }\n",
              "\n",
              "    .dataframe thead th {\n",
              "        text-align: right;\n",
              "    }\n",
              "</style>\n",
              "<table border=\"1\" class=\"dataframe\">\n",
              "  <thead>\n",
              "    <tr style=\"text-align: right;\">\n",
              "      <th></th>\n",
              "      <th>Gender</th>\n",
              "      <th>Voc1_Cat</th>\n",
              "      <th>Voc1_Det</th>\n",
              "      <th>Voc2_Cat</th>\n",
              "      <th>Voc2_Det</th>\n",
              "      <th>Voc3_Cat</th>\n",
              "      <th>Voc3_Det</th>\n",
              "      <th>DoB_Day</th>\n",
              "      <th>DoB_Mon</th>\n",
              "      <th>DoB_Year</th>\n",
              "      <th>DoB_Time</th>\n",
              "      <th>TZ_Off</th>\n",
              "      <th>TZ_OffHours</th>\n",
              "      <th>PoB_Lat</th>\n",
              "      <th>PoB_Lon</th>\n",
              "      <th>TZ_Name</th>\n",
              "      <th>TZ_Type</th>\n",
              "      <th>Name</th>\n",
              "    </tr>\n",
              "  </thead>\n",
              "  <tbody>\n",
              "    <tr>\n",
              "      <th>2</th>\n",
              "      <td>M</td>\n",
              "      <td>Engineer</td>\n",
              "      <td>nil</td>\n",
              "      <td>Teacher</td>\n",
              "      <td>nil</td>\n",
              "      <td>PostGraduate</td>\n",
              "      <td>nil</td>\n",
              "      <td>9</td>\n",
              "      <td>10</td>\n",
              "      <td>1990</td>\n",
              "      <td>23:09</td>\n",
              "      <td>h5e30</td>\n",
              "      <td>5.5</td>\n",
              "      <td>22.57</td>\n",
              "      <td>88.37</td>\n",
              "      <td>IST</td>\n",
              "      <td>standard</td>\n",
              "      <td>person3</td>\n",
              "    </tr>\n",
              "  </tbody>\n",
              "</table>\n",
              "</div>\n",
              "      <button class=\"colab-df-convert\" onclick=\"convertToInteractive('df-5bcef69d-d675-469e-a67c-82ef3adc9003')\"\n",
              "              title=\"Convert this dataframe to an interactive table.\"\n",
              "              style=\"display:none;\">\n",
              "        \n",
              "  <svg xmlns=\"http://www.w3.org/2000/svg\" height=\"24px\"viewBox=\"0 0 24 24\"\n",
              "       width=\"24px\">\n",
              "    <path d=\"M0 0h24v24H0V0z\" fill=\"none\"/>\n",
              "    <path d=\"M18.56 5.44l.94 2.06.94-2.06 2.06-.94-2.06-.94-.94-2.06-.94 2.06-2.06.94zm-11 1L8.5 8.5l.94-2.06 2.06-.94-2.06-.94L8.5 2.5l-.94 2.06-2.06.94zm10 10l.94 2.06.94-2.06 2.06-.94-2.06-.94-.94-2.06-.94 2.06-2.06.94z\"/><path d=\"M17.41 7.96l-1.37-1.37c-.4-.4-.92-.59-1.43-.59-.52 0-1.04.2-1.43.59L10.3 9.45l-7.72 7.72c-.78.78-.78 2.05 0 2.83L4 21.41c.39.39.9.59 1.41.59.51 0 1.02-.2 1.41-.59l7.78-7.78 2.81-2.81c.8-.78.8-2.07 0-2.86zM5.41 20L4 18.59l7.72-7.72 1.47 1.35L5.41 20z\"/>\n",
              "  </svg>\n",
              "      </button>\n",
              "      \n",
              "  <style>\n",
              "    .colab-df-container {\n",
              "      display:flex;\n",
              "      flex-wrap:wrap;\n",
              "      gap: 12px;\n",
              "    }\n",
              "\n",
              "    .colab-df-convert {\n",
              "      background-color: #E8F0FE;\n",
              "      border: none;\n",
              "      border-radius: 50%;\n",
              "      cursor: pointer;\n",
              "      display: none;\n",
              "      fill: #1967D2;\n",
              "      height: 32px;\n",
              "      padding: 0 0 0 0;\n",
              "      width: 32px;\n",
              "    }\n",
              "\n",
              "    .colab-df-convert:hover {\n",
              "      background-color: #E2EBFA;\n",
              "      box-shadow: 0px 1px 2px rgba(60, 64, 67, 0.3), 0px 1px 3px 1px rgba(60, 64, 67, 0.15);\n",
              "      fill: #174EA6;\n",
              "    }\n",
              "\n",
              "    [theme=dark] .colab-df-convert {\n",
              "      background-color: #3B4455;\n",
              "      fill: #D2E3FC;\n",
              "    }\n",
              "\n",
              "    [theme=dark] .colab-df-convert:hover {\n",
              "      background-color: #434B5C;\n",
              "      box-shadow: 0px 1px 3px 1px rgba(0, 0, 0, 0.15);\n",
              "      filter: drop-shadow(0px 1px 2px rgba(0, 0, 0, 0.3));\n",
              "      fill: #FFFFFF;\n",
              "    }\n",
              "  </style>\n",
              "\n",
              "      <script>\n",
              "        const buttonEl =\n",
              "          document.querySelector('#df-5bcef69d-d675-469e-a67c-82ef3adc9003 button.colab-df-convert');\n",
              "        buttonEl.style.display =\n",
              "          google.colab.kernel.accessAllowed ? 'block' : 'none';\n",
              "\n",
              "        async function convertToInteractive(key) {\n",
              "          const element = document.querySelector('#df-5bcef69d-d675-469e-a67c-82ef3adc9003');\n",
              "          const dataTable =\n",
              "            await google.colab.kernel.invokeFunction('convertToInteractive',\n",
              "                                                     [key], {});\n",
              "          if (!dataTable) return;\n",
              "\n",
              "          const docLinkHtml = 'Like what you see? Visit the ' +\n",
              "            '<a target=\"_blank\" href=https://colab.research.google.com/notebooks/data_table.ipynb>data table notebook</a>'\n",
              "            + ' to learn more about interactive tables.';\n",
              "          element.innerHTML = '';\n",
              "          dataTable['output_type'] = 'display_data';\n",
              "          await google.colab.output.renderOutput(dataTable, element);\n",
              "          const docLink = document.createElement('div');\n",
              "          docLink.innerHTML = docLinkHtml;\n",
              "          element.appendChild(docLink);\n",
              "        }\n",
              "      </script>\n",
              "    </div>\n",
              "  </div>\n",
              "  "
            ]
          },
          "metadata": {},
          "execution_count": 18
        }
      ]
    },
    {
      "cell_type": "code",
      "source": [
        "#%%time\n",
        "# Converts date/time info into a detailed horoscope chart \n",
        "# Stores the same in a JSON file, to be inserted into a local MongoDB database\n",
        "\n",
        "p21.ChartType = 'Rashi'                                 # one of ['Rashi','Navamsa']\n",
        "\n",
        "writeFile =  open(\"peopleData.json\", \"w\")  \n",
        "for person in range(len(df)):\n",
        "    try :\n",
        "        personData =df.iloc[person]\n",
        "        p21swe.C02_parsePersonData(personData)                  # split the data, extract required data into fields\n",
        "                                                                # create skeleton chart json doc as p21.chart\n",
        "        p21swe.C03_convertDates()                               # convert date, time of birth into universal time, calculate Ayanamsha\n",
        "        p21swe.C04_calculateGrahaPositions()                    # calculate the Lon of each Graha along with Retrograde staus\n",
        "\n",
        "                    #Horoscope is defined in terms of Natal Longitudes and Retrogrades\n",
        "                    # for example\n",
        "                    #GLon = {\"La\":98.5,\"Su\":178.9,\"Mo\":250.6,\"Ma\":196.2,\"Me\":193.2,\"Ju\":274.8,\"Ve\":153.8,\"Sa\":270.2,\"Ra\":122.1,\"Ke\":302.1}\n",
        "                    #GRet = {\"La\":False,\"Su\":False,\"Mo\":False,\"Ma\":False,\"Me\":True,\"Ju\":False,\"Ve\":False,\"Sa\":False,\"Ra\":True,\"Ke\":True}\n",
        "\n",
        "        p21swe.C05_buildGLonGRet()                              # create two json docs ( python dicts) to store Graha Lon and Ret status\n",
        "                                                                # these are stored as global variables p21.GLon, p21.GRet\n",
        "        p21utils.appendDict(p21.chart,p21.GLonRet)              # add Lon, Ret information to chart\n",
        "        \n",
        "        # ----------------------------------------\n",
        "        p21utils.R11_LocateGrahaInRashi()\n",
        "        \n",
        "        p21utils.C10_DetermineBhavs()                           # determine Houses for person\n",
        "        p21utils.appendDict(p21.chart,p21.BhavNBhavA)           # add BhavN, BhavA information to chart   \n",
        "         \n",
        "        # ----------------------------------------    \n",
        "        p21utils.C11_DetermineLord()                            # determine Lords of Bhavs\n",
        "        p21utils.appendDict(p21.chart,p21.LordInfo)             #  add information on Lords   \n",
        "\n",
        "        p21utils.C12_BhavOfGraha_Lord()\n",
        "        p21utils.appendDict(p21.chart,p21.BhavOfGraha_LordInfo) #  add information on Bhav Residency of Graha and Lords  \n",
        "        \n",
        "        \n",
        "        p21utils.C21_DeterminePositions()\n",
        "        p21utils.appendDict(p21.chart,p21.Positions)            #  add information on Graha / Lord POSITIONS  \n",
        "\n",
        "        p21utils.C31_DetermineAspects()\n",
        "        p21utils.appendDict(p21.chart,p21.Aspects)              #  add information on Graha / Lord ASPECTS  \n",
        "\n",
        "        p21utils.C41_DetermineConjuncts()           \n",
        "        p21utils.appendDict(p21.chart,p21.Conjuncts)            #  add information on Graha / Lord Conjuncts\n",
        "    except :\n",
        "        print('error on record ', person)\n",
        "    else :\n",
        "        #insert_result = kollection.insert_one(p21.chart)        # insert one json doc, chart to database\n",
        "        #insert_result.acknowledged                              # Confirms that insert is successful\n",
        "                                                                 # Bypassing insertion into MongoDB will make processing much faster\n",
        "        json.dump(p21.chart, writeFile)                          # Storing chart data as JSON file\n",
        "    finally:\n",
        "        if ( person % 1000 ) == 0:\n",
        "            print(person, \"records processed\")\n",
        "    \n",
        "writeFile.close()\n"
      ],
      "metadata": {
        "id": "uh6PTeRd_3dO",
        "outputId": "8995bc96-ed45-4e1f-e699-106188841d99",
        "colab": {
          "base_uri": "https://localhost:8080/"
        }
      },
      "execution_count": 19,
      "outputs": [
        {
          "output_type": "stream",
          "name": "stdout",
          "text": [
            "0 records processed\n"
          ]
        }
      ]
    },
    {
      "cell_type": "markdown",
      "source": [
        "##Load the SINGLE chart into the local MongoDB"
      ],
      "metadata": {
        "id": "UfrvUFYmNGzX"
      }
    },
    {
      "cell_type": "code",
      "source": [
        "!mongoimport --db parashar21Local --collection khona21Test --drop --file peopleData.json"
      ],
      "metadata": {
        "id": "MWa5_VrULC5s",
        "outputId": "6420d305-50ec-4753-a65f-586a889178f4",
        "colab": {
          "base_uri": "https://localhost:8080/"
        }
      },
      "execution_count": 20,
      "outputs": [
        {
          "output_type": "stream",
          "name": "stdout",
          "text": [
            "2022-09-15T07:49:57.422+0000\tconnected to: localhost\n",
            "2022-09-15T07:49:57.422+0000\tdropping: parashar21Local.khona21Test\n",
            "2022-09-15T07:49:57.454+0000\timported 1 document\n"
          ]
        }
      ]
    },
    {
      "cell_type": "code",
      "source": [
        "mongoURI = \"mongodb://localhost:27017/\"                               # for remote server\n",
        "client = MongoClient(mongoURI)\n",
        "\n",
        "db = client.parashar21Local\n",
        "#pd.DataFrame(list(db.list_collections()))"
      ],
      "metadata": {
        "id": "a7-c7V_J1yrt"
      },
      "execution_count": 21,
      "outputs": []
    },
    {
      "cell_type": "code",
      "source": [
        "kollection = db.khona21Test                   # Set the collection to work with\n",
        "#kollection = db.khona21                   # Set the collection to work with\n",
        "totalCharts = kollection.count_documents({})\n",
        "dbSize = db.command( {\"dbStats\": 1, \"scale\": 1024 } )['dataSize']\n",
        "print(totalCharts, ' documents,',round(dbSize,2), \" KB data\")"
      ],
      "metadata": {
        "id": "nEB8OKSS0VKX",
        "outputId": "876ef088-4243-4321-f568-c555a87d1fcd",
        "colab": {
          "base_uri": "https://localhost:8080/"
        }
      },
      "execution_count": 22,
      "outputs": [
        {
          "output_type": "stream",
          "name": "stdout",
          "text": [
            "1  documents, 3.57  KB data\n"
          ]
        }
      ]
    },
    {
      "cell_type": "markdown",
      "source": [
        "#Report Generation Function\n",
        "Please note that the generated report MS Office doc format **will be stored in the Colab VM drive** and needs to be downloaded to local machine for viewing"
      ],
      "metadata": {
        "id": "LMA40MOq1jse"
      }
    },
    {
      "cell_type": "code",
      "source": [
        "def genSingleChartReport(ChartStyle):\n",
        "      \n",
        "    chartData = chart.iloc[0]\n",
        "    RepID = chart.iloc[0]['pid']['name']\n",
        "    now = datetime.now(pytz.timezone('Asia/Kolkata'))\n",
        "    fileName = 'p21_'+RepID+'_'+ChartStyle+'_'+now.strftime(\"%H%M%S\")+'.doc'\n",
        "\n",
        "    #print(chartData)\n",
        "    # ---------------------------------------------------------\n",
        "    #p21utilsR.R01_CreateReportDoc(curQueryStr, printStatus)        # Creates MS Word Doc called p21.document for MULTIPLE charts\n",
        "    p21utilsR.R01A_CreateReportDoc(RepID)                           # Creates MS Word Doc called p21.document for SINGLE chart\n",
        "    # ----------------------------------------------------------\n",
        "    \n",
        "    p21utilsR.R511_parseChartData(chartData)                # Break up database data into useful pieces\n",
        "                                                            # Creates two primary dicts, GLon, GRet\n",
        "    for ctype in ['Rashi','Navamsa']:\n",
        "        p21.ChartType = ctype\n",
        "        p21utils.R11_LocateGrahaInRashi()   # Converts Graha Long to Rashi positions\n",
        "                                            # Rashi Num as well as Rashi name\n",
        "        if ChartStyle == 'Bengal':\n",
        "            p21utilsR.R12B_drawChart_Bengal()    # Draw Chart in Bengal style\n",
        "        if ChartStyle == 'South':\n",
        "            p21utilsR.R12B_drawChart_South()    # Draw Chart in South style\n",
        "        if ChartStyle == 'North':\n",
        "            p21utilsR.R12B_drawChart_North()    # Draw Chart in North style\n",
        "        \n",
        "    p21utilsR.R512_FormatPage('SingleChart')                  # this is where the details of the chart are printed out\n",
        "    \n",
        "    # ------------------------------------\n",
        "    p21.document.save(fileName)\n",
        "    \n"
      ],
      "metadata": {
        "id": "nf7XU_5nZ1rq"
      },
      "execution_count": 23,
      "outputs": []
    },
    {
      "cell_type": "markdown",
      "source": [
        "#Retrieve Charts \n",
        "Based on selective queries <br>\n",
        "All output messages suppressed <br>\n",
        "Reports will be available as DOC files in the VM drive <br>\n",
        "Please specify style of report, 'Bengal', 'North' or 'South' while calling the report generation routine <br>\n",
        "genSampleReport('Bengal',Sample = False), \n"
      ],
      "metadata": {
        "id": "nej02gxiwUcV"
      }
    },
    {
      "cell_type": "markdown",
      "source": [
        "## Retrieve, Display and Analyse the SingleChart chart"
      ],
      "metadata": {
        "id": "jKGdhKgjNnri"
      }
    },
    {
      "cell_type": "code",
      "source": [
        "#selCond = {'pid.name': {'$eq': 'person3'}}               # Single Person\n",
        "#selCond = {\"pid.name\": {\"$regex\":\"^per\"}}                # Name starting with per\n",
        "selCond = {}                                              # All Charts, but since we have only one chart, we get that chart only\n",
        "chart = pd.DataFrame(list(kollection.find(selCond,p21.selCols)))\n",
        "chart.iloc[0]['pid']['name']\n"
      ],
      "metadata": {
        "id": "WM9dKhfS118T",
        "colab": {
          "base_uri": "https://localhost:8080/",
          "height": 35
        },
        "outputId": "c96de747-c73b-435d-882d-8158936ca8f1"
      },
      "execution_count": 24,
      "outputs": [
        {
          "output_type": "execute_result",
          "data": {
            "text/plain": [
              "'person3'"
            ],
            "application/vnd.google.colaboratory.intrinsic+json": {
              "type": "string"
            }
          },
          "metadata": {},
          "execution_count": 24
        }
      ]
    },
    {
      "cell_type": "code",
      "source": [
        "#Find Yogs in Chart\n",
        "yogList = ['BudhAditya','BudhAdityaNR', 'Gajakesari', 'Rajyog', 'ChandraMangal2','DhanYog']\n",
        "p21.yogsFound = []\n",
        "for yogName in yogList:\n",
        "    selCond = yogCond[yogName]\n",
        "    count = len(list(kollection.find(yogCond[yogName],{\"pid.name\" : 1,\"_id\":0})))\n",
        "    if count > 0:\n",
        "        p21.yogsFound.append(yogName)\n",
        "    print(yogName, count )\n",
        "print(p21.yogsFound)    "
      ],
      "metadata": {
        "id": "NELrnTiVHqcU",
        "outputId": "92544c57-db3f-406c-e11d-5ebc5bd2d721",
        "colab": {
          "base_uri": "https://localhost:8080/"
        }
      },
      "execution_count": 25,
      "outputs": [
        {
          "output_type": "stream",
          "name": "stdout",
          "text": [
            "BudhAditya 1\n",
            "BudhAdityaNR 1\n",
            "Gajakesari 0\n",
            "Rajyog 0\n",
            "ChandraMangal2 0\n",
            "DhanYog 1\n",
            "['BudhAditya', 'BudhAdityaNR', 'DhanYog']\n"
          ]
        }
      ]
    },
    {
      "cell_type": "code",
      "source": [
        "#%%capture\n",
        "genSingleChartReport('Bengal')"
      ],
      "metadata": {
        "id": "bgBtpFYPxaiF",
        "outputId": "44e55015-e688-4a2c-af9b-67e06721f3e2",
        "colab": {
          "base_uri": "https://localhost:8080/",
          "height": 829
        }
      },
      "execution_count": 26,
      "outputs": [
        {
          "output_type": "display_data",
          "data": {
            "text/plain": [
              "<Figure size 504x504 with 1 Axes>"
            ],
            "image/png": "[encoded data removed]"
          },
          "metadata": {}
        },
        {
          "output_type": "display_data",
          "data": {
            "text/plain": [
              "<Figure size 504x504 with 1 Axes>"
            ],
            "image/png": "[encoded data removed]"
          },
          "metadata": {}
        }
      ]
    },
    {
      "cell_type": "markdown",
      "source": [
        "#Testing Stuff"
      ],
      "metadata": {
        "id": "Zpu8ovELgGAJ"
      }
    },
    {
      "cell_type": "code",
      "source": [
        "#%%capture\n",
        "from p21YogInfo import  yogCond, yogText\n",
        "yogName = 'BudhAditya'\n",
        "#print(yogCond[yogName])\n",
        "selCond = yogCond[yogName]\n",
        "#df = pd.DataFrame(list(kollection.find(yogCond[yogName],p21.selCols)))\n",
        "selCols = {\"pid.name\" : 1,\"_id\":0}\n",
        "name = list(kollection.find(yogCond[yogName],selCols))\n",
        "#genYogReport(yogText[yogName],'Bengal')\n",
        "#name\n",
        "len(list(kollection.find(yogCond[yogName],selCols)))"
      ],
      "metadata": {
        "id": "QLoMG_r2gxvG",
        "outputId": "5db88977-b5b1-4664-82d1-b9c5cf26fa74",
        "colab": {
          "base_uri": "https://localhost:8080/"
        }
      },
      "execution_count": 26,
      "outputs": [
        {
          "output_type": "execute_result",
          "data": {
            "text/plain": [
              "1"
            ]
          },
          "metadata": {},
          "execution_count": 26
        }
      ]
    },
    {
      "cell_type": "code",
      "source": [
        "from p21YogInfo import  yogCond, yogText\n",
        "yogList = ['BudhAditya','BudhAdityaNR', 'Gajakesari', 'Rajyog', 'ChandraMangal2','DhanYog']\n",
        "p21.yogsFound = []\n",
        "for yogName in yogList:\n",
        "    selCond = yogCond[yogName]\n",
        "    count = len(list(kollection.find(yogCond[yogName],{\"pid.name\" : 1,\"_id\":0})))\n",
        "    if count > 0:\n",
        "        p21.yogsFound.append(yogName)\n",
        "    print(yogName, count )\n",
        "print(p21.yogsFound)    \n",
        "    \n",
        "    "
      ],
      "metadata": {
        "id": "V5aiiUumk6E0",
        "outputId": "2843eecd-15a6-405e-c913-2a10a96dc8f3",
        "colab": {
          "base_uri": "https://localhost:8080/"
        }
      },
      "execution_count": 14,
      "outputs": [
        {
          "output_type": "stream",
          "name": "stdout",
          "text": [
            "BudhAditya 1\n",
            "BudhAdityaNR 0\n",
            "Gajakesari 0\n",
            "Rajyog 0\n",
            "ChandraMangal2 0\n",
            "DhanYog 1\n",
            "['BudhAditya', 'DhanYog']\n"
          ]
        }
      ]
    }
  ]
}