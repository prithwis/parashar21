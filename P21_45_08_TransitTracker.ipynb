{
  "nbformat": 4,
  "nbformat_minor": 0,
  "metadata": {
    "colab": {
      "provenance": [],
      "include_colab_link": true
    },
    "kernelspec": {
      "name": "python3",
      "display_name": "Python 3"
    },
    "language_info": {
      "name": "python"
    }
  },
  "cells": [
    {
      "cell_type": "markdown",
      "metadata": {
        "id": "view-in-github",
        "colab_type": "text"
      },
      "source": [
        "<a href=\"https://colab.research.google.com/github/prithwis/parashar21/blob/main/P21_45_08_TransitTracker.ipynb\" target=\"_parent\"><img src=\"https://colab.research.google.com/assets/colab-badge.svg\" alt=\"Open In Colab\"/></a>"
      ]
    },
    {
      "cell_type": "markdown",
      "source": [
        "![alt text](http://1.bp.blogspot.com/_5QlanosqxiQ/SXLOLTu7S7I/AAAAAAAAAm8/0r6C7lCxsic/S1600-R/p21-header-003.png) <br>\n",
        "\n",
        "\n",
        "---\n",
        "\n",
        "\n",
        "\n",
        "[Prithwis Mukerjee](http://www.yantrajaal.com) ||\n",
        "Website - [Parashar21](https://parashar21.blogspot.com)<br>"
      ],
      "metadata": {
        "id": "rj4jjIHTvPV8"
      }
    },
    {
      "cell_type": "markdown",
      "source": [
        "Copyright (c) 2022, Prithwis Mukerjee All rights reserved.\n",
        "\n",
        "This source code is licensed under the GNU GPL v3.0 -style license found in the LICENSE file in the root directory of this source tree."
      ],
      "metadata": {
        "id": "9OzVEmHm1IaF"
      }
    },
    {
      "cell_type": "markdown",
      "source": [
        "#Rationale\n",
        "Use Swiss Ephemeris software to track transits. <br>\n",
        "Extra fun in learning ffmpeg and making a movie out of this\n",
        "\n"
      ],
      "metadata": {
        "id": "MKVBLfNMnXYE"
      }
    },
    {
      "cell_type": "markdown",
      "source": [
        "#SetUp Environment"
      ],
      "metadata": {
        "id": "l2v2nhRKvwJS"
      }
    },
    {
      "cell_type": "markdown",
      "source": [
        "##Install Software"
      ],
      "metadata": {
        "id": "djqyotVjO5TI"
      }
    },
    {
      "cell_type": "code",
      "source": [
        "!pip -qq install pyswisseph                                 # https://stackoverflow.com/questions/64277506/pip-install-options-unclear\n",
        "!pip -qq install python-docx                                #https://python-docx.readthedocs.io/en/latest/\n",
        "!pip -qq install pymongo\n",
        "#!/usr/bin/python3 -m pip install \"pymongo[srv]\"            # Required only if used with Atlas remote servers\n",
        "#!apt install mongodb > /dev/null                            # install local MongoDB server\n",
        "#!service mongodb start                                      # start Local MongoDB server instance"
      ],
      "metadata": {
        "id": "AWKFabc0v3FI",
        "outputId": "d77c3aeb-d2fc-42cb-8690-5890aeff9680",
        "colab": {
          "base_uri": "https://localhost:8080/"
        }
      },
      "execution_count": 1,
      "outputs": [
        {
          "output_type": "stream",
          "name": "stdout",
          "text": [
            "\u001b[2K   \u001b[90m━━━━━━━━━━━━━━━━━━━━━━━━━━━━━━━━━━━━━━━━\u001b[0m \u001b[32m1.8/1.8 MB\u001b[0m \u001b[31m13.1 MB/s\u001b[0m eta \u001b[36m0:00:00\u001b[0m\n",
            "\u001b[2K   \u001b[90m━━━━━━━━━━━━━━━━━━━━━━━━━━━━━━━━━━━━━━━━\u001b[0m \u001b[32m244.3/244.3 kB\u001b[0m \u001b[31m3.6 MB/s\u001b[0m eta \u001b[36m0:00:00\u001b[0m\n",
            "\u001b[2K   \u001b[90m━━━━━━━━━━━━━━━━━━━━━━━━━━━━━━━━━━━━━━━━\u001b[0m \u001b[32m1.4/1.4 MB\u001b[0m \u001b[31m16.8 MB/s\u001b[0m eta \u001b[36m0:00:00\u001b[0m\n",
            "\u001b[2K   \u001b[90m━━━━━━━━━━━━━━━━━━━━━━━━━━━━━━━━━━━━━━━━\u001b[0m \u001b[32m313.6/313.6 kB\u001b[0m \u001b[31m13.9 MB/s\u001b[0m eta \u001b[36m0:00:00\u001b[0m\n",
            "\u001b[?25h"
          ]
        }
      ]
    },
    {
      "cell_type": "markdown",
      "source": [
        "##Install, import prerequisites"
      ],
      "metadata": {
        "id": "Vml3UdnbOAlO"
      }
    },
    {
      "cell_type": "code",
      "source": [
        "#Utility functions\n",
        "from pymongo import MongoClient\n",
        "import pandas as pd\n",
        "import dateutil\n",
        "import json\n",
        "from docx import Document\n",
        "from docx.shared import Inches\n",
        "from docx.enum.text import WD_ALIGN_PARAGRAPH\n",
        "from datetime import datetime\n",
        "from datetime import timedelta\n",
        "import pytz\n",
        "from google.colab import files\n",
        "\n",
        "#import matplotlib.pyplot as plt\n",
        "#import math\n",
        "\n",
        "import os\n",
        "from IPython.display import HTML\n",
        "from base64 import b64encode"
      ],
      "metadata": {
        "id": "tsCga6c8pLvM"
      },
      "execution_count": 2,
      "outputs": []
    },
    {
      "cell_type": "code",
      "source": [
        "#Load p21 modules from github\n",
        "!wget -O p21.py -q https://raw.githubusercontent.com/prithwis/parashar21/main/utils/p21.py                  # all global variables\n",
        "!wget -O p21utils.py -q https://raw.githubusercontent.com/prithwis/parashar21/main/utils/p21utils.py        # large number of utility functions\n",
        "!wget -O p21utilsR.py -q https://raw.githubusercontent.com/prithwis/parashar21/main/utils/p21utilsR.py      # report writing utility functions\n",
        "!wget -O p21swe.py -q https://raw.githubusercontent.com/prithwis/parashar21/main/utils/p21swe.py            # Swiss Ephemeris functions\n",
        "!wget -O p21YogInfo.py -q https://raw.githubusercontent.com/prithwis/parashar21/main/utils/p21YogInfo.py    # yog data - description and conditions\n",
        "# ---------------------------\n",
        "\n",
        "#!wget -O Saraswati.png -q https://github.com/prithwis/parashar21/raw/main/images/Saraswati02.png\n",
        "#!wget -O p21logo.png -q https://github.com/prithwis/parashar21/raw/main/images/p21logo-002-1.png\n",
        "\n",
        "#!gdown -O ClockTicking01.mp3 1R6QQ3hTMlZh_k4x_pS0Masfj6SJZ2bgH\n",
        "!wget -O ClockTicking01.mp3 -q https://github.com/prithwis/parashar21/blob/main/images/ClockTicking01.mp3?raw=true\n",
        "!wget -O p21Logo.png -q https://github.com/prithwis/parashar21/blob/main/images/p21Logo.png?raw=true\n"
      ],
      "metadata": {
        "id": "uwAT_IbvB0A-"
      },
      "execution_count": 3,
      "outputs": []
    },
    {
      "cell_type": "code",
      "source": [
        "import p21\n",
        "import p21utils\n",
        "import p21utilsR\n",
        "import p21swe\n",
        "#import p21YogInfo\n",
        "# ------------------------------------------------\n",
        "# required for multiple imports of the same module\n",
        "# ------------------------------------------------\n",
        "import importlib\n",
        "importlib.reload(p21)\n",
        "importlib.reload(p21utils)\n",
        "importlib.reload(p21utilsR)\n",
        "importlib.reload(p21swe)\n",
        "#importlib.reload(p21YogInfo)"
      ],
      "metadata": {
        "id": "7Np3o1Nn0zrX",
        "outputId": "1bdca352-a74a-4573-c7e4-aadb5025229e",
        "colab": {
          "base_uri": "https://localhost:8080/"
        }
      },
      "execution_count": 4,
      "outputs": [
        {
          "output_type": "stream",
          "name": "stdout",
          "text": [
            "10 Yogs on record\n",
            "0 : Amala Yog | 10th from Moon OR Lagna should have a benefic\n",
            "1 : RajLakshana Yog | Jupiter, Venus, Mercury, Moon should be in Lagna or they should be in a Kendra\n",
            "2 : Chatussagara Yog | All the Kendras 1/4/7/10 are occupied by planets, Ra, Ke not counted here\n",
            "3 : Adhi678 Yog | Benefics located in 6/7/8th  from Moon\n",
            "4 : Chandra Mangal Yog | Mars Conjoins Moon or  Mars and Moon in Mutual Aspect\n",
            "5 : Kemadruma Yog : No planets on either sides of the Moon\n",
            "6 : Anapha Yog |Planets other than Sun in 12th Place from Moon\n",
            "7 : Sunapha Yog |Planets other than Sun in 2nd Place from Moon\n",
            "8 : Dhurdhura Yog | Planets on both sides of the Moon\n",
            "9 : Gajakesari Yog | Jupiter is in Kendra or 1,4,7,10th from Moon\n"
          ]
        },
        {
          "output_type": "execute_result",
          "data": {
            "text/plain": [
              "<module 'p21swe' from '/content/p21swe.py'>"
            ]
          },
          "metadata": {},
          "execution_count": 4
        }
      ]
    },
    {
      "cell_type": "code",
      "source": [
        "#Download Swiss Ephemeris Files\n",
        "\n",
        "# https://www.astro.com/ftp/swisseph/ephe/\n",
        "# https://github.com/aloistr/swisseph/raw/refs/heads/master/ephe/\n",
        "\n",
        "#\n",
        "!wget -q https://github.com/aloistr/swisseph/raw/refs/heads/master/ephe/seas_18.se1\n",
        "!wget -q https://github.com/aloistr/swisseph/raw/refs/heads/master/ephe/semo_18.se1\n",
        "!wget -q https://github.com/aloistr/swisseph/raw/refs/heads/master/ephe/sepl_18.se1\n",
        "!mkdir ephe\n",
        "!mv *.se1 ephe\n",
        "#------------------------------\n",
        "# Configure SWE with appropriate parameters\n",
        "#\n",
        "p21swe.C01_configSWE()"
      ],
      "metadata": {
        "id": "kMKlXoDGH8XP"
      },
      "execution_count": 5,
      "outputs": []
    },
    {
      "cell_type": "code",
      "source": [
        "!mv *.se1 ephe"
      ],
      "metadata": {
        "id": "X3lNOb-ad4Fr",
        "outputId": "07ff099a-627d-440e-f872-4821bfe07292",
        "colab": {
          "base_uri": "https://localhost:8080/"
        }
      },
      "execution_count": 6,
      "outputs": [
        {
          "output_type": "stream",
          "name": "stdout",
          "text": [
            "mv: cannot stat '*.se1': No such file or directory\n"
          ]
        }
      ]
    },
    {
      "cell_type": "code",
      "source": [
        "#@title Static Data\n",
        "# @markdown ### Specify Reference Rashi:\n",
        "rRashi = 'Dhanu' #@param [\"Mesh\",\"Vrish\",\"Mithun\",\"Karkat\",\"Simha\",\"Kanya\",\"Tula\",\"Vrishchik\",\"Dhanu\",\"Makar\",\"Kumbh\",\"Meen\"]\n",
        "#@markdown ---\n",
        "#@markdown ### Using Calcutta as default location:\n",
        "PoB_Lat = 25.43 #@param {type:\"number\"}\n",
        "PoB_Lon = 81.85 #@param {type:\"number\"}\n",
        "TZ_OffHours = 5.5\n",
        "DoB_Time = '12:01'\n",
        "#PoB_Lat = 25.43\n",
        "#PoB_Lon = 81.85\n",
        "Name = p21.gName\n",
        "Gender = 'x'\n",
        "tag1 = 'nil'\n",
        "tag3 = 'nil'\n",
        "tag5 = 'nil'\n",
        "p21.pName = p21.gName\n",
        "p21.ChartType = 'Rashi'\n",
        "RashiNumber = p21.RashiName.index(rRashi)\n",
        "RashiLon = RashiNumber * 30 - 15\n",
        "p21.SubMoonLong = RashiLon    # Needed in Gochar 'La' long"
      ],
      "metadata": {
        "id": "PYEYQHcJd-83",
        "cellView": "form"
      },
      "execution_count": 7,
      "outputs": []
    },
    {
      "cell_type": "code",
      "source": [
        "print(RashiNumber, RashiLon)\n",
        "#p21.SubMoonLong = RashiLon\n",
        "print(p21.SubMoonLong)"
      ],
      "metadata": {
        "id": "NN7DmTHPf0vF",
        "colab": {
          "base_uri": "https://localhost:8080/"
        },
        "outputId": "795855a9-2f38-41f9-bc97-1c3268ab555a"
      },
      "execution_count": 8,
      "outputs": [
        {
          "output_type": "stream",
          "name": "stdout",
          "text": [
            "9 255\n",
            "255\n"
          ]
        }
      ]
    },
    {
      "cell_type": "code",
      "source": [
        "#current = datetime.now(pytz.timezone('Asia/Kolkata'))\n",
        "#print(current)"
      ],
      "metadata": {
        "id": "Mkhy6RvCjpSy"
      },
      "execution_count": 9,
      "outputs": []
    },
    {
      "cell_type": "code",
      "source": [
        "def getDelta(cD,bA,aA,bR,aR,AllTransits = False):\n",
        "    #print('getDelta',cD)\n",
        "    cDs = cD.strftime(\"%d %b %y\")+'|'\n",
        "    grahaList = p21.Graha + ['Ra','Ke']\n",
        "    #for G in p21.Graha:\n",
        "    for G in grahaList:\n",
        "        if bA[G] != aA[G]:\n",
        "            if G not in ['Mo', 'Me']:               # Excludes certain grahas to reduce the clutter\n",
        "                print(cDs, G, 'TRANSITS from ', bA[G], 'to ', aA[G])\n",
        "            else:\n",
        "                if AllTransits:\n",
        "                    print(cDs, G, 'transits from ', bA[G], 'to ', aA[G])\n",
        "            #print(cDs, G, 'transits from ', bA[G], 'to ', aA[G])\n",
        "        if bR['GRet'][G] != aR['GRet'][G]:\n",
        "            #print(cD,G, 'changes from ', bR['GRet'][G], 'to ', aR['GRet'][G], ' retrograde')\n",
        "            if bR['GRet'][G]:\n",
        "                print(cDs, G, 'turns DIRECT')\n",
        "            else:\n",
        "                print(cDs, G, 'turns RETRO')"
      ],
      "metadata": {
        "id": "CvA3BMO7OOT5"
      },
      "execution_count": 10,
      "outputs": []
    },
    {
      "cell_type": "code",
      "source": [
        "def Transitz(numberOfDays,allTransits = False,buildMovie = False):\n",
        "    sDate = datetime.now(pytz.timezone('Asia/Kolkata'))\n",
        "    cDate = sDate\n",
        "\n",
        "    p21utils.setTransitData(p21utils.getTransitData(cDate))\n",
        "    for count in range(numberOfDays):\n",
        "\n",
        "        prevGrashiA = p21.GRashiA\n",
        "        prevGLonRet = p21.GLonRet\n",
        "        cDate += timedelta(days=1)\n",
        "\n",
        "        p21utils.setTransitData(p21utils.getTransitData(cDate))\n",
        "        if buildMovie:\n",
        "            p21.cID = cDate.strftime(\"%d %b %y\")\n",
        "            #p21utilsR.R12B_drawChart_South()\n",
        "            p21utilsR.R12B_drawChart_Bengal()\n",
        "            newName = './cImages/img'+str(count)+'.png'\n",
        "            oldName = './RashiChart.png'\n",
        "            os.rename(oldName, newName)\n",
        "        getDelta(cDate,prevGrashiA,p21.GRashiA,prevGLonRet,p21.GLonRet,allTransits)"
      ],
      "metadata": {
        "id": "NJ9MkiCCe42C"
      },
      "execution_count": 11,
      "outputs": []
    },
    {
      "cell_type": "markdown",
      "source": [
        "## Transits as Text\n"
      ],
      "metadata": {
        "id": "MGX6dMcsR-Mz"
      }
    },
    {
      "cell_type": "code",
      "source": [
        "!mkdir ./cImages\n",
        "!rm ./cImages/*.png\n",
        "\n",
        "Transitz(150)       # AllTransits = False, BuildMovie = False, buy default"
      ],
      "metadata": {
        "id": "mU5SOSKBfiHJ",
        "outputId": "fe4157e1-eb69-4f55-b42c-22ca52e9b754",
        "colab": {
          "base_uri": "https://localhost:8080/"
        }
      },
      "execution_count": 12,
      "outputs": [
        {
          "output_type": "stream",
          "name": "stdout",
          "text": [
            "rm: cannot remove './cImages/*.png': No such file or directory\n",
            "31 May 25| Ve TRANSITS from  Meen to  Mesh\n",
            "07 Jun 25| Ma TRANSITS from  Karkat to  Simha\n",
            "15 Jun 25| Su TRANSITS from  Vrish to  Mithun\n",
            "30 Jun 25| Ve TRANSITS from  Mesh to  Vrish\n",
            "13 Jul 25| Sa turns RETRO\n",
            "17 Jul 25| Su TRANSITS from  Mithun to  Karkat\n",
            "18 Jul 25| Me turns RETRO\n",
            "26 Jul 25| Ve TRANSITS from  Vrish to  Mithun\n",
            "29 Jul 25| Ma TRANSITS from  Simha to  Kanya\n",
            "12 Aug 25| Me turns DIRECT\n",
            "17 Aug 25| Su TRANSITS from  Karkat to  Simha\n",
            "21 Aug 25| Ve TRANSITS from  Mithun to  Karkat\n",
            "14 Sep 25| Ma TRANSITS from  Kanya to  Tula\n",
            "15 Sep 25| Ve TRANSITS from  Karkat to  Simha\n",
            "17 Sep 25| Su TRANSITS from  Simha to  Kanya\n",
            "09 Oct 25| Ve TRANSITS from  Simha to  Kanya\n",
            "18 Oct 25| Su TRANSITS from  Kanya to  Tula\n",
            "19 Oct 25| Ju TRANSITS from  Mithun to  Karkat\n"
          ]
        }
      ]
    },
    {
      "cell_type": "markdown",
      "source": [
        "##Transits as a video\n",
        "reference : https://ostechnix.com/20-ffmpeg-commands-beginners/"
      ],
      "metadata": {
        "id": "OsvIxEPFSHQ5"
      }
    },
    {
      "cell_type": "code",
      "source": [
        "def show_video(video_path, video_width = 600):\n",
        "\n",
        "  video_file = open(video_path, \"r+b\").read()\n",
        "\n",
        "  video_url = f\"data:video/mp4;base64,{b64encode(video_file).decode()}\"\n",
        "  return HTML(f\"\"\"<video width={video_width} controls><source src=\"{video_url}\"></video>\"\"\")"
      ],
      "metadata": {
        "id": "jkcOAo7apTd7"
      },
      "execution_count": null,
      "outputs": []
    },
    {
      "cell_type": "code",
      "source": [
        "#!mkdir ./cImages\n",
        "!rm ./cImages/*.png"
      ],
      "metadata": {
        "id": "ANKehF05gOKV"
      },
      "execution_count": null,
      "outputs": []
    },
    {
      "cell_type": "code",
      "source": [
        "%%capture\n",
        "#\n",
        "# Create Images for the Movie\n",
        "#\n",
        "Transitz(200,False,True)"
      ],
      "metadata": {
        "id": "JrcJ7CawfwF3"
      },
      "execution_count": null,
      "outputs": []
    },
    {
      "cell_type": "code",
      "source": [
        "# Create movie\n",
        "# changing the FPS to 5\n",
        "#!ffmpeg -f image2 -r 5 -i ./cImages/img%d.png -vcodec mpeg4 -y ./p21Transitz.mp4  # this codec does not work well\n",
        "#https://shotstack.io/learn/use-ffmpeg-to-convert-images-to-video/\n",
        "\n",
        "!ffmpeg -loglevel error -framerate 5 -i ./cImages/img%d.png -c:v libx264 -r 5 p21Transitz_0.mp4   # -loglevel error supresses non-error messages\n"
      ],
      "metadata": {
        "id": "35NaoV6H2yFb"
      },
      "execution_count": null,
      "outputs": []
    },
    {
      "cell_type": "code",
      "source": [
        "# see the movie\n",
        "#\n",
        "show_video('p21Transitz_0.mp4',300)"
      ],
      "metadata": {
        "id": "EjMQrxc0paiW"
      },
      "execution_count": null,
      "outputs": []
    },
    {
      "cell_type": "code",
      "source": [
        "#Add audio\n",
        "# https://ostechnix.com/20-ffmpeg-commands-beginners/\n",
        "#\n",
        "\n",
        "!ffmpeg -loglevel error -i p21Transitz_0.mp4 -i ClockTicking01.mp3 -shortest -c:v copy -c:a aac p21Transitz_1.mp4"
      ],
      "metadata": {
        "id": "zQCzeTcEw4fj"
      },
      "execution_count": null,
      "outputs": []
    },
    {
      "cell_type": "code",
      "source": [
        "# see the movie\n",
        "#\n",
        "show_video('p21Transitz_1.mp4',300)"
      ],
      "metadata": {
        "id": "iX5Zhv8lxwIV"
      },
      "execution_count": null,
      "outputs": []
    },
    {
      "cell_type": "code",
      "source": [
        "#Add a branding image\n",
        "# https://gist.github.com/bennylope/d5d6029fb63648582fed2367ae23cfd6\n",
        "# https://stackoverflow.com/questions/20847674/ffmpeg-libx264-height-not-divisible-by-2\n",
        "#\n",
        "!ffmpeg -loglevel error -i p21Transitz_1.mp4 -i p21Logo.png -filter_complex 'overlay=x=((main_w-overlay_w)/2)-1:y=((main_h-overlay_h)/2)+5'  p21Transitz_2.mp4"
      ],
      "metadata": {
        "id": "gH41S4-s21iG"
      },
      "execution_count": null,
      "outputs": []
    },
    {
      "cell_type": "code",
      "source": [
        "# see the movie\n",
        "#\n",
        "show_video('p21Transitz_2.mp4',300)"
      ],
      "metadata": {
        "id": "KpyIXwH43LZP"
      },
      "execution_count": null,
      "outputs": []
    },
    {
      "cell_type": "code",
      "source": [
        "# Convert to Whatsapp format\n",
        "# https://ostechnix.com/convert-videos-to-whatsapp-video-format-with-ffmpeg/\n",
        "#\n",
        "\n",
        "!ffmpeg -loglevel error -i p21Transitz_2.mp4 -vcodec libx264 -acodec aac p21Transitz_w.mp4"
      ],
      "metadata": {
        "id": "eMQqz51hRKPL"
      },
      "execution_count": null,
      "outputs": []
    },
    {
      "cell_type": "code",
      "source": [
        "# see the movie\n",
        "#\n",
        "show_video('p21Transitz_w.mp4',300)"
      ],
      "metadata": {
        "id": "yYbuwDeTCEFV"
      },
      "execution_count": null,
      "outputs": []
    },
    {
      "cell_type": "code",
      "source": [
        "!ffprobe p21Transitz.mp4"
      ],
      "metadata": {
        "id": "knbyhPCHTzBM"
      },
      "execution_count": null,
      "outputs": []
    },
    {
      "cell_type": "markdown",
      "source": [
        "#Chronobooks <br>\n",
        "![alt text](https://1.bp.blogspot.com/-lTiYBkU2qbU/X1er__fvnkI/AAAAAAAAjtE/GhDR3OEGJr4NG43fZPodrQD5kbxtnKebgCLcBGAsYHQ/s600/Footer2020-600x200.png)<hr>\n",
        "Chronotantra and Chronoyantra are two science fiction novels that explore the collapse of human civilisation on Earth and then its rebirth and reincarnation both on Earth as well as on the distant worlds of Mars, Titan and Enceladus. But is it the human civilisation that is being reborn? Or is it some other sentience that is revealing itself.\n",
        "If you have an interest in AI and found this material useful, you may consider buying these novels, in paperback or kindle, from [http://bit.ly/chronobooks](http://bit.ly/chronobooks)"
      ],
      "metadata": {
        "id": "DFx4XUVBB0vg"
      }
    }
  ]
}