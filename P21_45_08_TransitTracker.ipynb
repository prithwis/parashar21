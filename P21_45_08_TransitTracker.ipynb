{
  "nbformat": 4,
  "nbformat_minor": 0,
  "metadata": {
    "colab": {
      "provenance": [],
      "collapsed_sections": [],
      "include_colab_link": true
    },
    "kernelspec": {
      "name": "python3",
      "display_name": "Python 3"
    },
    "language_info": {
      "name": "python"
    }
  },
  "cells": [
    {
      "cell_type": "markdown",
      "metadata": {
        "id": "view-in-github",
        "colab_type": "text"
      },
      "source": [
        "<a href=\"https://colab.research.google.com/github/prithwis/parashar21/blob/main/P21_45_08_TransitTracker.ipynb\" target=\"_parent\"><img src=\"https://colab.research.google.com/assets/colab-badge.svg\" alt=\"Open In Colab\"/></a>"
      ]
    },
    {
      "cell_type": "markdown",
      "source": [
        "![alt text](http://1.bp.blogspot.com/_5QlanosqxiQ/SXLOLTu7S7I/AAAAAAAAAm8/0r6C7lCxsic/S1600-R/p21-header-003.png) <br>\n",
        "\n",
        "\n",
        "---\n",
        "\n",
        "\n",
        "\n",
        "[Prithwis Mukerjee](http://www.yantrajaal.com) ||\n",
        "Website - [Parashar21](https://parashar21.blogspot.com)<br>"
      ],
      "metadata": {
        "id": "rj4jjIHTvPV8"
      }
    },
    {
      "cell_type": "markdown",
      "source": [
        "Copyright (c) 2022, Prithwis Mukerjee All rights reserved.\n",
        "\n",
        "This source code is licensed under the GNU GPL v3.0 -style license found in the LICENSE file in the root directory of this source tree."
      ],
      "metadata": {
        "id": "9OzVEmHm1IaF"
      }
    },
    {
      "cell_type": "markdown",
      "source": [
        "#Rationale\n",
        "\n",
        "\n"
      ],
      "metadata": {
        "id": "MKVBLfNMnXYE"
      }
    },
    {
      "cell_type": "markdown",
      "source": [
        "#SetUp Environment"
      ],
      "metadata": {
        "id": "l2v2nhRKvwJS"
      }
    },
    {
      "cell_type": "markdown",
      "source": [
        "##Install Software"
      ],
      "metadata": {
        "id": "djqyotVjO5TI"
      }
    },
    {
      "cell_type": "code",
      "source": [
        "!pip -qq install pyswisseph                                 # https://stackoverflow.com/questions/64277506/pip-install-options-unclear\n",
        "!pip -qq install python-docx                                #https://python-docx.readthedocs.io/en/latest/\n",
        "#!/usr/bin/python3 -m pip install \"pymongo[srv]\"            # Required only if used with Atlas remote servers\n",
        "#!apt install mongodb > /dev/null                            # install local MongoDB server           \n",
        "#!service mongodb start                                      # start Local MongoDB server instance"
      ],
      "metadata": {
        "colab": {
          "base_uri": "https://localhost:8080/"
        },
        "id": "AWKFabc0v3FI",
        "outputId": "00e9323b-9da0-4562-e9e5-be93ace95a21"
      },
      "execution_count": 1,
      "outputs": [
        {
          "output_type": "stream",
          "name": "stdout",
          "text": [
            "\u001b[K     |████████████████████████████████| 1.8 MB 5.1 MB/s \n",
            "\u001b[K     |████████████████████████████████| 5.6 MB 5.2 MB/s \n",
            "\u001b[?25h  Building wheel for python-docx (setup.py) ... \u001b[?25l\u001b[?25hdone\n"
          ]
        }
      ]
    },
    {
      "cell_type": "markdown",
      "source": [
        "##Install, import prerequisites"
      ],
      "metadata": {
        "id": "Vml3UdnbOAlO"
      }
    },
    {
      "cell_type": "code",
      "source": [
        "#Utility functions \n",
        "from pymongo import MongoClient\n",
        "import pandas as pd\n",
        "import dateutil\n",
        "import json\n",
        "from docx import Document\n",
        "from docx.shared import Inches\n",
        "from docx.enum.text import WD_ALIGN_PARAGRAPH\n",
        "from datetime import datetime\n",
        "from datetime import timedelta\n",
        "import pytz\n",
        "from google.colab import files\n",
        "\n",
        "#import matplotlib.pyplot as plt\n",
        "#import math\n",
        "\n",
        "import os"
      ],
      "metadata": {
        "id": "tsCga6c8pLvM"
      },
      "execution_count": 19,
      "outputs": []
    },
    {
      "cell_type": "code",
      "source": [
        "#Load p21 modules from github\n",
        "!wget -O p21.py -q https://raw.githubusercontent.com/prithwis/parashar21/main/utils/p21.py                  # all global variables\n",
        "!wget -O p21utils.py -q https://raw.githubusercontent.com/prithwis/parashar21/main/utils/p21utils.py        # large number of utility functions\n",
        "!wget -O p21utilsR.py -q https://raw.githubusercontent.com/prithwis/parashar21/main/utils/p21utilsR.py      # report writing utility functions\n",
        "!wget -O p21swe.py -q https://raw.githubusercontent.com/prithwis/parashar21/main/utils/p21swe.py            # Swiss Ephemeris functions\n",
        "!wget -O p21YogInfo.py -q https://raw.githubusercontent.com/prithwis/parashar21/main/utils/p21YogInfo.py    # yog data - description and conditions \n",
        "# ---------------------------\n",
        "\n",
        "#!wget -O Saraswati.png -q https://github.com/prithwis/parashar21/raw/main/images/Saraswati02.png                 \n",
        "#!wget -O p21logo.png -q https://github.com/prithwis/parashar21/raw/main/images/p21logo-002-1.png   \n",
        "\n"
      ],
      "metadata": {
        "id": "uwAT_IbvB0A-"
      },
      "execution_count": 3,
      "outputs": []
    },
    {
      "cell_type": "code",
      "source": [
        "import p21\n",
        "import p21utils\n",
        "import p21utilsR\n",
        "import p21swe\n",
        "#import p21YogInfo\n",
        "# ------------------------------------------------\n",
        "# required for multiple imports of the same module\n",
        "# ------------------------------------------------\n",
        "import importlib\n",
        "importlib.reload(p21)\n",
        "importlib.reload(p21utils)\n",
        "importlib.reload(p21utilsR)\n",
        "importlib.reload(p21swe)\n",
        "#importlib.reload(p21YogInfo)"
      ],
      "metadata": {
        "id": "7Np3o1Nn0zrX",
        "outputId": "e3cb2d56-6c2c-47d5-db2e-0eb1d221c9cf",
        "colab": {
          "base_uri": "https://localhost:8080/"
        }
      },
      "execution_count": 4,
      "outputs": [
        {
          "output_type": "stream",
          "name": "stdout",
          "text": [
            "10 Yogs on record\n",
            "0 : Amala Yog | 10th from Moon OR Lagna should have a benefic\n",
            "1 : RajLakshana Yog | Jupiter, Venus, Mercury, Moon should be in Lagna or they should be in a Kendra\n",
            "2 : Chatussagara Yog | All the Kendras 1/4/7/10 are occupied by planets, Ra, Ke not counted here\n",
            "3 : Adhi678 Yog | Benefics located in 6/7/8th  from Moon\n",
            "4 : Chandra Mangal Yog | Mars Conjoins Moon or  Mars and Moon in Mutual Aspect\n",
            "5 : Kemadruma Yog : No planets on either sides of the Moon\n",
            "6 : Anapha Yog |Planets other than Sun in 12th Place from Moon\n",
            "7 : Sunapha Yog |Planets other than Sun in 2nd Place from Moon\n",
            "8 : Dhurdhura Yog | Planets on both sides of the Moon\n",
            "9 : Gajakesari Yog | Jupiter is in Kendra or 1,4,7,10th from Moon\n"
          ]
        },
        {
          "output_type": "execute_result",
          "data": {
            "text/plain": [
              "<module 'p21swe' from '/content/p21swe.py'>"
            ]
          },
          "metadata": {},
          "execution_count": 4
        }
      ]
    },
    {
      "cell_type": "code",
      "source": [
        "#Download Swiss Ephemeris Files \n",
        "!wget -q http://www.astro.com/ftp/swisseph/ephe/seas_18.se1\n",
        "!wget -q http://www.astro.com/ftp/swisseph/ephe/semo_18.se1\n",
        "!wget -q http://www.astro.com/ftp/swisseph/ephe/sepl_18.se1\n",
        "!mkdir ephe\n",
        "!mv *.se1 ephe\n",
        "#------------------------------\n",
        "# Configure SWE with appropriate parameters\n",
        "#\n",
        "p21swe.C01_configSWE()"
      ],
      "metadata": {
        "id": "kMKlXoDGH8XP"
      },
      "execution_count": 5,
      "outputs": []
    },
    {
      "cell_type": "markdown",
      "source": [
        "#New Way"
      ],
      "metadata": {
        "id": "r01uQLQDrmbM"
      }
    },
    {
      "cell_type": "code",
      "source": [
        "#@title Static Data\n",
        "#@markdown ### Specify Reference Rashi:\n",
        "rRashi = 'Dhanu' #@param [\"Mesh\",\"Vrish\",\"Mithun\",\"Karkat\",\"Simha\",\"Kanya\",\"Tula\",\"Vrishchik\",\"Dhanu\",\"Makar\",\"Kumbh\",\"Meen\"]\n",
        "#@markdown ---\n",
        "#@markdown ### Using Calcutta as default location:\n",
        "PoB_Lat = 25.43 #@param {type:\"number\"}\n",
        "PoB_Lon = 81.85 #@param {type:\"number\"}\n",
        "TZ_OffHours = 5.5\n",
        "DoB_Time = '12:01'\n",
        "#PoB_Lat = 25.43\n",
        "#PoB_Lon = 81.85\n",
        "Name = p21.gName\n",
        "Gender = 'x'\n",
        "tag1 = 'nil'\n",
        "tag3 = 'nil'\n",
        "tag5 = 'nil'\n",
        "p21.pName = p21.gName\n",
        "p21.ChartType = 'Rashi'\n",
        "RashiNumber = p21.RashiName.index(rRashi)\n",
        "RashiLon = RashiNumber * 30 - 15"
      ],
      "metadata": {
        "id": "PYEYQHcJd-83"
      },
      "execution_count": 22,
      "outputs": []
    },
    {
      "cell_type": "code",
      "source": [
        "print(RashiNumber, RashiLon)"
      ],
      "metadata": {
        "colab": {
          "base_uri": "https://localhost:8080/"
        },
        "id": "NN7DmTHPf0vF",
        "outputId": "f813c985-7068-4a24-99c4-ed9c474bd9e5"
      },
      "execution_count": 23,
      "outputs": [
        {
          "output_type": "stream",
          "name": "stdout",
          "text": [
            "9 255\n"
          ]
        }
      ]
    },
    {
      "cell_type": "code",
      "source": [
        "current = datetime.now(pytz.timezone('Asia/Kolkata'))\n",
        "print(current)"
      ],
      "metadata": {
        "colab": {
          "base_uri": "https://localhost:8080/"
        },
        "id": "Mkhy6RvCjpSy",
        "outputId": "c892fdc4-2943-443a-f5dd-1d1856abc036"
      },
      "execution_count": 8,
      "outputs": [
        {
          "output_type": "stream",
          "name": "stdout",
          "text": [
            "2022-10-05 05:46:36.053279+05:30\n"
          ]
        }
      ]
    },
    {
      "cell_type": "code",
      "source": [
        "def getData(cDT):\n",
        "    DoB_Day = int(cDT.strftime(\"%-d\"))\n",
        "    DoB_Mon = int(cDT.strftime(\"%-m\"))\n",
        "    DoB_Year = int(cDT.strftime(\"%Y\"))\n",
        "    #print(DoB_Time)\n",
        "\n",
        "    sData = [DoB_Day,DoB_Mon,DoB_Year,DoB_Time,TZ_OffHours,PoB_Lat,PoB_Lon,Name, Gender, tag1, tag3,tag5]\n",
        "    sLabels = ['DoB_Day','DoB_Mon','DoB_Year','DoB_Time','TZ_OffHours','PoB_Lat','PoB_Lon','Name','Gender','tag1','tag3','tag5']\n",
        "    return(pd.Series(sData, index = sLabels))"
      ],
      "metadata": {
        "id": "6we2Taw1sUq8"
      },
      "execution_count": 9,
      "outputs": []
    },
    {
      "cell_type": "code",
      "source": [
        "def setData(c):\n",
        "    p21swe.C02_parsePersonData(c)\n",
        "    p21swe.C03_convertDates()\n",
        "    p21swe.C04_calculateGrahaPositions()\n",
        "    p21swe.C05_buildGLonGRet()\n",
        "    p21.GLonRet['GLon']['La'] = RashiLon\n",
        "    p21utils.R11_LocateGrahaInRashi()\n",
        "    #print(p21.GRashiA)"
      ],
      "metadata": {
        "id": "magN3sBGLWQr"
      },
      "execution_count": 14,
      "outputs": []
    },
    {
      "cell_type": "code",
      "source": [
        "def getDelta(cD,bA,aA,bR,aR,AllTransits = False):\n",
        "    #print('getDelta',cD)\n",
        "    cDs = cD.strftime(\"%d %b %y\")+'|'\n",
        "    for G in p21.Graha:\n",
        "        if bA[G] != aA[G]:\n",
        "            if G not in ['Mo', 'Me']:               # Excludes certain grahas to reduce the clutter\n",
        "                print(cDs, G, 'TRANSITS from ', bA[G], 'to ', aA[G])\n",
        "            else:\n",
        "                if AllTransits:\n",
        "                    print(cDs, G, 'transits from ', bA[G], 'to ', aA[G])\n",
        "            #print(cDs, G, 'transits from ', bA[G], 'to ', aA[G])\n",
        "        if bR['GRet'][G] != aR['GRet'][G]:\n",
        "            #print(cD,G, 'changes from ', bR['GRet'][G], 'to ', aR['GRet'][G], ' retrograde')\n",
        "            if bR['GRet'][G]:\n",
        "                print(cDs, G, 'turns DIRECT')\n",
        "            else:\n",
        "                print(cDs, G, 'turns RETRO')"
      ],
      "metadata": {
        "id": "CvA3BMO7OOT5"
      },
      "execution_count": 18,
      "outputs": []
    },
    {
      "cell_type": "code",
      "source": [
        "#!mkdir ./cImages\n",
        "!rm ./cImages/*.png\n"
      ],
      "metadata": {
        "id": "qDd3uB43iWhZ"
      },
      "execution_count": 42,
      "outputs": []
    },
    {
      "cell_type": "code",
      "source": [
        "%%capture\n",
        "buildMovie = True\n",
        "numberOfDays = 100\n",
        "sDate = datetime.now(pytz.timezone('Asia/Kolkata'))\n",
        "cDate = sDate\n",
        "\n",
        "setData(getData(cDate))\n",
        "for count in range(numberOfDays):\n",
        "    \n",
        "    prevGrashiA = p21.GRashiA\n",
        "    prevGLonRet = p21.GLonRet\n",
        "    cDate += timedelta(days=1)\n",
        "\n",
        "    setData(getData(cDate))\n",
        "    if buildMovie:\n",
        "        p21.cID = cDate.strftime(\"%d %b %y\")\n",
        "        p21utilsR.R12B_drawChart_Bengal()\n",
        "        newName = './cImages/img'+str(count)+'.png'\n",
        "        oldName = './RashiChart.png'\n",
        "        os.rename(oldName, newName)\n",
        "    getDelta(cDate,prevGrashiA,p21.GRashiA,prevGLonRet,p21.GLonRet)\n",
        "    "
      ],
      "metadata": {
        "id": "35NaoV6H2yFb"
      },
      "execution_count": 43,
      "outputs": []
    },
    {
      "cell_type": "code",
      "source": [
        "#!ffmpeg -f image2 -r 1/1 -i ./cImages/img%01d.png -vcodec mpeg4 -y ./p21Transitz.mp4 \n",
        "\n",
        "\n",
        "# changing the FPS to 5\n",
        "!ffmpeg -f image2 -r 5 -i ./cImages/img%01d.png -vcodec mpeg4 -y ./p21Transitz.mp4 \n",
        "\n",
        "now = datetime.now(pytz.timezone('Asia/Kolkata'))\n",
        "oldName = './p21Transitz.mp4'\n",
        "newName = './p21Transitz'+now.strftime(\"%H%M%S\")+'.mp4'\n",
        "os.rename(oldName, newName)"
      ],
      "metadata": {
        "colab": {
          "base_uri": "https://localhost:8080/"
        },
        "id": "I4HMk-Tok58n",
        "outputId": "6238c978-06f6-46aa-e45b-76d15084d704"
      },
      "execution_count": 48,
      "outputs": [
        {
          "output_type": "stream",
          "name": "stdout",
          "text": [
            "ffmpeg version 3.4.11-0ubuntu0.1 Copyright (c) 2000-2022 the FFmpeg developers\n",
            "  built with gcc 7 (Ubuntu 7.5.0-3ubuntu1~18.04)\n",
            "  configuration: --prefix=/usr --extra-version=0ubuntu0.1 --toolchain=hardened --libdir=/usr/lib/x86_64-linux-gnu --incdir=/usr/include/x86_64-linux-gnu --enable-gpl --disable-stripping --enable-avresample --enable-avisynth --enable-gnutls --enable-ladspa --enable-libass --enable-libbluray --enable-libbs2b --enable-libcaca --enable-libcdio --enable-libflite --enable-libfontconfig --enable-libfreetype --enable-libfribidi --enable-libgme --enable-libgsm --enable-libmp3lame --enable-libmysofa --enable-libopenjpeg --enable-libopenmpt --enable-libopus --enable-libpulse --enable-librubberband --enable-librsvg --enable-libshine --enable-libsnappy --enable-libsoxr --enable-libspeex --enable-libssh --enable-libtheora --enable-libtwolame --enable-libvorbis --enable-libvpx --enable-libwavpack --enable-libwebp --enable-libx265 --enable-libxml2 --enable-libxvid --enable-libzmq --enable-libzvbi --enable-omx --enable-openal --enable-opengl --enable-sdl2 --enable-libdc1394 --enable-libdrm --enable-libiec61883 --enable-chromaprint --enable-frei0r --enable-libopencv --enable-libx264 --enable-shared\n",
            "  libavutil      55. 78.100 / 55. 78.100\n",
            "  libavcodec     57.107.100 / 57.107.100\n",
            "  libavformat    57. 83.100 / 57. 83.100\n",
            "  libavdevice    57. 10.100 / 57. 10.100\n",
            "  libavfilter     6.107.100 /  6.107.100\n",
            "  libavresample   3.  7.  0 /  3.  7.  0\n",
            "  libswscale      4.  8.100 /  4.  8.100\n",
            "  libswresample   2.  9.100 /  2.  9.100\n",
            "  libpostproc    54.  7.100 / 54.  7.100\n",
            "Input #0, image2, from './cImages/img%01d.png':\n",
            "  Duration: 00:00:20.00, start: 0.000000, bitrate: N/A\n",
            "    Stream #0:0: Video: png, rgba(pc), 404x406 [SAR 2834:2834 DAR 202:203], 5 fps, 5 tbr, 5 tbn, 5 tbc\n",
            "Stream mapping:\n",
            "  Stream #0:0 -> #0:0 (png (native) -> mpeg4 (native))\n",
            "Press [q] to stop, [?] for help\n",
            "Output #0, mp4, to './p21Transitz.mp4':\n",
            "  Metadata:\n",
            "    encoder         : Lavf57.83.100\n",
            "    Stream #0:0: Video: mpeg4 (mp4v / 0x7634706D), yuv420p, 404x406 [SAR 1:1 DAR 202:203], q=2-31, 200 kb/s, 5 fps, 10240 tbn, 5 tbc\n",
            "    Metadata:\n",
            "      encoder         : Lavc57.107.100 mpeg4\n",
            "    Side data:\n",
            "      cpb: bitrate max/min/avg: 0/0/200000 buffer size: 0 vbv_delay: -1\n",
            "frame=  100 fps=0.0 q=2.0 Lsize=     262kB time=00:00:19.80 bitrate= 108.5kbits/s speed=77.6x    \n",
            "video:261kB audio:0kB subtitle:0kB other streams:0kB global headers:0kB muxing overhead: 0.490280%\n"
          ]
        }
      ]
    },
    {
      "cell_type": "code",
      "source": [
        "# changing the FPS to 5\n",
        "!ffmpeg -f image2 -r 5 -i ./cImages/img%d.png -vcodec mpeg4 -y ./p21Transitz.mp4 \n",
        "\n",
        "now = datetime.now(pytz.timezone('Asia/Kolkata'))\n",
        "oldName = './p21Transitz.mp4'\n",
        "newName = './p21Transitz'+now.strftime(\"%H%M%S\")+'.mp4'\n",
        "os.rename(oldName, newName)"
      ],
      "metadata": {
        "id": "u5hj3HresZ9c",
        "outputId": "10ac21ab-b1f6-4988-9225-2f6cad19d5a3",
        "colab": {
          "base_uri": "https://localhost:8080/"
        }
      },
      "execution_count": 55,
      "outputs": [
        {
          "output_type": "stream",
          "name": "stdout",
          "text": [
            "ffmpeg version 3.4.11-0ubuntu0.1 Copyright (c) 2000-2022 the FFmpeg developers\n",
            "  built with gcc 7 (Ubuntu 7.5.0-3ubuntu1~18.04)\n",
            "  configuration: --prefix=/usr --extra-version=0ubuntu0.1 --toolchain=hardened --libdir=/usr/lib/x86_64-linux-gnu --incdir=/usr/include/x86_64-linux-gnu --enable-gpl --disable-stripping --enable-avresample --enable-avisynth --enable-gnutls --enable-ladspa --enable-libass --enable-libbluray --enable-libbs2b --enable-libcaca --enable-libcdio --enable-libflite --enable-libfontconfig --enable-libfreetype --enable-libfribidi --enable-libgme --enable-libgsm --enable-libmp3lame --enable-libmysofa --enable-libopenjpeg --enable-libopenmpt --enable-libopus --enable-libpulse --enable-librubberband --enable-librsvg --enable-libshine --enable-libsnappy --enable-libsoxr --enable-libspeex --enable-libssh --enable-libtheora --enable-libtwolame --enable-libvorbis --enable-libvpx --enable-libwavpack --enable-libwebp --enable-libx265 --enable-libxml2 --enable-libxvid --enable-libzmq --enable-libzvbi --enable-omx --enable-openal --enable-opengl --enable-sdl2 --enable-libdc1394 --enable-libdrm --enable-libiec61883 --enable-chromaprint --enable-frei0r --enable-libopencv --enable-libx264 --enable-shared\n",
            "  libavutil      55. 78.100 / 55. 78.100\n",
            "  libavcodec     57.107.100 / 57.107.100\n",
            "  libavformat    57. 83.100 / 57. 83.100\n",
            "  libavdevice    57. 10.100 / 57. 10.100\n",
            "  libavfilter     6.107.100 /  6.107.100\n",
            "  libavresample   3.  7.  0 /  3.  7.  0\n",
            "  libswscale      4.  8.100 /  4.  8.100\n",
            "  libswresample   2.  9.100 /  2.  9.100\n",
            "  libpostproc    54.  7.100 / 54.  7.100\n",
            "Input #0, image2, from './cImages/img%d.png':\n",
            "  Duration: 00:00:20.00, start: 0.000000, bitrate: N/A\n",
            "    Stream #0:0: Video: png, rgba(pc), 404x406 [SAR 2834:2834 DAR 202:203], 5 fps, 5 tbr, 5 tbn, 5 tbc\n",
            "Stream mapping:\n",
            "  Stream #0:0 -> #0:0 (png (native) -> mpeg4 (native))\n",
            "Press [q] to stop, [?] for help\n",
            "Output #0, mp4, to './p21Transitz.mp4':\n",
            "  Metadata:\n",
            "    encoder         : Lavf57.83.100\n",
            "    Stream #0:0: Video: mpeg4 (mp4v / 0x7634706D), yuv420p, 404x406 [SAR 1:1 DAR 202:203], q=2-31, 200 kb/s, 5 fps, 10240 tbn, 5 tbc\n",
            "    Metadata:\n",
            "      encoder         : Lavc57.107.100 mpeg4\n",
            "    Side data:\n",
            "      cpb: bitrate max/min/avg: 0/0/200000 buffer size: 0 vbv_delay: -1\n",
            "frame=  100 fps=0.0 q=2.0 Lsize=     262kB time=00:00:19.80 bitrate= 108.5kbits/s speed=77.1x    \n",
            "video:261kB audio:0kB subtitle:0kB other streams:0kB global headers:0kB muxing overhead: 0.490280%\n"
          ]
        }
      ]
    },
    {
      "cell_type": "code",
      "source": [
        "#p21.pName = p21.gName\n",
        "p21.cID = cDate\n",
        "p21utilsR.R12B_drawChart_Bengal()"
      ],
      "metadata": {
        "colab": {
          "base_uri": "https://localhost:8080/",
          "height": 423
        },
        "id": "qY8l1a2xh-cM",
        "outputId": "6af362ec-bbbe-451d-ea2e-605d85638103"
      },
      "execution_count": 25,
      "outputs": [
        {
          "output_type": "display_data",
          "data": {
            "text/plain": [
              "<Figure size 504x504 with 1 Axes>"
            ],
            "image/png": "[encoded data removed]"
          },
          "metadata": {}
        }
      ]
    },
    {
      "cell_type": "markdown",
      "source": [
        "#Chronobooks <br>\n",
        "![alt text](https://1.bp.blogspot.com/-lTiYBkU2qbU/X1er__fvnkI/AAAAAAAAjtE/GhDR3OEGJr4NG43fZPodrQD5kbxtnKebgCLcBGAsYHQ/s600/Footer2020-600x200.png)<hr>\n",
        "Chronotantra and Chronoyantra are two science fiction novels that explore the collapse of human civilisation on Earth and then its rebirth and reincarnation both on Earth as well as on the distant worlds of Mars, Titan and Enceladus. But is it the human civilisation that is being reborn? Or is it some other sentience that is revealing itself. \n",
        "If you have an interest in AI and found this material useful, you may consider buying these novels, in paperback or kindle, from [http://bit.ly/chronobooks](http://bit.ly/chronobooks)"
      ],
      "metadata": {
        "id": "DFx4XUVBB0vg"
      }
    }
  ]
}