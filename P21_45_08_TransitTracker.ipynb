{
  "nbformat": 4,
  "nbformat_minor": 0,
  "metadata": {
    "colab": {
      "provenance": [],
      "collapsed_sections": [],
      "include_colab_link": true
    },
    "kernelspec": {
      "name": "python3",
      "display_name": "Python 3"
    },
    "language_info": {
      "name": "python"
    }
  },
  "cells": [
    {
      "cell_type": "markdown",
      "metadata": {
        "id": "view-in-github",
        "colab_type": "text"
      },
      "source": [
        "<a href=\"https://colab.research.google.com/github/prithwis/parashar21/blob/main/P21_45_08_TransitTracker.ipynb\" target=\"_parent\"><img src=\"https://colab.research.google.com/assets/colab-badge.svg\" alt=\"Open In Colab\"/></a>"
      ]
    },
    {
      "cell_type": "markdown",
      "source": [
        "![alt text](http://1.bp.blogspot.com/_5QlanosqxiQ/SXLOLTu7S7I/AAAAAAAAAm8/0r6C7lCxsic/S1600-R/p21-header-003.png) <br>\n",
        "\n",
        "\n",
        "---\n",
        "\n",
        "\n",
        "\n",
        "[Prithwis Mukerjee](http://www.yantrajaal.com) ||\n",
        "Website - [Parashar21](https://parashar21.blogspot.com)<br>"
      ],
      "metadata": {
        "id": "rj4jjIHTvPV8"
      }
    },
    {
      "cell_type": "markdown",
      "source": [
        "Copyright (c) 2022, Prithwis Mukerjee All rights reserved.\n",
        "\n",
        "This source code is licensed under the GNU GPL v3.0 -style license found in the LICENSE file in the root directory of this source tree."
      ],
      "metadata": {
        "id": "9OzVEmHm1IaF"
      }
    },
    {
      "cell_type": "markdown",
      "source": [
        "#Rationale\n",
        "Use Swiss Ephemeris software to track transits. <br>\n",
        "Extra fun in making a movie out of this\n",
        "\n"
      ],
      "metadata": {
        "id": "MKVBLfNMnXYE"
      }
    },
    {
      "cell_type": "markdown",
      "source": [
        "#SetUp Environment"
      ],
      "metadata": {
        "id": "l2v2nhRKvwJS"
      }
    },
    {
      "cell_type": "markdown",
      "source": [
        "##Install Software"
      ],
      "metadata": {
        "id": "djqyotVjO5TI"
      }
    },
    {
      "cell_type": "code",
      "source": [
        "!pip -qq install pyswisseph                                 # https://stackoverflow.com/questions/64277506/pip-install-options-unclear\n",
        "!pip -qq install python-docx                                #https://python-docx.readthedocs.io/en/latest/\n",
        "#!/usr/bin/python3 -m pip install \"pymongo[srv]\"            # Required only if used with Atlas remote servers\n",
        "#!apt install mongodb > /dev/null                            # install local MongoDB server           \n",
        "#!service mongodb start                                      # start Local MongoDB server instance"
      ],
      "metadata": {
        "id": "AWKFabc0v3FI",
        "outputId": "573cc28b-5726-414a-91e5-1b4f989696cd",
        "colab": {
          "base_uri": "https://localhost:8080/"
        }
      },
      "execution_count": 1,
      "outputs": [
        {
          "output_type": "stream",
          "name": "stdout",
          "text": [
            "\u001b[K     |████████████████████████████████| 1.8 MB 5.2 MB/s \n",
            "\u001b[K     |████████████████████████████████| 5.6 MB 5.8 MB/s \n",
            "\u001b[?25h  Building wheel for python-docx (setup.py) ... \u001b[?25l\u001b[?25hdone\n"
          ]
        }
      ]
    },
    {
      "cell_type": "markdown",
      "source": [
        "##Install, import prerequisites"
      ],
      "metadata": {
        "id": "Vml3UdnbOAlO"
      }
    },
    {
      "cell_type": "code",
      "source": [
        "#Utility functions \n",
        "from pymongo import MongoClient\n",
        "import pandas as pd\n",
        "import dateutil\n",
        "import json\n",
        "from docx import Document\n",
        "from docx.shared import Inches\n",
        "from docx.enum.text import WD_ALIGN_PARAGRAPH\n",
        "from datetime import datetime\n",
        "from datetime import timedelta\n",
        "import pytz\n",
        "from google.colab import files\n",
        "\n",
        "#import matplotlib.pyplot as plt\n",
        "#import math\n",
        "\n",
        "import os\n",
        "from IPython.display import HTML\n",
        "from base64 import b64encode"
      ],
      "metadata": {
        "id": "tsCga6c8pLvM"
      },
      "execution_count": 2,
      "outputs": []
    },
    {
      "cell_type": "code",
      "source": [
        "#Load p21 modules from github\n",
        "!wget -O p21.py -q https://raw.githubusercontent.com/prithwis/parashar21/main/utils/p21.py                  # all global variables\n",
        "!wget -O p21utils.py -q https://raw.githubusercontent.com/prithwis/parashar21/main/utils/p21utils.py        # large number of utility functions\n",
        "!wget -O p21utilsR.py -q https://raw.githubusercontent.com/prithwis/parashar21/main/utils/p21utilsR.py      # report writing utility functions\n",
        "!wget -O p21swe.py -q https://raw.githubusercontent.com/prithwis/parashar21/main/utils/p21swe.py            # Swiss Ephemeris functions\n",
        "!wget -O p21YogInfo.py -q https://raw.githubusercontent.com/prithwis/parashar21/main/utils/p21YogInfo.py    # yog data - description and conditions \n",
        "# ---------------------------\n",
        "\n",
        "#!wget -O Saraswati.png -q https://github.com/prithwis/parashar21/raw/main/images/Saraswati02.png                 \n",
        "#!wget -O p21logo.png -q https://github.com/prithwis/parashar21/raw/main/images/p21logo-002-1.png   \n",
        "\n"
      ],
      "metadata": {
        "id": "uwAT_IbvB0A-"
      },
      "execution_count": 3,
      "outputs": []
    },
    {
      "cell_type": "code",
      "source": [
        "import p21\n",
        "import p21utils\n",
        "import p21utilsR\n",
        "import p21swe\n",
        "#import p21YogInfo\n",
        "# ------------------------------------------------\n",
        "# required for multiple imports of the same module\n",
        "# ------------------------------------------------\n",
        "import importlib\n",
        "importlib.reload(p21)\n",
        "importlib.reload(p21utils)\n",
        "importlib.reload(p21utilsR)\n",
        "importlib.reload(p21swe)\n",
        "#importlib.reload(p21YogInfo)"
      ],
      "metadata": {
        "id": "7Np3o1Nn0zrX",
        "outputId": "94b35e01-d61e-4726-9b0d-c232cb1e8aea",
        "colab": {
          "base_uri": "https://localhost:8080/"
        }
      },
      "execution_count": 4,
      "outputs": [
        {
          "output_type": "stream",
          "name": "stdout",
          "text": [
            "10 Yogs on record\n",
            "0 : Amala Yog | 10th from Moon OR Lagna should have a benefic\n",
            "1 : RajLakshana Yog | Jupiter, Venus, Mercury, Moon should be in Lagna or they should be in a Kendra\n",
            "2 : Chatussagara Yog | All the Kendras 1/4/7/10 are occupied by planets, Ra, Ke not counted here\n",
            "3 : Adhi678 Yog | Benefics located in 6/7/8th  from Moon\n",
            "4 : Chandra Mangal Yog | Mars Conjoins Moon or  Mars and Moon in Mutual Aspect\n",
            "5 : Kemadruma Yog : No planets on either sides of the Moon\n",
            "6 : Anapha Yog |Planets other than Sun in 12th Place from Moon\n",
            "7 : Sunapha Yog |Planets other than Sun in 2nd Place from Moon\n",
            "8 : Dhurdhura Yog | Planets on both sides of the Moon\n",
            "9 : Gajakesari Yog | Jupiter is in Kendra or 1,4,7,10th from Moon\n"
          ]
        },
        {
          "output_type": "execute_result",
          "data": {
            "text/plain": [
              "<module 'p21swe' from '/content/p21swe.py'>"
            ]
          },
          "metadata": {},
          "execution_count": 4
        }
      ]
    },
    {
      "cell_type": "code",
      "source": [
        "#Download Swiss Ephemeris Files \n",
        "!wget -q http://www.astro.com/ftp/swisseph/ephe/seas_18.se1\n",
        "!wget -q http://www.astro.com/ftp/swisseph/ephe/semo_18.se1\n",
        "!wget -q http://www.astro.com/ftp/swisseph/ephe/sepl_18.se1\n",
        "!mkdir ephe\n",
        "!mv *.se1 ephe\n",
        "#------------------------------\n",
        "# Configure SWE with appropriate parameters\n",
        "#\n",
        "p21swe.C01_configSWE()"
      ],
      "metadata": {
        "id": "kMKlXoDGH8XP"
      },
      "execution_count": 5,
      "outputs": []
    },
    {
      "cell_type": "code",
      "source": [
        "#@title Static Data\n",
        "#@markdown ### Specify Reference Rashi:\n",
        "rRashi = 'Dhanu' #@param [\"Mesh\",\"Vrish\",\"Mithun\",\"Karkat\",\"Simha\",\"Kanya\",\"Tula\",\"Vrishchik\",\"Dhanu\",\"Makar\",\"Kumbh\",\"Meen\"]\n",
        "#@markdown ---\n",
        "#@markdown ### Using Calcutta as default location:\n",
        "PoB_Lat = 25.43 #@param {type:\"number\"}\n",
        "PoB_Lon = 81.85 #@param {type:\"number\"}\n",
        "TZ_OffHours = 5.5\n",
        "DoB_Time = '12:01'\n",
        "#PoB_Lat = 25.43\n",
        "#PoB_Lon = 81.85\n",
        "Name = p21.gName\n",
        "Gender = 'x'\n",
        "tag1 = 'nil'\n",
        "tag3 = 'nil'\n",
        "tag5 = 'nil'\n",
        "p21.pName = p21.gName\n",
        "p21.ChartType = 'Rashi'\n",
        "RashiNumber = p21.RashiName.index(rRashi)\n",
        "RashiLon = RashiNumber * 30 - 15"
      ],
      "metadata": {
        "id": "PYEYQHcJd-83",
        "cellView": "form"
      },
      "execution_count": 6,
      "outputs": []
    },
    {
      "cell_type": "code",
      "source": [
        "#print(RashiNumber, RashiLon)"
      ],
      "metadata": {
        "id": "NN7DmTHPf0vF"
      },
      "execution_count": 8,
      "outputs": []
    },
    {
      "cell_type": "code",
      "source": [
        "#current = datetime.now(pytz.timezone('Asia/Kolkata'))\n",
        "#print(current)"
      ],
      "metadata": {
        "id": "Mkhy6RvCjpSy"
      },
      "execution_count": null,
      "outputs": []
    },
    {
      "cell_type": "code",
      "source": [
        "def getData(cDT):\n",
        "    DoB_Day = int(cDT.strftime(\"%-d\"))\n",
        "    DoB_Mon = int(cDT.strftime(\"%-m\"))\n",
        "    DoB_Year = int(cDT.strftime(\"%Y\"))\n",
        "    #print(DoB_Time)\n",
        "\n",
        "    sData = [DoB_Day,DoB_Mon,DoB_Year,DoB_Time,TZ_OffHours,PoB_Lat,PoB_Lon,Name, Gender, tag1, tag3,tag5]\n",
        "    sLabels = ['DoB_Day','DoB_Mon','DoB_Year','DoB_Time','TZ_OffHours','PoB_Lat','PoB_Lon','Name','Gender','tag1','tag3','tag5']\n",
        "    return(pd.Series(sData, index = sLabels))"
      ],
      "metadata": {
        "id": "6we2Taw1sUq8"
      },
      "execution_count": 9,
      "outputs": []
    },
    {
      "cell_type": "code",
      "source": [
        "def setData(c):\n",
        "    p21swe.C02_parsePersonData(c)\n",
        "    p21swe.C03_convertDates()\n",
        "    p21swe.C04_calculateGrahaPositions()\n",
        "    p21swe.C05_buildGLonGRet()\n",
        "    p21.GLonRet['GLon']['La'] = RashiLon\n",
        "    p21utils.R11_LocateGrahaInRashi()\n",
        "    #print(p21.GRashiA)"
      ],
      "metadata": {
        "id": "magN3sBGLWQr"
      },
      "execution_count": 10,
      "outputs": []
    },
    {
      "cell_type": "code",
      "source": [
        "def getDelta(cD,bA,aA,bR,aR,AllTransits = False):\n",
        "    #print('getDelta',cD)\n",
        "    cDs = cD.strftime(\"%d %b %y\")+'|'\n",
        "    for G in p21.Graha:\n",
        "        if bA[G] != aA[G]:\n",
        "            if G not in ['Mo', 'Me']:               # Excludes certain grahas to reduce the clutter\n",
        "                print(cDs, G, 'TRANSITS from ', bA[G], 'to ', aA[G])\n",
        "            else:\n",
        "                if AllTransits:\n",
        "                    print(cDs, G, 'transits from ', bA[G], 'to ', aA[G])\n",
        "            #print(cDs, G, 'transits from ', bA[G], 'to ', aA[G])\n",
        "        if bR['GRet'][G] != aR['GRet'][G]:\n",
        "            #print(cD,G, 'changes from ', bR['GRet'][G], 'to ', aR['GRet'][G], ' retrograde')\n",
        "            if bR['GRet'][G]:\n",
        "                print(cDs, G, 'turns DIRECT')\n",
        "            else:\n",
        "                print(cDs, G, 'turns RETRO')"
      ],
      "metadata": {
        "id": "CvA3BMO7OOT5"
      },
      "execution_count": 11,
      "outputs": []
    },
    {
      "cell_type": "code",
      "source": [
        "!mkdir ./cImages\n",
        "!rm ./cImages/*.png\n"
      ],
      "metadata": {
        "id": "qDd3uB43iWhZ",
        "outputId": "69512704-192f-4176-896a-8d884a40b33a",
        "colab": {
          "base_uri": "https://localhost:8080/"
        }
      },
      "execution_count": 12,
      "outputs": [
        {
          "output_type": "stream",
          "name": "stdout",
          "text": [
            "rm: cannot remove './cImages/*.png': No such file or directory\n"
          ]
        }
      ]
    },
    {
      "cell_type": "code",
      "source": [
        "def Transitz(numberOfDays,allTransits = False,buildMovie = False):\n",
        "    sDate = datetime.now(pytz.timezone('Asia/Kolkata'))\n",
        "    cDate = sDate\n",
        "\n",
        "    setData(getData(cDate))\n",
        "    for count in range(numberOfDays):\n",
        "        \n",
        "        prevGrashiA = p21.GRashiA\n",
        "        prevGLonRet = p21.GLonRet\n",
        "        cDate += timedelta(days=1)\n",
        "\n",
        "        setData(getData(cDate))\n",
        "        if buildMovie:\n",
        "            p21.cID = cDate.strftime(\"%d %b %y\")\n",
        "            p21utilsR.R12B_drawChart_South()\n",
        "            #p21utilsR.R12B_drawChart_Bengal()\n",
        "            newName = './cImages/img'+str(count)+'.png'\n",
        "            oldName = './RashiChart.png'\n",
        "            os.rename(oldName, newName)\n",
        "        getDelta(cDate,prevGrashiA,p21.GRashiA,prevGLonRet,p21.GLonRet,allTransits)"
      ],
      "metadata": {
        "id": "NJ9MkiCCe42C"
      },
      "execution_count": 13,
      "outputs": []
    },
    {
      "cell_type": "markdown",
      "source": [
        "## Transits at Text\n"
      ],
      "metadata": {
        "id": "MGX6dMcsR-Mz"
      }
    },
    {
      "cell_type": "code",
      "source": [
        "Transitz(200)       # AllTransits = False, BuildMovie = False, buy default"
      ],
      "metadata": {
        "id": "mU5SOSKBfiHJ",
        "outputId": "77af35f7-f342-4bff-92d5-1641c56581fa",
        "colab": {
          "base_uri": "https://localhost:8080/"
        }
      },
      "execution_count": 14,
      "outputs": [
        {
          "output_type": "stream",
          "name": "stdout",
          "text": [
            "16 Oct 22| Ma TRANSITS from  Vrish to  Mithun\n",
            "18 Oct 22| Su TRANSITS from  Kanya to  Tula\n",
            "19 Oct 22| Ve TRANSITS from  Kanya to  Tula\n",
            "23 Oct 22| Sa turns DIRECT\n",
            "31 Oct 22| Ma turns RETRO\n",
            "12 Nov 22| Ve TRANSITS from  Tula to  Vrishchik\n",
            "14 Nov 22| Ma TRANSITS from  Mithun to  Vrish\n",
            "17 Nov 22| Su TRANSITS from  Tula to  Vrishchik\n",
            "24 Nov 22| Ju turns DIRECT\n",
            "06 Dec 22| Ve TRANSITS from  Vrishchik to  Dhanu\n",
            "16 Dec 22| Su TRANSITS from  Vrishchik to  Dhanu\n",
            "30 Dec 22| Me turns RETRO\n",
            "30 Dec 22| Ve TRANSITS from  Dhanu to  Makar\n",
            "13 Jan 23| Ma turns DIRECT\n",
            "15 Jan 23| Su TRANSITS from  Dhanu to  Makar\n",
            "18 Jan 23| Sa TRANSITS from  Makar to  Kumbh\n",
            "19 Jan 23| Me turns DIRECT\n",
            "23 Jan 23| Ve TRANSITS from  Makar to  Kumbh\n",
            "13 Feb 23| Su TRANSITS from  Makar to  Kumbh\n",
            "16 Feb 23| Ve TRANSITS from  Kumbh to  Meen\n",
            "12 Mar 23| Ve TRANSITS from  Meen to  Mesh\n",
            "13 Mar 23| Ma TRANSITS from  Vrish to  Mithun\n",
            "15 Mar 23| Su TRANSITS from  Kumbh to  Meen\n",
            "06 Apr 23| Ve TRANSITS from  Mesh to  Vrish\n",
            "15 Apr 23| Su TRANSITS from  Meen to  Mesh\n",
            "22 Apr 23| Me turns RETRO\n",
            "22 Apr 23| Ju TRANSITS from  Meen to  Mesh\n"
          ]
        }
      ]
    },
    {
      "cell_type": "markdown",
      "source": [
        "##Transits as a video\n",
        "reference : https://ostechnix.com/20-ffmpeg-commands-beginners/"
      ],
      "metadata": {
        "id": "OsvIxEPFSHQ5"
      }
    },
    {
      "cell_type": "code",
      "source": [
        "#!mkdir ./cImages\n",
        "!rm ./cImages/*.png"
      ],
      "metadata": {
        "id": "ANKehF05gOKV",
        "outputId": "5e247069-3a97-47df-8589-9958636fa4c0",
        "colab": {
          "base_uri": "https://localhost:8080/"
        }
      },
      "execution_count": 15,
      "outputs": [
        {
          "output_type": "stream",
          "name": "stdout",
          "text": [
            "rm: cannot remove './cImages/*.png': No such file or directory\n"
          ]
        }
      ]
    },
    {
      "cell_type": "code",
      "source": [
        "%%capture\n",
        "#\n",
        "# Create Images for the Movie\n",
        "#\n",
        "Transitz(200,False,True)"
      ],
      "metadata": {
        "id": "JrcJ7CawfwF3"
      },
      "execution_count": 16,
      "outputs": []
    },
    {
      "cell_type": "code",
      "source": [
        "# Create movie\n",
        "# changing the FPS to 5\n",
        "!ffmpeg -f image2 -r 5 -i ./cImages/img%d.png -vcodec mpeg4 -y ./p21Transitz.mp4 \n",
        "\n",
        "#now = datetime.now(pytz.timezone('Asia/Kolkata'))\n",
        "#oldName = './p21Transitz.mp4'\n",
        "#newName = './p21Transitz'+now.strftime(\"%H%M%S\")+'.mp4'\n",
        "#os.rename(oldName, newName)\n",
        "\n",
        "    "
      ],
      "metadata": {
        "id": "35NaoV6H2yFb",
        "outputId": "b2af2957-79c8-49b5-8b33-da85a99b254d",
        "colab": {
          "base_uri": "https://localhost:8080/"
        }
      },
      "execution_count": 17,
      "outputs": [
        {
          "output_type": "stream",
          "name": "stdout",
          "text": [
            "ffmpeg version 3.4.11-0ubuntu0.1 Copyright (c) 2000-2022 the FFmpeg developers\n",
            "  built with gcc 7 (Ubuntu 7.5.0-3ubuntu1~18.04)\n",
            "  configuration: --prefix=/usr --extra-version=0ubuntu0.1 --toolchain=hardened --libdir=/usr/lib/x86_64-linux-gnu --incdir=/usr/include/x86_64-linux-gnu --enable-gpl --disable-stripping --enable-avresample --enable-avisynth --enable-gnutls --enable-ladspa --enable-libass --enable-libbluray --enable-libbs2b --enable-libcaca --enable-libcdio --enable-libflite --enable-libfontconfig --enable-libfreetype --enable-libfribidi --enable-libgme --enable-libgsm --enable-libmp3lame --enable-libmysofa --enable-libopenjpeg --enable-libopenmpt --enable-libopus --enable-libpulse --enable-librubberband --enable-librsvg --enable-libshine --enable-libsnappy --enable-libsoxr --enable-libspeex --enable-libssh --enable-libtheora --enable-libtwolame --enable-libvorbis --enable-libvpx --enable-libwavpack --enable-libwebp --enable-libx265 --enable-libxml2 --enable-libxvid --enable-libzmq --enable-libzvbi --enable-omx --enable-openal --enable-opengl --enable-sdl2 --enable-libdc1394 --enable-libdrm --enable-libiec61883 --enable-chromaprint --enable-frei0r --enable-libopencv --enable-libx264 --enable-shared\n",
            "  libavutil      55. 78.100 / 55. 78.100\n",
            "  libavcodec     57.107.100 / 57.107.100\n",
            "  libavformat    57. 83.100 / 57. 83.100\n",
            "  libavdevice    57. 10.100 / 57. 10.100\n",
            "  libavfilter     6.107.100 /  6.107.100\n",
            "  libavresample   3.  7.  0 /  3.  7.  0\n",
            "  libswscale      4.  8.100 /  4.  8.100\n",
            "  libswresample   2.  9.100 /  2.  9.100\n",
            "  libpostproc    54.  7.100 / 54.  7.100\n",
            "Input #0, image2, from './cImages/img%d.png':\n",
            "  Duration: 00:00:40.00, start: 0.000000, bitrate: N/A\n",
            "    Stream #0:0: Video: png, rgba(pc), 404x406 [SAR 2834:2834 DAR 202:203], 5 fps, 5 tbr, 5 tbn, 5 tbc\n",
            "Stream mapping:\n",
            "  Stream #0:0 -> #0:0 (png (native) -> mpeg4 (native))\n",
            "Press [q] to stop, [?] for help\n",
            "Output #0, mp4, to './p21Transitz.mp4':\n",
            "  Metadata:\n",
            "    encoder         : Lavf57.83.100\n",
            "    Stream #0:0: Video: mpeg4 (mp4v / 0x7634706D), yuv420p, 404x406 [SAR 1:1 DAR 202:203], q=2-31, 200 kb/s, 5 fps, 10240 tbn, 5 tbc\n",
            "    Metadata:\n",
            "      encoder         : Lavc57.107.100 mpeg4\n",
            "    Side data:\n",
            "      cpb: bitrate max/min/avg: 0/0/200000 buffer size: 0 vbv_delay: -1\n",
            "frame=  200 fps=0.0 q=2.0 Lsize=     517kB time=00:00:39.80 bitrate= 106.5kbits/s speed=72.2x    \n",
            "video:516kB audio:0kB subtitle:0kB other streams:0kB global headers:0kB muxing overhead: 0.329971%\n"
          ]
        }
      ]
    },
    {
      "cell_type": "code",
      "source": [
        "# Convert to Whatsapp format\n",
        "#\n",
        "!ffmpeg -i p21Transitz.mp4 -vcodec libx264 -acodec aac p21Transitz2.mp4"
      ],
      "metadata": {
        "id": "eMQqz51hRKPL",
        "outputId": "4881ab38-8262-4fda-a385-d095bfaa2a10",
        "colab": {
          "base_uri": "https://localhost:8080/"
        }
      },
      "execution_count": 18,
      "outputs": [
        {
          "output_type": "stream",
          "name": "stdout",
          "text": [
            "ffmpeg version 3.4.11-0ubuntu0.1 Copyright (c) 2000-2022 the FFmpeg developers\n",
            "  built with gcc 7 (Ubuntu 7.5.0-3ubuntu1~18.04)\n",
            "  configuration: --prefix=/usr --extra-version=0ubuntu0.1 --toolchain=hardened --libdir=/usr/lib/x86_64-linux-gnu --incdir=/usr/include/x86_64-linux-gnu --enable-gpl --disable-stripping --enable-avresample --enable-avisynth --enable-gnutls --enable-ladspa --enable-libass --enable-libbluray --enable-libbs2b --enable-libcaca --enable-libcdio --enable-libflite --enable-libfontconfig --enable-libfreetype --enable-libfribidi --enable-libgme --enable-libgsm --enable-libmp3lame --enable-libmysofa --enable-libopenjpeg --enable-libopenmpt --enable-libopus --enable-libpulse --enable-librubberband --enable-librsvg --enable-libshine --enable-libsnappy --enable-libsoxr --enable-libspeex --enable-libssh --enable-libtheora --enable-libtwolame --enable-libvorbis --enable-libvpx --enable-libwavpack --enable-libwebp --enable-libx265 --enable-libxml2 --enable-libxvid --enable-libzmq --enable-libzvbi --enable-omx --enable-openal --enable-opengl --enable-sdl2 --enable-libdc1394 --enable-libdrm --enable-libiec61883 --enable-chromaprint --enable-frei0r --enable-libopencv --enable-libx264 --enable-shared\n",
            "  libavutil      55. 78.100 / 55. 78.100\n",
            "  libavcodec     57.107.100 / 57.107.100\n",
            "  libavformat    57. 83.100 / 57. 83.100\n",
            "  libavdevice    57. 10.100 / 57. 10.100\n",
            "  libavfilter     6.107.100 /  6.107.100\n",
            "  libavresample   3.  7.  0 /  3.  7.  0\n",
            "  libswscale      4.  8.100 /  4.  8.100\n",
            "  libswresample   2.  9.100 /  2.  9.100\n",
            "  libpostproc    54.  7.100 / 54.  7.100\n",
            "Input #0, mov,mp4,m4a,3gp,3g2,mj2, from 'p21Transitz.mp4':\n",
            "  Metadata:\n",
            "    major_brand     : isom\n",
            "    minor_version   : 512\n",
            "    compatible_brands: isomiso2mp41\n",
            "    encoder         : Lavf57.83.100\n",
            "  Duration: 00:00:40.00, start: 0.000000, bitrate: 105 kb/s\n",
            "    Stream #0:0(und): Video: mpeg4 (Simple Profile) (mp4v / 0x7634706D), yuv420p, 404x406 [SAR 1:1 DAR 202:203], 105 kb/s, 5 fps, 5 tbr, 10240 tbn, 5 tbc (default)\n",
            "    Metadata:\n",
            "      handler_name    : VideoHandler\n",
            "Stream mapping:\n",
            "  Stream #0:0 -> #0:0 (mpeg4 (native) -> h264 (libx264))\n",
            "Press [q] to stop, [?] for help\n",
            "\u001b[1;36m[libx264 @ 0x55a6e5d01900] \u001b[0musing SAR=1/1\n",
            "\u001b[1;36m[libx264 @ 0x55a6e5d01900] \u001b[0musing cpu capabilities: MMX2 SSE2Fast SSSE3 SSE4.2 AVX FMA3 BMI2 AVX2\n",
            "\u001b[1;36m[libx264 @ 0x55a6e5d01900] \u001b[0mprofile High, level 2.1\n",
            "\u001b[1;36m[libx264 @ 0x55a6e5d01900] \u001b[0m264 - core 152 r2854 e9a5903 - H.264/MPEG-4 AVC codec - Copyleft 2003-2017 - http://www.videolan.org/x264.html - options: cabac=1 ref=3 deblock=1:0:0 analyse=0x3:0x113 me=hex subme=7 psy=1 psy_rd=1.00:0.00 mixed_ref=1 me_range=16 chroma_me=1 trellis=1 8x8dct=1 cqm=0 deadzone=21,11 fast_pskip=1 chroma_qp_offset=-2 threads=3 lookahead_threads=1 sliced_threads=0 nr=0 decimate=1 interlaced=0 bluray_compat=0 constrained_intra=0 bframes=3 b_pyramid=2 b_adapt=1 b_bias=0 direct=1 weightb=1 open_gop=0 weightp=2 keyint=250 keyint_min=5 scenecut=40 intra_refresh=0 rc_lookahead=40 rc=crf mbtree=1 crf=23.0 qcomp=0.60 qpmin=0 qpmax=69 qpstep=4 ip_ratio=1.40 aq=1:1.00\n",
            "Output #0, mp4, to 'p21Transitz2.mp4':\n",
            "  Metadata:\n",
            "    major_brand     : isom\n",
            "    minor_version   : 512\n",
            "    compatible_brands: isomiso2mp41\n",
            "    encoder         : Lavf57.83.100\n",
            "    Stream #0:0(und): Video: h264 (libx264) (avc1 / 0x31637661), yuv420p, 404x406 [SAR 1:1 DAR 202:203], q=-1--1, 5 fps, 10240 tbn, 5 tbc (default)\n",
            "    Metadata:\n",
            "      handler_name    : VideoHandler\n",
            "      encoder         : Lavc57.107.100 libx264\n",
            "    Side data:\n",
            "      cpb: bitrate max/min/avg: 0/0/0 buffer size: 0 vbv_delay: -1\n",
            "frame=  200 fps=0.0 q=-1.0 Lsize=      77kB time=00:00:39.40 bitrate=  16.1kbits/s speed=66.7x    \n",
            "video:74kB audio:0kB subtitle:0kB other streams:0kB global headers:0kB muxing overhead: 4.280571%\n",
            "\u001b[1;36m[libx264 @ 0x55a6e5d01900] \u001b[0mframe I:1     Avg QP: 9.76  size:  5541\n",
            "\u001b[1;36m[libx264 @ 0x55a6e5d01900] \u001b[0mframe P:50    Avg QP:18.63  size:   782\n",
            "\u001b[1;36m[libx264 @ 0x55a6e5d01900] \u001b[0mframe B:149   Avg QP:22.94  size:   205\n",
            "\u001b[1;36m[libx264 @ 0x55a6e5d01900] \u001b[0mconsecutive B-frames:  0.5%  0.0%  1.5% 98.0%\n",
            "\u001b[1;36m[libx264 @ 0x55a6e5d01900] \u001b[0mmb I  I16..4: 72.8% 13.9% 13.3%\n",
            "\u001b[1;36m[libx264 @ 0x55a6e5d01900] \u001b[0mmb P  I16..4:  0.6%  0.6%  0.9%  P16..4:  3.1%  0.5%  0.2%  0.0%  0.0%    skip:93.9%\n",
            "\u001b[1;36m[libx264 @ 0x55a6e5d01900] \u001b[0mmb B  I16..4:  0.4%  0.6%  0.1%  B16..8:  4.1%  0.3%  0.0%  direct: 0.1%  skip:94.3%  L0:54.2% L1:43.8% BI: 2.0%\n",
            "\u001b[1;36m[libx264 @ 0x55a6e5d01900] \u001b[0m8x8 transform intra:34.5% inter:27.7%\n",
            "\u001b[1;36m[libx264 @ 0x55a6e5d01900] \u001b[0mcoded y,uvDC,uvAC intra: 12.3% 0.0% 0.0% inter: 0.3% 0.0% 0.0%\n",
            "\u001b[1;36m[libx264 @ 0x55a6e5d01900] \u001b[0mi16 v,h,dc,p: 51% 45%  4%  0%\n",
            "\u001b[1;36m[libx264 @ 0x55a6e5d01900] \u001b[0mi8 v,h,dc,ddl,ddr,vr,hd,vl,hu: 13%  2% 85%  0%  0%  0%  0%  0%  0%\n",
            "\u001b[1;36m[libx264 @ 0x55a6e5d01900] \u001b[0mi4 v,h,dc,ddl,ddr,vr,hd,vl,hu: 37% 17% 28%  2%  3%  5%  3%  4%  3%\n",
            "\u001b[1;36m[libx264 @ 0x55a6e5d01900] \u001b[0mi8c dc,h,v,p: 100%  0%  0%  0%\n",
            "\u001b[1;36m[libx264 @ 0x55a6e5d01900] \u001b[0mWeighted P-Frames: Y:0.0% UV:0.0%\n",
            "\u001b[1;36m[libx264 @ 0x55a6e5d01900] \u001b[0mref P L0: 65.8%  1.7% 25.8%  6.7%\n",
            "\u001b[1;36m[libx264 @ 0x55a6e5d01900] \u001b[0mref B L0: 70.7% 26.1%  3.1%\n",
            "\u001b[1;36m[libx264 @ 0x55a6e5d01900] \u001b[0mref B L1: 93.4%  6.6%\n",
            "\u001b[1;36m[libx264 @ 0x55a6e5d01900] \u001b[0mkb/s:15.03\n"
          ]
        }
      ]
    },
    {
      "cell_type": "code",
      "source": [
        "def show_video(video_path, video_width = 600):\n",
        "   \n",
        "  video_file = open(video_path, \"r+b\").read()\n",
        " \n",
        "  video_url = f\"data:video/mp4;base64,{b64encode(video_file).decode()}\"\n",
        "  return HTML(f\"\"\"<video width={video_width} controls><source src=\"{video_url}\"></video>\"\"\")"
      ],
      "metadata": {
        "id": "Fu6EUARbmLsO"
      },
      "execution_count": 19,
      "outputs": []
    },
    {
      "cell_type": "code",
      "source": [
        "# Finally playing\n",
        "# \n",
        "\n",
        "show_video('p21Transitz2.mp4',200)\n"
      ],
      "metadata": {
        "id": "ptWwtfozmPpq",
        "outputId": "064c9249-40fd-4b58-a74b-1d74dbb48e20",
        "colab": {
          "base_uri": "https://localhost:8080/",
          "height": 222
        }
      },
      "execution_count": 20,
      "outputs": [
        {
          "output_type": "execute_result",
          "data": {
            "text/plain": [
              "<IPython.core.display.HTML object>"
            ],
            "text/html": [
              "<video width=200 controls><source src=\"data:video/mp4;base64,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\"></video>"
            ]
          },
          "metadata": {},
          "execution_count": 20
        }
      ]
    },
    {
      "cell_type": "code",
      "source": [
        "!ffprobe p21Transitz2.mp4"
      ],
      "metadata": {
        "id": "knbyhPCHTzBM",
        "outputId": "109a3b06-a08c-4538-bc54-59ae80dddaf0",
        "colab": {
          "base_uri": "https://localhost:8080/"
        }
      },
      "execution_count": 21,
      "outputs": [
        {
          "output_type": "stream",
          "name": "stdout",
          "text": [
            "ffprobe version 3.4.11-0ubuntu0.1 Copyright (c) 2007-2022 the FFmpeg developers\n",
            "  built with gcc 7 (Ubuntu 7.5.0-3ubuntu1~18.04)\n",
            "  configuration: --prefix=/usr --extra-version=0ubuntu0.1 --toolchain=hardened --libdir=/usr/lib/x86_64-linux-gnu --incdir=/usr/include/x86_64-linux-gnu --enable-gpl --disable-stripping --enable-avresample --enable-avisynth --enable-gnutls --enable-ladspa --enable-libass --enable-libbluray --enable-libbs2b --enable-libcaca --enable-libcdio --enable-libflite --enable-libfontconfig --enable-libfreetype --enable-libfribidi --enable-libgme --enable-libgsm --enable-libmp3lame --enable-libmysofa --enable-libopenjpeg --enable-libopenmpt --enable-libopus --enable-libpulse --enable-librubberband --enable-librsvg --enable-libshine --enable-libsnappy --enable-libsoxr --enable-libspeex --enable-libssh --enable-libtheora --enable-libtwolame --enable-libvorbis --enable-libvpx --enable-libwavpack --enable-libwebp --enable-libx265 --enable-libxml2 --enable-libxvid --enable-libzmq --enable-libzvbi --enable-omx --enable-openal --enable-opengl --enable-sdl2 --enable-libdc1394 --enable-libdrm --enable-libiec61883 --enable-chromaprint --enable-frei0r --enable-libopencv --enable-libx264 --enable-shared\n",
            "  libavutil      55. 78.100 / 55. 78.100\n",
            "  libavcodec     57.107.100 / 57.107.100\n",
            "  libavformat    57. 83.100 / 57. 83.100\n",
            "  libavdevice    57. 10.100 / 57. 10.100\n",
            "  libavfilter     6.107.100 /  6.107.100\n",
            "  libavresample   3.  7.  0 /  3.  7.  0\n",
            "  libswscale      4.  8.100 /  4.  8.100\n",
            "  libswresample   2.  9.100 /  2.  9.100\n",
            "  libpostproc    54.  7.100 / 54.  7.100\n",
            "Input #0, mov,mp4,m4a,3gp,3g2,mj2, from 'p21Transitz2.mp4':\n",
            "  Metadata:\n",
            "    major_brand     : isom\n",
            "    minor_version   : 512\n",
            "    compatible_brands: isomiso2avc1mp41\n",
            "    encoder         : Lavf57.83.100\n",
            "  Duration: 00:00:40.00, start: 0.000000, bitrate: 15 kb/s\n",
            "    Stream #0:0(und): Video: h264 (High) (avc1 / 0x31637661), yuv420p, 404x406 [SAR 1:1 DAR 202:203], 15 kb/s, 5 fps, 5 tbr, 10240 tbn, 10 tbc (default)\n",
            "    Metadata:\n",
            "      handler_name    : VideoHandler\n"
          ]
        }
      ]
    },
    {
      "cell_type": "markdown",
      "source": [
        "#Chronobooks <br>\n",
        "![alt text](https://1.bp.blogspot.com/-lTiYBkU2qbU/X1er__fvnkI/AAAAAAAAjtE/GhDR3OEGJr4NG43fZPodrQD5kbxtnKebgCLcBGAsYHQ/s600/Footer2020-600x200.png)<hr>\n",
        "Chronotantra and Chronoyantra are two science fiction novels that explore the collapse of human civilisation on Earth and then its rebirth and reincarnation both on Earth as well as on the distant worlds of Mars, Titan and Enceladus. But is it the human civilisation that is being reborn? Or is it some other sentience that is revealing itself. \n",
        "If you have an interest in AI and found this material useful, you may consider buying these novels, in paperback or kindle, from [http://bit.ly/chronobooks](http://bit.ly/chronobooks)"
      ],
      "metadata": {
        "id": "DFx4XUVBB0vg"
      }
    }
  ]
}