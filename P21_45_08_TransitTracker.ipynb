{
  "nbformat": 4,
  "nbformat_minor": 0,
  "metadata": {
    "colab": {
      "provenance": [],
      "collapsed_sections": [],
      "include_colab_link": true
    },
    "kernelspec": {
      "name": "python3",
      "display_name": "Python 3"
    },
    "language_info": {
      "name": "python"
    }
  },
  "cells": [
    {
      "cell_type": "markdown",
      "metadata": {
        "id": "view-in-github",
        "colab_type": "text"
      },
      "source": [
        "<a href=\"https://colab.research.google.com/github/prithwis/parashar21/blob/main/P21_45_08_TransitTracker.ipynb\" target=\"_parent\"><img src=\"https://colab.research.google.com/assets/colab-badge.svg\" alt=\"Open In Colab\"/></a>"
      ]
    },
    {
      "cell_type": "markdown",
      "source": [
        "![alt text](http://1.bp.blogspot.com/_5QlanosqxiQ/SXLOLTu7S7I/AAAAAAAAAm8/0r6C7lCxsic/S1600-R/p21-header-003.png) <br>\n",
        "\n",
        "\n",
        "---\n",
        "\n",
        "\n",
        "\n",
        "[Prithwis Mukerjee](http://www.yantrajaal.com) ||\n",
        "Website - [Parashar21](https://parashar21.blogspot.com)<br>"
      ],
      "metadata": {
        "id": "rj4jjIHTvPV8"
      }
    },
    {
      "cell_type": "markdown",
      "source": [
        "Copyright (c) 2022, Prithwis Mukerjee All rights reserved.\n",
        "\n",
        "This source code is licensed under the GNU GPL v3.0 -style license found in the LICENSE file in the root directory of this source tree."
      ],
      "metadata": {
        "id": "9OzVEmHm1IaF"
      }
    },
    {
      "cell_type": "markdown",
      "source": [
        "#Rationale\n",
        "\n",
        "\n"
      ],
      "metadata": {
        "id": "MKVBLfNMnXYE"
      }
    },
    {
      "cell_type": "markdown",
      "source": [
        "#SetUp Environment"
      ],
      "metadata": {
        "id": "l2v2nhRKvwJS"
      }
    },
    {
      "cell_type": "markdown",
      "source": [
        "##Install Software"
      ],
      "metadata": {
        "id": "djqyotVjO5TI"
      }
    },
    {
      "cell_type": "code",
      "source": [
        "!pip -qq install pyswisseph                                 # https://stackoverflow.com/questions/64277506/pip-install-options-unclear\n",
        "!pip -qq install python-docx                                #https://python-docx.readthedocs.io/en/latest/\n",
        "#!/usr/bin/python3 -m pip install \"pymongo[srv]\"            # Required only if used with Atlas remote servers\n",
        "#!apt install mongodb > /dev/null                            # install local MongoDB server           \n",
        "#!service mongodb start                                      # start Local MongoDB server instance"
      ],
      "metadata": {
        "colab": {
          "base_uri": "https://localhost:8080/"
        },
        "id": "AWKFabc0v3FI",
        "outputId": "d8d4fcda-61e9-44a1-f8b1-e9ebf1476151"
      },
      "execution_count": 1,
      "outputs": [
        {
          "output_type": "stream",
          "name": "stdout",
          "text": [
            "\u001b[K     |████████████████████████████████| 1.8 MB 7.1 MB/s \n",
            "\u001b[K     |████████████████████████████████| 5.6 MB 5.6 MB/s \n",
            "\u001b[?25h  Building wheel for python-docx (setup.py) ... \u001b[?25l\u001b[?25hdone\n"
          ]
        }
      ]
    },
    {
      "cell_type": "markdown",
      "source": [
        "##Install, import prerequisites"
      ],
      "metadata": {
        "id": "Vml3UdnbOAlO"
      }
    },
    {
      "cell_type": "code",
      "source": [
        "#Utility functions \n",
        "from pymongo import MongoClient\n",
        "import pandas as pd\n",
        "import dateutil\n",
        "import json\n",
        "from docx import Document\n",
        "from docx.shared import Inches\n",
        "from docx.enum.text import WD_ALIGN_PARAGRAPH\n",
        "from datetime import datetime\n",
        "from datetime import timedelta\n",
        "import pytz\n",
        "from google.colab import files\n",
        "\n",
        "#import matplotlib.pyplot as plt\n",
        "#import math\n"
      ],
      "metadata": {
        "id": "tsCga6c8pLvM"
      },
      "execution_count": 2,
      "outputs": []
    },
    {
      "cell_type": "code",
      "source": [
        "#Load p21 modules from github\n",
        "!wget -O p21.py -q https://raw.githubusercontent.com/prithwis/parashar21/main/utils/p21.py                  # all global variables\n",
        "!wget -O p21utils.py -q https://raw.githubusercontent.com/prithwis/parashar21/main/utils/p21utils.py        # large number of utility functions\n",
        "!wget -O p21utilsR.py -q https://raw.githubusercontent.com/prithwis/parashar21/main/utils/p21utilsR.py      # report writing utility functions\n",
        "!wget -O p21swe.py -q https://raw.githubusercontent.com/prithwis/parashar21/main/utils/p21swe.py            # Swiss Ephemeris functions\n",
        "!wget -O p21YogInfo.py -q https://raw.githubusercontent.com/prithwis/parashar21/main/utils/p21YogInfo.py    # yog data - description and conditions \n",
        "# ---------------------------\n",
        "\n",
        "#!wget -O Saraswati.png -q https://github.com/prithwis/parashar21/raw/main/images/Saraswati02.png                 \n",
        "#!wget -O p21logo.png -q https://github.com/prithwis/parashar21/raw/main/images/p21logo-002-1.png   \n",
        "\n"
      ],
      "metadata": {
        "id": "uwAT_IbvB0A-"
      },
      "execution_count": 3,
      "outputs": []
    },
    {
      "cell_type": "code",
      "source": [
        "import p21\n",
        "import p21utils\n",
        "import p21utilsR\n",
        "import p21swe\n",
        "#import p21YogInfo\n",
        "# ------------------------------------------------\n",
        "# required for multiple imports of the same module\n",
        "# ------------------------------------------------\n",
        "import importlib\n",
        "importlib.reload(p21)\n",
        "importlib.reload(p21utils)\n",
        "importlib.reload(p21utilsR)\n",
        "importlib.reload(p21swe)\n",
        "#importlib.reload(p21YogInfo)"
      ],
      "metadata": {
        "id": "7Np3o1Nn0zrX",
        "outputId": "c208ee63-a919-4501-9fd8-26740f64e5c2",
        "colab": {
          "base_uri": "https://localhost:8080/"
        }
      },
      "execution_count": 4,
      "outputs": [
        {
          "output_type": "stream",
          "name": "stdout",
          "text": [
            "10 Yogs on record\n",
            "0 : Amala Yog | 10th from Moon OR Lagna should have a benefic\n",
            "1 : RajLakshana Yog | Jupiter, Venus, Mercury, Moon should be in Lagna or they should be in a Kendra\n",
            "2 : Chatussagara Yog | All the Kendras 1/4/7/10 are occupied by planets, Ra, Ke not counted here\n",
            "3 : Adhi678 Yog | Benefics located in 6/7/8th  from Moon\n",
            "4 : Chandra Mangal Yog | Mars Conjoins Moon or  Mars and Moon in Mutual Aspect\n",
            "5 : Kemadruma Yog : No planets on either sides of the Moon\n",
            "6 : Anapha Yog |Planets other than Sun in 12th Place from Moon\n",
            "7 : Sunapha Yog |Planets other than Sun in 2nd Place from Moon\n",
            "8 : Dhurdhura Yog | Planets on both sides of the Moon\n",
            "9 : Gajakesari Yog | Jupiter is in Kendra or 1,4,7,10th from Moon\n"
          ]
        },
        {
          "output_type": "execute_result",
          "data": {
            "text/plain": [
              "<module 'p21swe' from '/content/p21swe.py'>"
            ]
          },
          "metadata": {},
          "execution_count": 4
        }
      ]
    },
    {
      "cell_type": "code",
      "source": [
        "#Download Swiss Ephemeris Files \n",
        "!wget -q http://www.astro.com/ftp/swisseph/ephe/seas_18.se1\n",
        "!wget -q http://www.astro.com/ftp/swisseph/ephe/semo_18.se1\n",
        "!wget -q http://www.astro.com/ftp/swisseph/ephe/sepl_18.se1\n",
        "!mkdir ephe\n",
        "!mv *.se1 ephe\n",
        "#------------------------------\n",
        "# Configure SWE with appropriate parameters\n",
        "#\n",
        "p21swe.C01_configSWE()"
      ],
      "metadata": {
        "id": "kMKlXoDGH8XP"
      },
      "execution_count": 5,
      "outputs": []
    },
    {
      "cell_type": "markdown",
      "source": [
        "#New Way"
      ],
      "metadata": {
        "id": "r01uQLQDrmbM"
      }
    },
    {
      "cell_type": "code",
      "source": [
        "#Static Data\n",
        "TZ_OffHours = 5.5\n",
        "DoB_Time = '12:01'\n",
        "PoB_Lat = 25.43\n",
        "PoB_Lon = 81.85\n",
        "Name = p21.gName\n",
        "Gender = 'x'\n",
        "tag1 = 'nil'\n",
        "tag3 = 'nil'\n",
        "tag5 = 'nil'\n",
        "\n",
        "p21.ChartType = 'Rashi'"
      ],
      "metadata": {
        "id": "t6094Z8or3QL"
      },
      "execution_count": 74,
      "outputs": []
    },
    {
      "cell_type": "code",
      "source": [
        "current = datetime.now(pytz.timezone('Asia/Kolkata'))\n",
        "print(current)"
      ],
      "metadata": {
        "colab": {
          "base_uri": "https://localhost:8080/"
        },
        "id": "Mkhy6RvCjpSy",
        "outputId": "bb98cd2f-0f4e-4ef1-c960-094d74dc7b22"
      },
      "execution_count": 58,
      "outputs": [
        {
          "output_type": "stream",
          "name": "stdout",
          "text": [
            "2022-10-04 12:04:27.872218+05:30\n"
          ]
        }
      ]
    },
    {
      "cell_type": "code",
      "source": [
        "numberOfDays = 120\n",
        "sDate = datetime.now(pytz.timezone('Asia/Kolkata'))\n",
        "cDate = sDate\n",
        "\n",
        "setData(getData(cDate))\n",
        "for count in range(numberOfDays):\n",
        "    \n",
        "    prevGrashiA = p21.GRashiA\n",
        "    prevGLonRet = p21.GLonRet\n",
        "    cDate += timedelta(days=1)\n",
        "\n",
        "    setData(getData(cDate))\n",
        "\n",
        "    getDelta(cDate,prevGrashiA,p21.GRashiA,prevGLonRet,p21.GLonRet)\n",
        "    "
      ],
      "metadata": {
        "colab": {
          "base_uri": "https://localhost:8080/"
        },
        "id": "35NaoV6H2yFb",
        "outputId": "3afa0635-5559-413f-f697-fc0729f98ab6"
      },
      "execution_count": 169,
      "outputs": [
        {
          "output_type": "stream",
          "name": "stdout",
          "text": [
            "16 Oct 22| Ma transits from  Vrish to  Mithun\n",
            "18 Oct 22| Su transits from  Kanya to  Tula\n",
            "19 Oct 22| Ve transits from  Kanya to  Tula\n",
            "23 Oct 22| Sa turns DIRECT\n",
            "27 Oct 22| Me transits from  Kanya to  Tula\n",
            "31 Oct 22| Ma turns RETRO\n",
            "12 Nov 22| Ve transits from  Tula to  Vrishchik\n",
            "14 Nov 22| Ma transits from  Mithun to  Vrish\n",
            "14 Nov 22| Me transits from  Tula to  Vrishchik\n",
            "17 Nov 22| Su transits from  Tula to  Vrishchik\n",
            "24 Nov 22| Ju turns DIRECT\n",
            "03 Dec 22| Me transits from  Vrishchik to  Dhanu\n",
            "06 Dec 22| Ve transits from  Vrishchik to  Dhanu\n",
            "16 Dec 22| Su transits from  Vrishchik to  Dhanu\n",
            "28 Dec 22| Me transits from  Dhanu to  Makar\n",
            "30 Dec 22| Me turns RETRO\n",
            "30 Dec 22| Ve transits from  Dhanu to  Makar\n",
            "31 Dec 22| Me transits from  Makar to  Dhanu\n",
            "13 Jan 23| Ma turns DIRECT\n",
            "15 Jan 23| Su transits from  Dhanu to  Makar\n",
            "18 Jan 23| Sa transits from  Makar to  Kumbh\n",
            "19 Jan 23| Me turns DIRECT\n",
            "23 Jan 23| Ve transits from  Makar to  Kumbh\n"
          ]
        }
      ]
    },
    {
      "cell_type": "code",
      "source": [
        "def getData(cDT):\n",
        "    DoB_Day = int(cDT.strftime(\"%-d\"))\n",
        "    DoB_Mon = int(cDT.strftime(\"%-m\"))\n",
        "    DoB_Year = int(cDT.strftime(\"%Y\"))\n",
        "    #print(DoB_Time)\n",
        "\n",
        "    sData = [DoB_Day,DoB_Mon,DoB_Year,DoB_Time,TZ_OffHours,PoB_Lat,PoB_Lon,Name, Gender, tag1, tag3,tag5]\n",
        "    sLabels = ['DoB_Day','DoB_Mon','DoB_Year','DoB_Time','TZ_OffHours','PoB_Lat','PoB_Lon','Name','Gender','tag1','tag3','tag5']\n",
        "    return(pd.Series(sData, index = sLabels))"
      ],
      "metadata": {
        "id": "6we2Taw1sUq8"
      },
      "execution_count": 136,
      "outputs": []
    },
    {
      "cell_type": "code",
      "source": [
        "def setData(c):\n",
        "    p21swe.C02_parsePersonData(c)\n",
        "    p21swe.C03_convertDates()\n",
        "    p21swe.C04_calculateGrahaPositions()\n",
        "    p21swe.C05_buildGLonGRet()\n",
        "    p21utils.R11_LocateGrahaInRashi()\n",
        "    #print(p21.GRashiA)"
      ],
      "metadata": {
        "id": "magN3sBGLWQr"
      },
      "execution_count": 137,
      "outputs": []
    },
    {
      "cell_type": "code",
      "source": [
        "def getDelta(cD,bA,aA,bR,aR,ShowMoonTransit = False):\n",
        "    #print('getDelta',cD)\n",
        "    cDs = cD.strftime(\"%d %b %y\")+'|'\n",
        "    for G in p21.Graha:\n",
        "        if bA[G] != aA[G]:\n",
        "            if G != 'Mo':\n",
        "                print(cDs, G, 'TRANSITS from ', bA[G], 'to ', aA[G])\n",
        "            else:\n",
        "                if ShowMoonTransit:\n",
        "                    print(cDs, G, 'transits from ', bA[G], 'to ', aA[G])\n",
        "            #print(cDs, G, 'transits from ', bA[G], 'to ', aA[G])\n",
        "        if bR['GRet'][G] != aR['GRet'][G]:\n",
        "            #print(cD,G, 'changes from ', bR['GRet'][G], 'to ', aR['GRet'][G], ' retrograde')\n",
        "            if bR['GRet'][G]:\n",
        "                print(cDs, G, 'turns DIRECT')\n",
        "            else:\n",
        "                print(cDs, G, 'turns RETRO')"
      ],
      "metadata": {
        "id": "CvA3BMO7OOT5"
      },
      "execution_count": 170,
      "outputs": []
    },
    {
      "cell_type": "code",
      "source": [
        "#p21.pName = p21.gName\n",
        "#p21.cID = 'empty'\n",
        "p21utilsR.R12B_drawChart_Bengal()"
      ],
      "metadata": {
        "colab": {
          "base_uri": "https://localhost:8080/",
          "height": 423
        },
        "id": "qY8l1a2xh-cM",
        "outputId": "2a7e497f-4c60-4a97-a0c4-f5097a55e478"
      },
      "execution_count": 171,
      "outputs": [
        {
          "output_type": "display_data",
          "data": {
            "text/plain": [
              "<Figure size 504x504 with 1 Axes>"
            ],
            "image/png": "[encoded data removed]"
          },
          "metadata": {}
        }
      ]
    },
    {
      "cell_type": "code",
      "source": [
        "#%%time\n",
        "#\n",
        "p21.AnalysisType = 'Rashi'                                     # one of ['Rashi','Navamsa']\n",
        "#p21.AnalysisType = 'Navamsa'                                    # one of ['Rashi','Navamsa']\n",
        "p21.ChartType = p21.AnalysisType\n",
        "p21.Gochar = True\n",
        "p21.Subject = 'IndiraG'\n",
        "# \n",
        "# ------------------------------------------------------------\n",
        "# Converts date/time info into a detailed horoscope chart \n",
        "# Stores the same in a JSON file, to be inserted into a local MongoDB database\n",
        "# \n",
        "p21swe.C61_Cast2JSON(df0)"
      ],
      "metadata": {
        "id": "Zrrs_eHOOYpl",
        "outputId": "0de25f07-0ba7-4b26-f12b-667278264397",
        "colab": {
          "base_uri": "https://localhost:8080/"
        }
      },
      "execution_count": null,
      "outputs": [
        {
          "output_type": "stream",
          "name": "stdout",
          "text": [
            "1 records processed, so far\n",
            "Subject found IndiraG\n",
            "La long reset to  275.593\n",
            "5  records generated and stored in file peopleData.json\n"
          ]
        }
      ]
    },
    {
      "cell_type": "markdown",
      "source": [
        "#Chronobooks <br>\n",
        "![alt text](https://1.bp.blogspot.com/-lTiYBkU2qbU/X1er__fvnkI/AAAAAAAAjtE/GhDR3OEGJr4NG43fZPodrQD5kbxtnKebgCLcBGAsYHQ/s600/Footer2020-600x200.png)<hr>\n",
        "Chronotantra and Chronoyantra are two science fiction novels that explore the collapse of human civilisation on Earth and then its rebirth and reincarnation both on Earth as well as on the distant worlds of Mars, Titan and Enceladus. But is it the human civilisation that is being reborn? Or is it some other sentience that is revealing itself. \n",
        "If you have an interest in AI and found this material useful, you may consider buying these novels, in paperback or kindle, from [http://bit.ly/chronobooks](http://bit.ly/chronobooks)"
      ],
      "metadata": {
        "id": "DFx4XUVBB0vg"
      }
    }
  ]
}