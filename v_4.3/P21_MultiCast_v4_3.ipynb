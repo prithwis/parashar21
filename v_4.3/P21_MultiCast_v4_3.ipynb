{
  "nbformat": 4,
  "nbformat_minor": 0,
  "metadata": {
    "colab": {
      "name": "P21_MultiCast_v4.3",
      "provenance": [],
      "include_colab_link": true
    },
    "kernelspec": {
      "name": "python3",
      "display_name": "Python 3"
    }
  },
  "cells": [
    {
      "cell_type": "markdown",
      "metadata": {
        "id": "view-in-github",
        "colab_type": "text"
      },
      "source": [
        "<a href=\"https://colab.research.google.com/github/prithwis/parashar21/blob/main/P21_MultiCast_v4_3.ipynb\" target=\"_parent\"><img src=\"https://colab.research.google.com/assets/colab-badge.svg\" alt=\"Open In Colab\"/></a>"
      ]
    },
    {
      "cell_type": "markdown",
      "metadata": {
        "id": "m3d-QHg6rqr-"
      },
      "source": [
        "![alt text](http://1.bp.blogspot.com/_5QlanosqxiQ/SXLOLTu7S7I/AAAAAAAAAm8/0r6C7lCxsic/S1600-R/p21-header-003.png) <br>\n",
        "\n",
        "\n",
        "---\n",
        "\n",
        "\n",
        "![CC-BY-SA](https://licensebuttons.net/l/by-sa/3.0/88x31.png) ||\n",
        "[Prithwis Mukerjee](http://www.yantrajaal.com) ||\n",
        "Website - [Parashar21](https://parashar21.blogspot.com)<br>"
      ]
    },
    {
      "cell_type": "markdown",
      "source": [
        "#Create Charts and store in MongoDB"
      ],
      "metadata": {
        "id": "Q5dCCZlf8nLK"
      }
    },
    {
      "cell_type": "markdown",
      "source": [
        "#Setup"
      ],
      "metadata": {
        "id": "BgG7KnOslRT-"
      }
    },
    {
      "cell_type": "markdown",
      "metadata": {
        "id": "6az36FX6Rpit"
      },
      "source": [
        "##Install Swiss Ephemeris <br>\n",
        "\n",
        "https://pypi.org/project/pyswisseph/  - Python Package Documentation <br>\n",
        "https://www.astro.com/swisseph/swephinfo_e.htm <br>\n",
        "https://www.astro.com/swisseph/swephprg.htm - Programmer Documentation <br>\n",
        "https://pythonhosted.org/pyswisseph/swisseph-module.html"
      ]
    },
    {
      "cell_type": "code",
      "metadata": {
        "id": "THZf8D8fQsXm",
        "colab": {
          "base_uri": "https://localhost:8080/"
        },
        "outputId": "c921ce26-302d-43ef-f358-80b0c0a6258d"
      },
      "source": [
        "!pip -qq install pyswisseph                                 # https://stackoverflow.com/questions/64277506/pip-install-options-unclear\n",
        "!pip -qq install python_string_utils\n",
        "#!pip -qq install python-docx                                #https://python-docx.readthedocs.io/en/latest/\n",
        "#!pip install pyswisseph==2.10.2.0.dev1\n",
        "!apt install mongodb > /dev/null"
      ],
      "execution_count": 1,
      "outputs": [
        {
          "output_type": "stream",
          "name": "stdout",
          "text": [
            "\u001b[?25l\r\u001b[K     |▋                               | 10 kB 22.9 MB/s eta 0:00:01\r\u001b[K     |█▎                              | 20 kB 11.5 MB/s eta 0:00:01\r\u001b[K     |█▉                              | 30 kB 9.2 MB/s eta 0:00:01\r\u001b[K     |██▌                             | 40 kB 8.4 MB/s eta 0:00:01\r\u001b[K     |███▏                            | 51 kB 5.2 MB/s eta 0:00:01\r\u001b[K     |███▊                            | 61 kB 5.5 MB/s eta 0:00:01\r\u001b[K     |████▍                           | 71 kB 5.3 MB/s eta 0:00:01\r\u001b[K     |█████                           | 81 kB 5.9 MB/s eta 0:00:01\r\u001b[K     |█████▋                          | 92 kB 4.3 MB/s eta 0:00:01\r\u001b[K     |██████▎                         | 102 kB 4.7 MB/s eta 0:00:01\r\u001b[K     |███████                         | 112 kB 4.7 MB/s eta 0:00:01\r\u001b[K     |███████▌                        | 122 kB 4.7 MB/s eta 0:00:01\r\u001b[K     |████████▏                       | 133 kB 4.7 MB/s eta 0:00:01\r\u001b[K     |████████▉                       | 143 kB 4.7 MB/s eta 0:00:01\r\u001b[K     |█████████▍                      | 153 kB 4.7 MB/s eta 0:00:01\r\u001b[K     |██████████                      | 163 kB 4.7 MB/s eta 0:00:01\r\u001b[K     |██████████▊                     | 174 kB 4.7 MB/s eta 0:00:01\r\u001b[K     |███████████▎                    | 184 kB 4.7 MB/s eta 0:00:01\r\u001b[K     |████████████                    | 194 kB 4.7 MB/s eta 0:00:01\r\u001b[K     |████████████▋                   | 204 kB 4.7 MB/s eta 0:00:01\r\u001b[K     |█████████████▏                  | 215 kB 4.7 MB/s eta 0:00:01\r\u001b[K     |█████████████▉                  | 225 kB 4.7 MB/s eta 0:00:01\r\u001b[K     |██████████████▌                 | 235 kB 4.7 MB/s eta 0:00:01\r\u001b[K     |███████████████                 | 245 kB 4.7 MB/s eta 0:00:01\r\u001b[K     |███████████████▊                | 256 kB 4.7 MB/s eta 0:00:01\r\u001b[K     |████████████████▍               | 266 kB 4.7 MB/s eta 0:00:01\r\u001b[K     |█████████████████               | 276 kB 4.7 MB/s eta 0:00:01\r\u001b[K     |█████████████████▋              | 286 kB 4.7 MB/s eta 0:00:01\r\u001b[K     |██████████████████▏             | 296 kB 4.7 MB/s eta 0:00:01\r\u001b[K     |██████████████████▉             | 307 kB 4.7 MB/s eta 0:00:01\r\u001b[K     |███████████████████▌            | 317 kB 4.7 MB/s eta 0:00:01\r\u001b[K     |████████████████████            | 327 kB 4.7 MB/s eta 0:00:01\r\u001b[K     |████████████████████▊           | 337 kB 4.7 MB/s eta 0:00:01\r\u001b[K     |█████████████████████▍          | 348 kB 4.7 MB/s eta 0:00:01\r\u001b[K     |██████████████████████          | 358 kB 4.7 MB/s eta 0:00:01\r\u001b[K     |██████████████████████▋         | 368 kB 4.7 MB/s eta 0:00:01\r\u001b[K     |███████████████████████▎        | 378 kB 4.7 MB/s eta 0:00:01\r\u001b[K     |███████████████████████▉        | 389 kB 4.7 MB/s eta 0:00:01\r\u001b[K     |████████████████████████▌       | 399 kB 4.7 MB/s eta 0:00:01\r\u001b[K     |█████████████████████████▏      | 409 kB 4.7 MB/s eta 0:00:01\r\u001b[K     |█████████████████████████▊      | 419 kB 4.7 MB/s eta 0:00:01\r\u001b[K     |██████████████████████████▍     | 430 kB 4.7 MB/s eta 0:00:01\r\u001b[K     |███████████████████████████     | 440 kB 4.7 MB/s eta 0:00:01\r\u001b[K     |███████████████████████████▋    | 450 kB 4.7 MB/s eta 0:00:01\r\u001b[K     |████████████████████████████▎   | 460 kB 4.7 MB/s eta 0:00:01\r\u001b[K     |█████████████████████████████   | 471 kB 4.7 MB/s eta 0:00:01\r\u001b[K     |█████████████████████████████▌  | 481 kB 4.7 MB/s eta 0:00:01\r\u001b[K     |██████████████████████████████▏ | 491 kB 4.7 MB/s eta 0:00:01\r\u001b[K     |██████████████████████████████▉ | 501 kB 4.7 MB/s eta 0:00:01\r\u001b[K     |███████████████████████████████▍| 512 kB 4.7 MB/s eta 0:00:01\r\u001b[K     |████████████████████████████████| 521 kB 4.7 MB/s \n",
            "\u001b[?25h  Building wheel for pyswisseph (setup.py) ... \u001b[?25l\u001b[?25hdone\n",
            "\n",
            "WARNING: apt does not have a stable CLI interface. Use with caution in scripts.\n",
            "\n"
          ]
        }
      ]
    },
    {
      "cell_type": "code",
      "source": [
        "#Load p21 modules from github\n",
        "!wget -O p21.py -q https://raw.githubusercontent.com/prithwis/parashar21/main/utils/p21.py                  # all global variables\n",
        "!wget -O p21swe.py -q https://raw.githubusercontent.com/prithwis/parashar21/main/utils/p21swe.py            # Swiss Ephemeris functions\n",
        "!wget -O p21utils.py -q https://raw.githubusercontent.com/prithwis/parashar21/main/utils/p21utils.py        # large number of utility functions\n",
        "\n"
      ],
      "metadata": {
        "id": "QHzOd2Nll-Wd"
      },
      "execution_count": 2,
      "outputs": []
    },
    {
      "cell_type": "code",
      "source": [
        "# ---------------------------\n",
        "import p21\n",
        "import p21swe\n",
        "import p21utils\n",
        "# ------------------------------------------------\n",
        "# required for multiple imports of the same module\n",
        "# ------------------------------------------------\n",
        "import importlib\n",
        "importlib.reload(p21)\n",
        "importlib.reload(p21swe)\n",
        "importlib.reload(p21utils)"
      ],
      "metadata": {
        "colab": {
          "base_uri": "https://localhost:8080/"
        },
        "id": "PbjLh4XlALOO",
        "outputId": "f6e819a4-fbff-4776-bb9b-3e42e190937a"
      },
      "execution_count": 75,
      "outputs": [
        {
          "output_type": "stream",
          "name": "stdout",
          "text": [
            "p21swe imported\n",
            "p21utils imported\n"
          ]
        },
        {
          "output_type": "execute_result",
          "data": {
            "text/plain": [
              "<module 'p21utils' from '/content/p21utils.py'>"
            ]
          },
          "metadata": {},
          "execution_count": 75
        }
      ]
    },
    {
      "cell_type": "code",
      "metadata": {
        "id": "INsjq9opScbt"
      },
      "source": [
        "#Download Swiss Ephemeris Files \n",
        "!wget -q http://www.astro.com/ftp/swisseph/ephe/seas_18.se1\n",
        "!wget -q http://www.astro.com/ftp/swisseph/ephe/semo_18.se1\n",
        "!wget -q http://www.astro.com/ftp/swisseph/ephe/sepl_18.se1\n",
        "!mkdir ephe\n",
        "!mv *.se1 ephe\n",
        "#------------------------------\n",
        "# Configure SWE with appropriate parameters\n",
        "#\n",
        "p21swe.C01_configSWE()"
      ],
      "execution_count": 4,
      "outputs": []
    },
    {
      "cell_type": "code",
      "source": [
        "#!cat p21utils.py"
      ],
      "metadata": {
        "id": "6jn0Q0t8nt5G"
      },
      "execution_count": null,
      "outputs": []
    },
    {
      "cell_type": "markdown",
      "source": [
        "##Connect to MongoDB"
      ],
      "metadata": {
        "id": "ZsYS94O-DRAl"
      }
    },
    {
      "cell_type": "code",
      "source": [
        "from pymongo import MongoClient\n",
        "import pandas as pd\n",
        "import dateutil\n",
        "import string_utils"
      ],
      "metadata": {
        "id": "j0m70OCqDZZ_"
      },
      "execution_count": 5,
      "outputs": []
    },
    {
      "cell_type": "code",
      "source": [
        "from google.colab import drive\n",
        "drive.mount('/content/drive')\n",
        "# --------------------------------------------\n",
        "# copy credentials file\n",
        "!cp /content/drive/'My Drive'/Praxis/WebCredentials/clevercloudMongoDB.py credentials.py\n",
        "# -----------------------------------------------\n",
        "\n",
        "from credentials import rhostName,ruserName,rpassWord,rdbName,rMongoURI\n",
        "\n",
        "# -----------------------------------------------\n",
        "mongoURI = rMongoURI                                   # for remote server\n",
        "#mongoURI = \"mongodb://localhost:27017/\"\n",
        "client = MongoClient(mongoURI)\n",
        "client.list_database_names() "
      ],
      "metadata": {
        "colab": {
          "base_uri": "https://localhost:8080/"
        },
        "id": "Ydu8Gh-mDiYn",
        "outputId": "09c4cb90-5ade-4811-eecb-d61b1dc37e33"
      },
      "execution_count": 6,
      "outputs": [
        {
          "output_type": "stream",
          "name": "stdout",
          "text": [
            "Mounted at /content/drive\n"
          ]
        },
        {
          "output_type": "execute_result",
          "data": {
            "text/plain": [
              "['btncgfi3a5bxyea']"
            ]
          },
          "metadata": {},
          "execution_count": 6
        }
      ]
    },
    {
      "cell_type": "code",
      "source": [
        "db = client.btncgfi3a5bxyea\n",
        "# Show Collections. Query returns a Cursor [ ] ,  list it to see the content\n",
        "pd.DataFrame(list(db.list_collections()))\n",
        "# empty list '[]' means that there are not collections in database"
      ],
      "metadata": {
        "colab": {
          "base_uri": "https://localhost:8080/",
          "height": 81
        },
        "id": "imaqh29vhnYn",
        "outputId": "23a434e8-0414-47ec-fda8-cb01f31d0c99"
      },
      "execution_count": 7,
      "outputs": [
        {
          "output_type": "execute_result",
          "data": {
            "text/html": [
              "\n",
              "  <div id=\"df-6a475ac7-eff0-4dbf-9789-0bd4b02b3849\">\n",
              "    <div class=\"colab-df-container\">\n",
              "      <div>\n",
              "<style scoped>\n",
              "    .dataframe tbody tr th:only-of-type {\n",
              "        vertical-align: middle;\n",
              "    }\n",
              "\n",
              "    .dataframe tbody tr th {\n",
              "        vertical-align: top;\n",
              "    }\n",
              "\n",
              "    .dataframe thead th {\n",
              "        text-align: right;\n",
              "    }\n",
              "</style>\n",
              "<table border=\"1\" class=\"dataframe\">\n",
              "  <thead>\n",
              "    <tr style=\"text-align: right;\">\n",
              "      <th></th>\n",
              "      <th>name</th>\n",
              "      <th>type</th>\n",
              "      <th>options</th>\n",
              "      <th>info</th>\n",
              "      <th>idIndex</th>\n",
              "    </tr>\n",
              "  </thead>\n",
              "  <tbody>\n",
              "    <tr>\n",
              "      <th>0</th>\n",
              "      <td>khona21</td>\n",
              "      <td>collection</td>\n",
              "      <td>{}</td>\n",
              "      <td>{'readOnly': False, 'uuid': b's\\x02\\xc4p\\x94\\x...</td>\n",
              "      <td>{'v': 2, 'key': {'_id': 1}, 'name': '_id_', 'n...</td>\n",
              "    </tr>\n",
              "  </tbody>\n",
              "</table>\n",
              "</div>\n",
              "      <button class=\"colab-df-convert\" onclick=\"convertToInteractive('df-6a475ac7-eff0-4dbf-9789-0bd4b02b3849')\"\n",
              "              title=\"Convert this dataframe to an interactive table.\"\n",
              "              style=\"display:none;\">\n",
              "        \n",
              "  <svg xmlns=\"http://www.w3.org/2000/svg\" height=\"24px\"viewBox=\"0 0 24 24\"\n",
              "       width=\"24px\">\n",
              "    <path d=\"M0 0h24v24H0V0z\" fill=\"none\"/>\n",
              "    <path d=\"M18.56 5.44l.94 2.06.94-2.06 2.06-.94-2.06-.94-.94-2.06-.94 2.06-2.06.94zm-11 1L8.5 8.5l.94-2.06 2.06-.94-2.06-.94L8.5 2.5l-.94 2.06-2.06.94zm10 10l.94 2.06.94-2.06 2.06-.94-2.06-.94-.94-2.06-.94 2.06-2.06.94z\"/><path d=\"M17.41 7.96l-1.37-1.37c-.4-.4-.92-.59-1.43-.59-.52 0-1.04.2-1.43.59L10.3 9.45l-7.72 7.72c-.78.78-.78 2.05 0 2.83L4 21.41c.39.39.9.59 1.41.59.51 0 1.02-.2 1.41-.59l7.78-7.78 2.81-2.81c.8-.78.8-2.07 0-2.86zM5.41 20L4 18.59l7.72-7.72 1.47 1.35L5.41 20z\"/>\n",
              "  </svg>\n",
              "      </button>\n",
              "      \n",
              "  <style>\n",
              "    .colab-df-container {\n",
              "      display:flex;\n",
              "      flex-wrap:wrap;\n",
              "      gap: 12px;\n",
              "    }\n",
              "\n",
              "    .colab-df-convert {\n",
              "      background-color: #E8F0FE;\n",
              "      border: none;\n",
              "      border-radius: 50%;\n",
              "      cursor: pointer;\n",
              "      display: none;\n",
              "      fill: #1967D2;\n",
              "      height: 32px;\n",
              "      padding: 0 0 0 0;\n",
              "      width: 32px;\n",
              "    }\n",
              "\n",
              "    .colab-df-convert:hover {\n",
              "      background-color: #E2EBFA;\n",
              "      box-shadow: 0px 1px 2px rgba(60, 64, 67, 0.3), 0px 1px 3px 1px rgba(60, 64, 67, 0.15);\n",
              "      fill: #174EA6;\n",
              "    }\n",
              "\n",
              "    [theme=dark] .colab-df-convert {\n",
              "      background-color: #3B4455;\n",
              "      fill: #D2E3FC;\n",
              "    }\n",
              "\n",
              "    [theme=dark] .colab-df-convert:hover {\n",
              "      background-color: #434B5C;\n",
              "      box-shadow: 0px 1px 3px 1px rgba(0, 0, 0, 0.15);\n",
              "      filter: drop-shadow(0px 1px 2px rgba(0, 0, 0, 0.3));\n",
              "      fill: #FFFFFF;\n",
              "    }\n",
              "  </style>\n",
              "\n",
              "      <script>\n",
              "        const buttonEl =\n",
              "          document.querySelector('#df-6a475ac7-eff0-4dbf-9789-0bd4b02b3849 button.colab-df-convert');\n",
              "        buttonEl.style.display =\n",
              "          google.colab.kernel.accessAllowed ? 'block' : 'none';\n",
              "\n",
              "        async function convertToInteractive(key) {\n",
              "          const element = document.querySelector('#df-6a475ac7-eff0-4dbf-9789-0bd4b02b3849');\n",
              "          const dataTable =\n",
              "            await google.colab.kernel.invokeFunction('convertToInteractive',\n",
              "                                                     [key], {});\n",
              "          if (!dataTable) return;\n",
              "\n",
              "          const docLinkHtml = 'Like what you see? Visit the ' +\n",
              "            '<a target=\"_blank\" href=https://colab.research.google.com/notebooks/data_table.ipynb>data table notebook</a>'\n",
              "            + ' to learn more about interactive tables.';\n",
              "          element.innerHTML = '';\n",
              "          dataTable['output_type'] = 'display_data';\n",
              "          await google.colab.output.renderOutput(dataTable, element);\n",
              "          const docLink = document.createElement('div');\n",
              "          docLink.innerHTML = docLinkHtml;\n",
              "          element.appendChild(docLink);\n",
              "        }\n",
              "      </script>\n",
              "    </div>\n",
              "  </div>\n",
              "  "
            ],
            "text/plain": [
              "      name  ...                                            idIndex\n",
              "0  khona21  ...  {'v': 2, 'key': {'_id': 1}, 'name': '_id_', 'n...\n",
              "\n",
              "[1 rows x 5 columns]"
            ]
          },
          "metadata": {},
          "execution_count": 7
        }
      ]
    },
    {
      "cell_type": "code",
      "source": [
        "db = client.btncgfi3a5bxyea\n",
        "#db.restaurants.drop()\n",
        "#db.khawnaa42.drop()\n",
        "db.khona21.drop()\n",
        "db.create_collection('khona21')      # https://feminisminindia.com/2019/06/07/khawna-khana-poet-rural-bengal/\n",
        "                                        # https://en.wikipedia.org/wiki/Khana_(poet)\n",
        "kollection = db.khona21                   # Set the collection to work with\n",
        "\n",
        "#Check and record Initial DB status\n",
        "countInitial = kollection.count_documents({})\n",
        "dbSizeInitial = db.command( {\"dbStats\": 1, \"scale\": 1024 } )['dataSize']\n",
        "print(round(dbSizeInitial),'KB database with ', countInitial, ' docs in current collection' )"
      ],
      "metadata": {
        "id": "DLigUEp2h3My",
        "outputId": "9a4cd356-99ba-489d-c9cf-2886a607885d",
        "colab": {
          "base_uri": "https://localhost:8080/"
        }
      },
      "execution_count": 76,
      "outputs": [
        {
          "output_type": "stream",
          "name": "stdout",
          "text": [
            "0 KB database with  0  docs in current collection\n"
          ]
        }
      ]
    },
    {
      "cell_type": "markdown",
      "metadata": {
        "id": "uSuVPj3kXcwC"
      },
      "source": [
        "##Read External Data\n",
        "from CSV files\n"
      ]
    },
    {
      "cell_type": "code",
      "source": [
        "#import pandas as pd\n",
        "\n",
        "!wget -O peopleData.csv -q https://raw.githubusercontent.com/prithwis/parashar21/main/data/Test5Data.txt # 5 Person Test Data\n",
        "\n",
        "#!gdown -O peopleData.csv https://drive.google.com/uc?id=1CVo1gnMZyCD0EZvAoF_wRdTwL7yqIT6L # 5 Person Test Data\n",
        "#!sed -i '1d' peopleData.csv \n",
        "#!cat peopleData.csv\n",
        "df = pd.read_csv('peopleData.csv')\n",
        "df.head()"
      ],
      "metadata": {
        "colab": {
          "base_uri": "https://localhost:8080/",
          "height": 270
        },
        "id": "iXeCDQStAEd_",
        "outputId": "55613280-3f7c-4f72-8ad2-f9e0f0758033"
      },
      "execution_count": 9,
      "outputs": [
        {
          "output_type": "execute_result",
          "data": {
            "text/html": [
              "\n",
              "  <div id=\"df-347862a4-0b10-410b-bdf7-294de61149d2\">\n",
              "    <div class=\"colab-df-container\">\n",
              "      <div>\n",
              "<style scoped>\n",
              "    .dataframe tbody tr th:only-of-type {\n",
              "        vertical-align: middle;\n",
              "    }\n",
              "\n",
              "    .dataframe tbody tr th {\n",
              "        vertical-align: top;\n",
              "    }\n",
              "\n",
              "    .dataframe thead th {\n",
              "        text-align: right;\n",
              "    }\n",
              "</style>\n",
              "<table border=\"1\" class=\"dataframe\">\n",
              "  <thead>\n",
              "    <tr style=\"text-align: right;\">\n",
              "      <th></th>\n",
              "      <th>Gender</th>\n",
              "      <th>Voc1_Cat</th>\n",
              "      <th>Voc1_Det</th>\n",
              "      <th>Voc2_Cat</th>\n",
              "      <th>Voc2_Det</th>\n",
              "      <th>Voc3_Cat</th>\n",
              "      <th>Voc3_Det</th>\n",
              "      <th>DoB_Day</th>\n",
              "      <th>DoB_Mon</th>\n",
              "      <th>DoB_Year</th>\n",
              "      <th>DoB_Time</th>\n",
              "      <th>TZ_Off</th>\n",
              "      <th>TZ_OffHours</th>\n",
              "      <th>PoB_Lat</th>\n",
              "      <th>PoB_Lon</th>\n",
              "      <th>TZ_Name</th>\n",
              "      <th>TZ_Type</th>\n",
              "      <th>Name</th>\n",
              "    </tr>\n",
              "  </thead>\n",
              "  <tbody>\n",
              "    <tr>\n",
              "      <th>0</th>\n",
              "      <td>M</td>\n",
              "      <td>Engineer</td>\n",
              "      <td>nil</td>\n",
              "      <td>Teacher</td>\n",
              "      <td>nil</td>\n",
              "      <td>PostGraduate</td>\n",
              "      <td>nil</td>\n",
              "      <td>15</td>\n",
              "      <td>10</td>\n",
              "      <td>1961</td>\n",
              "      <td>23:42</td>\n",
              "      <td>h5e30</td>\n",
              "      <td>5.5</td>\n",
              "      <td>22.57</td>\n",
              "      <td>88.37</td>\n",
              "      <td>IST</td>\n",
              "      <td>standard</td>\n",
              "      <td>somu</td>\n",
              "    </tr>\n",
              "    <tr>\n",
              "      <th>1</th>\n",
              "      <td>F</td>\n",
              "      <td>Author</td>\n",
              "      <td>nil</td>\n",
              "      <td>Homemaker</td>\n",
              "      <td>nil</td>\n",
              "      <td>PostGraduate</td>\n",
              "      <td>nil</td>\n",
              "      <td>19</td>\n",
              "      <td>12</td>\n",
              "      <td>1965</td>\n",
              "      <td>10:26</td>\n",
              "      <td>h5e30</td>\n",
              "      <td>5.5</td>\n",
              "      <td>22.57</td>\n",
              "      <td>88.37</td>\n",
              "      <td>IST</td>\n",
              "      <td>standard</td>\n",
              "      <td>gopa</td>\n",
              "    </tr>\n",
              "    <tr>\n",
              "      <th>2</th>\n",
              "      <td>M</td>\n",
              "      <td>Engineer</td>\n",
              "      <td>nil</td>\n",
              "      <td>Teacher</td>\n",
              "      <td>nil</td>\n",
              "      <td>PostGraduate</td>\n",
              "      <td>nil</td>\n",
              "      <td>9</td>\n",
              "      <td>10</td>\n",
              "      <td>1990</td>\n",
              "      <td>23:09</td>\n",
              "      <td>h5e30</td>\n",
              "      <td>5.5</td>\n",
              "      <td>22.57</td>\n",
              "      <td>88.37</td>\n",
              "      <td>IST</td>\n",
              "      <td>standard</td>\n",
              "      <td>ahool</td>\n",
              "    </tr>\n",
              "    <tr>\n",
              "      <th>3</th>\n",
              "      <td>F</td>\n",
              "      <td>Biologist</td>\n",
              "      <td>nil</td>\n",
              "      <td>Scientist</td>\n",
              "      <td>nil</td>\n",
              "      <td>PostGraduate</td>\n",
              "      <td>nil</td>\n",
              "      <td>12</td>\n",
              "      <td>9</td>\n",
              "      <td>1990</td>\n",
              "      <td>0:52</td>\n",
              "      <td>h5e30</td>\n",
              "      <td>5.5</td>\n",
              "      <td>22.87</td>\n",
              "      <td>88.37</td>\n",
              "      <td>IST</td>\n",
              "      <td>standard</td>\n",
              "      <td>nilan</td>\n",
              "    </tr>\n",
              "    <tr>\n",
              "      <th>4</th>\n",
              "      <td>M</td>\n",
              "      <td>Politician</td>\n",
              "      <td>nil</td>\n",
              "      <td>Administrator</td>\n",
              "      <td>nil</td>\n",
              "      <td>nil</td>\n",
              "      <td>nil</td>\n",
              "      <td>17</td>\n",
              "      <td>9</td>\n",
              "      <td>1950</td>\n",
              "      <td>9:34</td>\n",
              "      <td>h5e30</td>\n",
              "      <td>5.5</td>\n",
              "      <td>23.48</td>\n",
              "      <td>72.36</td>\n",
              "      <td>IST</td>\n",
              "      <td>standard</td>\n",
              "      <td>NDModi</td>\n",
              "    </tr>\n",
              "  </tbody>\n",
              "</table>\n",
              "</div>\n",
              "      <button class=\"colab-df-convert\" onclick=\"convertToInteractive('df-347862a4-0b10-410b-bdf7-294de61149d2')\"\n",
              "              title=\"Convert this dataframe to an interactive table.\"\n",
              "              style=\"display:none;\">\n",
              "        \n",
              "  <svg xmlns=\"http://www.w3.org/2000/svg\" height=\"24px\"viewBox=\"0 0 24 24\"\n",
              "       width=\"24px\">\n",
              "    <path d=\"M0 0h24v24H0V0z\" fill=\"none\"/>\n",
              "    <path d=\"M18.56 5.44l.94 2.06.94-2.06 2.06-.94-2.06-.94-.94-2.06-.94 2.06-2.06.94zm-11 1L8.5 8.5l.94-2.06 2.06-.94-2.06-.94L8.5 2.5l-.94 2.06-2.06.94zm10 10l.94 2.06.94-2.06 2.06-.94-2.06-.94-.94-2.06-.94 2.06-2.06.94z\"/><path d=\"M17.41 7.96l-1.37-1.37c-.4-.4-.92-.59-1.43-.59-.52 0-1.04.2-1.43.59L10.3 9.45l-7.72 7.72c-.78.78-.78 2.05 0 2.83L4 21.41c.39.39.9.59 1.41.59.51 0 1.02-.2 1.41-.59l7.78-7.78 2.81-2.81c.8-.78.8-2.07 0-2.86zM5.41 20L4 18.59l7.72-7.72 1.47 1.35L5.41 20z\"/>\n",
              "  </svg>\n",
              "      </button>\n",
              "      \n",
              "  <style>\n",
              "    .colab-df-container {\n",
              "      display:flex;\n",
              "      flex-wrap:wrap;\n",
              "      gap: 12px;\n",
              "    }\n",
              "\n",
              "    .colab-df-convert {\n",
              "      background-color: #E8F0FE;\n",
              "      border: none;\n",
              "      border-radius: 50%;\n",
              "      cursor: pointer;\n",
              "      display: none;\n",
              "      fill: #1967D2;\n",
              "      height: 32px;\n",
              "      padding: 0 0 0 0;\n",
              "      width: 32px;\n",
              "    }\n",
              "\n",
              "    .colab-df-convert:hover {\n",
              "      background-color: #E2EBFA;\n",
              "      box-shadow: 0px 1px 2px rgba(60, 64, 67, 0.3), 0px 1px 3px 1px rgba(60, 64, 67, 0.15);\n",
              "      fill: #174EA6;\n",
              "    }\n",
              "\n",
              "    [theme=dark] .colab-df-convert {\n",
              "      background-color: #3B4455;\n",
              "      fill: #D2E3FC;\n",
              "    }\n",
              "\n",
              "    [theme=dark] .colab-df-convert:hover {\n",
              "      background-color: #434B5C;\n",
              "      box-shadow: 0px 1px 3px 1px rgba(0, 0, 0, 0.15);\n",
              "      filter: drop-shadow(0px 1px 2px rgba(0, 0, 0, 0.3));\n",
              "      fill: #FFFFFF;\n",
              "    }\n",
              "  </style>\n",
              "\n",
              "      <script>\n",
              "        const buttonEl =\n",
              "          document.querySelector('#df-347862a4-0b10-410b-bdf7-294de61149d2 button.colab-df-convert');\n",
              "        buttonEl.style.display =\n",
              "          google.colab.kernel.accessAllowed ? 'block' : 'none';\n",
              "\n",
              "        async function convertToInteractive(key) {\n",
              "          const element = document.querySelector('#df-347862a4-0b10-410b-bdf7-294de61149d2');\n",
              "          const dataTable =\n",
              "            await google.colab.kernel.invokeFunction('convertToInteractive',\n",
              "                                                     [key], {});\n",
              "          if (!dataTable) return;\n",
              "\n",
              "          const docLinkHtml = 'Like what you see? Visit the ' +\n",
              "            '<a target=\"_blank\" href=https://colab.research.google.com/notebooks/data_table.ipynb>data table notebook</a>'\n",
              "            + ' to learn more about interactive tables.';\n",
              "          element.innerHTML = '';\n",
              "          dataTable['output_type'] = 'display_data';\n",
              "          await google.colab.output.renderOutput(dataTable, element);\n",
              "          const docLink = document.createElement('div');\n",
              "          docLink.innerHTML = docLinkHtml;\n",
              "          element.appendChild(docLink);\n",
              "        }\n",
              "      </script>\n",
              "    </div>\n",
              "  </div>\n",
              "  "
            ],
            "text/plain": [
              "  Gender    Voc1_Cat Voc1_Det       Voc2_Cat  ... PoB_Lon TZ_Name   TZ_Type    Name\n",
              "0      M    Engineer      nil        Teacher  ...   88.37     IST  standard    somu\n",
              "1      F      Author      nil      Homemaker  ...   88.37     IST  standard    gopa\n",
              "2      M    Engineer      nil        Teacher  ...   88.37     IST  standard   ahool\n",
              "3      F   Biologist      nil      Scientist  ...   88.37     IST  standard   nilan\n",
              "4      M  Politician      nil  Administrator  ...   72.36     IST  standard  NDModi\n",
              "\n",
              "[5 rows x 18 columns]"
            ]
          },
          "metadata": {},
          "execution_count": 9
        }
      ]
    },
    {
      "cell_type": "markdown",
      "source": [
        "#Cast & Store chart in Mongo\n",
        "Driver Code"
      ],
      "metadata": {
        "id": "gyobEJ3EKU8n"
      }
    },
    {
      "cell_type": "code",
      "source": [
        "Gx = ['La','Su', 'Mo', 'Ma', 'Me', 'Ju', 'Ve', 'Sa','Ra','Ke']\n",
        "print(Gx)\n",
        "print(Gx[1:])"
      ],
      "metadata": {
        "id": "WfvCxurYyMc3",
        "outputId": "44c643eb-4b34-421a-829c-fa19be4aea07",
        "colab": {
          "base_uri": "https://localhost:8080/"
        }
      },
      "execution_count": 42,
      "outputs": [
        {
          "output_type": "stream",
          "name": "stdout",
          "text": [
            "['La', 'Su', 'Mo', 'Ma', 'Me', 'Ju', 'Ve', 'Sa', 'Ra', 'Ke']\n",
            "['Su', 'Mo', 'Ma', 'Me', 'Ju', 'Ve', 'Sa', 'Ra', 'Ke']\n"
          ]
        }
      ]
    },
    {
      "cell_type": "code",
      "source": [
        "p21.ChartType = 'Rashi'\n",
        "\n",
        "for person in range(len(df)):\n",
        "    personData =df.iloc[person]\n",
        "    p21swe.C02_parsePersonData(personData)            # split the data, extract required data into fields\n",
        "                                                        # create skeleton chart json doc as p21.chart\n",
        "    p21swe.C03_convertDates()                         # convert date, time of birth into universal time, calculate Ayanamsha\n",
        "    p21swe.C04_calculateGrahaPositions()              # calculate the Lon of each Graha along with Retrograde staus\n",
        "\n",
        "                #Horoscope is defined in terms of Natal Longitudes and Retrogrades\n",
        "                # for example\n",
        "                #GLon = {\"La\":98.5,\"Su\":178.9,\"Mo\":250.6,\"Ma\":196.2,\"Me\":193.2,\"Ju\":274.8,\"Ve\":153.8,\"Sa\":270.2,\"Ra\":122.1,\"Ke\":302.1}\n",
        "                #GRet = {\"La\":False,\"Su\":False,\"Mo\":False,\"Ma\":False,\"Me\":True,\"Ju\":False,\"Ve\":False,\"Sa\":False,\"Ra\":True,\"Ke\":True}\n",
        "\n",
        "    p21swe.C05_buildGLonGRet()                              # create two json docs ( python dicts) to store Graha Lon and Ret status\n",
        "                                                            # these are stored as global variables p21.GLon, p21.GRet\n",
        "    p21utils.appendDict(p21.chart,p21.GLonRet)              # add Lon, Ret information to chart\n",
        "    #print('chart >',p21.chart)\n",
        "    # ----------------------------------------\n",
        "    p21utils.R11_LocateGrahaInRashi()\n",
        "    \n",
        "    p21utils.C10_DetermineBhavs()                           # determine Houses for person\n",
        "    p21utils.appendDict(p21.chart,p21.BhavNBhavA)           # add BhavN, BhavA information to chart   \n",
        "    #print('chart >>',p21.chart)    \n",
        "    # ----------------------------------------    \n",
        "    p21utils.C11_DetermineLord()                            # determine Lords of Bhavs\n",
        "    p21utils.appendDict(p21.chart,p21.LordInfo)             #  add information on Lords   \n",
        "\n",
        "    p21utils.C12_BhavOfGraha_Lord()\n",
        "    p21utils.appendDict(p21.chart,p21.BhavOfGraha_LordInfo) #  add information on Bhav Residency of Graha and Lords  \n",
        "    #p21utils.C12A_RashiOfGraha_Lord()\n",
        "\n",
        "    #print('chart >>>',p21.chart)    \n",
        "    \n",
        "    p21utils.C21_DeterminePositions()\n",
        "    p21utils.appendDict(p21.chart,p21.Positions)            #  add information on Graha / Lord POSITIONS  \n",
        "\n",
        "    p21utils.C31_DetermineAspects()\n",
        "    p21utils.appendDict(p21.chart,p21.Aspects)              #  add information on Graha / Lord ASPECTS  \n",
        "\n",
        "    p21utils.C41_DetermineConjuncts()           \n",
        "    p21utils.appendDict(p21.chart,p21.Conjuncts)              #  add information on Graha / Lord Conjuncts\n",
        "\n",
        "    insert_result = kollection.insert_one(p21.chart)        # insert one json doc, chart to database\n",
        "    insert_result.acknowledged                              # Confirms that insert is successful\n",
        "    \n",
        "    print('------------')"
      ],
      "metadata": {
        "id": "gKH8oTMAKZMI",
        "colab": {
          "base_uri": "https://localhost:8080/"
        },
        "outputId": "330b0b5a-f68c-4bb5-eb90-a244126f5127"
      },
      "execution_count": 77,
      "outputs": [
        {
          "output_type": "stream",
          "name": "stdout",
          "text": [
            "{'Su': {'Ve'}, 'Ve': {'Su'}, 'Ma': {'Me'}, 'Me': {'Ma'}, 'Ju': {'Sa'}, 'Sa': {'Ju'}}\n",
            "{'2': {'Ve'}, '3': {'Ma'}, '4': {'Su'}, '5': {'Me'}, '6': {'Sa'}, '7': {'Ju'}, '8': {'Ju'}, '9': {'Sa'}, '10': {'Me'}, '11': {'Su'}, '12': {'Ma'}}\n",
            "{'2': {'4', '11'}, '3': {'10', '5'}, '4': {'2'}, '5': {'3', '12'}, '6': {'8', '7'}, '7': {'9', '6'}, '8': {'9', '6'}, '9': {'8', '7'}, '10': {'3', '12'}, '11': {'2'}, '12': {'10', '5'}}\n",
            "------------\n",
            "{'La': {'Sa'}, 'Sa': {'La'}, 'Ma': {'Ve'}, 'Ve': {'Ma'}, 'Me': {'Ke'}, 'Ke': {'Me'}}\n",
            "{'3': {'Ve'}, '4': {'Ma'}, '5': {'Ke'}, '8': {'Ke'}, '9': {'Ma'}, '10': {'Ve'}}\n",
            "{'3': {'9', '4'}, '4': {'3', '10'}, '9': {'3', '10'}, '10': {'9', '4'}}\n",
            "------------\n",
            "{'La': {'Mo'}, 'Mo': {'La'}, 'Su': {'Me', 'Ve'}, 'Me': {'Su', 'Ve'}, 'Ve': {'Me', 'Su'}, 'Ju': {'Ke'}, 'Ke': {'Ju'}}\n",
            "{'1': {'Su', 'Ve'}, '3': {'Me', 'Ve'}, '4': {'Su', 'Ve'}, '5': {'Me', 'Su'}, '7': {'Ke'}, '10': {'Ke'}, '12': {'Me', 'Su'}}\n",
            "{'1': {'3', '12', '5'}, '3': {'1', '4', '12', '5'}, '4': {'3', '12', '5'}, '5': {'3', '1', '4'}, '12': {'3', '1', '4'}}\n",
            "------------\n",
            "{'Su': {'Me', 'Ve'}, 'Me': {'Su', 'Ve'}, 'Ve': {'Me', 'Su'}, 'Mo': {'Ma'}, 'Ma': {'Mo'}, 'Ju': {'Ke'}, 'Ke': {'Ju'}}\n",
            "{'1': {'Su', 'Ve'}, '2': {'Ma'}, '3': {'Me', 'Ve'}, '4': {'Su', 'Ve'}, '5': {'Me', 'Su'}, '6': {'Mo'}, '7': {'Ke'}, '10': {'Ke'}, '11': {'Mo'}, '12': {'Me', 'Su'}}\n",
            "{'1': {'3', '12', '5'}, '2': {'6', '11'}, '3': {'1', '4', '12', '5'}, '4': {'3', '12', '5'}, '5': {'3', '1', '4'}, '6': {'2'}, '11': {'2'}, '12': {'3', '1', '4'}}\n",
            "------------\n",
            "{'Su': {'Ke', 'Me'}, 'Me': {'Ke', 'Su'}, 'Ke': {'Me', 'Su'}, 'Mo': {'Ma'}, 'Ma': {'Mo'}, 'Ve': {'Sa'}, 'Sa': {'Ve'}}\n",
            "{'1': {'Sa'}, '2': {'Mo'}, '4': {'Ve'}, '5': {'Ve'}, '7': {'Mo'}, '8': {'Sa'}, '9': {'Ke', 'Su'}, '10': {'Ma'}, '11': {'Ke', 'Me'}, '12': {'Ke', 'Su'}}\n",
            "{'1': {'4', '5'}, '2': {'10'}, '4': {'8', '1'}, '5': {'8', '1'}, '7': {'10'}, '8': {'4', '5'}, '9': {'11'}, '10': {'7', '2'}, '11': {'9', '12'}, '12': {'11'}}\n",
            "------------\n"
          ]
        }
      ]
    },
    {
      "cell_type": "markdown",
      "source": [
        "#Check Database Status"
      ],
      "metadata": {
        "id": "6gqKwTFHEgAu"
      }
    },
    {
      "cell_type": "code",
      "source": [
        "countFinal = kollection.count_documents({})\n",
        "dbSizeFinal = db.command( {\"dbStats\": 1, \"scale\": 1024 } )['dataSize']\n",
        "DocsInserted = countFinal - countInitial\n",
        "AddSpaceUsed = round(dbSizeFinal - dbSizeInitial)\n",
        "if DocsInserted > 0:\n",
        "    AvgDocSize = round(AddSpaceUsed/DocsInserted)\n",
        "else:\n",
        "    AvgDocSize = 'na'\n",
        "print(DocsInserted,' docs inserted, ',AddSpaceUsed,' KB added , with avg doc size = ', AvgDocSize)\n",
        "print(round(dbSizeFinal),'KB database with ', countFinal, ' docs in current collection' )"
      ],
      "metadata": {
        "id": "G1NrPFflBGsy",
        "outputId": "b9941e46-8df1-41e9-c234-15fd0a048e82",
        "colab": {
          "base_uri": "https://localhost:8080/"
        }
      },
      "execution_count": 78,
      "outputs": [
        {
          "output_type": "stream",
          "name": "stdout",
          "text": [
            "5  docs inserted,  16  KB added , with avg doc size =  3\n",
            "16 KB database with  5  docs in current collection\n"
          ]
        }
      ]
    },
    {
      "cell_type": "code",
      "source": [
        "# Check data loaded into MongoDb\n",
        "#c = kollection.find()\n",
        "#for crnt in c:\n",
        "#    print(crnt)\n",
        "pd.DataFrame(list(kollection.find({},{'_id':0})))"
      ],
      "metadata": {
        "id": "GQiQRXw7NjEp",
        "outputId": "7b6796bf-8cac-4cef-f1bc-fd3169f00512",
        "colab": {
          "base_uri": "https://localhost:8080/",
          "height": 1000
        }
      },
      "execution_count": 79,
      "outputs": [
        {
          "output_type": "execute_result",
          "data": {
            "text/html": [
              "\n",
              "  <div id=\"df-85d75dde-ed33-494a-9c25-473f0003b243\">\n",
              "    <div class=\"colab-df-container\">\n",
              "      <div>\n",
              "<style scoped>\n",
              "    .dataframe tbody tr th:only-of-type {\n",
              "        vertical-align: middle;\n",
              "    }\n",
              "\n",
              "    .dataframe tbody tr th {\n",
              "        vertical-align: top;\n",
              "    }\n",
              "\n",
              "    .dataframe thead th {\n",
              "        text-align: right;\n",
              "    }\n",
              "</style>\n",
              "<table border=\"1\" class=\"dataframe\">\n",
              "  <thead>\n",
              "    <tr style=\"text-align: right;\">\n",
              "      <th></th>\n",
              "      <th>pid</th>\n",
              "      <th>GLon</th>\n",
              "      <th>GRet</th>\n",
              "      <th>BhavN</th>\n",
              "      <th>BhavA</th>\n",
              "      <th>Lord</th>\n",
              "      <th>LordRashiN</th>\n",
              "      <th>LordRashiA</th>\n",
              "      <th>GrahaLordBhav</th>\n",
              "      <th>GRashiN</th>\n",
              "      <th>GrahaBhava</th>\n",
              "      <th>LordBhav</th>\n",
              "      <th>exaltG</th>\n",
              "      <th>debilG</th>\n",
              "      <th>ownHouseG</th>\n",
              "      <th>inFriendG</th>\n",
              "      <th>inEnemyG</th>\n",
              "      <th>exaltL</th>\n",
              "      <th>debilL</th>\n",
              "      <th>ownHouseL</th>\n",
              "      <th>inFriendL</th>\n",
              "      <th>inEnemyL</th>\n",
              "      <th>GAspects2</th>\n",
              "      <th>GAspectedBy2</th>\n",
              "      <th>BAspectedBy2</th>\n",
              "      <th>GConjunctsG2</th>\n",
              "      <th>BLConjunctsG2</th>\n",
              "      <th>BLConjunctsBL2</th>\n",
              "    </tr>\n",
              "  </thead>\n",
              "  <tbody>\n",
              "    <tr>\n",
              "      <th>0</th>\n",
              "      <td>{'tags': ['Engineer', 'Teacher', 'PostGraduate...</td>\n",
              "      <td>{'La': 98.204, 'Su': 178.826, 'Mo': 250.52, 'M...</td>\n",
              "      <td>{'La': False, 'Su': False, 'Mo': False, 'Ma': ...</td>\n",
              "      <td>[ , 4, 5, 6, 7, 8, 9, 10, 11, 12, 1, 2, 3]</td>\n",
              "      <td>[ , Can, Leo, Vir, Lib, Sco, Sag, Cap, Acq, Pi...</td>\n",
              "      <td>[ , Mo, Su, Me, Ve, Ma, Ju, Sa, Sa, Ju, Ma, Ve...</td>\n",
              "      <td>[ , 9, 6, 7, 6, 7, 10, 10, 10, 10, 7, 6, 7]</td>\n",
              "      <td>[ , Sag, Vir, Lib, Vir, Lib, Cap, Cap, Cap, Ca...</td>\n",
              "      <td>{'Su': [2], 'Mo': [1], 'Ma': [5, 10], 'Me': [3...</td>\n",
              "      <td>{'La': 4, 'Su': 6, 'Mo': 9, 'Ma': 7, 'Me': 7, ...</td>\n",
              "      <td>{'La': 1, 'Su': 3, 'Mo': 6, 'Ma': 4, 'Me': 4, ...</td>\n",
              "      <td>[ , 6, 3, 4, 3, 4, 7, 7, 7, 7, 4, 3, 4]</td>\n",
              "      <td>{'Su': False, 'Mo': False, 'Ma': False, 'Me': ...</td>\n",
              "      <td>{'Su': False, 'Mo': False, 'Ma': False, 'Me': ...</td>\n",
              "      <td>{'Su': False, 'Mo': False, 'Ma': False, 'Me': ...</td>\n",
              "      <td>{'Su': False, 'Mo': False, 'Ma': False, 'Me': ...</td>\n",
              "      <td>{'Su': False, 'Mo': False, 'Ma': False, 'Me': ...</td>\n",
              "      <td>[False, False, False, False, False, False, Fal...</td>\n",
              "      <td>[False, False, False, False, True, False, True...</td>\n",
              "      <td>[False, False, False, False, False, False, Fal...</td>\n",
              "      <td>[False, False, False, True, True, False, False...</td>\n",
              "      <td>[False, False, False, False, False, False, Fal...</td>\n",
              "      <td>{'La': ['Sa', 'Ju'], 'Ma': ['Sa', 'Ju'], 'Ju':...</td>\n",
              "      <td>{'Ju': ['La', 'Ma'], 'Sa': ['La', 'Ma'], 'La':...</td>\n",
              "      <td>{'7': ['La', 'Ma'], '9': ['Su', 'Sa', 'Ve'], '...</td>\n",
              "      <td>{'Su': ['Ve'], 'Ve': ['Su'], 'Ma': ['Me'], 'Me...</td>\n",
              "      <td>{'2': ['Ve'], '3': ['Ma'], '4': ['Su'], '5': [...</td>\n",
              "      <td>{'2': ['4', '11'], '3': ['10', '5'], '4': ['2'...</td>\n",
              "    </tr>\n",
              "    <tr>\n",
              "      <th>1</th>\n",
              "      <td>{'tags': ['Author', 'Homemaker', 'PostGraduate...</td>\n",
              "      <td>{'La': 310.415, 'Su': 243.701, 'Mo': 201.001, ...</td>\n",
              "      <td>{'La': False, 'Su': False, 'Mo': False, 'Ma': ...</td>\n",
              "      <td>[ , 11, 12, 1, 2, 3, 4, 5, 6, 7, 8, 9, 10]</td>\n",
              "      <td>[ , Acq, Pis, Ari, Tau, Gem, Can, Leo, Vir, Li...</td>\n",
              "      <td>[ , Sa, Ju, Ma, Ve, Me, Mo, Su, Me, Ve, Ma, Ju...</td>\n",
              "      <td>[ , 11, 3, 10, 10, 8, 7, 9, 8, 10, 10, 3, 11]</td>\n",
              "      <td>[ , Acq, Gem, Cap, Cap, Sco, Lib, Sag, Sco, Ca...</td>\n",
              "      <td>{'Su': [7], 'Mo': [6], 'Ma': [3, 10], 'Me': [5...</td>\n",
              "      <td>{'La': 11, 'Su': 9, 'Mo': 7, 'Ma': 10, 'Me': 8...</td>\n",
              "      <td>{'La': 1, 'Su': 11, 'Mo': 9, 'Ma': 12, 'Me': 1...</td>\n",
              "      <td>[ , 1, 5, 12, 12, 10, 9, 11, 10, 12, 12, 5, 1]</td>\n",
              "      <td>{'Su': False, 'Mo': False, 'Ma': True, 'Me': F...</td>\n",
              "      <td>{'Su': False, 'Mo': False, 'Ma': False, 'Me': ...</td>\n",
              "      <td>{'Su': False, 'Mo': False, 'Ma': False, 'Me': ...</td>\n",
              "      <td>{'Su': True, 'Mo': False, 'Ma': False, 'Me': F...</td>\n",
              "      <td>{'Su': False, 'Mo': False, 'Ma': False, 'Me': ...</td>\n",
              "      <td>[False, False, False, True, False, False, Fals...</td>\n",
              "      <td>[False, False, False, False, False, False, Fal...</td>\n",
              "      <td>[False, True, False, False, False, False, Fals...</td>\n",
              "      <td>[False, True, False, False, False, False, Fals...</td>\n",
              "      <td>[False, False, True, False, False, False, Fals...</td>\n",
              "      <td>{'Su': ['Ju'], 'Me': ['Ra'], 'Ju': ['La', 'Mo'...</td>\n",
              "      <td>{'Ju': ['Su'], 'Ra': ['Me'], 'La': ['Ju'], 'Su...</td>\n",
              "      <td>{'7': ['La', 'Ma', 'Sa'], '5': ['Su'], '3': ['...</td>\n",
              "      <td>{'La': ['Sa'], 'Sa': ['La'], 'Ma': ['Ve'], 'Ve...</td>\n",
              "      <td>{'3': ['Ve'], '4': ['Ma'], '5': ['Ke'], '8': [...</td>\n",
              "      <td>{'3': ['9', '4'], '4': ['3', '10'], '9': ['3',...</td>\n",
              "    </tr>\n",
              "    <tr>\n",
              "      <th>2</th>\n",
              "      <td>{'tags': ['Engineer', 'Teacher', 'PostGraduate...</td>\n",
              "      <td>{'La': 85.351, 'Su': 172.44, 'Mo': 63.984, 'Ma...</td>\n",
              "      <td>{'La': False, 'Su': False, 'Mo': False, 'Ma': ...</td>\n",
              "      <td>[ , 3, 4, 5, 6, 7, 8, 9, 10, 11, 12, 1, 2]</td>\n",
              "      <td>[ , Gem, Can, Leo, Vir, Lib, Sco, Sag, Cap, Ac...</td>\n",
              "      <td>[ , Me, Mo, Su, Me, Ve, Ma, Ju, Sa, Sa, Ju, Ma...</td>\n",
              "      <td>[ , 6, 3, 6, 6, 6, 2, 4, 9, 9, 4, 2, 6]</td>\n",
              "      <td>[ , Vir, Gem, Vir, Vir, Vir, Tau, Can, Sag, Sa...</td>\n",
              "      <td>{'Su': [3], 'Mo': [2], 'Ma': [6, 11], 'Me': [1...</td>\n",
              "      <td>{'La': 3, 'Su': 6, 'Mo': 3, 'Ma': 2, 'Me': 6, ...</td>\n",
              "      <td>{'La': 1, 'Su': 4, 'Mo': 1, 'Ma': 12, 'Me': 4,...</td>\n",
              "      <td>[ , 4, 1, 4, 4, 4, 12, 2, 7, 7, 2, 12, 4]</td>\n",
              "      <td>{'Su': False, 'Mo': False, 'Ma': False, 'Me': ...</td>\n",
              "      <td>{'Su': False, 'Mo': False, 'Ma': False, 'Me': ...</td>\n",
              "      <td>{'Su': False, 'Mo': False, 'Ma': False, 'Me': ...</td>\n",
              "      <td>{'Su': False, 'Mo': True, 'Ma': False, 'Me': F...</td>\n",
              "      <td>{'Su': False, 'Mo': False, 'Ma': False, 'Me': ...</td>\n",
              "      <td>[False, True, False, False, True, False, False...</td>\n",
              "      <td>[False, False, False, False, False, True, Fals...</td>\n",
              "      <td>[False, True, False, False, True, False, False...</td>\n",
              "      <td>[False, False, True, False, False, True, False...</td>\n",
              "      <td>[False, False, False, False, False, False, Fal...</td>\n",
              "      <td>{'La': ['Sa'], 'Mo': ['Sa'], 'Ma': ['Sa'], 'Ju...</td>\n",
              "      <td>{'Sa': ['La', 'Ma', 'Mo'], 'Ra': ['Ju'], 'La':...</td>\n",
              "      <td>{'7': ['La', 'Ma', 'Mo'], '10': ['Me', 'Su', '...</td>\n",
              "      <td>{'La': ['Mo'], 'Mo': ['La'], 'Su': ['Me', 'Ve'...</td>\n",
              "      <td>{'1': ['Su', 'Ve'], '3': ['Me', 'Ve'], '4': ['...</td>\n",
              "      <td>{'1': ['3', '12', '5'], '3': ['1', '4', '12', ...</td>\n",
              "    </tr>\n",
              "    <tr>\n",
              "      <th>3</th>\n",
              "      <td>{'tags': ['Biologist', 'Scientist', 'PostGradu...</td>\n",
              "      <td>{'La': 84.138, 'Su': 145.068, 'Mo': 54.233, 'M...</td>\n",
              "      <td>{'La': False, 'Su': False, 'Mo': False, 'Ma': ...</td>\n",
              "      <td>[ , 3, 4, 5, 6, 7, 8, 9, 10, 11, 12, 1, 2]</td>\n",
              "      <td>[ , Gem, Can, Leo, Vir, Lib, Sco, Sag, Cap, Ac...</td>\n",
              "      <td>[ , Me, Mo, Su, Me, Ve, Ma, Ju, Sa, Sa, Ju, Ma...</td>\n",
              "      <td>[ , 5, 2, 5, 5, 5, 2, 4, 9, 9, 4, 2, 5]</td>\n",
              "      <td>[ , Leo, Tau, Leo, Leo, Leo, Tau, Can, Sag, Sa...</td>\n",
              "      <td>{'Su': [3], 'Mo': [2], 'Ma': [6, 11], 'Me': [1...</td>\n",
              "      <td>{'La': 3, 'Su': 5, 'Mo': 2, 'Ma': 2, 'Me': 5, ...</td>\n",
              "      <td>{'La': 1, 'Su': 3, 'Mo': 12, 'Ma': 12, 'Me': 3...</td>\n",
              "      <td>[ , 3, 12, 3, 3, 3, 12, 2, 7, 7, 2, 12, 3]</td>\n",
              "      <td>{'Su': False, 'Mo': True, 'Ma': False, 'Me': F...</td>\n",
              "      <td>{'Su': False, 'Mo': False, 'Ma': False, 'Me': ...</td>\n",
              "      <td>{'Su': True, 'Mo': False, 'Ma': False, 'Me': F...</td>\n",
              "      <td>{'Su': False, 'Mo': False, 'Ma': False, 'Me': ...</td>\n",
              "      <td>{'Su': False, 'Mo': False, 'Ma': False, 'Me': ...</td>\n",
              "      <td>[False, False, True, False, False, False, Fals...</td>\n",
              "      <td>[False, False, False, False, False, False, Fal...</td>\n",
              "      <td>[False, False, False, True, False, False, Fals...</td>\n",
              "      <td>[False, True, False, False, True, False, False...</td>\n",
              "      <td>[False, False, False, False, False, True, Fals...</td>\n",
              "      <td>{'La': ['Sa'], 'Ma': ['Me', 'Su', 'Sa', 'Ve'],...</td>\n",
              "      <td>{'Sa': ['La', 'Ma'], 'Su': ['Ma'], 'Me': ['Ma'...</td>\n",
              "      <td>{'7': ['La', 'Ma'], '9': ['Me', 'Su', 'Sa', 'V...</td>\n",
              "      <td>{'Su': ['Me', 'Ve'], 'Me': ['Su', 'Ve'], 'Ve':...</td>\n",
              "      <td>{'1': ['Su', 'Ve'], '2': ['Ma'], '3': ['Me', '...</td>\n",
              "      <td>{'1': ['3', '12', '5'], '2': ['6', '11'], '3':...</td>\n",
              "    </tr>\n",
              "    <tr>\n",
              "      <th>4</th>\n",
              "      <td>{'tags': ['Politician', 'Administrator', 'nil'...</td>\n",
              "      <td>{'La': 191.897, 'Su': 150.533, 'Mo': 217.939, ...</td>\n",
              "      <td>{'La': False, 'Su': False, 'Mo': False, 'Ma': ...</td>\n",
              "      <td>[ , 7, 8, 9, 10, 11, 12, 1, 2, 3, 4, 5, 6]</td>\n",
              "      <td>[ , Lib, Sco, Sag, Cap, Acq, Pis, Ari, Tau, Ge...</td>\n",
              "      <td>[ , Ve, Ma, Ju, Sa, Sa, Ju, Ma, Ve, Me, Mo, Su...</td>\n",
              "      <td>[ , 5, 8, 11, 5, 5, 11, 8, 5, 6, 8, 6, 6]</td>\n",
              "      <td>[ , Leo, Sco, Acq, Leo, Leo, Acq, Sco, Leo, Vi...</td>\n",
              "      <td>{'Su': [11], 'Mo': [10], 'Ma': [2, 7], 'Me': [...</td>\n",
              "      <td>{'La': 7, 'Su': 6, 'Mo': 8, 'Ma': 8, 'Me': 6, ...</td>\n",
              "      <td>{'La': 1, 'Su': 12, 'Mo': 2, 'Ma': 2, 'Me': 12...</td>\n",
              "      <td>[ , 11, 2, 5, 11, 11, 5, 2, 11, 12, 2, 12, 12]</td>\n",
              "      <td>{'Su': False, 'Mo': False, 'Ma': False, 'Me': ...</td>\n",
              "      <td>{'Su': False, 'Mo': True, 'Ma': False, 'Me': F...</td>\n",
              "      <td>{'Su': False, 'Mo': False, 'Ma': True, 'Me': T...</td>\n",
              "      <td>{'Su': False, 'Mo': False, 'Ma': False, 'Me': ...</td>\n",
              "      <td>{'Su': False, 'Mo': False, 'Ma': False, 'Me': ...</td>\n",
              "      <td>[False, False, False, False, False, False, Fal...</td>\n",
              "      <td>[False, False, False, False, False, False, Fal...</td>\n",
              "      <td>[False, False, True, False, False, False, Fals...</td>\n",
              "      <td>[False, False, False, False, False, False, Fal...</td>\n",
              "      <td>[False, True, False, False, True, True, False,...</td>\n",
              "      <td>{'Su': ['Ra'], 'Ma': ['Ju'], 'Me': ['Ra'], 'Ju...</td>\n",
              "      <td>{'Ra': ['Me', 'Su'], 'Ju': ['Ma', 'Sa', 'Ve'],...</td>\n",
              "      <td>{'7': ['La'], '6': ['Ke', 'Me', 'Su'], '8': ['...</td>\n",
              "      <td>{'Su': ['Ke', 'Me'], 'Me': ['Ke', 'Su'], 'Ke':...</td>\n",
              "      <td>{'1': ['Sa'], '2': ['Mo'], '4': ['Ve'], '5': [...</td>\n",
              "      <td>{'1': ['4', '5'], '2': ['10'], '4': ['8', '1']...</td>\n",
              "    </tr>\n",
              "  </tbody>\n",
              "</table>\n",
              "</div>\n",
              "      <button class=\"colab-df-convert\" onclick=\"convertToInteractive('df-85d75dde-ed33-494a-9c25-473f0003b243')\"\n",
              "              title=\"Convert this dataframe to an interactive table.\"\n",
              "              style=\"display:none;\">\n",
              "        \n",
              "  <svg xmlns=\"http://www.w3.org/2000/svg\" height=\"24px\"viewBox=\"0 0 24 24\"\n",
              "       width=\"24px\">\n",
              "    <path d=\"M0 0h24v24H0V0z\" fill=\"none\"/>\n",
              "    <path d=\"M18.56 5.44l.94 2.06.94-2.06 2.06-.94-2.06-.94-.94-2.06-.94 2.06-2.06.94zm-11 1L8.5 8.5l.94-2.06 2.06-.94-2.06-.94L8.5 2.5l-.94 2.06-2.06.94zm10 10l.94 2.06.94-2.06 2.06-.94-2.06-.94-.94-2.06-.94 2.06-2.06.94z\"/><path d=\"M17.41 7.96l-1.37-1.37c-.4-.4-.92-.59-1.43-.59-.52 0-1.04.2-1.43.59L10.3 9.45l-7.72 7.72c-.78.78-.78 2.05 0 2.83L4 21.41c.39.39.9.59 1.41.59.51 0 1.02-.2 1.41-.59l7.78-7.78 2.81-2.81c.8-.78.8-2.07 0-2.86zM5.41 20L4 18.59l7.72-7.72 1.47 1.35L5.41 20z\"/>\n",
              "  </svg>\n",
              "      </button>\n",
              "      \n",
              "  <style>\n",
              "    .colab-df-container {\n",
              "      display:flex;\n",
              "      flex-wrap:wrap;\n",
              "      gap: 12px;\n",
              "    }\n",
              "\n",
              "    .colab-df-convert {\n",
              "      background-color: #E8F0FE;\n",
              "      border: none;\n",
              "      border-radius: 50%;\n",
              "      cursor: pointer;\n",
              "      display: none;\n",
              "      fill: #1967D2;\n",
              "      height: 32px;\n",
              "      padding: 0 0 0 0;\n",
              "      width: 32px;\n",
              "    }\n",
              "\n",
              "    .colab-df-convert:hover {\n",
              "      background-color: #E2EBFA;\n",
              "      box-shadow: 0px 1px 2px rgba(60, 64, 67, 0.3), 0px 1px 3px 1px rgba(60, 64, 67, 0.15);\n",
              "      fill: #174EA6;\n",
              "    }\n",
              "\n",
              "    [theme=dark] .colab-df-convert {\n",
              "      background-color: #3B4455;\n",
              "      fill: #D2E3FC;\n",
              "    }\n",
              "\n",
              "    [theme=dark] .colab-df-convert:hover {\n",
              "      background-color: #434B5C;\n",
              "      box-shadow: 0px 1px 3px 1px rgba(0, 0, 0, 0.15);\n",
              "      filter: drop-shadow(0px 1px 2px rgba(0, 0, 0, 0.3));\n",
              "      fill: #FFFFFF;\n",
              "    }\n",
              "  </style>\n",
              "\n",
              "      <script>\n",
              "        const buttonEl =\n",
              "          document.querySelector('#df-85d75dde-ed33-494a-9c25-473f0003b243 button.colab-df-convert');\n",
              "        buttonEl.style.display =\n",
              "          google.colab.kernel.accessAllowed ? 'block' : 'none';\n",
              "\n",
              "        async function convertToInteractive(key) {\n",
              "          const element = document.querySelector('#df-85d75dde-ed33-494a-9c25-473f0003b243');\n",
              "          const dataTable =\n",
              "            await google.colab.kernel.invokeFunction('convertToInteractive',\n",
              "                                                     [key], {});\n",
              "          if (!dataTable) return;\n",
              "\n",
              "          const docLinkHtml = 'Like what you see? Visit the ' +\n",
              "            '<a target=\"_blank\" href=https://colab.research.google.com/notebooks/data_table.ipynb>data table notebook</a>'\n",
              "            + ' to learn more about interactive tables.';\n",
              "          element.innerHTML = '';\n",
              "          dataTable['output_type'] = 'display_data';\n",
              "          await google.colab.output.renderOutput(dataTable, element);\n",
              "          const docLink = document.createElement('div');\n",
              "          docLink.innerHTML = docLinkHtml;\n",
              "          element.appendChild(docLink);\n",
              "        }\n",
              "      </script>\n",
              "    </div>\n",
              "  </div>\n",
              "  "
            ],
            "text/plain": [
              "                                                 pid  ...                                     BLConjunctsBL2\n",
              "0  {'tags': ['Engineer', 'Teacher', 'PostGraduate...  ...  {'2': ['4', '11'], '3': ['10', '5'], '4': ['2'...\n",
              "1  {'tags': ['Author', 'Homemaker', 'PostGraduate...  ...  {'3': ['9', '4'], '4': ['3', '10'], '9': ['3',...\n",
              "2  {'tags': ['Engineer', 'Teacher', 'PostGraduate...  ...  {'1': ['3', '12', '5'], '3': ['1', '4', '12', ...\n",
              "3  {'tags': ['Biologist', 'Scientist', 'PostGradu...  ...  {'1': ['3', '12', '5'], '2': ['6', '11'], '3':...\n",
              "4  {'tags': ['Politician', 'Administrator', 'nil'...  ...  {'1': ['4', '5'], '2': ['10'], '4': ['8', '1']...\n",
              "\n",
              "[5 rows x 28 columns]"
            ]
          },
          "metadata": {},
          "execution_count": 79
        }
      ]
    },
    {
      "cell_type": "code",
      "source": [
        "#Retrieves Charts based on tags\n",
        "#pd.DataFrame(list(kollection.find({'pid.tags': {\"$in\": ['Scientist','Author']}},{'pid.tags':1,'GLon':1,'GRet':1,'_id':0})))\n",
        "#c = kollection.find({'pid.tags': {\"$in\": ['Scientist','Author']}},{'pid.tags':1,'GLon':1,'GRet':1,'_id':0})\n",
        "#for crnt in c:\n",
        "#    print(crnt)"
      ],
      "metadata": {
        "id": "ExBPG3O9HazN"
      },
      "execution_count": null,
      "outputs": []
    },
    {
      "cell_type": "markdown",
      "metadata": {
        "id": "QGxOl9rdrvEg"
      },
      "source": [
        "#Chronobooks <br>\n",
        "![alt text](https://1.bp.blogspot.com/-lTiYBkU2qbU/X1er__fvnkI/AAAAAAAAjtE/GhDR3OEGJr4NG43fZPodrQD5kbxtnKebgCLcBGAsYHQ/s600/Footer2020-600x200.png)<hr>\n",
        "Chronotantra and Chronoyantra are two science fiction novels that explore the collapse of human civilisation on Earth and then its rebirth and reincarnation both on Earth as well as on the distant worlds of Mars, Titan and Enceladus. But is it the human civilisation that is being reborn? Or is it some other sentience that is revealing itself. \n",
        "If you have an interest in AI and found this material useful, you may consider buying these novels, in paperback or kindle, from [http://bit.ly/chronobooks](http://bit.ly/chronobooks)"
      ]
    }
  ]
}