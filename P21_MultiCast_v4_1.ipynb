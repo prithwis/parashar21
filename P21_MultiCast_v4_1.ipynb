{
  "nbformat": 4,
  "nbformat_minor": 0,
  "metadata": {
    "colab": {
      "name": "P21_MultiCast_v4.1",
      "provenance": [],
      "include_colab_link": true
    },
    "kernelspec": {
      "name": "python3",
      "display_name": "Python 3"
    }
  },
  "cells": [
    {
      "cell_type": "markdown",
      "metadata": {
        "id": "view-in-github",
        "colab_type": "text"
      },
      "source": [
        "<a href=\"https://colab.research.google.com/github/prithwis/parashar21/blob/main/P21_MultiCast_v4_1.ipynb\" target=\"_parent\"><img src=\"https://colab.research.google.com/assets/colab-badge.svg\" alt=\"Open In Colab\"/></a>"
      ]
    },
    {
      "cell_type": "markdown",
      "metadata": {
        "id": "m3d-QHg6rqr-"
      },
      "source": [
        "![alt text](http://1.bp.blogspot.com/_5QlanosqxiQ/SXLOLTu7S7I/AAAAAAAAAm8/0r6C7lCxsic/S1600-R/p21-header-003.png) <br>\n",
        "\n",
        "\n",
        "---\n",
        "\n",
        "\n",
        "![CC-BY-SA](https://licensebuttons.net/l/by-sa/3.0/88x31.png) ||\n",
        "[Prithwis Mukerjee](http://www.yantrajaal.com) ||\n",
        "Website - [Parashar21](https://parashar21.blogspot.com)<br>"
      ]
    },
    {
      "cell_type": "markdown",
      "source": [
        "#Create Charts and store in MongoDB"
      ],
      "metadata": {
        "id": "Q5dCCZlf8nLK"
      }
    },
    {
      "cell_type": "markdown",
      "metadata": {
        "id": "6az36FX6Rpit"
      },
      "source": [
        "#Install Swiss Ephemeris <br>\n",
        "\n",
        "https://pypi.org/project/pyswisseph/  - Python Package Documentation <br>\n",
        "https://www.astro.com/swisseph/swephinfo_e.htm <br>\n",
        "https://www.astro.com/swisseph/swephprg.htm - Programmer Documentation <br>\n",
        "https://pythonhosted.org/pyswisseph/swisseph-module.html"
      ]
    },
    {
      "cell_type": "code",
      "metadata": {
        "id": "THZf8D8fQsXm",
        "colab": {
          "base_uri": "https://localhost:8080/"
        },
        "outputId": "573d6658-fc5d-4d75-eef8-daa16a719c65"
      },
      "source": [
        "#!pip install simple-crypt\n",
        "!pip install python_string_utils\n",
        "!pip install pyswisseph\n",
        "#!pip install pyswisseph==2.10.2.0.dev1\n",
        "!apt install mongodb > /dev/null"
      ],
      "execution_count": 1,
      "outputs": [
        {
          "output_type": "stream",
          "name": "stdout",
          "text": [
            "Collecting python_string_utils\n",
            "  Downloading python_string_utils-1.0.0-py3-none-any.whl (26 kB)\n",
            "Installing collected packages: python-string-utils\n",
            "Successfully installed python-string-utils-1.0.0\n",
            "Collecting pyswisseph\n",
            "  Downloading pyswisseph-2.08.00-1.tar.gz (521 kB)\n",
            "\u001b[K     |████████████████████████████████| 521 kB 13.5 MB/s \n",
            "\u001b[?25hBuilding wheels for collected packages: pyswisseph\n",
            "  Building wheel for pyswisseph (setup.py) ... \u001b[?25l\u001b[?25hdone\n",
            "  Created wheel for pyswisseph: filename=pyswisseph-2.8.0.post1-cp37-cp37m-linux_x86_64.whl size=724382 sha256=d5b8552bc0a659ad1958825e09d685f9cc4d6f94169b90ec1810b199368947b1\n",
            "  Stored in directory: /root/.cache/pip/wheels/32/81/77/a3f7c72bd124fbdfec5f468ce0669ac09ea98a9af2b99edd61\n",
            "Successfully built pyswisseph\n",
            "Installing collected packages: pyswisseph\n",
            "Successfully installed pyswisseph-2.8.0.post1\n",
            "\n",
            "WARNING: apt does not have a stable CLI interface. Use with caution in scripts.\n",
            "\n"
          ]
        }
      ]
    },
    {
      "cell_type": "code",
      "metadata": {
        "id": "INsjq9opScbt"
      },
      "source": [
        "!wget -q http://www.astro.com/ftp/swisseph/ephe/seas_18.se1\n",
        "!wget -q http://www.astro.com/ftp/swisseph/ephe/semo_18.se1\n",
        "!wget -q http://www.astro.com/ftp/swisseph/ephe/sepl_18.se1\n",
        "!mkdir ephe\n",
        "!mv *.se1 ephe"
      ],
      "execution_count": 2,
      "outputs": []
    },
    {
      "cell_type": "code",
      "metadata": {
        "id": "U29C4FOKY23v"
      },
      "source": [
        "import swisseph as swe\n",
        "swe.version\n",
        "#Constants and Flags necessary for this application are set here\n",
        "#\n",
        "swe.set_ephe_path('/content/ephe') # set path to ephemeris files\n",
        "# Calendar : Julian or Gregorian\n",
        "SE_GREG_CAL = 1\n",
        "gregflag = SE_GREG_CAL\n",
        "#\n",
        "# Ayanamsha type : Lahiri = 1\n",
        "swe.set_sid_mode(1)  # Lahiri Aynamsha\n",
        "#\n",
        "# whether speed will be calculated along with position of planet\n",
        "SEFLG_SPEED = int(256)\n",
        "iflag = SEFLG_SPEED\n",
        "#hsys = P, Placidus\n",
        "#ascii P = 080\n",
        "hsysP =  bytes('P', 'utf-8')"
      ],
      "execution_count": 3,
      "outputs": []
    },
    {
      "cell_type": "code",
      "metadata": {
        "id": "sMDwxsFR_KHb"
      },
      "source": [
        "# Subtracts angles (eg Ayanamsha) from Longitudes \n",
        "# Required for conversion from Tropical (Western) to Sidereal (Indian) zodiac\n",
        "def p21Sub (x,y):\n",
        "    retVal = round(x - y,3)\n",
        "    if retVal < 0:\n",
        "        return retVal + 360\n",
        "    else:\n",
        "        return retVal"
      ],
      "execution_count": 4,
      "outputs": []
    },
    {
      "cell_type": "markdown",
      "metadata": {
        "id": "uSuVPj3kXcwC"
      },
      "source": [
        "#Load Data\n"
      ]
    },
    {
      "cell_type": "code",
      "source": [
        "import pandas as pd"
      ],
      "metadata": {
        "id": "fJC3F7u3I0VF"
      },
      "execution_count": 6,
      "outputs": []
    },
    {
      "cell_type": "code",
      "source": [
        "!gdown -O peopleData.csv https://drive.google.com/uc?id=1NpWf1RCyDkXzr1x_AnK0RkXuale26nQ0 # 4 Person Test Data\n",
        "#!sed -i '1d' peopleData.csv \n",
        "#!cat peopleData.csv\n",
        "df = pd.read_csv('peopleData.csv')\n",
        "df.head()"
      ],
      "metadata": {
        "colab": {
          "base_uri": "https://localhost:8080/",
          "height": 244
        },
        "id": "iXeCDQStAEd_",
        "outputId": "1ab86d3d-9335-4d64-e959-6c5454ccfc44"
      },
      "execution_count": 7,
      "outputs": [
        {
          "output_type": "stream",
          "name": "stdout",
          "text": [
            "Downloading...\n",
            "From: https://drive.google.com/uc?id=1NpWf1RCyDkXzr1x_AnK0RkXuale26nQ0\n",
            "To: /content/peopleData.csv\n",
            "\r  0% 0.00/564 [00:00<?, ?B/s]\r100% 564/564 [00:00<00:00, 654kB/s]\n"
          ]
        },
        {
          "output_type": "execute_result",
          "data": {
            "text/html": [
              "\n",
              "  <div id=\"df-e71adab8-ad4b-46cd-8b48-2d6a8e9e953f\">\n",
              "    <div class=\"colab-df-container\">\n",
              "      <div>\n",
              "<style scoped>\n",
              "    .dataframe tbody tr th:only-of-type {\n",
              "        vertical-align: middle;\n",
              "    }\n",
              "\n",
              "    .dataframe tbody tr th {\n",
              "        vertical-align: top;\n",
              "    }\n",
              "\n",
              "    .dataframe thead th {\n",
              "        text-align: right;\n",
              "    }\n",
              "</style>\n",
              "<table border=\"1\" class=\"dataframe\">\n",
              "  <thead>\n",
              "    <tr style=\"text-align: right;\">\n",
              "      <th></th>\n",
              "      <th>Gender</th>\n",
              "      <th>Voc1_Cat</th>\n",
              "      <th>Voc1_Det</th>\n",
              "      <th>Voc2_Cat</th>\n",
              "      <th>Voc2_Det</th>\n",
              "      <th>Voc3_Cat</th>\n",
              "      <th>Voc3_Det</th>\n",
              "      <th>DoB_Day</th>\n",
              "      <th>DoB_Mon</th>\n",
              "      <th>DoB_Year</th>\n",
              "      <th>DoB_Time</th>\n",
              "      <th>TZ_Off</th>\n",
              "      <th>TZ_OffHours</th>\n",
              "      <th>PoB_Lat</th>\n",
              "      <th>PoB_Lon</th>\n",
              "      <th>TZ_Name</th>\n",
              "      <th>TZ_Type</th>\n",
              "      <th>Name</th>\n",
              "    </tr>\n",
              "  </thead>\n",
              "  <tbody>\n",
              "    <tr>\n",
              "      <th>0</th>\n",
              "      <td>M</td>\n",
              "      <td>Engineer</td>\n",
              "      <td>nil</td>\n",
              "      <td>Teacher</td>\n",
              "      <td>nil</td>\n",
              "      <td>PostGraduate</td>\n",
              "      <td>nil</td>\n",
              "      <td>15</td>\n",
              "      <td>10</td>\n",
              "      <td>1961</td>\n",
              "      <td>23:42</td>\n",
              "      <td>h5e30</td>\n",
              "      <td>5.5</td>\n",
              "      <td>22.57</td>\n",
              "      <td>88.37</td>\n",
              "      <td>IST</td>\n",
              "      <td>standard</td>\n",
              "      <td>somu</td>\n",
              "    </tr>\n",
              "    <tr>\n",
              "      <th>1</th>\n",
              "      <td>F</td>\n",
              "      <td>Author</td>\n",
              "      <td>nil</td>\n",
              "      <td>Homemaker</td>\n",
              "      <td>nil</td>\n",
              "      <td>PostGraduate</td>\n",
              "      <td>nil</td>\n",
              "      <td>19</td>\n",
              "      <td>12</td>\n",
              "      <td>1965</td>\n",
              "      <td>10:26</td>\n",
              "      <td>h5e30</td>\n",
              "      <td>5.5</td>\n",
              "      <td>22.57</td>\n",
              "      <td>88.37</td>\n",
              "      <td>IST</td>\n",
              "      <td>standard</td>\n",
              "      <td>gopa</td>\n",
              "    </tr>\n",
              "    <tr>\n",
              "      <th>2</th>\n",
              "      <td>M</td>\n",
              "      <td>Engineer</td>\n",
              "      <td>nil</td>\n",
              "      <td>Teacher</td>\n",
              "      <td>nil</td>\n",
              "      <td>PostGraduate</td>\n",
              "      <td>nil</td>\n",
              "      <td>9</td>\n",
              "      <td>10</td>\n",
              "      <td>1990</td>\n",
              "      <td>23:09</td>\n",
              "      <td>h5e30</td>\n",
              "      <td>5.5</td>\n",
              "      <td>22.57</td>\n",
              "      <td>88.37</td>\n",
              "      <td>IST</td>\n",
              "      <td>standard</td>\n",
              "      <td>rahool</td>\n",
              "    </tr>\n",
              "    <tr>\n",
              "      <th>3</th>\n",
              "      <td>F</td>\n",
              "      <td>Biologist</td>\n",
              "      <td>nil</td>\n",
              "      <td>Scientist</td>\n",
              "      <td>nil</td>\n",
              "      <td>PostGraduate</td>\n",
              "      <td>nil</td>\n",
              "      <td>12</td>\n",
              "      <td>9</td>\n",
              "      <td>1990</td>\n",
              "      <td>0:52</td>\n",
              "      <td>h5e30</td>\n",
              "      <td>5.5</td>\n",
              "      <td>22.87</td>\n",
              "      <td>88.37</td>\n",
              "      <td>IST</td>\n",
              "      <td>standard</td>\n",
              "      <td>nilanjan</td>\n",
              "    </tr>\n",
              "  </tbody>\n",
              "</table>\n",
              "</div>\n",
              "      <button class=\"colab-df-convert\" onclick=\"convertToInteractive('df-e71adab8-ad4b-46cd-8b48-2d6a8e9e953f')\"\n",
              "              title=\"Convert this dataframe to an interactive table.\"\n",
              "              style=\"display:none;\">\n",
              "        \n",
              "  <svg xmlns=\"http://www.w3.org/2000/svg\" height=\"24px\"viewBox=\"0 0 24 24\"\n",
              "       width=\"24px\">\n",
              "    <path d=\"M0 0h24v24H0V0z\" fill=\"none\"/>\n",
              "    <path d=\"M18.56 5.44l.94 2.06.94-2.06 2.06-.94-2.06-.94-.94-2.06-.94 2.06-2.06.94zm-11 1L8.5 8.5l.94-2.06 2.06-.94-2.06-.94L8.5 2.5l-.94 2.06-2.06.94zm10 10l.94 2.06.94-2.06 2.06-.94-2.06-.94-.94-2.06-.94 2.06-2.06.94z\"/><path d=\"M17.41 7.96l-1.37-1.37c-.4-.4-.92-.59-1.43-.59-.52 0-1.04.2-1.43.59L10.3 9.45l-7.72 7.72c-.78.78-.78 2.05 0 2.83L4 21.41c.39.39.9.59 1.41.59.51 0 1.02-.2 1.41-.59l7.78-7.78 2.81-2.81c.8-.78.8-2.07 0-2.86zM5.41 20L4 18.59l7.72-7.72 1.47 1.35L5.41 20z\"/>\n",
              "  </svg>\n",
              "      </button>\n",
              "      \n",
              "  <style>\n",
              "    .colab-df-container {\n",
              "      display:flex;\n",
              "      flex-wrap:wrap;\n",
              "      gap: 12px;\n",
              "    }\n",
              "\n",
              "    .colab-df-convert {\n",
              "      background-color: #E8F0FE;\n",
              "      border: none;\n",
              "      border-radius: 50%;\n",
              "      cursor: pointer;\n",
              "      display: none;\n",
              "      fill: #1967D2;\n",
              "      height: 32px;\n",
              "      padding: 0 0 0 0;\n",
              "      width: 32px;\n",
              "    }\n",
              "\n",
              "    .colab-df-convert:hover {\n",
              "      background-color: #E2EBFA;\n",
              "      box-shadow: 0px 1px 2px rgba(60, 64, 67, 0.3), 0px 1px 3px 1px rgba(60, 64, 67, 0.15);\n",
              "      fill: #174EA6;\n",
              "    }\n",
              "\n",
              "    [theme=dark] .colab-df-convert {\n",
              "      background-color: #3B4455;\n",
              "      fill: #D2E3FC;\n",
              "    }\n",
              "\n",
              "    [theme=dark] .colab-df-convert:hover {\n",
              "      background-color: #434B5C;\n",
              "      box-shadow: 0px 1px 3px 1px rgba(0, 0, 0, 0.15);\n",
              "      filter: drop-shadow(0px 1px 2px rgba(0, 0, 0, 0.3));\n",
              "      fill: #FFFFFF;\n",
              "    }\n",
              "  </style>\n",
              "\n",
              "      <script>\n",
              "        const buttonEl =\n",
              "          document.querySelector('#df-e71adab8-ad4b-46cd-8b48-2d6a8e9e953f button.colab-df-convert');\n",
              "        buttonEl.style.display =\n",
              "          google.colab.kernel.accessAllowed ? 'block' : 'none';\n",
              "\n",
              "        async function convertToInteractive(key) {\n",
              "          const element = document.querySelector('#df-e71adab8-ad4b-46cd-8b48-2d6a8e9e953f');\n",
              "          const dataTable =\n",
              "            await google.colab.kernel.invokeFunction('convertToInteractive',\n",
              "                                                     [key], {});\n",
              "          if (!dataTable) return;\n",
              "\n",
              "          const docLinkHtml = 'Like what you see? Visit the ' +\n",
              "            '<a target=\"_blank\" href=https://colab.research.google.com/notebooks/data_table.ipynb>data table notebook</a>'\n",
              "            + ' to learn more about interactive tables.';\n",
              "          element.innerHTML = '';\n",
              "          dataTable['output_type'] = 'display_data';\n",
              "          await google.colab.output.renderOutput(dataTable, element);\n",
              "          const docLink = document.createElement('div');\n",
              "          docLink.innerHTML = docLinkHtml;\n",
              "          element.appendChild(docLink);\n",
              "        }\n",
              "      </script>\n",
              "    </div>\n",
              "  </div>\n",
              "  "
            ],
            "text/plain": [
              "  Gender   Voc1_Cat Voc1_Det   Voc2_Cat  ... PoB_Lon TZ_Name   TZ_Type      Name\n",
              "0      M   Engineer      nil    Teacher  ...   88.37     IST  standard      somu\n",
              "1      F     Author      nil  Homemaker  ...   88.37     IST  standard      gopa\n",
              "2      M   Engineer      nil    Teacher  ...   88.37     IST  standard    rahool\n",
              "3      F  Biologist      nil  Scientist  ...   88.37     IST  standard  nilanjan\n",
              "\n",
              "[4 rows x 18 columns]"
            ]
          },
          "metadata": {},
          "execution_count": 7
        }
      ]
    },
    {
      "cell_type": "markdown",
      "source": [
        "#Required Functions"
      ],
      "metadata": {
        "id": "8JHhTi-1KPMX"
      }
    },
    {
      "cell_type": "code",
      "source": [
        "def parsePersonData(P):\n",
        "    global chart\n",
        "    global LBDY, LBDM,LBDD,LBTh,LBTm,LBTs,tZone,natalLAT,natalLON\n",
        "    \n",
        "    LBDY = P['DoB_Year']     # Year of Birth, Local Time\n",
        "    LBDM = P['DoB_Mon']      # Month of Birth, Local Time\n",
        "    LBDD = P['DoB_Day']      # Day of Birth, Local Time\n",
        "\n",
        "    LBTh = int(P['DoB_Time'].split(\":\")[0])                           # Hour of Birth, Local Time, 24 Hour Clock\n",
        "    LBTm = int(P['DoB_Time'].split(\":\")[1])                          # Minute of Birth, Local Time\n",
        "    LBTs = 0                           # Second of Birth, Local Time\n",
        "\n",
        "    tZone = P['TZ_OffHours']                         # Time Zone Offset. East of Greenwich is +ve\n",
        "    #print('ppd', LBDY, LBDM,LBDD,LBTh,LBTm,LBTs,tZone)\n",
        "    #print(P['Gender'])\n",
        "    natalLAT = P['PoB_Lat']\n",
        "    natalLON = P['PoB_Lon']\n",
        "    ck = str(P['DoB_Year'])+str(P['DoB_Mon'])+str(P['DoB_Day'])+P['DoB_Time']+str(P['TZ_OffHours'])+str(P['PoB_Lat'])+str(P['PoB_Lon'])\n",
        "    chart = {\n",
        "        \"pid\":{\n",
        "            \"tags\" : [P['Voc1_Cat'],P['Voc2_Cat'],P['Voc3_Cat']],\n",
        "            \"ck\" : ck,\n",
        "            \"name\": string_utils.shuffle(P['Name'])\n",
        "        }\n",
        "    }"
      ],
      "metadata": {
        "id": "wOReAjchK45n"
      },
      "execution_count": 9,
      "outputs": []
    },
    {
      "cell_type": "code",
      "source": [
        "def convertDates():\n",
        "    global natalUT, ayanamsha\n",
        "    # Date & Time of Birth\n",
        "    #Time Zone Conversion\n",
        "    UTCdt = swe.utc_time_zone(LBDY,LBDM,LBDD,LBTh,LBTm,LBTs,tZone)\n",
        "    #print(UTCdt)\n",
        "    # Date & Time of Birth\n",
        "    # Convert UTC date to Julian Date\n",
        "    JD = swe.utc_to_jd(UTCdt[0],UTCdt[1],UTCdt[2],UTCdt[3],UTCdt[4],0,gregflag) # Second Value = 0\n",
        "    #print (JD[0], JD[1])\n",
        "    # JD[0] is Ephemeris Time\n",
        "    # JD[1] is Universal Time \n",
        "    natalUT = JD[1]\n",
        "    #print(natalUT, 'Julian Date of DTofB in Universal Time')\n",
        "    #Ayanamsha\n",
        "    ayanamsha = swe.get_ayanamsa(natalUT)\n",
        "    #print('Lahiri Ayanamsha :', ayanamsha)\n"
      ],
      "metadata": {
        "id": "hC2HQxubXjCI"
      },
      "execution_count": 10,
      "outputs": []
    },
    {
      "cell_type": "code",
      "source": [
        "def calculateGrahaPositions():\n",
        "    global bLon,bRet,P\n",
        "    #Position of Planets\n",
        "    #\n",
        "    # body 0 = Sun, 1 = Moon, 2 = Merc, 3 = Ven, 4 = Mars, 5 = Jup, 6 = Sat, 11 = True Node (Rahu)\n",
        "    bLon = []\n",
        "    bRet = []\n",
        "    for body in [0,1,2,3,4,5,6,11]:\n",
        "        pData = swe.calc_ut(natalUT,body,iflag)\n",
        "        bLon.append(pData[0][0])\n",
        "        if pData[0][3] >= 0:\n",
        "            bRet.append(False)\n",
        "        else :\n",
        "            bRet.append(True)\n",
        "    #for ix in range(len(bLon)) : print(ix, bLon[ix], bRet[ix])\n",
        "    #-------------------------------------------------------------------\n",
        "    #House Position and Ascendants\n",
        "    P = swe.houses(natalUT,natalLAT,natalLON,hsysP)\n",
        "    #P = swe.houses_ex(natalUT,natalLAT,natalLON,hsysP)\n",
        "    #for ix in range(len(P[0])) : print(ix, P[0][ix])\n",
        "    #print('--')\n",
        "    #for ix in range(len(P[1])) : print(ix, P[1][ix])"
      ],
      "metadata": {
        "id": "5ybJg5nbY3tF"
      },
      "execution_count": 11,
      "outputs": []
    },
    {
      "cell_type": "code",
      "source": [
        "def buildGLonGRet():\n",
        "    global GLon, GRet\n",
        "    GLon = {\n",
        "        'Glon':{\n",
        "        'La':p21Sub(P[1][0],ayanamsha),\n",
        "        'Su':p21Sub(bLon[0],ayanamsha),\n",
        "        'Mo':p21Sub(bLon[1],ayanamsha),\n",
        "        'Ma':p21Sub(bLon[4],ayanamsha),\n",
        "        'Me':p21Sub(bLon[2],ayanamsha),\n",
        "        'Ju':p21Sub(bLon[5],ayanamsha),\n",
        "        'Ve':p21Sub(bLon[3],ayanamsha),\n",
        "        'Sa':p21Sub(bLon[6],ayanamsha),\n",
        "        'Ra':p21Sub(bLon[7],ayanamsha),\n",
        "        'Ke':p21Sub(p21Sub(bLon[7],ayanamsha),180)\n",
        "        }\n",
        "    }\n",
        "\n",
        "    GRet = {\n",
        "        'GRet':{\n",
        "        'La':False,\n",
        "        'Su':False,\n",
        "        'Mo':False,\n",
        "        'Ma':bRet[4],\n",
        "        'Me':bRet[2],\n",
        "        'Ju':bRet[5],\n",
        "        'Ve':bRet[3],\n",
        "        'Sa':bRet[6],\n",
        "        'Ra':False,\n",
        "        'Ke':False\n",
        "        }\n",
        "    }\n"
      ],
      "metadata": {
        "id": "KZesQ3nmaxyf"
      },
      "execution_count": 12,
      "outputs": []
    },
    {
      "cell_type": "code",
      "source": [
        "def appendDict(d1,d2):\n",
        "    for i in range(len(d2)):\n",
        "        k = list(d2.keys())[i]\n",
        "        v = list(d2.values())[i]\n",
        "        d1[k] = v"
      ],
      "metadata": {
        "id": "tj4dVrFQgrUq"
      },
      "execution_count": 13,
      "outputs": []
    },
    {
      "cell_type": "markdown",
      "source": [
        "#Connect to MongoDB"
      ],
      "metadata": {
        "id": "ZsYS94O-DRAl"
      }
    },
    {
      "cell_type": "code",
      "source": [
        "from pymongo import MongoClient\n",
        "import pandas as pd\n",
        "import dateutil\n",
        "import string_utils"
      ],
      "metadata": {
        "id": "j0m70OCqDZZ_"
      },
      "execution_count": 14,
      "outputs": []
    },
    {
      "cell_type": "code",
      "source": [
        "from google.colab import drive\n",
        "drive.mount('/content/drive')\n",
        "# --------------------------------------------\n",
        "# copy credentials file\n",
        "#!ls /content/drive/'My Drive'/Praxis/WebCredentials\n",
        "!cp /content/drive/'My Drive'/Praxis/WebCredentials/clevercloudMongoDB.py credentials.py\n",
        "# -----------------------------------------------\n",
        "# credential file for Prithwis Mukerjee\n",
        "# this file needs to be uploaded into the VM\n",
        "\n",
        "from credentials import rhostName,ruserName,rpassWord,rdbName,rMongoURI\n",
        "\n",
        "#print(rhostName,ruserName,rdbName)\n",
        "print(rdbName)\n",
        "#print(rMongoURI)\n",
        "# -----------------------------------------------\n",
        "mongoURI = rMongoURI                                   # for remote server\n",
        "#mongoURI = \"mongodb://localhost:27017/\"\n",
        "client = MongoClient(mongoURI)\n",
        "client.list_database_names() # ['admin', 'local']"
      ],
      "metadata": {
        "colab": {
          "base_uri": "https://localhost:8080/"
        },
        "id": "Ydu8Gh-mDiYn",
        "outputId": "2f61fe76-83ac-42c0-a3f6-cd90c3e1806c"
      },
      "execution_count": 15,
      "outputs": [
        {
          "output_type": "stream",
          "name": "stdout",
          "text": [
            "Mounted at /content/drive\n",
            "btncgfi3a5bxyea\n"
          ]
        },
        {
          "output_type": "execute_result",
          "data": {
            "text/plain": [
              "['btncgfi3a5bxyea']"
            ]
          },
          "metadata": {},
          "execution_count": 15
        }
      ]
    },
    {
      "cell_type": "code",
      "source": [
        "db = client.btncgfi3a5bxyea\n",
        "# Show Collections. Query returns a Cursor [ ] ,  list it to see the content\n",
        "list (db.list_collections())\n",
        "# empty list '[]' means that there are not collections in database"
      ],
      "metadata": {
        "colab": {
          "base_uri": "https://localhost:8080/"
        },
        "id": "imaqh29vhnYn",
        "outputId": "9d3c972a-bb0e-4aff-c0b0-032e06e1f780"
      },
      "execution_count": 18,
      "outputs": [
        {
          "output_type": "execute_result",
          "data": {
            "text/plain": [
              "[{'idIndex': {'key': {'_id': 1},\n",
              "   'name': '_id_',\n",
              "   'ns': 'btncgfi3a5bxyea.restaurants',\n",
              "   'v': 2},\n",
              "  'info': {'readOnly': False,\n",
              "   'uuid': UUID('7554cbbb-c8f2-47a2-8429-426588529a48')},\n",
              "  'name': 'restaurants',\n",
              "  'options': {},\n",
              "  'type': 'collection'}]"
            ]
          },
          "metadata": {},
          "execution_count": 18
        }
      ]
    },
    {
      "cell_type": "code",
      "source": [
        "db = client.btncgfi3a5bxyea\n",
        "db.p21Charts.drop()\n",
        "db.p21Charts2.drop()\n",
        "db.create_collection('p21Charts')       # Optional collection creation\n",
        "kollection = db.p21Charts                   # Set the collection to work with"
      ],
      "metadata": {
        "id": "DLigUEp2h3My"
      },
      "execution_count": 19,
      "outputs": []
    },
    {
      "cell_type": "markdown",
      "source": [
        "#Driver Code"
      ],
      "metadata": {
        "id": "gyobEJ3EKU8n"
      }
    },
    {
      "cell_type": "code",
      "source": [
        "for person in range(len(df)):\n",
        "    personData =df.iloc[person]\n",
        "    parsePersonData(personData)\n",
        "    convertDates()\n",
        "    calculateGrahaPositions()\n",
        "    buildGLonGRet()\n",
        "    #print(chart)\n",
        "    #print(Glon)\n",
        "    appendDict(chart,GLon)\n",
        "    #print(chart)\n",
        "    appendDict(chart,GRet)\n",
        "    insert_result = kollection.insert_one(chart)\n",
        "    insert_result.acknowledged    # Confirms that insert is successful\n",
        "    #print(chart)"
      ],
      "metadata": {
        "id": "gKH8oTMAKZMI"
      },
      "execution_count": 20,
      "outputs": []
    },
    {
      "cell_type": "code",
      "source": [
        "c = kollection.find()\n",
        "for crnt in c:\n",
        "    print(crnt)"
      ],
      "metadata": {
        "id": "jG5xHbx7B9DZ",
        "colab": {
          "base_uri": "https://localhost:8080/"
        },
        "outputId": "5f721cb8-c05b-43b3-eb22-c3a945865c4b"
      },
      "execution_count": 21,
      "outputs": [
        {
          "output_type": "stream",
          "name": "stdout",
          "text": [
            "{'_id': ObjectId('61dac319cef5589bbbc3b56f'), 'pid': {'tags': ['Engineer', 'Teacher', 'PostGraduate'], 'ck': '1961101523:425.522.5788.37', 'name': 'mous'}, 'Glon': {'La': 98.204, 'Su': 178.826, 'Mo': 250.52, 'Ma': 196.183, 'Me': 193.17, 'Ju': 274.781, 'Ve': 153.753, 'Sa': 270.179, 'Ra': 122.089, 'Ke': 302.089}, 'GRet': {'La': False, 'Su': False, 'Mo': False, 'Ma': False, 'Me': True, 'Ju': False, 'Ve': False, 'Sa': False, 'Ra': False, 'Ke': False}}\n",
            "{'_id': ObjectId('61dac319cef5589bbbc3b570'), 'pid': {'tags': ['Author', 'Homemaker', 'PostGraduate'], 'ck': '1965121910:265.522.5788.37', 'name': 'gopa'}, 'Glon': {'La': 310.415, 'Su': 243.701, 'Mo': 201.001, 'Ma': 273.467, 'Me': 222.269, 'Ju': 62.748, 'Ve': 284.966, 'Sa': 318.17, 'Ra': 41.248, 'Ke': 221.248}, 'GRet': {'La': False, 'Su': False, 'Mo': False, 'Ma': False, 'Me': False, 'Ju': True, 'Ve': False, 'Sa': False, 'Ra': False, 'Ke': False}}\n",
            "{'_id': ObjectId('61dac319cef5589bbbc3b571'), 'pid': {'tags': ['Engineer', 'Teacher', 'PostGraduate'], 'ck': '199010923:095.522.5788.37', 'name': 'alroho'}, 'Glon': {'La': 85.351, 'Su': 172.44, 'Mo': 63.984, 'Ma': 49.966, 'Me': 163.275, 'Ju': 105.898, 'Ve': 166.538, 'Sa': 265.202, 'Ra': 280.65, 'Ke': 100.65}, 'GRet': {'La': False, 'Su': False, 'Mo': False, 'Ma': False, 'Me': False, 'Ju': False, 'Ve': False, 'Sa': False, 'Ra': False, 'Ke': False}}\n",
            "{'_id': ObjectId('61dac319cef5589bbbc3b572'), 'pid': {'tags': ['Biologist', 'Scientist', 'PostGraduate'], 'ck': '19909120:525.522.8788.37', 'name': 'ijnnnlaa'}, 'Glon': {'La': 84.138, 'Su': 145.068, 'Mo': 54.233, 'Ma': 41.525, 'Me': 138.242, 'Ju': 101.216, 'Ve': 131.788, 'Sa': 265.084, 'Ra': 282.763, 'Ke': 102.763}, 'GRet': {'La': False, 'Su': False, 'Mo': False, 'Ma': False, 'Me': True, 'Ju': False, 'Ve': False, 'Sa': True, 'Ra': False, 'Ke': False}}\n"
          ]
        }
      ]
    },
    {
      "cell_type": "code",
      "source": [
        "c = kollection.find({'pid.tags': {\"$in\": ['Scientist','Author']}})\n",
        "for crnt in c:\n",
        "    print(crnt)"
      ],
      "metadata": {
        "id": "ExBPG3O9HazN",
        "outputId": "7fb46a66-1b1d-4c2c-c8c6-191abd5ebb81",
        "colab": {
          "base_uri": "https://localhost:8080/"
        }
      },
      "execution_count": 27,
      "outputs": [
        {
          "output_type": "stream",
          "name": "stdout",
          "text": [
            "{'_id': ObjectId('61dac319cef5589bbbc3b570'), 'pid': {'tags': ['Author', 'Homemaker', 'PostGraduate'], 'ck': '1965121910:265.522.5788.37', 'name': 'gopa'}, 'Glon': {'La': 310.415, 'Su': 243.701, 'Mo': 201.001, 'Ma': 273.467, 'Me': 222.269, 'Ju': 62.748, 'Ve': 284.966, 'Sa': 318.17, 'Ra': 41.248, 'Ke': 221.248}, 'GRet': {'La': False, 'Su': False, 'Mo': False, 'Ma': False, 'Me': False, 'Ju': True, 'Ve': False, 'Sa': False, 'Ra': False, 'Ke': False}}\n",
            "{'_id': ObjectId('61dac319cef5589bbbc3b572'), 'pid': {'tags': ['Biologist', 'Scientist', 'PostGraduate'], 'ck': '19909120:525.522.8788.37', 'name': 'ijnnnlaa'}, 'Glon': {'La': 84.138, 'Su': 145.068, 'Mo': 54.233, 'Ma': 41.525, 'Me': 138.242, 'Ju': 101.216, 'Ve': 131.788, 'Sa': 265.084, 'Ra': 282.763, 'Ke': 102.763}, 'GRet': {'La': False, 'Su': False, 'Mo': False, 'Ma': False, 'Me': True, 'Ju': False, 'Ve': False, 'Sa': True, 'Ra': False, 'Ke': False}}\n"
          ]
        }
      ]
    },
    {
      "cell_type": "markdown",
      "metadata": {
        "id": "QGxOl9rdrvEg"
      },
      "source": [
        "#Chronobooks <br>\n",
        "![alt text](https://1.bp.blogspot.com/-lTiYBkU2qbU/X1er__fvnkI/AAAAAAAAjtE/GhDR3OEGJr4NG43fZPodrQD5kbxtnKebgCLcBGAsYHQ/s600/Footer2020-600x200.png)<hr>\n",
        "Chronotantra and Chronoyantra are two science fiction novels that explore the collapse of human civilisation on Earth and then its rebirth and reincarnation both on Earth as well as on the distant worlds of Mars, Titan and Enceladus. But is it the human civilisation that is being reborn? Or is it some other sentience that is revealing itself. \n",
        "If you have an interest in AI and found this material useful, you may consider buying these novels, in paperback or kindle, from [http://bit.ly/chronobooks](http://bit.ly/chronobooks)"
      ]
    }
  ]
}