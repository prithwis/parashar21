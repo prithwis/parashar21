{
  "nbformat": 4,
  "nbformat_minor": 0,
  "metadata": {
    "colab": {
      "name": "P21_45_YogFilter.ipynb",
      "provenance": [],
      "include_colab_link": true
    },
    "kernelspec": {
      "name": "python3",
      "display_name": "Python 3"
    },
    "language_info": {
      "name": "python"
    }
  },
  "cells": [
    {
      "cell_type": "markdown",
      "metadata": {
        "id": "view-in-github",
        "colab_type": "text"
      },
      "source": [
        "<a href=\"https://colab.research.google.com/github/prithwis/parashar21/blob/main/P21_45_04_YogFilter.ipynb\" target=\"_parent\"><img src=\"https://colab.research.google.com/assets/colab-badge.svg\" alt=\"Open In Colab\"/></a>"
      ]
    },
    {
      "cell_type": "markdown",
      "source": [
        "![alt text](http://1.bp.blogspot.com/_5QlanosqxiQ/SXLOLTu7S7I/AAAAAAAAAm8/0r6C7lCxsic/S1600-R/p21-header-003.png) <br>\n",
        "\n",
        "\n",
        "---\n",
        "\n",
        "\n",
        "\n",
        "[Prithwis Mukerjee](http://www.yantrajaal.com) ||\n",
        "Website - [Parashar21](https://parashar21.blogspot.com)<br>"
      ],
      "metadata": {
        "id": "rj4jjIHTvPV8"
      }
    },
    {
      "cell_type": "markdown",
      "source": [
        "Copyright (c) 2022, Prithwis Mukerjee All rights reserved.\n",
        "\n",
        "This source code is licensed under the GNU GPL v3.0 -style license found in the LICENSE file in the root directory of this source tree."
      ],
      "metadata": {
        "id": "9OzVEmHm1IaF"
      }
    },
    {
      "cell_type": "markdown",
      "source": [
        "#Filtering out charts with specific yogs\n",
        "\n"
      ],
      "metadata": {
        "id": "t1pdyGo_NG52"
      }
    },
    {
      "cell_type": "markdown",
      "source": [
        "For those who may not have access to a live MongoDB instance, we have set up a mechanism where the JSON file that would have been loaded into a hosted MongoDB instance, will be loaded into a locally (that is in the VM) installed MongoDB instance and the queries can be run in a manner that is identical to a live, hosted MongoDB instance"
      ],
      "metadata": {
        "id": "yW31spY9ThkV"
      }
    },
    {
      "cell_type": "markdown",
      "source": [
        "#SetUp Environment"
      ],
      "metadata": {
        "id": "l2v2nhRKvwJS"
      }
    },
    {
      "cell_type": "markdown",
      "source": [
        "##Install Software"
      ],
      "metadata": {
        "id": "djqyotVjO5TI"
      }
    },
    {
      "cell_type": "code",
      "source": [
        "!pip -qq install pyswisseph                 # https://stackoverflow.com/questions/64277506/pip-install-options-unclear\n",
        "!pip -qq install python-docx                #https://python-docx.readthedocs.io/en/latest/\n",
        "!/usr/bin/python3 -m pip install \"pymongo[srv]\"\n",
        "!apt install mongodb > /dev/null            # install local MongoDB server           \n",
        "#!service mongodb start                      # start Local MongoDB server instance\n"
      ],
      "metadata": {
        "colab": {
          "base_uri": "https://localhost:8080/"
        },
        "id": "AWKFabc0v3FI",
        "outputId": "09594a5e-643b-4d1f-a321-1aacda461be1"
      },
      "execution_count": 1,
      "outputs": [
        {
          "output_type": "stream",
          "name": "stdout",
          "text": [
            "\u001b[K     |████████████████████████████████| 1.8 MB 4.9 MB/s \n",
            "\u001b[K     |████████████████████████████████| 5.6 MB 4.9 MB/s \n",
            "\u001b[?25h  Building wheel for python-docx (setup.py) ... \u001b[?25l\u001b[?25hdone\n",
            "Looking in indexes: https://pypi.org/simple, https://us-python.pkg.dev/colab-wheels/public/simple/\n",
            "Requirement already satisfied: pymongo[srv] in /usr/local/lib/python3.7/dist-packages (4.2.0)\n",
            "Collecting dnspython<3.0.0,>=1.16.0\n",
            "  Downloading dnspython-2.2.1-py3-none-any.whl (269 kB)\n",
            "\u001b[K     |████████████████████████████████| 269 kB 5.0 MB/s \n",
            "\u001b[?25hInstalling collected packages: dnspython\n",
            "Successfully installed dnspython-2.2.1\n",
            "\n",
            "WARNING: apt does not have a stable CLI interface. Use with caution in scripts.\n",
            "\n"
          ]
        }
      ]
    },
    {
      "cell_type": "markdown",
      "source": [
        "##Install, import prerequisites"
      ],
      "metadata": {
        "id": "Vml3UdnbOAlO"
      }
    },
    {
      "cell_type": "code",
      "source": [
        "#Utility functions \n",
        "from pymongo import MongoClient\n",
        "import pandas as pd\n",
        "import dateutil\n",
        "import json\n",
        "from docx import Document\n",
        "from docx.shared import Inches\n",
        "from docx.enum.text import WD_ALIGN_PARAGRAPH\n",
        "from datetime import datetime\n",
        "from datetime import timedelta\n",
        "import pytz\n",
        "\n",
        "#import matplotlib.pyplot as plt\n",
        "#import math\n"
      ],
      "metadata": {
        "id": "tsCga6c8pLvM"
      },
      "execution_count": 2,
      "outputs": []
    },
    {
      "cell_type": "code",
      "source": [
        "#Load p21 modules from github\n",
        "!wget -O p21.py -q https://raw.githubusercontent.com/prithwis/parashar21/main/utils/p21.py                  # all global variables\n",
        "!wget -O p21swe.py -q https://raw.githubusercontent.com/prithwis/parashar21/main/utils/p21swe.py            # Swiss Ephemeris functions\n",
        "!wget -O p21utils.py -q https://raw.githubusercontent.com/prithwis/parashar21/main/utils/p21utils.py        # large number of utility functions\n",
        "!wget -O p21utilsR.py -q https://raw.githubusercontent.com/prithwis/parashar21/main/utils/p21utilsR.py \n",
        "!wget -O p21YogInfo.py -q https://raw.githubusercontent.com/prithwis/parashar21/main/utils/p21YogInfo.py\n",
        "# ---------------------------\n",
        "\n",
        "!wget -O Saraswati.png -q https://github.com/prithwis/parashar21/raw/main/images/Saraswati02.png             \n",
        "!wget -O p21logo.png -q https://github.com/prithwis/parashar21/raw/main/images/p21logo-002-1.png       "
      ],
      "metadata": {
        "id": "uwAT_IbvB0A-"
      },
      "execution_count": 3,
      "outputs": []
    },
    {
      "cell_type": "code",
      "source": [
        "import p21\n",
        "import p21swe\n",
        "import p21utils\n",
        "import p21utilsR\n",
        "import p21YogInfo\n",
        "# ------------------------------------------------\n",
        "# required for multiple imports of the same module\n",
        "# ------------------------------------------------\n",
        "import importlib\n",
        "importlib.reload(p21)\n",
        "importlib.reload(p21swe)\n",
        "importlib.reload(p21utils)\n",
        "importlib.reload(p21utilsR)\n",
        "importlib.reload(p21YogInfo)"
      ],
      "metadata": {
        "id": "xOlbcnu33PmG",
        "outputId": "915d7ff9-f4cb-4473-feaf-94465560b22f",
        "colab": {
          "base_uri": "https://localhost:8080/"
        }
      },
      "execution_count": 26,
      "outputs": [
        {
          "output_type": "stream",
          "name": "stdout",
          "text": [
            "p21swe imported\n",
            "p21utils imported\n",
            "p21utilsR imported\n",
            "9 Yogs on record\n"
          ]
        },
        {
          "output_type": "execute_result",
          "data": {
            "text/plain": [
              "<module 'p21YogInfo' from '/content/p21YogInfo.py'>"
            ]
          },
          "metadata": {},
          "execution_count": 26
        }
      ]
    },
    {
      "cell_type": "code",
      "source": [
        "#!cat p21YogInfo.py"
      ],
      "metadata": {
        "id": "88UH0wpxruqP"
      },
      "execution_count": null,
      "outputs": []
    },
    {
      "cell_type": "markdown",
      "source": [
        "#Local or Remote Atlas"
      ],
      "metadata": {
        "id": "BIt0gQRDOOuF"
      }
    },
    {
      "cell_type": "markdown",
      "source": [
        "##Local Database Operations"
      ],
      "metadata": {
        "id": "-TcDynM39CbV"
      }
    },
    {
      "cell_type": "code",
      "source": [
        "!service mongodb start                      # start Local MongoDB server instance"
      ],
      "metadata": {
        "id": "IepSP0-X9d2l",
        "outputId": "5791f0ae-18dc-4a6c-a144-2c69aa47fa40",
        "colab": {
          "base_uri": "https://localhost:8080/"
        }
      },
      "execution_count": 5,
      "outputs": [
        {
          "output_type": "stream",
          "name": "stdout",
          "text": [
            " * Starting database mongodb\n",
            "   ...done.\n"
          ]
        }
      ]
    },
    {
      "cell_type": "code",
      "source": [
        "mongoURI = \"mongodb://localhost:27017/\"                               # for remote server\n",
        "client = MongoClient(mongoURI)\n",
        "\n",
        "db = client.parashar21\n",
        "#pd.DataFrame(list(db.list_collections()))"
      ],
      "metadata": {
        "id": "vaC9hKYeATn6"
      },
      "execution_count": 6,
      "outputs": []
    },
    {
      "cell_type": "markdown",
      "source": [
        "###Download Horoscope data in JSON and load into MongoDB"
      ],
      "metadata": {
        "id": "3lpsiTbVOW8I"
      }
    },
    {
      "cell_type": "code",
      "source": [
        "# Retrieve JSON file from Github and load in local Mongo\n",
        "#!wget -O peopleData.json -q https://github.com/prithwis/parashar21/raw/main/data/peopleDataTest5.json\n",
        "\n",
        "#!gdown -O peopleData.json https://drive.google.com/uc?id=1_VBHE7Hyue8t3hdBdLU6lgpnaWhhRVd4  # 39662 documents OLD file\n",
        "!gdown  -O peopleData.json 1GIPjxHenAm2EKdtx8T0_RwkzkmCRGEH7  # 39662 documents\n",
        "!mongoimport --db parashar21 --collection khona21 --drop --file peopleData.json"
      ],
      "metadata": {
        "colab": {
          "base_uri": "https://localhost:8080/"
        },
        "id": "upkZsp63BMyU",
        "outputId": "702fdbad-0c3a-4f88-d439-9714909bc43c"
      },
      "execution_count": 7,
      "outputs": [
        {
          "output_type": "stream",
          "name": "stdout",
          "text": [
            "Downloading...\n",
            "From: https://drive.google.com/uc?id=1GIPjxHenAm2EKdtx8T0_RwkzkmCRGEH7\n",
            "To: /content/peopleData.json\n",
            "100% 143M/143M [00:01<00:00, 135MB/s]\n",
            "2022-09-21T12:06:15.229+0000\tconnected to: localhost\n",
            "2022-09-21T12:06:15.229+0000\tdropping: parashar21.khona21\n",
            "2022-09-21T12:06:18.228+0000\t[####....................] parashar21.khona21\t28.3MB/137MB (20.7%)\n",
            "2022-09-21T12:06:21.227+0000\t[#########...............] parashar21.khona21\t55.5MB/137MB (40.6%)\n",
            "2022-09-21T12:06:24.231+0000\t[##############..........] parashar21.khona21\t83.2MB/137MB (60.9%)\n",
            "2022-09-21T12:06:27.233+0000\t[###################.....] parashar21.khona21\t111MB/137MB (81.3%)\n",
            "2022-09-21T12:06:29.891+0000\t[########################] parashar21.khona21\t137MB/137MB (100.0%)\n",
            "2022-09-21T12:06:29.891+0000\timported 39662 documents\n"
          ]
        }
      ]
    },
    {
      "cell_type": "code",
      "source": [
        "p21.kollection = db.khona21                   # Set the collection to work with\n",
        "#kollection = db.khona21                   # Set the collection to work with\n",
        "totalCharts = p21.kollection.count_documents({})\n",
        "dbSize = db.command( {\"dbStats\": 1, \"scale\": 1024 } )['dataSize']\n",
        "print(totalCharts, ' documents,',round(dbSize,2), \" KB data\")"
      ],
      "metadata": {
        "id": "nEB8OKSS0VKX",
        "outputId": "4f3d330c-428d-4ad8-e864-9e58c3715e1c",
        "colab": {
          "base_uri": "https://localhost:8080/"
        }
      },
      "execution_count": 8,
      "outputs": [
        {
          "output_type": "stream",
          "name": "stdout",
          "text": [
            "39662  documents, 146582.36  KB data\n"
          ]
        }
      ]
    },
    {
      "cell_type": "markdown",
      "source": [
        "##Remote Atlas Database \n",
        "https://account.mongodb.com/account/login"
      ],
      "metadata": {
        "id": "YsTcMHIu9JU2"
      }
    },
    {
      "cell_type": "code",
      "source": [
        "from google.colab import drive\n",
        "drive.mount('/content/drive')\n",
        "# -------------------------------------------\n",
        "# copy credentials file\n",
        "!cp /content/drive/'My Drive'/Praxis/WebCredentials/Parashar21_Atlas_18Sep22.py credentials.py\n",
        "# -------------------------------------------\n",
        "# MongoDB credentials are stored here\n",
        "#\n",
        "from credentials import parashar21URI\n",
        "# -------------------------------------------\n",
        "mongoURI = parashar21URI                                   # for remote ATlas server\n",
        "\n",
        "client = MongoClient(mongoURI)\n",
        "client.list_database_names() # ['admin', 'local']\n",
        "# ----------------------------------------------"
      ],
      "metadata": {
        "id": "m-HPdgzt9vBX",
        "outputId": "9611f92a-c1b4-4f1d-8a5b-2f5d9966b14b",
        "colab": {
          "base_uri": "https://localhost:8080/"
        }
      },
      "execution_count": null,
      "outputs": [
        {
          "output_type": "stream",
          "name": "stdout",
          "text": [
            "Mounted at /content/drive\n"
          ]
        },
        {
          "output_type": "execute_result",
          "data": {
            "text/plain": [
              "['Parashar21', 'admin', 'local']"
            ]
          },
          "metadata": {},
          "execution_count": 5
        }
      ]
    },
    {
      "cell_type": "code",
      "source": [
        "# Show existing Collections\n",
        "db = client.Parashar21\n",
        "#pd.DataFrame(list(db.list_collections()))\n",
        "#kollection = db.khona21Test                   # Set the collection to work with\n",
        "p21.kollection = db.khona21                   # Set the collection to work with\n",
        "totalCharts = p21.kollection.count_documents({})\n",
        "print(totalCharts)"
      ],
      "metadata": {
        "id": "-Ida2J2A93hV",
        "outputId": "ebd2c616-00b3-44c7-d90e-c0fb78ccc0bf",
        "colab": {
          "base_uri": "https://localhost:8080/"
        }
      },
      "execution_count": null,
      "outputs": [
        {
          "output_type": "stream",
          "name": "stdout",
          "text": [
            "39662\n"
          ]
        }
      ]
    },
    {
      "cell_type": "code",
      "source": [
        "#print(p21.kollection)"
      ],
      "metadata": {
        "id": "AGkpNFrh8Fb4",
        "outputId": "fec610d4-4f10-4e8c-b111-fe225b97ac65",
        "colab": {
          "base_uri": "https://localhost:8080/"
        }
      },
      "execution_count": null,
      "outputs": [
        {
          "output_type": "stream",
          "name": "stdout",
          "text": [
            "Collection(Database(MongoClient(host=['cluster0-shard-00-01.yarln.mongodb.net:27017', 'cluster0-shard-00-00.yarln.mongodb.net:27017', 'cluster0-shard-00-02.yarln.mongodb.net:27017'], document_class=dict, tz_aware=False, connect=True, retrywrites=True, w='majority', authsource='admin', replicaset='atlas-djz97v-shard-0', tls=True), 'Parashar21'), 'khona21')\n"
          ]
        }
      ]
    },
    {
      "cell_type": "markdown",
      "source": [
        "#Report Generation Function\n",
        "Please note that the generated report MS Office doc format **will be stored in the Colab VM drive** and needs to be downloaded to local machine for viewing"
      ],
      "metadata": {
        "id": "LMA40MOq1jse"
      }
    },
    {
      "cell_type": "code",
      "source": [
        "def genYogReport(yText, ChartStyle,Sample = True):\n",
        "    \n",
        "    if Sample:\n",
        "        df4Report = df.sample(5)\n",
        "    else:\n",
        "        df4Report = df\n",
        "    \n",
        "    selectedCharts = len(df)\n",
        "    printCharts = len(df4Report)\n",
        "    #printStatus = str(printCharts)+' charts of total '+str(totalCharts)+' printed.'\n",
        "    printStatus = str(len(df))+' charts of total '+str(totalCharts)+' selected and '+str(printCharts)+' printed'\n",
        "    \n",
        "    \n",
        "\n",
        "    now = datetime.now(pytz.timezone('Asia/Kolkata'))\n",
        "    fileName = 'p21Yog_'+yText[0:4]+'_'+ChartStyle[0:1]+'_'+now.strftime(\"%H%M%S\")+'.doc'\n",
        "    curQueryStr = json.dumps(selCond)[0:100]\n",
        "    # ---------------------------------------------------------\n",
        "    p21utilsR.R01_CreateReportDoc(yText,printStatus)                      # Creates MS Word Doc called p21.document\n",
        "    # ----------------------------------------------------------\n",
        "    for chart in range(len(df4Report)):\n",
        "        chartData =df4Report.iloc[chart]\n",
        "        #R51_processChart(chartData)\n",
        "        p21utilsR.R511_parseChartData(chartData)              # Break up database data into useful pieces\n",
        "                                            # Creates two primary dicts, GLon, GRet\n",
        "        for ctype in ['Rashi','Navamsa']:\n",
        "        #for ctype in ['Rashi']:\n",
        "            p21.ChartType = ctype\n",
        "            p21utils.R11_LocateGrahaInRashi()   # Converts Graha Long to Rashi positions\n",
        "                                                # Rashi Num as well as Rashi name\n",
        "            if ChartStyle == 'Bengal':\n",
        "                p21utilsR.R12B_drawChart_Bengal()    # Draw Chart in Bengal style\n",
        "            if ChartStyle == 'South':\n",
        "                p21utilsR.R12B_drawChart_South()    # Draw Chart in South style\n",
        "            if ChartStyle == 'North':\n",
        "                p21utilsR.R12B_drawChart_North()    # Draw Chart in North style\n",
        "            #\n",
        "            \n",
        "                                                \n",
        "        #print(p21.GrahaBhava)\n",
        "        #print(p21.LordBhav)\n",
        "\n",
        "        p21utilsR.R30_LocateYogs()\n",
        "        p21utilsR.R512_FormatPage()\n",
        "        #print('----')\n",
        "    # ------------------------------------\n",
        "    p21.document.save(fileName)\n",
        "    \n"
      ],
      "metadata": {
        "id": "nf7XU_5nZ1rq"
      },
      "execution_count": 9,
      "outputs": []
    },
    {
      "cell_type": "markdown",
      "source": [
        "#Retrieve Charts \n",
        "\n"
      ],
      "metadata": {
        "id": "nej02gxiwUcV"
      }
    },
    {
      "cell_type": "code",
      "source": [
        "%%capture\n",
        "yogName = 'Adhi6'\n",
        "selCond = p21YogInfo.yogCond[yogName]\n",
        "df = pd.DataFrame(list(p21.kollection.find(p21YogInfo.yogCond[yogName],p21.selCols)))\n",
        "if (len(df) > 0):\n",
        "    genYogReport(p21YogInfo.yogText[yogName],'Bengal')\n",
        "else:\n",
        "    print('no charts found')"
      ],
      "metadata": {
        "id": "rgDzMAUeEdlT"
      },
      "execution_count": 27,
      "outputs": []
    },
    {
      "cell_type": "markdown",
      "source": [
        "##Chandra Mangal"
      ],
      "metadata": {
        "id": "9jCWpI6PiMnF"
      }
    },
    {
      "cell_type": "code",
      "source": [
        "%%capture\n",
        "yogName = 'ChandraMangal'\n",
        "selCond = p21YogInfo.yogCond[yogName]\n",
        "df = pd.DataFrame(list(p21.kollection.find(p21YogInfo.yogCond[yogName],p21.selCols)))\n",
        "genYogReport(p21YogInfo.yogText[yogName],'Bengal')"
      ],
      "metadata": {
        "id": "tJRgoR6_hkFi"
      },
      "execution_count": 10,
      "outputs": []
    },
    {
      "cell_type": "code",
      "source": [
        "%%capture\n",
        "yogName = 'ChandraMangal2'\n",
        "selCond = p21YogInfo.yogCond[yogName]\n",
        "df = pd.DataFrame(list(p21.kollection.find(p21YogInfo.yogCond[yogName],p21.selCols)))\n",
        "genYogReport(p21YogInfo.yogText[yogName],'Bengal')"
      ],
      "metadata": {
        "id": "BMWECmftTbfd"
      },
      "execution_count": null,
      "outputs": []
    },
    {
      "cell_type": "code",
      "source": [
        "%%capture\n",
        "yogName = 'ChandraMangal1'\n",
        "selCond = p21YogInfo.yogCond[yogName]\n",
        "df = pd.DataFrame(list(p21.kollection.find(p21YogInfo.yogCond[yogName],p21.selCols)))\n",
        "genYogReport(p21YogInfo.yogText[yogName],'Bengal')"
      ],
      "metadata": {
        "id": "XX46sB2JQOsr"
      },
      "execution_count": null,
      "outputs": []
    },
    {
      "cell_type": "markdown",
      "source": [
        "##Yogs based on the Moon"
      ],
      "metadata": {
        "id": "g2kNz2ZTikqe"
      }
    },
    {
      "cell_type": "code",
      "source": [
        "%%capture\n",
        "yogName = 'Kemadruma'\n",
        "selCond = p21YogInfo.yogCond[yogName]\n",
        "df = pd.DataFrame(list(p21.kollection.find(p21YogInfo.yogCond[yogName],p21.selCols)))\n",
        "genYogReport(p21YogInfo.yogText[yogName],'Bengal')"
      ],
      "metadata": {
        "id": "4lTCToQp2aDj"
      },
      "execution_count": null,
      "outputs": []
    },
    {
      "cell_type": "code",
      "source": [
        "%%capture\n",
        "yogName = 'Dhurdhura'\n",
        "selCond = p21YogInfo.yogCond[yogName]\n",
        "df = pd.DataFrame(list(p21.kollection.find(p21YogInfo.yogCond[yogName],p21.selCols)))\n",
        "genYogReport(p21YogInfo.yogText[yogName],'Bengal')"
      ],
      "metadata": {
        "id": "cvkpJ4OTqDRf"
      },
      "execution_count": null,
      "outputs": []
    },
    {
      "cell_type": "code",
      "source": [
        "%%capture\n",
        "yogName = 'Anapha'\n",
        "selCond = p21YogInfo.yogCond[yogName]\n",
        "df = pd.DataFrame(list(p21.kollection.find(p21YogInfo.yogCond[yogName],p21.selCols)))\n",
        "genYogReport(p21YogInfo.yogText[yogName],'Bengal')"
      ],
      "metadata": {
        "id": "mC2jNsWsptbn"
      },
      "execution_count": null,
      "outputs": []
    },
    {
      "cell_type": "code",
      "source": [
        "%%capture\n",
        "yogName = 'Sunapha'\n",
        "selCond = p21YogInfo.yogCond[yogName]\n",
        "df = pd.DataFrame(list(p21.kollection.find(p21YogInfo.yogCond[yogName],p21.selCols)))\n",
        "genYogReport(p21YogInfo.yogText[yogName],'Bengal')"
      ],
      "metadata": {
        "id": "C21O-tuJindG"
      },
      "execution_count": null,
      "outputs": []
    },
    {
      "cell_type": "markdown",
      "source": [
        "## Gajakesari Yog"
      ],
      "metadata": {
        "id": "O0hZh6pqNkEV"
      }
    },
    {
      "cell_type": "code",
      "source": [
        "%%capture\n",
        "#from p21YogInfo import  yogCond, yogText\n",
        "yogName = 'Gajakesari'\n",
        "selCond = p21YogInfo.yogCond[yogName]\n",
        "df = pd.DataFrame(list(p21.kollection.find(p21YogInfo.yogCond[yogName],p21.selCols)))\n",
        "genYogReport(p21YogInfo.yogText[yogName],'Bengal')"
      ],
      "metadata": {
        "id": "NnMox8b-I_yd"
      },
      "execution_count": null,
      "outputs": []
    },
    {
      "cell_type": "code",
      "source": [
        "print(p21.GRashiN)"
      ],
      "metadata": {
        "colab": {
          "base_uri": "https://localhost:8080/"
        },
        "id": "gh2SBkDWi9rb",
        "outputId": "46c33f19-0865-42e1-86c0-4154a8fa97d2"
      },
      "execution_count": null,
      "outputs": [
        {
          "output_type": "stream",
          "name": "stdout",
          "text": [
            "{'La': 9, 'Su': 11, 'Mo': 7, 'Ma': 4, 'Me': 1, 'Ju': 1, 'Ve': 3, 'Sa': 3, 'Ra': 4, 'Ke': 10}\n"
          ]
        }
      ]
    },
    {
      "cell_type": "markdown",
      "source": [
        "## zBudhaditya Yog"
      ],
      "metadata": {
        "id": "HGv0cx5WNddD"
      }
    },
    {
      "cell_type": "code",
      "source": [
        "%%capture\n",
        "from p21YogInfo import  yogCond, yogText\n",
        "yogName = 'BudhAditya'\n",
        "selCond = yogCond[yogName]\n",
        "df = pd.DataFrame(list(kollection.find(yogCond[yogName],p21.selCols)))\n",
        "genYogReport(yogText[yogName],'Bengal')"
      ],
      "metadata": {
        "id": "ie7C1gr3Hrtf"
      },
      "execution_count": null,
      "outputs": []
    },
    {
      "cell_type": "code",
      "source": [
        "%%capture\n",
        "from p21YogInfo import  yogCond, yogText\n",
        "yogName = 'BudhAdityaNR'\n",
        "selCond = yogCond[yogName]\n",
        "df = pd.DataFrame(list(kollection.find(yogCond[yogName],p21.selCols)))\n",
        "genYogReport(yogText[yogName],'Bengal')"
      ],
      "metadata": {
        "id": "dtHg1miOIP4P"
      },
      "execution_count": null,
      "outputs": []
    },
    {
      "cell_type": "markdown",
      "source": [
        "##zRaj Yog"
      ],
      "metadata": {
        "id": "N1Qy3FMxNoln"
      }
    },
    {
      "cell_type": "code",
      "source": [
        "%%capture\n",
        "from p21YogInfo import  yogCond, yogText\n",
        "yogName = 'Rajyog'\n",
        "selCond = yogCond[yogName]\n",
        "df = pd.DataFrame(list(kollection.find(yogCond[yogName],p21.selCols)))\n",
        "genYogReport(yogText[yogName],'Bengal')"
      ],
      "metadata": {
        "id": "YVz70y4yJkd0"
      },
      "execution_count": null,
      "outputs": []
    },
    {
      "cell_type": "markdown",
      "source": [
        "##Chandra Mangal (Mahalakshmi) Yog"
      ],
      "metadata": {
        "id": "fsPgoXqgDkqz"
      }
    },
    {
      "cell_type": "code",
      "source": [
        "%%capture\n",
        "from p21YogInfo import  yogCond, yogText\n",
        "yogName = 'ChandraMangal2'\n",
        "#yogName = 'ChandraMangal1' # this returns no records in our database\n",
        "selCond = yogCond[yogName]\n",
        "df = pd.DataFrame(list(kollection.find(yogCond[yogName],p21.selCols)))\n",
        "genYogReport(yogText[yogName],'Bengal')"
      ],
      "metadata": {
        "id": "HKn0XoraSO-x"
      },
      "execution_count": null,
      "outputs": []
    },
    {
      "cell_type": "markdown",
      "source": [
        "##Dhan Yog"
      ],
      "metadata": {
        "id": "G2XidpUZQttg"
      }
    },
    {
      "cell_type": "code",
      "source": [
        "%%capture\n",
        "from p21YogInfo import  yogCond, yogText\n",
        "yogName = 'DhanYog'\n",
        "selCond = yogCond[yogName]\n",
        "df = pd.DataFrame(list(kollection.find(yogCond[yogName],p21.selCols)))\n",
        "genYogReport(yogText[yogName],'Bengal')"
      ],
      "metadata": {
        "id": "CP_B-ZWxS-9b"
      },
      "execution_count": null,
      "outputs": []
    },
    {
      "cell_type": "markdown",
      "source": [
        "##All Yogs"
      ],
      "metadata": {
        "id": "uBh7E1A7UVJF"
      }
    },
    {
      "cell_type": "code",
      "source": [
        "%%capture\n",
        "from p21YogInfo import  yogCond, yogText\n",
        "#yogList = ['BudhAditya','BudhAdityaNR', 'Gajakesari', 'Rajyog', 'ChandraMangal2','DhanYog']\n",
        "for yogName in list(p21YogInfo.yogCond.keys()):\n",
        "    #selCond = yogCond[yogName]\n",
        "    df = pd.DataFrame(list(kollection.find(yogCond[yogName],p21.selCols)))\n",
        "    #print(yogName, len(df))\n",
        "    if len(df) > 0:\n",
        "        genYogReport(yogText[yogName],'Bengal')\n"
      ],
      "metadata": {
        "id": "6-emIUNIUauP"
      },
      "execution_count": null,
      "outputs": []
    },
    {
      "cell_type": "markdown",
      "source": [
        "#Tests"
      ],
      "metadata": {
        "id": "uNGV6CP4MeXa"
      }
    },
    {
      "cell_type": "code",
      "source": [
        "%%capture\n",
        "yogText = 'Dhan^ yog : Lords 1 with 2 ^ ref : LHAE KN Rao, pg 77'\n",
        "selCond = { 'BLConjunctsBL2.1': {'$in': [2,3]}        }\n",
        "\n",
        "df = pd.DataFrame(list(kollection.find(selCond,p21.selCols)))\n",
        "genYogReport(yogText,'Bengal')"
      ],
      "metadata": {
        "id": "LE170YtUQ5gV"
      },
      "execution_count": null,
      "outputs": []
    },
    {
      "cell_type": "code",
      "source": [
        "%%capture\n",
        "yogText = 'Dummy^ yog : Ma not conjuct with Moon ^ ref : https://www.astroyogi.com/kundli/yog/mahalaxmi'\n",
        "selCond = {\"$and\":\n",
        "                    [\n",
        "                        {'GConjunctsG2.Ma' : {'$in': ['Su']}} ,     # Ma not conjunct Mo \n",
        "                        {'GConjunctsG2.Ma' : {'$nin': ['Mo']}} ,     # Ma not conjunct Mo        \n",
        "                        {'GrahaBhava.Mo' : {'$nin': [1,2,3,4,5,6,7,8,9,10]}}     # Mo not in 3,6,8,12\n",
        "                        \n",
        "                    ]\n",
        "         }\n",
        "\n",
        "df = pd.DataFrame(list(kollection.find(selCond,p21.selCols)))\n",
        "genYogReport(yogText,'Bengal')"
      ],
      "metadata": {
        "id": "t82nCsDuMgPq"
      },
      "execution_count": null,
      "outputs": []
    },
    {
      "cell_type": "code",
      "source": [
        "%%capture\n",
        "yogText = 'Dummy^ yog : Lords 1 with 2,3 ^ ref : LHAE KN Rao, pg 77'\n",
        "selCond = { 'BLConjunctsBL2.1': {'$in': ['2','3']} }\n",
        "\n",
        "df = pd.DataFrame(list(kollection.find(selCond,p21.selCols)))\n",
        "genYogReport(yogText,'Bengal')"
      ],
      "metadata": {
        "id": "IYmOHwEeShG4"
      },
      "execution_count": null,
      "outputs": []
    },
    {
      "cell_type": "code",
      "source": [
        "!rm *.doc"
      ],
      "metadata": {
        "id": "V-DbdlcrQ0jC"
      },
      "execution_count": null,
      "outputs": []
    }
  ]
}