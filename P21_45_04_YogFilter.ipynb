{
  "nbformat": 4,
  "nbformat_minor": 0,
  "metadata": {
    "colab": {
      "name": "P21_45_YogFilter.ipynb",
      "provenance": [],
      "include_colab_link": true
    },
    "kernelspec": {
      "name": "python3",
      "display_name": "Python 3"
    },
    "language_info": {
      "name": "python"
    }
  },
  "cells": [
    {
      "cell_type": "markdown",
      "metadata": {
        "id": "view-in-github",
        "colab_type": "text"
      },
      "source": [
        "<a href=\"https://colab.research.google.com/github/prithwis/parashar21/blob/main/P21_45_04_YogFilter.ipynb\" target=\"_parent\"><img src=\"https://colab.research.google.com/assets/colab-badge.svg\" alt=\"Open In Colab\"/></a>"
      ]
    },
    {
      "cell_type": "markdown",
      "source": [
        "ॐ श्री गणेशाय नमः"
      ],
      "metadata": {
        "id": "OduEjYt78cHy"
      }
    },
    {
      "cell_type": "markdown",
      "source": [
        "![alt text](http://1.bp.blogspot.com/_5QlanosqxiQ/SXLOLTu7S7I/AAAAAAAAAm8/0r6C7lCxsic/S1600-R/p21-header-003.png) <br>\n",
        "\n",
        "\n",
        "---\n",
        "\n",
        "\n",
        "\n",
        "[Prithwis Mukerjee](http://www.yantrajaal.com) ||\n",
        "Website - [Parashar21](https://parashar21.blogspot.com)<br>"
      ],
      "metadata": {
        "id": "rj4jjIHTvPV8"
      }
    },
    {
      "cell_type": "markdown",
      "source": [
        "Copyright (c) 2022, Prithwis Mukerjee All rights reserved.\n",
        "\n",
        "This source code is licensed under the GNU GPL v3.0 -style license found in the LICENSE file in the root directory of this source tree."
      ],
      "metadata": {
        "id": "9OzVEmHm1IaF"
      }
    },
    {
      "cell_type": "markdown",
      "source": [
        "#Retrieving Charts that contain certain Yogs ( or patterns)\n",
        "\n"
      ],
      "metadata": {
        "id": "t1pdyGo_NG52"
      }
    },
    {
      "cell_type": "markdown",
      "source": [
        "For those who may not have access to a live MongoDB instance, we have set up a mechanism where the JSON file that would have been loaded into a hosted MongoDB instance, will be loaded into a locally (that is in the VM) installed MongoDB instance and the queries can be run in a manner that is identical to a live, hosted MongoDB instance. <br>\n",
        "However the option to access a remote, persistent database is also available.<br><br>\n",
        "For full information about this project, please see the [Parashar21](https://prithwis.github.io/parashar21/) github page."
      ],
      "metadata": {
        "id": "yW31spY9ThkV"
      }
    },
    {
      "cell_type": "markdown",
      "source": [
        "#SetUp Environment"
      ],
      "metadata": {
        "id": "l2v2nhRKvwJS"
      }
    },
    {
      "cell_type": "markdown",
      "source": [
        "##Install Software"
      ],
      "metadata": {
        "id": "djqyotVjO5TI"
      }
    },
    {
      "cell_type": "code",
      "source": [
        "!pip -qq install python-docx                #https://python-docx.readthedocs.io/en/latest/\n",
        "!/usr/bin/python3 -m pip -qq install \"pymongo[srv]\" # required to access MongoDB Atlas Database servers\n",
        "#!apt install mongodb > /dev/null            # install local MongoDB server\n",
        "#!service mongodb start                     # start Local MongoDB server instance only if using Local Mongo\n"
      ],
      "metadata": {
        "colab": {
          "base_uri": "https://localhost:8080/"
        },
        "id": "AWKFabc0v3FI",
        "outputId": "0e4d9cf3-7de8-43a4-c3b4-ef77f7930b08"
      },
      "execution_count": 1,
      "outputs": [
        {
          "output_type": "stream",
          "name": "stdout",
          "text": [
            "\u001b[2K     \u001b[90m━━━━━━━━━━━━━━━━━━━━━━━━━━━━━━━━━━━━━━━━\u001b[0m \u001b[32m5.6/5.6 MB\u001b[0m \u001b[31m15.2 MB/s\u001b[0m eta \u001b[36m0:00:00\u001b[0m\n",
            "\u001b[?25h  Preparing metadata (setup.py) ... \u001b[?25l\u001b[?25hdone\n",
            "  Building wheel for python-docx (setup.py) ... \u001b[?25l\u001b[?25hdone\n",
            "\u001b[2K     \u001b[90m━━━━━━━━━━━━━━━━━━━━━━━━━━━━━━━━━━━━━━━\u001b[0m \u001b[32m603.6/603.6 kB\u001b[0m \u001b[31m3.5 MB/s\u001b[0m eta \u001b[36m0:00:00\u001b[0m\n",
            "\u001b[2K     \u001b[90m━━━━━━━━━━━━━━━━━━━━━━━━━━━━━━━━━━━━━━\u001b[0m \u001b[32m300.0/300.0 kB\u001b[0m \u001b[31m14.1 MB/s\u001b[0m eta \u001b[36m0:00:00\u001b[0m\n",
            "\u001b[2K     \u001b[90m━━━━━━━━━━━━━━━━━━━━━━━━━━━━━━━━━━━━━━━━\u001b[0m \u001b[32m74.5/74.5 kB\u001b[0m \u001b[31m7.6 MB/s\u001b[0m eta \u001b[36m0:00:00\u001b[0m\n",
            "\u001b[2K     \u001b[90m━━━━━━━━━━━━━━━━━━━━━━━━━━━━━━━━━━━━━━━━\u001b[0m \u001b[32m58.3/58.3 kB\u001b[0m \u001b[31m5.7 MB/s\u001b[0m eta \u001b[36m0:00:00\u001b[0m\n",
            "\u001b[?25h"
          ]
        }
      ]
    },
    {
      "cell_type": "code",
      "source": [
        "# Patch for MongoDB error issues\n",
        "# --------------------\n",
        "!curl -fsSL https://pgp.mongodb.com/server-6.0.asc | \\\n",
        "   sudo gpg -o /usr/share/keyrings/mongodb-server-6.0.gpg \\\n",
        "   --dearmor\n",
        "# --------------------\n",
        "!echo \"deb [ arch=amd64,arm64 signed-by=/usr/share/keyrings/mongodb-server-6.0.gpg ] https://repo.mongodb.org/apt/ubuntu jammy/mongodb-org/6.0 multiverse\" | sudo tee /etc/apt/sources.list.d/mongodb-org-6.0.list\n",
        "# --------------------\n",
        "!sudo apt-get update > /dev/null\n",
        "# --------------------\n",
        "!sudo apt-get install -y mongodb-org > /dev/null          # error, warning messages may be ignored\n",
        "# --------------------\n",
        "!sudo mkdir -p /var/log/mongodb /var/lib/mongodb\n",
        "# --------------------\n",
        "!sudo chown `whoami` /var/lib/mongodb /var/log/mongodb/"
      ],
      "metadata": {
        "id": "Ap3MM2Qrgm1S",
        "outputId": "92921d4b-4faa-4972-ab71-fc138dad76e7",
        "colab": {
          "base_uri": "https://localhost:8080/"
        }
      },
      "execution_count": 2,
      "outputs": [
        {
          "output_type": "stream",
          "name": "stdout",
          "text": [
            "deb [ arch=amd64,arm64 signed-by=/usr/share/keyrings/mongodb-server-6.0.gpg ] https://repo.mongodb.org/apt/ubuntu jammy/mongodb-org/6.0 multiverse\n",
            "debconf: unable to initialize frontend: Dialog\n",
            "debconf: (No usable dialog-like program is installed, so the dialog based frontend cannot be used. at /usr/share/perl5/Debconf/FrontEnd/Dialog.pm line 78, <> line 9.)\n",
            "debconf: falling back to frontend: Readline\n",
            "debconf: unable to initialize frontend: Readline\n",
            "debconf: (This frontend requires a controlling tty.)\n",
            "debconf: falling back to frontend: Teletype\n",
            "dpkg-preconfigure: unable to re-open stdin: \n"
          ]
        }
      ]
    },
    {
      "cell_type": "code",
      "source": [
        "#!service mongodb start                                      # start Local MongoDB server instance --- does not work anymore\n",
        "!nohup mongod --config /etc/mongod.conf &                    # patch for manual start"
      ],
      "metadata": {
        "id": "wMDrgrPlg_Ni",
        "outputId": "6656b684-f0ef-4933-d69a-31116056d5bb",
        "colab": {
          "base_uri": "https://localhost:8080/"
        }
      },
      "execution_count": 3,
      "outputs": [
        {
          "output_type": "stream",
          "name": "stdout",
          "text": [
            "nohup: appending output to 'nohup.out'\n"
          ]
        }
      ]
    },
    {
      "cell_type": "markdown",
      "source": [
        "##Install, import prerequisites"
      ],
      "metadata": {
        "id": "Vml3UdnbOAlO"
      }
    },
    {
      "cell_type": "code",
      "source": [
        "#Utility functions\n",
        "from pymongo import MongoClient\n",
        "import pandas as pd\n",
        "import dateutil\n",
        "import json\n",
        "from docx import Document\n",
        "from docx.shared import Inches\n",
        "from docx.enum.text import WD_ALIGN_PARAGRAPH\n",
        "from datetime import datetime\n",
        "from datetime import timedelta\n",
        "import pytz\n",
        "\n",
        "from google.colab import files\n",
        "\n",
        "#import matplotlib.pyplot as plt\n",
        "#import math\n"
      ],
      "metadata": {
        "id": "tsCga6c8pLvM"
      },
      "execution_count": 4,
      "outputs": []
    },
    {
      "cell_type": "code",
      "source": [
        "#Load p21 modules from github\n",
        "!wget -O p21.py -q https://raw.githubusercontent.com/prithwis/parashar21/main/utils/p21.py                  # all global variables\n",
        "!wget -O p21utils.py -q https://raw.githubusercontent.com/prithwis/parashar21/main/utils/p21utils.py        # large number of utility functions\n",
        "!wget -O p21utilsR.py -q https://raw.githubusercontent.com/prithwis/parashar21/main/utils/p21utilsR.py\n",
        "!wget -O p21YogInfo.py -q https://raw.githubusercontent.com/prithwis/parashar21/main/utils/p21YogInfo.py\n",
        "# ---------------------------\n",
        "\n",
        "!wget -O Saraswati.png -q https://github.com/prithwis/parashar21/raw/main/images/Saraswati02.png\n",
        "!wget -O p21logo.png -q https://github.com/prithwis/parashar21/raw/main/images/p21logo-002-1.png"
      ],
      "metadata": {
        "id": "uwAT_IbvB0A-"
      },
      "execution_count": 5,
      "outputs": []
    },
    {
      "cell_type": "code",
      "source": [
        "import p21\n",
        "import p21utils\n",
        "import p21utilsR\n",
        "import p21YogInfo\n",
        "# ------------------------------------------------\n",
        "# required for multiple imports of the same module\n",
        "# ------------------------------------------------\n",
        "import importlib\n",
        "importlib.reload(p21)\n",
        "importlib.reload(p21utils)\n",
        "importlib.reload(p21utilsR)\n",
        "importlib.reload(p21YogInfo)"
      ],
      "metadata": {
        "id": "xOlbcnu33PmG",
        "outputId": "e897a6c8-a56b-429d-e850-a53de12b2bab",
        "colab": {
          "base_uri": "https://localhost:8080/"
        }
      },
      "execution_count": 6,
      "outputs": [
        {
          "output_type": "stream",
          "name": "stdout",
          "text": [
            "10 Yogs on record\n",
            "0 : Amala Yog | 10th from Moon OR Lagna should have a benefic\n",
            "1 : RajLakshana Yog | Jupiter, Venus, Mercury, Moon should be in Lagna or they should be in a Kendra\n",
            "2 : Chatussagara Yog | All the Kendras 1/4/7/10 are occupied by planets, Ra, Ke not counted here\n",
            "3 : Adhi678 Yog | Benefics located in 6/7/8th  from Moon\n",
            "4 : Chandra Mangal Yog | Mars Conjoins Moon or  Mars and Moon in Mutual Aspect\n",
            "5 : Kemadruma Yog : No planets on either sides of the Moon\n",
            "6 : Anapha Yog |Planets other than Sun in 12th Place from Moon\n",
            "7 : Sunapha Yog |Planets other than Sun in 2nd Place from Moon\n",
            "8 : Dhurdhura Yog | Planets on both sides of the Moon\n",
            "9 : Gajakesari Yog | Jupiter is in Kendra or 1,4,7,10th from Moon\n",
            "10 Yogs on record\n",
            "0 : Amala Yog | 10th from Moon OR Lagna should have a benefic\n",
            "1 : RajLakshana Yog | Jupiter, Venus, Mercury, Moon should be in Lagna or they should be in a Kendra\n",
            "2 : Chatussagara Yog | All the Kendras 1/4/7/10 are occupied by planets, Ra, Ke not counted here\n",
            "3 : Adhi678 Yog | Benefics located in 6/7/8th  from Moon\n",
            "4 : Chandra Mangal Yog | Mars Conjoins Moon or  Mars and Moon in Mutual Aspect\n",
            "5 : Kemadruma Yog : No planets on either sides of the Moon\n",
            "6 : Anapha Yog |Planets other than Sun in 12th Place from Moon\n",
            "7 : Sunapha Yog |Planets other than Sun in 2nd Place from Moon\n",
            "8 : Dhurdhura Yog | Planets on both sides of the Moon\n",
            "9 : Gajakesari Yog | Jupiter is in Kendra or 1,4,7,10th from Moon\n"
          ]
        },
        {
          "output_type": "execute_result",
          "data": {
            "text/plain": [
              "<module 'p21YogInfo' from '/content/p21YogInfo.py'>"
            ]
          },
          "metadata": {},
          "execution_count": 6
        }
      ]
    },
    {
      "cell_type": "markdown",
      "source": [
        "#Two Options : Local MongoDB or Remote Atlas MongoDB"
      ],
      "metadata": {
        "id": "BIt0gQRDOOuF"
      }
    },
    {
      "cell_type": "markdown",
      "source": [
        "##Option 1 : Local MongoDB\n",
        "This is the preferred option for anyone using application for the first time"
      ],
      "metadata": {
        "id": "-TcDynM39CbV"
      }
    },
    {
      "cell_type": "code",
      "source": [
        "#!service mongodb start                      # start Local MongoDB server instance"
      ],
      "metadata": {
        "id": "IepSP0-X9d2l"
      },
      "execution_count": 7,
      "outputs": []
    },
    {
      "cell_type": "code",
      "source": [
        "mongoURI = \"mongodb://localhost:27017/\"                               # for remote server\n",
        "client = MongoClient(mongoURI)\n",
        "\n",
        "db = client.parashar21\n",
        "#pd.DataFrame(list(db.list_collections()))"
      ],
      "metadata": {
        "id": "vaC9hKYeATn6"
      },
      "execution_count": 8,
      "outputs": []
    },
    {
      "cell_type": "markdown",
      "source": [
        "###Download Horoscope data in JSON and load into MongoDB\n",
        "Download Pre-computed JSON file containing 39662 charts from Rodden Database and import the same into the local MongoDB datbase"
      ],
      "metadata": {
        "id": "3lpsiTbVOW8I"
      }
    },
    {
      "cell_type": "code",
      "source": [
        "# Retrieve JSON file from Github and load in local Mongo\n",
        "#!wget -O peopleData.json -q https://github.com/prithwis/parashar21/raw/main/data/peopleDataTest5.json\n",
        "\n",
        "!gdown  -O peopleData.json 1GIPjxHenAm2EKdtx8T0_RwkzkmCRGEH7  # 39662 documents\n",
        "!mongoimport --db parashar21 --collection khona21 --drop --file peopleData.json"
      ],
      "metadata": {
        "colab": {
          "base_uri": "https://localhost:8080/"
        },
        "id": "upkZsp63BMyU",
        "outputId": "898f6b61-acd3-470f-de57-7de92893808d"
      },
      "execution_count": 9,
      "outputs": [
        {
          "output_type": "stream",
          "name": "stdout",
          "text": [
            "Downloading...\n",
            "From: https://drive.google.com/uc?id=1GIPjxHenAm2EKdtx8T0_RwkzkmCRGEH7\n",
            "To: /content/peopleData.json\n",
            "100% 143M/143M [00:02<00:00, 62.0MB/s]\n",
            "2023-07-25T14:47:27.356+0000\tconnected to: mongodb://localhost/\n",
            "2023-07-25T14:47:27.357+0000\tdropping: parashar21.khona21\n",
            "2023-07-25T14:47:30.362+0000\t[##......................] parashar21.khona21\t11.7MB/137MB (8.6%)\n",
            "2023-07-25T14:47:33.358+0000\t[###.....................] parashar21.khona21\t18.1MB/137MB (13.3%)\n",
            "2023-07-25T14:47:36.357+0000\t[####....................] parashar21.khona21\t27.2MB/137MB (19.9%)\n",
            "2023-07-25T14:47:39.357+0000\t[#######.................] parashar21.khona21\t41.1MB/137MB (30.1%)\n",
            "2023-07-25T14:47:42.357+0000\t[#########...............] parashar21.khona21\t54.9MB/137MB (40.2%)\n",
            "2023-07-25T14:47:45.357+0000\t[############............] parashar21.khona21\t68.8MB/137MB (50.4%)\n",
            "2023-07-25T14:47:48.357+0000\t[#############...........] parashar21.khona21\t75.6MB/137MB (55.3%)\n",
            "2023-07-25T14:47:51.357+0000\t[##############..........] parashar21.khona21\t84.5MB/137MB (61.8%)\n",
            "2023-07-25T14:47:54.357+0000\t[#################.......] parashar21.khona21\t98.7MB/137MB (72.2%)\n",
            "2023-07-25T14:47:57.360+0000\t[###################.....] parashar21.khona21\t113MB/137MB (82.5%)\n",
            "2023-07-25T14:48:00.358+0000\t[######################..] parashar21.khona21\t126MB/137MB (92.3%)\n",
            "2023-07-25T14:48:03.356+0000\t[#######################.] parashar21.khona21\t133MB/137MB (97.3%)\n",
            "2023-07-25T14:48:05.142+0000\t[########################] parashar21.khona21\t137MB/137MB (100.0%)\n",
            "2023-07-25T14:48:05.142+0000\t39662 document(s) imported successfully. 0 document(s) failed to import.\n"
          ]
        }
      ]
    },
    {
      "cell_type": "code",
      "source": [
        "p21.kollection = db.khona21                   # Set the collection to work with\n",
        "\n",
        "totalCharts = p21.kollection.count_documents({})\n",
        "dbSize = db.command( {\"dbStats\": 1, \"scale\": 1024 } )['dataSize']\n",
        "print(totalCharts, ' documents,',round(dbSize,2), \" KB data\")"
      ],
      "metadata": {
        "id": "nEB8OKSS0VKX",
        "outputId": "cb7be142-6fb0-43ba-ad73-73d30d765a7d",
        "colab": {
          "base_uri": "https://localhost:8080/"
        }
      },
      "execution_count": 10,
      "outputs": [
        {
          "output_type": "stream",
          "name": "stdout",
          "text": [
            "39662  documents, 146582.36  KB data\n"
          ]
        }
      ]
    },
    {
      "cell_type": "markdown",
      "source": [
        "##Option 2 : Remote Atlast Database\n",
        "https://account.mongodb.com/account/login <br>\n",
        "Do not attempt to run these cells if you do not have (a) access to a remote hosted MongoDB database and (b) credential files stored in your G-Drive"
      ],
      "metadata": {
        "id": "YsTcMHIu9JU2"
      }
    },
    {
      "cell_type": "code",
      "source": [
        "from google.colab import drive\n",
        "drive.mount('/content/drive')\n",
        "# -------------------------------------------\n",
        "# copy credentials file\n",
        "!cp /content/drive/'My Drive'/Praxis/WebCredentials/Parashar21_Atlas_18Sep22.py credentials.py\n",
        "# -------------------------------------------\n",
        "# MongoDB credentials are stored here\n",
        "#\n",
        "from credentials import parashar21URI\n",
        "# -------------------------------------------\n",
        "mongoURI = parashar21URI                                   # for remote ATlas server\n",
        "\n",
        "client = MongoClient(mongoURI)\n",
        "client.list_database_names() # ['admin', 'local']\n",
        "# ----------------------------------------------"
      ],
      "metadata": {
        "id": "m-HPdgzt9vBX",
        "outputId": "06b84b0a-d65e-44a0-99c0-d34358b2b9f1",
        "colab": {
          "base_uri": "https://localhost:8080/"
        }
      },
      "execution_count": null,
      "outputs": [
        {
          "output_type": "stream",
          "name": "stdout",
          "text": [
            "Mounted at /content/drive\n"
          ]
        },
        {
          "output_type": "execute_result",
          "data": {
            "text/plain": [
              "['Parashar21', 'admin', 'local']"
            ]
          },
          "metadata": {},
          "execution_count": 5
        }
      ]
    },
    {
      "cell_type": "code",
      "source": [
        "# Show existing Collections\n",
        "db = client.Parashar21\n",
        "#pd.DataFrame(list(db.list_collections()))\n",
        "#kollection = db.khona21Test                   # Set the collection to work with\n",
        "p21.kollection = db.khona21                   # Set the collection to work with\n",
        "totalCharts = p21.kollection.count_documents({})\n",
        "print(totalCharts)"
      ],
      "metadata": {
        "id": "-Ida2J2A93hV",
        "outputId": "af6af6cb-8258-49f2-aa65-1d1a72eb93cd",
        "colab": {
          "base_uri": "https://localhost:8080/"
        }
      },
      "execution_count": null,
      "outputs": [
        {
          "output_type": "stream",
          "name": "stdout",
          "text": [
            "39662\n"
          ]
        }
      ]
    },
    {
      "cell_type": "code",
      "source": [
        "#print(p21.kollection)"
      ],
      "metadata": {
        "id": "AGkpNFrh8Fb4",
        "outputId": "fec610d4-4f10-4e8c-b111-fe225b97ac65",
        "colab": {
          "base_uri": "https://localhost:8080/"
        }
      },
      "execution_count": null,
      "outputs": [
        {
          "output_type": "stream",
          "name": "stdout",
          "text": [
            "Collection(Database(MongoClient(host=['cluster0-shard-00-01.yarln.mongodb.net:27017', 'cluster0-shard-00-00.yarln.mongodb.net:27017', 'cluster0-shard-00-02.yarln.mongodb.net:27017'], document_class=dict, tz_aware=False, connect=True, retrywrites=True, w='majority', authsource='admin', replicaset='atlas-djz97v-shard-0', tls=True), 'Parashar21'), 'khona21')\n"
          ]
        }
      ]
    },
    {
      "cell_type": "markdown",
      "source": [
        "#Report Generation Function\n",
        "Please note that the generated report MS Office doc format **will be stored in the Colab VM drive** and needs to be downloaded to local machine for viewing"
      ],
      "metadata": {
        "id": "LMA40MOq1jse"
      }
    },
    {
      "cell_type": "code",
      "source": [
        "def genReport(yText, ChartStyle,Sample = True):\n",
        "\n",
        "    if Sample:\n",
        "        df4Report = df.sample(5)\n",
        "    else:\n",
        "        df4Report = df\n",
        "\n",
        "    selectedCharts = len(df)\n",
        "    printCharts = len(df4Report)\n",
        "    #printStatus = str(printCharts)+' charts of total '+str(totalCharts)+' printed.'\n",
        "    printStatus = str(len(df))+' charts of total '+str(totalCharts)+' selected and '+str(printCharts)+' printed'\n",
        "\n",
        "\n",
        "\n",
        "    now = datetime.now(pytz.timezone('Asia/Kolkata'))\n",
        "    fileName = 'p21Yog_'+yText[0:4]+'_'+ChartStyle[0:1]+'_'+now.strftime(\"%H%M%S\")+'.doc'\n",
        "    curQueryStr = json.dumps(selCond)[0:100]\n",
        "    # ---------------------------------------------------------\n",
        "    p21utilsR.R01_CreateReportDoc(yText,printStatus)                      # Creates MS Word Doc called p21.document\n",
        "    # ----------------------------------------------------------\n",
        "    for chart in range(len(df4Report)):\n",
        "        chartData =df4Report.iloc[chart]\n",
        "        #R51_processChart(chartData)\n",
        "        p21utilsR.R511_parseChartData(chartData)              # Break up database data into useful pieces\n",
        "                                                              # Creates two primary dicts, GLon, GRet\n",
        "        p21utilsR.R30_LocateYogs()\n",
        "\n",
        "        for ctype in ['Rashi','Navamsa']:\n",
        "        #for ctype in ['Rashi']:\n",
        "            p21.ChartType = ctype\n",
        "            p21utils.R11_LocateGrahaInRashi()   # Converts Graha Long to Rashi positions\n",
        "                                                # Rashi Num as well as Rashi name\n",
        "            if ChartStyle == 'Bengal':\n",
        "                p21utilsR.R12B_drawChart_Bengal()    # Draw Chart in Bengal style\n",
        "            if ChartStyle == 'South':\n",
        "                p21utilsR.R12B_drawChart_South()    # Draw Chart in South style\n",
        "            if ChartStyle == 'North':\n",
        "                p21utilsR.R12B_drawChart_North()    # Draw Chart in North style\n",
        "            #\n",
        "\n",
        "\n",
        "        #print(p21.GrahaBhava)\n",
        "        #print(p21.LordBhav)\n",
        "\n",
        "\n",
        "        p21utilsR.R512_FormatPage()\n",
        "        #print('----')\n",
        "    # ------------------------------------\n",
        "    p21.document.save(fileName)\n",
        "    return fileName\n",
        "\n",
        "print('Tested on ',datetime.now(pytz.timezone('Asia/Kolkata')))"
      ],
      "metadata": {
        "id": "nf7XU_5nZ1rq",
        "outputId": "d51428d5-a631-4cea-b7ac-909d172bce24",
        "colab": {
          "base_uri": "https://localhost:8080/"
        }
      },
      "execution_count": 11,
      "outputs": [
        {
          "output_type": "stream",
          "name": "stdout",
          "text": [
            "Tested on  2023-07-25 20:18:43.280603+05:30\n"
          ]
        }
      ]
    },
    {
      "cell_type": "markdown",
      "source": [
        "#Retrieve Charts\n",
        "\n"
      ],
      "metadata": {
        "id": "nej02gxiwUcV"
      }
    },
    {
      "cell_type": "markdown",
      "source": [
        "##Yogs idenfied by BV Raman\n",
        "300 Important Combinations"
      ],
      "metadata": {
        "id": "K6E0ZcNIqhyi"
      }
    },
    {
      "cell_type": "code",
      "source": [
        "%%capture\n",
        "yogName = 'Amala'\n",
        "selCond = p21YogInfo.yogCond[yogName]\n",
        "df = pd.DataFrame(list(p21.kollection.find(p21YogInfo.yogCond[yogName],p21.selCols)))\n",
        "if (len(df) > 0):\n",
        "    ReportFile = genReport(p21YogInfo.yogText[yogName],'Bengal')\n",
        "else:\n",
        "    print('no charts found')"
      ],
      "metadata": {
        "id": "ZeV5tJdqS3Xr"
      },
      "execution_count": 12,
      "outputs": []
    },
    {
      "cell_type": "code",
      "source": [
        "%%capture\n",
        "yogName = 'RajLakshana'\n",
        "selCond = p21YogInfo.yogCond[yogName]\n",
        "df = pd.DataFrame(list(p21.kollection.find(p21YogInfo.yogCond[yogName],p21.selCols)))\n",
        "if (len(df) > 0):\n",
        "    ReportFile = genReport(p21YogInfo.yogText[yogName],'Bengal')\n",
        "else:\n",
        "    print('no charts found')"
      ],
      "metadata": {
        "id": "2NlzelEOpdJ-"
      },
      "execution_count": 13,
      "outputs": []
    },
    {
      "cell_type": "code",
      "source": [
        "%%capture\n",
        "yogName = 'Chatussagara'\n",
        "selCond = p21YogInfo.yogCond[yogName]\n",
        "df = pd.DataFrame(list(p21.kollection.find(p21YogInfo.yogCond[yogName],p21.selCols)))\n",
        "if (len(df) > 0):\n",
        "    ReportFile = genReport(p21YogInfo.yogText[yogName],'Bengal')\n",
        "else:\n",
        "    print('no charts found')"
      ],
      "metadata": {
        "id": "ASQvANGyj2Te"
      },
      "execution_count": null,
      "outputs": []
    },
    {
      "cell_type": "code",
      "source": [
        "%%capture\n",
        "yogName = 'Adhi678'\n",
        "selCond = p21YogInfo.yogCond[yogName]\n",
        "df = pd.DataFrame(list(p21.kollection.find(p21YogInfo.yogCond[yogName],p21.selCols)))\n",
        "if (len(df) > 0):\n",
        "    ReportFile = genReport(p21YogInfo.yogText[yogName],'Bengal')\n",
        "else:\n",
        "    print('no charts found')"
      ],
      "metadata": {
        "id": "rgDzMAUeEdlT"
      },
      "execution_count": null,
      "outputs": []
    },
    {
      "cell_type": "code",
      "source": [
        "%%capture\n",
        "yogName = 'ChandraMangal'\n",
        "selCond = p21YogInfo.yogCond[yogName]\n",
        "df = pd.DataFrame(list(p21.kollection.find(p21YogInfo.yogCond[yogName],p21.selCols)))\n",
        "ReportFile = genReport(p21YogInfo.yogText[yogName],'Bengal')"
      ],
      "metadata": {
        "id": "tJRgoR6_hkFi"
      },
      "execution_count": null,
      "outputs": []
    },
    {
      "cell_type": "code",
      "source": [
        "%%capture\n",
        "yogName = 'ChandraMangal2'\n",
        "selCond = p21YogInfo.yogCond[yogName]\n",
        "df = pd.DataFrame(list(p21.kollection.find(p21YogInfo.yogCond[yogName],p21.selCols)))\n",
        "ReportFile = genReport(p21YogInfo.yogText[yogName],'Bengal')"
      ],
      "metadata": {
        "id": "BMWECmftTbfd"
      },
      "execution_count": null,
      "outputs": []
    },
    {
      "cell_type": "code",
      "source": [
        "%%capture\n",
        "yogName = 'ChandraMangal1'\n",
        "selCond = p21YogInfo.yogCond[yogName]\n",
        "df = pd.DataFrame(list(p21.kollection.find(p21YogInfo.yogCond[yogName],p21.selCols)))\n",
        "ReportFile = genReport(p21YogInfo.yogText[yogName],'Bengal')"
      ],
      "metadata": {
        "id": "XX46sB2JQOsr"
      },
      "execution_count": null,
      "outputs": []
    },
    {
      "cell_type": "code",
      "source": [
        "%%capture\n",
        "yogName = 'Kemadruma'\n",
        "selCond = p21YogInfo.yogCond[yogName]\n",
        "df = pd.DataFrame(list(p21.kollection.find(p21YogInfo.yogCond[yogName],p21.selCols)))\n",
        "ReportFile = genReport(p21YogInfo.yogText[yogName],'Bengal')"
      ],
      "metadata": {
        "id": "4lTCToQp2aDj"
      },
      "execution_count": null,
      "outputs": []
    },
    {
      "cell_type": "code",
      "source": [
        "%%capture\n",
        "yogName = 'Dhurdhura'\n",
        "selCond = p21YogInfo.yogCond[yogName]\n",
        "df = pd.DataFrame(list(p21.kollection.find(p21YogInfo.yogCond[yogName],p21.selCols)))\n",
        "ReportFile = genReport(p21YogInfo.yogText[yogName],'Bengal')"
      ],
      "metadata": {
        "id": "cvkpJ4OTqDRf"
      },
      "execution_count": null,
      "outputs": []
    },
    {
      "cell_type": "code",
      "source": [
        "%%capture\n",
        "yogName = 'Anapha'\n",
        "selCond = p21YogInfo.yogCond[yogName]\n",
        "df = pd.DataFrame(list(p21.kollection.find(p21YogInfo.yogCond[yogName],p21.selCols)))\n",
        "ReportFile = genReport(p21YogInfo.yogText[yogName],'Bengal')"
      ],
      "metadata": {
        "id": "mC2jNsWsptbn"
      },
      "execution_count": null,
      "outputs": []
    },
    {
      "cell_type": "code",
      "source": [
        "%%capture\n",
        "yogName = 'Sunapha'\n",
        "selCond = p21YogInfo.yogCond[yogName]\n",
        "df = pd.DataFrame(list(p21.kollection.find(p21YogInfo.yogCond[yogName],p21.selCols)))\n",
        "ReportFile = genReport(p21YogInfo.yogText[yogName],'Bengal')"
      ],
      "metadata": {
        "id": "C21O-tuJindG"
      },
      "execution_count": null,
      "outputs": []
    },
    {
      "cell_type": "code",
      "source": [
        "%%capture\n",
        "#from p21YogInfo import  yogCond, yogText\n",
        "yogName = 'Gajakesari'\n",
        "selCond = p21YogInfo.yogCond[yogName]\n",
        "df = pd.DataFrame(list(p21.kollection.find(p21YogInfo.yogCond[yogName],p21.selCols)))\n",
        "ReportFile = genReport(p21YogInfo.yogText[yogName],'Bengal')"
      ],
      "metadata": {
        "id": "NnMox8b-I_yd"
      },
      "execution_count": null,
      "outputs": []
    },
    {
      "cell_type": "code",
      "source": [
        "#\n",
        "# Download last Report File\n",
        "#\n",
        "files.download(ReportFile)"
      ],
      "metadata": {
        "id": "k281OF1ANeu_",
        "outputId": "6d7ada1b-58c4-41f0-b992-5ffdf45fc972",
        "colab": {
          "base_uri": "https://localhost:8080/",
          "height": 17
        }
      },
      "execution_count": null,
      "outputs": [
        {
          "output_type": "display_data",
          "data": {
            "text/plain": [
              "<IPython.core.display.Javascript object>"
            ],
            "application/javascript": [
              "\n",
              "    async function download(id, filename, size) {\n",
              "      if (!google.colab.kernel.accessAllowed) {\n",
              "        return;\n",
              "      }\n",
              "      const div = document.createElement('div');\n",
              "      const label = document.createElement('label');\n",
              "      label.textContent = `Downloading \"${filename}\": `;\n",
              "      div.appendChild(label);\n",
              "      const progress = document.createElement('progress');\n",
              "      progress.max = size;\n",
              "      div.appendChild(progress);\n",
              "      document.body.appendChild(div);\n",
              "\n",
              "      const buffers = [];\n",
              "      let downloaded = 0;\n",
              "\n",
              "      const channel = await google.colab.kernel.comms.open(id);\n",
              "      // Send a message to notify the kernel that we're ready.\n",
              "      channel.send({})\n",
              "\n",
              "      for await (const message of channel.messages) {\n",
              "        // Send a message to notify the kernel that we're ready.\n",
              "        channel.send({})\n",
              "        if (message.buffers) {\n",
              "          for (const buffer of message.buffers) {\n",
              "            buffers.push(buffer);\n",
              "            downloaded += buffer.byteLength;\n",
              "            progress.value = downloaded;\n",
              "          }\n",
              "        }\n",
              "      }\n",
              "      const blob = new Blob(buffers, {type: 'application/binary'});\n",
              "      const a = document.createElement('a');\n",
              "      a.href = window.URL.createObjectURL(blob);\n",
              "      a.download = filename;\n",
              "      div.appendChild(a);\n",
              "      a.click();\n",
              "      div.remove();\n",
              "    }\n",
              "  "
            ]
          },
          "metadata": {}
        },
        {
          "output_type": "display_data",
          "data": {
            "text/plain": [
              "<IPython.core.display.Javascript object>"
            ],
            "application/javascript": [
              "download(\"download_061e88d8-9586-433c-ab62-db091f4a7d51\", \"p21Yog_Amal_B_112604.doc\", 280570)"
            ]
          },
          "metadata": {}
        }
      ]
    },
    {
      "cell_type": "markdown",
      "source": [
        "##Random Test Patterns\n",
        "These were initially used in the **P21_45_02_Pull_Print** program to test the query features of the MongoDB query language and have little astrological significance"
      ],
      "metadata": {
        "id": "_b5l0OVVUaUK"
      }
    },
    {
      "cell_type": "code",
      "source": [
        "%%capture\n",
        "selCond = {'GAspectedBy2.La': {'$in': ['Sa']}}                      # La aspected by Sa\n",
        "df = pd.DataFrame(list(p21.kollection.find(selCond,p21.selCols)))\n",
        "tag = 'Testing : '+json.dumps(selCond)\n",
        "ReportFile = genReport(tag,'Bengal')"
      ],
      "metadata": {
        "id": "ykGSmxMGVTk8"
      },
      "execution_count": null,
      "outputs": []
    },
    {
      "cell_type": "code",
      "source": [
        "%%capture\n",
        "selCond = {\"$and\":\n",
        "                    [\n",
        "                        {'exaltG.Ju': {'$eq': True}},               # Exalted Jupiter\n",
        "                        {'GAspectedBy2.La' : {'$in': ['Sa']}}       # La aspected by Sa\n",
        "\n",
        "                    ]\n",
        "}\n",
        "\n",
        "df = pd.DataFrame(list(p21.kollection.find(selCond,p21.selCols)))\n",
        "tag = 'Testing : '+json.dumps(selCond)\n",
        "ReportFile = genReport(tag,'Bengal')"
      ],
      "metadata": {
        "id": "f8mjLo6OWVzw"
      },
      "execution_count": null,
      "outputs": []
    },
    {
      "cell_type": "code",
      "source": [
        "%%capture\n",
        "selCond = {\"$and\":\n",
        "                    [\n",
        "                        {'exaltG.Ju': {'$eq': True}},               # Exalted Jupiter\n",
        "                        {'GAspectedBy2.La' : {'$in': ['Sa']}} ,     # La aspected by Sa\n",
        "                        {'GConjunctsG2.Su' : {'$in': ['Me']}}       # Su conjunct Me\n",
        "\n",
        "                    ]\n",
        "}\n",
        "\n",
        "df = pd.DataFrame(list(p21.kollection.find(selCond,p21.selCols)))\n",
        "tag = 'Testing : '+json.dumps(selCond)\n",
        "ReportFile = genReport(tag,'North')"
      ],
      "metadata": {
        "id": "uDD_3r0tXD5K"
      },
      "execution_count": null,
      "outputs": []
    },
    {
      "cell_type": "code",
      "source": [
        "%%capture\n",
        "selCond = {\"$and\":\n",
        "                    [\n",
        "                        {'exaltG.Ju': {'$eq': True}},               # Exalted Jupiter\n",
        "                        {'GAspectedBy2.La' : {'$in': ['Sa']}} ,     # La aspected by Sa\n",
        "                        {'GConjunctsG2.Su' : {'$in': ['Me']}},      # Su conjunct Me\n",
        "                        {'GrahaBhava.Mo' : {'$eq': 1}}              # Mo in First House\n",
        "                    ]\n",
        "}\n",
        "\n",
        "df = pd.DataFrame(list(p21.kollection.find(selCond,p21.selCols)))\n",
        "tag = 'Testing : '+json.dumps(selCond)\n",
        "ReportFile = genReport(tag,'North')"
      ],
      "metadata": {
        "id": "54IBk2_AXPOA"
      },
      "execution_count": null,
      "outputs": []
    },
    {
      "cell_type": "code",
      "source": [
        "%%capture\n",
        "selCond = {\"$and\":\n",
        "                    [\n",
        "                        {'exaltG.Ju': {'$eq': True}},               # Exalted Jupiter\n",
        "                        {'GAspectedBy2.La' : {'$in': ['Sa']}} ,     # La aspected by Sa\n",
        "                        {'GConjunctsG2.Su' : {'$in': ['Me']}},      # Su conjunct Me\n",
        "                        {'GrahaBhava.Mo' : {'$eq': 1}} ,            # Mo in First House\n",
        "                        {'LordBhav.4' : {'$eq': 5}}                 # 4th Lord in 5th House\n",
        "                    ]\n",
        "}\n",
        "df = pd.DataFrame(list(p21.kollection.find(selCond,p21.selCols)))\n",
        "tag = 'Testing : '+json.dumps(selCond)\n",
        "ReportFile = genReport(tag,'Bengal',False)"
      ],
      "metadata": {
        "id": "tiI1JqtaXapJ"
      },
      "execution_count": 14,
      "outputs": []
    },
    {
      "cell_type": "code",
      "source": [
        "#\n",
        "# Download last Report File\n",
        "#\n",
        "files.download(ReportFile)"
      ],
      "metadata": {
        "id": "CWZpFp7mNvzK",
        "outputId": "07aa891e-ec47-49c9-e4ed-c5dd79a5b215",
        "colab": {
          "base_uri": "https://localhost:8080/",
          "height": 17
        }
      },
      "execution_count": null,
      "outputs": [
        {
          "output_type": "display_data",
          "data": {
            "text/plain": [
              "<IPython.core.display.Javascript object>"
            ],
            "application/javascript": [
              "\n",
              "    async function download(id, filename, size) {\n",
              "      if (!google.colab.kernel.accessAllowed) {\n",
              "        return;\n",
              "      }\n",
              "      const div = document.createElement('div');\n",
              "      const label = document.createElement('label');\n",
              "      label.textContent = `Downloading \"${filename}\": `;\n",
              "      div.appendChild(label);\n",
              "      const progress = document.createElement('progress');\n",
              "      progress.max = size;\n",
              "      div.appendChild(progress);\n",
              "      document.body.appendChild(div);\n",
              "\n",
              "      const buffers = [];\n",
              "      let downloaded = 0;\n",
              "\n",
              "      const channel = await google.colab.kernel.comms.open(id);\n",
              "      // Send a message to notify the kernel that we're ready.\n",
              "      channel.send({})\n",
              "\n",
              "      for await (const message of channel.messages) {\n",
              "        // Send a message to notify the kernel that we're ready.\n",
              "        channel.send({})\n",
              "        if (message.buffers) {\n",
              "          for (const buffer of message.buffers) {\n",
              "            buffers.push(buffer);\n",
              "            downloaded += buffer.byteLength;\n",
              "            progress.value = downloaded;\n",
              "          }\n",
              "        }\n",
              "      }\n",
              "      const blob = new Blob(buffers, {type: 'application/binary'});\n",
              "      const a = document.createElement('a');\n",
              "      a.href = window.URL.createObjectURL(blob);\n",
              "      a.download = filename;\n",
              "      div.appendChild(a);\n",
              "      a.click();\n",
              "      div.remove();\n",
              "    }\n",
              "  "
            ]
          },
          "metadata": {}
        },
        {
          "output_type": "display_data",
          "data": {
            "text/plain": [
              "<IPython.core.display.Javascript object>"
            ],
            "application/javascript": [
              "download(\"download_2c41ab9e-4df4-4172-8232-77d91f5f1d8e\", \"p21Yog_Test_B_104339.doc\", 172885)"
            ]
          },
          "metadata": {}
        }
      ]
    },
    {
      "cell_type": "code",
      "source": [
        "#Clean up\n",
        "!rm *.doc"
      ],
      "metadata": {
        "id": "BBi-C5iDODVN"
      },
      "execution_count": null,
      "outputs": []
    },
    {
      "cell_type": "markdown",
      "source": [
        "#Chronobooks <br>\n",
        "![alt text](https://1.bp.blogspot.com/-lTiYBkU2qbU/X1er__fvnkI/AAAAAAAAjtE/GhDR3OEGJr4NG43fZPodrQD5kbxtnKebgCLcBGAsYHQ/s600/Footer2020-600x200.png)<hr>\n",
        "Chronotantra and Chronoyantra are two science fiction novels that explore the collapse of human civilisation on Earth and then its rebirth and reincarnation both on Earth as well as on the distant worlds of Mars, Titan and Enceladus. But is it the human civilisation that is being reborn? Or is it some other sentience that is revealing itself.\n",
        "If you have an interest in AI and found this material useful, you may consider buying these novels, in paperback or kindle, from [http://bit.ly/chronobooks](http://bit.ly/chronobooks)"
      ],
      "metadata": {
        "id": "gXGqTBkcCGIl"
      }
    },
    {
      "cell_type": "markdown",
      "source": [
        "#Old, Left Over stuff"
      ],
      "metadata": {
        "id": "SNp08YePUSdM"
      }
    },
    {
      "cell_type": "code",
      "source": [],
      "metadata": {
        "id": "fN4JYiAaUtma"
      },
      "execution_count": null,
      "outputs": []
    },
    {
      "cell_type": "markdown",
      "source": [
        "## zBudhaditya Yog"
      ],
      "metadata": {
        "id": "HGv0cx5WNddD"
      }
    },
    {
      "cell_type": "code",
      "source": [
        "%%capture\n",
        "from p21YogInfo import  yogCond, yogText\n",
        "yogName = 'BudhAditya'\n",
        "selCond = yogCond[yogName]\n",
        "df = pd.DataFrame(list(kollection.find(yogCond[yogName],p21.selCols)))\n",
        "genReport(yogText[yogName],'Bengal')"
      ],
      "metadata": {
        "id": "ie7C1gr3Hrtf"
      },
      "execution_count": null,
      "outputs": []
    },
    {
      "cell_type": "code",
      "source": [
        "%%capture\n",
        "from p21YogInfo import  yogCond, yogText\n",
        "yogName = 'BudhAdityaNR'\n",
        "selCond = yogCond[yogName]\n",
        "df = pd.DataFrame(list(kollection.find(yogCond[yogName],p21.selCols)))\n",
        "genReport(yogText[yogName],'Bengal')"
      ],
      "metadata": {
        "id": "dtHg1miOIP4P"
      },
      "execution_count": null,
      "outputs": []
    },
    {
      "cell_type": "markdown",
      "source": [
        "##zRaj Yog"
      ],
      "metadata": {
        "id": "N1Qy3FMxNoln"
      }
    },
    {
      "cell_type": "code",
      "source": [
        "%%capture\n",
        "from p21YogInfo import  yogCond, yogText\n",
        "yogName = 'Rajyog'\n",
        "selCond = yogCond[yogName]\n",
        "df = pd.DataFrame(list(kollection.find(yogCond[yogName],p21.selCols)))\n",
        "genReport(yogText[yogName],'Bengal')"
      ],
      "metadata": {
        "id": "YVz70y4yJkd0"
      },
      "execution_count": null,
      "outputs": []
    },
    {
      "cell_type": "markdown",
      "source": [
        "##Chandra Mangal (Mahalakshmi) Yog"
      ],
      "metadata": {
        "id": "fsPgoXqgDkqz"
      }
    },
    {
      "cell_type": "code",
      "source": [
        "%%capture\n",
        "from p21YogInfo import  yogCond, yogText\n",
        "yogName = 'ChandraMangal2'\n",
        "#yogName = 'ChandraMangal1' # this returns no records in our database\n",
        "selCond = yogCond[yogName]\n",
        "df = pd.DataFrame(list(kollection.find(yogCond[yogName],p21.selCols)))\n",
        "genReport(yogText[yogName],'Bengal')"
      ],
      "metadata": {
        "id": "HKn0XoraSO-x"
      },
      "execution_count": null,
      "outputs": []
    },
    {
      "cell_type": "markdown",
      "source": [
        "##Dhan Yog"
      ],
      "metadata": {
        "id": "G2XidpUZQttg"
      }
    },
    {
      "cell_type": "code",
      "source": [
        "%%capture\n",
        "from p21YogInfo import  yogCond, yogText\n",
        "yogName = 'DhanYog'\n",
        "selCond = yogCond[yogName]\n",
        "df = pd.DataFrame(list(kollection.find(yogCond[yogName],p21.selCols)))\n",
        "genReport(yogText[yogName],'Bengal')"
      ],
      "metadata": {
        "id": "CP_B-ZWxS-9b"
      },
      "execution_count": null,
      "outputs": []
    },
    {
      "cell_type": "markdown",
      "source": [
        "##All Yogs"
      ],
      "metadata": {
        "id": "uBh7E1A7UVJF"
      }
    },
    {
      "cell_type": "code",
      "source": [
        "%%capture\n",
        "from p21YogInfo import  yogCond, yogText\n",
        "#yogList = ['BudhAditya','BudhAdityaNR', 'Gajakesari', 'Rajyog', 'ChandraMangal2','DhanYog']\n",
        "for yogName in list(p21YogInfo.yogCond.keys()):\n",
        "    #selCond = yogCond[yogName]\n",
        "    df = pd.DataFrame(list(kollection.find(yogCond[yogName],p21.selCols)))\n",
        "    #print(yogName, len(df))\n",
        "    if len(df) > 0:\n",
        "        genReport(yogText[yogName],'Bengal')\n"
      ],
      "metadata": {
        "id": "6-emIUNIUauP"
      },
      "execution_count": null,
      "outputs": []
    },
    {
      "cell_type": "markdown",
      "source": [
        "##Tests"
      ],
      "metadata": {
        "id": "uNGV6CP4MeXa"
      }
    },
    {
      "cell_type": "code",
      "source": [
        "%%capture\n",
        "yogText = 'Dhan^ yog : Lords 1 with 2 ^ ref : LHAE KN Rao, pg 77'\n",
        "selCond = { 'BLConjunctsBL2.1': {'$in': [2,3]}        }\n",
        "\n",
        "df = pd.DataFrame(list(kollection.find(selCond,p21.selCols)))\n",
        "genReport(yogText,'Bengal')"
      ],
      "metadata": {
        "id": "LE170YtUQ5gV"
      },
      "execution_count": null,
      "outputs": []
    },
    {
      "cell_type": "code",
      "source": [
        "%%capture\n",
        "yogText = 'Dummy^ yog : Ma not conjuct with Moon ^ ref : https://www.astroyogi.com/kundli/yog/mahalaxmi'\n",
        "selCond = {\"$and\":\n",
        "                    [\n",
        "                        {'GConjunctsG2.Ma' : {'$in': ['Su']}} ,     # Ma not conjunct Mo\n",
        "                        {'GConjunctsG2.Ma' : {'$nin': ['Mo']}} ,     # Ma not conjunct Mo\n",
        "                        {'GrahaBhava.Mo' : {'$nin': [1,2,3,4,5,6,7,8,9,10]}}     # Mo not in 3,6,8,12\n",
        "\n",
        "                    ]\n",
        "         }\n",
        "\n",
        "df = pd.DataFrame(list(kollection.find(selCond,p21.selCols)))\n",
        "genReport(yogText,'Bengal')"
      ],
      "metadata": {
        "id": "t82nCsDuMgPq"
      },
      "execution_count": null,
      "outputs": []
    },
    {
      "cell_type": "code",
      "source": [
        "%%capture\n",
        "yogText = 'Dummy^ yog : Lords 1 with 2,3 ^ ref : LHAE KN Rao, pg 77'\n",
        "selCond = { 'BLConjunctsBL2.1': {'$in': ['2','3']} }\n",
        "\n",
        "df = pd.DataFrame(list(kollection.find(selCond,p21.selCols)))\n",
        "genReport(yogText,'Bengal')"
      ],
      "metadata": {
        "id": "IYmOHwEeShG4"
      },
      "execution_count": null,
      "outputs": []
    },
    {
      "cell_type": "code",
      "source": [
        "!rm *.doc"
      ],
      "metadata": {
        "id": "V-DbdlcrQ0jC"
      },
      "execution_count": null,
      "outputs": []
    }
  ]
}