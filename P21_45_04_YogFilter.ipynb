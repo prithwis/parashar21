{
  "nbformat": 4,
  "nbformat_minor": 0,
  "metadata": {
    "colab": {
      "name": "P21_45_YogFilter.ipynb",
      "provenance": [],
      "include_colab_link": true
    },
    "kernelspec": {
      "name": "python3",
      "display_name": "Python 3"
    },
    "language_info": {
      "name": "python"
    }
  },
  "cells": [
    {
      "cell_type": "markdown",
      "metadata": {
        "id": "view-in-github",
        "colab_type": "text"
      },
      "source": [
        "<a href=\"https://colab.research.google.com/github/prithwis/parashar21/blob/main/P21_45_04_YogFilter.ipynb\" target=\"_parent\"><img src=\"https://colab.research.google.com/assets/colab-badge.svg\" alt=\"Open In Colab\"/></a>"
      ]
    },
    {
      "cell_type": "markdown",
      "source": [
        "![alt text](http://1.bp.blogspot.com/_5QlanosqxiQ/SXLOLTu7S7I/AAAAAAAAAm8/0r6C7lCxsic/S1600-R/p21-header-003.png) <br>\n",
        "\n",
        "\n",
        "---\n",
        "\n",
        "\n",
        "\n",
        "[Prithwis Mukerjee](http://www.yantrajaal.com) ||\n",
        "Website - [Parashar21](https://parashar21.blogspot.com)<br>"
      ],
      "metadata": {
        "id": "rj4jjIHTvPV8"
      }
    },
    {
      "cell_type": "markdown",
      "source": [
        "Copyright (c) 2022, Prithwis Mukerjee All rights reserved.\n",
        "\n",
        "This source code is licensed under the GNU GPL v3.0 -style license found in the LICENSE file in the root directory of this source tree."
      ],
      "metadata": {
        "id": "9OzVEmHm1IaF"
      }
    },
    {
      "cell_type": "markdown",
      "source": [
        "#Filtering out charts with specific yogs\n",
        "\n",
        "\n",
        "*   Budhaditya_Yog\n",
        "*   Gajakesari_Yog\n",
        "*   Raj_Yog\n",
        "*   Chandra Mangal Yog\n",
        "*   Dhan Yog\n",
        "\n"
      ],
      "metadata": {
        "id": "t1pdyGo_NG52"
      }
    },
    {
      "cell_type": "markdown",
      "source": [
        "For those who may not have access to a live MongoDB instance, we have set up a mechanism where the JSON file that would have been loaded into a hosted MongoDB instance, will be loaded into a locally (that is in the VM) installed MongoDB instance and the queries can be run in a manner that is identical to a live, hosted MongoDB instance"
      ],
      "metadata": {
        "id": "yW31spY9ThkV"
      }
    },
    {
      "cell_type": "markdown",
      "source": [
        "#SetUp Environment"
      ],
      "metadata": {
        "id": "l2v2nhRKvwJS"
      }
    },
    {
      "cell_type": "markdown",
      "source": [
        "##Install Software"
      ],
      "metadata": {
        "id": "djqyotVjO5TI"
      }
    },
    {
      "cell_type": "code",
      "source": [
        "!pip -qq install python-docx                #https://python-docx.readthedocs.io/en/latest/\n",
        "!apt install mongodb > /dev/null            # install local MongoDB server           \n",
        "!service mongodb start                      # start Local MongoDB server instance\n"
      ],
      "metadata": {
        "colab": {
          "base_uri": "https://localhost:8080/"
        },
        "id": "AWKFabc0v3FI",
        "outputId": "d11fce63-744e-499e-e677-e349f14e086e"
      },
      "execution_count": 1,
      "outputs": [
        {
          "output_type": "stream",
          "name": "stdout",
          "text": [
            "\u001b[K     |████████████████████████████████| 5.6 MB 8.8 MB/s \n",
            "\u001b[?25h  Building wheel for python-docx (setup.py) ... \u001b[?25l\u001b[?25hdone\n",
            "\n",
            "WARNING: apt does not have a stable CLI interface. Use with caution in scripts.\n",
            "\n",
            " * Starting database mongodb\n",
            "   ...done.\n"
          ]
        }
      ]
    },
    {
      "cell_type": "markdown",
      "source": [
        "##Install, import prerequisites"
      ],
      "metadata": {
        "id": "Vml3UdnbOAlO"
      }
    },
    {
      "cell_type": "code",
      "source": [
        "#Utility functions \n",
        "from pymongo import MongoClient\n",
        "import pandas as pd\n",
        "import dateutil\n",
        "import json\n",
        "from docx import Document\n",
        "from docx.shared import Inches\n",
        "from docx.enum.text import WD_ALIGN_PARAGRAPH\n",
        "from datetime import datetime\n",
        "from datetime import timedelta\n",
        "import pytz\n",
        "\n",
        "#import matplotlib.pyplot as plt\n",
        "#import math\n"
      ],
      "metadata": {
        "id": "tsCga6c8pLvM"
      },
      "execution_count": 2,
      "outputs": []
    },
    {
      "cell_type": "code",
      "source": [
        "#Load p21 modules from github\n",
        "!wget -O p21.py -q https://raw.githubusercontent.com/prithwis/parashar21/main/utils/p21.py                  # all global variables\n",
        "!wget -O p21utils.py -q https://raw.githubusercontent.com/prithwis/parashar21/main/utils/p21utils.py        # large number of utility functions\n",
        "!wget -O p21utilsR.py -q https://raw.githubusercontent.com/prithwis/parashar21/main/utils/p21utilsR.py      # retrieval related utilities\n",
        "!wget -O p21YogInfo.py -q https://raw.githubusercontent.com/prithwis/parashar21/main/utils/p21YogInfo.py    # yog data \n",
        "# ---------------------------\n",
        "\n",
        "!wget -O Saraswati.png -q https://github.com/prithwis/parashar21/raw/main/images/Saraswati02.png                 \n",
        "!wget -O p21logo.png -q https://github.com/prithwis/parashar21/raw/main/images/p21logo-002-1.png                  "
      ],
      "metadata": {
        "id": "uwAT_IbvB0A-"
      },
      "execution_count": 56,
      "outputs": []
    },
    {
      "cell_type": "code",
      "source": [
        "#!cat p21utils.py\n",
        "import p21\n",
        "import p21utils\n",
        "import p21utilsR\n",
        "import p21YogInfo\n",
        "# ------------------------------------------------\n",
        "# required for multiple imports of the same module\n",
        "# ------------------------------------------------\n",
        "import importlib\n",
        "importlib.reload(p21)\n",
        "importlib.reload(p21utils)\n",
        "importlib.reload(p21utilsR)\n",
        "importlib.reload(p21YogInfo)"
      ],
      "metadata": {
        "id": "xOlbcnu33PmG",
        "outputId": "b885c163-1b2a-4a75-cccd-91ef5ac746b4",
        "colab": {
          "base_uri": "https://localhost:8080/"
        }
      },
      "execution_count": 57,
      "outputs": [
        {
          "output_type": "stream",
          "name": "stdout",
          "text": [
            "p21utils imported\n",
            "p21utilsR imported\n"
          ]
        },
        {
          "output_type": "execute_result",
          "data": {
            "text/plain": [
              "<module 'p21YogInfo' from '/content/p21YogInfo.py'>"
            ]
          },
          "metadata": {},
          "execution_count": 57
        }
      ]
    },
    {
      "cell_type": "code",
      "source": [
        "#!cat p21YogInfo.py"
      ],
      "metadata": {
        "id": "88UH0wpxruqP"
      },
      "execution_count": 38,
      "outputs": []
    },
    {
      "cell_type": "markdown",
      "source": [
        "##Define MongoDB database in local VM"
      ],
      "metadata": {
        "id": "BIt0gQRDOOuF"
      }
    },
    {
      "cell_type": "code",
      "source": [
        "mongoURI = \"mongodb://localhost:27017/\"                               # for remote server\n",
        "client = MongoClient(mongoURI)\n",
        "\n",
        "db = client.parashar21Local\n",
        "#pd.DataFrame(list(db.list_collections()))"
      ],
      "metadata": {
        "id": "vaC9hKYeATn6"
      },
      "execution_count": 5,
      "outputs": []
    },
    {
      "cell_type": "markdown",
      "source": [
        "##Download Horoscope data in JSON and load into MongoDB"
      ],
      "metadata": {
        "id": "3lpsiTbVOW8I"
      }
    },
    {
      "cell_type": "code",
      "source": [
        "# Retrieve JSON file from Github and load in local Mongo\n",
        "#!wget -O peopleData.json -q https://github.com/prithwis/parashar21/raw/main/data/peopleDataTest5.json\n",
        "\n",
        "#!gdown -O peopleData.json https://drive.google.com/uc?id=1_VBHE7Hyue8t3hdBdLU6lgpnaWhhRVd4  # 39662 documents OLD file\n",
        "!gdown  -O peopleData.json https://drive.google.com/uc?id=1z4JFd-zCaS71dICKIYx46kQGbXPAHq5C  # 39662 documents\n",
        "!mongoimport --db parashar21Local --collection khona21Local --drop --file peopleData.json"
      ],
      "metadata": {
        "colab": {
          "base_uri": "https://localhost:8080/"
        },
        "id": "upkZsp63BMyU",
        "outputId": "437f7bbf-dbfd-49c6-81f2-e86ac1890080"
      },
      "execution_count": 6,
      "outputs": [
        {
          "output_type": "stream",
          "name": "stdout",
          "text": [
            "Downloading...\n",
            "From: https://drive.google.com/uc?id=1z4JFd-zCaS71dICKIYx46kQGbXPAHq5C\n",
            "To: /content/peopleData.json\n",
            "100% 134M/134M [00:01<00:00, 69.4MB/s]\n",
            "2022-09-18T12:20:49.024+0000\tconnected to: localhost\n",
            "2022-09-18T12:20:49.024+0000\tdropping: parashar21Local.khona21Local\n",
            "2022-09-18T12:20:52.025+0000\t[#####...................] parashar21Local.khona21Local\t27.4MB/128MB (21.4%)\n",
            "2022-09-18T12:20:55.023+0000\t[##########..............] parashar21Local.khona21Local\t55.0MB/128MB (42.9%)\n",
            "2022-09-18T12:20:58.026+0000\t[###############.........] parashar21Local.khona21Local\t83.4MB/128MB (65.1%)\n",
            "2022-09-18T12:21:01.030+0000\t[####################....] parashar21Local.khona21Local\t111MB/128MB (86.6%)\n",
            "2022-09-18T12:21:02.920+0000\t[########################] parashar21Local.khona21Local\t128MB/128MB (100.0%)\n",
            "2022-09-18T12:21:02.920+0000\timported 39662 documents\n"
          ]
        }
      ]
    },
    {
      "cell_type": "code",
      "source": [
        "kollection = db.khona21Local                   # Set the collection to work with\n",
        "#kollection = db.khona21                   # Set the collection to work with\n",
        "totalCharts = kollection.count_documents({})\n",
        "dbSize = db.command( {\"dbStats\": 1, \"scale\": 1024 } )['dataSize']\n",
        "print(totalCharts, ' documents,',round(dbSize,2), \" KB data\")"
      ],
      "metadata": {
        "id": "nEB8OKSS0VKX",
        "outputId": "ea53bad4-63ef-421a-987e-b9ed034d0fa3",
        "colab": {
          "base_uri": "https://localhost:8080/"
        }
      },
      "execution_count": 7,
      "outputs": [
        {
          "output_type": "stream",
          "name": "stdout",
          "text": [
            "39662  documents, 142321.85  KB data\n"
          ]
        }
      ]
    },
    {
      "cell_type": "markdown",
      "source": [
        "#Report Generation Function\n",
        "Please note that the generated report MS Office doc format **will be stored in the Colab VM drive** and needs to be downloaded to local machine for viewing"
      ],
      "metadata": {
        "id": "LMA40MOq1jse"
      }
    },
    {
      "cell_type": "code",
      "source": [
        "def genYogReport(yText, ChartStyle,Sample = True):\n",
        "    \n",
        "    if Sample:\n",
        "        df4Report = df.sample(5)\n",
        "    else:\n",
        "        df4Report = df\n",
        "    \n",
        "    selectedCharts = len(df)\n",
        "    printCharts = len(df4Report)\n",
        "    #printStatus = str(printCharts)+' charts of total '+str(totalCharts)+' printed.'\n",
        "    \n",
        "    Txt = yText.split(\"^\")\n",
        "\n",
        "    printTxt0 = Txt[0]\n",
        "    printTxt1 = Txt[1]\n",
        "    printTxt2 = Txt[2] #'ref : https://www.astroyogi.com/kundli/yog'      # this is where the Yog definitions have been taken from \n",
        "    printTxt3 = str(selectedCharts)+' Charts selected from '+str(totalCharts)+' in database; '+str(printCharts)+' charts printed.'\n",
        "    printTxt = printTxt0 + printTxt1 + '\\n' + printTxt2 +'\\n'+ printTxt3\n",
        "\n",
        "    now = datetime.now(pytz.timezone('Asia/Kolkata'))\n",
        "    fileName = 'p21_'+Txt[0]+'_'+ChartStyle+'_'+now.strftime(\"%H%M%S\")+'.doc'\n",
        "    curQueryStr = json.dumps(selCond)[0:100]\n",
        "    # ---------------------------------------------------------\n",
        "    p21utilsR.R01_CreateReportDoc(curQueryStr, printTxt)                      # Creates MS Word Doc called p21.document\n",
        "    # ----------------------------------------------------------\n",
        "    for chart in range(len(df4Report)):\n",
        "        chartData =df4Report.iloc[chart]\n",
        "        #R51_processChart(chartData)\n",
        "        p21utilsR.R511_parseChartData(chartData)              # Break up database data into useful pieces\n",
        "                                            # Creates two primary dicts, GLon, GRet\n",
        "        for ctype in ['Rashi','Navamsa']:\n",
        "        #for ctype in ['Rashi']:\n",
        "            p21.ChartType = ctype\n",
        "            p21utils.R11_LocateGrahaInRashi()   # Converts Graha Long to Rashi positions\n",
        "                                                # Rashi Num as well as Rashi name\n",
        "            if ChartStyle == 'Bengal':\n",
        "                p21utilsR.R12B_drawChart_Bengal()    # Draw Chart in Bengal style\n",
        "            if ChartStyle == 'South':\n",
        "                p21utilsR.R12B_drawChart_South()    # Draw Chart in South style\n",
        "            if ChartStyle == 'North':\n",
        "                p21utilsR.R12B_drawChart_North()    # Draw Chart in North style\n",
        "            #\n",
        "            \n",
        "                                                \n",
        "        #print(p21.GrahaBhava)\n",
        "        #print(p21.LordBhav)\n",
        "\n",
        "        p21.yogsFound = []\n",
        "        for yogName in list(p21YogInfo.yogCond.keys()):                                             # Yog conditions picked up from p21YogInfo.py\n",
        "            objList = list(kollection.find(p21YogInfo.yogCond[yogName],{\"pid.name\" : 1,\"_id\":0}))   # Get names of people whose charts have these Yogs\n",
        "            #print(rawList)\n",
        "            personList = list(map(lambda e:e['pid']['name'],objList))                               # Convert list of json object to list of string\n",
        "            #print(personList)\n",
        "            if p21.pName in personList:\n",
        "                p21.yogsFound.append(yogName)\n",
        "                #print(\"found \", yogName)\n",
        "\n",
        "        p21utilsR.R512_FormatPage()\n",
        "        #print('----')\n",
        "    # ------------------------------------\n",
        "    p21.document.save(fileName)\n",
        "    \n"
      ],
      "metadata": {
        "id": "nf7XU_5nZ1rq"
      },
      "execution_count": 58,
      "outputs": []
    },
    {
      "cell_type": "markdown",
      "source": [
        "#Retrieve Charts \n",
        "Based on selective queries <br>\n",
        "All output messages suppressed <br>\n",
        "Reports will be available as DOC files in the VM drive <br>\n",
        "Please specify style of report, 'Bengal', 'North' or 'South' while calling the report generation routine <br>\n",
        "genSampleReport('Bengal',Sample = False), specifying Sample='False' will stop sampling and print reports for all charts retrieved. Otherwise, by default, only 5 charts, chosen at random will be printed in the DOC file <br>\n",
        "genSampleReport() replaced by genYogReport() with two additional parameters, namely YogName and YogDecription that are printed in the report\n"
      ],
      "metadata": {
        "id": "nej02gxiwUcV"
      }
    },
    {
      "cell_type": "code",
      "source": [],
      "metadata": {
        "id": "nilHI3kQt4M3"
      },
      "execution_count": null,
      "outputs": []
    },
    {
      "cell_type": "markdown",
      "source": [
        "## Gajakesari Yog"
      ],
      "metadata": {
        "id": "O0hZh6pqNkEV"
      }
    },
    {
      "cell_type": "code",
      "source": [
        "%%capture\n",
        "from p21YogInfo import  yogCond, yogText\n",
        "yogName = 'Gajakesari'\n",
        "selCond = yogCond[yogName]\n",
        "df = pd.DataFrame(list(kollection.find(yogCond[yogName],p21.selCols)))\n",
        "genYogReport(yogText[yogName],'Bengal')"
      ],
      "metadata": {
        "id": "NnMox8b-I_yd"
      },
      "execution_count": 59,
      "outputs": []
    },
    {
      "cell_type": "code",
      "source": [
        "print(p21.GRashiN)"
      ],
      "metadata": {
        "id": "gh2SBkDWi9rb",
        "outputId": "46c33f19-0865-42e1-86c0-4154a8fa97d2",
        "colab": {
          "base_uri": "https://localhost:8080/"
        }
      },
      "execution_count": 44,
      "outputs": [
        {
          "output_type": "stream",
          "name": "stdout",
          "text": [
            "{'La': 9, 'Su': 11, 'Mo': 7, 'Ma': 4, 'Me': 1, 'Ju': 1, 'Ve': 3, 'Sa': 3, 'Ra': 4, 'Ke': 10}\n"
          ]
        }
      ]
    },
    {
      "cell_type": "markdown",
      "source": [
        "## Budhaditya Yog"
      ],
      "metadata": {
        "id": "HGv0cx5WNddD"
      }
    },
    {
      "cell_type": "code",
      "source": [
        "%%capture\n",
        "from p21YogInfo import  yogCond, yogText\n",
        "yogName = 'BudhAditya'\n",
        "selCond = yogCond[yogName]\n",
        "df = pd.DataFrame(list(kollection.find(yogCond[yogName],p21.selCols)))\n",
        "genYogReport(yogText[yogName],'Bengal')"
      ],
      "metadata": {
        "id": "ie7C1gr3Hrtf"
      },
      "execution_count": null,
      "outputs": []
    },
    {
      "cell_type": "code",
      "source": [
        "%%capture\n",
        "from p21YogInfo import  yogCond, yogText\n",
        "yogName = 'BudhAdityaNR'\n",
        "selCond = yogCond[yogName]\n",
        "df = pd.DataFrame(list(kollection.find(yogCond[yogName],p21.selCols)))\n",
        "genYogReport(yogText[yogName],'Bengal')"
      ],
      "metadata": {
        "id": "dtHg1miOIP4P"
      },
      "execution_count": null,
      "outputs": []
    },
    {
      "cell_type": "markdown",
      "source": [
        "##Raj Yog"
      ],
      "metadata": {
        "id": "N1Qy3FMxNoln"
      }
    },
    {
      "cell_type": "code",
      "source": [
        "%%capture\n",
        "from p21YogInfo import  yogCond, yogText\n",
        "yogName = 'Rajyog'\n",
        "selCond = yogCond[yogName]\n",
        "df = pd.DataFrame(list(kollection.find(yogCond[yogName],p21.selCols)))\n",
        "genYogReport(yogText[yogName],'Bengal')"
      ],
      "metadata": {
        "id": "YVz70y4yJkd0"
      },
      "execution_count": null,
      "outputs": []
    },
    {
      "cell_type": "markdown",
      "source": [
        "##Chandra Mangal (Mahalakshmi) Yog"
      ],
      "metadata": {
        "id": "fsPgoXqgDkqz"
      }
    },
    {
      "cell_type": "code",
      "source": [
        "%%capture\n",
        "from p21YogInfo import  yogCond, yogText\n",
        "yogName = 'ChandraMangal2'\n",
        "#yogName = 'ChandraMangal1' # this returns no records in our database\n",
        "selCond = yogCond[yogName]\n",
        "df = pd.DataFrame(list(kollection.find(yogCond[yogName],p21.selCols)))\n",
        "genYogReport(yogText[yogName],'Bengal')"
      ],
      "metadata": {
        "id": "HKn0XoraSO-x"
      },
      "execution_count": null,
      "outputs": []
    },
    {
      "cell_type": "markdown",
      "source": [
        "##Dhan Yog"
      ],
      "metadata": {
        "id": "G2XidpUZQttg"
      }
    },
    {
      "cell_type": "code",
      "source": [
        "%%capture\n",
        "from p21YogInfo import  yogCond, yogText\n",
        "yogName = 'DhanYog'\n",
        "selCond = yogCond[yogName]\n",
        "df = pd.DataFrame(list(kollection.find(yogCond[yogName],p21.selCols)))\n",
        "genYogReport(yogText[yogName],'Bengal')"
      ],
      "metadata": {
        "id": "CP_B-ZWxS-9b"
      },
      "execution_count": null,
      "outputs": []
    },
    {
      "cell_type": "markdown",
      "source": [
        "##All Yogs"
      ],
      "metadata": {
        "id": "uBh7E1A7UVJF"
      }
    },
    {
      "cell_type": "code",
      "source": [
        "%%capture\n",
        "from p21YogInfo import  yogCond, yogText\n",
        "#yogList = ['BudhAditya','BudhAdityaNR', 'Gajakesari', 'Rajyog', 'ChandraMangal2','DhanYog']\n",
        "for yogName in list(p21YogInfo.yogCond.keys()):\n",
        "    #selCond = yogCond[yogName]\n",
        "    df = pd.DataFrame(list(kollection.find(yogCond[yogName],p21.selCols)))\n",
        "    #print(yogName, len(df))\n",
        "    if len(df) > 0:\n",
        "        genYogReport(yogText[yogName],'Bengal')\n"
      ],
      "metadata": {
        "id": "6-emIUNIUauP"
      },
      "execution_count": null,
      "outputs": []
    },
    {
      "cell_type": "markdown",
      "source": [
        "#Tests"
      ],
      "metadata": {
        "id": "uNGV6CP4MeXa"
      }
    },
    {
      "cell_type": "code",
      "source": [
        "%%capture\n",
        "yogText = 'Dhan^ yog : Lords 1 with 2 ^ ref : LHAE KN Rao, pg 77'\n",
        "selCond = { 'BLConjunctsBL2.1': {'$in': [2,3]}        }\n",
        "\n",
        "df = pd.DataFrame(list(kollection.find(selCond,p21.selCols)))\n",
        "genYogReport(yogText,'Bengal')"
      ],
      "metadata": {
        "id": "LE170YtUQ5gV"
      },
      "execution_count": null,
      "outputs": []
    },
    {
      "cell_type": "code",
      "source": [
        "%%capture\n",
        "yogText = 'Dummy^ yog : Ma not conjuct with Moon ^ ref : https://www.astroyogi.com/kundli/yog/mahalaxmi'\n",
        "selCond = {\"$and\":\n",
        "                    [\n",
        "                        {'GConjunctsG2.Ma' : {'$in': ['Su']}} ,     # Ma not conjunct Mo \n",
        "                        {'GConjunctsG2.Ma' : {'$nin': ['Mo']}} ,     # Ma not conjunct Mo        \n",
        "                        {'GrahaBhava.Mo' : {'$nin': [1,2,3,4,5,6,7,8,9,10]}}     # Mo not in 3,6,8,12\n",
        "                        \n",
        "                    ]\n",
        "         }\n",
        "\n",
        "df = pd.DataFrame(list(kollection.find(selCond,p21.selCols)))\n",
        "genYogReport(yogText,'Bengal')"
      ],
      "metadata": {
        "id": "t82nCsDuMgPq"
      },
      "execution_count": null,
      "outputs": []
    },
    {
      "cell_type": "code",
      "source": [
        "%%capture\n",
        "yogText = 'Dummy^ yog : Lords 1 with 2,3 ^ ref : LHAE KN Rao, pg 77'\n",
        "selCond = { 'BLConjunctsBL2.1': {'$in': ['2','3']} }\n",
        "\n",
        "df = pd.DataFrame(list(kollection.find(selCond,p21.selCols)))\n",
        "genYogReport(yogText,'Bengal')"
      ],
      "metadata": {
        "id": "IYmOHwEeShG4"
      },
      "execution_count": null,
      "outputs": []
    },
    {
      "cell_type": "code",
      "source": [
        "!rm *.doc"
      ],
      "metadata": {
        "id": "V-DbdlcrQ0jC"
      },
      "execution_count": null,
      "outputs": []
    }
  ]
}