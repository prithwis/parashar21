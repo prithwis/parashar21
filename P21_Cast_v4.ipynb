{
  "nbformat": 4,
  "nbformat_minor": 0,
  "metadata": {
    "colab": {
      "name": "P21_Cast_v4",
      "provenance": [],
      "toc_visible": true,
      "include_colab_link": true
    },
    "kernelspec": {
      "name": "python3",
      "display_name": "Python 3"
    }
  },
  "cells": [
    {
      "cell_type": "markdown",
      "metadata": {
        "id": "view-in-github",
        "colab_type": "text"
      },
      "source": [
        "<a href=\"https://colab.research.google.com/github/prithwis/parashar21/blob/main/P21_Cast_v4.ipynb\" target=\"_parent\"><img src=\"https://colab.research.google.com/assets/colab-badge.svg\" alt=\"Open In Colab\"/></a>"
      ]
    },
    {
      "cell_type": "markdown",
      "metadata": {
        "id": "m3d-QHg6rqr-"
      },
      "source": [
        "![alt text](http://1.bp.blogspot.com/_5QlanosqxiQ/SXLOLTu7S7I/AAAAAAAAAm8/0r6C7lCxsic/S1600-R/p21-header-003.png) <br>\n",
        "\n",
        "\n",
        "---\n",
        "\n",
        "\n",
        "![CC-BY-SA](https://licensebuttons.net/l/by-sa/3.0/88x31.png) ||\n",
        "[Prithwis Mukerjee](http://www.yantrajaal.com) ||\n",
        "Website - [Parashar21](https://parashar21.blogspot.com)<br>"
      ]
    },
    {
      "cell_type": "markdown",
      "source": [
        "#MongoDB version"
      ],
      "metadata": {
        "id": "Q5dCCZlf8nLK"
      }
    },
    {
      "cell_type": "markdown",
      "metadata": {
        "id": "6az36FX6Rpit"
      },
      "source": [
        "#Install Swiss Ephemeris <br>\n",
        "\n",
        "https://pypi.org/project/pyswisseph/  - Python Package Documentation <br>\n",
        "https://www.astro.com/swisseph/swephinfo_e.htm <br>\n",
        "https://www.astro.com/swisseph/swephprg.htm - Programmer Documentation <br>\n",
        "https://pythonhosted.org/pyswisseph/swisseph-module.html"
      ]
    },
    {
      "cell_type": "code",
      "metadata": {
        "id": "THZf8D8fQsXm",
        "colab": {
          "base_uri": "https://localhost:8080/"
        },
        "outputId": "871e2109-b261-44f5-d3bc-a29a859e95c5"
      },
      "source": [
        "#!pip install simple-crypt\n",
        "!pip install python_string_utils\n",
        "!pip install pyswisseph\n",
        "#!pip install pyswisseph==2.10.2.0.dev1"
      ],
      "execution_count": null,
      "outputs": [
        {
          "output_type": "stream",
          "name": "stdout",
          "text": [
            "Collecting python_string_utils\n",
            "  Downloading python_string_utils-1.0.0-py3-none-any.whl (26 kB)\n",
            "Installing collected packages: python-string-utils\n",
            "Successfully installed python-string-utils-1.0.0\n",
            "Requirement already satisfied: pyswisseph in /usr/local/lib/python3.7/dist-packages (2.8.0.post1)\n"
          ]
        }
      ]
    },
    {
      "cell_type": "code",
      "metadata": {
        "id": "INsjq9opScbt",
        "colab": {
          "base_uri": "https://localhost:8080/"
        },
        "outputId": "44799589-6c91-40c7-e9ef-d6c120c55745"
      },
      "source": [
        "!wget http://www.astro.com/ftp/swisseph/ephe/seas_18.se1\n",
        "!wget http://www.astro.com/ftp/swisseph/ephe/semo_18.se1\n",
        "!wget http://www.astro.com/ftp/swisseph/ephe/sepl_18.se1"
      ],
      "execution_count": null,
      "outputs": [
        {
          "output_type": "stream",
          "name": "stdout",
          "text": [
            "--2022-01-08 06:34:22--  http://www.astro.com/ftp/swisseph/ephe/seas_18.se1\n",
            "Resolving www.astro.com (www.astro.com)... 192.53.104.242\n",
            "Connecting to www.astro.com (www.astro.com)|192.53.104.242|:80... connected.\n",
            "HTTP request sent, awaiting response... 200 OK\n",
            "Length: 223002 (218K)\n",
            "Saving to: ‘seas_18.se1’\n",
            "\n",
            "seas_18.se1         100%[===================>] 217.78K   207KB/s    in 1.1s    \n",
            "\n",
            "2022-01-08 06:34:24 (207 KB/s) - ‘seas_18.se1’ saved [223002/223002]\n",
            "\n",
            "--2022-01-08 06:34:24--  http://www.astro.com/ftp/swisseph/ephe/semo_18.se1\n",
            "Resolving www.astro.com (www.astro.com)... 192.53.104.242\n",
            "Connecting to www.astro.com (www.astro.com)|192.53.104.242|:80... connected.\n",
            "HTTP request sent, awaiting response... 200 OK\n",
            "Length: 1304771 (1.2M)\n",
            "Saving to: ‘semo_18.se1’\n",
            "\n",
            "semo_18.se1         100%[===================>]   1.24M   769KB/s    in 1.7s    \n",
            "\n",
            "2022-01-08 06:34:26 (769 KB/s) - ‘semo_18.se1’ saved [1304771/1304771]\n",
            "\n",
            "--2022-01-08 06:34:26--  http://www.astro.com/ftp/swisseph/ephe/sepl_18.se1\n",
            "Resolving www.astro.com (www.astro.com)... 192.53.104.242\n",
            "Connecting to www.astro.com (www.astro.com)|192.53.104.242|:80... connected.\n",
            "HTTP request sent, awaiting response... 200 OK\n",
            "Length: 484055 (473K)\n",
            "Saving to: ‘sepl_18.se1’\n",
            "\n",
            "sepl_18.se1         100%[===================>] 472.71K   360KB/s    in 1.3s    \n",
            "\n",
            "2022-01-08 06:34:28 (360 KB/s) - ‘sepl_18.se1’ saved [484055/484055]\n",
            "\n"
          ]
        }
      ]
    },
    {
      "cell_type": "code",
      "metadata": {
        "id": "AOPxw5_sTEYF"
      },
      "source": [
        "!mkdir ephe\n",
        "!mv *.se1 ephe"
      ],
      "execution_count": null,
      "outputs": []
    },
    {
      "cell_type": "code",
      "metadata": {
        "id": "xBxYFlY_vzqZ",
        "colab": {
          "base_uri": "https://localhost:8080/",
          "height": 35
        },
        "outputId": "1c00a659-fc37-43e0-9992-176416e17c64"
      },
      "source": [
        "import swisseph as swe\n",
        "swe.version"
      ],
      "execution_count": null,
      "outputs": [
        {
          "output_type": "execute_result",
          "data": {
            "application/vnd.google.colaboratory.intrinsic+json": {
              "type": "string"
            },
            "text/plain": [
              "'2.08'"
            ]
          },
          "metadata": {},
          "execution_count": 5
        }
      ]
    },
    {
      "cell_type": "code",
      "metadata": {
        "id": "U29C4FOKY23v"
      },
      "source": [
        "#Constants and Flags necessary for this application are set here\n",
        "#\n",
        "swe.set_ephe_path('/content/ephe') # set path to ephemeris files\n",
        "# Calendar : Julian or Gregorian\n",
        "SE_GREG_CAL = 1\n",
        "gregflag = SE_GREG_CAL\n",
        "#\n",
        "# Ayanamsha type : Lahiri = 1\n",
        "swe.set_sid_mode(1)  # Lahiri Aynamsha\n",
        "#\n",
        "# whether speed will be calculated along with position of planet\n",
        "SEFLG_SPEED = int(256)\n",
        "iflag = SEFLG_SPEED\n",
        "#hsys = P, Placidus\n",
        "#ascii P = 080\n",
        "hsysP =  bytes('P', 'utf-8')"
      ],
      "execution_count": null,
      "outputs": []
    },
    {
      "cell_type": "code",
      "metadata": {
        "id": "sMDwxsFR_KHb"
      },
      "source": [
        "# Subtracts angles (eg Ayanamsha) from Longitudes \n",
        "# Required for conversion from Tropical (Western) to Sidereal (Indian) zodiac\n",
        "def p21Sub (x,y):\n",
        "    retVal = round(x - y,3)\n",
        "    if retVal < 0:\n",
        "        return retVal + 360\n",
        "    else:\n",
        "        return retVal"
      ],
      "execution_count": null,
      "outputs": []
    },
    {
      "cell_type": "markdown",
      "metadata": {
        "id": "uSuVPj3kXcwC"
      },
      "source": [
        "#Personal Data\n"
      ]
    },
    {
      "cell_type": "markdown",
      "metadata": {
        "id": "vV2qkCU9itJ0"
      },
      "source": [
        "## Primary Data Input"
      ]
    },
    {
      "cell_type": "code",
      "metadata": {
        "id": "Oc79wt06HF9Q",
        "colab": {
          "base_uri": "https://localhost:8080/"
        },
        "outputId": "3ef67fc7-b939-4b36-bd69-956af949da8a"
      },
      "source": [
        "pName = 'NDModi'                   # person identifier\n",
        "pBirthLocation = 'Vadnagar, India'   # Place of Birth\n",
        "pInfo = 'Politics, Administrator'  # Additional Details\n",
        "LBDY = 1950                         # Year of Birth, Local Time\n",
        "LBDM = 9                           # Month of Birth, Local Time\n",
        "LBDD = 17                           # Day of Birth, Local Time\n",
        "\n",
        "LBTh = 9                           # Hour of Birth, Local Time, 24 Hour Clock\n",
        "LBTm = 34                           # Minute of Birth, Local Time\n",
        "LBTs = 0                            # Second of Birth, Local Time\n",
        "\n",
        "tZone = 5.5                         # Time Zone Offset. East of Greenwich is +ve\n",
        "\n",
        "pBirthDate = str(LBDY)+'-'+str(LBDM)+'-'+str(LBDD)\n",
        "pBirthTime = str(LBTh)+':'+str(LBTm)\n",
        "\n",
        "print(pName,pBirthDate,pBirthTime, pBirthLocation,tZone)"
      ],
      "execution_count": null,
      "outputs": [
        {
          "output_type": "stream",
          "name": "stdout",
          "text": [
            "NDModi 1950-9-17 9:34 Vadnagar, India 5.5\n"
          ]
        }
      ]
    },
    {
      "cell_type": "markdown",
      "metadata": {
        "id": "12DlyRK8i8ML"
      },
      "source": [
        "## Data Conversions"
      ]
    },
    {
      "cell_type": "code",
      "metadata": {
        "id": "9LIjpr-uVDQk",
        "colab": {
          "base_uri": "https://localhost:8080/"
        },
        "outputId": "92631d60-7805-4ef2-d9bb-9c2e83ba907a"
      },
      "source": [
        "# Date & Time of Birth\n",
        "#Time Zone Conversion\n",
        "UTCdt = swe.utc_time_zone(LBDY,LBDM,LBDD,LBTh,LBTm,LBTs,tZone)\n",
        "print(UTCdt)"
      ],
      "execution_count": null,
      "outputs": [
        {
          "output_type": "stream",
          "name": "stdout",
          "text": [
            "(1950, 9, 17, 4, 3, 59.99999999999915)\n"
          ]
        }
      ]
    },
    {
      "cell_type": "code",
      "metadata": {
        "id": "REht8_5TXuP1",
        "colab": {
          "base_uri": "https://localhost:8080/"
        },
        "outputId": "282582eb-eb24-45b0-907c-7bd07afe760c"
      },
      "source": [
        "# Date & Time of Birth\n",
        "# Convert UTC date to Julian Date\n",
        "JD = swe.utc_to_jd(UTCdt[0],UTCdt[1],UTCdt[2],UTCdt[3],UTCdt[4],0,gregflag) # Second Value = 0\n",
        "print (JD[0], JD[1])\n",
        "# JD[0] is Ephemeris Time\n",
        "# JD[1] is Universal Time \n",
        "natalUT = JD[1]\n",
        "print(natalUT, 'Julian Date of DTofB in Universal Time')"
      ],
      "execution_count": null,
      "outputs": [
        {
          "output_type": "stream",
          "name": "stdout",
          "text": [
            "2433541.6690880447 2433541.66875\n",
            "2433541.66875 Julian Date of DTofB in Universal Time\n"
          ]
        }
      ]
    },
    {
      "cell_type": "code",
      "metadata": {
        "id": "GTanYzSOgOU5",
        "colab": {
          "base_uri": "https://localhost:8080/"
        },
        "outputId": "5e08e9f6-6fe2-42cf-8cc5-77c85975306a"
      },
      "source": [
        "#\n",
        "# Get Lat and Long of Place of Birth\n",
        "# https://pypi.org/project/geopy/\n",
        "#\n",
        "\n",
        "from geopy.geocoders import Nominatim\n",
        "geolocator = Nominatim(user_agent=\"Parashar21\")\n",
        "#location = geolocator.geocode(\"175 5th Avenue NYC\")\n",
        "#location = geolocator.geocode(\"36B Panditiya Road, Kolkata 700029, India\")\n",
        "location = geolocator.geocode(pBirthLocation)\n",
        "print(location.address)\n",
        "\n",
        "print(location.latitude, location.longitude)\n",
        "\n",
        "#print(location.raw)\n",
        "natalLAT = round(location.latitude,2)\n",
        "natalLON = round(location.longitude,2)\n",
        "#natalLAT = 23.78\n",
        "#natalLON = 72.61\n",
        "\n",
        "print (natalLAT, natalLON)\n"
      ],
      "execution_count": null,
      "outputs": [
        {
          "output_type": "stream",
          "name": "stdout",
          "text": [
            "Vadnagar, NH168K, Vadnagar, Vadnagar Taluka, Mahesana District, Gujarat, 384355, India\n",
            "23.7853622 72.6332132\n",
            "23.79 72.63\n"
          ]
        }
      ]
    },
    {
      "cell_type": "markdown",
      "metadata": {
        "id": "eToh8aDmbPE7"
      },
      "source": [
        "#Calculations"
      ]
    },
    {
      "cell_type": "markdown",
      "metadata": {
        "id": "micbRuchjL9S"
      },
      "source": [
        "##Ayanamsha"
      ]
    },
    {
      "cell_type": "code",
      "metadata": {
        "id": "xLXI6tIAbT17",
        "colab": {
          "base_uri": "https://localhost:8080/"
        },
        "outputId": "9a49bbb5-4a4a-49e5-f52e-8acc76461c56"
      },
      "source": [
        "#Ayanamsha\n",
        "ayanamsha = swe.get_ayanamsa(natalUT)\n",
        "print('Lahiri Ayanamsha :', ayanamsha)"
      ],
      "execution_count": null,
      "outputs": [
        {
          "output_type": "stream",
          "name": "stdout",
          "text": [
            "Lahiri Ayanamsha : 23.168596401905525\n"
          ]
        }
      ]
    },
    {
      "cell_type": "markdown",
      "metadata": {
        "id": "HRA2g0W_jTEL"
      },
      "source": [
        "##Position of Planets"
      ]
    },
    {
      "cell_type": "code",
      "metadata": {
        "id": "-IyxzVG8d9_w",
        "colab": {
          "base_uri": "https://localhost:8080/"
        },
        "outputId": "734319df-e2c8-4050-906b-679e231effe1"
      },
      "source": [
        "#Position of Planets\n",
        "#\n",
        "# body 0 = Sun, 1 = Moon, 2=Merc, 3=Ven,4=Mars, 5=Jup,6=Sat,11 = True Node (Rahu)\n",
        "bLon = []\n",
        "bRet = []\n",
        "for body in [0,1,2,3,4,5,6,11]:\n",
        "    pData = swe.calc_ut(natalUT,body,iflag)\n",
        "    bLon.append(pData[0][0])\n",
        "    if pData[0][3] >= 0:\n",
        "        bRet.append('False')\n",
        "    else :\n",
        "        bRet.append('True')\n",
        "for ix in range(len(bLon)) : print(ix, bLon[ix], bRet[ix])"
      ],
      "execution_count": null,
      "outputs": [
        {
          "output_type": "stream",
          "name": "stdout",
          "text": [
            "0 173.70153511513092 False\n",
            "1 241.10801110249824 False\n",
            "2 174.01669591038853 True\n",
            "3 158.78118819325124 False\n",
            "4 234.05744869607858 False\n",
            "5 329.7701270221012 True\n",
            "6 172.81259672693156 False\n",
            "7 358.3791482368918 False\n"
          ]
        }
      ]
    },
    {
      "cell_type": "markdown",
      "metadata": {
        "id": "YWYMQImZjYHD"
      },
      "source": [
        "##House Position and Ascendants"
      ]
    },
    {
      "cell_type": "code",
      "metadata": {
        "id": "FAYRZbK1pJ0k",
        "colab": {
          "base_uri": "https://localhost:8080/"
        },
        "outputId": "fc50ed5d-3b0b-4aed-8eda-ab31af993df5"
      },
      "source": [
        "#House Position and Ascendants\n",
        "P = swe.houses(natalUT,natalLAT,natalLON,hsysP)\n",
        "#P = swe.houses_ex(natalUT,natalLAT,natalLON,hsysP)\n",
        "for ix in range(len(P[0])) : print(ix, P[0][ix])\n",
        "print('--')\n",
        "for ix in range(len(P[1])) : print(ix, P[1][ix])"
      ],
      "execution_count": null,
      "outputs": [
        {
          "output_type": "stream",
          "name": "stdout",
          "text": [
            "0 215.22847918934025\n",
            "1 244.37764727210242\n",
            "2 274.8148082930347\n",
            "3 306.51592675177596\n",
            "4 338.5158508028682\n",
            "5 8.601719585111255\n",
            "6 35.22847918934025\n",
            "7 64.37764727210242\n",
            "8 94.81480829303467\n",
            "9 126.51592675177596\n",
            "10 158.51585080286821\n",
            "11 188.60171958511123\n",
            "--\n",
            "0 215.22847918934025\n",
            "1 126.51592675177596\n",
            "2 128.90482014038182\n",
            "3 106.72452642971348\n",
            "4 221.33751129725653\n",
            "5 229.38846206839727\n",
            "6 201.23094555126573\n",
            "7 49.38846206839728\n"
          ]
        }
      ]
    },
    {
      "cell_type": "markdown",
      "metadata": {
        "id": "vpxcfn3vtUUW"
      },
      "source": [
        "The output generated here matches with the output generated by the Windows program swetest"
      ]
    },
    {
      "cell_type": "markdown",
      "metadata": {
        "id": "VfhBi9SW8bBg"
      },
      "source": [
        "#Creating py21 file"
      ]
    },
    {
      "cell_type": "code",
      "metadata": {
        "id": "DN3Bm5qp8fUv",
        "colab": {
          "base_uri": "https://localhost:8080/"
        },
        "outputId": "a7fbf186-e54b-4db5-babe-ae8d8dfe7efb"
      },
      "source": [
        "L1 = ''\n",
        "L1 = L1 + 'La:'+str(p21Sub(P[1][0],ayanamsha))+','\n",
        "L1 = L1 + 'Su:'+str(p21Sub(bLon[0],ayanamsha))+','\n",
        "L1 = L1 + 'Mo:'+str(p21Sub(bLon[1],ayanamsha))+','\n",
        "L1 = L1 + 'Ma:'+str(p21Sub(bLon[4],ayanamsha))+','\n",
        "L1 = L1 + 'Me:'+str(p21Sub(bLon[2],ayanamsha))+','\n",
        "L1 = L1 + 'Ju:'+str(p21Sub(bLon[5],ayanamsha))+','\n",
        "L1 = L1 + 'Ve:'+str(p21Sub(bLon[3],ayanamsha))+','\n",
        "L1 = L1 + 'Sa:'+str(p21Sub(bLon[6],ayanamsha))+','\n",
        "L1 = L1 + 'Ra:'+str(p21Sub(bLon[7],ayanamsha))+','\n",
        "L1 = L1 + 'Ke:'+str(p21Sub(p21Sub(bLon[7],ayanamsha),180))\n",
        "L1 = L1 + '\\n'\n",
        "print(L1)"
      ],
      "execution_count": null,
      "outputs": [
        {
          "output_type": "stream",
          "name": "stdout",
          "text": [
            "La:192.06,Su:150.533,Mo:217.939,Ma:210.889,Me:150.848,Ju:306.602,Ve:135.613,Sa:149.644,Ra:335.211,Ke:155.211\n",
            "\n"
          ]
        }
      ]
    },
    {
      "cell_type": "code",
      "metadata": {
        "id": "BoaNT2LDFBuR",
        "colab": {
          "base_uri": "https://localhost:8080/"
        },
        "outputId": "19fa2633-2d80-4c49-c78d-d8a7ef8e7bd5"
      },
      "source": [
        "L2 = ''\n",
        "L2 = L2 + 'La:'+'False'+','\n",
        "L2 = L2 + 'Su:'+bRet[0]+','\n",
        "L2 = L2 + 'Mo:'+bRet[1]+','\n",
        "L2 = L2 + 'Ma:'+bRet[4]+','\n",
        "L2 = L2 + 'Me:'+bRet[2]+','\n",
        "L2 = L2 + 'Ju:'+bRet[5]+','\n",
        "L2 = L2 + 'Ve:'+bRet[3]+','\n",
        "L2 = L2 + 'Sa:'+bRet[6]+','\n",
        "L2 = L2 + 'Ra:'+'False'+','\n",
        "L2 = L2 + 'Ke:'+'False'\n",
        "L2 = L2 + '\\n'\n",
        "print(L2)"
      ],
      "execution_count": null,
      "outputs": [
        {
          "output_type": "stream",
          "name": "stdout",
          "text": [
            "La:False,Su:False,Mo:False,Ma:False,Me:True,Ju:True,Ve:False,Sa:False,Ra:False,Ke:False\n",
            "\n"
          ]
        }
      ]
    },
    {
      "cell_type": "code",
      "metadata": {
        "id": "HBTuc4csGOQk",
        "colab": {
          "base_uri": "https://localhost:8080/"
        },
        "outputId": "84da091f-6cf2-4073-a812-eaea137bed25"
      },
      "source": [
        "L3 = pName+';'+pBirthDate+';'+pBirthTime+';'+pBirthLocation\n",
        "print(L3)"
      ],
      "execution_count": null,
      "outputs": [
        {
          "output_type": "stream",
          "name": "stdout",
          "text": [
            "NDModi;1950-9-17;9:34;Vadnagar, India\n"
          ]
        }
      ]
    },
    {
      "cell_type": "code",
      "metadata": {
        "id": "LDTacApvH7Mf"
      },
      "source": [
        "writefile = pName+'.py21'\n",
        "f1 = open(writefile, 'w')\n",
        "f1.write(L1)  # python will convert \\n to os.linesep\n",
        "f1.write(L2)\n",
        "f1.write(L3)\n",
        "f1.close()"
      ],
      "execution_count": null,
      "outputs": []
    },
    {
      "cell_type": "code",
      "metadata": {
        "id": "0L_8vKX9IZHy",
        "colab": {
          "base_uri": "https://localhost:8080/"
        },
        "outputId": "856d2121-66a5-4f16-fb92-8b0e2a6ca1eb"
      },
      "source": [
        "!cat NDModi.py21"
      ],
      "execution_count": null,
      "outputs": [
        {
          "output_type": "stream",
          "name": "stdout",
          "text": [
            "La:192.06,Su:150.533,Mo:217.939,Ma:210.889,Me:150.848,Ju:306.602,Ve:135.613,Sa:149.644,Ra:335.211,Ke:155.211\n",
            "La:False,Su:False,Mo:False,Ma:False,Me:True,Ju:True,Ve:False,Sa:False,Ra:False,Ke:False\n",
            "NDModi;1950-9-17;9:34;Vadnagar, India"
          ]
        }
      ]
    },
    {
      "cell_type": "markdown",
      "source": [
        "#Store in MongoDb\n",
        "\n",
        "\n",
        "\n"
      ],
      "metadata": {
        "id": "KcIdLILqtSnW"
      }
    },
    {
      "cell_type": "code",
      "source": [
        "from pymongo import MongoClient\n",
        "import pandas as pd\n",
        "import dateutil\n",
        "import string_utils"
      ],
      "metadata": {
        "id": "E1QVp8RatY5n"
      },
      "execution_count": null,
      "outputs": []
    },
    {
      "cell_type": "code",
      "source": [
        "!apt install mongodb > /dev/null\n",
        " \n",
        "#Local Server Need Not be started for Remote Operations\n",
        "!service mongodb start"
      ],
      "metadata": {
        "colab": {
          "base_uri": "https://localhost:8080/"
        },
        "id": "nQokPkFetj7b",
        "outputId": "d7d60846-a346-4358-83f6-af0ef1fc6594"
      },
      "execution_count": null,
      "outputs": [
        {
          "output_type": "stream",
          "name": "stdout",
          "text": [
            "\n",
            "WARNING: apt does not have a stable CLI interface. Use with caution in scripts.\n",
            "\n",
            " * Starting database mongodb\n",
            "   ...done.\n"
          ]
        }
      ]
    },
    {
      "cell_type": "code",
      "source": [
        "mongoURI = \"mongodb://localhost:27017/\"\n",
        "client = MongoClient(mongoURI)\n",
        "client.list_database_names() # ['admin', 'local']"
      ],
      "metadata": {
        "colab": {
          "base_uri": "https://localhost:8080/"
        },
        "id": "5HbWNOLstydI",
        "outputId": "d6256d9d-59f4-45a9-bf18-53d1bc775cb7"
      },
      "execution_count": null,
      "outputs": [
        {
          "output_type": "execute_result",
          "data": {
            "text/plain": [
              "['admin', 'local']"
            ]
          },
          "metadata": {},
          "execution_count": 22
        }
      ]
    },
    {
      "cell_type": "code",
      "source": [
        "# Delete a database\n",
        "client.drop_database('P21DB')\n",
        "# Create a new collection. We can create the collection or leave to MongoDB to create it as soon as a document is generated.\n",
        "db = client.P21DB\n",
        "db.create_collection('Charts')       # Optional collection creation"
      ],
      "metadata": {
        "colab": {
          "base_uri": "https://localhost:8080/"
        },
        "id": "iOUByBXKuH9A",
        "outputId": "3f3f4962-ac99-487d-9adb-4f5ea9cc0040"
      },
      "execution_count": null,
      "outputs": [
        {
          "output_type": "execute_result",
          "data": {
            "text/plain": [
              "Collection(Database(MongoClient(host=['localhost:27017'], document_class=dict, tz_aware=False, connect=True), 'P21DB'), 'Charts')"
            ]
          },
          "metadata": {},
          "execution_count": 23
        }
      ]
    },
    {
      "cell_type": "code",
      "source": [
        "# Show Collections. Query returns a Cursor [ ] ,  list it to see the content\n",
        "list (db.list_collections())\n",
        "# empty list '[]' means that there are not collections in database"
      ],
      "metadata": {
        "colab": {
          "base_uri": "https://localhost:8080/"
        },
        "id": "ccSO6wQeu0z2",
        "outputId": "39a63966-c00d-4196-d61e-28aa8c772b73"
      },
      "execution_count": null,
      "outputs": [
        {
          "output_type": "execute_result",
          "data": {
            "text/plain": [
              "[{'idIndex': {'key': {'_id': 1}, 'name': '_id_', 'ns': 'P21DB.Charts', 'v': 2},\n",
              "  'info': {'readOnly': False,\n",
              "   'uuid': UUID('c34922bd-4024-41a4-aa33-949d8e3c49f5')},\n",
              "  'name': 'Charts',\n",
              "  'options': {},\n",
              "  'type': 'collection'}]"
            ]
          },
          "metadata": {},
          "execution_count": 24
        }
      ]
    },
    {
      "cell_type": "code",
      "source": [
        "chart1 = {  'name' : string_utils.shuffle(pName),          # Obfuscating the name with random shuffle                       \n",
        "            'DoB' : pBirthDate,                                        \n",
        "            'ToB' : pBirthTime,                                         \n",
        "            'LoB' : pBirthLocation,\n",
        "            'info': pInfo                                            \n",
        "       }\n",
        "print(chart1)"
      ],
      "metadata": {
        "colab": {
          "base_uri": "https://localhost:8080/"
        },
        "id": "R2VcuX2nvNVu",
        "outputId": "b5437566-6c61-4334-ea28-481198e2238b"
      },
      "execution_count": null,
      "outputs": [
        {
          "output_type": "stream",
          "name": "stdout",
          "text": [
            "{'name': 'MDNdoi', 'DoB': '1950-9-17', 'ToB': '9:34', 'LoB': 'Vadnagar, India', 'info': 'Politics, Administrator'}\n"
          ]
        }
      ]
    },
    {
      "cell_type": "code",
      "source": [
        "kollection = db.Charts                   # Set the collection to work with\n",
        "insert_result = kollection.insert_one(chart1)\n",
        "insert_result.acknowledged    # Confirms that insert is successful"
      ],
      "metadata": {
        "colab": {
          "base_uri": "https://localhost:8080/"
        },
        "id": "hHugIOsxzd4f",
        "outputId": "f72194bb-00d1-42cb-ccf6-da2a2cb957a3"
      },
      "execution_count": null,
      "outputs": [
        {
          "output_type": "execute_result",
          "data": {
            "text/plain": [
              "True"
            ]
          },
          "metadata": {},
          "execution_count": 47
        }
      ]
    },
    {
      "cell_type": "code",
      "source": [
        "c = kollection.find()\n",
        "for crnt in c:\n",
        "    print(crnt)"
      ],
      "metadata": {
        "colab": {
          "base_uri": "https://localhost:8080/"
        },
        "id": "Bu8I7u1Pz5XJ",
        "outputId": "6ec9a281-abfe-4791-8929-b16cba305018"
      },
      "execution_count": null,
      "outputs": [
        {
          "output_type": "stream",
          "name": "stdout",
          "text": [
            "{'_id': ObjectId('61d94b93741fc823a91fef48'), 'name': 'NDModi', 'DoB': '1950-9-17', 'ToB': '9:34', 'LoB': 'Vadnagar, India'}\n",
            "{'_id': ObjectId('61d94bef741fc823a91fef49'), 'name': 'NDModi', 'DoB': '1950-9-17', 'ToB': '9:34', 'LoB': 'Vadnagar, India', 'info': 'Politics, Administrator'}\n",
            "{'_id': ObjectId('61d94dcc741fc823a91fef4a'), 'name': 'DiNdoM', 'DoB': '1950-9-17', 'ToB': '9:34', 'LoB': 'Vadnagar, India', 'info': 'Politics, Administrator'}\n",
            "{'_id': ObjectId('61d94e09741fc823a91fef4b'), 'name': 'MDNdoi', 'DoB': '1950-9-17', 'ToB': '9:34', 'LoB': 'Vadnagar, India', 'info': 'Politics, Administrator'}\n"
          ]
        }
      ]
    },
    {
      "cell_type": "code",
      "metadata": {
        "id": "JMb02YZjTwSn",
        "colab": {
          "base_uri": "https://localhost:8080/"
        },
        "outputId": "9256c7f5-02ed-4abd-de3e-fdc9c76538d6"
      },
      "source": [
        "from google.colab import drive\n",
        "drive.mount('/content/drive')"
      ],
      "execution_count": null,
      "outputs": [
        {
          "output_type": "stream",
          "name": "stdout",
          "text": [
            "Mounted at /content/drive\n"
          ]
        }
      ]
    },
    {
      "cell_type": "code",
      "metadata": {
        "id": "LC90E-vET8ke",
        "colab": {
          "base_uri": "https://localhost:8080/"
        },
        "outputId": "09b2e092-bb4d-4cca-9a9c-6de51a732d15"
      },
      "source": [
        "!ls /content/drive/\"My Drive\"/Prithwis/Parashar21/py21-files"
      ],
      "execution_count": null,
      "outputs": [
        {
          "output_type": "stream",
          "name": "stdout",
          "text": [
            "DaVinci.py21  itAnch.py21  niCha01.py21  wrCal02.py21\n",
            "imCal02.py21  NDModi.py21  pmCal02.py21\n"
          ]
        }
      ]
    },
    {
      "cell_type": "code",
      "metadata": {
        "id": "WahY_TgnUHa4"
      },
      "source": [
        "#!cp *.py21 /content/drive/\"My Drive\"/Personal/Parashar21/datafiles\n",
        "!cp itAnch.py21 /content/drive/\"My Drive\"/Prithwis/Parashar21/py21-files"
      ],
      "execution_count": null,
      "outputs": []
    },
    {
      "cell_type": "markdown",
      "metadata": {
        "id": "QGxOl9rdrvEg"
      },
      "source": [
        "#Chronobooks <br>\n",
        "![alt text](https://1.bp.blogspot.com/-lTiYBkU2qbU/X1er__fvnkI/AAAAAAAAjtE/GhDR3OEGJr4NG43fZPodrQD5kbxtnKebgCLcBGAsYHQ/s600/Footer2020-600x200.png)<hr>\n",
        "Chronotantra and Chronoyantra are two science fiction novels that explore the collapse of human civilisation on Earth and then its rebirth and reincarnation both on Earth as well as on the distant worlds of Mars, Titan and Enceladus. But is it the human civilisation that is being reborn? Or is it some other sentience that is revealing itself. \n",
        "If you have an interest in AI and found this material useful, you may consider buying these novels, in paperback or kindle, from [http://bit.ly/chronobooks](http://bit.ly/chronobooks)"
      ]
    }
  ]
}