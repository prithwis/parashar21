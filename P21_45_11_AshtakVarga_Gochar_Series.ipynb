{
  "nbformat": 4,
  "nbformat_minor": 0,
  "metadata": {
    "colab": {
      "provenance": [],
      "include_colab_link": true
    },
    "kernelspec": {
      "name": "python3",
      "display_name": "Python 3"
    },
    "language_info": {
      "name": "python"
    }
  },
  "cells": [
    {
      "cell_type": "markdown",
      "metadata": {
        "id": "view-in-github",
        "colab_type": "text"
      },
      "source": [
        "<a href=\"https://colab.research.google.com/github/prithwis/parashar21/blob/main/P21_45_11_AshtakVarga_Gochar_Series.ipynb\" target=\"_parent\"><img src=\"https://colab.research.google.com/assets/colab-badge.svg\" alt=\"Open In Colab\"/></a>"
      ]
    },
    {
      "cell_type": "markdown",
      "source": [
        "ॐ श्री गणेशाय नमः"
      ],
      "metadata": {
        "id": "g9K48vn81AI_"
      }
    },
    {
      "cell_type": "markdown",
      "source": [
        "![alt text](http://1.bp.blogspot.com/_5QlanosqxiQ/SXLOLTu7S7I/AAAAAAAAAm8/0r6C7lCxsic/S1600-R/p21-header-003.png) <br>\n",
        "\n",
        "\n",
        "---\n",
        "\n",
        "\n",
        "\n",
        "[Prithwis Mukerjee](http://www.yantrajaal.com) ||\n",
        "Website - [Parashar21](https://parashar21.blogspot.com)<br>"
      ],
      "metadata": {
        "id": "rj4jjIHTvPV8"
      }
    },
    {
      "cell_type": "markdown",
      "source": [
        "Copyright (c) 2022, Prithwis Mukerjee All rights reserved.\n",
        "\n",
        "This source code is licensed under the GNU GPL v3.0 -style license found in the LICENSE file in the root directory of this source tree."
      ],
      "metadata": {
        "id": "9OzVEmHm1IaF"
      }
    },
    {
      "cell_type": "markdown",
      "source": [
        "#Single Chart | Ashtakvarga | Gochar | Time Series"
      ],
      "metadata": {
        "id": "Denaio5qTev0"
      }
    },
    {
      "cell_type": "markdown",
      "source": [
        "##Rationale\n",
        "\n",
        "The core 'engine' of Parashar21 is designed to cast multiple horoscopes using the [Python](https://pypi.org/project/pyswisseph/) version of the [Swiss Ephemeris](https://www.astro.com/swisseph/) software, convert the charts to JSON format and then store the charts in a MongoDB database. This is demonstrated in the notebook [P21_45_10_MultiChart_Analysis](https://github.com/prithwis/parashar21/blob/main/P21_45_10_MultiChart_Analysis.ipynb). <br><br>\n",
        "In this notebook, the focus is an analysis of a single chart, either the Rashi chart or the Navamsa chart along with additional information on Aspects, Conjuncts, Lords, Bhavs, Ashtakvarga points, Dasha and Gochar analysis. <br> <br>\n",
        "While processing a single chart does not need any kind of database engine we found it economical to skip another ground up development and retain the same code base. Moreover, the Mongo query language has been used to filter out horoscopes that meet certain criteria (as in Yogs or patterns). This search and filter operation would have been difficult without the MongoDB query language. Hence the database is retained. <br> <br>\n",
        "For full information about this project, please see the [Parashar21](https://prithwis.github.io/parashar21/) github page.\n"
      ],
      "metadata": {
        "id": "MKVBLfNMnXYE"
      }
    },
    {
      "cell_type": "code",
      "source": [
        "from datetime import datetime\n",
        "import pytz\n",
        "print(\"\\033[1m\"+'ॐ श्री गणेशाय नमः'+\"\\033[0m\")\n",
        "print(datetime.now(pytz.timezone('Asia/Calcutta')))"
      ],
      "metadata": {
        "id": "RyyDc2GP1e9v",
        "outputId": "2f28994e-6be7-4e80-a130-410df1d40bf8",
        "colab": {
          "base_uri": "https://localhost:8080/"
        }
      },
      "execution_count": 1,
      "outputs": [
        {
          "output_type": "stream",
          "name": "stdout",
          "text": [
            "\u001b[1mॐ श्री गणेशाय नमः\u001b[0m\n",
            "2023-08-13 10:50:20.510601+05:30\n"
          ]
        }
      ]
    },
    {
      "cell_type": "markdown",
      "source": [
        "#SetUp Environment"
      ],
      "metadata": {
        "id": "l2v2nhRKvwJS"
      }
    },
    {
      "cell_type": "markdown",
      "source": [
        "##Install Software"
      ],
      "metadata": {
        "id": "djqyotVjO5TI"
      }
    },
    {
      "cell_type": "code",
      "source": [
        "!python --version\n",
        "!lsb_release -a\n",
        "!pip -qq install pyswisseph                                 # https://stackoverflow.com/questions/64277506/pip-install-options-unclear\n",
        "!pip -qq install python-docx                                # https://python-docx.readthedocs.io/en/latest/\n",
        "#!/usr/bin/python3 -m pip install \"pymongo[srv]\"            # Required only if used with Atlas remote servers\n",
        "!pip -qq install pymongo                                    # Required for Mongo client\n",
        "#!apt install mongodb > /dev/null                            # install local MongoDB server      --- this part does not work anymore"
      ],
      "metadata": {
        "colab": {
          "base_uri": "https://localhost:8080/"
        },
        "id": "AWKFabc0v3FI",
        "outputId": "5e5351e1-f127-4c56-96a7-41f51d6ecc67"
      },
      "execution_count": 2,
      "outputs": [
        {
          "output_type": "stream",
          "name": "stdout",
          "text": [
            "Python 3.10.12\n",
            "No LSB modules are available.\n",
            "Distributor ID:\tUbuntu\n",
            "Description:\tUbuntu 22.04.2 LTS\n",
            "Release:\t22.04\n",
            "Codename:\tjammy\n",
            "\u001b[2K     \u001b[90m━━━━━━━━━━━━━━━━━━━━━━━━━━━━━━━━━━━━━━━━\u001b[0m \u001b[32m1.8/1.8 MB\u001b[0m \u001b[31m9.3 MB/s\u001b[0m eta \u001b[36m0:00:00\u001b[0m\n",
            "\u001b[2K     \u001b[90m━━━━━━━━━━━━━━━━━━━━━━━━━━━━━━━━━━━━━━━━\u001b[0m \u001b[32m5.6/5.6 MB\u001b[0m \u001b[31m22.3 MB/s\u001b[0m eta \u001b[36m0:00:00\u001b[0m\n",
            "\u001b[?25h  Preparing metadata (setup.py) ... \u001b[?25l\u001b[?25hdone\n",
            "  Building wheel for python-docx (setup.py) ... \u001b[?25l\u001b[?25hdone\n",
            "\u001b[2K     \u001b[90m━━━━━━━━━━━━━━━━━━━━━━━━━━━━━━━━━━━━━━\u001b[0m \u001b[32m603.6/603.6 kB\u001b[0m \u001b[31m10.7 MB/s\u001b[0m eta \u001b[36m0:00:00\u001b[0m\n",
            "\u001b[2K     \u001b[90m━━━━━━━━━━━━━━━━━━━━━━━━━━━━━━━━━━━━━━\u001b[0m \u001b[32m300.4/300.4 kB\u001b[0m \u001b[31m12.8 MB/s\u001b[0m eta \u001b[36m0:00:00\u001b[0m\n",
            "\u001b[?25h"
          ]
        }
      ]
    },
    {
      "cell_type": "code",
      "source": [
        "#Utility functions\n",
        "from pymongo import MongoClient\n",
        "import pandas as pd\n",
        "import dateutil\n",
        "import json\n",
        "from docx import Document\n",
        "from docx.shared import Inches\n",
        "from docx.enum.text import WD_ALIGN_PARAGRAPH\n",
        "from datetime import datetime\n",
        "from datetime import timedelta\n",
        "import pytz\n",
        "from google.colab import files\n",
        "\n",
        "#import matplotlib.pyplot as plt\n",
        "#import math"
      ],
      "metadata": {
        "id": "NAU1NX1CZsM8"
      },
      "execution_count": 3,
      "outputs": []
    },
    {
      "cell_type": "markdown",
      "source": [
        "### Install local MongoDB\n",
        "https://www.mongodb.com/docs/manual/tutorial/install-mongodb-on-ubuntu/ <br>\n",
        "https://unix.stackexchange.com/questions/715119/system-v-init-service-cant-recongnise-mongod"
      ],
      "metadata": {
        "id": "cDmtkcercNUd"
      }
    },
    {
      "cell_type": "code",
      "source": [
        "!curl -fsSL https://pgp.mongodb.com/server-6.0.asc | \\\n",
        "   sudo gpg -o /usr/share/keyrings/mongodb-server-6.0.gpg \\\n",
        "   --dearmor\n",
        "# --------------------\n",
        "# NOTE we are using Ubuntu 22.04 hence 'jammy'\n",
        "\n",
        "!echo \"deb [ arch=amd64,arm64 signed-by=/usr/share/keyrings/mongodb-server-6.0.gpg ] https://repo.mongodb.org/apt/ubuntu jammy/mongodb-org/6.0 multiverse\" | sudo tee /etc/apt/sources.list.d/mongodb-org-6.0.list\n",
        "# --------------------\n",
        "!sudo apt-get update > /dev/null\n",
        "# --------------------\n",
        "!sudo apt-get install -y mongodb-org > /dev/null          # error, warning messages may be ignored\n",
        "# --------------------\n",
        "!sudo mkdir -p /var/log/mongodb /var/lib/mongodb\n",
        "# --------------------\n",
        "!sudo chown `whoami` /var/lib/mongodb /var/log/mongodb/\n",
        "# -------------------------------------------\n",
        "#!service mongodb start                                      # start Local MongoDB server instance --- does not work anymore\n",
        "!nohup mongod --config /etc/mongod.conf &                    # patch for manual start\n",
        "#!mongod --version\n",
        "# Connect to local MongoDB\n",
        "mongoURI = \"mongodb://localhost:27017/\"                               # for local server\n",
        "client = MongoClient(mongoURI)\n",
        "db = client.parashar21\n",
        "client.list_database_names() # ['admin', 'config', 'local']"
      ],
      "metadata": {
        "colab": {
          "base_uri": "https://localhost:8080/"
        },
        "id": "80mh8SqBcm8I",
        "outputId": "59bea437-f4cb-4437-9df9-57f4d7241348"
      },
      "execution_count": 4,
      "outputs": [
        {
          "output_type": "stream",
          "name": "stdout",
          "text": [
            "deb [ arch=amd64,arm64 signed-by=/usr/share/keyrings/mongodb-server-6.0.gpg ] https://repo.mongodb.org/apt/ubuntu jammy/mongodb-org/6.0 multiverse\n",
            "debconf: unable to initialize frontend: Dialog\n",
            "debconf: (No usable dialog-like program is installed, so the dialog based frontend cannot be used. at /usr/share/perl5/Debconf/FrontEnd/Dialog.pm line 78, <> line 9.)\n",
            "debconf: falling back to frontend: Readline\n",
            "debconf: unable to initialize frontend: Readline\n",
            "debconf: (This frontend requires a controlling tty.)\n",
            "debconf: falling back to frontend: Teletype\n",
            "dpkg-preconfigure: unable to re-open stdin: \n",
            "nohup: appending output to 'nohup.out'\n"
          ]
        },
        {
          "output_type": "execute_result",
          "data": {
            "text/plain": [
              "['admin', 'config', 'local']"
            ]
          },
          "metadata": {},
          "execution_count": 4
        }
      ]
    },
    {
      "cell_type": "markdown",
      "source": [
        "### Install, import local modules"
      ],
      "metadata": {
        "id": "Vml3UdnbOAlO"
      }
    },
    {
      "cell_type": "code",
      "source": [
        "#Load p21 modules from github\n",
        "!wget -O p21.py -q https://raw.githubusercontent.com/prithwis/parashar21/main/utils/p21.py                  # all global variables\n",
        "!wget -O p21utils.py -q https://raw.githubusercontent.com/prithwis/parashar21/main/utils/p21utils.py        # large number of utility functions\n",
        "!wget -O p21utilsR.py -q https://raw.githubusercontent.com/prithwis/parashar21/main/utils/p21utilsR.py      # report writing utility functions\n",
        "!wget -O p21swe.py -q https://raw.githubusercontent.com/prithwis/parashar21/main/utils/p21swe.py            # Swiss Ephemeris functions\n",
        "!wget -O p21YogInfo.py -q https://raw.githubusercontent.com/prithwis/parashar21/main/utils/p21YogInfo.py    # yog data - description and conditions\n",
        "# ---------------------------\n",
        "\n",
        "#!wget -O Saraswati.png -q https://github.com/prithwis/parashar21/raw/main/images/Saraswati02.png\n",
        "#!wget -O p21logo.png -q https://github.com/prithwis/parashar21/raw/main/images/p21logo-002-1.png\n",
        "\n"
      ],
      "metadata": {
        "id": "uwAT_IbvB0A-"
      },
      "execution_count": 5,
      "outputs": []
    },
    {
      "cell_type": "code",
      "source": [
        "import p21\n",
        "import p21utils\n",
        "import p21utilsR\n",
        "import p21swe\n",
        "import p21YogInfo\n",
        "# ------------------------------------------------\n",
        "# required for multiple imports of the same module\n",
        "# ------------------------------------------------\n",
        "import importlib\n",
        "importlib.reload(p21)\n",
        "importlib.reload(p21utils)\n",
        "importlib.reload(p21utilsR)\n",
        "importlib.reload(p21swe)\n",
        "importlib.reload(p21YogInfo)"
      ],
      "metadata": {
        "id": "7Np3o1Nn0zrX",
        "outputId": "65d17338-4cef-4308-a2b2-72be5164d959",
        "colab": {
          "base_uri": "https://localhost:8080/"
        }
      },
      "execution_count": 6,
      "outputs": [
        {
          "output_type": "stream",
          "name": "stdout",
          "text": [
            "10 Yogs on record\n",
            "0 : Amala Yog | 10th from Moon OR Lagna should have a benefic\n",
            "1 : RajLakshana Yog | Jupiter, Venus, Mercury, Moon should be in Lagna or they should be in a Kendra\n",
            "2 : Chatussagara Yog | All the Kendras 1/4/7/10 are occupied by planets, Ra, Ke not counted here\n",
            "3 : Adhi678 Yog | Benefics located in 6/7/8th  from Moon\n",
            "4 : Chandra Mangal Yog | Mars Conjoins Moon or  Mars and Moon in Mutual Aspect\n",
            "5 : Kemadruma Yog : No planets on either sides of the Moon\n",
            "6 : Anapha Yog |Planets other than Sun in 12th Place from Moon\n",
            "7 : Sunapha Yog |Planets other than Sun in 2nd Place from Moon\n",
            "8 : Dhurdhura Yog | Planets on both sides of the Moon\n",
            "9 : Gajakesari Yog | Jupiter is in Kendra or 1,4,7,10th from Moon\n",
            "10 Yogs on record\n",
            "0 : Amala Yog | 10th from Moon OR Lagna should have a benefic\n",
            "1 : RajLakshana Yog | Jupiter, Venus, Mercury, Moon should be in Lagna or they should be in a Kendra\n",
            "2 : Chatussagara Yog | All the Kendras 1/4/7/10 are occupied by planets, Ra, Ke not counted here\n",
            "3 : Adhi678 Yog | Benefics located in 6/7/8th  from Moon\n",
            "4 : Chandra Mangal Yog | Mars Conjoins Moon or  Mars and Moon in Mutual Aspect\n",
            "5 : Kemadruma Yog : No planets on either sides of the Moon\n",
            "6 : Anapha Yog |Planets other than Sun in 12th Place from Moon\n",
            "7 : Sunapha Yog |Planets other than Sun in 2nd Place from Moon\n",
            "8 : Dhurdhura Yog | Planets on both sides of the Moon\n",
            "9 : Gajakesari Yog | Jupiter is in Kendra or 1,4,7,10th from Moon\n"
          ]
        },
        {
          "output_type": "execute_result",
          "data": {
            "text/plain": [
              "<module 'p21YogInfo' from '/content/p21YogInfo.py'>"
            ]
          },
          "metadata": {},
          "execution_count": 6
        }
      ]
    },
    {
      "cell_type": "code",
      "source": [
        "# Guess what is happening here :-)\n",
        "#\n",
        "!wc *.py | grep total |awk '{print $1 \" lines\";}'\n",
        "!sed '/^#/d' *.py | wc |awk '{print $1 \" non-comment lines\";}'"
      ],
      "metadata": {
        "id": "9VHL5rlXx9xy",
        "outputId": "49514dee-336f-42bf-8c23-ddfec404db56",
        "colab": {
          "base_uri": "https://localhost:8080/"
        }
      },
      "execution_count": 7,
      "outputs": [
        {
          "output_type": "stream",
          "name": "stdout",
          "text": [
            "2576 lines\n",
            "2335 non-comment lines\n"
          ]
        }
      ]
    },
    {
      "cell_type": "markdown",
      "source": [
        "### Configure Swiss Ephemeris"
      ],
      "metadata": {
        "id": "bdt1i2F7Z9IK"
      }
    },
    {
      "cell_type": "code",
      "source": [
        "#Download Swiss Ephemeris Files\n",
        "!wget -q http://www.astro.com/ftp/swisseph/ephe/seas_18.se1\n",
        "!wget -q http://www.astro.com/ftp/swisseph/ephe/semo_18.se1\n",
        "!wget -q http://www.astro.com/ftp/swisseph/ephe/sepl_18.se1\n",
        "!mkdir ephe\n",
        "!mv *.se1 ephe\n",
        "#------------------------------\n",
        "# Configure SWE with appropriate parameters\n",
        "#\n",
        "p21swe.C01_configSWE()"
      ],
      "metadata": {
        "id": "kMKlXoDGH8XP"
      },
      "execution_count": 8,
      "outputs": []
    },
    {
      "cell_type": "markdown",
      "source": [
        "#Local Functions"
      ],
      "metadata": {
        "id": "AW0V9j1W1ufz"
      }
    },
    {
      "cell_type": "markdown",
      "source": [
        "## Chart Generation"
      ],
      "metadata": {
        "id": "3L6e0NmdFOsL"
      }
    },
    {
      "cell_type": "code",
      "source": [
        "def genChart(ChartStyle):\n",
        "\n",
        "    chartData = chart.iloc[0]\n",
        "    RepID = chart.iloc[0]['pid']['name']+'_'+p21.AnalysisType[0:3]+'_'+ChartStyle[0:1]\n",
        "    now = datetime.now(pytz.timezone('Asia/Kolkata'))\n",
        "    fileName = 'p21_'+RepID+'_'+now.strftime(\"%H%M%S\")+'.doc'\n",
        "\n",
        "    # ---------------------------------------------------------\n",
        "    p21utilsR.R01_CreateReportDoc(None,None,'SingleChart')        # Creates MS Word Doc called p21.document for Single or MULTIPLE charts\n",
        "    #p21utilsR.R01A_CreateReportDoc(RepID)                        # Creates MS Word Doc called p21.document for SINGLE chart, deprecated\n",
        "    # ----------------------------------------------------------\n",
        "\n",
        "    p21utilsR.R511_parseChartData(chartData)                # Break up database data into useful pieces\n",
        "                                                            # Creates two primary dicts, GLon, GRet\n",
        "    p21utilsR.R30_LocateYogs()\n",
        "\n",
        "    # This is a rather clever hack. During the chart generation, the order in which charts are generated leaves\n",
        "    # the graha longitudes in the order of the last chart generate\n",
        "    # Hence there Ashtakvarga points in the output report will carry the points calculated on the basis of the last chart generate\n",
        "    # and not on the type of analysis that is actually required\n",
        "    #\n",
        "    if p21.AnalysisType == 'Rashi' :\n",
        "        listOfChartTypes = ['Navamsa','Rashi']\n",
        "    elif p21.AnalysisType == 'Navamsa':\n",
        "        listOfChartTypes = ['Rashi','Navamsa']\n",
        "    else:\n",
        "        print('Error, Unknown Analysis Type')\n",
        "\n",
        "\n",
        "    for ctype in listOfChartTypes:\n",
        "        p21.ChartType = ctype\n",
        "        p21utils.R11_LocateGrahaInRashi()   # Converts Graha Long to Rashi positions\n",
        "                                            # Rashi Num as well as Rashi name\n",
        "        if ChartStyle == 'Bengal':\n",
        "            p21utilsR.R12B_drawChart_Bengal()    # Draw Chart in Bengal style\n",
        "        if ChartStyle == 'South':\n",
        "            p21utilsR.R12B_drawChart_South()    # Draw Chart in South style\n",
        "        if ChartStyle == 'North':\n",
        "            p21utilsR.R12B_drawChart_North()    # Draw Chart in North style\n",
        "\n",
        "\n",
        "    p21utilsR.R512_FormatPage('SingleChart')                    # this is where the basic details of the chart are printed out\n",
        "    p21utilsR.R512_FormatPage2A()                                # this is where the Vimsottari Dasha details for SINGLE chart scenario\n",
        "    p21utilsR.R512_FormatPage2B()                                # this is where the AshtakVarga details for SINGLE chart scenario\n",
        "\n",
        "    # ------------------------------------\n",
        "    p21.document.save(fileName)\n",
        "    return fileName\n",
        "\n",
        "print(\"Executed at \", datetime.now(pytz.timezone('Asia/Kolkata')))"
      ],
      "metadata": {
        "id": "nd3Zijjz1sfG",
        "outputId": "9c20c2b3-c4f4-4d7b-fdbc-deff18b6a3bc",
        "colab": {
          "base_uri": "https://localhost:8080/"
        }
      },
      "execution_count": 9,
      "outputs": [
        {
          "output_type": "stream",
          "name": "stdout",
          "text": [
            "Executed at  2023-08-13 10:51:10.790141+05:30\n"
          ]
        }
      ]
    },
    {
      "cell_type": "markdown",
      "source": [
        "## Store and Retrieve Function"
      ],
      "metadata": {
        "id": "YN827fluMSvH"
      }
    },
    {
      "cell_type": "code",
      "source": [
        "def StoreRetrieveChart():\n",
        "    with open('peopleData.json') as json_file:\n",
        "        oneChart = json.load(json_file)\n",
        "\n",
        "    db.drop_collection('khona21')\n",
        "    db.create_collection('khona21')               # Optional collection creation\n",
        "    p21.kollection = db.khona21                   # Set the collection to work with\n",
        "\n",
        "    # Insert the single chart\n",
        "    insert_result = p21.kollection.insert_one(oneChart)\n",
        "    return(pd.DataFrame(list(p21.kollection.find({},p21.selCols))))\n",
        "\n",
        "print(\"Executed at \", datetime.now(pytz.timezone('Asia/Kolkata')))"
      ],
      "metadata": {
        "id": "LM3zvIJMMVPt",
        "outputId": "a5e7e5e3-fd31-4064-afdf-0b6f437620d4",
        "colab": {
          "base_uri": "https://localhost:8080/"
        }
      },
      "execution_count": 10,
      "outputs": [
        {
          "output_type": "stream",
          "name": "stdout",
          "text": [
            "Executed at  2023-08-13 10:51:10.800207+05:30\n"
          ]
        }
      ]
    },
    {
      "cell_type": "markdown",
      "source": [
        "# Natal Chart\n",
        "Data for others can be added by adding an extra line in the cell below. Please follow the same pattern as in the other lines\n"
      ],
      "metadata": {
        "id": "ttRyzy7b9D3t"
      }
    },
    {
      "cell_type": "markdown",
      "source": [
        "## Representative Natal Chart Data"
      ],
      "metadata": {
        "id": "iC5HiRS8HwvN"
      }
    },
    {
      "cell_type": "code",
      "source": [
        "# Sample Data for some people\n",
        "#\n",
        "#%%writefile peopleData.csv\n",
        "#Gender,DoB_Day,DoB_Mon,DoB_Year,DoB_Time,TZ_OffHours,PoB_Lat,PoB_Lon,TZ_Name,TZ_Type,Name,tag1,tag2,tag3,tag4,tag5,tag6\n",
        "#M,17,9,1950,23:11,5.5,23.72,63.36,IST,standard,NDModi,Politician,nil,Administrator,nil,nil,nil\n",
        "#F,10,10,1954,11:00,5.5,13.08,80.27,IST,standard,Rekha,Actor,nil,Dancer,nil,nil,nil\n",
        "#M,15,10,1931,1:15,5.5,9.29,79.31,IST,standard,APJAbdulKalam,Engineer,nil,PublicFigure,nil,nil,nil\n",
        "#F,19,11,1917,23:11,5.5,25.43,81.85,IST,standard,IndiraG,Politician,nil,PublicFigure,nil,nil,nil\n",
        "#M,15,10,1961,23:42,5.5,22.57,88.37,IST,standard,Person1,dummy,nil,dummy,nil,dummy,nil\n",
        "#F,19,12,1965,10:26,5.5,22.57,88.37,IST,standard,Person1,dummy,nil,dummy,nil,dummy,nil\n",
        "#M,9,10,1990,23:09,5.5,22.57,88.37,IST,standard,Person1,dummy,nil,dummy,nil,dummy,nil\n",
        "#F,12,9,1990,0:52,5.5,22.87,88.37,IST,standard,Person1,dummy,nil,dummy,nil,dummy,nil\n",
        "\n",
        "#Read Birth Data from a file\n",
        "#!wget -O peopleData.csv -q https://raw.githubusercontent.com/prithwis/parashar21/main/data/Test5Data.txt # 5 Person Test Data\n",
        "#!cat peopleData.csv"
      ],
      "metadata": {
        "id": "awh7a1KSTZci"
      },
      "execution_count": 11,
      "outputs": []
    },
    {
      "cell_type": "code",
      "source": [
        "#Optional  ----------------------------------------------\n",
        "# Get Lat Long for Place of Birth, in case that is not known\n",
        "# https://stackoverflow.com/questions/69854674/python-generate-lat-long-points-from-address\n",
        "from geopy.geocoders import Nominatim\n",
        "\n",
        "geolocator = Nominatim(user_agent='your_app_name')\n",
        "addresses = [\n",
        "            'Vadnagar, Gujarat, India',\n",
        "            'Kolkata, West Bengal, India',\n",
        "            'Prantik, Bolpur, Birbhum, West Bengal, India',\n",
        "            'Purulia, Purulia, West Bengal,India'\n",
        "]\n",
        "\n",
        "coordinates = []\n",
        "for address in addresses:\n",
        "    location = geolocator.geocode(address)\n",
        "    lat, lon = location.latitude, location.longitude\n",
        "    coordinates.append((lat, lon))\n",
        "\n",
        "print(coordinates)"
      ],
      "metadata": {
        "id": "InTOslscRZ-B",
        "outputId": "194cea18-140a-41c0-a8ab-31b3e593fce7",
        "colab": {
          "base_uri": "https://localhost:8080/"
        }
      },
      "execution_count": 12,
      "outputs": [
        {
          "output_type": "stream",
          "name": "stdout",
          "text": [
            "[(23.7853622, 72.6332132), (22.5726459, 88.3638953), (23.6970143, 87.6863117), (23.3291882, 86.3672378)]\n"
          ]
        }
      ]
    },
    {
      "cell_type": "markdown",
      "source": [
        "## Natal Data Preparation"
      ],
      "metadata": {
        "id": "yOw4fYHv2VSn"
      }
    },
    {
      "cell_type": "code",
      "source": [
        "%%writefile peopleData.csv\n",
        "Gender,DoB_Day,DoB_Mon,DoB_Year,DoB_Time,TZ_OffHours,PoB_Lat,PoB_Lon,TZ_Name,TZ_Type,Name,tag1,tag2,tag3,tag4,tag5,tag6\n",
        "M,15,10,1961,23:42,5.5,22.57,88.37,IST,standard,Person1,dummy,nil,dummy,nil,dummy,nil"
      ],
      "metadata": {
        "colab": {
          "base_uri": "https://localhost:8080/"
        },
        "id": "x7sg8sa11Zpm",
        "outputId": "16d730a1-eeb2-4b06-a5da-29af3d87bf95"
      },
      "execution_count": 13,
      "outputs": [
        {
          "output_type": "stream",
          "name": "stdout",
          "text": [
            "Writing peopleData.csv\n"
          ]
        }
      ]
    },
    {
      "cell_type": "markdown",
      "source": [
        "## Natal Data Analysis\n",
        "type of analsis Rashi / Navamsa to be specified here"
      ],
      "metadata": {
        "id": "kyVdK9uVFfdy"
      }
    },
    {
      "cell_type": "code",
      "source": [
        "#%%time\n",
        "df = pd.read_csv('peopleData.csv')\n",
        "p21.AnalysisType = 'Rashi'                                     # one of ['Rashi','Navamsa']\n",
        "#p21.AnalysisType = 'Navamsa'                                    # one of ['Rashi','Navamsa']\n",
        "p21.ChartType = p21.AnalysisType\n",
        "# ------------------------------------------------------------\n",
        "# Converts date/time info into a detailed horoscope chart\n",
        "# Stores the same in a JSON file, to be inserted into a local MongoDB database\n",
        "#\n",
        "p21swe.C61_Cast2JSON(df)\n",
        "#p21utils.SarvaAshtakVarga()                            # Uncomment for debugging Ashtakvarga point calculation\n",
        "p21.SubMoonLong = p21.GLon['Mo']                        # Preserving Moon Longitude for Gochar\n",
        "p21utils.GetDasha()                                     # Generates Vimsottari Dasha / Antardasha Details"
      ],
      "metadata": {
        "id": "Zrrs_eHOOYpl",
        "outputId": "f508dde3-e6dd-4166-bef3-cb2cd652d000",
        "colab": {
          "base_uri": "https://localhost:8080/"
        }
      },
      "execution_count": 14,
      "outputs": [
        {
          "output_type": "stream",
          "name": "stdout",
          "text": [
            "1 records processed, so far\n",
            "1  records generated and stored in file peopleData.json\n"
          ]
        }
      ]
    },
    {
      "cell_type": "code",
      "source": [
        "!rm *.doc"
      ],
      "metadata": {
        "id": "DAxJ100ZLZej",
        "outputId": "b339bcd0-89d8-4eb4-d731-5984d6302999",
        "colab": {
          "base_uri": "https://localhost:8080/"
        }
      },
      "execution_count": 15,
      "outputs": [
        {
          "output_type": "stream",
          "name": "stdout",
          "text": [
            "rm: cannot remove '*.doc': No such file or directory\n"
          ]
        }
      ]
    },
    {
      "cell_type": "markdown",
      "source": [
        "## Natal Chart Generation"
      ],
      "metadata": {
        "id": "YeybZgev19Cw"
      }
    },
    {
      "cell_type": "code",
      "source": [
        "%%capture\n",
        "\n",
        "#p21.printDasha = True\n",
        "chart = StoreRetrieveChart()\n",
        "ReportFile = genChart('Bengal')\n",
        "\n",
        "# Note : The MS-Word file that is generated is available in the Colab VM Drive\n",
        "# and needs to be downloaded to local laptop / machine for viewing in MS-Word\n",
        "\n",
        "#ReportFile = genChart('South')\n"
      ],
      "metadata": {
        "id": "TjPcGN3XM9Qq"
      },
      "execution_count": 16,
      "outputs": []
    },
    {
      "cell_type": "markdown",
      "source": [
        "#Gochar Chart"
      ],
      "metadata": {
        "id": "y6rgDCdL2eiB"
      }
    },
    {
      "cell_type": "markdown",
      "source": [
        "## Gochar Data Preparation"
      ],
      "metadata": {
        "id": "dkbvsoDnQW74"
      }
    },
    {
      "cell_type": "code",
      "source": [
        "# This cell to be executed ONLY after natal chart has been created, otherwise errors\n",
        "#\n",
        "!sed -n 1p peopleData.csv > peopleData2.csv                                  # Copy the Header data\n",
        "print(p21.gName, p21.SubMoonLong)\n",
        "now = datetime.now(pytz.timezone('Asia/Kolkata'))\n",
        "timeTxt = now.strftime(\"%-d,%-m,%Y,%-H:%-M\")\n",
        "\n",
        "#\n",
        "# for Gochar chart for any other time, other than now()\n",
        "#timeTxt = '31,5,2023,9:16'                # any other time in dd,mm,yyyy,hh:mm format will do\n",
        "#\n",
        "\n",
        "GocharTxt = 'x,'+timeTxt+',5.5,25.43,81.85,IST,standard,'+p21.gName+',nil,nil,nil,nil,nil,nil'    # Using Lat, Long of Calcutta for Gochar\n",
        "print(GocharTxt)\n",
        "with open(\"peopleData2.csv\", 'a') as file1:                                                       # Append Gochar Data\n",
        "    file1.write(GocharTxt)\n"
      ],
      "metadata": {
        "id": "C5m-T-guzPNt",
        "outputId": "2ed39c67-f344-440e-c04c-1d27c774885b",
        "colab": {
          "base_uri": "https://localhost:8080/"
        }
      },
      "execution_count": 17,
      "outputs": [
        {
          "output_type": "stream",
          "name": "stdout",
          "text": [
            "_Gochar 250.52\n",
            "x,13,8,2023,10:51,5.5,25.43,81.85,IST,standard,_Gochar,nil,nil,nil,nil,nil,nil\n"
          ]
        }
      ]
    },
    {
      "cell_type": "markdown",
      "source": [
        "## Gochar Data Analysis"
      ],
      "metadata": {
        "id": "VvkbEsUKFu_c"
      }
    },
    {
      "cell_type": "code",
      "source": [
        "# Load CSV data into Pandas dataframe\n",
        "#\n",
        "df = pd.read_csv('peopleData2.csv')\n",
        "p21.AnalysisType = 'Rashi'                                     # one of ['Rashi','Navamsa']\n",
        "#p21.AnalysisType = 'Navamsa'                                    # one of ['Rashi','Navamsa']\n",
        "\n",
        "p21.ChartType = p21.AnalysisType\n",
        "p21swe.C61_Cast2JSON(df)                                      # For Gochar, the La Long is set to Natal Moon Long\n",
        "#print(p21.GLon['La'],p21.GLon['Mo'])\n",
        "#p21utils.SarvaAshtakVarga()                                     # Uncomment for debugging Ashtakvarga point calculation"
      ],
      "metadata": {
        "id": "dq9Y69ge8k0F",
        "outputId": "ec182e5d-4b48-4e32-9e94-31d449de5b46",
        "colab": {
          "base_uri": "https://localhost:8080/"
        }
      },
      "execution_count": 18,
      "outputs": [
        {
          "output_type": "stream",
          "name": "stdout",
          "text": [
            "La long reset to  250.52 Natal moon position for Gochar\n",
            "1 records processed, so far\n",
            "1  records generated and stored in file peopleData.json\n"
          ]
        }
      ]
    },
    {
      "cell_type": "markdown",
      "source": [
        "## Gochar Chart Generation"
      ],
      "metadata": {
        "id": "UfrvUFYmNGzX"
      }
    },
    {
      "cell_type": "code",
      "source": [
        "%%capture\n",
        "\n",
        "#p21.printDasha = True\n",
        "chart = StoreRetrieveChart()\n",
        "ReportFile = genChart('Bengal')\n",
        "\n",
        "# Note : The MS-Word file that is generated is available in the Colab VM Drive\n",
        "# and needs to be downloaded to local laptop / machine for viewing in MS-Word\n"
      ],
      "metadata": {
        "id": "DNQxCgmKNZKT"
      },
      "execution_count": 19,
      "outputs": []
    },
    {
      "cell_type": "markdown",
      "source": [
        "#Time Series"
      ],
      "metadata": {
        "id": "lLur0fqUcoul"
      }
    },
    {
      "cell_type": "code",
      "source": [
        "#x,rashiSum,y,bhavSum,z = p21utils.SarvaAshtakVarga()\n",
        "s8v = p21utils.SarvaAshtakVarga()\n",
        "print(p21.GRashiN)\n",
        "rashiSum = s8v[1]\n",
        "print(rashiSum)\n",
        "print(p21.GRashiA)\n",
        "bhavSum = s8v[3]\n",
        "print(bhavSum)"
      ],
      "metadata": {
        "colab": {
          "base_uri": "https://localhost:8080/"
        },
        "id": "J1m9Q61BnJoz",
        "outputId": "b90dc7b8-4e4c-4ac8-d80c-9ae70cfb685b"
      },
      "execution_count": 20,
      "outputs": [
        {
          "output_type": "stream",
          "name": "stdout",
          "text": [
            "SarvaAshtakVarga | Rashi {'La': 9, 'Su': 4, 'Mo': 3, 'Ma': 5, 'Me': 5, 'Ju': 1, 'Ve': 4, 'Sa': 11, 'Ra': 1, 'Ke': 7}\n",
            " + [31, 37, 27, 20, 26, 28, 29, 26, 31, 25, 31, 26]  =  337\n",
            "SarvaAshtakVarga | Bhav [' ', 9, 10, 11, 12, 1, 2, 3, 4, 5, 6, 7, 8]\n",
            " + [31, 25, 31, 26, 31, 37, 27, 20, 26, 28, 29, 26]  =  337\n",
            "Bandhu:  88 Sevak:  90 Poshak:  87 Ghatak:  72\n",
            "{'La': 9, 'Su': 4, 'Mo': 3, 'Ma': 5, 'Me': 5, 'Ju': 1, 'Ve': 4, 'Sa': 11, 'Ra': 1, 'Ke': 7}\n",
            "[31, 37, 27, 20, 26, 28, 29, 26, 31, 25, 31, 26]\n",
            "{'La': 'Dhanu', 'Su': 'Karkat', 'Mo': 'Mithun', 'Ma': 'Simha', 'Me': 'Simha', 'Ju': 'Mesh', 'Ve': 'Karkat', 'Sa': 'Kumbh', 'Ra': 'Mesh', 'Ke': 'Tula'}\n",
            "[31, 25, 31, 26, 31, 37, 27, 20, 26, 28, 29, 26]\n"
          ]
        }
      ]
    },
    {
      "cell_type": "code",
      "source": [
        "def getData(cDT):\n",
        "    DoB_Day = int(cDT.strftime(\"%-d\"))\n",
        "    DoB_Mon = int(cDT.strftime(\"%-m\"))\n",
        "    DoB_Year = int(cDT.strftime(\"%Y\"))\n",
        "    #print(DoB_Time)\n",
        "    DoB_Time = '12:01'\n",
        "    PoB_Lat = 25.43\n",
        "    PoB_Lon = 81.85\n",
        "    Name = p21.gName\n",
        "    Gender = 'x'\n",
        "    tag1 = 'nil'\n",
        "    tag3 = 'nil'\n",
        "    tag5 = 'nil'\n",
        "    p21.pName = p21.gName\n",
        "    p21.ChartType = 'Rashi'\n",
        "    TZ_OffHours = 5.5\n",
        "\n",
        "    sData = [DoB_Day,DoB_Mon,DoB_Year,DoB_Time,TZ_OffHours,PoB_Lat,PoB_Lon,Name, Gender, tag1, tag3,tag5]\n",
        "    sLabels = ['DoB_Day','DoB_Mon','DoB_Year','DoB_Time','TZ_OffHours','PoB_Lat','PoB_Lon','Name','Gender','tag1','tag3','tag5']\n",
        "    return(pd.Series(sData, index = sLabels))"
      ],
      "metadata": {
        "id": "dK6AMqCTayNp"
      },
      "execution_count": 21,
      "outputs": []
    },
    {
      "cell_type": "code",
      "source": [
        "def setData(c):\n",
        "    p21swe.C02_parsePersonData(c)\n",
        "    p21swe.C03_convertDates()\n",
        "    p21swe.C04_calculateGrahaPositions()\n",
        "    p21swe.C05_buildGLonGRet()\n",
        "    #p21.GLonRet['GLon']['La'] = RashiLon\n",
        "    p21.GLonRet['GLon']['La'] = p21.SubMoonLong\n",
        "    p21utils.R11_LocateGrahaInRashi()\n",
        "    #print(p21.GRashiA)"
      ],
      "metadata": {
        "id": "ka1Bc-OSaQ5M"
      },
      "execution_count": 22,
      "outputs": []
    },
    {
      "cell_type": "code",
      "source": [
        "#p21.RashiName\n",
        "#colList = p21.RashiName[1:]\n",
        "colList = p21.BhavList[1:]\n",
        "colList"
      ],
      "metadata": {
        "colab": {
          "base_uri": "https://localhost:8080/"
        },
        "id": "2jXIO6HPm03h",
        "outputId": "50e821a7-f58c-4e9d-e18c-1290e8f71d2a"
      },
      "execution_count": 23,
      "outputs": [
        {
          "output_type": "execute_result",
          "data": {
            "text/plain": [
              "['1st',\n",
              " '2nd',\n",
              " '3rd',\n",
              " '4th',\n",
              " '5th',\n",
              " '6th',\n",
              " '7th',\n",
              " '8th',\n",
              " '9th',\n",
              " '10th',\n",
              " '11th',\n",
              " '12th']"
            ]
          },
          "metadata": {},
          "execution_count": 23
        }
      ]
    },
    {
      "cell_type": "code",
      "source": [
        "#l = list(range(1,13))\n",
        "#print(l)"
      ],
      "metadata": {
        "id": "DmGDZ8aNnIwA"
      },
      "execution_count": 24,
      "outputs": []
    },
    {
      "cell_type": "code",
      "source": [
        "sDate = datetime.now(pytz.timezone('Asia/Kolkata'))\n",
        "print(sDate)\n",
        "print(sDate.date())\n",
        "L= [sDate.strftime(\"%Y-%m-%d\")]\n",
        "print(L)\n"
      ],
      "metadata": {
        "id": "yJrMc_JBAzet",
        "outputId": "c0ca5a63-3344-4e02-afdc-7e649075b691",
        "colab": {
          "base_uri": "https://localhost:8080/"
        }
      },
      "execution_count": 25,
      "outputs": [
        {
          "output_type": "stream",
          "name": "stdout",
          "text": [
            "2023-08-13 10:51:14.858699+05:30\n",
            "2023-08-13\n",
            "['2023-08-13']\n"
          ]
        }
      ]
    },
    {
      "cell_type": "code",
      "source": [
        "def Transitz(numberOfPeriods,periodDuration,allTransits = False,buildMovie = False):\n",
        "    sDate = datetime.now(pytz.timezone('Asia/Kolkata'))\n",
        "    cDate = sDate\n",
        "\n",
        "    s8v = p21utils.SarvaAshtakVarga()\n",
        "    #print(p21.GRashiN)\n",
        "    rashiSum = s8v[1]\n",
        "    #print(rashiSum)\n",
        "    #print(p21.GRashiA)\n",
        "    bhavSum = s8v[3]\n",
        "    #print(bhavSum)\n",
        "    print(cDate.date())\n",
        "    RashiSumData =  [[cDate.strftime(\"%Y-%m-%d\")] + rashiSum]\n",
        "    print(RashiSumData)\n",
        "    RashiCols = ['Date']+ p21.RashiName[1:]\n",
        "    print(RashiCols)\n",
        "    BhavSumData =  [[cDate.strftime(\"%Y-%m-%d\")] + bhavSum]\n",
        "    BhavCols = ['Date']+ p21.BhavList[1:]\n",
        "    df_RashiSum = pd.DataFrame(data=RashiSumData, columns = RashiCols)\n",
        "    df_BhavSum = pd.DataFrame(data=BhavSumData, columns = BhavCols)\n",
        "    #df_Rashi\n",
        "    print('Initial -----------------------------------------------------------')\n",
        "\n",
        "    setData(getData(cDate))\n",
        "    for count in range(numberOfPeriods):\n",
        "        print(cDate.date())\n",
        "        prevGrashiA = p21.GRashiA\n",
        "        prevGLonRet = p21.GLonRet\n",
        "        cDate += timedelta(days=periodDuration)\n",
        "        setData(getData(cDate))\n",
        "        s8v = p21utils.SarvaAshtakVarga()\n",
        "        #print(p21.GRashiN)\n",
        "        rashiSum = s8v[1]\n",
        "        #print(rashiSum)\n",
        "        #print(p21.GRashiA)\n",
        "        bhavSum = s8v[3]\n",
        "        #print(bhavSum)\n",
        "        df_RashiSum.loc[len(df_RashiSum)] = [cDate.strftime(\"%Y-%m-%d\")] + rashiSum\n",
        "        df_BhavSum.loc[len(df_BhavSum)] = [cDate.strftime(\"%Y-%m-%d\")] + bhavSum\n",
        "        #print(p21.GRashiA)\n",
        "        #print(bhavSum)\n",
        "    return(df_RashiSum, df_BhavSum)"
      ],
      "metadata": {
        "id": "YHA_iMaNaE2u"
      },
      "execution_count": 26,
      "outputs": []
    },
    {
      "cell_type": "code",
      "source": [
        "df8V_Rashi, df8V_Bhav =Transitz(12,15)"
      ],
      "metadata": {
        "colab": {
          "base_uri": "https://localhost:8080/"
        },
        "id": "KAfSTZluafBO",
        "outputId": "15eb119c-784e-4c38-f0a0-e23ced7d4edf"
      },
      "execution_count": 27,
      "outputs": [
        {
          "output_type": "stream",
          "name": "stdout",
          "text": [
            "SarvaAshtakVarga | Rashi {'La': 9, 'Su': 4, 'Mo': 3, 'Ma': 5, 'Me': 5, 'Ju': 1, 'Ve': 4, 'Sa': 11, 'Ra': 1, 'Ke': 7}\n",
            " + [31, 37, 27, 20, 26, 28, 29, 26, 31, 25, 31, 26]  =  337\n",
            "SarvaAshtakVarga | Bhav [' ', 9, 10, 11, 12, 1, 2, 3, 4, 5, 6, 7, 8]\n",
            " + [31, 25, 31, 26, 31, 37, 27, 20, 26, 28, 29, 26]  =  337\n",
            "Bandhu:  88 Sevak:  90 Poshak:  87 Ghatak:  72\n",
            "2023-08-13\n",
            "[['2023-08-13', 31, 37, 27, 20, 26, 28, 29, 26, 31, 25, 31, 26]]\n",
            "['Date', 'Mesh', 'Vrish', 'Mithun', 'Karkat', 'Simha', 'Kanya', 'Tula', 'Vrishchik', 'Dhanu', 'Makar', 'Kumbh', 'Meen']\n",
            "Initial -----------------------------------------------------------\n",
            "La long reset to  250.52 Natal moon position for Gochar\n",
            "2023-08-13\n",
            "La long reset to  250.52 Natal moon position for Gochar\n",
            "SarvaAshtakVarga | Rashi {'La': 9, 'Su': 5, 'Mo': 10, 'Ma': 6, 'Me': 5, 'Ju': 1, 'Ve': 4, 'Sa': 11, 'Ra': 1, 'Ke': 7}\n",
            " + [25, 33, 34, 23, 21, 28, 32, 28, 30, 24, 29, 30]  =  337\n",
            "SarvaAshtakVarga | Bhav [' ', 9, 10, 11, 12, 1, 2, 3, 4, 5, 6, 7, 8]\n",
            " + [30, 24, 29, 30, 25, 33, 34, 23, 21, 28, 32, 28]  =  337\n",
            "Bandhu:  76 Sevak:  85 Poshak:  95 Ghatak:  81\n",
            "2023-08-28\n",
            "La long reset to  250.52 Natal moon position for Gochar\n",
            "SarvaAshtakVarga | Rashi {'La': 9, 'Su': 5, 'Mo': 4, 'Ma': 6, 'Me': 5, 'Ju': 1, 'Ve': 4, 'Sa': 11, 'Ra': 1, 'Ke': 7}\n",
            " + [26, 38, 30, 23, 22, 30, 31, 23, 34, 24, 28, 28]  =  337\n",
            "SarvaAshtakVarga | Bhav [' ', 9, 10, 11, 12, 1, 2, 3, 4, 5, 6, 7, 8]\n",
            " + [34, 24, 28, 28, 26, 38, 30, 23, 22, 30, 31, 23]  =  337\n",
            "Bandhu:  82 Sevak:  92 Poshak:  89 Ghatak:  74\n",
            "2023-09-12\n",
            "La long reset to  250.52 Natal moon position for Gochar\n",
            "SarvaAshtakVarga | Rashi {'La': 9, 'Su': 6, 'Mo': 11, 'Ma': 6, 'Me': 5, 'Ju': 1, 'Ve': 4, 'Sa': 11, 'Ra': 1, 'Ke': 7}\n",
            " + [30, 31, 29, 31, 20, 27, 32, 24, 37, 22, 27, 27]  =  337\n",
            "SarvaAshtakVarga | Bhav [' ', 9, 10, 11, 12, 1, 2, 3, 4, 5, 6, 7, 8]\n",
            " + [37, 22, 27, 27, 30, 31, 29, 31, 20, 27, 32, 24]  =  337\n",
            "Bandhu:  87 Sevak:  80 Poshak:  88 Ghatak:  82\n",
            "2023-09-27\n",
            "La long reset to  250.52 Natal moon position for Gochar\n",
            "SarvaAshtakVarga | Rashi {'La': 9, 'Su': 6, 'Mo': 5, 'Ma': 7, 'Me': 6, 'Ju': 1, 'Ve': 5, 'Sa': 11, 'Ra': 1, 'Ke': 7}\n",
            " + [26, 30, 32, 31, 24, 28, 29, 27, 27, 29, 31, 23]  =  337\n",
            "SarvaAshtakVarga | Bhav [' ', 9, 10, 11, 12, 1, 2, 3, 4, 5, 6, 7, 8]\n",
            " + [27, 29, 31, 23, 26, 30, 32, 31, 24, 28, 29, 27]  =  337\n",
            "Bandhu:  77 Sevak:  87 Poshak:  92 Ghatak:  81\n",
            "2023-10-12\n",
            "La long reset to  250.52 Natal moon position for Gochar\n",
            "SarvaAshtakVarga | Rashi {'La': 9, 'Su': 7, 'Mo': 12, 'Ma': 7, 'Me': 7, 'Ju': 1, 'Ve': 5, 'Sa': 11, 'Ra': 1, 'Ke': 7}\n",
            " + [24, 31, 25, 28, 36, 26, 28, 24, 31, 28, 29, 27]  =  337\n",
            "SarvaAshtakVarga | Bhav [' ', 9, 10, 11, 12, 1, 2, 3, 4, 5, 6, 7, 8]\n",
            " + [31, 28, 29, 27, 24, 31, 25, 28, 36, 26, 28, 24]  =  337\n",
            "Bandhu:  91 Sevak:  85 Poshak:  82 Ghatak:  79\n",
            "2023-10-27\n",
            "La long reset to  250.52 Natal moon position for Gochar\n",
            "SarvaAshtakVarga | Rashi {'La': 9, 'Su': 7, 'Mo': 6, 'Ma': 7, 'Me': 8, 'Ju': 1, 'Ve': 6, 'Sa': 11, 'Ra': 1, 'Ke': 7}\n",
            " + [27, 29, 20, 36, 31, 29, 29, 28, 25, 26, 31, 26]  =  337\n",
            "SarvaAshtakVarga | Bhav [' ', 9, 10, 11, 12, 1, 2, 3, 4, 5, 6, 7, 8]\n",
            " + [25, 26, 31, 26, 27, 29, 20, 36, 31, 29, 29, 28]  =  337\n",
            "Bandhu:  83 Sevak:  84 Poshak:  80 Ghatak:  90\n",
            "2023-11-11\n",
            "La long reset to  250.52 Natal moon position for Gochar\n",
            "SarvaAshtakVarga | Rashi {'La': 9, 'Su': 8, 'Mo': 1, 'Ma': 8, 'Me': 8, 'Ju': 1, 'Ve': 6, 'Sa': 11, 'Ra': 1, 'Ke': 7}\n",
            " + [25, 28, 25, 26, 29, 42, 25, 24, 28, 26, 35, 24]  =  337\n",
            "SarvaAshtakVarga | Bhav [' ', 9, 10, 11, 12, 1, 2, 3, 4, 5, 6, 7, 8]\n",
            " + [28, 26, 35, 24, 25, 28, 25, 26, 29, 42, 25, 24]  =  337\n",
            "Bandhu:  82 Sevak:  96 Poshak:  85 Ghatak:  74\n",
            "2023-11-26\n",
            "La long reset to  250.52 Natal moon position for Gochar\n",
            "SarvaAshtakVarga | Rashi {'La': 9, 'Su': 8, 'Mo': 8, 'Ma': 8, 'Me': 9, 'Ju': 1, 'Ve': 7, 'Sa': 11, 'Ra': 12, 'Ke': 6}\n",
            " + [27, 31, 22, 21, 33, 43, 27, 24, 30, 23, 33, 23]  =  337\n",
            "SarvaAshtakVarga | Bhav [' ', 9, 10, 11, 12, 1, 2, 3, 4, 5, 6, 7, 8]\n",
            " + [30, 23, 33, 23, 27, 31, 22, 21, 33, 43, 27, 24]  =  337\n",
            "Bandhu:  90 Sevak:  97 Poshak:  82 Ghatak:  68\n",
            "2023-12-11\n",
            "La long reset to  250.52 Natal moon position for Gochar\n",
            "SarvaAshtakVarga | Rashi {'La': 9, 'Su': 9, 'Mo': 3, 'Ma': 8, 'Me': 9, 'Ju': 1, 'Ve': 8, 'Sa': 11, 'Ra': 12, 'Ke': 6}\n",
            " + [30, 28, 20, 24, 30, 39, 34, 25, 29, 20, 33, 25]  =  337\n",
            "SarvaAshtakVarga | Bhav [' ', 9, 10, 11, 12, 1, 2, 3, 4, 5, 6, 7, 8]\n",
            " + [29, 20, 33, 25, 30, 28, 20, 24, 30, 39, 34, 25]  =  337\n",
            "Bandhu:  89 Sevak:  87 Poshak:  87 Ghatak:  74\n",
            "2023-12-26\n",
            "La long reset to  250.52 Natal moon position for Gochar\n",
            "SarvaAshtakVarga | Rashi {'La': 9, 'Su': 9, 'Mo': 9, 'Ma': 9, 'Me': 9, 'Ju': 1, 'Ve': 8, 'Sa': 11, 'Ra': 12, 'Ke': 6}\n",
            " + [25, 31, 20, 24, 25, 39, 44, 19, 28, 23, 34, 25]  =  337\n",
            "SarvaAshtakVarga | Bhav [' ', 9, 10, 11, 12, 1, 2, 3, 4, 5, 6, 7, 8]\n",
            " + [28, 23, 34, 25, 25, 31, 20, 24, 25, 39, 44, 19]  =  337\n",
            "Bandhu:  78 Sevak:  93 Poshak:  98 Ghatak:  68\n",
            "2024-01-10\n",
            "La long reset to  250.52 Natal moon position for Gochar\n",
            "SarvaAshtakVarga | Rashi {'La': 9, 'Su': 10, 'Mo': 4, 'Ma': 9, 'Me': 9, 'Ju': 1, 'Ve': 9, 'Sa': 11, 'Ra': 12, 'Ke': 6}\n",
            " + [27, 34, 17, 22, 28, 36, 40, 26, 29, 22, 31, 25]  =  337\n",
            "SarvaAshtakVarga | Bhav [' ', 9, 10, 11, 12, 1, 2, 3, 4, 5, 6, 7, 8]\n",
            " + [29, 22, 31, 25, 27, 34, 17, 22, 28, 36, 40, 26]  =  337\n",
            "Bandhu:  84 Sevak:  92 Poshak:  88 Ghatak:  73\n",
            "2024-01-25\n",
            "La long reset to  250.52 Natal moon position for Gochar\n",
            "SarvaAshtakVarga | Rashi {'La': 9, 'Su': 10, 'Mo': 10, 'Ma': 10, 'Me': 10, 'Ju': 1, 'Ve': 9, 'Sa': 11, 'Ra': 12, 'Ke': 6}\n",
            " + [23, 29, 25, 21, 25, 31, 38, 40, 23, 23, 30, 29]  =  337\n",
            "SarvaAshtakVarga | Bhav [' ', 9, 10, 11, 12, 1, 2, 3, 4, 5, 6, 7, 8]\n",
            " + [23, 23, 30, 29, 23, 29, 25, 21, 25, 31, 38, 40]  =  337\n",
            "Bandhu:  71 Sevak:  83 Poshak:  93 Ghatak:  90\n"
          ]
        }
      ]
    },
    {
      "cell_type": "code",
      "source": [
        "df8V_Rashi"
      ],
      "metadata": {
        "colab": {
          "base_uri": "https://localhost:8080/",
          "height": 457
        },
        "id": "vFJ91JeFo5ce",
        "outputId": "007eef5c-7a05-41f0-961b-fb4a310edb21"
      },
      "execution_count": 28,
      "outputs": [
        {
          "output_type": "execute_result",
          "data": {
            "text/plain": [
              "          Date  Mesh  Vrish  Mithun  Karkat  Simha  Kanya  Tula  Vrishchik  \\\n",
              "0   2023-08-13    31     37      27      20     26     28    29         26   \n",
              "1   2023-08-28    25     33      34      23     21     28    32         28   \n",
              "2   2023-09-12    26     38      30      23     22     30    31         23   \n",
              "3   2023-09-27    30     31      29      31     20     27    32         24   \n",
              "4   2023-10-12    26     30      32      31     24     28    29         27   \n",
              "5   2023-10-27    24     31      25      28     36     26    28         24   \n",
              "6   2023-11-11    27     29      20      36     31     29    29         28   \n",
              "7   2023-11-26    25     28      25      26     29     42    25         24   \n",
              "8   2023-12-11    27     31      22      21     33     43    27         24   \n",
              "9   2023-12-26    30     28      20      24     30     39    34         25   \n",
              "10  2024-01-10    25     31      20      24     25     39    44         19   \n",
              "11  2024-01-25    27     34      17      22     28     36    40         26   \n",
              "12  2024-02-09    23     29      25      21     25     31    38         40   \n",
              "\n",
              "    Dhanu  Makar  Kumbh  Meen  \n",
              "0      31     25     31    26  \n",
              "1      30     24     29    30  \n",
              "2      34     24     28    28  \n",
              "3      37     22     27    27  \n",
              "4      27     29     31    23  \n",
              "5      31     28     29    27  \n",
              "6      25     26     31    26  \n",
              "7      28     26     35    24  \n",
              "8      30     23     33    23  \n",
              "9      29     20     33    25  \n",
              "10     28     23     34    25  \n",
              "11     29     22     31    25  \n",
              "12     23     23     30    29  "
            ],
            "text/html": [
              "\n",
              "\n",
              "  <div id=\"df-032748c6-4073-4c73-869d-1ce762109c63\">\n",
              "    <div class=\"colab-df-container\">\n",
              "      <div>\n",
              "<style scoped>\n",
              "    .dataframe tbody tr th:only-of-type {\n",
              "        vertical-align: middle;\n",
              "    }\n",
              "\n",
              "    .dataframe tbody tr th {\n",
              "        vertical-align: top;\n",
              "    }\n",
              "\n",
              "    .dataframe thead th {\n",
              "        text-align: right;\n",
              "    }\n",
              "</style>\n",
              "<table border=\"1\" class=\"dataframe\">\n",
              "  <thead>\n",
              "    <tr style=\"text-align: right;\">\n",
              "      <th></th>\n",
              "      <th>Date</th>\n",
              "      <th>Mesh</th>\n",
              "      <th>Vrish</th>\n",
              "      <th>Mithun</th>\n",
              "      <th>Karkat</th>\n",
              "      <th>Simha</th>\n",
              "      <th>Kanya</th>\n",
              "      <th>Tula</th>\n",
              "      <th>Vrishchik</th>\n",
              "      <th>Dhanu</th>\n",
              "      <th>Makar</th>\n",
              "      <th>Kumbh</th>\n",
              "      <th>Meen</th>\n",
              "    </tr>\n",
              "  </thead>\n",
              "  <tbody>\n",
              "    <tr>\n",
              "      <th>0</th>\n",
              "      <td>2023-08-13</td>\n",
              "      <td>31</td>\n",
              "      <td>37</td>\n",
              "      <td>27</td>\n",
              "      <td>20</td>\n",
              "      <td>26</td>\n",
              "      <td>28</td>\n",
              "      <td>29</td>\n",
              "      <td>26</td>\n",
              "      <td>31</td>\n",
              "      <td>25</td>\n",
              "      <td>31</td>\n",
              "      <td>26</td>\n",
              "    </tr>\n",
              "    <tr>\n",
              "      <th>1</th>\n",
              "      <td>2023-08-28</td>\n",
              "      <td>25</td>\n",
              "      <td>33</td>\n",
              "      <td>34</td>\n",
              "      <td>23</td>\n",
              "      <td>21</td>\n",
              "      <td>28</td>\n",
              "      <td>32</td>\n",
              "      <td>28</td>\n",
              "      <td>30</td>\n",
              "      <td>24</td>\n",
              "      <td>29</td>\n",
              "      <td>30</td>\n",
              "    </tr>\n",
              "    <tr>\n",
              "      <th>2</th>\n",
              "      <td>2023-09-12</td>\n",
              "      <td>26</td>\n",
              "      <td>38</td>\n",
              "      <td>30</td>\n",
              "      <td>23</td>\n",
              "      <td>22</td>\n",
              "      <td>30</td>\n",
              "      <td>31</td>\n",
              "      <td>23</td>\n",
              "      <td>34</td>\n",
              "      <td>24</td>\n",
              "      <td>28</td>\n",
              "      <td>28</td>\n",
              "    </tr>\n",
              "    <tr>\n",
              "      <th>3</th>\n",
              "      <td>2023-09-27</td>\n",
              "      <td>30</td>\n",
              "      <td>31</td>\n",
              "      <td>29</td>\n",
              "      <td>31</td>\n",
              "      <td>20</td>\n",
              "      <td>27</td>\n",
              "      <td>32</td>\n",
              "      <td>24</td>\n",
              "      <td>37</td>\n",
              "      <td>22</td>\n",
              "      <td>27</td>\n",
              "      <td>27</td>\n",
              "    </tr>\n",
              "    <tr>\n",
              "      <th>4</th>\n",
              "      <td>2023-10-12</td>\n",
              "      <td>26</td>\n",
              "      <td>30</td>\n",
              "      <td>32</td>\n",
              "      <td>31</td>\n",
              "      <td>24</td>\n",
              "      <td>28</td>\n",
              "      <td>29</td>\n",
              "      <td>27</td>\n",
              "      <td>27</td>\n",
              "      <td>29</td>\n",
              "      <td>31</td>\n",
              "      <td>23</td>\n",
              "    </tr>\n",
              "    <tr>\n",
              "      <th>5</th>\n",
              "      <td>2023-10-27</td>\n",
              "      <td>24</td>\n",
              "      <td>31</td>\n",
              "      <td>25</td>\n",
              "      <td>28</td>\n",
              "      <td>36</td>\n",
              "      <td>26</td>\n",
              "      <td>28</td>\n",
              "      <td>24</td>\n",
              "      <td>31</td>\n",
              "      <td>28</td>\n",
              "      <td>29</td>\n",
              "      <td>27</td>\n",
              "    </tr>\n",
              "    <tr>\n",
              "      <th>6</th>\n",
              "      <td>2023-11-11</td>\n",
              "      <td>27</td>\n",
              "      <td>29</td>\n",
              "      <td>20</td>\n",
              "      <td>36</td>\n",
              "      <td>31</td>\n",
              "      <td>29</td>\n",
              "      <td>29</td>\n",
              "      <td>28</td>\n",
              "      <td>25</td>\n",
              "      <td>26</td>\n",
              "      <td>31</td>\n",
              "      <td>26</td>\n",
              "    </tr>\n",
              "    <tr>\n",
              "      <th>7</th>\n",
              "      <td>2023-11-26</td>\n",
              "      <td>25</td>\n",
              "      <td>28</td>\n",
              "      <td>25</td>\n",
              "      <td>26</td>\n",
              "      <td>29</td>\n",
              "      <td>42</td>\n",
              "      <td>25</td>\n",
              "      <td>24</td>\n",
              "      <td>28</td>\n",
              "      <td>26</td>\n",
              "      <td>35</td>\n",
              "      <td>24</td>\n",
              "    </tr>\n",
              "    <tr>\n",
              "      <th>8</th>\n",
              "      <td>2023-12-11</td>\n",
              "      <td>27</td>\n",
              "      <td>31</td>\n",
              "      <td>22</td>\n",
              "      <td>21</td>\n",
              "      <td>33</td>\n",
              "      <td>43</td>\n",
              "      <td>27</td>\n",
              "      <td>24</td>\n",
              "      <td>30</td>\n",
              "      <td>23</td>\n",
              "      <td>33</td>\n",
              "      <td>23</td>\n",
              "    </tr>\n",
              "    <tr>\n",
              "      <th>9</th>\n",
              "      <td>2023-12-26</td>\n",
              "      <td>30</td>\n",
              "      <td>28</td>\n",
              "      <td>20</td>\n",
              "      <td>24</td>\n",
              "      <td>30</td>\n",
              "      <td>39</td>\n",
              "      <td>34</td>\n",
              "      <td>25</td>\n",
              "      <td>29</td>\n",
              "      <td>20</td>\n",
              "      <td>33</td>\n",
              "      <td>25</td>\n",
              "    </tr>\n",
              "    <tr>\n",
              "      <th>10</th>\n",
              "      <td>2024-01-10</td>\n",
              "      <td>25</td>\n",
              "      <td>31</td>\n",
              "      <td>20</td>\n",
              "      <td>24</td>\n",
              "      <td>25</td>\n",
              "      <td>39</td>\n",
              "      <td>44</td>\n",
              "      <td>19</td>\n",
              "      <td>28</td>\n",
              "      <td>23</td>\n",
              "      <td>34</td>\n",
              "      <td>25</td>\n",
              "    </tr>\n",
              "    <tr>\n",
              "      <th>11</th>\n",
              "      <td>2024-01-25</td>\n",
              "      <td>27</td>\n",
              "      <td>34</td>\n",
              "      <td>17</td>\n",
              "      <td>22</td>\n",
              "      <td>28</td>\n",
              "      <td>36</td>\n",
              "      <td>40</td>\n",
              "      <td>26</td>\n",
              "      <td>29</td>\n",
              "      <td>22</td>\n",
              "      <td>31</td>\n",
              "      <td>25</td>\n",
              "    </tr>\n",
              "    <tr>\n",
              "      <th>12</th>\n",
              "      <td>2024-02-09</td>\n",
              "      <td>23</td>\n",
              "      <td>29</td>\n",
              "      <td>25</td>\n",
              "      <td>21</td>\n",
              "      <td>25</td>\n",
              "      <td>31</td>\n",
              "      <td>38</td>\n",
              "      <td>40</td>\n",
              "      <td>23</td>\n",
              "      <td>23</td>\n",
              "      <td>30</td>\n",
              "      <td>29</td>\n",
              "    </tr>\n",
              "  </tbody>\n",
              "</table>\n",
              "</div>\n",
              "      <button class=\"colab-df-convert\" onclick=\"convertToInteractive('df-032748c6-4073-4c73-869d-1ce762109c63')\"\n",
              "              title=\"Convert this dataframe to an interactive table.\"\n",
              "              style=\"display:none;\">\n",
              "\n",
              "  <svg xmlns=\"http://www.w3.org/2000/svg\" height=\"24px\"viewBox=\"0 0 24 24\"\n",
              "       width=\"24px\">\n",
              "    <path d=\"M0 0h24v24H0V0z\" fill=\"none\"/>\n",
              "    <path d=\"M18.56 5.44l.94 2.06.94-2.06 2.06-.94-2.06-.94-.94-2.06-.94 2.06-2.06.94zm-11 1L8.5 8.5l.94-2.06 2.06-.94-2.06-.94L8.5 2.5l-.94 2.06-2.06.94zm10 10l.94 2.06.94-2.06 2.06-.94-2.06-.94-.94-2.06-.94 2.06-2.06.94z\"/><path d=\"M17.41 7.96l-1.37-1.37c-.4-.4-.92-.59-1.43-.59-.52 0-1.04.2-1.43.59L10.3 9.45l-7.72 7.72c-.78.78-.78 2.05 0 2.83L4 21.41c.39.39.9.59 1.41.59.51 0 1.02-.2 1.41-.59l7.78-7.78 2.81-2.81c.8-.78.8-2.07 0-2.86zM5.41 20L4 18.59l7.72-7.72 1.47 1.35L5.41 20z\"/>\n",
              "  </svg>\n",
              "      </button>\n",
              "\n",
              "\n",
              "\n",
              "    <div id=\"df-efdff021-9235-4df5-a5b8-727ba004c727\">\n",
              "      <button class=\"colab-df-quickchart\" onclick=\"quickchart('df-efdff021-9235-4df5-a5b8-727ba004c727')\"\n",
              "              title=\"Suggest charts.\"\n",
              "              style=\"display:none;\">\n",
              "\n",
              "<svg xmlns=\"http://www.w3.org/2000/svg\" height=\"24px\"viewBox=\"0 0 24 24\"\n",
              "     width=\"24px\">\n",
              "    <g>\n",
              "        <path d=\"M19 3H5c-1.1 0-2 .9-2 2v14c0 1.1.9 2 2 2h14c1.1 0 2-.9 2-2V5c0-1.1-.9-2-2-2zM9 17H7v-7h2v7zm4 0h-2V7h2v10zm4 0h-2v-4h2v4z\"/>\n",
              "    </g>\n",
              "</svg>\n",
              "      </button>\n",
              "    </div>\n",
              "\n",
              "<style>\n",
              "  .colab-df-quickchart {\n",
              "    background-color: #E8F0FE;\n",
              "    border: none;\n",
              "    border-radius: 50%;\n",
              "    cursor: pointer;\n",
              "    display: none;\n",
              "    fill: #1967D2;\n",
              "    height: 32px;\n",
              "    padding: 0 0 0 0;\n",
              "    width: 32px;\n",
              "  }\n",
              "\n",
              "  .colab-df-quickchart:hover {\n",
              "    background-color: #E2EBFA;\n",
              "    box-shadow: 0px 1px 2px rgba(60, 64, 67, 0.3), 0px 1px 3px 1px rgba(60, 64, 67, 0.15);\n",
              "    fill: #174EA6;\n",
              "  }\n",
              "\n",
              "  [theme=dark] .colab-df-quickchart {\n",
              "    background-color: #3B4455;\n",
              "    fill: #D2E3FC;\n",
              "  }\n",
              "\n",
              "  [theme=dark] .colab-df-quickchart:hover {\n",
              "    background-color: #434B5C;\n",
              "    box-shadow: 0px 1px 3px 1px rgba(0, 0, 0, 0.15);\n",
              "    filter: drop-shadow(0px 1px 2px rgba(0, 0, 0, 0.3));\n",
              "    fill: #FFFFFF;\n",
              "  }\n",
              "</style>\n",
              "\n",
              "    <script>\n",
              "      async function quickchart(key) {\n",
              "        const containerElement = document.querySelector('#' + key);\n",
              "        const charts = await google.colab.kernel.invokeFunction(\n",
              "            'suggestCharts', [key], {});\n",
              "      }\n",
              "    </script>\n",
              "\n",
              "      <script>\n",
              "\n",
              "function displayQuickchartButton(domScope) {\n",
              "  let quickchartButtonEl =\n",
              "    domScope.querySelector('#df-efdff021-9235-4df5-a5b8-727ba004c727 button.colab-df-quickchart');\n",
              "  quickchartButtonEl.style.display =\n",
              "    google.colab.kernel.accessAllowed ? 'block' : 'none';\n",
              "}\n",
              "\n",
              "        displayQuickchartButton(document);\n",
              "      </script>\n",
              "      <style>\n",
              "    .colab-df-container {\n",
              "      display:flex;\n",
              "      flex-wrap:wrap;\n",
              "      gap: 12px;\n",
              "    }\n",
              "\n",
              "    .colab-df-convert {\n",
              "      background-color: #E8F0FE;\n",
              "      border: none;\n",
              "      border-radius: 50%;\n",
              "      cursor: pointer;\n",
              "      display: none;\n",
              "      fill: #1967D2;\n",
              "      height: 32px;\n",
              "      padding: 0 0 0 0;\n",
              "      width: 32px;\n",
              "    }\n",
              "\n",
              "    .colab-df-convert:hover {\n",
              "      background-color: #E2EBFA;\n",
              "      box-shadow: 0px 1px 2px rgba(60, 64, 67, 0.3), 0px 1px 3px 1px rgba(60, 64, 67, 0.15);\n",
              "      fill: #174EA6;\n",
              "    }\n",
              "\n",
              "    [theme=dark] .colab-df-convert {\n",
              "      background-color: #3B4455;\n",
              "      fill: #D2E3FC;\n",
              "    }\n",
              "\n",
              "    [theme=dark] .colab-df-convert:hover {\n",
              "      background-color: #434B5C;\n",
              "      box-shadow: 0px 1px 3px 1px rgba(0, 0, 0, 0.15);\n",
              "      filter: drop-shadow(0px 1px 2px rgba(0, 0, 0, 0.3));\n",
              "      fill: #FFFFFF;\n",
              "    }\n",
              "  </style>\n",
              "\n",
              "      <script>\n",
              "        const buttonEl =\n",
              "          document.querySelector('#df-032748c6-4073-4c73-869d-1ce762109c63 button.colab-df-convert');\n",
              "        buttonEl.style.display =\n",
              "          google.colab.kernel.accessAllowed ? 'block' : 'none';\n",
              "\n",
              "        async function convertToInteractive(key) {\n",
              "          const element = document.querySelector('#df-032748c6-4073-4c73-869d-1ce762109c63');\n",
              "          const dataTable =\n",
              "            await google.colab.kernel.invokeFunction('convertToInteractive',\n",
              "                                                     [key], {});\n",
              "          if (!dataTable) return;\n",
              "\n",
              "          const docLinkHtml = 'Like what you see? Visit the ' +\n",
              "            '<a target=\"_blank\" href=https://colab.research.google.com/notebooks/data_table.ipynb>data table notebook</a>'\n",
              "            + ' to learn more about interactive tables.';\n",
              "          element.innerHTML = '';\n",
              "          dataTable['output_type'] = 'display_data';\n",
              "          await google.colab.output.renderOutput(dataTable, element);\n",
              "          const docLink = document.createElement('div');\n",
              "          docLink.innerHTML = docLinkHtml;\n",
              "          element.appendChild(docLink);\n",
              "        }\n",
              "      </script>\n",
              "    </div>\n",
              "  </div>\n"
            ]
          },
          "metadata": {},
          "execution_count": 28
        }
      ]
    },
    {
      "cell_type": "code",
      "source": [
        "df8V_Bhav"
      ],
      "metadata": {
        "colab": {
          "base_uri": "https://localhost:8080/",
          "height": 457
        },
        "id": "8YnM0Gnmr_Oe",
        "outputId": "1dcf5330-54b2-4262-9c41-2a04c0204d0b"
      },
      "execution_count": 29,
      "outputs": [
        {
          "output_type": "execute_result",
          "data": {
            "text/plain": [
              "          Date  1st  2nd  3rd  4th  5th  6th  7th  8th  9th  10th  11th  12th\n",
              "0   2023-08-13   31   25   31   26   31   37   27   20   26    28    29    26\n",
              "1   2023-08-28   30   24   29   30   25   33   34   23   21    28    32    28\n",
              "2   2023-09-12   34   24   28   28   26   38   30   23   22    30    31    23\n",
              "3   2023-09-27   37   22   27   27   30   31   29   31   20    27    32    24\n",
              "4   2023-10-12   27   29   31   23   26   30   32   31   24    28    29    27\n",
              "5   2023-10-27   31   28   29   27   24   31   25   28   36    26    28    24\n",
              "6   2023-11-11   25   26   31   26   27   29   20   36   31    29    29    28\n",
              "7   2023-11-26   28   26   35   24   25   28   25   26   29    42    25    24\n",
              "8   2023-12-11   30   23   33   23   27   31   22   21   33    43    27    24\n",
              "9   2023-12-26   29   20   33   25   30   28   20   24   30    39    34    25\n",
              "10  2024-01-10   28   23   34   25   25   31   20   24   25    39    44    19\n",
              "11  2024-01-25   29   22   31   25   27   34   17   22   28    36    40    26\n",
              "12  2024-02-09   23   23   30   29   23   29   25   21   25    31    38    40"
            ],
            "text/html": [
              "\n",
              "\n",
              "  <div id=\"df-295b058b-37b1-473f-9c0c-364e65f473f7\">\n",
              "    <div class=\"colab-df-container\">\n",
              "      <div>\n",
              "<style scoped>\n",
              "    .dataframe tbody tr th:only-of-type {\n",
              "        vertical-align: middle;\n",
              "    }\n",
              "\n",
              "    .dataframe tbody tr th {\n",
              "        vertical-align: top;\n",
              "    }\n",
              "\n",
              "    .dataframe thead th {\n",
              "        text-align: right;\n",
              "    }\n",
              "</style>\n",
              "<table border=\"1\" class=\"dataframe\">\n",
              "  <thead>\n",
              "    <tr style=\"text-align: right;\">\n",
              "      <th></th>\n",
              "      <th>Date</th>\n",
              "      <th>1st</th>\n",
              "      <th>2nd</th>\n",
              "      <th>3rd</th>\n",
              "      <th>4th</th>\n",
              "      <th>5th</th>\n",
              "      <th>6th</th>\n",
              "      <th>7th</th>\n",
              "      <th>8th</th>\n",
              "      <th>9th</th>\n",
              "      <th>10th</th>\n",
              "      <th>11th</th>\n",
              "      <th>12th</th>\n",
              "    </tr>\n",
              "  </thead>\n",
              "  <tbody>\n",
              "    <tr>\n",
              "      <th>0</th>\n",
              "      <td>2023-08-13</td>\n",
              "      <td>31</td>\n",
              "      <td>25</td>\n",
              "      <td>31</td>\n",
              "      <td>26</td>\n",
              "      <td>31</td>\n",
              "      <td>37</td>\n",
              "      <td>27</td>\n",
              "      <td>20</td>\n",
              "      <td>26</td>\n",
              "      <td>28</td>\n",
              "      <td>29</td>\n",
              "      <td>26</td>\n",
              "    </tr>\n",
              "    <tr>\n",
              "      <th>1</th>\n",
              "      <td>2023-08-28</td>\n",
              "      <td>30</td>\n",
              "      <td>24</td>\n",
              "      <td>29</td>\n",
              "      <td>30</td>\n",
              "      <td>25</td>\n",
              "      <td>33</td>\n",
              "      <td>34</td>\n",
              "      <td>23</td>\n",
              "      <td>21</td>\n",
              "      <td>28</td>\n",
              "      <td>32</td>\n",
              "      <td>28</td>\n",
              "    </tr>\n",
              "    <tr>\n",
              "      <th>2</th>\n",
              "      <td>2023-09-12</td>\n",
              "      <td>34</td>\n",
              "      <td>24</td>\n",
              "      <td>28</td>\n",
              "      <td>28</td>\n",
              "      <td>26</td>\n",
              "      <td>38</td>\n",
              "      <td>30</td>\n",
              "      <td>23</td>\n",
              "      <td>22</td>\n",
              "      <td>30</td>\n",
              "      <td>31</td>\n",
              "      <td>23</td>\n",
              "    </tr>\n",
              "    <tr>\n",
              "      <th>3</th>\n",
              "      <td>2023-09-27</td>\n",
              "      <td>37</td>\n",
              "      <td>22</td>\n",
              "      <td>27</td>\n",
              "      <td>27</td>\n",
              "      <td>30</td>\n",
              "      <td>31</td>\n",
              "      <td>29</td>\n",
              "      <td>31</td>\n",
              "      <td>20</td>\n",
              "      <td>27</td>\n",
              "      <td>32</td>\n",
              "      <td>24</td>\n",
              "    </tr>\n",
              "    <tr>\n",
              "      <th>4</th>\n",
              "      <td>2023-10-12</td>\n",
              "      <td>27</td>\n",
              "      <td>29</td>\n",
              "      <td>31</td>\n",
              "      <td>23</td>\n",
              "      <td>26</td>\n",
              "      <td>30</td>\n",
              "      <td>32</td>\n",
              "      <td>31</td>\n",
              "      <td>24</td>\n",
              "      <td>28</td>\n",
              "      <td>29</td>\n",
              "      <td>27</td>\n",
              "    </tr>\n",
              "    <tr>\n",
              "      <th>5</th>\n",
              "      <td>2023-10-27</td>\n",
              "      <td>31</td>\n",
              "      <td>28</td>\n",
              "      <td>29</td>\n",
              "      <td>27</td>\n",
              "      <td>24</td>\n",
              "      <td>31</td>\n",
              "      <td>25</td>\n",
              "      <td>28</td>\n",
              "      <td>36</td>\n",
              "      <td>26</td>\n",
              "      <td>28</td>\n",
              "      <td>24</td>\n",
              "    </tr>\n",
              "    <tr>\n",
              "      <th>6</th>\n",
              "      <td>2023-11-11</td>\n",
              "      <td>25</td>\n",
              "      <td>26</td>\n",
              "      <td>31</td>\n",
              "      <td>26</td>\n",
              "      <td>27</td>\n",
              "      <td>29</td>\n",
              "      <td>20</td>\n",
              "      <td>36</td>\n",
              "      <td>31</td>\n",
              "      <td>29</td>\n",
              "      <td>29</td>\n",
              "      <td>28</td>\n",
              "    </tr>\n",
              "    <tr>\n",
              "      <th>7</th>\n",
              "      <td>2023-11-26</td>\n",
              "      <td>28</td>\n",
              "      <td>26</td>\n",
              "      <td>35</td>\n",
              "      <td>24</td>\n",
              "      <td>25</td>\n",
              "      <td>28</td>\n",
              "      <td>25</td>\n",
              "      <td>26</td>\n",
              "      <td>29</td>\n",
              "      <td>42</td>\n",
              "      <td>25</td>\n",
              "      <td>24</td>\n",
              "    </tr>\n",
              "    <tr>\n",
              "      <th>8</th>\n",
              "      <td>2023-12-11</td>\n",
              "      <td>30</td>\n",
              "      <td>23</td>\n",
              "      <td>33</td>\n",
              "      <td>23</td>\n",
              "      <td>27</td>\n",
              "      <td>31</td>\n",
              "      <td>22</td>\n",
              "      <td>21</td>\n",
              "      <td>33</td>\n",
              "      <td>43</td>\n",
              "      <td>27</td>\n",
              "      <td>24</td>\n",
              "    </tr>\n",
              "    <tr>\n",
              "      <th>9</th>\n",
              "      <td>2023-12-26</td>\n",
              "      <td>29</td>\n",
              "      <td>20</td>\n",
              "      <td>33</td>\n",
              "      <td>25</td>\n",
              "      <td>30</td>\n",
              "      <td>28</td>\n",
              "      <td>20</td>\n",
              "      <td>24</td>\n",
              "      <td>30</td>\n",
              "      <td>39</td>\n",
              "      <td>34</td>\n",
              "      <td>25</td>\n",
              "    </tr>\n",
              "    <tr>\n",
              "      <th>10</th>\n",
              "      <td>2024-01-10</td>\n",
              "      <td>28</td>\n",
              "      <td>23</td>\n",
              "      <td>34</td>\n",
              "      <td>25</td>\n",
              "      <td>25</td>\n",
              "      <td>31</td>\n",
              "      <td>20</td>\n",
              "      <td>24</td>\n",
              "      <td>25</td>\n",
              "      <td>39</td>\n",
              "      <td>44</td>\n",
              "      <td>19</td>\n",
              "    </tr>\n",
              "    <tr>\n",
              "      <th>11</th>\n",
              "      <td>2024-01-25</td>\n",
              "      <td>29</td>\n",
              "      <td>22</td>\n",
              "      <td>31</td>\n",
              "      <td>25</td>\n",
              "      <td>27</td>\n",
              "      <td>34</td>\n",
              "      <td>17</td>\n",
              "      <td>22</td>\n",
              "      <td>28</td>\n",
              "      <td>36</td>\n",
              "      <td>40</td>\n",
              "      <td>26</td>\n",
              "    </tr>\n",
              "    <tr>\n",
              "      <th>12</th>\n",
              "      <td>2024-02-09</td>\n",
              "      <td>23</td>\n",
              "      <td>23</td>\n",
              "      <td>30</td>\n",
              "      <td>29</td>\n",
              "      <td>23</td>\n",
              "      <td>29</td>\n",
              "      <td>25</td>\n",
              "      <td>21</td>\n",
              "      <td>25</td>\n",
              "      <td>31</td>\n",
              "      <td>38</td>\n",
              "      <td>40</td>\n",
              "    </tr>\n",
              "  </tbody>\n",
              "</table>\n",
              "</div>\n",
              "      <button class=\"colab-df-convert\" onclick=\"convertToInteractive('df-295b058b-37b1-473f-9c0c-364e65f473f7')\"\n",
              "              title=\"Convert this dataframe to an interactive table.\"\n",
              "              style=\"display:none;\">\n",
              "\n",
              "  <svg xmlns=\"http://www.w3.org/2000/svg\" height=\"24px\"viewBox=\"0 0 24 24\"\n",
              "       width=\"24px\">\n",
              "    <path d=\"M0 0h24v24H0V0z\" fill=\"none\"/>\n",
              "    <path d=\"M18.56 5.44l.94 2.06.94-2.06 2.06-.94-2.06-.94-.94-2.06-.94 2.06-2.06.94zm-11 1L8.5 8.5l.94-2.06 2.06-.94-2.06-.94L8.5 2.5l-.94 2.06-2.06.94zm10 10l.94 2.06.94-2.06 2.06-.94-2.06-.94-.94-2.06-.94 2.06-2.06.94z\"/><path d=\"M17.41 7.96l-1.37-1.37c-.4-.4-.92-.59-1.43-.59-.52 0-1.04.2-1.43.59L10.3 9.45l-7.72 7.72c-.78.78-.78 2.05 0 2.83L4 21.41c.39.39.9.59 1.41.59.51 0 1.02-.2 1.41-.59l7.78-7.78 2.81-2.81c.8-.78.8-2.07 0-2.86zM5.41 20L4 18.59l7.72-7.72 1.47 1.35L5.41 20z\"/>\n",
              "  </svg>\n",
              "      </button>\n",
              "\n",
              "\n",
              "\n",
              "    <div id=\"df-71c9bf8f-e837-45dd-826c-bc1a653e8f85\">\n",
              "      <button class=\"colab-df-quickchart\" onclick=\"quickchart('df-71c9bf8f-e837-45dd-826c-bc1a653e8f85')\"\n",
              "              title=\"Suggest charts.\"\n",
              "              style=\"display:none;\">\n",
              "\n",
              "<svg xmlns=\"http://www.w3.org/2000/svg\" height=\"24px\"viewBox=\"0 0 24 24\"\n",
              "     width=\"24px\">\n",
              "    <g>\n",
              "        <path d=\"M19 3H5c-1.1 0-2 .9-2 2v14c0 1.1.9 2 2 2h14c1.1 0 2-.9 2-2V5c0-1.1-.9-2-2-2zM9 17H7v-7h2v7zm4 0h-2V7h2v10zm4 0h-2v-4h2v4z\"/>\n",
              "    </g>\n",
              "</svg>\n",
              "      </button>\n",
              "    </div>\n",
              "\n",
              "<style>\n",
              "  .colab-df-quickchart {\n",
              "    background-color: #E8F0FE;\n",
              "    border: none;\n",
              "    border-radius: 50%;\n",
              "    cursor: pointer;\n",
              "    display: none;\n",
              "    fill: #1967D2;\n",
              "    height: 32px;\n",
              "    padding: 0 0 0 0;\n",
              "    width: 32px;\n",
              "  }\n",
              "\n",
              "  .colab-df-quickchart:hover {\n",
              "    background-color: #E2EBFA;\n",
              "    box-shadow: 0px 1px 2px rgba(60, 64, 67, 0.3), 0px 1px 3px 1px rgba(60, 64, 67, 0.15);\n",
              "    fill: #174EA6;\n",
              "  }\n",
              "\n",
              "  [theme=dark] .colab-df-quickchart {\n",
              "    background-color: #3B4455;\n",
              "    fill: #D2E3FC;\n",
              "  }\n",
              "\n",
              "  [theme=dark] .colab-df-quickchart:hover {\n",
              "    background-color: #434B5C;\n",
              "    box-shadow: 0px 1px 3px 1px rgba(0, 0, 0, 0.15);\n",
              "    filter: drop-shadow(0px 1px 2px rgba(0, 0, 0, 0.3));\n",
              "    fill: #FFFFFF;\n",
              "  }\n",
              "</style>\n",
              "\n",
              "    <script>\n",
              "      async function quickchart(key) {\n",
              "        const containerElement = document.querySelector('#' + key);\n",
              "        const charts = await google.colab.kernel.invokeFunction(\n",
              "            'suggestCharts', [key], {});\n",
              "      }\n",
              "    </script>\n",
              "\n",
              "      <script>\n",
              "\n",
              "function displayQuickchartButton(domScope) {\n",
              "  let quickchartButtonEl =\n",
              "    domScope.querySelector('#df-71c9bf8f-e837-45dd-826c-bc1a653e8f85 button.colab-df-quickchart');\n",
              "  quickchartButtonEl.style.display =\n",
              "    google.colab.kernel.accessAllowed ? 'block' : 'none';\n",
              "}\n",
              "\n",
              "        displayQuickchartButton(document);\n",
              "      </script>\n",
              "      <style>\n",
              "    .colab-df-container {\n",
              "      display:flex;\n",
              "      flex-wrap:wrap;\n",
              "      gap: 12px;\n",
              "    }\n",
              "\n",
              "    .colab-df-convert {\n",
              "      background-color: #E8F0FE;\n",
              "      border: none;\n",
              "      border-radius: 50%;\n",
              "      cursor: pointer;\n",
              "      display: none;\n",
              "      fill: #1967D2;\n",
              "      height: 32px;\n",
              "      padding: 0 0 0 0;\n",
              "      width: 32px;\n",
              "    }\n",
              "\n",
              "    .colab-df-convert:hover {\n",
              "      background-color: #E2EBFA;\n",
              "      box-shadow: 0px 1px 2px rgba(60, 64, 67, 0.3), 0px 1px 3px 1px rgba(60, 64, 67, 0.15);\n",
              "      fill: #174EA6;\n",
              "    }\n",
              "\n",
              "    [theme=dark] .colab-df-convert {\n",
              "      background-color: #3B4455;\n",
              "      fill: #D2E3FC;\n",
              "    }\n",
              "\n",
              "    [theme=dark] .colab-df-convert:hover {\n",
              "      background-color: #434B5C;\n",
              "      box-shadow: 0px 1px 3px 1px rgba(0, 0, 0, 0.15);\n",
              "      filter: drop-shadow(0px 1px 2px rgba(0, 0, 0, 0.3));\n",
              "      fill: #FFFFFF;\n",
              "    }\n",
              "  </style>\n",
              "\n",
              "      <script>\n",
              "        const buttonEl =\n",
              "          document.querySelector('#df-295b058b-37b1-473f-9c0c-364e65f473f7 button.colab-df-convert');\n",
              "        buttonEl.style.display =\n",
              "          google.colab.kernel.accessAllowed ? 'block' : 'none';\n",
              "\n",
              "        async function convertToInteractive(key) {\n",
              "          const element = document.querySelector('#df-295b058b-37b1-473f-9c0c-364e65f473f7');\n",
              "          const dataTable =\n",
              "            await google.colab.kernel.invokeFunction('convertToInteractive',\n",
              "                                                     [key], {});\n",
              "          if (!dataTable) return;\n",
              "\n",
              "          const docLinkHtml = 'Like what you see? Visit the ' +\n",
              "            '<a target=\"_blank\" href=https://colab.research.google.com/notebooks/data_table.ipynb>data table notebook</a>'\n",
              "            + ' to learn more about interactive tables.';\n",
              "          element.innerHTML = '';\n",
              "          dataTable['output_type'] = 'display_data';\n",
              "          await google.colab.output.renderOutput(dataTable, element);\n",
              "          const docLink = document.createElement('div');\n",
              "          docLink.innerHTML = docLinkHtml;\n",
              "          element.appendChild(docLink);\n",
              "        }\n",
              "      </script>\n",
              "    </div>\n",
              "  </div>\n"
            ]
          },
          "metadata": {},
          "execution_count": 29
        }
      ]
    },
    {
      "cell_type": "code",
      "source": [
        "# Convert date column to pandas date format\n",
        "df8V_Bhav['Date'] = pd.to_datetime(df8V_Bhav['Date'])\n",
        "\n",
        "# Set the date column as the index of the dataframe\n",
        "df8V_Bhav.set_index('Date',inplace=True)\n",
        "\n",
        "df8V_Bhav.head()"
      ],
      "metadata": {
        "id": "zIPjOqzsWKR5",
        "outputId": "acdf3d7c-5a76-4d4f-be06-4c1758bb4b5a",
        "colab": {
          "base_uri": "https://localhost:8080/",
          "height": 238
        }
      },
      "execution_count": 34,
      "outputs": [
        {
          "output_type": "execute_result",
          "data": {
            "text/plain": [
              "            1st  2nd  3rd  4th  5th  6th  7th  8th  9th  10th  11th  12th\n",
              "Date                                                                     \n",
              "2023-08-13   31   25   31   26   31   37   27   20   26    28    29    26\n",
              "2023-08-28   30   24   29   30   25   33   34   23   21    28    32    28\n",
              "2023-09-12   34   24   28   28   26   38   30   23   22    30    31    23\n",
              "2023-09-27   37   22   27   27   30   31   29   31   20    27    32    24\n",
              "2023-10-12   27   29   31   23   26   30   32   31   24    28    29    27"
            ],
            "text/html": [
              "\n",
              "\n",
              "  <div id=\"df-b47f702b-f602-48ce-bfbf-ebeeeff4be10\">\n",
              "    <div class=\"colab-df-container\">\n",
              "      <div>\n",
              "<style scoped>\n",
              "    .dataframe tbody tr th:only-of-type {\n",
              "        vertical-align: middle;\n",
              "    }\n",
              "\n",
              "    .dataframe tbody tr th {\n",
              "        vertical-align: top;\n",
              "    }\n",
              "\n",
              "    .dataframe thead th {\n",
              "        text-align: right;\n",
              "    }\n",
              "</style>\n",
              "<table border=\"1\" class=\"dataframe\">\n",
              "  <thead>\n",
              "    <tr style=\"text-align: right;\">\n",
              "      <th></th>\n",
              "      <th>1st</th>\n",
              "      <th>2nd</th>\n",
              "      <th>3rd</th>\n",
              "      <th>4th</th>\n",
              "      <th>5th</th>\n",
              "      <th>6th</th>\n",
              "      <th>7th</th>\n",
              "      <th>8th</th>\n",
              "      <th>9th</th>\n",
              "      <th>10th</th>\n",
              "      <th>11th</th>\n",
              "      <th>12th</th>\n",
              "    </tr>\n",
              "    <tr>\n",
              "      <th>Date</th>\n",
              "      <th></th>\n",
              "      <th></th>\n",
              "      <th></th>\n",
              "      <th></th>\n",
              "      <th></th>\n",
              "      <th></th>\n",
              "      <th></th>\n",
              "      <th></th>\n",
              "      <th></th>\n",
              "      <th></th>\n",
              "      <th></th>\n",
              "      <th></th>\n",
              "    </tr>\n",
              "  </thead>\n",
              "  <tbody>\n",
              "    <tr>\n",
              "      <th>2023-08-13</th>\n",
              "      <td>31</td>\n",
              "      <td>25</td>\n",
              "      <td>31</td>\n",
              "      <td>26</td>\n",
              "      <td>31</td>\n",
              "      <td>37</td>\n",
              "      <td>27</td>\n",
              "      <td>20</td>\n",
              "      <td>26</td>\n",
              "      <td>28</td>\n",
              "      <td>29</td>\n",
              "      <td>26</td>\n",
              "    </tr>\n",
              "    <tr>\n",
              "      <th>2023-08-28</th>\n",
              "      <td>30</td>\n",
              "      <td>24</td>\n",
              "      <td>29</td>\n",
              "      <td>30</td>\n",
              "      <td>25</td>\n",
              "      <td>33</td>\n",
              "      <td>34</td>\n",
              "      <td>23</td>\n",
              "      <td>21</td>\n",
              "      <td>28</td>\n",
              "      <td>32</td>\n",
              "      <td>28</td>\n",
              "    </tr>\n",
              "    <tr>\n",
              "      <th>2023-09-12</th>\n",
              "      <td>34</td>\n",
              "      <td>24</td>\n",
              "      <td>28</td>\n",
              "      <td>28</td>\n",
              "      <td>26</td>\n",
              "      <td>38</td>\n",
              "      <td>30</td>\n",
              "      <td>23</td>\n",
              "      <td>22</td>\n",
              "      <td>30</td>\n",
              "      <td>31</td>\n",
              "      <td>23</td>\n",
              "    </tr>\n",
              "    <tr>\n",
              "      <th>2023-09-27</th>\n",
              "      <td>37</td>\n",
              "      <td>22</td>\n",
              "      <td>27</td>\n",
              "      <td>27</td>\n",
              "      <td>30</td>\n",
              "      <td>31</td>\n",
              "      <td>29</td>\n",
              "      <td>31</td>\n",
              "      <td>20</td>\n",
              "      <td>27</td>\n",
              "      <td>32</td>\n",
              "      <td>24</td>\n",
              "    </tr>\n",
              "    <tr>\n",
              "      <th>2023-10-12</th>\n",
              "      <td>27</td>\n",
              "      <td>29</td>\n",
              "      <td>31</td>\n",
              "      <td>23</td>\n",
              "      <td>26</td>\n",
              "      <td>30</td>\n",
              "      <td>32</td>\n",
              "      <td>31</td>\n",
              "      <td>24</td>\n",
              "      <td>28</td>\n",
              "      <td>29</td>\n",
              "      <td>27</td>\n",
              "    </tr>\n",
              "  </tbody>\n",
              "</table>\n",
              "</div>\n",
              "      <button class=\"colab-df-convert\" onclick=\"convertToInteractive('df-b47f702b-f602-48ce-bfbf-ebeeeff4be10')\"\n",
              "              title=\"Convert this dataframe to an interactive table.\"\n",
              "              style=\"display:none;\">\n",
              "\n",
              "  <svg xmlns=\"http://www.w3.org/2000/svg\" height=\"24px\"viewBox=\"0 0 24 24\"\n",
              "       width=\"24px\">\n",
              "    <path d=\"M0 0h24v24H0V0z\" fill=\"none\"/>\n",
              "    <path d=\"M18.56 5.44l.94 2.06.94-2.06 2.06-.94-2.06-.94-.94-2.06-.94 2.06-2.06.94zm-11 1L8.5 8.5l.94-2.06 2.06-.94-2.06-.94L8.5 2.5l-.94 2.06-2.06.94zm10 10l.94 2.06.94-2.06 2.06-.94-2.06-.94-.94-2.06-.94 2.06-2.06.94z\"/><path d=\"M17.41 7.96l-1.37-1.37c-.4-.4-.92-.59-1.43-.59-.52 0-1.04.2-1.43.59L10.3 9.45l-7.72 7.72c-.78.78-.78 2.05 0 2.83L4 21.41c.39.39.9.59 1.41.59.51 0 1.02-.2 1.41-.59l7.78-7.78 2.81-2.81c.8-.78.8-2.07 0-2.86zM5.41 20L4 18.59l7.72-7.72 1.47 1.35L5.41 20z\"/>\n",
              "  </svg>\n",
              "      </button>\n",
              "\n",
              "\n",
              "\n",
              "    <div id=\"df-08cf0896-d33f-4d89-9693-511e591ff18e\">\n",
              "      <button class=\"colab-df-quickchart\" onclick=\"quickchart('df-08cf0896-d33f-4d89-9693-511e591ff18e')\"\n",
              "              title=\"Suggest charts.\"\n",
              "              style=\"display:none;\">\n",
              "\n",
              "<svg xmlns=\"http://www.w3.org/2000/svg\" height=\"24px\"viewBox=\"0 0 24 24\"\n",
              "     width=\"24px\">\n",
              "    <g>\n",
              "        <path d=\"M19 3H5c-1.1 0-2 .9-2 2v14c0 1.1.9 2 2 2h14c1.1 0 2-.9 2-2V5c0-1.1-.9-2-2-2zM9 17H7v-7h2v7zm4 0h-2V7h2v10zm4 0h-2v-4h2v4z\"/>\n",
              "    </g>\n",
              "</svg>\n",
              "      </button>\n",
              "    </div>\n",
              "\n",
              "<style>\n",
              "  .colab-df-quickchart {\n",
              "    background-color: #E8F0FE;\n",
              "    border: none;\n",
              "    border-radius: 50%;\n",
              "    cursor: pointer;\n",
              "    display: none;\n",
              "    fill: #1967D2;\n",
              "    height: 32px;\n",
              "    padding: 0 0 0 0;\n",
              "    width: 32px;\n",
              "  }\n",
              "\n",
              "  .colab-df-quickchart:hover {\n",
              "    background-color: #E2EBFA;\n",
              "    box-shadow: 0px 1px 2px rgba(60, 64, 67, 0.3), 0px 1px 3px 1px rgba(60, 64, 67, 0.15);\n",
              "    fill: #174EA6;\n",
              "  }\n",
              "\n",
              "  [theme=dark] .colab-df-quickchart {\n",
              "    background-color: #3B4455;\n",
              "    fill: #D2E3FC;\n",
              "  }\n",
              "\n",
              "  [theme=dark] .colab-df-quickchart:hover {\n",
              "    background-color: #434B5C;\n",
              "    box-shadow: 0px 1px 3px 1px rgba(0, 0, 0, 0.15);\n",
              "    filter: drop-shadow(0px 1px 2px rgba(0, 0, 0, 0.3));\n",
              "    fill: #FFFFFF;\n",
              "  }\n",
              "</style>\n",
              "\n",
              "    <script>\n",
              "      async function quickchart(key) {\n",
              "        const containerElement = document.querySelector('#' + key);\n",
              "        const charts = await google.colab.kernel.invokeFunction(\n",
              "            'suggestCharts', [key], {});\n",
              "      }\n",
              "    </script>\n",
              "\n",
              "      <script>\n",
              "\n",
              "function displayQuickchartButton(domScope) {\n",
              "  let quickchartButtonEl =\n",
              "    domScope.querySelector('#df-08cf0896-d33f-4d89-9693-511e591ff18e button.colab-df-quickchart');\n",
              "  quickchartButtonEl.style.display =\n",
              "    google.colab.kernel.accessAllowed ? 'block' : 'none';\n",
              "}\n",
              "\n",
              "        displayQuickchartButton(document);\n",
              "      </script>\n",
              "      <style>\n",
              "    .colab-df-container {\n",
              "      display:flex;\n",
              "      flex-wrap:wrap;\n",
              "      gap: 12px;\n",
              "    }\n",
              "\n",
              "    .colab-df-convert {\n",
              "      background-color: #E8F0FE;\n",
              "      border: none;\n",
              "      border-radius: 50%;\n",
              "      cursor: pointer;\n",
              "      display: none;\n",
              "      fill: #1967D2;\n",
              "      height: 32px;\n",
              "      padding: 0 0 0 0;\n",
              "      width: 32px;\n",
              "    }\n",
              "\n",
              "    .colab-df-convert:hover {\n",
              "      background-color: #E2EBFA;\n",
              "      box-shadow: 0px 1px 2px rgba(60, 64, 67, 0.3), 0px 1px 3px 1px rgba(60, 64, 67, 0.15);\n",
              "      fill: #174EA6;\n",
              "    }\n",
              "\n",
              "    [theme=dark] .colab-df-convert {\n",
              "      background-color: #3B4455;\n",
              "      fill: #D2E3FC;\n",
              "    }\n",
              "\n",
              "    [theme=dark] .colab-df-convert:hover {\n",
              "      background-color: #434B5C;\n",
              "      box-shadow: 0px 1px 3px 1px rgba(0, 0, 0, 0.15);\n",
              "      filter: drop-shadow(0px 1px 2px rgba(0, 0, 0, 0.3));\n",
              "      fill: #FFFFFF;\n",
              "    }\n",
              "  </style>\n",
              "\n",
              "      <script>\n",
              "        const buttonEl =\n",
              "          document.querySelector('#df-b47f702b-f602-48ce-bfbf-ebeeeff4be10 button.colab-df-convert');\n",
              "        buttonEl.style.display =\n",
              "          google.colab.kernel.accessAllowed ? 'block' : 'none';\n",
              "\n",
              "        async function convertToInteractive(key) {\n",
              "          const element = document.querySelector('#df-b47f702b-f602-48ce-bfbf-ebeeeff4be10');\n",
              "          const dataTable =\n",
              "            await google.colab.kernel.invokeFunction('convertToInteractive',\n",
              "                                                     [key], {});\n",
              "          if (!dataTable) return;\n",
              "\n",
              "          const docLinkHtml = 'Like what you see? Visit the ' +\n",
              "            '<a target=\"_blank\" href=https://colab.research.google.com/notebooks/data_table.ipynb>data table notebook</a>'\n",
              "            + ' to learn more about interactive tables.';\n",
              "          element.innerHTML = '';\n",
              "          dataTable['output_type'] = 'display_data';\n",
              "          await google.colab.output.renderOutput(dataTable, element);\n",
              "          const docLink = document.createElement('div');\n",
              "          docLink.innerHTML = docLinkHtml;\n",
              "          element.appendChild(docLink);\n",
              "        }\n",
              "      </script>\n",
              "    </div>\n",
              "  </div>\n"
            ]
          },
          "metadata": {},
          "execution_count": 34
        }
      ]
    },
    {
      "cell_type": "code",
      "source": [
        "BhavCols = p21.BhavList[1:]\n",
        "BhavCols"
      ],
      "metadata": {
        "id": "pbAc0mobWsKu",
        "outputId": "8095d223-4962-413b-a37a-9fae80fcc576",
        "colab": {
          "base_uri": "https://localhost:8080/"
        }
      },
      "execution_count": 36,
      "outputs": [
        {
          "output_type": "execute_result",
          "data": {
            "text/plain": [
              "['1st',\n",
              " '2nd',\n",
              " '3rd',\n",
              " '4th',\n",
              " '5th',\n",
              " '6th',\n",
              " '7th',\n",
              " '8th',\n",
              " '9th',\n",
              " '10th',\n",
              " '11th',\n",
              " '12th']"
            ]
          },
          "metadata": {},
          "execution_count": 36
        }
      ]
    },
    {
      "cell_type": "code",
      "source": [
        "df8V_Bhav.plot(y=['1st','5th','9th'], figsize = (16,8));\n",
        ""
      ],
      "metadata": {
        "id": "AgFOg1wIWZtp",
        "outputId": "68c9a81a-49ae-4183-e59a-dbc57f7d0bba",
        "colab": {
          "base_uri": "https://localhost:8080/",
          "height": 712
        }
      },
      "execution_count": 38,
      "outputs": [
        {
          "output_type": "display_data",
          "data": {
            "text/plain": [
              "<Figure size 1600x800 with 1 Axes>"
            ],
            "image/png": "[encoded data removed]"
          },
          "metadata": {}
        }
      ]
    },
    {
      "cell_type": "code",
      "source": [
        "df8V_Bhav.plot(y=['2nd','6th','10th'], figsize = (16,8));"
      ],
      "metadata": {
        "id": "TJCnGQA6XYks",
        "outputId": "43d9e6a6-5c56-48be-fcf1-6acb957ba3bd",
        "colab": {
          "base_uri": "https://localhost:8080/",
          "height": 712
        }
      },
      "execution_count": 40,
      "outputs": [
        {
          "output_type": "display_data",
          "data": {
            "text/plain": [
              "<Figure size 1600x800 with 1 Axes>"
            ],
            "image/png": "[encoded data removed]"
          },
          "metadata": {}
        }
      ]
    },
    {
      "cell_type": "code",
      "source": [
        "df8V_Bhav.plot(y=['3rd','7th','11th'], figsize = (16,8));"
      ],
      "metadata": {
        "id": "52TJCVcEXs5p",
        "outputId": "45416213-cb67-4a7f-dcbe-0eea5d04d6d9",
        "colab": {
          "base_uri": "https://localhost:8080/",
          "height": 712
        }
      },
      "execution_count": 41,
      "outputs": [
        {
          "output_type": "display_data",
          "data": {
            "text/plain": [
              "<Figure size 1600x800 with 1 Axes>"
            ],
            "image/png": "[encoded data removed]"
          },
          "metadata": {}
        }
      ]
    },
    {
      "cell_type": "code",
      "source": [
        "df8V_Bhav.plot(y=['4th','8th','12th'], figsize = (16,8));"
      ],
      "metadata": {
        "id": "duYQhJxYX2i3",
        "outputId": "c893a99c-2d15-4dc7-f5d9-ec0e03aec12c",
        "colab": {
          "base_uri": "https://localhost:8080/",
          "height": 712
        }
      },
      "execution_count": 42,
      "outputs": [
        {
          "output_type": "display_data",
          "data": {
            "text/plain": [
              "<Figure size 1600x800 with 1 Axes>"
            ],
            "image/png": "[encoded data removed]"
          },
          "metadata": {}
        }
      ]
    },
    {
      "cell_type": "code",
      "source": [
        "print(\"\\033[1m\"+'जय पराशर'+\"\\033[0m\")\n",
        "print(datetime.now(pytz.timezone('Asia/Calcutta')))"
      ],
      "metadata": {
        "id": "eMDSElhp1_fN",
        "outputId": "9c4948ba-6234-495e-fb13-23fca6347084",
        "colab": {
          "base_uri": "https://localhost:8080/"
        }
      },
      "execution_count": 30,
      "outputs": [
        {
          "output_type": "stream",
          "name": "stdout",
          "text": [
            "\u001b[1mजय पराशर\u001b[0m\n",
            "2023-08-13 10:51:15.238570+05:30\n"
          ]
        }
      ]
    },
    {
      "cell_type": "markdown",
      "source": [
        "#Chronobooks <br>\n",
        "![alt text](https://1.bp.blogspot.com/-lTiYBkU2qbU/X1er__fvnkI/AAAAAAAAjtE/GhDR3OEGJr4NG43fZPodrQD5kbxtnKebgCLcBGAsYHQ/s600/Footer2020-600x200.png)<hr>\n",
        "Chronotantra and Chronoyantra are two science fiction novels that explore the collapse of human civilisation on Earth and then its rebirth and reincarnation both on Earth as well as on the distant worlds of Mars, Titan and Enceladus. But is it the human civilisation that is being reborn? Or is it some other sentience that is revealing itself.\n",
        "If you have an interest in AI and found this material useful, you may consider buying these novels, in paperback or kindle, from [http://bit.ly/chronobooks](http://bit.ly/chronobooks)"
      ],
      "metadata": {
        "id": "DFx4XUVBB0vg"
      }
    },
    {
      "cell_type": "markdown",
      "source": [
        "# Leftovers"
      ],
      "metadata": {
        "id": "jKGdhKgjNnri"
      }
    },
    {
      "cell_type": "code",
      "source": [
        "#\n",
        "#Get List of Persons whose charts are found in the database\n",
        "#\n",
        "selCond = {}                                              # All Charts\n",
        "#pd.DataFrame(list(p21.kollection.find(selCond,p21.selCols)))\n",
        "#pd.DataFrame(list(p21.kollection.find(selCond,{'pid.name':1,'_id':0})))\n",
        "pd.DataFrame(list(p21.kollection.find(selCond,{'pid.name':1})))\n",
        "#pd.DataFrame(list(p21.kollection.find(selCond,p21.selCols)))\n"
      ],
      "metadata": {
        "id": "RevVlQkqjTua",
        "outputId": "ddec0d6d-409c-4a74-a0d1-d04e47784411",
        "colab": {
          "base_uri": "https://localhost:8080/",
          "height": 81
        }
      },
      "execution_count": 31,
      "outputs": [
        {
          "output_type": "execute_result",
          "data": {
            "text/plain": [
              "                        _id                  pid\n",
              "0  64d86849bf09357bd52f5d47  {'name': '_Gochar'}"
            ],
            "text/html": [
              "\n",
              "\n",
              "  <div id=\"df-d2c13182-8a0c-48f7-a897-4f13f43fbd5a\">\n",
              "    <div class=\"colab-df-container\">\n",
              "      <div>\n",
              "<style scoped>\n",
              "    .dataframe tbody tr th:only-of-type {\n",
              "        vertical-align: middle;\n",
              "    }\n",
              "\n",
              "    .dataframe tbody tr th {\n",
              "        vertical-align: top;\n",
              "    }\n",
              "\n",
              "    .dataframe thead th {\n",
              "        text-align: right;\n",
              "    }\n",
              "</style>\n",
              "<table border=\"1\" class=\"dataframe\">\n",
              "  <thead>\n",
              "    <tr style=\"text-align: right;\">\n",
              "      <th></th>\n",
              "      <th>_id</th>\n",
              "      <th>pid</th>\n",
              "    </tr>\n",
              "  </thead>\n",
              "  <tbody>\n",
              "    <tr>\n",
              "      <th>0</th>\n",
              "      <td>64d86849bf09357bd52f5d47</td>\n",
              "      <td>{'name': '_Gochar'}</td>\n",
              "    </tr>\n",
              "  </tbody>\n",
              "</table>\n",
              "</div>\n",
              "      <button class=\"colab-df-convert\" onclick=\"convertToInteractive('df-d2c13182-8a0c-48f7-a897-4f13f43fbd5a')\"\n",
              "              title=\"Convert this dataframe to an interactive table.\"\n",
              "              style=\"display:none;\">\n",
              "\n",
              "  <svg xmlns=\"http://www.w3.org/2000/svg\" height=\"24px\"viewBox=\"0 0 24 24\"\n",
              "       width=\"24px\">\n",
              "    <path d=\"M0 0h24v24H0V0z\" fill=\"none\"/>\n",
              "    <path d=\"M18.56 5.44l.94 2.06.94-2.06 2.06-.94-2.06-.94-.94-2.06-.94 2.06-2.06.94zm-11 1L8.5 8.5l.94-2.06 2.06-.94-2.06-.94L8.5 2.5l-.94 2.06-2.06.94zm10 10l.94 2.06.94-2.06 2.06-.94-2.06-.94-.94-2.06-.94 2.06-2.06.94z\"/><path d=\"M17.41 7.96l-1.37-1.37c-.4-.4-.92-.59-1.43-.59-.52 0-1.04.2-1.43.59L10.3 9.45l-7.72 7.72c-.78.78-.78 2.05 0 2.83L4 21.41c.39.39.9.59 1.41.59.51 0 1.02-.2 1.41-.59l7.78-7.78 2.81-2.81c.8-.78.8-2.07 0-2.86zM5.41 20L4 18.59l7.72-7.72 1.47 1.35L5.41 20z\"/>\n",
              "  </svg>\n",
              "      </button>\n",
              "\n",
              "\n",
              "\n",
              "    <div id=\"df-76627d36-0266-495d-8fd5-f9d7bf7c28e9\">\n",
              "      <button class=\"colab-df-quickchart\" onclick=\"quickchart('df-76627d36-0266-495d-8fd5-f9d7bf7c28e9')\"\n",
              "              title=\"Suggest charts.\"\n",
              "              style=\"display:none;\">\n",
              "\n",
              "<svg xmlns=\"http://www.w3.org/2000/svg\" height=\"24px\"viewBox=\"0 0 24 24\"\n",
              "     width=\"24px\">\n",
              "    <g>\n",
              "        <path d=\"M19 3H5c-1.1 0-2 .9-2 2v14c0 1.1.9 2 2 2h14c1.1 0 2-.9 2-2V5c0-1.1-.9-2-2-2zM9 17H7v-7h2v7zm4 0h-2V7h2v10zm4 0h-2v-4h2v4z\"/>\n",
              "    </g>\n",
              "</svg>\n",
              "      </button>\n",
              "    </div>\n",
              "\n",
              "<style>\n",
              "  .colab-df-quickchart {\n",
              "    background-color: #E8F0FE;\n",
              "    border: none;\n",
              "    border-radius: 50%;\n",
              "    cursor: pointer;\n",
              "    display: none;\n",
              "    fill: #1967D2;\n",
              "    height: 32px;\n",
              "    padding: 0 0 0 0;\n",
              "    width: 32px;\n",
              "  }\n",
              "\n",
              "  .colab-df-quickchart:hover {\n",
              "    background-color: #E2EBFA;\n",
              "    box-shadow: 0px 1px 2px rgba(60, 64, 67, 0.3), 0px 1px 3px 1px rgba(60, 64, 67, 0.15);\n",
              "    fill: #174EA6;\n",
              "  }\n",
              "\n",
              "  [theme=dark] .colab-df-quickchart {\n",
              "    background-color: #3B4455;\n",
              "    fill: #D2E3FC;\n",
              "  }\n",
              "\n",
              "  [theme=dark] .colab-df-quickchart:hover {\n",
              "    background-color: #434B5C;\n",
              "    box-shadow: 0px 1px 3px 1px rgba(0, 0, 0, 0.15);\n",
              "    filter: drop-shadow(0px 1px 2px rgba(0, 0, 0, 0.3));\n",
              "    fill: #FFFFFF;\n",
              "  }\n",
              "</style>\n",
              "\n",
              "    <script>\n",
              "      async function quickchart(key) {\n",
              "        const containerElement = document.querySelector('#' + key);\n",
              "        const charts = await google.colab.kernel.invokeFunction(\n",
              "            'suggestCharts', [key], {});\n",
              "      }\n",
              "    </script>\n",
              "\n",
              "      <script>\n",
              "\n",
              "function displayQuickchartButton(domScope) {\n",
              "  let quickchartButtonEl =\n",
              "    domScope.querySelector('#df-76627d36-0266-495d-8fd5-f9d7bf7c28e9 button.colab-df-quickchart');\n",
              "  quickchartButtonEl.style.display =\n",
              "    google.colab.kernel.accessAllowed ? 'block' : 'none';\n",
              "}\n",
              "\n",
              "        displayQuickchartButton(document);\n",
              "      </script>\n",
              "      <style>\n",
              "    .colab-df-container {\n",
              "      display:flex;\n",
              "      flex-wrap:wrap;\n",
              "      gap: 12px;\n",
              "    }\n",
              "\n",
              "    .colab-df-convert {\n",
              "      background-color: #E8F0FE;\n",
              "      border: none;\n",
              "      border-radius: 50%;\n",
              "      cursor: pointer;\n",
              "      display: none;\n",
              "      fill: #1967D2;\n",
              "      height: 32px;\n",
              "      padding: 0 0 0 0;\n",
              "      width: 32px;\n",
              "    }\n",
              "\n",
              "    .colab-df-convert:hover {\n",
              "      background-color: #E2EBFA;\n",
              "      box-shadow: 0px 1px 2px rgba(60, 64, 67, 0.3), 0px 1px 3px 1px rgba(60, 64, 67, 0.15);\n",
              "      fill: #174EA6;\n",
              "    }\n",
              "\n",
              "    [theme=dark] .colab-df-convert {\n",
              "      background-color: #3B4455;\n",
              "      fill: #D2E3FC;\n",
              "    }\n",
              "\n",
              "    [theme=dark] .colab-df-convert:hover {\n",
              "      background-color: #434B5C;\n",
              "      box-shadow: 0px 1px 3px 1px rgba(0, 0, 0, 0.15);\n",
              "      filter: drop-shadow(0px 1px 2px rgba(0, 0, 0, 0.3));\n",
              "      fill: #FFFFFF;\n",
              "    }\n",
              "  </style>\n",
              "\n",
              "      <script>\n",
              "        const buttonEl =\n",
              "          document.querySelector('#df-d2c13182-8a0c-48f7-a897-4f13f43fbd5a button.colab-df-convert');\n",
              "        buttonEl.style.display =\n",
              "          google.colab.kernel.accessAllowed ? 'block' : 'none';\n",
              "\n",
              "        async function convertToInteractive(key) {\n",
              "          const element = document.querySelector('#df-d2c13182-8a0c-48f7-a897-4f13f43fbd5a');\n",
              "          const dataTable =\n",
              "            await google.colab.kernel.invokeFunction('convertToInteractive',\n",
              "                                                     [key], {});\n",
              "          if (!dataTable) return;\n",
              "\n",
              "          const docLinkHtml = 'Like what you see? Visit the ' +\n",
              "            '<a target=\"_blank\" href=https://colab.research.google.com/notebooks/data_table.ipynb>data table notebook</a>'\n",
              "            + ' to learn more about interactive tables.';\n",
              "          element.innerHTML = '';\n",
              "          dataTable['output_type'] = 'display_data';\n",
              "          await google.colab.output.renderOutput(dataTable, element);\n",
              "          const docLink = document.createElement('div');\n",
              "          docLink.innerHTML = docLinkHtml;\n",
              "          element.appendChild(docLink);\n",
              "        }\n",
              "      </script>\n",
              "    </div>\n",
              "  </div>\n"
            ]
          },
          "metadata": {},
          "execution_count": 31
        }
      ]
    },
    {
      "cell_type": "code",
      "source": [
        "#\n",
        "# Download last Report File\n",
        "#\n",
        "#files.download(ReportFile)"
      ],
      "metadata": {
        "id": "Rm8OtbSliPbO"
      },
      "execution_count": 32,
      "outputs": []
    },
    {
      "cell_type": "code",
      "source": [
        "#!rm *.doc"
      ],
      "metadata": {
        "id": "IUBMuUzb-M2F"
      },
      "execution_count": 33,
      "outputs": []
    }
  ]
}