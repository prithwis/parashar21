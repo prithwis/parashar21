{
  "nbformat": 4,
  "nbformat_minor": 0,
  "metadata": {
    "colab": {
      "provenance": [],
      "include_colab_link": true
    },
    "kernelspec": {
      "name": "python3",
      "display_name": "Python 3"
    },
    "language_info": {
      "name": "python"
    }
  },
  "cells": [
    {
      "cell_type": "markdown",
      "metadata": {
        "id": "view-in-github",
        "colab_type": "text"
      },
      "source": [
        "<a href=\"https://colab.research.google.com/github/prithwis/parashar21/blob/main/P21_45_11_AshtakVarga_Gochar_Series.ipynb\" target=\"_parent\"><img src=\"https://colab.research.google.com/assets/colab-badge.svg\" alt=\"Open In Colab\"/></a>"
      ]
    },
    {
      "cell_type": "markdown",
      "source": [
        "ॐ श्री गणेशाय नमः"
      ],
      "metadata": {
        "id": "g9K48vn81AI_"
      }
    },
    {
      "cell_type": "markdown",
      "source": [
        "![alt text](http://1.bp.blogspot.com/_5QlanosqxiQ/SXLOLTu7S7I/AAAAAAAAAm8/0r6C7lCxsic/S1600-R/p21-header-003.png) <br>\n",
        "\n",
        "\n",
        "---\n",
        "\n",
        "\n",
        "\n",
        "[Prithwis Mukerjee](http://www.yantrajaal.com) ||\n",
        "Website - [Parashar21](https://parashar21.blogspot.com)<br>"
      ],
      "metadata": {
        "id": "rj4jjIHTvPV8"
      }
    },
    {
      "cell_type": "markdown",
      "source": [
        "Copyright (c) 2022, Prithwis Mukerjee All rights reserved.\n",
        "\n",
        "This source code is licensed under the GNU GPL v3.0 -style license found in the LICENSE file in the root directory of this source tree."
      ],
      "metadata": {
        "id": "9OzVEmHm1IaF"
      }
    },
    {
      "cell_type": "markdown",
      "source": [
        "#Single Chart | Ashtakvarga | Gochar | Time Series"
      ],
      "metadata": {
        "id": "Denaio5qTev0"
      }
    },
    {
      "cell_type": "markdown",
      "source": [
        "##Rationale\n",
        "\n",
        "The core 'engine' of Parashar21 is designed to cast multiple horoscopes using the [Python](https://pypi.org/project/pyswisseph/) version of the [Swiss Ephemeris](https://www.astro.com/swisseph/) software, convert the charts to JSON format and then store the charts in a MongoDB database. This is demonstrated in the notebook [P21_45_10_MultiChart_Analysis](https://github.com/prithwis/parashar21/blob/main/P21_45_10_MultiChart_Analysis.ipynb). <br><br>\n",
        "In this notebook, the focus is an analysis of a single chart, either the Rashi chart or the Navamsa chart along with additional information on Aspects, Conjuncts, Lords, Bhavs, Ashtakvarga points, Dasha and Gochar analysis. <br> <br>\n",
        "While processing a single chart does not need any kind of database engine we found it economical to skip another ground up development and retain the same code base. Moreover, the Mongo query language has been used to filter out horoscopes that meet certain criteria (as in Yogs or patterns). This search and filter operation would have been difficult without the MongoDB query language. Hence the database is retained. <br> <br>\n",
        "For full information about this project, please see the [Parashar21](https://prithwis.github.io/parashar21/) github page.\n"
      ],
      "metadata": {
        "id": "MKVBLfNMnXYE"
      }
    },
    {
      "cell_type": "code",
      "source": [
        "from datetime import datetime\n",
        "import pytz\n",
        "print(\"\\033[1m\"+'ॐ श्री गणेशाय नमः'+\"\\033[0m\")\n",
        "print(datetime.now(pytz.timezone('Asia/Calcutta')))"
      ],
      "metadata": {
        "id": "RyyDc2GP1e9v",
        "outputId": "947726a0-48dc-40ab-f9a9-91f11e6cc271",
        "colab": {
          "base_uri": "https://localhost:8080/"
        }
      },
      "execution_count": 1,
      "outputs": [
        {
          "output_type": "stream",
          "name": "stdout",
          "text": [
            "\u001b[1mॐ श्री गणेशाय नमः\u001b[0m\n",
            "2023-08-14 16:51:40.817176+05:30\n"
          ]
        }
      ]
    },
    {
      "cell_type": "markdown",
      "source": [
        "#SetUp Environment"
      ],
      "metadata": {
        "id": "l2v2nhRKvwJS"
      }
    },
    {
      "cell_type": "markdown",
      "source": [
        "##Install Software"
      ],
      "metadata": {
        "id": "djqyotVjO5TI"
      }
    },
    {
      "cell_type": "code",
      "source": [
        "!python --version\n",
        "!lsb_release -a\n",
        "!pip -qq install pyswisseph                                 # https://stackoverflow.com/questions/64277506/pip-install-options-unclear\n",
        "!pip -qq install python-docx                                # https://python-docx.readthedocs.io/en/latest/\n",
        "#!/usr/bin/python3 -m pip install \"pymongo[srv]\"            # Required only if used with Atlas remote servers\n",
        "!pip -qq install pymongo                                    # Required for Mongo client\n",
        "#!apt install mongodb > /dev/null                            # install local MongoDB server      --- this part does not work anymore"
      ],
      "metadata": {
        "colab": {
          "base_uri": "https://localhost:8080/"
        },
        "id": "AWKFabc0v3FI",
        "outputId": "6fe47e32-b29c-46f5-a01a-756664ddc48e"
      },
      "execution_count": 2,
      "outputs": [
        {
          "output_type": "stream",
          "name": "stdout",
          "text": [
            "Python 3.10.12\n",
            "No LSB modules are available.\n",
            "Distributor ID:\tUbuntu\n",
            "Description:\tUbuntu 22.04.2 LTS\n",
            "Release:\t22.04\n",
            "Codename:\tjammy\n",
            "\u001b[2K     \u001b[90m━━━━━━━━━━━━━━━━━━━━━━━━━━━━━━━━━━━━━━━━\u001b[0m \u001b[32m1.8/1.8 MB\u001b[0m \u001b[31m18.7 MB/s\u001b[0m eta \u001b[36m0:00:00\u001b[0m\n",
            "\u001b[2K     \u001b[90m━━━━━━━━━━━━━━━━━━━━━━━━━━━━━━━━━━━━━━━━\u001b[0m \u001b[32m5.6/5.6 MB\u001b[0m \u001b[31m12.6 MB/s\u001b[0m eta \u001b[36m0:00:00\u001b[0m\n",
            "\u001b[?25h  Preparing metadata (setup.py) ... \u001b[?25l\u001b[?25hdone\n",
            "  Building wheel for python-docx (setup.py) ... \u001b[?25l\u001b[?25hdone\n",
            "\u001b[2K     \u001b[90m━━━━━━━━━━━━━━━━━━━━━━━━━━━━━━━━━━━━━━━\u001b[0m \u001b[32m603.6/603.6 kB\u001b[0m \u001b[31m6.4 MB/s\u001b[0m eta \u001b[36m0:00:00\u001b[0m\n",
            "\u001b[2K     \u001b[90m━━━━━━━━━━━━━━━━━━━━━━━━━━━━━━━━━━━━━━\u001b[0m \u001b[32m300.4/300.4 kB\u001b[0m \u001b[31m13.4 MB/s\u001b[0m eta \u001b[36m0:00:00\u001b[0m\n",
            "\u001b[?25h"
          ]
        }
      ]
    },
    {
      "cell_type": "code",
      "source": [
        "#Utility functions\n",
        "from pymongo import MongoClient\n",
        "import pandas as pd\n",
        "import dateutil\n",
        "import json\n",
        "from docx import Document\n",
        "from docx.shared import Inches\n",
        "from docx.enum.text import WD_ALIGN_PARAGRAPH\n",
        "from datetime import datetime\n",
        "from datetime import timedelta\n",
        "import pytz\n",
        "from google.colab import files\n",
        "\n",
        "#import matplotlib.pyplot as plt\n",
        "#import math"
      ],
      "metadata": {
        "id": "NAU1NX1CZsM8"
      },
      "execution_count": 3,
      "outputs": []
    },
    {
      "cell_type": "markdown",
      "source": [
        "### Install local MongoDB\n",
        "https://www.mongodb.com/docs/manual/tutorial/install-mongodb-on-ubuntu/ <br>\n",
        "https://unix.stackexchange.com/questions/715119/system-v-init-service-cant-recongnise-mongod"
      ],
      "metadata": {
        "id": "cDmtkcercNUd"
      }
    },
    {
      "cell_type": "code",
      "source": [
        "!curl -fsSL https://pgp.mongodb.com/server-6.0.asc | \\\n",
        "   sudo gpg -o /usr/share/keyrings/mongodb-server-6.0.gpg \\\n",
        "   --dearmor\n",
        "# --------------------\n",
        "# NOTE we are using Ubuntu 22.04 hence 'jammy'\n",
        "\n",
        "!echo \"deb [ arch=amd64,arm64 signed-by=/usr/share/keyrings/mongodb-server-6.0.gpg ] https://repo.mongodb.org/apt/ubuntu jammy/mongodb-org/6.0 multiverse\" | sudo tee /etc/apt/sources.list.d/mongodb-org-6.0.list\n",
        "# --------------------\n",
        "!sudo apt-get update > /dev/null\n",
        "# --------------------\n",
        "!sudo apt-get install -y mongodb-org > /dev/null          # error, warning messages may be ignored\n",
        "# --------------------\n",
        "!sudo mkdir -p /var/log/mongodb /var/lib/mongodb\n",
        "# --------------------\n",
        "!sudo chown `whoami` /var/lib/mongodb /var/log/mongodb/\n",
        "# -------------------------------------------\n",
        "#!service mongodb start                                      # start Local MongoDB server instance --- does not work anymore\n",
        "!nohup mongod --config /etc/mongod.conf &                    # patch for manual start\n",
        "#!mongod --version\n",
        "# Connect to local MongoDB\n",
        "mongoURI = \"mongodb://localhost:27017/\"                               # for local server\n",
        "client = MongoClient(mongoURI)\n",
        "db = client.parashar21\n",
        "client.list_database_names() # ['admin', 'config', 'local']"
      ],
      "metadata": {
        "colab": {
          "base_uri": "https://localhost:8080/"
        },
        "id": "80mh8SqBcm8I",
        "outputId": "5bcfeb9d-1ba0-4843-dc8b-18bdf704ec91"
      },
      "execution_count": 4,
      "outputs": [
        {
          "output_type": "stream",
          "name": "stdout",
          "text": [
            "deb [ arch=amd64,arm64 signed-by=/usr/share/keyrings/mongodb-server-6.0.gpg ] https://repo.mongodb.org/apt/ubuntu jammy/mongodb-org/6.0 multiverse\n",
            "debconf: unable to initialize frontend: Dialog\n",
            "debconf: (No usable dialog-like program is installed, so the dialog based frontend cannot be used. at /usr/share/perl5/Debconf/FrontEnd/Dialog.pm line 78, <> line 9.)\n",
            "debconf: falling back to frontend: Readline\n",
            "debconf: unable to initialize frontend: Readline\n",
            "debconf: (This frontend requires a controlling tty.)\n",
            "debconf: falling back to frontend: Teletype\n",
            "dpkg-preconfigure: unable to re-open stdin: \n",
            "nohup: appending output to 'nohup.out'\n"
          ]
        },
        {
          "output_type": "execute_result",
          "data": {
            "text/plain": [
              "['admin', 'local']"
            ]
          },
          "metadata": {},
          "execution_count": 4
        }
      ]
    },
    {
      "cell_type": "markdown",
      "source": [
        "### Install, import local modules"
      ],
      "metadata": {
        "id": "Vml3UdnbOAlO"
      }
    },
    {
      "cell_type": "code",
      "source": [
        "#Load p21 modules from github\n",
        "!wget -O p21.py -q https://raw.githubusercontent.com/prithwis/parashar21/main/utils/p21.py                  # all global variables\n",
        "!wget -O p21utils.py -q https://raw.githubusercontent.com/prithwis/parashar21/main/utils/p21utils.py        # large number of utility functions\n",
        "!wget -O p21utilsR.py -q https://raw.githubusercontent.com/prithwis/parashar21/main/utils/p21utilsR.py      # report writing utility functions\n",
        "!wget -O p21swe.py -q https://raw.githubusercontent.com/prithwis/parashar21/main/utils/p21swe.py            # Swiss Ephemeris functions\n",
        "!wget -O p21YogInfo.py -q https://raw.githubusercontent.com/prithwis/parashar21/main/utils/p21YogInfo.py    # yog data - description and conditions\n",
        "# ---------------------------\n",
        "\n",
        "#!wget -O Saraswati.png -q https://github.com/prithwis/parashar21/raw/main/images/Saraswati02.png\n",
        "#!wget -O p21logo.png -q https://github.com/prithwis/parashar21/raw/main/images/p21logo-002-1.png\n",
        "\n"
      ],
      "metadata": {
        "id": "uwAT_IbvB0A-"
      },
      "execution_count": 5,
      "outputs": []
    },
    {
      "cell_type": "code",
      "source": [
        "import p21\n",
        "import p21utils\n",
        "import p21utilsR\n",
        "import p21swe\n",
        "import p21YogInfo\n",
        "# ------------------------------------------------\n",
        "# required for multiple imports of the same module\n",
        "# ------------------------------------------------\n",
        "import importlib\n",
        "importlib.reload(p21)\n",
        "importlib.reload(p21utils)\n",
        "importlib.reload(p21utilsR)\n",
        "importlib.reload(p21swe)\n",
        "importlib.reload(p21YogInfo)"
      ],
      "metadata": {
        "id": "7Np3o1Nn0zrX",
        "outputId": "8def18ba-fc31-4c51-f4ab-3c5ca0a8c055",
        "colab": {
          "base_uri": "https://localhost:8080/"
        }
      },
      "execution_count": 6,
      "outputs": [
        {
          "output_type": "stream",
          "name": "stdout",
          "text": [
            "10 Yogs on record\n",
            "0 : Amala Yog | 10th from Moon OR Lagna should have a benefic\n",
            "1 : RajLakshana Yog | Jupiter, Venus, Mercury, Moon should be in Lagna or they should be in a Kendra\n",
            "2 : Chatussagara Yog | All the Kendras 1/4/7/10 are occupied by planets, Ra, Ke not counted here\n",
            "3 : Adhi678 Yog | Benefics located in 6/7/8th  from Moon\n",
            "4 : Chandra Mangal Yog | Mars Conjoins Moon or  Mars and Moon in Mutual Aspect\n",
            "5 : Kemadruma Yog : No planets on either sides of the Moon\n",
            "6 : Anapha Yog |Planets other than Sun in 12th Place from Moon\n",
            "7 : Sunapha Yog |Planets other than Sun in 2nd Place from Moon\n",
            "8 : Dhurdhura Yog | Planets on both sides of the Moon\n",
            "9 : Gajakesari Yog | Jupiter is in Kendra or 1,4,7,10th from Moon\n",
            "10 Yogs on record\n",
            "0 : Amala Yog | 10th from Moon OR Lagna should have a benefic\n",
            "1 : RajLakshana Yog | Jupiter, Venus, Mercury, Moon should be in Lagna or they should be in a Kendra\n",
            "2 : Chatussagara Yog | All the Kendras 1/4/7/10 are occupied by planets, Ra, Ke not counted here\n",
            "3 : Adhi678 Yog | Benefics located in 6/7/8th  from Moon\n",
            "4 : Chandra Mangal Yog | Mars Conjoins Moon or  Mars and Moon in Mutual Aspect\n",
            "5 : Kemadruma Yog : No planets on either sides of the Moon\n",
            "6 : Anapha Yog |Planets other than Sun in 12th Place from Moon\n",
            "7 : Sunapha Yog |Planets other than Sun in 2nd Place from Moon\n",
            "8 : Dhurdhura Yog | Planets on both sides of the Moon\n",
            "9 : Gajakesari Yog | Jupiter is in Kendra or 1,4,7,10th from Moon\n"
          ]
        },
        {
          "output_type": "execute_result",
          "data": {
            "text/plain": [
              "<module 'p21YogInfo' from '/content/p21YogInfo.py'>"
            ]
          },
          "metadata": {},
          "execution_count": 6
        }
      ]
    },
    {
      "cell_type": "code",
      "source": [
        "# Guess what is happening here :-)\n",
        "#\n",
        "!wc *.py | grep total |awk '{print $1 \" lines\";}'\n",
        "!sed '/^#/d' *.py | wc |awk '{print $1 \" non-comment lines\";}'"
      ],
      "metadata": {
        "id": "9VHL5rlXx9xy",
        "outputId": "b42ca96b-8191-4a51-d690-e042127a3daa",
        "colab": {
          "base_uri": "https://localhost:8080/"
        }
      },
      "execution_count": 7,
      "outputs": [
        {
          "output_type": "stream",
          "name": "stdout",
          "text": [
            "2626 lines\n",
            "2382 non-comment lines\n"
          ]
        }
      ]
    },
    {
      "cell_type": "markdown",
      "source": [
        "### Configure Swiss Ephemeris"
      ],
      "metadata": {
        "id": "bdt1i2F7Z9IK"
      }
    },
    {
      "cell_type": "code",
      "source": [
        "#Download Swiss Ephemeris Files\n",
        "!wget -q http://www.astro.com/ftp/swisseph/ephe/seas_18.se1\n",
        "!wget -q http://www.astro.com/ftp/swisseph/ephe/semo_18.se1\n",
        "!wget -q http://www.astro.com/ftp/swisseph/ephe/sepl_18.se1\n",
        "!mkdir ephe\n",
        "!mv *.se1 ephe\n",
        "#------------------------------\n",
        "# Configure SWE with appropriate parameters\n",
        "#\n",
        "p21swe.C01_configSWE()"
      ],
      "metadata": {
        "id": "kMKlXoDGH8XP"
      },
      "execution_count": 8,
      "outputs": []
    },
    {
      "cell_type": "code",
      "source": [
        "#p21swe.C01_configSWE()"
      ],
      "metadata": {
        "id": "2j-uJEbIU77v"
      },
      "execution_count": 9,
      "outputs": []
    },
    {
      "cell_type": "markdown",
      "source": [
        "#Local Functions"
      ],
      "metadata": {
        "id": "AW0V9j1W1ufz"
      }
    },
    {
      "cell_type": "markdown",
      "source": [
        "## Chart Generation"
      ],
      "metadata": {
        "id": "3L6e0NmdFOsL"
      }
    },
    {
      "cell_type": "code",
      "source": [
        "def genReport(ChartStyle):\n",
        "\n",
        "    chartData = chart.iloc[0]\n",
        "    RepID = chart.iloc[0]['pid']['name']+'_'+p21.AnalysisType[0:3]+'_'+ChartStyle[0:1]\n",
        "    #p21.Subject = chart.iloc[0]['pid']['name']\n",
        "    now = datetime.now(pytz.timezone('Asia/Kolkata'))\n",
        "    fileName = 'p21_'+RepID+'_'+now.strftime(\"%H%M%S\")+'.doc'\n",
        "\n",
        "    # ---------------------------------------------------------\n",
        "    p21utilsR.R01_CreateReportDoc(None,None,'SingleChart')        # Creates MS Word Doc called p21.document for Single or MULTIPLE charts\n",
        "    #p21utilsR.R01A_CreateReportDoc(RepID)                        # Creates MS Word Doc called p21.document for SINGLE chart, deprecated\n",
        "    # ----------------------------------------------------------\n",
        "\n",
        "    p21utilsR.R511_parseChartData(chartData)                # Break up database data into useful pieces\n",
        "                                                            # Creates two primary dicts, GLon, GRet\n",
        "    p21utilsR.R30_LocateYogs()\n",
        "\n",
        "    # This is a rather clever hack. During the chart generation, the order in which charts are generated leaves\n",
        "    # the graha longitudes in the order of the last chart generate\n",
        "    # Hence there Ashtakvarga points in the output report will carry the points calculated on the basis of the last chart generate\n",
        "    # and not on the type of analysis that is actually required\n",
        "    #\n",
        "    if p21.AnalysisType == 'Rashi' :\n",
        "        listOfChartTypes = ['Navamsa','Rashi']\n",
        "    elif p21.AnalysisType == 'Navamsa':\n",
        "        listOfChartTypes = ['Rashi','Navamsa']\n",
        "    else:\n",
        "        print('Error, Unknown Analysis Type')\n",
        "\n",
        "\n",
        "    for ctype in listOfChartTypes:\n",
        "        p21.ChartType = ctype\n",
        "        p21utils.R11_LocateGrahaInRashi()   # Converts Graha Long to Rashi positions\n",
        "                                            # Rashi Num as well as Rashi name\n",
        "        if ChartStyle == 'Bengal':\n",
        "            p21utilsR.R12B_drawChart_Bengal()    # Draw Chart in Bengal style\n",
        "        if ChartStyle == 'South':\n",
        "            p21utilsR.R12B_drawChart_South()    # Draw Chart in South style\n",
        "        if ChartStyle == 'North':\n",
        "            p21utilsR.R12B_drawChart_North()    # Draw Chart in North style\n",
        "\n",
        "\n",
        "    p21utilsR.R512_FormatPage('SingleChart')                    # this is where the basic details of the chart are printed out\n",
        "    p21utilsR.R512_FormatPage2A()                                # this is where the Vimsottari Dasha details for SINGLE chart scenario\n",
        "    p21utilsR.R512_FormatPage2B()                                # this is where the AshtakVarga details for SINGLE chart scenario\n",
        "    # ------------------------------------\n",
        "    if p21.pName == p21.gName:\n",
        "        RollForward(24,7)                                       # AshtakVarga points for 24 days with gaps of 7 days each\n",
        "        p21utilsR.R512_FormatPage3_RollForward()\n",
        "    # ------------------------------------\n",
        "    p21.document.save(fileName)\n",
        "    return fileName\n",
        "\n",
        "print(\"Executed at \", datetime.now(pytz.timezone('Asia/Kolkata')))"
      ],
      "metadata": {
        "id": "nd3Zijjz1sfG",
        "outputId": "fa857bb8-6d25-4eff-fb99-c88695bf9220",
        "colab": {
          "base_uri": "https://localhost:8080/"
        }
      },
      "execution_count": 10,
      "outputs": [
        {
          "output_type": "stream",
          "name": "stdout",
          "text": [
            "Executed at  2023-08-14 16:52:48.670950+05:30\n"
          ]
        }
      ]
    },
    {
      "cell_type": "markdown",
      "source": [
        "## Store and Retrieve Function"
      ],
      "metadata": {
        "id": "YN827fluMSvH"
      }
    },
    {
      "cell_type": "code",
      "source": [
        "def StoreRetrieveChart():\n",
        "    with open('peopleData.json') as json_file:\n",
        "        oneChart = json.load(json_file)\n",
        "\n",
        "    db.drop_collection('khona21')\n",
        "    db.create_collection('khona21')               # Optional collection creation\n",
        "    p21.kollection = db.khona21                   # Set the collection to work with\n",
        "\n",
        "    # Insert the single chart\n",
        "    insert_result = p21.kollection.insert_one(oneChart)\n",
        "    return(pd.DataFrame(list(p21.kollection.find({},p21.selCols))))\n",
        "\n",
        "print(\"Executed at \", datetime.now(pytz.timezone('Asia/Kolkata')))"
      ],
      "metadata": {
        "id": "LM3zvIJMMVPt",
        "outputId": "385d2938-18a7-4394-bad6-85f811a3a595",
        "colab": {
          "base_uri": "https://localhost:8080/"
        }
      },
      "execution_count": 11,
      "outputs": [
        {
          "output_type": "stream",
          "name": "stdout",
          "text": [
            "Executed at  2023-08-14 16:52:48.684971+05:30\n"
          ]
        }
      ]
    },
    {
      "cell_type": "markdown",
      "source": [
        "##Roll Forward"
      ],
      "metadata": {
        "id": "xCehLuky4iO0"
      }
    },
    {
      "cell_type": "code",
      "source": [
        "def RollForward(numberOfPeriods,periodDuration):\n",
        "    sDate = datetime.now(pytz.timezone('Asia/Kolkata'))\n",
        "    cDate = sDate\n",
        "\n",
        "    s8v = p21utils.SarvaAshtakVarga()\n",
        "    print(cDate.date())\n",
        "    RashiSumData =  [[cDate.strftime(\"%Y-%m-%d\")] + s8v[1]]\n",
        "\n",
        "    RashiCols = ['Date']+ p21.RashiName[1:]\n",
        "\n",
        "    BhavSumData =  [[cDate.strftime(\"%Y-%m-%d\")] + s8v[3]]\n",
        "    BhavCols = ['Date']+ p21.BhavList[1:]\n",
        "    df_RashiSum = pd.DataFrame(data=RashiSumData, columns = RashiCols)\n",
        "    df_BhavSum = pd.DataFrame(data=BhavSumData, columns = BhavCols)\n",
        "\n",
        "    p21utils.setData(p21utils.getData(cDate))\n",
        "\n",
        "    for count in range(numberOfPeriods):\n",
        "        #print(cDate.date())\n",
        "        prevGrashiA = p21.GRashiA\n",
        "        prevGLonRet = p21.GLonRet\n",
        "        cDate += timedelta(days=periodDuration)\n",
        "        p21utils.setData(p21utils.getData(cDate))\n",
        "        s8v = p21utils.SarvaAshtakVarga()\n",
        "\n",
        "        df_RashiSum.loc[len(df_RashiSum)] = [cDate.strftime(\"%Y-%m-%d\")] + s8v[1]\n",
        "        df_BhavSum.loc[len(df_BhavSum)] = [cDate.strftime(\"%Y-%m-%d\")] + s8v[3]\n",
        "\n",
        "\n",
        "    # Convert date column to pandas date format\n",
        "    df_BhavSum['Date'] = pd.to_datetime(df_BhavSum['Date']).dt.date\n",
        "\n",
        "    # Set the date column as the index of the dataframe\n",
        "    df_BhavSum.set_index('Date',inplace=True)\n",
        "    #return(df_RashiSum, df_BhavSum)\n",
        "    for i in p21.BhavList[1:]:\n",
        "        L = [i]                                 # Generating each image for each bhav, one by one\n",
        "        titleTxt = L[0] + 'Bhav AshtakVarga for '+ p21.GRashiA['La']+' Rashi'\n",
        "        t = df_BhavSum.plot(y=L,kind='bar', ylim=(15, 45), figsize = (9,5), title = titleTxt, legend=False, fontsize = 5 ).get_figure();\n",
        "        iName = 'Bhav'+L[0]+'.png'\n",
        "        t.savefig(iName)\n",
        "\n",
        "print(\"Executed at \", datetime.now(pytz.timezone('Asia/Kolkata')))"
      ],
      "metadata": {
        "id": "WAG80cwK4nbe",
        "outputId": "08bc964e-ca2d-4d1d-8721-ee90780dc3f3",
        "colab": {
          "base_uri": "https://localhost:8080/"
        }
      },
      "execution_count": 12,
      "outputs": [
        {
          "output_type": "stream",
          "name": "stdout",
          "text": [
            "Executed at  2023-08-14 16:52:48.710889+05:30\n"
          ]
        }
      ]
    },
    {
      "cell_type": "markdown",
      "source": [
        "# Natal Chart\n",
        "Data for others can be added by adding an extra line in the cell below. Please follow the same pattern as in the other lines\n"
      ],
      "metadata": {
        "id": "ttRyzy7b9D3t"
      }
    },
    {
      "cell_type": "markdown",
      "source": [
        "## Representative Natal Chart Data"
      ],
      "metadata": {
        "id": "iC5HiRS8HwvN"
      }
    },
    {
      "cell_type": "code",
      "source": [
        "# Sample Data for some people\n",
        "#\n",
        "#%%writefile peopleData.csv\n",
        "#Gender,DoB_Day,DoB_Mon,DoB_Year,DoB_Time,TZ_OffHours,PoB_Lat,PoB_Lon,TZ_Name,TZ_Type,Name,tag1,tag2,tag3,tag4,tag5,tag6\n",
        "#M,17,9,1950,23:11,5.5,23.72,63.36,IST,standard,NDModi,Politician,nil,Administrator,nil,nil,nil\n",
        "#F,10,10,1954,11:00,5.5,13.08,80.27,IST,standard,Rekha,Actor,nil,Dancer,nil,nil,nil\n",
        "#M,15,10,1931,1:15,5.5,9.29,79.31,IST,standard,APJAbdulKalam,Engineer,nil,PublicFigure,nil,nil,nil\n",
        "#F,19,11,1917,23:11,5.5,25.43,81.85,IST,standard,IndiraG,Politician,nil,PublicFigure,nil,nil,nil\n",
        "#M,15,10,1961,23:42,5.5,22.57,88.37,IST,standard,Person1,dummy,nil,dummy,nil,dummy,nil\n",
        "#F,19,12,1965,10:26,5.5,22.57,88.37,IST,standard,Person1,dummy,nil,dummy,nil,dummy,nil\n",
        "#M,9,10,1990,23:09,5.5,22.57,88.37,IST,standard,Person1,dummy,nil,dummy,nil,dummy,nil\n",
        "#F,12,9,1990,0:52,5.5,22.87,88.37,IST,standard,Person1,dummy,nil,dummy,nil,dummy,nil\n",
        "\n",
        "#Read Birth Data from a file\n",
        "#!wget -O peopleData.csv -q https://raw.githubusercontent.com/prithwis/parashar21/main/data/Test5Data.txt # 5 Person Test Data\n",
        "#!cat peopleData.csv"
      ],
      "metadata": {
        "id": "awh7a1KSTZci"
      },
      "execution_count": 13,
      "outputs": []
    },
    {
      "cell_type": "code",
      "source": [
        "#Optional  ----------------------------------------------\n",
        "# Get Lat Long for Place of Birth, in case that is not known\n",
        "# https://stackoverflow.com/questions/69854674/python-generate-lat-long-points-from-address\n",
        "from geopy.geocoders import Nominatim\n",
        "\n",
        "geolocator = Nominatim(user_agent='your_app_name')\n",
        "addresses = [\n",
        "            'Vadnagar, Gujarat, India',\n",
        "            'Kolkata, West Bengal, India',\n",
        "            'Prantik, Bolpur, Birbhum, West Bengal, India',\n",
        "            'Purulia, Purulia, West Bengal,India'\n",
        "]\n",
        "\n",
        "coordinates = []\n",
        "for address in addresses:\n",
        "    location = geolocator.geocode(address)\n",
        "    lat, lon = location.latitude, location.longitude\n",
        "    coordinates.append((lat, lon))\n",
        "\n",
        "print(coordinates)"
      ],
      "metadata": {
        "id": "InTOslscRZ-B",
        "outputId": "9b7cef50-ab98-4b8b-8901-1a60d201cea1",
        "colab": {
          "base_uri": "https://localhost:8080/"
        }
      },
      "execution_count": 14,
      "outputs": [
        {
          "output_type": "stream",
          "name": "stdout",
          "text": [
            "[(23.7848358, 72.6346407), (22.5726459, 88.3638953), (23.6970143, 87.6863117), (23.3291882, 86.3672378)]\n"
          ]
        }
      ]
    },
    {
      "cell_type": "markdown",
      "source": [
        "## Natal Data Preparation"
      ],
      "metadata": {
        "id": "yOw4fYHv2VSn"
      }
    },
    {
      "cell_type": "code",
      "source": [
        "%%writefile peopleData.csv\n",
        "Gender,DoB_Day,DoB_Mon,DoB_Year,DoB_Time,TZ_OffHours,PoB_Lat,PoB_Lon,TZ_Name,TZ_Type,Name,tag1,tag2,tag3,tag4,tag5,tag6\n",
        "M,15,10,1961,23:42,5.5,22.57,88.37,IST,standard,Person1,dummy,nil,dummy,nil,dummy,nil"
      ],
      "metadata": {
        "colab": {
          "base_uri": "https://localhost:8080/"
        },
        "id": "x7sg8sa11Zpm",
        "outputId": "a5f34a89-67a5-4b0c-c120-4833e48f7147"
      },
      "execution_count": 28,
      "outputs": [
        {
          "output_type": "stream",
          "name": "stdout",
          "text": [
            "Overwriting peopleData.csv\n"
          ]
        }
      ]
    },
    {
      "cell_type": "markdown",
      "source": [
        "## Natal Data Analysis\n",
        "type of analsis Rashi / Navamsa to be specified here"
      ],
      "metadata": {
        "id": "kyVdK9uVFfdy"
      }
    },
    {
      "cell_type": "code",
      "source": [
        "#%%time\n",
        "df = pd.read_csv('peopleData.csv')\n",
        "p21.AnalysisType = 'Rashi'                                     # one of ['Rashi','Navamsa']\n",
        "#p21.AnalysisType = 'Navamsa'                                    # one of ['Rashi','Navamsa']\n",
        "p21.ChartType = p21.AnalysisType\n",
        "# ------------------------------------------------------------\n",
        "# Converts date/time info into a detailed horoscope chart\n",
        "# Stores the same in a JSON file, to be inserted into a local MongoDB database\n",
        "#\n",
        "p21swe.C61_Cast2JSON(df)\n",
        "#p21utils.SarvaAshtakVarga()                            # Uncomment for debugging Ashtakvarga point calculation\n",
        "#p21.SubMoonLong = p21.GLon['Mo']                        # Preserving Moon Longitude for Gochar\n",
        "#p21.Subject = p21.pName                                 # Preserving Subjects Name for Gochar\n",
        "p21utils.GetDasha()                                     # Generates Vimsottari Dasha / Antardasha Details"
      ],
      "metadata": {
        "id": "Zrrs_eHOOYpl",
        "outputId": "0585945b-5078-48b9-8c1f-71a65f7582e3",
        "colab": {
          "base_uri": "https://localhost:8080/"
        }
      },
      "execution_count": 29,
      "outputs": [
        {
          "output_type": "stream",
          "name": "stdout",
          "text": [
            "1 records processed, so far\n",
            "1  records generated and stored in file peopleData.json\n"
          ]
        }
      ]
    },
    {
      "cell_type": "code",
      "source": [
        "!rm *.doc\n",
        "!rm *.png"
      ],
      "metadata": {
        "id": "DAxJ100ZLZej",
        "outputId": "fea8158f-c6bb-4cc7-f816-064b166b2d68",
        "colab": {
          "base_uri": "https://localhost:8080/"
        }
      },
      "execution_count": 17,
      "outputs": [
        {
          "output_type": "stream",
          "name": "stdout",
          "text": [
            "rm: cannot remove '*.doc': No such file or directory\n",
            "rm: cannot remove '*.png': No such file or directory\n"
          ]
        }
      ]
    },
    {
      "cell_type": "markdown",
      "source": [
        "## Natal Chart Generation"
      ],
      "metadata": {
        "id": "YeybZgev19Cw"
      }
    },
    {
      "cell_type": "code",
      "source": [
        "%%capture\n",
        "\n",
        "#p21.printDasha = True\n",
        "chart = StoreRetrieveChart()\n",
        "ReportFile = genReport('Bengal')\n",
        "\n",
        "p21.SubMoonLong = p21.GLon['Mo']                        # Preserving Moon Longitude for Gochar\n",
        "p21.Subject = p21.pName                                 # Preserving Subjects Name for Gochar Chart\n",
        "\n",
        "# Note : The MS-Word file that is generated is available in the Colab VM Drive\n",
        "# and needs to be downloaded to local laptop / machine for viewing in MS-Word\n",
        "\n",
        "#ReportFile = genChart('South')\n"
      ],
      "metadata": {
        "id": "TjPcGN3XM9Qq"
      },
      "execution_count": 30,
      "outputs": []
    },
    {
      "cell_type": "markdown",
      "source": [
        "#Gochar Chart"
      ],
      "metadata": {
        "id": "y6rgDCdL2eiB"
      }
    },
    {
      "cell_type": "markdown",
      "source": [
        "##Gochar Data Preparation"
      ],
      "metadata": {
        "id": "cYUFzCsP6IQD"
      }
    },
    {
      "cell_type": "code",
      "source": [
        "# This cell to be executed ONLY after natal chart has been created, otherwise errors\n",
        "#\n",
        "!sed -n 1p peopleData.csv > peopleData2.csv                                  # Copy the Header data\n",
        "print(p21.gName, p21.SubMoonLong)\n",
        "now = datetime.now(pytz.timezone('Asia/Kolkata'))\n",
        "timeTxt = now.strftime(\"%-d,%-m,%Y,%-H:%-M\")\n",
        "\n",
        "#\n",
        "# for Gochar chart for any other time, other than now()\n",
        "#timeTxt = '31,5,2023,9:16'                # any other time in dd,mm,yyyy,hh:mm format will do\n",
        "#\n",
        "\n",
        "GocharTxt = 'x,'+timeTxt+',5.5,25.43,81.85,IST,standard,'+p21.gName+',nil,nil,nil,nil,nil,nil'    # Using Lat, Long of Calcutta for Gochar\n",
        "print(GocharTxt)\n",
        "with open(\"peopleData2.csv\", 'a') as file1:                                                       # Append Gochar Data\n",
        "    file1.write(GocharTxt)"
      ],
      "metadata": {
        "id": "r6GOCukq6Ken",
        "outputId": "c74cc87a-f06d-404b-fd5e-7e797934018c",
        "colab": {
          "base_uri": "https://localhost:8080/"
        }
      },
      "execution_count": 31,
      "outputs": [
        {
          "output_type": "stream",
          "name": "stdout",
          "text": [
            "_Gochar 250.52\n",
            "x,14,8,2023,17:0,5.5,25.43,81.85,IST,standard,_Gochar,nil,nil,nil,nil,nil,nil\n"
          ]
        }
      ]
    },
    {
      "cell_type": "markdown",
      "source": [
        "## Gochar Data Analysis"
      ],
      "metadata": {
        "id": "dkbvsoDnQW74"
      }
    },
    {
      "cell_type": "code",
      "source": [
        "\n",
        "\n",
        "# Load CSV data into Pandas dataframe\n",
        "#\n",
        "df = pd.read_csv('peopleData2.csv')\n",
        "p21.AnalysisType = 'Rashi'                                     # one of ['Rashi','Navamsa']\n",
        "#p21.AnalysisType = 'Navamsa'                                    # one of ['Rashi','Navamsa']\n",
        "\n",
        "p21.ChartType = p21.AnalysisType\n",
        "p21swe.C61_Cast2JSON(df)                                      # For Gochar, the La Long is set to Natal Moon Long\n",
        "#print(p21.GLon['La'],p21.GLon['Mo'])\n",
        "#p21utils.SarvaAshtakVarga()                                     # Uncomment for debugging Ashtakvarga point calculation\n"
      ],
      "metadata": {
        "id": "C5m-T-guzPNt",
        "outputId": "3b6edbcf-e569-4077-cc4a-68f5cf4eda02",
        "colab": {
          "base_uri": "https://localhost:8080/"
        }
      },
      "execution_count": 32,
      "outputs": [
        {
          "output_type": "stream",
          "name": "stdout",
          "text": [
            "La long reset to  250.52 Natal moon position for Gochar\n",
            "1 records processed, so far\n",
            "1  records generated and stored in file peopleData.json\n"
          ]
        }
      ]
    },
    {
      "cell_type": "markdown",
      "source": [
        "## Gochar Chart Generation"
      ],
      "metadata": {
        "id": "UfrvUFYmNGzX"
      }
    },
    {
      "cell_type": "code",
      "source": [
        "%%capture\n",
        "\n",
        "#p21.printDasha = True\n",
        "chart = StoreRetrieveChart()\n",
        "ReportFile = genReport('Bengal')\n",
        "\n",
        "# Note : The MS-Word file that is generated is available in the Colab VM Drive\n",
        "# and needs to be downloaded to local laptop / machine for viewing in MS-Word\n",
        "\n",
        "!rm Bha*.png"
      ],
      "metadata": {
        "id": "DNQxCgmKNZKT"
      },
      "execution_count": 33,
      "outputs": []
    },
    {
      "cell_type": "code",
      "source": [
        "#print(p21.Subject,p21.pName)"
      ],
      "metadata": {
        "id": "CU6ZM89PL-nO"
      },
      "execution_count": 22,
      "outputs": []
    },
    {
      "cell_type": "code",
      "source": [
        "print(\"\\033[1m\"+'जय पराशर'+\"\\033[0m\")\n",
        "print(datetime.now(pytz.timezone('Asia/Calcutta')))"
      ],
      "metadata": {
        "id": "eMDSElhp1_fN",
        "outputId": "5c3d364c-7955-4c5f-93fb-bf3b991f9b43",
        "colab": {
          "base_uri": "https://localhost:8080/"
        }
      },
      "execution_count": 23,
      "outputs": [
        {
          "output_type": "stream",
          "name": "stdout",
          "text": [
            "\u001b[1mजय पराशर\u001b[0m\n",
            "2023-08-14 16:53:06.464351+05:30\n"
          ]
        }
      ]
    },
    {
      "cell_type": "markdown",
      "source": [
        "#Chronobooks <br>\n",
        "![alt text](https://1.bp.blogspot.com/-lTiYBkU2qbU/X1er__fvnkI/AAAAAAAAjtE/GhDR3OEGJr4NG43fZPodrQD5kbxtnKebgCLcBGAsYHQ/s600/Footer2020-600x200.png)<hr>\n",
        "Chronotantra and Chronoyantra are two science fiction novels that explore the collapse of human civilisation on Earth and then its rebirth and reincarnation both on Earth as well as on the distant worlds of Mars, Titan and Enceladus. But is it the human civilisation that is being reborn? Or is it some other sentience that is revealing itself.\n",
        "If you have an interest in AI and found this material useful, you may consider buying these novels, in paperback or kindle, from [http://bit.ly/chronobooks](http://bit.ly/chronobooks)"
      ],
      "metadata": {
        "id": "DFx4XUVBB0vg"
      }
    },
    {
      "cell_type": "markdown",
      "source": [
        "# Leftovers"
      ],
      "metadata": {
        "id": "jKGdhKgjNnri"
      }
    },
    {
      "cell_type": "markdown",
      "source": [
        "#Time Series"
      ],
      "metadata": {
        "id": "lLur0fqUcoul"
      }
    },
    {
      "cell_type": "code",
      "source": [
        "#x,rashiSum,y,bhavSum,z = p21utils.SarvaAshtakVarga()\n",
        "s8v = p21utils.SarvaAshtakVarga()\n",
        "print(p21.GRashiN)\n",
        "rashiSum = s8v[1]\n",
        "print(rashiSum)\n",
        "print(p21.GRashiA)\n",
        "bhavSum = s8v[3]\n",
        "print(bhavSum)"
      ],
      "metadata": {
        "colab": {
          "base_uri": "https://localhost:8080/"
        },
        "id": "J1m9Q61BnJoz",
        "outputId": "008ae5e3-ee0d-45d1-8a17-109e23d55d0b"
      },
      "execution_count": 24,
      "outputs": [
        {
          "output_type": "stream",
          "name": "stdout",
          "text": [
            "SarvaAshtakVarga | Rashi {'La': 9, 'Su': 10, 'Mo': 5, 'Ma': 9, 'Me': 9, 'Ju': 1, 'Ve': 9, 'Sa': 11, 'Ra': 12, 'Ke': 6}\n",
            " + [27, 30, 23, 21, 27, 34, 43, 26, 26, 25, 31, 24]  =  337\n",
            "SarvaAshtakVarga | Bhav [' ', 9, 10, 11, 12, 1, 2, 3, 4, 5, 6, 7, 8]\n",
            " + [26, 25, 31, 24, 27, 30, 23, 21, 27, 34, 43, 26]  =  337\n",
            "Bandhu:  80 Sevak:  89 Poshak:  97 Ghatak:  71\n",
            "{'La': 9, 'Su': 10, 'Mo': 5, 'Ma': 9, 'Me': 9, 'Ju': 1, 'Ve': 9, 'Sa': 11, 'Ra': 12, 'Ke': 6}\n",
            "[27, 30, 23, 21, 27, 34, 43, 26, 26, 25, 31, 24]\n",
            "{'La': 'Dhanu', 'Su': 'Makar', 'Mo': 'Simha', 'Ma': 'Dhanu', 'Me': 'Dhanu', 'Ju': 'Mesh', 'Ve': 'Dhanu', 'Sa': 'Kumbh', 'Ra': 'Meen', 'Ke': 'Kanya'}\n",
            "[26, 25, 31, 24, 27, 30, 23, 21, 27, 34, 43, 26]\n"
          ]
        }
      ]
    },
    {
      "cell_type": "code",
      "source": [
        "#\n",
        "#Get List of Persons whose charts are found in the database\n",
        "#\n",
        "selCond = {}                                              # All Charts\n",
        "#pd.DataFrame(list(p21.kollection.find(selCond,p21.selCols)))\n",
        "#pd.DataFrame(list(p21.kollection.find(selCond,{'pid.name':1,'_id':0})))\n",
        "#pd.DataFrame(list(p21.kollection.find(selCond,{'pid.name':1})))\n",
        "#pd.DataFrame(list(p21.kollection.find(selCond,p21.selCols)))\n"
      ],
      "metadata": {
        "id": "RevVlQkqjTua"
      },
      "execution_count": 25,
      "outputs": []
    },
    {
      "cell_type": "code",
      "source": [
        "#\n",
        "# Download last Report File\n",
        "#\n",
        "#files.download(ReportFile)"
      ],
      "metadata": {
        "id": "Rm8OtbSliPbO"
      },
      "execution_count": 26,
      "outputs": []
    },
    {
      "cell_type": "code",
      "source": [
        "#!rm *.doc"
      ],
      "metadata": {
        "id": "IUBMuUzb-M2F"
      },
      "execution_count": 27,
      "outputs": []
    }
  ]
}