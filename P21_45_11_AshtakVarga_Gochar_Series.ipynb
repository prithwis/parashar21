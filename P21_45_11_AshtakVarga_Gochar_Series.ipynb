{
  "nbformat": 4,
  "nbformat_minor": 0,
  "metadata": {
    "colab": {
      "provenance": [],
      "include_colab_link": true
    },
    "kernelspec": {
      "name": "python3",
      "display_name": "Python 3"
    },
    "language_info": {
      "name": "python"
    }
  },
  "cells": [
    {
      "cell_type": "markdown",
      "metadata": {
        "id": "view-in-github",
        "colab_type": "text"
      },
      "source": [
        "<a href=\"https://colab.research.google.com/github/prithwis/parashar21/blob/main/P21_45_11_AshtakVarga_Gochar_Series.ipynb\" target=\"_parent\"><img src=\"https://colab.research.google.com/assets/colab-badge.svg\" alt=\"Open In Colab\"/></a>"
      ]
    },
    {
      "cell_type": "markdown",
      "source": [
        "ॐ श्री गणेशाय नमः"
      ],
      "metadata": {
        "id": "g9K48vn81AI_"
      }
    },
    {
      "cell_type": "markdown",
      "source": [
        "![alt text](http://1.bp.blogspot.com/_5QlanosqxiQ/SXLOLTu7S7I/AAAAAAAAAm8/0r6C7lCxsic/S1600-R/p21-header-003.png) <br>\n",
        "\n",
        "\n",
        "---\n",
        "\n",
        "\n",
        "\n",
        "[Prithwis Mukerjee](http://www.yantrajaal.com) ||\n",
        "Website - [Parashar21](https://parashar21.blogspot.com)<br>"
      ],
      "metadata": {
        "id": "rj4jjIHTvPV8"
      }
    },
    {
      "cell_type": "markdown",
      "source": [
        "Copyright (c) 2022, Prithwis Mukerjee All rights reserved.\n",
        "\n",
        "This source code is licensed under the GNU GPL v3.0 -style license found in the LICENSE file in the root directory of this source tree."
      ],
      "metadata": {
        "id": "9OzVEmHm1IaF"
      }
    },
    {
      "cell_type": "markdown",
      "source": [
        "#Single Chart | Ashtakvarga | Gochar | Time Series"
      ],
      "metadata": {
        "id": "Denaio5qTev0"
      }
    },
    {
      "cell_type": "markdown",
      "source": [
        "##Rationale\n",
        "\n",
        "The core 'engine' of Parashar21 is designed to cast multiple horoscopes using the [Python](https://pypi.org/project/pyswisseph/) version of the [Swiss Ephemeris](https://www.astro.com/swisseph/) software, convert the charts to JSON format and then store the charts in a MongoDB database. This is demonstrated in the notebook [P21_45_10_MultiChart_Analysis](https://github.com/prithwis/parashar21/blob/main/P21_45_10_MultiChart_Analysis.ipynb). <br><br>\n",
        "In this notebook, the focus is an analysis of a single chart, either the Rashi chart or the Navamsa chart along with additional information on Aspects, Conjuncts, Lords, Bhavs, Ashtakvarga points, Dasha and Gochar analysis. <br> <br>\n",
        "While processing a single chart does not need any kind of database engine we found it economical to skip another ground up development and retain the same code base. Moreover, the Mongo query language has been used to filter out horoscopes that meet certain criteria (as in Yogs or patterns). This search and filter operation would have been difficult without the MongoDB query language. Hence the database is retained. <br> <br>\n",
        "For full information about this project, please see the [Parashar21](https://prithwis.github.io/parashar21/) github page.\n"
      ],
      "metadata": {
        "id": "MKVBLfNMnXYE"
      }
    },
    {
      "cell_type": "code",
      "source": [
        "from datetime import datetime\n",
        "import pytz\n",
        "print(\"\\033[1m\"+'ॐ श्री गणेशाय नमः'+\"\\033[0m\")\n",
        "print(datetime.now(pytz.timezone('Asia/Calcutta')))"
      ],
      "metadata": {
        "id": "RyyDc2GP1e9v",
        "outputId": "1e1fe9c0-7681-4b6c-fce8-b56d029951a7",
        "colab": {
          "base_uri": "https://localhost:8080/"
        }
      },
      "execution_count": 1,
      "outputs": [
        {
          "output_type": "stream",
          "name": "stdout",
          "text": [
            "\u001b[1mॐ श्री गणेशाय नमः\u001b[0m\n",
            "2023-08-13 21:39:43.090974+05:30\n"
          ]
        }
      ]
    },
    {
      "cell_type": "markdown",
      "source": [
        "#SetUp Environment"
      ],
      "metadata": {
        "id": "l2v2nhRKvwJS"
      }
    },
    {
      "cell_type": "markdown",
      "source": [
        "##Install Software"
      ],
      "metadata": {
        "id": "djqyotVjO5TI"
      }
    },
    {
      "cell_type": "code",
      "source": [
        "!python --version\n",
        "!lsb_release -a\n",
        "!pip -qq install pyswisseph                                 # https://stackoverflow.com/questions/64277506/pip-install-options-unclear\n",
        "!pip -qq install python-docx                                # https://python-docx.readthedocs.io/en/latest/\n",
        "#!/usr/bin/python3 -m pip install \"pymongo[srv]\"            # Required only if used with Atlas remote servers\n",
        "!pip -qq install pymongo                                    # Required for Mongo client\n",
        "#!apt install mongodb > /dev/null                            # install local MongoDB server      --- this part does not work anymore"
      ],
      "metadata": {
        "colab": {
          "base_uri": "https://localhost:8080/"
        },
        "id": "AWKFabc0v3FI",
        "outputId": "a53b4b78-6116-4f3a-f1a0-73b7002f0441"
      },
      "execution_count": 2,
      "outputs": [
        {
          "output_type": "stream",
          "name": "stdout",
          "text": [
            "Python 3.10.12\n",
            "No LSB modules are available.\n",
            "Distributor ID:\tUbuntu\n",
            "Description:\tUbuntu 22.04.2 LTS\n",
            "Release:\t22.04\n",
            "Codename:\tjammy\n",
            "\u001b[2K     \u001b[90m━━━━━━━━━━━━━━━━━━━━━━━━━━━━━━━━━━━━━━━━\u001b[0m \u001b[32m1.8/1.8 MB\u001b[0m \u001b[31m20.6 MB/s\u001b[0m eta \u001b[36m0:00:00\u001b[0m\n",
            "\u001b[2K     \u001b[90m━━━━━━━━━━━━━━━━━━━━━━━━━━━━━━━━━━━━━━━━\u001b[0m \u001b[32m5.6/5.6 MB\u001b[0m \u001b[31m33.0 MB/s\u001b[0m eta \u001b[36m0:00:00\u001b[0m\n",
            "\u001b[?25h  Preparing metadata (setup.py) ... \u001b[?25l\u001b[?25hdone\n",
            "  Building wheel for python-docx (setup.py) ... \u001b[?25l\u001b[?25hdone\n",
            "\u001b[2K     \u001b[90m━━━━━━━━━━━━━━━━━━━━━━━━━━━━━━━━━━━━━━━\u001b[0m \u001b[32m603.6/603.6 kB\u001b[0m \u001b[31m6.8 MB/s\u001b[0m eta \u001b[36m0:00:00\u001b[0m\n",
            "\u001b[2K     \u001b[90m━━━━━━━━━━━━━━━━━━━━━━━━━━━━━━━━━━━━━━\u001b[0m \u001b[32m300.4/300.4 kB\u001b[0m \u001b[31m32.7 MB/s\u001b[0m eta \u001b[36m0:00:00\u001b[0m\n",
            "\u001b[?25h"
          ]
        }
      ]
    },
    {
      "cell_type": "code",
      "source": [
        "#Utility functions\n",
        "from pymongo import MongoClient\n",
        "import pandas as pd\n",
        "import dateutil\n",
        "import json\n",
        "from docx import Document\n",
        "from docx.shared import Inches\n",
        "from docx.enum.text import WD_ALIGN_PARAGRAPH\n",
        "from datetime import datetime\n",
        "from datetime import timedelta\n",
        "import pytz\n",
        "from google.colab import files\n",
        "\n",
        "#import matplotlib.pyplot as plt\n",
        "#import math"
      ],
      "metadata": {
        "id": "NAU1NX1CZsM8"
      },
      "execution_count": 3,
      "outputs": []
    },
    {
      "cell_type": "markdown",
      "source": [
        "### Install local MongoDB\n",
        "https://www.mongodb.com/docs/manual/tutorial/install-mongodb-on-ubuntu/ <br>\n",
        "https://unix.stackexchange.com/questions/715119/system-v-init-service-cant-recongnise-mongod"
      ],
      "metadata": {
        "id": "cDmtkcercNUd"
      }
    },
    {
      "cell_type": "code",
      "source": [
        "!curl -fsSL https://pgp.mongodb.com/server-6.0.asc | \\\n",
        "   sudo gpg -o /usr/share/keyrings/mongodb-server-6.0.gpg \\\n",
        "   --dearmor\n",
        "# --------------------\n",
        "# NOTE we are using Ubuntu 22.04 hence 'jammy'\n",
        "\n",
        "!echo \"deb [ arch=amd64,arm64 signed-by=/usr/share/keyrings/mongodb-server-6.0.gpg ] https://repo.mongodb.org/apt/ubuntu jammy/mongodb-org/6.0 multiverse\" | sudo tee /etc/apt/sources.list.d/mongodb-org-6.0.list\n",
        "# --------------------\n",
        "!sudo apt-get update > /dev/null\n",
        "# --------------------\n",
        "!sudo apt-get install -y mongodb-org > /dev/null          # error, warning messages may be ignored\n",
        "# --------------------\n",
        "!sudo mkdir -p /var/log/mongodb /var/lib/mongodb\n",
        "# --------------------\n",
        "!sudo chown `whoami` /var/lib/mongodb /var/log/mongodb/\n",
        "# -------------------------------------------\n",
        "#!service mongodb start                                      # start Local MongoDB server instance --- does not work anymore\n",
        "!nohup mongod --config /etc/mongod.conf &                    # patch for manual start\n",
        "#!mongod --version\n",
        "# Connect to local MongoDB\n",
        "mongoURI = \"mongodb://localhost:27017/\"                               # for local server\n",
        "client = MongoClient(mongoURI)\n",
        "db = client.parashar21\n",
        "client.list_database_names() # ['admin', 'config', 'local']"
      ],
      "metadata": {
        "colab": {
          "base_uri": "https://localhost:8080/"
        },
        "id": "80mh8SqBcm8I",
        "outputId": "f92a51f4-bdf9-483a-8f37-270dc01eff94"
      },
      "execution_count": 4,
      "outputs": [
        {
          "output_type": "stream",
          "name": "stdout",
          "text": [
            "deb [ arch=amd64,arm64 signed-by=/usr/share/keyrings/mongodb-server-6.0.gpg ] https://repo.mongodb.org/apt/ubuntu jammy/mongodb-org/6.0 multiverse\n",
            "debconf: unable to initialize frontend: Dialog\n",
            "debconf: (No usable dialog-like program is installed, so the dialog based frontend cannot be used. at /usr/share/perl5/Debconf/FrontEnd/Dialog.pm line 78, <> line 9.)\n",
            "debconf: falling back to frontend: Readline\n",
            "debconf: unable to initialize frontend: Readline\n",
            "debconf: (This frontend requires a controlling tty.)\n",
            "debconf: falling back to frontend: Teletype\n",
            "dpkg-preconfigure: unable to re-open stdin: \n",
            "nohup: appending output to 'nohup.out'\n"
          ]
        },
        {
          "output_type": "execute_result",
          "data": {
            "text/plain": [
              "['admin', 'config', 'local']"
            ]
          },
          "metadata": {},
          "execution_count": 4
        }
      ]
    },
    {
      "cell_type": "markdown",
      "source": [
        "### Install, import local modules"
      ],
      "metadata": {
        "id": "Vml3UdnbOAlO"
      }
    },
    {
      "cell_type": "code",
      "source": [
        "#Load p21 modules from github\n",
        "!wget -O p21.py -q https://raw.githubusercontent.com/prithwis/parashar21/main/utils/p21.py                  # all global variables\n",
        "!wget -O p21utils.py -q https://raw.githubusercontent.com/prithwis/parashar21/main/utils/p21utils.py        # large number of utility functions\n",
        "!wget -O p21utilsR.py -q https://raw.githubusercontent.com/prithwis/parashar21/main/utils/p21utilsR.py      # report writing utility functions\n",
        "!wget -O p21swe.py -q https://raw.githubusercontent.com/prithwis/parashar21/main/utils/p21swe.py            # Swiss Ephemeris functions\n",
        "!wget -O p21YogInfo.py -q https://raw.githubusercontent.com/prithwis/parashar21/main/utils/p21YogInfo.py    # yog data - description and conditions\n",
        "# ---------------------------\n",
        "\n",
        "#!wget -O Saraswati.png -q https://github.com/prithwis/parashar21/raw/main/images/Saraswati02.png\n",
        "#!wget -O p21logo.png -q https://github.com/prithwis/parashar21/raw/main/images/p21logo-002-1.png\n",
        "\n"
      ],
      "metadata": {
        "id": "uwAT_IbvB0A-"
      },
      "execution_count": 5,
      "outputs": []
    },
    {
      "cell_type": "code",
      "source": [
        "import p21\n",
        "import p21utils\n",
        "import p21utilsR\n",
        "import p21swe\n",
        "import p21YogInfo\n",
        "# ------------------------------------------------\n",
        "# required for multiple imports of the same module\n",
        "# ------------------------------------------------\n",
        "import importlib\n",
        "importlib.reload(p21)\n",
        "importlib.reload(p21utils)\n",
        "importlib.reload(p21utilsR)\n",
        "importlib.reload(p21swe)\n",
        "importlib.reload(p21YogInfo)"
      ],
      "metadata": {
        "id": "7Np3o1Nn0zrX",
        "outputId": "1e1a1090-4a72-4eda-e091-2d24b27d3902",
        "colab": {
          "base_uri": "https://localhost:8080/"
        }
      },
      "execution_count": 6,
      "outputs": [
        {
          "output_type": "stream",
          "name": "stdout",
          "text": [
            "10 Yogs on record\n",
            "0 : Amala Yog | 10th from Moon OR Lagna should have a benefic\n",
            "1 : RajLakshana Yog | Jupiter, Venus, Mercury, Moon should be in Lagna or they should be in a Kendra\n",
            "2 : Chatussagara Yog | All the Kendras 1/4/7/10 are occupied by planets, Ra, Ke not counted here\n",
            "3 : Adhi678 Yog | Benefics located in 6/7/8th  from Moon\n",
            "4 : Chandra Mangal Yog | Mars Conjoins Moon or  Mars and Moon in Mutual Aspect\n",
            "5 : Kemadruma Yog : No planets on either sides of the Moon\n",
            "6 : Anapha Yog |Planets other than Sun in 12th Place from Moon\n",
            "7 : Sunapha Yog |Planets other than Sun in 2nd Place from Moon\n",
            "8 : Dhurdhura Yog | Planets on both sides of the Moon\n",
            "9 : Gajakesari Yog | Jupiter is in Kendra or 1,4,7,10th from Moon\n",
            "10 Yogs on record\n",
            "0 : Amala Yog | 10th from Moon OR Lagna should have a benefic\n",
            "1 : RajLakshana Yog | Jupiter, Venus, Mercury, Moon should be in Lagna or they should be in a Kendra\n",
            "2 : Chatussagara Yog | All the Kendras 1/4/7/10 are occupied by planets, Ra, Ke not counted here\n",
            "3 : Adhi678 Yog | Benefics located in 6/7/8th  from Moon\n",
            "4 : Chandra Mangal Yog | Mars Conjoins Moon or  Mars and Moon in Mutual Aspect\n",
            "5 : Kemadruma Yog : No planets on either sides of the Moon\n",
            "6 : Anapha Yog |Planets other than Sun in 12th Place from Moon\n",
            "7 : Sunapha Yog |Planets other than Sun in 2nd Place from Moon\n",
            "8 : Dhurdhura Yog | Planets on both sides of the Moon\n",
            "9 : Gajakesari Yog | Jupiter is in Kendra or 1,4,7,10th from Moon\n"
          ]
        },
        {
          "output_type": "execute_result",
          "data": {
            "text/plain": [
              "<module 'p21YogInfo' from '/content/p21YogInfo.py'>"
            ]
          },
          "metadata": {},
          "execution_count": 6
        }
      ]
    },
    {
      "cell_type": "code",
      "source": [
        "# Guess what is happening here :-)\n",
        "#\n",
        "!wc *.py | grep total |awk '{print $1 \" lines\";}'\n",
        "!sed '/^#/d' *.py | wc |awk '{print $1 \" non-comment lines\";}'"
      ],
      "metadata": {
        "id": "9VHL5rlXx9xy",
        "outputId": "5b65bedd-f682-4a20-c2af-8ddbba6dfc62",
        "colab": {
          "base_uri": "https://localhost:8080/"
        }
      },
      "execution_count": 7,
      "outputs": [
        {
          "output_type": "stream",
          "name": "stdout",
          "text": [
            "2576 lines\n",
            "2335 non-comment lines\n"
          ]
        }
      ]
    },
    {
      "cell_type": "markdown",
      "source": [
        "### Configure Swiss Ephemeris"
      ],
      "metadata": {
        "id": "bdt1i2F7Z9IK"
      }
    },
    {
      "cell_type": "code",
      "source": [
        "#Download Swiss Ephemeris Files\n",
        "!wget -q http://www.astro.com/ftp/swisseph/ephe/seas_18.se1\n",
        "!wget -q http://www.astro.com/ftp/swisseph/ephe/semo_18.se1\n",
        "!wget -q http://www.astro.com/ftp/swisseph/ephe/sepl_18.se1\n",
        "!mkdir ephe\n",
        "!mv *.se1 ephe\n",
        "#------------------------------\n",
        "# Configure SWE with appropriate parameters\n",
        "#\n",
        "p21swe.C01_configSWE()"
      ],
      "metadata": {
        "id": "kMKlXoDGH8XP"
      },
      "execution_count": 8,
      "outputs": []
    },
    {
      "cell_type": "markdown",
      "source": [
        "#Local Functions"
      ],
      "metadata": {
        "id": "AW0V9j1W1ufz"
      }
    },
    {
      "cell_type": "markdown",
      "source": [
        "## Chart Generation"
      ],
      "metadata": {
        "id": "3L6e0NmdFOsL"
      }
    },
    {
      "cell_type": "code",
      "source": [
        "def genChart(ChartStyle):\n",
        "\n",
        "    chartData = chart.iloc[0]\n",
        "    RepID = chart.iloc[0]['pid']['name']+'_'+p21.AnalysisType[0:3]+'_'+ChartStyle[0:1]\n",
        "    now = datetime.now(pytz.timezone('Asia/Kolkata'))\n",
        "    fileName = 'p21_'+RepID+'_'+now.strftime(\"%H%M%S\")+'.doc'\n",
        "\n",
        "    # ---------------------------------------------------------\n",
        "    p21utilsR.R01_CreateReportDoc(None,None,'SingleChart')        # Creates MS Word Doc called p21.document for Single or MULTIPLE charts\n",
        "    #p21utilsR.R01A_CreateReportDoc(RepID)                        # Creates MS Word Doc called p21.document for SINGLE chart, deprecated\n",
        "    # ----------------------------------------------------------\n",
        "\n",
        "    p21utilsR.R511_parseChartData(chartData)                # Break up database data into useful pieces\n",
        "                                                            # Creates two primary dicts, GLon, GRet\n",
        "    p21utilsR.R30_LocateYogs()\n",
        "\n",
        "    # This is a rather clever hack. During the chart generation, the order in which charts are generated leaves\n",
        "    # the graha longitudes in the order of the last chart generate\n",
        "    # Hence there Ashtakvarga points in the output report will carry the points calculated on the basis of the last chart generate\n",
        "    # and not on the type of analysis that is actually required\n",
        "    #\n",
        "    if p21.AnalysisType == 'Rashi' :\n",
        "        listOfChartTypes = ['Navamsa','Rashi']\n",
        "    elif p21.AnalysisType == 'Navamsa':\n",
        "        listOfChartTypes = ['Rashi','Navamsa']\n",
        "    else:\n",
        "        print('Error, Unknown Analysis Type')\n",
        "\n",
        "\n",
        "    for ctype in listOfChartTypes:\n",
        "        p21.ChartType = ctype\n",
        "        p21utils.R11_LocateGrahaInRashi()   # Converts Graha Long to Rashi positions\n",
        "                                            # Rashi Num as well as Rashi name\n",
        "        if ChartStyle == 'Bengal':\n",
        "            p21utilsR.R12B_drawChart_Bengal()    # Draw Chart in Bengal style\n",
        "        if ChartStyle == 'South':\n",
        "            p21utilsR.R12B_drawChart_South()    # Draw Chart in South style\n",
        "        if ChartStyle == 'North':\n",
        "            p21utilsR.R12B_drawChart_North()    # Draw Chart in North style\n",
        "\n",
        "\n",
        "    p21utilsR.R512_FormatPage('SingleChart')                    # this is where the basic details of the chart are printed out\n",
        "    p21utilsR.R512_FormatPage2A()                                # this is where the Vimsottari Dasha details for SINGLE chart scenario\n",
        "    p21utilsR.R512_FormatPage2B()                                # this is where the AshtakVarga details for SINGLE chart scenario\n",
        "\n",
        "    # ------------------------------------\n",
        "    p21.document.save(fileName)\n",
        "    return fileName\n",
        "\n",
        "print(\"Executed at \", datetime.now(pytz.timezone('Asia/Kolkata')))"
      ],
      "metadata": {
        "id": "nd3Zijjz1sfG",
        "outputId": "eb400288-a36a-46b3-f7d0-3857fb06b777",
        "colab": {
          "base_uri": "https://localhost:8080/"
        }
      },
      "execution_count": 9,
      "outputs": [
        {
          "output_type": "stream",
          "name": "stdout",
          "text": [
            "Executed at  2023-08-13 21:40:49.009973+05:30\n"
          ]
        }
      ]
    },
    {
      "cell_type": "markdown",
      "source": [
        "## Store and Retrieve Function"
      ],
      "metadata": {
        "id": "YN827fluMSvH"
      }
    },
    {
      "cell_type": "code",
      "source": [
        "def StoreRetrieveChart():\n",
        "    with open('peopleData.json') as json_file:\n",
        "        oneChart = json.load(json_file)\n",
        "\n",
        "    db.drop_collection('khona21')\n",
        "    db.create_collection('khona21')               # Optional collection creation\n",
        "    p21.kollection = db.khona21                   # Set the collection to work with\n",
        "\n",
        "    # Insert the single chart\n",
        "    insert_result = p21.kollection.insert_one(oneChart)\n",
        "    return(pd.DataFrame(list(p21.kollection.find({},p21.selCols))))\n",
        "\n",
        "print(\"Executed at \", datetime.now(pytz.timezone('Asia/Kolkata')))"
      ],
      "metadata": {
        "id": "LM3zvIJMMVPt",
        "outputId": "1fb2a5c9-b737-4029-e9d8-180c1e18a943",
        "colab": {
          "base_uri": "https://localhost:8080/"
        }
      },
      "execution_count": 10,
      "outputs": [
        {
          "output_type": "stream",
          "name": "stdout",
          "text": [
            "Executed at  2023-08-13 21:40:49.029775+05:30\n"
          ]
        }
      ]
    },
    {
      "cell_type": "markdown",
      "source": [
        "# Natal Chart\n",
        "Data for others can be added by adding an extra line in the cell below. Please follow the same pattern as in the other lines\n"
      ],
      "metadata": {
        "id": "ttRyzy7b9D3t"
      }
    },
    {
      "cell_type": "markdown",
      "source": [
        "## Representative Natal Chart Data"
      ],
      "metadata": {
        "id": "iC5HiRS8HwvN"
      }
    },
    {
      "cell_type": "code",
      "source": [
        "# Sample Data for some people\n",
        "#\n",
        "#%%writefile peopleData.csv\n",
        "#Gender,DoB_Day,DoB_Mon,DoB_Year,DoB_Time,TZ_OffHours,PoB_Lat,PoB_Lon,TZ_Name,TZ_Type,Name,tag1,tag2,tag3,tag4,tag5,tag6\n",
        "#M,17,9,1950,23:11,5.5,23.72,63.36,IST,standard,NDModi,Politician,nil,Administrator,nil,nil,nil\n",
        "#F,10,10,1954,11:00,5.5,13.08,80.27,IST,standard,Rekha,Actor,nil,Dancer,nil,nil,nil\n",
        "#M,15,10,1931,1:15,5.5,9.29,79.31,IST,standard,APJAbdulKalam,Engineer,nil,PublicFigure,nil,nil,nil\n",
        "#F,19,11,1917,23:11,5.5,25.43,81.85,IST,standard,IndiraG,Politician,nil,PublicFigure,nil,nil,nil\n",
        "#M,15,10,1961,23:42,5.5,22.57,88.37,IST,standard,Person1,dummy,nil,dummy,nil,dummy,nil\n",
        "#F,19,12,1965,10:26,5.5,22.57,88.37,IST,standard,Person1,dummy,nil,dummy,nil,dummy,nil\n",
        "#M,9,10,1990,23:09,5.5,22.57,88.37,IST,standard,Person1,dummy,nil,dummy,nil,dummy,nil\n",
        "#F,12,9,1990,0:52,5.5,22.87,88.37,IST,standard,Person1,dummy,nil,dummy,nil,dummy,nil\n",
        "\n",
        "#Read Birth Data from a file\n",
        "#!wget -O peopleData.csv -q https://raw.githubusercontent.com/prithwis/parashar21/main/data/Test5Data.txt # 5 Person Test Data\n",
        "#!cat peopleData.csv"
      ],
      "metadata": {
        "id": "awh7a1KSTZci"
      },
      "execution_count": 11,
      "outputs": []
    },
    {
      "cell_type": "code",
      "source": [
        "#Optional  ----------------------------------------------\n",
        "# Get Lat Long for Place of Birth, in case that is not known\n",
        "# https://stackoverflow.com/questions/69854674/python-generate-lat-long-points-from-address\n",
        "from geopy.geocoders import Nominatim\n",
        "\n",
        "geolocator = Nominatim(user_agent='your_app_name')\n",
        "addresses = [\n",
        "            'Vadnagar, Gujarat, India',\n",
        "            'Kolkata, West Bengal, India',\n",
        "            'Prantik, Bolpur, Birbhum, West Bengal, India',\n",
        "            'Purulia, Purulia, West Bengal,India'\n",
        "]\n",
        "\n",
        "coordinates = []\n",
        "for address in addresses:\n",
        "    location = geolocator.geocode(address)\n",
        "    lat, lon = location.latitude, location.longitude\n",
        "    coordinates.append((lat, lon))\n",
        "\n",
        "print(coordinates)"
      ],
      "metadata": {
        "id": "InTOslscRZ-B",
        "outputId": "b62c7c4c-1935-44bf-b955-6fd6f7d92c9e",
        "colab": {
          "base_uri": "https://localhost:8080/"
        }
      },
      "execution_count": 12,
      "outputs": [
        {
          "output_type": "stream",
          "name": "stdout",
          "text": [
            "[(23.7848358, 72.6346407), (22.5726459, 88.3638953), (23.6970143, 87.6863117), (23.3291882, 86.3672378)]\n"
          ]
        }
      ]
    },
    {
      "cell_type": "markdown",
      "source": [
        "## Natal Data Preparation"
      ],
      "metadata": {
        "id": "yOw4fYHv2VSn"
      }
    },
    {
      "cell_type": "code",
      "source": [
        "%%writefile peopleData.csv\n",
        "Gender,DoB_Day,DoB_Mon,DoB_Year,DoB_Time,TZ_OffHours,PoB_Lat,PoB_Lon,TZ_Name,TZ_Type,Name,tag1,tag2,tag3,tag4,tag5,tag6\n",
        "M,15,10,1961,23:42,5.5,22.57,88.37,IST,standard,Person1,dummy,nil,dummy,nil,dummy,nil"
      ],
      "metadata": {
        "colab": {
          "base_uri": "https://localhost:8080/"
        },
        "id": "x7sg8sa11Zpm",
        "outputId": "7d6b2ee2-9994-4c3c-aa78-bbcc8bbd2d5d"
      },
      "execution_count": 13,
      "outputs": [
        {
          "output_type": "stream",
          "name": "stdout",
          "text": [
            "Writing peopleData.csv\n"
          ]
        }
      ]
    },
    {
      "cell_type": "markdown",
      "source": [
        "## Natal Data Analysis\n",
        "type of analsis Rashi / Navamsa to be specified here"
      ],
      "metadata": {
        "id": "kyVdK9uVFfdy"
      }
    },
    {
      "cell_type": "code",
      "source": [
        "#%%time\n",
        "df = pd.read_csv('peopleData.csv')\n",
        "p21.AnalysisType = 'Rashi'                                     # one of ['Rashi','Navamsa']\n",
        "#p21.AnalysisType = 'Navamsa'                                    # one of ['Rashi','Navamsa']\n",
        "p21.ChartType = p21.AnalysisType\n",
        "# ------------------------------------------------------------\n",
        "# Converts date/time info into a detailed horoscope chart\n",
        "# Stores the same in a JSON file, to be inserted into a local MongoDB database\n",
        "#\n",
        "p21swe.C61_Cast2JSON(df)\n",
        "#p21utils.SarvaAshtakVarga()                            # Uncomment for debugging Ashtakvarga point calculation\n",
        "p21.SubMoonLong = p21.GLon['Mo']                        # Preserving Moon Longitude for Gochar\n",
        "p21utils.GetDasha()                                     # Generates Vimsottari Dasha / Antardasha Details"
      ],
      "metadata": {
        "id": "Zrrs_eHOOYpl",
        "outputId": "1c753bd4-cebf-4cbe-d656-32203f04eaa9",
        "colab": {
          "base_uri": "https://localhost:8080/"
        }
      },
      "execution_count": 14,
      "outputs": [
        {
          "output_type": "stream",
          "name": "stdout",
          "text": [
            "1 records processed, so far\n",
            "1  records generated and stored in file peopleData.json\n"
          ]
        }
      ]
    },
    {
      "cell_type": "code",
      "source": [
        "!rm *.doc"
      ],
      "metadata": {
        "id": "DAxJ100ZLZej",
        "outputId": "473716d8-573f-41e9-a94a-2f20e942af8a",
        "colab": {
          "base_uri": "https://localhost:8080/"
        }
      },
      "execution_count": 15,
      "outputs": [
        {
          "output_type": "stream",
          "name": "stdout",
          "text": [
            "rm: cannot remove '*.doc': No such file or directory\n"
          ]
        }
      ]
    },
    {
      "cell_type": "markdown",
      "source": [
        "## Natal Chart Generation"
      ],
      "metadata": {
        "id": "YeybZgev19Cw"
      }
    },
    {
      "cell_type": "code",
      "source": [
        "%%capture\n",
        "\n",
        "#p21.printDasha = True\n",
        "chart = StoreRetrieveChart()\n",
        "ReportFile = genChart('Bengal')\n",
        "\n",
        "# Note : The MS-Word file that is generated is available in the Colab VM Drive\n",
        "# and needs to be downloaded to local laptop / machine for viewing in MS-Word\n",
        "\n",
        "#ReportFile = genChart('South')\n"
      ],
      "metadata": {
        "id": "TjPcGN3XM9Qq"
      },
      "execution_count": 16,
      "outputs": []
    },
    {
      "cell_type": "markdown",
      "source": [
        "#Gochar Chart"
      ],
      "metadata": {
        "id": "y6rgDCdL2eiB"
      }
    },
    {
      "cell_type": "markdown",
      "source": [
        "## Gochar Data Preparation"
      ],
      "metadata": {
        "id": "dkbvsoDnQW74"
      }
    },
    {
      "cell_type": "code",
      "source": [
        "# This cell to be executed ONLY after natal chart has been created, otherwise errors\n",
        "#\n",
        "!sed -n 1p peopleData.csv > peopleData2.csv                                  # Copy the Header data\n",
        "print(p21.gName, p21.SubMoonLong)\n",
        "now = datetime.now(pytz.timezone('Asia/Kolkata'))\n",
        "timeTxt = now.strftime(\"%-d,%-m,%Y,%-H:%-M\")\n",
        "\n",
        "#\n",
        "# for Gochar chart for any other time, other than now()\n",
        "#timeTxt = '31,5,2023,9:16'                # any other time in dd,mm,yyyy,hh:mm format will do\n",
        "#\n",
        "\n",
        "GocharTxt = 'x,'+timeTxt+',5.5,25.43,81.85,IST,standard,'+p21.gName+',nil,nil,nil,nil,nil,nil'    # Using Lat, Long of Calcutta for Gochar\n",
        "print(GocharTxt)\n",
        "with open(\"peopleData2.csv\", 'a') as file1:                                                       # Append Gochar Data\n",
        "    file1.write(GocharTxt)\n"
      ],
      "metadata": {
        "id": "C5m-T-guzPNt",
        "outputId": "a3820ac2-f3df-4114-e141-b925da36e412",
        "colab": {
          "base_uri": "https://localhost:8080/"
        }
      },
      "execution_count": 17,
      "outputs": [
        {
          "output_type": "stream",
          "name": "stdout",
          "text": [
            "_Gochar 250.52\n",
            "x,13,8,2023,21:40,5.5,25.43,81.85,IST,standard,_Gochar,nil,nil,nil,nil,nil,nil\n"
          ]
        }
      ]
    },
    {
      "cell_type": "markdown",
      "source": [
        "## Gochar Data Analysis"
      ],
      "metadata": {
        "id": "VvkbEsUKFu_c"
      }
    },
    {
      "cell_type": "code",
      "source": [
        "# Load CSV data into Pandas dataframe\n",
        "#\n",
        "df = pd.read_csv('peopleData2.csv')\n",
        "p21.AnalysisType = 'Rashi'                                     # one of ['Rashi','Navamsa']\n",
        "#p21.AnalysisType = 'Navamsa'                                    # one of ['Rashi','Navamsa']\n",
        "\n",
        "p21.ChartType = p21.AnalysisType\n",
        "p21swe.C61_Cast2JSON(df)                                      # For Gochar, the La Long is set to Natal Moon Long\n",
        "#print(p21.GLon['La'],p21.GLon['Mo'])\n",
        "#p21utils.SarvaAshtakVarga()                                     # Uncomment for debugging Ashtakvarga point calculation"
      ],
      "metadata": {
        "id": "dq9Y69ge8k0F",
        "outputId": "12a452f9-41ff-4a42-ef89-927a232d998e",
        "colab": {
          "base_uri": "https://localhost:8080/"
        }
      },
      "execution_count": 18,
      "outputs": [
        {
          "output_type": "stream",
          "name": "stdout",
          "text": [
            "La long reset to  250.52 Natal moon position for Gochar\n",
            "1 records processed, so far\n",
            "1  records generated and stored in file peopleData.json\n"
          ]
        }
      ]
    },
    {
      "cell_type": "markdown",
      "source": [
        "## Gochar Chart Generation"
      ],
      "metadata": {
        "id": "UfrvUFYmNGzX"
      }
    },
    {
      "cell_type": "code",
      "source": [
        "%%capture\n",
        "\n",
        "#p21.printDasha = True\n",
        "chart = StoreRetrieveChart()\n",
        "ReportFile = genChart('Bengal')\n",
        "\n",
        "# Note : The MS-Word file that is generated is available in the Colab VM Drive\n",
        "# and needs to be downloaded to local laptop / machine for viewing in MS-Word\n"
      ],
      "metadata": {
        "id": "DNQxCgmKNZKT"
      },
      "execution_count": 19,
      "outputs": []
    },
    {
      "cell_type": "markdown",
      "source": [
        "#Time Series"
      ],
      "metadata": {
        "id": "lLur0fqUcoul"
      }
    },
    {
      "cell_type": "code",
      "source": [
        "#x,rashiSum,y,bhavSum,z = p21utils.SarvaAshtakVarga()\n",
        "s8v = p21utils.SarvaAshtakVarga()\n",
        "print(p21.GRashiN)\n",
        "rashiSum = s8v[1]\n",
        "print(rashiSum)\n",
        "print(p21.GRashiA)\n",
        "bhavSum = s8v[3]\n",
        "print(bhavSum)"
      ],
      "metadata": {
        "colab": {
          "base_uri": "https://localhost:8080/"
        },
        "id": "J1m9Q61BnJoz",
        "outputId": "010d38e4-f07a-4d5b-b55a-b41818829ffe"
      },
      "execution_count": 20,
      "outputs": [
        {
          "output_type": "stream",
          "name": "stdout",
          "text": [
            "SarvaAshtakVarga | Rashi {'La': 9, 'Su': 4, 'Mo': 3, 'Ma': 5, 'Me': 5, 'Ju': 1, 'Ve': 4, 'Sa': 11, 'Ra': 1, 'Ke': 7}\n",
            " + [31, 37, 27, 20, 26, 28, 29, 26, 31, 25, 31, 26]  =  337\n",
            "SarvaAshtakVarga | Bhav [' ', 9, 10, 11, 12, 1, 2, 3, 4, 5, 6, 7, 8]\n",
            " + [31, 25, 31, 26, 31, 37, 27, 20, 26, 28, 29, 26]  =  337\n",
            "Bandhu:  88 Sevak:  90 Poshak:  87 Ghatak:  72\n",
            "{'La': 9, 'Su': 4, 'Mo': 3, 'Ma': 5, 'Me': 5, 'Ju': 1, 'Ve': 4, 'Sa': 11, 'Ra': 1, 'Ke': 7}\n",
            "[31, 37, 27, 20, 26, 28, 29, 26, 31, 25, 31, 26]\n",
            "{'La': 'Dhanu', 'Su': 'Karkat', 'Mo': 'Mithun', 'Ma': 'Simha', 'Me': 'Simha', 'Ju': 'Mesh', 'Ve': 'Karkat', 'Sa': 'Kumbh', 'Ra': 'Mesh', 'Ke': 'Tula'}\n",
            "[31, 25, 31, 26, 31, 37, 27, 20, 26, 28, 29, 26]\n"
          ]
        }
      ]
    },
    {
      "cell_type": "code",
      "source": [
        "def getData(cDT):\n",
        "    DoB_Day = int(cDT.strftime(\"%-d\"))\n",
        "    DoB_Mon = int(cDT.strftime(\"%-m\"))\n",
        "    DoB_Year = int(cDT.strftime(\"%Y\"))\n",
        "    #print(DoB_Time)\n",
        "    DoB_Time = '12:01'\n",
        "    PoB_Lat = 25.43\n",
        "    PoB_Lon = 81.85\n",
        "    Name = p21.gName\n",
        "    Gender = 'x'\n",
        "    tag1 = 'nil'\n",
        "    tag3 = 'nil'\n",
        "    tag5 = 'nil'\n",
        "    p21.pName = p21.gName\n",
        "    p21.ChartType = 'Rashi'\n",
        "    TZ_OffHours = 5.5\n",
        "\n",
        "    sData = [DoB_Day,DoB_Mon,DoB_Year,DoB_Time,TZ_OffHours,PoB_Lat,PoB_Lon,Name, Gender, tag1, tag3,tag5]\n",
        "    sLabels = ['DoB_Day','DoB_Mon','DoB_Year','DoB_Time','TZ_OffHours','PoB_Lat','PoB_Lon','Name','Gender','tag1','tag3','tag5']\n",
        "    return(pd.Series(sData, index = sLabels))"
      ],
      "metadata": {
        "id": "dK6AMqCTayNp"
      },
      "execution_count": 21,
      "outputs": []
    },
    {
      "cell_type": "code",
      "source": [
        "def setData(c):\n",
        "    p21swe.C02_parsePersonData(c)\n",
        "    p21swe.C03_convertDates()\n",
        "    p21swe.C04_calculateGrahaPositions()\n",
        "    p21swe.C05_buildGLonGRet()\n",
        "    #p21.GLonRet['GLon']['La'] = RashiLon\n",
        "    p21.GLonRet['GLon']['La'] = p21.SubMoonLong\n",
        "    p21utils.R11_LocateGrahaInRashi()\n",
        "    #print(p21.GRashiA)"
      ],
      "metadata": {
        "id": "ka1Bc-OSaQ5M"
      },
      "execution_count": 22,
      "outputs": []
    },
    {
      "cell_type": "code",
      "source": [
        "#p21.RashiName\n",
        "#colList = p21.RashiName[1:]\n",
        "colList = p21.BhavList[1:]\n",
        "colList"
      ],
      "metadata": {
        "colab": {
          "base_uri": "https://localhost:8080/"
        },
        "id": "2jXIO6HPm03h",
        "outputId": "6056a601-64d8-4d2b-b77d-1bcd63b225fd"
      },
      "execution_count": 23,
      "outputs": [
        {
          "output_type": "execute_result",
          "data": {
            "text/plain": [
              "['1st',\n",
              " '2nd',\n",
              " '3rd',\n",
              " '4th',\n",
              " '5th',\n",
              " '6th',\n",
              " '7th',\n",
              " '8th',\n",
              " '9th',\n",
              " '10th',\n",
              " '11th',\n",
              " '12th']"
            ]
          },
          "metadata": {},
          "execution_count": 23
        }
      ]
    },
    {
      "cell_type": "code",
      "source": [
        "#l = list(range(1,13))\n",
        "#print(l)"
      ],
      "metadata": {
        "id": "DmGDZ8aNnIwA"
      },
      "execution_count": 24,
      "outputs": []
    },
    {
      "cell_type": "code",
      "source": [
        "sDate = datetime.now(pytz.timezone('Asia/Kolkata'))\n",
        "print(sDate)\n",
        "print(sDate.date())\n",
        "L= [sDate.strftime(\"%Y-%m-%d\")]\n",
        "print(L)\n"
      ],
      "metadata": {
        "id": "yJrMc_JBAzet",
        "outputId": "2b0a11c8-be28-46e6-c23a-43e93589d795",
        "colab": {
          "base_uri": "https://localhost:8080/"
        }
      },
      "execution_count": 25,
      "outputs": [
        {
          "output_type": "stream",
          "name": "stdout",
          "text": [
            "2023-08-13 21:40:53.001585+05:30\n",
            "2023-08-13\n",
            "['2023-08-13']\n"
          ]
        }
      ]
    },
    {
      "cell_type": "code",
      "source": [
        "def RollForward(numberOfPeriods,periodDuration,allTransits = False,buildMovie = False):\n",
        "    sDate = datetime.now(pytz.timezone('Asia/Kolkata'))\n",
        "    cDate = sDate\n",
        "\n",
        "    s8v = p21utils.SarvaAshtakVarga()\n",
        "    print(cDate.date())\n",
        "    RashiSumData =  [[cDate.strftime(\"%Y-%m-%d\")] + s8v[1]]\n",
        "\n",
        "    RashiCols = ['Date']+ p21.RashiName[1:]\n",
        "\n",
        "    BhavSumData =  [[cDate.strftime(\"%Y-%m-%d\")] + s8v[3]]\n",
        "    BhavCols = ['Date']+ p21.BhavList[1:]\n",
        "    df_RashiSum = pd.DataFrame(data=RashiSumData, columns = RashiCols)\n",
        "    df_BhavSum = pd.DataFrame(data=BhavSumData, columns = BhavCols)\n",
        "\n",
        "\n",
        "\n",
        "    setData(getData(cDate))\n",
        "    for count in range(numberOfPeriods):\n",
        "        #print(cDate.date())\n",
        "        prevGrashiA = p21.GRashiA\n",
        "        prevGLonRet = p21.GLonRet\n",
        "        cDate += timedelta(days=periodDuration)\n",
        "        setData(getData(cDate))\n",
        "        s8v = p21utils.SarvaAshtakVarga()\n",
        "\n",
        "        df_RashiSum.loc[len(df_RashiSum)] = [cDate.strftime(\"%Y-%m-%d\")] + s8v[1]\n",
        "        df_BhavSum.loc[len(df_BhavSum)] = [cDate.strftime(\"%Y-%m-%d\")] + s8v[3]\n",
        "\n",
        "\n",
        "    # Convert date column to pandas date format\n",
        "    df_BhavSum['Date'] = pd.to_datetime(df_BhavSum['Date']).dt.date\n",
        "\n",
        "    # Set the date column as the index of the dataframe\n",
        "    df_BhavSum.set_index('Date',inplace=True)\n",
        "    #return(df_RashiSum, df_BhavSum)\n",
        "    for i in p21.BhavList[1:]:\n",
        "        L = [i]\n",
        "        txt = L[0] + 'Bhav AshtakVarga for '+ p21.GRashiA['La']+' Rashi'\n",
        "        t = df_BhavSum.plot(y=L,kind='bar', ylim=(15, 50), figsize = (5,5), title = txt, legend=False, fontsize = 5).get_figure();\n",
        "        iName = 'Bhav'+L[0]+'.png'\n",
        "        t.savefig(iName)"
      ],
      "metadata": {
        "id": "YHA_iMaNaE2u"
      },
      "execution_count": 36,
      "outputs": []
    },
    {
      "cell_type": "code",
      "source": [
        "p21.GRashiA"
      ],
      "metadata": {
        "id": "8sS0-_r0o714",
        "outputId": "2636fca3-68bd-4ad7-9921-4edb13072784",
        "colab": {
          "base_uri": "https://localhost:8080/"
        }
      },
      "execution_count": 27,
      "outputs": [
        {
          "output_type": "execute_result",
          "data": {
            "text/plain": [
              "{'La': 'Dhanu',\n",
              " 'Su': 'Karkat',\n",
              " 'Mo': 'Mithun',\n",
              " 'Ma': 'Simha',\n",
              " 'Me': 'Simha',\n",
              " 'Ju': 'Mesh',\n",
              " 'Ve': 'Karkat',\n",
              " 'Sa': 'Kumbh',\n",
              " 'Ra': 'Mesh',\n",
              " 'Ke': 'Tula'}"
            ]
          },
          "metadata": {},
          "execution_count": 27
        }
      ]
    },
    {
      "cell_type": "code",
      "source": [
        "#df8V_Rashi, df8V_Bhav =Transitz(24,7)\n",
        "!rm *.png\n",
        "RollForward(24,7)"
      ],
      "metadata": {
        "colab": {
          "base_uri": "https://localhost:8080/",
          "height": 1000
        },
        "id": "KAfSTZluafBO",
        "outputId": "e10a5d95-0432-42e5-bdbe-2dc89595223b"
      },
      "execution_count": 37,
      "outputs": [
        {
          "output_type": "stream",
          "name": "stdout",
          "text": [
            "SarvaAshtakVarga | Rashi {'La': 9, 'Su': 10, 'Mo': 5, 'Ma': 9, 'Me': 9, 'Ju': 1, 'Ve': 9, 'Sa': 11, 'Ra': 12, 'Ke': 6}\n",
            " + [27, 30, 23, 21, 27, 34, 43, 26, 26, 25, 31, 24]  =  337\n",
            "SarvaAshtakVarga | Bhav [' ', 9, 10, 11, 12, 1, 2, 3, 4, 5, 6, 7, 8]\n",
            " + [26, 25, 31, 24, 27, 30, 23, 21, 27, 34, 43, 26]  =  337\n",
            "Bandhu:  80 Sevak:  89 Poshak:  97 Ghatak:  71\n",
            "2023-08-13\n",
            "La long reset to  250.52 Natal moon position for Gochar\n",
            "La long reset to  250.52 Natal moon position for Gochar\n",
            "SarvaAshtakVarga | Rashi {'La': 9, 'Su': 5, 'Mo': 6, 'Ma': 6, 'Me': 5, 'Ju': 1, 'Ve': 4, 'Sa': 11, 'Ra': 1, 'Ke': 7}\n",
            " + [25, 34, 32, 28, 20, 27, 32, 26, 31, 24, 31, 27]  =  337\n",
            "SarvaAshtakVarga | Bhav [' ', 9, 10, 11, 12, 1, 2, 3, 4, 5, 6, 7, 8]\n",
            " + [31, 24, 31, 27, 25, 34, 32, 28, 20, 27, 32, 26]  =  337\n",
            "Bandhu:  76 Sevak:  85 Poshak:  95 Ghatak:  81\n",
            "La long reset to  250.52 Natal moon position for Gochar\n",
            "SarvaAshtakVarga | Rashi {'La': 9, 'Su': 5, 'Mo': 9, 'Ma': 6, 'Me': 5, 'Ju': 1, 'Ve': 4, 'Sa': 11, 'Ra': 1, 'Ke': 7}\n",
            " + [25, 36, 31, 23, 22, 28, 36, 22, 31, 25, 31, 27]  =  337\n",
            "SarvaAshtakVarga | Bhav [' ', 9, 10, 11, 12, 1, 2, 3, 4, 5, 6, 7, 8]\n",
            " + [31, 25, 31, 27, 25, 36, 31, 23, 22, 28, 36, 22]  =  337\n",
            "Bandhu:  78 Sevak:  89 Poshak:  98 Ghatak:  72\n",
            "La long reset to  250.52 Natal moon position for Gochar\n",
            "SarvaAshtakVarga | Rashi {'La': 9, 'Su': 5, 'Mo': 1, 'Ma': 6, 'Me': 5, 'Ju': 1, 'Ve': 4, 'Sa': 11, 'Ra': 1, 'Ke': 7}\n",
            " + [25, 34, 34, 23, 21, 30, 31, 23, 32, 25, 33, 26]  =  337\n",
            "SarvaAshtakVarga | Bhav [' ', 9, 10, 11, 12, 1, 2, 3, 4, 5, 6, 7, 8]\n",
            " + [32, 25, 33, 26, 25, 34, 34, 23, 21, 30, 31, 23]  =  337\n",
            "Bandhu:  78 Sevak:  89 Poshak:  98 Ghatak:  72\n",
            "La long reset to  250.52 Natal moon position for Gochar\n",
            "SarvaAshtakVarga | Rashi {'La': 9, 'Su': 5, 'Mo': 4, 'Ma': 6, 'Me': 5, 'Ju': 1, 'Ve': 4, 'Sa': 11, 'Ra': 1, 'Ke': 7}\n",
            " + [26, 38, 30, 23, 22, 30, 31, 23, 34, 24, 28, 28]  =  337\n",
            "SarvaAshtakVarga | Bhav [' ', 9, 10, 11, 12, 1, 2, 3, 4, 5, 6, 7, 8]\n",
            " + [34, 24, 28, 28, 26, 38, 30, 23, 22, 30, 31, 23]  =  337\n",
            "Bandhu:  82 Sevak:  92 Poshak:  89 Ghatak:  74\n",
            "La long reset to  250.52 Natal moon position for Gochar\n",
            "SarvaAshtakVarga | Rashi {'La': 9, 'Su': 5, 'Mo': 6, 'Ma': 6, 'Me': 5, 'Ju': 1, 'Ve': 4, 'Sa': 11, 'Ra': 1, 'Ke': 7}\n",
            " + [25, 34, 32, 28, 20, 27, 32, 26, 31, 24, 31, 27]  =  337\n",
            "SarvaAshtakVarga | Bhav [' ', 9, 10, 11, 12, 1, 2, 3, 4, 5, 6, 7, 8]\n",
            " + [31, 24, 31, 27, 25, 34, 32, 28, 20, 27, 32, 26]  =  337\n",
            "Bandhu:  76 Sevak:  85 Poshak:  95 Ghatak:  81\n",
            "La long reset to  250.52 Natal moon position for Gochar\n",
            "SarvaAshtakVarga | Rashi {'La': 9, 'Su': 6, 'Mo': 9, 'Ma': 6, 'Me': 5, 'Ju': 1, 'Ve': 4, 'Sa': 11, 'Ra': 1, 'Ke': 7}\n",
            " + [27, 34, 29, 28, 21, 28, 36, 22, 32, 24, 30, 26]  =  337\n",
            "SarvaAshtakVarga | Bhav [' ', 9, 10, 11, 12, 1, 2, 3, 4, 5, 6, 7, 8]\n",
            " + [32, 24, 30, 26, 27, 34, 29, 28, 21, 28, 36, 22]  =  337\n",
            "Bandhu:  80 Sevak:  86 Poshak:  95 Ghatak:  76\n",
            "La long reset to  250.52 Natal moon position for Gochar\n",
            "SarvaAshtakVarga | Rashi {'La': 9, 'Su': 6, 'Mo': 1, 'Ma': 6, 'Me': 5, 'Ju': 1, 'Ve': 4, 'Sa': 11, 'Ra': 1, 'Ke': 7}\n",
            " + [27, 32, 32, 28, 20, 30, 31, 23, 33, 24, 32, 25]  =  337\n",
            "SarvaAshtakVarga | Bhav [' ', 9, 10, 11, 12, 1, 2, 3, 4, 5, 6, 7, 8]\n",
            " + [33, 24, 32, 25, 27, 32, 32, 28, 20, 30, 31, 23]  =  337\n",
            "Bandhu:  80 Sevak:  86 Poshak:  95 Ghatak:  76\n",
            "La long reset to  250.52 Natal moon position for Gochar\n",
            "SarvaAshtakVarga | Rashi {'La': 9, 'Su': 6, 'Mo': 4, 'Ma': 7, 'Me': 6, 'Ju': 1, 'Ve': 5, 'Sa': 11, 'Ra': 1, 'Ke': 7}\n",
            " + [26, 34, 26, 32, 25, 30, 26, 27, 30, 26, 31, 24]  =  337\n",
            "SarvaAshtakVarga | Bhav [' ', 9, 10, 11, 12, 1, 2, 3, 4, 5, 6, 7, 8]\n",
            " + [30, 26, 31, 24, 26, 34, 26, 32, 25, 30, 26, 27]  =  337\n",
            "Bandhu:  81 Sevak:  90 Poshak:  83 Ghatak:  83\n",
            "La long reset to  250.52 Natal moon position for Gochar\n",
            "SarvaAshtakVarga | Rashi {'La': 9, 'Su': 6, 'Mo': 7, 'Ma': 7, 'Me': 6, 'Ju': 1, 'Ve': 5, 'Sa': 11, 'Ra': 1, 'Ke': 7}\n",
            " + [25, 29, 28, 33, 29, 26, 26, 28, 30, 26, 31, 26]  =  337\n",
            "SarvaAshtakVarga | Bhav [' ', 9, 10, 11, 12, 1, 2, 3, 4, 5, 6, 7, 8]\n",
            " + [30, 26, 31, 26, 25, 29, 28, 33, 29, 26, 26, 28]  =  337\n",
            "Bandhu:  84 Sevak:  81 Poshak:  85 Ghatak:  87\n",
            "La long reset to  250.52 Natal moon position for Gochar\n",
            "SarvaAshtakVarga | Rashi {'La': 9, 'Su': 7, 'Mo': 10, 'Ma': 7, 'Me': 7, 'Ju': 1, 'Ve': 5, 'Sa': 11, 'Ra': 1, 'Ke': 7}\n",
            " + [23, 28, 28, 28, 33, 27, 29, 28, 29, 23, 31, 30]  =  337\n",
            "SarvaAshtakVarga | Bhav [' ', 9, 10, 11, 12, 1, 2, 3, 4, 5, 6, 7, 8]\n",
            " + [29, 23, 31, 30, 23, 28, 28, 28, 33, 27, 29, 28]  =  337\n",
            "Bandhu:  85 Sevak:  78 Poshak:  88 Ghatak:  86\n",
            "La long reset to  250.52 Natal moon position for Gochar\n",
            "SarvaAshtakVarga | Rashi {'La': 9, 'Su': 7, 'Mo': 1, 'Ma': 7, 'Me': 7, 'Ju': 1, 'Ve': 5, 'Sa': 11, 'Ra': 1, 'Ke': 7}\n",
            " + [23, 29, 28, 28, 33, 29, 28, 23, 31, 24, 35, 26]  =  337\n",
            "SarvaAshtakVarga | Bhav [' ', 9, 10, 11, 12, 1, 2, 3, 4, 5, 6, 7, 8]\n",
            " + [31, 24, 35, 26, 23, 29, 28, 28, 33, 29, 28, 23]  =  337\n",
            "Bandhu:  87 Sevak:  82 Poshak:  91 Ghatak:  77\n",
            "La long reset to  250.52 Natal moon position for Gochar\n",
            "SarvaAshtakVarga | Rashi {'La': 9, 'Su': 7, 'Mo': 4, 'Ma': 7, 'Me': 7, 'Ju': 1, 'Ve': 6, 'Sa': 11, 'Ra': 1, 'Ke': 7}\n",
            " + [23, 34, 21, 31, 35, 28, 28, 23, 32, 23, 32, 27]  =  337\n",
            "SarvaAshtakVarga | Bhav [' ', 9, 10, 11, 12, 1, 2, 3, 4, 5, 6, 7, 8]\n",
            " + [32, 23, 32, 27, 23, 34, 21, 31, 35, 28, 28, 23]  =  337\n",
            "Bandhu:  90 Sevak:  85 Poshak:  81 Ghatak:  81\n",
            "La long reset to  250.52 Natal moon position for Gochar\n",
            "SarvaAshtakVarga | Rashi {'La': 9, 'Su': 7, 'Mo': 7, 'Ma': 7, 'Me': 8, 'Ju': 1, 'Ve': 6, 'Sa': 11, 'Ra': 1, 'Ke': 7}\n",
            " + [27, 28, 20, 32, 37, 28, 28, 26, 28, 26, 28, 29]  =  337\n",
            "SarvaAshtakVarga | Bhav [' ', 9, 10, 11, 12, 1, 2, 3, 4, 5, 6, 7, 8]\n",
            " + [28, 26, 28, 29, 27, 28, 20, 32, 37, 28, 28, 26]  =  337\n",
            "Bandhu:  92 Sevak:  82 Poshak:  76 Ghatak:  87\n",
            "La long reset to  250.52 Natal moon position for Gochar\n",
            "SarvaAshtakVarga | Rashi {'La': 9, 'Su': 8, 'Mo': 10, 'Ma': 8, 'Me': 8, 'Ju': 1, 'Ve': 6, 'Sa': 11, 'Ra': 1, 'Ke': 7}\n",
            " + [25, 27, 25, 26, 29, 40, 26, 29, 26, 25, 31, 28]  =  337\n",
            "SarvaAshtakVarga | Bhav [' ', 9, 10, 11, 12, 1, 2, 3, 4, 5, 6, 7, 8]\n",
            " + [26, 25, 31, 28, 25, 27, 25, 26, 29, 40, 26, 29]  =  337\n",
            "Bandhu:  80 Sevak:  92 Poshak:  82 Ghatak:  83\n",
            "La long reset to  250.52 Natal moon position for Gochar\n",
            "SarvaAshtakVarga | Rashi {'La': 9, 'Su': 8, 'Mo': 1, 'Ma': 8, 'Me': 8, 'Ju': 1, 'Ve': 6, 'Sa': 11, 'Ra': 1, 'Ke': 7}\n",
            " + [25, 28, 25, 26, 29, 42, 25, 24, 28, 26, 35, 24]  =  337\n",
            "SarvaAshtakVarga | Bhav [' ', 9, 10, 11, 12, 1, 2, 3, 4, 5, 6, 7, 8]\n",
            " + [28, 26, 35, 24, 25, 28, 25, 26, 29, 42, 25, 24]  =  337\n",
            "Bandhu:  82 Sevak:  96 Poshak:  85 Ghatak:  74\n",
            "La long reset to  250.52 Natal moon position for Gochar\n",
            "SarvaAshtakVarga | Rashi {'La': 9, 'Su': 8, 'Mo': 4, 'Ma': 8, 'Me': 9, 'Ju': 1, 'Ve': 7, 'Sa': 11, 'Ra': 12, 'Ke': 6}\n",
            " + [25, 36, 21, 20, 33, 41, 28, 24, 32, 20, 33, 24]  =  337\n",
            "SarvaAshtakVarga | Bhav [' ', 9, 10, 11, 12, 1, 2, 3, 4, 5, 6, 7, 8]\n",
            " + [32, 20, 33, 24, 25, 36, 21, 20, 33, 41, 28, 24]  =  337\n",
            "Bandhu:  90 Sevak:  97 Poshak:  82 Ghatak:  68\n",
            "La long reset to  250.52 Natal moon position for Gochar\n",
            "SarvaAshtakVarga | Rashi {'La': 9, 'Su': 8, 'Mo': 7, 'Ma': 8, 'Me': 9, 'Ju': 1, 'Ve': 7, 'Sa': 11, 'Ra': 12, 'Ke': 6}\n",
            " + [24, 31, 23, 21, 37, 37, 28, 25, 32, 20, 33, 26]  =  337\n",
            "SarvaAshtakVarga | Bhav [' ', 9, 10, 11, 12, 1, 2, 3, 4, 5, 6, 7, 8]\n",
            " + [32, 20, 33, 26, 24, 31, 23, 21, 37, 37, 28, 25]  =  337\n",
            "Bandhu:  93 Sevak:  88 Poshak:  84 Ghatak:  72\n",
            "La long reset to  250.52 Natal moon position for Gochar\n",
            "SarvaAshtakVarga | Rashi {'La': 9, 'Su': 9, 'Mo': 10, 'Ma': 8, 'Me': 9, 'Ju': 1, 'Ve': 7, 'Sa': 11, 'Ra': 12, 'Ke': 6}\n",
            " + [23, 30, 24, 22, 30, 37, 34, 28, 28, 20, 34, 27]  =  337\n",
            "SarvaAshtakVarga | Bhav [' ', 9, 10, 11, 12, 1, 2, 3, 4, 5, 6, 7, 8]\n",
            " + [28, 20, 34, 27, 23, 30, 24, 22, 30, 37, 34, 28]  =  337\n",
            "Bandhu:  81 Sevak:  87 Poshak:  92 Ghatak:  77\n",
            "La long reset to  250.52 Natal moon position for Gochar\n",
            "SarvaAshtakVarga | Rashi {'La': 9, 'Su': 9, 'Mo': 2, 'Ma': 8, 'Me': 9, 'Ju': 1, 'Ve': 7, 'Sa': 11, 'Ra': 12, 'Ke': 6}\n",
            " + [22, 30, 22, 25, 30, 36, 36, 23, 29, 21, 34, 29]  =  337\n",
            "SarvaAshtakVarga | Bhav [' ', 9, 10, 11, 12, 1, 2, 3, 4, 5, 6, 7, 8]\n",
            " + [29, 21, 34, 29, 22, 30, 22, 25, 30, 36, 36, 23]  =  337\n",
            "Bandhu:  81 Sevak:  87 Poshak:  92 Ghatak:  77\n",
            "La long reset to  250.52 Natal moon position for Gochar\n",
            "SarvaAshtakVarga | Rashi {'La': 9, 'Su': 9, 'Mo': 5, 'Ma': 9, 'Me': 8, 'Ju': 1, 'Ve': 8, 'Sa': 11, 'Ra': 12, 'Ke': 6}\n",
            " + [26, 24, 26, 26, 24, 41, 38, 20, 26, 29, 28, 29]  =  337\n",
            "SarvaAshtakVarga | Bhav [' ', 9, 10, 11, 12, 1, 2, 3, 4, 5, 6, 7, 8]\n",
            " + [26, 29, 28, 29, 26, 24, 26, 26, 24, 41, 38, 20]  =  337\n",
            "Bandhu:  76 Sevak:  94 Poshak:  92 Ghatak:  75\n",
            "La long reset to  250.52 Natal moon position for Gochar\n",
            "SarvaAshtakVarga | Rashi {'La': 9, 'Su': 9, 'Mo': 7, 'Ma': 9, 'Me': 8, 'Ju': 1, 'Ve': 8, 'Sa': 11, 'Ra': 12, 'Ke': 6}\n",
            " + [25, 23, 22, 28, 29, 39, 35, 21, 29, 26, 28, 32]  =  337\n",
            "SarvaAshtakVarga | Bhav [' ', 9, 10, 11, 12, 1, 2, 3, 4, 5, 6, 7, 8]\n",
            " + [29, 26, 28, 32, 25, 23, 22, 28, 29, 39, 35, 21]  =  337\n",
            "Bandhu:  83 Sevak:  88 Poshak:  85 Ghatak:  81\n",
            "La long reset to  250.52 Natal moon position for Gochar\n",
            "SarvaAshtakVarga | Rashi {'La': 9, 'Su': 9, 'Mo': 11, 'Ma': 9, 'Me': 9, 'Ju': 1, 'Ve': 8, 'Sa': 11, 'Ra': 12, 'Ke': 6}\n",
            " + [28, 28, 20, 27, 24, 38, 40, 21, 33, 21, 31, 26]  =  337\n",
            "SarvaAshtakVarga | Bhav [' ', 9, 10, 11, 12, 1, 2, 3, 4, 5, 6, 7, 8]\n",
            " + [33, 21, 31, 26, 28, 28, 20, 27, 24, 38, 40, 21]  =  337\n",
            "Bandhu:  85 Sevak:  87 Poshak:  91 Ghatak:  74\n",
            "La long reset to  250.52 Natal moon position for Gochar\n",
            "SarvaAshtakVarga | Rashi {'La': 9, 'Su': 10, 'Mo': 2, 'Ma': 9, 'Me': 9, 'Ju': 1, 'Ve': 9, 'Sa': 11, 'Ra': 12, 'Ke': 6}\n",
            " + [25, 29, 19, 25, 27, 33, 43, 26, 26, 23, 32, 29]  =  337\n",
            "SarvaAshtakVarga | Bhav [' ', 9, 10, 11, 12, 1, 2, 3, 4, 5, 6, 7, 8]\n",
            " + [26, 23, 32, 29, 25, 29, 19, 25, 27, 33, 43, 26]  =  337\n",
            "Bandhu:  78 Sevak:  85 Poshak:  94 Ghatak:  80\n",
            "La long reset to  250.52 Natal moon position for Gochar\n",
            "SarvaAshtakVarga | Rashi {'La': 9, 'Su': 10, 'Mo': 5, 'Ma': 9, 'Me': 9, 'Ju': 1, 'Ve': 9, 'Sa': 11, 'Ra': 12, 'Ke': 6}\n",
            " + [27, 30, 23, 21, 27, 34, 43, 26, 26, 25, 31, 24]  =  337\n",
            "SarvaAshtakVarga | Bhav [' ', 9, 10, 11, 12, 1, 2, 3, 4, 5, 6, 7, 8]\n",
            " + [26, 25, 31, 24, 27, 30, 23, 21, 27, 34, 43, 26]  =  337\n",
            "Bandhu:  80 Sevak:  89 Poshak:  97 Ghatak:  71\n"
          ]
        },
        {
          "output_type": "display_data",
          "data": {
            "text/plain": [
              "<Figure size 500x500 with 1 Axes>"
            ],
            "image/png": "[encoded data removed]"
          },
          "metadata": {}
        },
        {
          "output_type": "display_data",
          "data": {
            "text/plain": [
              "<Figure size 500x500 with 1 Axes>"
            ],
            "image/png": "[encoded data removed]"
          },
          "metadata": {}
        },
        {
          "output_type": "display_data",
          "data": {
            "text/plain": [
              "<Figure size 500x500 with 1 Axes>"
            ],
            "image/png": "[encoded data removed]"
          },
          "metadata": {}
        },
        {
          "output_type": "display_data",
          "data": {
            "text/plain": [
              "<Figure size 500x500 with 1 Axes>"
            ],
            "image/png": "[encoded data removed]"
          },
          "metadata": {}
        },
        {
          "output_type": "display_data",
          "data": {
            "text/plain": [
              "<Figure size 500x500 with 1 Axes>"
            ],
            "image/png": "[encoded data removed]"
          },
          "metadata": {}
        },
        {
          "output_type": "display_data",
          "data": {
            "text/plain": [
              "<Figure size 500x500 with 1 Axes>"
            ],
            "image/png": "[encoded data removed]"
          },
          "metadata": {}
        },
        {
          "output_type": "display_data",
          "data": {
            "text/plain": [
              "<Figure size 500x500 with 1 Axes>"
            ],
            "image/png": "[encoded data removed]"
          },
          "metadata": {}
        },
        {
          "output_type": "display_data",
          "data": {
            "text/plain": [
              "<Figure size 500x500 with 1 Axes>"
            ],
            "image/png": "[encoded data removed]"
          },
          "metadata": {}
        },
        {
          "output_type": "display_data",
          "data": {
            "text/plain": [
              "<Figure size 500x500 with 1 Axes>"
            ],
            "image/png": "[encoded data removed]"
          },
          "metadata": {}
        },
        {
          "output_type": "display_data",
          "data": {
            "text/plain": [
              "<Figure size 500x500 with 1 Axes>"
            ],
            "image/png": "[encoded data removed]"
          },
          "metadata": {}
        },
        {
          "output_type": "display_data",
          "data": {
            "text/plain": [
              "<Figure size 500x500 with 1 Axes>"
            ],
            "image/png": "[encoded data removed]"
          },
          "metadata": {}
        },
        {
          "output_type": "display_data",
          "data": {
            "text/plain": [
              "<Figure size 500x500 with 1 Axes>"
            ],
            "image/png": "[encoded data removed]"
          },
          "metadata": {}
        }
      ]
    },
    {
      "cell_type": "code",
      "source": [
        "df8V_Bhav"
      ],
      "metadata": {
        "id": "8YnM0Gnmr_Oe"
      },
      "execution_count": null,
      "outputs": []
    },
    {
      "cell_type": "code",
      "source": [
        "# Convert date column to pandas date format\n",
        "df8V_Bhav['Date'] = pd.to_datetime(df8V_Bhav['Date']).dt.date\n",
        "\n",
        "# Set the date column as the index of the dataframe\n",
        "df8V_Bhav.set_index('Date',inplace=True)\n",
        "\n",
        "df8V_Bhav"
      ],
      "metadata": {
        "id": "zIPjOqzsWKR5"
      },
      "execution_count": null,
      "outputs": []
    },
    {
      "cell_type": "code",
      "source": [
        "#BhavCols = p21.BhavList[1:]\n",
        "#BhavCols"
      ],
      "metadata": {
        "id": "pbAc0mobWsKu"
      },
      "execution_count": null,
      "outputs": []
    },
    {
      "cell_type": "code",
      "source": [
        "for i in p21.BhavList[1:]:\n",
        "    L = [i]\n",
        "    txt = L[0] + 'Bhav AshtakVarga Points'\n",
        "    t = df8V_Bhav.plot(y=L,kind='bar', ylim=(15, 50), figsize = (8,4), title = txt, legend=False).get_figure();\n",
        "    iName = 'Bhav'+L[0]+'.png'\n",
        "    t.savefig(iName)"
      ],
      "metadata": {
        "id": "wRwx1fQr4Gf-"
      },
      "execution_count": null,
      "outputs": []
    },
    {
      "cell_type": "code",
      "source": [
        "print(\"\\033[1m\"+'जय पराशर'+\"\\033[0m\")\n",
        "print(datetime.now(pytz.timezone('Asia/Calcutta')))"
      ],
      "metadata": {
        "id": "eMDSElhp1_fN"
      },
      "execution_count": null,
      "outputs": []
    },
    {
      "cell_type": "markdown",
      "source": [
        "#Chronobooks <br>\n",
        "![alt text](https://1.bp.blogspot.com/-lTiYBkU2qbU/X1er__fvnkI/AAAAAAAAjtE/GhDR3OEGJr4NG43fZPodrQD5kbxtnKebgCLcBGAsYHQ/s600/Footer2020-600x200.png)<hr>\n",
        "Chronotantra and Chronoyantra are two science fiction novels that explore the collapse of human civilisation on Earth and then its rebirth and reincarnation both on Earth as well as on the distant worlds of Mars, Titan and Enceladus. But is it the human civilisation that is being reborn? Or is it some other sentience that is revealing itself.\n",
        "If you have an interest in AI and found this material useful, you may consider buying these novels, in paperback or kindle, from [http://bit.ly/chronobooks](http://bit.ly/chronobooks)"
      ],
      "metadata": {
        "id": "DFx4XUVBB0vg"
      }
    },
    {
      "cell_type": "markdown",
      "source": [
        "# Leftovers"
      ],
      "metadata": {
        "id": "jKGdhKgjNnri"
      }
    },
    {
      "cell_type": "code",
      "source": [
        "#\n",
        "#Get List of Persons whose charts are found in the database\n",
        "#\n",
        "selCond = {}                                              # All Charts\n",
        "#pd.DataFrame(list(p21.kollection.find(selCond,p21.selCols)))\n",
        "#pd.DataFrame(list(p21.kollection.find(selCond,{'pid.name':1,'_id':0})))\n",
        "pd.DataFrame(list(p21.kollection.find(selCond,{'pid.name':1})))\n",
        "#pd.DataFrame(list(p21.kollection.find(selCond,p21.selCols)))\n"
      ],
      "metadata": {
        "id": "RevVlQkqjTua"
      },
      "execution_count": null,
      "outputs": []
    },
    {
      "cell_type": "code",
      "source": [
        "#\n",
        "# Download last Report File\n",
        "#\n",
        "#files.download(ReportFile)"
      ],
      "metadata": {
        "id": "Rm8OtbSliPbO"
      },
      "execution_count": null,
      "outputs": []
    },
    {
      "cell_type": "code",
      "source": [
        "#!rm *.doc"
      ],
      "metadata": {
        "id": "IUBMuUzb-M2F"
      },
      "execution_count": null,
      "outputs": []
    }
  ]
}