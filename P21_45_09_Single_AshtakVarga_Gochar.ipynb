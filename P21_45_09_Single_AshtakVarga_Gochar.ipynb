{
  "nbformat": 4,
  "nbformat_minor": 0,
  "metadata": {
    "colab": {
      "provenance": [],
      "include_colab_link": true
    },
    "kernelspec": {
      "name": "python3",
      "display_name": "Python 3"
    },
    "language_info": {
      "name": "python"
    }
  },
  "cells": [
    {
      "cell_type": "markdown",
      "metadata": {
        "id": "view-in-github",
        "colab_type": "text"
      },
      "source": [
        "<a href=\"https://colab.research.google.com/github/prithwis/parashar21/blob/main/P21_45_09_Single_AshtakVarga_Gochar.ipynb\" target=\"_parent\"><img src=\"https://colab.research.google.com/assets/colab-badge.svg\" alt=\"Open In Colab\"/></a>"
      ]
    },
    {
      "cell_type": "markdown",
      "source": [
        "ॐ श्री गणेशाय नमः"
      ],
      "metadata": {
        "id": "g9K48vn81AI_"
      }
    },
    {
      "cell_type": "markdown",
      "source": [
        "![alt text](http://1.bp.blogspot.com/_5QlanosqxiQ/SXLOLTu7S7I/AAAAAAAAAm8/0r6C7lCxsic/S1600-R/p21-header-003.png) <br>\n",
        "\n",
        "\n",
        "---\n",
        "\n",
        "\n",
        "\n",
        "[Prithwis Mukerjee](http://www.yantrajaal.com) ||\n",
        "Website - [Parashar21](https://parashar21.blogspot.com)<br>"
      ],
      "metadata": {
        "id": "rj4jjIHTvPV8"
      }
    },
    {
      "cell_type": "markdown",
      "source": [
        "Copyright (c) 2022, Prithwis Mukerjee All rights reserved.\n",
        "\n",
        "This source code is licensed under the GNU GPL v3.0 -style license found in the LICENSE file in the root directory of this source tree."
      ],
      "metadata": {
        "id": "9OzVEmHm1IaF"
      }
    },
    {
      "cell_type": "markdown",
      "source": [
        "#Single Chart | Ashtakvarga | Gochar"
      ],
      "metadata": {
        "id": "Denaio5qTev0"
      }
    },
    {
      "cell_type": "markdown",
      "source": [
        "##Rationale\n",
        "\n",
        "The core 'engine' of Parashar21 is designed to cast horoscopes using the [Python](https://pypi.org/project/pyswisseph/) version of the [Swiss Ephemeris](https://www.astro.com/swisseph/) software, convert the data to JSON format and then store the same in a MongoDB database.<br><br> While processing a single chart does not really need database engine we found it economical to skip another ground up development and retain the same code base. Moreover, the Mongo query language has been used to filter out horoscopes that meet certain criteria and then create human readable MS-Word documents for each selected horoscope. This search and filter operation would have been difficult without the MongoDB engine. <br> <br>\n",
        "For full information about this project, please see the [Parashar21](https://prithwis.github.io/parashar21/) github page.\n"
      ],
      "metadata": {
        "id": "MKVBLfNMnXYE"
      }
    },
    {
      "cell_type": "markdown",
      "source": [
        "#SetUp Environment"
      ],
      "metadata": {
        "id": "l2v2nhRKvwJS"
      }
    },
    {
      "cell_type": "markdown",
      "source": [
        "##Install Software"
      ],
      "metadata": {
        "id": "djqyotVjO5TI"
      }
    },
    {
      "cell_type": "code",
      "source": [
        "!python --version\n",
        "!lsb_release -a\n",
        "\n",
        "#check which version of MongoDB  is available\n",
        "#!apt-cache policy mongodb\n",
        "\n",
        "#check which versions of software are available\n",
        "#!pip3 index versions pymongo\n",
        "#!pip3 index versions pyswisseph\n",
        "#!pip3 index versions python-docx\n"
      ],
      "metadata": {
        "id": "WzEwjn3AAtM0",
        "outputId": "76f560ee-de41-4550-8757-bb4ec4c5984b",
        "colab": {
          "base_uri": "https://localhost:8080/"
        }
      },
      "execution_count": 1,
      "outputs": [
        {
          "output_type": "stream",
          "name": "stdout",
          "text": [
            "Python 3.10.12\n",
            "No LSB modules are available.\n",
            "Distributor ID:\tUbuntu\n",
            "Description:\tUbuntu 22.04.2 LTS\n",
            "Release:\t22.04\n",
            "Codename:\tjammy\n"
          ]
        }
      ]
    },
    {
      "cell_type": "code",
      "source": [
        "!pip -qq install pyswisseph                                 # https://stackoverflow.com/questions/64277506/pip-install-options-unclear\n",
        "!pip -qq install python-docx                                # https://python-docx.readthedocs.io/en/latest/\n",
        "#!/usr/bin/python3 -m pip install \"pymongo[srv]\"            # Required only if used with Atlas remote servers\n",
        "!pip -qq install pymongo                                    # Required for Mongo client\n",
        "#!apt install mongodb > /dev/null                            # install local MongoDB server      --- this part does not work anymore"
      ],
      "metadata": {
        "colab": {
          "base_uri": "https://localhost:8080/"
        },
        "id": "AWKFabc0v3FI",
        "outputId": "ed11c515-7b94-481e-f0ea-08b9f5491246"
      },
      "execution_count": 2,
      "outputs": [
        {
          "output_type": "stream",
          "name": "stdout",
          "text": [
            "\u001b[2K     \u001b[90m━━━━━━━━━━━━━━━━━━━━━━━━━━━━━━━━━━━━━━━━\u001b[0m \u001b[32m1.8/1.8 MB\u001b[0m \u001b[31m15.5 MB/s\u001b[0m eta \u001b[36m0:00:00\u001b[0m\n",
            "\u001b[2K     \u001b[90m━━━━━━━━━━━━━━━━━━━━━━━━━━━━━━━━━━━━━━━━\u001b[0m \u001b[32m5.6/5.6 MB\u001b[0m \u001b[31m20.9 MB/s\u001b[0m eta \u001b[36m0:00:00\u001b[0m\n",
            "\u001b[?25h  Preparing metadata (setup.py) ... \u001b[?25l\u001b[?25hdone\n",
            "  Building wheel for python-docx (setup.py) ... \u001b[?25l\u001b[?25hdone\n",
            "\u001b[2K     \u001b[90m━━━━━━━━━━━━━━━━━━━━━━━━━━━━━━━━━━━━━━━\u001b[0m \u001b[32m603.6/603.6 kB\u001b[0m \u001b[31m7.8 MB/s\u001b[0m eta \u001b[36m0:00:00\u001b[0m\n",
            "\u001b[2K     \u001b[90m━━━━━━━━━━━━━━━━━━━━━━━━━━━━━━━━━━━━━━\u001b[0m \u001b[32m300.3/300.3 kB\u001b[0m \u001b[31m11.2 MB/s\u001b[0m eta \u001b[36m0:00:00\u001b[0m\n",
            "\u001b[?25h"
          ]
        }
      ]
    },
    {
      "cell_type": "markdown",
      "source": [
        "### Install local MongoDB\n",
        "https://www.mongodb.com/docs/manual/tutorial/install-mongodb-on-ubuntu/ <br>\n",
        "https://unix.stackexchange.com/questions/715119/system-v-init-service-cant-recongnise-mongod"
      ],
      "metadata": {
        "id": "cDmtkcercNUd"
      }
    },
    {
      "cell_type": "code",
      "source": [
        "!curl -fsSL https://pgp.mongodb.com/server-6.0.asc | \\\n",
        "   sudo gpg -o /usr/share/keyrings/mongodb-server-6.0.gpg \\\n",
        "   --dearmor\n",
        "# --------------------\n",
        "# NOTE we are using Ubuntu 22.04 hence 'jammy'\n",
        "\n",
        "!echo \"deb [ arch=amd64,arm64 signed-by=/usr/share/keyrings/mongodb-server-6.0.gpg ] https://repo.mongodb.org/apt/ubuntu jammy/mongodb-org/6.0 multiverse\" | sudo tee /etc/apt/sources.list.d/mongodb-org-6.0.list\n",
        "# --------------------\n",
        "!sudo apt-get update > /dev/null\n",
        "# --------------------\n",
        "!sudo apt-get install -y mongodb-org > /dev/null          # error, warning messages may be ignored\n",
        "# --------------------\n",
        "!sudo mkdir -p /var/log/mongodb /var/lib/mongodb\n",
        "# --------------------\n",
        "!sudo chown `whoami` /var/lib/mongodb /var/log/mongodb/"
      ],
      "metadata": {
        "colab": {
          "base_uri": "https://localhost:8080/"
        },
        "id": "80mh8SqBcm8I",
        "outputId": "f6157e1f-07a2-4744-ceb3-0bfb4cd67d99"
      },
      "execution_count": 3,
      "outputs": [
        {
          "output_type": "stream",
          "name": "stdout",
          "text": [
            "deb [ arch=amd64,arm64 signed-by=/usr/share/keyrings/mongodb-server-6.0.gpg ] https://repo.mongodb.org/apt/ubuntu jammy/mongodb-org/6.0 multiverse\n",
            "debconf: unable to initialize frontend: Dialog\n",
            "debconf: (No usable dialog-like program is installed, so the dialog based frontend cannot be used. at /usr/share/perl5/Debconf/FrontEnd/Dialog.pm line 78, <> line 9.)\n",
            "debconf: falling back to frontend: Readline\n",
            "debconf: unable to initialize frontend: Readline\n",
            "debconf: (This frontend requires a controlling tty.)\n",
            "debconf: falling back to frontend: Teletype\n",
            "dpkg-preconfigure: unable to re-open stdin: \n"
          ]
        }
      ]
    },
    {
      "cell_type": "markdown",
      "source": [
        "##Install, import prerequisites"
      ],
      "metadata": {
        "id": "Vml3UdnbOAlO"
      }
    },
    {
      "cell_type": "code",
      "source": [
        "from datetime import datetime\n",
        "import pytz\n",
        "print('Executed on :',datetime.now(pytz.timezone('Asia/Calcutta')))\n",
        "\n",
        "#Utility functions\n",
        "from pymongo import MongoClient\n",
        "import pandas as pd\n",
        "import dateutil\n",
        "import json\n",
        "from docx import Document\n",
        "from docx.shared import Inches\n",
        "from docx.enum.text import WD_ALIGN_PARAGRAPH\n",
        "from datetime import datetime\n",
        "from datetime import timedelta\n",
        "import pytz\n",
        "from google.colab import files\n",
        "\n",
        "#import matplotlib.pyplot as plt\n",
        "#import math\n"
      ],
      "metadata": {
        "id": "tsCga6c8pLvM",
        "outputId": "1c03cb03-799c-432b-d463-ac98c1a668b9",
        "colab": {
          "base_uri": "https://localhost:8080/"
        }
      },
      "execution_count": 4,
      "outputs": [
        {
          "output_type": "stream",
          "name": "stdout",
          "text": [
            "Executed on : 2023-08-05 09:09:03.308343+05:30\n"
          ]
        }
      ]
    },
    {
      "cell_type": "code",
      "source": [
        "#Load p21 modules from github\n",
        "!wget -O p21.py -q https://raw.githubusercontent.com/prithwis/parashar21/main/utils/p21.py                  # all global variables\n",
        "!wget -O p21utils.py -q https://raw.githubusercontent.com/prithwis/parashar21/main/utils/p21utils.py        # large number of utility functions\n",
        "!wget -O p21utilsR.py -q https://raw.githubusercontent.com/prithwis/parashar21/main/utils/p21utilsR.py      # report writing utility functions\n",
        "!wget -O p21swe.py -q https://raw.githubusercontent.com/prithwis/parashar21/main/utils/p21swe.py            # Swiss Ephemeris functions\n",
        "!wget -O p21YogInfo.py -q https://raw.githubusercontent.com/prithwis/parashar21/main/utils/p21YogInfo.py    # yog data - description and conditions\n",
        "# ---------------------------\n",
        "\n",
        "#!wget -O Saraswati.png -q https://github.com/prithwis/parashar21/raw/main/images/Saraswati02.png\n",
        "#!wget -O p21logo.png -q https://github.com/prithwis/parashar21/raw/main/images/p21logo-002-1.png\n",
        "\n"
      ],
      "metadata": {
        "id": "uwAT_IbvB0A-"
      },
      "execution_count": 5,
      "outputs": []
    },
    {
      "cell_type": "code",
      "source": [
        "import p21\n",
        "import p21utils\n",
        "import p21utilsR\n",
        "import p21swe\n",
        "import p21YogInfo\n",
        "# ------------------------------------------------\n",
        "# required for multiple imports of the same module\n",
        "# ------------------------------------------------\n",
        "import importlib\n",
        "importlib.reload(p21)\n",
        "importlib.reload(p21utils)\n",
        "importlib.reload(p21utilsR)\n",
        "importlib.reload(p21swe)\n",
        "importlib.reload(p21YogInfo)"
      ],
      "metadata": {
        "id": "7Np3o1Nn0zrX",
        "outputId": "c1e132b7-3d45-468c-ed9f-6daf07de41f5",
        "colab": {
          "base_uri": "https://localhost:8080/"
        }
      },
      "execution_count": 24,
      "outputs": [
        {
          "output_type": "stream",
          "name": "stdout",
          "text": [
            "10 Yogs on record\n",
            "0 : Amala Yog | 10th from Moon OR Lagna should have a benefic\n",
            "1 : RajLakshana Yog | Jupiter, Venus, Mercury, Moon should be in Lagna or they should be in a Kendra\n",
            "2 : Chatussagara Yog | All the Kendras 1/4/7/10 are occupied by planets, Ra, Ke not counted here\n",
            "3 : Adhi678 Yog | Benefics located in 6/7/8th  from Moon\n",
            "4 : Chandra Mangal Yog | Mars Conjoins Moon or  Mars and Moon in Mutual Aspect\n",
            "5 : Kemadruma Yog : No planets on either sides of the Moon\n",
            "6 : Anapha Yog |Planets other than Sun in 12th Place from Moon\n",
            "7 : Sunapha Yog |Planets other than Sun in 2nd Place from Moon\n",
            "8 : Dhurdhura Yog | Planets on both sides of the Moon\n",
            "9 : Gajakesari Yog | Jupiter is in Kendra or 1,4,7,10th from Moon\n"
          ]
        },
        {
          "output_type": "execute_result",
          "data": {
            "text/plain": [
              "<module 'p21YogInfo' from '/content/p21YogInfo.py'>"
            ]
          },
          "metadata": {},
          "execution_count": 24
        }
      ]
    },
    {
      "cell_type": "code",
      "source": [
        "# Guess what is happening here :-)\n",
        "#\n",
        "!wc *.py | grep total |awk '{print $1 \" lines\";}'\n",
        "!sed '/^#/d' *.py | wc |awk '{print $1 \" non-comment lines\";}'"
      ],
      "metadata": {
        "id": "9VHL5rlXx9xy",
        "outputId": "cc3e52ea-9d65-4c34-cbe4-7f1434f69e95",
        "colab": {
          "base_uri": "https://localhost:8080/"
        }
      },
      "execution_count": 7,
      "outputs": [
        {
          "output_type": "stream",
          "name": "stdout",
          "text": [
            "2600 lines\n",
            "2352 non-comment lines\n"
          ]
        }
      ]
    },
    {
      "cell_type": "code",
      "source": [
        "#Download Swiss Ephemeris Files\n",
        "!wget -q http://www.astro.com/ftp/swisseph/ephe/seas_18.se1\n",
        "!wget -q http://www.astro.com/ftp/swisseph/ephe/semo_18.se1\n",
        "!wget -q http://www.astro.com/ftp/swisseph/ephe/sepl_18.se1\n",
        "!mkdir ephe\n",
        "!mv *.se1 ephe\n",
        "#------------------------------\n",
        "# Configure SWE with appropriate parameters\n",
        "#\n",
        "p21swe.C01_configSWE()"
      ],
      "metadata": {
        "id": "kMKlXoDGH8XP"
      },
      "execution_count": 8,
      "outputs": []
    },
    {
      "cell_type": "markdown",
      "source": [
        "##Local Mongo\n",
        "\n",
        "We use a locally installed, temporary MongoDB to store and process the data\n"
      ],
      "metadata": {
        "id": "937sm5u0g4r_"
      }
    },
    {
      "cell_type": "code",
      "source": [
        "#!service mongodb start                                      # start Local MongoDB server instance --- does not work anymore\n",
        "!nohup mongod --config /etc/mongod.conf &                    # patch for manual start\n",
        "#!mongod --version\n",
        "# Connect to local MongoDB\n",
        "mongoURI = \"mongodb://localhost:27017/\"                               # for local server\n",
        "client = MongoClient(mongoURI)\n",
        "db = client.parashar21\n",
        "#client.list_database_names() # ['admin', 'config', 'local']\n"
      ],
      "metadata": {
        "id": "r97Sb2uL1b7l",
        "outputId": "b5e31d08-0b45-4e68-a508-b5e59ec7e086",
        "colab": {
          "base_uri": "https://localhost:8080/"
        }
      },
      "execution_count": 9,
      "outputs": [
        {
          "output_type": "stream",
          "name": "stdout",
          "text": [
            "nohup: appending output to 'nohup.out'\n"
          ]
        }
      ]
    },
    {
      "cell_type": "markdown",
      "source": [
        "#Report Generation Function"
      ],
      "metadata": {
        "id": "AW0V9j1W1ufz"
      }
    },
    {
      "cell_type": "code",
      "source": [
        "def genChart(ChartStyle):\n",
        "\n",
        "    chartData = chart.iloc[0]\n",
        "    RepID = chart.iloc[0]['pid']['name']+'_'+p21.AnalysisType[0:3]+'_'+ChartStyle[0:1]\n",
        "    now = datetime.now(pytz.timezone('Asia/Kolkata'))\n",
        "    fileName = 'p21_'+RepID+'_'+now.strftime(\"%H%M%S\")+'.doc'\n",
        "\n",
        "    #print(chartData)\n",
        "    # ---------------------------------------------------------\n",
        "    p21utilsR.R01_CreateReportDoc(None,None,'SingleChart')        # Creates MS Word Doc called p21.document for Single or MULTIPLE charts\n",
        "    #p21utilsR.R01A_CreateReportDoc(RepID)                        # Creates MS Word Doc called p21.document for SINGLE chart, deprecated\n",
        "    # ----------------------------------------------------------\n",
        "\n",
        "    p21utilsR.R511_parseChartData(chartData)                # Break up database data into useful pieces\n",
        "                                                            # Creates two primary dicts, GLon, GRet\n",
        "    p21utilsR.R30_LocateYogs()\n",
        "\n",
        "    # This is a rather clever hack. During the chart generation, the order in which charts are generated leaves\n",
        "    # the graha longitudes in the order of the last chart generate\n",
        "    # Hence there Ashtakvarga points in the output report will carry the points calculated on the basis of the last chart generate\n",
        "    # and not on the type of analysis that is actually required\n",
        "    #\n",
        "    if p21.AnalysisType == 'Rashi' :\n",
        "        listOfChartTypes = ['Navamsa','Rashi']\n",
        "    else:\n",
        "        listOfChartTypes = ['Rashi','Navamsa']\n",
        "\n",
        "\n",
        "    for ctype in listOfChartTypes:\n",
        "        p21.ChartType = ctype\n",
        "        p21utils.R11_LocateGrahaInRashi()   # Converts Graha Long to Rashi positions\n",
        "                                            # Rashi Num as well as Rashi name\n",
        "        if ChartStyle == 'Bengal':\n",
        "            p21utilsR.R12B_drawChart_Bengal()    # Draw Chart in Bengal style\n",
        "        if ChartStyle == 'South':\n",
        "            p21utilsR.R12B_drawChart_South()    # Draw Chart in South style\n",
        "        if ChartStyle == 'North':\n",
        "            p21utilsR.R12B_drawChart_North()    # Draw Chart in North style\n",
        "\n",
        "\n",
        "    p21utilsR.R512_FormatPage('SingleChart')                  # this is where the details of the chart are printed out\n",
        "\n",
        "    # ------------------------------------\n",
        "    p21.document.save(fileName)\n",
        "    return fileName\n",
        "\n",
        "print(\"Executed at \", datetime.now(pytz.timezone('Asia/Kolkata')))"
      ],
      "metadata": {
        "id": "nd3Zijjz1sfG",
        "outputId": "ea17f005-c9a9-4261-b578-b62c357f0103",
        "colab": {
          "base_uri": "https://localhost:8080/"
        }
      },
      "execution_count": 17,
      "outputs": [
        {
          "output_type": "stream",
          "name": "stdout",
          "text": [
            "Executed at  2023-08-05 09:14:31.240731+05:30\n"
          ]
        }
      ]
    },
    {
      "cell_type": "markdown",
      "source": [
        "# Store and Retrieve Function"
      ],
      "metadata": {
        "id": "YN827fluMSvH"
      }
    },
    {
      "cell_type": "code",
      "source": [
        "def StoreRetrieveChart():\n",
        "    with open('peopleData.json') as json_file:\n",
        "        oneChart = json.load(json_file)\n",
        "\n",
        "    db.drop_collection('khona21')\n",
        "    db.create_collection('khona21')               # Optional collection creation\n",
        "    p21.kollection = db.khona21                   # Set the collection to work with\n",
        "\n",
        "    # Insert the single chart\n",
        "    insert_result = p21.kollection.insert_one(oneChart)\n",
        "    return(pd.DataFrame(list(p21.kollection.find({},p21.selCols))))\n",
        "\n",
        "print(\"Executed at \", datetime.now(pytz.timezone('Asia/Kolkata')))"
      ],
      "metadata": {
        "id": "LM3zvIJMMVPt",
        "outputId": "7da7d06a-20b5-422c-8b57-4b2ea4e158cd",
        "colab": {
          "base_uri": "https://localhost:8080/"
        }
      },
      "execution_count": 11,
      "outputs": [
        {
          "output_type": "stream",
          "name": "stdout",
          "text": [
            "Executed at  2023-08-05 09:09:49.501420+05:30\n"
          ]
        }
      ]
    },
    {
      "cell_type": "markdown",
      "source": [
        "# Natal Chart\n",
        "Data for others can be added by adding an extra line in the cell below. Please follow the same pattern as in the other lines\n"
      ],
      "metadata": {
        "id": "ttRyzy7b9D3t"
      }
    },
    {
      "cell_type": "markdown",
      "source": [
        "## Representative Natal Chart Data"
      ],
      "metadata": {
        "id": "iC5HiRS8HwvN"
      }
    },
    {
      "cell_type": "code",
      "source": [
        "# Sample Data for some people\n",
        "#\n",
        "#%%writefile peopleData.csv\n",
        "#Gender,DoB_Day,DoB_Mon,DoB_Year,DoB_Time,TZ_OffHours,PoB_Lat,PoB_Lon,TZ_Name,TZ_Type,Name,tag1,tag2,tag3,tag4,tag5,tag6\n",
        "#M,17,9,1950,23:11,5.5,23.72,63.36,IST,standard,NDModi,Politician,nil,Administrator,nil,nil,nil\n",
        "#F,10,10,1954,11:00,5.5,13.08,80.27,IST,standard,Rekha,Actor,nil,Dancer,nil,nil,nil\n",
        "#M,15,10,1931,1:15,5.5,9.29,79.31,IST,standard,APJAbdulKalam,Engineer,nil,PublicFigure,nil,nil,nil\n",
        "#F,19,11,1917,23:11,5.5,25.43,81.85,IST,standard,IndiraG,Politician,nil,PublicFigure,nil,nil,nil\n",
        "#M,15,10,1961,23:42,5.5,22.57,88.37,IST,standard,Person1,dummy,nil,dummy,nil,dummy,nil\n",
        "#F,19,12,1965,10:26,5.5,22.57,88.37,IST,standard,Person1,dummy,nil,dummy,nil,dummy,nil\n",
        "#M,9,10,1990,23:09,5.5,22.57,88.37,IST,standard,Person1,dummy,nil,dummy,nil,dummy,nil\n",
        "#F,12,9,1990,0:52,5.5,22.87,88.37,IST,standard,Person1,dummy,nil,dummy,nil,dummy,nil\n",
        "\n",
        "#Read Birth Data from a file\n",
        "#!wget -O peopleData.csv -q https://raw.githubusercontent.com/prithwis/parashar21/main/data/Test5Data.txt # 5 Person Test Data\n",
        "#!cat peopleData.csv"
      ],
      "metadata": {
        "id": "awh7a1KSTZci"
      },
      "execution_count": null,
      "outputs": []
    },
    {
      "cell_type": "code",
      "source": [
        "#Optional  ----------------------------------------------\n",
        "# Get Lat Long for Place of Birth, in case that is not known\n",
        "import requests\n",
        "import urllib.parse\n",
        "\n",
        "address = 'Vadnagar, Gujarat, India'\n",
        "url = 'https://nominatim.openstreetmap.org/search/' + urllib.parse.quote(address) +'?format=json'\n",
        "\n",
        "#response = requests.get(url).json()\n",
        "print(response[0][\"lat\"])\n",
        "print(response[0][\"lon\"])\n",
        "#print(response)"
      ],
      "metadata": {
        "colab": {
          "base_uri": "https://localhost:8080/",
          "height": 245
        },
        "id": "_VgsUceyEEsk",
        "outputId": "6118d7a0-e586-4ecd-8b6e-65cbb861bbc9"
      },
      "execution_count": null,
      "outputs": [
        {
          "output_type": "error",
          "ename": "NameError",
          "evalue": "ignored",
          "traceback": [
            "\u001b[0;31m---------------------------------------------------------------------------\u001b[0m",
            "\u001b[0;31mNameError\u001b[0m                                 Traceback (most recent call last)",
            "\u001b[0;32m<ipython-input-12-80ef738c1c29>\u001b[0m in \u001b[0;36m<cell line: 10>\u001b[0;34m()\u001b[0m\n\u001b[1;32m      8\u001b[0m \u001b[0;34m\u001b[0m\u001b[0m\n\u001b[1;32m      9\u001b[0m \u001b[0;31m#response = requests.get(url).json()\u001b[0m\u001b[0;34m\u001b[0m\u001b[0;34m\u001b[0m\u001b[0m\n\u001b[0;32m---> 10\u001b[0;31m \u001b[0mprint\u001b[0m\u001b[0;34m(\u001b[0m\u001b[0mresponse\u001b[0m\u001b[0;34m[\u001b[0m\u001b[0;36m0\u001b[0m\u001b[0;34m]\u001b[0m\u001b[0;34m[\u001b[0m\u001b[0;34m\"lat\"\u001b[0m\u001b[0;34m]\u001b[0m\u001b[0;34m)\u001b[0m\u001b[0;34m\u001b[0m\u001b[0;34m\u001b[0m\u001b[0m\n\u001b[0m\u001b[1;32m     11\u001b[0m \u001b[0mprint\u001b[0m\u001b[0;34m(\u001b[0m\u001b[0mresponse\u001b[0m\u001b[0;34m[\u001b[0m\u001b[0;36m0\u001b[0m\u001b[0;34m]\u001b[0m\u001b[0;34m[\u001b[0m\u001b[0;34m\"lon\"\u001b[0m\u001b[0;34m]\u001b[0m\u001b[0;34m)\u001b[0m\u001b[0;34m\u001b[0m\u001b[0;34m\u001b[0m\u001b[0m\n\u001b[1;32m     12\u001b[0m \u001b[0;31m#print(response)\u001b[0m\u001b[0;34m\u001b[0m\u001b[0;34m\u001b[0m\u001b[0m\n",
            "\u001b[0;31mNameError\u001b[0m: name 'response' is not defined"
          ]
        }
      ]
    },
    {
      "cell_type": "markdown",
      "source": [
        "## Natal Data Preparation"
      ],
      "metadata": {
        "id": "yOw4fYHv2VSn"
      }
    },
    {
      "cell_type": "code",
      "source": [
        "%%writefile peopleData.csv\n",
        "Gender,DoB_Day,DoB_Mon,DoB_Year,DoB_Time,TZ_OffHours,PoB_Lat,PoB_Lon,TZ_Name,TZ_Type,Name,tag1,tag2,tag3,tag4,tag5,tag6\n",
        "M,15,10,1961,23:42,5.5,22.57,88.37,IST,standard,Person1,dummy,nil,dummy,nil,dummy,nil"
      ],
      "metadata": {
        "colab": {
          "base_uri": "https://localhost:8080/"
        },
        "id": "x7sg8sa11Zpm",
        "outputId": "4fbeaff2-1202-443d-b91b-27ad24af959b"
      },
      "execution_count": 12,
      "outputs": [
        {
          "output_type": "stream",
          "name": "stdout",
          "text": [
            "Writing peopleData.csv\n"
          ]
        }
      ]
    },
    {
      "cell_type": "code",
      "source": [
        "#%%time\n",
        "df = pd.read_csv('peopleData.csv')\n",
        "\n",
        "p21.AnalysisType = 'Rashi'                                     # one of ['Rashi','Navamsa']\n",
        "#p21.AnalysisType = 'Navamsa'                                    # one of ['Rashi','Navamsa']\n",
        "\n",
        "p21.ChartType = p21.AnalysisType\n",
        "\n",
        "# ------------------------------------------------------------\n",
        "# Converts date/time info into a detailed horoscope chart\n",
        "# Stores the same in a JSON file, to be inserted into a local MongoDB database\n",
        "#\n",
        "p21swe.C61_Cast2JSON(df)\n",
        "print('................................................')\n",
        "p21utils.SarvaAshtakVarga()\n",
        "\n",
        "p21.SubMoonLong = p21.GLon['Mo']                       # Preserving Moon Longitude for Gochar\n",
        "#print(p21.GLon['La'],p21.GLon['Mo'])\n",
        "\n",
        "p21utils.GetDasha()                                     # Generates Vimsottari Dasha / Antardasha Details"
      ],
      "metadata": {
        "id": "Zrrs_eHOOYpl",
        "outputId": "699cd228-9bb6-4827-e6f5-f3473f4944d0",
        "colab": {
          "base_uri": "https://localhost:8080/"
        }
      },
      "execution_count": 25,
      "outputs": [
        {
          "output_type": "stream",
          "name": "stdout",
          "text": [
            "1 records processed, so far\n",
            "1  records generated and stored in file peopleData.json\n",
            "................................................\n",
            "SarvaAshtakVarga | Rashi {'La': 4, 'Su': 6, 'Mo': 9, 'Ma': 7, 'Me': 7, 'Ju': 10, 'Ve': 6, 'Sa': 10, 'Ra': 5, 'Ke': 11}\n",
            "Su [4, 5, 5, 4, 4, 6, 5, 3, 3, 2, 4, 3]\n",
            "Mo [4, 5, 4, 5, 4, 2, 3, 5, 5, 3, 5, 4]\n",
            "Ma [4, 3, 2, 5, 4, 2, 4, 4, 3, 3, 4, 1]\n",
            "Me [4, 5, 3, 7, 6, 4, 6, 4, 4, 5, 4, 2]\n",
            "Ju [5, 5, 5, 6, 5, 1, 7, 5, 3, 6, 3, 5]\n",
            "Ve [4, 4, 3, 4, 7, 5, 5, 5, 4, 2, 4, 5]\n",
            "Sa [2, 5, 4, 5, 3, 4, 3, 2, 4, 0, 3, 4]\n",
            " + [27, 32, 26, 36, 33, 24, 33, 28, 26, 21, 27, 24]  =  337\n",
            "SarvaAshtakVarga | Bhav [' ', 4, 5, 6, 7, 8, 9, 10, 11, 12, 1, 2, 3]\n",
            "Su [4, 4, 6, 5, 3, 3, 2, 4, 3, 4, 5, 5]\n",
            "Mo [5, 4, 2, 3, 5, 5, 3, 5, 4, 4, 5, 4]\n",
            "Ma [5, 4, 2, 4, 4, 3, 3, 4, 1, 4, 3, 2]\n",
            "Me [7, 6, 4, 6, 4, 4, 5, 4, 2, 4, 5, 3]\n",
            "Ju [6, 5, 1, 7, 5, 3, 6, 3, 5, 5, 5, 5]\n",
            "Ve [4, 7, 5, 5, 5, 4, 2, 4, 5, 4, 4, 3]\n",
            "Sa [5, 3, 4, 3, 2, 4, 0, 3, 4, 2, 5, 4]\n",
            " + [36, 33, 24, 33, 28, 26, 21, 27, 24, 27, 32, 26]  =  337\n"
          ]
        }
      ]
    },
    {
      "cell_type": "markdown",
      "source": [
        "##Process Natal Chart"
      ],
      "metadata": {
        "id": "YeybZgev19Cw"
      }
    },
    {
      "cell_type": "code",
      "source": [
        "%%capture\n",
        "\n",
        "p21.printDasha = True\n",
        "chart = StoreRetrieveChart()\n",
        "ReportFile = genChart('Bengal')\n",
        "\n",
        "#ReportFile = genChart('South')\n"
      ],
      "metadata": {
        "id": "TjPcGN3XM9Qq"
      },
      "execution_count": 26,
      "outputs": []
    },
    {
      "cell_type": "code",
      "source": [
        "!rm *.doc"
      ],
      "metadata": {
        "id": "C5oxptHw455A"
      },
      "execution_count": 20,
      "outputs": []
    },
    {
      "cell_type": "code",
      "source": [
        "p21utils.SarvaAshtakVarga()"
      ],
      "metadata": {
        "id": "LFEL8teSA6OQ",
        "outputId": "e3aab4f5-a286-4613-8e58-fcee1935d858",
        "colab": {
          "base_uri": "https://localhost:8080/"
        }
      },
      "execution_count": null,
      "outputs": [
        {
          "output_type": "stream",
          "name": "stdout",
          "text": [
            "SarvaAshtakVarga | Rashi {'La': 4, 'Su': 6, 'Mo': 9, 'Ma': 7, 'Me': 7, 'Ju': 10, 'Ve': 6, 'Sa': 10, 'Ra': 5, 'Ke': 11}\n",
            "Su [4, 5, 5, 4, 4, 6, 5, 3, 3, 2, 4, 3]\n",
            "Mo [4, 5, 4, 5, 4, 2, 3, 5, 5, 3, 5, 4]\n",
            "Ma [4, 3, 2, 5, 4, 2, 4, 4, 3, 3, 4, 1]\n",
            "Me [4, 5, 3, 7, 6, 4, 6, 4, 4, 5, 4, 2]\n",
            "Ju [5, 5, 5, 6, 5, 1, 7, 5, 3, 6, 3, 5]\n",
            "Ve [4, 4, 3, 4, 7, 5, 5, 5, 4, 2, 4, 5]\n",
            "Sa [2, 5, 4, 5, 3, 4, 3, 2, 4, 0, 3, 4]\n",
            " + [27, 32, 26, 36, 33, 24, 33, 28, 26, 21, 27, 24]  =  337\n",
            "SarvaAshtakVarga | Bhav [' ', 4, 5, 6, 7, 8, 9, 10, 11, 12, 1, 2, 3]\n",
            "Su [4, 4, 6, 5, 3, 3, 2, 4, 3, 4, 5, 5]\n",
            "Mo [5, 4, 2, 3, 5, 5, 3, 5, 4, 4, 5, 4]\n",
            "Ma [5, 4, 2, 4, 4, 3, 3, 4, 1, 4, 3, 2]\n",
            "Me [7, 6, 4, 6, 4, 4, 5, 4, 2, 4, 5, 3]\n",
            "Ju [6, 5, 1, 7, 5, 3, 6, 3, 5, 5, 5, 5]\n",
            "Ve [4, 7, 5, 5, 5, 4, 2, 4, 5, 4, 4, 3]\n",
            "Sa [5, 3, 4, 3, 2, 4, 0, 3, 4, 2, 5, 4]\n",
            " + [36, 33, 24, 33, 28, 26, 21, 27, 24, 27, 32, 26]  =  337\n"
          ]
        },
        {
          "output_type": "execute_result",
          "data": {
            "text/plain": [
              "([[4, 5, 5, 4, 4, 6, 5, 3, 3, 2, 4, 3],\n",
              "  [4, 5, 4, 5, 4, 2, 3, 5, 5, 3, 5, 4],\n",
              "  [4, 3, 2, 5, 4, 2, 4, 4, 3, 3, 4, 1],\n",
              "  [4, 5, 3, 7, 6, 4, 6, 4, 4, 5, 4, 2],\n",
              "  [5, 5, 5, 6, 5, 1, 7, 5, 3, 6, 3, 5],\n",
              "  [4, 4, 3, 4, 7, 5, 5, 5, 4, 2, 4, 5],\n",
              "  [2, 5, 4, 5, 3, 4, 3, 2, 4, 0, 3, 4]],\n",
              " [27, 32, 26, 36, 33, 24, 33, 28, 26, 21, 27, 24],\n",
              " [[4, 4, 6, 5, 3, 3, 2, 4, 3, 4, 5, 5],\n",
              "  [5, 4, 2, 3, 5, 5, 3, 5, 4, 4, 5, 4],\n",
              "  [5, 4, 2, 4, 4, 3, 3, 4, 1, 4, 3, 2],\n",
              "  [7, 6, 4, 6, 4, 4, 5, 4, 2, 4, 5, 3],\n",
              "  [6, 5, 1, 7, 5, 3, 6, 3, 5, 5, 5, 5],\n",
              "  [4, 7, 5, 5, 5, 4, 2, 4, 5, 4, 4, 3],\n",
              "  [5, 3, 4, 3, 2, 4, 0, 3, 4, 2, 5, 4]],\n",
              " [36, 33, 24, 33, 28, 26, 21, 27, 24, 27, 32, 26])"
            ]
          },
          "metadata": {},
          "execution_count": 51
        }
      ]
    },
    {
      "cell_type": "markdown",
      "source": [
        "#Gochar Chart"
      ],
      "metadata": {
        "id": "y6rgDCdL2eiB"
      }
    },
    {
      "cell_type": "markdown",
      "source": [
        "## Gochar Data Preparation"
      ],
      "metadata": {
        "id": "dkbvsoDnQW74"
      }
    },
    {
      "cell_type": "code",
      "source": [
        "# This cell to be executed ONLY after natal chart has been created, otherwise errors\n",
        "#\n",
        "!sed -n 1p peopleData.csv > peopleData2.csv                                  # Copy the Header data\n",
        "print(p21.gName, p21.SubMoonLong)\n",
        "\n",
        "#p21.Gochar = True\n",
        "#if p21.Gochar :\n",
        "\n",
        "now = datetime.now(pytz.timezone('Asia/Kolkata'))\n",
        "timeTxt = now.strftime(\"%-d,%-m,%Y,%-H:%-M\")\n",
        "\n",
        "#\n",
        "# for Gochar chart for any other time, other than now()\n",
        "#timeTxt = '31,5,2023,9:16'                # any other time in dd,mm,yyyy,hh:mm format will do\n",
        "#\n",
        "#print(timeTxt)\n",
        "\n",
        "GocharTxt = 'x,'+timeTxt+',5.5,25.43,81.85,IST,standard,'+p21.gName+',nil,nil,nil,nil,nil,nil'                  # Using Lat, Long of Calcutta for Gochar\n",
        "print(GocharTxt)\n",
        "with open(\"peopleData2.csv\", 'a') as file1:\n",
        "    file1.write(GocharTxt)\n"
      ],
      "metadata": {
        "id": "C5m-T-guzPNt",
        "outputId": "32ae9a30-ff0d-466a-9ff5-d01b4c732d8e",
        "colab": {
          "base_uri": "https://localhost:8080/"
        }
      },
      "execution_count": null,
      "outputs": [
        {
          "output_type": "stream",
          "name": "stdout",
          "text": [
            "_Gochar 250.52\n",
            "x,4,8,2023,17:53,5.5,25.43,81.85,IST,standard,_Gochar,nil,nil,nil,nil,nil,nil\n"
          ]
        }
      ]
    },
    {
      "cell_type": "code",
      "source": [
        "# Load CSV data into Pandas dataframe\n",
        "#\n",
        "df = pd.read_csv('peopleData2.csv')\n",
        "#df.head()\n",
        "\n",
        "p21.AnalysisType = 'Rashi'                                     # one of ['Rashi','Navamsa']\n",
        "#p21.AnalysisType = 'Navamsa'                                    # one of ['Rashi','Navamsa']\n",
        "p21.ChartType = p21.AnalysisType\n",
        "\n",
        "p21swe.C61_Cast2JSON(df)                                      # For Gochar, the La Long is set to Natal Moon Long\n",
        "#print(p21.GLon['La'],p21.GLon['Mo'])"
      ],
      "metadata": {
        "id": "dq9Y69ge8k0F",
        "outputId": "61def2f1-10d3-406e-ecd0-cd59610c3a8f",
        "colab": {
          "base_uri": "https://localhost:8080/"
        }
      },
      "execution_count": null,
      "outputs": [
        {
          "output_type": "stream",
          "name": "stdout",
          "text": [
            "1 records processed, so far\n",
            "1  records generated and stored in file peopleData.json\n"
          ]
        }
      ]
    },
    {
      "cell_type": "code",
      "source": [
        "p21utils.SarvaAshtakVarga()"
      ],
      "metadata": {
        "id": "62EqKHbxBmiS",
        "outputId": "499bfc7c-0311-4585-cfe4-0395614ae5d7",
        "colab": {
          "base_uri": "https://localhost:8080/"
        }
      },
      "execution_count": null,
      "outputs": [
        {
          "output_type": "stream",
          "name": "stdout",
          "text": [
            "SarvaAshtakVarga | Rashi {'La': 9, 'Su': 4, 'Mo': 11, 'Ma': 5, 'Me': 5, 'Ju': 1, 'Ve': 5, 'Sa': 11, 'Ra': 1, 'Ke': 7}\n",
            "Su [4, 5, 2, 4, 4, 4, 4, 4, 4, 3, 6, 4]\n",
            "Mo [5, 6, 4, 3, 2, 3, 6, 4, 6, 3, 6, 1]\n",
            "Ma [2, 4, 3, 2, 2, 5, 3, 3, 5, 3, 4, 3]\n",
            "Me [3, 6, 4, 3, 4, 6, 4, 6, 6, 2, 3, 7]\n",
            "Ju [6, 6, 7, 3, 5, 5, 4, 3, 4, 6, 3, 4]\n",
            "Ve [6, 4, 6, 2, 3, 3, 6, 3, 7, 5, 4, 3]\n",
            "Sa [4, 4, 4, 6, 2, 2, 3, 0, 4, 4, 3, 3]\n",
            " + [30, 35, 30, 23, 22, 28, 30, 23, 36, 26, 29, 25]  =  337\n",
            "SarvaAshtakVarga | Bhav [' ', 9, 10, 11, 12, 1, 2, 3, 4, 5, 6, 7, 8]\n",
            "Su [4, 3, 6, 4, 4, 5, 2, 4, 4, 4, 4, 4]\n",
            "Mo [6, 3, 6, 1, 5, 6, 4, 3, 2, 3, 6, 4]\n",
            "Ma [5, 3, 4, 3, 2, 4, 3, 2, 2, 5, 3, 3]\n",
            "Me [6, 2, 3, 7, 3, 6, 4, 3, 4, 6, 4, 6]\n",
            "Ju [4, 6, 3, 4, 6, 6, 7, 3, 5, 5, 4, 3]\n",
            "Ve [7, 5, 4, 3, 6, 4, 6, 2, 3, 3, 6, 3]\n",
            "Sa [4, 4, 3, 3, 4, 4, 4, 6, 2, 2, 3, 0]\n",
            " + [36, 26, 29, 25, 30, 35, 30, 23, 22, 28, 30, 23]  =  337\n"
          ]
        }
      ]
    },
    {
      "cell_type": "markdown",
      "source": [
        "## Process Gochar Chart"
      ],
      "metadata": {
        "id": "UfrvUFYmNGzX"
      }
    },
    {
      "cell_type": "code",
      "source": [
        "%%capture\n",
        "\n",
        "p21.printDasha = True\n",
        "chart = StoreRetrieveChart()\n",
        "ReportFile = genChart('Bengal')"
      ],
      "metadata": {
        "id": "DNQxCgmKNZKT"
      },
      "execution_count": null,
      "outputs": []
    },
    {
      "cell_type": "code",
      "source": [
        "p21utils.SarvaAshtakVarga()"
      ],
      "metadata": {
        "id": "f3qzpLJU6lIs",
        "outputId": "1887c5af-fad1-44f3-9854-5060d8c749fe",
        "colab": {
          "base_uri": "https://localhost:8080/"
        }
      },
      "execution_count": null,
      "outputs": [
        {
          "output_type": "stream",
          "name": "stdout",
          "text": [
            "SarvaAshtakVarga | Rashi {'La': 9, 'Su': 4, 'Mo': 11, 'Ma': 5, 'Me': 5, 'Ju': 1, 'Ve': 5, 'Sa': 11, 'Ra': 1, 'Ke': 7}\n",
            "Su [4, 5, 2, 4, 4, 4, 4, 4, 4, 3, 6, 4]\n",
            "Mo [5, 6, 4, 3, 2, 3, 6, 4, 6, 3, 6, 1]\n",
            "Ma [2, 4, 3, 2, 2, 5, 3, 3, 5, 3, 4, 3]\n",
            "Me [3, 6, 4, 3, 4, 6, 4, 6, 6, 2, 3, 7]\n",
            "Ju [6, 6, 7, 3, 5, 5, 4, 3, 4, 6, 3, 4]\n",
            "Ve [6, 4, 6, 2, 3, 3, 6, 3, 7, 5, 4, 3]\n",
            "Sa [4, 4, 4, 6, 2, 2, 3, 0, 4, 4, 3, 3]\n",
            " + [30, 35, 30, 23, 22, 28, 30, 23, 36, 26, 29, 25]  =  337\n",
            "SarvaAshtakVarga | Bhav [' ', 9, 10, 11, 12, 1, 2, 3, 4, 5, 6, 7, 8]\n",
            "Su [4, 3, 6, 4, 4, 5, 2, 4, 4, 4, 4, 4]\n",
            "Mo [6, 3, 6, 1, 5, 6, 4, 3, 2, 3, 6, 4]\n",
            "Ma [5, 3, 4, 3, 2, 4, 3, 2, 2, 5, 3, 3]\n",
            "Me [6, 2, 3, 7, 3, 6, 4, 3, 4, 6, 4, 6]\n",
            "Ju [4, 6, 3, 4, 6, 6, 7, 3, 5, 5, 4, 3]\n",
            "Ve [7, 5, 4, 3, 6, 4, 6, 2, 3, 3, 6, 3]\n",
            "Sa [4, 4, 3, 3, 4, 4, 4, 6, 2, 2, 3, 0]\n",
            " + [36, 26, 29, 25, 30, 35, 30, 23, 22, 28, 30, 23]  =  337\n"
          ]
        }
      ]
    },
    {
      "cell_type": "markdown",
      "source": [
        "#Chronobooks <br>\n",
        "![alt text](https://1.bp.blogspot.com/-lTiYBkU2qbU/X1er__fvnkI/AAAAAAAAjtE/GhDR3OEGJr4NG43fZPodrQD5kbxtnKebgCLcBGAsYHQ/s600/Footer2020-600x200.png)<hr>\n",
        "Chronotantra and Chronoyantra are two science fiction novels that explore the collapse of human civilisation on Earth and then its rebirth and reincarnation both on Earth as well as on the distant worlds of Mars, Titan and Enceladus. But is it the human civilisation that is being reborn? Or is it some other sentience that is revealing itself.\n",
        "If you have an interest in AI and found this material useful, you may consider buying these novels, in paperback or kindle, from [http://bit.ly/chronobooks](http://bit.ly/chronobooks)"
      ],
      "metadata": {
        "id": "DFx4XUVBB0vg"
      }
    },
    {
      "cell_type": "code",
      "source": [
        "#!cat peopleData.json"
      ],
      "metadata": {
        "id": "GvWpZtrR9x2t"
      },
      "execution_count": null,
      "outputs": []
    },
    {
      "cell_type": "markdown",
      "source": [
        "# Leftovers"
      ],
      "metadata": {
        "id": "jKGdhKgjNnri"
      }
    },
    {
      "cell_type": "code",
      "source": [
        "#\n",
        "#Get List of Persons whose charts are found in the database\n",
        "#\n",
        "selCond = {}                                              # All Charts\n",
        "#pd.DataFrame(list(p21.kollection.find(selCond,p21.selCols)))\n",
        "#pd.DataFrame(list(p21.kollection.find(selCond,{'pid.name':1,'_id':0})))\n",
        "pd.DataFrame(list(p21.kollection.find(selCond,{'pid.name':1})))\n",
        "#pd.DataFrame(list(p21.kollection.find(selCond,p21.selCols)))\n"
      ],
      "metadata": {
        "id": "RevVlQkqjTua",
        "outputId": "e6f0b3b9-fb01-481f-89af-57d5515d8058",
        "colab": {
          "base_uri": "https://localhost:8080/",
          "height": 81
        }
      },
      "execution_count": null,
      "outputs": [
        {
          "output_type": "execute_result",
          "data": {
            "text/plain": [
              "                        _id                  pid\n",
              "0  64ccea6bc67c8635be36a544  {'name': '_Gochar'}"
            ],
            "text/html": [
              "\n",
              "\n",
              "  <div id=\"df-60c5cb7d-6a0b-4cbf-8454-33214a1b3b85\">\n",
              "    <div class=\"colab-df-container\">\n",
              "      <div>\n",
              "<style scoped>\n",
              "    .dataframe tbody tr th:only-of-type {\n",
              "        vertical-align: middle;\n",
              "    }\n",
              "\n",
              "    .dataframe tbody tr th {\n",
              "        vertical-align: top;\n",
              "    }\n",
              "\n",
              "    .dataframe thead th {\n",
              "        text-align: right;\n",
              "    }\n",
              "</style>\n",
              "<table border=\"1\" class=\"dataframe\">\n",
              "  <thead>\n",
              "    <tr style=\"text-align: right;\">\n",
              "      <th></th>\n",
              "      <th>_id</th>\n",
              "      <th>pid</th>\n",
              "    </tr>\n",
              "  </thead>\n",
              "  <tbody>\n",
              "    <tr>\n",
              "      <th>0</th>\n",
              "      <td>64ccea6bc67c8635be36a544</td>\n",
              "      <td>{'name': '_Gochar'}</td>\n",
              "    </tr>\n",
              "  </tbody>\n",
              "</table>\n",
              "</div>\n",
              "      <button class=\"colab-df-convert\" onclick=\"convertToInteractive('df-60c5cb7d-6a0b-4cbf-8454-33214a1b3b85')\"\n",
              "              title=\"Convert this dataframe to an interactive table.\"\n",
              "              style=\"display:none;\">\n",
              "\n",
              "  <svg xmlns=\"http://www.w3.org/2000/svg\" height=\"24px\"viewBox=\"0 0 24 24\"\n",
              "       width=\"24px\">\n",
              "    <path d=\"M0 0h24v24H0V0z\" fill=\"none\"/>\n",
              "    <path d=\"M18.56 5.44l.94 2.06.94-2.06 2.06-.94-2.06-.94-.94-2.06-.94 2.06-2.06.94zm-11 1L8.5 8.5l.94-2.06 2.06-.94-2.06-.94L8.5 2.5l-.94 2.06-2.06.94zm10 10l.94 2.06.94-2.06 2.06-.94-2.06-.94-.94-2.06-.94 2.06-2.06.94z\"/><path d=\"M17.41 7.96l-1.37-1.37c-.4-.4-.92-.59-1.43-.59-.52 0-1.04.2-1.43.59L10.3 9.45l-7.72 7.72c-.78.78-.78 2.05 0 2.83L4 21.41c.39.39.9.59 1.41.59.51 0 1.02-.2 1.41-.59l7.78-7.78 2.81-2.81c.8-.78.8-2.07 0-2.86zM5.41 20L4 18.59l7.72-7.72 1.47 1.35L5.41 20z\"/>\n",
              "  </svg>\n",
              "      </button>\n",
              "\n",
              "\n",
              "\n",
              "    <div id=\"df-1d5ce265-58bd-4487-9b6e-ffa7f5696d3d\">\n",
              "      <button class=\"colab-df-quickchart\" onclick=\"quickchart('df-1d5ce265-58bd-4487-9b6e-ffa7f5696d3d')\"\n",
              "              title=\"Suggest charts.\"\n",
              "              style=\"display:none;\">\n",
              "\n",
              "<svg xmlns=\"http://www.w3.org/2000/svg\" height=\"24px\"viewBox=\"0 0 24 24\"\n",
              "     width=\"24px\">\n",
              "    <g>\n",
              "        <path d=\"M19 3H5c-1.1 0-2 .9-2 2v14c0 1.1.9 2 2 2h14c1.1 0 2-.9 2-2V5c0-1.1-.9-2-2-2zM9 17H7v-7h2v7zm4 0h-2V7h2v10zm4 0h-2v-4h2v4z\"/>\n",
              "    </g>\n",
              "</svg>\n",
              "      </button>\n",
              "    </div>\n",
              "\n",
              "<style>\n",
              "  .colab-df-quickchart {\n",
              "    background-color: #E8F0FE;\n",
              "    border: none;\n",
              "    border-radius: 50%;\n",
              "    cursor: pointer;\n",
              "    display: none;\n",
              "    fill: #1967D2;\n",
              "    height: 32px;\n",
              "    padding: 0 0 0 0;\n",
              "    width: 32px;\n",
              "  }\n",
              "\n",
              "  .colab-df-quickchart:hover {\n",
              "    background-color: #E2EBFA;\n",
              "    box-shadow: 0px 1px 2px rgba(60, 64, 67, 0.3), 0px 1px 3px 1px rgba(60, 64, 67, 0.15);\n",
              "    fill: #174EA6;\n",
              "  }\n",
              "\n",
              "  [theme=dark] .colab-df-quickchart {\n",
              "    background-color: #3B4455;\n",
              "    fill: #D2E3FC;\n",
              "  }\n",
              "\n",
              "  [theme=dark] .colab-df-quickchart:hover {\n",
              "    background-color: #434B5C;\n",
              "    box-shadow: 0px 1px 3px 1px rgba(0, 0, 0, 0.15);\n",
              "    filter: drop-shadow(0px 1px 2px rgba(0, 0, 0, 0.3));\n",
              "    fill: #FFFFFF;\n",
              "  }\n",
              "</style>\n",
              "\n",
              "    <script>\n",
              "      async function quickchart(key) {\n",
              "        const containerElement = document.querySelector('#' + key);\n",
              "        const charts = await google.colab.kernel.invokeFunction(\n",
              "            'suggestCharts', [key], {});\n",
              "      }\n",
              "    </script>\n",
              "\n",
              "      <script>\n",
              "\n",
              "function displayQuickchartButton(domScope) {\n",
              "  let quickchartButtonEl =\n",
              "    domScope.querySelector('#df-1d5ce265-58bd-4487-9b6e-ffa7f5696d3d button.colab-df-quickchart');\n",
              "  quickchartButtonEl.style.display =\n",
              "    google.colab.kernel.accessAllowed ? 'block' : 'none';\n",
              "}\n",
              "\n",
              "        displayQuickchartButton(document);\n",
              "      </script>\n",
              "      <style>\n",
              "    .colab-df-container {\n",
              "      display:flex;\n",
              "      flex-wrap:wrap;\n",
              "      gap: 12px;\n",
              "    }\n",
              "\n",
              "    .colab-df-convert {\n",
              "      background-color: #E8F0FE;\n",
              "      border: none;\n",
              "      border-radius: 50%;\n",
              "      cursor: pointer;\n",
              "      display: none;\n",
              "      fill: #1967D2;\n",
              "      height: 32px;\n",
              "      padding: 0 0 0 0;\n",
              "      width: 32px;\n",
              "    }\n",
              "\n",
              "    .colab-df-convert:hover {\n",
              "      background-color: #E2EBFA;\n",
              "      box-shadow: 0px 1px 2px rgba(60, 64, 67, 0.3), 0px 1px 3px 1px rgba(60, 64, 67, 0.15);\n",
              "      fill: #174EA6;\n",
              "    }\n",
              "\n",
              "    [theme=dark] .colab-df-convert {\n",
              "      background-color: #3B4455;\n",
              "      fill: #D2E3FC;\n",
              "    }\n",
              "\n",
              "    [theme=dark] .colab-df-convert:hover {\n",
              "      background-color: #434B5C;\n",
              "      box-shadow: 0px 1px 3px 1px rgba(0, 0, 0, 0.15);\n",
              "      filter: drop-shadow(0px 1px 2px rgba(0, 0, 0, 0.3));\n",
              "      fill: #FFFFFF;\n",
              "    }\n",
              "  </style>\n",
              "\n",
              "      <script>\n",
              "        const buttonEl =\n",
              "          document.querySelector('#df-60c5cb7d-6a0b-4cbf-8454-33214a1b3b85 button.colab-df-convert');\n",
              "        buttonEl.style.display =\n",
              "          google.colab.kernel.accessAllowed ? 'block' : 'none';\n",
              "\n",
              "        async function convertToInteractive(key) {\n",
              "          const element = document.querySelector('#df-60c5cb7d-6a0b-4cbf-8454-33214a1b3b85');\n",
              "          const dataTable =\n",
              "            await google.colab.kernel.invokeFunction('convertToInteractive',\n",
              "                                                     [key], {});\n",
              "          if (!dataTable) return;\n",
              "\n",
              "          const docLinkHtml = 'Like what you see? Visit the ' +\n",
              "            '<a target=\"_blank\" href=https://colab.research.google.com/notebooks/data_table.ipynb>data table notebook</a>'\n",
              "            + ' to learn more about interactive tables.';\n",
              "          element.innerHTML = '';\n",
              "          dataTable['output_type'] = 'display_data';\n",
              "          await google.colab.output.renderOutput(dataTable, element);\n",
              "          const docLink = document.createElement('div');\n",
              "          docLink.innerHTML = docLinkHtml;\n",
              "          element.appendChild(docLink);\n",
              "        }\n",
              "      </script>\n",
              "    </div>\n",
              "  </div>\n"
            ]
          },
          "metadata": {},
          "execution_count": 26
        }
      ]
    },
    {
      "cell_type": "code",
      "source": [
        "#\n",
        "# Download last Report File\n",
        "#\n",
        "#files.download(ReportFile)"
      ],
      "metadata": {
        "id": "Rm8OtbSliPbO",
        "outputId": "627dd506-994e-4967-e1c7-2ea9f93bca16",
        "colab": {
          "base_uri": "https://localhost:8080/",
          "height": 331
        }
      },
      "execution_count": null,
      "outputs": [
        {
          "output_type": "error",
          "ename": "FileNotFoundError",
          "evalue": "ignored",
          "traceback": [
            "\u001b[0;31m---------------------------------------------------------------------------\u001b[0m",
            "\u001b[0;31mFileNotFoundError\u001b[0m                         Traceback (most recent call last)",
            "\u001b[0;32m<ipython-input-29-50bf55afdb86>\u001b[0m in \u001b[0;36m<cell line: 4>\u001b[0;34m()\u001b[0m\n\u001b[1;32m      2\u001b[0m \u001b[0;31m# Download last Report File\u001b[0m\u001b[0;34m\u001b[0m\u001b[0;34m\u001b[0m\u001b[0m\n\u001b[1;32m      3\u001b[0m \u001b[0;31m#\u001b[0m\u001b[0;34m\u001b[0m\u001b[0;34m\u001b[0m\u001b[0m\n\u001b[0;32m----> 4\u001b[0;31m \u001b[0mfiles\u001b[0m\u001b[0;34m.\u001b[0m\u001b[0mdownload\u001b[0m\u001b[0;34m(\u001b[0m\u001b[0mReportFile\u001b[0m\u001b[0;34m)\u001b[0m\u001b[0;34m\u001b[0m\u001b[0;34m\u001b[0m\u001b[0m\n\u001b[0m",
            "\u001b[0;32m/usr/local/lib/python3.10/dist-packages/google/colab/files.py\u001b[0m in \u001b[0;36mdownload\u001b[0;34m(filename)\u001b[0m\n\u001b[1;32m    223\u001b[0m   \u001b[0;32mif\u001b[0m \u001b[0;32mnot\u001b[0m \u001b[0m_os\u001b[0m\u001b[0;34m.\u001b[0m\u001b[0mpath\u001b[0m\u001b[0;34m.\u001b[0m\u001b[0mexists\u001b[0m\u001b[0;34m(\u001b[0m\u001b[0mfilename\u001b[0m\u001b[0;34m)\u001b[0m\u001b[0;34m:\u001b[0m\u001b[0;34m\u001b[0m\u001b[0;34m\u001b[0m\u001b[0m\n\u001b[1;32m    224\u001b[0m     \u001b[0mmsg\u001b[0m \u001b[0;34m=\u001b[0m \u001b[0;34m'Cannot find file: {}'\u001b[0m\u001b[0;34m.\u001b[0m\u001b[0mformat\u001b[0m\u001b[0;34m(\u001b[0m\u001b[0mfilename\u001b[0m\u001b[0;34m)\u001b[0m\u001b[0;34m\u001b[0m\u001b[0;34m\u001b[0m\u001b[0m\n\u001b[0;32m--> 225\u001b[0;31m     \u001b[0;32mraise\u001b[0m \u001b[0mFileNotFoundError\u001b[0m\u001b[0;34m(\u001b[0m\u001b[0mmsg\u001b[0m\u001b[0;34m)\u001b[0m  \u001b[0;31m# pylint: disable=undefined-variable\u001b[0m\u001b[0;34m\u001b[0m\u001b[0;34m\u001b[0m\u001b[0m\n\u001b[0m\u001b[1;32m    226\u001b[0m \u001b[0;34m\u001b[0m\u001b[0m\n\u001b[1;32m    227\u001b[0m   \u001b[0mcomm_manager\u001b[0m \u001b[0;34m=\u001b[0m \u001b[0m_IPython\u001b[0m\u001b[0;34m.\u001b[0m\u001b[0mget_ipython\u001b[0m\u001b[0;34m(\u001b[0m\u001b[0;34m)\u001b[0m\u001b[0;34m.\u001b[0m\u001b[0mkernel\u001b[0m\u001b[0;34m.\u001b[0m\u001b[0mcomm_manager\u001b[0m\u001b[0;34m\u001b[0m\u001b[0;34m\u001b[0m\u001b[0m\n",
            "\u001b[0;31mFileNotFoundError\u001b[0m: Cannot find file: p21__Gochar_Ras_B_173915.doc"
          ]
        }
      ]
    },
    {
      "cell_type": "code",
      "source": [
        "#!rm *.doc"
      ],
      "metadata": {
        "id": "IUBMuUzb-M2F",
        "outputId": "51fd4eb5-ccfd-4b40-f07b-be3526c1dfc8",
        "colab": {
          "base_uri": "https://localhost:8080/"
        }
      },
      "execution_count": null,
      "outputs": [
        {
          "output_type": "stream",
          "name": "stdout",
          "text": [
            "rm: cannot remove '*.doc': No such file or directory\n"
          ]
        }
      ]
    }
  ]
}