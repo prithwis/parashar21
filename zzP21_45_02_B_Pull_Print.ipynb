{
  "nbformat": 4,
  "nbformat_minor": 0,
  "metadata": {
    "colab": {
      "provenance": [],
      "include_colab_link": true
    },
    "kernelspec": {
      "name": "python3",
      "display_name": "Python 3"
    },
    "language_info": {
      "name": "python"
    }
  },
  "cells": [
    {
      "cell_type": "markdown",
      "metadata": {
        "id": "view-in-github",
        "colab_type": "text"
      },
      "source": [
        "<a href=\"https://colab.research.google.com/github/prithwis/parashar21/blob/main/P21_45_02_B_Pull_Print.ipynb\" target=\"_parent\"><img src=\"https://colab.research.google.com/assets/colab-badge.svg\" alt=\"Open In Colab\"/></a>"
      ]
    },
    {
      "cell_type": "markdown",
      "source": [
        "![alt text](http://1.bp.blogspot.com/_5QlanosqxiQ/SXLOLTu7S7I/AAAAAAAAAm8/0r6C7lCxsic/S1600-R/p21-header-003.png) <br>\n",
        "\n",
        "\n",
        "---\n",
        "\n",
        "\n",
        "\n",
        "[Prithwis Mukerjee](http://www.yantrajaal.com) ||\n",
        "Website - [Parashar21](https://parashar21.blogspot.com)<br>"
      ],
      "metadata": {
        "id": "rj4jjIHTvPV8"
      }
    },
    {
      "cell_type": "markdown",
      "source": [
        "Copyright (c) 2022, Prithwis Mukerjee All rights reserved.\n",
        "\n",
        "This source code is licensed under the GNU GPL v3.0 -style license found in the LICENSE file in the root directory of this source tree."
      ],
      "metadata": {
        "id": "9OzVEmHm1IaF"
      }
    },
    {
      "cell_type": "markdown",
      "source": [
        "#SetUp"
      ],
      "metadata": {
        "id": "l2v2nhRKvwJS"
      }
    },
    {
      "cell_type": "markdown",
      "source": [
        "##Installs"
      ],
      "metadata": {
        "id": "djqyotVjO5TI"
      }
    },
    {
      "cell_type": "code",
      "source": [
        "!pip -qq install python-docx                #https://python-docx.readthedocs.io/en/latest/\n",
        "!/usr/bin/python3 -m pip install \"pymongo[srv]\"\n",
        "!apt install mongodb > /dev/null"
      ],
      "metadata": {
        "colab": {
          "base_uri": "https://localhost:8080/"
        },
        "id": "AWKFabc0v3FI",
        "outputId": "8e998230-2638-49c0-d127-843ac2a3cc7f"
      },
      "execution_count": 1,
      "outputs": [
        {
          "output_type": "stream",
          "name": "stdout",
          "text": [
            "\u001b[K     |████████████████████████████████| 5.6 MB 27.8 MB/s \n",
            "\u001b[?25h  Building wheel for python-docx (setup.py) ... \u001b[?25l\u001b[?25hdone\n",
            "Looking in indexes: https://pypi.org/simple, https://us-python.pkg.dev/colab-wheels/public/simple/\n",
            "Requirement already satisfied: pymongo[srv] in /usr/local/lib/python3.7/dist-packages (4.2.0)\n",
            "Collecting dnspython<3.0.0,>=1.16.0\n",
            "  Downloading dnspython-2.2.1-py3-none-any.whl (269 kB)\n",
            "\u001b[K     |████████████████████████████████| 269 kB 13.0 MB/s \n",
            "\u001b[?25hInstalling collected packages: dnspython\n",
            "Successfully installed dnspython-2.2.1\n",
            "\n",
            "WARNING: apt does not have a stable CLI interface. Use with caution in scripts.\n",
            "\n"
          ]
        }
      ]
    },
    {
      "cell_type": "code",
      "source": [
        "#Utility functions \n",
        "from pymongo import MongoClient\n",
        "import pandas as pd\n",
        "import dateutil\n",
        "import json\n",
        "from docx import Document\n",
        "from docx.shared import Inches\n",
        "from docx.enum.text import WD_ALIGN_PARAGRAPH\n",
        "from datetime import datetime\n",
        "from datetime import timedelta\n",
        "import pytz\n",
        "\n",
        "#import matplotlib.pyplot as plt\n",
        "#import math\n"
      ],
      "metadata": {
        "id": "tsCga6c8pLvM"
      },
      "execution_count": 2,
      "outputs": []
    },
    {
      "cell_type": "code",
      "source": [
        "#Load p21 modules from github\n",
        "!wget -O p21.py -q https://raw.githubusercontent.com/prithwis/parashar21/main/utils/p21.py                  # all global variables\n",
        "!wget -O p21utils.py -q https://raw.githubusercontent.com/prithwis/parashar21/main/utils/p21utils.py        # large number of utility functions\n",
        "!wget -O p21utilsR.py -q https://raw.githubusercontent.com/prithwis/parashar21/main/utils/p21utilsR.py \n",
        "!wget -O p21YogInfo.py -q https://raw.githubusercontent.com/prithwis/parashar21/main/utils/p21YogInfo.py\n",
        "# ---------------------------\n",
        "\n",
        "!wget -O Saraswati.png -q https://github.com/prithwis/parashar21/raw/main/images/Saraswati02.png             \n",
        "!wget -O p21logo.png -q https://github.com/prithwis/parashar21/raw/main/images/p21logo-002-1.png                "
      ],
      "metadata": {
        "id": "uwAT_IbvB0A-"
      },
      "execution_count": 3,
      "outputs": []
    },
    {
      "cell_type": "code",
      "source": [
        "import p21\n",
        "import p21utils\n",
        "import p21utilsR\n",
        "import p21YogInfo\n",
        "# ------------------------------------------------\n",
        "# required for multiple imports of the same module\n",
        "# ------------------------------------------------\n",
        "import importlib\n",
        "importlib.reload(p21)\n",
        "importlib.reload(p21utils)\n",
        "importlib.reload(p21utilsR)\n",
        "importlib.reload(p21YogInfo)"
      ],
      "metadata": {
        "id": "xOlbcnu33PmG",
        "outputId": "b45415e7-38fc-4ab7-f095-8b2f47b8b7a2",
        "colab": {
          "base_uri": "https://localhost:8080/"
        }
      },
      "execution_count": 4,
      "outputs": [
        {
          "output_type": "stream",
          "name": "stdout",
          "text": [
            "p21utils imported\n",
            "p21utilsR imported\n",
            "p21utils imported\n",
            "p21utilsR imported\n"
          ]
        },
        {
          "output_type": "execute_result",
          "data": {
            "text/plain": [
              "<module 'p21YogInfo' from '/content/p21YogInfo.py'>"
            ]
          },
          "metadata": {},
          "execution_count": 4
        }
      ]
    },
    {
      "cell_type": "code",
      "source": [
        "from google.colab import drive\n",
        "drive.mount('/content/drive')\n",
        "# -------------------------------------------\n",
        "# copy credentials file\n",
        "!cp /content/drive/'My Drive'/Praxis/WebCredentials/Parashar21_Atlas_18Sep22.py credentials.py\n",
        "# -------------------------------------------\n",
        "# MongoDB credentials are stored here\n",
        "#\n",
        "from credentials import parashar21URI\n",
        "# -------------------------------------------\n",
        "mongoURI = parashar21URI                                   # for remote ATlas server\n",
        "\n",
        "client = MongoClient(mongoURI)\n",
        "client.list_database_names() # ['admin', 'local']\n",
        "# ----------------------------------------------\n"
      ],
      "metadata": {
        "colab": {
          "base_uri": "https://localhost:8080/"
        },
        "id": "I3Z74iSKv7FK",
        "outputId": "5395f2d7-fba8-4330-a8b9-3fc374481c0f"
      },
      "execution_count": 5,
      "outputs": [
        {
          "output_type": "stream",
          "name": "stdout",
          "text": [
            "Mounted at /content/drive\n"
          ]
        },
        {
          "output_type": "execute_result",
          "data": {
            "text/plain": [
              "['Parashar21', 'admin', 'local']"
            ]
          },
          "metadata": {},
          "execution_count": 5
        }
      ]
    },
    {
      "cell_type": "code",
      "source": [
        "# Show existing Collections\n",
        "db = client.Parashar21\n",
        "pd.DataFrame(list(db.list_collections()))\n",
        "#kollection = db.khona21Test                   # Set the collection to work with\n",
        "kollection = db.khona21                   # Set the collection to work with\n",
        "totalCharts = kollection.count_documents({})\n",
        "print(totalCharts)"
      ],
      "metadata": {
        "id": "LhC56DzwhNNq",
        "outputId": "cc7e3f46-79fe-46db-e42d-bf4c1181a617",
        "colab": {
          "base_uri": "https://localhost:8080/"
        }
      },
      "execution_count": 6,
      "outputs": [
        {
          "output_type": "stream",
          "name": "stdout",
          "text": [
            "39662\n"
          ]
        }
      ]
    },
    {
      "cell_type": "markdown",
      "source": [
        "#Generate Report\n",
        "for all retrieved charts"
      ],
      "metadata": {
        "id": "LMA40MOq1jse"
      }
    },
    {
      "cell_type": "code",
      "source": [
        "def genSampleReport(ChartStyle,Sample = True):\n",
        "    \n",
        "    if Sample:\n",
        "        df4Report = df.sample(5)\n",
        "    else:\n",
        "        df4Report = df\n",
        "    \n",
        "    selectedCharts = len(df)\n",
        "    printCharts = len(df4Report)\n",
        "    #printStatus = str(printCharts)+' charts of total '+str(totalCharts)+' printed.'\n",
        "    printStatus = str(selectedCharts)+' Charts selected from '+str(totalCharts)+' in database; '+str(printCharts)+' charts printed.'\n",
        "\n",
        "    now = datetime.now(pytz.timezone('Asia/Kolkata'))\n",
        "    fileName = 'p21Report_'+ChartStyle+now.strftime(\"%H%M%S\")+'.doc'\n",
        "    curQueryStr = json.dumps(selCond)\n",
        "    # ---------------------------------------------------------\n",
        "    p21utilsR.R01_CreateReportDoc(curQueryStr, printStatus)                      # Creates MS Word Doc called p21.document\n",
        "    # ----------------------------------------------------------\n",
        "    for chart in range(len(df4Report)):\n",
        "        chartData =df4Report.iloc[chart]\n",
        "        #R51_processChart(chartData)\n",
        "        p21utilsR.R511_parseChartData(chartData)              # Break up database data into useful pieces\n",
        "                                            # Creates two primary dicts, GLon, GRet\n",
        "        for ctype in ['Rashi','Navamsa']:\n",
        "        #for ctype in ['Rashi']:\n",
        "            p21.ChartType = ctype\n",
        "            p21utils.R11_LocateGrahaInRashi()   # Converts Graha Long to Rashi positions\n",
        "                                                # Rashi Num as well as Rashi name\n",
        "            if ChartStyle == 'Bengal':\n",
        "                p21utilsR.R12B_drawChart_Bengal()    # Draw Chart in Bengal style\n",
        "            if ChartStyle == 'South':\n",
        "                p21utilsR.R12B_drawChart_South()    # Draw Chart in South style\n",
        "            if ChartStyle == 'North':\n",
        "                p21utilsR.R12B_drawChart_North()    # Draw Chart in North style\n",
        "            #\n",
        "            \n",
        "                                                \n",
        "        #print(p21.GrahaBhava)\n",
        "        #print(p21.LordBhav)\n",
        "        #print(p21.pTags)\n",
        "        #print(p21.pName)\n",
        "        p21.yogsFound = []\n",
        "        for yogName in list(p21YogInfo.yogCond.keys()):\n",
        "            objList = list(kollection.find(p21YogInfo.yogCond[yogName],{\"pid.name\" : 1,\"_id\":0}))\n",
        "            #print(rawList)\n",
        "            personList = list(map(lambda e:e['pid']['name'],objList))\n",
        "            #print(personList)\n",
        "            if p21.pName in personList:\n",
        "                p21.yogsFound.append(yogName)\n",
        "                #print(\"found \", yogName)\n",
        "        p21utilsR.R512_FormatPage()\n",
        "        #print('----')\n",
        "    # ------------------------------------\n",
        "    p21.document.save(fileName)\n",
        "    \n"
      ],
      "metadata": {
        "id": "nf7XU_5nZ1rq"
      },
      "execution_count": 7,
      "outputs": []
    },
    {
      "cell_type": "markdown",
      "source": [
        "#Retrieve Charts "
      ],
      "metadata": {
        "id": "nej02gxiwUcV"
      }
    },
    {
      "cell_type": "code",
      "source": [
        "'''\n",
        "c = kollection.find().limit(5)\n",
        "for crnt in c:\n",
        "    print(crnt)\n",
        "'''"
      ],
      "metadata": {
        "id": "lKa0k4g29ijH",
        "outputId": "7f7d1123-1525-498f-c946-493a608e79f4",
        "colab": {
          "base_uri": "https://localhost:8080/",
          "height": 35
        }
      },
      "execution_count": null,
      "outputs": [
        {
          "output_type": "execute_result",
          "data": {
            "text/plain": [
              "'\\nc = kollection.find().limit(5)\\nfor crnt in c:\\n    print(crnt)\\n'"
            ],
            "application/vnd.google.colaboratory.intrinsic+json": {
              "type": "string"
            }
          },
          "metadata": {},
          "execution_count": 10
        }
      ]
    },
    {
      "cell_type": "code",
      "source": [
        "#%%capture\n",
        "#selCond = {}                      # All Charts \n",
        "#df = pd.DataFrame(list(kollection.find(selCond,p21.selCols)))\n",
        "#genSampleReport('Bengal',Sample = False)"
      ],
      "metadata": {
        "id": "WM9dKhfS118T"
      },
      "execution_count": null,
      "outputs": []
    },
    {
      "cell_type": "code",
      "source": [
        "%%capture\n",
        "\n",
        "selCond = {'GAspectedBy2.La': {'$in': ['Sa']}}                      # La aspected by Sa\n",
        "df = pd.DataFrame(list(kollection.find(selCond,p21.selCols)))\n",
        "genSampleReport('Bengal')"
      ],
      "metadata": {
        "id": "kZoDkrRXZujH"
      },
      "execution_count": 9,
      "outputs": []
    },
    {
      "cell_type": "code",
      "source": [
        "%%capture\n",
        "selCond = {\"$and\":\n",
        "                    [\n",
        "                        {'exaltG.Ju': {'$eq': True}},               # Exalted Jupiter\n",
        "                        {'GAspectedBy2.La' : {'$in': ['Sa']}}       # La aspected by Sa          \n",
        "\n",
        "                    ]\n",
        "}\n",
        "\n",
        "df = pd.DataFrame(list(kollection.find(selCond,p21.selCols)))\n",
        "genSampleReport('Bengal')"
      ],
      "metadata": {
        "id": "SeVhgOjaVihE"
      },
      "execution_count": 8,
      "outputs": []
    },
    {
      "cell_type": "code",
      "source": [
        "%%capture\n",
        "selCond = {\"$and\":\n",
        "                    [\n",
        "                        {'exaltG.Ju': {'$eq': True}},               # Exalted Jupiter\n",
        "                        {'GAspectedBy2.La' : {'$in': ['Sa']}} ,     # La aspected by Sa       \n",
        "                        {'GConjunctsG2.Su' : {'$in': ['Me']}}       # Su conjunct Me \n",
        "\n",
        "                    ]\n",
        "}\n",
        "\n",
        "df = pd.DataFrame(list(kollection.find(selCond,p21.selCols)))\n",
        "genSampleReport('Bengal')"
      ],
      "metadata": {
        "id": "wtfKhm58zFCq"
      },
      "execution_count": 9,
      "outputs": []
    },
    {
      "cell_type": "code",
      "source": [
        "%%capture\n",
        "selCond = {\"$and\":\n",
        "                    [\n",
        "                        {'exaltG.Ju': {'$eq': True}},               # Exalted Jupiter\n",
        "                        {'GAspectedBy2.La' : {'$in': ['Sa']}} ,     # La aspected by Sa       \n",
        "                        {'GConjunctsG2.Su' : {'$in': ['Me']}},      # Su conjunct Me \n",
        "                        {'GrahaBhava.Mo' : {'$eq': 1}}              # Mo in First House\n",
        "\n",
        "                    ]\n",
        "}\n",
        "\n",
        "df = pd.DataFrame(list(kollection.find(selCond,p21.selCols)))\n",
        "genSampleReport('Bengal')"
      ],
      "metadata": {
        "id": "1shPkTXONo9I"
      },
      "execution_count": 10,
      "outputs": []
    },
    {
      "cell_type": "code",
      "source": [
        "%%capture\n",
        "selCond = {\"$and\":\n",
        "                    [\n",
        "                        {'exaltG.Ju': {'$eq': True}},               # Exalted Jupiter\n",
        "                        {'GAspectedBy2.La' : {'$in': ['Sa']}} ,     # La aspected by Sa       \n",
        "                        {'GConjunctsG2.Su' : {'$in': ['Me']}},      # Su conjunct Me \n",
        "                        {'GrahaBhava.Mo' : {'$eq': 1}} ,            # Mo in First House\n",
        "                        {'LordBhav.4' : {'$eq': 5}}                 # 4th Lord in 5th House\n",
        "\n",
        "                    ]\n",
        "}\n",
        "\n",
        "df = pd.DataFrame(list(kollection.find(selCond,p21.selCols)))\n",
        "genSampleReport('Bengal',Sample = False)"
      ],
      "metadata": {
        "id": "lcRK2tdKSWaO"
      },
      "execution_count": 11,
      "outputs": []
    },
    {
      "cell_type": "code",
      "source": [
        "!rm *.doc"
      ],
      "metadata": {
        "id": "2fDl6jtskRSZ"
      },
      "execution_count": 28,
      "outputs": []
    },
    {
      "cell_type": "code",
      "source": [
        "#df = pd.DataFrame(list(kollection.find({'pid.tags': {\"$in\": ['PostGraduate']}},{'pid.name':1,\"_id\":0,'GLon':1,'GRet':1})))\n",
        "#df"
      ],
      "metadata": {
        "id": "gGtojxPZxmku"
      },
      "execution_count": null,
      "outputs": []
    }
  ]
}
