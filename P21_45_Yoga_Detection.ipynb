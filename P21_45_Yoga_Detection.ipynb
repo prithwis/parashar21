{
  "nbformat": 4,
  "nbformat_minor": 0,
  "metadata": {
    "colab": {
      "name": "P21_45_Yoga_Detection.ipynb",
      "provenance": [],
      "toc_visible": true,
      "include_colab_link": true
    },
    "kernelspec": {
      "name": "python3",
      "display_name": "Python 3"
    },
    "language_info": {
      "name": "python"
    }
  },
  "cells": [
    {
      "cell_type": "markdown",
      "metadata": {
        "id": "view-in-github",
        "colab_type": "text"
      },
      "source": [
        "<a href=\"https://colab.research.google.com/github/prithwis/parashar21/blob/main/P21_45_Yoga_Detection.ipynb\" target=\"_parent\"><img src=\"https://colab.research.google.com/assets/colab-badge.svg\" alt=\"Open In Colab\"/></a>"
      ]
    },
    {
      "cell_type": "markdown",
      "source": [
        "![alt text](http://1.bp.blogspot.com/_5QlanosqxiQ/SXLOLTu7S7I/AAAAAAAAAm8/0r6C7lCxsic/S1600-R/p21-header-003.png) <br>\n",
        "\n",
        "\n",
        "---\n",
        "\n",
        "\n",
        "\n",
        "[Prithwis Mukerjee](http://www.yantrajaal.com) ||\n",
        "Website - [Parashar21](https://parashar21.blogspot.com)<br>"
      ],
      "metadata": {
        "id": "rj4jjIHTvPV8"
      }
    },
    {
      "cell_type": "markdown",
      "source": [
        "Copyright (c) 2022, Prithwis Mukerjee All rights reserved.\n",
        "\n",
        "This source code is licensed under the GNU GPL v3.0 -style license found in the LICENSE file in the root directory of this source tree."
      ],
      "metadata": {
        "id": "9OzVEmHm1IaF"
      }
    },
    {
      "cell_type": "markdown",
      "source": [
        "#Locating specific Yogs in horoscope\n",
        "\n",
        "\n",
        "*   Budhaditya_Yog\n",
        "*   Gajakesari_Yog\n",
        "*   Raj_Yog\n",
        "\n"
      ],
      "metadata": {
        "id": "t1pdyGo_NG52"
      }
    },
    {
      "cell_type": "markdown",
      "source": [
        "For those who may not have access to a live MongoDB instance, we have set up a mechanism where the JSON file that would have been loaded into a hosted MongoDB instance, will be loaded into a locally (that is in the VM) installed MongoDB instance and the queries can be run in a manner that is identical to a live, hosted MongoDB instance"
      ],
      "metadata": {
        "id": "yW31spY9ThkV"
      }
    },
    {
      "cell_type": "markdown",
      "source": [
        "#SetUp Environment"
      ],
      "metadata": {
        "id": "l2v2nhRKvwJS"
      }
    },
    {
      "cell_type": "markdown",
      "source": [
        "##Install Software"
      ],
      "metadata": {
        "id": "djqyotVjO5TI"
      }
    },
    {
      "cell_type": "code",
      "source": [
        "!pip -qq install python-docx                #https://python-docx.readthedocs.io/en/latest/\n",
        "!apt install mongodb > /dev/null            # install local MongoDB server           \n",
        "!service mongodb start                      # start Local MongoDB server instance\n"
      ],
      "metadata": {
        "colab": {
          "base_uri": "https://localhost:8080/"
        },
        "id": "AWKFabc0v3FI",
        "outputId": "612b368d-01ed-49db-abbc-b599819c8b2a"
      },
      "execution_count": 1,
      "outputs": [
        {
          "output_type": "stream",
          "name": "stdout",
          "text": [
            "\u001b[K     |████████████████████████████████| 5.6 MB 7.4 MB/s \n",
            "\u001b[?25h  Building wheel for python-docx (setup.py) ... \u001b[?25l\u001b[?25hdone\n",
            "\n",
            "WARNING: apt does not have a stable CLI interface. Use with caution in scripts.\n",
            "\n",
            " * Starting database mongodb\n",
            "   ...done.\n"
          ]
        }
      ]
    },
    {
      "cell_type": "markdown",
      "source": [
        "##Install, import prerequisites"
      ],
      "metadata": {
        "id": "Vml3UdnbOAlO"
      }
    },
    {
      "cell_type": "code",
      "source": [
        "#Utility functions \n",
        "from pymongo import MongoClient\n",
        "import pandas as pd\n",
        "import dateutil\n",
        "import json\n",
        "from docx import Document\n",
        "from docx.shared import Inches\n",
        "from docx.enum.text import WD_ALIGN_PARAGRAPH\n",
        "from datetime import datetime\n",
        "from datetime import timedelta\n",
        "import pytz\n",
        "\n",
        "#import matplotlib.pyplot as plt\n",
        "#import math\n"
      ],
      "metadata": {
        "id": "tsCga6c8pLvM"
      },
      "execution_count": 2,
      "outputs": []
    },
    {
      "cell_type": "code",
      "source": [
        "#Load p21 modules from github\n",
        "!wget -O p21.py -q https://raw.githubusercontent.com/prithwis/parashar21/main/utils/p21.py                  # all global variables\n",
        "!wget -O p21utils.py -q https://raw.githubusercontent.com/prithwis/parashar21/main/utils/p21utils.py        # large number of utility functions\n",
        "!wget -O p21utilsR.py -q https://raw.githubusercontent.com/prithwis/parashar21/main/utils/p21utilsR.py \n",
        "# ---------------------------\n",
        "\n",
        "!wget -O Saraswati.png -q https://github.com/prithwis/parashar21/raw/main/images/Saraswati02.png                 \n",
        "!wget -O p21logo.png -q https://github.com/prithwis/parashar21/raw/main/images/p21logo-002-1.png                  "
      ],
      "metadata": {
        "id": "uwAT_IbvB0A-"
      },
      "execution_count": 3,
      "outputs": []
    },
    {
      "cell_type": "code",
      "source": [
        "#!cat p21utils.py\n",
        "import p21\n",
        "import p21utils\n",
        "import p21utilsR\n",
        "# ------------------------------------------------\n",
        "# required for multiple imports of the same module\n",
        "# ------------------------------------------------\n",
        "import importlib\n",
        "importlib.reload(p21)\n",
        "importlib.reload(p21utils)\n",
        "importlib.reload(p21utilsR)"
      ],
      "metadata": {
        "id": "xOlbcnu33PmG",
        "outputId": "549acff6-010d-48eb-8ae9-eb63140dd061",
        "colab": {
          "base_uri": "https://localhost:8080/"
        }
      },
      "execution_count": 4,
      "outputs": [
        {
          "output_type": "stream",
          "name": "stdout",
          "text": [
            "imported p21\n",
            "p21utils imported\n",
            "p21utilsR imported\n",
            "imported p21\n",
            "p21utils imported\n",
            "p21utilsR imported\n"
          ]
        },
        {
          "output_type": "execute_result",
          "data": {
            "text/plain": [
              "<module 'p21utilsR' from '/content/p21utilsR.py'>"
            ]
          },
          "metadata": {},
          "execution_count": 4
        }
      ]
    },
    {
      "cell_type": "markdown",
      "source": [
        "##Define MongoDB database in local VM"
      ],
      "metadata": {
        "id": "BIt0gQRDOOuF"
      }
    },
    {
      "cell_type": "code",
      "source": [
        "mongoURI = \"mongodb://localhost:27017/\"                               # for remote server\n",
        "client = MongoClient(mongoURI)\n",
        "\n",
        "db = client.parashar21Local\n",
        "#pd.DataFrame(list(db.list_collections()))"
      ],
      "metadata": {
        "id": "vaC9hKYeATn6"
      },
      "execution_count": 5,
      "outputs": []
    },
    {
      "cell_type": "markdown",
      "source": [
        "##Download Horoscope data in JSON and load into MongoDB"
      ],
      "metadata": {
        "id": "3lpsiTbVOW8I"
      }
    },
    {
      "cell_type": "code",
      "source": [
        "# Retrieve JSON file from Github and load in local Mongo\n",
        "#!wget -O peopleData.json -q https://github.com/prithwis/parashar21/raw/main/data/peopleDataTest5.json\n",
        "\n",
        "#!gdown -O peopleData.json https://drive.google.com/uc?id=1_VBHE7Hyue8t3hdBdLU6lgpnaWhhRVd4  # 39662 documents OLD file\n",
        "!gdown  -O peopleData.json https://drive.google.com/uc?id=1z4JFd-zCaS71dICKIYx46kQGbXPAHq5C  # 39662 documents\n",
        "!mongoimport --db parashar21Local --collection khona21Local --drop --file peopleData.json"
      ],
      "metadata": {
        "colab": {
          "base_uri": "https://localhost:8080/"
        },
        "id": "upkZsp63BMyU",
        "outputId": "40b25b93-47da-48b4-da4d-7c9f8333b1a6"
      },
      "execution_count": 6,
      "outputs": [
        {
          "output_type": "stream",
          "name": "stdout",
          "text": [
            "Downloading...\n",
            "From: https://drive.google.com/uc?id=1z4JFd-zCaS71dICKIYx46kQGbXPAHq5C\n",
            "To: /content/peopleData.json\n",
            "100% 134M/134M [00:01<00:00, 85.3MB/s]\n",
            "2022-06-16T11:57:39.376+0000\tconnected to: localhost\n",
            "2022-06-16T11:57:39.376+0000\tdropping: parashar21Local.khona21Local\n",
            "2022-06-16T11:57:42.374+0000\t[####....................] parashar21Local.khona21Local\t24.5MB/128MB (19.2%)\n",
            "2022-06-16T11:57:45.377+0000\t[##########..............] parashar21Local.khona21Local\t54.1MB/128MB (42.3%)\n",
            "2022-06-16T11:57:48.382+0000\t[###############.........] parashar21Local.khona21Local\t83.8MB/128MB (65.5%)\n",
            "2022-06-16T11:57:51.386+0000\t[#####################...] parashar21Local.khona21Local\t113MB/128MB (88.3%)\n",
            "2022-06-16T11:57:52.950+0000\t[########################] parashar21Local.khona21Local\t128MB/128MB (100.0%)\n",
            "2022-06-16T11:57:52.950+0000\timported 39662 documents\n"
          ]
        }
      ]
    },
    {
      "cell_type": "code",
      "source": [
        "kollection = db.khona21Local                   # Set the collection to work with\n",
        "#kollection = db.khona21                   # Set the collection to work with\n",
        "totalCharts = kollection.count_documents({})\n",
        "dbSize = db.command( {\"dbStats\": 1, \"scale\": 1024 } )['dataSize']\n",
        "print(totalCharts, ' documents,',round(dbSize,2), \" KB data\")"
      ],
      "metadata": {
        "id": "nEB8OKSS0VKX",
        "outputId": "d08139fb-00fc-4b92-ae80-31512615bd8f",
        "colab": {
          "base_uri": "https://localhost:8080/"
        }
      },
      "execution_count": 7,
      "outputs": [
        {
          "output_type": "stream",
          "name": "stdout",
          "text": [
            "39662  documents, 142321.85  KB data\n"
          ]
        }
      ]
    },
    {
      "cell_type": "markdown",
      "source": [
        "#Report Generation Function\n",
        "Please note that the generated report MS Office doc format **will be stored in the Colab VM drive** and needs to be downloaded to local machine for viewing"
      ],
      "metadata": {
        "id": "LMA40MOq1jse"
      }
    },
    {
      "cell_type": "code",
      "source": [
        "def genYogReport(yName, yDesc, ChartStyle,Sample = True):\n",
        "    \n",
        "    if Sample:\n",
        "        df4Report = df.sample(5)\n",
        "    else:\n",
        "        df4Report = df\n",
        "    \n",
        "    selectedCharts = len(df)\n",
        "    printCharts = len(df4Report)\n",
        "    #printStatus = str(printCharts)+' charts of total '+str(totalCharts)+' printed.'\n",
        "    \n",
        "    printTxt0 = yName\n",
        "    printTxt1 = yDesc\n",
        "    printTxt2 = 'ref : https://www.astroyogi.com/kundli/yog'      # this is where the Yog definitions have been taken from \n",
        "    printTxt3 = str(selectedCharts)+' Charts selected from '+str(totalCharts)+' in database; '+str(printCharts)+' charts printed.'\n",
        "    printTxt = printTxt0 + printTxt1 + '\\n' + printTxt2 +'\\n'+ printTxt3\n",
        "\n",
        "    now = datetime.now(pytz.timezone('Asia/Kolkata'))\n",
        "    fileName = 'p21_'+yName+'_'+ChartStyle+'_'+now.strftime(\"%H%M%S\")+'.doc'\n",
        "    curQueryStr = json.dumps(selCond)\n",
        "    # ---------------------------------------------------------\n",
        "    p21utilsR.R01_CreateReportDoc(curQueryStr, printTxt)                      # Creates MS Word Doc called p21.document\n",
        "    # ----------------------------------------------------------\n",
        "    for chart in range(len(df4Report)):\n",
        "        chartData =df4Report.iloc[chart]\n",
        "        #R51_processChart(chartData)\n",
        "        p21utilsR.R511_parseChartData(chartData)              # Break up database data into useful pieces\n",
        "                                            # Creates two primary dicts, GLon, GRet\n",
        "        for ctype in ['Rashi','Navamsa']:\n",
        "        #for ctype in ['Rashi']:\n",
        "            p21.ChartType = ctype\n",
        "            p21utils.R11_LocateGrahaInRashi()   # Converts Graha Long to Rashi positions\n",
        "                                                # Rashi Num as well as Rashi name\n",
        "            if ChartStyle == 'Bengal':\n",
        "                p21utilsR.R12B_drawChart_Bengal()    # Draw Chart in Bengal style\n",
        "            if ChartStyle == 'South':\n",
        "                p21utilsR.R12B_drawChart_South()    # Draw Chart in South style\n",
        "            if ChartStyle == 'North':\n",
        "                p21utilsR.R12B_drawChart_North()    # Draw Chart in North style\n",
        "            #\n",
        "            \n",
        "                                                \n",
        "        #print(p21.GrahaBhava)\n",
        "        #print(p21.LordBhav)\n",
        "        p21utilsR.R512_FormatPage()\n",
        "        #print('----')\n",
        "    # ------------------------------------\n",
        "    p21.document.save(fileName)\n",
        "    \n"
      ],
      "metadata": {
        "id": "nf7XU_5nZ1rq"
      },
      "execution_count": 27,
      "outputs": []
    },
    {
      "cell_type": "markdown",
      "source": [
        "#Retrieve Charts \n",
        "Based on selective queries <br>\n",
        "All output messages suppressed <br>\n",
        "Reports will be available as DOC files in the VM drive <br>\n",
        "Please specify style of report, 'Bengal', 'North' or 'South' while calling the report generation routine <br>\n",
        "genSampleReport('Bengal',Sample = False), specifying Sample='False' will stop sampling and print reports for all charts retrieved. Otherwise, by default, only 5 charts, chosen at random will be printed in the DOC file <br>\n",
        "genSampleReport() replaced by genYogReport() with two additional parameters, namely YogName and YogDecription that are printed in the report\n"
      ],
      "metadata": {
        "id": "nej02gxiwUcV"
      }
    },
    {
      "cell_type": "markdown",
      "source": [
        "## Budhaditya Yog"
      ],
      "metadata": {
        "id": "HGv0cx5WNddD"
      }
    },
    {
      "cell_type": "code",
      "source": [
        "%%capture\n",
        "yogName = 'Budhaditya'\n",
        "yogDesc = ' -- formed by the conjunction of Sun and Mercury.  Considered to be a very auspicious Yoga.'            \n",
        "selCond = {'GConjunctsG2.Su' : {'$in': ['Me']}}       # Su conjunct Me           \n",
        "df = pd.DataFrame(list(kollection.find(selCond,p21.selCols)))\n",
        "genYogReport(yogName, yogDesc,'Bengal')"
      ],
      "metadata": {
        "id": "kZoDkrRXZujH"
      },
      "execution_count": 22,
      "outputs": []
    },
    {
      "cell_type": "markdown",
      "source": [
        "## Gajakesari Yog"
      ],
      "metadata": {
        "id": "O0hZh6pqNkEV"
      }
    },
    {
      "cell_type": "code",
      "source": [
        "%%capture\n",
        "yogName = 'GajaKesari_1'\n",
        "yogDesc = ' -- When the moon and Jupiter is placed in the 1st, 4th, 7th and 10th house which forms the angular houses or Kendra'            \n",
        "selCond = {\"$and\":\n",
        "                    [\n",
        "                        {'GConjunctsG2.Ju' : {'$in': ['Mo']}},      # Ju conjunct Mo \n",
        "                        { \"$or\" : [\n",
        "                            {'GrahaBhava.Mo' : {'$eq': 1}},              # Mo in First House\n",
        "                            {'GrahaBhava.Mo' : {'$eq': 4}},              # Mo in Fourth House\n",
        "                            {'GrahaBhava.Mo' : {'$eq': 7}},              # Mo in Seventh House\n",
        "                            {'GrahaBhava.Mo' : {'$eq': 10}}              # Mo in Tenth House\n",
        "                          ]\n",
        "                        }  \n",
        "\n",
        "                    ]\n",
        "}           \n",
        "df = pd.DataFrame(list(kollection.find(selCond,p21.selCols)))\n",
        "genYogReport(yogName, yogDesc,'Bengal')"
      ],
      "metadata": {
        "id": "20U9ZUC6-waJ"
      },
      "execution_count": 25,
      "outputs": []
    },
    {
      "cell_type": "code",
      "source": [
        "%%capture\n",
        "yogName = 'GajaKesari_2'\n",
        "yogDesc = ' -- Jupiter is in Cancer, Venus in the ninth house and Jupiter in the seventh house of one's horoscope.'            \n",
        "selCond = {\"$and\":\n",
        "                    [\n",
        "                        {'GConjunctsG2.Ju' : {'$in': ['Mo']}},      # Ju conjunct Mo \n",
        "                        { \"$or\" : [\n",
        "                            {'GrahaBhava.Ju' : {'$eq': 1}},              # Mo in First House\n",
        "                            {'GrahaBhava.Ju' : {'$eq': 4}},              # Mo in Fourth House\n",
        "                            {'GrahaBhava.Ju' : {'$eq': 7}},              # Mo in Seventh House\n",
        "                            {'GrahaBhava.Ju' : {'$eq': 10}}              # Mo in Tenth House\n",
        "                          ]\n",
        "                        }  \n",
        "\n",
        "                    ]\n",
        "}           \n",
        "df = pd.DataFrame(list(kollection.find(selCond,p21.selCols)))\n",
        "genYogReport(yogName, yogDesc,'Bengal')"
      ],
      "metadata": {
        "id": "tpNpUqokBkPn"
      },
      "execution_count": 26,
      "outputs": []
    },
    {
      "cell_type": "markdown",
      "source": [
        "##Raj Yog"
      ],
      "metadata": {
        "id": "N1Qy3FMxNoln"
      }
    },
    {
      "cell_type": "code",
      "source": [
        "%%capture\n",
        "yogName = 'RajYoga'\n",
        "yogDesc = ' -- Jupiter is in Cancer, Venus in the ninth house and Jupiter in the seventh house'   \n",
        "selCond = {\"$and\":\n",
        "                    [\n",
        "                        {'GRashiN.Ju': {'$eq': 4}},               # Jupiter in Cancer\n",
        "                        {'GrahaBhava.Ju' : {'$eq': 7}} ,            # Jupiter in 7th House\n",
        "                        {'GrahaBhava.Ve' : {'$eq': 9}}             # Jupiter in 7th House\n",
        "\n",
        "                    ]\n",
        "}\n",
        "\n",
        "df = pd.DataFrame(list(kollection.find(selCond,p21.selCols)))\n",
        "genYogReport(yogName, yogDesc,'Bengal')"
      ],
      "metadata": {
        "id": "SeVhgOjaVihE"
      },
      "execution_count": 30,
      "outputs": []
    },
    {
      "cell_type": "markdown",
      "source": [
        "#Old Templates\n",
        "to be ignored"
      ],
      "metadata": {
        "id": "mKTojtyqMbVX"
      }
    },
    {
      "cell_type": "code",
      "source": [
        "%%capture\n",
        "selCond = {\"$and\":\n",
        "                    [\n",
        "                        {'exaltG.Ju': {'$eq': True}},               # Exalted Jupiter\n",
        "                        {'GAspectedBy2.La' : {'$in': ['Sa']}} ,     # La aspected by Sa       \n",
        "                        {'GConjunctsG2.Su' : {'$in': ['Me']}}       # Su conjunct Me \n",
        "\n",
        "                    ]\n",
        "}\n",
        "\n",
        "df = pd.DataFrame(list(kollection.find(selCond,p21.selCols)))\n",
        "genSampleReport('Bengal')"
      ],
      "metadata": {
        "id": "wtfKhm58zFCq"
      },
      "execution_count": null,
      "outputs": []
    },
    {
      "cell_type": "code",
      "source": [
        "%%capture\n",
        "selCond = {\"$and\":\n",
        "                    [\n",
        "                        {'exaltG.Ju': {'$eq': True}},               # Exalted Jupiter\n",
        "                        {'GAspectedBy2.La' : {'$in': ['Sa']}} ,     # La aspected by Sa       \n",
        "                        {'GConjunctsG2.Su' : {'$in': ['Me']}},      # Su conjunct Me \n",
        "                        {'GrahaBhava.Mo' : {'$eq': 1}}              # Mo in First House\n",
        "\n",
        "                    ]\n",
        "}\n",
        "\n",
        "df = pd.DataFrame(list(kollection.find(selCond,p21.selCols)))\n",
        "genSampleReport('Bengal')"
      ],
      "metadata": {
        "id": "1shPkTXONo9I"
      },
      "execution_count": null,
      "outputs": []
    },
    {
      "cell_type": "code",
      "source": [
        "%%capture\n",
        "selCond = {\"$and\":\n",
        "                    [\n",
        "                        {'exaltG.Ju': {'$eq': True}},               # Exalted Jupiter\n",
        "                        {'GAspectedBy2.La' : {'$in': ['Sa']}} ,     # La aspected by Sa       \n",
        "                        {'GConjunctsG2.Su' : {'$in': ['Me']}},      # Su conjunct Me \n",
        "                        {'GrahaBhava.Mo' : {'$eq': 1}} ,            # Mo in First House\n",
        "                        {'LordBhav.4' : {'$eq': 5}}                 # 4th Lord in 5th House\n",
        "\n",
        "                    ]\n",
        "}\n",
        "\n",
        "df = pd.DataFrame(list(kollection.find(selCond,p21.selCols)))\n",
        "genSampleReport('Bengal',Sample = False)"
      ],
      "metadata": {
        "id": "lcRK2tdKSWaO"
      },
      "execution_count": null,
      "outputs": []
    },
    {
      "cell_type": "code",
      "source": [
        "!rm *.doc"
      ],
      "metadata": {
        "id": "2fDl6jtskRSZ"
      },
      "execution_count": null,
      "outputs": []
    },
    {
      "cell_type": "code",
      "source": [
        "#df = pd.DataFrame(list(kollection.find({'pid.tags': {\"$in\": ['PostGraduate']}},{'pid.name':1,\"_id\":0,'GLon':1,'GRet':1})))\n",
        "#df"
      ],
      "metadata": {
        "id": "gGtojxPZxmku"
      },
      "execution_count": null,
      "outputs": []
    }
  ]
}